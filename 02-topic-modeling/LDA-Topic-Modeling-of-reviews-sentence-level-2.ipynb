{
 "cells": [
  {
   "cell_type": "code",
   "execution_count": 36,
   "metadata": {},
   "outputs": [],
   "source": [
    "# Import the libraries\n",
    "\n",
    "import pandas as pd \n",
    "import numpy as np\n",
    "\n",
    "from pprint import pprint\n",
    "\n",
    "# libraries for visualization\n",
    "import pyLDAvis\n",
    "import pyLDAvis.gensim\n",
    "import matplotlib.pyplot as plt\n",
    "import seaborn as sns\n",
    "%matplotlib inline\n",
    "\n",
    "import re\n",
    "\n",
    "import spacy\n",
    "\n",
    "import gensim\n",
    "from gensim import corpora\n",
    "from gensim.utils import simple_preprocess\n",
    "from gensim.models import CoherenceModel\n",
    "\n",
    "import nltk\n",
    "from nltk import FreqDist\n",
    "from nltk.corpus import stopwords\n",
    "from nltk.tokenize import RegexpTokenizer\n",
    "from nltk.stem import WordNetLemmatizer, SnowballStemmer\n",
    "from nltk.tag import pos_tag, pos_tag_sents\n",
    "from nltk.corpus import wordnet\n",
    "\n",
    "import warnings\n",
    "warnings.filterwarnings(\"ignore\")\n"
   ]
  },
  {
   "cell_type": "markdown",
   "metadata": {},
   "source": [
    "Code references:\n",
    "\n",
    "https://www.analyticsvidhya.com/blog/2018/10/mining-online-reviews-topic-modeling-lda/\n"
   ]
  },
  {
   "cell_type": "code",
   "execution_count": 37,
   "metadata": {},
   "outputs": [],
   "source": [
    "df = pd.read_csv('sentiment-sentence-level.csv')"
   ]
  },
  {
   "cell_type": "code",
   "execution_count": 38,
   "metadata": {},
   "outputs": [
    {
     "data": {
      "text/html": [
       "<div>\n",
       "<style scoped>\n",
       "    .dataframe tbody tr th:only-of-type {\n",
       "        vertical-align: middle;\n",
       "    }\n",
       "\n",
       "    .dataframe tbody tr th {\n",
       "        vertical-align: top;\n",
       "    }\n",
       "\n",
       "    .dataframe thead th {\n",
       "        text-align: right;\n",
       "    }\n",
       "</style>\n",
       "<table border=\"1\" class=\"dataframe\">\n",
       "  <thead>\n",
       "    <tr style=\"text-align: right;\">\n",
       "      <th></th>\n",
       "      <th>Unnamed: 0</th>\n",
       "      <th>review_index</th>\n",
       "      <th>date</th>\n",
       "      <th>review</th>\n",
       "      <th>rating</th>\n",
       "      <th>status</th>\n",
       "      <th>length</th>\n",
       "      <th>label</th>\n",
       "      <th>language</th>\n",
       "      <th>scores</th>\n",
       "      <th>compound</th>\n",
       "      <th>sentiment</th>\n",
       "    </tr>\n",
       "  </thead>\n",
       "  <tbody>\n",
       "    <tr>\n",
       "      <th>0</th>\n",
       "      <td>0</td>\n",
       "      <td>0</td>\n",
       "      <td>2021-03-11</td>\n",
       "      <td>Nice Course for beginners where we can enjoy a...</td>\n",
       "      <td>5</td>\n",
       "      <td>completer</td>\n",
       "      <td>128</td>\n",
       "      <td>pos</td>\n",
       "      <td>en</td>\n",
       "      <td>{'neg': 0.0, 'neu': 0.658, 'pos': 0.342, 'comp...</td>\n",
       "      <td>0.8555</td>\n",
       "      <td>pos</td>\n",
       "    </tr>\n",
       "    <tr>\n",
       "      <th>1</th>\n",
       "      <td>1</td>\n",
       "      <td>0</td>\n",
       "      <td>2021-03-11</td>\n",
       "      <td>Thanks</td>\n",
       "      <td>5</td>\n",
       "      <td>completer</td>\n",
       "      <td>6</td>\n",
       "      <td>pos</td>\n",
       "      <td>en</td>\n",
       "      <td>{'neg': 0.0, 'neu': 0.0, 'pos': 1.0, 'compound...</td>\n",
       "      <td>0.4404</td>\n",
       "      <td>pos</td>\n",
       "    </tr>\n",
       "    <tr>\n",
       "      <th>2</th>\n",
       "      <td>2</td>\n",
       "      <td>1</td>\n",
       "      <td>2021-03-11</td>\n",
       "      <td>Super easy and totally for the beginners like ...</td>\n",
       "      <td>5</td>\n",
       "      <td>completer</td>\n",
       "      <td>63</td>\n",
       "      <td>pos</td>\n",
       "      <td>en</td>\n",
       "      <td>{'neg': 0.0, 'neu': 0.462, 'pos': 0.538, 'comp...</td>\n",
       "      <td>0.8519</td>\n",
       "      <td>pos</td>\n",
       "    </tr>\n",
       "    <tr>\n",
       "      <th>3</th>\n",
       "      <td>3</td>\n",
       "      <td>1</td>\n",
       "      <td>2021-03-11</td>\n",
       "      <td>Professor's explanations are clear like crystal.</td>\n",
       "      <td>5</td>\n",
       "      <td>completer</td>\n",
       "      <td>48</td>\n",
       "      <td>pos</td>\n",
       "      <td>en</td>\n",
       "      <td>{'neg': 0.0, 'neu': 0.44, 'pos': 0.56, 'compou...</td>\n",
       "      <td>0.6249</td>\n",
       "      <td>pos</td>\n",
       "    </tr>\n",
       "    <tr>\n",
       "      <th>4</th>\n",
       "      <td>4</td>\n",
       "      <td>1</td>\n",
       "      <td>2021-03-11</td>\n",
       "      <td>There are some cute moments that make you smil...</td>\n",
       "      <td>5</td>\n",
       "      <td>completer</td>\n",
       "      <td>50</td>\n",
       "      <td>pos</td>\n",
       "      <td>en</td>\n",
       "      <td>{'neg': 0.0, 'neu': 0.452, 'pos': 0.548, 'comp...</td>\n",
       "      <td>0.8176</td>\n",
       "      <td>pos</td>\n",
       "    </tr>\n",
       "  </tbody>\n",
       "</table>\n",
       "</div>"
      ],
      "text/plain": [
       "   Unnamed: 0  review_index        date  \\\n",
       "0           0             0  2021-03-11   \n",
       "1           1             0  2021-03-11   \n",
       "2           2             1  2021-03-11   \n",
       "3           3             1  2021-03-11   \n",
       "4           4             1  2021-03-11   \n",
       "\n",
       "                                              review  rating     status  \\\n",
       "0  Nice Course for beginners where we can enjoy a...       5  completer   \n",
       "1                                             Thanks       5  completer   \n",
       "2  Super easy and totally for the beginners like ...       5  completer   \n",
       "3   Professor's explanations are clear like crystal.       5  completer   \n",
       "4  There are some cute moments that make you smil...       5  completer   \n",
       "\n",
       "   length label language                                             scores  \\\n",
       "0     128   pos       en  {'neg': 0.0, 'neu': 0.658, 'pos': 0.342, 'comp...   \n",
       "1       6   pos       en  {'neg': 0.0, 'neu': 0.0, 'pos': 1.0, 'compound...   \n",
       "2      63   pos       en  {'neg': 0.0, 'neu': 0.462, 'pos': 0.538, 'comp...   \n",
       "3      48   pos       en  {'neg': 0.0, 'neu': 0.44, 'pos': 0.56, 'compou...   \n",
       "4      50   pos       en  {'neg': 0.0, 'neu': 0.452, 'pos': 0.548, 'comp...   \n",
       "\n",
       "   compound sentiment  \n",
       "0    0.8555       pos  \n",
       "1    0.4404       pos  \n",
       "2    0.8519       pos  \n",
       "3    0.6249       pos  \n",
       "4    0.8176       pos  "
      ]
     },
     "execution_count": 38,
     "metadata": {},
     "output_type": "execute_result"
    }
   ],
   "source": [
    "df.head()"
   ]
  },
  {
   "cell_type": "code",
   "execution_count": 39,
   "metadata": {},
   "outputs": [],
   "source": [
    "df.drop(['Unnamed: 0', 'date', 'language', 'scores'], axis = 1, inplace = True)"
   ]
  },
  {
   "cell_type": "code",
   "execution_count": 40,
   "metadata": {},
   "outputs": [
    {
     "data": {
      "text/html": [
       "<div>\n",
       "<style scoped>\n",
       "    .dataframe tbody tr th:only-of-type {\n",
       "        vertical-align: middle;\n",
       "    }\n",
       "\n",
       "    .dataframe tbody tr th {\n",
       "        vertical-align: top;\n",
       "    }\n",
       "\n",
       "    .dataframe thead th {\n",
       "        text-align: right;\n",
       "    }\n",
       "</style>\n",
       "<table border=\"1\" class=\"dataframe\">\n",
       "  <thead>\n",
       "    <tr style=\"text-align: right;\">\n",
       "      <th></th>\n",
       "      <th>review_index</th>\n",
       "      <th>review</th>\n",
       "      <th>rating</th>\n",
       "      <th>status</th>\n",
       "      <th>length</th>\n",
       "      <th>label</th>\n",
       "      <th>compound</th>\n",
       "      <th>sentiment</th>\n",
       "    </tr>\n",
       "  </thead>\n",
       "  <tbody>\n",
       "    <tr>\n",
       "      <th>0</th>\n",
       "      <td>0</td>\n",
       "      <td>Nice Course for beginners where we can enjoy a...</td>\n",
       "      <td>5</td>\n",
       "      <td>completer</td>\n",
       "      <td>128</td>\n",
       "      <td>pos</td>\n",
       "      <td>0.8555</td>\n",
       "      <td>pos</td>\n",
       "    </tr>\n",
       "    <tr>\n",
       "      <th>1</th>\n",
       "      <td>0</td>\n",
       "      <td>Thanks</td>\n",
       "      <td>5</td>\n",
       "      <td>completer</td>\n",
       "      <td>6</td>\n",
       "      <td>pos</td>\n",
       "      <td>0.4404</td>\n",
       "      <td>pos</td>\n",
       "    </tr>\n",
       "    <tr>\n",
       "      <th>2</th>\n",
       "      <td>1</td>\n",
       "      <td>Super easy and totally for the beginners like ...</td>\n",
       "      <td>5</td>\n",
       "      <td>completer</td>\n",
       "      <td>63</td>\n",
       "      <td>pos</td>\n",
       "      <td>0.8519</td>\n",
       "      <td>pos</td>\n",
       "    </tr>\n",
       "    <tr>\n",
       "      <th>3</th>\n",
       "      <td>1</td>\n",
       "      <td>Professor's explanations are clear like crystal.</td>\n",
       "      <td>5</td>\n",
       "      <td>completer</td>\n",
       "      <td>48</td>\n",
       "      <td>pos</td>\n",
       "      <td>0.6249</td>\n",
       "      <td>pos</td>\n",
       "    </tr>\n",
       "    <tr>\n",
       "      <th>4</th>\n",
       "      <td>1</td>\n",
       "      <td>There are some cute moments that make you smil...</td>\n",
       "      <td>5</td>\n",
       "      <td>completer</td>\n",
       "      <td>50</td>\n",
       "      <td>pos</td>\n",
       "      <td>0.8176</td>\n",
       "      <td>pos</td>\n",
       "    </tr>\n",
       "    <tr>\n",
       "      <th>...</th>\n",
       "      <td>...</td>\n",
       "      <td>...</td>\n",
       "      <td>...</td>\n",
       "      <td>...</td>\n",
       "      <td>...</td>\n",
       "      <td>...</td>\n",
       "      <td>...</td>\n",
       "      <td>...</td>\n",
       "    </tr>\n",
       "    <tr>\n",
       "      <th>14469</th>\n",
       "      <td>9687</td>\n",
       "      <td>My friend recommanded the lecture.</td>\n",
       "      <td>5</td>\n",
       "      <td>dropout</td>\n",
       "      <td>34</td>\n",
       "      <td>pos</td>\n",
       "      <td>0.4939</td>\n",
       "      <td>pos</td>\n",
       "    </tr>\n",
       "    <tr>\n",
       "      <th>14470</th>\n",
       "      <td>9687</td>\n",
       "      <td>It really deserves five star rate!</td>\n",
       "      <td>5</td>\n",
       "      <td>dropout</td>\n",
       "      <td>34</td>\n",
       "      <td>pos</td>\n",
       "      <td>0.0000</td>\n",
       "      <td>neu</td>\n",
       "    </tr>\n",
       "    <tr>\n",
       "      <th>14471</th>\n",
       "      <td>9688</td>\n",
       "      <td>Highly recommend this sets  a good foundation ...</td>\n",
       "      <td>5</td>\n",
       "      <td>dropout</td>\n",
       "      <td>56</td>\n",
       "      <td>pos</td>\n",
       "      <td>0.6901</td>\n",
       "      <td>pos</td>\n",
       "    </tr>\n",
       "    <tr>\n",
       "      <th>14472</th>\n",
       "      <td>9689</td>\n",
       "      <td>best python programming course for absolute be...</td>\n",
       "      <td>5</td>\n",
       "      <td>dropout</td>\n",
       "      <td>53</td>\n",
       "      <td>pos</td>\n",
       "      <td>0.6369</td>\n",
       "      <td>pos</td>\n",
       "    </tr>\n",
       "    <tr>\n",
       "      <th>14473</th>\n",
       "      <td>9690</td>\n",
       "      <td>best one</td>\n",
       "      <td>4</td>\n",
       "      <td>completer</td>\n",
       "      <td>8</td>\n",
       "      <td>pos</td>\n",
       "      <td>0.6369</td>\n",
       "      <td>pos</td>\n",
       "    </tr>\n",
       "  </tbody>\n",
       "</table>\n",
       "<p>14474 rows × 8 columns</p>\n",
       "</div>"
      ],
      "text/plain": [
       "       review_index                                             review  \\\n",
       "0                 0  Nice Course for beginners where we can enjoy a...   \n",
       "1                 0                                             Thanks   \n",
       "2                 1  Super easy and totally for the beginners like ...   \n",
       "3                 1   Professor's explanations are clear like crystal.   \n",
       "4                 1  There are some cute moments that make you smil...   \n",
       "...             ...                                                ...   \n",
       "14469          9687                 My friend recommanded the lecture.   \n",
       "14470          9687                 It really deserves five star rate!   \n",
       "14471          9688  Highly recommend this sets  a good foundation ...   \n",
       "14472          9689  best python programming course for absolute be...   \n",
       "14473          9690                                           best one   \n",
       "\n",
       "       rating     status  length label  compound sentiment  \n",
       "0           5  completer     128   pos    0.8555       pos  \n",
       "1           5  completer       6   pos    0.4404       pos  \n",
       "2           5  completer      63   pos    0.8519       pos  \n",
       "3           5  completer      48   pos    0.6249       pos  \n",
       "4           5  completer      50   pos    0.8176       pos  \n",
       "...       ...        ...     ...   ...       ...       ...  \n",
       "14469       5    dropout      34   pos    0.4939       pos  \n",
       "14470       5    dropout      34   pos    0.0000       neu  \n",
       "14471       5    dropout      56   pos    0.6901       pos  \n",
       "14472       5    dropout      53   pos    0.6369       pos  \n",
       "14473       4  completer       8   pos    0.6369       pos  \n",
       "\n",
       "[14474 rows x 8 columns]"
      ]
     },
     "execution_count": 40,
     "metadata": {},
     "output_type": "execute_result"
    }
   ],
   "source": [
    "df"
   ]
  },
  {
   "cell_type": "code",
   "execution_count": 41,
   "metadata": {},
   "outputs": [
    {
     "data": {
      "text/plain": [
       "526"
      ]
     },
     "execution_count": 41,
     "metadata": {},
     "output_type": "execute_result"
    }
   ],
   "source": [
    "# Check for null values\n",
    "\n",
    "len(df[df['review'].isna()==True])"
   ]
  },
  {
   "cell_type": "code",
   "execution_count": 42,
   "metadata": {},
   "outputs": [],
   "source": [
    "# Drop null values\n",
    "\n",
    "df.dropna(inplace = True)"
   ]
  },
  {
   "cell_type": "code",
   "execution_count": 43,
   "metadata": {},
   "outputs": [
    {
     "data": {
      "text/plain": [
       "0"
      ]
     },
     "execution_count": 43,
     "metadata": {},
     "output_type": "execute_result"
    }
   ],
   "source": [
    "# Check for null values\n",
    "\n",
    "len(df[df['review'].isna()==True])"
   ]
  },
  {
   "cell_type": "code",
   "execution_count": 44,
   "metadata": {},
   "outputs": [],
   "source": [
    "# Reset the index\n",
    "\n",
    "df = df.reset_index(drop = True)"
   ]
  },
  {
   "cell_type": "code",
   "execution_count": 45,
   "metadata": {},
   "outputs": [
    {
     "data": {
      "text/html": [
       "<div>\n",
       "<style scoped>\n",
       "    .dataframe tbody tr th:only-of-type {\n",
       "        vertical-align: middle;\n",
       "    }\n",
       "\n",
       "    .dataframe tbody tr th {\n",
       "        vertical-align: top;\n",
       "    }\n",
       "\n",
       "    .dataframe thead th {\n",
       "        text-align: right;\n",
       "    }\n",
       "</style>\n",
       "<table border=\"1\" class=\"dataframe\">\n",
       "  <thead>\n",
       "    <tr style=\"text-align: right;\">\n",
       "      <th></th>\n",
       "      <th>review_index</th>\n",
       "      <th>review</th>\n",
       "      <th>rating</th>\n",
       "      <th>status</th>\n",
       "      <th>length</th>\n",
       "      <th>label</th>\n",
       "      <th>compound</th>\n",
       "      <th>sentiment</th>\n",
       "    </tr>\n",
       "  </thead>\n",
       "  <tbody>\n",
       "    <tr>\n",
       "      <th>0</th>\n",
       "      <td>0</td>\n",
       "      <td>Nice Course for beginners where we can enjoy a...</td>\n",
       "      <td>5</td>\n",
       "      <td>completer</td>\n",
       "      <td>128</td>\n",
       "      <td>pos</td>\n",
       "      <td>0.8555</td>\n",
       "      <td>pos</td>\n",
       "    </tr>\n",
       "    <tr>\n",
       "      <th>1</th>\n",
       "      <td>0</td>\n",
       "      <td>Thanks</td>\n",
       "      <td>5</td>\n",
       "      <td>completer</td>\n",
       "      <td>6</td>\n",
       "      <td>pos</td>\n",
       "      <td>0.4404</td>\n",
       "      <td>pos</td>\n",
       "    </tr>\n",
       "    <tr>\n",
       "      <th>2</th>\n",
       "      <td>1</td>\n",
       "      <td>Super easy and totally for the beginners like ...</td>\n",
       "      <td>5</td>\n",
       "      <td>completer</td>\n",
       "      <td>63</td>\n",
       "      <td>pos</td>\n",
       "      <td>0.8519</td>\n",
       "      <td>pos</td>\n",
       "    </tr>\n",
       "    <tr>\n",
       "      <th>3</th>\n",
       "      <td>1</td>\n",
       "      <td>Professor's explanations are clear like crystal.</td>\n",
       "      <td>5</td>\n",
       "      <td>completer</td>\n",
       "      <td>48</td>\n",
       "      <td>pos</td>\n",
       "      <td>0.6249</td>\n",
       "      <td>pos</td>\n",
       "    </tr>\n",
       "    <tr>\n",
       "      <th>4</th>\n",
       "      <td>1</td>\n",
       "      <td>There are some cute moments that make you smil...</td>\n",
       "      <td>5</td>\n",
       "      <td>completer</td>\n",
       "      <td>50</td>\n",
       "      <td>pos</td>\n",
       "      <td>0.8176</td>\n",
       "      <td>pos</td>\n",
       "    </tr>\n",
       "    <tr>\n",
       "      <th>...</th>\n",
       "      <td>...</td>\n",
       "      <td>...</td>\n",
       "      <td>...</td>\n",
       "      <td>...</td>\n",
       "      <td>...</td>\n",
       "      <td>...</td>\n",
       "      <td>...</td>\n",
       "      <td>...</td>\n",
       "    </tr>\n",
       "    <tr>\n",
       "      <th>13943</th>\n",
       "      <td>9687</td>\n",
       "      <td>My friend recommanded the lecture.</td>\n",
       "      <td>5</td>\n",
       "      <td>dropout</td>\n",
       "      <td>34</td>\n",
       "      <td>pos</td>\n",
       "      <td>0.4939</td>\n",
       "      <td>pos</td>\n",
       "    </tr>\n",
       "    <tr>\n",
       "      <th>13944</th>\n",
       "      <td>9687</td>\n",
       "      <td>It really deserves five star rate!</td>\n",
       "      <td>5</td>\n",
       "      <td>dropout</td>\n",
       "      <td>34</td>\n",
       "      <td>pos</td>\n",
       "      <td>0.0000</td>\n",
       "      <td>neu</td>\n",
       "    </tr>\n",
       "    <tr>\n",
       "      <th>13945</th>\n",
       "      <td>9688</td>\n",
       "      <td>Highly recommend this sets  a good foundation ...</td>\n",
       "      <td>5</td>\n",
       "      <td>dropout</td>\n",
       "      <td>56</td>\n",
       "      <td>pos</td>\n",
       "      <td>0.6901</td>\n",
       "      <td>pos</td>\n",
       "    </tr>\n",
       "    <tr>\n",
       "      <th>13946</th>\n",
       "      <td>9689</td>\n",
       "      <td>best python programming course for absolute be...</td>\n",
       "      <td>5</td>\n",
       "      <td>dropout</td>\n",
       "      <td>53</td>\n",
       "      <td>pos</td>\n",
       "      <td>0.6369</td>\n",
       "      <td>pos</td>\n",
       "    </tr>\n",
       "    <tr>\n",
       "      <th>13947</th>\n",
       "      <td>9690</td>\n",
       "      <td>best one</td>\n",
       "      <td>4</td>\n",
       "      <td>completer</td>\n",
       "      <td>8</td>\n",
       "      <td>pos</td>\n",
       "      <td>0.6369</td>\n",
       "      <td>pos</td>\n",
       "    </tr>\n",
       "  </tbody>\n",
       "</table>\n",
       "<p>13948 rows × 8 columns</p>\n",
       "</div>"
      ],
      "text/plain": [
       "       review_index                                             review  \\\n",
       "0                 0  Nice Course for beginners where we can enjoy a...   \n",
       "1                 0                                             Thanks   \n",
       "2                 1  Super easy and totally for the beginners like ...   \n",
       "3                 1   Professor's explanations are clear like crystal.   \n",
       "4                 1  There are some cute moments that make you smil...   \n",
       "...             ...                                                ...   \n",
       "13943          9687                 My friend recommanded the lecture.   \n",
       "13944          9687                 It really deserves five star rate!   \n",
       "13945          9688  Highly recommend this sets  a good foundation ...   \n",
       "13946          9689  best python programming course for absolute be...   \n",
       "13947          9690                                           best one   \n",
       "\n",
       "       rating     status  length label  compound sentiment  \n",
       "0           5  completer     128   pos    0.8555       pos  \n",
       "1           5  completer       6   pos    0.4404       pos  \n",
       "2           5  completer      63   pos    0.8519       pos  \n",
       "3           5  completer      48   pos    0.6249       pos  \n",
       "4           5  completer      50   pos    0.8176       pos  \n",
       "...       ...        ...     ...   ...       ...       ...  \n",
       "13943       5    dropout      34   pos    0.4939       pos  \n",
       "13944       5    dropout      34   pos    0.0000       neu  \n",
       "13945       5    dropout      56   pos    0.6901       pos  \n",
       "13946       5    dropout      53   pos    0.6369       pos  \n",
       "13947       4  completer       8   pos    0.6369       pos  \n",
       "\n",
       "[13948 rows x 8 columns]"
      ]
     },
     "execution_count": 45,
     "metadata": {},
     "output_type": "execute_result"
    }
   ],
   "source": [
    "df"
   ]
  },
  {
   "cell_type": "code",
   "execution_count": 46,
   "metadata": {},
   "outputs": [],
   "source": [
    "# Define a function to plot the most frequent words\n",
    "\n",
    "def freq_words(x, terms = 30):\n",
    "    all_words = ' '.join([text for text in x])\n",
    "    all_words = all_words.split()\n",
    "\n",
    "    fdist = FreqDist(all_words)\n",
    "    words_df = pd.DataFrame({'word':list(fdist.keys()), 'count':list(fdist.values())})\n",
    "    \n",
    "    # selecting top 20 most frequent words\n",
    "    d = words_df.nlargest(columns=\"count\", n = terms) \n",
    "    plt.figure(figsize=(20,5))\n",
    "    ax = sns.barplot(data=d, x= \"word\", y = \"count\")\n",
    "    ax.set(ylabel = 'Count')\n",
    "    plt.xticks(rotation = 45)\n",
    "    plt.show()"
   ]
  },
  {
   "cell_type": "code",
   "execution_count": 47,
   "metadata": {},
   "outputs": [
    {
     "data": {
      "image/png": "[encoded data removed]",
      "text/plain": [
       "<Figure size 1440x360 with 1 Axes>"
      ]
     },
     "metadata": {
      "needs_background": "light"
     },
     "output_type": "display_data"
    }
   ],
   "source": [
    "# The most frquent words are stop words such as 'to' and 'the' we will remove these in the preprocessing steps\n",
    "\n",
    "freq_words(df['review'])"
   ]
  },
  {
   "cell_type": "markdown",
   "metadata": {},
   "source": [
    "## Preprocessing"
   ]
  },
  {
   "cell_type": "code",
   "execution_count": 48,
   "metadata": {},
   "outputs": [
    {
     "data": {
      "text/plain": [
       "0    nice course for beginners where we can enjoy a...\n",
       "1                                               thanks\n",
       "2    super easy and totally for the beginners like ...\n",
       "3     professor's explanations are clear like crystal.\n",
       "4    there are some cute moments that make you smil...\n",
       "Name: preprocessed, dtype: object"
      ]
     },
     "execution_count": 48,
     "metadata": {},
     "output_type": "execute_result"
    }
   ],
   "source": [
    "# Covert to lowercase\n",
    "\n",
    "df['preprocessed'] =  df['review'].apply(lambda x: \" \".join(x.lower() for x in x.split()))\n",
    "df['preprocessed'].head()"
   ]
  },
  {
   "cell_type": "code",
   "execution_count": 49,
   "metadata": {},
   "outputs": [
    {
     "data": {
      "text/plain": [
       "0    nice course for beginners where we can enjoy a...\n",
       "1                                               thanks\n",
       "2    super easy and totally for the beginners like ...\n",
       "3       professors explanations are clear like crystal\n",
       "4     there are some cute moments that make you smile \n",
       "Name: preprocessed, dtype: object"
      ]
     },
     "execution_count": 49,
     "metadata": {},
     "output_type": "execute_result"
    }
   ],
   "source": [
    "# Remove punctuations\n",
    "\n",
    "df['preprocessed'] = df['preprocessed'].str.replace('[^\\w\\s]','')\n",
    "df['preprocessed'].head()"
   ]
  },
  {
   "cell_type": "code",
   "execution_count": 50,
   "metadata": {},
   "outputs": [
    {
     "data": {
      "text/plain": [
       "0    course beginners enjoy learn well dr chuck mad...\n",
       "1                                               thanks\n",
       "2            super easy totally beginners course title\n",
       "3                professors explanations clear crystal\n",
       "4                              cute moments make smile\n",
       "Name: preprocessed, dtype: object"
      ]
     },
     "execution_count": 50,
     "metadata": {},
     "output_type": "execute_result"
    }
   ],
   "source": [
    "# Remove stopwords\n",
    "\n",
    "stop = stopwords.words('english')\n",
    "stop.extend(['good', 'great', 'really', 'like', 'nice'])\n",
    "\n",
    "df['preprocessed'] = df['preprocessed'].apply(lambda x: \" \".join(x for x in x.split() if x not in stop))\n",
    "df['preprocessed'].head()"
   ]
  },
  {
   "cell_type": "code",
   "execution_count": 51,
   "metadata": {},
   "outputs": [],
   "source": [
    "# Remove short words (length < 3)\n",
    "\n",
    "# df['review'] = df['review'].apply(lambda x: ' '.join([w for w in x.split() if len(w)>2]))\n",
    "# df['review'].head()"
   ]
  },
  {
   "cell_type": "code",
   "execution_count": 52,
   "metadata": {},
   "outputs": [
    {
     "data": {
      "image/png": "[encoded data removed]",
      "text/plain": [
       "<Figure size 1440x360 with 1 Axes>"
      ]
     },
     "metadata": {
      "needs_background": "light"
     },
     "output_type": "display_data"
    }
   ],
   "source": [
    "# Look at the most frequent words again \n",
    "\n",
    "freq_words(df['preprocessed'])"
   ]
  },
  {
   "cell_type": "code",
   "execution_count": 53,
   "metadata": {},
   "outputs": [
    {
     "data": {
      "text/plain": [
       "0    [course, beginners, enjoy, learn, well, dr, ch...\n",
       "1                                             [thanks]\n",
       "2     [super, easy, totally, beginners, course, title]\n",
       "3           [professors, explanations, clear, crystal]\n",
       "4                         [cute, moments, make, smile]\n",
       "Name: preprocessed, dtype: object"
      ]
     },
     "execution_count": 53,
     "metadata": {},
     "output_type": "execute_result"
    }
   ],
   "source": [
    "# Tokenization\n",
    "\n",
    "tokenizer = RegexpTokenizer(r'\\w+')\n",
    "\n",
    "df['preprocessed'] = df['preprocessed'].apply(lambda x: tokenizer.tokenize(x.lower()))\n",
    "df['preprocessed'].head(5)\n"
   ]
  },
  {
   "cell_type": "code",
   "execution_count": 54,
   "metadata": {},
   "outputs": [
    {
     "data": {
      "text/plain": [
       "0    [(course, NN), (beginners, NNS), (enjoy, VBP),...\n",
       "1                                      [(thanks, NNS)]\n",
       "2    [(super, JJ), (easy, JJ), (totally, RB), (begi...\n",
       "3    [(professors, NNS), (explanations, NNS), (clea...\n",
       "4    [(cute, JJ), (moments, NNS), (make, VBP), (smi...\n",
       "Name: preprocessed, dtype: object"
      ]
     },
     "execution_count": 54,
     "metadata": {},
     "output_type": "execute_result"
    }
   ],
   "source": [
    "# Add speech tags\n",
    "\n",
    "df['preprocessed'] = df['preprocessed'].apply(nltk.tag.pos_tag)\n",
    "df['preprocessed'].head()"
   ]
  },
  {
   "cell_type": "code",
   "execution_count": 55,
   "metadata": {},
   "outputs": [],
   "source": [
    "# Define function to convert parts of speech tags to wordnet’s format\n",
    "\n",
    "def get_wordnet_pos(tag):\n",
    "    if tag.startswith('J'):\n",
    "        return wordnet.ADJ\n",
    "    elif tag.startswith('V'):\n",
    "        return wordnet.VERB\n",
    "    elif tag.startswith('N'):\n",
    "        return wordnet.NOUN\n",
    "    elif tag.startswith('R'):\n",
    "        return wordnet.ADV\n",
    "    else:\n",
    "        return wordnet.NOUN"
   ]
  },
  {
   "cell_type": "code",
   "execution_count": 56,
   "metadata": {},
   "outputs": [
    {
     "data": {
      "text/plain": [
       "0    [(course, n), (beginners, n), (enjoy, v), (lea...\n",
       "1                                        [(thanks, n)]\n",
       "2    [(super, a), (easy, a), (totally, r), (beginne...\n",
       "3    [(professors, n), (explanations, n), (clear, a...\n",
       "4     [(cute, a), (moments, n), (make, v), (smile, n)]\n",
       "Name: preprocessed, dtype: object"
      ]
     },
     "execution_count": 56,
     "metadata": {},
     "output_type": "execute_result"
    }
   ],
   "source": [
    "# Apply the function to the tagged data\n",
    "\n",
    "df['preprocessed'] = df['preprocessed'].apply(lambda x: [(word, get_wordnet_pos(pos_tag)) for (word, pos_tag) in x])\n",
    "df['preprocessed'].head()"
   ]
  },
  {
   "cell_type": "code",
   "execution_count": 57,
   "metadata": {},
   "outputs": [
    {
     "data": {
      "text/plain": [
       "0    [course, beginner, enjoy, learn, well, dr, chu...\n",
       "1                                             [thanks]\n",
       "2      [super, easy, totally, beginner, course, title]\n",
       "3             [professor, explanation, clear, crystal]\n",
       "4                          [cute, moment, make, smile]\n",
       "Name: preprocessed, dtype: object"
      ]
     },
     "execution_count": 57,
     "metadata": {},
     "output_type": "execute_result"
    }
   ],
   "source": [
    "# Create lemmatizer\n",
    "\n",
    "lemmatizer = WordNetLemmatizer()\n",
    "\n",
    "# Apply to data \n",
    "\n",
    "df['preprocessed'] = df['preprocessed'].apply(lambda x: [lemmatizer.lemmatize(word, tag) for word, tag in x])\n",
    "df['preprocessed'].head()"
   ]
  },
  {
   "cell_type": "code",
   "execution_count": 58,
   "metadata": {},
   "outputs": [],
   "source": [
    "# Join reviews\n",
    "\n",
    "df['joined'] = df['preprocessed'].apply(lambda x: ' '.join(x))"
   ]
  },
  {
   "cell_type": "code",
   "execution_count": 59,
   "metadata": {},
   "outputs": [
    {
     "data": {
      "image/png": "[encoded data removed]",
      "text/plain": [
       "<Figure size 1440x360 with 1 Axes>"
      ]
     },
     "metadata": {
      "needs_background": "light"
     },
     "output_type": "display_data"
    }
   ],
   "source": [
    "# Most frequent words after lemmatizing \n",
    "\n",
    "freq_words(df['joined'], 35)"
   ]
  },
  {
   "cell_type": "markdown",
   "metadata": {},
   "source": [
    "## LDA Topic Modeling on a sentence-level"
   ]
  },
  {
   "cell_type": "code",
   "execution_count": 61,
   "metadata": {},
   "outputs": [],
   "source": [
    "# Create a dictionary from 'df_sen['review']' containing the number of times a word appears in the training set\n",
    "\n",
    "dictionary = gensim.corpora.Dictionary(df['preprocessed'])"
   ]
  },
  {
   "cell_type": "code",
   "execution_count": 62,
   "metadata": {},
   "outputs": [],
   "source": [
    "# Gensim filter extremes\n",
    "\n",
    "# Filter out tokens that appear in:\n",
    "# Less than 50 documents, more than 0.5 documents, and keep only 100000 most frquent tokens\n",
    "\n",
    "dictionary.filter_extremes(no_below = 50, no_above = 0.5, keep_n = 100000)"
   ]
  },
  {
   "cell_type": "code",
   "execution_count": 64,
   "metadata": {},
   "outputs": [],
   "source": [
    "# Gensim doc2bow\n",
    "# Create a dictionary reporting how many words and how many times those words appear\n",
    "\n",
    "corpus = [dictionary.doc2bow(doc) for doc in df['preprocessed']]\n"
   ]
  },
  {
   "cell_type": "code",
   "execution_count": 85,
   "metadata": {
    "scrolled": true
   },
   "outputs": [
    {
     "name": "stdout",
     "output_type": "stream",
     "text": [
      "[(0, 1), (1, 1), (2, 1), (3, 1), (4, 1), (5, 1), (6, 1), (7, 1), (8, 1), (9, 1)]\n"
     ]
    }
   ],
   "source": [
    "# Review\n",
    "\n",
    "print(corpus[0])"
   ]
  },
  {
   "cell_type": "code",
   "execution_count": 77,
   "metadata": {},
   "outputs": [],
   "source": [
    "# Creating the object for LDA model using gensim library\n",
    "LDA = gensim.models.ldamodel.LdaModel\n",
    "\n",
    "# Build LDA model\n",
    "lda_model = LDA(corpus = corpus, id2word = dictionary, num_topics = 5, random_state = 100,\n",
    "                chunksize = 1000, passes = 50)"
   ]
  },
  {
   "cell_type": "code",
   "execution_count": 78,
   "metadata": {},
   "outputs": [
    {
     "name": "stdout",
     "output_type": "stream",
     "text": [
      "Topic: 0\n",
      "Word: 0.282*\"course\" + 0.084*\"instructor\" + 0.056*\"love\" + 0.055*\"awesome\" + 0.028*\"first\" + 0.027*\"content\" + 0.026*\"take\" + 0.026*\"lecture\" + 0.025*\"wonderful\" + 0.024*\"well\"\n",
      "\n",
      "Topic: 1\n",
      "Word: 0.111*\"python\" + 0.099*\"learn\" + 0.078*\"course\" + 0.057*\"program\" + 0.054*\"basic\" + 0.043*\"start\" + 0.031*\"programming\" + 0.029*\"get\" + 0.026*\"language\" + 0.026*\"lot\"\n",
      "\n",
      "Topic: 2\n",
      "Word: 0.084*\"easy\" + 0.060*\"understand\" + 0.059*\"teach\" + 0.058*\"dr\" + 0.048*\"make\" + 0.047*\"chuck\" + 0.047*\"explain\" + 0.046*\"way\" + 0.041*\"teacher\" + 0.038*\"charles\"\n",
      "\n",
      "Topic: 3\n",
      "Word: 0.162*\"course\" + 0.128*\"beginner\" + 0.083*\"best\" + 0.065*\"experience\" + 0.053*\"python\" + 0.042*\"amaze\" + 0.040*\"one\" + 0.036*\"useful\" + 0.034*\"learn\" + 0.025*\"complete\"\n",
      "\n",
      "Topic: 4\n",
      "Word: 0.145*\"course\" + 0.128*\"excellent\" + 0.114*\"thank\" + 0.060*\"helpful\" + 0.059*\"much\" + 0.046*\"recommend\" + 0.044*\"enjoy\" + 0.043*\"want\" + 0.039*\"coursera\" + 0.030*\"python\"\n",
      "\n"
     ]
    }
   ],
   "source": [
    "# Explore the words occurring in each topic and its relative weight\n",
    "\n",
    "for id, topic in lda_model.print_topics(-1):\n",
    "    print('Topic: {}\\nWord: {}\\n'.format(id, topic))"
   ]
  },
  {
   "cell_type": "code",
   "execution_count": 79,
   "metadata": {
    "scrolled": false
   },
   "outputs": [
    {
     "data": {
      "text/html": [
       "\n",
       "<link rel=\"stylesheet\" type=\"text/css\" href=\"https://cdn.jsdelivr.net/gh/bmabey/pyLDAvis@3.2.2/pyLDAvis/js/ldavis.v1.0.0.css\">\n",
       "\n",
       "\n",
       "<div id=\"ldavis_el241481403790094725927199125282\"></div>\n",
       "<script type=\"text/javascript\">\n",
       "\n",
       "var ldavis_el241481403790094725927199125282_data = {\"mdsDat\": {\"x\": [0.02434085701828045, -0.44964235501781685, 0.16681814157486055, 0.12447109097024886, 0.1340122654544271], \"y\": [0.25730867832632864, -0.0377181241485752, 0.15044479435347177, -0.1330626995252342, -0.23697264900599077], \"topics\": [1, 2, 3, 4, 5], \"cluster\": [1, 1, 1, 1, 1], \"Freq\": [29.611077283445464, 20.581750307647766, 18.369748280108663, 16.51375449839803, 14.923669630400074]}, \"tinfo\": {\"Term\": [\"course\", \"beginner\", \"excellent\", \"thank\", \"learn\", \"easy\", \"best\", \"instructor\", \"python\", \"experience\", \"basic\", \"understand\", \"teach\", \"dr\", \"helpful\", \"much\", \"love\", \"awesome\", \"program\", \"make\", \"start\", \"chuck\", \"explain\", \"teacher\", \"way\", \"recommend\", \"amaze\", \"enjoy\", \"one\", \"charles\", \"basic\", \"start\", \"programming\", \"get\", \"language\", \"knowledge\", \"help\", \"assignment\", \"know\", \"clear\", \"think\", \"work\", \"cod\", \"skill\", \"informative\", \"people\", \"code\", \"use\", \"platform\", \"exercise\", \"computer\", \"need\", \"background\", \"many\", \"example\", \"taught\", \"quiz\", \"happy\", \"bit\", \"able\", \"learn\", \"program\", \"python\", \"lot\", \"new\", \"course\", \"even\", \"video\", \"give\", \"also\", \"fun\", \"easy\", \"understand\", \"teach\", \"dr\", \"make\", \"chuck\", \"explain\", \"teacher\", \"charles\", \"thanks\", \"professor\", \"severance\", \"sir\", \"interest\", \"simple\", \"every\", \"everything\", \"perfect\", \"teaching\", \"follow\", \"topic\", \"learnt\", \"detail\", \"cover\", \"mr\", \"problem\", \"quite\", \"point\", \"information\", \"lecturer\", \"way\", \"explanation\", \"concept\", \"well\", \"fun\", \"thing\", \"lot\", \"beginner\", \"best\", \"experience\", \"amaze\", \"one\", \"useful\", \"complete\", \"online\", \"ever\", \"look\", \"im\", \"learning\", \"university\", \"forward\", \"friendly\", \"michigan\", \"prior\", \"keep\", \"see\", \"russell\", \"introductory\", \"prof\", \"programmer\", \"must\", \"level\", \"interactive\", \"zero\", \"though\", \"class\", \"especially\", \"course\", \"python\", \"take\", \"learn\", \"program\", \"coursera\", \"instructor\", \"love\", \"awesome\", \"first\", \"content\", \"lecture\", \"wonderful\", \"time\", \"interesting\", \"material\", \"provide\", \"everyone\", \"understandable\", \"begin\", \"step\", \"feel\", \"never\", \"continue\", \"structure\", \"overall\", \"part\", \"super\", \"definitely\", \"lesson\", \"opportunity\", \"pace\", \"pretty\", \"clearly\", \"specialization\", \"challenge\", \"course\", \"take\", \"well\", \"go\", \"also\", \"say\", \"excellent\", \"thank\", \"helpful\", \"much\", \"recommend\", \"enjoy\", \"want\", \"amazing\", \"introduction\", \"highly\", \"anyone\", \"everybody\", \"world\", \"person\", \"do\", \"fantastic\", \"engage\", \"absolutely\", \"recommended\", \"journey\", \"learner\", \"wish\", \"like\", \"finish\", \"coursera\", \"u\", \"student\", \"drchuck\", \"would\", \"give\", \"course\", \"python\"], \"Freq\": [5703.0, 1105.0, 903.0, 805.0, 1673.0, 810.0, 721.0, 652.0, 2227.0, 559.0, 758.0, 580.0, 569.0, 560.0, 420.0, 412.0, 435.0, 430.0, 961.0, 462.0, 601.0, 456.0, 451.0, 397.0, 541.0, 320.0, 360.0, 310.0, 348.0, 372.0, 757.55129674624, 600.462977289081, 432.93069271252, 402.29549791241504, 364.05709608994084, 320.7990851480548, 311.32565049454035, 255.2933159661611, 232.2638987517546, 222.414616581152, 184.48187810729004, 170.20360619879173, 155.21232753248748, 126.07179846458723, 125.99427910277261, 124.070757721795, 120.0633273872627, 118.12949778768173, 116.61082714842702, 107.43990106125703, 104.42447448426213, 100.57058337808365, 98.93669827283935, 95.46016067034603, 87.57550942002533, 87.08658957305529, 86.4522511409763, 86.87039610921036, 85.36391617180526, 84.27236799847257, 1378.7136962966424, 790.8890623904629, 1550.9199401033247, 359.61640899063246, 157.03680432942826, 1089.3846937597084, 116.84406033131093, 123.29446057898714, 123.80126401679617, 124.13454144723384, 123.38754612985147, 809.4109847636169, 579.2258032757736, 568.7565648128036, 559.2553313321808, 461.1904492311466, 455.64093420333086, 450.7604103136621, 396.2894654711861, 372.1324748506768, 362.98425385149767, 319.0221440662804, 282.63059990816254, 207.42962876145785, 186.06741052407529, 181.60387811619358, 161.84431127782324, 147.71345265584608, 135.66742510909435, 133.92385748027067, 125.76704027132186, 116.37425525700765, 115.2290852938786, 76.8798920112885, 73.65764244843403, 73.26353541585297, 72.91235026128795, 67.07494777959958, 54.9601540872742, 53.942026205433606, 49.38263358307399, 446.50837858420766, 164.1188775379882, 205.61627078162482, 318.8631440682478, 182.4477872998493, 105.44083967151767, 125.88308680791096, 1104.6573447551707, 720.9896739382259, 558.9539646797346, 359.8867270674569, 348.09311270592167, 314.97238564964186, 216.89976409080657, 182.35503990494163, 167.62040747934992, 164.29481048167304, 133.01782329224665, 125.46623940568533, 109.41823166523679, 99.52041828525495, 95.68292457840431, 91.78192500994956, 86.12429773686206, 80.76453188161925, 72.80419092617618, 73.20410469308692, 70.51508851916759, 70.5256714871001, 65.65296780402959, 64.93760266344114, 64.61218042652108, 58.18046623263515, 52.464455447719075, 43.61856411280031, 189.24013843202744, 50.117348067308725, 1399.7835566838562, 462.64273879890794, 141.05472565801423, 293.85747998616495, 169.74998412849004, 116.1827133523247, 651.9134048401605, 434.4974653704682, 429.6184794248004, 219.26813073956833, 206.97334217241593, 198.96784855902956, 193.20693986280838, 181.6512090479012, 150.1150421990831, 141.2353150013811, 135.58965691549182, 113.20309107072774, 100.68117524851112, 100.61388418352654, 98.87204186151254, 98.22114163102893, 91.58390691259878, 87.68679563830555, 82.82747426467327, 82.47259245380391, 79.30692940848296, 75.71445971481074, 71.5338846482632, 68.79315302148599, 68.8660914967017, 63.962799966231515, 58.89367730251331, 58.56337620668837, 57.29141289644218, 56.12138534086762, 2191.8784194272876, 199.7792800454674, 189.62652521789875, 91.07809444316813, 105.9860048866831, 70.54254694461673, 902.2209833646534, 804.2833278796599, 419.6638634866642, 412.03181742017455, 319.88272468260556, 309.952187098091, 305.3547591302388, 197.06176087940648, 187.8353933031184, 157.77495013740216, 151.18044577509835, 101.38841568104054, 100.21392004224971, 73.32781010419585, 67.73351243337633, 65.41547663162555, 65.54149702150144, 63.11591858589811, 60.66885910460618, 59.918056317633784, 52.99229041387404, 53.00016832401996, 51.61249800702787, 42.66316918035245, 275.5875129359835, 94.54957178503292, 98.25237276083163, 52.690335483334714, 141.5140144739145, 42.7519396180184, 1022.0144218055923, 213.03555849568158], \"Total\": [5703.0, 1105.0, 903.0, 805.0, 1673.0, 810.0, 721.0, 652.0, 2227.0, 559.0, 758.0, 580.0, 569.0, 560.0, 420.0, 412.0, 435.0, 430.0, 961.0, 462.0, 601.0, 456.0, 451.0, 397.0, 541.0, 320.0, 360.0, 310.0, 348.0, 372.0, 758.3718593742249, 601.2848397155848, 433.754869327633, 403.1196958466201, 364.87790526005256, 321.62344026930384, 312.146878911794, 256.11674560708656, 233.08701294103207, 223.2436548385272, 185.3055348898075, 171.02919328807076, 156.03587185925403, 126.89398206526869, 126.81842891754681, 124.89271362762575, 120.88517649059523, 118.95458259674204, 117.43827747578432, 108.26568242120565, 105.24934631664475, 101.39297243515755, 99.75962145794821, 96.28809720617554, 88.40387629618388, 87.91640900872704, 87.27645999445926, 87.70063187825045, 86.18707418860777, 85.09785086323261, 1673.1953705577291, 961.262936830213, 2227.005493608992, 486.12062365246356, 183.02728451227665, 5703.265190958401, 146.025576689964, 178.00801940613525, 200.73572952999712, 230.74460560566766, 306.45667750953936, 810.2271349094115, 580.0428258699487, 569.5744533855444, 560.0699789526451, 462.0088980443784, 456.4547163418473, 451.574358371319, 397.10558210096775, 372.946688724514, 363.79936868503694, 319.8372737227578, 283.44459596489247, 208.24990991929297, 186.88632476664174, 182.42021663534558, 162.66433362608612, 148.52916076833654, 136.48898086734127, 134.74315910390607, 126.58045909795212, 117.19014756660646, 116.0487379512326, 77.69467851518014, 74.47743024284658, 74.07964602088305, 73.73185604411614, 67.89456865049993, 55.77778611343521, 54.76168934196962, 50.19974531879277, 541.4189109625331, 205.35862865862404, 292.38481771975387, 591.5492701788079, 306.45667750953936, 213.70027440370535, 486.12062365246356, 1105.4726059261352, 721.8037018736989, 559.7704475480426, 360.70442756318556, 348.9088442380049, 315.7902839786944, 217.71843373127663, 183.1703107825525, 168.43432732213105, 165.1111370554775, 133.83492138317985, 126.28096565707642, 110.2334310003131, 100.33277866129569, 96.50141124363574, 92.59656874095586, 86.9513617060369, 81.58997965938819, 73.62096287510123, 74.03911528847475, 71.32887659380529, 71.34225748736989, 66.47240737939103, 65.75873294395136, 65.42921132404655, 58.9970545471201, 53.28471975811632, 44.43936967574811, 266.3540130337826, 78.03076712768845, 5703.265190958401, 2227.005493608992, 341.45120224218505, 1673.1953705577291, 961.262936830213, 392.3758734449311, 652.731336521668, 435.3117573765281, 430.4323396906511, 220.08630843236568, 207.79062068649168, 199.78528856727468, 194.0235734104614, 182.46662730655095, 150.93191122859199, 142.0496157510203, 136.4092760277544, 114.02241397403661, 101.49599376104527, 101.43476939708478, 99.68868200596798, 99.03839532709277, 92.40638915088884, 88.50526487076209, 83.642899722684, 83.28823660152258, 80.12371341460282, 76.52943154155898, 72.35069467126704, 69.61172055395048, 69.68559332744957, 64.77639055135451, 59.713694217258556, 59.38521554497824, 58.11006922784217, 56.935809911782925, 5703.265190958401, 341.45120224218505, 591.5492701788079, 146.1719925052074, 230.74460560566766, 95.37344963747682, 903.0227036503175, 805.0842226434974, 420.4662246904448, 412.8352472789605, 320.6844725383309, 310.75600513443845, 306.16185278947705, 197.8645324648519, 188.63723991628888, 158.5739133793196, 151.98559574019524, 102.19664368930769, 101.01816317384706, 74.14127659314822, 68.5388103655815, 66.22004828348499, 66.35297785325156, 63.9224842216087, 61.46767529933378, 60.720008320354566, 53.79735304026279, 53.805619185846076, 52.41687008721766, 43.469425973926995, 392.3758734449311, 152.10091123410342, 162.42024296286897, 87.83275010629283, 248.63491750834834, 200.73572952999712, 5703.265190958401, 2227.005493608992], \"Category\": [\"Default\", \"Default\", \"Default\", \"Default\", \"Default\", \"Default\", \"Default\", \"Default\", \"Default\", \"Default\", \"Default\", \"Default\", \"Default\", \"Default\", \"Default\", \"Default\", \"Default\", \"Default\", \"Default\", \"Default\", \"Default\", \"Default\", \"Default\", \"Default\", \"Default\", \"Default\", \"Default\", \"Default\", \"Default\", \"Default\", \"Topic1\", \"Topic1\", \"Topic1\", \"Topic1\", \"Topic1\", \"Topic1\", \"Topic1\", \"Topic1\", \"Topic1\", \"Topic1\", \"Topic1\", \"Topic1\", \"Topic1\", \"Topic1\", \"Topic1\", \"Topic1\", \"Topic1\", \"Topic1\", \"Topic1\", \"Topic1\", \"Topic1\", \"Topic1\", \"Topic1\", \"Topic1\", \"Topic1\", \"Topic1\", \"Topic1\", \"Topic1\", \"Topic1\", \"Topic1\", \"Topic1\", \"Topic1\", \"Topic1\", \"Topic1\", \"Topic1\", \"Topic1\", \"Topic1\", \"Topic1\", \"Topic1\", \"Topic1\", \"Topic1\", \"Topic2\", \"Topic2\", \"Topic2\", \"Topic2\", \"Topic2\", \"Topic2\", \"Topic2\", \"Topic2\", \"Topic2\", \"Topic2\", \"Topic2\", \"Topic2\", \"Topic2\", \"Topic2\", \"Topic2\", \"Topic2\", \"Topic2\", \"Topic2\", \"Topic2\", \"Topic2\", \"Topic2\", \"Topic2\", \"Topic2\", \"Topic2\", \"Topic2\", \"Topic2\", \"Topic2\", \"Topic2\", \"Topic2\", \"Topic2\", \"Topic2\", \"Topic2\", \"Topic2\", \"Topic2\", \"Topic2\", \"Topic2\", \"Topic2\", \"Topic3\", \"Topic3\", \"Topic3\", \"Topic3\", \"Topic3\", \"Topic3\", \"Topic3\", \"Topic3\", \"Topic3\", \"Topic3\", \"Topic3\", \"Topic3\", \"Topic3\", \"Topic3\", \"Topic3\", \"Topic3\", \"Topic3\", \"Topic3\", \"Topic3\", \"Topic3\", \"Topic3\", \"Topic3\", \"Topic3\", \"Topic3\", \"Topic3\", \"Topic3\", \"Topic3\", \"Topic3\", \"Topic3\", \"Topic3\", \"Topic3\", \"Topic3\", \"Topic3\", \"Topic3\", \"Topic3\", \"Topic3\", \"Topic4\", \"Topic4\", \"Topic4\", \"Topic4\", \"Topic4\", \"Topic4\", \"Topic4\", \"Topic4\", \"Topic4\", \"Topic4\", \"Topic4\", \"Topic4\", \"Topic4\", \"Topic4\", \"Topic4\", \"Topic4\", \"Topic4\", \"Topic4\", \"Topic4\", \"Topic4\", \"Topic4\", \"Topic4\", \"Topic4\", \"Topic4\", \"Topic4\", \"Topic4\", \"Topic4\", \"Topic4\", \"Topic4\", \"Topic4\", \"Topic4\", \"Topic4\", \"Topic4\", \"Topic4\", \"Topic4\", \"Topic4\", \"Topic5\", \"Topic5\", \"Topic5\", \"Topic5\", \"Topic5\", \"Topic5\", \"Topic5\", \"Topic5\", \"Topic5\", \"Topic5\", \"Topic5\", \"Topic5\", \"Topic5\", \"Topic5\", \"Topic5\", \"Topic5\", \"Topic5\", \"Topic5\", \"Topic5\", \"Topic5\", \"Topic5\", \"Topic5\", \"Topic5\", \"Topic5\", \"Topic5\", \"Topic5\", \"Topic5\", \"Topic5\", \"Topic5\", \"Topic5\", \"Topic5\", \"Topic5\"], \"logprob\": [30.0, 29.0, 28.0, 27.0, 26.0, 25.0, 24.0, 23.0, 22.0, 21.0, 20.0, 19.0, 18.0, 17.0, 16.0, 15.0, 14.0, 13.0, 12.0, 11.0, 10.0, 9.0, 8.0, 7.0, 6.0, 5.0, 4.0, 3.0, 2.0, 1.0, -2.9124, -3.1448, -3.4719, -3.5453, -3.6452, -3.7717, -3.8017, -4.0001, -4.0946, -4.138, -4.325, -4.4055, -4.4977, -4.7057, -4.7063, -4.7217, -4.7545, -4.7707, -4.7837, -4.8656, -4.8941, -4.9317, -4.948, -4.9838, -5.07, -5.0756, -5.0829, -5.0781, -5.0956, -5.1085, -2.3136, -2.8694, -2.1959, -3.6575, -4.486, -2.5491, -4.7817, -4.7279, -4.7238, -4.7212, -4.7272, -2.4825, -2.8171, -2.8353, -2.8522, -3.045, -3.0571, -3.0678, -3.1966, -3.2595, -3.2844, -3.4135, -3.5346, -3.844, -3.9527, -3.9769, -4.0921, -4.1835, -4.2686, -4.2815, -4.3443, -4.422, -4.4319, -4.8365, -4.8793, -4.8847, -4.8895, -4.973, -5.1722, -5.1909, -5.2792, -3.0773, -4.0782, -3.8528, -3.414, -3.9723, -4.5206, -4.3434, -2.0578, -2.4845, -2.739, -3.1793, -3.2126, -3.3126, -3.6856, -3.8591, -3.9434, -3.9634, -4.1746, -4.233, -4.3699, -4.4647, -4.504, -4.5457, -4.6093, -4.6735, -4.7773, -4.7718, -4.8092, -4.8091, -4.8807, -4.8916, -4.8967, -5.0015, -5.1049, -5.2896, -3.8221, -5.1507, -1.821, -2.9281, -4.1159, -3.382, -3.9307, -4.3099, -2.4787, -2.8844, -2.8957, -3.5683, -3.626, -3.6654, -3.6948, -3.7565, -3.9472, -4.0081, -4.0489, -4.2294, -4.3466, -4.3473, -4.3647, -4.3713, -4.4413, -4.4848, -4.5418, -4.5461, -4.5852, -4.6316, -4.6884, -4.7275, -4.7264, -4.8003, -4.8828, -4.8885, -4.9104, -4.931, -1.266, -3.6614, -3.7135, -4.4468, -4.2953, -4.7023, -2.0525, -2.1674, -2.8179, -2.8362, -3.0894, -3.1209, -3.1358, -3.5738, -3.6218, -3.7961, -3.8388, -4.2384, -4.25, -4.5624, -4.6417, -4.6766, -4.6746, -4.7123, -4.7519, -4.7643, -4.8872, -4.887, -4.9136, -5.104, -3.2384, -4.3082, -4.2698, -4.8929, -3.9049, -5.1019, -1.9278, -3.4959], \"loglift\": [30.0, 29.0, 28.0, 27.0, 26.0, 25.0, 24.0, 23.0, 22.0, 21.0, 20.0, 19.0, 18.0, 17.0, 16.0, 15.0, 14.0, 13.0, 12.0, 11.0, 10.0, 9.0, 8.0, 7.0, 6.0, 5.0, 4.0, 3.0, 2.0, 1.0, 1.2159, 1.2157, 1.2151, 1.215, 1.2148, 1.2145, 1.2144, 1.2138, 1.2135, 1.2133, 1.2126, 1.2122, 1.2117, 1.2105, 1.2105, 1.2104, 1.2102, 1.2101, 1.21, 1.2094, 1.2092, 1.2089, 1.2087, 1.2084, 1.2076, 1.2075, 1.2075, 1.2075, 1.2074, 1.2073, 1.0234, 1.0219, 0.8552, 0.9156, 1.0639, -0.4384, 0.9941, 0.8498, 0.7337, 0.5971, 0.3073, 1.5798, 1.5794, 1.5793, 1.5793, 1.579, 1.579, 1.579, 1.5787, 1.5786, 1.5785, 1.5782, 1.5779, 1.5768, 1.5764, 1.5763, 1.5757, 1.5753, 1.5747, 1.5747, 1.5743, 1.5738, 1.5737, 1.5702, 1.5697, 1.5697, 1.5696, 1.5686, 1.566, 1.5657, 1.5644, 1.388, 1.3566, 1.2287, 0.9628, 1.0622, 0.8743, 0.2297, 1.6937, 1.6933, 1.693, 1.6922, 1.6921, 1.6919, 1.6907, 1.69, 1.6896, 1.6895, 1.6883, 1.688, 1.687, 1.6863, 1.6859, 1.6856, 1.6849, 1.6843, 1.6833, 1.6831, 1.683, 1.683, 1.6821, 1.6819, 1.6819, 1.6805, 1.679, 1.6758, 1.3527, 1.2517, 0.2897, 0.123, 0.8104, -0.0449, -0.0395, 0.4774, 1.7997, 1.7991, 1.7991, 1.7973, 1.797, 1.7969, 1.7968, 1.7965, 1.7955, 1.7952, 1.7949, 1.7938, 1.7929, 1.7929, 1.7928, 1.7927, 1.792, 1.7917, 1.7912, 1.7911, 1.7907, 1.7903, 1.7896, 1.7891, 1.7891, 1.7883, 1.7871, 1.787, 1.7868, 1.7866, 0.8447, 1.265, 0.6633, 1.3279, 1.023, 1.4994, 1.9013, 1.9012, 1.9003, 1.9003, 1.8997, 1.8996, 1.8996, 1.8982, 1.898, 1.8972, 1.8969, 1.8943, 1.8942, 1.8912, 1.8904, 1.89, 1.8899, 1.8895, 1.8891, 1.8889, 1.8871, 1.8871, 1.8868, 1.8835, 1.5489, 1.4268, 1.3996, 1.3912, 1.3386, 0.3556, 0.183, -0.4447]}, \"token.table\": {\"Topic\": [1, 5, 1, 4, 3, 5, 5, 1, 4, 1, 1, 4, 3, 3, 1, 4, 2, 2, 2, 3, 1, 4, 1, 1, 3, 1, 1, 2, 4, 4, 1, 3, 4, 5, 3, 5, 2, 4, 2, 5, 2, 2, 5, 2, 5, 5, 1, 3, 1, 2, 3, 2, 5, 4, 2, 1, 5, 1, 3, 2, 1, 2, 5, 4, 5, 4, 2, 3, 3, 1, 2, 1, 1, 4, 5, 1, 4, 1, 1, 5, 5, 3, 2, 1, 4, 3, 2, 4, 5, 3, 5, 3, 1, 1, 1, 1, 3, 5, 3, 2, 4, 2, 4, 3, 5, 3, 1, 2, 4, 2, 1, 4, 3, 2, 5, 3, 1, 4, 1, 5, 3, 3, 4, 4, 4, 4, 1, 2, 5, 1, 2, 4, 3, 2, 3, 2, 1, 3, 3, 1, 4, 1, 3, 5, 2, 1, 5, 5, 3, 3, 4, 3, 2, 2, 2, 1, 4, 1, 4, 4, 2, 5, 4, 3, 4, 1, 2, 2, 2, 5, 2, 1, 2, 1, 3, 4, 2, 2, 5, 2, 4, 3, 1, 3, 1, 2, 5, 1, 2, 1, 2, 4, 5, 4, 1, 5, 1, 4, 5, 3], \"Freq\": [0.9870989589972483, 0.9855687050833225, 0.5373906777777961, 0.45938235358424506, 0.998047078135568, 0.9956306850243337, 0.9935152029677864, 0.9956397009323249, 0.9989955687554476, 0.9923854817525705, 0.9995096609010101, 0.9957138030709884, 0.9995724851763836, 0.9988865367805505, 0.9862267724042931, 0.9835637727252342, 0.9974615977212409, 0.9990038084270626, 0.28533454080288495, 0.7095819501545428, 0.9944291592993909, 0.9935132752917858, 0.9933613223234437, 0.9926775431339665, 0.9967001704037456, 0.9881296524836737, 0.29413291931741004, 0.7045509462719356, 0.996195108884705, 0.9942911320416938, 0.1909432515476279, 0.2454734179675657, 0.38434123727493147, 0.17919559511632296, 0.2956348946268234, 0.7034071630776143, 0.9935895983348266, 0.9951528499780071, 0.9910588662125114, 0.9921386093118991, 0.9980895620317911, 0.3984846194345952, 0.603419566572387, 0.9984854433324445, 0.994680301251404, 0.9975672066767901, 0.3460173594835686, 0.6407728879325344, 0.8012295013798164, 0.19859534649585195, 0.9974213847673675, 0.9959159232311294, 0.9882907731006738, 0.9910332193609809, 0.9964373274204257, 0.9954314639458709, 0.9988674662927263, 0.98830947727017, 0.998623636614942, 0.9987280979075284, 0.19965072939864612, 0.7986029175945845, 0.9815758472681564, 0.9895152246392596, 0.9892010082164748, 0.9950641707787129, 0.9954143072154373, 0.996683250820561, 0.9948041045496232, 0.4013617879028636, 0.5938849219375705, 0.997222423369147, 0.6177275978239337, 0.16937692198398183, 0.21421198956797702, 0.3694278163313416, 0.6225542830768904, 0.992011096576555, 0.9963258357226181, 0.9988911720774052, 0.9963807831497054, 0.9937615580855059, 0.9860908355618266, 0.9935464512174416, 0.9988795749786348, 0.983099926686615, 0.9952574123989626, 0.9938256183135415, 0.9966218763772643, 0.9953892923944655, 0.9881421570867407, 0.9927689691571052, 0.9953364499921449, 0.9980615832329204, 0.9975939752794106, 0.8241715368482854, 0.17571169821130958, 0.9851785823056008, 0.9898562253589749, 0.9909629525512521, 0.9960693373726052, 0.9761005696109849, 0.9912123914035944, 0.9934400657541045, 0.9920470244307983, 0.9932703688237325, 0.740556936867115, 0.25919492790349025, 0.9969866254372876, 0.9978162800572696, 0.986622466913876, 0.9926109215750359, 0.993557334261221, 0.985425875002444, 0.9979768024061276, 0.9884618679529903, 0.9961242635882989, 0.9956021531127544, 0.857795603635638, 0.13659165662987865, 0.997395181426284, 0.9936108052797824, 0.9901616202903232, 0.9845327905345636, 0.9880142974199992, 0.9859752704072997, 0.9928521560490116, 0.9964174333764237, 0.9846067312893599, 0.9962680185267986, 0.986055629532276, 0.9880480645752397, 0.9890586911191426, 0.9900740862446451, 0.9952025980194069, 0.9973821884078352, 0.8228757915168777, 0.1768506758000875, 0.9928931808247178, 0.9982596867931347, 0.9969996466540066, 0.6964509088329703, 0.20790249567354305, 0.09564412867918934, 0.9868241500273034, 0.9853745214397984, 0.9978655887735597, 0.992391524536168, 0.9859653200281217, 0.2516423605440108, 0.744441983276032, 0.9915654067693369, 0.9984314537259777, 0.9976964360469673, 0.9939980290038186, 0.992954889974145, 0.9808971277681717, 0.9978631762673535, 0.9930916730755177, 0.9923137561608275, 0.39403955339871705, 0.6033730661417854, 0.9930819877935265, 0.4129433402902219, 0.5857352344542155, 0.989576359873433, 0.9989914340748082, 0.9972158988672019, 0.9944846246084152, 0.9986532804730202, 0.9978027210769324, 0.5053807268210386, 0.491342373298232, 0.9929546902601488, 0.9901130533814054, 0.9974426704025883, 0.9898443035415582, 0.37475120653465027, 0.6245853442244171, 0.9982021571107536, 0.9951131690752938, 0.9888107356441659, 0.9919752347836981, 0.9974974404888667, 0.690980105336539, 0.3033571194160415, 0.9962051026968537, 0.17361787351108043, 0.8256083985048187, 0.14030952988059903, 0.5392619280953144, 0.3211904900881183, 0.9850272295340855, 0.9947244894397651, 0.9939823531393425, 0.989920989039418, 0.21316394547930073, 0.21316394547930073, 0.5711184954351076, 0.9758895277304968], \"Term\": [\"able\", \"absolutely\", \"also\", \"also\", \"amaze\", \"amazing\", \"anyone\", \"assignment\", \"awesome\", \"background\", \"basic\", \"begin\", \"beginner\", \"best\", \"bit\", \"challenge\", \"charles\", \"chuck\", \"class\", \"class\", \"clear\", \"clearly\", \"cod\", \"code\", \"complete\", \"computer\", \"concept\", \"concept\", \"content\", \"continue\", \"course\", \"course\", \"course\", \"course\", \"coursera\", \"coursera\", \"cover\", \"definitely\", \"detail\", \"do\", \"dr\", \"drchuck\", \"drchuck\", \"easy\", \"engage\", \"enjoy\", \"especially\", \"especially\", \"even\", \"even\", \"ever\", \"every\", \"everybody\", \"everyone\", \"everything\", \"example\", \"excellent\", \"exercise\", \"experience\", \"explain\", \"explanation\", \"explanation\", \"fantastic\", \"feel\", \"finish\", \"first\", \"follow\", \"forward\", \"friendly\", \"fun\", \"fun\", \"get\", \"give\", \"give\", \"give\", \"go\", \"go\", \"happy\", \"help\", \"helpful\", \"highly\", \"im\", \"information\", \"informative\", \"instructor\", \"interactive\", \"interest\", \"interesting\", \"introduction\", \"introductory\", \"journey\", \"keep\", \"know\", \"knowledge\", \"language\", \"learn\", \"learn\", \"learner\", \"learning\", \"learnt\", \"lecture\", \"lecturer\", \"lesson\", \"level\", \"like\", \"look\", \"lot\", \"lot\", \"love\", \"make\", \"many\", \"material\", \"michigan\", \"mr\", \"much\", \"must\", \"need\", \"never\", \"new\", \"new\", \"one\", \"online\", \"opportunity\", \"overall\", \"pace\", \"part\", \"people\", \"perfect\", \"person\", \"platform\", \"point\", \"pretty\", \"prior\", \"problem\", \"prof\", \"professor\", \"program\", \"program\", \"programmer\", \"programming\", \"provide\", \"python\", \"python\", \"python\", \"quite\", \"quiz\", \"recommend\", \"recommended\", \"russell\", \"say\", \"say\", \"see\", \"severance\", \"simple\", \"sir\", \"skill\", \"specialization\", \"start\", \"step\", \"structure\", \"student\", \"student\", \"super\", \"take\", \"take\", \"taught\", \"teach\", \"teacher\", \"teaching\", \"thank\", \"thanks\", \"thing\", \"thing\", \"think\", \"though\", \"time\", \"topic\", \"u\", \"u\", \"understand\", \"understandable\", \"university\", \"use\", \"useful\", \"video\", \"video\", \"want\", \"way\", \"way\", \"well\", \"well\", \"well\", \"wish\", \"wonderful\", \"work\", \"world\", \"would\", \"would\", \"would\", \"zero\"]}, \"R\": 30, \"lambda.step\": 0.01, \"plot.opts\": {\"xlab\": \"PC1\", \"ylab\": \"PC2\"}, \"topic.order\": [2, 3, 4, 1, 5]};\n",
       "\n",
       "function LDAvis_load_lib(url, callback){\n",
       "  var s = document.createElement('script');\n",
       "  s.src = url;\n",
       "  s.async = true;\n",
       "  s.onreadystatechange = s.onload = callback;\n",
       "  s.onerror = function(){console.warn(\"failed to load library \" + url);};\n",
       "  document.getElementsByTagName(\"head\")[0].appendChild(s);\n",
       "}\n",
       "\n",
       "if(typeof(LDAvis) !== \"undefined\"){\n",
       "   // already loaded: just create the visualization\n",
       "   !function(LDAvis){\n",
       "       new LDAvis(\"#\" + \"ldavis_el241481403790094725927199125282\", ldavis_el241481403790094725927199125282_data);\n",
       "   }(LDAvis);\n",
       "}else if(typeof define === \"function\" && define.amd){\n",
       "   // require.js is available: use it to load d3/LDAvis\n",
       "   require.config({paths: {d3: \"https://d3js.org/d3.v5\"}});\n",
       "   require([\"d3\"], function(d3){\n",
       "      window.d3 = d3;\n",
       "      LDAvis_load_lib(\"https://cdn.jsdelivr.net/gh/bmabey/pyLDAvis@3.2.2/pyLDAvis/js/ldavis.v3.0.0.js\", function(){\n",
       "        new LDAvis(\"#\" + \"ldavis_el241481403790094725927199125282\", ldavis_el241481403790094725927199125282_data);\n",
       "      });\n",
       "    });\n",
       "}else{\n",
       "    // require.js not available: dynamically load d3 & LDAvis\n",
       "    LDAvis_load_lib(\"https://d3js.org/d3.v5.js\", function(){\n",
       "         LDAvis_load_lib(\"https://cdn.jsdelivr.net/gh/bmabey/pyLDAvis@3.2.2/pyLDAvis/js/ldavis.v3.0.0.js\", function(){\n",
       "                 new LDAvis(\"#\" + \"ldavis_el241481403790094725927199125282\", ldavis_el241481403790094725927199125282_data);\n",
       "            })\n",
       "         });\n",
       "}\n",
       "</script>"
      ],
      "text/plain": [
       "PreparedData(topic_coordinates=              x         y  topics  cluster       Freq\n",
       "topic                                                \n",
       "1      0.024341  0.257309       1        1  29.611077\n",
       "2     -0.449642 -0.037718       2        1  20.581750\n",
       "3      0.166818  0.150445       3        1  18.369748\n",
       "0      0.124471 -0.133063       4        1  16.513754\n",
       "4      0.134012 -0.236973       5        1  14.923670, topic_info=          Term         Freq        Total Category  logprob  loglift\n",
       "3       course  5703.000000  5703.000000  Default  30.0000  30.0000\n",
       "1     beginner  1105.000000  1105.000000  Default  29.0000  29.0000\n",
       "56   excellent   903.000000   903.000000  Default  28.0000  28.0000\n",
       "27       thank   805.000000   805.000000  Default  27.0000  27.0000\n",
       "6        learn  1673.000000  1673.000000  Default  26.0000  26.0000\n",
       "..         ...          ...          ...      ...      ...      ...\n",
       "25     drchuck    52.690335    87.832750   Topic5  -4.8929   1.3912\n",
       "122      would   141.514014   248.634918   Topic5  -3.9049   1.3386\n",
       "39        give    42.751940   200.735730   Topic5  -5.1019   0.3556\n",
       "3       course  1022.014422  5703.265191   Topic5  -1.9278   0.1830\n",
       "8       python   213.035558  2227.005494   Topic5  -3.4959  -0.4447\n",
       "\n",
       "[212 rows x 6 columns], token_table=      Topic      Freq        Term\n",
       "term                             \n",
       "191       1  0.987099        able\n",
       "185       5  0.985569  absolutely\n",
       "84        1  0.537391        also\n",
       "84        4  0.459382        also\n",
       "31        3  0.998047       amaze\n",
       "...     ...       ...         ...\n",
       "23        5  0.989921       world\n",
       "122       1  0.213164       would\n",
       "122       4  0.213164       would\n",
       "122       5  0.571118       would\n",
       "49        3  0.975890        zero\n",
       "\n",
       "[200 rows x 3 columns], R=30, lambda_step=0.01, plot_opts={'xlab': 'PC1', 'ylab': 'PC2'}, topic_order=[2, 3, 4, 1, 5])"
      ]
     },
     "execution_count": 79,
     "metadata": {},
     "output_type": "execute_result"
    }
   ],
   "source": [
    "# Visualize the topics\n",
    "pyLDAvis.enable_notebook()\n",
    "vis = pyLDAvis.gensim.prepare(lda_model, corpus, dictionary)\n",
    "vis"
   ]
  },
  {
   "cell_type": "code",
   "execution_count": 80,
   "metadata": {},
   "outputs": [
    {
     "name": "stdout",
     "output_type": "stream",
     "text": [
      "\n",
      "Perplexity:  -4.754927685373107\n",
      "\n",
      "Coherence Score:  0.38296413797007667\n"
     ]
    }
   ],
   "source": [
    "# Calculate Perplexity and Coherence\n",
    "\n",
    "# Compute Perplexity\n",
    "\n",
    "print('\\nPerplexity: ', lda_model.log_perplexity(corpus))  # a measure of how good the model is. The lower the better.\n",
    "\n",
    "# Compute Coherence Score\n",
    "\n",
    "coherence_model_lda = CoherenceModel(model = lda_model, texts = df['preprocessed'], dictionary = dictionary, coherence = 'c_v')\n",
    "coherence_lda = coherence_model_lda.get_coherence()\n",
    "print('\\nCoherence Score: ', coherence_lda)"
   ]
  },
  {
   "cell_type": "markdown",
   "metadata": {},
   "source": [
    "## Calculate the coherence score\n",
    "\n",
    "Code reference: \n",
    "\n",
    "https://www.machinelearningplus.com/nlp/topic-modeling-gensim-python/#17howtofindtheoptimalnumberoftopicsforlda"
   ]
  },
  {
   "cell_type": "code",
   "execution_count": 70,
   "metadata": {},
   "outputs": [],
   "source": [
    "# Determine the optiomal number of topics by calculating the coherence score\n",
    "\n",
    "# Define function for calculating coherence score\n",
    "\n",
    "def compute_coherence_values(dictionary, corpus, texts, limit, start=2, step=3):\n",
    "    \"\"\"\n",
    "    Compute c_v coherence for various number of topics\n",
    "\n",
    "    Parameters:\n",
    "    ----------\n",
    "    dictionary : Gensim dictionary\n",
    "    corpus : Gensim corpus\n",
    "    texts : List of input texts\n",
    "    limit : Max num of topics\n",
    "\n",
    "    Returns:\n",
    "    -------\n",
    "    model_list : List of LDA topic models\n",
    "    coherence_values : Coherence values corresponding to the LDA model with respective number of topics\n",
    "    \"\"\"\n",
    "    coherence_values = []\n",
    "    model_list = []\n",
    "    for num_topics in range(start, limit, step):\n",
    "        model = LDA(corpus = corpus, num_topics = num_topics, id2word = dictionary)\n",
    "        model_list.append(model)\n",
    "        coherencemodel = CoherenceModel(model = model, texts = texts, dictionary = dictionary, coherence = 'c_v')\n",
    "        coherence_values.append(coherencemodel.get_coherence())\n",
    "\n",
    "    return model_list, coherence_values"
   ]
  },
  {
   "cell_type": "code",
   "execution_count": 71,
   "metadata": {},
   "outputs": [],
   "source": [
    "# Can take a long time to run.\n",
    "\n",
    "model_list, coherence_values = compute_coherence_values(dictionary = dictionary, corpus = corpus, texts = df['preprocessed'], start = 2, limit = 10, step = 1)"
   ]
  },
  {
   "cell_type": "code",
   "execution_count": 72,
   "metadata": {},
   "outputs": [
    {
     "data": {
      "image/png": "[encoded data removed]",
      "text/plain": [
       "<Figure size 432x288 with 1 Axes>"
      ]
     },
     "metadata": {
      "needs_background": "light"
     },
     "output_type": "display_data"
    }
   ],
   "source": [
    "# Show graph\n",
    "\n",
    "limit = 10; start = 2; step = 1;\n",
    "x = range(start, limit, step)\n",
    "plt.plot(x, coherence_values)\n",
    "plt.xlabel(\"Num Topics\")\n",
    "plt.ylabel(\"Coherence score\")\n",
    "plt.legend((\"coherence_values\"), loc = 'best')\n",
    "plt.show()\n"
   ]
  },
  {
   "cell_type": "code",
   "execution_count": 73,
   "metadata": {},
   "outputs": [
    {
     "name": "stdout",
     "output_type": "stream",
     "text": [
      "Num Topics = 2  has Coherence Value of 0.237\n",
      "Num Topics = 3  has Coherence Value of 0.2468\n",
      "Num Topics = 4  has Coherence Value of 0.3184\n",
      "Num Topics = 5  has Coherence Value of 0.3506\n",
      "Num Topics = 6  has Coherence Value of 0.3159\n",
      "Num Topics = 7  has Coherence Value of 0.3175\n",
      "Num Topics = 8  has Coherence Value of 0.3657\n",
      "Num Topics = 9  has Coherence Value of 0.3345\n"
     ]
    }
   ],
   "source": [
    "# Print the coherence scores\n",
    "\n",
    "for m, cv in zip(x, coherence_values):\n",
    "    print(\"Num Topics =\", m, \" has Coherence Value of\", round(cv, 4))"
   ]
  },
  {
   "cell_type": "markdown",
   "metadata": {},
   "source": [
    "## LDA Mallet Model\n",
    "\n",
    "Code reference:\n",
    "\n",
    "https://www.machinelearningplus.com/nlp/topic-modeling-gensim-python/#17howtofindtheoptimalnumberoftopicsforlda"
   ]
  },
  {
   "cell_type": "code",
   "execution_count": 74,
   "metadata": {},
   "outputs": [],
   "source": [
    "mallet_path = '/Users/siriamanda/Desktop/LNU-VT-2021/Thesis/11-data-analysis/mallet-2.0.8/bin/mallet' # update this path\n",
    "ldamallet = gensim.models.wrappers.LdaMallet(mallet_path, corpus = corpus, num_topics = 5, id2word = dictionary)"
   ]
  },
  {
   "cell_type": "code",
   "execution_count": 76,
   "metadata": {},
   "outputs": [
    {
     "name": "stdout",
     "output_type": "stream",
     "text": [
      "[(0,\n",
      "  [('teach', 0.0860990860990861),\n",
      "   ('lot', 0.08064774731441399),\n",
      "   ('learn', 0.0724707391374058),\n",
      "   ('love', 0.0700657367324034),\n",
      "   ('teacher', 0.06653839987173321),\n",
      "   ('awesome', 0.06397306397306397),\n",
      "   ('charles', 0.059644059644059645),\n",
      "   ('fun', 0.04826038159371493),\n",
      "   ('severance', 0.04537437870771204),\n",
      "   ('enjoy', 0.04425204425204425)]),\n",
      " (1,\n",
      "  [('easy', 0.1311292125858489),\n",
      "   ('understand', 0.09103977000479156),\n",
      "   ('dr', 0.0884842676888676),\n",
      "   ('chuck', 0.07203322153010701),\n",
      "   ('make', 0.07155406484587126),\n",
      "   ('explain', 0.06963743810892829),\n",
      "   ('professor', 0.05446414310812969),\n",
      "   ('thing', 0.03577703242293563),\n",
      "   ('coursera', 0.03226321673854017),\n",
      "   ('explanation', 0.030666027791087687)]),\n",
      " (2,\n",
      "  [('beginner', 0.17745371128952975),\n",
      "   ('excellent', 0.12551204325741439),\n",
      "   ('instructor', 0.09978699000491562),\n",
      "   ('helpful', 0.0629198754710798),\n",
      "   ('amaze', 0.05718499098803867),\n",
      "   ('assignment', 0.04555136817958381),\n",
      "   ('clear', 0.03801409143044404),\n",
      "   ('content', 0.03195149926265771),\n",
      "   ('video', 0.03113223005079469),\n",
      "   ('sir', 0.028019007045715222)]),\n",
      " (3,\n",
      "  [('program', 0.12356275303643725),\n",
      "   ('experience', 0.08987854251012145),\n",
      "   ('python', 0.08502024291497975),\n",
      "   ('learn', 0.06315789473684211),\n",
      "   ('knowledge', 0.05149797570850202),\n",
      "   ('recommend', 0.050364372469635627),\n",
      "   ('class', 0.04825910931174089),\n",
      "   ('complete', 0.03190283400809717),\n",
      "   ('time', 0.03174089068825911),\n",
      "   ('give', 0.02785425101214575)]),\n",
      " (4,\n",
      "  [('python', 0.2809759209057567),\n",
      "   ('learn', 0.14224206665603573),\n",
      "   ('basic', 0.12310636262159146),\n",
      "   ('start', 0.09950566097911019),\n",
      "   ('programming', 0.07223728273002711),\n",
      "   ('language', 0.060755860309360546),\n",
      "   ('program', 0.03843087226917557),\n",
      "   ('introduction', 0.03125498325625897),\n",
      "   ('coursera', 0.025354807845638653),\n",
      "   ('skill', 0.022006059639610907)])]\n",
      "\n",
      "Coherence Score:  0.28511057341795143\n"
     ]
    }
   ],
   "source": [
    "# Show Topics\n",
    "pprint(ldamallet.show_topics(formatted = False))\n",
    "\n",
    "# Compute Coherence Score\n",
    "coherence_model_ldamallet = CoherenceModel(model = ldamallet, texts = df['preprocessed'], dictionary = dictionary, coherence = 'c_v')\n",
    "coherence_ldamallet = coherence_model_ldamallet.get_coherence()\n",
    "print('\\nCoherence Score: ', coherence_ldamallet)\n",
    "\n",
    "# The coherence score using the Mallet Model is lower than the original LDA Model"
   ]
  },
  {
   "cell_type": "code",
   "execution_count": null,
   "metadata": {},
   "outputs": [],
   "source": []
  }
 ],
 "metadata": {
  "kernelspec": {
   "display_name": "Python 3",
   "language": "python",
   "name": "python3"
  },
  "language_info": {
   "codemirror_mode": {
    "name": "ipython",
    "version": 3
   },
   "file_extension": ".py",
   "mimetype": "text/x-python",
   "name": "python",
   "nbconvert_exporter": "python",
   "pygments_lexer": "ipython3",
   "version": "3.7.6"
  }
 },
 "nbformat": 4,
 "nbformat_minor": 4
}
