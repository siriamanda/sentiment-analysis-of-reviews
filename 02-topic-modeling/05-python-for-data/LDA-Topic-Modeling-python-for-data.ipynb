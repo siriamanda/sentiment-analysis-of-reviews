{
 "cells": [
  {
   "cell_type": "code",
   "execution_count": 1,
   "metadata": {},
   "outputs": [
    {
     "name": "stderr",
     "output_type": "stream",
     "text": [
      "/Users/siriamanda/opt/anaconda3/lib/python3.7/site-packages/scipy/sparse/sparsetools.py:21: DeprecationWarning: `scipy.sparse.sparsetools` is deprecated!\n",
      "scipy.sparse.sparsetools is a private module for scipy.sparse, and should not be used.\n",
      "  _deprecated()\n",
      "/Users/siriamanda/opt/anaconda3/lib/python3.7/site-packages/nltk/decorators.py:70: DeprecationWarning: `formatargspec` is deprecated since Python 3.5. Use `signature` and the `Signature` object directly\n",
      "  formatvalue=lambda value: \"\")[1:-1]\n"
     ]
    }
   ],
   "source": [
    "# Import the libraries\n",
    "\n",
    "import pandas as pd \n",
    "import numpy as np\n",
    "\n",
    "from pprint import pprint\n",
    "\n",
    "# libraries for visualization\n",
    "import pyLDAvis\n",
    "import pyLDAvis.gensim\n",
    "import matplotlib.pyplot as plt\n",
    "import seaborn as sns\n",
    "%matplotlib inline\n",
    "\n",
    "import re\n",
    "\n",
    "import spacy\n",
    "\n",
    "import gensim\n",
    "from gensim import corpora, models\n",
    "from gensim.utils import simple_preprocess\n",
    "from gensim.models import CoherenceModel\n",
    "\n",
    "import nltk\n",
    "from nltk import FreqDist\n",
    "from nltk.corpus import stopwords\n",
    "from nltk.tokenize import RegexpTokenizer\n",
    "from nltk.stem import WordNetLemmatizer, SnowballStemmer\n",
    "from nltk.tag import pos_tag, pos_tag_sents\n",
    "from nltk.corpus import wordnet\n",
    "\n",
    "import warnings\n",
    "warnings.filterwarnings(\"ignore\")\n"
   ]
  },
  {
   "cell_type": "markdown",
   "metadata": {},
   "source": [
    "Code references:\n",
    "\n",
    "https://www.analyticsvidhya.com/blog/2018/10/mining-online-reviews-topic-modeling-lda/\n"
   ]
  },
  {
   "cell_type": "code",
   "execution_count": 2,
   "metadata": {},
   "outputs": [],
   "source": [
    "df = pd.read_csv('/Users/siriamanda/Desktop/LNU-VT-2021/Thesis/11-data-analysis/sentiment-analysis-of-reviews/01-sentiment-analysis/05-python-for-data/VADER-python-for-data.csv')\n"
   ]
  },
  {
   "cell_type": "code",
   "execution_count": 3,
   "metadata": {},
   "outputs": [
    {
     "data": {
      "text/html": [
       "<div>\n",
       "<style scoped>\n",
       "    .dataframe tbody tr th:only-of-type {\n",
       "        vertical-align: middle;\n",
       "    }\n",
       "\n",
       "    .dataframe tbody tr th {\n",
       "        vertical-align: top;\n",
       "    }\n",
       "\n",
       "    .dataframe thead th {\n",
       "        text-align: right;\n",
       "    }\n",
       "</style>\n",
       "<table border=\"1\" class=\"dataframe\">\n",
       "  <thead>\n",
       "    <tr style=\"text-align: right;\">\n",
       "      <th></th>\n",
       "      <th>Unnamed: 0</th>\n",
       "      <th>date</th>\n",
       "      <th>review</th>\n",
       "      <th>rating</th>\n",
       "      <th>status</th>\n",
       "      <th>length</th>\n",
       "      <th>label</th>\n",
       "      <th>language_scores</th>\n",
       "      <th>language</th>\n",
       "      <th>scores</th>\n",
       "      <th>compound</th>\n",
       "      <th>sentiment</th>\n",
       "    </tr>\n",
       "  </thead>\n",
       "  <tbody>\n",
       "    <tr>\n",
       "      <th>0</th>\n",
       "      <td>0</td>\n",
       "      <td>2021-03-11</td>\n",
       "      <td>Interesting and clear, the difficulty in the e...</td>\n",
       "      <td>4</td>\n",
       "      <td>completer</td>\n",
       "      <td>186</td>\n",
       "      <td>pos</td>\n",
       "      <td>{'language': 'en', 'score': 0.9999988844000527}</td>\n",
       "      <td>en</td>\n",
       "      <td>{'neg': 0.146, 'neu': 0.505, 'pos': 0.35, 'com...</td>\n",
       "      <td>0.7957</td>\n",
       "      <td>pos</td>\n",
       "    </tr>\n",
       "    <tr>\n",
       "      <th>1</th>\n",
       "      <td>1</td>\n",
       "      <td>2021-03-11</td>\n",
       "      <td>great, i have learned basics of python from th...</td>\n",
       "      <td>5</td>\n",
       "      <td>completer</td>\n",
       "      <td>56</td>\n",
       "      <td>pos</td>\n",
       "      <td>{'language': 'en', 'score': 0.9999970049413354}</td>\n",
       "      <td>en</td>\n",
       "      <td>{'neg': 0.0, 'neu': 0.661, 'pos': 0.339, 'comp...</td>\n",
       "      <td>0.6249</td>\n",
       "      <td>pos</td>\n",
       "    </tr>\n",
       "    <tr>\n",
       "      <th>2</th>\n",
       "      <td>2</td>\n",
       "      <td>2021-03-10</td>\n",
       "      <td>Recommended</td>\n",
       "      <td>5</td>\n",
       "      <td>completer</td>\n",
       "      <td>11</td>\n",
       "      <td>pos</td>\n",
       "      <td>{'language': 'en', 'score': 0.8571409981818681}</td>\n",
       "      <td>en</td>\n",
       "      <td>{'neg': 0.0, 'neu': 0.0, 'pos': 1.0, 'compound...</td>\n",
       "      <td>0.2023</td>\n",
       "      <td>pos</td>\n",
       "    </tr>\n",
       "    <tr>\n",
       "      <th>3</th>\n",
       "      <td>3</td>\n",
       "      <td>2021-03-10</td>\n",
       "      <td>excellent</td>\n",
       "      <td>5</td>\n",
       "      <td>completer</td>\n",
       "      <td>9</td>\n",
       "      <td>pos</td>\n",
       "      <td>{'language': 'ca', 'score': 0.8571389147750391}</td>\n",
       "      <td>ca</td>\n",
       "      <td>{'neg': 0.0, 'neu': 0.0, 'pos': 1.0, 'compound...</td>\n",
       "      <td>0.5719</td>\n",
       "      <td>pos</td>\n",
       "    </tr>\n",
       "    <tr>\n",
       "      <th>4</th>\n",
       "      <td>4</td>\n",
       "      <td>2021-03-10</td>\n",
       "      <td>Tamada sir is my biggest inspiration to comple...</td>\n",
       "      <td>5</td>\n",
       "      <td>completer</td>\n",
       "      <td>102</td>\n",
       "      <td>pos</td>\n",
       "      <td>{'language': 'en', 'score': 0.9999982800455944}</td>\n",
       "      <td>en</td>\n",
       "      <td>{'neg': 0.0, 'neu': 0.825, 'pos': 0.175, 'comp...</td>\n",
       "      <td>0.5267</td>\n",
       "      <td>pos</td>\n",
       "    </tr>\n",
       "  </tbody>\n",
       "</table>\n",
       "</div>"
      ],
      "text/plain": [
       "   Unnamed: 0        date                                             review  \\\n",
       "0           0  2021-03-11  Interesting and clear, the difficulty in the e...   \n",
       "1           1  2021-03-11  great, i have learned basics of python from th...   \n",
       "2           2  2021-03-10                                        Recommended   \n",
       "3           3  2021-03-10                                          excellent   \n",
       "4           4  2021-03-10  Tamada sir is my biggest inspiration to comple...   \n",
       "\n",
       "   rating     status  length label  \\\n",
       "0       4  completer     186   pos   \n",
       "1       5  completer      56   pos   \n",
       "2       5  completer      11   pos   \n",
       "3       5  completer       9   pos   \n",
       "4       5  completer     102   pos   \n",
       "\n",
       "                                   language_scores language  \\\n",
       "0  {'language': 'en', 'score': 0.9999988844000527}       en   \n",
       "1  {'language': 'en', 'score': 0.9999970049413354}       en   \n",
       "2  {'language': 'en', 'score': 0.8571409981818681}       en   \n",
       "3  {'language': 'ca', 'score': 0.8571389147750391}       ca   \n",
       "4  {'language': 'en', 'score': 0.9999982800455944}       en   \n",
       "\n",
       "                                              scores  compound sentiment  \n",
       "0  {'neg': 0.146, 'neu': 0.505, 'pos': 0.35, 'com...    0.7957       pos  \n",
       "1  {'neg': 0.0, 'neu': 0.661, 'pos': 0.339, 'comp...    0.6249       pos  \n",
       "2  {'neg': 0.0, 'neu': 0.0, 'pos': 1.0, 'compound...    0.2023       pos  \n",
       "3  {'neg': 0.0, 'neu': 0.0, 'pos': 1.0, 'compound...    0.5719       pos  \n",
       "4  {'neg': 0.0, 'neu': 0.825, 'pos': 0.175, 'comp...    0.5267       pos  "
      ]
     },
     "execution_count": 3,
     "metadata": {},
     "output_type": "execute_result"
    }
   ],
   "source": [
    "df.head()"
   ]
  },
  {
   "cell_type": "code",
   "execution_count": 4,
   "metadata": {},
   "outputs": [],
   "source": [
    "df.drop(['Unnamed: 0', 'language_scores', 'language', 'scores'], axis = 1, inplace = True)"
   ]
  },
  {
   "cell_type": "code",
   "execution_count": 5,
   "metadata": {},
   "outputs": [
    {
     "data": {
      "text/html": [
       "<div>\n",
       "<style scoped>\n",
       "    .dataframe tbody tr th:only-of-type {\n",
       "        vertical-align: middle;\n",
       "    }\n",
       "\n",
       "    .dataframe tbody tr th {\n",
       "        vertical-align: top;\n",
       "    }\n",
       "\n",
       "    .dataframe thead th {\n",
       "        text-align: right;\n",
       "    }\n",
       "</style>\n",
       "<table border=\"1\" class=\"dataframe\">\n",
       "  <thead>\n",
       "    <tr style=\"text-align: right;\">\n",
       "      <th></th>\n",
       "      <th>date</th>\n",
       "      <th>review</th>\n",
       "      <th>rating</th>\n",
       "      <th>status</th>\n",
       "      <th>length</th>\n",
       "      <th>label</th>\n",
       "      <th>compound</th>\n",
       "      <th>sentiment</th>\n",
       "    </tr>\n",
       "  </thead>\n",
       "  <tbody>\n",
       "    <tr>\n",
       "      <th>0</th>\n",
       "      <td>2021-03-11</td>\n",
       "      <td>Interesting and clear, the difficulty in the e...</td>\n",
       "      <td>4</td>\n",
       "      <td>completer</td>\n",
       "      <td>186</td>\n",
       "      <td>pos</td>\n",
       "      <td>0.7957</td>\n",
       "      <td>pos</td>\n",
       "    </tr>\n",
       "    <tr>\n",
       "      <th>1</th>\n",
       "      <td>2021-03-11</td>\n",
       "      <td>great, i have learned basics of python from th...</td>\n",
       "      <td>5</td>\n",
       "      <td>completer</td>\n",
       "      <td>56</td>\n",
       "      <td>pos</td>\n",
       "      <td>0.6249</td>\n",
       "      <td>pos</td>\n",
       "    </tr>\n",
       "    <tr>\n",
       "      <th>2</th>\n",
       "      <td>2021-03-10</td>\n",
       "      <td>Recommended</td>\n",
       "      <td>5</td>\n",
       "      <td>completer</td>\n",
       "      <td>11</td>\n",
       "      <td>pos</td>\n",
       "      <td>0.2023</td>\n",
       "      <td>pos</td>\n",
       "    </tr>\n",
       "    <tr>\n",
       "      <th>3</th>\n",
       "      <td>2021-03-10</td>\n",
       "      <td>excellent</td>\n",
       "      <td>5</td>\n",
       "      <td>completer</td>\n",
       "      <td>9</td>\n",
       "      <td>pos</td>\n",
       "      <td>0.5719</td>\n",
       "      <td>pos</td>\n",
       "    </tr>\n",
       "    <tr>\n",
       "      <th>4</th>\n",
       "      <td>2021-03-10</td>\n",
       "      <td>Tamada sir is my biggest inspiration to comple...</td>\n",
       "      <td>5</td>\n",
       "      <td>completer</td>\n",
       "      <td>102</td>\n",
       "      <td>pos</td>\n",
       "      <td>0.5267</td>\n",
       "      <td>pos</td>\n",
       "    </tr>\n",
       "    <tr>\n",
       "      <th>...</th>\n",
       "      <td>...</td>\n",
       "      <td>...</td>\n",
       "      <td>...</td>\n",
       "      <td>...</td>\n",
       "      <td>...</td>\n",
       "      <td>...</td>\n",
       "      <td>...</td>\n",
       "      <td>...</td>\n",
       "    </tr>\n",
       "    <tr>\n",
       "      <th>3111</th>\n",
       "      <td>2018-08-08</td>\n",
       "      <td>Good overall if you already have a grasp of py...</td>\n",
       "      <td>3</td>\n",
       "      <td>dropout</td>\n",
       "      <td>135</td>\n",
       "      <td>neu</td>\n",
       "      <td>0.1027</td>\n",
       "      <td>pos</td>\n",
       "    </tr>\n",
       "    <tr>\n",
       "      <th>3112</th>\n",
       "      <td>2018-08-06</td>\n",
       "      <td>good introductory course</td>\n",
       "      <td>5</td>\n",
       "      <td>dropout</td>\n",
       "      <td>24</td>\n",
       "      <td>pos</td>\n",
       "      <td>0.4404</td>\n",
       "      <td>pos</td>\n",
       "    </tr>\n",
       "    <tr>\n",
       "      <th>3113</th>\n",
       "      <td>2018-08-03</td>\n",
       "      <td>robotic teaching</td>\n",
       "      <td>2</td>\n",
       "      <td>dropout</td>\n",
       "      <td>16</td>\n",
       "      <td>neg</td>\n",
       "      <td>0.0000</td>\n",
       "      <td>neu</td>\n",
       "    </tr>\n",
       "    <tr>\n",
       "      <th>3114</th>\n",
       "      <td>2018-08-03</td>\n",
       "      <td>I recommend!</td>\n",
       "      <td>5</td>\n",
       "      <td>dropout</td>\n",
       "      <td>12</td>\n",
       "      <td>pos</td>\n",
       "      <td>0.4199</td>\n",
       "      <td>pos</td>\n",
       "    </tr>\n",
       "    <tr>\n",
       "      <th>3115</th>\n",
       "      <td>2018-08-01</td>\n",
       "      <td>A great start in how to use python to access y...</td>\n",
       "      <td>5</td>\n",
       "      <td>dropout</td>\n",
       "      <td>55</td>\n",
       "      <td>pos</td>\n",
       "      <td>0.6588</td>\n",
       "      <td>pos</td>\n",
       "    </tr>\n",
       "  </tbody>\n",
       "</table>\n",
       "<p>3116 rows × 8 columns</p>\n",
       "</div>"
      ],
      "text/plain": [
       "            date                                             review  rating  \\\n",
       "0     2021-03-11  Interesting and clear, the difficulty in the e...       4   \n",
       "1     2021-03-11  great, i have learned basics of python from th...       5   \n",
       "2     2021-03-10                                        Recommended       5   \n",
       "3     2021-03-10                                          excellent       5   \n",
       "4     2021-03-10  Tamada sir is my biggest inspiration to comple...       5   \n",
       "...          ...                                                ...     ...   \n",
       "3111  2018-08-08  Good overall if you already have a grasp of py...       3   \n",
       "3112  2018-08-06                           good introductory course       5   \n",
       "3113  2018-08-03                                   robotic teaching       2   \n",
       "3114  2018-08-03                                       I recommend!       5   \n",
       "3115  2018-08-01  A great start in how to use python to access y...       5   \n",
       "\n",
       "         status  length label  compound sentiment  \n",
       "0     completer     186   pos    0.7957       pos  \n",
       "1     completer      56   pos    0.6249       pos  \n",
       "2     completer      11   pos    0.2023       pos  \n",
       "3     completer       9   pos    0.5719       pos  \n",
       "4     completer     102   pos    0.5267       pos  \n",
       "...         ...     ...   ...       ...       ...  \n",
       "3111    dropout     135   neu    0.1027       pos  \n",
       "3112    dropout      24   pos    0.4404       pos  \n",
       "3113    dropout      16   neg    0.0000       neu  \n",
       "3114    dropout      12   pos    0.4199       pos  \n",
       "3115    dropout      55   pos    0.6588       pos  \n",
       "\n",
       "[3116 rows x 8 columns]"
      ]
     },
     "execution_count": 5,
     "metadata": {},
     "output_type": "execute_result"
    }
   ],
   "source": [
    "df"
   ]
  },
  {
   "cell_type": "code",
   "execution_count": 6,
   "metadata": {},
   "outputs": [
    {
     "data": {
      "text/plain": [
       "0"
      ]
     },
     "execution_count": 6,
     "metadata": {},
     "output_type": "execute_result"
    }
   ],
   "source": [
    "# Check for null values\n",
    "\n",
    "len(df[df['review'].isna()==True])"
   ]
  },
  {
   "cell_type": "code",
   "execution_count": 7,
   "metadata": {},
   "outputs": [],
   "source": [
    "# Drop null values\n",
    "\n",
    "# df.dropna(inplace = True)"
   ]
  },
  {
   "cell_type": "code",
   "execution_count": 8,
   "metadata": {},
   "outputs": [],
   "source": [
    "# Check for null values\n",
    "\n",
    "# len(df[df['review'].isna()==True])"
   ]
  },
  {
   "cell_type": "code",
   "execution_count": 9,
   "metadata": {},
   "outputs": [],
   "source": [
    "# Reset the index\n",
    "\n",
    "# df = df.reset_index(drop = True)"
   ]
  },
  {
   "cell_type": "code",
   "execution_count": 10,
   "metadata": {},
   "outputs": [],
   "source": [
    "# df"
   ]
  },
  {
   "cell_type": "code",
   "execution_count": 11,
   "metadata": {},
   "outputs": [],
   "source": [
    "# Define a function to plot the most frequent words\n",
    "\n",
    "def freq_words(x, terms = 30):\n",
    "    all_words = ' '.join([text for text in x])\n",
    "    all_words = all_words.split()\n",
    "\n",
    "    fdist = FreqDist(all_words)\n",
    "    words_df = pd.DataFrame({'word':list(fdist.keys()), 'count':list(fdist.values())})\n",
    "    \n",
    "    # selecting top 20 most frequent words\n",
    "    d = words_df.nlargest(columns=\"count\", n = terms) \n",
    "    plt.figure(figsize=(20,5))\n",
    "    ax = sns.barplot(data=d, x= \"word\", y = \"count\")\n",
    "    ax.set(ylabel = 'Count')\n",
    "    plt.xticks(rotation = 45)\n",
    "    plt.show()"
   ]
  },
  {
   "cell_type": "code",
   "execution_count": 12,
   "metadata": {},
   "outputs": [
    {
     "data": {
      "image/png": "[encoded data removed]",
      "text/plain": [
       "<Figure size 1440x360 with 1 Axes>"
      ]
     },
     "metadata": {
      "needs_background": "light"
     },
     "output_type": "display_data"
    }
   ],
   "source": [
    "# The most frquent words are stop words such as 'to' and 'the' we will remove these in the preprocessing steps\n",
    "\n",
    "freq_words(df['review'])"
   ]
  },
  {
   "cell_type": "markdown",
   "metadata": {},
   "source": [
    "## Preprocessing"
   ]
  },
  {
   "cell_type": "code",
   "execution_count": 13,
   "metadata": {},
   "outputs": [
    {
     "data": {
      "text/plain": [
       "0    interesting and clear, the difficulty in the e...\n",
       "1    great, i have learned basics of python from th...\n",
       "2                                          recommended\n",
       "3                                            excellent\n",
       "4    tamada sir is my biggest inspiration to comple...\n",
       "Name: preprocessed, dtype: object"
      ]
     },
     "execution_count": 13,
     "metadata": {},
     "output_type": "execute_result"
    }
   ],
   "source": [
    "# Covert to lowercase\n",
    "\n",
    "df['preprocessed'] =  df['review'].apply(lambda x: \" \".join(x.lower() for x in x.split()))\n",
    "df['preprocessed'].head()"
   ]
  },
  {
   "cell_type": "code",
   "execution_count": 14,
   "metadata": {},
   "outputs": [
    {
     "data": {
      "text/plain": [
       "0    interesting and clear the difficulty in the ex...\n",
       "1    great i have learned basics of python from thi...\n",
       "2                                          recommended\n",
       "3                                            excellent\n",
       "4    tamada sir is my biggest inspiration to comple...\n",
       "Name: preprocessed, dtype: object"
      ]
     },
     "execution_count": 14,
     "metadata": {},
     "output_type": "execute_result"
    }
   ],
   "source": [
    "# Remove punctuations\n",
    "\n",
    "df['preprocessed'] = df['preprocessed'].str.replace('[^\\w\\s]','')\n",
    "df['preprocessed'].head()"
   ]
  },
  {
   "cell_type": "code",
   "execution_count": 15,
   "metadata": {},
   "outputs": [
    {
     "data": {
      "text/plain": [
       "0    interesting clear difficulty exercises escalat...\n",
       "1                         learned basics python course\n",
       "2                                          recommended\n",
       "3                                            excellent\n",
       "4    tamada sir biggest inspiration complete course...\n",
       "Name: preprocessed, dtype: object"
      ]
     },
     "execution_count": 15,
     "metadata": {},
     "output_type": "execute_result"
    }
   ],
   "source": [
    "# Remove stopwords\n",
    "\n",
    "stop = stopwords.words('english')\n",
    "stop.extend(['good', 'great', 'really', 'like', 'nice'])\n",
    "\n",
    "df['preprocessed'] = df['preprocessed'].apply(lambda x: \" \".join(x for x in x.split() if x not in stop))\n",
    "df['preprocessed'].head()"
   ]
  },
  {
   "cell_type": "code",
   "execution_count": 16,
   "metadata": {},
   "outputs": [],
   "source": [
    "# Remove short words (length < 3)\n",
    "\n",
    "# df['review'] = df['review'].apply(lambda x: ' '.join([w for w in x.split() if len(w)>2]))\n",
    "# df['review'].head()"
   ]
  },
  {
   "cell_type": "code",
   "execution_count": 17,
   "metadata": {},
   "outputs": [
    {
     "data": {
      "image/png": "[encoded data removed]",
      "text/plain": [
       "<Figure size 1440x360 with 1 Axes>"
      ]
     },
     "metadata": {
      "needs_background": "light"
     },
     "output_type": "display_data"
    }
   ],
   "source": [
    "# Look at the most frequent words again \n",
    "\n",
    "freq_words(df['preprocessed'])"
   ]
  },
  {
   "cell_type": "code",
   "execution_count": 18,
   "metadata": {},
   "outputs": [
    {
     "data": {
      "text/plain": [
       "0    [interesting, clear, difficulty, exercises, es...\n",
       "1                    [learned, basics, python, course]\n",
       "2                                        [recommended]\n",
       "3                                          [excellent]\n",
       "4    [tamada, sir, biggest, inspiration, complete, ...\n",
       "Name: preprocessed, dtype: object"
      ]
     },
     "execution_count": 18,
     "metadata": {},
     "output_type": "execute_result"
    }
   ],
   "source": [
    "# Tokenization\n",
    "\n",
    "tokenizer = RegexpTokenizer(r'\\w+')\n",
    "\n",
    "df['preprocessed'] = df['preprocessed'].apply(lambda x: tokenizer.tokenize(x.lower()))\n",
    "df['preprocessed'].head(5)\n"
   ]
  },
  {
   "cell_type": "code",
   "execution_count": 19,
   "metadata": {},
   "outputs": [
    {
     "data": {
      "text/plain": [
       "0    [(interesting, VBG), (clear, JJ), (difficulty,...\n",
       "1    [(learned, VBN), (basics, NNS), (python, VBP),...\n",
       "2                                 [(recommended, VBN)]\n",
       "3                                    [(excellent, NN)]\n",
       "4    [(tamada, NN), (sir, NN), (biggest, JJS), (ins...\n",
       "Name: preprocessed, dtype: object"
      ]
     },
     "execution_count": 19,
     "metadata": {},
     "output_type": "execute_result"
    }
   ],
   "source": [
    "# Add speech tags\n",
    "\n",
    "df['preprocessed'] = df['preprocessed'].apply(nltk.tag.pos_tag)\n",
    "df['preprocessed'].head()"
   ]
  },
  {
   "cell_type": "code",
   "execution_count": 20,
   "metadata": {},
   "outputs": [],
   "source": [
    "# Define function to convert parts of speech tags to wordnet’s format\n",
    "\n",
    "def get_wordnet_pos(tag):\n",
    "    if tag.startswith('J'):\n",
    "        return wordnet.ADJ\n",
    "    elif tag.startswith('V'):\n",
    "        return wordnet.VERB\n",
    "    elif tag.startswith('N'):\n",
    "        return wordnet.NOUN\n",
    "    elif tag.startswith('R'):\n",
    "        return wordnet.ADV\n",
    "    else:\n",
    "        return wordnet.NOUN"
   ]
  },
  {
   "cell_type": "code",
   "execution_count": 21,
   "metadata": {},
   "outputs": [
    {
     "data": {
      "text/plain": [
       "0    [(interesting, v), (clear, a), (difficulty, n)...\n",
       "1    [(learned, v), (basics, n), (python, v), (cour...\n",
       "2                                   [(recommended, v)]\n",
       "3                                     [(excellent, n)]\n",
       "4    [(tamada, n), (sir, n), (biggest, a), (inspira...\n",
       "Name: preprocessed, dtype: object"
      ]
     },
     "execution_count": 21,
     "metadata": {},
     "output_type": "execute_result"
    }
   ],
   "source": [
    "# Apply the function to the tagged data\n",
    "\n",
    "df['preprocessed'] = df['preprocessed'].apply(lambda x: [(word, get_wordnet_pos(pos_tag)) for (word, pos_tag) in x])\n",
    "df['preprocessed'].head()"
   ]
  },
  {
   "cell_type": "code",
   "execution_count": 22,
   "metadata": {},
   "outputs": [
    {
     "data": {
      "text/plain": [
       "0    [interest, clear, difficulty, exercise, escala...\n",
       "1                       [learn, basic, python, course]\n",
       "2                                          [recommend]\n",
       "3                                          [excellent]\n",
       "4    [tamada, sir, big, inspiration, complete, cour...\n",
       "Name: preprocessed, dtype: object"
      ]
     },
     "execution_count": 22,
     "metadata": {},
     "output_type": "execute_result"
    }
   ],
   "source": [
    "# Create lemmatizer\n",
    "\n",
    "lemmatizer = WordNetLemmatizer()\n",
    "\n",
    "# Apply to data \n",
    "\n",
    "df['preprocessed'] = df['preprocessed'].apply(lambda x: [lemmatizer.lemmatize(word, tag) for word, tag in x])\n",
    "df['preprocessed'].head()"
   ]
  },
  {
   "cell_type": "code",
   "execution_count": 23,
   "metadata": {},
   "outputs": [],
   "source": [
    "# Join reviews\n",
    "\n",
    "df['joined'] = df['preprocessed'].apply(lambda x: ' '.join(x))"
   ]
  },
  {
   "cell_type": "code",
   "execution_count": 24,
   "metadata": {},
   "outputs": [
    {
     "data": {
      "image/png": "[encoded data removed]",
      "text/plain": [
       "<Figure size 1440x360 with 1 Axes>"
      ]
     },
     "metadata": {
      "needs_background": "light"
     },
     "output_type": "display_data"
    }
   ],
   "source": [
    "# Most frequent words after lemmatizing \n",
    "\n",
    "freq_words(df['joined'], 35)"
   ]
  },
  {
   "cell_type": "markdown",
   "metadata": {},
   "source": [
    "## LDA Topic Modeling"
   ]
  },
  {
   "cell_type": "code",
   "execution_count": 25,
   "metadata": {},
   "outputs": [],
   "source": [
    "# Create a dictionary from 'df_sen['review']' containing the number of times a word appears in the training set\n",
    "\n",
    "dictionary = gensim.corpora.Dictionary(df['preprocessed'])"
   ]
  },
  {
   "cell_type": "code",
   "execution_count": 26,
   "metadata": {},
   "outputs": [],
   "source": [
    "# Gensim filter extremes\n",
    "\n",
    "# Filter out tokens that appear in:\n",
    "# Less than 50 documents, more than 0.5 documents, and keep only 100000 most frquent tokens\n",
    "\n",
    "# dictionary.filter_extremes(no_below = 50, no_above = 0.5, keep_n = 100000)"
   ]
  },
  {
   "cell_type": "code",
   "execution_count": 27,
   "metadata": {},
   "outputs": [],
   "source": [
    "# Gensim doc2bow\n",
    "# Create a dictionary reporting how many words and how many times those words appear\n",
    "\n",
    "corpus = [dictionary.doc2bow(doc) for doc in df['preprocessed']]\n"
   ]
  },
  {
   "cell_type": "code",
   "execution_count": 28,
   "metadata": {},
   "outputs": [],
   "source": [
    "# Add TF-IDF\n",
    "\n",
    "tfidf = models.TfidfModel(corpus)      # Create a TF-IDF model\n",
    "corpus_tfidf = tfidf[corpus]  "
   ]
  },
  {
   "cell_type": "code",
   "execution_count": 39,
   "metadata": {},
   "outputs": [],
   "source": [
    "# Creating the object for LDA model using gensim library\n",
    "LDA = gensim.models.LdaMulticore\n",
    "\n",
    "# Build LDA model\n",
    "lda_model = LDA(corpus = corpus, id2word = dictionary, num_topics = 3, random_state = 100,\n",
    "                chunksize = 100, passes = 10)"
   ]
  },
  {
   "cell_type": "code",
   "execution_count": 40,
   "metadata": {},
   "outputs": [
    {
     "name": "stdout",
     "output_type": "stream",
     "text": [
      "Topic: 0\n",
      "Word: 0.087*\"course\" + 0.065*\"python\" + 0.030*\"data\" + 0.024*\"basic\" + 0.024*\"learn\" + 0.021*\"science\" + 0.018*\"beginner\" + 0.011*\"excellent\" + 0.010*\"start\" + 0.010*\"use\"\n",
      "\n",
      "Topic: 1\n",
      "Word: 0.049*\"course\" + 0.021*\"assignment\" + 0.018*\"final\" + 0.014*\"content\" + 0.011*\"video\" + 0.010*\"material\" + 0.009*\"project\" + 0.009*\"need\" + 0.008*\"much\" + 0.008*\"instruction\"\n",
      "\n",
      "Topic: 2\n",
      "Word: 0.020*\"ibm\" + 0.019*\"course\" + 0.013*\"easy\" + 0.013*\"assignment\" + 0.012*\"would\" + 0.011*\"watson\" + 0.010*\"week\" + 0.009*\"cloud\" + 0.009*\"final\" + 0.008*\"use\"\n",
      "\n"
     ]
    }
   ],
   "source": [
    "# Explore the words occurring in each topic and its relative weight\n",
    "\n",
    "for id, topic in lda_model.print_topics(-1):\n",
    "    print('Topic: {}\\nWord: {}\\n'.format(id, topic))"
   ]
  },
  {
   "cell_type": "markdown",
   "metadata": {},
   "source": [
    "### Visualise with pyLDAvis\n",
    "\n",
    "Original paper: https://nlp.stanford.edu/events/illvi2014/papers/sievert-illvi2014.pdf"
   ]
  },
  {
   "cell_type": "code",
   "execution_count": 41,
   "metadata": {
    "scrolled": false
   },
   "outputs": [
    {
     "data": {
      "text/html": [
       "\n",
       "<link rel=\"stylesheet\" type=\"text/css\" href=\"https://cdn.jsdelivr.net/gh/bmabey/pyLDAvis@3.2.2/pyLDAvis/js/ldavis.v1.0.0.css\">\n",
       "\n",
       "\n",
       "<div id=\"ldavis_el386551402421108077607525375336\"></div>\n",
       "<script type=\"text/javascript\">\n",
       "\n",
       "var ldavis_el386551402421108077607525375336_data = {\"mdsDat\": {\"x\": [-0.15417448434879003, 0.05476716149665125, 0.09940732285213885], \"y\": [0.018407579804107316, -0.10456564696863561, 0.08615806716452828], \"topics\": [1, 2, 3], \"cluster\": [1, 1, 1], \"Freq\": [41.3540413340041, 33.80794017974608, 24.83801848624982]}, \"tinfo\": {\"Term\": [\"python\", \"data\", \"basic\", \"science\", \"ibm\", \"content\", \"course\", \"assignment\", \"beginner\", \"watson\", \"final\", \"cloud\", \"material\", \"excellent\", \"learn\", \"start\", \"introduction\", \"week\", \"video\", \"issue\", \"easy\", \"instruction\", \"5\", \"awesome\", \"step\", \"question\", \"studio\", \"numpy\", \"bit\", \"project\", \"science\", \"data\", \"panda\", \"basic\", \"ai\", \"fundamental\", \"analysis\", \"interesting\", \"highly\", \"pandas\", \"career\", \"perfect\", \"language\", \"learnt\", \"journey\", \"scientist\", \"wonderful\", \"foundation\", \"numpy\", \"field\", \"thanks\", \"core\", \"introductory\", \"effective\", \"confidence\", \"introduction\", \"programming\", \"strong\", \"approximately\", \"insight\", \"python\", \"overview\", \"start\", \"excellent\", \"beginner\", \"opportunity\", \"best\", \"learn\", \"library\", \"course\", \"program\", \"knowledge\", \"useful\", \"new\", \"give\", \"use\", \"concept\", \"coursera\", \"help\", \"experience\", \"well\", \"lot\", \"get\", \"understand\", \"recommend\", \"one\", \"easy\", \"would\", \"typos\", \"ok\", \"unclear\", \"cool\", \"long\", \"examples\", \"often\", \"number\", \"amount\", \"confusing\", \"properly\", \"review\", \"vague\", \"unfortunately\", \"proper\", \"mistake\", \"notebooks\", \"instead\", \"later\", \"relevant\", \"anyway\", \"till\", \"robotic\", \"author\", \"r\", \"consider\", \"spell\", \"along\", \"wait\", \"decent\", \"content\", \"confuse\", \"bit\", \"almost\", \"material\", \"task\", \"peer\", \"difficulty\", \"last\", \"lesson\", \"video\", \"error\", \"instruction\", \"final\", \"present\", \"assignment\", \"project\", \"labs\", \"dont\", \"explanation\", \"find\", \"didnt\", \"fast\", \"expect\", \"need\", \"difficult\", \"much\", \"course\", \"little\", \"videos\", \"however\", \"lab\", \"challenge\", \"code\", \"time\", \"practice\", \"clear\", \"well\", \"lot\", \"exercise\", \"could\", \"take\", \"would\", \"many\", \"python\", \"issue\", \"pay\", \"storage\", \"worth\", \"interface\", \"bucket\", \"finally\", \"save\", \"service\", \"multiple\", \"sense\", \"presentation\", \"mark\", \"leap\", \"credit\", \"open\", \"upload\", \"stage\", \"change\", \"line\", \"response\", \"sign\", \"credential\", \"cloud\", \"account\", \"optional\", \"stuck\", \"personal\", \"c\", \"specific\", \"dashboard\", \"tutorial\", \"studio\", \"watson\", \"step\", \"5\", \"ibm\", \"awesome\", \"week\", \"platform\", \"notebook\", \"update\", \"forum\", \"easy\", \"question\", \"would\", \"student\", \"work\", \"create\", \"make\", \"assignment\", \"time\", \"lab\", \"use\", \"final\", \"understand\", \"get\", \"course\", \"exercise\", \"learn\", \"code\", \"could\", \"also\", \"video\"], \"Freq\": [986.0, 423.0, 348.0, 293.0, 258.0, 175.0, 1934.0, 372.0, 301.0, 115.0, 303.0, 81.0, 142.0, 168.0, 442.0, 156.0, 127.0, 121.0, 178.0, 48.0, 223.0, 120.0, 70.0, 68.0, 59.0, 90.0, 53.0, 84.0, 78.0, 158.0, 292.8731991143888, 420.7284300135044, 55.50956995800555, 343.3355158586728, 56.37848579423248, 41.93258774650664, 27.239098684709884, 39.48233365658719, 27.764628071808275, 35.23596006395755, 17.89228684588226, 25.691727918830903, 51.798319012300496, 15.696490094726341, 13.392834894561123, 14.044179680168162, 16.713532394250898, 25.057955535882524, 80.27763922602685, 21.044053979837706, 66.35374514446922, 9.5558265181302, 53.37489900911922, 9.761373744285384, 9.23608275989927, 119.65950736702824, 44.35086321507524, 9.834556028925475, 7.938173489645397, 8.27237000408427, 914.0552800957812, 32.09757777269066, 138.86810376373484, 147.84676792926294, 249.23656756475998, 18.587523040425168, 78.43246101723696, 333.42203873461204, 39.83624738164756, 1219.9452150478191, 120.56981383305508, 106.64636389901621, 78.77164602678545, 66.69308038038434, 104.7959930832055, 137.4713904488523, 78.67321509873045, 67.65909470211, 83.50225471753566, 78.82340227588351, 116.28398622443896, 98.9378048791989, 89.13502499260836, 73.87983791304934, 58.80116028271118, 62.64717734245463, 64.30634918301956, 60.65309867799987, 18.0837849218047, 23.019022574887217, 19.23752245376759, 16.227034907608257, 14.865173493027836, 14.612089106218303, 13.97946490976372, 11.484984584845042, 14.608008219599688, 10.807358501311583, 10.09990603579588, 53.13180884253286, 9.019114519007216, 9.162874663215678, 14.399163473791429, 36.17945340680172, 13.403826283467934, 19.112093593512945, 9.839376734144338, 9.726528271499713, 7.9869125186031305, 7.676479460175767, 8.260794475931053, 8.14591825182955, 8.74399107507304, 10.106322385659267, 11.530131979493902, 9.465886835574057, 7.157703590309986, 12.818837794602052, 158.34353761996258, 43.995391193348695, 69.41031471689085, 22.389090935943184, 119.77090652544865, 33.04672348267712, 37.51887595217301, 18.573946527794128, 53.773601350828024, 50.59594563073912, 131.65790850217107, 53.25056971827328, 90.38239286443567, 201.8287926222795, 28.45015002646177, 236.27340866468688, 108.79302516650695, 67.46782870561212, 51.223822809589585, 55.19191302790153, 62.911604899031786, 33.102083105861276, 33.229849431758446, 27.75063773549874, 98.04461325021931, 45.52457696888334, 91.44119671897533, 557.2181902543214, 55.62437754506428, 44.94143602567665, 49.18332076328135, 84.25155288212288, 45.86440789617401, 60.41238823596367, 72.04841234831169, 63.947549380834396, 57.96193930268006, 81.53787141022251, 78.49306276659357, 60.851457995844406, 65.0807089385657, 60.65259587029588, 70.85966622898432, 54.42095785501012, 55.95496006460429, 47.3545660517386, 23.006924278729613, 20.208935264925625, 19.402801797948246, 14.96473184372752, 13.50367071485985, 11.38917854518302, 10.683404015696764, 29.565514078357612, 12.174463276287026, 11.840834464925095, 14.387190083807704, 8.923660079636887, 8.60888418245756, 7.967173567749388, 8.391999661406228, 8.592144779696872, 8.01421464366426, 22.525432050645282, 7.623909890397241, 9.27456770502728, 7.527005146515395, 7.612723971825233, 74.52883467313161, 13.088545687666997, 10.428071240226211, 7.340183486538786, 6.586928506141362, 6.8989931261393, 6.183068347715165, 26.2418148429804, 34.00632620331415, 44.55437820145761, 89.50908194641586, 47.929841303586, 55.063871120685015, 169.9294410230125, 50.45713805125649, 80.8812791396758, 29.4676668358788, 40.27463820404964, 24.2727244131494, 28.190715599432473, 111.06705536961323, 53.168552537330406, 102.59348887853739, 39.89887843043122, 66.04719466649883, 26.222843258318882, 66.13566596039595, 107.79299766283543, 57.68611209746593, 61.26659855724117, 67.3228415084249, 73.34642163622324, 51.27706671622027, 56.008880431915905, 157.82210208488735, 42.598288563927746, 63.47501105536741, 38.6912837140476, 41.638297349921345, 34.08660236893214, 34.237178533957575], \"Total\": [986.0, 423.0, 348.0, 293.0, 258.0, 175.0, 1934.0, 372.0, 301.0, 115.0, 303.0, 81.0, 142.0, 168.0, 442.0, 156.0, 127.0, 121.0, 178.0, 48.0, 223.0, 120.0, 70.0, 68.0, 59.0, 90.0, 53.0, 84.0, 78.0, 158.0, 293.6879766418553, 423.4915151309222, 56.17835323562607, 348.1332432810228, 57.17214800331115, 42.70037342835155, 27.92503351156458, 40.57947801248564, 28.606222902190346, 36.33810039744077, 18.525807686060364, 26.668557266228696, 53.924431941655826, 16.366760124520063, 14.010007799970017, 14.693993171886033, 17.519183982541087, 26.44962028903231, 84.74393026118649, 22.263708353431802, 70.52343117303727, 10.173052772812984, 56.84910528389035, 10.414596707874807, 9.876832277141759, 127.96280140420538, 47.44362931422552, 10.536094393779495, 8.52448058222097, 8.889351413616756, 986.0878009874784, 34.83936977495133, 156.1439591820193, 168.33341703914257, 301.60704701458434, 20.307399185533686, 91.99571200275278, 442.0581248202796, 45.40258595364325, 1934.9855073870278, 156.29358896543565, 136.73945777717253, 98.30306136387107, 83.16381419914407, 159.10946382696176, 244.61418864988786, 115.57723590994638, 95.19177329435844, 129.10527212099697, 119.21367515878858, 218.76975691400563, 204.22601252875165, 190.63113634040062, 153.48071403703366, 86.92060807874002, 125.24974848450259, 223.38906577984739, 234.10625378552157, 18.736079342766693, 23.959985807885797, 20.056992029984933, 16.920389495972312, 15.534906036115917, 15.292650158364282, 14.691163844190532, 12.11141591262436, 15.462650860974765, 11.490293223340554, 10.753459731549393, 56.72689939294524, 9.64206380561709, 9.805043422016796, 15.452029688707775, 38.9557983062476, 14.459513765040958, 20.637003375348137, 10.631615768384474, 10.524192264043727, 8.64853428097556, 8.318944445117255, 8.962898464510289, 8.847685538782974, 9.5117777321525, 11.00110737504874, 12.553510046651459, 10.318016874915447, 7.82730909983167, 14.029601023427672, 175.87876919098383, 49.01147250683604, 78.64828103830166, 24.865258943885017, 142.4953295453186, 37.49327240833486, 43.6447497609401, 20.841352119824407, 64.66624503345578, 62.53390216090486, 178.23616182796613, 67.258662273737, 120.96972649346611, 303.9773709341385, 34.32911558851286, 372.05586775175084, 158.74679846660408, 96.05978677450643, 69.78142248224071, 77.03095081199614, 91.18531877118467, 42.283491697157515, 42.61915421267763, 34.13685963879351, 170.20755927053935, 64.0305308871596, 160.04031408745848, 1934.9855073870278, 86.63356276776915, 64.63050079769756, 78.39567900819654, 180.0803887042187, 71.35144369500004, 112.93605857954167, 153.7423846156842, 126.62645847288954, 107.78468250014951, 218.76975691400563, 204.22601252875165, 124.4419332536321, 147.0491097873013, 125.73817009626701, 234.10625378552157, 98.20475845427566, 986.0878009874784, 48.284613360546196, 23.70027026139228, 20.83589334754184, 20.17455963554195, 15.745816719451918, 14.258652666971662, 12.035880297822954, 11.315738585647754, 31.361291719625733, 12.91847375955615, 12.619248798231759, 15.374121704596764, 9.567272872748063, 9.26325589198086, 8.578593801141194, 9.044217446314851, 9.270773514931753, 8.662320483224207, 24.39254089536224, 8.279441081960785, 10.082152781257182, 8.188198866822438, 8.288111551174229, 81.20727969727606, 14.29409993721857, 11.407393586322593, 8.031760497169351, 7.230658162315647, 7.579464728479134, 6.803232787662469, 29.249254121998618, 39.14431718457203, 53.731785237080366, 115.04905362009046, 59.686918707497284, 70.90991906180835, 258.3871330437177, 68.21351018401481, 121.30997905721182, 38.34874311033256, 60.05005255012808, 33.010372379888565, 39.74374494102496, 223.38906577984739, 90.45619756257699, 234.10625378552157, 65.72100848124734, 150.24253160410677, 39.97709362793051, 162.31221548760863, 372.05586775175084, 153.7423846156842, 180.0803887042187, 244.61418864988786, 303.9773709341385, 153.48071403703366, 190.63113634040062, 1934.9855073870278, 124.4419332536321, 442.0581248202796, 112.93605857954167, 147.0491097873013, 115.3533653709612, 178.23616182796613], \"Category\": [\"Default\", \"Default\", \"Default\", \"Default\", \"Default\", \"Default\", \"Default\", \"Default\", \"Default\", \"Default\", \"Default\", \"Default\", \"Default\", \"Default\", \"Default\", \"Default\", \"Default\", \"Default\", \"Default\", \"Default\", \"Default\", \"Default\", \"Default\", \"Default\", \"Default\", \"Default\", \"Default\", \"Default\", \"Default\", \"Default\", \"Topic1\", \"Topic1\", \"Topic1\", \"Topic1\", \"Topic1\", \"Topic1\", \"Topic1\", \"Topic1\", \"Topic1\", \"Topic1\", \"Topic1\", \"Topic1\", \"Topic1\", \"Topic1\", \"Topic1\", \"Topic1\", \"Topic1\", \"Topic1\", \"Topic1\", \"Topic1\", \"Topic1\", \"Topic1\", \"Topic1\", \"Topic1\", \"Topic1\", \"Topic1\", \"Topic1\", \"Topic1\", \"Topic1\", \"Topic1\", \"Topic1\", \"Topic1\", \"Topic1\", \"Topic1\", \"Topic1\", \"Topic1\", \"Topic1\", \"Topic1\", \"Topic1\", \"Topic1\", \"Topic1\", \"Topic1\", \"Topic1\", \"Topic1\", \"Topic1\", \"Topic1\", \"Topic1\", \"Topic1\", \"Topic1\", \"Topic1\", \"Topic1\", \"Topic1\", \"Topic1\", \"Topic1\", \"Topic1\", \"Topic1\", \"Topic1\", \"Topic1\", \"Topic2\", \"Topic2\", \"Topic2\", \"Topic2\", \"Topic2\", \"Topic2\", \"Topic2\", \"Topic2\", \"Topic2\", \"Topic2\", \"Topic2\", \"Topic2\", \"Topic2\", \"Topic2\", \"Topic2\", \"Topic2\", \"Topic2\", \"Topic2\", \"Topic2\", \"Topic2\", \"Topic2\", \"Topic2\", \"Topic2\", \"Topic2\", \"Topic2\", \"Topic2\", \"Topic2\", \"Topic2\", \"Topic2\", \"Topic2\", \"Topic2\", \"Topic2\", \"Topic2\", \"Topic2\", \"Topic2\", \"Topic2\", \"Topic2\", \"Topic2\", \"Topic2\", \"Topic2\", \"Topic2\", \"Topic2\", \"Topic2\", \"Topic2\", \"Topic2\", \"Topic2\", \"Topic2\", \"Topic2\", \"Topic2\", \"Topic2\", \"Topic2\", \"Topic2\", \"Topic2\", \"Topic2\", \"Topic2\", \"Topic2\", \"Topic2\", \"Topic2\", \"Topic2\", \"Topic2\", \"Topic2\", \"Topic2\", \"Topic2\", \"Topic2\", \"Topic2\", \"Topic2\", \"Topic2\", \"Topic2\", \"Topic2\", \"Topic2\", \"Topic2\", \"Topic2\", \"Topic2\", \"Topic2\", \"Topic2\", \"Topic3\", \"Topic3\", \"Topic3\", \"Topic3\", \"Topic3\", \"Topic3\", \"Topic3\", \"Topic3\", \"Topic3\", \"Topic3\", \"Topic3\", \"Topic3\", \"Topic3\", \"Topic3\", \"Topic3\", \"Topic3\", \"Topic3\", \"Topic3\", \"Topic3\", \"Topic3\", \"Topic3\", \"Topic3\", \"Topic3\", \"Topic3\", \"Topic3\", \"Topic3\", \"Topic3\", \"Topic3\", \"Topic3\", \"Topic3\", \"Topic3\", \"Topic3\", \"Topic3\", \"Topic3\", \"Topic3\", \"Topic3\", \"Topic3\", \"Topic3\", \"Topic3\", \"Topic3\", \"Topic3\", \"Topic3\", \"Topic3\", \"Topic3\", \"Topic3\", \"Topic3\", \"Topic3\", \"Topic3\", \"Topic3\", \"Topic3\", \"Topic3\", \"Topic3\", \"Topic3\", \"Topic3\", \"Topic3\", \"Topic3\", \"Topic3\", \"Topic3\", \"Topic3\", \"Topic3\", \"Topic3\", \"Topic3\", \"Topic3\", \"Topic3\"], \"logprob\": [30.0, 29.0, 28.0, 27.0, 26.0, 25.0, 24.0, 23.0, 22.0, 21.0, 20.0, 19.0, 18.0, 17.0, 16.0, 15.0, 14.0, 13.0, 12.0, 11.0, 10.0, 9.0, 8.0, 7.0, 6.0, 5.0, 4.0, 3.0, 2.0, 1.0, -3.869, -3.5067, -5.5321, -3.71, -5.5166, -5.8126, -6.244, -5.8728, -6.2249, -5.9866, -6.6643, -6.3025, -5.6013, -6.7953, -6.954, -6.9065, -6.7325, -6.3275, -5.1632, -6.5021, -5.3537, -7.2916, -5.5714, -7.2703, -7.3256, -4.7641, -5.7566, -7.2628, -7.477, -7.4358, -2.7308, -6.0799, -4.6152, -4.5525, -4.0303, -6.6262, -5.1865, -3.7393, -5.8639, -2.4421, -4.7565, -4.8792, -5.1821, -5.3486, -4.8967, -4.6253, -5.1834, -5.3342, -5.1238, -5.1815, -4.7927, -4.9542, -5.0585, -5.2463, -5.4745, -5.4112, -5.385, -5.4435, -6.4522, -6.2109, -6.3904, -6.5605, -6.6482, -6.6654, -6.7096, -6.9062, -6.6657, -6.967, -7.0347, -5.3745, -7.1479, -7.1321, -6.6801, -5.7587, -6.7517, -6.3969, -7.0608, -7.0724, -7.2694, -7.3091, -7.2357, -7.2497, -7.1789, -7.0341, -6.9023, -7.0995, -7.379, -6.7963, -4.2825, -5.5631, -5.1072, -6.2387, -4.5616, -5.8493, -5.7224, -6.4255, -5.3624, -5.4234, -4.467, -5.3722, -4.8432, -4.0398, -5.9991, -3.8822, -4.6578, -5.1356, -5.411, -5.3364, -5.2055, -5.8476, -5.8438, -6.024, -4.7618, -5.529, -4.8315, -3.0243, -5.3286, -5.5419, -5.4517, -4.9134, -5.5215, -5.246, -5.0699, -5.1892, -5.2874, -4.9462, -4.9842, -5.2388, -5.1716, -5.2421, -5.0865, -5.3505, -5.3227, -5.1812, -5.9031, -6.0328, -6.0735, -6.3332, -6.4359, -6.6062, -6.6702, -5.6523, -6.5396, -6.5674, -6.3726, -6.8502, -6.8861, -6.9636, -6.9116, -6.8881, -6.9577, -5.9243, -7.0076, -6.8116, -7.0204, -7.0091, -4.7277, -6.4672, -6.6944, -7.0455, -7.1538, -7.1075, -7.2171, -5.7716, -5.5124, -5.2422, -4.5446, -5.1692, -5.0304, -3.9035, -5.1178, -4.6459, -5.6556, -5.3432, -5.8496, -5.6999, -4.3288, -5.0654, -4.4081, -5.3526, -4.8485, -5.7723, -4.8472, -4.3587, -4.9839, -4.9237, -4.8294, -4.7437, -5.1017, -5.0134, -3.9774, -5.2871, -4.8883, -5.3833, -5.3099, -5.51, -5.5056], \"loglift\": [30.0, 29.0, 28.0, 27.0, 26.0, 25.0, 24.0, 23.0, 22.0, 21.0, 20.0, 19.0, 18.0, 17.0, 16.0, 15.0, 14.0, 13.0, 12.0, 11.0, 10.0, 9.0, 8.0, 7.0, 6.0, 5.0, 4.0, 3.0, 2.0, 1.0, 0.8802, 0.8765, 0.871, 0.8691, 0.869, 0.8649, 0.8581, 0.8556, 0.8531, 0.8522, 0.8482, 0.8457, 0.8428, 0.8412, 0.8379, 0.8378, 0.8359, 0.8289, 0.8289, 0.8267, 0.8221, 0.8204, 0.8199, 0.8182, 0.8159, 0.8159, 0.8156, 0.8141, 0.8117, 0.8111, 0.8071, 0.801, 0.7657, 0.7532, 0.6923, 0.7945, 0.7235, 0.601, 0.7522, 0.4217, 0.6235, 0.6344, 0.6615, 0.6623, 0.4654, 0.3067, 0.4984, 0.5416, 0.4472, 0.4693, 0.251, 0.1583, 0.1228, 0.1519, 0.4922, 0.1902, -0.3623, -0.4676, 1.049, 1.0444, 1.0428, 1.0426, 1.0404, 1.039, 1.0348, 1.0314, 1.0276, 1.0232, 1.0218, 1.019, 1.0177, 1.0167, 1.0139, 1.0105, 1.0087, 1.0077, 1.007, 1.0057, 1.0049, 1.0041, 1.0029, 1.0018, 1.0003, 0.9996, 0.9994, 0.9983, 0.995, 0.9942, 0.9794, 0.9765, 0.9595, 0.9796, 0.9107, 0.9582, 0.9332, 0.9693, 0.9, 0.8726, 0.7816, 0.8509, 0.793, 0.6749, 0.8966, 0.6304, 0.7066, 0.7312, 0.7753, 0.7511, 0.7133, 0.8397, 0.8356, 0.8774, 0.5329, 0.7434, 0.5247, -0.1604, 0.6414, 0.7211, 0.6183, 0.3249, 0.6425, 0.4588, 0.3265, 0.4013, 0.4641, 0.0975, 0.1283, 0.3691, 0.2693, 0.3554, -0.1106, 0.4942, -1.7847, 1.3733, 1.3631, 1.3622, 1.3538, 1.3419, 1.3384, 1.3376, 1.3353, 1.3338, 1.3335, 1.3291, 1.3264, 1.3232, 1.3195, 1.3189, 1.3179, 1.3168, 1.315, 1.3132, 1.3103, 1.3093, 1.3086, 1.3078, 1.307, 1.3047, 1.303, 1.3028, 1.2996, 1.2987, 1.2972, 1.2843, 1.2521, 1.2055, 1.1418, 1.1734, 1.1399, 0.9737, 1.0913, 0.9874, 1.1294, 0.9933, 1.0853, 1.0493, 0.694, 0.8614, 0.5678, 0.8937, 0.5709, 0.9711, 0.495, 0.154, 0.4125, 0.3146, 0.1026, -0.029, 0.2965, 0.168, -1.1136, 0.3208, -0.548, 0.3216, 0.131, 0.1737, -0.257]}, \"token.table\": {\"Topic\": [1, 2, 3, 1, 2, 3, 1, 1, 2, 2, 1, 2, 3, 2, 1, 2, 1, 1, 2, 3, 2, 1, 3, 1, 2, 3, 1, 2, 3, 1, 2, 3, 1, 2, 3, 3, 3, 1, 1, 2, 3, 1, 3, 1, 2, 3, 1, 2, 3, 1, 2, 3, 1, 2, 3, 1, 1, 2, 3, 2, 2, 3, 1, 2, 3, 2, 1, 1, 2, 3, 1, 2, 3, 1, 2, 3, 1, 2, 3, 3, 3, 1, 2, 3, 1, 3, 2, 3, 1, 2, 3, 1, 2, 3, 1, 2, 3, 1, 2, 3, 1, 2, 3, 1, 1, 2, 3, 2, 1, 2, 3, 1, 2, 3, 1, 2, 3, 1, 2, 3, 1, 2, 3, 1, 2, 3, 1, 2, 1, 2, 3, 3, 1, 2, 3, 1, 2, 3, 1, 3, 1, 1, 2, 3, 1, 2, 3, 1, 2, 3, 1, 2, 1, 2, 3, 1, 2, 3, 1, 1, 2, 3, 1, 2, 3, 1, 2, 3, 1, 2, 3, 1, 2, 3, 1, 3, 1, 1, 2, 3, 1, 2, 3, 1, 2, 3, 1, 2, 1, 2, 3, 2, 3, 1, 2, 3, 1, 1, 2, 3, 1, 2, 3, 3, 1, 2, 3, 2, 1, 2, 3, 1, 2, 3, 1, 2, 3, 3, 1, 2, 3, 2, 3, 1, 2, 3, 3, 1, 2, 3, 1, 2, 3, 1, 2, 3, 1, 2, 2, 1, 2, 3, 2, 2, 1, 2, 3, 3, 1, 2, 1, 3, 1, 2, 1, 1, 2, 3, 2, 3, 1, 2, 3, 1, 2, 3, 1, 2, 3, 1, 2, 3, 1, 3, 1, 2, 3, 1, 3, 1, 2, 3, 1, 2, 2, 1, 2, 3, 1, 2, 3, 2, 1, 2, 3, 2, 3, 1, 2, 3, 2, 3, 1, 1, 3, 1, 3, 3, 3, 2, 3, 3, 1, 2, 3, 1, 3, 3, 1, 3, 1, 2, 3, 1, 2, 3, 1, 2, 3, 1, 2, 3, 1, 2, 3, 2, 1, 2, 3, 1, 2, 3, 2, 2, 1, 2, 3, 2, 1, 2, 3, 3, 1, 2, 3, 1, 2, 3, 2, 1, 2, 3, 1, 2, 3, 2, 1, 2, 3, 1, 2, 3, 1, 2, 3, 1, 3, 1, 2, 3, 3, 1, 2, 3], \"Freq\": [0.04230719819867601, 0.16922879279470404, 0.7756319669757269, 0.06995893441294813, 0.06995893441294813, 0.9094661473683258, 0.9794979191048889, 0.080433507831691, 0.8847685861486009, 0.8722606397243126, 0.40744368271228326, 0.30341550840276416, 0.2947464938769709, 0.9700794601692507, 0.9668743992310164, 0.9250122321417906, 0.9384736023312845, 0.07525751487054255, 0.6343133396231443, 0.2902789859292355, 0.9041912673018015, 0.2492174930470561, 0.7329926266089885, 0.9852549465467763, 0.008617390203033029, 0.005744926802022019, 0.8255775269997571, 0.15251633028911174, 0.019893434385536316, 0.8478656048410823, 0.10870071856936953, 0.04348028742774781, 0.03814450818752163, 0.8773236883129976, 0.07628901637504326, 0.981859950374498, 0.9235480671475588, 0.9716175567094975, 0.22424213402596085, 0.6446961353246375, 0.14015133376622554, 0.08199227823700238, 0.9429111997255273, 0.3896657579331065, 0.5381098561933375, 0.07422204913011553, 0.0615708347655403, 0.01231416695310806, 0.9235625214831045, 0.12396395071765057, 0.5312740745042167, 0.34532814842774084, 0.6835256041384651, 0.11247889688354488, 0.20765334809269825, 0.911223330260347, 0.020403386163525727, 0.8977489911951319, 0.0816135446541029, 0.9573297901271477, 0.9089993997041317, 0.09089993997041317, 0.09097175329118813, 0.8983460637504828, 0.011371469161398516, 0.9456047098566259, 0.9829891010419745, 0.27201796772423764, 0.4420291975518862, 0.2856188661104495, 0.6304956783099981, 0.2878574531300565, 0.08165435833850795, 0.7143474446024427, 0.168081751671163, 0.12606131375337223, 0.20011459748566357, 0.1500859481142477, 0.6503724418284067, 0.9652379737657597, 0.9325537711012468, 0.06837781201729115, 0.034188906008645575, 0.888911556224785, 0.9941167295166422, 0.004722644795803526, 0.9266122378171434, 0.07127786444747257, 0.04729978343142482, 0.7804464266185095, 0.16554924200998686, 0.09370529834546809, 0.7184072873152554, 0.18741059669093618, 0.04798153182435772, 0.9116491046627967, 0.04798153182435772, 0.042991385003128824, 0.73085354505319, 0.22928738668335372, 0.28649566968095375, 0.21487175226071528, 0.4968909271029041, 0.9601908053183358, 0.014867973376129391, 0.7880025889348576, 0.19328365388968208, 0.9808633457684758, 0.8792074835954026, 0.0059405911053743415, 0.1128712310021125, 0.16875340531072205, 0.49018846304543073, 0.34554268706481184, 0.08788154598118822, 0.82022776249109, 0.08788154598118822, 0.662675652728386, 0.26003728145037935, 0.08388299401625139, 0.19472692264450187, 0.7139987163631736, 0.09087256390076753, 0.1877090277314864, 0.7742997393923814, 0.0234636284664358, 0.9432390896713749, 0.04491614712720833, 0.09540183833711526, 0.664523149796458, 0.24014945512446256, 0.9139339813797979, 0.0877334214302058, 0.6909006937628707, 0.21933355357551448, 0.0251611920689377, 0.2767731127583147, 0.7045133779302556, 0.9451931531269122, 0.03780772612507649, 0.9835979554247523, 0.46687021705141124, 0.2360579749136349, 0.29376103544807897, 0.6599230333287524, 0.20740438190332217, 0.1382695879355481, 0.6506318341614703, 0.13942110732031507, 0.20913166098047262, 0.9788080060669622, 0.03495742878810579, 0.12755805073076112, 0.6250344485807295, 0.24236029638844617, 0.23220970523268403, 0.11223469086246395, 0.6579274981592714, 0.8999531718079631, 0.04845664759615956, 0.9206763043270316, 0.04845664759615956, 0.024799593145827588, 0.7439877943748276, 0.23146286936105748, 0.9610769263222247, 0.024642998110826278, 0.9526339768371267, 0.9377725298537917, 0.007814771082114931, 0.05470339757480451, 0.9322925969605173, 0.017590426357745607, 0.052771279073236824, 0.020710531376380643, 0.9733949746898902, 0.9279081200816905, 0.7825100504227882, 0.13895038278535493, 0.08044495845467917, 0.19435764356043986, 0.4664583445450557, 0.3387376073481952, 0.12492220108888179, 0.6974822894129233, 0.16656293478517573, 0.9643124299623965, 0.037088939613938325, 0.13917616517464024, 0.8350569910478414, 0.030928036705475608, 0.9405908017986573, 0.9715806304985314, 0.7532946038156915, 0.10179656808320155, 0.14251519531648216, 0.9775911590486014, 0.1439219317681833, 0.8155576133530388, 0.047973977256061104, 0.8810070871478691, 0.044050354357393455, 0.08810070871478691, 0.9662487987782618, 0.1846859287420716, 0.6464007505972506, 0.17314305819569212, 0.9655674752797118, 0.4847570531009728, 0.3819297994128877, 0.13220646902753805, 0.35117504760047796, 0.2464386298950723, 0.40662373932686924, 0.16292489541074157, 0.5498715220112528, 0.2749357610056264, 0.9407069412262805, 0.14035547736067577, 0.8421328641640546, 0.021053321604101366, 0.9241243040891923, 0.051340239116066236, 0.3061728557544731, 0.5686067321154501, 0.12496851255284618, 0.9289023009489237, 0.28200862644241065, 0.5757676123199217, 0.14100431322120532, 0.8056388544128316, 0.060122302568121753, 0.13226906564986787, 0.04995832430780448, 0.2830971710775587, 0.6661109907707264, 0.06915861876474153, 0.8990620439416398, 0.9082340231198012, 0.9440204124759687, 0.023600510311899216, 0.023600510311899216, 0.952953771973359, 0.959933790629799, 0.5029950220442568, 0.3353300146961712, 0.1676650073480856, 0.884543084848062, 0.9356195653816155, 0.049243135020085024, 0.08766244387315565, 0.8766244387315565, 0.9185011154537942, 0.05740631971586214, 0.996825232044841, 0.9631763800857623, 0.027519325145307492, 0.9704530685233147, 0.8706660069800223, 0.1374735800494772, 0.9749308798539578, 0.03749734153284453, 0.9680999769125058, 0.18253531751641536, 0.05215294786183296, 0.7562177439965779, 0.2764035291052022, 0.505423596078084, 0.2132255795954417, 0.14564896048976833, 0.8156341787427026, 0.029129792097953664, 0.06504436605968889, 0.9106211248356444, 0.7741840263630978, 0.15995537734774748, 0.063982150939099, 0.927416402075442, 0.06323293650514378, 0.10708877384746962, 0.6866280205514228, 0.20787820805685278, 0.06471641720509975, 0.9060298408713965, 0.9299332726063194, 0.9268951497875859, 0.05679007482287178, 0.016225735663677653, 0.01105507446638144, 0.39798268078973187, 0.5859189467182163, 0.9461953646769365, 0.678780341096473, 0.2761140370561924, 0.04601900617603207, 0.9501916868399822, 0.8926664964580864, 0.03525664228792182, 0.9343010206299283, 0.03525664228792182, 0.8925684064900428, 0.972097394857794, 0.9976574572451964, 0.9527702807692977, 0.9509282360516952, 0.03188644169826096, 0.9565932509478287, 0.9770158407381877, 0.8819336611384052, 0.9559079456984939, 0.07965899547487448, 0.9235400624455211, 0.8902041470459043, 0.10246954210600338, 0.0064043463816252115, 0.18429498855363577, 0.8041963136885923, 0.9598820490391665, 0.9491183000319355, 0.8715399323058778, 0.22823752018778076, 0.15215834679185383, 0.6086333871674153, 0.1674986222826836, 0.018610958031409292, 0.8374931114134181, 0.33402744741588153, 0.48513510219925654, 0.18291979263250657, 0.10668580636111104, 0.880157902479166, 0.02667145159027776, 0.9358591733584471, 0.028359368889649916, 0.028359368889649916, 0.9616604669953701, 0.15610529301983792, 0.4683158790595137, 0.37725445813127495, 0.05109298472546255, 0.07663947708819382, 0.8685807403328634, 0.96071326720492, 0.9473005708730031, 0.48214526798555546, 0.18243334464318314, 0.3322893063143693, 0.9178949661549579, 0.03029350861274276, 0.24234806890194208, 0.7270442067058263, 0.9707927807215183, 0.5600656313362337, 0.16352281206897332, 0.2739007102155303, 0.80363723066141, 0.1525893475939386, 0.05086311586464621, 0.9334101268606988, 0.06732640490532119, 0.7405904539585331, 0.19075814723174336, 0.09283542485274611, 0.6962656863955958, 0.21661599132307427, 0.8943047873439084, 0.20860667032735153, 0.01738388919394596, 0.7822750137275682, 0.07419010430918836, 0.25554369262053767, 0.6677109387826952, 0.5302378246258118, 0.37482328982169455, 0.09599133032019007, 0.9703648307444864, 0.057080284161440384, 0.2862039100439694, 0.2795480051592259, 0.4392897223930693, 0.9417801599261327, 0.2605654441674406, 0.30328109075226695, 0.43997115982371116], \"Term\": [\"5\", \"5\", \"5\", \"account\", \"account\", \"account\", \"ai\", \"almost\", \"almost\", \"along\", \"also\", \"also\", \"also\", \"amount\", \"analysis\", \"anyway\", \"approximately\", \"assignment\", \"assignment\", \"assignment\", \"author\", \"awesome\", \"awesome\", \"basic\", \"basic\", \"basic\", \"beginner\", \"beginner\", \"beginner\", \"best\", \"best\", \"best\", \"bit\", \"bit\", \"bit\", \"bucket\", \"c\", \"career\", \"challenge\", \"challenge\", \"challenge\", \"change\", \"change\", \"clear\", \"clear\", \"clear\", \"cloud\", \"cloud\", \"cloud\", \"code\", \"code\", \"code\", \"concept\", \"concept\", \"concept\", \"confidence\", \"confuse\", \"confuse\", \"confuse\", \"confusing\", \"consider\", \"consider\", \"content\", \"content\", \"content\", \"cool\", \"core\", \"could\", \"could\", \"could\", \"course\", \"course\", \"course\", \"coursera\", \"coursera\", \"coursera\", \"create\", \"create\", \"create\", \"credential\", \"credit\", \"dashboard\", \"dashboard\", \"dashboard\", \"data\", \"data\", \"decent\", \"decent\", \"didnt\", \"didnt\", \"didnt\", \"difficult\", \"difficult\", \"difficult\", \"difficulty\", \"difficulty\", \"difficulty\", \"dont\", \"dont\", \"dont\", \"easy\", \"easy\", \"easy\", \"effective\", \"error\", \"error\", \"error\", \"examples\", \"excellent\", \"excellent\", \"excellent\", \"exercise\", \"exercise\", \"exercise\", \"expect\", \"expect\", \"expect\", \"experience\", \"experience\", \"experience\", \"explanation\", \"explanation\", \"explanation\", \"fast\", \"fast\", \"fast\", \"field\", \"field\", \"final\", \"final\", \"final\", \"finally\", \"find\", \"find\", \"find\", \"forum\", \"forum\", \"forum\", \"foundation\", \"foundation\", \"fundamental\", \"get\", \"get\", \"get\", \"give\", \"give\", \"give\", \"help\", \"help\", \"help\", \"highly\", \"highly\", \"however\", \"however\", \"however\", \"ibm\", \"ibm\", \"ibm\", \"insight\", \"instead\", \"instead\", \"instead\", \"instruction\", \"instruction\", \"instruction\", \"interesting\", \"interesting\", \"interface\", \"introduction\", \"introduction\", \"introduction\", \"introductory\", \"introductory\", \"introductory\", \"issue\", \"issue\", \"journey\", \"knowledge\", \"knowledge\", \"knowledge\", \"lab\", \"lab\", \"lab\", \"labs\", \"labs\", \"labs\", \"language\", \"language\", \"last\", \"last\", \"last\", \"later\", \"leap\", \"learn\", \"learn\", \"learn\", \"learnt\", \"lesson\", \"lesson\", \"lesson\", \"library\", \"library\", \"library\", \"line\", \"little\", \"little\", \"little\", \"long\", \"lot\", \"lot\", \"lot\", \"make\", \"make\", \"make\", \"many\", \"many\", \"many\", \"mark\", \"material\", \"material\", \"material\", \"mistake\", \"mistake\", \"much\", \"much\", \"much\", \"multiple\", \"need\", \"need\", \"need\", \"new\", \"new\", \"new\", \"notebook\", \"notebook\", \"notebook\", \"notebooks\", \"notebooks\", \"number\", \"numpy\", \"numpy\", \"numpy\", \"often\", \"ok\", \"one\", \"one\", \"one\", \"open\", \"opportunity\", \"opportunity\", \"optional\", \"optional\", \"overview\", \"overview\", \"panda\", \"pandas\", \"pandas\", \"pay\", \"peer\", \"peer\", \"perfect\", \"perfect\", \"personal\", \"platform\", \"platform\", \"platform\", \"practice\", \"practice\", \"practice\", \"present\", \"present\", \"present\", \"presentation\", \"presentation\", \"program\", \"program\", \"program\", \"programming\", \"programming\", \"project\", \"project\", \"project\", \"proper\", \"proper\", \"properly\", \"python\", \"python\", \"python\", \"question\", \"question\", \"question\", \"r\", \"recommend\", \"recommend\", \"recommend\", \"relevant\", \"response\", \"review\", \"review\", \"review\", \"robotic\", \"save\", \"science\", \"scientist\", \"sense\", \"service\", \"service\", \"sign\", \"specific\", \"spell\", \"spell\", \"stage\", \"start\", \"start\", \"start\", \"step\", \"step\", \"storage\", \"strong\", \"stuck\", \"student\", \"student\", \"student\", \"studio\", \"studio\", \"studio\", \"take\", \"take\", \"take\", \"task\", \"task\", \"task\", \"thanks\", \"thanks\", \"thanks\", \"till\", \"time\", \"time\", \"time\", \"tutorial\", \"tutorial\", \"tutorial\", \"typos\", \"unclear\", \"understand\", \"understand\", \"understand\", \"unfortunately\", \"update\", \"update\", \"update\", \"upload\", \"use\", \"use\", \"use\", \"useful\", \"useful\", \"useful\", \"vague\", \"video\", \"video\", \"video\", \"videos\", \"videos\", \"videos\", \"wait\", \"watson\", \"watson\", \"watson\", \"week\", \"week\", \"week\", \"well\", \"well\", \"well\", \"wonderful\", \"wonderful\", \"work\", \"work\", \"work\", \"worth\", \"would\", \"would\", \"would\"]}, \"R\": 30, \"lambda.step\": 0.01, \"plot.opts\": {\"xlab\": \"PC1\", \"ylab\": \"PC2\"}, \"topic.order\": [1, 2, 3]};\n",
       "\n",
       "function LDAvis_load_lib(url, callback){\n",
       "  var s = document.createElement('script');\n",
       "  s.src = url;\n",
       "  s.async = true;\n",
       "  s.onreadystatechange = s.onload = callback;\n",
       "  s.onerror = function(){console.warn(\"failed to load library \" + url);};\n",
       "  document.getElementsByTagName(\"head\")[0].appendChild(s);\n",
       "}\n",
       "\n",
       "if(typeof(LDAvis) !== \"undefined\"){\n",
       "   // already loaded: just create the visualization\n",
       "   !function(LDAvis){\n",
       "       new LDAvis(\"#\" + \"ldavis_el386551402421108077607525375336\", ldavis_el386551402421108077607525375336_data);\n",
       "   }(LDAvis);\n",
       "}else if(typeof define === \"function\" && define.amd){\n",
       "   // require.js is available: use it to load d3/LDAvis\n",
       "   require.config({paths: {d3: \"https://d3js.org/d3.v5\"}});\n",
       "   require([\"d3\"], function(d3){\n",
       "      window.d3 = d3;\n",
       "      LDAvis_load_lib(\"https://cdn.jsdelivr.net/gh/bmabey/pyLDAvis@3.2.2/pyLDAvis/js/ldavis.v3.0.0.js\", function(){\n",
       "        new LDAvis(\"#\" + \"ldavis_el386551402421108077607525375336\", ldavis_el386551402421108077607525375336_data);\n",
       "      });\n",
       "    });\n",
       "}else{\n",
       "    // require.js not available: dynamically load d3 & LDAvis\n",
       "    LDAvis_load_lib(\"https://d3js.org/d3.v5.js\", function(){\n",
       "         LDAvis_load_lib(\"https://cdn.jsdelivr.net/gh/bmabey/pyLDAvis@3.2.2/pyLDAvis/js/ldavis.v3.0.0.js\", function(){\n",
       "                 new LDAvis(\"#\" + \"ldavis_el386551402421108077607525375336\", ldavis_el386551402421108077607525375336_data);\n",
       "            })\n",
       "         });\n",
       "}\n",
       "</script>"
      ],
      "text/plain": [
       "PreparedData(topic_coordinates=              x         y  topics  cluster       Freq\n",
       "topic                                                \n",
       "0     -0.154174  0.018408       1        1  41.354041\n",
       "1      0.054767 -0.104566       2        1  33.807940\n",
       "2      0.099407  0.086158       3        1  24.838018, topic_info=        Term        Freq       Total Category  logprob  loglift\n",
       "15    python  986.000000  986.000000  Default  30.0000  30.0000\n",
       "99      data  423.000000  423.000000  Default  29.0000  29.0000\n",
       "13     basic  348.000000  348.000000  Default  28.0000  28.0000\n",
       "107  science  293.000000  293.000000  Default  27.0000  27.0000\n",
       "56       ibm  258.000000  258.000000  Default  26.0000  26.0000\n",
       "..       ...         ...         ...      ...      ...      ...\n",
       "14     learn   63.475011  442.058125   Topic3  -4.8883  -0.5480\n",
       "40      code   38.691284  112.936059   Topic3  -5.3833   0.3216\n",
       "318    could   41.638297  147.049110   Topic3  -5.3099   0.1310\n",
       "364     also   34.086602  115.353365   Topic3  -5.5100   0.1737\n",
       "159    video   34.237179  178.236162   Topic3  -5.5056  -0.2570\n",
       "\n",
       "[227 rows x 6 columns], token_table=      Topic      Freq     Term\n",
       "term                          \n",
       "162       1  0.042307        5\n",
       "162       2  0.169229        5\n",
       "162       3  0.775632        5\n",
       "1625      1  0.069959  account\n",
       "1625      2  0.069959  account\n",
       "...     ...       ...      ...\n",
       "354       3  0.439290     work\n",
       "967       3  0.941780    worth\n",
       "96        1  0.260565    would\n",
       "96        2  0.303281    would\n",
       "96        3  0.439971    would\n",
       "\n",
       "[384 rows x 3 columns], R=30, lambda_step=0.01, plot_opts={'xlab': 'PC1', 'ylab': 'PC2'}, topic_order=[1, 2, 3])"
      ]
     },
     "execution_count": 41,
     "metadata": {},
     "output_type": "execute_result"
    }
   ],
   "source": [
    "# Visualize the topics\n",
    "pyLDAvis.enable_notebook()\n",
    "vis = pyLDAvis.gensim.prepare(lda_model, corpus, dictionary)\n",
    "vis"
   ]
  },
  {
   "cell_type": "markdown",
   "metadata": {},
   "source": [
    "What is topic perplexity and topic coherence: https://towardsdatascience.com/evaluate-topic-model-in-python-latent-dirichlet-allocation-lda-7d57484bb5d0"
   ]
  },
  {
   "cell_type": "code",
   "execution_count": 42,
   "metadata": {},
   "outputs": [
    {
     "name": "stdout",
     "output_type": "stream",
     "text": [
      "\n",
      "Perplexity:  -6.75087074680192\n",
      "\n",
      "Coherence Score:  0.5933257256920806\n"
     ]
    }
   ],
   "source": [
    "# Calculate Perplexity and Coherence\n",
    "\n",
    "# Compute Perplexity\n",
    "\n",
    "print('\\nPerplexity: ', lda_model.log_perplexity(corpus))  # a measure of how good the model is. The lower the better.\n",
    "\n",
    "# Compute Coherence Score\n",
    "\n",
    "coherence_model_lda = CoherenceModel(model = lda_model, texts = df['preprocessed'], dictionary = dictionary, coherence = 'c_v')\n",
    "coherence_lda = coherence_model_lda.get_coherence()\n",
    "print('\\nCoherence Score: ', coherence_lda)"
   ]
  },
  {
   "cell_type": "markdown",
   "metadata": {},
   "source": [
    "## Hyperparameter Tuning\n",
    "\n",
    "Code references\n",
    "\n",
    "Find the optimal number of topics, alpha and beta: https://towardsdatascience.com/evaluate-topic-model-in-python-latent-dirichlet-allocation-lda-7d57484bb5d0\n",
    "\n",
    "What is alpha and beta: https://www.thoughtvector.io/blog/lda-alpha-and-beta-parameters-the-intuition/"
   ]
  },
  {
   "cell_type": "markdown",
   "metadata": {},
   "source": [
    "## Calculate the coherence score\n",
    "\n",
    "Code reference: \n",
    "\n",
    "https://www.machinelearningplus.com/nlp/topic-modeling-gensim-python/#17howtofindtheoptimalnumberoftopicsforlda"
   ]
  },
  {
   "cell_type": "code",
   "execution_count": 33,
   "metadata": {},
   "outputs": [],
   "source": [
    "# Determine the optiomal number of topics by calculating the coherence score\n",
    "\n",
    "# Define function for calculating coherence score\n",
    "\n",
    "def compute_coherence_values(dictionary, corpus, texts, limit, start = 2, step = 3):\n",
    "    \"\"\"\n",
    "    Compute c_v coherence for various number of topics\n",
    "\n",
    "    Parameters:\n",
    "    ----------\n",
    "    dictionary : Gensim dictionary\n",
    "    corpus : Gensim corpus\n",
    "    texts : List of input texts\n",
    "    limit : Max num of topics\n",
    "\n",
    "    Returns:\n",
    "    -------\n",
    "    model_list : List of LDA topic models\n",
    "    coherence_values : Coherence values corresponding to the LDA model with respective number of topics\n",
    "    \"\"\"\n",
    "    coherence_values = []\n",
    "    model_list = []\n",
    "    for num_topics in range(start, limit, step):\n",
    "        model = LDA(corpus = corpus, num_topics = num_topics, id2word = dictionary, random_state = 100,\n",
    "                chunksize = 100, passes = 10)\n",
    "        model_list.append(model)\n",
    "        coherencemodel = CoherenceModel(model = model, texts = texts, dictionary = dictionary, coherence = 'c_v')\n",
    "        coherence_values.append(coherencemodel.get_coherence())\n",
    "\n",
    "    return model_list, coherence_values"
   ]
  },
  {
   "cell_type": "code",
   "execution_count": 34,
   "metadata": {},
   "outputs": [],
   "source": [
    "# Can take a long time to run.\n",
    "\n",
    "model_list, coherence_values = compute_coherence_values(dictionary = dictionary, corpus = corpus, texts = df['preprocessed'], start = 2, limit = 10, step = 1)"
   ]
  },
  {
   "cell_type": "code",
   "execution_count": 35,
   "metadata": {},
   "outputs": [
    {
     "data": {
      "image/png": "[encoded data removed]",
      "text/plain": [
       "<Figure size 432x288 with 1 Axes>"
      ]
     },
     "metadata": {
      "needs_background": "light"
     },
     "output_type": "display_data"
    }
   ],
   "source": [
    "# Show graph\n",
    "\n",
    "limit = 10; start = 2; step = 1;\n",
    "x = range(start, limit, step)\n",
    "plt.plot(x, coherence_values)\n",
    "plt.xlabel(\"Num Topics\")\n",
    "plt.ylabel(\"Coherence score\")\n",
    "plt.legend((\"coherence_values\"), loc = 'best')\n",
    "plt.show()\n"
   ]
  },
  {
   "cell_type": "code",
   "execution_count": 36,
   "metadata": {},
   "outputs": [
    {
     "name": "stdout",
     "output_type": "stream",
     "text": [
      "Num Topics = 2  has Coherence Value of 0.5788\n",
      "Num Topics = 3  has Coherence Value of 0.5782\n",
      "Num Topics = 4  has Coherence Value of 0.5182\n",
      "Num Topics = 5  has Coherence Value of 0.5504\n",
      "Num Topics = 6  has Coherence Value of 0.5381\n",
      "Num Topics = 7  has Coherence Value of 0.5346\n",
      "Num Topics = 8  has Coherence Value of 0.5465\n",
      "Num Topics = 9  has Coherence Value of 0.5486\n"
     ]
    }
   ],
   "source": [
    "# Print the coherence scores\n",
    "\n",
    "for m, cv in zip(x, coherence_values):\n",
    "    print(\"Num Topics =\", m, \" has Coherence Value of\", round(cv, 4))"
   ]
  },
  {
   "cell_type": "markdown",
   "metadata": {},
   "source": [
    "## LDA Mallet Model\n",
    "\n",
    "Code reference:\n",
    "\n",
    "https://www.machinelearningplus.com/nlp/topic-modeling-gensim-python/#17howtofindtheoptimalnumberoftopicsforlda"
   ]
  },
  {
   "cell_type": "code",
   "execution_count": 37,
   "metadata": {},
   "outputs": [],
   "source": [
    "mallet_path = '/Users/siriamanda/Desktop/LNU-VT-2021/Thesis/11-data-analysis/mallet-2.0.8/bin/mallet' # update this path\n",
    "ldamallet = gensim.models.wrappers.LdaMallet(mallet_path, corpus = corpus, num_topics = 5, id2word = dictionary)"
   ]
  },
  {
   "cell_type": "code",
   "execution_count": 38,
   "metadata": {},
   "outputs": [
    {
     "name": "stdout",
     "output_type": "stream",
     "text": [
      "[(0,\n",
      "  [('lab', 0.04222001982160555),\n",
      "   ('make', 0.03528245787908821),\n",
      "   ('give', 0.03270564915758176),\n",
      "   ('exercise', 0.02973240832507433),\n",
      "   ('knowledge', 0.02854311199207136),\n",
      "   ('explain', 0.02834489593657086),\n",
      "   ('experience', 0.02834489593657086),\n",
      "   ('practice', 0.025173439048562934),\n",
      "   ('thing', 0.021407333994053517),\n",
      "   ('clear', 0.021209117938553023)]),\n",
      " (1,\n",
      "  [('learn', 0.10608875128998968),\n",
      "   ('beginner', 0.06831785345717234),\n",
      "   ('easy', 0.04871001031991744),\n",
      "   ('lot', 0.04871001031991744),\n",
      "   ('understand', 0.03756449948400413),\n",
      "   ('content', 0.03673890608875129),\n",
      "   ('concept', 0.02868937048503612),\n",
      "   ('helpful', 0.028070175438596492),\n",
      "   ('explanation', 0.018988648090815272),\n",
      "   ('level', 0.01609907120743034)]),\n",
      " (2,\n",
      "  [('ibm', 0.06191477164150583),\n",
      "   ('work', 0.0301930059239442),\n",
      "   ('watson', 0.029046436078731128),\n",
      "   ('project', 0.028090961207720238),\n",
      "   ('instruction', 0.026944391362507165),\n",
      "   ('cloud', 0.019300592394420026),\n",
      "   ('part', 0.01758073762660042),\n",
      "   ('class', 0.014332123065163386),\n",
      "   ('notebook', 0.013376648194152494),\n",
      "   ('studio', 0.013376648194152494)]),\n",
      " (3,\n",
      "  [('python', 0.2054421768707483),\n",
      "   ('data', 0.09815354713313897),\n",
      "   ('basic', 0.07308066083576288),\n",
      "   ('science', 0.0662779397473275),\n",
      "   ('start', 0.03576287657920311),\n",
      "   ('excellent', 0.0347910592808552),\n",
      "   ('program', 0.03440233236151603),\n",
      "   ('introduction', 0.024295432458697766),\n",
      "   ('recommend', 0.0184645286686103),\n",
      "   ('ai', 0.015549076773566569)]),\n",
      " (4,\n",
      "  [('assignment', 0.06611250724917843),\n",
      "   ('final', 0.05490044461627682),\n",
      "   ('video', 0.03711579354339842),\n",
      "   ('time', 0.03286294219988401),\n",
      "   ('material', 0.03286294219988401),\n",
      "   ('week', 0.02551710806108641),\n",
      "   ('code', 0.02397061666344481),\n",
      "   ('complete', 0.021070945292866808),\n",
      "   ('labs', 0.02010438816934081),\n",
      "   ('find', 0.019524453895225207)])]\n",
      "\n",
      "Coherence Score:  0.46797234234037066\n"
     ]
    }
   ],
   "source": [
    "# Show Topics\n",
    "pprint(ldamallet.show_topics(formatted = False))\n",
    "\n",
    "# Compute Coherence Score\n",
    "coherence_model_ldamallet = CoherenceModel(model = ldamallet, texts = df['preprocessed'], dictionary = dictionary, coherence = 'c_v')\n",
    "coherence_ldamallet = coherence_model_ldamallet.get_coherence()\n",
    "print('\\nCoherence Score: ', coherence_ldamallet)\n",
    "\n",
    "# The coherence score using the Mallet Model is lower than the original LDA Model"
   ]
  },
  {
   "cell_type": "code",
   "execution_count": null,
   "metadata": {},
   "outputs": [],
   "source": []
  },
  {
   "cell_type": "code",
   "execution_count": null,
   "metadata": {},
   "outputs": [],
   "source": []
  }
 ],
 "metadata": {
  "kernelspec": {
   "display_name": "Python 3",
   "language": "python",
   "name": "python3"
  },
  "language_info": {
   "codemirror_mode": {
    "name": "ipython",
    "version": 3
   },
   "file_extension": ".py",
   "mimetype": "text/x-python",
   "name": "python",
   "nbconvert_exporter": "python",
   "pygments_lexer": "ipython3",
   "version": "3.7.6"
  }
 },
 "nbformat": 4,
 "nbformat_minor": 4
}
