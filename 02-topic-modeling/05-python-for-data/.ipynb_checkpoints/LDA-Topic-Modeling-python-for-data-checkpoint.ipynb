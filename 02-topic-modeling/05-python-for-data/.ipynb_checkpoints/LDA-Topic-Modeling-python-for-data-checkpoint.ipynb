{
 "cells": [
  {
   "cell_type": "code",
   "execution_count": 1,
   "metadata": {},
   "outputs": [
    {
     "name": "stderr",
     "output_type": "stream",
     "text": [
      "/Users/siriamanda/opt/anaconda3/lib/python3.7/site-packages/scipy/sparse/sparsetools.py:21: DeprecationWarning: `scipy.sparse.sparsetools` is deprecated!\n",
      "scipy.sparse.sparsetools is a private module for scipy.sparse, and should not be used.\n",
      "  _deprecated()\n",
      "/Users/siriamanda/opt/anaconda3/lib/python3.7/site-packages/nltk/decorators.py:70: DeprecationWarning: `formatargspec` is deprecated since Python 3.5. Use `signature` and the `Signature` object directly\n",
      "  formatvalue=lambda value: \"\")[1:-1]\n"
     ]
    }
   ],
   "source": [
    "# Import the libraries\n",
    "\n",
    "import pandas as pd \n",
    "import numpy as np\n",
    "\n",
    "from pprint import pprint\n",
    "\n",
    "# libraries for visualization\n",
    "import pyLDAvis\n",
    "import pyLDAvis.gensim\n",
    "import matplotlib.pyplot as plt\n",
    "import seaborn as sns\n",
    "%matplotlib inline\n",
    "\n",
    "import re\n",
    "\n",
    "import spacy\n",
    "\n",
    "import gensim\n",
    "from gensim import corpora, models\n",
    "from gensim.utils import simple_preprocess\n",
    "from gensim.models import CoherenceModel\n",
    "\n",
    "import nltk\n",
    "from nltk import FreqDist\n",
    "from nltk.corpus import stopwords\n",
    "from nltk.tokenize import RegexpTokenizer\n",
    "from nltk.stem import WordNetLemmatizer, SnowballStemmer\n",
    "from nltk.tag import pos_tag, pos_tag_sents\n",
    "from nltk.corpus import wordnet\n",
    "\n",
    "import warnings\n",
    "warnings.filterwarnings(\"ignore\")\n"
   ]
  },
  {
   "cell_type": "markdown",
   "metadata": {},
   "source": [
    "Code references:\n",
    "\n",
    "https://www.analyticsvidhya.com/blog/2018/10/mining-online-reviews-topic-modeling-lda/\n"
   ]
  },
  {
   "cell_type": "code",
   "execution_count": 2,
   "metadata": {},
   "outputs": [],
   "source": [
    "df = pd.read_csv('/Users/siriamanda/Desktop/LNU-VT-2021/Thesis/11-data-analysis/sentiment-analysis-of-reviews/01-sentiment-analysis/05-python-for-data/VADER-python-for-data.csv')\n"
   ]
  },
  {
   "cell_type": "code",
   "execution_count": 3,
   "metadata": {},
   "outputs": [
    {
     "data": {
      "text/html": [
       "<div>\n",
       "<style scoped>\n",
       "    .dataframe tbody tr th:only-of-type {\n",
       "        vertical-align: middle;\n",
       "    }\n",
       "\n",
       "    .dataframe tbody tr th {\n",
       "        vertical-align: top;\n",
       "    }\n",
       "\n",
       "    .dataframe thead th {\n",
       "        text-align: right;\n",
       "    }\n",
       "</style>\n",
       "<table border=\"1\" class=\"dataframe\">\n",
       "  <thead>\n",
       "    <tr style=\"text-align: right;\">\n",
       "      <th></th>\n",
       "      <th>Unnamed: 0</th>\n",
       "      <th>date</th>\n",
       "      <th>review</th>\n",
       "      <th>rating</th>\n",
       "      <th>status</th>\n",
       "      <th>length</th>\n",
       "      <th>label</th>\n",
       "      <th>language_scores</th>\n",
       "      <th>language</th>\n",
       "      <th>scores</th>\n",
       "      <th>compound</th>\n",
       "      <th>sentiment</th>\n",
       "    </tr>\n",
       "  </thead>\n",
       "  <tbody>\n",
       "    <tr>\n",
       "      <th>0</th>\n",
       "      <td>0</td>\n",
       "      <td>2021-03-11</td>\n",
       "      <td>Interesting and clear, the difficulty in the e...</td>\n",
       "      <td>4</td>\n",
       "      <td>completer</td>\n",
       "      <td>186</td>\n",
       "      <td>pos</td>\n",
       "      <td>{'language': 'en', 'score': 0.9999988844000527}</td>\n",
       "      <td>en</td>\n",
       "      <td>{'neg': 0.146, 'neu': 0.505, 'pos': 0.35, 'com...</td>\n",
       "      <td>0.7957</td>\n",
       "      <td>pos</td>\n",
       "    </tr>\n",
       "    <tr>\n",
       "      <th>1</th>\n",
       "      <td>1</td>\n",
       "      <td>2021-03-11</td>\n",
       "      <td>great, i have learned basics of python from th...</td>\n",
       "      <td>5</td>\n",
       "      <td>completer</td>\n",
       "      <td>56</td>\n",
       "      <td>pos</td>\n",
       "      <td>{'language': 'en', 'score': 0.9999970049413354}</td>\n",
       "      <td>en</td>\n",
       "      <td>{'neg': 0.0, 'neu': 0.661, 'pos': 0.339, 'comp...</td>\n",
       "      <td>0.6249</td>\n",
       "      <td>pos</td>\n",
       "    </tr>\n",
       "    <tr>\n",
       "      <th>2</th>\n",
       "      <td>2</td>\n",
       "      <td>2021-03-10</td>\n",
       "      <td>Recommended</td>\n",
       "      <td>5</td>\n",
       "      <td>completer</td>\n",
       "      <td>11</td>\n",
       "      <td>pos</td>\n",
       "      <td>{'language': 'en', 'score': 0.8571409981818681}</td>\n",
       "      <td>en</td>\n",
       "      <td>{'neg': 0.0, 'neu': 0.0, 'pos': 1.0, 'compound...</td>\n",
       "      <td>0.2023</td>\n",
       "      <td>pos</td>\n",
       "    </tr>\n",
       "    <tr>\n",
       "      <th>3</th>\n",
       "      <td>3</td>\n",
       "      <td>2021-03-10</td>\n",
       "      <td>excellent</td>\n",
       "      <td>5</td>\n",
       "      <td>completer</td>\n",
       "      <td>9</td>\n",
       "      <td>pos</td>\n",
       "      <td>{'language': 'ca', 'score': 0.8571389147750391}</td>\n",
       "      <td>ca</td>\n",
       "      <td>{'neg': 0.0, 'neu': 0.0, 'pos': 1.0, 'compound...</td>\n",
       "      <td>0.5719</td>\n",
       "      <td>pos</td>\n",
       "    </tr>\n",
       "    <tr>\n",
       "      <th>4</th>\n",
       "      <td>4</td>\n",
       "      <td>2021-03-10</td>\n",
       "      <td>Tamada sir is my biggest inspiration to comple...</td>\n",
       "      <td>5</td>\n",
       "      <td>completer</td>\n",
       "      <td>102</td>\n",
       "      <td>pos</td>\n",
       "      <td>{'language': 'en', 'score': 0.9999982800455944}</td>\n",
       "      <td>en</td>\n",
       "      <td>{'neg': 0.0, 'neu': 0.825, 'pos': 0.175, 'comp...</td>\n",
       "      <td>0.5267</td>\n",
       "      <td>pos</td>\n",
       "    </tr>\n",
       "  </tbody>\n",
       "</table>\n",
       "</div>"
      ],
      "text/plain": [
       "   Unnamed: 0        date                                             review  \\\n",
       "0           0  2021-03-11  Interesting and clear, the difficulty in the e...   \n",
       "1           1  2021-03-11  great, i have learned basics of python from th...   \n",
       "2           2  2021-03-10                                        Recommended   \n",
       "3           3  2021-03-10                                          excellent   \n",
       "4           4  2021-03-10  Tamada sir is my biggest inspiration to comple...   \n",
       "\n",
       "   rating     status  length label  \\\n",
       "0       4  completer     186   pos   \n",
       "1       5  completer      56   pos   \n",
       "2       5  completer      11   pos   \n",
       "3       5  completer       9   pos   \n",
       "4       5  completer     102   pos   \n",
       "\n",
       "                                   language_scores language  \\\n",
       "0  {'language': 'en', 'score': 0.9999988844000527}       en   \n",
       "1  {'language': 'en', 'score': 0.9999970049413354}       en   \n",
       "2  {'language': 'en', 'score': 0.8571409981818681}       en   \n",
       "3  {'language': 'ca', 'score': 0.8571389147750391}       ca   \n",
       "4  {'language': 'en', 'score': 0.9999982800455944}       en   \n",
       "\n",
       "                                              scores  compound sentiment  \n",
       "0  {'neg': 0.146, 'neu': 0.505, 'pos': 0.35, 'com...    0.7957       pos  \n",
       "1  {'neg': 0.0, 'neu': 0.661, 'pos': 0.339, 'comp...    0.6249       pos  \n",
       "2  {'neg': 0.0, 'neu': 0.0, 'pos': 1.0, 'compound...    0.2023       pos  \n",
       "3  {'neg': 0.0, 'neu': 0.0, 'pos': 1.0, 'compound...    0.5719       pos  \n",
       "4  {'neg': 0.0, 'neu': 0.825, 'pos': 0.175, 'comp...    0.5267       pos  "
      ]
     },
     "execution_count": 3,
     "metadata": {},
     "output_type": "execute_result"
    }
   ],
   "source": [
    "df.head()"
   ]
  },
  {
   "cell_type": "code",
   "execution_count": 4,
   "metadata": {},
   "outputs": [],
   "source": [
    "df.drop(['Unnamed: 0', 'language_scores', 'language', 'scores'], axis = 1, inplace = True)"
   ]
  },
  {
   "cell_type": "code",
   "execution_count": 5,
   "metadata": {},
   "outputs": [
    {
     "data": {
      "text/html": [
       "<div>\n",
       "<style scoped>\n",
       "    .dataframe tbody tr th:only-of-type {\n",
       "        vertical-align: middle;\n",
       "    }\n",
       "\n",
       "    .dataframe tbody tr th {\n",
       "        vertical-align: top;\n",
       "    }\n",
       "\n",
       "    .dataframe thead th {\n",
       "        text-align: right;\n",
       "    }\n",
       "</style>\n",
       "<table border=\"1\" class=\"dataframe\">\n",
       "  <thead>\n",
       "    <tr style=\"text-align: right;\">\n",
       "      <th></th>\n",
       "      <th>date</th>\n",
       "      <th>review</th>\n",
       "      <th>rating</th>\n",
       "      <th>status</th>\n",
       "      <th>length</th>\n",
       "      <th>label</th>\n",
       "      <th>compound</th>\n",
       "      <th>sentiment</th>\n",
       "    </tr>\n",
       "  </thead>\n",
       "  <tbody>\n",
       "    <tr>\n",
       "      <th>0</th>\n",
       "      <td>2021-03-11</td>\n",
       "      <td>Interesting and clear, the difficulty in the e...</td>\n",
       "      <td>4</td>\n",
       "      <td>completer</td>\n",
       "      <td>186</td>\n",
       "      <td>pos</td>\n",
       "      <td>0.7957</td>\n",
       "      <td>pos</td>\n",
       "    </tr>\n",
       "    <tr>\n",
       "      <th>1</th>\n",
       "      <td>2021-03-11</td>\n",
       "      <td>great, i have learned basics of python from th...</td>\n",
       "      <td>5</td>\n",
       "      <td>completer</td>\n",
       "      <td>56</td>\n",
       "      <td>pos</td>\n",
       "      <td>0.6249</td>\n",
       "      <td>pos</td>\n",
       "    </tr>\n",
       "    <tr>\n",
       "      <th>2</th>\n",
       "      <td>2021-03-10</td>\n",
       "      <td>Recommended</td>\n",
       "      <td>5</td>\n",
       "      <td>completer</td>\n",
       "      <td>11</td>\n",
       "      <td>pos</td>\n",
       "      <td>0.2023</td>\n",
       "      <td>pos</td>\n",
       "    </tr>\n",
       "    <tr>\n",
       "      <th>3</th>\n",
       "      <td>2021-03-10</td>\n",
       "      <td>excellent</td>\n",
       "      <td>5</td>\n",
       "      <td>completer</td>\n",
       "      <td>9</td>\n",
       "      <td>pos</td>\n",
       "      <td>0.5719</td>\n",
       "      <td>pos</td>\n",
       "    </tr>\n",
       "    <tr>\n",
       "      <th>4</th>\n",
       "      <td>2021-03-10</td>\n",
       "      <td>Tamada sir is my biggest inspiration to comple...</td>\n",
       "      <td>5</td>\n",
       "      <td>completer</td>\n",
       "      <td>102</td>\n",
       "      <td>pos</td>\n",
       "      <td>0.5267</td>\n",
       "      <td>pos</td>\n",
       "    </tr>\n",
       "    <tr>\n",
       "      <th>...</th>\n",
       "      <td>...</td>\n",
       "      <td>...</td>\n",
       "      <td>...</td>\n",
       "      <td>...</td>\n",
       "      <td>...</td>\n",
       "      <td>...</td>\n",
       "      <td>...</td>\n",
       "      <td>...</td>\n",
       "    </tr>\n",
       "    <tr>\n",
       "      <th>3111</th>\n",
       "      <td>2018-08-08</td>\n",
       "      <td>Good overall if you already have a grasp of py...</td>\n",
       "      <td>3</td>\n",
       "      <td>dropout</td>\n",
       "      <td>135</td>\n",
       "      <td>neu</td>\n",
       "      <td>0.1027</td>\n",
       "      <td>pos</td>\n",
       "    </tr>\n",
       "    <tr>\n",
       "      <th>3112</th>\n",
       "      <td>2018-08-06</td>\n",
       "      <td>good introductory course</td>\n",
       "      <td>5</td>\n",
       "      <td>dropout</td>\n",
       "      <td>24</td>\n",
       "      <td>pos</td>\n",
       "      <td>0.4404</td>\n",
       "      <td>pos</td>\n",
       "    </tr>\n",
       "    <tr>\n",
       "      <th>3113</th>\n",
       "      <td>2018-08-03</td>\n",
       "      <td>robotic teaching</td>\n",
       "      <td>2</td>\n",
       "      <td>dropout</td>\n",
       "      <td>16</td>\n",
       "      <td>neg</td>\n",
       "      <td>0.0000</td>\n",
       "      <td>neu</td>\n",
       "    </tr>\n",
       "    <tr>\n",
       "      <th>3114</th>\n",
       "      <td>2018-08-03</td>\n",
       "      <td>I recommend!</td>\n",
       "      <td>5</td>\n",
       "      <td>dropout</td>\n",
       "      <td>12</td>\n",
       "      <td>pos</td>\n",
       "      <td>0.4199</td>\n",
       "      <td>pos</td>\n",
       "    </tr>\n",
       "    <tr>\n",
       "      <th>3115</th>\n",
       "      <td>2018-08-01</td>\n",
       "      <td>A great start in how to use python to access y...</td>\n",
       "      <td>5</td>\n",
       "      <td>dropout</td>\n",
       "      <td>55</td>\n",
       "      <td>pos</td>\n",
       "      <td>0.6588</td>\n",
       "      <td>pos</td>\n",
       "    </tr>\n",
       "  </tbody>\n",
       "</table>\n",
       "<p>3116 rows × 8 columns</p>\n",
       "</div>"
      ],
      "text/plain": [
       "            date                                             review  rating  \\\n",
       "0     2021-03-11  Interesting and clear, the difficulty in the e...       4   \n",
       "1     2021-03-11  great, i have learned basics of python from th...       5   \n",
       "2     2021-03-10                                        Recommended       5   \n",
       "3     2021-03-10                                          excellent       5   \n",
       "4     2021-03-10  Tamada sir is my biggest inspiration to comple...       5   \n",
       "...          ...                                                ...     ...   \n",
       "3111  2018-08-08  Good overall if you already have a grasp of py...       3   \n",
       "3112  2018-08-06                           good introductory course       5   \n",
       "3113  2018-08-03                                   robotic teaching       2   \n",
       "3114  2018-08-03                                       I recommend!       5   \n",
       "3115  2018-08-01  A great start in how to use python to access y...       5   \n",
       "\n",
       "         status  length label  compound sentiment  \n",
       "0     completer     186   pos    0.7957       pos  \n",
       "1     completer      56   pos    0.6249       pos  \n",
       "2     completer      11   pos    0.2023       pos  \n",
       "3     completer       9   pos    0.5719       pos  \n",
       "4     completer     102   pos    0.5267       pos  \n",
       "...         ...     ...   ...       ...       ...  \n",
       "3111    dropout     135   neu    0.1027       pos  \n",
       "3112    dropout      24   pos    0.4404       pos  \n",
       "3113    dropout      16   neg    0.0000       neu  \n",
       "3114    dropout      12   pos    0.4199       pos  \n",
       "3115    dropout      55   pos    0.6588       pos  \n",
       "\n",
       "[3116 rows x 8 columns]"
      ]
     },
     "execution_count": 5,
     "metadata": {},
     "output_type": "execute_result"
    }
   ],
   "source": [
    "df"
   ]
  },
  {
   "cell_type": "code",
   "execution_count": 6,
   "metadata": {},
   "outputs": [
    {
     "data": {
      "text/plain": [
       "0"
      ]
     },
     "execution_count": 6,
     "metadata": {},
     "output_type": "execute_result"
    }
   ],
   "source": [
    "# Check for null values\n",
    "\n",
    "len(df[df['review'].isna()==True])"
   ]
  },
  {
   "cell_type": "code",
   "execution_count": 7,
   "metadata": {},
   "outputs": [],
   "source": [
    "# Drop null values\n",
    "\n",
    "# df.dropna(inplace = True)"
   ]
  },
  {
   "cell_type": "code",
   "execution_count": 8,
   "metadata": {},
   "outputs": [],
   "source": [
    "# Check for null values\n",
    "\n",
    "# len(df[df['review'].isna()==True])"
   ]
  },
  {
   "cell_type": "code",
   "execution_count": 9,
   "metadata": {},
   "outputs": [],
   "source": [
    "# Reset the index\n",
    "\n",
    "# df = df.reset_index(drop = True)"
   ]
  },
  {
   "cell_type": "code",
   "execution_count": 10,
   "metadata": {},
   "outputs": [],
   "source": [
    "# df"
   ]
  },
  {
   "cell_type": "code",
   "execution_count": 11,
   "metadata": {},
   "outputs": [],
   "source": [
    "# Define a function to plot the most frequent words\n",
    "\n",
    "def freq_words(x, terms = 30):\n",
    "    all_words = ' '.join([text for text in x])\n",
    "    all_words = all_words.split()\n",
    "\n",
    "    fdist = FreqDist(all_words)\n",
    "    words_df = pd.DataFrame({'word':list(fdist.keys()), 'count':list(fdist.values())})\n",
    "    \n",
    "    # selecting top 20 most frequent words\n",
    "    d = words_df.nlargest(columns=\"count\", n = terms) \n",
    "    plt.figure(figsize=(20,5))\n",
    "    ax = sns.barplot(data=d, x= \"word\", y = \"count\")\n",
    "    ax.set(ylabel = 'Count')\n",
    "    plt.xticks(rotation = 45)\n",
    "    plt.show()"
   ]
  },
  {
   "cell_type": "code",
   "execution_count": 12,
   "metadata": {},
   "outputs": [
    {
     "data": {
      "image/png": "[encoded data removed]",
      "text/plain": [
       "<Figure size 1440x360 with 1 Axes>"
      ]
     },
     "metadata": {
      "needs_background": "light"
     },
     "output_type": "display_data"
    }
   ],
   "source": [
    "# The most frquent words are stop words such as 'to' and 'the' we will remove these in the preprocessing steps\n",
    "\n",
    "freq_words(df['review'])"
   ]
  },
  {
   "cell_type": "markdown",
   "metadata": {},
   "source": [
    "## Preprocessing"
   ]
  },
  {
   "cell_type": "code",
   "execution_count": 13,
   "metadata": {},
   "outputs": [
    {
     "data": {
      "text/plain": [
       "0    interesting and clear, the difficulty in the e...\n",
       "1    great, i have learned basics of python from th...\n",
       "2                                          recommended\n",
       "3                                            excellent\n",
       "4    tamada sir is my biggest inspiration to comple...\n",
       "Name: preprocessed, dtype: object"
      ]
     },
     "execution_count": 13,
     "metadata": {},
     "output_type": "execute_result"
    }
   ],
   "source": [
    "# Covert to lowercase\n",
    "\n",
    "df['preprocessed'] =  df['review'].apply(lambda x: \" \".join(x.lower() for x in x.split()))\n",
    "df['preprocessed'].head()"
   ]
  },
  {
   "cell_type": "code",
   "execution_count": 14,
   "metadata": {},
   "outputs": [
    {
     "data": {
      "text/plain": [
       "0    interesting and clear the difficulty in the ex...\n",
       "1    great i have learned basics of python from thi...\n",
       "2                                          recommended\n",
       "3                                            excellent\n",
       "4    tamada sir is my biggest inspiration to comple...\n",
       "Name: preprocessed, dtype: object"
      ]
     },
     "execution_count": 14,
     "metadata": {},
     "output_type": "execute_result"
    }
   ],
   "source": [
    "# Remove punctuations\n",
    "\n",
    "df['preprocessed'] = df['preprocessed'].str.replace('[^\\w\\s]','')\n",
    "df['preprocessed'].head()"
   ]
  },
  {
   "cell_type": "code",
   "execution_count": 15,
   "metadata": {},
   "outputs": [
    {
     "data": {
      "text/plain": [
       "0    interesting clear difficulty exercises escalat...\n",
       "1                         learned basics python course\n",
       "2                                          recommended\n",
       "3                                            excellent\n",
       "4    tamada sir biggest inspiration complete course...\n",
       "Name: preprocessed, dtype: object"
      ]
     },
     "execution_count": 15,
     "metadata": {},
     "output_type": "execute_result"
    }
   ],
   "source": [
    "# Remove stopwords\n",
    "\n",
    "stop = stopwords.words('english')\n",
    "stop.extend(['good', 'great', 'really', 'like', 'nice'])\n",
    "\n",
    "df['preprocessed'] = df['preprocessed'].apply(lambda x: \" \".join(x for x in x.split() if x not in stop))\n",
    "df['preprocessed'].head()"
   ]
  },
  {
   "cell_type": "code",
   "execution_count": 16,
   "metadata": {},
   "outputs": [],
   "source": [
    "# Remove short words (length < 3)\n",
    "\n",
    "# df['review'] = df['review'].apply(lambda x: ' '.join([w for w in x.split() if len(w)>2]))\n",
    "# df['review'].head()"
   ]
  },
  {
   "cell_type": "code",
   "execution_count": 17,
   "metadata": {},
   "outputs": [
    {
     "data": {
      "image/png": "[encoded data removed]",
      "text/plain": [
       "<Figure size 1440x360 with 1 Axes>"
      ]
     },
     "metadata": {
      "needs_background": "light"
     },
     "output_type": "display_data"
    }
   ],
   "source": [
    "# Look at the most frequent words again \n",
    "\n",
    "freq_words(df['preprocessed'])"
   ]
  },
  {
   "cell_type": "code",
   "execution_count": 18,
   "metadata": {},
   "outputs": [
    {
     "data": {
      "text/plain": [
       "0    [interesting, clear, difficulty, exercises, es...\n",
       "1                    [learned, basics, python, course]\n",
       "2                                        [recommended]\n",
       "3                                          [excellent]\n",
       "4    [tamada, sir, biggest, inspiration, complete, ...\n",
       "Name: preprocessed, dtype: object"
      ]
     },
     "execution_count": 18,
     "metadata": {},
     "output_type": "execute_result"
    }
   ],
   "source": [
    "# Tokenization\n",
    "\n",
    "tokenizer = RegexpTokenizer(r'\\w+')\n",
    "\n",
    "df['preprocessed'] = df['preprocessed'].apply(lambda x: tokenizer.tokenize(x.lower()))\n",
    "df['preprocessed'].head(5)\n"
   ]
  },
  {
   "cell_type": "code",
   "execution_count": 19,
   "metadata": {},
   "outputs": [
    {
     "data": {
      "text/plain": [
       "0    [(interesting, VBG), (clear, JJ), (difficulty,...\n",
       "1    [(learned, VBN), (basics, NNS), (python, VBP),...\n",
       "2                                 [(recommended, VBN)]\n",
       "3                                    [(excellent, NN)]\n",
       "4    [(tamada, NN), (sir, NN), (biggest, JJS), (ins...\n",
       "Name: preprocessed, dtype: object"
      ]
     },
     "execution_count": 19,
     "metadata": {},
     "output_type": "execute_result"
    }
   ],
   "source": [
    "# Add speech tags\n",
    "\n",
    "df['preprocessed'] = df['preprocessed'].apply(nltk.tag.pos_tag)\n",
    "df['preprocessed'].head()"
   ]
  },
  {
   "cell_type": "code",
   "execution_count": 20,
   "metadata": {},
   "outputs": [],
   "source": [
    "# Define function to convert parts of speech tags to wordnet’s format\n",
    "\n",
    "def get_wordnet_pos(tag):\n",
    "    if tag.startswith('J'):\n",
    "        return wordnet.ADJ\n",
    "    elif tag.startswith('V'):\n",
    "        return wordnet.VERB\n",
    "    elif tag.startswith('N'):\n",
    "        return wordnet.NOUN\n",
    "    elif tag.startswith('R'):\n",
    "        return wordnet.ADV\n",
    "    else:\n",
    "        return wordnet.NOUN"
   ]
  },
  {
   "cell_type": "code",
   "execution_count": 21,
   "metadata": {},
   "outputs": [
    {
     "data": {
      "text/plain": [
       "0    [(interesting, v), (clear, a), (difficulty, n)...\n",
       "1    [(learned, v), (basics, n), (python, v), (cour...\n",
       "2                                   [(recommended, v)]\n",
       "3                                     [(excellent, n)]\n",
       "4    [(tamada, n), (sir, n), (biggest, a), (inspira...\n",
       "Name: preprocessed, dtype: object"
      ]
     },
     "execution_count": 21,
     "metadata": {},
     "output_type": "execute_result"
    }
   ],
   "source": [
    "# Apply the function to the tagged data\n",
    "\n",
    "df['preprocessed'] = df['preprocessed'].apply(lambda x: [(word, get_wordnet_pos(pos_tag)) for (word, pos_tag) in x])\n",
    "df['preprocessed'].head()"
   ]
  },
  {
   "cell_type": "code",
   "execution_count": 22,
   "metadata": {},
   "outputs": [
    {
     "data": {
      "text/plain": [
       "0    [interest, clear, difficulty, exercise, escala...\n",
       "1                       [learn, basic, python, course]\n",
       "2                                          [recommend]\n",
       "3                                          [excellent]\n",
       "4    [tamada, sir, big, inspiration, complete, cour...\n",
       "Name: preprocessed, dtype: object"
      ]
     },
     "execution_count": 22,
     "metadata": {},
     "output_type": "execute_result"
    }
   ],
   "source": [
    "# Create lemmatizer\n",
    "\n",
    "lemmatizer = WordNetLemmatizer()\n",
    "\n",
    "# Apply to data \n",
    "\n",
    "df['preprocessed'] = df['preprocessed'].apply(lambda x: [lemmatizer.lemmatize(word, tag) for word, tag in x])\n",
    "df['preprocessed'].head()"
   ]
  },
  {
   "cell_type": "code",
   "execution_count": 23,
   "metadata": {},
   "outputs": [],
   "source": [
    "# Join reviews\n",
    "\n",
    "df['joined'] = df['preprocessed'].apply(lambda x: ' '.join(x))"
   ]
  },
  {
   "cell_type": "code",
   "execution_count": 24,
   "metadata": {},
   "outputs": [
    {
     "data": {
      "image/png": "[encoded data removed]",
      "text/plain": [
       "<Figure size 1440x360 with 1 Axes>"
      ]
     },
     "metadata": {
      "needs_background": "light"
     },
     "output_type": "display_data"
    }
   ],
   "source": [
    "# Most frequent words after lemmatizing \n",
    "\n",
    "freq_words(df['joined'], 35)"
   ]
  },
  {
   "cell_type": "markdown",
   "metadata": {},
   "source": [
    "## LDA Topic Modeling"
   ]
  },
  {
   "cell_type": "code",
   "execution_count": 25,
   "metadata": {},
   "outputs": [],
   "source": [
    "# Create a dictionary from 'df_sen['review']' containing the number of times a word appears in the training set\n",
    "\n",
    "dictionary = gensim.corpora.Dictionary(df['preprocessed'])"
   ]
  },
  {
   "cell_type": "code",
   "execution_count": 26,
   "metadata": {},
   "outputs": [],
   "source": [
    "# Gensim filter extremes\n",
    "\n",
    "# Filter out tokens that appear in:\n",
    "# Less than 50 documents, more than 0.5 documents, and keep only 100000 most frquent tokens\n",
    "\n",
    "# dictionary.filter_extremes(no_below = 50, no_above = 0.5, keep_n = 100000)"
   ]
  },
  {
   "cell_type": "code",
   "execution_count": 27,
   "metadata": {},
   "outputs": [],
   "source": [
    "# Gensim doc2bow\n",
    "# Create a dictionary reporting how many words and how many times those words appear\n",
    "\n",
    "corpus = [dictionary.doc2bow(doc) for doc in df['preprocessed']]\n"
   ]
  },
  {
   "cell_type": "code",
   "execution_count": 28,
   "metadata": {},
   "outputs": [],
   "source": [
    "# Add TF-IDF\n",
    "\n",
    "tfidf = models.TfidfModel(corpus)      # Create a TF-IDF model\n",
    "corpus_tfidf = tfidf[corpus]  "
   ]
  },
  {
   "cell_type": "code",
   "execution_count": 29,
   "metadata": {},
   "outputs": [],
   "source": [
    "# Creating the object for LDA model using gensim library\n",
    "LDA = gensim.models.LdaMulticore\n",
    "\n",
    "# Build LDA model\n",
    "lda_model = LDA(corpus = corpus, id2word = dictionary, num_topics = 5, random_state = 100,\n",
    "                chunksize = 100, passes = 10)"
   ]
  },
  {
   "cell_type": "code",
   "execution_count": 30,
   "metadata": {},
   "outputs": [
    {
     "name": "stdout",
     "output_type": "stream",
     "text": [
      "Topic: 0\n",
      "Word: 0.096*\"course\" + 0.082*\"python\" + 0.040*\"data\" + 0.032*\"basic\" + 0.029*\"science\" + 0.022*\"beginner\" + 0.021*\"learn\" + 0.013*\"start\" + 0.011*\"well\" + 0.011*\"introduction\"\n",
      "\n",
      "Topic: 1\n",
      "Word: 0.057*\"course\" + 0.026*\"content\" + 0.020*\"assignment\" + 0.013*\"material\" + 0.013*\"bit\" + 0.011*\"need\" + 0.011*\"final\" + 0.011*\"thank\" + 0.010*\"lab\" + 0.010*\"clear\"\n",
      "\n",
      "Topic: 2\n",
      "Word: 0.046*\"course\" + 0.035*\"excellent\" + 0.031*\"learn\" + 0.030*\"easy\" + 0.019*\"awesome\" + 0.016*\"understand\" + 0.013*\"lot\" + 0.010*\"thing\" + 0.010*\"ibm\" + 0.009*\"thanks\"\n",
      "\n",
      "Topic: 3\n",
      "Word: 0.037*\"course\" + 0.023*\"final\" + 0.020*\"assignment\" + 0.012*\"project\" + 0.012*\"ibm\" + 0.012*\"use\" + 0.011*\"would\" + 0.010*\"time\" + 0.009*\"lot\" + 0.009*\"python\"\n",
      "\n",
      "Topic: 4\n",
      "Word: 0.030*\"course\" + 0.015*\"assignment\" + 0.014*\"week\" + 0.010*\"watson\" + 0.010*\"would\" + 0.010*\"ibm\" + 0.009*\"question\" + 0.009*\"complete\" + 0.009*\"helpful\" + 0.009*\"lab\"\n",
      "\n"
     ]
    }
   ],
   "source": [
    "# Explore the words occurring in each topic and its relative weight\n",
    "\n",
    "for id, topic in lda_model.print_topics(-1):\n",
    "    print('Topic: {}\\nWord: {}\\n'.format(id, topic))"
   ]
  },
  {
   "cell_type": "markdown",
   "metadata": {},
   "source": [
    "### Visualise with pyLDAvis\n",
    "\n",
    "Original paper: https://nlp.stanford.edu/events/illvi2014/papers/sievert-illvi2014.pdf"
   ]
  },
  {
   "cell_type": "code",
   "execution_count": 31,
   "metadata": {
    "scrolled": false
   },
   "outputs": [
    {
     "data": {
      "text/html": [
       "\n",
       "<link rel=\"stylesheet\" type=\"text/css\" href=\"https://cdn.jsdelivr.net/gh/bmabey/pyLDAvis@3.2.2/pyLDAvis/js/ldavis.v1.0.0.css\">\n",
       "\n",
       "\n",
       "<div id=\"ldavis_el373351404995585410087915217567\"></div>\n",
       "<script type=\"text/javascript\">\n",
       "\n",
       "var ldavis_el373351404995585410087915217567_data = {\"mdsDat\": {\"x\": [-0.07554040102029842, 0.18623444495408925, -0.13591038889763005, -0.05228105252092814, 0.07749739748476751], \"y\": [-0.046637993798257504, -0.09880519952573881, -0.0015046841751371086, -0.025314668608717405, 0.17226254610785077], \"topics\": [1, 2, 3, 4, 5], \"cluster\": [1, 1, 1, 1, 1], \"Freq\": [31.345165639822188, 30.96815891910464, 16.446990715526987, 11.857356527820402, 9.382328197725789]}, \"tinfo\": {\"Term\": [\"python\", \"data\", \"science\", \"basic\", \"excellent\", \"course\", \"learn\", \"easy\", \"assignment\", \"content\", \"final\", \"awesome\", \"week\", \"beginner\", \"understand\", \"bit\", \"material\", \"thank\", \"thanks\", \"start\", \"introduction\", \"lot\", \"question\", \"lab\", \"project\", \"5\", \"thing\", \"quite\", \"instruction\", \"simple\", \"almost\", \"unclear\", \"spend\", \"setup\", \"notebooks\", \"discussion\", \"multiple\", \"relevant\", \"bad\", \"save\", \"let\", \"along\", \"terrible\", \"reflect\", \"impossible\", \"voice\", \"force\", \"frustration\", \"resolve\", \"frustrate\", \"assume\", \"upload\", \"speak\", \"credential\", \"line\", \"jump\", \"read\", \"reason\", \"sign\", \"leap\", \"spent\", \"solve\", \"subject\", \"final\", \"project\", \"lesson\", \"set\", \"cloud\", \"assessment\", \"time\", \"videos\", \"challenge\", \"actually\", \"something\", \"hard\", \"code\", \"assignment\", \"say\", \"write\", \"dont\", \"class\", \"ibm\", \"use\", \"video\", \"would\", \"many\", \"lot\", \"error\", \"go\", \"quiz\", \"course\", \"instruction\", \"part\", \"material\", \"get\", \"make\", \"think\", \"also\", \"practice\", \"beginner\", \"python\", \"learn\", \"exercise\", \"could\", \"need\", \"science\", \"ai\", \"foundation\", \"basic\", \"career\", \"data\", \"highly\", \"panda\", \"scientist\", \"journey\", \"training\", \"starter\", \"structured\", \"programming\", \"effective\", \"core\", \"familiar\", \"touch\", \"interesting\", \"glad\", \"orient\", \"insight\", \"implement\", \"excelent\", \"analytics\", \"language\", \"search\", \"enhance\", \"assigment\", \"descriptive\", \"python\", \"introduction\", \"start\", \"best\", \"field\", \"numpy\", \"beginner\", \"overview\", \"want\", \"knowledge\", \"course\", \"understanding\", \"program\", \"new\", \"recommend\", \"learn\", \"skill\", \"give\", \"introductory\", \"well\", \"help\", \"useful\", \"concept\", \"use\", \"get\", \"experience\", \"understand\", \"helpful\", \"one\", \"explain\", \"display\", \"consider\", \"interface\", \"per\", \"approximately\", \"throw\", \"applicable\", \"discuss\", \"perhaps\", \"throughout\", \"particularly\", \"flow\", \"endpoint\", \"generate\", \"screen\", \"distract\", \"10\", \"blah\", \"stick\", \"brilliant\", \"terrific\", \"thumb\", \"cc\", \"script\", \"maker\", \"index\", \"slice\", \"output\", \"five\", \"school\", \"appreciate\", \"star\", \"update\", \"environment\", \"guidance\", \"4\", \"studio\", \"week\", \"mistake\", \"5\", \"answer\", \"didnt\", \"question\", \"1\", \"2\", \"lack\", \"watson\", \"complete\", \"grade\", \"hour\", \"helpful\", \"expect\", \"end\", \"link\", \"google\", \"assignment\", \"issue\", \"lab\", \"quiz\", \"could\", \"much\", \"would\", \"course\", \"video\", \"work\", \"ibm\", \"one\", \"take\", \"instruction\", \"make\", \"code\", \"time\", \"need\", \"use\", \"cool\", \"confusing\", \"number\", \"properly\", \"r\", \"peergraded\", \"credit\", \"wait\", \"smooth\", \"challenging\", \"efficient\", \"tuples\", \"misleading\", \"edit\", \"late\", \"irrelevant\", \"audio\", \"increase\", \"join\", \"care\", \"boring\", \"handy\", \"manageable\", \"relation\", \"relevance\", \"awsome\", \"package\", \"sequence\", \"superb\", \"desire\", \"fantastic\", \"date\", \"bit\", \"content\", \"okay\", \"quite\", \"typos\", \"hand\", \"thank\", \"do\", \"peer\", \"comprehensive\", \"review\", \"simple\", \"material\", \"clear\", \"little\", \"leave\", \"assignment\", \"love\", \"course\", \"need\", \"still\", \"lab\", \"explanation\", \"instruction\", \"final\", \"experience\", \"section\", \"exercise\", \"easy\", \"however\", \"well\", \"much\", \"labs\", \"practice\", \"work\", \"explain\", \"python\", \"awesome\", \"professor\", \"key\", \"c\", \"excelente\", \"badge\", \"register\", \"satisfied\", \"spending\", \"con\", \"sample\", \"mark\", \"perform\", \"advanced\", \"sense\", \"weekend\", \"target\", \"aspire\", \"decide\", \"hear\", \"perfectionist\", \"somehow\", \"coursework\", \"statistic\", \"explanatory\", \"pa\", \"moment\", \"mix\", \"wonderfull\", \"session\", \"alot\", \"excellent\", \"wonderful\", \"demonstrate\", \"easy\", \"skip\", \"fun\", \"thanks\", \"understand\", \"important\", \"user\", \"learn\", \"step\", \"thing\", \"interactive\", \"lot\", \"lecture\", \"example\", \"course\", \"practice\", \"tool\", \"tutorial\", \"exercise\", \"wish\", \"much\", \"lab\", \"ibm\", \"coursera\", \"follow\", \"explanation\", \"topic\", \"get\", \"thank\", \"concept\", \"experience\", \"could\", \"clear\", \"well\"], \"Freq\": [997.0, 434.0, 301.0, 353.0, 154.0, 1934.0, 433.0, 212.0, 379.0, 170.0, 320.0, 62.0, 120.0, 308.0, 151.0, 77.0, 146.0, 87.0, 67.0, 160.0, 128.0, 207.0, 90.0, 177.0, 167.0, 70.0, 100.0, 57.0, 125.0, 64.0, 25.34931696401902, 20.24181574679264, 20.177774090842995, 15.124060289967801, 14.920427305246637, 20.29855257207118, 12.089181625776284, 11.211843242905687, 27.130113883349328, 10.485020017255122, 13.967895703507617, 10.338951870641877, 10.091150775563388, 11.560108656927579, 9.545399350986381, 9.582362883347013, 9.481628129720173, 9.496820741798752, 9.70715332808255, 9.780405853204396, 10.298441745213125, 8.824809737615555, 9.024423951549007, 7.964134958225196, 7.798865949088037, 8.836104253421913, 24.58949328086531, 7.755118652425761, 7.820230907923102, 8.542555140098663, 10.41738535496217, 21.097860956693797, 14.823728031186576, 249.11469720745137, 130.3341403883655, 52.8216736748017, 28.122709424231616, 63.71839181985788, 13.825234910136922, 109.57927229763213, 50.37863234207533, 56.71690346314459, 29.14890570097616, 23.965416669610118, 34.375530611459325, 77.57042513624533, 210.1356454745161, 31.095285383183906, 29.25942622954388, 46.156405558933216, 47.29406300662265, 127.30596503879865, 123.22557722463455, 95.50107389852835, 114.27061228651526, 59.29585771787282, 99.33271626217477, 44.47841342530319, 53.96653446280048, 53.62402677027672, 390.8615030354983, 64.25947901970021, 44.6150986642042, 66.00718760572634, 72.57093565535179, 66.18226095511446, 45.86593519286418, 49.7496297352134, 50.85727574032186, 70.08136718020114, 97.07429332359008, 74.85851355687929, 49.41389466780523, 50.3438780816137, 49.713291234958646, 299.359553744695, 56.77243708404045, 27.131815528695036, 340.77513700651326, 18.35527423872862, 418.44404879858575, 28.01273111237401, 54.217272227937265, 14.060957504407108, 13.529829022445085, 13.061266373669977, 12.542085879748242, 13.199359730068064, 44.223760307194965, 10.622575753245174, 9.449784309236415, 9.547723328180101, 9.915886071108332, 39.275383243438895, 8.253268081279478, 7.743726315812103, 7.753744112559627, 7.350387324213166, 8.376569826038088, 7.12858957468011, 47.0668507651729, 6.014823955120507, 5.84692727127324, 5.916301660125728, 5.320860573825881, 859.7566274111438, 112.7632891508218, 139.69974510923043, 79.53560058612484, 19.029540130989677, 67.24977710056379, 228.30869501326592, 29.536734832601915, 50.87249588916751, 94.09701750197526, 1004.3798973777101, 23.876531099936177, 101.89372350296057, 58.71730687935608, 61.174021585720276, 222.39290142693312, 44.21937289740185, 91.17852424648261, 40.22955927737574, 116.71876652029307, 72.08932977135768, 56.298631064810245, 63.52239612829679, 94.69996597468113, 74.83467930414514, 57.400086135849165, 58.25109689960047, 49.90409623463046, 49.41921163883235, 47.341433163128336, 10.875571773266321, 10.276812717558284, 14.145979801550665, 7.378456458644006, 7.073114589750348, 7.151252364671209, 6.930919802180868, 6.926077064229382, 6.662942413378232, 7.154776127058867, 6.557491258711681, 6.242073611446384, 6.328536973136463, 6.132790219063362, 5.71684143627064, 5.463561760397873, 5.4509454441603085, 5.385911051785663, 5.357912207388265, 5.477107399152345, 5.005648968006096, 4.852343223803657, 4.848962983621615, 5.2199643133193545, 4.847358262490045, 4.846118191668217, 4.846118191668217, 4.84277854034523, 7.015603098868262, 4.843619541504835, 12.031601576511457, 32.294592596990405, 26.40404383240228, 14.925420975116083, 7.288468685144524, 28.313458060543464, 37.77830721297505, 79.54825141085506, 28.833195478335874, 46.52873529693748, 24.329299816452412, 27.412143804649, 51.04895482379996, 16.910190206001367, 15.761877481350506, 15.51082272437566, 54.89716311982019, 50.953183300240674, 24.89564753171754, 19.51142172935981, 50.4227979635194, 19.76794851395692, 27.91643018028749, 16.038488282829427, 10.695068895810525, 82.3659416959957, 22.509557742842702, 49.30044132716745, 32.728447885554395, 42.53596831819644, 44.82569690856766, 54.72863557933977, 165.34130075737622, 46.56465091711569, 41.19367331835329, 53.206775467040416, 36.55566946846745, 36.43411070626292, 31.828466243080403, 34.99868862820559, 30.139400812973182, 30.66081373886735, 30.388170904249577, 28.098780013185696, 15.433767628333175, 10.286296200606987, 10.2933650329037, 9.58542461530505, 8.400034158083532, 8.345955577768283, 6.633189404468227, 6.5821653387843035, 6.211510475876772, 7.25865230866185, 5.170268388473261, 5.114730907546238, 4.636964367020433, 4.4747258168950745, 4.456131857043989, 4.317064356750685, 4.29589952935812, 4.113762623648556, 3.9678098241265154, 4.164761874912574, 3.8824987848862973, 3.5867635717363098, 3.5301033553577357, 3.465328355473622, 3.8618559967049415, 3.2953978033743128, 4.328832010144883, 3.2727031435847738, 3.2002291187776795, 3.130626075533934, 9.21343305109886, 6.747648023164791, 50.764542434658196, 104.60428255373157, 8.270350254087138, 36.55357323565163, 12.394189405003535, 19.78249003472003, 44.66511307513312, 23.285919059171388, 23.31291527524163, 8.398144516597936, 25.390811123349234, 28.436516167412403, 51.30291234334446, 38.43480965584942, 31.43501950285022, 10.845376317785293, 80.81773772313923, 21.360439932872772, 228.78331818267046, 45.29318570718619, 13.999967972784845, 39.60515133789006, 23.65687497249399, 28.918869161851216, 44.7334473055855, 26.935277473314684, 15.850942037416967, 23.833092936761307, 28.3610859492604, 19.487949425199997, 27.932581182408658, 24.83231063356418, 20.66277830347402, 21.54943217322855, 22.00051899858705, 20.90595025461107, 27.537262190705352, 61.769150179324065, 7.047636930586523, 6.180935709903074, 5.864475058120185, 5.409589683822231, 4.756773864498891, 4.336961460830905, 4.152273033109447, 4.16447218227577, 3.700890806630035, 3.9484280623942314, 7.399048298475257, 5.032358530906715, 5.785262647257545, 9.44101300843011, 3.3336615556609015, 3.2002981704445803, 3.198983008139608, 3.137004039559426, 2.9820519872557854, 2.9815870495958583, 3.0061294600796704, 2.9899394416372003, 2.9069004641694725, 2.8776351391377886, 2.7787043701728025, 2.8151297351673628, 2.724196634889631, 2.6405376787972914, 16.772747224986052, 5.941743251580994, 110.28496154484874, 12.157344787501875, 4.441759150314962, 95.8946112005034, 4.721697559654629, 14.116393515449635, 28.650527035149224, 49.58533247126198, 11.136988523875267, 9.170481529019419, 98.41611891086731, 22.203903718268563, 31.850107238115765, 13.68096883858273, 42.772779876518705, 17.346953755765767, 22.7866399101496, 145.08013433105364, 28.447931283389604, 16.218916448227045, 13.794701110970738, 25.725294875555576, 11.104309519108606, 25.819296008686443, 26.742911896905294, 31.338173457242387, 18.91765765361861, 15.695388492847629, 16.565418370801552, 13.24565826593834, 20.316628769092866, 15.709036543358954, 16.98082590691852, 16.616353310234256, 15.026170191537622, 14.39938236040033, 14.547421475067127], \"Total\": [997.0, 434.0, 301.0, 353.0, 154.0, 1934.0, 433.0, 212.0, 379.0, 170.0, 320.0, 62.0, 120.0, 308.0, 151.0, 77.0, 146.0, 87.0, 67.0, 160.0, 128.0, 207.0, 90.0, 177.0, 167.0, 70.0, 100.0, 57.0, 125.0, 64.0, 26.11436437051928, 20.955493885708247, 20.902770727685226, 15.826470560154382, 15.646439941805694, 21.3133085727172, 12.808127877583196, 11.91966664191704, 28.877752946709435, 11.186641900262142, 14.90310903425007, 11.039143257906726, 10.80028349111187, 12.374414732247926, 10.252014372315344, 10.293066000347517, 10.1907776606084, 10.210702230894288, 10.437553740195408, 10.529985641591498, 11.103099445864766, 9.52610021865107, 9.757493843135826, 8.673564428707518, 8.500415652022529, 9.638397562487627, 26.864426785151238, 8.492883687192109, 8.565006605784578, 9.35658056134218, 11.439610197889156, 23.53471075205504, 16.43421029414169, 320.38198762993625, 167.0447757923109, 66.0519519494729, 33.6562291147595, 82.91667305270103, 15.598644018118174, 158.2929080510615, 66.16291316273912, 75.58953333174536, 36.60316963863913, 29.455027122141434, 44.635058411210224, 116.39549068499467, 379.4123884392841, 40.615647630480574, 39.412028342423376, 70.36577407895295, 73.47837380740992, 259.94864716980265, 249.84271811270727, 182.12553302407773, 236.05364705191576, 100.92233286392893, 207.067894399235, 69.89566347401045, 91.83435520548142, 91.55521003319791, 1934.4461536843087, 125.5220196353029, 73.73532375157843, 146.3415342340871, 190.94440333459806, 162.55827003649256, 91.35548480917379, 116.26657759929752, 122.75210440577331, 308.13161108983985, 997.322741014894, 433.99084469122465, 124.74393245141376, 146.3222215038459, 167.14592320160483, 301.83138752570756, 57.86776954146979, 28.032534904098394, 353.4027462985064, 19.05203000474205, 434.70169088845904, 29.189135185385556, 56.50208492654472, 14.76109070900344, 14.237038826041582, 13.768528906351287, 13.255957314684832, 13.99786103321279, 47.15493421741958, 11.339852098335628, 10.148779547398169, 10.255774864458512, 10.652409151147689, 42.396567806171525, 8.949422876827654, 8.436339167015223, 8.453070776767053, 8.041104850484203, 9.183381175685488, 7.826036007745197, 52.32836934848533, 6.721949792861838, 6.549924927625784, 6.6284894577059825, 6.017429481545991, 997.322741014894, 128.56807226119585, 160.8396708527535, 92.0037063759386, 21.87855640478647, 83.50683808874689, 308.13161108983985, 35.367499949485506, 66.1794328255759, 133.93327854154705, 1934.4461536843087, 29.300955365065604, 156.829651266425, 84.66287750007471, 90.5525963230958, 433.99084469122465, 62.15216841054314, 154.6674841236413, 56.27999719319901, 223.6300385754259, 128.18347888002137, 94.5746320581904, 115.99490837828603, 249.84271811270727, 190.94440333459806, 116.7990193303162, 151.5261186283438, 127.17019227860366, 124.68008276365006, 123.82178455845792, 11.590211178687538, 11.013322088695881, 15.265470672326956, 8.102361316029482, 7.786783407058045, 7.881682590607371, 7.649040544694563, 7.644802541687951, 7.377205234740931, 7.949478750365465, 7.297721543935639, 6.979117025558256, 7.082306080346728, 6.864440146183841, 6.440076793501158, 6.190015388030529, 6.186815054937662, 6.1144924996574685, 6.091220697242215, 6.257835311119525, 5.7353895797467445, 5.562570721467233, 5.562101767442407, 5.988906383904721, 5.562268063833283, 5.562298807882691, 5.562298807882691, 5.560079126923328, 8.106087711086339, 5.601149067880832, 14.27132899694074, 40.215159365042545, 32.59538491436122, 18.051446217042063, 8.622380433840519, 37.22105717881794, 52.83992831663115, 120.88610159129105, 40.34702874295736, 70.08046307528163, 36.10063975356196, 42.18810833919842, 90.11637980870408, 23.82941029427095, 22.447254984925557, 22.56645082556702, 114.29428137655717, 104.57151267649634, 45.32451364664968, 33.52659222930294, 127.17019227860366, 34.26331659939334, 59.537969965758336, 27.03411373603462, 14.63306951271349, 379.4123884392841, 49.615476365975674, 177.47729404653063, 91.55521003319791, 146.3222215038459, 160.98232325503977, 236.05364705191576, 1934.4461536843087, 182.12553302407773, 147.65772450697676, 259.94864716980265, 124.68008276365006, 129.12206126173902, 125.5220196353029, 162.55827003649256, 116.39549068499467, 158.2929080510615, 167.14592320160483, 249.84271811270727, 16.163268070187144, 11.0263057057314, 11.035721833132385, 10.314354060290949, 9.133785187508751, 9.092652916098169, 7.366163015119541, 7.353554728860853, 6.997257190072482, 8.220539090419424, 5.8951951521850345, 5.897382015495979, 5.369677984109114, 5.207234441046213, 5.206944309615684, 5.0655153055102895, 5.044605177257603, 4.843596499628227, 4.698700530200521, 4.941790837782531, 4.610948038524905, 4.315685865251286, 4.261837164081816, 4.1914706274241835, 4.691470810506239, 4.025606005322695, 5.293555632943686, 4.02425756409281, 3.9360848735281344, 3.8612297751758846, 11.85493002942483, 8.73888992535688, 77.60001022601334, 170.910227120715, 10.91139502854091, 57.71685786701678, 17.81875970958081, 30.83045710877032, 87.32377368362617, 42.38626741968927, 42.64767336780445, 12.075191860824203, 54.876598816782376, 64.68946149223598, 146.3415342340871, 106.44270026415485, 85.22064889925967, 18.48325338290373, 379.4123884392841, 51.17201243583183, 1934.4461536843087, 167.14592320160483, 27.52263432572776, 177.47729404653063, 75.0855999721247, 125.5220196353029, 320.38198762993625, 116.7990193303162, 44.31602838361962, 124.74393245141376, 212.42898056002713, 79.23772576996261, 223.6300385754259, 160.98232325503977, 95.0484658566129, 122.75210440577331, 147.65772450697676, 123.82178455845792, 997.322741014894, 62.90149536812786, 7.777772271751667, 6.934736599627654, 6.5949172093797355, 6.123409006837804, 5.476456608093868, 5.054874374908714, 4.88249080252187, 4.918136475566817, 4.425561640118951, 4.7393743995263025, 8.915176823179257, 6.078016734731673, 6.991641774024485, 11.430404133449468, 4.050204613757504, 3.914801348299428, 3.9145992313030025, 3.8585003853665505, 3.7019345018492524, 3.7014681514215937, 3.7394868348218635, 3.721998971983528, 3.626195706037114, 3.604762025409858, 3.491954180837925, 3.5619328053280555, 3.4470565704375633, 3.355670028418454, 21.339899138243226, 7.642279646320277, 154.20178572538723, 16.125149266234608, 5.923245691333222, 212.42898056002713, 6.6398931248917705, 26.73137887977974, 67.63978122855426, 151.5261186283438, 21.341980680030908, 16.709501005944436, 433.99084469122465, 57.5578959817173, 100.38043688821435, 31.47860945597217, 207.067894399235, 50.356780100822945, 78.02510623100937, 1934.4461536843087, 122.75210440577331, 49.24316337464418, 39.13636836031428, 124.74393245141376, 26.92353743900393, 160.98232325503977, 177.47729404653063, 259.94864716980265, 92.83647142956347, 61.22426296157037, 75.0855999721247, 47.59276026368702, 190.94440333459806, 87.32377368362617, 115.99490837828603, 116.7990193303162, 146.3222215038459, 106.44270026415485, 223.6300385754259], \"Category\": [\"Default\", \"Default\", \"Default\", \"Default\", \"Default\", \"Default\", \"Default\", \"Default\", \"Default\", \"Default\", \"Default\", \"Default\", \"Default\", \"Default\", \"Default\", \"Default\", \"Default\", \"Default\", \"Default\", \"Default\", \"Default\", \"Default\", \"Default\", \"Default\", \"Default\", \"Default\", \"Default\", \"Default\", \"Default\", \"Default\", \"Topic1\", \"Topic1\", \"Topic1\", \"Topic1\", \"Topic1\", \"Topic1\", \"Topic1\", \"Topic1\", \"Topic1\", \"Topic1\", \"Topic1\", \"Topic1\", \"Topic1\", \"Topic1\", \"Topic1\", \"Topic1\", \"Topic1\", \"Topic1\", \"Topic1\", \"Topic1\", \"Topic1\", \"Topic1\", \"Topic1\", \"Topic1\", \"Topic1\", \"Topic1\", \"Topic1\", \"Topic1\", \"Topic1\", \"Topic1\", \"Topic1\", \"Topic1\", \"Topic1\", \"Topic1\", \"Topic1\", \"Topic1\", \"Topic1\", \"Topic1\", \"Topic1\", \"Topic1\", \"Topic1\", \"Topic1\", \"Topic1\", \"Topic1\", \"Topic1\", \"Topic1\", \"Topic1\", \"Topic1\", \"Topic1\", \"Topic1\", \"Topic1\", \"Topic1\", \"Topic1\", \"Topic1\", \"Topic1\", \"Topic1\", \"Topic1\", \"Topic1\", \"Topic1\", \"Topic1\", \"Topic1\", \"Topic1\", \"Topic1\", \"Topic1\", \"Topic1\", \"Topic1\", \"Topic1\", \"Topic1\", \"Topic1\", \"Topic1\", \"Topic1\", \"Topic1\", \"Topic1\", \"Topic1\", \"Topic1\", \"Topic2\", \"Topic2\", \"Topic2\", \"Topic2\", \"Topic2\", \"Topic2\", \"Topic2\", \"Topic2\", \"Topic2\", \"Topic2\", \"Topic2\", \"Topic2\", \"Topic2\", \"Topic2\", \"Topic2\", \"Topic2\", \"Topic2\", \"Topic2\", \"Topic2\", \"Topic2\", \"Topic2\", \"Topic2\", \"Topic2\", \"Topic2\", \"Topic2\", \"Topic2\", \"Topic2\", \"Topic2\", \"Topic2\", \"Topic2\", \"Topic2\", \"Topic2\", \"Topic2\", \"Topic2\", \"Topic2\", \"Topic2\", \"Topic2\", \"Topic2\", \"Topic2\", \"Topic2\", \"Topic2\", \"Topic2\", \"Topic2\", \"Topic2\", \"Topic2\", \"Topic2\", \"Topic2\", \"Topic2\", \"Topic2\", \"Topic2\", \"Topic2\", \"Topic2\", \"Topic2\", \"Topic2\", \"Topic2\", \"Topic2\", \"Topic2\", \"Topic2\", \"Topic2\", \"Topic2\", \"Topic3\", \"Topic3\", \"Topic3\", \"Topic3\", \"Topic3\", \"Topic3\", \"Topic3\", \"Topic3\", \"Topic3\", \"Topic3\", \"Topic3\", \"Topic3\", \"Topic3\", \"Topic3\", \"Topic3\", \"Topic3\", \"Topic3\", \"Topic3\", \"Topic3\", \"Topic3\", \"Topic3\", \"Topic3\", \"Topic3\", \"Topic3\", \"Topic3\", \"Topic3\", \"Topic3\", \"Topic3\", \"Topic3\", \"Topic3\", \"Topic3\", \"Topic3\", \"Topic3\", \"Topic3\", \"Topic3\", \"Topic3\", \"Topic3\", \"Topic3\", \"Topic3\", \"Topic3\", \"Topic3\", \"Topic3\", \"Topic3\", \"Topic3\", \"Topic3\", \"Topic3\", \"Topic3\", \"Topic3\", \"Topic3\", \"Topic3\", \"Topic3\", \"Topic3\", \"Topic3\", \"Topic3\", \"Topic3\", \"Topic3\", \"Topic3\", \"Topic3\", \"Topic3\", \"Topic3\", \"Topic3\", \"Topic3\", \"Topic3\", \"Topic3\", \"Topic3\", \"Topic3\", \"Topic3\", \"Topic3\", \"Topic3\", \"Topic3\", \"Topic3\", \"Topic3\", \"Topic3\", \"Topic3\", \"Topic4\", \"Topic4\", \"Topic4\", \"Topic4\", \"Topic4\", \"Topic4\", \"Topic4\", \"Topic4\", \"Topic4\", \"Topic4\", \"Topic4\", \"Topic4\", \"Topic4\", \"Topic4\", \"Topic4\", \"Topic4\", \"Topic4\", \"Topic4\", \"Topic4\", \"Topic4\", \"Topic4\", \"Topic4\", \"Topic4\", \"Topic4\", \"Topic4\", \"Topic4\", \"Topic4\", \"Topic4\", \"Topic4\", \"Topic4\", \"Topic4\", \"Topic4\", \"Topic4\", \"Topic4\", \"Topic4\", \"Topic4\", \"Topic4\", \"Topic4\", \"Topic4\", \"Topic4\", \"Topic4\", \"Topic4\", \"Topic4\", \"Topic4\", \"Topic4\", \"Topic4\", \"Topic4\", \"Topic4\", \"Topic4\", \"Topic4\", \"Topic4\", \"Topic4\", \"Topic4\", \"Topic4\", \"Topic4\", \"Topic4\", \"Topic4\", \"Topic4\", \"Topic4\", \"Topic4\", \"Topic4\", \"Topic4\", \"Topic4\", \"Topic4\", \"Topic4\", \"Topic4\", \"Topic4\", \"Topic4\", \"Topic4\", \"Topic5\", \"Topic5\", \"Topic5\", \"Topic5\", \"Topic5\", \"Topic5\", \"Topic5\", \"Topic5\", \"Topic5\", \"Topic5\", \"Topic5\", \"Topic5\", \"Topic5\", \"Topic5\", \"Topic5\", \"Topic5\", \"Topic5\", \"Topic5\", \"Topic5\", \"Topic5\", \"Topic5\", \"Topic5\", \"Topic5\", \"Topic5\", \"Topic5\", \"Topic5\", \"Topic5\", \"Topic5\", \"Topic5\", \"Topic5\", \"Topic5\", \"Topic5\", \"Topic5\", \"Topic5\", \"Topic5\", \"Topic5\", \"Topic5\", \"Topic5\", \"Topic5\", \"Topic5\", \"Topic5\", \"Topic5\", \"Topic5\", \"Topic5\", \"Topic5\", \"Topic5\", \"Topic5\", \"Topic5\", \"Topic5\", \"Topic5\", \"Topic5\", \"Topic5\", \"Topic5\", \"Topic5\", \"Topic5\", \"Topic5\", \"Topic5\", \"Topic5\", \"Topic5\", \"Topic5\", \"Topic5\", \"Topic5\", \"Topic5\", \"Topic5\", \"Topic5\", \"Topic5\", \"Topic5\", \"Topic5\"], \"logprob\": [30.0, 29.0, 28.0, 27.0, 26.0, 25.0, 24.0, 23.0, 22.0, 21.0, 20.0, 19.0, 18.0, 17.0, 16.0, 15.0, 14.0, 13.0, 12.0, 11.0, 10.0, 9.0, 8.0, 7.0, 6.0, 5.0, 4.0, 3.0, 2.0, 1.0, -6.0388, -6.2638, -6.267, -6.5553, -6.5689, -6.261, -6.7793, -6.8546, -5.9709, -6.9216, -6.6348, -6.9357, -6.9599, -6.824, -7.0155, -7.0117, -7.0222, -7.0206, -6.9987, -6.9912, -6.9396, -7.094, -7.0717, -7.1966, -7.2176, -7.0927, -6.0693, -7.2232, -7.2149, -7.1265, -6.9281, -6.2224, -6.5754, -3.7537, -4.4015, -5.3047, -5.935, -5.1171, -6.6451, -4.5749, -5.352, -5.2335, -5.8992, -6.095, -5.7342, -4.9204, -3.9238, -5.8345, -5.8954, -5.4396, -5.4152, -4.425, -4.4576, -4.7125, -4.533, -5.1891, -4.6731, -5.4766, -5.2832, -5.2896, -3.3032, -5.1087, -5.4735, -5.0818, -4.987, -5.0792, -5.4459, -5.3646, -5.3426, -5.0219, -4.6961, -4.956, -5.3714, -5.3527, -5.3653, -3.5578, -5.2204, -5.9588, -3.4283, -6.3496, -3.2229, -5.9268, -5.2665, -6.6161, -6.6546, -6.6898, -6.7304, -6.6793, -5.4702, -6.8965, -7.0135, -7.0032, -6.9654, -5.5889, -7.1489, -7.2126, -7.2113, -7.2647, -7.1341, -7.2954, -5.4079, -7.4653, -7.4936, -7.4818, -7.5879, -2.5028, -4.5342, -4.32, -4.8833, -6.3135, -5.0511, -3.8288, -5.8739, -5.3302, -4.7152, -2.3474, -6.0866, -4.6356, -5.1868, -5.1458, -3.855, -5.4703, -4.7467, -5.5649, -4.4997, -4.9816, -5.2288, -5.1081, -4.7088, -4.9442, -5.2094, -5.1947, -5.3494, -5.3592, -5.4021, -6.2402, -6.2968, -5.9772, -6.6281, -6.6704, -6.6594, -6.6907, -6.6914, -6.7301, -6.6589, -6.7461, -6.7954, -6.7816, -6.813, -6.8833, -6.9286, -6.9309, -6.9429, -6.9481, -6.9261, -7.0161, -7.0472, -7.0479, -6.9742, -7.0482, -7.0485, -7.0485, -7.0492, -6.6785, -7.049, -6.1391, -5.1518, -5.3532, -5.9236, -6.6404, -5.2833, -4.9949, -4.2503, -5.2651, -4.7866, -5.435, -5.3157, -4.6939, -5.7988, -5.8691, -5.8851, -4.6212, -4.6958, -5.412, -5.6557, -4.7062, -5.6426, -5.2975, -5.8517, -6.2569, -4.2155, -5.5127, -4.7287, -5.1384, -4.8763, -4.8239, -4.6243, -3.5187, -4.7858, -4.9084, -4.6525, -5.0278, -5.0312, -5.1663, -5.0714, -5.2208, -5.2037, -5.2126, -5.2909, -5.5629, -5.9687, -5.968, -6.0392, -6.1712, -6.1777, -6.4074, -6.4151, -6.4731, -6.3173, -6.6566, -6.6674, -6.7654, -6.801, -6.8052, -6.8369, -6.8418, -6.8851, -6.9213, -6.8728, -6.943, -7.0222, -7.0382, -7.0567, -6.9483, -7.107, -6.8342, -7.1139, -7.1363, -7.1582, -6.0788, -6.3903, -4.3723, -3.6493, -6.1868, -4.7007, -5.7823, -5.3147, -4.5003, -5.1516, -5.1505, -6.1715, -5.0651, -4.9518, -4.3617, -4.6505, -4.8516, -5.9157, -3.9073, -5.2379, -2.8667, -4.4863, -5.6604, -4.6205, -5.1358, -4.935, -4.4988, -5.006, -5.5363, -5.1284, -4.9545, -5.3297, -4.9697, -5.0873, -5.2711, -5.2291, -5.2084, -5.2594, -4.9839, -3.942, -6.1127, -6.2439, -6.2964, -6.3772, -6.5058, -6.5982, -6.6417, -6.6388, -6.7568, -6.692, -6.064, -6.4495, -6.31, -5.8203, -6.8613, -6.9021, -6.9025, -6.9221, -6.9727, -6.9729, -6.9647, -6.9701, -6.9983, -7.0084, -7.0434, -7.0304, -7.0632, -7.0944, -5.2456, -6.2834, -3.3623, -5.5674, -6.5743, -3.5021, -6.5132, -5.418, -4.7102, -4.1617, -5.6551, -5.8494, -3.4762, -4.9651, -4.6043, -5.4494, -4.3095, -5.2119, -4.9392, -3.0881, -4.7173, -5.2792, -5.4411, -4.8179, -5.658, -4.8142, -4.7791, -4.6205, -5.1253, -5.312, -5.258, -5.4817, -5.0539, -5.3111, -5.2333, -5.255, -5.3556, -5.3982, -5.3879], \"loglift\": [30.0, 29.0, 28.0, 27.0, 26.0, 25.0, 24.0, 23.0, 22.0, 21.0, 20.0, 19.0, 18.0, 17.0, 16.0, 15.0, 14.0, 13.0, 12.0, 11.0, 10.0, 9.0, 8.0, 7.0, 6.0, 5.0, 4.0, 3.0, 2.0, 1.0, 1.1304, 1.1255, 1.1248, 1.1147, 1.1126, 1.1113, 1.1023, 1.0989, 1.0977, 1.0953, 1.0953, 1.0946, 1.0922, 1.092, 1.0887, 1.0886, 1.088, 1.0876, 1.0876, 1.0863, 1.0849, 1.0836, 1.082, 1.0748, 1.074, 1.0732, 1.0716, 1.0692, 1.0691, 1.0691, 1.0665, 1.0508, 1.057, 0.9085, 0.9119, 0.9366, 0.9805, 0.8967, 1.0394, 0.7923, 0.8876, 0.8729, 0.9324, 0.9539, 0.8989, 0.7543, 0.5692, 0.893, 0.8622, 0.7384, 0.7195, 0.4462, 0.4533, 0.5146, 0.4346, 0.6283, 0.4255, 0.7081, 0.6285, 0.6252, -0.4391, 0.4906, 0.6577, 0.3639, 0.1927, 0.2615, 0.4711, 0.3112, 0.279, -0.3208, -1.1695, -0.5973, 0.2341, 0.0932, -0.0525, 1.164, 1.1531, 1.1396, 1.1358, 1.135, 1.1341, 1.1311, 1.1309, 1.1236, 1.1213, 1.1195, 1.1169, 1.1135, 1.108, 1.1069, 1.1008, 1.1007, 1.1006, 1.0957, 1.0912, 1.0865, 1.0859, 1.0824, 1.0803, 1.0789, 1.0662, 1.0611, 1.0587, 1.0585, 1.0492, 1.0238, 1.041, 1.0313, 1.0266, 1.0327, 0.9557, 0.8724, 0.9921, 0.9092, 0.8192, 0.5168, 0.9675, 0.741, 0.8063, 0.78, 0.5036, 0.8318, 0.6438, 0.8365, 0.522, 0.5967, 0.6535, 0.5701, 0.2021, 0.2355, 0.4618, 0.2162, 0.2368, 0.2468, 0.2108, 1.7414, 1.7358, 1.7289, 1.7114, 1.7089, 1.7078, 1.7064, 1.7063, 1.7032, 1.6997, 1.6981, 1.6934, 1.6925, 1.6923, 1.6859, 1.6802, 1.6784, 1.6782, 1.6768, 1.6718, 1.6689, 1.6684, 1.6678, 1.6676, 1.6675, 1.6672, 1.6672, 1.6669, 1.6605, 1.6597, 1.6343, 1.5857, 1.5944, 1.6149, 1.637, 1.5315, 1.4695, 1.3865, 1.469, 1.3955, 1.4104, 1.3739, 1.2367, 1.462, 1.4515, 1.4301, 1.0717, 1.0861, 1.2059, 1.2637, 0.8799, 1.255, 1.0476, 1.2829, 1.4915, 0.2776, 1.0147, 0.5241, 0.7763, 0.5696, 0.5265, 0.3434, -0.6545, 0.4412, 0.5284, 0.2187, 0.5781, 0.5398, 0.4329, 0.2693, 0.4539, 0.1636, 0.1002, -0.3801, 2.086, 2.0628, 2.0626, 2.0589, 2.0485, 2.0465, 2.0274, 2.0214, 2.0131, 2.0078, 2.001, 1.9898, 1.9855, 1.9806, 1.9765, 1.9723, 1.9716, 1.9689, 1.9631, 1.9612, 1.9603, 1.9472, 1.9438, 1.942, 1.9376, 1.9321, 1.931, 1.9255, 1.9253, 1.9225, 1.8801, 1.8736, 1.7079, 1.6413, 1.8551, 1.6755, 1.7692, 1.6885, 1.4618, 1.5332, 1.5283, 1.7691, 1.3615, 1.3103, 1.084, 1.1136, 1.1349, 1.5991, 0.5858, 1.2586, -0.0026, 0.8265, 1.4563, 0.6323, 0.9772, 0.6642, 0.1634, 0.6652, 1.1041, 0.477, 0.1186, 0.7296, 0.052, 0.2631, 0.6062, 0.3924, 0.2284, 0.3534, -1.4573, 2.3482, 2.2678, 2.2513, 2.249, 2.2424, 2.2255, 2.2132, 2.2043, 2.2, 2.1875, 2.1838, 2.1799, 2.1776, 2.1769, 2.1751, 2.1716, 2.1648, 2.1645, 2.1593, 2.1501, 2.1501, 2.148, 2.1473, 2.1452, 2.1411, 2.1379, 2.131, 2.131, 2.1267, 2.1255, 2.1146, 2.0311, 2.0839, 2.0785, 1.571, 2.0254, 1.7278, 1.5073, 1.2493, 1.7159, 1.7664, 0.8825, 1.4138, 1.2184, 1.533, 0.7892, 1.3006, 1.1355, -0.2239, 0.9043, 1.2557, 1.3236, 0.7876, 1.4807, 0.5362, 0.4738, 0.2507, 0.7756, 1.0052, 0.855, 1.0873, 0.1258, 0.651, 0.4449, 0.4163, 0.0903, 0.3659, -0.3662]}, \"token.table\": {\"Topic\": [1, 2, 3, 3, 1, 3, 1, 3, 5, 1, 3, 1, 2, 3, 4, 5, 1, 2, 1, 1, 3, 5, 1, 2, 3, 4, 2, 1, 3, 5, 3, 3, 4, 3, 5, 1, 2, 2, 1, 2, 3, 4, 5, 1, 4, 2, 5, 4, 1, 2, 5, 1, 2, 4, 1, 2, 4, 5, 2, 3, 5, 1, 2, 3, 4, 3, 4, 3, 5, 4, 2, 3, 1, 2, 3, 4, 1, 2, 3, 4, 1, 2, 3, 4, 5, 1, 2, 3, 4, 5, 1, 2, 3, 4, 1, 2, 3, 4, 5, 2, 4, 5, 1, 2, 3, 4, 5, 4, 3, 1, 2, 3, 4, 4, 2, 1, 2, 3, 4, 5, 1, 2, 3, 4, 5, 1, 2, 3, 4, 5, 5, 1, 4, 1, 2, 5, 4, 5, 5, 3, 5, 2, 4, 1, 2, 3, 4, 3, 1, 3, 3, 1, 2, 3, 4, 1, 2, 3, 4, 5, 1, 2, 3, 4, 5, 4, 2, 4, 1, 3, 4, 3, 2, 1, 3, 1, 3, 4, 5, 1, 2, 3, 4, 5, 2, 5, 2, 5, 1, 2, 3, 4, 5, 1, 2, 3, 4, 1, 2, 3, 4, 5, 1, 2, 3, 4, 5, 1, 2, 3, 4, 5, 5, 2, 2, 4, 1, 2, 1, 2, 3, 4, 3, 4, 3, 1, 2, 3, 4, 5, 1, 2, 1, 1, 2, 5, 3, 1, 2, 3, 4, 5, 1, 2, 3, 4, 5, 2, 1, 2, 3, 4, 5, 3, 4, 1, 3, 4, 1, 3, 1, 2, 3, 4, 4, 1, 3, 5, 1, 2, 3, 4, 5, 1, 2, 3, 4, 5, 2, 4, 1, 3, 1, 2, 3, 4, 1, 2, 3, 4, 5, 2, 1, 2, 5, 1, 4, 3, 2, 1, 3, 4, 1, 2, 3, 5, 1, 2, 3, 1, 2, 4, 5, 1, 2, 4, 5, 4, 1, 2, 3, 5, 4, 2, 1, 5, 1, 2, 3, 4, 5, 1, 2, 3, 4, 5, 1, 2, 3, 4, 5, 1, 3, 4, 5, 1, 2, 4, 4, 1, 1, 2, 3, 4, 5, 1, 4, 1, 4, 5, 1, 2, 3, 4, 1, 1, 1, 2, 3, 4, 1, 2, 3, 4, 5, 1, 2, 3, 4, 5, 1, 2, 3, 4, 1, 2, 3, 4, 5, 3, 4, 1, 2, 3, 4, 5, 1, 5, 1, 2, 3, 4, 5, 4, 1, 3, 5, 5, 5, 1, 2, 3, 4, 5, 1, 1, 2, 3, 4, 5, 1, 2, 3, 4, 1, 4, 1, 2, 3, 4, 5, 2, 4, 1, 2, 3, 4, 2, 3, 1, 2, 4, 5, 4, 2, 5, 1, 2, 3, 4, 5, 3, 3, 4, 4, 3, 5, 5, 3, 1, 2, 3, 4, 5, 5, 1, 2, 3, 4, 5, 2, 4, 5, 1, 2, 3, 4, 4, 1, 2, 3, 4, 5, 1, 3, 4, 1, 2, 4, 1, 2, 3, 4, 1, 3, 4, 1, 1, 2, 3, 4, 1, 5, 4, 4, 1, 1, 1, 2, 3, 4, 5, 5, 1, 1, 2, 4, 3, 1, 2, 2, 3, 3, 2, 1, 2, 3, 4, 2, 5, 4, 3, 4, 5, 1, 2, 3, 4, 5, 1, 1, 2, 4, 1, 2, 3, 5, 4, 5, 3, 4, 1, 3, 5, 1, 2, 3, 1, 1, 5, 1, 2, 1, 3, 1, 2, 3, 5, 2, 5, 1, 2, 5, 3, 1, 2, 3, 4, 2, 1, 2, 3, 1, 4, 4, 1, 2, 3, 4, 5, 1, 3, 2, 4, 5, 2, 5, 1, 2, 3, 4, 5, 1, 2, 3, 4, 5, 3, 3, 3, 1, 2, 3, 4, 1, 2, 4, 5, 1, 2, 4, 5, 2, 2, 4, 1, 2, 3, 5, 1, 4, 1, 1, 2, 3, 4, 5, 2, 3, 4, 5, 1, 3, 4, 1, 1, 2, 3, 4, 5, 1, 2, 3, 4, 5, 1, 3, 5, 1, 2, 3, 4, 5, 1, 3, 4, 1, 4, 1, 2, 3, 4, 1, 2, 3, 4, 5, 1, 2, 3, 5, 1, 2, 3, 4, 5, 1, 2, 3, 4, 5, 2, 5, 5, 1, 2, 3, 4, 5, 1, 2, 3, 4, 5, 1, 3], \"Freq\": [0.2098247475810216, 0.08392989903240865, 0.7134041417754735, 0.8081702710685571, 0.2672932616495557, 0.7127820310654818, 0.1880655878840437, 0.7522623515361748, 0.026866512554863383, 0.3281941783873918, 0.6706576688785831, 0.7922811135292215, 0.05464007679511872, 0.10928015359023743, 0.14302792281424143, 0.8581675368854486, 0.017280776638252313, 0.9850042683803819, 0.9573275322842131, 0.9058673998851817, 0.13085100863608093, 0.7851060518164855, 0.4300462010012936, 0.28383049266085375, 0.23222494854069853, 0.05160554412015523, 0.8944502674243138, 0.2770034012766581, 0.6648081630639795, 0.027700340127665816, 0.9151474566120921, 0.8408467075892069, 0.14014111793153447, 0.8989591252345746, 0.7663619754509144, 0.8975139110642365, 0.06410813650458833, 0.9051836075600408, 0.5534874621881396, 0.01317827290924142, 0.2161236757115593, 0.213488021129711, 0.002635654581848284, 0.9006494131442186, 0.7929262765762213, 0.015897873240493725, 0.9856681409106111, 0.7452294129215257, 0.934975794336401, 0.034628733123570406, 0.9129991083304313, 0.02263706234258489, 0.964904782352681, 0.011318531171292445, 0.22717565313216298, 0.739943555916188, 0.0064907329466332275, 0.0227175653132163, 0.8695301868938848, 0.07608389135321493, 0.0543456366808678, 0.2835051172792898, 0.012886596239967718, 0.05154638495987087, 0.6572164082383537, 0.8177293537084391, 0.8675005587960705, 0.7989983359126627, 0.909791557575036, 0.8094231689083125, 0.9447812120556077, 0.8989407617939226, 0.7540726538135895, 0.1719814824487134, 0.06614672401873592, 0.851525663098921, 0.6396439872660912, 0.21775114460122252, 0.10887557230061126, 0.013609446537576408, 0.30063123089311716, 0.18789451930819823, 0.018789451930819823, 0.35699958668557663, 0.13152616351573876, 0.7718592370357434, 0.012060300578683491, 0.1447236069442019, 0.024120601157366982, 0.048241202314733965, 0.6701290534621674, 0.034365592485239356, 0.25774194363929515, 0.034365592485239356, 0.28688501516477394, 0.14344250758238697, 0.48770452578011564, 0.03825133535530319, 0.03825133535530319, 0.24844325743038193, 0.6625153531476852, 0.9038400829713644, 0.2586320418665543, 0.5517483559819825, 0.017242136124436952, 0.034484272248873904, 0.1465581570577141, 0.9069220704448696, 0.9079912418310222, 0.11116947370610054, 0.11702049863800058, 0.1579776731613008, 0.614357617849503, 0.9280301443287469, 0.886806138409748, 0.34171159709112137, 0.16402156660373823, 0.29387197349836436, 0.09567924718551397, 0.10251347912733641, 0.20212503679945237, 0.5190116034441181, 0.08529573164171264, 0.11838013664213451, 0.0749568550790808, 0.1508028017913415, 0.4308651479752615, 0.0861730295950523, 0.14003117309195998, 0.20466094528824919, 0.8060184923697707, 0.9223428344547515, 0.9502912147928348, 0.03450642202320966, 0.9615789603801091, 0.0023004281348806437, 0.8010170696496253, 0.11443100994994647, 0.7775041338281493, 0.16882635840400484, 0.6753054336160194, 0.8309195837414958, 0.7769545390142822, 0.2607369809416063, 0.02370336190378239, 0.6399907714021245, 0.07111008571134717, 0.9156547813796666, 0.9383808211551751, 0.9490767536856587, 0.8077524346172659, 0.23592546852461938, 0.14155528111477161, 0.09437018740984775, 0.5426285776066245, 0.6537269091701646, 0.014211454547177491, 0.12790309092459742, 0.09948018183024245, 0.11369163637741993, 0.1412236688276285, 0.16946840259315418, 0.10356402380692756, 0.13180875757245325, 0.45191574024841114, 0.7681620724563227, 0.9700302882799055, 0.8481483430021425, 0.4702881206077978, 0.4702881206077978, 0.05038801292226405, 0.8471816851646516, 0.9160410334924066, 0.11079444693532832, 0.8309583520149624, 0.6295097265420576, 0.1573774316355144, 0.1573774316355144, 0.04292111771877665, 0.20506220078225473, 0.10253110039112737, 0.2435113634289275, 0.15379665058669106, 0.2947769136244912, 0.8711388373142254, 0.8165386297757783, 0.2788553958549952, 0.7133510126523133, 0.39280467624415244, 0.056114953749164635, 0.15231201731916114, 0.19239412713999302, 0.20842697106832578, 0.26267159438264515, 0.05837146541836559, 0.5837146541836559, 0.11674293083673118, 0.12842573581528882, 0.48801779609809753, 0.008561715721019254, 0.23116632446751986, 0.14554916725732733, 0.3311210555251152, 0.3795777953580589, 0.08883735636039677, 0.16959858941530292, 0.024228369916471846, 0.07990879745553717, 0.13318132909256195, 0.25304452527586774, 0.31963518982214867, 0.22640825945735532, 0.8322324688434608, 0.9750604056895883, 0.16870618342207414, 0.7591778253993335, 0.09141370952438393, 0.8684302404816474, 0.7771972508255132, 0.003121274099700856, 0.0780318524925214, 0.14045733448653852, 0.8635485143377376, 0.12336407347681966, 0.8597076074276119, 0.27766769541465397, 0.09800036308752492, 0.17966733232712903, 0.17966733232712903, 0.26133430156673315, 0.8831514433671483, 0.9631665524494741, 0.9496689112757996, 0.8814281130213459, 0.44891062499873846, 0.5237290624985282, 0.8740698253936396, 0.38231023651465573, 0.39278448956985174, 0.10474253055196046, 0.01571137958279407, 0.10474253055196046, 0.13577514445901626, 0.5883589593224038, 0.11637869525058536, 0.11637869525058536, 0.05172386455581572, 0.8939123907882426, 0.5880152354657884, 0.17422673643430767, 0.09800253924429805, 0.04355668410857692, 0.08711336821715383, 0.7517219808491301, 0.2050150856861264, 0.3088836233113085, 0.5515778987701937, 0.1323786957048465, 0.1159772533435511, 0.8118407734048578, 0.09730637432380436, 0.09730637432380436, 0.16217729053967392, 0.6487091621586957, 0.9268515190614077, 0.7617330683600226, 0.20163522397765304, 0.8103871093617107, 0.12482107787834236, 0.5616948504525406, 0.18723161681751355, 0.06241053893917118, 0.06241053893917118, 0.015726955854705422, 0.3931738963676355, 0.3931738963676355, 0.11795216891029066, 0.08649825720087981, 0.9592610340171731, 0.03425932264347047, 0.38775190484876443, 0.5965413920750222, 0.4038480368921762, 0.10096200922304405, 0.25240502305761015, 0.2397847719047296, 0.48855803399138886, 0.14233580517859362, 0.20388642363420165, 0.042316050188230536, 0.11925432325774059, 0.8705271390135508, 0.2342800359049317, 0.2342800359049317, 0.5154160789908497, 0.9754180629129934, 0.8258326225784957, 0.8989089174630782, 0.9464016345382673, 0.509870699865636, 0.254935349932818, 0.23103516087661635, 0.19060562406328502, 0.2223732280738325, 0.1588380200527375, 0.444746456147665, 0.07076044489533656, 0.9198857836393752, 0.9171024137093274, 0.03888990409564606, 0.8789118325616011, 0.0077779808191292136, 0.07000182737216291, 0.08884151118266599, 0.7107320894613279, 0.12437811565573238, 0.07107320894613278, 0.7896531268297191, 0.48372003571970634, 0.020155001488321098, 0.4635650342313853, 0.040310002976642195, 0.8512991994893738, 0.9833505528124287, 0.9337651763844799, 0.8652095020194649, 0.14932808498222389, 0.7018419994164522, 0.014932808498222387, 0.07466404249111194, 0.05973123399288955, 0.2591880851414143, 0.08451785385046118, 0.27609165591150653, 0.22538094360122982, 0.15213213693083014, 0.43135888233957714, 0.0631256900984747, 0.16833517359593253, 0.22093991534466145, 0.11573043184720362, 0.17725428029950266, 0.7090171211980106, 0.08862714014975133, 0.044313570074875665, 0.03822018581700542, 0.8981743666996272, 0.057330278725508124, 0.7682048745198186, 0.9618898636094221, 0.1728147054654135, 0.5115315281776239, 0.05990909789467668, 0.02765035287446616, 0.22581121514147362, 0.3787212053520145, 0.5951333226960228, 0.575890673349984, 0.05957489724310179, 0.3375910843775768, 0.8023986942966179, 0.09083758803357939, 0.04541879401678969, 0.06055839202238626, 0.9394012999452288, 0.9411304490853382, 0.22194180503141153, 0.036990300838568586, 0.5918448134170974, 0.18495150419284295, 0.18774792502359125, 0.16427943439564235, 0.18774792502359125, 0.36376160473320807, 0.08213971719782118, 0.4781040551323911, 0.20766135727972546, 0.06278134057294026, 0.04346400501203556, 0.20766135727972546, 0.03908386449542003, 0.41038057720191035, 0.1367935257339701, 0.41038057720191035, 0.4060082577477216, 0.2522172510250998, 0.21530740941167054, 0.04306148188233411, 0.07997132349576334, 0.8989138859579178, 0.9385623725165889, 0.5846079685806335, 0.04954304818479945, 0.25762385056095716, 0.00990860963695989, 0.0990860963695989, 0.11216827437455001, 0.7851779206218501, 0.45099978174635486, 0.02733332010583969, 0.1571665906085782, 0.348499831349456, 0.013666660052919844, 0.931154533809452, 0.24784972553265192, 0.7187642040446905, 0.02478497255326519, 0.870307736092415, 0.8422393582249789, 0.22362703725530295, 0.18635586437941912, 0.2795337965691287, 0.15529655364951592, 0.16150841579549657, 0.9369050742382434, 0.29913981174217436, 0.23931184939373948, 0.1794838870453046, 0.2692258305679569, 0.005982796234843487, 0.15355017906151994, 0.6968815818945905, 0.12992707459051686, 0.02362310447100307, 0.9586845349990145, 0.9061482475914849, 0.011975067226677294, 0.8023295041873787, 0.11975067226677294, 0.011975067226677294, 0.05987533613338647, 0.18329461950269463, 0.7331784780107785, 0.17645159926388823, 0.3930058347241147, 0.29675950785290295, 0.13634896306755, 0.948278612514627, 0.8992677776452351, 0.14137272940245627, 0.8482363764147376, 0.028274545880491254, 0.8591178018493141, 0.755635772505454, 0.9557169451393246, 0.03539692389404906, 0.6102909394093045, 0.1356202087576232, 0.17630627138491017, 0.08137212525457392, 0.013562020875762321, 0.9592034935639544, 0.4455108215667274, 0.5393025734755121, 0.8798312300952704, 0.8639456729918226, 0.8104892105711659, 0.8226367610060119, 0.9488688164774669, 0.4154714922964804, 0.04887899909370357, 0.13034399758320953, 0.1792229966769131, 0.22810199577061668, 0.9000006371263296, 0.1594086309452385, 0.6503872142565731, 0.04463441666466678, 0.07651614285371448, 0.07013979761590494, 0.9330942928925959, 0.021206688474831727, 0.021206688474831727, 0.7782344547047123, 0.01197283776468788, 0.1436740531762546, 0.06585060770578335, 0.9695226614819075, 0.0972603912563861, 0.8623086235102272, 0.004010737783768498, 0.02807516448637949, 0.009024160013479122, 0.4216769479717791, 0.5659348512252825, 0.01109676178873103, 0.15593364456423733, 0.1905855655785123, 0.6410605387640869, 0.5898080511247761, 0.05461185658562741, 0.3604382534651409, 0.8758690768139258, 0.9305986760833563, 0.03722394704333425, 0.03722394704333425, 0.9419650962681364, 0.20982280764437866, 0.6736416455951104, 0.0883464453239489, 0.022086611330987226, 0.969742833067313, 0.7913154122791105, 0.7157392396767464, 0.8526110811650505, 0.9228446004787656, 0.9580788994158304, 0.3462313701954396, 0.054668111083490456, 0.12755892586147774, 0.4555675923624205, 0.8439932494887505, 0.8192539754368708, 0.893923313998785, 0.7632526331239791, 0.12310526340709341, 0.09848421072567472, 0.8926739744656941, 0.006626216101629444, 0.9906193071936019, 0.9484393989572046, 0.931665909023748, 0.834876967427238, 0.8925981575124988, 0.22565199014305773, 0.06769559704291732, 0.3384779852145866, 0.36104318422889237, 0.08748597060305513, 0.7873737354274962, 0.7454791230979002, 0.04686057762137687, 0.18744231048550747, 0.7966298195634067, 0.8319410919306158, 0.02971218185466485, 0.0594243637093297, 0.0594243637093297, 0.02971218185466485, 0.9477792248743601, 0.9340331383512316, 0.5565048644642175, 0.4328371168055025, 0.20916406188966938, 0.7079399017804194, 0.04826862966684678, 0.03217908644456452, 0.15060483372106986, 0.7530241686053493, 0.8989089174630782, 0.8574788430690581, 0.8922990480418923, 0.08498086171827546, 0.8022491139864943, 0.8148014904375738, 0.03395006210156557, 0.13580024840626229, 0.9223679916878753, 0.9568109539426021, 0.8133161858911202, 0.8741556597658552, 0.08741556597658552, 0.17406371404522705, 0.7957198356353237, 0.0746084590721765, 0.8704320225087259, 0.03108685794674021, 0.018652114768044126, 0.980691148243116, 0.8273133176473115, 0.41697146135472646, 0.19111191978758296, 0.3822238395751659, 0.8208535281382494, 0.21800238774350486, 0.14533492516233656, 0.14533492516233656, 0.5086722380681781, 0.9287133204962416, 0.1892508244916097, 0.07570032979664389, 0.7191531330681169, 0.9127301970419022, 0.06084867980279347, 0.7621786867900873, 0.32527361776593083, 0.32527361776593083, 0.27880595808508357, 0.06195687957446301, 0.7663224090037637, 0.9259016217703484, 0.8717803612951404, 0.3091941502416162, 0.5153235837360269, 0.18322616310614293, 0.5617995698655252, 0.4287417770026376, 0.43833242177456627, 0.11954520593851807, 0.09962100494876505, 0.019924200989753012, 0.3187872158360482, 0.5035275122898888, 0.29554875721363033, 0.08757000213737196, 0.010946250267171494, 0.09851625240454345, 0.8805608795014624, 0.8881352324872769, 0.898864976350567, 0.6949142659285572, 0.03790441450519403, 0.19583947494350248, 0.07580882901038806, 0.22338126241629747, 0.40614774984781354, 0.06092216247717203, 0.3249181998782508, 0.2311275903951495, 0.18910439214148594, 0.2941623877756448, 0.27315078864881304, 0.9387547791405104, 0.9441822062779145, 0.8478338331927598, 0.43437857706896044, 0.025551681004056494, 0.17886176702839546, 0.3577235340567909, 0.2806031441858209, 0.6734475460459701, 0.954403657059121, 0.1715875799852802, 0.3827722938133174, 0.09239331229976627, 0.02639808922850465, 0.3299761153563081, 0.8190859206117993, 0.034128580025491635, 0.06825716005098327, 0.06825716005098327, 0.09203756936394478, 0.7976589344875215, 0.061358379575963184, 0.9447727604606738, 0.4923097256111067, 0.38023921896792795, 0.11207050664317876, 0.004002518094399242, 0.012007554283197724, 0.05286829978808241, 0.5921249576265231, 0.042294639830465934, 0.20089953919471318, 0.10573659957616482, 0.35907715005166757, 0.059846191675277924, 0.5386157250775013, 0.5271089583430809, 0.06588861979288511, 0.25806376085546673, 0.09334221137325392, 0.0549071831607376, 0.755710376249854, 0.1511420752499708, 0.0755710376249854, 0.9715278226781386, 0.9519205687729174, 0.13599391254561846, 0.7706321710918379, 0.0755521736364547, 0.015110434727290938, 0.40246983003853976, 0.06999475305018082, 0.4812139272199932, 0.02624803239381781, 0.017498688262545206, 0.3308899821688162, 0.008272249554220405, 0.6617799643376324, 0.7407033189902976, 0.17886684747187398, 0.5231855288552314, 0.11179177966992124, 0.12520679323031178, 0.06707506780195274, 0.07428444365942102, 0.14856888731884205, 0.11142666548913154, 0.2599955528079736, 0.40856444012681564, 0.18604478944463945, 0.7441791577785578, 0.8940092364844098, 0.28444160398811724, 0.2641243465603946, 0.27766918484554304, 0.14899322113663285, 0.027089676570296883, 0.4829410662523157, 0.18216198113025944, 0.2329978828410295, 0.0465995765682059, 0.055072226853334245, 0.7358159734393624, 0.2537296460135733], \"Term\": [\"1\", \"1\", \"1\", \"10\", \"2\", \"2\", \"4\", \"4\", \"4\", \"5\", \"5\", \"actually\", \"actually\", \"actually\", \"advanced\", \"advanced\", \"ai\", \"ai\", \"almost\", \"along\", \"alot\", \"alot\", \"also\", \"also\", \"also\", \"also\", \"analytics\", \"answer\", \"answer\", \"answer\", \"applicable\", \"appreciate\", \"appreciate\", \"approximately\", \"aspire\", \"assessment\", \"assessment\", \"assigment\", \"assignment\", \"assignment\", \"assignment\", \"assignment\", \"assignment\", \"assume\", \"audio\", \"awesome\", \"awesome\", \"awsome\", \"bad\", \"bad\", \"badge\", \"basic\", \"basic\", \"basic\", \"beginner\", \"beginner\", \"beginner\", \"beginner\", \"best\", \"best\", \"best\", \"bit\", \"bit\", \"bit\", \"bit\", \"blah\", \"boring\", \"brilliant\", \"c\", \"care\", \"career\", \"cc\", \"challenge\", \"challenge\", \"challenge\", \"challenging\", \"class\", \"class\", \"class\", \"class\", \"clear\", \"clear\", \"clear\", \"clear\", \"clear\", \"cloud\", \"cloud\", \"cloud\", \"cloud\", \"cloud\", \"code\", \"code\", \"code\", \"code\", \"complete\", \"complete\", \"complete\", \"complete\", \"complete\", \"comprehensive\", \"comprehensive\", \"con\", \"concept\", \"concept\", \"concept\", \"concept\", \"concept\", \"confusing\", \"consider\", \"content\", \"content\", \"content\", \"content\", \"cool\", \"core\", \"could\", \"could\", \"could\", \"could\", \"could\", \"course\", \"course\", \"course\", \"course\", \"course\", \"coursera\", \"coursera\", \"coursera\", \"coursera\", \"coursera\", \"coursework\", \"credential\", \"credit\", \"data\", \"data\", \"data\", \"date\", \"date\", \"decide\", \"demonstrate\", \"demonstrate\", \"descriptive\", \"desire\", \"didnt\", \"didnt\", \"didnt\", \"didnt\", \"discuss\", \"discussion\", \"display\", \"distract\", \"do\", \"do\", \"do\", \"do\", \"dont\", \"dont\", \"dont\", \"dont\", \"dont\", \"easy\", \"easy\", \"easy\", \"easy\", \"easy\", \"edit\", \"effective\", \"efficient\", \"end\", \"end\", \"end\", \"endpoint\", \"enhance\", \"environment\", \"environment\", \"error\", \"error\", \"error\", \"error\", \"example\", \"example\", \"example\", \"example\", \"example\", \"excelent\", \"excelente\", \"excellent\", \"excellent\", \"exercise\", \"exercise\", \"exercise\", \"exercise\", \"exercise\", \"expect\", \"expect\", \"expect\", \"expect\", \"experience\", \"experience\", \"experience\", \"experience\", \"experience\", \"explain\", \"explain\", \"explain\", \"explain\", \"explain\", \"explanation\", \"explanation\", \"explanation\", \"explanation\", \"explanation\", \"explanatory\", \"familiar\", \"fantastic\", \"fantastic\", \"field\", \"field\", \"final\", \"final\", \"final\", \"final\", \"five\", \"five\", \"flow\", \"follow\", \"follow\", \"follow\", \"follow\", \"follow\", \"force\", \"foundation\", \"frustrate\", \"frustration\", \"fun\", \"fun\", \"generate\", \"get\", \"get\", \"get\", \"get\", \"get\", \"give\", \"give\", \"give\", \"give\", \"give\", \"glad\", \"go\", \"go\", \"go\", \"go\", \"go\", \"google\", \"google\", \"grade\", \"grade\", \"grade\", \"guidance\", \"guidance\", \"hand\", \"hand\", \"hand\", \"hand\", \"handy\", \"hard\", \"hard\", \"hear\", \"help\", \"help\", \"help\", \"help\", \"help\", \"helpful\", \"helpful\", \"helpful\", \"helpful\", \"helpful\", \"highly\", \"highly\", \"hour\", \"hour\", \"however\", \"however\", \"however\", \"however\", \"ibm\", \"ibm\", \"ibm\", \"ibm\", \"ibm\", \"implement\", \"important\", \"important\", \"important\", \"impossible\", \"increase\", \"index\", \"insight\", \"instruction\", \"instruction\", \"instruction\", \"interactive\", \"interactive\", \"interactive\", \"interactive\", \"interesting\", \"interesting\", \"interface\", \"introduction\", \"introduction\", \"introduction\", \"introduction\", \"introductory\", \"introductory\", \"introductory\", \"introductory\", \"irrelevant\", \"issue\", \"issue\", \"issue\", \"issue\", \"join\", \"journey\", \"jump\", \"key\", \"knowledge\", \"knowledge\", \"knowledge\", \"knowledge\", \"knowledge\", \"lab\", \"lab\", \"lab\", \"lab\", \"lab\", \"labs\", \"labs\", \"labs\", \"labs\", \"labs\", \"lack\", \"lack\", \"lack\", \"lack\", \"language\", \"language\", \"language\", \"late\", \"leap\", \"learn\", \"learn\", \"learn\", \"learn\", \"learn\", \"leave\", \"leave\", \"lecture\", \"lecture\", \"lecture\", \"lesson\", \"lesson\", \"lesson\", \"lesson\", \"let\", \"line\", \"link\", \"link\", \"link\", \"link\", \"little\", \"little\", \"little\", \"little\", \"little\", \"lot\", \"lot\", \"lot\", \"lot\", \"lot\", \"love\", \"love\", \"love\", \"love\", \"make\", \"make\", \"make\", \"make\", \"make\", \"maker\", \"manageable\", \"many\", \"many\", \"many\", \"many\", \"many\", \"mark\", \"mark\", \"material\", \"material\", \"material\", \"material\", \"material\", \"misleading\", \"mistake\", \"mistake\", \"mistake\", \"mix\", \"moment\", \"much\", \"much\", \"much\", \"much\", \"much\", \"multiple\", \"need\", \"need\", \"need\", \"need\", \"need\", \"new\", \"new\", \"new\", \"new\", \"notebooks\", \"number\", \"numpy\", \"numpy\", \"numpy\", \"numpy\", \"numpy\", \"okay\", \"okay\", \"one\", \"one\", \"one\", \"one\", \"orient\", \"output\", \"overview\", \"overview\", \"overview\", \"pa\", \"package\", \"panda\", \"panda\", \"part\", \"part\", \"part\", \"part\", \"part\", \"particularly\", \"peer\", \"peer\", \"peergraded\", \"per\", \"perfectionist\", \"perform\", \"perhaps\", \"practice\", \"practice\", \"practice\", \"practice\", \"practice\", \"professor\", \"program\", \"program\", \"program\", \"program\", \"program\", \"programming\", \"programming\", \"programming\", \"project\", \"project\", \"project\", \"project\", \"properly\", \"python\", \"python\", \"python\", \"python\", \"python\", \"question\", \"question\", \"question\", \"quite\", \"quite\", \"quite\", \"quiz\", \"quiz\", \"quiz\", \"r\", \"read\", \"read\", \"read\", \"reason\", \"recommend\", \"recommend\", \"recommend\", \"recommend\", \"reflect\", \"register\", \"relation\", \"relevance\", \"relevant\", \"resolve\", \"review\", \"review\", \"review\", \"review\", \"sample\", \"satisfied\", \"save\", \"say\", \"say\", \"say\", \"school\", \"science\", \"science\", \"scientist\", \"screen\", \"script\", \"search\", \"section\", \"section\", \"section\", \"section\", \"sense\", \"sense\", \"sequence\", \"session\", \"session\", \"session\", \"set\", \"set\", \"set\", \"set\", \"set\", \"setup\", \"sign\", \"simple\", \"simple\", \"skill\", \"skill\", \"skill\", \"skill\", \"skip\", \"skip\", \"slice\", \"smooth\", \"solve\", \"solve\", \"somehow\", \"something\", \"something\", \"something\", \"speak\", \"spend\", \"spending\", \"spent\", \"spent\", \"star\", \"star\", \"start\", \"start\", \"start\", \"start\", \"starter\", \"statistic\", \"step\", \"step\", \"step\", \"stick\", \"still\", \"still\", \"still\", \"still\", \"structured\", \"studio\", \"studio\", \"studio\", \"subject\", \"subject\", \"superb\", \"take\", \"take\", \"take\", \"take\", \"target\", \"terrible\", \"terrific\", \"thank\", \"thank\", \"thank\", \"thanks\", \"thanks\", \"thing\", \"thing\", \"thing\", \"thing\", \"thing\", \"think\", \"think\", \"think\", \"think\", \"think\", \"throughout\", \"throw\", \"thumb\", \"time\", \"time\", \"time\", \"time\", \"tool\", \"tool\", \"tool\", \"tool\", \"topic\", \"topic\", \"topic\", \"topic\", \"touch\", \"training\", \"tuples\", \"tutorial\", \"tutorial\", \"tutorial\", \"tutorial\", \"typos\", \"typos\", \"unclear\", \"understand\", \"understand\", \"understand\", \"understand\", \"understand\", \"understanding\", \"understanding\", \"understanding\", \"understanding\", \"update\", \"update\", \"update\", \"upload\", \"use\", \"use\", \"use\", \"use\", \"use\", \"useful\", \"useful\", \"useful\", \"useful\", \"useful\", \"user\", \"user\", \"user\", \"video\", \"video\", \"video\", \"video\", \"video\", \"videos\", \"videos\", \"videos\", \"voice\", \"wait\", \"want\", \"want\", \"want\", \"want\", \"watson\", \"watson\", \"watson\", \"watson\", \"watson\", \"week\", \"week\", \"week\", \"weekend\", \"well\", \"well\", \"well\", \"well\", \"well\", \"wish\", \"wish\", \"wish\", \"wish\", \"wish\", \"wonderful\", \"wonderful\", \"wonderfull\", \"work\", \"work\", \"work\", \"work\", \"work\", \"would\", \"would\", \"would\", \"would\", \"would\", \"write\", \"write\"]}, \"R\": 30, \"lambda.step\": 0.01, \"plot.opts\": {\"xlab\": \"PC1\", \"ylab\": \"PC2\"}, \"topic.order\": [4, 1, 5, 2, 3]};\n",
       "\n",
       "function LDAvis_load_lib(url, callback){\n",
       "  var s = document.createElement('script');\n",
       "  s.src = url;\n",
       "  s.async = true;\n",
       "  s.onreadystatechange = s.onload = callback;\n",
       "  s.onerror = function(){console.warn(\"failed to load library \" + url);};\n",
       "  document.getElementsByTagName(\"head\")[0].appendChild(s);\n",
       "}\n",
       "\n",
       "if(typeof(LDAvis) !== \"undefined\"){\n",
       "   // already loaded: just create the visualization\n",
       "   !function(LDAvis){\n",
       "       new LDAvis(\"#\" + \"ldavis_el373351404995585410087915217567\", ldavis_el373351404995585410087915217567_data);\n",
       "   }(LDAvis);\n",
       "}else if(typeof define === \"function\" && define.amd){\n",
       "   // require.js is available: use it to load d3/LDAvis\n",
       "   require.config({paths: {d3: \"https://d3js.org/d3.v5\"}});\n",
       "   require([\"d3\"], function(d3){\n",
       "      window.d3 = d3;\n",
       "      LDAvis_load_lib(\"https://cdn.jsdelivr.net/gh/bmabey/pyLDAvis@3.2.2/pyLDAvis/js/ldavis.v3.0.0.js\", function(){\n",
       "        new LDAvis(\"#\" + \"ldavis_el373351404995585410087915217567\", ldavis_el373351404995585410087915217567_data);\n",
       "      });\n",
       "    });\n",
       "}else{\n",
       "    // require.js not available: dynamically load d3 & LDAvis\n",
       "    LDAvis_load_lib(\"https://d3js.org/d3.v5.js\", function(){\n",
       "         LDAvis_load_lib(\"https://cdn.jsdelivr.net/gh/bmabey/pyLDAvis@3.2.2/pyLDAvis/js/ldavis.v3.0.0.js\", function(){\n",
       "                 new LDAvis(\"#\" + \"ldavis_el373351404995585410087915217567\", ldavis_el373351404995585410087915217567_data);\n",
       "            })\n",
       "         });\n",
       "}\n",
       "</script>"
      ],
      "text/plain": [
       "PreparedData(topic_coordinates=              x         y  topics  cluster       Freq\n",
       "topic                                                \n",
       "3     -0.075540 -0.046638       1        1  31.345166\n",
       "0      0.186234 -0.098805       2        1  30.968159\n",
       "4     -0.135910 -0.001505       3        1  16.446991\n",
       "1     -0.052281 -0.025315       4        1  11.857357\n",
       "2      0.077497  0.172263       5        1   9.382328, topic_info=           Term        Freq       Total Category  logprob  loglift\n",
       "15       python  997.000000  997.000000  Default  30.0000  30.0000\n",
       "99         data  434.000000  434.000000  Default  29.0000  29.0000\n",
       "107     science  301.000000  301.000000  Default  28.0000  28.0000\n",
       "13        basic  353.000000  353.000000  Default  27.0000  27.0000\n",
       "17    excellent  154.000000  154.000000  Default  26.0000  26.0000\n",
       "..          ...         ...         ...      ...      ...      ...\n",
       "164     concept   16.980826  115.994908   Topic5  -5.2333   0.4449\n",
       "274  experience   16.616353  116.799019   Topic5  -5.2550   0.4163\n",
       "318       could   15.026170  146.322222   Topic5  -5.3556   0.0903\n",
       "2         clear   14.399382  106.442700   Topic5  -5.3982   0.3659\n",
       "12         well   14.547421  223.630039   Topic5  -5.3879  -0.3662\n",
       "\n",
       "[376 rows x 6 columns], token_table=      Topic      Freq   Term\n",
       "term                        \n",
       "1529      1  0.209825      1\n",
       "1529      2  0.083930      1\n",
       "1529      3  0.713404      1\n",
       "1547      3  0.808170     10\n",
       "1455      1  0.267293      2\n",
       "...     ...       ...    ...\n",
       "96        3  0.232998  would\n",
       "96        4  0.046600  would\n",
       "96        5  0.055072  would\n",
       "97        1  0.735816  write\n",
       "97        3  0.253730  write\n",
       "\n",
       "[706 rows x 3 columns], R=30, lambda_step=0.01, plot_opts={'xlab': 'PC1', 'ylab': 'PC2'}, topic_order=[4, 1, 5, 2, 3])"
      ]
     },
     "execution_count": 31,
     "metadata": {},
     "output_type": "execute_result"
    }
   ],
   "source": [
    "# Visualize the topics\n",
    "pyLDAvis.enable_notebook()\n",
    "vis = pyLDAvis.gensim.prepare(lda_model, corpus, dictionary)\n",
    "vis"
   ]
  },
  {
   "cell_type": "markdown",
   "metadata": {},
   "source": [
    "What is topic perplexity and topic coherence: https://towardsdatascience.com/evaluate-topic-model-in-python-latent-dirichlet-allocation-lda-7d57484bb5d0"
   ]
  },
  {
   "cell_type": "code",
   "execution_count": 32,
   "metadata": {},
   "outputs": [
    {
     "name": "stdout",
     "output_type": "stream",
     "text": [
      "\n",
      "Perplexity:  -6.831443532904345\n",
      "\n",
      "Coherence Score:  0.557005666998422\n"
     ]
    }
   ],
   "source": [
    "# Calculate Perplexity and Coherence\n",
    "\n",
    "# Compute Perplexity\n",
    "\n",
    "print('\\nPerplexity: ', lda_model.log_perplexity(corpus))  # a measure of how good the model is. The lower the better.\n",
    "\n",
    "# Compute Coherence Score\n",
    "\n",
    "coherence_model_lda = CoherenceModel(model = lda_model, texts = df['preprocessed'], dictionary = dictionary, coherence = 'c_v')\n",
    "coherence_lda = coherence_model_lda.get_coherence()\n",
    "print('\\nCoherence Score: ', coherence_lda)"
   ]
  },
  {
   "cell_type": "markdown",
   "metadata": {},
   "source": [
    "## Hyperparameter Tuning\n",
    "\n",
    "Code references\n",
    "\n",
    "Find the optimal number of topics, alpha and beta: https://towardsdatascience.com/evaluate-topic-model-in-python-latent-dirichlet-allocation-lda-7d57484bb5d0\n",
    "\n",
    "What is alpha and beta: https://www.thoughtvector.io/blog/lda-alpha-and-beta-parameters-the-intuition/"
   ]
  },
  {
   "cell_type": "markdown",
   "metadata": {},
   "source": [
    "## Calculate the coherence score\n",
    "\n",
    "Code reference: \n",
    "\n",
    "https://www.machinelearningplus.com/nlp/topic-modeling-gensim-python/#17howtofindtheoptimalnumberoftopicsforlda"
   ]
  },
  {
   "cell_type": "code",
   "execution_count": 33,
   "metadata": {},
   "outputs": [],
   "source": [
    "# Determine the optiomal number of topics by calculating the coherence score\n",
    "\n",
    "# Define function for calculating coherence score\n",
    "\n",
    "def compute_coherence_values(dictionary, corpus, texts, limit, start = 2, step = 3):\n",
    "    \"\"\"\n",
    "    Compute c_v coherence for various number of topics\n",
    "\n",
    "    Parameters:\n",
    "    ----------\n",
    "    dictionary : Gensim dictionary\n",
    "    corpus : Gensim corpus\n",
    "    texts : List of input texts\n",
    "    limit : Max num of topics\n",
    "\n",
    "    Returns:\n",
    "    -------\n",
    "    model_list : List of LDA topic models\n",
    "    coherence_values : Coherence values corresponding to the LDA model with respective number of topics\n",
    "    \"\"\"\n",
    "    coherence_values = []\n",
    "    model_list = []\n",
    "    for num_topics in range(start, limit, step):\n",
    "        model = LDA(corpus = corpus, num_topics = num_topics, id2word = dictionary, random_state = 100,\n",
    "                chunksize = 100, passes = 10)\n",
    "        model_list.append(model)\n",
    "        coherencemodel = CoherenceModel(model = model, texts = texts, dictionary = dictionary, coherence = 'c_v')\n",
    "        coherence_values.append(coherencemodel.get_coherence())\n",
    "\n",
    "    return model_list, coherence_values"
   ]
  },
  {
   "cell_type": "code",
   "execution_count": 34,
   "metadata": {},
   "outputs": [],
   "source": [
    "# Can take a long time to run.\n",
    "\n",
    "model_list, coherence_values = compute_coherence_values(dictionary = dictionary, corpus = corpus, texts = df['preprocessed'], start = 2, limit = 10, step = 1)"
   ]
  },
  {
   "cell_type": "code",
   "execution_count": 35,
   "metadata": {},
   "outputs": [
    {
     "data": {
      "image/png": "[encoded data removed]",
      "text/plain": [
       "<Figure size 432x288 with 1 Axes>"
      ]
     },
     "metadata": {
      "needs_background": "light"
     },
     "output_type": "display_data"
    }
   ],
   "source": [
    "# Show graph\n",
    "\n",
    "limit = 10; start = 2; step = 1;\n",
    "x = range(start, limit, step)\n",
    "plt.plot(x, coherence_values)\n",
    "plt.xlabel(\"Num Topics\")\n",
    "plt.ylabel(\"Coherence score\")\n",
    "plt.legend((\"coherence_values\"), loc = 'best')\n",
    "plt.show()\n"
   ]
  },
  {
   "cell_type": "code",
   "execution_count": 36,
   "metadata": {},
   "outputs": [
    {
     "name": "stdout",
     "output_type": "stream",
     "text": [
      "Num Topics = 2  has Coherence Value of 0.5788\n",
      "Num Topics = 3  has Coherence Value of 0.5983\n",
      "Num Topics = 4  has Coherence Value of 0.5166\n",
      "Num Topics = 5  has Coherence Value of 0.5516\n",
      "Num Topics = 6  has Coherence Value of 0.5391\n",
      "Num Topics = 7  has Coherence Value of 0.5467\n",
      "Num Topics = 8  has Coherence Value of 0.5366\n",
      "Num Topics = 9  has Coherence Value of 0.5497\n"
     ]
    }
   ],
   "source": [
    "# Print the coherence scores\n",
    "\n",
    "for m, cv in zip(x, coherence_values):\n",
    "    print(\"Num Topics =\", m, \" has Coherence Value of\", round(cv, 4))"
   ]
  },
  {
   "cell_type": "markdown",
   "metadata": {},
   "source": [
    "## LDA Mallet Model\n",
    "\n",
    "Code reference:\n",
    "\n",
    "https://www.machinelearningplus.com/nlp/topic-modeling-gensim-python/#17howtofindtheoptimalnumberoftopicsforlda"
   ]
  },
  {
   "cell_type": "code",
   "execution_count": null,
   "metadata": {},
   "outputs": [],
   "source": [
    "mallet_path = '/Users/siriamanda/Desktop/LNU-VT-2021/Thesis/11-data-analysis/mallet-2.0.8/bin/mallet' # update this path\n",
    "ldamallet = gensim.models.wrappers.LdaMallet(mallet_path, corpus = corpus, num_topics = 5, id2word = dictionary)"
   ]
  },
  {
   "cell_type": "code",
   "execution_count": null,
   "metadata": {},
   "outputs": [],
   "source": [
    "# Show Topics\n",
    "pprint(ldamallet.show_topics(formatted = False))\n",
    "\n",
    "# Compute Coherence Score\n",
    "coherence_model_ldamallet = CoherenceModel(model = ldamallet, texts = df['preprocessed'], dictionary = dictionary, coherence = 'c_v')\n",
    "coherence_ldamallet = coherence_model_ldamallet.get_coherence()\n",
    "print('\\nCoherence Score: ', coherence_ldamallet)\n",
    "\n",
    "# The coherence score using the Mallet Model is lower than the original LDA Model"
   ]
  },
  {
   "cell_type": "code",
   "execution_count": null,
   "metadata": {},
   "outputs": [],
   "source": []
  },
  {
   "cell_type": "code",
   "execution_count": null,
   "metadata": {},
   "outputs": [],
   "source": []
  }
 ],
 "metadata": {
  "kernelspec": {
   "display_name": "Python 3",
   "language": "python",
   "name": "python3"
  },
  "language_info": {
   "codemirror_mode": {
    "name": "ipython",
    "version": 3
   },
   "file_extension": ".py",
   "mimetype": "text/x-python",
   "name": "python",
   "nbconvert_exporter": "python",
   "pygments_lexer": "ipython3",
   "version": "3.7.6"
  }
 },
 "nbformat": 4,
 "nbformat_minor": 4
}
