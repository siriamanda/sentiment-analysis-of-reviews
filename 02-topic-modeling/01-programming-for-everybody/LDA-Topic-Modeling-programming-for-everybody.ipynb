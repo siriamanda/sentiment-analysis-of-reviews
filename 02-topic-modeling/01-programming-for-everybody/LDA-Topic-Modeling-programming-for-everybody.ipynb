{
 "cells": [
  {
   "cell_type": "code",
   "execution_count": 2,
   "metadata": {},
   "outputs": [
    {
     "name": "stderr",
     "output_type": "stream",
     "text": [
      "/Users/siriamanda/opt/anaconda3/lib/python3.7/site-packages/scipy/sparse/sparsetools.py:21: DeprecationWarning: `scipy.sparse.sparsetools` is deprecated!\n",
      "scipy.sparse.sparsetools is a private module for scipy.sparse, and should not be used.\n",
      "  _deprecated()\n",
      "/Users/siriamanda/opt/anaconda3/lib/python3.7/site-packages/nltk/decorators.py:70: DeprecationWarning: `formatargspec` is deprecated since Python 3.5. Use `signature` and the `Signature` object directly\n",
      "  formatvalue=lambda value: \"\")[1:-1]\n"
     ]
    }
   ],
   "source": [
    "# Import the libraries\n",
    "\n",
    "import pandas as pd \n",
    "import numpy as np\n",
    "\n",
    "from pprint import pprint\n",
    "\n",
    "# libraries for visualization\n",
    "import pyLDAvis\n",
    "import pyLDAvis.gensim\n",
    "import matplotlib.pyplot as plt\n",
    "import seaborn as sns\n",
    "%matplotlib inline\n",
    "\n",
    "import re\n",
    "\n",
    "import spacy\n",
    "\n",
    "import gensim\n",
    "from gensim import corpora, models\n",
    "from gensim.utils import simple_preprocess\n",
    "from gensim.models import CoherenceModel\n",
    "\n",
    "import nltk\n",
    "from nltk import FreqDist\n",
    "from nltk.corpus import stopwords\n",
    "from nltk.tokenize import RegexpTokenizer\n",
    "from nltk.stem import WordNetLemmatizer, SnowballStemmer\n",
    "from nltk.tag import pos_tag, pos_tag_sents\n",
    "from nltk.corpus import wordnet\n",
    "\n",
    "import warnings\n",
    "warnings.filterwarnings(\"ignore\")\n"
   ]
  },
  {
   "cell_type": "markdown",
   "metadata": {},
   "source": [
    "Code references:\n",
    "\n",
    "https://www.analyticsvidhya.com/blog/2018/10/mining-online-reviews-topic-modeling-lda/\n"
   ]
  },
  {
   "cell_type": "code",
   "execution_count": 3,
   "metadata": {},
   "outputs": [],
   "source": [
    "df = pd.read_csv('/Users/siriamanda/Desktop/LNU-VT-2021/Thesis/11-data-analysis/sentiment-analysis-of-reviews/01-sentiment-analysis/01-programming-for-everybody/VADER-programming-for-everybody.csv')"
   ]
  },
  {
   "cell_type": "code",
   "execution_count": 4,
   "metadata": {},
   "outputs": [
    {
     "data": {
      "text/html": [
       "<div>\n",
       "<style scoped>\n",
       "    .dataframe tbody tr th:only-of-type {\n",
       "        vertical-align: middle;\n",
       "    }\n",
       "\n",
       "    .dataframe tbody tr th {\n",
       "        vertical-align: top;\n",
       "    }\n",
       "\n",
       "    .dataframe thead th {\n",
       "        text-align: right;\n",
       "    }\n",
       "</style>\n",
       "<table border=\"1\" class=\"dataframe\">\n",
       "  <thead>\n",
       "    <tr style=\"text-align: right;\">\n",
       "      <th></th>\n",
       "      <th>Unnamed: 0</th>\n",
       "      <th>date</th>\n",
       "      <th>review</th>\n",
       "      <th>rating</th>\n",
       "      <th>status</th>\n",
       "      <th>length</th>\n",
       "      <th>label</th>\n",
       "      <th>language_scores</th>\n",
       "      <th>language</th>\n",
       "      <th>scores</th>\n",
       "      <th>compound</th>\n",
       "      <th>sentiment</th>\n",
       "    </tr>\n",
       "  </thead>\n",
       "  <tbody>\n",
       "    <tr>\n",
       "      <th>0</th>\n",
       "      <td>0</td>\n",
       "      <td>2021-03-11</td>\n",
       "      <td>Nice Course for beginners where we can enjoy a...</td>\n",
       "      <td>5</td>\n",
       "      <td>completer</td>\n",
       "      <td>135</td>\n",
       "      <td>pos</td>\n",
       "      <td>{'language': 'en', 'score': 0.9999988169641919}</td>\n",
       "      <td>en</td>\n",
       "      <td>{'neg': 0.0, 'neu': 0.601, 'pos': 0.399, 'comp...</td>\n",
       "      <td>0.9062</td>\n",
       "      <td>pos</td>\n",
       "    </tr>\n",
       "    <tr>\n",
       "      <th>1</th>\n",
       "      <td>1</td>\n",
       "      <td>2021-03-11</td>\n",
       "      <td>Super easy and totally for the beginners like ...</td>\n",
       "      <td>5</td>\n",
       "      <td>completer</td>\n",
       "      <td>163</td>\n",
       "      <td>pos</td>\n",
       "      <td>{'language': 'en', 'score': 0.9999984011655625}</td>\n",
       "      <td>en</td>\n",
       "      <td>{'neg': 0.0, 'neu': 0.453, 'pos': 0.547, 'comp...</td>\n",
       "      <td>0.9678</td>\n",
       "      <td>pos</td>\n",
       "    </tr>\n",
       "    <tr>\n",
       "      <th>2</th>\n",
       "      <td>2</td>\n",
       "      <td>2021-03-11</td>\n",
       "      <td>Very interactive and a nice course to start pr...</td>\n",
       "      <td>5</td>\n",
       "      <td>completer</td>\n",
       "      <td>67</td>\n",
       "      <td>pos</td>\n",
       "      <td>{'language': 'en', 'score': 0.9999980645444568}</td>\n",
       "      <td>en</td>\n",
       "      <td>{'neg': 0.0, 'neu': 0.746, 'pos': 0.254, 'comp...</td>\n",
       "      <td>0.4703</td>\n",
       "      <td>pos</td>\n",
       "    </tr>\n",
       "    <tr>\n",
       "      <th>3</th>\n",
       "      <td>3</td>\n",
       "      <td>2021-03-11</td>\n",
       "      <td>Awesome course! Definitely a very nice introdu...</td>\n",
       "      <td>5</td>\n",
       "      <td>completer</td>\n",
       "      <td>166</td>\n",
       "      <td>pos</td>\n",
       "      <td>{'language': 'en', 'score': 0.9999973332745635}</td>\n",
       "      <td>en</td>\n",
       "      <td>{'neg': 0.0, 'neu': 0.553, 'pos': 0.447, 'comp...</td>\n",
       "      <td>0.9448</td>\n",
       "      <td>pos</td>\n",
       "    </tr>\n",
       "    <tr>\n",
       "      <th>4</th>\n",
       "      <td>4</td>\n",
       "      <td>2021-03-11</td>\n",
       "      <td>Perfect for new learners</td>\n",
       "      <td>5</td>\n",
       "      <td>completer</td>\n",
       "      <td>24</td>\n",
       "      <td>pos</td>\n",
       "      <td>{'language': 'en', 'score': 0.9999967444537561}</td>\n",
       "      <td>en</td>\n",
       "      <td>{'neg': 0.0, 'neu': 0.448, 'pos': 0.552, 'comp...</td>\n",
       "      <td>0.5719</td>\n",
       "      <td>pos</td>\n",
       "    </tr>\n",
       "  </tbody>\n",
       "</table>\n",
       "</div>"
      ],
      "text/plain": [
       "   Unnamed: 0        date                                             review  \\\n",
       "0           0  2021-03-11  Nice Course for beginners where we can enjoy a...   \n",
       "1           1  2021-03-11  Super easy and totally for the beginners like ...   \n",
       "2           2  2021-03-11  Very interactive and a nice course to start pr...   \n",
       "3           3  2021-03-11  Awesome course! Definitely a very nice introdu...   \n",
       "4           4  2021-03-11                           Perfect for new learners   \n",
       "\n",
       "   rating     status  length label  \\\n",
       "0       5  completer     135   pos   \n",
       "1       5  completer     163   pos   \n",
       "2       5  completer      67   pos   \n",
       "3       5  completer     166   pos   \n",
       "4       5  completer      24   pos   \n",
       "\n",
       "                                   language_scores language  \\\n",
       "0  {'language': 'en', 'score': 0.9999988169641919}       en   \n",
       "1  {'language': 'en', 'score': 0.9999984011655625}       en   \n",
       "2  {'language': 'en', 'score': 0.9999980645444568}       en   \n",
       "3  {'language': 'en', 'score': 0.9999973332745635}       en   \n",
       "4  {'language': 'en', 'score': 0.9999967444537561}       en   \n",
       "\n",
       "                                              scores  compound sentiment  \n",
       "0  {'neg': 0.0, 'neu': 0.601, 'pos': 0.399, 'comp...    0.9062       pos  \n",
       "1  {'neg': 0.0, 'neu': 0.453, 'pos': 0.547, 'comp...    0.9678       pos  \n",
       "2  {'neg': 0.0, 'neu': 0.746, 'pos': 0.254, 'comp...    0.4703       pos  \n",
       "3  {'neg': 0.0, 'neu': 0.553, 'pos': 0.447, 'comp...    0.9448       pos  \n",
       "4  {'neg': 0.0, 'neu': 0.448, 'pos': 0.552, 'comp...    0.5719       pos  "
      ]
     },
     "execution_count": 4,
     "metadata": {},
     "output_type": "execute_result"
    }
   ],
   "source": [
    "df.head()"
   ]
  },
  {
   "cell_type": "code",
   "execution_count": 5,
   "metadata": {},
   "outputs": [],
   "source": [
    "df.drop(['Unnamed: 0', 'language_scores', 'language', 'scores'], axis = 1, inplace = True)"
   ]
  },
  {
   "cell_type": "code",
   "execution_count": 6,
   "metadata": {},
   "outputs": [
    {
     "data": {
      "text/html": [
       "<div>\n",
       "<style scoped>\n",
       "    .dataframe tbody tr th:only-of-type {\n",
       "        vertical-align: middle;\n",
       "    }\n",
       "\n",
       "    .dataframe tbody tr th {\n",
       "        vertical-align: top;\n",
       "    }\n",
       "\n",
       "    .dataframe thead th {\n",
       "        text-align: right;\n",
       "    }\n",
       "</style>\n",
       "<table border=\"1\" class=\"dataframe\">\n",
       "  <thead>\n",
       "    <tr style=\"text-align: right;\">\n",
       "      <th></th>\n",
       "      <th>date</th>\n",
       "      <th>review</th>\n",
       "      <th>rating</th>\n",
       "      <th>status</th>\n",
       "      <th>length</th>\n",
       "      <th>label</th>\n",
       "      <th>compound</th>\n",
       "      <th>sentiment</th>\n",
       "    </tr>\n",
       "  </thead>\n",
       "  <tbody>\n",
       "    <tr>\n",
       "      <th>0</th>\n",
       "      <td>2021-03-11</td>\n",
       "      <td>Nice Course for beginners where we can enjoy a...</td>\n",
       "      <td>5</td>\n",
       "      <td>completer</td>\n",
       "      <td>135</td>\n",
       "      <td>pos</td>\n",
       "      <td>0.9062</td>\n",
       "      <td>pos</td>\n",
       "    </tr>\n",
       "    <tr>\n",
       "      <th>1</th>\n",
       "      <td>2021-03-11</td>\n",
       "      <td>Super easy and totally for the beginners like ...</td>\n",
       "      <td>5</td>\n",
       "      <td>completer</td>\n",
       "      <td>163</td>\n",
       "      <td>pos</td>\n",
       "      <td>0.9678</td>\n",
       "      <td>pos</td>\n",
       "    </tr>\n",
       "    <tr>\n",
       "      <th>2</th>\n",
       "      <td>2021-03-11</td>\n",
       "      <td>Very interactive and a nice course to start pr...</td>\n",
       "      <td>5</td>\n",
       "      <td>completer</td>\n",
       "      <td>67</td>\n",
       "      <td>pos</td>\n",
       "      <td>0.4703</td>\n",
       "      <td>pos</td>\n",
       "    </tr>\n",
       "    <tr>\n",
       "      <th>3</th>\n",
       "      <td>2021-03-11</td>\n",
       "      <td>Awesome course! Definitely a very nice introdu...</td>\n",
       "      <td>5</td>\n",
       "      <td>completer</td>\n",
       "      <td>166</td>\n",
       "      <td>pos</td>\n",
       "      <td>0.9448</td>\n",
       "      <td>pos</td>\n",
       "    </tr>\n",
       "    <tr>\n",
       "      <th>4</th>\n",
       "      <td>2021-03-11</td>\n",
       "      <td>Perfect for new learners</td>\n",
       "      <td>5</td>\n",
       "      <td>completer</td>\n",
       "      <td>24</td>\n",
       "      <td>pos</td>\n",
       "      <td>0.5719</td>\n",
       "      <td>pos</td>\n",
       "    </tr>\n",
       "    <tr>\n",
       "      <th>...</th>\n",
       "      <td>...</td>\n",
       "      <td>...</td>\n",
       "      <td>...</td>\n",
       "      <td>...</td>\n",
       "      <td>...</td>\n",
       "      <td>...</td>\n",
       "      <td>...</td>\n",
       "      <td>...</td>\n",
       "    </tr>\n",
       "    <tr>\n",
       "      <th>9558</th>\n",
       "      <td>2020-07-21</td>\n",
       "      <td>excellent explanation starting with how comput...</td>\n",
       "      <td>5</td>\n",
       "      <td>dropout</td>\n",
       "      <td>129</td>\n",
       "      <td>pos</td>\n",
       "      <td>0.9080</td>\n",
       "      <td>pos</td>\n",
       "    </tr>\n",
       "    <tr>\n",
       "      <th>9559</th>\n",
       "      <td>2020-07-21</td>\n",
       "      <td>My friend recommanded the lecture. It really d...</td>\n",
       "      <td>5</td>\n",
       "      <td>dropout</td>\n",
       "      <td>69</td>\n",
       "      <td>pos</td>\n",
       "      <td>0.5411</td>\n",
       "      <td>pos</td>\n",
       "    </tr>\n",
       "    <tr>\n",
       "      <th>9560</th>\n",
       "      <td>2020-07-21</td>\n",
       "      <td>Highly recommend this sets  a good foundation ...</td>\n",
       "      <td>5</td>\n",
       "      <td>dropout</td>\n",
       "      <td>56</td>\n",
       "      <td>pos</td>\n",
       "      <td>0.6901</td>\n",
       "      <td>pos</td>\n",
       "    </tr>\n",
       "    <tr>\n",
       "      <th>9561</th>\n",
       "      <td>2020-07-21</td>\n",
       "      <td>best python programming course for absolute be...</td>\n",
       "      <td>5</td>\n",
       "      <td>dropout</td>\n",
       "      <td>53</td>\n",
       "      <td>pos</td>\n",
       "      <td>0.6369</td>\n",
       "      <td>pos</td>\n",
       "    </tr>\n",
       "    <tr>\n",
       "      <th>9562</th>\n",
       "      <td>2020-07-21</td>\n",
       "      <td>best one</td>\n",
       "      <td>4</td>\n",
       "      <td>completer</td>\n",
       "      <td>8</td>\n",
       "      <td>pos</td>\n",
       "      <td>0.6369</td>\n",
       "      <td>pos</td>\n",
       "    </tr>\n",
       "  </tbody>\n",
       "</table>\n",
       "<p>9563 rows × 8 columns</p>\n",
       "</div>"
      ],
      "text/plain": [
       "            date                                             review  rating  \\\n",
       "0     2021-03-11  Nice Course for beginners where we can enjoy a...       5   \n",
       "1     2021-03-11  Super easy and totally for the beginners like ...       5   \n",
       "2     2021-03-11  Very interactive and a nice course to start pr...       5   \n",
       "3     2021-03-11  Awesome course! Definitely a very nice introdu...       5   \n",
       "4     2021-03-11                           Perfect for new learners       5   \n",
       "...          ...                                                ...     ...   \n",
       "9558  2020-07-21  excellent explanation starting with how comput...       5   \n",
       "9559  2020-07-21  My friend recommanded the lecture. It really d...       5   \n",
       "9560  2020-07-21  Highly recommend this sets  a good foundation ...       5   \n",
       "9561  2020-07-21  best python programming course for absolute be...       5   \n",
       "9562  2020-07-21                                           best one       4   \n",
       "\n",
       "         status  length label  compound sentiment  \n",
       "0     completer     135   pos    0.9062       pos  \n",
       "1     completer     163   pos    0.9678       pos  \n",
       "2     completer      67   pos    0.4703       pos  \n",
       "3     completer     166   pos    0.9448       pos  \n",
       "4     completer      24   pos    0.5719       pos  \n",
       "...         ...     ...   ...       ...       ...  \n",
       "9558    dropout     129   pos    0.9080       pos  \n",
       "9559    dropout      69   pos    0.5411       pos  \n",
       "9560    dropout      56   pos    0.6901       pos  \n",
       "9561    dropout      53   pos    0.6369       pos  \n",
       "9562  completer       8   pos    0.6369       pos  \n",
       "\n",
       "[9563 rows x 8 columns]"
      ]
     },
     "execution_count": 6,
     "metadata": {},
     "output_type": "execute_result"
    }
   ],
   "source": [
    "df"
   ]
  },
  {
   "cell_type": "code",
   "execution_count": 7,
   "metadata": {},
   "outputs": [
    {
     "data": {
      "text/plain": [
       "0"
      ]
     },
     "execution_count": 7,
     "metadata": {},
     "output_type": "execute_result"
    }
   ],
   "source": [
    "# Check for null values\n",
    "\n",
    "len(df[df['review'].isna()==True])"
   ]
  },
  {
   "cell_type": "code",
   "execution_count": 8,
   "metadata": {},
   "outputs": [],
   "source": [
    "# Drop null values\n",
    "\n",
    "# df.dropna(inplace = True)"
   ]
  },
  {
   "cell_type": "code",
   "execution_count": 9,
   "metadata": {},
   "outputs": [],
   "source": [
    "# Check for null values\n",
    "\n",
    "# len(df[df['review'].isna()==True])"
   ]
  },
  {
   "cell_type": "code",
   "execution_count": 10,
   "metadata": {},
   "outputs": [],
   "source": [
    "# Reset the index\n",
    "\n",
    "# df = df.reset_index(drop = True)"
   ]
  },
  {
   "cell_type": "code",
   "execution_count": 12,
   "metadata": {},
   "outputs": [],
   "source": [
    "# df"
   ]
  },
  {
   "cell_type": "code",
   "execution_count": 13,
   "metadata": {},
   "outputs": [],
   "source": [
    "# Define a function to plot the most frequent words\n",
    "\n",
    "def freq_words(x, terms = 30):\n",
    "    all_words = ' '.join([text for text in x])\n",
    "    all_words = all_words.split()\n",
    "\n",
    "    fdist = FreqDist(all_words)\n",
    "    words_df = pd.DataFrame({'word':list(fdist.keys()), 'count':list(fdist.values())})\n",
    "    \n",
    "    # selecting top 20 most frequent words\n",
    "    d = words_df.nlargest(columns=\"count\", n = terms) \n",
    "    plt.figure(figsize=(20,5))\n",
    "    ax = sns.barplot(data=d, x= \"word\", y = \"count\")\n",
    "    ax.set(ylabel = 'Count')\n",
    "    plt.xticks(rotation = 45)\n",
    "    plt.show()"
   ]
  },
  {
   "cell_type": "code",
   "execution_count": 14,
   "metadata": {},
   "outputs": [
    {
     "data": {
      "image/png": "[encoded data removed]",
      "text/plain": [
       "<Figure size 1440x360 with 1 Axes>"
      ]
     },
     "metadata": {
      "needs_background": "light"
     },
     "output_type": "display_data"
    }
   ],
   "source": [
    "# The most frquent words are stop words such as 'to' and 'the' we will remove these in the preprocessing steps\n",
    "\n",
    "freq_words(df['review'])"
   ]
  },
  {
   "cell_type": "markdown",
   "metadata": {},
   "source": [
    "## Preprocessing"
   ]
  },
  {
   "cell_type": "code",
   "execution_count": 15,
   "metadata": {},
   "outputs": [
    {
     "data": {
      "text/plain": [
       "0    nice course for beginners where we can enjoy a...\n",
       "1    super easy and totally for the beginners like ...\n",
       "2    very interactive and a nice course to start pr...\n",
       "3    awesome course! definitely a very nice introdu...\n",
       "4                             perfect for new learners\n",
       "Name: preprocessed, dtype: object"
      ]
     },
     "execution_count": 15,
     "metadata": {},
     "output_type": "execute_result"
    }
   ],
   "source": [
    "# Covert to lowercase\n",
    "\n",
    "df['preprocessed'] =  df['review'].apply(lambda x: \" \".join(x.lower() for x in x.split()))\n",
    "df['preprocessed'].head()"
   ]
  },
  {
   "cell_type": "code",
   "execution_count": 16,
   "metadata": {},
   "outputs": [
    {
     "data": {
      "text/plain": [
       "0    nice course for beginners where we can enjoy a...\n",
       "1    super easy and totally for the beginners like ...\n",
       "2    very interactive and a nice course to start pr...\n",
       "3    awesome course definitely a very nice introduc...\n",
       "4                             perfect for new learners\n",
       "Name: preprocessed, dtype: object"
      ]
     },
     "execution_count": 16,
     "metadata": {},
     "output_type": "execute_result"
    }
   ],
   "source": [
    "# Remove punctuations\n",
    "\n",
    "df['preprocessed'] = df['preprocessed'].str.replace('[^\\w\\s]','')\n",
    "df['preprocessed'].head()"
   ]
  },
  {
   "cell_type": "code",
   "execution_count": 17,
   "metadata": {},
   "outputs": [
    {
     "data": {
      "text/plain": [
       "0    course beginners enjoy learn well dr chuck mad...\n",
       "1    super easy totally beginners course title prof...\n",
       "2          interactive course start programming pyhton\n",
       "3    awesome course definitely introduction coding ...\n",
       "4                                 perfect new learners\n",
       "Name: preprocessed, dtype: object"
      ]
     },
     "execution_count": 17,
     "metadata": {},
     "output_type": "execute_result"
    }
   ],
   "source": [
    "# Remove stopwords\n",
    "\n",
    "stop = stopwords.words('english')\n",
    "stop.extend(['good', 'great', 'really', 'like', 'nice'])\n",
    "\n",
    "df['preprocessed'] = df['preprocessed'].apply(lambda x: \" \".join(x for x in x.split() if x not in stop))\n",
    "df['preprocessed'].head()"
   ]
  },
  {
   "cell_type": "code",
   "execution_count": 18,
   "metadata": {},
   "outputs": [],
   "source": [
    "# Remove short words (length < 3)\n",
    "\n",
    "# df['review'] = df['review'].apply(lambda x: ' '.join([w for w in x.split() if len(w)>2]))\n",
    "# df['review'].head()"
   ]
  },
  {
   "cell_type": "code",
   "execution_count": 19,
   "metadata": {},
   "outputs": [
    {
     "data": {
      "image/png": "[encoded data removed]",
      "text/plain": [
       "<Figure size 1440x360 with 1 Axes>"
      ]
     },
     "metadata": {
      "needs_background": "light"
     },
     "output_type": "display_data"
    }
   ],
   "source": [
    "# Look at the most frequent words again \n",
    "\n",
    "freq_words(df['preprocessed'])"
   ]
  },
  {
   "cell_type": "code",
   "execution_count": 20,
   "metadata": {},
   "outputs": [
    {
     "data": {
      "text/plain": [
       "0    [course, beginners, enjoy, learn, well, dr, ch...\n",
       "1    [super, easy, totally, beginners, course, titl...\n",
       "2    [interactive, course, start, programming, pyhton]\n",
       "3    [awesome, course, definitely, introduction, co...\n",
       "4                             [perfect, new, learners]\n",
       "Name: preprocessed, dtype: object"
      ]
     },
     "execution_count": 20,
     "metadata": {},
     "output_type": "execute_result"
    }
   ],
   "source": [
    "# Tokenization\n",
    "\n",
    "tokenizer = RegexpTokenizer(r'\\w+')\n",
    "\n",
    "df['preprocessed'] = df['preprocessed'].apply(lambda x: tokenizer.tokenize(x.lower()))\n",
    "df['preprocessed'].head(5)\n"
   ]
  },
  {
   "cell_type": "code",
   "execution_count": 21,
   "metadata": {},
   "outputs": [
    {
     "data": {
      "text/plain": [
       "0    [(course, NN), (beginners, NNS), (enjoy, VBP),...\n",
       "1    [(super, JJ), (easy, JJ), (totally, RB), (begi...\n",
       "2    [(interactive, JJ), (course, NN), (start, NN),...\n",
       "3    [(awesome, JJ), (course, NN), (definitely, RB)...\n",
       "4          [(perfect, JJ), (new, JJ), (learners, NNS)]\n",
       "Name: preprocessed, dtype: object"
      ]
     },
     "execution_count": 21,
     "metadata": {},
     "output_type": "execute_result"
    }
   ],
   "source": [
    "# Add speech tags\n",
    "\n",
    "df['preprocessed'] = df['preprocessed'].apply(nltk.tag.pos_tag)\n",
    "df['preprocessed'].head()"
   ]
  },
  {
   "cell_type": "code",
   "execution_count": 22,
   "metadata": {},
   "outputs": [],
   "source": [
    "# Define function to convert parts of speech tags to wordnet’s format\n",
    "\n",
    "def get_wordnet_pos(tag):\n",
    "    if tag.startswith('J'):\n",
    "        return wordnet.ADJ\n",
    "    elif tag.startswith('V'):\n",
    "        return wordnet.VERB\n",
    "    elif tag.startswith('N'):\n",
    "        return wordnet.NOUN\n",
    "    elif tag.startswith('R'):\n",
    "        return wordnet.ADV\n",
    "    else:\n",
    "        return wordnet.NOUN"
   ]
  },
  {
   "cell_type": "code",
   "execution_count": 23,
   "metadata": {},
   "outputs": [
    {
     "data": {
      "text/plain": [
       "0    [(course, n), (beginners, n), (enjoy, v), (lea...\n",
       "1    [(super, a), (easy, a), (totally, r), (beginne...\n",
       "2    [(interactive, a), (course, n), (start, n), (p...\n",
       "3    [(awesome, a), (course, n), (definitely, r), (...\n",
       "4              [(perfect, a), (new, a), (learners, n)]\n",
       "Name: preprocessed, dtype: object"
      ]
     },
     "execution_count": 23,
     "metadata": {},
     "output_type": "execute_result"
    }
   ],
   "source": [
    "# Apply the function to the tagged data\n",
    "\n",
    "df['preprocessed'] = df['preprocessed'].apply(lambda x: [(word, get_wordnet_pos(pos_tag)) for (word, pos_tag) in x])\n",
    "df['preprocessed'].head()"
   ]
  },
  {
   "cell_type": "code",
   "execution_count": 24,
   "metadata": {},
   "outputs": [
    {
     "data": {
      "text/plain": [
       "0    [course, beginner, enjoy, learn, well, dr, chu...\n",
       "1    [super, easy, totally, beginner, course, title...\n",
       "2        [interactive, course, start, program, pyhton]\n",
       "3    [awesome, course, definitely, introduction, co...\n",
       "4                              [perfect, new, learner]\n",
       "Name: preprocessed, dtype: object"
      ]
     },
     "execution_count": 24,
     "metadata": {},
     "output_type": "execute_result"
    }
   ],
   "source": [
    "# Create lemmatizer\n",
    "\n",
    "lemmatizer = WordNetLemmatizer()\n",
    "\n",
    "# Apply to data \n",
    "\n",
    "df['preprocessed'] = df['preprocessed'].apply(lambda x: [lemmatizer.lemmatize(word, tag) for word, tag in x])\n",
    "df['preprocessed'].head()"
   ]
  },
  {
   "cell_type": "code",
   "execution_count": 25,
   "metadata": {},
   "outputs": [],
   "source": [
    "# Join reviews\n",
    "\n",
    "df['joined'] = df['preprocessed'].apply(lambda x: ' '.join(x))"
   ]
  },
  {
   "cell_type": "code",
   "execution_count": 26,
   "metadata": {},
   "outputs": [
    {
     "data": {
      "image/png": "[encoded data removed]",
      "text/plain": [
       "<Figure size 1440x360 with 1 Axes>"
      ]
     },
     "metadata": {
      "needs_background": "light"
     },
     "output_type": "display_data"
    }
   ],
   "source": [
    "# Most frequent words after lemmatizing \n",
    "\n",
    "freq_words(df['joined'], 35)"
   ]
  },
  {
   "cell_type": "markdown",
   "metadata": {},
   "source": [
    "## LDA Topic Modeling"
   ]
  },
  {
   "cell_type": "code",
   "execution_count": 27,
   "metadata": {},
   "outputs": [],
   "source": [
    "# Create a dictionary from 'df_sen['review']' containing the number of times a word appears in the training set\n",
    "\n",
    "dictionary = gensim.corpora.Dictionary(df['preprocessed'])"
   ]
  },
  {
   "cell_type": "code",
   "execution_count": 28,
   "metadata": {},
   "outputs": [],
   "source": [
    "# Gensim filter extremes\n",
    "\n",
    "# Filter out tokens that appear in:\n",
    "# Less than 50 documents, more than 0.5 documents, and keep only 100000 most frquent tokens\n",
    "\n",
    "# dictionary.filter_extremes(no_below = 50, no_above = 0.5, keep_n = 100000)"
   ]
  },
  {
   "cell_type": "code",
   "execution_count": 29,
   "metadata": {},
   "outputs": [],
   "source": [
    "# Gensim doc2bow\n",
    "# Create a dictionary reporting how many words and how many times those words appear\n",
    "\n",
    "corpus = [dictionary.doc2bow(doc) for doc in df['preprocessed']]\n"
   ]
  },
  {
   "cell_type": "code",
   "execution_count": 30,
   "metadata": {},
   "outputs": [],
   "source": [
    "# Add TF-IDF\n",
    "\n",
    "tfidf = models.TfidfModel(corpus)      # Create a TF-IDF model\n",
    "corpus_tfidf = tfidf[corpus]  "
   ]
  },
  {
   "cell_type": "code",
   "execution_count": 31,
   "metadata": {},
   "outputs": [],
   "source": [
    "# Creating the object for LDA model using gensim library\n",
    "LDA = gensim.models.LdaMulticore\n",
    "\n",
    "# Build LDA model\n",
    "lda_model = LDA(corpus = corpus, id2word = dictionary, num_topics = 5, random_state = 100,\n",
    "                chunksize = 100, passes = 10)"
   ]
  },
  {
   "cell_type": "code",
   "execution_count": 32,
   "metadata": {},
   "outputs": [
    {
     "name": "stdout",
     "output_type": "stream",
     "text": [
      "Topic: 0\n",
      "Word: 0.022*\"course\" + 0.015*\"assignment\" + 0.014*\"program\" + 0.013*\"would\" + 0.013*\"helpful\" + 0.011*\"make\" + 0.009*\"python\" + 0.009*\"first\" + 0.009*\"get\" + 0.009*\"take\"\n",
      "\n",
      "Topic: 1\n",
      "Word: 0.201*\"course\" + 0.060*\"beginner\" + 0.053*\"best\" + 0.025*\"well\" + 0.023*\"python\" + 0.021*\"instructor\" + 0.020*\"one\" + 0.013*\"wonderful\" + 0.012*\"ever\" + 0.012*\"explain\"\n",
      "\n",
      "Topic: 2\n",
      "Word: 0.114*\"python\" + 0.086*\"course\" + 0.055*\"learn\" + 0.052*\"program\" + 0.049*\"basic\" + 0.034*\"start\" + 0.023*\"language\" + 0.021*\"programming\" + 0.021*\"useful\" + 0.018*\"beginner\"\n",
      "\n",
      "Topic: 3\n",
      "Word: 0.080*\"awesome\" + 0.071*\"experience\" + 0.024*\"learn\" + 0.018*\"learning\" + 0.015*\"perfect\" + 0.014*\"enjoy\" + 0.011*\"fun\" + 0.011*\"interactive\" + 0.010*\"fantastic\" + 0.008*\"interest\"\n",
      "\n",
      "Topic: 4\n",
      "Word: 0.066*\"course\" + 0.045*\"excellent\" + 0.040*\"thank\" + 0.033*\"easy\" + 0.029*\"learn\" + 0.027*\"dr\" + 0.023*\"teach\" + 0.021*\"chuck\" + 0.020*\"thanks\" + 0.020*\"charles\"\n",
      "\n"
     ]
    }
   ],
   "source": [
    "# Explore the words occurring in each topic and its relative weight\n",
    "\n",
    "for id, topic in lda_model.print_topics(-1):\n",
    "    print('Topic: {}\\nWord: {}\\n'.format(id, topic))"
   ]
  },
  {
   "cell_type": "markdown",
   "metadata": {},
   "source": [
    "### Visualise with pyLDAvis\n",
    "\n",
    "Original paper: https://nlp.stanford.edu/events/illvi2014/papers/sievert-illvi2014.pdf"
   ]
  },
  {
   "cell_type": "code",
   "execution_count": 33,
   "metadata": {
    "scrolled": false
   },
   "outputs": [
    {
     "data": {
      "text/html": [
       "\n",
       "<link rel=\"stylesheet\" type=\"text/css\" href=\"https://cdn.jsdelivr.net/gh/bmabey/pyLDAvis@3.2.2/pyLDAvis/js/ldavis.v1.0.0.css\">\n",
       "\n",
       "\n",
       "<div id=\"ldavis_el363141402370968992809151324306\"></div>\n",
       "<script type=\"text/javascript\">\n",
       "\n",
       "var ldavis_el363141402370968992809151324306_data = {\"mdsDat\": {\"x\": [-0.04260180294775649, -0.05699336313863169, -0.13195453386738348, -0.10590446248981956, 0.337454162443591], \"y\": [-0.19733150049471862, 0.0666667065485802, 0.20489489708694614, -0.10708926671640978, 0.032859163575602375], \"topics\": [1, 2, 3, 4, 5], \"cluster\": [1, 1, 1, 1, 1], \"Freq\": [26.45285998284666, 26.367855832014758, 21.979797587403592, 18.25280033707092, 6.94668626066407]}, \"tinfo\": {\"Term\": [\"course\", \"python\", \"basic\", \"best\", \"excellent\", \"beginner\", \"experience\", \"awesome\", \"thank\", \"program\", \"start\", \"learn\", \"dr\", \"language\", \"useful\", \"thanks\", \"easy\", \"programming\", \"charles\", \"chuck\", \"one\", \"well\", \"instructor\", \"teacher\", \"assignment\", \"coursera\", \"amaze\", \"teach\", \"love\", \"knowledge\", \"excellent\", \"teaching\", \"russell\", \"sir\", \"opportunity\", \"thanks\", \"excite\", \"life\", \"understood\", \"session\", \"charles\", \"helpfull\", \"thank\", \"grateful\", \"alot\", \"detailed\", \"cool\", \"thankful\", \"delivery\", \"attention\", \"michigan\", \"satisfied\", \"chunk\", \"fear\", \"god\", \"insightful\", \"respect\", \"insight\", \"section\", \"ask\", \"teacher\", \"everything\", \"mr\", \"university\", \"detail\", \"dr\", \"exceptional\", \"severance\", \"team\", \"chuck\", \"amaze\", \"much\", \"coursera\", \"easy\", \"professor\", \"teach\", \"love\", \"understand\", \"interesting\", \"explanation\", \"way\", \"lot\", \"make\", \"fun\", \"instructor\", \"course\", \"learn\", \"explain\", \"enjoy\", \"well\", \"step\", \"without\", \"difficult\", \"quiz\", \"write\", \"something\", \"practice\", \"bit\", \"nothing\", \"chapter\", \"sure\", \"question\", \"watch\", \"hard\", \"however\", \"end\", \"last\", \"seem\", \"may\", \"didnt\", \"process\", \"slow\", \"suitable\", \"difficulty\", \"year\", \"believe\", \"beautiful\", \"go\", \"task\", \"assignment\", \"challenge\", \"finish\", \"exercise\", \"different\", \"would\", \"solve\", \"right\", \"code\", \"try\", \"say\", \"video\", \"example\", \"could\", \"time\", \"think\", \"use\", \"first\", \"week\", \"helpful\", \"student\", \"work\", \"also\", \"make\", \"take\", \"even\", \"class\", \"program\", \"get\", \"course\", \"help\", \"lecture\", \"python\", \"learn\", \"well\", \"easy\", \"recommend\", \"concept\", \"basic\", \"useful\", \"gain\", \"introduction\", \"loop\", \"previous\", \"fundamental\", \"two\", \"enhance\", \"personally\", \"require\", \"advance\", \"zero\", \"pythonthank\", \"usefull\", \"java\", \"proper\", \"familiar\", \"iteration\", \"syntax\", \"willing\", \"logical\", \"7\", \"walk\", \"refresher\", \"block\", \"receive\", \"language\", \"programming\", \"comprehensive\", \"general\", \"start\", \"place\", \"python\", \"brilliant\", \"knowledge\", \"program\", \"skill\", \"everyone\", \"everybody\", \"foundation\", \"want\", \"learn\", \"pretty\", \"know\", \"get\", \"people\", \"understanding\", \"help\", \"course\", \"anyone\", \"lot\", \"beginner\", \"world\", \"understand\", \"computer\", \"cod\", \"helpful\", \"give\", \"concept\", \"recommend\", \"new\", \"easy\", \"ever\", \"amazing\", \"best\", \"design\", \"loved\", \"thankyou\", \"effective\", \"nicely\", \"organize\", \"completely\", \"fabulous\", \"specially\", \"friend\", \"move\", \"high\", \"structured\", \"moment\", \"towards\", \"absolute\", \"methodology\", \"begineers\", \"newbie\", \"great\", \"run\", \"entire\", \"mind\", \"word\", \"wonderfully\", \"assignments\", \"man\", \"wonderful\", \"id\", \"meet\", \"recommended\", \"friendly\", \"online\", \"one\", \"beginner\", \"highly\", \"course\", \"well\", \"informative\", \"platform\", \"instructor\", \"recommend\", \"complete\", \"structure\", \"explain\", \"content\", \"love\", \"python\", \"way\", \"every\", \"begin\", \"take\", \"teach\", \"coursera\", \"learn\", \"new\", \"concept\", \"thing\", \"experience\", \"awesome\", \"superb\", \"curso\", \"de\", \"excelente\", \"interactive\", \"excelent\", \"cours\", \"begginers\", \"certificate\", \"incredible\", \"et\", \"mrcharles\", \"didactic\", \"beginers\", \"rest\", \"perfectly\", \"la\", \"kudos\", \"chuk\", \"el\", \"que\", \"guido\", \"rossum\", \"quick\", \"knowledgeable\", \"van\", \"patient\", \"le\", \"prepared\", \"starter\", \"learning\", \"fantastic\", \"experience\", \"perfect\", \"like\", \"enjoy\", \"fun\", \"learn\", \"interest\", \"lecture\", \"thing\", \"keep\", \"lot\", \"class\", \"simply\"], \"Freq\": [5147.0, 2122.0, 711.0, 639.0, 785.0, 1009.0, 534.0, 365.0, 714.0, 1050.0, 581.0, 1614.0, 531.0, 357.0, 304.0, 351.0, 752.0, 330.0, 351.0, 434.0, 314.0, 554.0, 590.0, 350.0, 270.0, 356.0, 333.0, 542.0, 388.0, 310.0, 784.6051430886447, 98.33018606918918, 65.68700956894537, 200.62589207109446, 64.53875003563836, 346.5077706928132, 47.49299543824233, 30.58672038652317, 31.363062616785026, 32.05690714883689, 342.6971033595159, 28.156157139080474, 693.8066956386303, 24.57756761853144, 23.001543061894935, 21.038937983392362, 43.809056763273624, 21.48085546613789, 15.662433129463313, 14.566795890907375, 80.09384727724878, 12.755715432236547, 12.41837995937144, 12.057803928151586, 11.855999669894388, 11.444797126243786, 11.452868733532211, 11.573306404466251, 11.14069017222212, 11.753262627549375, 322.8161273272598, 118.82466055955189, 66.09482079079928, 91.6423748125542, 60.800244560625146, 466.1347659080904, 29.45731471219381, 231.4469002096808, 39.72380597824877, 371.3007561175198, 285.8428411789376, 294.0833610264619, 286.83472789979396, 566.5204971696993, 232.8193067089136, 398.0200525400242, 273.5723250618522, 334.4635008834595, 104.92732345540821, 137.02661358053263, 282.2728340250819, 267.91037608081825, 256.8419060819304, 185.1888124258362, 277.53913194739954, 1131.4832666324676, 495.5086277617698, 202.2946355466303, 141.67476546875844, 142.04989613215406, 110.3318216991996, 74.75288357311412, 57.0712192698612, 92.53864048356257, 53.99096243905686, 51.60716717052258, 59.22284064028498, 85.50502532473593, 40.41553621688832, 38.09385335904062, 36.86771652897678, 38.807216039385715, 32.85030552908469, 39.3149671575703, 33.17361157074355, 43.559372680678926, 32.063519597291936, 31.078061343231433, 29.860503353936227, 29.173921489364446, 27.53277121070541, 33.6708636309968, 26.884613733408116, 25.63916248520254, 25.482199765167184, 25.64834865979195, 25.663257402230535, 143.58671979062805, 24.728694924991824, 262.6998188477817, 54.037857429389355, 38.27176408488744, 109.93172701505323, 50.93818195153675, 227.56920933674365, 53.58552802785263, 40.36953118106547, 108.49306343576069, 90.18374067496303, 84.78183706554786, 146.0892879069629, 82.89611165330273, 94.37817645499638, 134.06971463426896, 139.6353378030258, 101.67129753827025, 152.0704075852087, 72.52566417501978, 226.2243678085489, 106.9383209250211, 116.7063894643981, 130.6518563663941, 185.38493262878328, 148.02812195589166, 92.75082648444297, 122.54191739543107, 247.5035329088936, 150.28584835316792, 381.2931363656542, 108.76478017748889, 92.50092565461334, 156.13325036193768, 146.10251696048462, 113.46393241100502, 114.90622796680988, 97.24046258060764, 96.83907706154187, 709.8100859594604, 303.16985192430514, 50.0066648793179, 167.71177737550107, 38.704394603637944, 26.1945980979458, 52.33493079838896, 25.102489847140678, 18.00694409612656, 17.882760913541855, 16.90475235268247, 16.645963315254257, 48.34763543773026, 14.253350176877161, 13.610487838798242, 13.473308897183564, 16.135382699746966, 12.948486079314288, 12.581313280410583, 18.23117357071394, 12.080029193990816, 13.0190688569515, 11.790322179837204, 11.471951981554097, 11.345255026860807, 12.187432174989247, 11.135794903256388, 334.20175958525897, 308.18487155808043, 10.328254176404801, 33.56321017629699, 490.32843098219035, 19.450273678689694, 1634.576134849527, 28.92377098599194, 246.20775255200556, 750.9770682949667, 96.46770307141288, 81.96855293279522, 73.30033153473526, 35.793591864587384, 173.75258311313684, 795.9328106258736, 43.16133510844442, 145.6044173384116, 222.39274510003784, 80.61310428848094, 38.49872477051431, 162.949495012735, 1230.9026899115577, 79.01827169099842, 158.2365624492373, 254.9515692343998, 52.946008831501665, 129.29286507828888, 55.51142646742519, 65.74130435197523, 86.5046041599662, 67.41526772184905, 69.76545834521315, 68.51624810950801, 60.32067267627181, 68.46257418779562, 147.89743737028584, 137.57109631374246, 635.7819119382856, 51.09395769247412, 41.7579152596611, 35.36577586694055, 41.083918669595036, 25.640184173481803, 25.219329666858524, 24.517502183085448, 24.04050025674195, 21.835563084157815, 20.435368593673445, 19.721665318732835, 20.380841798335013, 19.119961341286324, 19.033683905769525, 18.097819113478977, 46.80495306575263, 14.49321748338465, 14.166017860769553, 13.822702183193494, 13.064892394684303, 12.760094296593078, 12.525267488697837, 12.48246246970983, 11.601762732360129, 12.845683521755968, 10.82686701179848, 10.783949603619615, 152.73996292455507, 19.180344862237344, 19.727861986959756, 32.23110813185342, 73.17946601197914, 133.25016760673324, 243.41567311200805, 718.5588320909344, 106.32031885565475, 2393.5691480926985, 298.3141686425537, 80.60564423648769, 65.17010166361936, 252.36456114520527, 130.47495935460063, 100.20463744715735, 49.472522998500686, 145.96649671989294, 85.16853438373043, 107.9520656047698, 273.3507588759293, 106.51618130234347, 54.89254029095092, 46.01298667586814, 69.70252185245118, 80.18312192977288, 68.41641765341926, 66.79042079080943, 49.62862464700074, 52.488876828592446, 49.947238290442485, 50.68316271219324, 364.7702703715067, 34.474132452084845, 32.248381174825084, 31.180256966055882, 29.01730744994675, 49.587913209875204, 22.05308598509866, 20.764188196500882, 18.8323855768156, 18.857037781658494, 18.17201867928682, 15.985379093482244, 16.436129376822077, 15.070374838553011, 14.732633717872943, 14.782238068702396, 14.0166847692572, 13.684954088889054, 13.576513748016211, 13.365864237917044, 13.177944774627441, 12.577993838800218, 11.793772371554363, 11.793772371554363, 11.84917488040744, 10.31945814963346, 10.198851182088088, 9.431373612347985, 9.312781742345251, 9.448028794867582, 26.188537176921944, 80.31349108606157, 46.816000793928715, 321.8506697901634, 68.88032612286844, 26.66152323786277, 62.85808249326351, 50.840192831807194, 110.18534775239686, 38.17017198070339, 35.67418006978797, 29.739206639419525, 20.664550705742233, 27.707363087014752, 22.614660296498833, 15.20370395756516], \"Total\": [5147.0, 2122.0, 711.0, 639.0, 785.0, 1009.0, 534.0, 365.0, 714.0, 1050.0, 581.0, 1614.0, 531.0, 357.0, 304.0, 351.0, 752.0, 330.0, 351.0, 434.0, 314.0, 554.0, 590.0, 350.0, 270.0, 356.0, 333.0, 542.0, 388.0, 310.0, 785.3770431610301, 99.08380142658504, 66.452493543919, 203.08755879866288, 65.35131394977341, 351.38814438424123, 48.38570137452827, 31.352004504072607, 32.159877748087624, 32.897216756764244, 351.7441877270951, 28.909039971397686, 714.8632413176101, 25.329217369599746, 23.749044390925757, 21.79517961933043, 45.41851826726446, 22.287345509890216, 16.414095725964824, 15.326707939402521, 84.63522455064941, 13.511803542730142, 13.170319178019948, 12.814678289625629, 12.606474488501771, 12.195921797146156, 12.205689095568712, 12.350887271455294, 11.907733446556465, 12.576866656250669, 350.2168761226927, 127.62130614748514, 71.39776380671204, 99.75588045254764, 65.96380327161934, 531.6569872680822, 31.8108818167738, 262.92449609262087, 43.169782608692714, 434.56439091064317, 333.96650718610914, 355.82136530842166, 356.15118091767954, 752.4617375287304, 294.28320118251145, 542.9933900786586, 388.76791825626185, 534.1946187212357, 139.24746254265773, 196.04257309435872, 489.0750089918155, 468.82260442759457, 446.2885324484744, 291.3160277754547, 590.2007597312847, 5147.572632338921, 1614.5197238913343, 404.812831063037, 258.0083508257284, 554.493282783858, 111.0907744707502, 75.52821337580914, 57.824297335175196, 93.78649711088677, 54.73504785207849, 52.34503107225039, 60.19655011951737, 86.97240209131608, 41.1568912343849, 38.82777091129701, 37.6059660695482, 39.58581961918388, 33.59346089636614, 40.20787417088413, 33.930862024369176, 44.55395466619002, 32.7984342953295, 31.813741626871188, 30.60424001306835, 29.914440325300728, 28.268004417674437, 34.591095314598746, 27.624616605576428, 26.37485603015338, 26.2195951871666, 26.39070848501555, 26.408657622140222, 147.78940184955331, 25.471883522379933, 270.60935948739626, 55.811552125812376, 39.48309958111289, 116.3301896958539, 53.08936972884454, 247.98670993969705, 56.11409505467417, 42.61926956537783, 123.49246878021076, 102.57965627043264, 97.6572356472536, 184.2091538850541, 96.7565721735091, 114.52080749113144, 177.36532232647986, 189.1612109405699, 129.22350749652696, 217.57465227913505, 87.54677066844113, 389.0025440331068, 153.74333469249012, 184.08814225918417, 218.37322281421052, 446.2885324484744, 318.83792582211873, 145.9651218358719, 251.7521219120764, 1050.8340499076405, 400.34988993245565, 5147.572632338921, 312.26874812670604, 195.4612529341137, 2122.2565915981645, 1614.5197238913343, 554.493282783858, 752.4617375287304, 296.62222527374297, 285.1149480767745, 711.3657303441432, 304.6948641189611, 50.76025743634575, 170.27429968666314, 39.45974765887432, 26.95989761923, 54.05987234850249, 26.003187275167274, 18.759920374152436, 18.6603994099095, 17.659637371640084, 17.403970797497784, 50.68316395060862, 15.009061889106027, 14.359436998824059, 14.224853533940543, 17.03854159300361, 13.69860722360094, 13.340568679928127, 19.380570159112892, 12.849914327104456, 13.854759260488189, 12.56965609909074, 12.231250602212912, 12.097812175290397, 13.010742663675677, 11.896072103652196, 357.5652741704176, 330.0025422390211, 11.07935714619095, 36.07874590542254, 581.4161108353888, 21.06049205441638, 2122.2565915981645, 32.23957408349638, 310.65183349455697, 1050.8340499076405, 118.29474702424736, 105.41599592822601, 96.29215134783095, 43.67833295635948, 270.1466321394616, 1614.5197238913343, 54.48854074294836, 234.6258178499481, 400.34988993245565, 118.60928450158892, 49.72013184140956, 312.26874812670604, 5147.572632338921, 139.7222417830698, 468.82260442759457, 1009.628353280117, 86.43700372153275, 534.1946187212357, 111.679989236891, 167.11161200557999, 389.0025440331068, 198.77425291076574, 285.1149480767745, 296.62222527374297, 171.31611946411743, 752.4617375287304, 148.6532332790018, 138.3333382772029, 639.8310704239262, 51.85311521981835, 42.58349904740905, 36.13649316460558, 42.284505013233314, 26.403155089079483, 25.979713670310854, 25.291293157530305, 24.80271386684146, 22.60278610784012, 21.21198753763823, 20.48996263884543, 21.17695957299989, 19.87525178892513, 19.80188273666604, 18.87073172405815, 48.95357420904622, 15.257791495036184, 14.91915078707779, 14.581484646882695, 13.826429298059697, 13.54846786959365, 13.313971412350309, 13.276057139086692, 12.35473463693142, 13.749579320619334, 11.596340444167746, 11.551110487906803, 166.49064975927104, 20.58948589898478, 21.382942967990424, 36.0128408562008, 85.56209749874918, 164.34415314022186, 314.2728793544733, 1009.628353280117, 147.00077428711225, 5147.572632338921, 554.493282783858, 122.4126141685138, 100.78372537895491, 590.2007597312847, 296.62222527374297, 215.06704830229276, 77.8834060653528, 404.812831063037, 196.83386213239416, 388.76791825626185, 2122.2565915981645, 489.0750089918155, 142.38315359261642, 98.23699148890888, 318.83792582211873, 542.9933900786586, 356.15118091767954, 1614.5197238913343, 171.31611946411743, 285.1149480767745, 200.866326750854, 534.3728192789358, 365.5393723423603, 35.2258606764735, 32.99443480538439, 31.923811425026972, 29.760494513550793, 51.04397524300882, 22.800809449677857, 21.51028400724886, 19.580639831357256, 19.606736849993656, 18.92316958788533, 16.728628790972333, 17.217843838997542, 15.827703090551816, 15.479234004726209, 15.549311344522483, 14.768420003487728, 14.42830192312323, 14.335311571520506, 14.121423839682885, 13.931781387823786, 13.32144977019536, 12.54802840560355, 12.54802840560355, 12.617866632931891, 11.080761024902628, 10.955179613281667, 10.18643701641946, 10.060818697978704, 10.224315136439404, 29.23692313267917, 94.22800029012724, 55.52278456132338, 534.3728192789358, 117.31543952852576, 53.20220364675856, 258.0083508257284, 291.3160277754547, 1614.5197238913343, 175.65408865633498, 195.4612529341137, 200.866326750854, 75.94920189149919, 468.82260442759457, 251.7521219120764, 33.17250040439531], \"Category\": [\"Default\", \"Default\", \"Default\", \"Default\", \"Default\", \"Default\", \"Default\", \"Default\", \"Default\", \"Default\", \"Default\", \"Default\", \"Default\", \"Default\", \"Default\", \"Default\", \"Default\", \"Default\", \"Default\", \"Default\", \"Default\", \"Default\", \"Default\", \"Default\", \"Default\", \"Default\", \"Default\", \"Default\", \"Default\", \"Default\", \"Topic1\", \"Topic1\", \"Topic1\", \"Topic1\", \"Topic1\", \"Topic1\", \"Topic1\", \"Topic1\", \"Topic1\", \"Topic1\", \"Topic1\", \"Topic1\", \"Topic1\", \"Topic1\", \"Topic1\", \"Topic1\", \"Topic1\", \"Topic1\", \"Topic1\", \"Topic1\", \"Topic1\", \"Topic1\", \"Topic1\", \"Topic1\", \"Topic1\", \"Topic1\", \"Topic1\", \"Topic1\", \"Topic1\", \"Topic1\", \"Topic1\", \"Topic1\", \"Topic1\", \"Topic1\", \"Topic1\", \"Topic1\", \"Topic1\", \"Topic1\", \"Topic1\", \"Topic1\", \"Topic1\", \"Topic1\", \"Topic1\", \"Topic1\", \"Topic1\", \"Topic1\", \"Topic1\", \"Topic1\", \"Topic1\", \"Topic1\", \"Topic1\", \"Topic1\", \"Topic1\", \"Topic1\", \"Topic1\", \"Topic1\", \"Topic1\", \"Topic1\", \"Topic1\", \"Topic1\", \"Topic2\", \"Topic2\", \"Topic2\", \"Topic2\", \"Topic2\", \"Topic2\", \"Topic2\", \"Topic2\", \"Topic2\", \"Topic2\", \"Topic2\", \"Topic2\", \"Topic2\", \"Topic2\", \"Topic2\", \"Topic2\", \"Topic2\", \"Topic2\", \"Topic2\", \"Topic2\", \"Topic2\", \"Topic2\", \"Topic2\", \"Topic2\", \"Topic2\", \"Topic2\", \"Topic2\", \"Topic2\", \"Topic2\", \"Topic2\", \"Topic2\", \"Topic2\", \"Topic2\", \"Topic2\", \"Topic2\", \"Topic2\", \"Topic2\", \"Topic2\", \"Topic2\", \"Topic2\", \"Topic2\", \"Topic2\", \"Topic2\", \"Topic2\", \"Topic2\", \"Topic2\", \"Topic2\", \"Topic2\", \"Topic2\", \"Topic2\", \"Topic2\", \"Topic2\", \"Topic2\", \"Topic2\", \"Topic2\", \"Topic2\", \"Topic2\", \"Topic2\", \"Topic2\", \"Topic2\", \"Topic2\", \"Topic2\", \"Topic2\", \"Topic2\", \"Topic2\", \"Topic2\", \"Topic2\", \"Topic3\", \"Topic3\", \"Topic3\", \"Topic3\", \"Topic3\", \"Topic3\", \"Topic3\", \"Topic3\", \"Topic3\", \"Topic3\", \"Topic3\", \"Topic3\", \"Topic3\", \"Topic3\", \"Topic3\", \"Topic3\", \"Topic3\", \"Topic3\", \"Topic3\", \"Topic3\", \"Topic3\", \"Topic3\", \"Topic3\", \"Topic3\", \"Topic3\", \"Topic3\", \"Topic3\", \"Topic3\", \"Topic3\", \"Topic3\", \"Topic3\", \"Topic3\", \"Topic3\", \"Topic3\", \"Topic3\", \"Topic3\", \"Topic3\", \"Topic3\", \"Topic3\", \"Topic3\", \"Topic3\", \"Topic3\", \"Topic3\", \"Topic3\", \"Topic3\", \"Topic3\", \"Topic3\", \"Topic3\", \"Topic3\", \"Topic3\", \"Topic3\", \"Topic3\", \"Topic3\", \"Topic3\", \"Topic3\", \"Topic3\", \"Topic3\", \"Topic3\", \"Topic3\", \"Topic3\", \"Topic3\", \"Topic3\", \"Topic3\", \"Topic4\", \"Topic4\", \"Topic4\", \"Topic4\", \"Topic4\", \"Topic4\", \"Topic4\", \"Topic4\", \"Topic4\", \"Topic4\", \"Topic4\", \"Topic4\", \"Topic4\", \"Topic4\", \"Topic4\", \"Topic4\", \"Topic4\", \"Topic4\", \"Topic4\", \"Topic4\", \"Topic4\", \"Topic4\", \"Topic4\", \"Topic4\", \"Topic4\", \"Topic4\", \"Topic4\", \"Topic4\", \"Topic4\", \"Topic4\", \"Topic4\", \"Topic4\", \"Topic4\", \"Topic4\", \"Topic4\", \"Topic4\", \"Topic4\", \"Topic4\", \"Topic4\", \"Topic4\", \"Topic4\", \"Topic4\", \"Topic4\", \"Topic4\", \"Topic4\", \"Topic4\", \"Topic4\", \"Topic4\", \"Topic4\", \"Topic4\", \"Topic4\", \"Topic4\", \"Topic4\", \"Topic4\", \"Topic4\", \"Topic4\", \"Topic4\", \"Topic4\", \"Topic4\", \"Topic4\", \"Topic4\", \"Topic4\", \"Topic5\", \"Topic5\", \"Topic5\", \"Topic5\", \"Topic5\", \"Topic5\", \"Topic5\", \"Topic5\", \"Topic5\", \"Topic5\", \"Topic5\", \"Topic5\", \"Topic5\", \"Topic5\", \"Topic5\", \"Topic5\", \"Topic5\", \"Topic5\", \"Topic5\", \"Topic5\", \"Topic5\", \"Topic5\", \"Topic5\", \"Topic5\", \"Topic5\", \"Topic5\", \"Topic5\", \"Topic5\", \"Topic5\", \"Topic5\", \"Topic5\", \"Topic5\", \"Topic5\", \"Topic5\", \"Topic5\", \"Topic5\", \"Topic5\", \"Topic5\", \"Topic5\", \"Topic5\", \"Topic5\", \"Topic5\", \"Topic5\", \"Topic5\", \"Topic5\", \"Topic5\"], \"logprob\": [30.0, 29.0, 28.0, 27.0, 26.0, 25.0, 24.0, 23.0, 22.0, 21.0, 20.0, 19.0, 18.0, 17.0, 16.0, 15.0, 14.0, 13.0, 12.0, 11.0, 10.0, 9.0, 8.0, 7.0, 6.0, 5.0, 4.0, 3.0, 2.0, 1.0, -3.0917, -5.1686, -5.572, -4.4555, -5.5896, -3.909, -5.8963, -6.3363, -6.3113, -6.2894, -3.9201, -6.4191, -3.2147, -6.5551, -6.6213, -6.7105, -5.9771, -6.6897, -7.0056, -7.0782, -5.3737, -7.2109, -7.2377, -7.2672, -7.2841, -7.3194, -7.3187, -7.3082, -7.3463, -7.2928, -3.9798, -4.9793, -5.5658, -5.239, -5.6493, -3.6124, -6.374, -4.3126, -6.075, -3.8399, -4.1015, -4.073, -4.098, -3.4174, -4.3066, -3.7704, -4.1453, -3.9444, -5.1036, -4.8367, -4.114, -4.1663, -4.2085, -4.5355, -4.1309, -2.7256, -3.5513, -4.4472, -4.8034, -4.8007, -5.0502, -5.4395, -5.7094, -5.2261, -5.7649, -5.81, -5.6724, -5.3051, -6.0545, -6.1136, -6.1464, -6.0951, -6.2617, -6.0821, -6.2519, -5.9796, -6.286, -6.3172, -6.3572, -6.3804, -6.4383, -6.2371, -6.4621, -6.5096, -6.5157, -6.5092, -6.5086, -4.7868, -6.5457, -4.1827, -5.764, -6.109, -5.0538, -5.8231, -4.3262, -5.7724, -6.0556, -5.067, -5.2518, -5.3136, -4.7695, -5.3361, -5.2064, -4.8553, -4.8147, -5.1319, -4.7293, -5.4698, -4.3322, -5.0814, -4.994, -4.8812, -4.5313, -4.7563, -5.2238, -4.9452, -4.2423, -4.7412, -3.8101, -5.0645, -5.2265, -4.703, -4.7694, -5.0222, -5.0096, -5.1765, -5.1806, -3.0067, -3.8574, -5.6595, -4.4494, -5.9157, -6.3061, -5.614, -6.3487, -6.6809, -6.6878, -6.7441, -6.7595, -5.6933, -6.9147, -6.9608, -6.971, -6.7907, -7.0107, -7.0395, -6.6685, -7.0801, -7.0053, -7.1044, -7.1318, -7.1429, -7.0713, -7.1615, -3.7599, -3.841, -7.2368, -6.0582, -3.3766, -6.6038, -2.1725, -6.207, -4.0655, -2.9503, -5.0025, -5.1653, -5.2771, -5.9939, -4.414, -2.8922, -5.8067, -4.5908, -4.1672, -5.182, -5.921, -4.4782, -2.4562, -5.202, -4.5076, -4.0306, -5.6024, -4.7096, -5.5551, -5.3859, -5.1115, -5.3608, -5.3265, -5.3446, -5.472, -5.3454, -4.3893, -4.4617, -2.931, -5.4522, -5.654, -5.8201, -5.6702, -6.1417, -6.1583, -6.1865, -6.2061, -6.3023, -6.3686, -6.4041, -6.3713, -6.4351, -6.4397, -6.4901, -5.5399, -6.7122, -6.735, -6.7596, -6.8159, -6.8395, -6.8581, -6.8615, -6.9347, -6.8329, -7.0038, -7.0078, -4.3571, -6.432, -6.4038, -5.9129, -5.093, -4.4936, -3.8911, -2.8086, -4.7194, -1.6053, -3.6877, -4.9963, -5.2089, -3.855, -4.5147, -4.7787, -5.4844, -4.4025, -4.9412, -4.7042, -3.7751, -4.7176, -5.3805, -5.5569, -5.1416, -5.0016, -5.1603, -5.1843, -5.4813, -5.4253, -5.4749, -5.4603, -2.5205, -4.8796, -4.9463, -4.98, -5.0519, -4.5161, -5.3264, -5.3866, -5.4842, -5.4829, -5.5199, -5.6481, -5.6203, -5.7071, -5.7297, -5.7264, -5.7796, -5.8035, -5.8115, -5.8271, -5.8413, -5.8879, -5.9522, -5.9522, -5.9476, -6.0858, -6.0975, -6.1758, -6.1884, -6.174, -5.1545, -4.0339, -4.5736, -2.6457, -4.1874, -5.1366, -4.2789, -4.4911, -3.7176, -4.7778, -4.8454, -5.0273, -5.3914, -5.0981, -5.3012, -5.6983], \"loglift\": [30.0, 29.0, 28.0, 27.0, 26.0, 25.0, 24.0, 23.0, 22.0, 21.0, 20.0, 19.0, 18.0, 17.0, 16.0, 15.0, 14.0, 13.0, 12.0, 11.0, 10.0, 9.0, 8.0, 7.0, 6.0, 5.0, 4.0, 3.0, 2.0, 1.0, 1.3288, 1.3222, 1.3182, 1.3176, 1.3173, 1.3158, 1.3112, 1.3051, 1.3047, 1.3039, 1.3037, 1.3034, 1.2999, 1.2997, 1.2978, 1.2945, 1.2937, 1.2929, 1.2829, 1.279, 1.2747, 1.2722, 1.271, 1.2689, 1.2684, 1.2662, 1.2661, 1.2648, 1.2632, 1.2621, 1.2483, 1.2584, 1.2526, 1.245, 1.2483, 1.1983, 1.2529, 1.2023, 1.2466, 1.1725, 1.1742, 1.1392, 1.1134, 1.046, 1.0955, 1.0192, 0.9784, 0.8616, 1.0468, 0.9716, 0.7802, 0.7702, 0.7773, 0.8768, 0.5753, -0.1852, 0.1486, 0.6361, 0.7303, -0.0321, 1.3262, 1.3227, 1.3199, 1.3196, 1.3193, 1.3188, 1.3167, 1.316, 1.3148, 1.3139, 1.3132, 1.3132, 1.3107, 1.3106, 1.3105, 1.3104, 1.3104, 1.3096, 1.3084, 1.308, 1.3067, 1.3061, 1.3059, 1.3047, 1.3045, 1.3045, 1.3044, 1.3042, 1.3034, 1.3034, 1.3007, 1.3019, 1.2765, 1.2917, 1.2471, 1.2869, 1.2788, 1.2035, 1.2042, 1.1916, 1.1012, 1.1784, 1.1396, 1.0532, 1.0295, 1.0932, 0.9748, 1.1448, 0.791, 0.97, 0.8773, 0.8194, 0.4545, 0.5657, 0.8796, 0.613, -0.1129, 0.3532, -1.2697, 0.2783, 0.5849, -1.2765, -1.0695, -0.2535, -0.5462, 0.2178, 0.2532, 1.5129, 1.51, 1.5001, 1.4999, 1.4957, 1.4862, 1.4826, 1.4798, 1.4741, 1.4725, 1.4714, 1.4705, 1.4679, 1.4634, 1.4615, 1.4608, 1.4606, 1.4587, 1.4564, 1.4539, 1.4533, 1.4528, 1.451, 1.451, 1.4508, 1.4497, 1.449, 1.4475, 1.4466, 1.4448, 1.4428, 1.3447, 1.4355, 1.254, 1.4065, 1.2825, 1.1791, 1.3111, 1.2635, 1.2422, 1.316, 1.0737, 0.8078, 1.282, 1.0379, 0.9272, 1.1289, 1.2593, 0.8646, 0.0843, 0.9451, 0.4289, 0.1388, 1.0249, 0.0964, 0.816, 0.5821, 0.0117, 0.4337, 0.1073, 0.0497, 0.4712, -0.882, 1.6958, 1.6953, 1.6945, 1.6861, 1.6813, 1.6793, 1.672, 1.6715, 1.6711, 1.6698, 1.6696, 1.6663, 1.6636, 1.6626, 1.6625, 1.6621, 1.6613, 1.659, 1.656, 1.6494, 1.6491, 1.6474, 1.6442, 1.6409, 1.6398, 1.6392, 1.638, 1.6329, 1.6322, 1.6321, 1.6146, 1.63, 1.6203, 1.5899, 1.5445, 1.4911, 1.4454, 1.3608, 1.3769, 0.9351, 1.0809, 1.283, 1.2649, 0.8513, 0.8796, 0.9371, 1.2471, 0.6808, 0.8631, 0.4196, -0.3486, 0.1766, 0.7477, 0.9424, 0.1804, -0.2119, 0.0511, -1.4844, 0.4619, 0.0086, 0.3092, -0.6546, 2.6648, 2.6453, 2.644, 2.6433, 2.6416, 2.638, 2.6336, 2.6316, 2.6279, 2.6279, 2.6264, 2.6215, 2.6204, 2.6179, 2.6175, 2.6163, 2.6147, 2.614, 2.6125, 2.6119, 2.6113, 2.6095, 2.6049, 2.6049, 2.604, 2.5957, 2.5954, 2.5899, 2.5896, 2.5879, 2.5568, 2.5071, 2.4963, 2.1599, 2.1344, 1.976, 1.2548, 0.9212, -0.0177, 1.1404, 0.966, 0.7567, 1.3653, -0.1616, 0.2571, 1.8867]}, \"token.table\": {\"Topic\": [3, 2, 4, 3, 1, 1, 2, 3, 4, 1, 3, 4, 4, 2, 3, 1, 2, 4, 5, 4, 1, 5, 2, 3, 2, 5, 2, 4, 4, 5, 2, 3, 4, 2, 3, 4, 2, 3, 3, 2, 3, 5, 1, 2, 5, 2, 1, 2, 4, 1, 2, 4, 5, 1, 1, 2, 3, 5, 1, 2, 3, 4, 2, 3, 2, 3, 4, 4, 3, 2, 3, 4, 1, 2, 3, 4, 1, 2, 3, 4, 5, 1, 4, 1, 2, 3, 4, 5, 1, 2, 3, 4, 5, 1, 4, 5, 5, 1, 4, 1, 4, 1, 5, 2, 1, 2, 3, 2, 2, 1, 2, 4, 1, 2, 3, 4, 4, 5, 5, 2, 3, 1, 2, 4, 5, 4, 5, 1, 2, 3, 4, 4, 1, 2, 4, 1, 2, 3, 1, 2, 3, 1, 2, 4, 1, 2, 4, 5, 5, 1, 1, 4, 1, 1, 2, 1, 2, 3, 4, 5, 1, 2, 4, 1, 2, 5, 4, 3, 2, 5, 1, 2, 4, 1, 2, 3, 4, 2, 3, 4, 2, 4, 1, 2, 3, 5, 2, 3, 3, 2, 3, 1, 2, 3, 1, 2, 3, 4, 1, 2, 3, 1, 1, 4, 5, 2, 1, 2, 3, 4, 5, 1, 2, 3, 1, 4, 2, 4, 2, 3, 4, 5, 1, 3, 4, 1, 1, 1, 2, 4, 5, 3, 5, 1, 2, 3, 4, 5, 1, 4, 1, 2, 3, 3, 3, 1, 2, 3, 4, 5, 2, 3, 1, 2, 3, 5, 5, 5, 2, 3, 2, 5, 1, 2, 3, 4, 5, 3, 5, 1, 2, 5, 1, 1, 2, 5, 3, 3, 1, 2, 3, 4, 5, 1, 2, 4, 4, 1, 2, 4, 4, 2, 1, 4, 4, 1, 4, 4, 4, 4, 1, 5, 5, 1, 2, 3, 4, 5, 2, 3, 4, 4, 4, 2, 2, 3, 4, 2, 4, 1, 4, 5, 2, 3, 2, 4, 5, 5, 3, 2, 3, 1, 4, 5, 2, 5, 1, 3, 5, 3, 2, 1, 2, 4, 5, 1, 2, 3, 4, 2, 3, 4, 3, 1, 2, 3, 4, 3, 5, 2, 5, 2, 4, 3, 2, 3, 4, 2, 4, 3, 3, 1, 5, 2, 4, 5, 5, 4, 1, 1, 1, 2, 3, 4, 1, 2, 1, 1, 2, 4, 2, 4, 5, 1, 5, 1, 2, 3, 4, 2, 2, 3, 2, 4, 1, 2, 3, 2, 5, 2, 1, 2, 3, 4, 4, 1, 2, 4, 2, 5, 2, 2, 3, 1, 2, 3, 4, 2, 1, 2, 3, 4, 5, 1, 2, 4, 5, 1, 1, 4, 1, 2, 3, 4, 5, 1, 1, 2, 4, 1, 2, 4, 5, 1, 2, 3, 1, 2, 4, 4, 1, 2, 4, 5, 3, 1, 2, 3, 4, 2, 3, 4, 1, 1, 4, 1, 2, 3, 4, 2, 3, 3, 5, 1, 2, 4, 5, 3, 2, 3, 4, 2, 1, 2, 3, 4, 2, 3, 1, 2, 4, 3, 2, 1, 2, 4, 4, 4, 1, 2, 3, 2, 3, 1, 2, 4, 2, 2, 2, 3], \"Freq\": [0.9546800569084825, 0.04085503525155098, 0.960093328411448, 0.9767885845018848, 0.9684600197550702, 0.18775195727583477, 0.5998904000764477, 0.10990358474683011, 0.10074495268459427, 0.856373300453812, 0.0029943122393489927, 0.14073267524940267, 0.9975903257930859, 0.4294233991260669, 0.5654074755159881, 0.9541327206515331, 0.9718806492805336, 0.007390727370954628, 0.022172182112863884, 0.948575117552049, 0.9786837499158834, 0.9985244480262029, 0.0014057466607454113, 0.9980801291292419, 0.9845256192879105, 0.9703462278884577, 0.5293321712307414, 0.4682553822425789, 0.938391212730827, 0.9690401989801377, 0.035656684841547784, 0.2525681842942968, 0.7121432333631349, 0.9851952256136893, 0.00468873760383709, 0.994012372013463, 0.9888194177930705, 0.011497900206896169, 0.9223147602098426, 0.093053338491085, 0.8995156054138217, 0.9690546746949453, 0.017917437553891434, 0.9675416279101374, 0.017917437553891434, 0.9786809571636736, 0.9751404912086866, 0.02274380154422593, 0.002842975193028241, 0.8537284871007447, 0.13806929710524174, 0.006903464855262087, 0.9205870560635996, 0.911139649525495, 0.35352234302550567, 0.488575822383564, 0.06752673967902917, 0.09135970662456888, 0.011968049233665573, 0.5265941662812852, 0.3949456247109639, 0.07180829540199343, 0.8745472583612858, 0.1133672371949815, 0.35337817020288637, 0.17668908510144318, 0.46497127658274523, 0.9884824727736955, 0.9025794428368951, 0.4656160907188103, 0.5014327130817957, 0.035816622362985405, 0.23148558307868097, 0.34021365997927355, 0.2455150123561768, 0.1823825806074456, 0.25910175946096325, 0.2438604794926713, 0.00508042665609732, 0.4318362657682721, 0.06096511987316783, 0.9687678435717076, 0.022017450990266082, 0.1484446396460878, 0.8208115368666032, 0.02619611287872138, 0.00873203762624046, 0.9762772073545427, 0.2197152096300006, 0.07401546849604795, 0.2391418417811943, 0.46507357369957686, 0.0019426632151193688, 0.8058375638696448, 0.1909301545056998, 0.9698605291695404, 0.9710619946745225, 0.9747719440121345, 0.9835474644830541, 0.9247495895411022, 0.06063931734695752, 0.9635158033464806, 0.9477054196798836, 0.9694314747206779, 0.018836162589752493, 0.9606442920773772, 0.018836162589752493, 0.9857447928783777, 0.9857873715130493, 0.8765049856572743, 0.12037836712889603, 0.003761823972778001, 0.7535266867683765, 0.15283169131986474, 0.09037004356305045, 0.002657942457736778, 0.9696223235241535, 0.02364932496400374, 0.9331182881868824, 0.9875666555227163, 0.9594923454366331, 0.5503697827823946, 0.11239946268091155, 0.09302024497730611, 0.24417814306542857, 0.9764178994661906, 0.9564442011310849, 0.15757188916583767, 0.6371385083662132, 0.16442284086870018, 0.041105710217175045, 0.9956056571082059, 0.3862816534978906, 0.22474568930786365, 0.3862816534978906, 0.16616099833727946, 0.062310374376479793, 0.7581095549138375, 0.12332094276139302, 0.09486226366261002, 0.7778705620334021, 0.9324461846713749, 0.0470140933447752, 0.015671364448258403, 0.12402258296708728, 0.8578228655223537, 0.010335215247257272, 0.9648780254295239, 0.9744461734933699, 0.9995199208274378, 0.9116377272103274, 0.06287156739381569, 0.971361345704131, 0.05157732498921425, 0.945584291468928, 0.15157956594667107, 0.1497082132806628, 0.001871352666008285, 0.09543898596642253, 0.6025755584546677, 0.49899604088523764, 0.13833553608699659, 0.3606605047982411, 0.6988277996844058, 0.2652485079094095, 0.03570652991088205, 0.9676360469603852, 0.9490015873732529, 0.14408499255227775, 0.8464993312446317, 0.9364261613742447, 0.96243710354943, 0.02532729219866921, 0.11949921430481517, 0.6986107913204579, 0.009192247254216551, 0.17005657420300618, 0.16026252666268054, 0.8242072799794999, 0.9428630845889525, 0.14024901622094324, 0.8531815153440713, 0.6350491643480644, 0.11671173831261722, 0.07208666189896946, 0.17506760746892583, 0.01849800890304361, 0.9618964629582676, 0.9850225850942712, 0.055434299330770404, 0.9423830886230968, 0.06744100767594881, 0.3746722648663822, 0.5545149520022458, 0.3320349543943646, 0.2766957953286372, 0.3370657870367035, 0.04527749378104972, 0.020299155165767167, 0.974359447956824, 0.0067663850552557225, 0.9518918243911151, 0.9870024657771355, 0.940228291756016, 0.9563255367385989, 0.9699592630600005, 0.10888057227617338, 0.34905830523832054, 0.5219862729710665, 0.003202369772828629, 0.019214218636971776, 0.19537147292674742, 0.5809730642295384, 0.22364892295561878, 0.9685551657095123, 0.9444226368311868, 0.2721074102771366, 0.7210846372344119, 0.9725659187880158, 0.048568478344051695, 0.9228010885369822, 0.9512148541713463, 0.3267637103553381, 0.016338185517766904, 0.6616965134695597, 0.9715901162610199, 0.901940844075763, 0.4710261642607372, 0.09657730706065475, 0.4269733575313157, 0.005083016161087092, 0.019590950650673778, 0.979547532533689, 0.38143148566888563, 0.387124492917675, 0.005693007248789338, 0.011386014497578676, 0.21633427545399483, 0.7540532379025133, 0.2441696198922424, 0.005872876892403544, 0.005872876892403544, 0.9866433179237954, 0.97447120223289, 0.9138934168272427, 0.1580003436657987, 0.5135011169138458, 0.03950008591644968, 0.02633339061096645, 0.2765006014151477, 0.3750652882381395, 0.6222674100314587, 0.12554247487061213, 0.08047594542987957, 0.791883303030015, 0.902465090396431, 0.9766093977206147, 0.9703151538271582, 0.0643239197468546, 0.934095182410845, 0.9756563289533855, 0.8945594061652428, 0.3072121031786066, 0.09042936908079952, 0.49302587526244124, 0.041498409098723064, 0.06813171643073937, 0.13796323767853616, 0.8490045395602226, 0.3427789344140981, 0.47579762538076303, 0.18417972595384374, 0.9887725040347298, 0.03759242781143434, 0.45110913373721206, 0.5074977754543636, 0.938305729863828, 0.9883489457953762, 0.5716447915885212, 0.029862041351639165, 0.33701446668278484, 0.002133002953688512, 0.05972408270327833, 0.7047906659298698, 0.018005600954412733, 0.2778007004395108, 0.986297531662219, 0.575860640178272, 0.414530032813153, 0.00896281152028439, 0.9522893934324517, 0.980256330076802, 0.04676624735411621, 0.9353249470823243, 0.9175639871966149, 0.9452329148382481, 0.047261645741912404, 0.903882822609298, 0.9595047224887743, 0.9760876753422407, 0.92439869935808, 0.07003020449682423, 0.9292685047915705, 0.8262572983642068, 0.11522635793514449, 0.008431196922083743, 0.014051994870139573, 0.03653518666236289, 0.35606690246551254, 0.35022974013001235, 0.2918581167750103, 0.9601217118171155, 0.984730798735253, 0.9718907040914119, 0.21000857641794018, 0.01590974063772274, 0.7732133949933253, 0.18254376214043572, 0.809277345489265, 0.9946242251526355, 0.962289281446914, 0.883527771829635, 0.31194859791523605, 0.68291449813876, 0.12786040831695206, 0.28129289829729454, 0.5881578782579794, 0.9479687059748939, 0.9646095779944133, 0.047482271421588194, 0.9021631570101756, 0.2679003966015131, 0.6449453992258648, 0.07937789528933721, 0.9801226130543748, 0.8802545578748887, 0.14681986140425904, 0.7891567550478923, 0.05505744802659714, 0.9643953536920956, 0.9905191603300136, 0.7917543341371218, 0.12912731629704133, 0.07475791996144497, 0.0033980872709747714, 0.04662962720355958, 0.23600301115270972, 0.7146704087729233, 0.002854875134911811, 0.06363587340121059, 0.9333261432177554, 0.003030279685771933, 0.9390475066580781, 0.02732940033246551, 0.0735066629631831, 0.7704063714410536, 0.12863666018557043, 0.9327698228869034, 0.9758697607437178, 0.98520127599177, 0.9510324010463627, 0.9916139621894944, 0.010662515722467682, 0.9246749602856649, 0.32701527982430134, 0.2326191165760494, 0.43826790079545536, 0.08330361972772417, 0.8885719437623911, 0.9092553133257713, 0.9626471734521906, 0.9012190883998152, 0.9646729470938282, 0.9385425984046987, 0.023463564960117467, 0.023463564960117467, 0.9563255367385989, 0.9595180890656606, 0.9931907213742107, 0.9621217448054511, 0.06143937989062603, 0.8703912151172021, 0.06143937989062603, 0.010239896648437672, 0.9237694183674419, 0.9744216937317468, 0.9727266667147529, 0.8785792249597969, 0.11410119804672687, 0.003803373268224229, 0.2110181600622578, 0.33159996581211937, 0.45218177156198097, 0.9897208927468942, 0.00984796908205865, 0.16061575410534074, 0.008453460742386353, 0.81153223126909, 0.008453460742386353, 0.9829119225851954, 0.9623250619543213, 0.03564166896127116, 0.9934085229260031, 0.9733313360147652, 0.0017199385798979366, 0.1547944721908143, 0.842769904149989, 0.06840665110086525, 0.8892864643112481, 0.9901812326365822, 0.012839705535745179, 0.3466720494651198, 0.012839705535745179, 0.6291455712515137, 0.9559627320337729, 0.05853912313012696, 0.695965130547065, 0.24066083953496642, 0.9773891303363703, 0.9651999794204539, 0.9838864379011688, 0.05159806918940372, 0.9287652454092669, 0.15054670762969222, 0.4641856818582176, 0.16622865634111847, 0.2195472819599678, 0.9814743373035084, 0.7329739316759367, 0.10865693962030218, 0.009208215222059507, 0.1473314435529521, 0.0018416430444119013, 0.9222856521821132, 0.03711985597017793, 0.034264482434010396, 0.005710747072335066, 0.9890617698253324, 0.9265740428339696, 0.06949305321254773, 0.9708150592844084, 0.0027977379230098224, 0.02238190338407858, 0.0027977379230098224, 0.0013988689615049112, 0.9422387242429142, 0.9875119737123436, 0.011383423328096179, 0.9685499874205077, 0.348490466930403, 0.25390019733500785, 0.24892176209314495, 0.149353057255887, 0.005286496079337201, 0.7401094511072082, 0.2537518118081856, 0.005638080696288986, 0.7555028133027242, 0.2367993892441374, 0.9538580836826767, 0.058491129899890575, 0.8773669484983586, 0.058491129899890575, 0.009748521649981762, 0.9614206033840588, 0.625240293134242, 0.1235504770864071, 0.24148502339615932, 0.00748790770220649, 0.06033773220008723, 0.7642779412011049, 0.1609006192002326, 0.9639340125241429, 0.9222513959341274, 0.08019577355948934, 0.007738530081509173, 0.7893300683139356, 0.19346325203772932, 0.007738530081509173, 0.0032819719587054573, 0.9944375034877536, 0.9749685869401779, 0.9128102279470032, 0.13028668496559037, 0.7925773335406747, 0.005428611873566265, 0.07057195435636145, 0.8993356736562858, 0.2961354704533221, 0.6440946482359755, 0.05922709409066442, 0.9823340352398662, 0.5765986705828986, 0.14517200571413405, 0.05929560796774489, 0.21878034663961046, 0.833840008519184, 0.15991452218176133, 0.2560896667441718, 0.2037896643809254, 0.5374276104912901, 0.9338583662529389, 0.9930064097613314, 0.006006343307842818, 0.07808246300195663, 0.9189705260999511, 0.9454834723928434, 0.9712875551473984, 0.35309172661693883, 0.6355651079104899, 0.010864360818982734, 0.3817809338499688, 0.6131633180014651, 0.004032474160583727, 0.9194041086130897, 0.07661700905109081, 0.9865708009598355, 0.953485354046826, 0.03946083559323615, 0.9470600542376676], \"Term\": [\"7\", \"absolute\", \"absolute\", \"advance\", \"alot\", \"also\", \"also\", \"also\", \"also\", \"amaze\", \"amaze\", \"amaze\", \"amazing\", \"anyone\", \"anyone\", \"ask\", \"assignment\", \"assignment\", \"assignment\", \"assignments\", \"attention\", \"awesome\", \"basic\", \"basic\", \"beautiful\", \"begginers\", \"begin\", \"begin\", \"begineers\", \"beginers\", \"beginner\", \"beginner\", \"beginner\", \"believe\", \"best\", \"best\", \"bit\", \"bit\", \"block\", \"brilliant\", \"brilliant\", \"certificate\", \"challenge\", \"challenge\", \"challenge\", \"chapter\", \"charles\", \"charles\", \"charles\", \"chuck\", \"chuck\", \"chuck\", \"chuk\", \"chunk\", \"class\", \"class\", \"class\", \"class\", \"cod\", \"cod\", \"cod\", \"cod\", \"code\", \"code\", \"complete\", \"complete\", \"complete\", \"completely\", \"comprehensive\", \"computer\", \"computer\", \"computer\", \"concept\", \"concept\", \"concept\", \"concept\", \"content\", \"content\", \"content\", \"content\", \"content\", \"cool\", \"cool\", \"could\", \"could\", \"could\", \"could\", \"cours\", \"course\", \"course\", \"course\", \"course\", \"course\", \"coursera\", \"coursera\", \"curso\", \"de\", \"delivery\", \"design\", \"detail\", \"detail\", \"detailed\", \"didactic\", \"didnt\", \"different\", \"different\", \"different\", \"difficult\", \"difficulty\", \"dr\", \"dr\", \"dr\", \"easy\", \"easy\", \"easy\", \"easy\", \"effective\", \"effective\", \"el\", \"end\", \"enhance\", \"enjoy\", \"enjoy\", \"enjoy\", \"enjoy\", \"entire\", \"et\", \"even\", \"even\", \"even\", \"even\", \"ever\", \"every\", \"every\", \"every\", \"everybody\", \"everybody\", \"everybody\", \"everyone\", \"everyone\", \"everyone\", \"everything\", \"everything\", \"everything\", \"example\", \"example\", \"example\", \"excelent\", \"excelente\", \"excellent\", \"exceptional\", \"exceptional\", \"excite\", \"exercise\", \"exercise\", \"experience\", \"experience\", \"experience\", \"experience\", \"experience\", \"explain\", \"explain\", \"explain\", \"explanation\", \"explanation\", \"explanation\", \"fabulous\", \"familiar\", \"fantastic\", \"fantastic\", \"fear\", \"finish\", \"finish\", \"first\", \"first\", \"first\", \"first\", \"foundation\", \"foundation\", \"friend\", \"friendly\", \"friendly\", \"fun\", \"fun\", \"fun\", \"fun\", \"fundamental\", \"fundamental\", \"gain\", \"general\", \"general\", \"get\", \"get\", \"get\", \"give\", \"give\", \"give\", \"give\", \"go\", \"go\", \"go\", \"god\", \"grateful\", \"great\", \"guido\", \"hard\", \"help\", \"help\", \"help\", \"help\", \"help\", \"helpful\", \"helpful\", \"helpful\", \"helpfull\", \"high\", \"highly\", \"highly\", \"however\", \"id\", \"id\", \"incredible\", \"informative\", \"informative\", \"informative\", \"insight\", \"insightful\", \"instructor\", \"instructor\", \"instructor\", \"instructor\", \"interactive\", \"interactive\", \"interest\", \"interest\", \"interest\", \"interest\", \"interest\", \"interesting\", \"interesting\", \"introduction\", \"introduction\", \"introduction\", \"iteration\", \"java\", \"keep\", \"keep\", \"keep\", \"keep\", \"keep\", \"know\", \"know\", \"knowledge\", \"knowledge\", \"knowledge\", \"knowledgeable\", \"kudos\", \"la\", \"language\", \"language\", \"last\", \"le\", \"learn\", \"learn\", \"learn\", \"learn\", \"learn\", \"learning\", \"learning\", \"lecture\", \"lecture\", \"lecture\", \"life\", \"like\", \"like\", \"like\", \"logical\", \"loop\", \"lot\", \"lot\", \"lot\", \"lot\", \"lot\", \"love\", \"love\", \"love\", \"loved\", \"make\", \"make\", \"make\", \"man\", \"may\", \"meet\", \"meet\", \"methodology\", \"michigan\", \"michigan\", \"mind\", \"moment\", \"move\", \"mr\", \"mr\", \"mrcharles\", \"much\", \"much\", \"much\", \"much\", \"much\", \"new\", \"new\", \"new\", \"newbie\", \"nicely\", \"nothing\", \"one\", \"one\", \"one\", \"online\", \"online\", \"opportunity\", \"organize\", \"patient\", \"people\", \"people\", \"perfect\", \"perfect\", \"perfect\", \"perfectly\", \"personally\", \"place\", \"place\", \"platform\", \"platform\", \"platform\", \"practice\", \"prepared\", \"pretty\", \"pretty\", \"pretty\", \"previous\", \"process\", \"professor\", \"professor\", \"professor\", \"professor\", \"program\", \"program\", \"program\", \"program\", \"programming\", \"programming\", \"programming\", \"proper\", \"python\", \"python\", \"python\", \"python\", \"pythonthank\", \"que\", \"question\", \"quick\", \"quiz\", \"quiz\", \"receive\", \"recommend\", \"recommend\", \"recommend\", \"recommended\", \"recommended\", \"refresher\", \"require\", \"respect\", \"rest\", \"right\", \"right\", \"right\", \"rossum\", \"run\", \"russell\", \"satisfied\", \"say\", \"say\", \"say\", \"say\", \"section\", \"seem\", \"session\", \"severance\", \"severance\", \"severance\", \"simply\", \"simply\", \"simply\", \"sir\", \"sir\", \"skill\", \"skill\", \"skill\", \"skill\", \"slow\", \"solve\", \"solve\", \"something\", \"specially\", \"start\", \"start\", \"start\", \"starter\", \"starter\", \"step\", \"structure\", \"structure\", \"structure\", \"structure\", \"structured\", \"student\", \"student\", \"student\", \"suitable\", \"superb\", \"sure\", \"syntax\", \"syntax\", \"take\", \"take\", \"take\", \"take\", \"task\", \"teach\", \"teach\", \"teach\", \"teach\", \"teach\", \"teacher\", \"teacher\", \"teacher\", \"teacher\", \"teaching\", \"team\", \"team\", \"thank\", \"thank\", \"thank\", \"thank\", \"thank\", \"thankful\", \"thanks\", \"thanks\", \"thankyou\", \"thing\", \"thing\", \"thing\", \"thing\", \"think\", \"think\", \"think\", \"time\", \"time\", \"time\", \"towards\", \"try\", \"try\", \"try\", \"try\", \"two\", \"understand\", \"understand\", \"understand\", \"understand\", \"understanding\", \"understanding\", \"understanding\", \"understood\", \"university\", \"university\", \"use\", \"use\", \"use\", \"use\", \"useful\", \"useful\", \"usefull\", \"van\", \"video\", \"video\", \"video\", \"video\", \"walk\", \"want\", \"want\", \"want\", \"watch\", \"way\", \"way\", \"way\", \"way\", \"week\", \"week\", \"well\", \"well\", \"well\", \"willing\", \"without\", \"wonderful\", \"wonderful\", \"wonderful\", \"wonderfully\", \"word\", \"work\", \"work\", \"work\", \"world\", \"world\", \"would\", \"would\", \"would\", \"write\", \"year\", \"zero\", \"zero\"]}, \"R\": 30, \"lambda.step\": 0.01, \"plot.opts\": {\"xlab\": \"PC1\", \"ylab\": \"PC2\"}, \"topic.order\": [5, 1, 3, 2, 4]};\n",
       "\n",
       "function LDAvis_load_lib(url, callback){\n",
       "  var s = document.createElement('script');\n",
       "  s.src = url;\n",
       "  s.async = true;\n",
       "  s.onreadystatechange = s.onload = callback;\n",
       "  s.onerror = function(){console.warn(\"failed to load library \" + url);};\n",
       "  document.getElementsByTagName(\"head\")[0].appendChild(s);\n",
       "}\n",
       "\n",
       "if(typeof(LDAvis) !== \"undefined\"){\n",
       "   // already loaded: just create the visualization\n",
       "   !function(LDAvis){\n",
       "       new LDAvis(\"#\" + \"ldavis_el363141402370968992809151324306\", ldavis_el363141402370968992809151324306_data);\n",
       "   }(LDAvis);\n",
       "}else if(typeof define === \"function\" && define.amd){\n",
       "   // require.js is available: use it to load d3/LDAvis\n",
       "   require.config({paths: {d3: \"https://d3js.org/d3.v5\"}});\n",
       "   require([\"d3\"], function(d3){\n",
       "      window.d3 = d3;\n",
       "      LDAvis_load_lib(\"https://cdn.jsdelivr.net/gh/bmabey/pyLDAvis@3.2.2/pyLDAvis/js/ldavis.v3.0.0.js\", function(){\n",
       "        new LDAvis(\"#\" + \"ldavis_el363141402370968992809151324306\", ldavis_el363141402370968992809151324306_data);\n",
       "      });\n",
       "    });\n",
       "}else{\n",
       "    // require.js not available: dynamically load d3 & LDAvis\n",
       "    LDAvis_load_lib(\"https://d3js.org/d3.v5.js\", function(){\n",
       "         LDAvis_load_lib(\"https://cdn.jsdelivr.net/gh/bmabey/pyLDAvis@3.2.2/pyLDAvis/js/ldavis.v3.0.0.js\", function(){\n",
       "                 new LDAvis(\"#\" + \"ldavis_el363141402370968992809151324306\", ldavis_el363141402370968992809151324306_data);\n",
       "            })\n",
       "         });\n",
       "}\n",
       "</script>"
      ],
      "text/plain": [
       "PreparedData(topic_coordinates=              x         y  topics  cluster       Freq\n",
       "topic                                                \n",
       "4     -0.042602 -0.197332       1        1  26.452860\n",
       "0     -0.056993  0.066667       2        1  26.367856\n",
       "2     -0.131955  0.204895       3        1  21.979798\n",
       "1     -0.105904 -0.107089       4        1  18.252800\n",
       "3      0.337454  0.032859       5        1   6.946686, topic_info=          Term         Freq        Total Category  logprob  loglift\n",
       "4       course  5147.000000  5147.000000  Default  30.0000  30.0000\n",
       "12      python  2122.000000  2122.000000  Default  29.0000  29.0000\n",
       "0        basic   711.000000   711.000000  Default  28.0000  28.0000\n",
       "70        best   639.000000   639.000000  Default  27.0000  27.0000\n",
       "87   excellent   785.000000   785.000000  Default  26.0000  26.0000\n",
       "..         ...          ...          ...      ...      ...      ...\n",
       "119      thing    29.739207   200.866327   Topic5  -5.0273   0.7567\n",
       "370       keep    20.664551    75.949202   Topic5  -5.3914   1.3653\n",
       "112        lot    27.707363   468.822604   Topic5  -5.0981  -0.1616\n",
       "71       class    22.614660   251.752122   Topic5  -5.3012   0.2571\n",
       "439     simply    15.203704    33.172500   Topic5  -5.6983   1.8867\n",
       "\n",
       "[328 rows x 6 columns], token_table=      Topic      Freq      Term\n",
       "term                           \n",
       "247       3  0.954680         7\n",
       "383       2  0.040855  absolute\n",
       "383       4  0.960093  absolute\n",
       "800       3  0.976789   advance\n",
       "718       1  0.968460      alot\n",
       "...     ...       ...       ...\n",
       "239       4  0.076617     would\n",
       "416       2  0.986571     write\n",
       "2505      2  0.953485      year\n",
       "74        2  0.039461      zero\n",
       "74        3  0.947060      zero\n",
       "\n",
       "[520 rows x 3 columns], R=30, lambda_step=0.01, plot_opts={'xlab': 'PC1', 'ylab': 'PC2'}, topic_order=[5, 1, 3, 2, 4])"
      ]
     },
     "execution_count": 33,
     "metadata": {},
     "output_type": "execute_result"
    }
   ],
   "source": [
    "# Visualize the topics\n",
    "pyLDAvis.enable_notebook()\n",
    "vis = pyLDAvis.gensim.prepare(lda_model, corpus, dictionary)\n",
    "vis"
   ]
  },
  {
   "cell_type": "markdown",
   "metadata": {},
   "source": [
    "What is topic perplexity and topic coherence: https://towardsdatascience.com/evaluate-topic-model-in-python-latent-dirichlet-allocation-lda-7d57484bb5d0"
   ]
  },
  {
   "cell_type": "code",
   "execution_count": 34,
   "metadata": {},
   "outputs": [
    {
     "name": "stdout",
     "output_type": "stream",
     "text": [
      "\n",
      "Perplexity:  -6.39884883982054\n",
      "\n",
      "Coherence Score:  0.5363328843078907\n"
     ]
    }
   ],
   "source": [
    "# Calculate Perplexity and Coherence\n",
    "\n",
    "# Compute Perplexity\n",
    "\n",
    "print('\\nPerplexity: ', lda_model.log_perplexity(corpus))  # a measure of how good the model is. The lower the better.\n",
    "\n",
    "# Compute Coherence Score\n",
    "\n",
    "coherence_model_lda = CoherenceModel(model = lda_model, texts = df['preprocessed'], dictionary = dictionary, coherence = 'c_v')\n",
    "coherence_lda = coherence_model_lda.get_coherence()\n",
    "print('\\nCoherence Score: ', coherence_lda)"
   ]
  },
  {
   "cell_type": "markdown",
   "metadata": {},
   "source": [
    "## Hyperparameter Tuning\n",
    "\n",
    "Code references\n",
    "\n",
    "Find the optimal number of topics, alpha and beta: https://towardsdatascience.com/evaluate-topic-model-in-python-latent-dirichlet-allocation-lda-7d57484bb5d0\n",
    "\n",
    "What is alpha and beta: https://www.thoughtvector.io/blog/lda-alpha-and-beta-parameters-the-intuition/"
   ]
  },
  {
   "cell_type": "markdown",
   "metadata": {},
   "source": [
    "## Calculate the coherence score\n",
    "\n",
    "Code reference: \n",
    "\n",
    "https://www.machinelearningplus.com/nlp/topic-modeling-gensim-python/#17howtofindtheoptimalnumberoftopicsforlda"
   ]
  },
  {
   "cell_type": "code",
   "execution_count": 35,
   "metadata": {},
   "outputs": [],
   "source": [
    "# Determine the optiomal number of topics by calculating the coherence score\n",
    "\n",
    "# Define function for calculating coherence score\n",
    "\n",
    "def compute_coherence_values(dictionary, corpus, texts, limit, start = 2, step = 3):\n",
    "    \"\"\"\n",
    "    Compute c_v coherence for various number of topics\n",
    "\n",
    "    Parameters:\n",
    "    ----------\n",
    "    dictionary : Gensim dictionary\n",
    "    corpus : Gensim corpus\n",
    "    texts : List of input texts\n",
    "    limit : Max num of topics\n",
    "\n",
    "    Returns:\n",
    "    -------\n",
    "    model_list : List of LDA topic models\n",
    "    coherence_values : Coherence values corresponding to the LDA model with respective number of topics\n",
    "    \"\"\"\n",
    "    coherence_values = []\n",
    "    model_list = []\n",
    "    for num_topics in range(start, limit, step):\n",
    "        model = LDA(corpus = corpus, num_topics = num_topics, id2word = dictionary, random_state = 100,\n",
    "                chunksize = 100, passes = 10)\n",
    "        model_list.append(model)\n",
    "        coherencemodel = CoherenceModel(model = model, texts = texts, dictionary = dictionary, coherence = 'c_v')\n",
    "        coherence_values.append(coherencemodel.get_coherence())\n",
    "\n",
    "    return model_list, coherence_values"
   ]
  },
  {
   "cell_type": "code",
   "execution_count": 36,
   "metadata": {},
   "outputs": [],
   "source": [
    "# Can take a long time to run.\n",
    "\n",
    "model_list, coherence_values = compute_coherence_values(dictionary = dictionary, corpus = corpus, texts = df['preprocessed'], start = 2, limit = 10, step = 1)"
   ]
  },
  {
   "cell_type": "code",
   "execution_count": 37,
   "metadata": {},
   "outputs": [
    {
     "data": {
      "image/png": "[encoded data removed]",
      "text/plain": [
       "<Figure size 432x288 with 1 Axes>"
      ]
     },
     "metadata": {
      "needs_background": "light"
     },
     "output_type": "display_data"
    }
   ],
   "source": [
    "# Show graph\n",
    "\n",
    "limit = 10; start = 2; step = 1;\n",
    "x = range(start, limit, step)\n",
    "plt.plot(x, coherence_values)\n",
    "plt.xlabel(\"Num Topics\")\n",
    "plt.ylabel(\"Coherence score\")\n",
    "plt.legend((\"coherence_values\"), loc = 'best')\n",
    "plt.show()\n"
   ]
  },
  {
   "cell_type": "code",
   "execution_count": 38,
   "metadata": {},
   "outputs": [
    {
     "name": "stdout",
     "output_type": "stream",
     "text": [
      "Num Topics = 2  has Coherence Value of 0.4731\n",
      "Num Topics = 3  has Coherence Value of 0.4928\n",
      "Num Topics = 4  has Coherence Value of 0.4849\n",
      "Num Topics = 5  has Coherence Value of 0.5413\n",
      "Num Topics = 6  has Coherence Value of 0.5375\n",
      "Num Topics = 7  has Coherence Value of 0.5208\n",
      "Num Topics = 8  has Coherence Value of 0.5767\n",
      "Num Topics = 9  has Coherence Value of 0.559\n"
     ]
    }
   ],
   "source": [
    "# Print the coherence scores\n",
    "\n",
    "for m, cv in zip(x, coherence_values):\n",
    "    print(\"Num Topics =\", m, \" has Coherence Value of\", round(cv, 4))"
   ]
  },
  {
   "cell_type": "markdown",
   "metadata": {},
   "source": [
    "## LDA Mallet Model\n",
    "\n",
    "Code reference:\n",
    "\n",
    "https://www.machinelearningplus.com/nlp/topic-modeling-gensim-python/#17howtofindtheoptimalnumberoftopicsforlda"
   ]
  },
  {
   "cell_type": "code",
   "execution_count": 39,
   "metadata": {},
   "outputs": [],
   "source": [
    "mallet_path = '/Users/siriamanda/Desktop/LNU-VT-2021/Thesis/11-data-analysis/mallet-2.0.8/bin/mallet' # update this path\n",
    "ldamallet = gensim.models.wrappers.LdaMallet(mallet_path, corpus = corpus, num_topics = 5, id2word = dictionary)"
   ]
  },
  {
   "cell_type": "code",
   "execution_count": 40,
   "metadata": {},
   "outputs": [
    {
     "name": "stdout",
     "output_type": "stream",
     "text": [
      "[(0,\n",
      "  [('beginner', 0.11959654178674352),\n",
      "   ('excellent', 0.09099977831966305),\n",
      "   ('python', 0.08501440922190202),\n",
      "   ('dr', 0.06173797384172024),\n",
      "   ('chuck', 0.048769674129904676),\n",
      "   ('helpful', 0.04245178452671248),\n",
      "   ('recommend', 0.03635557526047439),\n",
      "   ('start', 0.029040124140988693),\n",
      "   ('highly', 0.016847705608512526),\n",
      "   ('perfect', 0.016293504766127245)]),\n",
      " (1,\n",
      "  [('python', 0.16231760570880818),\n",
      "   ('learn', 0.12621152412397488),\n",
      "   ('program', 0.1024603259133028),\n",
      "   ('basic', 0.08147832570028757),\n",
      "   ('language', 0.040579401427202046),\n",
      "   ('start', 0.03834274150601768),\n",
      "   ('programming', 0.03781020342954521),\n",
      "   ('simple', 0.02002343167536479),\n",
      "   ('skill', 0.015017573756523591),\n",
      "   ('introduction', 0.013952497603578655)]),\n",
      " (2,\n",
      "  [('understand', 0.05778894472361809),\n",
      "   ('make', 0.047336683417085426),\n",
      "   ('assignment', 0.027738693467336685),\n",
      "   ('time', 0.019899497487437186),\n",
      "   ('complete', 0.019899497487437186),\n",
      "   ('thing', 0.019396984924623117),\n",
      "   ('video', 0.017889447236180904),\n",
      "   ('material', 0.01678391959798995),\n",
      "   ('student', 0.016582914572864323),\n",
      "   ('work', 0.01628140703517588)]),\n",
      " (3,\n",
      "  [('easy', 0.07572794437201216),\n",
      "   ('instructor', 0.06638418079096045),\n",
      "   ('experience', 0.05943068231203824),\n",
      "   ('teacher', 0.04508909169926119),\n",
      "   ('awesome', 0.042916123424598),\n",
      "   ('amaze', 0.032811820947414166),\n",
      "   ('class', 0.03215993046501521),\n",
      "   ('enjoy', 0.027596697088222513),\n",
      "   ('lecture', 0.02140373750543242),\n",
      "   ('content', 0.021295089091699262)]),\n",
      " (4,\n",
      "  [('learn', 0.06335853476733043),\n",
      "   ('teach', 0.059525077201575974),\n",
      "   ('lot', 0.053881375785326376),\n",
      "   ('love', 0.04642743051858162),\n",
      "   ('explain', 0.046107975721435414),\n",
      "   ('charles', 0.04025130444042168),\n",
      "   ('coursera', 0.03865403045469066),\n",
      "   ('professor', 0.0365243318070493),\n",
      "   ('knowledge', 0.0338622084974976),\n",
      "   ('severance', 0.031093600255563836)])]\n",
      "\n",
      "Coherence Score:  0.4578350485855448\n"
     ]
    }
   ],
   "source": [
    "# Show Topics\n",
    "pprint(ldamallet.show_topics(formatted = False))\n",
    "\n",
    "# Compute Coherence Score\n",
    "coherence_model_ldamallet = CoherenceModel(model = ldamallet, texts = df['preprocessed'], dictionary = dictionary, coherence = 'c_v')\n",
    "coherence_ldamallet = coherence_model_ldamallet.get_coherence()\n",
    "print('\\nCoherence Score: ', coherence_ldamallet)\n",
    "\n",
    "# The coherence score using the Mallet Model is lower than the original LDA Model"
   ]
  },
  {
   "cell_type": "code",
   "execution_count": null,
   "metadata": {},
   "outputs": [],
   "source": []
  },
  {
   "cell_type": "code",
   "execution_count": null,
   "metadata": {},
   "outputs": [],
   "source": []
  }
 ],
 "metadata": {
  "kernelspec": {
   "display_name": "Python 3",
   "language": "python",
   "name": "python3"
  },
  "language_info": {
   "codemirror_mode": {
    "name": "ipython",
    "version": 3
   },
   "file_extension": ".py",
   "mimetype": "text/x-python",
   "name": "python",
   "nbconvert_exporter": "python",
   "pygments_lexer": "ipython3",
   "version": "3.7.6"
  }
 },
 "nbformat": 4,
 "nbformat_minor": 4
}
