{
 "cells": [
  {
   "cell_type": "code",
   "execution_count": 70,
   "metadata": {},
   "outputs": [],
   "source": [
    "# Import the libraries\n",
    "\n",
    "import pandas as pd \n",
    "import numpy as np\n",
    "\n",
    "from pprint import pprint\n",
    "\n",
    "# libraries for visualization\n",
    "import pyLDAvis\n",
    "import pyLDAvis.gensim\n",
    "import matplotlib.pyplot as plt\n",
    "import seaborn as sns\n",
    "%matplotlib inline\n",
    "\n",
    "import re\n",
    "\n",
    "import spacy\n",
    "\n",
    "import gensim\n",
    "from gensim import corpora, models\n",
    "from gensim.utils import simple_preprocess\n",
    "from gensim.models import CoherenceModel\n",
    "from gensim.models import Phrases\n",
    "from gensim.models.phrases import Phraser\n",
    "\n",
    "import nltk\n",
    "from nltk import FreqDist\n",
    "from nltk.corpus import stopwords\n",
    "from nltk.tokenize import RegexpTokenizer\n",
    "from nltk.stem import WordNetLemmatizer, SnowballStemmer\n",
    "from nltk.tag import pos_tag, pos_tag_sents\n",
    "from nltk.corpus import wordnet\n",
    "\n",
    "import warnings\n",
    "warnings.filterwarnings(\"ignore\")\n"
   ]
  },
  {
   "cell_type": "markdown",
   "metadata": {},
   "source": [
    "Code references:\n",
    "\n",
    "https://www.analyticsvidhya.com/blog/2018/10/mining-online-reviews-topic-modeling-lda/\n"
   ]
  },
  {
   "cell_type": "code",
   "execution_count": 43,
   "metadata": {},
   "outputs": [],
   "source": [
    "df = pd.read_csv('/Users/siriamanda/Desktop/LNU-VT-2021/Thesis/11-data-analysis/sentiment-analysis-of-reviews/01-sentiment-analysis/01-programming-for-everybody/VADER-programming-for-everybody.csv')"
   ]
  },
  {
   "cell_type": "code",
   "execution_count": 44,
   "metadata": {},
   "outputs": [
    {
     "data": {
      "text/html": [
       "<div>\n",
       "<style scoped>\n",
       "    .dataframe tbody tr th:only-of-type {\n",
       "        vertical-align: middle;\n",
       "    }\n",
       "\n",
       "    .dataframe tbody tr th {\n",
       "        vertical-align: top;\n",
       "    }\n",
       "\n",
       "    .dataframe thead th {\n",
       "        text-align: right;\n",
       "    }\n",
       "</style>\n",
       "<table border=\"1\" class=\"dataframe\">\n",
       "  <thead>\n",
       "    <tr style=\"text-align: right;\">\n",
       "      <th></th>\n",
       "      <th>Unnamed: 0</th>\n",
       "      <th>date</th>\n",
       "      <th>review</th>\n",
       "      <th>rating</th>\n",
       "      <th>status</th>\n",
       "      <th>length</th>\n",
       "      <th>label</th>\n",
       "      <th>language_scores</th>\n",
       "      <th>language</th>\n",
       "      <th>scores</th>\n",
       "      <th>compound</th>\n",
       "      <th>sentiment</th>\n",
       "    </tr>\n",
       "  </thead>\n",
       "  <tbody>\n",
       "    <tr>\n",
       "      <th>0</th>\n",
       "      <td>0</td>\n",
       "      <td>2021-03-11</td>\n",
       "      <td>Nice Course for beginners where we can enjoy a...</td>\n",
       "      <td>5</td>\n",
       "      <td>completer</td>\n",
       "      <td>135</td>\n",
       "      <td>pos</td>\n",
       "      <td>{'language': 'en', 'score': 0.9999988169641919}</td>\n",
       "      <td>en</td>\n",
       "      <td>{'neg': 0.0, 'neu': 0.601, 'pos': 0.399, 'comp...</td>\n",
       "      <td>0.9062</td>\n",
       "      <td>pos</td>\n",
       "    </tr>\n",
       "    <tr>\n",
       "      <th>1</th>\n",
       "      <td>1</td>\n",
       "      <td>2021-03-11</td>\n",
       "      <td>Super easy and totally for the beginners like ...</td>\n",
       "      <td>5</td>\n",
       "      <td>completer</td>\n",
       "      <td>163</td>\n",
       "      <td>pos</td>\n",
       "      <td>{'language': 'en', 'score': 0.9999984011655625}</td>\n",
       "      <td>en</td>\n",
       "      <td>{'neg': 0.0, 'neu': 0.453, 'pos': 0.547, 'comp...</td>\n",
       "      <td>0.9678</td>\n",
       "      <td>pos</td>\n",
       "    </tr>\n",
       "    <tr>\n",
       "      <th>2</th>\n",
       "      <td>2</td>\n",
       "      <td>2021-03-11</td>\n",
       "      <td>Very interactive and a nice course to start pr...</td>\n",
       "      <td>5</td>\n",
       "      <td>completer</td>\n",
       "      <td>67</td>\n",
       "      <td>pos</td>\n",
       "      <td>{'language': 'en', 'score': 0.9999980645444568}</td>\n",
       "      <td>en</td>\n",
       "      <td>{'neg': 0.0, 'neu': 0.746, 'pos': 0.254, 'comp...</td>\n",
       "      <td>0.4703</td>\n",
       "      <td>pos</td>\n",
       "    </tr>\n",
       "    <tr>\n",
       "      <th>3</th>\n",
       "      <td>3</td>\n",
       "      <td>2021-03-11</td>\n",
       "      <td>Awesome course! Definitely a very nice introdu...</td>\n",
       "      <td>5</td>\n",
       "      <td>completer</td>\n",
       "      <td>166</td>\n",
       "      <td>pos</td>\n",
       "      <td>{'language': 'en', 'score': 0.9999973332745635}</td>\n",
       "      <td>en</td>\n",
       "      <td>{'neg': 0.0, 'neu': 0.553, 'pos': 0.447, 'comp...</td>\n",
       "      <td>0.9448</td>\n",
       "      <td>pos</td>\n",
       "    </tr>\n",
       "    <tr>\n",
       "      <th>4</th>\n",
       "      <td>4</td>\n",
       "      <td>2021-03-11</td>\n",
       "      <td>Perfect for new learners</td>\n",
       "      <td>5</td>\n",
       "      <td>completer</td>\n",
       "      <td>24</td>\n",
       "      <td>pos</td>\n",
       "      <td>{'language': 'en', 'score': 0.9999967444537561}</td>\n",
       "      <td>en</td>\n",
       "      <td>{'neg': 0.0, 'neu': 0.448, 'pos': 0.552, 'comp...</td>\n",
       "      <td>0.5719</td>\n",
       "      <td>pos</td>\n",
       "    </tr>\n",
       "  </tbody>\n",
       "</table>\n",
       "</div>"
      ],
      "text/plain": [
       "   Unnamed: 0        date                                             review  \\\n",
       "0           0  2021-03-11  Nice Course for beginners where we can enjoy a...   \n",
       "1           1  2021-03-11  Super easy and totally for the beginners like ...   \n",
       "2           2  2021-03-11  Very interactive and a nice course to start pr...   \n",
       "3           3  2021-03-11  Awesome course! Definitely a very nice introdu...   \n",
       "4           4  2021-03-11                           Perfect for new learners   \n",
       "\n",
       "   rating     status  length label  \\\n",
       "0       5  completer     135   pos   \n",
       "1       5  completer     163   pos   \n",
       "2       5  completer      67   pos   \n",
       "3       5  completer     166   pos   \n",
       "4       5  completer      24   pos   \n",
       "\n",
       "                                   language_scores language  \\\n",
       "0  {'language': 'en', 'score': 0.9999988169641919}       en   \n",
       "1  {'language': 'en', 'score': 0.9999984011655625}       en   \n",
       "2  {'language': 'en', 'score': 0.9999980645444568}       en   \n",
       "3  {'language': 'en', 'score': 0.9999973332745635}       en   \n",
       "4  {'language': 'en', 'score': 0.9999967444537561}       en   \n",
       "\n",
       "                                              scores  compound sentiment  \n",
       "0  {'neg': 0.0, 'neu': 0.601, 'pos': 0.399, 'comp...    0.9062       pos  \n",
       "1  {'neg': 0.0, 'neu': 0.453, 'pos': 0.547, 'comp...    0.9678       pos  \n",
       "2  {'neg': 0.0, 'neu': 0.746, 'pos': 0.254, 'comp...    0.4703       pos  \n",
       "3  {'neg': 0.0, 'neu': 0.553, 'pos': 0.447, 'comp...    0.9448       pos  \n",
       "4  {'neg': 0.0, 'neu': 0.448, 'pos': 0.552, 'comp...    0.5719       pos  "
      ]
     },
     "execution_count": 44,
     "metadata": {},
     "output_type": "execute_result"
    }
   ],
   "source": [
    "df.head()"
   ]
  },
  {
   "cell_type": "code",
   "execution_count": 45,
   "metadata": {},
   "outputs": [],
   "source": [
    "df.drop(['Unnamed: 0', 'language_scores', 'language', 'scores'], axis = 1, inplace = True)"
   ]
  },
  {
   "cell_type": "code",
   "execution_count": 46,
   "metadata": {},
   "outputs": [
    {
     "data": {
      "text/html": [
       "<div>\n",
       "<style scoped>\n",
       "    .dataframe tbody tr th:only-of-type {\n",
       "        vertical-align: middle;\n",
       "    }\n",
       "\n",
       "    .dataframe tbody tr th {\n",
       "        vertical-align: top;\n",
       "    }\n",
       "\n",
       "    .dataframe thead th {\n",
       "        text-align: right;\n",
       "    }\n",
       "</style>\n",
       "<table border=\"1\" class=\"dataframe\">\n",
       "  <thead>\n",
       "    <tr style=\"text-align: right;\">\n",
       "      <th></th>\n",
       "      <th>date</th>\n",
       "      <th>review</th>\n",
       "      <th>rating</th>\n",
       "      <th>status</th>\n",
       "      <th>length</th>\n",
       "      <th>label</th>\n",
       "      <th>compound</th>\n",
       "      <th>sentiment</th>\n",
       "    </tr>\n",
       "  </thead>\n",
       "  <tbody>\n",
       "    <tr>\n",
       "      <th>0</th>\n",
       "      <td>2021-03-11</td>\n",
       "      <td>Nice Course for beginners where we can enjoy a...</td>\n",
       "      <td>5</td>\n",
       "      <td>completer</td>\n",
       "      <td>135</td>\n",
       "      <td>pos</td>\n",
       "      <td>0.9062</td>\n",
       "      <td>pos</td>\n",
       "    </tr>\n",
       "    <tr>\n",
       "      <th>1</th>\n",
       "      <td>2021-03-11</td>\n",
       "      <td>Super easy and totally for the beginners like ...</td>\n",
       "      <td>5</td>\n",
       "      <td>completer</td>\n",
       "      <td>163</td>\n",
       "      <td>pos</td>\n",
       "      <td>0.9678</td>\n",
       "      <td>pos</td>\n",
       "    </tr>\n",
       "    <tr>\n",
       "      <th>2</th>\n",
       "      <td>2021-03-11</td>\n",
       "      <td>Very interactive and a nice course to start pr...</td>\n",
       "      <td>5</td>\n",
       "      <td>completer</td>\n",
       "      <td>67</td>\n",
       "      <td>pos</td>\n",
       "      <td>0.4703</td>\n",
       "      <td>pos</td>\n",
       "    </tr>\n",
       "    <tr>\n",
       "      <th>3</th>\n",
       "      <td>2021-03-11</td>\n",
       "      <td>Awesome course! Definitely a very nice introdu...</td>\n",
       "      <td>5</td>\n",
       "      <td>completer</td>\n",
       "      <td>166</td>\n",
       "      <td>pos</td>\n",
       "      <td>0.9448</td>\n",
       "      <td>pos</td>\n",
       "    </tr>\n",
       "    <tr>\n",
       "      <th>4</th>\n",
       "      <td>2021-03-11</td>\n",
       "      <td>Perfect for new learners</td>\n",
       "      <td>5</td>\n",
       "      <td>completer</td>\n",
       "      <td>24</td>\n",
       "      <td>pos</td>\n",
       "      <td>0.5719</td>\n",
       "      <td>pos</td>\n",
       "    </tr>\n",
       "    <tr>\n",
       "      <th>...</th>\n",
       "      <td>...</td>\n",
       "      <td>...</td>\n",
       "      <td>...</td>\n",
       "      <td>...</td>\n",
       "      <td>...</td>\n",
       "      <td>...</td>\n",
       "      <td>...</td>\n",
       "      <td>...</td>\n",
       "    </tr>\n",
       "    <tr>\n",
       "      <th>9558</th>\n",
       "      <td>2020-07-21</td>\n",
       "      <td>excellent explanation starting with how comput...</td>\n",
       "      <td>5</td>\n",
       "      <td>dropout</td>\n",
       "      <td>129</td>\n",
       "      <td>pos</td>\n",
       "      <td>0.9080</td>\n",
       "      <td>pos</td>\n",
       "    </tr>\n",
       "    <tr>\n",
       "      <th>9559</th>\n",
       "      <td>2020-07-21</td>\n",
       "      <td>My friend recommanded the lecture. It really d...</td>\n",
       "      <td>5</td>\n",
       "      <td>dropout</td>\n",
       "      <td>69</td>\n",
       "      <td>pos</td>\n",
       "      <td>0.5411</td>\n",
       "      <td>pos</td>\n",
       "    </tr>\n",
       "    <tr>\n",
       "      <th>9560</th>\n",
       "      <td>2020-07-21</td>\n",
       "      <td>Highly recommend this sets  a good foundation ...</td>\n",
       "      <td>5</td>\n",
       "      <td>dropout</td>\n",
       "      <td>56</td>\n",
       "      <td>pos</td>\n",
       "      <td>0.6901</td>\n",
       "      <td>pos</td>\n",
       "    </tr>\n",
       "    <tr>\n",
       "      <th>9561</th>\n",
       "      <td>2020-07-21</td>\n",
       "      <td>best python programming course for absolute be...</td>\n",
       "      <td>5</td>\n",
       "      <td>dropout</td>\n",
       "      <td>53</td>\n",
       "      <td>pos</td>\n",
       "      <td>0.6369</td>\n",
       "      <td>pos</td>\n",
       "    </tr>\n",
       "    <tr>\n",
       "      <th>9562</th>\n",
       "      <td>2020-07-21</td>\n",
       "      <td>best one</td>\n",
       "      <td>4</td>\n",
       "      <td>completer</td>\n",
       "      <td>8</td>\n",
       "      <td>pos</td>\n",
       "      <td>0.6369</td>\n",
       "      <td>pos</td>\n",
       "    </tr>\n",
       "  </tbody>\n",
       "</table>\n",
       "<p>9563 rows × 8 columns</p>\n",
       "</div>"
      ],
      "text/plain": [
       "            date                                             review  rating  \\\n",
       "0     2021-03-11  Nice Course for beginners where we can enjoy a...       5   \n",
       "1     2021-03-11  Super easy and totally for the beginners like ...       5   \n",
       "2     2021-03-11  Very interactive and a nice course to start pr...       5   \n",
       "3     2021-03-11  Awesome course! Definitely a very nice introdu...       5   \n",
       "4     2021-03-11                           Perfect for new learners       5   \n",
       "...          ...                                                ...     ...   \n",
       "9558  2020-07-21  excellent explanation starting with how comput...       5   \n",
       "9559  2020-07-21  My friend recommanded the lecture. It really d...       5   \n",
       "9560  2020-07-21  Highly recommend this sets  a good foundation ...       5   \n",
       "9561  2020-07-21  best python programming course for absolute be...       5   \n",
       "9562  2020-07-21                                           best one       4   \n",
       "\n",
       "         status  length label  compound sentiment  \n",
       "0     completer     135   pos    0.9062       pos  \n",
       "1     completer     163   pos    0.9678       pos  \n",
       "2     completer      67   pos    0.4703       pos  \n",
       "3     completer     166   pos    0.9448       pos  \n",
       "4     completer      24   pos    0.5719       pos  \n",
       "...         ...     ...   ...       ...       ...  \n",
       "9558    dropout     129   pos    0.9080       pos  \n",
       "9559    dropout      69   pos    0.5411       pos  \n",
       "9560    dropout      56   pos    0.6901       pos  \n",
       "9561    dropout      53   pos    0.6369       pos  \n",
       "9562  completer       8   pos    0.6369       pos  \n",
       "\n",
       "[9563 rows x 8 columns]"
      ]
     },
     "execution_count": 46,
     "metadata": {},
     "output_type": "execute_result"
    }
   ],
   "source": [
    "df"
   ]
  },
  {
   "cell_type": "code",
   "execution_count": 47,
   "metadata": {},
   "outputs": [
    {
     "data": {
      "text/plain": [
       "0"
      ]
     },
     "execution_count": 47,
     "metadata": {},
     "output_type": "execute_result"
    }
   ],
   "source": [
    "# Check for null values\n",
    "\n",
    "len(df[df['review'].isna()==True])"
   ]
  },
  {
   "cell_type": "code",
   "execution_count": 48,
   "metadata": {},
   "outputs": [],
   "source": [
    "# Drop null values\n",
    "\n",
    "# df.dropna(inplace = True)"
   ]
  },
  {
   "cell_type": "code",
   "execution_count": 49,
   "metadata": {},
   "outputs": [],
   "source": [
    "# Check for null values\n",
    "\n",
    "# len(df[df['review'].isna()==True])"
   ]
  },
  {
   "cell_type": "code",
   "execution_count": 50,
   "metadata": {},
   "outputs": [],
   "source": [
    "# Reset the index\n",
    "\n",
    "# df = df.reset_index(drop = True)"
   ]
  },
  {
   "cell_type": "code",
   "execution_count": 51,
   "metadata": {},
   "outputs": [],
   "source": [
    "# df"
   ]
  },
  {
   "cell_type": "code",
   "execution_count": 52,
   "metadata": {},
   "outputs": [],
   "source": [
    "# Define a function to plot the most frequent words\n",
    "\n",
    "def freq_words(x, terms = 30):\n",
    "    all_words = ' '.join([text for text in x])\n",
    "    all_words = all_words.split()\n",
    "\n",
    "    fdist = FreqDist(all_words)\n",
    "    words_df = pd.DataFrame({'word':list(fdist.keys()), 'count':list(fdist.values())})\n",
    "    \n",
    "    # selecting top 20 most frequent words\n",
    "    d = words_df.nlargest(columns=\"count\", n = terms) \n",
    "    plt.figure(figsize=(20,5))\n",
    "    ax = sns.barplot(data=d, x= \"word\", y = \"count\")\n",
    "    ax.set(ylabel = 'Count')\n",
    "    plt.xticks(rotation = 45)\n",
    "    plt.show()"
   ]
  },
  {
   "cell_type": "code",
   "execution_count": 53,
   "metadata": {},
   "outputs": [
    {
     "data": {
      "image/png": "[encoded data removed]",
      "text/plain": [
       "<Figure size 1440x360 with 1 Axes>"
      ]
     },
     "metadata": {
      "needs_background": "light"
     },
     "output_type": "display_data"
    }
   ],
   "source": [
    "# The most frquent words are stop words such as 'to' and 'the' we will remove these in the preprocessing steps\n",
    "\n",
    "freq_words(df['review'])"
   ]
  },
  {
   "cell_type": "markdown",
   "metadata": {},
   "source": [
    "## Preprocessing"
   ]
  },
  {
   "cell_type": "code",
   "execution_count": 114,
   "metadata": {},
   "outputs": [
    {
     "data": {
      "text/plain": [
       "0    nice course for beginners where we can enjoy a...\n",
       "1    super easy and totally for the beginners like ...\n",
       "2    very interactive and a nice course to start pr...\n",
       "3    awesome course! definitely a very nice introdu...\n",
       "4                             perfect for new learners\n",
       "Name: preprocessed, dtype: object"
      ]
     },
     "execution_count": 114,
     "metadata": {},
     "output_type": "execute_result"
    }
   ],
   "source": [
    "# Covert to lowercase\n",
    "\n",
    "df['preprocessed'] =  df['review'].apply(lambda x: \" \".join(x.lower() for x in x.split()))\n",
    "df['preprocessed'].head()"
   ]
  },
  {
   "cell_type": "code",
   "execution_count": 115,
   "metadata": {},
   "outputs": [
    {
     "data": {
      "text/plain": [
       "0    nice course for beginners where we can enjoy a...\n",
       "1    super easy and totally for the beginners like ...\n",
       "2    very interactive and a nice course to start pr...\n",
       "3    awesome course definitely a very nice introduc...\n",
       "4                             perfect for new learners\n",
       "Name: preprocessed, dtype: object"
      ]
     },
     "execution_count": 115,
     "metadata": {},
     "output_type": "execute_result"
    }
   ],
   "source": [
    "# Remove punctuations\n",
    "\n",
    "df['preprocessed'] = df['preprocessed'].str.replace('[^\\w\\s]','')\n",
    "df['preprocessed'].head()"
   ]
  },
  {
   "cell_type": "code",
   "execution_count": 116,
   "metadata": {},
   "outputs": [
    {
     "data": {
      "text/plain": [
       "0    course beginners enjoy learn well dr chuck mad...\n",
       "1    super easy totally beginners course title prof...\n",
       "2          interactive course start programming pyhton\n",
       "3    awesome course definitely introduction coding ...\n",
       "4                                 perfect new learners\n",
       "Name: preprocessed, dtype: object"
      ]
     },
     "execution_count": 116,
     "metadata": {},
     "output_type": "execute_result"
    }
   ],
   "source": [
    "# Remove stopwords\n",
    "\n",
    "stop = stopwords.words('english')\n",
    "stop.extend(['good', 'great', 'really', 'like', 'nice'])\n",
    "\n",
    "df['preprocessed'] = df['preprocessed'].apply(lambda x: \" \".join(x for x in x.split() if x not in stop))\n",
    "df['preprocessed'].head()"
   ]
  },
  {
   "cell_type": "code",
   "execution_count": 117,
   "metadata": {},
   "outputs": [],
   "source": [
    "# Build a model for creating bigrams\n",
    "\n",
    "# bigram = gensim.models.Phrases(texts)\n",
    "\n",
    "# df['preprocessed'] = [bigram[line] for line in df['preprocessed']]\n",
    "# df['preprocessed'].head(5)"
   ]
  },
  {
   "cell_type": "code",
   "execution_count": 118,
   "metadata": {},
   "outputs": [],
   "source": [
    "# Check for null values\n",
    "\n",
    "# len(df[df['preprocessed'].isna()==True])"
   ]
  },
  {
   "cell_type": "code",
   "execution_count": 119,
   "metadata": {},
   "outputs": [],
   "source": [
    "# Remove short words (length < 3)\n",
    "\n",
    "# df['review'] = df['review'].apply(lambda x: ' '.join([w for w in x.split() if len(w)>2]))\n",
    "# df['review'].head()"
   ]
  },
  {
   "cell_type": "code",
   "execution_count": 120,
   "metadata": {},
   "outputs": [],
   "source": [
    "# Join reviews\n",
    "\n",
    "# df['joined'] = df['preprocessed'].apply(lambda x: ' '.join(x))"
   ]
  },
  {
   "cell_type": "code",
   "execution_count": 121,
   "metadata": {
    "scrolled": true
   },
   "outputs": [
    {
     "data": {
      "image/png": "[encoded data removed]",
      "text/plain": [
       "<Figure size 1440x360 with 1 Axes>"
      ]
     },
     "metadata": {
      "needs_background": "light"
     },
     "output_type": "display_data"
    }
   ],
   "source": [
    "# Look at the most frequent words again \n",
    "\n",
    "freq_words(df['preprocessed'])"
   ]
  },
  {
   "cell_type": "code",
   "execution_count": 122,
   "metadata": {},
   "outputs": [
    {
     "data": {
      "text/plain": [
       "0    [course, beginners, enjoy, learn, well, dr, ch...\n",
       "1    [super, easy, totally, beginners, course, titl...\n",
       "2    [interactive, course, start, programming, pyhton]\n",
       "3    [awesome, course, definitely, introduction, co...\n",
       "4                             [perfect, new, learners]\n",
       "Name: preprocessed, dtype: object"
      ]
     },
     "execution_count": 122,
     "metadata": {},
     "output_type": "execute_result"
    }
   ],
   "source": [
    "# Tokenization\n",
    "\n",
    "tokenizer = RegexpTokenizer(r'\\w+')\n",
    "\n",
    "df['preprocessed'] = df['preprocessed'].apply(lambda x: tokenizer.tokenize(x.lower()))\n",
    "df['preprocessed'].head(5)\n"
   ]
  },
  {
   "cell_type": "code",
   "execution_count": 123,
   "metadata": {},
   "outputs": [
    {
     "data": {
      "text/plain": [
       "0    [(course, NN), (beginners, NNS), (enjoy, VBP),...\n",
       "1    [(super, JJ), (easy, JJ), (totally, RB), (begi...\n",
       "2    [(interactive, JJ), (course, NN), (start, NN),...\n",
       "3    [(awesome, JJ), (course, NN), (definitely, RB)...\n",
       "4          [(perfect, JJ), (new, JJ), (learners, NNS)]\n",
       "Name: preprocessed, dtype: object"
      ]
     },
     "execution_count": 123,
     "metadata": {},
     "output_type": "execute_result"
    }
   ],
   "source": [
    "# Add speech tags\n",
    "\n",
    "df['preprocessed'] = df['preprocessed'].apply(nltk.tag.pos_tag)\n",
    "df['preprocessed'].head()"
   ]
  },
  {
   "cell_type": "code",
   "execution_count": 124,
   "metadata": {},
   "outputs": [],
   "source": [
    "# Define function to convert parts of speech tags to wordnet’s format\n",
    "\n",
    "def get_wordnet_pos(tag):\n",
    "    if tag.startswith('J'):\n",
    "        return wordnet.ADJ\n",
    "    elif tag.startswith('V'):\n",
    "        return wordnet.VERB\n",
    "    elif tag.startswith('N'):\n",
    "        return wordnet.NOUN\n",
    "    elif tag.startswith('R'):\n",
    "        return wordnet.ADV\n",
    "    else:\n",
    "        return wordnet.NOUN"
   ]
  },
  {
   "cell_type": "code",
   "execution_count": 125,
   "metadata": {},
   "outputs": [
    {
     "data": {
      "text/plain": [
       "0    [(course, n), (beginners, n), (enjoy, v), (lea...\n",
       "1    [(super, a), (easy, a), (totally, r), (beginne...\n",
       "2    [(interactive, a), (course, n), (start, n), (p...\n",
       "3    [(awesome, a), (course, n), (definitely, r), (...\n",
       "4              [(perfect, a), (new, a), (learners, n)]\n",
       "Name: preprocessed, dtype: object"
      ]
     },
     "execution_count": 125,
     "metadata": {},
     "output_type": "execute_result"
    }
   ],
   "source": [
    "# Apply the function to the tagged data\n",
    "\n",
    "df['preprocessed'] = df['preprocessed'].apply(lambda x: [(word, get_wordnet_pos(pos_tag)) for (word, pos_tag) in x])\n",
    "df['preprocessed'].head()"
   ]
  },
  {
   "cell_type": "code",
   "execution_count": 126,
   "metadata": {},
   "outputs": [
    {
     "data": {
      "text/plain": [
       "0    [course, beginner, enjoy, learn, well, dr, chu...\n",
       "1    [super, easy, totally, beginner, course, title...\n",
       "2        [interactive, course, start, program, pyhton]\n",
       "3    [awesome, course, definitely, introduction, co...\n",
       "4                              [perfect, new, learner]\n",
       "Name: preprocessed, dtype: object"
      ]
     },
     "execution_count": 126,
     "metadata": {},
     "output_type": "execute_result"
    }
   ],
   "source": [
    "# Create lemmatizer\n",
    "\n",
    "lemmatizer = WordNetLemmatizer()\n",
    "\n",
    "# Apply to data \n",
    "\n",
    "df['preprocessed'] = df['preprocessed'].apply(lambda x: [lemmatizer.lemmatize(word, tag) for word, tag in x])\n",
    "df['preprocessed'].head()"
   ]
  },
  {
   "cell_type": "code",
   "execution_count": 127,
   "metadata": {},
   "outputs": [],
   "source": [
    "# Join reviews\n",
    "\n",
    "df['joined'] = df['preprocessed'].apply(lambda x: ' '.join(x))"
   ]
  },
  {
   "cell_type": "code",
   "execution_count": 128,
   "metadata": {},
   "outputs": [
    {
     "data": {
      "image/png": "[encoded data removed]",
      "text/plain": [
       "<Figure size 1440x360 with 1 Axes>"
      ]
     },
     "metadata": {
      "needs_background": "light"
     },
     "output_type": "display_data"
    }
   ],
   "source": [
    "# Most frequent words after lemmatizing \n",
    "\n",
    "freq_words(df['joined'], 35)"
   ]
  },
  {
   "cell_type": "markdown",
   "metadata": {},
   "source": [
    "## LDA Topic Modeling"
   ]
  },
  {
   "cell_type": "code",
   "execution_count": 129,
   "metadata": {},
   "outputs": [],
   "source": [
    "# Create a dictionary from 'df_sen['review']' containing the number of times a word appears in the training set\n",
    "\n",
    "dictionary = gensim.corpora.Dictionary(df['preprocessed'])"
   ]
  },
  {
   "cell_type": "code",
   "execution_count": 130,
   "metadata": {},
   "outputs": [],
   "source": [
    "# Gensim filter extremes\n",
    "\n",
    "# Filter out tokens that appear in:\n",
    "# Less than 50 documents, more than 0.5 documents, and keep only 100000 most frquent tokens\n",
    "\n",
    "# dictionary.filter_extremes(no_below = 50, no_above = 0.5, keep_n = 100000)"
   ]
  },
  {
   "cell_type": "code",
   "execution_count": 131,
   "metadata": {},
   "outputs": [],
   "source": [
    "# Gensim doc2bow\n",
    "# Create a dictionary reporting how many words and how many times those words appear\n",
    "\n",
    "corpus = [dictionary.doc2bow(doc) for doc in df['preprocessed']]\n"
   ]
  },
  {
   "cell_type": "code",
   "execution_count": 132,
   "metadata": {},
   "outputs": [],
   "source": [
    "# Add TF-IDF\n",
    "\n",
    "tfidf = models.TfidfModel(corpus)      # Create a TF-IDF model\n",
    "corpus_tfidf = tfidf[corpus]  "
   ]
  },
  {
   "cell_type": "code",
   "execution_count": 133,
   "metadata": {},
   "outputs": [],
   "source": [
    "# Creating the object for LDA model using gensim library\n",
    "LDA = gensim.models.LdaMulticore\n",
    "\n",
    "# Build LDA model\n",
    "lda_model = LDA(corpus = corpus, id2word = dictionary, num_topics = 5, random_state = 100,\n",
    "                chunksize = 100, passes = 10)"
   ]
  },
  {
   "cell_type": "code",
   "execution_count": 134,
   "metadata": {},
   "outputs": [
    {
     "name": "stdout",
     "output_type": "stream",
     "text": [
      "Topic: 0\n",
      "Word: 0.026*\"course\" + 0.014*\"program\" + 0.013*\"assignment\" + 0.013*\"would\" + 0.013*\"helpful\" + 0.011*\"make\" + 0.010*\"python\" + 0.009*\"learn\" + 0.008*\"go\" + 0.008*\"take\"\n",
      "\n",
      "Topic: 1\n",
      "Word: 0.201*\"course\" + 0.063*\"beginner\" + 0.054*\"best\" + 0.025*\"python\" + 0.025*\"well\" + 0.021*\"instructor\" + 0.021*\"one\" + 0.013*\"ever\" + 0.013*\"wonderful\" + 0.012*\"amazing\"\n",
      "\n",
      "Topic: 2\n",
      "Word: 0.111*\"python\" + 0.084*\"course\" + 0.056*\"learn\" + 0.051*\"program\" + 0.051*\"basic\" + 0.034*\"start\" + 0.024*\"language\" + 0.021*\"programming\" + 0.020*\"useful\" + 0.017*\"knowledge\"\n",
      "\n",
      "Topic: 3\n",
      "Word: 0.081*\"awesome\" + 0.060*\"experience\" + 0.027*\"learn\" + 0.018*\"enjoy\" + 0.016*\"learning\" + 0.015*\"fun\" + 0.013*\"perfect\" + 0.011*\"interactive\" + 0.009*\"fantastic\" + 0.009*\"content\"\n",
      "\n",
      "Topic: 4\n",
      "Word: 0.066*\"course\" + 0.045*\"excellent\" + 0.040*\"thank\" + 0.033*\"easy\" + 0.028*\"learn\" + 0.027*\"dr\" + 0.023*\"teach\" + 0.021*\"chuck\" + 0.020*\"thanks\" + 0.020*\"teacher\"\n",
      "\n"
     ]
    }
   ],
   "source": [
    "# Explore the words occurring in each topic and its relative weight\n",
    "\n",
    "for id, topic in lda_model.print_topics(-1):\n",
    "    print('Topic: {}\\nWord: {}\\n'.format(id, topic))"
   ]
  },
  {
   "cell_type": "markdown",
   "metadata": {},
   "source": [
    "### Visualise with pyLDAvis\n",
    "\n",
    "Original paper: https://nlp.stanford.edu/events/illvi2014/papers/sievert-illvi2014.pdf"
   ]
  },
  {
   "cell_type": "code",
   "execution_count": 135,
   "metadata": {
    "scrolled": false
   },
   "outputs": [
    {
     "data": {
      "text/html": [
       "\n",
       "<link rel=\"stylesheet\" type=\"text/css\" href=\"https://cdn.jsdelivr.net/gh/bmabey/pyLDAvis@3.2.2/pyLDAvis/js/ldavis.v1.0.0.css\">\n",
       "\n",
       "\n",
       "<div id=\"ldavis_el36314140237143495248502894000\"></div>\n",
       "<script type=\"text/javascript\">\n",
       "\n",
       "var ldavis_el36314140237143495248502894000_data = {\"mdsDat\": {\"x\": [-0.05711572148104835, -0.04219597415636998, -0.13093819248881602, -0.10193770693006153, 0.3321875950562958], \"y\": [-0.06767671707318289, 0.19020318973781403, -0.2018156805994029, 0.11195815390956323, -0.032668945974791315], \"topics\": [1, 2, 3, 4, 5], \"cluster\": [1, 1, 1, 1, 1], \"Freq\": [26.791384713074283, 26.347239021568413, 21.68740187573158, 17.993459694331836, 7.180514695293881]}, \"tinfo\": {\"Term\": [\"course\", \"python\", \"basic\", \"best\", \"beginner\", \"excellent\", \"awesome\", \"experience\", \"program\", \"thank\", \"start\", \"learn\", \"dr\", \"language\", \"useful\", \"easy\", \"programming\", \"charles\", \"thanks\", \"chuck\", \"one\", \"well\", \"teacher\", \"instructor\", \"enjoy\", \"fun\", \"amaze\", \"love\", \"coursera\", \"teach\", \"step\", \"bit\", \"difficult\", \"practice\", \"write\", \"without\", \"something\", \"nothing\", \"sure\", \"chapter\", \"however\", \"last\", \"code\", \"question\", \"watch\", \"end\", \"didnt\", \"seem\", \"slow\", \"suitable\", \"may\", \"professional\", \"year\", \"beautiful\", \"challenge\", \"break\", \"process\", \"believe\", \"thats\", \"instruction\", \"go\", \"different\", \"exercise\", \"would\", \"assignment\", \"example\", \"try\", \"video\", \"right\", \"time\", \"could\", \"think\", \"definitely\", \"quiz\", \"use\", \"helpful\", \"first\", \"student\", \"problem\", \"also\", \"say\", \"work\", \"make\", \"class\", \"take\", \"even\", \"program\", \"recommend\", \"course\", \"get\", \"cod\", \"concept\", \"python\", \"learn\", \"well\", \"easy\", \"start\", \"want\", \"excellent\", \"teaching\", \"sir\", \"interesting\", \"russell\", \"opportunity\", \"life\", \"helpfull\", \"charles\", \"grateful\", \"detail\", \"alot\", \"understood\", \"liked\", \"detailed\", \"thankful\", \"thanks\", \"thank\", \"cool\", \"excite\", \"chunk\", \"delivery\", \"god\", \"attention\", \"insightful\", \"ask\", \"insight\", \"fear\", \"satisfied\", \"team\", \"teacher\", \"everything\", \"dr\", \"severance\", \"michigan\", \"chuck\", \"session\", \"amaze\", \"mr\", \"university\", \"coursera\", \"easy\", \"professor\", \"much\", \"teach\", \"love\", \"understand\", \"way\", \"explanation\", \"make\", \"lot\", \"fun\", \"course\", \"instructor\", \"learn\", \"explain\", \"enjoy\", \"well\", \"basic\", \"useful\", \"gain\", \"introduction\", \"loop\", \"certificate\", \"two\", \"require\", \"personally\", \"advance\", \"enhance\", \"usefull\", \"fundamental\", \"pythonthank\", \"java\", \"familiar\", \"refresher\", \"comprehensive\", \"7\", \"logical\", \"general\", \"language\", \"pyhton\", \"iteration\", \"initial\", \"building\", \"examples\", \"glad\", \"master\", \"basis\", \"programming\", \"zero\", \"place\", \"syntax\", \"brilliant\", \"start\", \"python\", \"knowledge\", \"program\", \"skill\", \"understanding\", \"pretty\", \"everyone\", \"everybody\", \"learn\", \"get\", \"know\", \"want\", \"people\", \"help\", \"course\", \"world\", \"lot\", \"computer\", \"beginner\", \"anyone\", \"understand\", \"cod\", \"give\", \"helpful\", \"easy\", \"concept\", \"best\", \"ever\", \"amazing\", \"design\", \"loved\", \"thankyou\", \"nicely\", \"organize\", \"quality\", \"completely\", \"specially\", \"move\", \"structured\", \"towards\", \"friend\", \"moment\", \"methodology\", \"newbie\", \"begineers\", \"entire\", \"absolute\", \"mind\", \"word\", \"run\", \"high\", \"great\", \"till\", \"man\", \"phyton\", \"choose\", \"wonderful\", \"friendly\", \"enrol\", \"beginner\", \"online\", \"effective\", \"one\", \"recommended\", \"course\", \"informative\", \"well\", \"highly\", \"platform\", \"instructor\", \"recommend\", \"explain\", \"complete\", \"structure\", \"python\", \"love\", \"content\", \"way\", \"every\", \"take\", \"new\", \"coursera\", \"teach\", \"experience\", \"learn\", \"thing\", \"concept\", \"awesome\", \"superb\", \"excelente\", \"curso\", \"de\", \"excelent\", \"fabulous\", \"cours\", \"interactive\", \"begginers\", \"incredible\", \"beginers\", \"perfectly\", \"mrcharles\", \"didactic\", \"technique\", \"et\", \"kudos\", \"rest\", \"extra\", \"quick\", \"la\", \"el\", \"chuk\", \"knowledgeable\", \"patient\", \"que\", \"technical\", \"prepared\", \"guido\", \"starter\", \"learning\", \"fantastic\", \"experience\", \"perfect\", \"like\", \"enjoy\", \"fun\", \"learn\", \"content\", \"interest\", \"lecture\", \"keep\", \"thing\", \"assignment\", \"lot\", \"much\", \"video\", \"class\"], \"Freq\": [5148.0, 2115.0, 722.0, 641.0, 992.0, 771.0, 378.0, 512.0, 1042.0, 710.0, 577.0, 1641.0, 521.0, 359.0, 289.0, 759.0, 327.0, 343.0, 350.0, 425.0, 316.0, 541.0, 365.0, 581.0, 249.0, 287.0, 341.0, 395.0, 341.0, 533.0, 104.99278682134221, 85.94186012874393, 60.82083861606704, 63.76475643919725, 56.595233029330615, 70.87134898964649, 49.9370829318534, 39.394493969577745, 38.828425797624774, 36.41117613329902, 36.023432429002604, 33.919790250704274, 130.28907790558742, 41.082324058321056, 33.071692035289146, 44.19699428000381, 31.18878850193626, 30.240695391164017, 32.8419292272991, 29.100402474702516, 28.27451335384877, 29.28993230121067, 27.331699103516982, 27.08636243526917, 56.462939735931414, 27.113663023310924, 24.87871530134859, 24.822547981870517, 24.207073993781407, 24.482920927561, 147.43197352620848, 50.05230139271683, 108.7055934775147, 225.06085856606904, 231.8060202505284, 89.31445726375274, 96.76076240560198, 140.7109903259887, 39.771113778918256, 144.06081830215328, 91.95588334942188, 141.908965790388, 60.25996376746405, 70.77286728615175, 97.88409250238426, 224.31015247454386, 141.663009996533, 111.20794440046878, 60.795055293082434, 131.66725150724406, 72.17025007441114, 104.95061296254559, 191.94316183228864, 134.85537365047205, 145.341854354594, 88.52626148743289, 249.36282577874022, 122.89569171037577, 446.16824168894055, 135.99067893992017, 91.60236262770313, 101.79580955265315, 177.89213876214262, 162.6518731572148, 117.83173302674565, 124.64340998203261, 98.14296032370551, 93.86429730170883, 770.9128504396689, 103.08385747904644, 178.18784008382113, 134.8212427549436, 65.19275419562955, 66.97174418819824, 31.267496192211613, 29.097540825024726, 334.88000706949873, 26.018648943918695, 66.18307990828418, 23.85654869491082, 29.078107318729224, 26.17270499573194, 22.171065051761712, 23.09051444567108, 337.0511441092317, 679.7447065294803, 40.97819276745681, 44.194465097632985, 13.613353417970108, 13.549381872279953, 12.427801380863828, 12.368916034208757, 12.177123570062546, 13.00007738357778, 12.288630397461194, 11.561141705823239, 11.033942505071543, 36.42101851706492, 335.9169307371643, 122.06416231061777, 461.7021999236498, 232.49616439539454, 78.58315504526449, 365.11268657627943, 32.24082184288168, 289.8109040043045, 63.87822560437387, 89.77693478486823, 274.84245357430484, 562.4448556524032, 240.9684441083588, 283.57776157901145, 396.0888504150185, 278.5391098426434, 335.0500076893444, 288.4269611637249, 131.1259003462495, 250.89346804377038, 254.87316492941085, 168.64580623475928, 1139.2971757119942, 265.5085543201342, 489.43117567387225, 203.0351691348916, 122.12333406265265, 135.19032515627677, 720.3815345667116, 287.6570025277245, 52.173234752615976, 170.19723018512127, 36.594091609854374, 20.42660458538739, 22.029868164417117, 18.76443951981884, 18.81920135027003, 17.990859629212437, 16.192077669709178, 15.283447063297594, 56.35762418484651, 13.687060654865068, 13.114600292305965, 11.696629599172494, 11.484856762627265, 11.407239447440546, 11.560522125282022, 12.127106846942546, 33.82953662273145, 336.57298573418694, 10.574413511106819, 10.41672987272136, 10.201631792715853, 10.185244623655286, 10.021291326926033, 25.660689463852083, 10.281075766184173, 9.537493956888238, 300.3166280734017, 46.46470341185107, 21.888404361323648, 19.820243060758173, 32.35743798913711, 477.82315553635317, 1569.6503893079814, 245.46093244538716, 728.7584707463146, 99.07063856087674, 43.214356238335895, 44.167703703258425, 83.82409560013657, 71.1481290464384, 793.359816944892, 235.49903718756718, 145.7453977834605, 166.68607643504237, 79.72723739065269, 162.41591649400448, 1192.0942345904398, 59.747374400758396, 167.7709136212861, 58.66679062459277, 197.809708968689, 67.66248256795961, 124.99622150190636, 65.84723265757647, 67.39790067779944, 82.35449955433238, 70.07187781356163, 61.52974446207273, 639.4082712568184, 150.33769257788327, 145.64097295431708, 53.69351654749826, 44.396510401951474, 30.783973185624113, 28.153990199776853, 27.535465315330683, 26.096579267521737, 23.280634766268168, 20.357623834846425, 20.29733639072444, 19.085058967337435, 19.112986842690976, 18.78570218058062, 16.82167414117186, 15.667639291025582, 15.16921193031665, 13.04565250261768, 13.510392154340307, 44.40482940175069, 13.077202329873275, 12.25882311828772, 12.402605581275715, 21.154673470162848, 11.35782428406626, 10.744499116446246, 10.853086547564226, 10.674204799168885, 10.552413930849037, 147.64850818636202, 76.74382635878638, 13.101030888818032, 741.4402101660402, 133.96388756171203, 37.32508427568925, 243.84772578421155, 30.199960797549796, 2360.8776277151, 79.6658880324211, 288.0912141895276, 89.61520388566963, 67.17487563874452, 248.0846216530098, 126.50596032179273, 140.09183625168697, 87.78648474730278, 44.792186762345324, 289.77742429285996, 110.4371105248311, 65.06746863929759, 99.62292508114542, 52.932890234387216, 70.2174957869439, 54.74134395002716, 65.87278392995545, 74.97437154519757, 70.32936048269833, 69.93014150318578, 51.30079056052819, 51.69674321785717, 378.16409944931706, 32.37234724881406, 31.13914335636443, 30.681257577895632, 25.515385666352476, 23.71930688853018, 21.892030062449575, 20.846405281205524, 52.93038728222977, 20.21393794078454, 18.948577504507597, 15.603036055371323, 15.50261454010833, 14.559776945992894, 12.615979590804193, 12.699102335239932, 12.231482040838621, 12.367445401477285, 12.430139526798397, 12.292248258215714, 11.79174654406703, 11.46276641114172, 11.326599997910991, 11.314423392470678, 11.345685849884541, 10.113275609232927, 9.479737330140889, 9.509867714769955, 9.502514154231498, 8.968191629176989, 26.474977282674516, 73.74849183549603, 44.32997466043133, 279.94809340739255, 63.23448538573832, 30.907305330172193, 82.4041915297276, 72.04429981398637, 126.0436956759658, 43.83855682057607, 41.86674584944656, 42.802691663918395, 21.973473802118665, 28.66142576042324, 29.104065127597487, 31.48576941454859, 22.1057592908075, 18.234122767477476, 18.49716539201164], \"Total\": [5148.0, 2115.0, 722.0, 641.0, 992.0, 771.0, 378.0, 512.0, 1042.0, 710.0, 577.0, 1641.0, 521.0, 359.0, 289.0, 759.0, 327.0, 343.0, 350.0, 425.0, 316.0, 541.0, 365.0, 581.0, 249.0, 287.0, 341.0, 395.0, 341.0, 533.0, 105.77749350275182, 87.01408765138251, 61.58564111359652, 64.6098304981969, 57.34769940924135, 71.91903423144778, 50.68098783581513, 40.14197392606003, 39.5729460091501, 37.15272737557072, 36.785552306639325, 34.6617580313262, 133.16643619080835, 41.99396866697088, 33.82541802275981, 45.24884471315883, 31.941494908639733, 30.983966408494897, 33.67562555542578, 29.847928431835662, 29.024298133325523, 30.07950680533723, 28.076271375351403, 27.841922092408847, 58.08249148845879, 27.90065848138328, 25.624981594875432, 25.574822902750505, 24.961549384936852, 25.247801025707094, 153.28968957453557, 51.86457942873374, 113.95802152839657, 247.53353796745455, 263.25995140395486, 97.72359650221163, 106.85812247191178, 173.7379213933584, 42.46649902880037, 183.56600447526796, 111.06249026340937, 189.300665389524, 70.24534463867406, 85.70894436874406, 128.20513900654797, 380.6915107399686, 213.29118021521836, 158.3298542483356, 72.78611393207335, 223.01710909760078, 96.17262677495631, 170.40253610599726, 447.17849712326336, 260.1027947596697, 322.7046561654131, 144.728853693427, 1042.6308761270784, 299.9946717971822, 5148.853179003846, 395.3572054095782, 170.7485026469702, 277.735276531283, 2115.558252975842, 1641.4167029551306, 541.6462667718381, 759.0864975863972, 577.5405831571438, 275.0626201435947, 771.6870991887943, 103.84249604222832, 179.78364902773444, 136.29844063661167, 65.97486326031753, 67.78340797844162, 32.036025459533676, 29.858332920788516, 343.7421559245076, 26.775526315990756, 68.26273100621232, 24.61007311169395, 30.01435192586977, 27.048858012725187, 22.932628356926507, 24.03567265475298, 350.8868864989581, 710.5019908131056, 42.953387935644315, 46.61215014273033, 14.371344096481426, 14.307109500929512, 13.183490504856062, 13.133265883435994, 12.934173269925495, 13.809158000520476, 13.070969355799308, 12.321635116542062, 11.792867440713321, 39.09816833918985, 365.6523977633119, 134.2699145745764, 521.9239758619127, 265.0648762528726, 86.79929354492789, 425.7215025261581, 35.00788062932292, 341.7205027475011, 71.83757043241796, 103.04545613826193, 341.6411134350758, 759.0864975863972, 303.0477882453382, 361.85319574886273, 533.1369879880414, 395.9180223866122, 532.7695701368021, 496.98821324992747, 191.22001758314016, 447.17849712326336, 466.40010504612354, 287.561246389405, 5148.853179003846, 581.5618716297894, 1641.4167029551306, 405.16426309409604, 249.6100575818944, 541.6462667718381, 722.4643564042383, 289.0226585592439, 52.93040733706361, 173.1298457885008, 37.35102578595544, 21.18327085155018, 22.862368553547828, 19.52456058852446, 19.606803719191504, 18.754037499077562, 16.94439416329026, 16.035262893673888, 59.269097445425174, 14.443873401174697, 13.867536745627731, 12.448628281892901, 12.239810465739128, 12.16209656252165, 12.337457986595982, 12.94673162607319, 36.15113797762794, 359.85594812611447, 11.331951591067172, 11.175661021854221, 10.953128488273755, 10.94191318271407, 10.783239759025692, 27.62068435404798, 11.090473874232982, 10.288788221397672, 327.2921817706158, 50.144757822704825, 23.643231655953947, 21.581895376294696, 35.73759344722636, 577.5405831571438, 2115.558252975842, 311.3713278696673, 1042.6308761270784, 123.8370202844774, 50.786053413019964, 52.98633583545767, 107.64245190703772, 96.697098635726, 1641.4167029551306, 395.3572054095782, 229.99299899209922, 275.0626201435947, 121.38654536477219, 305.46387069500196, 5148.853179003846, 94.41177329014039, 466.40010504612354, 106.39058448404859, 992.7620147527289, 138.60827073336986, 532.7695701368021, 170.7485026469702, 199.2430439777679, 380.6915107399686, 759.0864975863972, 277.735276531283, 641.7861102363528, 151.10076848768972, 146.41129001170455, 54.461098113058306, 45.25504506476503, 31.560898554596676, 28.922743431502067, 28.303625694857097, 26.86775065416517, 24.064683334219463, 21.127903363292994, 21.073740664652156, 19.847116249242514, 19.894672908615938, 19.565458789804385, 17.591510677142665, 16.441434234916144, 15.936304179673375, 13.80485920107487, 14.309829153023687, 47.11238760952826, 13.887731951479873, 13.01990049310848, 13.192175960828715, 22.563882127517477, 12.124232008748947, 11.511130637107586, 11.630094212607432, 11.447885441476732, 11.345259735813901, 167.95442037611735, 87.27762102643254, 14.176802017766802, 992.7620147527289, 164.93803425451102, 42.687528178101616, 316.6937958796071, 36.03302680061944, 5148.853179003846, 116.58504940222865, 541.6462667718381, 141.30159047892693, 101.45173142937998, 581.5618716297894, 299.9946717971822, 405.16426309409604, 201.78480283240268, 76.33447103374637, 2115.558252975842, 395.9180223866122, 189.27714196595423, 496.98821324992747, 141.7086041909219, 322.7046561654131, 181.47158813426486, 341.6411134350758, 533.1369879880414, 512.8169551351207, 1641.4167029551306, 199.77691044408675, 277.735276531283, 378.93515199001143, 33.1310673848285, 31.88904961067183, 31.433206939600343, 26.265575507892002, 24.47517407146006, 22.670140329849488, 21.599718726117036, 54.90880994421483, 20.970013085173377, 19.70696441276971, 16.356751905294097, 16.26225152657795, 15.331561398082403, 13.37590545326732, 13.466305773911206, 12.981387006384185, 13.131309437889007, 13.201172194481133, 13.06473587510745, 12.555396050983836, 12.212761216305552, 12.083399092310522, 12.079715903104608, 12.118165640622298, 10.876846382615796, 10.229775697550213, 10.277229501607422, 10.28462979470391, 9.724645123418526, 30.55831528793597, 91.20232308681919, 55.502465620439196, 512.8169551351207, 125.96983733958353, 53.919998034851005, 249.6100575818944, 287.561246389405, 1641.4167029551306, 189.27714196595423, 179.52096935920486, 189.1898591425201, 78.4599697637678, 199.77691044408675, 263.25995140395486, 466.40010504612354, 361.85319574886273, 173.7379213933584, 260.1027947596697], \"Category\": [\"Default\", \"Default\", \"Default\", \"Default\", \"Default\", \"Default\", \"Default\", \"Default\", \"Default\", \"Default\", \"Default\", \"Default\", \"Default\", \"Default\", \"Default\", \"Default\", \"Default\", \"Default\", \"Default\", \"Default\", \"Default\", \"Default\", \"Default\", \"Default\", \"Default\", \"Default\", \"Default\", \"Default\", \"Default\", \"Default\", \"Topic1\", \"Topic1\", \"Topic1\", \"Topic1\", \"Topic1\", \"Topic1\", \"Topic1\", \"Topic1\", \"Topic1\", \"Topic1\", \"Topic1\", \"Topic1\", \"Topic1\", \"Topic1\", \"Topic1\", \"Topic1\", \"Topic1\", \"Topic1\", \"Topic1\", \"Topic1\", \"Topic1\", \"Topic1\", \"Topic1\", \"Topic1\", \"Topic1\", \"Topic1\", \"Topic1\", \"Topic1\", \"Topic1\", \"Topic1\", \"Topic1\", \"Topic1\", \"Topic1\", \"Topic1\", \"Topic1\", \"Topic1\", \"Topic1\", \"Topic1\", \"Topic1\", \"Topic1\", \"Topic1\", \"Topic1\", \"Topic1\", \"Topic1\", \"Topic1\", \"Topic1\", \"Topic1\", \"Topic1\", \"Topic1\", \"Topic1\", \"Topic1\", \"Topic1\", \"Topic1\", \"Topic1\", \"Topic1\", \"Topic1\", \"Topic1\", \"Topic1\", \"Topic1\", \"Topic1\", \"Topic1\", \"Topic1\", \"Topic1\", \"Topic1\", \"Topic1\", \"Topic1\", \"Topic1\", \"Topic1\", \"Topic2\", \"Topic2\", \"Topic2\", \"Topic2\", \"Topic2\", \"Topic2\", \"Topic2\", \"Topic2\", \"Topic2\", \"Topic2\", \"Topic2\", \"Topic2\", \"Topic2\", \"Topic2\", \"Topic2\", \"Topic2\", \"Topic2\", \"Topic2\", \"Topic2\", \"Topic2\", \"Topic2\", \"Topic2\", \"Topic2\", \"Topic2\", \"Topic2\", \"Topic2\", \"Topic2\", \"Topic2\", \"Topic2\", \"Topic2\", \"Topic2\", \"Topic2\", \"Topic2\", \"Topic2\", \"Topic2\", \"Topic2\", \"Topic2\", \"Topic2\", \"Topic2\", \"Topic2\", \"Topic2\", \"Topic2\", \"Topic2\", \"Topic2\", \"Topic2\", \"Topic2\", \"Topic2\", \"Topic2\", \"Topic2\", \"Topic2\", \"Topic2\", \"Topic2\", \"Topic2\", \"Topic2\", \"Topic2\", \"Topic2\", \"Topic2\", \"Topic2\", \"Topic3\", \"Topic3\", \"Topic3\", \"Topic3\", \"Topic3\", \"Topic3\", \"Topic3\", \"Topic3\", \"Topic3\", \"Topic3\", \"Topic3\", \"Topic3\", \"Topic3\", \"Topic3\", \"Topic3\", \"Topic3\", \"Topic3\", \"Topic3\", \"Topic3\", \"Topic3\", \"Topic3\", \"Topic3\", \"Topic3\", \"Topic3\", \"Topic3\", \"Topic3\", \"Topic3\", \"Topic3\", \"Topic3\", \"Topic3\", \"Topic3\", \"Topic3\", \"Topic3\", \"Topic3\", \"Topic3\", \"Topic3\", \"Topic3\", \"Topic3\", \"Topic3\", \"Topic3\", \"Topic3\", \"Topic3\", \"Topic3\", \"Topic3\", \"Topic3\", \"Topic3\", \"Topic3\", \"Topic3\", \"Topic3\", \"Topic3\", \"Topic3\", \"Topic3\", \"Topic3\", \"Topic3\", \"Topic3\", \"Topic3\", \"Topic3\", \"Topic3\", \"Topic3\", \"Topic3\", \"Topic3\", \"Topic3\", \"Topic4\", \"Topic4\", \"Topic4\", \"Topic4\", \"Topic4\", \"Topic4\", \"Topic4\", \"Topic4\", \"Topic4\", \"Topic4\", \"Topic4\", \"Topic4\", \"Topic4\", \"Topic4\", \"Topic4\", \"Topic4\", \"Topic4\", \"Topic4\", \"Topic4\", \"Topic4\", \"Topic4\", \"Topic4\", \"Topic4\", \"Topic4\", \"Topic4\", \"Topic4\", \"Topic4\", \"Topic4\", \"Topic4\", \"Topic4\", \"Topic4\", \"Topic4\", \"Topic4\", \"Topic4\", \"Topic4\", \"Topic4\", \"Topic4\", \"Topic4\", \"Topic4\", \"Topic4\", \"Topic4\", \"Topic4\", \"Topic4\", \"Topic4\", \"Topic4\", \"Topic4\", \"Topic4\", \"Topic4\", \"Topic4\", \"Topic4\", \"Topic4\", \"Topic4\", \"Topic4\", \"Topic4\", \"Topic4\", \"Topic4\", \"Topic4\", \"Topic4\", \"Topic4\", \"Topic4\", \"Topic4\", \"Topic5\", \"Topic5\", \"Topic5\", \"Topic5\", \"Topic5\", \"Topic5\", \"Topic5\", \"Topic5\", \"Topic5\", \"Topic5\", \"Topic5\", \"Topic5\", \"Topic5\", \"Topic5\", \"Topic5\", \"Topic5\", \"Topic5\", \"Topic5\", \"Topic5\", \"Topic5\", \"Topic5\", \"Topic5\", \"Topic5\", \"Topic5\", \"Topic5\", \"Topic5\", \"Topic5\", \"Topic5\", \"Topic5\", \"Topic5\", \"Topic5\", \"Topic5\", \"Topic5\", \"Topic5\", \"Topic5\", \"Topic5\", \"Topic5\", \"Topic5\", \"Topic5\", \"Topic5\", \"Topic5\", \"Topic5\", \"Topic5\", \"Topic5\", \"Topic5\", \"Topic5\", \"Topic5\", \"Topic5\", \"Topic5\"], \"logprob\": [30.0, 29.0, 28.0, 27.0, 26.0, 25.0, 24.0, 23.0, 22.0, 21.0, 20.0, 19.0, 18.0, 17.0, 16.0, 15.0, 14.0, 13.0, 12.0, 11.0, 10.0, 9.0, 8.0, 7.0, 6.0, 5.0, 4.0, 3.0, 2.0, 1.0, -5.1157, -5.316, -5.6617, -5.6144, -5.7337, -5.5088, -5.8589, -6.096, -6.1105, -6.1748, -6.1855, -6.2456, -4.8999, -6.054, -6.2709, -5.981, -6.3296, -6.3604, -6.2779, -6.3989, -6.4277, -6.3924, -6.4616, -6.4706, -5.736, -6.4696, -6.5556, -6.5579, -6.583, -6.5717, -4.7763, -5.8566, -5.081, -4.3533, -4.3237, -5.2775, -5.1974, -4.8229, -6.0865, -4.7994, -5.2483, -4.8144, -5.671, -5.5102, -5.1858, -4.3566, -4.8162, -5.0582, -5.6621, -4.8893, -5.4906, -5.1161, -4.5124, -4.8654, -4.7905, -5.2863, -4.2507, -4.9583, -3.6689, -4.857, -5.2522, -5.1467, -4.5884, -4.678, -5.0004, -4.9442, -5.1832, -5.2278, -3.1053, -5.1174, -4.5701, -4.849, -5.5756, -5.5486, -6.3103, -6.3823, -3.9391, -6.4941, -5.5605, -6.5809, -6.3829, -6.4882, -6.6541, -6.6135, -3.9327, -3.2312, -6.0399, -5.9643, -7.1419, -7.1466, -7.233, -7.2377, -7.2534, -7.188, -7.2442, -7.3053, -7.3519, -6.1578, -3.936, -4.9484, -3.618, -4.304, -5.3888, -3.8527, -6.2797, -4.0837, -5.5959, -5.2556, -4.1367, -3.4206, -4.2682, -4.1054, -3.7713, -4.1234, -3.9386, -4.0885, -4.8768, -4.2279, -4.2121, -4.6251, -2.7147, -4.1713, -3.5597, -4.4395, -4.9479, -4.8462, -2.9785, -3.8965, -5.6037, -4.4213, -5.9584, -6.5414, -6.4659, -6.6263, -6.6234, -6.6684, -6.7738, -6.8315, -5.5266, -6.9418, -6.9846, -7.099, -7.1172, -7.124, -7.1107, -7.0628, -6.0369, -3.7395, -7.1998, -7.2149, -7.2357, -7.2373, -7.2536, -6.3133, -7.228, -7.303, -3.8534, -5.7196, -6.4723, -6.5716, -6.0814, -3.389, -2.1997, -4.0551, -2.9669, -4.9624, -5.7921, -5.7703, -5.1296, -5.2935, -2.882, -4.0966, -4.5764, -4.4422, -5.1797, -4.4681, -2.4748, -5.4682, -4.4357, -5.4864, -4.271, -5.3437, -4.73, -5.3709, -5.3477, -5.1472, -5.3088, -5.4388, -2.911, -4.3587, -4.3904, -5.3883, -5.5784, -5.9446, -6.0339, -6.0561, -6.1098, -6.2239, -6.3581, -6.3611, -6.4226, -6.4212, -6.4385, -6.5489, -6.62, -6.6523, -6.8031, -6.7681, -5.5782, -6.8007, -6.8653, -6.8536, -6.3197, -6.9416, -6.9972, -6.9871, -7.0037, -7.0152, -4.3767, -5.0311, -6.7989, -2.763, -4.474, -5.7519, -3.875, -5.9637, -1.6048, -4.9937, -3.7083, -4.876, -5.1643, -3.8578, -4.5313, -4.4293, -4.8966, -5.5695, -3.7024, -4.6671, -5.1961, -4.7702, -5.4025, -5.12, -5.3689, -5.1838, -5.0544, -5.1184, -5.1241, -5.4338, -5.4262, -2.5176, -4.9756, -5.0145, -5.0293, -5.2136, -5.2866, -5.3668, -5.4157, -4.4839, -5.4465, -5.5112, -5.7055, -5.7119, -5.7747, -5.918, -5.9114, -5.9489, -5.9378, -5.9328, -5.9439, -5.9855, -6.0138, -6.0258, -6.0268, -6.0241, -6.1391, -6.2038, -6.2006, -6.2014, -6.2592, -5.1767, -4.1523, -4.6613, -2.8183, -4.3061, -5.0219, -4.0413, -4.1756, -3.6163, -4.6724, -4.7184, -4.6963, -5.3631, -5.0974, -5.082, -5.0034, -5.3571, -5.5496, -5.5353], \"loglift\": [30.0, 29.0, 28.0, 27.0, 26.0, 25.0, 24.0, 23.0, 22.0, 21.0, 20.0, 19.0, 18.0, 17.0, 16.0, 15.0, 14.0, 13.0, 12.0, 11.0, 10.0, 9.0, 8.0, 7.0, 6.0, 5.0, 4.0, 3.0, 2.0, 1.0, 1.3096, 1.3047, 1.3046, 1.3039, 1.3039, 1.3024, 1.3023, 1.2983, 1.2981, 1.2969, 1.2962, 1.2955, 1.2952, 1.2951, 1.2946, 1.2936, 1.2932, 1.2928, 1.292, 1.2917, 1.2909, 1.2905, 1.2902, 1.2896, 1.2888, 1.2885, 1.2875, 1.2872, 1.2864, 1.2863, 1.2781, 1.2815, 1.2699, 1.2219, 1.1898, 1.2271, 1.2178, 1.1062, 1.2515, 1.0748, 1.1283, 1.0289, 1.1638, 1.1256, 1.0472, 0.7881, 0.9079, 0.9638, 1.1371, 0.7901, 1.03, 0.8324, 0.4713, 0.6602, 0.5194, 0.8255, -0.1135, 0.4247, -1.1287, 0.2499, 0.6944, 0.3134, -1.1588, -0.9946, -0.2083, -0.4896, -0.4553, 0.2419, 1.3328, 1.3265, 1.3249, 1.3229, 1.3219, 1.3218, 1.3095, 1.308, 1.3077, 1.3051, 1.3029, 1.3027, 1.3021, 1.3009, 1.3, 1.2937, 1.2936, 1.2896, 1.2867, 1.2805, 1.2796, 1.2794, 1.2748, 1.2738, 1.2735, 1.2734, 1.2721, 1.2701, 1.2673, 1.2629, 1.249, 1.2385, 1.2112, 1.2027, 1.2344, 1.1802, 1.2515, 1.169, 1.2164, 1.196, 1.1162, 1.034, 1.1046, 1.0901, 1.0367, 0.9822, 0.87, 0.7897, 0.9565, 0.7559, 0.7295, 0.8002, -0.1746, 0.5497, 0.1237, 0.6429, 0.6189, -0.0541, 1.5256, 1.5237, 1.514, 1.5114, 1.508, 1.4921, 1.4913, 1.4887, 1.4874, 1.4869, 1.483, 1.4804, 1.4781, 1.4746, 1.4726, 1.4661, 1.4648, 1.4644, 1.4634, 1.463, 1.4621, 1.4615, 1.4592, 1.4581, 1.4574, 1.4568, 1.4552, 1.4548, 1.4527, 1.4526, 1.4424, 1.4522, 1.4513, 1.4433, 1.4291, 1.3389, 1.23, 1.2906, 1.1703, 1.3053, 1.367, 1.3464, 1.2783, 1.2216, 0.8014, 1.0104, 1.0723, 1.0276, 1.1081, 0.8968, 0.0654, 1.0709, 0.506, 0.9332, -0.0847, 0.8113, 0.0786, 0.5756, 0.4445, -0.0025, -0.8542, 0.0213, 1.7114, 1.7101, 1.7099, 1.701, 1.696, 1.6902, 1.6882, 1.6876, 1.686, 1.682, 1.678, 1.6776, 1.676, 1.6751, 1.6745, 1.6704, 1.667, 1.6658, 1.6586, 1.6577, 1.656, 1.655, 1.6549, 1.6534, 1.6507, 1.6499, 1.6462, 1.646, 1.6452, 1.6427, 1.5863, 1.5865, 1.6362, 1.4233, 1.5072, 1.5809, 1.4538, 1.5386, 0.9354, 1.3344, 1.0838, 1.2598, 1.3029, 0.8632, 0.8517, 0.6532, 0.8829, 1.1821, -0.2728, 0.4384, 0.6474, 0.108, 0.7304, 0.19, 0.5167, 0.0691, -0.2465, -0.2716, -1.4407, 0.3557, 0.0339, 2.6318, 2.6106, 2.61, 2.6096, 2.6048, 2.6024, 2.5989, 2.5983, 2.5971, 2.5971, 2.5946, 2.5866, 2.586, 2.5821, 2.5753, 2.5751, 2.5743, 2.5739, 2.5736, 2.5729, 2.571, 2.5704, 2.5691, 2.5683, 2.5679, 2.561, 2.5577, 2.5562, 2.5547, 2.5528, 2.4904, 2.4214, 2.409, 2.0285, 1.9446, 2.0773, 1.5255, 1.2496, 0.0671, 1.1711, 1.178, 1.1476, 1.361, 0.6921, 0.4315, -0.0617, -0.1616, 0.3795, -0.0097]}, \"token.table\": {\"Topic\": [3, 1, 4, 3, 2, 1, 2, 3, 4, 2, 3, 4, 4, 1, 3, 4, 2, 1, 4, 5, 2, 5, 1, 3, 3, 1, 5, 4, 5, 1, 3, 4, 1, 3, 4, 1, 1, 1, 3, 3, 3, 1, 2, 5, 1, 1, 2, 4, 5, 4, 1, 2, 4, 5, 2, 1, 2, 3, 5, 1, 2, 3, 4, 1, 3, 1, 3, 4, 4, 3, 1, 3, 4, 1, 2, 3, 4, 1, 2, 3, 4, 5, 2, 4, 1, 2, 3, 5, 1, 2, 3, 4, 5, 2, 3, 4, 5, 5, 1, 2, 2, 4, 2, 4, 2, 5, 1, 1, 3, 1, 1, 2, 4, 1, 2, 3, 4, 4, 5, 5, 1, 3, 1, 2, 4, 5, 3, 4, 4, 5, 1, 2, 3, 4, 4, 1, 2, 4, 1, 2, 3, 1, 2, 3, 1, 2, 4, 1, 2, 3, 5, 5, 2, 1, 2, 1, 2, 1, 2, 3, 4, 5, 1, 2, 4, 1, 2, 5, 5, 5, 3, 1, 5, 2, 1, 2, 3, 4, 4, 1, 4, 1, 2, 3, 5, 1, 3, 3, 1, 3, 1, 2, 3, 1, 2, 3, 4, 1, 3, 1, 2, 3, 2, 2, 4, 5, 1, 2, 3, 4, 5, 1, 2, 3, 2, 4, 5, 1, 4, 1, 5, 2, 3, 4, 3, 2, 2, 1, 1, 2, 4, 5, 3, 5, 1, 2, 3, 4, 5, 1, 2, 1, 2, 3, 3, 3, 1, 2, 3, 4, 5, 1, 3, 1, 2, 3, 5, 5, 5, 1, 3, 1, 1, 2, 3, 4, 5, 3, 5, 1, 2, 5, 2, 1, 5, 2, 3, 3, 1, 2, 3, 4, 5, 1, 2, 4, 4, 1, 2, 4, 4, 3, 1, 4, 2, 4, 4, 4, 4, 2, 5, 5, 1, 2, 3, 4, 5, 1, 3, 4, 4, 4, 1, 1, 3, 4, 1, 4, 2, 4, 5, 1, 3, 1, 4, 5, 5, 3, 4, 1, 3, 2, 4, 5, 1, 5, 2, 3, 5, 1, 3, 1, 1, 1, 2, 4, 5, 1, 2, 3, 4, 1, 3, 4, 3, 1, 2, 3, 4, 5, 3, 4, 5, 1, 5, 1, 5, 1, 3, 4, 1, 4, 3, 3, 5, 1, 4, 5, 4, 2, 2, 1, 2, 3, 4, 1, 1, 2, 5, 1, 2, 2, 5, 1, 2, 3, 4, 1, 1, 4, 1, 2, 3, 1, 5, 1, 1, 2, 4, 4, 1, 2, 4, 1, 5, 1, 1, 3, 1, 2, 3, 4, 1, 2, 3, 4, 5, 1, 2, 4, 5, 2, 2, 4, 5, 5, 1, 2, 3, 4, 5, 2, 1, 2, 3, 4, 4, 1, 1, 2, 4, 5, 1, 3, 4, 1, 2, 4, 4, 1, 2, 4, 3, 1, 2, 3, 4, 1, 2, 3, 4, 2, 2, 4, 1, 2, 3, 4, 1, 3, 3, 1, 2, 4, 5, 1, 3, 4, 1, 1, 2, 3, 4, 1, 2, 4, 1, 1, 2, 4, 4, 1, 2, 3, 1, 3, 1, 2, 3, 4, 1, 1, 1, 3], \"Freq\": [0.9726476890974938, 0.04245167993981076, 0.9339369586758367, 0.9597933245513319, 0.9752104307482101, 0.5918828404426666, 0.18832635832266661, 0.12555090554844442, 0.09864714007377776, 0.8486467673678989, 0.002926368163337582, 0.1463184081668791, 0.9971908586306993, 0.5050203687675583, 0.4905912153741994, 0.007214576696679404, 0.941404247783248, 0.8812582345425243, 0.007597053746056244, 0.11015727931781553, 0.9137102763703812, 0.9975321582463375, 0.0013841513302844147, 0.9965889578047786, 0.9719317556952842, 0.9697606332775998, 0.9537428478831416, 0.9416973987672252, 0.9781893185542156, 0.053386410048334616, 0.19944356961453308, 0.7464024499210556, 0.9775238755342981, 0.0031163030300912138, 0.9956588181141428, 0.9883457072440338, 0.9677190958778179, 0.08394521596508994, 0.8954156369609594, 0.9139169570270311, 0.9441412584561468, 0.964145968344478, 0.01721689229186568, 0.01721689229186568, 0.9689732771454975, 0.020364101054679295, 0.9745676933310806, 0.002909157293525614, 0.002909157293525614, 0.9695679302322177, 0.13623930117656258, 0.8573680160249197, 0.004697906937122848, 0.9106174423500216, 0.9741607956786489, 0.5190255649684102, 0.33832777568311184, 0.0692034086624547, 0.0692034086624547, 0.5388041392679965, 0.011713133462347751, 0.38653340425747573, 0.06442223404291263, 0.9762219649231184, 0.015018799460355668, 0.3667273202009297, 0.19327520929508457, 0.43610816456326773, 0.9557574342686028, 0.9044493228163694, 0.413570432133466, 0.5545603521789658, 0.028197984009099956, 0.3672561918453709, 0.2268347067280232, 0.22323415582757838, 0.18722864682313026, 0.16906426030965707, 0.23774661606045525, 0.021133032538707134, 0.3434117787539909, 0.23246335792577846, 0.95452307653657, 0.023281050647233414, 0.8283624811743511, 0.14406304020423497, 0.01800788002552937, 0.9722348826055826, 0.08662123088277458, 0.22121430936206332, 0.2315078637046352, 0.45854871326060714, 0.0019421800646362013, 0.8049382500688401, 0.0029270481820685094, 0.19318518001652163, 0.9862181755608723, 0.9898888372801044, 0.8541491298622883, 0.12812236947934325, 0.9785344830897142, 0.991533440767186, 0.9668526152871558, 0.01464928204980539, 0.9593318156815279, 0.9718968218951115, 0.9705243943236648, 0.9640490784024225, 0.019280981568048448, 0.9904906224404437, 0.11304328355976856, 0.8851863899086961, 0.00191598785694523, 0.16467161568207558, 0.7403635841066118, 0.09221610478196234, 0.0026347458509132097, 0.8667637031038196, 0.11713023014916481, 0.9103398734053267, 0.9724005171607032, 0.9442650971059047, 0.10816871828628775, 0.48876235670100393, 0.07211247885752517, 0.3285124036842813, 0.07053776999543122, 0.916991009940606, 0.9783485078884943, 0.9244004507452445, 0.6149430312529451, 0.19346522331553329, 0.15891786200918806, 0.03454736130634523, 0.9927150040419589, 0.24698570845313683, 0.37400692994332146, 0.37400692994332146, 0.0827325753602735, 0.17580672264058117, 0.7342516063224273, 0.08361013559754835, 0.1393502259959139, 0.7803612655771178, 0.07447684786040275, 0.9086175438969135, 0.014895369572080548, 0.9107319335917584, 0.08186354459251761, 0.9273650798341833, 0.9805854671320132, 0.972120535998216, 0.9991096142600847, 0.04290726760889235, 0.9439598873956317, 0.9564925622444129, 0.043875805607541875, 0.14235098755805653, 0.17355120400913743, 0.0019500135281925552, 0.13650094697347886, 0.5460037878939155, 0.153024354928364, 0.5010313556525466, 0.3455388659672735, 0.28762679083055026, 0.6850747199782198, 0.020918312060403656, 0.918503069232642, 0.9704395155875095, 0.9639616292065326, 0.18017217592433274, 0.792757574067064, 0.973896717968035, 0.6657565486613979, 0.13596436557169392, 0.04688426399023928, 0.15471807116778963, 0.9710991295487, 0.1145769085178369, 0.8822421955873442, 0.1182356817092051, 0.5877008884957549, 0.0452077606535196, 0.25038144361949316, 0.033744397775613076, 0.9448431377171662, 0.9824220635382847, 0.05532329303818032, 0.9404959816490654, 0.3439927188353835, 0.0581752392148075, 0.5943991832817288, 0.29612075193241566, 0.33125372250066837, 0.3362727182961331, 0.03513297056825271, 0.03620475101854034, 0.941323526482049, 0.9589686064862355, 0.019570787887474194, 0.013047191924982797, 0.9102293505335229, 0.9710360010541567, 0.9072739611104693, 0.9254836434418092, 0.3011812814087585, 0.11457983531854943, 0.5303409520458573, 0.006547419161059967, 0.04910564370794975, 0.588402929092378, 0.19438311050373203, 0.21539750082845982, 0.9712531532465125, 0.9306909104258143, 0.04431861478218163, 0.3609301199451531, 0.6369355057855643, 0.9786450859812823, 0.9641261638290871, 0.3002100198906888, 0.017154858279467933, 0.6861943311787173, 0.9129811643044122, 0.9180650396579698, 0.9277747985565006, 0.9505778335136358, 0.11348749500210405, 0.45738899500847996, 0.4264378600079061, 0.003439015000063759, 0.01821201371903635, 0.9652367271089265, 0.4010673530618847, 0.34536355402551183, 0.005570379903637288, 0.011140759807274575, 0.23395595595276608, 0.007336841091719622, 0.9904735473821489, 0.00577601161397453, 0.00577601161397453, 0.9819219743756701, 0.8948016569619288, 0.9374411792417817, 0.4715780558086107, 0.17843494003569052, 0.03823605857907654, 0.03823605857907654, 0.280397762913228, 0.3652285085551043, 0.6348019315362526, 0.07386678843347856, 0.13488717887852605, 0.7868418767914019, 0.9077281435340343, 0.9138464108823198, 0.9006972137728882, 0.06391446388414139, 0.936485840389376, 0.9809081227002934, 0.09930446041309458, 0.29791338123928374, 0.4831192460587976, 0.042646087293966996, 0.0767629571291406, 0.18639876074008566, 0.8113828408686081, 0.42814134101649315, 0.34357021192681547, 0.2272849094285087, 0.967660611930705, 0.4080118843064567, 0.5749258369772798, 0.9612235750495732, 0.9268748551050071, 0.9906019773602193, 0.02358490034840833, 0.5467408717131022, 0.36020575077569084, 0.0021440818498553024, 0.06646653734551437, 0.01768042777594128, 0.7046913356410881, 0.2778352936219344, 0.9722672894708442, 0.42935874876621316, 0.5612971142724974, 0.00894497393262944, 0.9458220887046308, 0.9016747267430537, 0.9647089439124308, 0.9731511114779339, 0.9101456564172273, 0.09216664875111164, 0.9360779748211315, 0.9663752199570195, 0.9490484066526839, 0.8908987263177107, 0.09744204819099961, 0.9783739314298494, 0.12712337638694068, 0.7848486716063294, 0.008290654981757, 0.01934486162409967, 0.06079813653288467, 0.37471430486236246, 0.3251197645129321, 0.303077746579852, 0.9412470941118442, 0.9680962688173961, 0.9715516250355923, 0.21471844691851993, 0.012630496877559997, 0.7704603095311597, 0.18188648928425982, 0.8124263188030273, 0.9884424816956566, 0.9892725512225712, 0.9193841347233479, 0.33776395791471864, 0.659051625199451, 0.11907612422776818, 0.373105189247007, 0.5001197217566263, 0.983873602855709, 0.9690513697244006, 0.9608761422564553, 0.042295402530058764, 0.9304988556612928, 0.2562795098090412, 0.6604125829694524, 0.0788552337873973, 0.990561335736457, 0.9723247408622835, 0.150982321646905, 0.8304027690579776, 0.018872790205863126, 0.8380719440101916, 0.1511277276083952, 0.9756104568285654, 0.9641115523494659, 0.13529219347678478, 0.7952541128757349, 0.06269638234290026, 0.0032998095969947504, 0.23881893937855267, 0.055628507967695, 0.6991927984215458, 0.005754673238037414, 0.07943972220583692, 0.9166121792981182, 0.0030553739309937275, 0.9707065823217207, 0.0841385481820777, 0.036397012415842596, 0.7421209025048425, 0.13707965715057602, 0.00047268847293302073, 0.9692690880869533, 0.9677028916437913, 0.879784686007855, 0.9763306803685678, 0.9557643543279294, 0.8283849547199879, 0.16334351219830745, 0.4100072820065177, 0.16666962683191774, 0.4233408521530711, 0.13876158746436604, 0.8325695247861963, 0.8987067267741177, 0.9731332960787467, 0.9090101866118151, 0.9419189458700701, 0.023547973646751753, 0.023547973646751753, 0.9096300743434123, 0.9852237168499917, 0.932767204863505, 0.7486537740981101, 0.03119390725408792, 0.1975614126092235, 0.02079593816939195, 0.9682427228482561, 0.028564996852805506, 0.9140798992897762, 0.028564996852805506, 0.12072516152412406, 0.8752574210498995, 0.9900789140871243, 0.005562241090377103, 0.016150259392592105, 0.1695777236222171, 0.7994378399333091, 0.008075129696296052, 0.9799372530047352, 0.9865632485692417, 0.9466154618421542, 0.16968504527297443, 0.0017314800538058615, 0.8276474657192018, 0.13089726846228164, 0.8508322450048307, 0.9926497265438455, 0.3930072429104465, 0.013100241430348216, 0.5895108643656697, 0.9573179176962373, 0.7010680362649727, 0.05684335429175455, 0.24000527367629698, 0.9715917158615516, 0.9658608226625852, 0.9855217751789916, 0.04633513334043814, 0.9267026668087627, 0.4493272632721958, 0.15184162689887998, 0.17973090530887834, 0.2169166098555428, 0.10503866972601818, 0.7427734502054143, 0.009378452654108766, 0.14067678981163148, 0.0018756905308217533, 0.04375740484096827, 0.9189055016603337, 0.03555289143328672, 0.0027348378025605167, 0.9918867893748845, 0.9207592460006774, 0.05115329144448208, 0.9730248797534333, 0.9653724056366968, 0.002814911183726846, 0.9570698024671277, 0.03377893420472215, 0.002814911183726846, 0.002814911183726846, 0.9569110184836795, 0.011399685066349372, 0.9604234668399346, 0.025649291399286088, 0.002849921266587343, 0.9822280549577387, 0.9614787780153943, 0.24527358988121925, 0.35539642615441974, 0.25528475681514656, 0.14516192054194607, 0.7501294287994529, 0.24299967411813264, 0.9555968346445577, 0.7844589765497744, 0.005447631781595655, 0.2070100077006349, 0.9550295240979572, 0.9077456889203435, 0.046791014892801214, 0.03743281191424097, 0.9622799994878919, 0.12951190133153156, 0.6287896658849721, 0.23462300965857166, 0.005630952231805719, 0.09845222583722474, 0.039380890334889895, 0.8466891422001328, 0.019690445167444948, 0.9662044368515754, 0.8734009569450777, 0.12615791600317788, 0.7643999355984844, 0.007799999342841677, 0.21839998159956694, 0.007799999342841677, 0.0034599363419633754, 0.9964616664854521, 0.9354383585390226, 0.8115672092148681, 0.07482534553044884, 0.011511591620069051, 0.10360432458062147, 0.341740364252067, 0.6071344769159063, 0.05089750105881849, 0.9755976992744207, 0.16901809290547046, 0.5794906042473272, 0.050303003840913824, 0.2012120153636553, 0.2178543585341576, 0.24924015595009558, 0.5317123326935372, 0.9872212656736995, 0.11312592998416698, 0.005953996314956157, 0.8811914546135112, 0.9216660301168722, 0.6161880122176454, 0.36971280733058726, 0.01173691451843134, 0.36012457784807533, 0.6355139609083682, 0.9089677376549385, 0.004039856611799727, 0.004039856611799727, 0.08079713223599454, 0.9939369946340808, 0.9616661571273927, 0.05982679207679099, 0.9173441451774619], \"Term\": [\"7\", \"absolute\", \"absolute\", \"advance\", \"alot\", \"also\", \"also\", \"also\", \"also\", \"amaze\", \"amaze\", \"amaze\", \"amazing\", \"anyone\", \"anyone\", \"anyone\", \"ask\", \"assignment\", \"assignment\", \"assignment\", \"attention\", \"awesome\", \"basic\", \"basic\", \"basis\", \"beautiful\", \"begginers\", \"begineers\", \"beginers\", \"beginner\", \"beginner\", \"beginner\", \"believe\", \"best\", \"best\", \"bit\", \"break\", \"brilliant\", \"brilliant\", \"building\", \"certificate\", \"challenge\", \"challenge\", \"challenge\", \"chapter\", \"charles\", \"charles\", \"charles\", \"charles\", \"choose\", \"chuck\", \"chuck\", \"chuck\", \"chuk\", \"chunk\", \"class\", \"class\", \"class\", \"class\", \"cod\", \"cod\", \"cod\", \"cod\", \"code\", \"code\", \"complete\", \"complete\", \"complete\", \"completely\", \"comprehensive\", \"computer\", \"computer\", \"computer\", \"concept\", \"concept\", \"concept\", \"concept\", \"content\", \"content\", \"content\", \"content\", \"content\", \"cool\", \"cool\", \"could\", \"could\", \"could\", \"cours\", \"course\", \"course\", \"course\", \"course\", \"course\", \"coursera\", \"coursera\", \"coursera\", \"curso\", \"de\", \"definitely\", \"definitely\", \"delivery\", \"design\", \"detail\", \"detail\", \"detailed\", \"didactic\", \"didnt\", \"different\", \"different\", \"difficult\", \"dr\", \"dr\", \"dr\", \"easy\", \"easy\", \"easy\", \"easy\", \"effective\", \"effective\", \"el\", \"end\", \"enhance\", \"enjoy\", \"enjoy\", \"enjoy\", \"enjoy\", \"enrol\", \"enrol\", \"entire\", \"et\", \"even\", \"even\", \"even\", \"even\", \"ever\", \"every\", \"every\", \"every\", \"everybody\", \"everybody\", \"everybody\", \"everyone\", \"everyone\", \"everyone\", \"everything\", \"everything\", \"everything\", \"example\", \"example\", \"examples\", \"excelent\", \"excelente\", \"excellent\", \"excite\", \"excite\", \"exercise\", \"exercise\", \"experience\", \"experience\", \"experience\", \"experience\", \"experience\", \"explain\", \"explain\", \"explain\", \"explanation\", \"explanation\", \"explanation\", \"extra\", \"fabulous\", \"familiar\", \"fantastic\", \"fantastic\", \"fear\", \"first\", \"first\", \"first\", \"first\", \"friend\", \"friendly\", \"friendly\", \"fun\", \"fun\", \"fun\", \"fun\", \"fundamental\", \"fundamental\", \"gain\", \"general\", \"general\", \"get\", \"get\", \"get\", \"give\", \"give\", \"give\", \"give\", \"glad\", \"glad\", \"go\", \"go\", \"go\", \"god\", \"grateful\", \"great\", \"guido\", \"help\", \"help\", \"help\", \"help\", \"help\", \"helpful\", \"helpful\", \"helpful\", \"helpfull\", \"high\", \"high\", \"highly\", \"highly\", \"however\", \"incredible\", \"informative\", \"informative\", \"informative\", \"initial\", \"insight\", \"insightful\", \"instruction\", \"instructor\", \"instructor\", \"instructor\", \"instructor\", \"interactive\", \"interactive\", \"interest\", \"interest\", \"interest\", \"interest\", \"interest\", \"interesting\", \"interesting\", \"introduction\", \"introduction\", \"introduction\", \"iteration\", \"java\", \"keep\", \"keep\", \"keep\", \"keep\", \"keep\", \"know\", \"know\", \"knowledge\", \"knowledge\", \"knowledge\", \"knowledgeable\", \"kudos\", \"la\", \"language\", \"language\", \"last\", \"learn\", \"learn\", \"learn\", \"learn\", \"learn\", \"learning\", \"learning\", \"lecture\", \"lecture\", \"lecture\", \"life\", \"like\", \"like\", \"liked\", \"logical\", \"loop\", \"lot\", \"lot\", \"lot\", \"lot\", \"lot\", \"love\", \"love\", \"love\", \"loved\", \"make\", \"make\", \"make\", \"man\", \"master\", \"may\", \"methodology\", \"michigan\", \"michigan\", \"mind\", \"moment\", \"move\", \"mr\", \"mr\", \"mrcharles\", \"much\", \"much\", \"much\", \"much\", \"much\", \"new\", \"new\", \"new\", \"newbie\", \"nicely\", \"nothing\", \"one\", \"one\", \"one\", \"online\", \"online\", \"opportunity\", \"organize\", \"patient\", \"people\", \"people\", \"perfect\", \"perfect\", \"perfect\", \"perfectly\", \"personally\", \"phyton\", \"place\", \"place\", \"platform\", \"platform\", \"platform\", \"practice\", \"prepared\", \"pretty\", \"pretty\", \"pretty\", \"problem\", \"problem\", \"process\", \"professional\", \"professor\", \"professor\", \"professor\", \"professor\", \"program\", \"program\", \"program\", \"program\", \"programming\", \"programming\", \"programming\", \"pyhton\", \"python\", \"python\", \"python\", \"python\", \"python\", \"pythonthank\", \"quality\", \"que\", \"question\", \"quick\", \"quiz\", \"quiz\", \"recommend\", \"recommend\", \"recommend\", \"recommended\", \"recommended\", \"refresher\", \"require\", \"rest\", \"right\", \"right\", \"right\", \"run\", \"russell\", \"satisfied\", \"say\", \"say\", \"say\", \"say\", \"seem\", \"session\", \"session\", \"session\", \"severance\", \"severance\", \"sir\", \"sir\", \"skill\", \"skill\", \"skill\", \"skill\", \"slow\", \"something\", \"specially\", \"start\", \"start\", \"start\", \"starter\", \"starter\", \"step\", \"structure\", \"structure\", \"structure\", \"structured\", \"student\", \"student\", \"student\", \"suitable\", \"superb\", \"sure\", \"syntax\", \"syntax\", \"take\", \"take\", \"take\", \"take\", \"teach\", \"teach\", \"teach\", \"teach\", \"teach\", \"teacher\", \"teacher\", \"teacher\", \"teacher\", \"teaching\", \"team\", \"team\", \"technical\", \"technique\", \"thank\", \"thank\", \"thank\", \"thank\", \"thank\", \"thankful\", \"thanks\", \"thanks\", \"thanks\", \"thanks\", \"thankyou\", \"thats\", \"thing\", \"thing\", \"thing\", \"thing\", \"think\", \"think\", \"till\", \"time\", \"time\", \"time\", \"towards\", \"try\", \"try\", \"try\", \"two\", \"understand\", \"understand\", \"understand\", \"understand\", \"understanding\", \"understanding\", \"understanding\", \"understanding\", \"understood\", \"university\", \"university\", \"use\", \"use\", \"use\", \"use\", \"useful\", \"useful\", \"usefull\", \"video\", \"video\", \"video\", \"video\", \"want\", \"want\", \"want\", \"watch\", \"way\", \"way\", \"way\", \"way\", \"well\", \"well\", \"well\", \"without\", \"wonderful\", \"wonderful\", \"wonderful\", \"word\", \"work\", \"work\", \"work\", \"world\", \"world\", \"would\", \"would\", \"would\", \"would\", \"write\", \"year\", \"zero\", \"zero\"]}, \"R\": 30, \"lambda.step\": 0.01, \"plot.opts\": {\"xlab\": \"PC1\", \"ylab\": \"PC2\"}, \"topic.order\": [1, 5, 3, 2, 4]};\n",
       "\n",
       "function LDAvis_load_lib(url, callback){\n",
       "  var s = document.createElement('script');\n",
       "  s.src = url;\n",
       "  s.async = true;\n",
       "  s.onreadystatechange = s.onload = callback;\n",
       "  s.onerror = function(){console.warn(\"failed to load library \" + url);};\n",
       "  document.getElementsByTagName(\"head\")[0].appendChild(s);\n",
       "}\n",
       "\n",
       "if(typeof(LDAvis) !== \"undefined\"){\n",
       "   // already loaded: just create the visualization\n",
       "   !function(LDAvis){\n",
       "       new LDAvis(\"#\" + \"ldavis_el36314140237143495248502894000\", ldavis_el36314140237143495248502894000_data);\n",
       "   }(LDAvis);\n",
       "}else if(typeof define === \"function\" && define.amd){\n",
       "   // require.js is available: use it to load d3/LDAvis\n",
       "   require.config({paths: {d3: \"https://d3js.org/d3.v5\"}});\n",
       "   require([\"d3\"], function(d3){\n",
       "      window.d3 = d3;\n",
       "      LDAvis_load_lib(\"https://cdn.jsdelivr.net/gh/bmabey/pyLDAvis@3.2.2/pyLDAvis/js/ldavis.v3.0.0.js\", function(){\n",
       "        new LDAvis(\"#\" + \"ldavis_el36314140237143495248502894000\", ldavis_el36314140237143495248502894000_data);\n",
       "      });\n",
       "    });\n",
       "}else{\n",
       "    // require.js not available: dynamically load d3 & LDAvis\n",
       "    LDAvis_load_lib(\"https://d3js.org/d3.v5.js\", function(){\n",
       "         LDAvis_load_lib(\"https://cdn.jsdelivr.net/gh/bmabey/pyLDAvis@3.2.2/pyLDAvis/js/ldavis.v3.0.0.js\", function(){\n",
       "                 new LDAvis(\"#\" + \"ldavis_el36314140237143495248502894000\", ldavis_el36314140237143495248502894000_data);\n",
       "            })\n",
       "         });\n",
       "}\n",
       "</script>"
      ],
      "text/plain": [
       "PreparedData(topic_coordinates=              x         y  topics  cluster       Freq\n",
       "topic                                                \n",
       "0     -0.057116 -0.067677       1        1  26.791385\n",
       "4     -0.042196  0.190203       2        1  26.347239\n",
       "2     -0.130938 -0.201816       3        1  21.687402\n",
       "1     -0.101938  0.111958       4        1  17.993460\n",
       "3      0.332188 -0.032669       5        1   7.180515, topic_info=           Term         Freq        Total Category  logprob  loglift\n",
       "4        course  5148.000000  5148.000000  Default  30.0000  30.0000\n",
       "12       python  2115.000000  2115.000000  Default  29.0000  29.0000\n",
       "0         basic   722.000000   722.000000  Default  28.0000  28.0000\n",
       "70         best   641.000000   641.000000  Default  27.0000  27.0000\n",
       "1      beginner   992.000000   992.000000  Default  26.0000  26.0000\n",
       "..          ...          ...          ...      ...      ...      ...\n",
       "248  assignment    29.104065   263.259951   Topic5  -5.0820   0.4315\n",
       "112         lot    31.485769   466.400105   Topic5  -5.0034  -0.0617\n",
       "35         much    22.105759   361.853196   Topic5  -5.3571  -0.1616\n",
       "188       video    18.234123   173.737921   Topic5  -5.5496   0.3795\n",
       "71        class    18.497165   260.102795   Topic5  -5.5353  -0.0097\n",
       "\n",
       "[328 rows x 6 columns], token_table=      Topic      Freq      Term\n",
       "term                           \n",
       "247       3  0.972648         7\n",
       "383       1  0.042452  absolute\n",
       "383       4  0.933937  absolute\n",
       "800       3  0.959793   advance\n",
       "718       2  0.975210      alot\n",
       "...     ...       ...       ...\n",
       "239       4  0.080797     would\n",
       "416       1  0.993937     write\n",
       "2505      1  0.961666      year\n",
       "74        1  0.059827      zero\n",
       "74        3  0.917344      zero\n",
       "\n",
       "[514 rows x 3 columns], R=30, lambda_step=0.01, plot_opts={'xlab': 'PC1', 'ylab': 'PC2'}, topic_order=[1, 5, 3, 2, 4])"
      ]
     },
     "execution_count": 135,
     "metadata": {},
     "output_type": "execute_result"
    }
   ],
   "source": [
    "# Visualize the topics\n",
    "pyLDAvis.enable_notebook()\n",
    "vis = pyLDAvis.gensim.prepare(lda_model, corpus, dictionary)\n",
    "vis"
   ]
  },
  {
   "cell_type": "markdown",
   "metadata": {},
   "source": [
    "What is topic perplexity and topic coherence: https://towardsdatascience.com/evaluate-topic-model-in-python-latent-dirichlet-allocation-lda-7d57484bb5d0"
   ]
  },
  {
   "cell_type": "code",
   "execution_count": 136,
   "metadata": {},
   "outputs": [
    {
     "name": "stdout",
     "output_type": "stream",
     "text": [
      "\n",
      "Perplexity:  -6.39270446296514\n",
      "\n",
      "Coherence Score:  0.5373231671418205\n"
     ]
    }
   ],
   "source": [
    "# Calculate Perplexity and Coherence\n",
    "\n",
    "# Compute Perplexity\n",
    "\n",
    "print('\\nPerplexity: ', lda_model.log_perplexity(corpus))  # a measure of how good the model is. The lower the better.\n",
    "\n",
    "# Compute Coherence Score\n",
    "\n",
    "coherence_model_lda = CoherenceModel(model = lda_model, texts = df['preprocessed'], dictionary = dictionary, coherence = 'c_v')\n",
    "coherence_lda = coherence_model_lda.get_coherence()\n",
    "print('\\nCoherence Score: ', coherence_lda)"
   ]
  },
  {
   "cell_type": "markdown",
   "metadata": {},
   "source": [
    "## Hyperparameter Tuning\n",
    "\n",
    "Code references\n",
    "\n",
    "Find the optimal number of topics, alpha and beta: https://towardsdatascience.com/evaluate-topic-model-in-python-latent-dirichlet-allocation-lda-7d57484bb5d0\n",
    "\n",
    "What is alpha and beta: https://www.thoughtvector.io/blog/lda-alpha-and-beta-parameters-the-intuition/"
   ]
  },
  {
   "cell_type": "markdown",
   "metadata": {},
   "source": [
    "## Calculate the coherence score\n",
    "\n",
    "Code reference: \n",
    "\n",
    "https://www.machinelearningplus.com/nlp/topic-modeling-gensim-python/#17howtofindtheoptimalnumberoftopicsforlda"
   ]
  },
  {
   "cell_type": "code",
   "execution_count": 137,
   "metadata": {},
   "outputs": [],
   "source": [
    "# Determine the optiomal number of topics by calculating the coherence score\n",
    "\n",
    "# Define function for calculating coherence score\n",
    "\n",
    "def compute_coherence_values(dictionary, corpus, texts, limit, start = 2, step = 3):\n",
    "    \"\"\"\n",
    "    Compute c_v coherence for various number of topics\n",
    "\n",
    "    Parameters:\n",
    "    ----------\n",
    "    dictionary : Gensim dictionary\n",
    "    corpus : Gensim corpus\n",
    "    texts : List of input texts\n",
    "    limit : Max num of topics\n",
    "\n",
    "    Returns:\n",
    "    -------\n",
    "    model_list : List of LDA topic models\n",
    "    coherence_values : Coherence values corresponding to the LDA model with respective number of topics\n",
    "    \"\"\"\n",
    "    coherence_values = []\n",
    "    model_list = []\n",
    "    for num_topics in range(start, limit, step):\n",
    "        model = LDA(corpus = corpus, num_topics = num_topics, id2word = dictionary, random_state = 100,\n",
    "                chunksize = 100, passes = 10)\n",
    "        model_list.append(model)\n",
    "        coherencemodel = CoherenceModel(model = model, texts = texts, dictionary = dictionary, coherence = 'c_v')\n",
    "        coherence_values.append(coherencemodel.get_coherence())\n",
    "\n",
    "    return model_list, coherence_values"
   ]
  },
  {
   "cell_type": "code",
   "execution_count": 138,
   "metadata": {},
   "outputs": [],
   "source": [
    "# Can take a long time to run.\n",
    "\n",
    "model_list, coherence_values = compute_coherence_values(dictionary = dictionary, corpus = corpus, texts = df['preprocessed'], start = 2, limit = 10, step = 1)"
   ]
  },
  {
   "cell_type": "code",
   "execution_count": 139,
   "metadata": {},
   "outputs": [
    {
     "data": {
      "image/png": "[encoded data removed]",
      "text/plain": [
       "<Figure size 432x288 with 1 Axes>"
      ]
     },
     "metadata": {
      "needs_background": "light"
     },
     "output_type": "display_data"
    }
   ],
   "source": [
    "# Show graph\n",
    "\n",
    "limit = 10; start = 2; step = 1;\n",
    "x = range(start, limit, step)\n",
    "plt.plot(x, coherence_values)\n",
    "plt.xlabel(\"Num Topics\")\n",
    "plt.ylabel(\"Coherence score\")\n",
    "plt.legend((\"coherence_values\"), loc = 'best')\n",
    "plt.show()\n"
   ]
  },
  {
   "cell_type": "code",
   "execution_count": 140,
   "metadata": {},
   "outputs": [
    {
     "name": "stdout",
     "output_type": "stream",
     "text": [
      "Num Topics = 2  has Coherence Value of 0.4724\n",
      "Num Topics = 3  has Coherence Value of 0.4849\n",
      "Num Topics = 4  has Coherence Value of 0.5035\n",
      "Num Topics = 5  has Coherence Value of 0.5512\n",
      "Num Topics = 6  has Coherence Value of 0.5313\n",
      "Num Topics = 7  has Coherence Value of 0.5174\n",
      "Num Topics = 8  has Coherence Value of 0.5611\n",
      "Num Topics = 9  has Coherence Value of 0.5546\n"
     ]
    }
   ],
   "source": [
    "# Print the coherence scores\n",
    "\n",
    "for m, cv in zip(x, coherence_values):\n",
    "    print(\"Num Topics =\", m, \" has Coherence Value of\", round(cv, 4))"
   ]
  },
  {
   "cell_type": "markdown",
   "metadata": {},
   "source": [
    "## LDA Mallet Model\n",
    "\n",
    "Code reference:\n",
    "\n",
    "https://www.machinelearningplus.com/nlp/topic-modeling-gensim-python/#17howtofindtheoptimalnumberoftopicsforlda"
   ]
  },
  {
   "cell_type": "code",
   "execution_count": 141,
   "metadata": {},
   "outputs": [],
   "source": [
    "mallet_path = '/Users/siriamanda/Desktop/LNU-VT-2021/Thesis/11-data-analysis/mallet-2.0.8/bin/mallet' # update this path\n",
    "ldamallet = gensim.models.wrappers.LdaMallet(mallet_path, corpus = corpus, num_topics = 5, id2word = dictionary)"
   ]
  },
  {
   "cell_type": "code",
   "execution_count": 142,
   "metadata": {},
   "outputs": [
    {
     "name": "stdout",
     "output_type": "stream",
     "text": [
      "[(0,\n",
      "  [('python', 0.17656974294142436),\n",
      "   ('program', 0.11651917404129794),\n",
      "   ('basic', 0.08101559207753899),\n",
      "   ('start', 0.06552886641382216),\n",
      "   ('language', 0.04003371260008428),\n",
      "   ('programming', 0.037399915718499786),\n",
      "   ('knowledge', 0.03350189633375474),\n",
      "   ('recommend', 0.021175726927939318),\n",
      "   ('introduction', 0.02054361567635904),\n",
      "   ('cod', 0.019068689422671724)]),\n",
      " (1,\n",
      "  [('beginner', 0.10006469700237222),\n",
      "   ('excellent', 0.08841923657537201),\n",
      "   ('instructor', 0.06372654733664007),\n",
      "   ('teach', 0.06027604054345482),\n",
      "   ('love', 0.047013155057149016),\n",
      "   ('awesome', 0.04259219322838042),\n",
      "   ('charles', 0.040759111494500753),\n",
      "   ('helpful', 0.04011214147077852),\n",
      "   ('professor', 0.03472072460642657),\n",
      "   ('clear', 0.025231830925167134)]),\n",
      " (2,\n",
      "  [('learn', 0.18237115682371158),\n",
      "   ('python', 0.06801592568015925),\n",
      "   ('experience', 0.0617120106171201),\n",
      "   ('lot', 0.05596107055961071),\n",
      "   ('coursera', 0.040145985401459854),\n",
      "   ('enjoy', 0.028422915284229154),\n",
      "   ('interest', 0.021676620216766203),\n",
      "   ('simple', 0.0205706702057067),\n",
      "   ('wonderful', 0.02023888520238885),\n",
      "   ('beginner', 0.01669984516699845)]),\n",
      " (3,\n",
      "  [('easy', 0.08721053749734438),\n",
      "   ('understand', 0.06107924367962609),\n",
      "   ('dr', 0.05916719779052475),\n",
      "   ('chuck', 0.04801359677076694),\n",
      "   ('explain', 0.04599532611004886),\n",
      "   ('teacher', 0.043870830677714044),\n",
      "   ('amaze', 0.038665816868493734),\n",
      "   ('fun', 0.03123008285532186),\n",
      "   ('concept', 0.029636711281070746),\n",
      "   ('make', 0.025706394731251327)]),\n",
      " (4,\n",
      "  [('class', 0.03040887610437641),\n",
      "   ('assignment', 0.028354222313540168),\n",
      "   ('thing', 0.023114855146907747),\n",
      "   ('make', 0.02095746866652969),\n",
      "   ('time', 0.020443805218820627),\n",
      "   ('complete', 0.020443805218820627),\n",
      "   ('lecture', 0.02003287446065338),\n",
      "   ('video', 0.018286418738442573),\n",
      "   ('student', 0.016950893774399015),\n",
      "   ('work', 0.016642695705773577)])]\n",
      "\n",
      "Coherence Score:  0.46093250820833465\n"
     ]
    }
   ],
   "source": [
    "# Show Topics\n",
    "pprint(ldamallet.show_topics(formatted = False))\n",
    "\n",
    "# Compute Coherence Score\n",
    "coherence_model_ldamallet = CoherenceModel(model = ldamallet, texts = df['preprocessed'], dictionary = dictionary, coherence = 'c_v')\n",
    "coherence_ldamallet = coherence_model_ldamallet.get_coherence()\n",
    "print('\\nCoherence Score: ', coherence_ldamallet)\n",
    "\n",
    "# The coherence score using the Mallet Model is lower than the original LDA Model"
   ]
  },
  {
   "cell_type": "code",
   "execution_count": null,
   "metadata": {},
   "outputs": [],
   "source": []
  },
  {
   "cell_type": "code",
   "execution_count": null,
   "metadata": {},
   "outputs": [],
   "source": []
  }
 ],
 "metadata": {
  "kernelspec": {
   "display_name": "Python 3",
   "language": "python",
   "name": "python3"
  },
  "language_info": {
   "codemirror_mode": {
    "name": "ipython",
    "version": 3
   },
   "file_extension": ".py",
   "mimetype": "text/x-python",
   "name": "python",
   "nbconvert_exporter": "python",
   "pygments_lexer": "ipython3",
   "version": "3.7.6"
  }
 },
 "nbformat": 4,
 "nbformat_minor": 4
}
