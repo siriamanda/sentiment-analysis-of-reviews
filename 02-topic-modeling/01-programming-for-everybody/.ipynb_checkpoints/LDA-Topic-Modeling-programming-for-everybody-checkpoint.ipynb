{
 "cells": [
  {
   "cell_type": "code",
   "execution_count": 145,
   "metadata": {},
   "outputs": [],
   "source": [
    "# Import the libraries\n",
    "\n",
    "import pandas as pd \n",
    "import numpy as np\n",
    "\n",
    "from pprint import pprint\n",
    "\n",
    "# libraries for visualization\n",
    "import pyLDAvis\n",
    "import pyLDAvis.gensim\n",
    "import matplotlib.pyplot as plt\n",
    "import seaborn as sns\n",
    "%matplotlib inline\n",
    "\n",
    "import re\n",
    "\n",
    "import spacy\n",
    "\n",
    "import gensim\n",
    "from gensim import corpora, models\n",
    "from gensim.utils import simple_preprocess\n",
    "from gensim.models import CoherenceModel\n",
    "\n",
    "import nltk\n",
    "from nltk import FreqDist\n",
    "from nltk.corpus import stopwords\n",
    "from nltk.tokenize import RegexpTokenizer\n",
    "from nltk.stem import WordNetLemmatizer, SnowballStemmer\n",
    "from nltk.tag import pos_tag, pos_tag_sents\n",
    "from nltk.corpus import wordnet\n",
    "\n",
    "import warnings\n",
    "warnings.filterwarnings(\"ignore\")\n"
   ]
  },
  {
   "cell_type": "markdown",
   "metadata": {},
   "source": [
    "Code references:\n",
    "\n",
    "https://www.analyticsvidhya.com/blog/2018/10/mining-online-reviews-topic-modeling-lda/\n"
   ]
  },
  {
   "cell_type": "code",
   "execution_count": 2,
   "metadata": {},
   "outputs": [],
   "source": [
    "df = pd.read_csv('/Users/siriamanda/Desktop/LNU-VT-2021/Thesis/11-data-analysis/sentiment-analysis-of-reviews/01-sentiment-analysis/01-programming-for-everybody/VADER-for-')"
   ]
  },
  {
   "cell_type": "code",
   "execution_count": 3,
   "metadata": {},
   "outputs": [
    {
     "data": {
      "text/html": [
       "<div>\n",
       "<style scoped>\n",
       "    .dataframe tbody tr th:only-of-type {\n",
       "        vertical-align: middle;\n",
       "    }\n",
       "\n",
       "    .dataframe tbody tr th {\n",
       "        vertical-align: top;\n",
       "    }\n",
       "\n",
       "    .dataframe thead th {\n",
       "        text-align: right;\n",
       "    }\n",
       "</style>\n",
       "<table border=\"1\" class=\"dataframe\">\n",
       "  <thead>\n",
       "    <tr style=\"text-align: right;\">\n",
       "      <th></th>\n",
       "      <th>Unnamed: 0</th>\n",
       "      <th>date</th>\n",
       "      <th>review</th>\n",
       "      <th>rating</th>\n",
       "      <th>status</th>\n",
       "      <th>length</th>\n",
       "      <th>label</th>\n",
       "      <th>language_score</th>\n",
       "      <th>language</th>\n",
       "      <th>scores</th>\n",
       "      <th>compound</th>\n",
       "      <th>sentiment</th>\n",
       "    </tr>\n",
       "  </thead>\n",
       "  <tbody>\n",
       "    <tr>\n",
       "      <th>0</th>\n",
       "      <td>0</td>\n",
       "      <td>2021-03-11</td>\n",
       "      <td>Nice Course for beginners where we can enjoy a...</td>\n",
       "      <td>5</td>\n",
       "      <td>completer</td>\n",
       "      <td>135</td>\n",
       "      <td>pos</td>\n",
       "      <td>{'language': 'en', 'score': 0.9999952554167907}</td>\n",
       "      <td>en</td>\n",
       "      <td>{'neg': 0.0, 'neu': 0.601, 'pos': 0.399, 'comp...</td>\n",
       "      <td>0.9062</td>\n",
       "      <td>pos</td>\n",
       "    </tr>\n",
       "    <tr>\n",
       "      <th>1</th>\n",
       "      <td>1</td>\n",
       "      <td>2021-03-11</td>\n",
       "      <td>Super easy and totally for the beginners like ...</td>\n",
       "      <td>5</td>\n",
       "      <td>completer</td>\n",
       "      <td>163</td>\n",
       "      <td>pos</td>\n",
       "      <td>{'language': 'en', 'score': 0.9999965355369269}</td>\n",
       "      <td>en</td>\n",
       "      <td>{'neg': 0.0, 'neu': 0.453, 'pos': 0.547, 'comp...</td>\n",
       "      <td>0.9678</td>\n",
       "      <td>pos</td>\n",
       "    </tr>\n",
       "    <tr>\n",
       "      <th>2</th>\n",
       "      <td>2</td>\n",
       "      <td>2021-03-11</td>\n",
       "      <td>Very interactive and a nice course to start pr...</td>\n",
       "      <td>5</td>\n",
       "      <td>completer</td>\n",
       "      <td>67</td>\n",
       "      <td>pos</td>\n",
       "      <td>{'language': 'en', 'score': 0.9999969728448782}</td>\n",
       "      <td>en</td>\n",
       "      <td>{'neg': 0.0, 'neu': 0.746, 'pos': 0.254, 'comp...</td>\n",
       "      <td>0.4703</td>\n",
       "      <td>pos</td>\n",
       "    </tr>\n",
       "    <tr>\n",
       "      <th>3</th>\n",
       "      <td>3</td>\n",
       "      <td>2021-03-11</td>\n",
       "      <td>Awesome course! Definitely a very nice introdu...</td>\n",
       "      <td>5</td>\n",
       "      <td>completer</td>\n",
       "      <td>166</td>\n",
       "      <td>pos</td>\n",
       "      <td>{'language': 'en', 'score': 0.9999975171629499}</td>\n",
       "      <td>en</td>\n",
       "      <td>{'neg': 0.0, 'neu': 0.553, 'pos': 0.447, 'comp...</td>\n",
       "      <td>0.9448</td>\n",
       "      <td>pos</td>\n",
       "    </tr>\n",
       "    <tr>\n",
       "      <th>4</th>\n",
       "      <td>4</td>\n",
       "      <td>2021-03-11</td>\n",
       "      <td>Perfect for new learners</td>\n",
       "      <td>5</td>\n",
       "      <td>completer</td>\n",
       "      <td>24</td>\n",
       "      <td>pos</td>\n",
       "      <td>{'language': 'en', 'score': 0.9999971873771439}</td>\n",
       "      <td>en</td>\n",
       "      <td>{'neg': 0.0, 'neu': 0.448, 'pos': 0.552, 'comp...</td>\n",
       "      <td>0.5719</td>\n",
       "      <td>pos</td>\n",
       "    </tr>\n",
       "  </tbody>\n",
       "</table>\n",
       "</div>"
      ],
      "text/plain": [
       "   Unnamed: 0        date                                             review  \\\n",
       "0           0  2021-03-11  Nice Course for beginners where we can enjoy a...   \n",
       "1           1  2021-03-11  Super easy and totally for the beginners like ...   \n",
       "2           2  2021-03-11  Very interactive and a nice course to start pr...   \n",
       "3           3  2021-03-11  Awesome course! Definitely a very nice introdu...   \n",
       "4           4  2021-03-11                           Perfect for new learners   \n",
       "\n",
       "   rating     status  length label  \\\n",
       "0       5  completer     135   pos   \n",
       "1       5  completer     163   pos   \n",
       "2       5  completer      67   pos   \n",
       "3       5  completer     166   pos   \n",
       "4       5  completer      24   pos   \n",
       "\n",
       "                                    language_score language  \\\n",
       "0  {'language': 'en', 'score': 0.9999952554167907}       en   \n",
       "1  {'language': 'en', 'score': 0.9999965355369269}       en   \n",
       "2  {'language': 'en', 'score': 0.9999969728448782}       en   \n",
       "3  {'language': 'en', 'score': 0.9999975171629499}       en   \n",
       "4  {'language': 'en', 'score': 0.9999971873771439}       en   \n",
       "\n",
       "                                              scores  compound sentiment  \n",
       "0  {'neg': 0.0, 'neu': 0.601, 'pos': 0.399, 'comp...    0.9062       pos  \n",
       "1  {'neg': 0.0, 'neu': 0.453, 'pos': 0.547, 'comp...    0.9678       pos  \n",
       "2  {'neg': 0.0, 'neu': 0.746, 'pos': 0.254, 'comp...    0.4703       pos  \n",
       "3  {'neg': 0.0, 'neu': 0.553, 'pos': 0.447, 'comp...    0.9448       pos  \n",
       "4  {'neg': 0.0, 'neu': 0.448, 'pos': 0.552, 'comp...    0.5719       pos  "
      ]
     },
     "execution_count": 3,
     "metadata": {},
     "output_type": "execute_result"
    }
   ],
   "source": [
    "df.head()"
   ]
  },
  {
   "cell_type": "code",
   "execution_count": 4,
   "metadata": {},
   "outputs": [],
   "source": [
    "df.drop(['Unnamed: 0', 'date', 'language_score', 'language', 'scores'], axis = 1, inplace = True)"
   ]
  },
  {
   "cell_type": "code",
   "execution_count": 5,
   "metadata": {},
   "outputs": [
    {
     "data": {
      "text/html": [
       "<div>\n",
       "<style scoped>\n",
       "    .dataframe tbody tr th:only-of-type {\n",
       "        vertical-align: middle;\n",
       "    }\n",
       "\n",
       "    .dataframe tbody tr th {\n",
       "        vertical-align: top;\n",
       "    }\n",
       "\n",
       "    .dataframe thead th {\n",
       "        text-align: right;\n",
       "    }\n",
       "</style>\n",
       "<table border=\"1\" class=\"dataframe\">\n",
       "  <thead>\n",
       "    <tr style=\"text-align: right;\">\n",
       "      <th></th>\n",
       "      <th>review</th>\n",
       "      <th>rating</th>\n",
       "      <th>status</th>\n",
       "      <th>length</th>\n",
       "      <th>label</th>\n",
       "      <th>compound</th>\n",
       "      <th>sentiment</th>\n",
       "    </tr>\n",
       "  </thead>\n",
       "  <tbody>\n",
       "    <tr>\n",
       "      <th>0</th>\n",
       "      <td>Nice Course for beginners where we can enjoy a...</td>\n",
       "      <td>5</td>\n",
       "      <td>completer</td>\n",
       "      <td>135</td>\n",
       "      <td>pos</td>\n",
       "      <td>0.9062</td>\n",
       "      <td>pos</td>\n",
       "    </tr>\n",
       "    <tr>\n",
       "      <th>1</th>\n",
       "      <td>Super easy and totally for the beginners like ...</td>\n",
       "      <td>5</td>\n",
       "      <td>completer</td>\n",
       "      <td>163</td>\n",
       "      <td>pos</td>\n",
       "      <td>0.9678</td>\n",
       "      <td>pos</td>\n",
       "    </tr>\n",
       "    <tr>\n",
       "      <th>2</th>\n",
       "      <td>Very interactive and a nice course to start pr...</td>\n",
       "      <td>5</td>\n",
       "      <td>completer</td>\n",
       "      <td>67</td>\n",
       "      <td>pos</td>\n",
       "      <td>0.4703</td>\n",
       "      <td>pos</td>\n",
       "    </tr>\n",
       "    <tr>\n",
       "      <th>3</th>\n",
       "      <td>Awesome course! Definitely a very nice introdu...</td>\n",
       "      <td>5</td>\n",
       "      <td>completer</td>\n",
       "      <td>166</td>\n",
       "      <td>pos</td>\n",
       "      <td>0.9448</td>\n",
       "      <td>pos</td>\n",
       "    </tr>\n",
       "    <tr>\n",
       "      <th>4</th>\n",
       "      <td>Perfect for new learners</td>\n",
       "      <td>5</td>\n",
       "      <td>completer</td>\n",
       "      <td>24</td>\n",
       "      <td>pos</td>\n",
       "      <td>0.5719</td>\n",
       "      <td>pos</td>\n",
       "    </tr>\n",
       "    <tr>\n",
       "      <th>...</th>\n",
       "      <td>...</td>\n",
       "      <td>...</td>\n",
       "      <td>...</td>\n",
       "      <td>...</td>\n",
       "      <td>...</td>\n",
       "      <td>...</td>\n",
       "      <td>...</td>\n",
       "    </tr>\n",
       "    <tr>\n",
       "      <th>9686</th>\n",
       "      <td>excellent explanation starting with how comput...</td>\n",
       "      <td>5</td>\n",
       "      <td>dropout</td>\n",
       "      <td>129</td>\n",
       "      <td>pos</td>\n",
       "      <td>0.9080</td>\n",
       "      <td>pos</td>\n",
       "    </tr>\n",
       "    <tr>\n",
       "      <th>9687</th>\n",
       "      <td>My friend recommanded the lecture. It really d...</td>\n",
       "      <td>5</td>\n",
       "      <td>dropout</td>\n",
       "      <td>69</td>\n",
       "      <td>pos</td>\n",
       "      <td>0.5411</td>\n",
       "      <td>pos</td>\n",
       "    </tr>\n",
       "    <tr>\n",
       "      <th>9688</th>\n",
       "      <td>Highly recommend this sets  a good foundation ...</td>\n",
       "      <td>5</td>\n",
       "      <td>dropout</td>\n",
       "      <td>56</td>\n",
       "      <td>pos</td>\n",
       "      <td>0.6901</td>\n",
       "      <td>pos</td>\n",
       "    </tr>\n",
       "    <tr>\n",
       "      <th>9689</th>\n",
       "      <td>best python programming course for absolute be...</td>\n",
       "      <td>5</td>\n",
       "      <td>dropout</td>\n",
       "      <td>53</td>\n",
       "      <td>pos</td>\n",
       "      <td>0.6369</td>\n",
       "      <td>pos</td>\n",
       "    </tr>\n",
       "    <tr>\n",
       "      <th>9690</th>\n",
       "      <td>best one</td>\n",
       "      <td>4</td>\n",
       "      <td>completer</td>\n",
       "      <td>8</td>\n",
       "      <td>pos</td>\n",
       "      <td>0.6369</td>\n",
       "      <td>pos</td>\n",
       "    </tr>\n",
       "  </tbody>\n",
       "</table>\n",
       "<p>9691 rows × 7 columns</p>\n",
       "</div>"
      ],
      "text/plain": [
       "                                                 review  rating     status  \\\n",
       "0     Nice Course for beginners where we can enjoy a...       5  completer   \n",
       "1     Super easy and totally for the beginners like ...       5  completer   \n",
       "2     Very interactive and a nice course to start pr...       5  completer   \n",
       "3     Awesome course! Definitely a very nice introdu...       5  completer   \n",
       "4                              Perfect for new learners       5  completer   \n",
       "...                                                 ...     ...        ...   \n",
       "9686  excellent explanation starting with how comput...       5    dropout   \n",
       "9687  My friend recommanded the lecture. It really d...       5    dropout   \n",
       "9688  Highly recommend this sets  a good foundation ...       5    dropout   \n",
       "9689  best python programming course for absolute be...       5    dropout   \n",
       "9690                                           best one       4  completer   \n",
       "\n",
       "      length label  compound sentiment  \n",
       "0        135   pos    0.9062       pos  \n",
       "1        163   pos    0.9678       pos  \n",
       "2         67   pos    0.4703       pos  \n",
       "3        166   pos    0.9448       pos  \n",
       "4         24   pos    0.5719       pos  \n",
       "...      ...   ...       ...       ...  \n",
       "9686     129   pos    0.9080       pos  \n",
       "9687      69   pos    0.5411       pos  \n",
       "9688      56   pos    0.6901       pos  \n",
       "9689      53   pos    0.6369       pos  \n",
       "9690       8   pos    0.6369       pos  \n",
       "\n",
       "[9691 rows x 7 columns]"
      ]
     },
     "execution_count": 5,
     "metadata": {},
     "output_type": "execute_result"
    }
   ],
   "source": [
    "df"
   ]
  },
  {
   "cell_type": "code",
   "execution_count": 6,
   "metadata": {},
   "outputs": [
    {
     "data": {
      "text/plain": [
       "0"
      ]
     },
     "execution_count": 6,
     "metadata": {},
     "output_type": "execute_result"
    }
   ],
   "source": [
    "# Check for null values\n",
    "\n",
    "len(df[df['review'].isna()==True])"
   ]
  },
  {
   "cell_type": "code",
   "execution_count": 7,
   "metadata": {},
   "outputs": [],
   "source": [
    "# Drop null values\n",
    "\n",
    "# df.dropna(inplace = True)"
   ]
  },
  {
   "cell_type": "code",
   "execution_count": 8,
   "metadata": {},
   "outputs": [],
   "source": [
    "# Check for null values\n",
    "\n",
    "# len(df[df['review'].isna()==True])"
   ]
  },
  {
   "cell_type": "code",
   "execution_count": 9,
   "metadata": {},
   "outputs": [],
   "source": [
    "# Reset the index\n",
    "\n",
    "# df = df.reset_index(drop = True)"
   ]
  },
  {
   "cell_type": "code",
   "execution_count": 10,
   "metadata": {},
   "outputs": [
    {
     "data": {
      "text/html": [
       "<div>\n",
       "<style scoped>\n",
       "    .dataframe tbody tr th:only-of-type {\n",
       "        vertical-align: middle;\n",
       "    }\n",
       "\n",
       "    .dataframe tbody tr th {\n",
       "        vertical-align: top;\n",
       "    }\n",
       "\n",
       "    .dataframe thead th {\n",
       "        text-align: right;\n",
       "    }\n",
       "</style>\n",
       "<table border=\"1\" class=\"dataframe\">\n",
       "  <thead>\n",
       "    <tr style=\"text-align: right;\">\n",
       "      <th></th>\n",
       "      <th>review</th>\n",
       "      <th>rating</th>\n",
       "      <th>status</th>\n",
       "      <th>length</th>\n",
       "      <th>label</th>\n",
       "      <th>compound</th>\n",
       "      <th>sentiment</th>\n",
       "    </tr>\n",
       "  </thead>\n",
       "  <tbody>\n",
       "    <tr>\n",
       "      <th>0</th>\n",
       "      <td>Nice Course for beginners where we can enjoy a...</td>\n",
       "      <td>5</td>\n",
       "      <td>completer</td>\n",
       "      <td>135</td>\n",
       "      <td>pos</td>\n",
       "      <td>0.9062</td>\n",
       "      <td>pos</td>\n",
       "    </tr>\n",
       "    <tr>\n",
       "      <th>1</th>\n",
       "      <td>Super easy and totally for the beginners like ...</td>\n",
       "      <td>5</td>\n",
       "      <td>completer</td>\n",
       "      <td>163</td>\n",
       "      <td>pos</td>\n",
       "      <td>0.9678</td>\n",
       "      <td>pos</td>\n",
       "    </tr>\n",
       "    <tr>\n",
       "      <th>2</th>\n",
       "      <td>Very interactive and a nice course to start pr...</td>\n",
       "      <td>5</td>\n",
       "      <td>completer</td>\n",
       "      <td>67</td>\n",
       "      <td>pos</td>\n",
       "      <td>0.4703</td>\n",
       "      <td>pos</td>\n",
       "    </tr>\n",
       "    <tr>\n",
       "      <th>3</th>\n",
       "      <td>Awesome course! Definitely a very nice introdu...</td>\n",
       "      <td>5</td>\n",
       "      <td>completer</td>\n",
       "      <td>166</td>\n",
       "      <td>pos</td>\n",
       "      <td>0.9448</td>\n",
       "      <td>pos</td>\n",
       "    </tr>\n",
       "    <tr>\n",
       "      <th>4</th>\n",
       "      <td>Perfect for new learners</td>\n",
       "      <td>5</td>\n",
       "      <td>completer</td>\n",
       "      <td>24</td>\n",
       "      <td>pos</td>\n",
       "      <td>0.5719</td>\n",
       "      <td>pos</td>\n",
       "    </tr>\n",
       "    <tr>\n",
       "      <th>...</th>\n",
       "      <td>...</td>\n",
       "      <td>...</td>\n",
       "      <td>...</td>\n",
       "      <td>...</td>\n",
       "      <td>...</td>\n",
       "      <td>...</td>\n",
       "      <td>...</td>\n",
       "    </tr>\n",
       "    <tr>\n",
       "      <th>9686</th>\n",
       "      <td>excellent explanation starting with how comput...</td>\n",
       "      <td>5</td>\n",
       "      <td>dropout</td>\n",
       "      <td>129</td>\n",
       "      <td>pos</td>\n",
       "      <td>0.9080</td>\n",
       "      <td>pos</td>\n",
       "    </tr>\n",
       "    <tr>\n",
       "      <th>9687</th>\n",
       "      <td>My friend recommanded the lecture. It really d...</td>\n",
       "      <td>5</td>\n",
       "      <td>dropout</td>\n",
       "      <td>69</td>\n",
       "      <td>pos</td>\n",
       "      <td>0.5411</td>\n",
       "      <td>pos</td>\n",
       "    </tr>\n",
       "    <tr>\n",
       "      <th>9688</th>\n",
       "      <td>Highly recommend this sets  a good foundation ...</td>\n",
       "      <td>5</td>\n",
       "      <td>dropout</td>\n",
       "      <td>56</td>\n",
       "      <td>pos</td>\n",
       "      <td>0.6901</td>\n",
       "      <td>pos</td>\n",
       "    </tr>\n",
       "    <tr>\n",
       "      <th>9689</th>\n",
       "      <td>best python programming course for absolute be...</td>\n",
       "      <td>5</td>\n",
       "      <td>dropout</td>\n",
       "      <td>53</td>\n",
       "      <td>pos</td>\n",
       "      <td>0.6369</td>\n",
       "      <td>pos</td>\n",
       "    </tr>\n",
       "    <tr>\n",
       "      <th>9690</th>\n",
       "      <td>best one</td>\n",
       "      <td>4</td>\n",
       "      <td>completer</td>\n",
       "      <td>8</td>\n",
       "      <td>pos</td>\n",
       "      <td>0.6369</td>\n",
       "      <td>pos</td>\n",
       "    </tr>\n",
       "  </tbody>\n",
       "</table>\n",
       "<p>9691 rows × 7 columns</p>\n",
       "</div>"
      ],
      "text/plain": [
       "                                                 review  rating     status  \\\n",
       "0     Nice Course for beginners where we can enjoy a...       5  completer   \n",
       "1     Super easy and totally for the beginners like ...       5  completer   \n",
       "2     Very interactive and a nice course to start pr...       5  completer   \n",
       "3     Awesome course! Definitely a very nice introdu...       5  completer   \n",
       "4                              Perfect for new learners       5  completer   \n",
       "...                                                 ...     ...        ...   \n",
       "9686  excellent explanation starting with how comput...       5    dropout   \n",
       "9687  My friend recommanded the lecture. It really d...       5    dropout   \n",
       "9688  Highly recommend this sets  a good foundation ...       5    dropout   \n",
       "9689  best python programming course for absolute be...       5    dropout   \n",
       "9690                                           best one       4  completer   \n",
       "\n",
       "      length label  compound sentiment  \n",
       "0        135   pos    0.9062       pos  \n",
       "1        163   pos    0.9678       pos  \n",
       "2         67   pos    0.4703       pos  \n",
       "3        166   pos    0.9448       pos  \n",
       "4         24   pos    0.5719       pos  \n",
       "...      ...   ...       ...       ...  \n",
       "9686     129   pos    0.9080       pos  \n",
       "9687      69   pos    0.5411       pos  \n",
       "9688      56   pos    0.6901       pos  \n",
       "9689      53   pos    0.6369       pos  \n",
       "9690       8   pos    0.6369       pos  \n",
       "\n",
       "[9691 rows x 7 columns]"
      ]
     },
     "execution_count": 10,
     "metadata": {},
     "output_type": "execute_result"
    }
   ],
   "source": [
    "df"
   ]
  },
  {
   "cell_type": "code",
   "execution_count": 11,
   "metadata": {},
   "outputs": [],
   "source": [
    "# Define a function to plot the most frequent words\n",
    "\n",
    "def freq_words(x, terms = 30):\n",
    "    all_words = ' '.join([text for text in x])\n",
    "    all_words = all_words.split()\n",
    "\n",
    "    fdist = FreqDist(all_words)\n",
    "    words_df = pd.DataFrame({'word':list(fdist.keys()), 'count':list(fdist.values())})\n",
    "    \n",
    "    # selecting top 20 most frequent words\n",
    "    d = words_df.nlargest(columns=\"count\", n = terms) \n",
    "    plt.figure(figsize=(20,5))\n",
    "    ax = sns.barplot(data=d, x= \"word\", y = \"count\")\n",
    "    ax.set(ylabel = 'Count')\n",
    "    plt.xticks(rotation = 45)\n",
    "    plt.show()"
   ]
  },
  {
   "cell_type": "code",
   "execution_count": 12,
   "metadata": {},
   "outputs": [
    {
     "data": {
      "image/png": "[encoded data removed]",
      "text/plain": [
       "<Figure size 1440x360 with 1 Axes>"
      ]
     },
     "metadata": {
      "needs_background": "light"
     },
     "output_type": "display_data"
    }
   ],
   "source": [
    "# The most frquent words are stop words such as 'to' and 'the' we will remove these in the preprocessing steps\n",
    "\n",
    "freq_words(df['review'])"
   ]
  },
  {
   "cell_type": "markdown",
   "metadata": {},
   "source": [
    "## Preprocessing"
   ]
  },
  {
   "cell_type": "code",
   "execution_count": 13,
   "metadata": {},
   "outputs": [
    {
     "data": {
      "text/plain": [
       "0    nice course for beginners where we can enjoy a...\n",
       "1    super easy and totally for the beginners like ...\n",
       "2    very interactive and a nice course to start pr...\n",
       "3    awesome course! definitely a very nice introdu...\n",
       "4                             perfect for new learners\n",
       "Name: preprocessed, dtype: object"
      ]
     },
     "execution_count": 13,
     "metadata": {},
     "output_type": "execute_result"
    }
   ],
   "source": [
    "# Covert to lowercase\n",
    "\n",
    "df['preprocessed'] =  df['review'].apply(lambda x: \" \".join(x.lower() for x in x.split()))\n",
    "df['preprocessed'].head()"
   ]
  },
  {
   "cell_type": "code",
   "execution_count": 14,
   "metadata": {},
   "outputs": [
    {
     "data": {
      "text/plain": [
       "0    nice course for beginners where we can enjoy a...\n",
       "1    super easy and totally for the beginners like ...\n",
       "2    very interactive and a nice course to start pr...\n",
       "3    awesome course definitely a very nice introduc...\n",
       "4                             perfect for new learners\n",
       "Name: preprocessed, dtype: object"
      ]
     },
     "execution_count": 14,
     "metadata": {},
     "output_type": "execute_result"
    }
   ],
   "source": [
    "# Remove punctuations\n",
    "\n",
    "df['preprocessed'] = df['preprocessed'].str.replace('[^\\w\\s]','')\n",
    "df['preprocessed'].head()"
   ]
  },
  {
   "cell_type": "code",
   "execution_count": 15,
   "metadata": {},
   "outputs": [
    {
     "data": {
      "text/plain": [
       "0    course beginners enjoy learn well dr chuck mad...\n",
       "1    super easy totally beginners course title prof...\n",
       "2          interactive course start programming pyhton\n",
       "3    awesome course definitely introduction coding ...\n",
       "4                                 perfect new learners\n",
       "Name: preprocessed, dtype: object"
      ]
     },
     "execution_count": 15,
     "metadata": {},
     "output_type": "execute_result"
    }
   ],
   "source": [
    "# Remove stopwords\n",
    "\n",
    "stop = stopwords.words('english')\n",
    "stop.extend(['good', 'great', 'really', 'like', 'nice'])\n",
    "\n",
    "df['preprocessed'] = df['preprocessed'].apply(lambda x: \" \".join(x for x in x.split() if x not in stop))\n",
    "df['preprocessed'].head()"
   ]
  },
  {
   "cell_type": "code",
   "execution_count": 16,
   "metadata": {},
   "outputs": [],
   "source": [
    "# Remove short words (length < 3)\n",
    "\n",
    "# df['review'] = df['review'].apply(lambda x: ' '.join([w for w in x.split() if len(w)>2]))\n",
    "# df['review'].head()"
   ]
  },
  {
   "cell_type": "code",
   "execution_count": 17,
   "metadata": {},
   "outputs": [
    {
     "data": {
      "image/png": "[encoded data removed]",
      "text/plain": [
       "<Figure size 1440x360 with 1 Axes>"
      ]
     },
     "metadata": {
      "needs_background": "light"
     },
     "output_type": "display_data"
    }
   ],
   "source": [
    "# Look at the most frequent words again \n",
    "\n",
    "freq_words(df['preprocessed'])"
   ]
  },
  {
   "cell_type": "code",
   "execution_count": 18,
   "metadata": {},
   "outputs": [
    {
     "data": {
      "text/plain": [
       "0    [course, beginners, enjoy, learn, well, dr, ch...\n",
       "1    [super, easy, totally, beginners, course, titl...\n",
       "2    [interactive, course, start, programming, pyhton]\n",
       "3    [awesome, course, definitely, introduction, co...\n",
       "4                             [perfect, new, learners]\n",
       "Name: preprocessed, dtype: object"
      ]
     },
     "execution_count": 18,
     "metadata": {},
     "output_type": "execute_result"
    }
   ],
   "source": [
    "# Tokenization\n",
    "\n",
    "tokenizer = RegexpTokenizer(r'\\w+')\n",
    "\n",
    "df['preprocessed'] = df['preprocessed'].apply(lambda x: tokenizer.tokenize(x.lower()))\n",
    "df['preprocessed'].head(5)\n"
   ]
  },
  {
   "cell_type": "code",
   "execution_count": 19,
   "metadata": {},
   "outputs": [
    {
     "data": {
      "text/plain": [
       "0    [(course, NN), (beginners, NNS), (enjoy, VBP),...\n",
       "1    [(super, JJ), (easy, JJ), (totally, RB), (begi...\n",
       "2    [(interactive, JJ), (course, NN), (start, NN),...\n",
       "3    [(awesome, JJ), (course, NN), (definitely, RB)...\n",
       "4          [(perfect, JJ), (new, JJ), (learners, NNS)]\n",
       "Name: preprocessed, dtype: object"
      ]
     },
     "execution_count": 19,
     "metadata": {},
     "output_type": "execute_result"
    }
   ],
   "source": [
    "# Add speech tags\n",
    "\n",
    "df['preprocessed'] = df['preprocessed'].apply(nltk.tag.pos_tag)\n",
    "df['preprocessed'].head()"
   ]
  },
  {
   "cell_type": "code",
   "execution_count": 20,
   "metadata": {},
   "outputs": [],
   "source": [
    "# Define function to convert parts of speech tags to wordnet’s format\n",
    "\n",
    "def get_wordnet_pos(tag):\n",
    "    if tag.startswith('J'):\n",
    "        return wordnet.ADJ\n",
    "    elif tag.startswith('V'):\n",
    "        return wordnet.VERB\n",
    "    elif tag.startswith('N'):\n",
    "        return wordnet.NOUN\n",
    "    elif tag.startswith('R'):\n",
    "        return wordnet.ADV\n",
    "    else:\n",
    "        return wordnet.NOUN"
   ]
  },
  {
   "cell_type": "code",
   "execution_count": 21,
   "metadata": {},
   "outputs": [
    {
     "data": {
      "text/plain": [
       "0    [(course, n), (beginners, n), (enjoy, v), (lea...\n",
       "1    [(super, a), (easy, a), (totally, r), (beginne...\n",
       "2    [(interactive, a), (course, n), (start, n), (p...\n",
       "3    [(awesome, a), (course, n), (definitely, r), (...\n",
       "4              [(perfect, a), (new, a), (learners, n)]\n",
       "Name: preprocessed, dtype: object"
      ]
     },
     "execution_count": 21,
     "metadata": {},
     "output_type": "execute_result"
    }
   ],
   "source": [
    "# Apply the function to the tagged data\n",
    "\n",
    "df['preprocessed'] = df['preprocessed'].apply(lambda x: [(word, get_wordnet_pos(pos_tag)) for (word, pos_tag) in x])\n",
    "df['preprocessed'].head()"
   ]
  },
  {
   "cell_type": "code",
   "execution_count": 22,
   "metadata": {},
   "outputs": [
    {
     "data": {
      "text/plain": [
       "0    [course, beginner, enjoy, learn, well, dr, chu...\n",
       "1    [super, easy, totally, beginner, course, title...\n",
       "2        [interactive, course, start, program, pyhton]\n",
       "3    [awesome, course, definitely, introduction, co...\n",
       "4                              [perfect, new, learner]\n",
       "Name: preprocessed, dtype: object"
      ]
     },
     "execution_count": 22,
     "metadata": {},
     "output_type": "execute_result"
    }
   ],
   "source": [
    "# Create lemmatizer\n",
    "\n",
    "lemmatizer = WordNetLemmatizer()\n",
    "\n",
    "# Apply to data \n",
    "\n",
    "df['preprocessed'] = df['preprocessed'].apply(lambda x: [lemmatizer.lemmatize(word, tag) for word, tag in x])\n",
    "df['preprocessed'].head()"
   ]
  },
  {
   "cell_type": "code",
   "execution_count": 23,
   "metadata": {},
   "outputs": [],
   "source": [
    "# Join reviews\n",
    "\n",
    "df['joined'] = df['preprocessed'].apply(lambda x: ' '.join(x))"
   ]
  },
  {
   "cell_type": "code",
   "execution_count": 24,
   "metadata": {},
   "outputs": [
    {
     "data": {
      "image/png": "[encoded data removed]",
      "text/plain": [
       "<Figure size 1440x360 with 1 Axes>"
      ]
     },
     "metadata": {
      "needs_background": "light"
     },
     "output_type": "display_data"
    }
   ],
   "source": [
    "# Most frequent words after lemmatizing \n",
    "\n",
    "freq_words(df['joined'], 35)"
   ]
  },
  {
   "cell_type": "markdown",
   "metadata": {},
   "source": [
    "## LDA Topic Modeling"
   ]
  },
  {
   "cell_type": "code",
   "execution_count": 27,
   "metadata": {},
   "outputs": [],
   "source": [
    "# Create a dictionary from 'df_sen['review']' containing the number of times a word appears in the training set\n",
    "\n",
    "dictionary = gensim.corpora.Dictionary(df['preprocessed'])"
   ]
  },
  {
   "cell_type": "code",
   "execution_count": 28,
   "metadata": {},
   "outputs": [],
   "source": [
    "# Gensim filter extremes\n",
    "\n",
    "# Filter out tokens that appear in:\n",
    "# Less than 50 documents, more than 0.5 documents, and keep only 100000 most frquent tokens\n",
    "\n",
    "# dictionary.filter_extremes(no_below = 50, no_above = 0.5, keep_n = 100000)"
   ]
  },
  {
   "cell_type": "code",
   "execution_count": 29,
   "metadata": {},
   "outputs": [],
   "source": [
    "# Gensim doc2bow\n",
    "# Create a dictionary reporting how many words and how many times those words appear\n",
    "\n",
    "corpus = [dictionary.doc2bow(doc) for doc in df['preprocessed']]\n"
   ]
  },
  {
   "cell_type": "code",
   "execution_count": 146,
   "metadata": {},
   "outputs": [],
   "source": [
    "# Add TF-IDF\n",
    "\n",
    "tfidf = models.TfidfModel(corpus)      # Create a TF-IDF model\n",
    "corpus_tfidf = tfidf[corpus]  "
   ]
  },
  {
   "cell_type": "code",
   "execution_count": 167,
   "metadata": {},
   "outputs": [],
   "source": [
    "# Creating the object for LDA model using gensim library\n",
    "LDA = gensim.models.LdaMulticore\n",
    "\n",
    "# Build LDA model\n",
    "lda_model = LDA(corpus = corpus, id2word = dictionary, num_topics = 5, random_state = 100,\n",
    "                chunksize = 100, passes = 10)"
   ]
  },
  {
   "cell_type": "code",
   "execution_count": 168,
   "metadata": {},
   "outputs": [
    {
     "name": "stdout",
     "output_type": "stream",
     "text": [
      "Topic: 0\n",
      "Word: 0.144*\"course\" + 0.065*\"python\" + 0.063*\"beginner\" + 0.043*\"best\" + 0.031*\"program\" + 0.025*\"start\" + 0.020*\"helpful\" + 0.019*\"learn\" + 0.018*\"one\" + 0.018*\"recommend\"\n",
      "\n",
      "Topic: 1\n",
      "Word: 0.083*\"course\" + 0.074*\"learn\" + 0.038*\"python\" + 0.022*\"easy\" + 0.022*\"lot\" + 0.020*\"basic\" + 0.016*\"program\" + 0.014*\"experience\" + 0.014*\"fun\" + 0.011*\"thing\"\n",
      "\n",
      "Topic: 2\n",
      "Word: 0.053*\"course\" + 0.036*\"python\" + 0.032*\"easy\" + 0.032*\"understand\" + 0.029*\"awesome\" + 0.022*\"basic\" + 0.020*\"program\" + 0.015*\"knowledge\" + 0.012*\"help\" + 0.011*\"get\"\n",
      "\n",
      "Topic: 3\n",
      "Word: 0.097*\"excellent\" + 0.048*\"course\" + 0.029*\"assignment\" + 0.020*\"thanks\" + 0.015*\"professor\" + 0.014*\"enjoy\" + 0.014*\"work\" + 0.014*\"class\" + 0.013*\"teaching\" + 0.013*\"interest\"\n",
      "\n",
      "Topic: 4\n",
      "Word: 0.060*\"thank\" + 0.056*\"course\" + 0.038*\"dr\" + 0.034*\"love\" + 0.030*\"well\" + 0.029*\"chuck\" + 0.029*\"teach\" + 0.027*\"teacher\" + 0.025*\"charles\" + 0.024*\"much\"\n",
      "\n"
     ]
    }
   ],
   "source": [
    "# Explore the words occurring in each topic and its relative weight\n",
    "\n",
    "for id, topic in lda_model.print_topics(-1):\n",
    "    print('Topic: {}\\nWord: {}\\n'.format(id, topic))"
   ]
  },
  {
   "cell_type": "markdown",
   "metadata": {},
   "source": [
    "### Visualise with pyLDAvis\n",
    "\n",
    "Original paper: https://nlp.stanford.edu/events/illvi2014/papers/sievert-illvi2014.pdf"
   ]
  },
  {
   "cell_type": "code",
   "execution_count": 169,
   "metadata": {
    "scrolled": false
   },
   "outputs": [
    {
     "data": {
      "text/html": [
       "\n",
       "<link rel=\"stylesheet\" type=\"text/css\" href=\"https://cdn.jsdelivr.net/gh/bmabey/pyLDAvis@3.2.2/pyLDAvis/js/ldavis.v1.0.0.css\">\n",
       "\n",
       "\n",
       "<div id=\"ldavis_el275251403041952096801368057962\"></div>\n",
       "<script type=\"text/javascript\">\n",
       "\n",
       "var ldavis_el275251403041952096801368057962_data = {\"mdsDat\": {\"x\": [0.07624301730604464, 0.1855548637713355, 0.10506077340349648, -0.20206307578911176, -0.16479557869176473], \"y\": [0.032056708967258596, 0.02549424298738274, -0.03336974840410039, 0.20537426589207022, -0.22955546944261124], \"topics\": [1, 2, 3, 4, 5], \"cluster\": [1, 1, 1, 1, 1], \"Freq\": [24.50421671126928, 23.13466036174259, 21.508668670271007, 18.33255704302541, 12.519897213691717]}, \"tinfo\": {\"Term\": [\"excellent\", \"beginner\", \"thank\", \"best\", \"learn\", \"python\", \"love\", \"dr\", \"easy\", \"awesome\", \"understand\", \"assignment\", \"chuck\", \"teacher\", \"charles\", \"amaze\", \"experience\", \"much\", \"start\", \"teach\", \"well\", \"recommend\", \"program\", \"helpful\", \"basic\", \"thanks\", \"course\", \"coursera\", \"lot\", \"one\", \"super\", \"science\", \"suggest\", \"starter\", \"practical\", \"glad\", \"logic\", \"thoroughly\", \"develop\", \"fabulous\", \"term\", \"support\", \"syllabus\", \"flow\", \"friend\", \"satisfy\", \"newbie\", \"fast\", \"beginers\", \"special\", \"entire\", \"enhance\", \"series\", \"non\", \"section\", \"word\", \"rest\", \"less\", \"proper\", \"create\", \"amazing\", \"thing\", \"step\", \"learn\", \"learnt\", \"never\", \"lot\", \"fun\", \"forward\", \"week\", \"platform\", \"look\", \"free\", \"many\", \"first\", \"fantastic\", \"easy\", \"basic\", \"topic\", \"computer\", \"course\", \"time\", \"new\", \"programming\", \"experience\", \"python\", \"enjoy\", \"make\", \"program\", \"way\", \"thanks\", \"instructor\", \"language\", \"take\", \"professor\", \"coursera\", \"help\", \"get\", \"explain\", \"teach\", \"understand\", \"best\", \"highly\", \"perfect\", \"introductory\", \"effective\", \"must\", \"recommended\", \"suitable\", \"high\", \"possible\", \"quality\", \"ever\", \"reference\", \"deliver\", \"focus\", \"perfectly\", \"absolute\", \"expectation\", \"check\", \"java\", \"better\", \"maybe\", \"choice\", \"refresher\", \"\\u00f0\", \"intermediate\", \"goal\", \"wont\", \"kudos\", \"recommend\", \"beginner\", \"one\", \"anyone\", \"helpful\", \"career\", \"introduction\", \"useful\", \"scratch\", \"start\", \"friendly\", \"would\", \"course\", \"python\", \"want\", \"program\", \"online\", \"clear\", \"people\", \"take\", \"c\", \"everyone\", \"content\", \"begin\", \"learn\", \"programming\", \"get\", \"language\", \"basic\", \"instructor\", \"know\", \"awesome\", \"informative\", \"idea\", \"gain\", \"understanding\", \"zero\", \"journey\", \"improve\", \"superb\", \"loop\", \"nicely\", \"excelent\", \"book\", \"place\", \"move\", \"syntax\", \"deep\", \"expect\", \"back\", \"methodology\", \"ahead\", \"begineers\", \"delivery\", \"chunk\", \"etc\", \"complex\", \"coursei\", \"achieve\", \"mind\", \"insight\", \"require\", \"understand\", \"pretty\", \"need\", \"enough\", \"exercise\", \"knowledge\", \"im\", \"easy\", \"information\", \"help\", \"someone\", \"basic\", \"use\", \"follow\", \"dont\", \"able\", \"get\", \"python\", \"language\", \"program\", \"course\", \"even\", \"know\", \"give\", \"start\", \"simple\", \"cod\", \"think\", \"also\", \"learn\", \"concept\", \"make\", \"lot\", \"helpful\", \"sir\", \"thank\", \"love\", \"russell\", \"michigan\", \"method\", \"organize\", \"loved\", \"helpfull\", \"novice\", \"thankful\", \"cours\", \"de\", \"towards\", \"structured\", \"university\", \"incredible\", \"usefull\", \"effort\", \"pythonthank\", \"phyton\", \"drcharles\", \"aspect\", \"willing\", \"couse\", \"patient\", \"man\", \"across\", \"didactic\", \"educational\", \"dr\", \"charles\", \"teacher\", \"amaze\", \"chuck\", \"much\", \"wonderful\", \"severance\", \"meet\", \"u\", \"well\", \"coursera\", \"teach\", \"drchuck\", \"way\", \"explain\", \"experience\", \"learning\", \"everything\", \"absolutely\", \"instructor\", \"course\", \"taught\", \"professor\", \"make\", \"concept\", \"fun\", \"excellent\", \"teaching\", \"excelente\", \"curso\", \"year\", \"listen\", \"begginers\", \"grade\", \"outstanding\", \"talk\", \"ask\", \"insightful\", \"extra\", \"coursethank\", \"sometimes\", \"great\", \"bonus\", \"answer\", \"fine\", \"chuk\", \"refer\", \"slide\", \"basically\", \"spend\", \"ago\", \"assignment\", \"el\", \"final\", \"fail\", \"often\", \"guidance\", \"quiz\", \"work\", \"task\", \"video\", \"interest\", \"faculty\", \"lecture\", \"thanks\", \"enjoy\", \"mr\", \"class\", \"professor\", \"code\", \"material\", \"style\", \"course\", \"make\", \"teach\", \"difficult\", \"time\", \"instructor\", \"complete\", \"lot\", \"thing\", \"help\", \"could\", \"try\", \"teacher\", \"one\"], \"Freq\": [789.0, 1007.0, 710.0, 647.0, 1646.0, 2106.0, 404.0, 515.0, 785.0, 405.0, 545.0, 253.0, 418.0, 374.0, 347.0, 345.0, 519.0, 369.0, 568.0, 536.0, 540.0, 294.0, 1016.0, 363.0, 738.0, 357.0, 5259.0, 343.0, 474.0, 317.0, 70.79275599281874, 38.76692061874693, 31.84470610142127, 31.71527272035402, 36.11367647410904, 27.494660045750933, 26.07205661097115, 23.795432620901526, 22.236435394964033, 21.800518964609317, 20.353465567834537, 19.935448125272035, 19.123925908539235, 18.71890897756327, 18.117573071365232, 17.47535997140865, 16.982345677781474, 16.912723133818968, 16.2216008883434, 15.462799075065972, 15.347361208564532, 14.462100879475784, 14.40345841009555, 14.102892815968449, 13.505869818884486, 13.526175625746134, 13.079819502408641, 13.250214915301255, 12.757501243519533, 17.912427248582777, 140.39049035370118, 169.95128930144733, 77.5824571383906, 1178.9751681710613, 87.54780942376738, 70.82230914896326, 341.42836541428557, 214.68126738577638, 77.47569396422101, 59.17389871937808, 80.70810545933695, 109.11697313586573, 30.934963534986025, 65.43056966837297, 126.54308829809973, 43.55588932322652, 341.532118681389, 321.37896132222266, 72.33517106530546, 67.49059285233427, 1319.1607045097833, 103.21149858598154, 105.21293924050113, 158.46654625719515, 221.23027924718178, 609.7406585557358, 125.81531047484258, 162.44158592587252, 253.54819733085208, 158.02429648072211, 128.4961196139722, 143.77014384669238, 112.85471704304926, 105.45205717612569, 98.97085675038686, 98.86635838374009, 94.13316148666252, 93.62478965863598, 91.75813824922781, 90.07495838083662, 89.49287333858244, 646.3700849165638, 136.06720132253815, 131.78333870039535, 63.099097464206096, 42.54376346561751, 55.45579626422571, 35.60836829338703, 27.20454816968548, 22.672111553530748, 21.806972784643538, 24.990517898345292, 149.05759975511782, 19.438608914070738, 19.05886833766817, 15.83479443899729, 15.342783068762486, 44.73534410537981, 13.999153552397184, 12.332774669305886, 12.02322118661875, 11.740955332976279, 11.706282292286721, 11.299966248424484, 11.156952361817938, 11.066485204580623, 11.199582807014666, 10.77436575091494, 11.047491907345565, 11.532030804617015, 273.92343612545244, 936.0425095867664, 275.8404288492472, 108.93439516171577, 292.12097897998194, 24.47942791078334, 139.48968622475115, 208.50219042096444, 33.75625366410808, 376.3420368453837, 67.86609468455359, 145.23857492449235, 2157.7243735379993, 964.9557823942285, 157.66272654181347, 467.9143852837482, 102.40833444925852, 119.37427306833686, 75.6361432343996, 142.0966782043151, 36.65274542226529, 61.073368636108555, 86.85922476187959, 56.58064591098217, 276.71435732884606, 106.85138695097756, 107.70663555408781, 94.68497166082305, 113.57313364770918, 97.96917532970096, 74.2705899368199, 403.5810431505065, 126.83654869776566, 60.49974687547411, 55.23116602156886, 51.84357457342071, 51.22617246768194, 58.47647382415875, 38.584921659842216, 33.99833488202316, 32.92045516271595, 32.296616523791684, 25.610714623902147, 36.932782090679915, 24.66446168446907, 23.30913112270818, 22.060451778953748, 25.629851006896555, 20.33916642459222, 19.318342945758562, 17.937091415847227, 16.314562165723128, 14.675706849910968, 14.580819788508885, 14.769561087326045, 17.315388035291083, 13.995663483706204, 13.708839520743457, 13.63114946437898, 14.388733953081756, 13.59610953460029, 18.469465234605362, 441.72500077097993, 48.57607238703476, 84.21590454215345, 33.12517447525063, 85.24344461459542, 214.95618471538072, 93.05863917580378, 442.9057484643161, 43.02154174720906, 171.05072694608614, 51.44765979096495, 303.49613800570256, 73.3930358753787, 78.93549315894248, 55.1783592528287, 56.75565307870674, 159.86278899567765, 496.2177008795303, 142.1487632783287, 278.8532555434072, 732.5175202934141, 79.32228736092362, 100.14436213445103, 91.89396986466035, 157.56801598118173, 81.47447886212836, 77.93562888412104, 76.71220840034984, 78.38035188477166, 149.7566030451045, 82.23549206745258, 91.85170502351171, 89.07166661975914, 68.14344732714052, 174.80601169441883, 706.501956413653, 400.131375800382, 66.43878076731862, 84.05200911483763, 37.33416262983424, 29.30376145877921, 47.33246871777079, 30.115139964272615, 23.956551897134098, 24.413830374701295, 20.2508149110928, 19.47401825431629, 20.463890041288973, 19.19437344478423, 98.2341076475094, 18.071901799712258, 16.165281940190575, 41.44896523154009, 12.196067224432712, 11.861633441160452, 11.236447483628403, 10.895696990328377, 10.568901072577898, 10.380733345410613, 10.268339232537764, 10.017577710688371, 9.818799345663171, 9.485282437404774, 9.691271620823402, 450.5953818002544, 301.4642437445208, 321.6061209338765, 288.82764463701784, 343.16896812213935, 290.1850556733388, 143.34896133175704, 211.6106579618467, 19.183428896086053, 98.46393765098368, 350.9525677883348, 231.64142286961305, 338.89833126299874, 58.01302916139328, 276.5300560989737, 229.5758338541894, 275.747788547645, 67.3204157693594, 90.49290086005855, 45.445889027852274, 241.5261771951107, 660.2622923286548, 50.50692320142416, 88.53837445353729, 99.5039512558701, 58.80068343966574, 54.46713888205728, 785.8791898015754, 108.20303211942719, 33.99135198663819, 28.820717731754186, 25.78542121498033, 22.369686695792076, 21.0392232069036, 21.83161941380003, 18.79740089735997, 17.463548868960725, 13.826839358272736, 13.189917372594344, 13.14826170584991, 13.188878006887899, 18.025477273725755, 12.629749199143584, 23.280419823945795, 17.397609925466433, 11.833921106569116, 11.880315640165513, 10.956083007831799, 12.918287673102169, 10.245183249246892, 10.02107508370008, 9.796310129488358, 234.60843910581633, 10.203130870841157, 9.326590330197924, 8.988007763820583, 8.821570731515703, 22.93864094888644, 72.45425689631188, 115.35995925857873, 16.853617410870466, 96.40880385207166, 102.3872580109356, 17.746135725691833, 98.87431876934113, 161.9845064646583, 117.32231940466646, 44.60484950377626, 114.4983203763958, 119.5456385546346, 55.14758722977346, 59.1960815602744, 34.787722848611494, 389.93856258693114, 75.04521185242265, 71.97334059355455, 28.241631783214945, 41.26060977595645, 60.57974021948041, 39.53459554920483, 43.31343525774824, 34.11135679302731, 35.187909741756336, 29.15664110500044, 28.49273989942973, 29.099013317925774, 28.634218020160166], \"Total\": [789.0, 1007.0, 710.0, 647.0, 1646.0, 2106.0, 404.0, 515.0, 785.0, 405.0, 545.0, 253.0, 418.0, 374.0, 347.0, 345.0, 519.0, 369.0, 568.0, 536.0, 540.0, 294.0, 1016.0, 363.0, 738.0, 357.0, 5259.0, 343.0, 474.0, 317.0, 71.58026180280308, 39.53428278136671, 32.61399957390357, 32.48525224673759, 37.024410844080954, 28.26183282016549, 26.858974557527134, 24.57299675953771, 23.00596790776177, 22.564915961617682, 21.1288918576676, 20.716550972345416, 19.901485759787082, 19.484702831135422, 18.886863631532698, 18.25359362151334, 17.748420385090576, 17.677642607638937, 16.986618677549508, 16.229838889252854, 16.13917109348186, 15.227123389155587, 15.165991488326128, 14.872246355713905, 14.277399103780056, 14.307371962965924, 13.842565956706121, 14.033986716944948, 13.523464522064582, 19.03493864781936, 160.14011264597585, 204.64575088756817, 90.46905118907773, 1646.545417604454, 106.80253769010213, 84.98454903265296, 474.2854044072593, 289.72426399266493, 96.49288265084726, 74.03021210041332, 105.7191486256942, 155.17913455208955, 35.88424375063817, 91.29206297230057, 209.90824689355813, 56.570570588670655, 785.2718767737723, 738.9711942145424, 109.27955000900796, 100.36064831307269, 5259.603453256782, 179.41672447306968, 185.07584882072092, 327.5485450759592, 519.4329675905955, 2106.8078765660266, 251.4806980996791, 435.4218502750487, 1016.0745746933101, 504.8385374597765, 357.44871158800447, 595.718562323078, 350.1100173151432, 317.47055426883344, 310.71266599007726, 343.19905335744886, 304.28396337123957, 386.79052495027247, 407.54605706084544, 536.7034431896041, 545.8498696535154, 647.7714507923107, 136.84128390830242, 132.6390914251809, 63.875713857953365, 43.319130235589476, 56.49309730048944, 36.379364731874304, 27.993475222569426, 23.459574465964995, 22.60319819819295, 25.956837714412313, 154.96532341646716, 20.226459043094813, 19.836811605600857, 16.612246493024124, 16.127709060291913, 47.07307379681609, 14.77234651265262, 13.122538029734654, 12.811594646026847, 12.522633610362716, 12.498225696129815, 12.075776478739993, 11.925557360485739, 11.841489192870162, 11.98576520387439, 11.560502705133063, 11.855253723683148, 12.381520306241754, 294.1710262276427, 1007.3845304216424, 317.8931138445883, 128.42522869809608, 363.0233407053995, 27.141151902101107, 170.78333920905519, 278.8816331215375, 39.98241661551737, 568.4063514670354, 90.16436318749827, 227.69183721584815, 5259.603453256782, 2106.8078765660266, 266.9009307597175, 1016.0745746933101, 165.90834698151977, 213.97936587892733, 119.47222337753405, 317.47055426883344, 47.09411270086769, 104.98289360711802, 187.60967714003874, 93.72117529252799, 1646.545417604454, 327.5485450759592, 386.79052495027247, 350.1100173151432, 738.9711942145424, 595.718562323078, 219.75847983010348, 405.77608385702695, 127.85374564825106, 61.26343101319852, 55.991716732748706, 52.606435053423304, 52.00433280225768, 59.36704654217833, 39.35366645760081, 34.76200085435475, 33.67854114035, 33.06211357804821, 26.370308349152342, 38.08356578015925, 25.433772072877595, 24.10908798595561, 22.826377955232292, 26.562637061312873, 21.099990082641973, 20.089533524576566, 18.710703651663245, 17.08345695507819, 15.438222021930438, 15.344598010622027, 15.545784142251115, 18.24429027653572, 14.754392080121626, 14.467810661005752, 14.397301976820327, 15.201654716307006, 14.36725768001044, 19.704232749017432, 545.8498696535154, 54.78671926723743, 101.3463945056731, 38.251034261831464, 110.9358125716528, 314.7126894632958, 128.9354139753927, 785.2718767737723, 53.78193916229023, 304.28396337123957, 69.53186926896876, 738.9711942145424, 118.81010669505037, 132.2334284005923, 80.84817303621988, 84.88912533776168, 386.79052495027247, 2106.8078765660266, 350.1100173151432, 1016.0745746933101, 5259.603453256782, 146.22753778451172, 219.75847983010348, 197.08554829866685, 568.4063514670354, 170.70695126803977, 171.01101817528127, 183.64786941503277, 222.87054947067804, 1646.545417604454, 267.6213995407548, 435.4218502750487, 474.2854044072593, 363.0233407053995, 175.73976114724533, 710.6984972653731, 404.73814860103226, 67.49911606333839, 85.40318965165545, 38.251968207604776, 30.07928154185926, 48.807988877606256, 31.068999934998022, 24.734177923412016, 25.324671989345457, 21.016820366178436, 20.23837342278561, 21.267175756719396, 19.967682540559288, 102.28258339044936, 18.839320314679284, 16.933283385841218, 43.541784730398, 12.969038742489465, 12.636008486328157, 12.002270133818623, 11.700487563481087, 11.355243684687629, 11.157672004802352, 11.05343057163689, 10.79051229948023, 10.59979584590354, 10.26093931527221, 10.497759370130199, 515.771761884085, 347.0573086280577, 374.59034748243556, 345.3640874048578, 418.9931755770908, 369.84695682775487, 176.21204570169175, 266.31214552016417, 21.461823245394616, 130.19611304352838, 540.8605905302339, 343.19905335744886, 536.7034431896041, 74.43941091793727, 504.8385374597765, 407.54605706084544, 519.4329675905955, 91.95372146498016, 135.9796093509358, 58.68225668541956, 595.718562323078, 5259.603453256782, 77.81529040759219, 310.71266599007726, 435.4218502750487, 267.6213995407548, 289.72426399266493, 789.4546459812315, 108.9696916735174, 34.74904272857686, 29.579539762015667, 26.56788714010009, 23.14019863182223, 21.801888418244427, 22.652995250963443, 19.574462783592807, 18.231799318514987, 14.594949265187982, 13.956105784462844, 13.917126820367873, 13.978658262340666, 19.10515925668031, 13.40317788214202, 24.7281332867479, 18.481917574857945, 12.598673373959802, 12.665560651072143, 11.743611059776486, 13.875583916304466, 11.020843610295232, 10.788531887174768, 10.571842315422732, 253.3008537736577, 11.022709060361326, 10.087268931083845, 9.759281584621169, 9.58407115679757, 24.929631836555163, 79.95175708347477, 158.81489666454866, 19.493599945814978, 161.8466977802029, 179.7708867834266, 21.639251937168233, 181.31331423367843, 357.44871158800447, 251.4806980996791, 73.56870517002295, 259.8885343788815, 310.71266599007726, 120.4387700227469, 142.79721295857001, 65.5402088322032, 5259.603453256782, 435.4218502750487, 536.7034431896041, 60.20765487529806, 179.41672447306968, 595.718562323078, 195.8201437638784, 474.2854044072593, 204.64575088756817, 304.28396337123957, 104.1037728453772, 101.55290964492383, 374.59034748243556, 317.8931138445883], \"Category\": [\"Default\", \"Default\", \"Default\", \"Default\", \"Default\", \"Default\", \"Default\", \"Default\", \"Default\", \"Default\", \"Default\", \"Default\", \"Default\", \"Default\", \"Default\", \"Default\", \"Default\", \"Default\", \"Default\", \"Default\", \"Default\", \"Default\", \"Default\", \"Default\", \"Default\", \"Default\", \"Default\", \"Default\", \"Default\", \"Default\", \"Topic1\", \"Topic1\", \"Topic1\", \"Topic1\", \"Topic1\", \"Topic1\", \"Topic1\", \"Topic1\", \"Topic1\", \"Topic1\", \"Topic1\", \"Topic1\", \"Topic1\", \"Topic1\", \"Topic1\", \"Topic1\", \"Topic1\", \"Topic1\", \"Topic1\", \"Topic1\", \"Topic1\", \"Topic1\", \"Topic1\", \"Topic1\", \"Topic1\", \"Topic1\", \"Topic1\", \"Topic1\", \"Topic1\", \"Topic1\", \"Topic1\", \"Topic1\", \"Topic1\", \"Topic1\", \"Topic1\", \"Topic1\", \"Topic1\", \"Topic1\", \"Topic1\", \"Topic1\", \"Topic1\", \"Topic1\", \"Topic1\", \"Topic1\", \"Topic1\", \"Topic1\", \"Topic1\", \"Topic1\", \"Topic1\", \"Topic1\", \"Topic1\", \"Topic1\", \"Topic1\", \"Topic1\", \"Topic1\", \"Topic1\", \"Topic1\", \"Topic1\", \"Topic1\", \"Topic1\", \"Topic1\", \"Topic1\", \"Topic1\", \"Topic1\", \"Topic1\", \"Topic1\", \"Topic1\", \"Topic1\", \"Topic1\", \"Topic1\", \"Topic1\", \"Topic2\", \"Topic2\", \"Topic2\", \"Topic2\", \"Topic2\", \"Topic2\", \"Topic2\", \"Topic2\", \"Topic2\", \"Topic2\", \"Topic2\", \"Topic2\", \"Topic2\", \"Topic2\", \"Topic2\", \"Topic2\", \"Topic2\", \"Topic2\", \"Topic2\", \"Topic2\", \"Topic2\", \"Topic2\", \"Topic2\", \"Topic2\", \"Topic2\", \"Topic2\", \"Topic2\", \"Topic2\", \"Topic2\", \"Topic2\", \"Topic2\", \"Topic2\", \"Topic2\", \"Topic2\", \"Topic2\", \"Topic2\", \"Topic2\", \"Topic2\", \"Topic2\", \"Topic2\", \"Topic2\", \"Topic2\", \"Topic2\", \"Topic2\", \"Topic2\", \"Topic2\", \"Topic2\", \"Topic2\", \"Topic2\", \"Topic2\", \"Topic2\", \"Topic2\", \"Topic2\", \"Topic2\", \"Topic2\", \"Topic2\", \"Topic2\", \"Topic2\", \"Topic2\", \"Topic2\", \"Topic3\", \"Topic3\", \"Topic3\", \"Topic3\", \"Topic3\", \"Topic3\", \"Topic3\", \"Topic3\", \"Topic3\", \"Topic3\", \"Topic3\", \"Topic3\", \"Topic3\", \"Topic3\", \"Topic3\", \"Topic3\", \"Topic3\", \"Topic3\", \"Topic3\", \"Topic3\", \"Topic3\", \"Topic3\", \"Topic3\", \"Topic3\", \"Topic3\", \"Topic3\", \"Topic3\", \"Topic3\", \"Topic3\", \"Topic3\", \"Topic3\", \"Topic3\", \"Topic3\", \"Topic3\", \"Topic3\", \"Topic3\", \"Topic3\", \"Topic3\", \"Topic3\", \"Topic3\", \"Topic3\", \"Topic3\", \"Topic3\", \"Topic3\", \"Topic3\", \"Topic3\", \"Topic3\", \"Topic3\", \"Topic3\", \"Topic3\", \"Topic3\", \"Topic3\", \"Topic3\", \"Topic3\", \"Topic3\", \"Topic3\", \"Topic3\", \"Topic3\", \"Topic3\", \"Topic3\", \"Topic3\", \"Topic3\", \"Topic3\", \"Topic3\", \"Topic3\", \"Topic4\", \"Topic4\", \"Topic4\", \"Topic4\", \"Topic4\", \"Topic4\", \"Topic4\", \"Topic4\", \"Topic4\", \"Topic4\", \"Topic4\", \"Topic4\", \"Topic4\", \"Topic4\", \"Topic4\", \"Topic4\", \"Topic4\", \"Topic4\", \"Topic4\", \"Topic4\", \"Topic4\", \"Topic4\", \"Topic4\", \"Topic4\", \"Topic4\", \"Topic4\", \"Topic4\", \"Topic4\", \"Topic4\", \"Topic4\", \"Topic4\", \"Topic4\", \"Topic4\", \"Topic4\", \"Topic4\", \"Topic4\", \"Topic4\", \"Topic4\", \"Topic4\", \"Topic4\", \"Topic4\", \"Topic4\", \"Topic4\", \"Topic4\", \"Topic4\", \"Topic4\", \"Topic4\", \"Topic4\", \"Topic4\", \"Topic4\", \"Topic4\", \"Topic4\", \"Topic4\", \"Topic4\", \"Topic4\", \"Topic4\", \"Topic4\", \"Topic5\", \"Topic5\", \"Topic5\", \"Topic5\", \"Topic5\", \"Topic5\", \"Topic5\", \"Topic5\", \"Topic5\", \"Topic5\", \"Topic5\", \"Topic5\", \"Topic5\", \"Topic5\", \"Topic5\", \"Topic5\", \"Topic5\", \"Topic5\", \"Topic5\", \"Topic5\", \"Topic5\", \"Topic5\", \"Topic5\", \"Topic5\", \"Topic5\", \"Topic5\", \"Topic5\", \"Topic5\", \"Topic5\", \"Topic5\", \"Topic5\", \"Topic5\", \"Topic5\", \"Topic5\", \"Topic5\", \"Topic5\", \"Topic5\", \"Topic5\", \"Topic5\", \"Topic5\", \"Topic5\", \"Topic5\", \"Topic5\", \"Topic5\", \"Topic5\", \"Topic5\", \"Topic5\", \"Topic5\", \"Topic5\", \"Topic5\", \"Topic5\", \"Topic5\", \"Topic5\", \"Topic5\", \"Topic5\", \"Topic5\", \"Topic5\", \"Topic5\", \"Topic5\", \"Topic5\"], \"logprob\": [30.0, 29.0, 28.0, 27.0, 26.0, 25.0, 24.0, 23.0, 22.0, 21.0, 20.0, 19.0, 18.0, 17.0, 16.0, 15.0, 14.0, 13.0, 12.0, 11.0, 10.0, 9.0, 8.0, 7.0, 6.0, 5.0, 4.0, 3.0, 2.0, 1.0, -5.4107, -6.0129, -6.2096, -6.2137, -6.0838, -6.3565, -6.4096, -6.501, -6.5687, -6.5885, -6.6572, -6.6779, -6.7195, -6.7409, -6.7736, -6.8097, -6.8383, -6.8424, -6.8841, -6.932, -6.9395, -6.9989, -7.003, -7.0241, -7.0673, -7.0658, -7.0994, -7.0864, -7.1243, -6.785, -4.726, -4.5349, -5.3191, -2.598, -5.1983, -5.4103, -3.8373, -4.3013, -5.3205, -5.59, -5.2796, -4.978, -6.2386, -5.4895, -4.8299, -5.8964, -3.837, -3.8978, -5.3891, -5.4585, -2.4857, -5.0337, -5.0145, -4.6049, -4.2712, -3.2574, -4.8356, -4.5801, -4.1349, -4.6077, -4.8146, -4.7022, -4.9443, -5.0122, -5.0756, -5.0767, -5.1257, -5.1312, -5.1513, -5.1698, -5.1763, -3.1416, -4.6998, -4.7318, -5.4682, -5.8624, -5.5973, -6.0404, -6.3096, -6.4918, -6.5307, -6.3944, -4.6086, -6.6457, -6.6654, -6.8507, -6.8823, -5.8122, -6.9739, -7.1007, -7.1261, -7.1499, -7.1528, -7.1881, -7.2009, -7.209, -7.1971, -7.2358, -7.2107, -7.1678, -4.0001, -2.7713, -3.9931, -4.9222, -3.9358, -6.4151, -4.6749, -4.273, -6.0938, -3.6824, -5.3954, -4.6346, -1.9361, -2.7409, -4.5525, -3.4647, -4.984, -4.8307, -5.287, -4.6564, -6.0114, -5.5009, -5.1486, -5.5773, -3.99, -4.9415, -4.9335, -5.0624, -4.8805, -5.0283, -5.3052, -3.5397, -4.6972, -5.4374, -5.5285, -5.5918, -5.6038, -5.4714, -5.8872, -6.0137, -6.046, -6.0651, -6.297, -5.931, -6.3347, -6.3912, -6.4463, -6.2963, -6.5275, -6.579, -6.6532, -6.748, -6.8539, -6.8604, -6.8475, -6.6885, -6.9013, -6.922, -6.9277, -6.8736, -6.9303, -6.6239, -3.4494, -5.6569, -5.1067, -6.0398, -5.0945, -4.1696, -5.0068, -3.4467, -5.7784, -4.3981, -5.5995, -3.8247, -5.2442, -5.1714, -5.5295, -5.5013, -4.4657, -3.333, -4.5832, -3.9094, -2.9436, -5.1665, -4.9334, -5.0194, -4.4802, -5.1398, -5.1842, -5.2, -5.1785, -4.531, -5.1305, -5.0199, -5.0506, -5.3184, -4.2166, -2.82, -3.3885, -5.184, -4.9488, -5.7604, -6.0026, -5.5231, -5.9753, -6.204, -6.1851, -6.3721, -6.4112, -6.3616, -6.4257, -4.7929, -6.4859, -6.5974, -5.6558, -6.8792, -6.907, -6.9611, -6.9919, -7.0224, -7.0403, -7.0512, -7.0759, -7.096, -7.1305, -7.1091, -3.2697, -3.6716, -3.607, -3.7145, -3.5421, -3.7098, -4.415, -4.0255, -6.4262, -4.7906, -3.5196, -3.9351, -3.5546, -5.3196, -3.758, -3.944, -3.7608, -5.1708, -4.875, -5.5638, -3.8933, -2.8876, -5.4582, -4.8968, -4.7801, -5.3061, -5.3827, -2.3321, -4.3149, -5.4728, -5.6378, -5.7491, -5.8912, -5.9525, -5.9156, -6.0652, -6.1388, -6.3723, -6.4195, -6.4226, -6.4195, -6.1071, -6.4629, -5.8513, -6.1426, -6.528, -6.524, -6.605, -6.4403, -6.6721, -6.6942, -6.7169, -3.541, -6.6762, -6.7661, -6.803, -6.8217, -5.8661, -4.716, -4.2509, -6.1744, -4.4303, -4.3702, -6.1228, -4.4051, -3.9114, -4.234, -5.2011, -4.2584, -4.2152, -4.9889, -4.9181, -5.4497, -3.0329, -4.6808, -4.7226, -5.6581, -5.279, -4.895, -5.3217, -5.2305, -5.4693, -5.4382, -5.6262, -5.6493, -5.6282, -5.6443], \"loglift\": [30.0, 29.0, 28.0, 27.0, 26.0, 25.0, 24.0, 23.0, 22.0, 21.0, 20.0, 19.0, 18.0, 17.0, 16.0, 15.0, 14.0, 13.0, 12.0, 11.0, 10.0, 9.0, 8.0, 7.0, 6.0, 5.0, 4.0, 3.0, 2.0, 1.0, 1.3953, 1.3867, 1.3825, 1.3823, 1.3814, 1.3788, 1.3766, 1.3742, 1.3723, 1.3719, 1.3689, 1.3679, 1.3665, 1.3662, 1.3647, 1.3628, 1.3622, 1.3621, 1.3602, 1.3579, 1.356, 1.3548, 1.3547, 1.3532, 1.3508, 1.3502, 1.3496, 1.3489, 1.348, 1.3455, 1.2747, 1.2206, 1.2527, 1.0723, 1.2075, 1.224, 1.0777, 1.1065, 1.1868, 1.1823, 1.1364, 1.0542, 1.2579, 1.0733, 0.9002, 1.1449, 0.5737, 0.5737, 0.9937, 1.0095, 0.0233, 0.8534, 0.8415, 0.6802, 0.5528, 0.1664, 0.7138, 0.4203, 0.0182, 0.2448, 0.3832, -0.0152, 0.2742, 0.3042, 0.2623, 0.1618, 0.2331, -0.0123, -0.0847, -0.3785, -0.4019, 1.4617, 1.4582, 1.4574, 1.4516, 1.4458, 1.4453, 1.4424, 1.4353, 1.4297, 1.428, 1.4259, 1.425, 1.4241, 1.4238, 1.4159, 1.4139, 1.4129, 1.4101, 1.4018, 1.4003, 1.3994, 1.3984, 1.3974, 1.3972, 1.3961, 1.396, 1.3934, 1.3933, 1.3928, 1.3925, 1.3904, 1.3219, 1.2992, 1.2465, 1.3606, 1.2614, 1.173, 1.2946, 1.0515, 1.1797, 1.0142, 0.5728, 0.683, 0.9374, 0.6884, 0.9814, 0.8802, 1.0067, 0.66, 1.2132, 0.9221, 0.6938, 0.9592, -0.3196, 0.3436, 0.1854, 0.1561, -0.409, -0.3413, 0.379, 1.5313, 1.5287, 1.5242, 1.523, 1.5221, 1.5216, 1.5216, 1.517, 1.5145, 1.5139, 1.5133, 1.5075, 1.506, 1.506, 1.503, 1.5026, 1.501, 1.5, 1.4976, 1.4945, 1.4907, 1.4861, 1.4857, 1.4855, 1.4845, 1.4839, 1.4828, 1.482, 1.4818, 1.4815, 1.472, 1.3251, 1.4164, 1.3516, 1.3928, 1.2733, 1.1555, 1.2106, 0.964, 1.3135, 0.9607, 1.2355, 0.6468, 1.055, 1.0208, 1.1547, 1.1341, 0.6531, 0.0908, 0.6353, 0.2437, -0.4346, 0.9251, 0.7508, 0.7737, 0.2537, 0.7971, 0.7509, 0.6638, 0.4917, -0.8607, 0.3567, -0.0194, -0.1357, -0.1361, 1.6912, 1.6906, 1.685, 1.6807, 1.6805, 1.6722, 1.6704, 1.6658, 1.6653, 1.6645, 1.6599, 1.6594, 1.658, 1.658, 1.657, 1.6561, 1.6549, 1.6501, 1.6472, 1.635, 1.6333, 1.6306, 1.6252, 1.6247, 1.6243, 1.6228, 1.6222, 1.62, 1.6179, 1.6166, 1.5614, 1.5557, 1.544, 1.5177, 1.4969, 1.4539, 1.4901, 1.4666, 1.5843, 1.4171, 1.264, 1.3034, 1.2367, 1.4472, 1.0946, 1.1226, 1.0632, 1.3847, 1.2893, 1.4409, 0.7937, -0.3787, 1.2643, 0.4411, 0.2204, 0.1811, 0.0252, 2.0733, 2.0708, 2.0558, 2.0519, 2.048, 2.044, 2.0422, 2.0409, 2.0373, 2.0348, 2.0238, 2.0214, 2.021, 2.0197, 2.0197, 2.0184, 2.0175, 2.0174, 2.0152, 2.0138, 2.0084, 2.0064, 2.0049, 2.0041, 2.0017, 2.0012, 2.0006, 1.9994, 1.9955, 1.9949, 1.9946, 1.9794, 1.7582, 1.9323, 1.5598, 1.5149, 1.8795, 1.4715, 1.2864, 1.3154, 1.5775, 1.2582, 1.1227, 1.2967, 1.1973, 1.4445, -0.524, 0.3196, 0.0687, 1.3208, 0.608, -0.208, 0.4778, -0.3155, 0.2862, -0.0794, 0.8051, 0.8069, -0.4773, -0.3293]}, \"token.table\": {\"Topic\": [1, 2, 3, 2, 5, 2, 3, 4, 3, 4, 5, 3, 1, 2, 3, 4, 5, 1, 4, 5, 1, 2, 5, 5, 1, 2, 3, 5, 4, 1, 2, 3, 5, 3, 4, 5, 3, 1, 2, 3, 5, 5, 1, 2, 3, 4, 3, 1, 1, 2, 3, 5, 2, 4, 2, 4, 5, 1, 3, 1, 2, 3, 2, 4, 2, 3, 4, 5, 2, 2, 1, 2, 3, 4, 5, 5, 3, 1, 2, 3, 4, 5, 1, 2, 3, 5, 1, 2, 3, 4, 1, 2, 3, 5, 1, 2, 3, 5, 3, 1, 2, 3, 1, 2, 3, 4, 5, 1, 2, 3, 4, 5, 1, 2, 3, 4, 5, 4, 1, 2, 3, 4, 5, 3, 1, 3, 4, 5, 5, 4, 1, 5, 4, 3, 2, 3, 1, 4, 3, 5, 1, 2, 3, 5, 1, 2, 3, 4, 5, 4, 1, 3, 4, 5, 1, 3, 4, 2, 3, 4, 5, 1, 1, 3, 4, 5, 3, 5, 1, 3, 1, 2, 3, 5, 2, 4, 1, 2, 3, 4, 1, 2, 4, 3, 5, 1, 2, 4, 5, 2, 3, 3, 2, 1, 2, 3, 4, 1, 2, 3, 4, 5, 5, 1, 2, 5, 5, 1, 2, 4, 1, 5, 5, 1, 2, 3, 4, 5, 1, 2, 1, 2, 3, 5, 1, 2, 4, 1, 3, 1, 1, 2, 4, 1, 3, 4, 5, 3, 1, 2, 3, 4, 5, 1, 2, 3, 4, 1, 2, 5, 5, 1, 5, 1, 3, 4, 5, 2, 3, 4, 4, 2, 2, 3, 1, 3, 5, 3, 4, 2, 3, 3, 3, 5, 1, 2, 3, 4, 5, 1, 2, 4, 5, 2, 1, 2, 3, 4, 2, 2, 3, 1, 2, 3, 1, 2, 3, 2, 1, 2, 3, 1, 2, 3, 4, 5, 3, 4, 1, 3, 5, 1, 2, 3, 4, 5, 1, 5, 1, 1, 2, 4, 3, 1, 3, 5, 1, 3, 4, 4, 5, 1, 2, 3, 4, 5, 4, 1, 2, 4, 5, 1, 3, 4, 5, 2, 2, 4, 4, 3, 4, 5, 3, 3, 3, 5, 1, 3, 4, 5, 2, 1, 2, 3, 5, 1, 4, 1, 2, 3, 1, 3, 1, 4, 5, 1, 2, 3, 4, 5, 1, 2, 3, 4, 5, 4, 5, 4, 2, 3, 2, 2, 4, 3, 1, 3, 4, 2, 1, 1, 2, 3, 5, 1, 2, 3, 4, 5, 1, 2, 3, 4, 1, 2, 3, 4, 1, 1, 2, 3, 4, 5, 4, 2, 1, 2, 5, 1, 2, 3, 2, 5, 2, 2, 1, 3, 1, 4, 1, 1, 2, 5, 1, 1, 1, 2, 3, 4, 5, 1, 2, 3, 4, 4, 5, 2, 3, 5, 1, 5, 1, 2, 3, 4, 1, 1, 2, 3, 4, 1, 2, 4, 5, 1, 2, 1, 3, 1, 1, 3, 1, 2, 3, 4, 5, 5, 3, 5, 1, 4, 1, 2, 3, 4, 5, 2, 4, 5, 5, 1, 3, 4, 4, 1, 3, 5, 1, 5, 1, 2, 3, 4, 5, 1, 1, 2, 3, 4, 5, 1, 2, 3, 4, 4, 1, 2, 3, 4, 5, 1, 2, 4, 5, 1, 2, 3, 5, 3, 3, 4, 5, 1, 2, 3, 4, 5, 1, 2, 4, 4, 1, 2, 3, 4, 5, 1, 2, 3, 1, 2, 3, 4, 5, 1, 5, 1, 2, 3, 4, 5, 4, 1, 4, 2, 1, 2, 3, 4, 5, 1, 2, 3, 4, 5, 5, 3, 2], \"Freq\": [0.27094165369811846, 0.05890035949959097, 0.671464098295337, 0.9559605177736171, 0.042487134123271875, 0.13632740886032957, 0.08520463053770598, 0.7668416748393537, 0.9724044145590623, 0.9434143964069516, 0.9459089250140915, 0.936578588401212, 0.26921457385240527, 0.09871201041254861, 0.34997894600812685, 0.1794763825682702, 0.09871201041254861, 0.16214772190356094, 0.8367980648237342, 0.00289549503399216, 0.8742344293806019, 0.11240156949179167, 0.01248906327686574, 0.9198179751178045, 0.1479460086823398, 0.8487428919144758, 0.007786632035912623, 0.9592359483833862, 0.9401317629132474, 0.003947874573267609, 0.007895749146535219, 0.05921811859901414, 0.9277505247178882, 0.9956229952240045, 0.0024644133545148627, 0.0024644133545148627, 0.9457661113313715, 0.4343877034898405, 0.15426853021134523, 0.4100295145091018, 0.9073715546293025, 0.9632193137190178, 0.19205905115698083, 0.6081869953304393, 0.19205905115698083, 0.010669947286498935, 0.9716144759864231, 0.9419178886464626, 0.06948687207922619, 0.9291387466593672, 0.0009926696011318026, 0.0009926696011318026, 0.9972653151197942, 0.0015437543577705793, 0.958264880485665, 0.04043976908422407, 0.9301146889371537, 0.026258045419711707, 0.9715476805293332, 0.19110669006901532, 0.7856608369503963, 0.021234076674335037, 0.8842660800311155, 0.07368884000259296, 0.014406842546452506, 0.11525474037162005, 0.8672919212964408, 0.0028813685092905013, 0.9144572469753129, 0.9109145088405742, 0.011933368587956981, 0.002386673717591396, 0.11217366472679563, 0.8186290851338489, 0.05489349550460212, 0.9474511496642035, 0.9648918229368851, 0.21162918991962, 0.21547699337270398, 0.09234728287401599, 0.03847803453084, 0.43864959365157596, 0.2617074771204137, 0.556128388880879, 0.16824052100598022, 0.009346695611443346, 0.30407397461783153, 0.21051275165849875, 0.45611096192674727, 0.029237882174791494, 0.13284758717627332, 0.09133271618368789, 0.3155130195436491, 0.4566635809184395, 0.42896506143559937, 0.23490943840520917, 0.13277489996816172, 0.20426907687409493, 0.9488699991145004, 0.6675923394894289, 0.009964064768498938, 0.3088860078234671, 0.160674744522632, 0.24661704973241189, 0.3064030011826936, 0.22046069597291368, 0.06725919538156688, 0.1865575408131784, 0.4637287443070435, 0.1865575408131784, 0.14924603265054273, 0.010660430903610194, 0.19211599592750125, 0.2305391951130015, 0.21132759552025138, 0.08645219816737557, 0.2785681940948768, 0.9516187344963577, 0.25077936230786874, 0.41029709163031136, 0.13936411870482773, 0.12548474535496085, 0.07415007680065869, 0.9676654144868916, 0.28846233412214417, 0.011655043802914915, 0.6759925405690651, 0.02331008760582983, 0.9299891131198744, 0.8962443057741721, 0.9456295254233498, 0.9804074111132765, 0.9388106248997573, 0.9788184787521595, 0.9578152163644793, 0.9775427150073606, 0.9562736107520007, 0.8771126817409933, 0.5148846947154331, 0.46505714361393957, 0.28448385580334673, 0.012368863295797684, 0.6802874812688726, 0.024737726591595368, 0.0019388420884987126, 0.005816526265496138, 0.09888094651343435, 0.8744177819129194, 0.019388420884987125, 0.916493286466321, 0.12090369723534873, 0.08060246482356583, 0.7791571599611362, 0.013433744137260971, 0.43551795259124787, 0.5641358274793065, 0.9525842274927259, 0.9926330414795057, 0.022966444903253266, 0.9416242410333839, 0.9072179938016253, 0.9194120020049541, 0.5010324885850982, 0.015905793288415817, 0.015905793288415817, 0.46524445368616263, 0.8627217704523307, 0.10457233581240372, 0.9294157620063934, 0.9317983732074235, 0.2940622583918972, 0.08206388606285504, 0.5402539165804623, 0.08206388606285504, 0.9615054304734006, 0.03226528290179197, 0.25718475717618583, 0.5810470439906421, 0.13335505927654082, 0.028576084130687317, 0.22797535709927869, 0.10295661288354521, 0.6618639399656477, 0.9859573750807413, 0.9784442197608838, 0.001266697213184523, 0.001266697213184523, 0.001266697213184523, 0.995624009563035, 0.22535554047393527, 0.7662088376113799, 0.9478677440921223, 0.9477167346439443, 0.4254639458583362, 0.028877643384049967, 0.013476233579223318, 0.5313486382665193, 0.22574135709590407, 0.12023180975760107, 0.08833357451578855, 0.5643533927397602, 0.0024537104032163483, 0.9341008505415322, 0.9749648541754559, 0.13863695513647167, 0.83182173081883, 0.9221990288898255, 0.7777895740159256, 0.03535407154617844, 0.1767703577308922, 0.9616666869740815, 0.8922137460087504, 0.9524812370168116, 0.6050262525626262, 0.1143356697756144, 0.1333916147382168, 0.1143356697756144, 0.0333479036845542, 0.9751239300216119, 0.963144870666275, 0.36299444535754777, 0.03024953711312898, 0.5974283579842974, 0.007562384278282245, 0.7979863165516478, 0.17617879716075338, 0.02072691731302981, 0.8638889038715967, 0.11146953598343182, 0.9530433613100256, 0.19963541429964637, 0.7541782317986641, 0.03327256904994106, 0.7420848949173385, 0.0552249224124531, 0.1863841131420292, 0.013806230603113276, 0.9822881527729856, 0.24302560155030958, 0.27922090390886634, 0.4136605983835057, 0.03878068109845366, 0.028439166138866018, 0.32980601855950326, 0.04566544872362353, 0.4668023647303739, 0.1572921011591477, 0.9553520527775133, 0.9515157152392526, 0.9711739995647741, 0.9699192321636497, 0.04011290686345661, 0.922596857859502, 0.3089219653857208, 0.5619750646910453, 0.013145615548328543, 0.11502413604787476, 0.8043559938394256, 0.1873157793872635, 0.005509287629037161, 0.9655927150138542, 0.9804099402300863, 0.9938521191538501, 0.9793770771191981, 0.20165134774346866, 0.7212913592362533, 0.07755821067056487, 0.9910131256008422, 0.9554484821819553, 0.18593602528581946, 0.7995249087290237, 0.9933224823103746, 0.9744378719871214, 0.9314919362729921, 0.24172488337186313, 0.1645072122947402, 0.08728954121761724, 0.4062320956666033, 0.10239734642835868, 0.3003823420254628, 0.11125271926868993, 0.01668790789030349, 0.5673888682703186, 0.9177553383445437, 0.06440909312901386, 0.8138967222666297, 0.0995413257448396, 0.017566116307912872, 0.9862903472217818, 0.9366515513134394, 0.9769729736983448, 0.20477025521285802, 0.3367333085722554, 0.4550450115841289, 0.20018258592444693, 0.11756755046356407, 0.6831627932342237, 0.9691863117932761, 0.32275568938744686, 0.2713432786885615, 0.4055867955134288, 0.7160446273722093, 0.16823101084147749, 0.09109982536542102, 0.02490061893321508, 0.0006073321691028069, 0.2610008558396433, 0.7286273892190042, 0.8239504594482623, 0.009363073402821163, 0.16853532125078094, 0.005515314770051525, 0.1764900726416488, 0.06066846247056677, 0.20958196126195794, 0.546016162235101, 0.926322666694811, 0.9507264976431863, 0.9680190859227569, 0.7024140217988623, 0.2835432748545866, 0.0064441653376042405, 0.9798524188585757, 0.7189763733635585, 0.18765072501277627, 0.09066270983763347, 0.009882932987231138, 0.0024707332468077844, 0.9882932987231138, 0.9629571117519291, 0.020488449186211257, 0.37205298700023276, 0.016076363635812527, 0.2112893506421075, 0.22966233765446467, 0.1722467532408485, 0.92674005853102, 0.7120005604399805, 0.043815419103998804, 0.10953854775999701, 0.1314462573119964, 0.20308519612643852, 0.3501468898731699, 0.02801175118985359, 0.41317333005034046, 0.9601362858822357, 0.09318872759000892, 0.8852929121050848, 0.9672704891730022, 0.9620161985944303, 0.9835698214858389, 0.011709164541498082, 0.9209523740189957, 0.9539970990772569, 0.3805966128571903, 0.6116731278061986, 0.10815284338983706, 0.10274520122034521, 0.7841081145763187, 0.0027038210847459263, 0.9735702701420744, 0.009867149244702757, 0.0690700447129193, 0.8288405365550315, 0.08880434320232482, 0.8354459817480494, 0.15296898257358651, 0.5673349638488557, 0.27556269672658706, 0.1512893236930282, 0.9578317186063904, 0.9678752062979601, 0.9413507324413848, 0.9703172700671372, 0.9390581364388855, 0.02831140282076045, 0.8682163531699871, 0.0062914228490578775, 0.0062914228490578775, 0.09122563131133923, 0.13863075859927607, 0.6147972772663548, 0.006027424286925046, 0.1687678800339013, 0.07232909144310055, 0.9641187725724999, 0.970652436802796, 0.9046965044191807, 0.636131126143345, 0.3599162950547873, 0.9951817264554966, 0.9300763018432389, 0.9496669785386499, 0.9829450357723317, 0.7661809714982286, 0.009459024339484303, 0.21755755980813898, 0.973313590718274, 0.9723314748100921, 0.05475779605211743, 0.018252598684039147, 0.8943773355179181, 0.03650519736807829, 0.3186223506033758, 0.006436815163704562, 0.003218407581852281, 0.286438274784853, 0.38620890982227374, 0.24998165127462899, 0.46059611337215106, 0.2745861445103208, 0.01574687567084277, 0.4823712465685337, 0.32666913533438674, 0.18012597181989548, 0.009158947719655704, 0.9612921288616161, 0.28953755431855716, 0.4580389178973896, 0.23542725728197436, 0.016612810493687707, 0.0004746517283910773, 0.9252806039267446, 0.9631373542131815, 0.01250754250411202, 0.07504525502467212, 0.9005430602960655, 0.05778951182923311, 0.9314309553652865, 0.006798766097556836, 0.9895719803061345, 0.9366795225087573, 0.9393636305553187, 0.9223887544617001, 0.05075051704562644, 0.913509306821276, 0.9391322418588199, 0.9777905822954528, 0.9313234616971051, 0.9864855830489853, 0.8503738112419256, 0.15006596668975158, 0.9805707536951452, 0.9231180177554736, 0.011264976271136125, 0.02252995254227225, 0.1351797152536335, 0.7960583231602861, 0.03754992090378708, 0.16988177566632848, 0.24017768283860233, 0.4744973734128485, 0.11130185302276693, 0.9957905875004261, 0.9368975084878689, 0.24449220449171638, 0.7334766134751491, 0.9421538840984076, 0.9242235922583782, 0.9269101768969917, 0.05805705709450333, 0.66149858992525, 0.2779701521494402, 0.0017593047604394947, 0.9850623832915959, 0.8621732954508634, 0.07737452651482107, 0.06632102272698949, 0.9515375638312715, 0.12206247344255024, 0.01525780918031878, 0.33567180196701313, 0.5340233213111573, 0.9811737418922741, 0.9645104720056891, 0.9918935501465244, 0.9780794880724107, 0.9654116665799272, 0.9547025900142279, 0.9637972368260525, 0.33073933499699065, 0.4472855768530731, 0.19529370256965162, 0.018899390571256607, 0.006299796857085536, 0.9324367662787921, 0.10259777596540724, 0.8720810957059616, 0.34697550903653374, 0.6553981837356748, 0.16769037192147326, 0.024221942610879472, 0.04285420615770983, 0.6316337342375493, 0.1341522975371786, 0.06140040755075373, 0.8596057057105522, 0.07741790517268948, 0.991101271751574, 0.9465711753710392, 0.004221199301171178, 0.9947959686426745, 0.9476924325060253, 0.35809333157572787, 0.18464187409373467, 0.45321187277553054, 0.8307037857502233, 0.16614075715004467, 0.3539382199588934, 0.1524656947515233, 0.4192806605666891, 0.016335610151948926, 0.05989723722381273, 0.9766818526391045, 0.5740824903726309, 0.1337667938732344, 0.055736164113847665, 0.0055736164113847665, 0.22851827286677542, 0.6588606925455404, 0.03660337180808558, 0.009150842952021395, 0.28367613151266324, 0.9404163594068653, 0.49235418438352224, 0.05908250212602267, 0.1575533390027271, 0.009847083687670444, 0.27571834325477246, 0.20737946294121012, 0.02304216254902335, 0.752710643268096, 0.007680720849674449, 0.16304849547091363, 0.0036640111341778346, 0.8097464606533014, 0.021984066805067006, 0.9884722267759172, 0.009776835575052312, 0.9581298863551265, 0.029330506725156934, 0.05050075424475618, 0.21041980935315077, 0.6144258433112002, 0.02525037712237809, 0.09258471611538634, 0.23307379289360655, 0.7494218879194426, 0.017928753299508198, 0.9448846768476347, 0.012357372917896136, 0.2162540260631824, 0.1544671614737017, 0.018536059376844202, 0.5931539000590145, 0.25102947303064294, 0.5919799513259938, 0.15736175921323886, 0.3129713527715558, 0.05744410905300708, 0.07527159117290583, 0.5486902830235504, 0.0059424940399662495, 0.7969719162762009, 0.1891119801333358, 0.16085475910661073, 0.049920442481361946, 0.12202774828777366, 0.6489657522577054, 0.018489052770874797, 0.968715450363547, 0.18159938994279992, 0.8115222738068871, 0.9278586740008259, 0.9785165323330137, 0.006296638545892933, 0.23927226474393143, 0.02518655418357173, 0.7241134327776872, 0.21520314737303822, 0.6368256401855212, 0.11858132610351085, 0.02195950483398349, 0.004391900966796699, 0.9786250544838038, 0.9806875168252505, 0.9289372156521641], \"Term\": [\"able\", \"able\", \"able\", \"absolute\", \"absolute\", \"absolutely\", \"absolutely\", \"absolutely\", \"achieve\", \"across\", \"ago\", \"ahead\", \"also\", \"also\", \"also\", \"also\", \"also\", \"amaze\", \"amaze\", \"amaze\", \"amazing\", \"amazing\", \"amazing\", \"answer\", \"anyone\", \"anyone\", \"anyone\", \"ask\", \"aspect\", \"assignment\", \"assignment\", \"assignment\", \"assignment\", \"awesome\", \"awesome\", \"awesome\", \"back\", \"basic\", \"basic\", \"basic\", \"basically\", \"begginers\", \"begin\", \"begin\", \"begin\", \"begin\", \"begineers\", \"beginers\", \"beginner\", \"beginner\", \"beginner\", \"beginner\", \"best\", \"best\", \"better\", \"bonus\", \"bonus\", \"book\", \"book\", \"c\", \"c\", \"c\", \"career\", \"career\", \"charles\", \"charles\", \"charles\", \"charles\", \"check\", \"choice\", \"chuck\", \"chuck\", \"chuck\", \"chuck\", \"chuck\", \"chuk\", \"chunk\", \"class\", \"class\", \"class\", \"class\", \"class\", \"clear\", \"clear\", \"clear\", \"clear\", \"cod\", \"cod\", \"cod\", \"cod\", \"code\", \"code\", \"code\", \"code\", \"complete\", \"complete\", \"complete\", \"complete\", \"complex\", \"computer\", \"computer\", \"computer\", \"concept\", \"concept\", \"concept\", \"concept\", \"concept\", \"content\", \"content\", \"content\", \"content\", \"content\", \"could\", \"could\", \"could\", \"could\", \"could\", \"cours\", \"course\", \"course\", \"course\", \"course\", \"course\", \"coursei\", \"coursera\", \"coursera\", \"coursera\", \"coursera\", \"coursethank\", \"couse\", \"create\", \"curso\", \"de\", \"deep\", \"deliver\", \"delivery\", \"develop\", \"didactic\", \"difficult\", \"difficult\", \"dont\", \"dont\", \"dont\", \"dont\", \"dr\", \"dr\", \"dr\", \"dr\", \"dr\", \"drcharles\", \"drchuck\", \"drchuck\", \"drchuck\", \"drchuck\", \"easy\", \"easy\", \"educational\", \"effective\", \"effort\", \"effort\", \"el\", \"enhance\", \"enjoy\", \"enjoy\", \"enjoy\", \"enjoy\", \"enough\", \"enough\", \"entire\", \"etc\", \"even\", \"even\", \"even\", \"even\", \"ever\", \"ever\", \"everyone\", \"everyone\", \"everyone\", \"everyone\", \"everything\", \"everything\", \"everything\", \"excelent\", \"excelente\", \"excellent\", \"excellent\", \"excellent\", \"excellent\", \"exercise\", \"exercise\", \"expect\", \"expectation\", \"experience\", \"experience\", \"experience\", \"experience\", \"explain\", \"explain\", \"explain\", \"explain\", \"explain\", \"extra\", \"fabulous\", \"faculty\", \"faculty\", \"fail\", \"fantastic\", \"fantastic\", \"fantastic\", \"fast\", \"final\", \"fine\", \"first\", \"first\", \"first\", \"first\", \"first\", \"flow\", \"focus\", \"follow\", \"follow\", \"follow\", \"follow\", \"forward\", \"forward\", \"forward\", \"free\", \"free\", \"friend\", \"friendly\", \"friendly\", \"friendly\", \"fun\", \"fun\", \"fun\", \"fun\", \"gain\", \"get\", \"get\", \"get\", \"get\", \"get\", \"give\", \"give\", \"give\", \"give\", \"glad\", \"goal\", \"grade\", \"great\", \"guidance\", \"guidance\", \"help\", \"help\", \"help\", \"help\", \"helpful\", \"helpful\", \"helpful\", \"helpfull\", \"high\", \"highly\", \"idea\", \"im\", \"im\", \"im\", \"improve\", \"incredible\", \"information\", \"information\", \"informative\", \"insight\", \"insightful\", \"instructor\", \"instructor\", \"instructor\", \"instructor\", \"instructor\", \"interest\", \"interest\", \"interest\", \"interest\", \"intermediate\", \"introduction\", \"introduction\", \"introduction\", \"introduction\", \"introductory\", \"java\", \"journey\", \"know\", \"know\", \"know\", \"knowledge\", \"knowledge\", \"knowledge\", \"kudos\", \"language\", \"language\", \"language\", \"learn\", \"learn\", \"learn\", \"learn\", \"learn\", \"learning\", \"learning\", \"learnt\", \"learnt\", \"learnt\", \"lecture\", \"lecture\", \"lecture\", \"lecture\", \"lecture\", \"less\", \"listen\", \"logic\", \"look\", \"look\", \"look\", \"loop\", \"lot\", \"lot\", \"lot\", \"love\", \"love\", \"love\", \"loved\", \"loved\", \"make\", \"make\", \"make\", \"make\", \"make\", \"man\", \"many\", \"many\", \"many\", \"many\", \"material\", \"material\", \"material\", \"material\", \"maybe\", \"meet\", \"meet\", \"method\", \"methodology\", \"michigan\", \"michigan\", \"mind\", \"move\", \"mr\", \"mr\", \"much\", \"much\", \"much\", \"much\", \"must\", \"need\", \"need\", \"need\", \"need\", \"never\", \"never\", \"new\", \"new\", \"new\", \"newbie\", \"nicely\", \"non\", \"novice\", \"often\", \"one\", \"one\", \"one\", \"one\", \"one\", \"online\", \"online\", \"online\", \"online\", \"online\", \"organize\", \"outstanding\", \"patient\", \"people\", \"people\", \"perfect\", \"perfectly\", \"phyton\", \"place\", \"platform\", \"platform\", \"platform\", \"possible\", \"practical\", \"pretty\", \"pretty\", \"pretty\", \"pretty\", \"professor\", \"professor\", \"professor\", \"professor\", \"professor\", \"program\", \"program\", \"program\", \"program\", \"programming\", \"programming\", \"programming\", \"programming\", \"proper\", \"python\", \"python\", \"python\", \"python\", \"python\", \"pythonthank\", \"quality\", \"quiz\", \"quiz\", \"quiz\", \"recommend\", \"recommend\", \"recommend\", \"recommended\", \"refer\", \"reference\", \"refresher\", \"require\", \"require\", \"rest\", \"russell\", \"satisfy\", \"science\", \"scratch\", \"scratch\", \"section\", \"series\", \"severance\", \"severance\", \"severance\", \"severance\", \"severance\", \"simple\", \"simple\", \"simple\", \"simple\", \"sir\", \"slide\", \"someone\", \"someone\", \"sometimes\", \"special\", \"spend\", \"start\", \"start\", \"start\", \"start\", \"starter\", \"step\", \"step\", \"step\", \"structured\", \"style\", \"style\", \"style\", \"style\", \"suggest\", \"suitable\", \"super\", \"superb\", \"support\", \"syllabus\", \"syntax\", \"take\", \"take\", \"take\", \"take\", \"take\", \"talk\", \"task\", \"task\", \"taught\", \"taught\", \"teach\", \"teach\", \"teach\", \"teach\", \"teach\", \"teacher\", \"teacher\", \"teacher\", \"teaching\", \"term\", \"thank\", \"thank\", \"thankful\", \"thanks\", \"thanks\", \"thanks\", \"thing\", \"thing\", \"think\", \"think\", \"think\", \"think\", \"think\", \"thoroughly\", \"time\", \"time\", \"time\", \"time\", \"time\", \"topic\", \"topic\", \"topic\", \"topic\", \"towards\", \"try\", \"try\", \"try\", \"try\", \"try\", \"u\", \"u\", \"u\", \"u\", \"understand\", \"understand\", \"understand\", \"understand\", \"understanding\", \"university\", \"university\", \"university\", \"use\", \"use\", \"use\", \"use\", \"use\", \"useful\", \"useful\", \"useful\", \"usefull\", \"video\", \"video\", \"video\", \"video\", \"video\", \"want\", \"want\", \"want\", \"way\", \"way\", \"way\", \"way\", \"way\", \"week\", \"week\", \"well\", \"well\", \"well\", \"well\", \"well\", \"willing\", \"wonderful\", \"wonderful\", \"wont\", \"word\", \"work\", \"work\", \"work\", \"work\", \"would\", \"would\", \"would\", \"would\", \"would\", \"year\", \"zero\", \"\\u00f0\"]}, \"R\": 30, \"lambda.step\": 0.01, \"plot.opts\": {\"xlab\": \"PC1\", \"ylab\": \"PC2\"}, \"topic.order\": [2, 1, 3, 5, 4]};\n",
       "\n",
       "function LDAvis_load_lib(url, callback){\n",
       "  var s = document.createElement('script');\n",
       "  s.src = url;\n",
       "  s.async = true;\n",
       "  s.onreadystatechange = s.onload = callback;\n",
       "  s.onerror = function(){console.warn(\"failed to load library \" + url);};\n",
       "  document.getElementsByTagName(\"head\")[0].appendChild(s);\n",
       "}\n",
       "\n",
       "if(typeof(LDAvis) !== \"undefined\"){\n",
       "   // already loaded: just create the visualization\n",
       "   !function(LDAvis){\n",
       "       new LDAvis(\"#\" + \"ldavis_el275251403041952096801368057962\", ldavis_el275251403041952096801368057962_data);\n",
       "   }(LDAvis);\n",
       "}else if(typeof define === \"function\" && define.amd){\n",
       "   // require.js is available: use it to load d3/LDAvis\n",
       "   require.config({paths: {d3: \"https://d3js.org/d3.v5\"}});\n",
       "   require([\"d3\"], function(d3){\n",
       "      window.d3 = d3;\n",
       "      LDAvis_load_lib(\"https://cdn.jsdelivr.net/gh/bmabey/pyLDAvis@3.2.2/pyLDAvis/js/ldavis.v3.0.0.js\", function(){\n",
       "        new LDAvis(\"#\" + \"ldavis_el275251403041952096801368057962\", ldavis_el275251403041952096801368057962_data);\n",
       "      });\n",
       "    });\n",
       "}else{\n",
       "    // require.js not available: dynamically load d3 & LDAvis\n",
       "    LDAvis_load_lib(\"https://d3js.org/d3.v5.js\", function(){\n",
       "         LDAvis_load_lib(\"https://cdn.jsdelivr.net/gh/bmabey/pyLDAvis@3.2.2/pyLDAvis/js/ldavis.v3.0.0.js\", function(){\n",
       "                 new LDAvis(\"#\" + \"ldavis_el275251403041952096801368057962\", ldavis_el275251403041952096801368057962_data);\n",
       "            })\n",
       "         });\n",
       "}\n",
       "</script>"
      ],
      "text/plain": [
       "PreparedData(topic_coordinates=              x         y  topics  cluster       Freq\n",
       "topic                                                \n",
       "1      0.076243  0.032057       1        1  24.504217\n",
       "0      0.185555  0.025494       2        1  23.134660\n",
       "2      0.105061 -0.033370       3        1  21.508669\n",
       "4     -0.202063  0.205374       4        1  18.332557\n",
       "3     -0.164796 -0.229555       5        1  12.519897, topic_info=          Term         Freq        Total Category  logprob  loglift\n",
       "87   excellent   789.000000   789.000000  Default  30.0000  30.0000\n",
       "1     beginner  1007.000000  1007.000000  Default  29.0000  29.0000\n",
       "38       thank   710.000000   710.000000  Default  28.0000  28.0000\n",
       "70        best   647.000000   647.000000  Default  27.0000  27.0000\n",
       "10       learn  1646.000000  1646.000000  Default  26.0000  26.0000\n",
       "..         ...          ...          ...      ...      ...      ...\n",
       "102       help    35.187910   304.283963   Topic5  -5.4382  -0.0794\n",
       "354      could    29.156641   104.103773   Topic5  -5.6262   0.8051\n",
       "66         try    28.492740   101.552910   Topic5  -5.6493   0.8069\n",
       "50     teacher    29.099013   374.590347   Topic5  -5.6282  -0.4773\n",
       "193        one    28.634218   317.893114   Topic5  -5.6443  -0.3293\n",
       "\n",
       "[343 rows x 6 columns], token_table=      Topic      Freq      Term\n",
       "term                           \n",
       "676       1  0.270942      able\n",
       "676       2  0.058900      able\n",
       "676       3  0.671464      able\n",
       "380       2  0.955961  absolute\n",
       "380       5  0.042487  absolute\n",
       "...     ...       ...       ...\n",
       "236       4  0.021960     would\n",
       "236       5  0.004392     would\n",
       "2460      5  0.978625      year\n",
       "74        3  0.980688      zero\n",
       "675       2  0.928937         ð\n",
       "\n",
       "[587 rows x 3 columns], R=30, lambda_step=0.01, plot_opts={'xlab': 'PC1', 'ylab': 'PC2'}, topic_order=[2, 1, 3, 5, 4])"
      ]
     },
     "execution_count": 169,
     "metadata": {},
     "output_type": "execute_result"
    }
   ],
   "source": [
    "# Visualize the topics\n",
    "pyLDAvis.enable_notebook()\n",
    "vis = pyLDAvis.gensim.prepare(lda_model, corpus, dictionary)\n",
    "vis"
   ]
  },
  {
   "cell_type": "markdown",
   "metadata": {},
   "source": [
    "What is topic perplexity and topic coherence: https://towardsdatascience.com/evaluate-topic-model-in-python-latent-dirichlet-allocation-lda-7d57484bb5d0"
   ]
  },
  {
   "cell_type": "code",
   "execution_count": 170,
   "metadata": {},
   "outputs": [
    {
     "name": "stdout",
     "output_type": "stream",
     "text": [
      "\n",
      "Perplexity:  -6.405959468934978\n",
      "\n",
      "Coherence Score:  0.52767246853032\n"
     ]
    }
   ],
   "source": [
    "# Calculate Perplexity and Coherence\n",
    "\n",
    "# Compute Perplexity\n",
    "\n",
    "print('\\nPerplexity: ', lda_model.log_perplexity(corpus))  # a measure of how good the model is. The lower the better.\n",
    "\n",
    "# Compute Coherence Score\n",
    "\n",
    "coherence_model_lda = CoherenceModel(model = lda_model, texts = df['preprocessed'], dictionary = dictionary, coherence = 'c_v')\n",
    "coherence_lda = coherence_model_lda.get_coherence()\n",
    "print('\\nCoherence Score: ', coherence_lda)"
   ]
  },
  {
   "cell_type": "markdown",
   "metadata": {},
   "source": [
    "## Hyperparameter Tuning\n",
    "\n",
    "Code references\n",
    "\n",
    "Find the optimal number of topics, alpha and beta: https://towardsdatascience.com/evaluate-topic-model-in-python-latent-dirichlet-allocation-lda-7d57484bb5d0\n",
    "\n",
    "What is alpha and beta: https://www.thoughtvector.io/blog/lda-alpha-and-beta-parameters-the-intuition/"
   ]
  },
  {
   "cell_type": "markdown",
   "metadata": {},
   "source": [
    "## Calculate the coherence score\n",
    "\n",
    "Code reference: \n",
    "\n",
    "https://www.machinelearningplus.com/nlp/topic-modeling-gensim-python/#17howtofindtheoptimalnumberoftopicsforlda"
   ]
  },
  {
   "cell_type": "code",
   "execution_count": 159,
   "metadata": {},
   "outputs": [],
   "source": [
    "# Determine the optiomal number of topics by calculating the coherence score\n",
    "\n",
    "# Define function for calculating coherence score\n",
    "\n",
    "def compute_coherence_values(dictionary, corpus, texts, limit, start = 2, step = 3):\n",
    "    \"\"\"\n",
    "    Compute c_v coherence for various number of topics\n",
    "\n",
    "    Parameters:\n",
    "    ----------\n",
    "    dictionary : Gensim dictionary\n",
    "    corpus : Gensim corpus\n",
    "    texts : List of input texts\n",
    "    limit : Max num of topics\n",
    "\n",
    "    Returns:\n",
    "    -------\n",
    "    model_list : List of LDA topic models\n",
    "    coherence_values : Coherence values corresponding to the LDA model with respective number of topics\n",
    "    \"\"\"\n",
    "    coherence_values = []\n",
    "    model_list = []\n",
    "    for num_topics in range(start, limit, step):\n",
    "        model = LDA(corpus = corpus, num_topics = num_topics, id2word = dictionary, random_state = 100,\n",
    "                chunksize = 100, passes = 10)\n",
    "        model_list.append(model)\n",
    "        coherencemodel = CoherenceModel(model = model, texts = texts, dictionary = dictionary, coherence = 'c_v')\n",
    "        coherence_values.append(coherencemodel.get_coherence())\n",
    "\n",
    "    return model_list, coherence_values"
   ]
  },
  {
   "cell_type": "code",
   "execution_count": 160,
   "metadata": {},
   "outputs": [],
   "source": [
    "# Can take a long time to run.\n",
    "\n",
    "model_list, coherence_values = compute_coherence_values(dictionary = dictionary, corpus = corpus, texts = df['preprocessed'], start = 2, limit = 10, step = 1)"
   ]
  },
  {
   "cell_type": "code",
   "execution_count": 161,
   "metadata": {},
   "outputs": [
    {
     "data": {
      "image/png": "[encoded data removed]",
      "text/plain": [
       "<Figure size 432x288 with 1 Axes>"
      ]
     },
     "metadata": {
      "needs_background": "light"
     },
     "output_type": "display_data"
    }
   ],
   "source": [
    "# Show graph\n",
    "\n",
    "limit = 10; start = 2; step = 1;\n",
    "x = range(start, limit, step)\n",
    "plt.plot(x, coherence_values)\n",
    "plt.xlabel(\"Num Topics\")\n",
    "plt.ylabel(\"Coherence score\")\n",
    "plt.legend((\"coherence_values\"), loc = 'best')\n",
    "plt.show()\n"
   ]
  },
  {
   "cell_type": "code",
   "execution_count": 162,
   "metadata": {},
   "outputs": [
    {
     "name": "stdout",
     "output_type": "stream",
     "text": [
      "Num Topics = 2  has Coherence Value of 0.4329\n",
      "Num Topics = 3  has Coherence Value of 0.4675\n",
      "Num Topics = 4  has Coherence Value of 0.5219\n",
      "Num Topics = 5  has Coherence Value of 0.5434\n",
      "Num Topics = 6  has Coherence Value of 0.5255\n",
      "Num Topics = 7  has Coherence Value of 0.5455\n",
      "Num Topics = 8  has Coherence Value of 0.512\n",
      "Num Topics = 9  has Coherence Value of 0.5231\n"
     ]
    }
   ],
   "source": [
    "# Print the coherence scores\n",
    "\n",
    "for m, cv in zip(x, coherence_values):\n",
    "    print(\"Num Topics =\", m, \" has Coherence Value of\", round(cv, 4))"
   ]
  },
  {
   "cell_type": "markdown",
   "metadata": {},
   "source": [
    "## LDA Mallet Model\n",
    "\n",
    "Code reference:\n",
    "\n",
    "https://www.machinelearningplus.com/nlp/topic-modeling-gensim-python/#17howtofindtheoptimalnumberoftopicsforlda"
   ]
  },
  {
   "cell_type": "code",
   "execution_count": 37,
   "metadata": {},
   "outputs": [],
   "source": [
    "mallet_path = '/Users/siriamanda/Desktop/LNU-VT-2021/Thesis/11-data-analysis/mallet-2.0.8/bin/mallet' # update this path\n",
    "ldamallet = gensim.models.wrappers.LdaMallet(mallet_path, corpus = corpus, num_topics = 5, id2word = dictionary)"
   ]
  },
  {
   "cell_type": "code",
   "execution_count": 38,
   "metadata": {},
   "outputs": [
    {
     "name": "stdout",
     "output_type": "stream",
     "text": [
      "[(0,\n",
      "  [('learn', 0.11059089441394898),\n",
      "   ('teach', 0.08734258960284146),\n",
      "   ('dr', 0.08685824991927672),\n",
      "   ('lot', 0.08120762027768809),\n",
      "   ('chuck', 0.07265095253471102),\n",
      "   ('love', 0.07022925411688731),\n",
      "   ('teacher', 0.06700032289312238),\n",
      "   ('awesome', 0.06441717791411043),\n",
      "   ('fun', 0.0487568614788505),\n",
      "   ('amaze', 0.03293509848240232)]),\n",
      " (1,\n",
      "  [('python', 0.1848585690515807),\n",
      "   ('beginner', 0.178369384359401),\n",
      "   ('learn', 0.15574043261231282),\n",
      "   ('excellent', 0.13727121464226288),\n",
      "   ('basic', 0.051580698835274545),\n",
      "   ('clear', 0.03843594009983361),\n",
      "   ('give', 0.03410981697171381),\n",
      "   ('explanation', 0.03194675540765391),\n",
      "   ('interesting', 0.022628951747088188),\n",
      "   ('easily', 0.020632279534109815)]),\n",
      " (2,\n",
      "  [('python', 0.18637083993660855),\n",
      "   ('program', 0.1751188589540412),\n",
      "   ('start', 0.09873217115689382),\n",
      "   ('basic', 0.07321711568938194),\n",
      "   ('language', 0.060063391442155306),\n",
      "   ('programming', 0.05610142630744849),\n",
      "   ('recommend', 0.05229793977812995),\n",
      "   ('knowledge', 0.05039619651347068),\n",
      "   ('introduction', 0.031061806656101427),\n",
      "   ('cod', 0.028526148969889066)]),\n",
      " (3,\n",
      "  [('make', 0.07237560442988614),\n",
      "   ('charles', 0.058805178599282484),\n",
      "   ('coursera', 0.056309468101700205),\n",
      "   ('class', 0.04648260801746997),\n",
      "   ('severance', 0.04539073467477773),\n",
      "   ('assignment', 0.04305100608329434),\n",
      "   ('thing', 0.03493994696615193),\n",
      "   ('time', 0.030728435501481827),\n",
      "   ('complete', 0.030728435501481827),\n",
      "   ('lecture', 0.030728435501481827)]),\n",
      " (4,\n",
      "  [('easy', 0.13302827259356104),\n",
      "   ('understand', 0.09347932668736722),\n",
      "   ('experience', 0.09119137113907501),\n",
      "   ('instructor', 0.08955711717600916),\n",
      "   ('explain', 0.07043634580813858),\n",
      "   ('helpful', 0.06275535218172903),\n",
      "   ('professor', 0.05572806014054584),\n",
      "   ('enjoy', 0.042000326850792614),\n",
      "   ('concept', 0.040529498284033336),\n",
      "   ('wonderful', 0.029906847524105246)])]\n",
      "\n",
      "Coherence Score:  0.42154678160235204\n"
     ]
    }
   ],
   "source": [
    "# Show Topics\n",
    "pprint(ldamallet.show_topics(formatted = False))\n",
    "\n",
    "# Compute Coherence Score\n",
    "coherence_model_ldamallet = CoherenceModel(model = ldamallet, texts = df['preprocessed'], dictionary = dictionary, coherence = 'c_v')\n",
    "coherence_ldamallet = coherence_model_ldamallet.get_coherence()\n",
    "print('\\nCoherence Score: ', coherence_ldamallet)\n",
    "\n",
    "# The coherence score using the Mallet Model is lower than the original LDA Model"
   ]
  },
  {
   "cell_type": "code",
   "execution_count": null,
   "metadata": {},
   "outputs": [],
   "source": []
  },
  {
   "cell_type": "code",
   "execution_count": null,
   "metadata": {},
   "outputs": [],
   "source": []
  }
 ],
 "metadata": {
  "kernelspec": {
   "display_name": "Python 3",
   "language": "python",
   "name": "python3"
  },
  "language_info": {
   "codemirror_mode": {
    "name": "ipython",
    "version": 3
   },
   "file_extension": ".py",
   "mimetype": "text/x-python",
   "name": "python",
   "nbconvert_exporter": "python",
   "pygments_lexer": "ipython3",
   "version": "3.7.6"
  }
 },
 "nbformat": 4,
 "nbformat_minor": 4
}
