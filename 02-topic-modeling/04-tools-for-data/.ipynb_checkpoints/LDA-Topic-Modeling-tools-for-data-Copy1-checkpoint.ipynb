{
 "cells": [
  {
   "cell_type": "code",
   "execution_count": 44,
   "metadata": {},
   "outputs": [],
   "source": [
    "# Import the libraries\n",
    "\n",
    "import pandas as pd \n",
    "import numpy as np\n",
    "\n",
    "from pprint import pprint\n",
    "\n",
    "# libraries for visualization\n",
    "import pyLDAvis\n",
    "import pyLDAvis.gensim\n",
    "import matplotlib.pyplot as plt\n",
    "import seaborn as sns\n",
    "%matplotlib inline\n",
    "\n",
    "import re\n",
    "\n",
    "import spacy\n",
    "\n",
    "import gensim\n",
    "from gensim import corpora, models\n",
    "from gensim.utils import simple_preprocess\n",
    "from gensim.models import CoherenceModel\n",
    "\n",
    "import nltk\n",
    "from nltk import FreqDist\n",
    "from nltk.corpus import stopwords\n",
    "from nltk.tokenize import RegexpTokenizer\n",
    "from nltk.stem import WordNetLemmatizer, SnowballStemmer\n",
    "from nltk.tag import pos_tag, pos_tag_sents\n",
    "from nltk.corpus import wordnet\n",
    "\n",
    "import warnings\n",
    "warnings.filterwarnings(\"ignore\")\n"
   ]
  },
  {
   "cell_type": "markdown",
   "metadata": {},
   "source": [
    "Code references:\n",
    "\n",
    "https://www.analyticsvidhya.com/blog/2018/10/mining-online-reviews-topic-modeling-lda/\n"
   ]
  },
  {
   "cell_type": "code",
   "execution_count": 45,
   "metadata": {},
   "outputs": [],
   "source": [
    "df = pd.read_csv('/Users/siriamanda/Desktop/LNU-VT-2021/Thesis/11-data-analysis/sentiment-analysis-of-reviews/01-sentiment-analysis/04-tools-for-data/VADER-tools-for-data.csv')\n"
   ]
  },
  {
   "cell_type": "code",
   "execution_count": 46,
   "metadata": {},
   "outputs": [
    {
     "data": {
      "text/html": [
       "<div>\n",
       "<style scoped>\n",
       "    .dataframe tbody tr th:only-of-type {\n",
       "        vertical-align: middle;\n",
       "    }\n",
       "\n",
       "    .dataframe tbody tr th {\n",
       "        vertical-align: top;\n",
       "    }\n",
       "\n",
       "    .dataframe thead th {\n",
       "        text-align: right;\n",
       "    }\n",
       "</style>\n",
       "<table border=\"1\" class=\"dataframe\">\n",
       "  <thead>\n",
       "    <tr style=\"text-align: right;\">\n",
       "      <th></th>\n",
       "      <th>Unnamed: 0</th>\n",
       "      <th>date</th>\n",
       "      <th>review</th>\n",
       "      <th>rating</th>\n",
       "      <th>status</th>\n",
       "      <th>length</th>\n",
       "      <th>label</th>\n",
       "      <th>language_scores</th>\n",
       "      <th>language</th>\n",
       "      <th>scores</th>\n",
       "      <th>compound</th>\n",
       "      <th>sentiment</th>\n",
       "    </tr>\n",
       "  </thead>\n",
       "  <tbody>\n",
       "    <tr>\n",
       "      <th>0</th>\n",
       "      <td>0</td>\n",
       "      <td>2021-03-10</td>\n",
       "      <td>Some of the lab instructions are out of synch ...</td>\n",
       "      <td>3</td>\n",
       "      <td>completer</td>\n",
       "      <td>442</td>\n",
       "      <td>neu</td>\n",
       "      <td>{'language': 'en', 'score': 0.999997056713954}</td>\n",
       "      <td>en</td>\n",
       "      <td>{'neg': 0.075, 'neu': 0.895, 'pos': 0.029, 'co...</td>\n",
       "      <td>-0.3818</td>\n",
       "      <td>neg</td>\n",
       "    </tr>\n",
       "    <tr>\n",
       "      <th>1</th>\n",
       "      <td>1</td>\n",
       "      <td>2021-03-10</td>\n",
       "      <td>Very nice course.</td>\n",
       "      <td>5</td>\n",
       "      <td>completer</td>\n",
       "      <td>18</td>\n",
       "      <td>pos</td>\n",
       "      <td>{'language': 'en', 'score': 0.9999965592297603}</td>\n",
       "      <td>en</td>\n",
       "      <td>{'neg': 0.0, 'neu': 0.393, 'pos': 0.607, 'comp...</td>\n",
       "      <td>0.4754</td>\n",
       "      <td>pos</td>\n",
       "    </tr>\n",
       "    <tr>\n",
       "      <th>2</th>\n",
       "      <td>2</td>\n",
       "      <td>2021-03-10</td>\n",
       "      <td>I have learned much knowledge about data scien...</td>\n",
       "      <td>5</td>\n",
       "      <td>completer</td>\n",
       "      <td>210</td>\n",
       "      <td>pos</td>\n",
       "      <td>{'language': 'en', 'score': 0.9999959027806586}</td>\n",
       "      <td>en</td>\n",
       "      <td>{'neg': 0.0, 'neu': 0.727, 'pos': 0.273, 'comp...</td>\n",
       "      <td>0.8923</td>\n",
       "      <td>pos</td>\n",
       "    </tr>\n",
       "    <tr>\n",
       "      <th>3</th>\n",
       "      <td>3</td>\n",
       "      <td>2021-03-08</td>\n",
       "      <td>Clear Idea about the Data Science and its tools</td>\n",
       "      <td>5</td>\n",
       "      <td>completer</td>\n",
       "      <td>47</td>\n",
       "      <td>pos</td>\n",
       "      <td>{'language': 'en', 'score': 0.9999971743061971}</td>\n",
       "      <td>en</td>\n",
       "      <td>{'neg': 0.0, 'neu': 0.755, 'pos': 0.245, 'comp...</td>\n",
       "      <td>0.3818</td>\n",
       "      <td>pos</td>\n",
       "    </tr>\n",
       "    <tr>\n",
       "      <th>4</th>\n",
       "      <td>4</td>\n",
       "      <td>2021-03-08</td>\n",
       "      <td>Nice overview, though the course materials hav...</td>\n",
       "      <td>3</td>\n",
       "      <td>completer</td>\n",
       "      <td>450</td>\n",
       "      <td>neu</td>\n",
       "      <td>{'language': 'en', 'score': 0.9999962557747355}</td>\n",
       "      <td>en</td>\n",
       "      <td>{'neg': 0.055, 'neu': 0.873, 'pos': 0.072, 'co...</td>\n",
       "      <td>0.3400</td>\n",
       "      <td>pos</td>\n",
       "    </tr>\n",
       "  </tbody>\n",
       "</table>\n",
       "</div>"
      ],
      "text/plain": [
       "   Unnamed: 0        date                                             review  \\\n",
       "0           0  2021-03-10  Some of the lab instructions are out of synch ...   \n",
       "1           1  2021-03-10                                 Very nice course.    \n",
       "2           2  2021-03-10  I have learned much knowledge about data scien...   \n",
       "3           3  2021-03-08    Clear Idea about the Data Science and its tools   \n",
       "4           4  2021-03-08  Nice overview, though the course materials hav...   \n",
       "\n",
       "   rating     status  length label  \\\n",
       "0       3  completer     442   neu   \n",
       "1       5  completer      18   pos   \n",
       "2       5  completer     210   pos   \n",
       "3       5  completer      47   pos   \n",
       "4       3  completer     450   neu   \n",
       "\n",
       "                                   language_scores language  \\\n",
       "0   {'language': 'en', 'score': 0.999997056713954}       en   \n",
       "1  {'language': 'en', 'score': 0.9999965592297603}       en   \n",
       "2  {'language': 'en', 'score': 0.9999959027806586}       en   \n",
       "3  {'language': 'en', 'score': 0.9999971743061971}       en   \n",
       "4  {'language': 'en', 'score': 0.9999962557747355}       en   \n",
       "\n",
       "                                              scores  compound sentiment  \n",
       "0  {'neg': 0.075, 'neu': 0.895, 'pos': 0.029, 'co...   -0.3818       neg  \n",
       "1  {'neg': 0.0, 'neu': 0.393, 'pos': 0.607, 'comp...    0.4754       pos  \n",
       "2  {'neg': 0.0, 'neu': 0.727, 'pos': 0.273, 'comp...    0.8923       pos  \n",
       "3  {'neg': 0.0, 'neu': 0.755, 'pos': 0.245, 'comp...    0.3818       pos  \n",
       "4  {'neg': 0.055, 'neu': 0.873, 'pos': 0.072, 'co...    0.3400       pos  "
      ]
     },
     "execution_count": 46,
     "metadata": {},
     "output_type": "execute_result"
    }
   ],
   "source": [
    "df.head()"
   ]
  },
  {
   "cell_type": "code",
   "execution_count": 47,
   "metadata": {},
   "outputs": [],
   "source": [
    "df.drop(['Unnamed: 0', 'language_scores', 'language', 'scores'], axis = 1, inplace = True)"
   ]
  },
  {
   "cell_type": "code",
   "execution_count": 48,
   "metadata": {},
   "outputs": [
    {
     "data": {
      "text/html": [
       "<div>\n",
       "<style scoped>\n",
       "    .dataframe tbody tr th:only-of-type {\n",
       "        vertical-align: middle;\n",
       "    }\n",
       "\n",
       "    .dataframe tbody tr th {\n",
       "        vertical-align: top;\n",
       "    }\n",
       "\n",
       "    .dataframe thead th {\n",
       "        text-align: right;\n",
       "    }\n",
       "</style>\n",
       "<table border=\"1\" class=\"dataframe\">\n",
       "  <thead>\n",
       "    <tr style=\"text-align: right;\">\n",
       "      <th></th>\n",
       "      <th>date</th>\n",
       "      <th>review</th>\n",
       "      <th>rating</th>\n",
       "      <th>status</th>\n",
       "      <th>length</th>\n",
       "      <th>label</th>\n",
       "      <th>compound</th>\n",
       "      <th>sentiment</th>\n",
       "    </tr>\n",
       "  </thead>\n",
       "  <tbody>\n",
       "    <tr>\n",
       "      <th>0</th>\n",
       "      <td>2021-03-10</td>\n",
       "      <td>Some of the lab instructions are out of synch ...</td>\n",
       "      <td>3</td>\n",
       "      <td>completer</td>\n",
       "      <td>442</td>\n",
       "      <td>neu</td>\n",
       "      <td>-0.3818</td>\n",
       "      <td>neg</td>\n",
       "    </tr>\n",
       "    <tr>\n",
       "      <th>1</th>\n",
       "      <td>2021-03-10</td>\n",
       "      <td>Very nice course.</td>\n",
       "      <td>5</td>\n",
       "      <td>completer</td>\n",
       "      <td>18</td>\n",
       "      <td>pos</td>\n",
       "      <td>0.4754</td>\n",
       "      <td>pos</td>\n",
       "    </tr>\n",
       "    <tr>\n",
       "      <th>2</th>\n",
       "      <td>2021-03-10</td>\n",
       "      <td>I have learned much knowledge about data scien...</td>\n",
       "      <td>5</td>\n",
       "      <td>completer</td>\n",
       "      <td>210</td>\n",
       "      <td>pos</td>\n",
       "      <td>0.8923</td>\n",
       "      <td>pos</td>\n",
       "    </tr>\n",
       "    <tr>\n",
       "      <th>3</th>\n",
       "      <td>2021-03-08</td>\n",
       "      <td>Clear Idea about the Data Science and its tools</td>\n",
       "      <td>5</td>\n",
       "      <td>completer</td>\n",
       "      <td>47</td>\n",
       "      <td>pos</td>\n",
       "      <td>0.3818</td>\n",
       "      <td>pos</td>\n",
       "    </tr>\n",
       "    <tr>\n",
       "      <th>4</th>\n",
       "      <td>2021-03-08</td>\n",
       "      <td>Nice overview, though the course materials hav...</td>\n",
       "      <td>3</td>\n",
       "      <td>completer</td>\n",
       "      <td>450</td>\n",
       "      <td>neu</td>\n",
       "      <td>0.3400</td>\n",
       "      <td>pos</td>\n",
       "    </tr>\n",
       "    <tr>\n",
       "      <th>...</th>\n",
       "      <td>...</td>\n",
       "      <td>...</td>\n",
       "      <td>...</td>\n",
       "      <td>...</td>\n",
       "      <td>...</td>\n",
       "      <td>...</td>\n",
       "      <td>...</td>\n",
       "      <td>...</td>\n",
       "    </tr>\n",
       "    <tr>\n",
       "      <th>3031</th>\n",
       "      <td>2018-09-19</td>\n",
       "      <td>Another Great class.  Really introduces you to...</td>\n",
       "      <td>5</td>\n",
       "      <td>dropout</td>\n",
       "      <td>188</td>\n",
       "      <td>pos</td>\n",
       "      <td>0.8360</td>\n",
       "      <td>pos</td>\n",
       "    </tr>\n",
       "    <tr>\n",
       "      <th>3032</th>\n",
       "      <td>2018-09-19</td>\n",
       "      <td>Great introduction to the various open source ...</td>\n",
       "      <td>5</td>\n",
       "      <td>dropout</td>\n",
       "      <td>75</td>\n",
       "      <td>pos</td>\n",
       "      <td>0.6249</td>\n",
       "      <td>pos</td>\n",
       "    </tr>\n",
       "    <tr>\n",
       "      <th>3033</th>\n",
       "      <td>2018-09-19</td>\n",
       "      <td>Simple trivial materials</td>\n",
       "      <td>3</td>\n",
       "      <td>dropout</td>\n",
       "      <td>24</td>\n",
       "      <td>neu</td>\n",
       "      <td>-0.0258</td>\n",
       "      <td>neg</td>\n",
       "    </tr>\n",
       "    <tr>\n",
       "      <th>3034</th>\n",
       "      <td>2018-09-19</td>\n",
       "      <td>Very practical course!</td>\n",
       "      <td>5</td>\n",
       "      <td>dropout</td>\n",
       "      <td>22</td>\n",
       "      <td>pos</td>\n",
       "      <td>0.0000</td>\n",
       "      <td>neu</td>\n",
       "    </tr>\n",
       "    <tr>\n",
       "      <th>3035</th>\n",
       "      <td>2018-09-18</td>\n",
       "      <td>Great Course introducing us to these tools</td>\n",
       "      <td>5</td>\n",
       "      <td>dropout</td>\n",
       "      <td>42</td>\n",
       "      <td>pos</td>\n",
       "      <td>0.6249</td>\n",
       "      <td>pos</td>\n",
       "    </tr>\n",
       "  </tbody>\n",
       "</table>\n",
       "<p>3036 rows × 8 columns</p>\n",
       "</div>"
      ],
      "text/plain": [
       "            date                                             review  rating  \\\n",
       "0     2021-03-10  Some of the lab instructions are out of synch ...       3   \n",
       "1     2021-03-10                                 Very nice course.        5   \n",
       "2     2021-03-10  I have learned much knowledge about data scien...       5   \n",
       "3     2021-03-08    Clear Idea about the Data Science and its tools       5   \n",
       "4     2021-03-08  Nice overview, though the course materials hav...       3   \n",
       "...          ...                                                ...     ...   \n",
       "3031  2018-09-19  Another Great class.  Really introduces you to...       5   \n",
       "3032  2018-09-19  Great introduction to the various open source ...       5   \n",
       "3033  2018-09-19                           Simple trivial materials       3   \n",
       "3034  2018-09-19                             Very practical course!       5   \n",
       "3035  2018-09-18         Great Course introducing us to these tools       5   \n",
       "\n",
       "         status  length label  compound sentiment  \n",
       "0     completer     442   neu   -0.3818       neg  \n",
       "1     completer      18   pos    0.4754       pos  \n",
       "2     completer     210   pos    0.8923       pos  \n",
       "3     completer      47   pos    0.3818       pos  \n",
       "4     completer     450   neu    0.3400       pos  \n",
       "...         ...     ...   ...       ...       ...  \n",
       "3031    dropout     188   pos    0.8360       pos  \n",
       "3032    dropout      75   pos    0.6249       pos  \n",
       "3033    dropout      24   neu   -0.0258       neg  \n",
       "3034    dropout      22   pos    0.0000       neu  \n",
       "3035    dropout      42   pos    0.6249       pos  \n",
       "\n",
       "[3036 rows x 8 columns]"
      ]
     },
     "execution_count": 48,
     "metadata": {},
     "output_type": "execute_result"
    }
   ],
   "source": [
    "df"
   ]
  },
  {
   "cell_type": "code",
   "execution_count": 49,
   "metadata": {},
   "outputs": [
    {
     "data": {
      "text/plain": [
       "0"
      ]
     },
     "execution_count": 49,
     "metadata": {},
     "output_type": "execute_result"
    }
   ],
   "source": [
    "# Check for null values\n",
    "\n",
    "len(df[df['review'].isna()==True])"
   ]
  },
  {
   "cell_type": "code",
   "execution_count": 50,
   "metadata": {},
   "outputs": [],
   "source": [
    "# Drop null values\n",
    "\n",
    "# df.dropna(inplace = True)"
   ]
  },
  {
   "cell_type": "code",
   "execution_count": 51,
   "metadata": {},
   "outputs": [],
   "source": [
    "# Check for null values\n",
    "\n",
    "# len(df[df['review'].isna()==True])"
   ]
  },
  {
   "cell_type": "code",
   "execution_count": 52,
   "metadata": {},
   "outputs": [],
   "source": [
    "# Reset the index\n",
    "\n",
    "# df = df.reset_index(drop = True)"
   ]
  },
  {
   "cell_type": "code",
   "execution_count": 53,
   "metadata": {},
   "outputs": [],
   "source": [
    "# df"
   ]
  },
  {
   "cell_type": "code",
   "execution_count": 54,
   "metadata": {},
   "outputs": [],
   "source": [
    "# Define a function to plot the most frequent words\n",
    "\n",
    "def freq_words(x, terms = 30):\n",
    "    all_words = ' '.join([text for text in x])\n",
    "    all_words = all_words.split()\n",
    "\n",
    "    fdist = FreqDist(all_words)\n",
    "    words_df = pd.DataFrame({'word':list(fdist.keys()), 'count':list(fdist.values())})\n",
    "    \n",
    "    # selecting top 20 most frequent words\n",
    "    d = words_df.nlargest(columns=\"count\", n = terms) \n",
    "    plt.figure(figsize=(20,5))\n",
    "    ax = sns.barplot(data=d, x= \"word\", y = \"count\")\n",
    "    ax.set(ylabel = 'Count')\n",
    "    plt.xticks(rotation = 45)\n",
    "    plt.show()"
   ]
  },
  {
   "cell_type": "code",
   "execution_count": 55,
   "metadata": {},
   "outputs": [
    {
     "data": {
      "image/png": "[encoded data removed]",
      "text/plain": [
       "<Figure size 1440x360 with 1 Axes>"
      ]
     },
     "metadata": {
      "needs_background": "light"
     },
     "output_type": "display_data"
    }
   ],
   "source": [
    "# The most frquent words are stop words such as 'to' and 'the' we will remove these in the preprocessing steps\n",
    "\n",
    "freq_words(df['review'])"
   ]
  },
  {
   "cell_type": "markdown",
   "metadata": {},
   "source": [
    "## Preprocessing"
   ]
  },
  {
   "cell_type": "code",
   "execution_count": 56,
   "metadata": {},
   "outputs": [
    {
     "data": {
      "text/plain": [
       "0    some of the lab instructions are out of synch ...\n",
       "1                                    very nice course.\n",
       "2    i have learned much knowledge about data scien...\n",
       "3      clear idea about the data science and its tools\n",
       "4    nice overview, though the course materials hav...\n",
       "Name: preprocessed, dtype: object"
      ]
     },
     "execution_count": 56,
     "metadata": {},
     "output_type": "execute_result"
    }
   ],
   "source": [
    "# Covert to lowercase\n",
    "\n",
    "df['preprocessed'] =  df['review'].apply(lambda x: \" \".join(x.lower() for x in x.split()))\n",
    "df['preprocessed'].head()"
   ]
  },
  {
   "cell_type": "code",
   "execution_count": 57,
   "metadata": {},
   "outputs": [
    {
     "data": {
      "text/plain": [
       "0    some of the lab instructions are out of synch ...\n",
       "1                                     very nice course\n",
       "2    i have learned much knowledge about data scien...\n",
       "3      clear idea about the data science and its tools\n",
       "4    nice overview though the course materials have...\n",
       "Name: preprocessed, dtype: object"
      ]
     },
     "execution_count": 57,
     "metadata": {},
     "output_type": "execute_result"
    }
   ],
   "source": [
    "# Remove punctuations\n",
    "\n",
    "df['preprocessed'] = df['preprocessed'].str.replace('[^\\w\\s]','')\n",
    "df['preprocessed'].head()"
   ]
  },
  {
   "cell_type": "code",
   "execution_count": 58,
   "metadata": {},
   "outputs": [
    {
     "data": {
      "text/plain": [
       "0    lab instructions synch screenshots also extern...\n",
       "1                                               course\n",
       "2    learned much knowledge data science many tools...\n",
       "3                        clear idea data science tools\n",
       "4    overview though course materials updated detai...\n",
       "Name: preprocessed, dtype: object"
      ]
     },
     "execution_count": 58,
     "metadata": {},
     "output_type": "execute_result"
    }
   ],
   "source": [
    "# Remove stopwords\n",
    "\n",
    "stop = stopwords.words('english')\n",
    "stop.extend(['good', 'great', 'really', 'like', 'nice'])\n",
    "\n",
    "df['preprocessed'] = df['preprocessed'].apply(lambda x: \" \".join(x for x in x.split() if x not in stop))\n",
    "df['preprocessed'].head()"
   ]
  },
  {
   "cell_type": "code",
   "execution_count": 59,
   "metadata": {},
   "outputs": [
    {
     "data": {
      "text/html": [
       "<div>\n",
       "<style scoped>\n",
       "    .dataframe tbody tr th:only-of-type {\n",
       "        vertical-align: middle;\n",
       "    }\n",
       "\n",
       "    .dataframe tbody tr th {\n",
       "        vertical-align: top;\n",
       "    }\n",
       "\n",
       "    .dataframe thead th {\n",
       "        text-align: right;\n",
       "    }\n",
       "</style>\n",
       "<table border=\"1\" class=\"dataframe\">\n",
       "  <thead>\n",
       "    <tr style=\"text-align: right;\">\n",
       "      <th></th>\n",
       "      <th>date</th>\n",
       "      <th>review</th>\n",
       "      <th>rating</th>\n",
       "      <th>status</th>\n",
       "      <th>length</th>\n",
       "      <th>label</th>\n",
       "      <th>compound</th>\n",
       "      <th>sentiment</th>\n",
       "      <th>preprocessed</th>\n",
       "    </tr>\n",
       "  </thead>\n",
       "  <tbody>\n",
       "    <tr>\n",
       "      <th>20</th>\n",
       "      <td>2021-02-26</td>\n",
       "      <td>good</td>\n",
       "      <td>4</td>\n",
       "      <td>completer</td>\n",
       "      <td>4</td>\n",
       "      <td>pos</td>\n",
       "      <td>0.4404</td>\n",
       "      <td>pos</td>\n",
       "      <td></td>\n",
       "    </tr>\n",
       "    <tr>\n",
       "      <th>49</th>\n",
       "      <td>2021-02-08</td>\n",
       "      <td>good!</td>\n",
       "      <td>5</td>\n",
       "      <td>completer</td>\n",
       "      <td>5</td>\n",
       "      <td>pos</td>\n",
       "      <td>0.4926</td>\n",
       "      <td>pos</td>\n",
       "      <td></td>\n",
       "    </tr>\n",
       "    <tr>\n",
       "      <th>110</th>\n",
       "      <td>2021-01-05</td>\n",
       "      <td>very nice</td>\n",
       "      <td>5</td>\n",
       "      <td>dropout</td>\n",
       "      <td>9</td>\n",
       "      <td>pos</td>\n",
       "      <td>0.4754</td>\n",
       "      <td>pos</td>\n",
       "      <td></td>\n",
       "    </tr>\n",
       "    <tr>\n",
       "      <th>143</th>\n",
       "      <td>2020-12-17</td>\n",
       "      <td>Great</td>\n",
       "      <td>5</td>\n",
       "      <td>completer</td>\n",
       "      <td>5</td>\n",
       "      <td>pos</td>\n",
       "      <td>0.6249</td>\n",
       "      <td>pos</td>\n",
       "      <td></td>\n",
       "    </tr>\n",
       "    <tr>\n",
       "      <th>152</th>\n",
       "      <td>2020-12-13</td>\n",
       "      <td>nice!</td>\n",
       "      <td>5</td>\n",
       "      <td>completer</td>\n",
       "      <td>5</td>\n",
       "      <td>pos</td>\n",
       "      <td>0.4753</td>\n",
       "      <td>pos</td>\n",
       "      <td></td>\n",
       "    </tr>\n",
       "    <tr>\n",
       "      <th>...</th>\n",
       "      <td>...</td>\n",
       "      <td>...</td>\n",
       "      <td>...</td>\n",
       "      <td>...</td>\n",
       "      <td>...</td>\n",
       "      <td>...</td>\n",
       "      <td>...</td>\n",
       "      <td>...</td>\n",
       "      <td>...</td>\n",
       "    </tr>\n",
       "    <tr>\n",
       "      <th>2905</th>\n",
       "      <td>2018-12-08</td>\n",
       "      <td>vERY Good</td>\n",
       "      <td>5</td>\n",
       "      <td>completer</td>\n",
       "      <td>9</td>\n",
       "      <td>pos</td>\n",
       "      <td>0.4927</td>\n",
       "      <td>pos</td>\n",
       "      <td></td>\n",
       "    </tr>\n",
       "    <tr>\n",
       "      <th>2908</th>\n",
       "      <td>2018-12-08</td>\n",
       "      <td>Nice</td>\n",
       "      <td>5</td>\n",
       "      <td>dropout</td>\n",
       "      <td>4</td>\n",
       "      <td>pos</td>\n",
       "      <td>0.4215</td>\n",
       "      <td>pos</td>\n",
       "      <td></td>\n",
       "    </tr>\n",
       "    <tr>\n",
       "      <th>2928</th>\n",
       "      <td>2018-11-20</td>\n",
       "      <td>Great.</td>\n",
       "      <td>5</td>\n",
       "      <td>completer</td>\n",
       "      <td>6</td>\n",
       "      <td>pos</td>\n",
       "      <td>0.6249</td>\n",
       "      <td>pos</td>\n",
       "      <td></td>\n",
       "    </tr>\n",
       "    <tr>\n",
       "      <th>2935</th>\n",
       "      <td>2018-11-18</td>\n",
       "      <td>great!!!</td>\n",
       "      <td>5</td>\n",
       "      <td>dropout</td>\n",
       "      <td>8</td>\n",
       "      <td>pos</td>\n",
       "      <td>0.7163</td>\n",
       "      <td>pos</td>\n",
       "      <td></td>\n",
       "    </tr>\n",
       "    <tr>\n",
       "      <th>3003</th>\n",
       "      <td>2018-10-08</td>\n",
       "      <td>Very good</td>\n",
       "      <td>5</td>\n",
       "      <td>completer</td>\n",
       "      <td>9</td>\n",
       "      <td>pos</td>\n",
       "      <td>0.4927</td>\n",
       "      <td>pos</td>\n",
       "      <td></td>\n",
       "    </tr>\n",
       "  </tbody>\n",
       "</table>\n",
       "<p>98 rows × 9 columns</p>\n",
       "</div>"
      ],
      "text/plain": [
       "            date     review  rating     status  length label  compound  \\\n",
       "20    2021-02-26       good       4  completer       4   pos    0.4404   \n",
       "49    2021-02-08      good!       5  completer       5   pos    0.4926   \n",
       "110   2021-01-05  very nice       5    dropout       9   pos    0.4754   \n",
       "143   2020-12-17      Great       5  completer       5   pos    0.6249   \n",
       "152   2020-12-13      nice!       5  completer       5   pos    0.4753   \n",
       "...          ...        ...     ...        ...     ...   ...       ...   \n",
       "2905  2018-12-08  vERY Good       5  completer       9   pos    0.4927   \n",
       "2908  2018-12-08       Nice       5    dropout       4   pos    0.4215   \n",
       "2928  2018-11-20     Great.       5  completer       6   pos    0.6249   \n",
       "2935  2018-11-18   great!!!       5    dropout       8   pos    0.7163   \n",
       "3003  2018-10-08  Very good       5  completer       9   pos    0.4927   \n",
       "\n",
       "     sentiment preprocessed  \n",
       "20         pos               \n",
       "49         pos               \n",
       "110        pos               \n",
       "143        pos               \n",
       "152        pos               \n",
       "...        ...          ...  \n",
       "2905       pos               \n",
       "2908       pos               \n",
       "2928       pos               \n",
       "2935       pos               \n",
       "3003       pos               \n",
       "\n",
       "[98 rows x 9 columns]"
      ]
     },
     "execution_count": 59,
     "metadata": {},
     "output_type": "execute_result"
    }
   ],
   "source": [
    "df[(df['preprocessed']== \"\")]"
   ]
  },
  {
   "cell_type": "code",
   "execution_count": 60,
   "metadata": {},
   "outputs": [],
   "source": [
    "df = df[(df['preprocessed']!= \"\")]"
   ]
  },
  {
   "cell_type": "code",
   "execution_count": 61,
   "metadata": {},
   "outputs": [],
   "source": [
    "# Reset the index\n",
    "\n",
    "df = df.reset_index(drop = True)"
   ]
  },
  {
   "cell_type": "code",
   "execution_count": 62,
   "metadata": {},
   "outputs": [],
   "source": [
    "# Remove short words (length < 3)\n",
    "\n",
    "# df['review'] = df['review'].apply(lambda x: ' '.join([w for w in x.split() if len(w)>2]))\n",
    "# df['review'].head()"
   ]
  },
  {
   "cell_type": "code",
   "execution_count": 63,
   "metadata": {},
   "outputs": [
    {
     "data": {
      "image/png": "[encoded data removed]",
      "text/plain": [
       "<Figure size 1440x360 with 1 Axes>"
      ]
     },
     "metadata": {
      "needs_background": "light"
     },
     "output_type": "display_data"
    }
   ],
   "source": [
    "# Look at the most frequent words again \n",
    "\n",
    "freq_words(df['preprocessed'])"
   ]
  },
  {
   "cell_type": "code",
   "execution_count": 64,
   "metadata": {},
   "outputs": [
    {
     "data": {
      "text/plain": [
       "0    [lab, instructions, synch, screenshots, also, ...\n",
       "1                                             [course]\n",
       "2    [learned, much, knowledge, data, science, many...\n",
       "3                  [clear, idea, data, science, tools]\n",
       "4    [overview, though, course, materials, updated,...\n",
       "Name: preprocessed, dtype: object"
      ]
     },
     "execution_count": 64,
     "metadata": {},
     "output_type": "execute_result"
    }
   ],
   "source": [
    "# Tokenization\n",
    "\n",
    "tokenizer = RegexpTokenizer(r'\\w+')\n",
    "\n",
    "df['preprocessed'] = df['preprocessed'].apply(lambda x: tokenizer.tokenize(x.lower()))\n",
    "df['preprocessed'].head(5)\n"
   ]
  },
  {
   "cell_type": "code",
   "execution_count": 65,
   "metadata": {},
   "outputs": [
    {
     "data": {
      "text/plain": [
       "0    [(lab, NN), (instructions, NNS), (synch, VBP),...\n",
       "1                                       [(course, NN)]\n",
       "2    [(learned, VBN), (much, JJ), (knowledge, NN), ...\n",
       "3    [(clear, JJ), (idea, NN), (data, NNS), (scienc...\n",
       "4    [(overview, NN), (though, IN), (course, NN), (...\n",
       "Name: preprocessed, dtype: object"
      ]
     },
     "execution_count": 65,
     "metadata": {},
     "output_type": "execute_result"
    }
   ],
   "source": [
    "# Add speech tags\n",
    "\n",
    "df['preprocessed'] = df['preprocessed'].apply(nltk.tag.pos_tag)\n",
    "df['preprocessed'].head()"
   ]
  },
  {
   "cell_type": "code",
   "execution_count": 66,
   "metadata": {},
   "outputs": [],
   "source": [
    "# Define function to convert parts of speech tags to wordnet’s format\n",
    "\n",
    "def get_wordnet_pos(tag):\n",
    "    if tag.startswith('J'):\n",
    "        return wordnet.ADJ\n",
    "    elif tag.startswith('V'):\n",
    "        return wordnet.VERB\n",
    "    elif tag.startswith('N'):\n",
    "        return wordnet.NOUN\n",
    "    elif tag.startswith('R'):\n",
    "        return wordnet.ADV\n",
    "    else:\n",
    "        return wordnet.NOUN"
   ]
  },
  {
   "cell_type": "code",
   "execution_count": 67,
   "metadata": {},
   "outputs": [
    {
     "data": {
      "text/plain": [
       "0    [(lab, n), (instructions, n), (synch, v), (scr...\n",
       "1                                        [(course, n)]\n",
       "2    [(learned, v), (much, a), (knowledge, n), (dat...\n",
       "3    [(clear, a), (idea, n), (data, n), (science, n...\n",
       "4    [(overview, n), (though, n), (course, n), (mat...\n",
       "Name: preprocessed, dtype: object"
      ]
     },
     "execution_count": 67,
     "metadata": {},
     "output_type": "execute_result"
    }
   ],
   "source": [
    "# Apply the function to the tagged data\n",
    "\n",
    "df['preprocessed'] = df['preprocessed'].apply(lambda x: [(word, get_wordnet_pos(pos_tag)) for (word, pos_tag) in x])\n",
    "df['preprocessed'].head()"
   ]
  },
  {
   "cell_type": "code",
   "execution_count": 68,
   "metadata": {},
   "outputs": [
    {
     "data": {
      "text/plain": [
       "[('course', 'n')]"
      ]
     },
     "execution_count": 68,
     "metadata": {},
     "output_type": "execute_result"
    }
   ],
   "source": [
    "df['preprocessed'][1]"
   ]
  },
  {
   "cell_type": "code",
   "execution_count": 69,
   "metadata": {},
   "outputs": [
    {
     "data": {
      "text/plain": [
       "0    [lab, instruction, synch, screenshots, also, e...\n",
       "1                                             [course]\n",
       "2    [learn, much, knowledge, data, science, many, ...\n",
       "3                   [clear, idea, data, science, tool]\n",
       "4    [overview, though, course, material, update, d...\n",
       "Name: preprocessed, dtype: object"
      ]
     },
     "execution_count": 69,
     "metadata": {},
     "output_type": "execute_result"
    }
   ],
   "source": [
    "# Create lemmatizer\n",
    "\n",
    "lemmatizer = WordNetLemmatizer()\n",
    "\n",
    "# Apply to data \n",
    "\n",
    "df['preprocessed'] = df['preprocessed'].apply(lambda x: [lemmatizer.lemmatize(word, tag) for word, tag in x])\n",
    "df['preprocessed'].head()"
   ]
  },
  {
   "cell_type": "code",
   "execution_count": 70,
   "metadata": {},
   "outputs": [],
   "source": [
    "# Join reviews\n",
    "\n",
    "df['joined'] = df['preprocessed'].apply(lambda x: ' '.join(x))"
   ]
  },
  {
   "cell_type": "code",
   "execution_count": 71,
   "metadata": {},
   "outputs": [
    {
     "data": {
      "image/png": "[encoded data removed]",
      "text/plain": [
       "<Figure size 1440x360 with 1 Axes>"
      ]
     },
     "metadata": {
      "needs_background": "light"
     },
     "output_type": "display_data"
    }
   ],
   "source": [
    "# Most frequent words after lemmatizing \n",
    "\n",
    "freq_words(df['joined'], 35)"
   ]
  },
  {
   "cell_type": "markdown",
   "metadata": {},
   "source": [
    "## LDA Topic Modeling"
   ]
  },
  {
   "cell_type": "code",
   "execution_count": 72,
   "metadata": {},
   "outputs": [],
   "source": [
    "# Create a dictionary from 'df_sen['review']' containing the number of times a word appears in the training set\n",
    "\n",
    "dictionary = gensim.corpora.Dictionary(df['preprocessed'])"
   ]
  },
  {
   "cell_type": "code",
   "execution_count": 73,
   "metadata": {},
   "outputs": [],
   "source": [
    "# Gensim filter extremes\n",
    "\n",
    "# Filter out tokens that appear in:\n",
    "# Less than 50 documents, more than 0.5 documents, and keep only 100000 most frquent tokens\n",
    "\n",
    "# dictionary.filter_extremes(no_below = 50, no_above = 0.5, keep_n = 100000)"
   ]
  },
  {
   "cell_type": "code",
   "execution_count": 74,
   "metadata": {},
   "outputs": [],
   "source": [
    "# Gensim doc2bow\n",
    "# Create a dictionary reporting how many words and how many times those words appear\n",
    "\n",
    "corpus = [dictionary.doc2bow(doc) for doc in df['preprocessed']]\n"
   ]
  },
  {
   "cell_type": "code",
   "execution_count": 75,
   "metadata": {},
   "outputs": [],
   "source": [
    "# Add TF-IDF\n",
    "\n",
    "tfidf = models.TfidfModel(corpus)      # Create a TF-IDF model\n",
    "corpus_tfidf = tfidf[corpus]  "
   ]
  },
  {
   "cell_type": "code",
   "execution_count": 202,
   "metadata": {},
   "outputs": [],
   "source": [
    "# Creating the object for LDA model using gensim library\n",
    "LDA = gensim.models.LdaMulticore\n",
    "\n",
    "# Build LDA model\n",
    "lda_model = LDA(corpus = corpus, id2word = dictionary, num_topics = 4, random_state = 100,\n",
    "                chunksize = 100, passes = 10, alpha = 0.2)"
   ]
  },
  {
   "cell_type": "code",
   "execution_count": 203,
   "metadata": {},
   "outputs": [
    {
     "name": "stdout",
     "output_type": "stream",
     "text": [
      "Topic: 0\n",
      "Word: 0.046*\"course\" + 0.035*\"ibm\" + 0.033*\"watson\" + 0.032*\"video\" + 0.026*\"update\" + 0.022*\"studio\" + 0.019*\"need\" + 0.013*\"outdated\" + 0.012*\"material\" + 0.011*\"content\"\n",
      "\n",
      "Topic: 1\n",
      "Word: 0.049*\"tool\" + 0.043*\"course\" + 0.031*\"data\" + 0.026*\"ibm\" + 0.021*\"science\" + 0.018*\"use\" + 0.018*\"open\" + 0.017*\"source\" + 0.016*\"watson\" + 0.015*\"learn\"\n",
      "\n",
      "Topic: 2\n",
      "Word: 0.039*\"course\" + 0.012*\"content\" + 0.012*\"ibm\" + 0.011*\"follow\" + 0.011*\"video\" + 0.011*\"easy\" + 0.009*\"awesome\" + 0.009*\"week\" + 0.009*\"well\" + 0.008*\"outdated\"\n",
      "\n",
      "Topic: 3\n",
      "Word: 0.057*\"tool\" + 0.048*\"course\" + 0.038*\"data\" + 0.032*\"science\" + 0.018*\"use\" + 0.015*\"learn\" + 0.015*\"introduction\" + 0.012*\"lot\" + 0.010*\"excellent\" + 0.009*\"get\"\n",
      "\n",
      "Topic 0: Video material, Topic 1: Data science tools, Topic 2: Content, Topic 3: Structure\n"
     ]
    }
   ],
   "source": [
    "# Explore the words occurring in each topic and its relative weight\n",
    "\n",
    "for id, topic in lda_model.print_topics(-1):\n",
    "    print('Topic: {}\\nWord: {}\\n'.format(id, topic))\n",
    "    \n",
    "print('Topic 0: Video material, Topic 1: Data science tools, Topic 2: Content, Topic 3: Structure')"
   ]
  },
  {
   "cell_type": "markdown",
   "metadata": {},
   "source": [
    "### Visualise with pyLDAvis\n",
    "\n",
    "Original paper: https://nlp.stanford.edu/events/illvi2014/papers/sievert-illvi2014.pdf"
   ]
  },
  {
   "cell_type": "code",
   "execution_count": 204,
   "metadata": {
    "scrolled": false
   },
   "outputs": [
    {
     "data": {
      "text/html": [
       "\n",
       "<link rel=\"stylesheet\" type=\"text/css\" href=\"https://cdn.jsdelivr.net/gh/bmabey/pyLDAvis@3.2.2/pyLDAvis/js/ldavis.v1.0.0.css\">\n",
       "\n",
       "\n",
       "<div id=\"ldavis_el455571402178610798886832384863\"></div>\n",
       "<script type=\"text/javascript\">\n",
       "\n",
       "var ldavis_el455571402178610798886832384863_data = {\"mdsDat\": {\"x\": [-0.08999348252503772, 0.14355761429726208, -0.13941139508441633, 0.08584726331219186], \"y\": [-0.06347313950240374, -0.09963354651349152, 0.02402250501743093, 0.13908418099846437], \"topics\": [1, 2, 3, 4], \"cluster\": [1, 1, 1, 1], \"Freq\": [30.87078119848935, 27.89436420996984, 26.483775616909604, 14.751078974631202]}, \"tinfo\": {\"Term\": [\"tool\", \"data\", \"science\", \"update\", \"watson\", \"ibm\", \"studio\", \"video\", \"open\", \"source\", \"introduction\", \"content\", \"follow\", \"excellent\", \"need\", \"use\", \"awesome\", \"outdated\", \"notebook\", \"videos\", \"easy\", \"material\", \"change\", \"date\", \"jupyter\", \"instruction\", \"week\", \"overview\", \"basic\", \"lesson\", \"thank\", \"fun\", \"hour\", \"excite\", \"another\", \"popular\", \"clip\", \"guess\", \"r\", \"ide\", \"fantastic\", \"analytics\", \"machine\", \"fit\", \"aware\", \"promo\", \"truly\", \"python\", \"operate\", \"scala\", \"significant\", \"deep\", \"ready\", \"wouldnt\", \"introductory\", \"suck\", \"werent\", \"log\", \"ds\", \"explore\", \"already\", \"wonderful\", \"open\", \"source\", \"notebooks\", \"jupyter\", \"overview\", \"free\", \"tool\", \"class\", \"data\", \"environment\", \"use\", \"scientist\", \"notebook\", \"science\", \"ibm\", \"learn\", \"course\", \"studio\", \"new\", \"watson\", \"know\", \"cloud\", \"experience\", \"provide\", \"helpful\", \"one\", \"introduction\", \"much\", \"would\", \"give\", \"get\", \"make\", \"video\", \"beginner\", \"date\", \"advertisement\", \"late\", \"ui\", \"education\", \"lite\", \"unclear\", \"educational\", \"disappoint\", \"correspond\", \"staff\", \"change\", \"v\", \"pace\", \"financial\", \"update\", \"submit\", \"layout\", \"result\", \"serve\", \"pity\", \"normal\", \"solid\", \"brilliant\", \"case\", \"plenty\", \"sign\", \"china\", \"moderator\", \"completion\", \"site\", \"website\", \"path\", \"videos\", \"right\", \"updated\", \"name\", \"version\", \"match\", \"old\", \"instruction\", \"video\", \"material\", \"interface\", \"actual\", \"need\", \"watson\", \"studio\", \"outdated\", \"waste\", \"ibm\", \"time\", \"content\", \"reflect\", \"course\", \"figure\", \"assignment\", \"thanks\", \"tutorial\", \"take\", \"platform\", \"make\", \"dont\", \"find\", \"lot\", \"problem\", \"work\", \"also\", \"learn\", \"interactive\", \"stuff\", \"build\", \"view\", \"apache\", \"background\", \"become\", \"indeed\", \"clearly\", \"expert\", \"excelent\", \"next\", \"across\", \"challenge\", \"elaborate\", \"structured\", \"terminology\", \"large\", \"generate\", \"andor\", \"trade\", \"working\", \"future\", \"realistic\", \"excellent\", \"ides\", \"variety\", \"tools\", \"rise\", \"favorite\", \"howto\", \"task\", \"example\", \"kind\", \"familiar\", \"learnt\", \"practical\", \"practice\", \"last\", \"require\", \"introduction\", \"various\", \"science\", \"tool\", \"data\", \"basic\", \"explanation\", \"start\", \"informative\", \"exercise\", \"use\", \"course\", \"lot\", \"learn\", \"get\", \"useful\", \"information\", \"available\", \"notebook\", \"work\", \"could\", \"well\", \"give\", \"little\", \"bit\", \"open\", \"time\", \"source\", \"need\", \"one\", \"beginner\", \"cool\", \"lesson\", \"engage\", \"satisfied\", \"area\", \"organize\", \"disconnect\", \"novice\", \"surprise\", \"responsive\", \"plan\", \"fully\", \"except\", \"compare\", \"rating\", \"revisit\", \"designer\", \"unless\", \"incredible\", \"explained\", \"exceptional\", \"exp\", \"associate\", \"express\", \"possess\", \"problematic\", \"succeed\", \"supposition\", \"timeespecially\", \"abilityfor\", \"awesome\", \"internet\", \"cannot\", \"promote\", \"modeler\", \"major\", \"expect\", \"due\", \"close\", \"extremely\", \"poorly\", \"train\", \"design\", \"day\", \"pretty\", \"follow\", \"exactly\", \"easy\", \"see\", \"section\", \"support\", \"super\", \"week\", \"extra\", \"hard\", \"content\", \"course\", \"overall\", \"well\", \"2\", \"instructor\", \"beginner\", \"outdated\", \"video\", \"ibm\", \"amaze\", \"tutorial\", \"love\", \"would\", \"many\", \"understand\", \"much\", \"give\", \"assignment\", \"lot\", \"work\", \"need\", \"watson\"], \"Freq\": [1063.0, 677.0, 508.0, 271.0, 495.0, 668.0, 346.0, 448.0, 247.0, 232.0, 206.0, 198.0, 101.0, 102.0, 270.0, 395.0, 57.0, 185.0, 160.0, 104.0, 104.0, 150.0, 76.0, 59.0, 120.0, 104.0, 112.0, 113.0, 121.0, 35.0, 54.84932887732734, 28.475250015250726, 24.897380529098207, 20.73113003312177, 18.029476240568204, 17.27126574182124, 16.80263838645709, 15.825808339634253, 50.245926951697605, 16.042019494183524, 13.570440338835366, 12.410002551751276, 12.710472169614025, 11.605835326377472, 9.907022961288144, 10.056580790037117, 10.13639870168654, 37.7961712956744, 9.600190216746933, 9.774264225302801, 9.827169130726165, 8.987141437129235, 11.540872015852663, 8.313590597685137, 34.688140667190865, 7.925296194648746, 10.030727087333881, 8.276348773316448, 7.657652201295755, 17.89009746636036, 15.54674517606428, 21.69339404771069, 191.1204085115994, 180.020115441971, 34.1431107408457, 87.5187414275857, 79.28246415839315, 38.657762512707144, 510.4453953032301, 41.569977841021604, 325.77803981604814, 39.246581855023265, 193.02649248357758, 62.22463833569827, 91.15135864201422, 221.02703571531538, 272.98461208617255, 155.90480531027862, 447.780018516984, 135.12067600848863, 66.85061438467639, 163.04304020506171, 62.839195100848166, 57.42219936608178, 72.50259042779008, 47.35685801415191, 45.01155514426553, 62.86041039347073, 66.7931587356708, 56.17072113795765, 59.162627748534895, 59.336640877577956, 57.806115314557175, 52.536861981467894, 65.10057190956098, 49.029096471901504, 58.550985290625135, 23.685005746227755, 19.274694559039663, 18.644541970189874, 14.154338959507436, 12.743349854882531, 12.710380285164355, 15.642678435160674, 9.226419720270732, 9.482415496329889, 8.976015139636802, 70.87860963205758, 8.548327196462493, 12.511243732003889, 11.42026640048896, 249.5803666954806, 8.070087453327869, 15.984112122108623, 9.78047946197472, 7.404652683035418, 7.314323301296457, 7.111310758076354, 7.187850834844422, 6.5051138341594426, 20.103887984008992, 6.72186397314442, 21.532173267949126, 6.257007012605715, 6.254253222336265, 6.25549534347658, 25.556634760611182, 38.46048889077905, 7.7003583788270475, 89.05018839851846, 15.79054476045593, 43.16395827021545, 24.19997002759419, 67.7696365278385, 42.44129681160282, 43.10528262393088, 79.90962906435165, 305.46697243484135, 111.1312515877656, 44.35982717604084, 31.637285325699295, 181.39700371009275, 308.32984052389713, 206.16996454977303, 118.60952937860428, 30.291926205470507, 333.6300152257909, 99.2538361990223, 106.26306088226367, 23.612830696584755, 438.93632817399237, 33.27608648871156, 58.83134600448183, 47.8512547703227, 50.83967281159123, 51.713967666167356, 54.945449781206946, 60.75538614985049, 41.14172784359716, 44.25210919853333, 69.74065943775634, 47.2701577150463, 56.761261458183164, 47.432775466603154, 43.15706664326866, 21.468666719687207, 20.891194188070955, 16.293063488337864, 13.814204271132397, 11.945385925750008, 20.029492667595566, 17.026978745648865, 10.682942046144133, 16.030044292862083, 9.681972457585868, 9.306283873106937, 25.656901579894914, 9.307921743386428, 28.012374221191877, 9.08856202754838, 7.884106903405542, 8.847751224937582, 8.440902889583388, 7.688326043319401, 7.417011473593241, 6.779265211235639, 6.631695501541624, 17.528721712601243, 6.628434907104483, 93.02580071807812, 7.885630394351104, 6.239973963669875, 6.319769478628982, 5.848683829130671, 5.845921489874217, 5.848521922310951, 26.952981340157645, 39.80116700458881, 12.528761266645223, 16.423368185969, 25.851634746173445, 44.79665882232055, 43.40749413088006, 29.92278277259996, 32.2207816265766, 136.8577581240179, 45.422045326972736, 283.5142088987982, 514.2174633204132, 342.5981396945908, 76.35471300881684, 41.11712056583218, 56.467265894682455, 50.195020768161946, 32.86837130129314, 158.84229757549846, 427.34392119616126, 105.7928240606237, 137.36178763308877, 80.30416978042135, 58.48679755346175, 60.746452694288124, 51.34177647999698, 67.29075977330582, 71.87778679888648, 49.65984247609714, 58.196493402902654, 62.8588206789349, 40.54497737998504, 39.7414223435519, 55.73002789160674, 48.87618839920794, 51.76614365552498, 49.39025822022173, 42.3334565168621, 41.38341654642707, 15.7203401107957, 33.449428933449866, 11.874550750567668, 11.683334770673175, 12.959935612918459, 16.180025281326333, 7.53581385509608, 7.4816437515238885, 6.914561479500331, 6.569234705416181, 6.843798883593778, 6.465164945823753, 8.66238759134887, 10.939464697071328, 6.163464226131402, 6.057439602264509, 5.954899407605881, 5.955239763439381, 6.039468232450838, 6.87319224609682, 5.448268404245919, 5.44812120762049, 5.442774421107893, 5.442774421107893, 5.442774421107893, 5.442774421107893, 5.442774421107893, 5.442774421107893, 5.442774421107893, 5.438876910460679, 46.6084977265744, 8.83399558440467, 19.152260268316173, 10.284628218684153, 6.730779220092396, 10.515560524421517, 25.632745881086198, 17.48975409136567, 6.44120273153563, 11.093598763454729, 14.991694706340933, 13.606544207207573, 16.133356387602557, 14.25659475895137, 17.227968674772693, 56.495735782940855, 9.558231489949865, 53.62955567366977, 32.59343110317186, 24.933954046765752, 23.039809252997767, 12.843773621456842, 45.913562094757275, 12.325469285715078, 25.46637064079365, 61.4038693701038, 194.23458821834566, 26.5495353358613, 42.562575645419, 21.010001533020695, 24.904012042295204, 33.43196315204528, 37.680655857288876, 53.73588167244564, 57.62266849278214, 18.83267719495122, 25.1872904934201, 22.10421121123907, 30.197428432980733, 26.32435126197861, 25.61767248119845, 24.140709686917432, 25.017035778430493, 22.655971652706665, 24.019489484145637, 22.672227280036587, 22.621249539641177, 22.861169566602328], \"Total\": [1063.0, 677.0, 508.0, 271.0, 495.0, 668.0, 346.0, 448.0, 247.0, 232.0, 206.0, 198.0, 101.0, 102.0, 270.0, 395.0, 57.0, 185.0, 160.0, 104.0, 104.0, 150.0, 76.0, 59.0, 120.0, 104.0, 112.0, 113.0, 121.0, 35.0, 55.824458504018615, 29.201918734376918, 25.769242081165217, 21.532310305752617, 18.738475794602795, 17.96902053586497, 17.499483614799704, 16.518843551067143, 52.542049495902944, 16.858692849821264, 14.27774649016789, 13.103235747089569, 13.430440876405083, 12.317612406352984, 10.601035847740764, 10.764314835003079, 10.857265936391313, 40.51990419290388, 10.311569569886489, 10.501137412296996, 10.573030041269904, 9.684799275590146, 12.469318275896022, 9.016071337824181, 37.69266622986366, 8.621149759074905, 10.915726008207043, 9.013654298107843, 8.35559017855103, 19.550196583575357, 17.093381171620017, 24.574140040050736, 247.4472383757271, 232.91697721761582, 40.74627706554907, 120.03938603012635, 113.00492248688083, 51.97651790305096, 1063.3764015285171, 57.30935281298001, 677.9159981150725, 54.87212049419431, 395.37276757620305, 99.37000919344692, 160.4218219931419, 508.6239702705043, 668.2094798544583, 358.1830420487371, 1508.2948561054832, 346.3899106498664, 127.0510314873662, 495.3348255151558, 122.55448791917365, 107.27356462223324, 153.48467742423762, 82.27053239698019, 79.90423801539487, 153.49781323337038, 206.17207090925277, 140.04043050046326, 163.76328985652538, 173.29540639049264, 176.90493163603935, 133.50350885886482, 448.9078037431053, 128.9940898288476, 59.504102316363976, 24.505788057278522, 19.979490252937197, 19.352407156243178, 14.87216022712125, 13.500889865847093, 13.6448259784712, 16.822289153269256, 9.94258232461398, 10.218478154363153, 9.67286785950801, 76.67628089689845, 9.260411015294656, 13.573701115987303, 12.393065283977792, 271.22256625552455, 8.773369029675612, 17.461943607652945, 10.71633362668614, 8.115295445334867, 8.01728337530521, 7.813709673183013, 7.929621368091486, 7.208338902965199, 22.285193704223072, 7.457760327670097, 23.916662298836883, 6.9528436289812054, 6.950096364369606, 6.952744711579653, 28.770942901355223, 43.872058806598126, 8.580683618243889, 104.78875330101883, 17.90717495568117, 50.83724428725821, 27.94710640269237, 84.99602412571554, 51.78910857972334, 52.86430351155005, 104.29556641420962, 448.9078037431053, 150.81194689628205, 55.576483297288476, 38.70725868298464, 270.1831002296826, 495.3348255151558, 346.3899106498664, 185.0174574431976, 38.131770032320546, 668.2094798544583, 180.93590995475827, 198.59346886832037, 28.956659514730898, 1508.2948561054832, 46.16083932244565, 107.26835048814058, 80.82367361136596, 89.46673783122134, 97.64759949995091, 108.98905530372932, 133.50350885886482, 69.50406317456104, 80.26643091054032, 231.18237350998112, 96.65301228993214, 191.05004877172027, 102.3831648781493, 358.1830420487371, 22.21239905384458, 21.644033309781193, 17.07757285291593, 14.495718583778405, 12.635889045470908, 21.29058205777797, 18.121740387315807, 11.392089364223859, 17.16988546706594, 10.379032344766774, 9.982769215758799, 27.532941379081407, 10.000938691658535, 30.09842700019248, 9.828807067552416, 8.561810918036874, 9.610404166344269, 9.170555568048998, 8.387835561107151, 8.1126643481838, 7.454990224489077, 7.308367530046685, 19.320099249218696, 7.307940508042382, 102.76104902943977, 8.737057511240298, 6.935233490707068, 7.0395649542743195, 6.524418086647368, 6.521645219855462, 6.524599269388917, 31.079342804022822, 47.58179222507157, 14.366764444039593, 19.180430347587627, 30.959473074488997, 56.88891821339955, 55.97210534147141, 37.95576624309434, 41.31569642361009, 206.17207090925277, 62.500466496838825, 508.6239702705043, 1063.3764015285171, 677.9159981150725, 121.51086379887552, 59.53908372292208, 88.18886173480443, 76.51061165069086, 47.419973628549045, 395.37276757620305, 1508.2948561054832, 231.18237350998112, 358.1830420487371, 176.90493163603935, 112.80263029661396, 122.0382850579097, 99.68477435450012, 160.4218219931419, 191.05004877172027, 102.52068960139789, 139.2769225995023, 173.29540639049264, 76.98314028693225, 83.5895679606079, 247.4472383757271, 180.93590995475827, 232.91697721761582, 270.1831002296826, 153.49781323337038, 128.9940898288476, 16.433791439567088, 35.24586139412899, 12.577981372393653, 12.388674504323363, 13.966274007168344, 17.678699885390646, 8.234860103814803, 8.233788032704393, 7.622087512789784, 7.267203213172306, 7.572028518976259, 7.165721099517665, 9.601148130689191, 12.132948011901076, 6.8697180693089095, 6.753118670248748, 6.652093296307731, 6.654363904100029, 6.7494156361974795, 7.681343287823905, 6.140489215338833, 6.1406477081986255, 6.140670805113373, 6.140670805113373, 6.140670805113373, 6.140670805113373, 6.140670805113373, 6.140670805113373, 6.140670805113373, 6.137937427626536, 57.37967482337077, 10.179347739786195, 23.051518716901292, 12.019146175536036, 7.688678899522009, 12.447368205429589, 32.59200708253598, 21.55234324788748, 7.3659617479155095, 13.313003308805335, 18.551965836329455, 17.040858725814935, 20.786022320280065, 18.301677241692666, 23.147450578855963, 101.35497482189308, 11.737653690391195, 104.24121083058556, 58.7551712499239, 41.7853431096218, 38.54073738145461, 17.549814513962374, 112.43053039053129, 17.04033558154088, 51.58906207535402, 198.59346886832037, 1508.2948561054832, 61.271934181071664, 139.2769225995023, 46.76294462113283, 65.24315524003684, 128.9940898288476, 185.0174574431976, 448.9078037431053, 668.2094798544583, 40.372713792456764, 89.46673783122134, 62.28715940208485, 163.76328985652538, 112.11961778086635, 105.19296786905265, 140.04043050046326, 173.29540639049264, 107.26835048814058, 231.18237350998112, 191.05004877172027, 270.1831002296826, 495.3348255151558], \"Category\": [\"Default\", \"Default\", \"Default\", \"Default\", \"Default\", \"Default\", \"Default\", \"Default\", \"Default\", \"Default\", \"Default\", \"Default\", \"Default\", \"Default\", \"Default\", \"Default\", \"Default\", \"Default\", \"Default\", \"Default\", \"Default\", \"Default\", \"Default\", \"Default\", \"Default\", \"Default\", \"Default\", \"Default\", \"Default\", \"Default\", \"Topic1\", \"Topic1\", \"Topic1\", \"Topic1\", \"Topic1\", \"Topic1\", \"Topic1\", \"Topic1\", \"Topic1\", \"Topic1\", \"Topic1\", \"Topic1\", \"Topic1\", \"Topic1\", \"Topic1\", \"Topic1\", \"Topic1\", \"Topic1\", \"Topic1\", \"Topic1\", \"Topic1\", \"Topic1\", \"Topic1\", \"Topic1\", \"Topic1\", \"Topic1\", \"Topic1\", \"Topic1\", \"Topic1\", \"Topic1\", \"Topic1\", \"Topic1\", \"Topic1\", \"Topic1\", \"Topic1\", \"Topic1\", \"Topic1\", \"Topic1\", \"Topic1\", \"Topic1\", \"Topic1\", \"Topic1\", \"Topic1\", \"Topic1\", \"Topic1\", \"Topic1\", \"Topic1\", \"Topic1\", \"Topic1\", \"Topic1\", \"Topic1\", \"Topic1\", \"Topic1\", \"Topic1\", \"Topic1\", \"Topic1\", \"Topic1\", \"Topic1\", \"Topic1\", \"Topic1\", \"Topic1\", \"Topic1\", \"Topic1\", \"Topic1\", \"Topic1\", \"Topic1\", \"Topic2\", \"Topic2\", \"Topic2\", \"Topic2\", \"Topic2\", \"Topic2\", \"Topic2\", \"Topic2\", \"Topic2\", \"Topic2\", \"Topic2\", \"Topic2\", \"Topic2\", \"Topic2\", \"Topic2\", \"Topic2\", \"Topic2\", \"Topic2\", \"Topic2\", \"Topic2\", \"Topic2\", \"Topic2\", \"Topic2\", \"Topic2\", \"Topic2\", \"Topic2\", \"Topic2\", \"Topic2\", \"Topic2\", \"Topic2\", \"Topic2\", \"Topic2\", \"Topic2\", \"Topic2\", \"Topic2\", \"Topic2\", \"Topic2\", \"Topic2\", \"Topic2\", \"Topic2\", \"Topic2\", \"Topic2\", \"Topic2\", \"Topic2\", \"Topic2\", \"Topic2\", \"Topic2\", \"Topic2\", \"Topic2\", \"Topic2\", \"Topic2\", \"Topic2\", \"Topic2\", \"Topic2\", \"Topic2\", \"Topic2\", \"Topic2\", \"Topic2\", \"Topic2\", \"Topic2\", \"Topic2\", \"Topic2\", \"Topic2\", \"Topic2\", \"Topic2\", \"Topic2\", \"Topic2\", \"Topic2\", \"Topic2\", \"Topic3\", \"Topic3\", \"Topic3\", \"Topic3\", \"Topic3\", \"Topic3\", \"Topic3\", \"Topic3\", \"Topic3\", \"Topic3\", \"Topic3\", \"Topic3\", \"Topic3\", \"Topic3\", \"Topic3\", \"Topic3\", \"Topic3\", \"Topic3\", \"Topic3\", \"Topic3\", \"Topic3\", \"Topic3\", \"Topic3\", \"Topic3\", \"Topic3\", \"Topic3\", \"Topic3\", \"Topic3\", \"Topic3\", \"Topic3\", \"Topic3\", \"Topic3\", \"Topic3\", \"Topic3\", \"Topic3\", \"Topic3\", \"Topic3\", \"Topic3\", \"Topic3\", \"Topic3\", \"Topic3\", \"Topic3\", \"Topic3\", \"Topic3\", \"Topic3\", \"Topic3\", \"Topic3\", \"Topic3\", \"Topic3\", \"Topic3\", \"Topic3\", \"Topic3\", \"Topic3\", \"Topic3\", \"Topic3\", \"Topic3\", \"Topic3\", \"Topic3\", \"Topic3\", \"Topic3\", \"Topic3\", \"Topic3\", \"Topic3\", \"Topic3\", \"Topic3\", \"Topic3\", \"Topic3\", \"Topic3\", \"Topic3\", \"Topic3\", \"Topic3\", \"Topic4\", \"Topic4\", \"Topic4\", \"Topic4\", \"Topic4\", \"Topic4\", \"Topic4\", \"Topic4\", \"Topic4\", \"Topic4\", \"Topic4\", \"Topic4\", \"Topic4\", \"Topic4\", \"Topic4\", \"Topic4\", \"Topic4\", \"Topic4\", \"Topic4\", \"Topic4\", \"Topic4\", \"Topic4\", \"Topic4\", \"Topic4\", \"Topic4\", \"Topic4\", \"Topic4\", \"Topic4\", \"Topic4\", \"Topic4\", \"Topic4\", \"Topic4\", \"Topic4\", \"Topic4\", \"Topic4\", \"Topic4\", \"Topic4\", \"Topic4\", \"Topic4\", \"Topic4\", \"Topic4\", \"Topic4\", \"Topic4\", \"Topic4\", \"Topic4\", \"Topic4\", \"Topic4\", \"Topic4\", \"Topic4\", \"Topic4\", \"Topic4\", \"Topic4\", \"Topic4\", \"Topic4\", \"Topic4\", \"Topic4\", \"Topic4\", \"Topic4\", \"Topic4\", \"Topic4\", \"Topic4\", \"Topic4\", \"Topic4\", \"Topic4\", \"Topic4\", \"Topic4\", \"Topic4\", \"Topic4\", \"Topic4\", \"Topic4\", \"Topic4\", \"Topic4\", \"Topic4\", \"Topic4\", \"Topic4\", \"Topic4\", \"Topic4\", \"Topic4\"], \"logprob\": [30.0, 29.0, 28.0, 27.0, 26.0, 25.0, 24.0, 23.0, 22.0, 21.0, 20.0, 19.0, 18.0, 17.0, 16.0, 15.0, 14.0, 13.0, 12.0, 11.0, 10.0, 9.0, 8.0, 7.0, 6.0, 5.0, 4.0, 3.0, 2.0, 1.0, -5.2506, -5.9062, -6.0405, -6.2236, -6.3632, -6.4062, -6.4337, -6.4936, -5.3383, -6.48, -6.6473, -6.7367, -6.7128, -6.8037, -6.962, -6.947, -6.9391, -5.623, -6.9934, -6.9755, -6.9701, -7.0594, -6.8093, -7.1373, -5.7088, -7.1852, -6.9496, -7.1418, -7.2195, -6.371, -6.5114, -6.1782, -4.0023, -4.0622, -5.7247, -4.7834, -4.8822, -5.6005, -3.0199, -5.5278, -3.469, -5.5854, -3.9924, -5.1245, -4.7427, -3.8569, -3.6458, -4.206, -3.1509, -4.3491, -5.0528, -4.1612, -5.1146, -5.2048, -4.9716, -5.3975, -5.4483, -5.1143, -5.0536, -5.2268, -5.1749, -5.172, -5.1981, -5.2937, -5.0793, -5.3628, -5.0839, -5.989, -6.195, -6.2283, -6.5038, -6.6088, -6.6114, -6.4038, -6.9318, -6.9044, -6.9593, -4.8929, -7.0081, -6.6272, -6.7184, -3.6341, -7.0657, -6.3822, -6.8734, -7.1517, -7.164, -7.1921, -7.1814, -7.2812, -6.1529, -7.2485, -6.0843, -7.3201, -7.3206, -7.3204, -5.9129, -5.5042, -7.1126, -4.6646, -6.3944, -5.3888, -5.9675, -4.9377, -5.4057, -5.3902, -4.7729, -3.432, -4.4431, -5.3615, -5.6995, -3.9531, -3.4227, -3.8251, -4.378, -5.743, -3.3438, -4.5562, -4.4879, -5.992, -3.0695, -5.649, -5.0792, -5.2857, -5.2252, -5.2081, -5.1475, -5.047, -5.4368, -5.3639, -4.9091, -5.298, -5.115, -5.2945, -5.389, -6.0353, -6.0626, -6.3112, -6.4762, -6.6216, -6.1047, -6.2671, -6.7333, -6.3275, -6.8317, -6.8713, -5.8571, -6.8711, -5.7693, -6.8949, -7.0371, -6.9218, -6.9689, -7.0622, -7.0982, -7.1881, -7.2101, -6.2381, -7.2106, -4.5691, -7.0369, -7.271, -7.2583, -7.3357, -7.3362, -7.3358, -5.8078, -5.418, -6.5739, -6.3032, -5.8496, -5.2998, -5.3313, -5.7033, -5.6293, -4.183, -5.2859, -3.4547, -2.8593, -3.2654, -4.7666, -5.3855, -5.0683, -5.186, -5.6094, -4.034, -3.0444, -4.4405, -4.1793, -4.7161, -5.0331, -4.9952, -5.1634, -4.8929, -4.827, -5.1967, -5.0381, -4.9611, -5.3995, -5.4195, -5.0814, -5.2127, -5.1552, -5.2022, -5.3564, -5.3791, -5.7618, -5.0067, -6.0423, -6.0586, -5.9549, -5.7329, -6.4971, -6.5043, -6.5831, -6.6343, -6.5934, -6.6503, -6.3577, -6.1243, -6.6981, -6.7154, -6.7325, -6.7325, -6.7184, -6.5891, -6.8214, -6.8215, -6.8224, -6.8224, -6.8224, -6.8224, -6.8224, -6.8224, -6.8224, -6.8232, -4.6749, -6.3381, -5.5643, -6.1861, -6.61, -6.1639, -5.2729, -5.6551, -6.654, -6.1104, -5.8092, -5.9062, -5.7358, -5.8595, -5.6702, -4.4826, -6.2593, -4.5346, -5.0326, -5.3005, -5.3795, -5.9639, -4.69, -6.0051, -5.2794, -4.3993, -3.2477, -5.2377, -4.7658, -5.4717, -5.3017, -5.0072, -4.8876, -4.5326, -4.4628, -5.5811, -5.2904, -5.421, -5.109, -5.2462, -5.2734, -5.3328, -5.2972, -5.3963, -5.3379, -5.3956, -5.3978, -5.3873], \"loglift\": [30.0, 29.0, 28.0, 27.0, 26.0, 25.0, 24.0, 23.0, 22.0, 21.0, 20.0, 19.0, 18.0, 17.0, 16.0, 15.0, 14.0, 13.0, 12.0, 11.0, 10.0, 9.0, 8.0, 7.0, 6.0, 5.0, 4.0, 3.0, 2.0, 1.0, 1.1577, 1.1502, 1.1409, 1.1374, 1.1368, 1.1358, 1.1347, 1.1325, 1.1307, 1.1257, 1.1246, 1.121, 1.1203, 1.1158, 1.1077, 1.1074, 1.1067, 1.1058, 1.1039, 1.1036, 1.1022, 1.1006, 1.098, 1.0942, 1.0923, 1.0912, 1.0908, 1.09, 1.0881, 1.0866, 1.0805, 1.0507, 0.9171, 0.9177, 0.9986, 0.8594, 0.8209, 0.8793, 0.4414, 0.8543, 0.4426, 0.8402, 0.4584, 0.7073, 0.6101, 0.3419, 0.2802, 0.3436, -0.0391, 0.234, 0.5332, 0.0641, 0.5074, 0.5504, 0.4254, 0.6231, 0.6015, 0.2826, 0.0482, 0.2618, 0.1572, 0.1036, 0.0568, 0.2427, -0.7555, 0.208, 1.2606, 1.2427, 1.2408, 1.2395, 1.2273, 1.219, 1.2058, 1.204, 1.202, 1.202, 1.202, 1.1981, 1.1967, 1.1952, 1.195, 1.1936, 1.1932, 1.1883, 1.1854, 1.1851, 1.185, 1.1826, 1.1785, 1.1741, 1.1737, 1.1729, 1.1717, 1.1713, 1.1713, 1.1711, 1.1583, 1.1451, 1.1685, 1.114, 1.151, 1.1131, 1.1328, 1.0503, 1.0777, 1.0727, 1.0104, 0.8918, 0.9714, 1.0513, 1.0751, 0.8783, 0.8027, 0.7579, 0.8321, 1.0466, 0.5822, 0.6763, 0.6514, 1.0727, 0.0424, 0.9495, 0.6761, 0.7526, 0.7116, 0.6411, 0.5918, 0.4895, 0.7524, 0.6813, 0.0783, 0.5615, 0.0631, 0.5073, -0.8395, 1.2946, 1.2932, 1.2816, 1.2805, 1.2724, 1.2676, 1.2663, 1.2644, 1.2599, 1.2591, 1.2585, 1.2581, 1.2568, 1.2568, 1.2503, 1.2462, 1.246, 1.2457, 1.2416, 1.239, 1.2336, 1.2315, 1.2313, 1.231, 1.2291, 1.2261, 1.223, 1.2208, 1.2193, 1.2193, 1.2192, 1.1862, 1.1501, 1.1917, 1.1735, 1.1483, 1.0897, 1.0744, 1.0908, 1.08, 0.9189, 1.0095, 0.7442, 0.6021, 0.6462, 0.864, 0.9584, 0.8828, 0.9071, 0.9621, 0.4167, 0.0675, 0.5469, 0.3702, 0.5388, 0.6718, 0.631, 0.6651, 0.4599, 0.3511, 0.6038, 0.456, 0.3145, 0.6875, 0.5851, -0.162, 0.0198, -0.1753, -0.3707, 0.0405, 0.1918, 1.8695, 1.8615, 1.8563, 1.8552, 1.8391, 1.8253, 1.8251, 1.8181, 1.8164, 1.8129, 1.8127, 1.811, 1.811, 1.8103, 1.8054, 1.8051, 1.8031, 1.8029, 1.8027, 1.8027, 1.7942, 1.7942, 1.7932, 1.7932, 1.7932, 1.7932, 1.7932, 1.7932, 1.7932, 1.7929, 1.7059, 1.7721, 1.7285, 1.758, 1.7808, 1.7452, 1.6737, 1.705, 1.7797, 1.7315, 1.7008, 1.6888, 1.6605, 1.6641, 1.6185, 1.3294, 1.7085, 1.2492, 1.3246, 1.3975, 1.3994, 1.6017, 1.0183, 1.5899, 1.2079, 0.7401, -0.1358, 1.0775, 0.7284, 1.1138, 0.9508, 0.5636, 0.3226, -0.2089, -0.5368, 1.1513, 0.6463, 0.8779, 0.2232, 0.4648, 0.5013, 0.1558, -0.0216, 0.3589, -0.3505, -0.2175, -0.5664, -1.1619]}, \"token.table\": {\"Topic\": [1, 2, 3, 4, 4, 3, 1, 2, 3, 2, 1, 4, 1, 2, 3, 1, 2, 4, 1, 3, 1, 3, 4, 1, 2, 3, 4, 4, 1, 3, 4, 1, 1, 2, 4, 3, 4, 1, 3, 4, 3, 1, 2, 3, 4, 1, 2, 3, 4, 2, 3, 1, 4, 1, 2, 1, 2, 3, 1, 2, 4, 2, 1, 2, 3, 4, 1, 3, 1, 4, 1, 2, 3, 4, 1, 4, 2, 1, 2, 3, 4, 4, 2, 1, 2, 3, 4, 1, 2, 3, 4, 1, 2, 3, 4, 2, 1, 3, 4, 1, 1, 4, 4, 2, 4, 1, 2, 3, 4, 1, 1, 4, 1, 2, 3, 4, 2, 1, 2, 3, 4, 1, 2, 3, 4, 1, 4, 1, 2, 3, 3, 3, 4, 4, 4, 1, 1, 2, 3, 4, 4, 1, 4, 1, 2, 3, 4, 3, 4, 1, 2, 3, 4, 1, 2, 4, 1, 3, 4, 3, 4, 1, 3, 4, 1, 3, 1, 2, 4, 1, 2, 1, 2, 3, 4, 1, 1, 2, 3, 4, 1, 3, 4, 4, 1, 2, 3, 3, 1, 2, 3, 4, 1, 2, 3, 4, 1, 1, 2, 3, 4, 1, 2, 3, 4, 1, 3, 1, 2, 3, 4, 1, 3, 4, 3, 1, 2, 3, 4, 1, 2, 3, 4, 1, 2, 3, 4, 1, 2, 3, 4, 3, 1, 2, 4, 1, 4, 1, 2, 3, 1, 4, 1, 3, 3, 4, 1, 2, 3, 4, 3, 1, 3, 4, 2, 1, 2, 1, 2, 3, 4, 1, 3, 4, 3, 4, 2, 1, 2, 3, 4, 1, 1, 2, 3, 4, 1, 3, 4, 1, 1, 4, 1, 2, 3, 4, 1, 2, 3, 4, 1, 2, 3, 4, 1, 2, 3, 4, 4, 2, 1, 2, 3, 4, 1, 2, 3, 1, 2, 3, 4, 1, 2, 3, 4, 1, 3, 2, 1, 3, 4, 1, 2, 3, 4, 4, 1, 2, 1, 2, 3, 4, 1, 3, 1, 3, 4, 1, 2, 3, 4, 1, 2, 3, 4, 1, 3, 2, 2, 2, 4, 1, 2, 3, 4, 2, 3, 4, 1, 4, 1, 2, 3, 4, 1, 3, 4, 2, 3, 4, 1, 2, 3, 4, 4, 1, 1, 3, 4, 1, 2, 3, 4, 1, 3, 1, 3, 4, 1, 3, 2, 4, 1, 3, 4, 4, 2, 4, 2, 3, 3, 4, 1, 1, 2, 3, 4, 1, 3, 1, 2, 3, 4, 1, 2, 3, 4, 2, 1, 2, 1, 1, 2, 4, 2, 1, 3, 4, 2, 1, 3, 3, 1, 2, 3, 4, 3, 2, 4, 1, 1, 2, 4, 1, 2, 4, 4, 4, 1, 2, 3, 4, 1, 3, 3, 1, 1, 2, 3, 4, 1, 2, 3, 4, 4, 1, 2, 3, 4, 3, 3, 3, 4, 1, 1, 2, 3, 4, 2, 2, 1, 2, 3, 4, 4, 1, 2, 4, 1, 2, 4, 1, 2, 3, 4, 1, 2, 3, 4, 2, 3, 1, 3, 1, 2, 4, 1, 2, 3, 4, 1, 2, 3, 4, 3, 2, 3, 1, 2, 3, 4, 1, 2, 4, 1, 2, 3, 4, 1, 2, 3, 4, 1, 1, 2, 3, 1, 2, 3, 4, 3, 1, 2, 3, 4, 1], \"Freq\": [0.10692226592036358, 0.23522898502479986, 0.21384453184072716, 0.449073516865527, 0.8146058930961501, 0.8999155256802658, 0.10333979041916404, 0.8267183233533123, 0.07750484281437303, 0.9793604655318033, 0.9360348218621984, 0.0585021763663874, 0.41022369302595835, 0.4590598469576201, 0.12697400022232044, 0.49538408794646843, 0.02476920439732342, 0.470614883549145, 0.9158043273903078, 0.8628484674787642, 0.9605904021918636, 0.9496759552744862, 0.9308137584389083, 0.1211913853512389, 0.5500224412094689, 0.1211913853512389, 0.21441552792911497, 0.814243290136392, 0.41129651208513884, 0.5116127345449288, 0.08025297796783197, 0.9433040453429979, 0.15684996521336672, 0.03485554782519261, 0.8191053738920262, 0.9393824906113128, 0.04696912453056564, 0.3456481065719218, 0.6254584785587156, 0.024689150469422987, 0.9380997429970379, 0.3798623647410076, 0.03876146578989873, 0.3178440194771696, 0.25582567421333163, 0.16748501447689726, 0.27515395235490264, 0.478528612791135, 0.07177929191867025, 0.9710975155622196, 0.9369012878939679, 0.13014326894654496, 0.8242407033281182, 0.08974568615129415, 0.8974568615129415, 0.03322432763657732, 0.03322432763657732, 0.930281173824165, 0.052167371098482684, 0.9259708369980676, 0.026083685549241342, 0.8629562694306092, 0.7328646710958392, 0.06979663534246087, 0.05234747650684565, 0.15704242952053696, 0.05824150673096389, 0.9318641076954223, 0.9714572369222781, 0.814557583291542, 0.5313517845773751, 0.39152236758332903, 0.03728784453174562, 0.03728784453174562, 0.08242019985737274, 0.9066221984311001, 0.8629685467966519, 0.15106236962853917, 0.5337537060208384, 0.005035412320951306, 0.30716015157802967, 0.9736036908365124, 0.8807573754177006, 0.3121321181550429, 0.1853284451545567, 0.4877064346172545, 0.01950825738469018, 0.2970241516017402, 0.29105714855616954, 0.28310114449540863, 0.12862206564896786, 0.4808855387783064, 0.00885065408794429, 0.5059623920274819, 0.004425327043972145, 0.991528276257596, 0.054639800866005936, 0.10927960173201187, 0.7649572121240831, 0.9292913300416938, 0.192437010716445, 0.76974804286578, 0.9019717151787877, 0.9051974332381929, 0.9714797700441803, 0.11510118451503788, 0.5898935706395692, 0.23020236903007577, 0.05755059225751894, 0.9574428411455798, 0.18559466847726974, 0.7887773410283964, 0.1918626984533431, 0.11511761907200586, 0.1726764286080088, 0.5180292858240264, 0.9413561840511403, 0.059444941820278915, 0.9511190691244626, 0.9156757211881251, 0.9540481612047689, 0.7107434458292231, 0.16401771826828226, 0.07289676367479211, 0.054672572756094086, 0.17039180510473415, 0.8519590255236708, 0.08406576997098356, 0.06304932747823766, 0.8406576997098355, 0.9015534472932221, 0.9050121702568125, 0.08758182292807862, 0.9373878912702455, 0.8142673693669372, 0.9752785326704861, 0.04217632037643957, 0.16870528150575828, 0.6959092862112528, 0.08435264075287914, 0.814246352762478, 0.18409421625386874, 0.7977416037667645, 0.475617509350625, 0.26061233389075344, 0.12379085859810789, 0.1433367836399144, 0.9634809554324314, 0.9112989405246427, 0.06718276046394768, 0.1679569011598692, 0.6886232947554637, 0.06718276046394768, 0.9207068544324655, 0.05115038080180364, 0.814243290136392, 0.11736858059101375, 0.11736858059101375, 0.7042114835460825, 0.15022906203870487, 0.8262598412128768, 0.05213647357634875, 0.83418357722158, 0.1042729471526975, 0.9805468958032589, 0.9200132478431534, 0.06499015277959327, 0.714891680575526, 0.21663384259864427, 0.0806902874378332, 0.8875931618161652, 0.26162867542229723, 0.54817436755148, 0.07475105012065636, 0.12458508353442725, 0.9742147750818031, 0.039465255721576914, 0.3847862432853749, 0.019732627860788457, 0.5525135801020769, 0.7503388371022589, 0.23087348833915658, 0.019239457361596383, 0.8373197779639887, 0.9588411040620423, 0.05175956847325409, 0.9316722325185736, 0.9537621406283318, 0.32785971235289263, 0.2091518854665005, 0.4522202929005416, 0.01130550732251354, 0.3404591109994758, 0.15003282857604017, 0.3635410846265589, 0.1442623351692694, 0.968590806646775, 0.03876790776073196, 0.32952721596622164, 0.11630372328219588, 0.4845988470091495, 0.5631741334086686, 0.037544942227244575, 0.31287451856037146, 0.07508988445448915, 0.9701488278645395, 0.9195967065977295, 0.4085545150593519, 0.4998432528564965, 0.005986146740796365, 0.08679912774154729, 0.9490652770371596, 0.9156400755869962, 0.8889658488094402, 0.965582313157129, 0.032776599557277596, 0.33596014546209535, 0.4998431432484833, 0.13930054811842976, 0.10456065933081275, 0.11763074174716434, 0.6535041208175797, 0.13070082416351594, 0.019176270562230847, 0.7670508224892338, 0.047940676405577115, 0.16299829977896219, 0.0613091133511792, 0.306545566755896, 0.2452364534047168, 0.38318195844487, 0.9454179149714701, 0.17993221964959935, 0.7917017664582372, 0.017993221964959935, 0.09823812149490473, 0.8841430934541425, 0.32497127134882514, 0.009700634965636572, 0.6644934951461051, 0.9285625958789225, 0.05306071976450986, 0.7330927199004049, 0.2665791708728745, 0.9048662314076829, 0.06960509472366791, 0.5140570620436956, 0.14687344629819876, 0.32638543621821947, 0.016319271810910974, 0.8723571806132101, 0.052692915937743175, 0.7903937390661476, 0.15807874781322953, 0.9509752130541368, 0.05726739373741511, 0.9162782997986417, 0.4355315067617675, 0.1200503512227949, 0.3824860027330907, 0.06142110992794157, 0.09690087401623249, 0.8398075748073481, 0.06460058267748832, 0.028372125419711635, 0.936280138850484, 0.9628994924909222, 0.09092900047867022, 0.23381742980229486, 0.5325841456607827, 0.14288842932362464, 0.8875423591161433, 0.13841885743342983, 0.30279125063562773, 0.4585124652482363, 0.10381414307507236, 0.3853121611321495, 0.25687477408809967, 0.35320281437113704, 0.9679503539484478, 0.08033826777646026, 0.883720945541063, 0.3969933109101254, 0.45691682953806884, 0.05243307879945052, 0.09737571777040811, 0.3121666011063845, 0.3121666011063845, 0.14270473193434718, 0.2318951893933142, 0.019309079214225432, 0.8109813269974682, 0.019309079214225432, 0.13516355449957804, 0.019892323265763494, 0.7360159608332493, 0.13924626286034444, 0.10609239075073863, 0.9104294887949056, 0.8632973825743807, 0.3998845176344609, 0.2285054386482634, 0.19994225881723046, 0.17137907898619753, 0.07156375945265389, 0.8587651134318466, 0.035781879726326946, 0.06292029362883282, 0.6699160674599259, 0.18135849340075344, 0.08512745608606793, 0.5273471550418888, 0.23612559180980094, 0.21251303262882085, 0.023612559180980094, 0.03632012963060191, 0.9443233703956496, 0.8958612864801339, 0.5672544973581605, 0.417648915637327, 0.012467131810069462, 0.8344320622299738, 0.024542119477352173, 0.12271059738676086, 0.024542119477352173, 0.8501554779156546, 0.1702472065679185, 0.8134033202689439, 0.41042929975958653, 0.24756053001371886, 0.2736195331730577, 0.07166225868818178, 0.7718817201345489, 0.2263108708247892, 0.9697844670712028, 0.056565245548762424, 0.9050439287801988, 0.08647832599749229, 0.643182549606349, 0.0702636398729625, 0.2053860242440442, 0.29377234847534195, 0.1142448021848552, 0.16320686026407885, 0.4406585227130129, 0.6990845908431238, 0.29202267718763397, 0.957734363598769, 0.9323266485424001, 0.8731137060168485, 0.9244550495890634, 0.422060727765809, 0.5046378266765108, 0.06422663248610137, 0.009175233212300196, 0.9386195979010353, 0.16170793038682937, 0.8085396519341468, 0.9460727125370652, 0.814243290136392, 0.08789057969505044, 0.12304681157307062, 0.791015217255454, 0.01757811593901009, 0.14292833816405615, 0.7682398176318018, 0.07146416908202807, 0.17280520748379088, 0.04320130187094772, 0.7344221318061113, 0.2793498035944034, 0.4862755840347022, 0.1241554682641793, 0.11380917924216435, 0.814243290136392, 0.9289954960702466, 0.08320058558197886, 0.08320058558197886, 0.8320058558197887, 0.5712859590261407, 0.09724016323849202, 0.3160305305250991, 0.012155020404811503, 0.937810707031603, 0.04935845826482121, 0.9516187602065054, 0.03806475040826021, 0.8733982878868852, 0.9623621544087744, 0.9578622037626752, 0.828824885266571, 0.17267185109720232, 0.02420387616723179, 0.7745240373514173, 0.19363100933785432, 0.9632316304726444, 0.9331549715004855, 0.888478389463722, 0.893496603434027, 0.11168707542925338, 0.919622243749121, 0.968626627151458, 0.9522777969070134, 0.4345056720045348, 0.00589826704078554, 0.5583692798610311, 0.00196608901359518, 0.6239307060876137, 0.3622823454702273, 0.19145469211566343, 0.19145469211566343, 0.02393183651445793, 0.5982959128614482, 0.051059335479409156, 0.13615822794509108, 0.25529667739704576, 0.5616526902735007, 0.8625687194203135, 0.08362370865174043, 0.9198607951691448, 0.9458026659308462, 0.06951457958320137, 0.9036895345816177, 0.034757289791600685, 0.8827659827703439, 0.7728075563672838, 0.223255516283882, 0.004293375313151577, 0.9304376045159544, 0.351518314106617, 0.635000825482921, 0.9343817653280188, 0.3897342152568036, 0.5947055432807522, 0.00288692011301336, 0.01154768045205344, 0.9702443024105795, 0.9118503932685701, 0.814243290136392, 0.927950473378442, 0.056980659208928655, 0.22792263683571462, 0.7407485697160726, 0.05189314309700723, 0.33730543013054703, 0.5967711456155832, 0.814243290136392, 0.918383577760564, 0.24578177162472964, 0.5325271718535809, 0.10240907151030401, 0.11264997866133442, 0.09652713762054481, 0.8687442385849033, 0.9364850680804965, 0.9852312315047487, 0.16084396339752433, 0.593885403313936, 0.09898090055232267, 0.148471350828484, 0.11606319610767647, 0.5471550673647605, 0.27081412425124507, 0.060795007484973386, 0.814243290136392, 0.47960439903209856, 0.017867614865901712, 0.48336600216176207, 0.01880801564831759, 0.8523253978013071, 0.9389683673904134, 0.17604746616761432, 0.8215548421155334, 0.921042190417577, 0.08941870681696218, 0.5700442559581339, 0.06706403011272163, 0.27943345880300685, 0.9817900092015432, 0.9527420885038325, 0.20913945528551164, 0.1616077609024408, 0.38025355506456665, 0.2471648107919683, 0.9016639436119734, 0.05161812379140422, 0.9217522105607897, 0.02580906189570211, 0.13769432427230271, 0.8458365633870023, 0.0196706177531861, 0.4881469231762446, 0.0986410881029717, 0.40215212841980774, 0.012646293346534835, 0.24822116227586308, 0.1684357886871928, 0.5141724075714307, 0.06205529056896577, 0.9718791082961051, 0.8651475120541734, 0.27199796982091057, 0.719994625996528, 0.18824409923380406, 0.8000374217436673, 0.011765256202112754, 0.1447958789266165, 0.6794268165018159, 0.05569072266408327, 0.12029196095441987, 0.10497309733613416, 0.8493277875378128, 0.00954300884873947, 0.03817203539495788, 0.9658024139394411, 0.7867455398627432, 0.18357395930130674, 0.32907034111820727, 0.6218016261620113, 0.0020188364485779586, 0.046433238317293055, 0.045587101549453855, 0.8661549294396232, 0.09117420309890771, 0.1067325748470419, 0.37356401196464667, 0.1067325748470419, 0.4091415369136606, 0.18667844977279033, 0.08615928451051862, 0.41643654180084, 0.3087374361626917, 0.9161094729275405, 0.895250045948488, 0.040693183906749454, 0.08138636781349891, 0.20936922161058827, 0.2983511407950883, 0.3768645988990589, 0.12038730242608826, 0.9578062366487587, 0.36027610370853247, 0.2198294870085961, 0.23204223628685142, 0.18319123917383007, 0.8873044256469486], \"Term\": [\"2\", \"2\", \"2\", \"2\", \"abilityfor\", \"across\", \"actual\", \"actual\", \"actual\", \"advertisement\", \"already\", \"already\", \"also\", \"also\", \"also\", \"amaze\", \"amaze\", \"amaze\", \"analytics\", \"andor\", \"another\", \"apache\", \"area\", \"assignment\", \"assignment\", \"assignment\", \"assignment\", \"associate\", \"available\", \"available\", \"available\", \"aware\", \"awesome\", \"awesome\", \"awesome\", \"background\", \"background\", \"basic\", \"basic\", \"basic\", \"become\", \"beginner\", \"beginner\", \"beginner\", \"beginner\", \"bit\", \"bit\", \"bit\", \"bit\", \"brilliant\", \"build\", \"cannot\", \"cannot\", \"case\", \"case\", \"challenge\", \"challenge\", \"challenge\", \"change\", \"change\", \"change\", \"china\", \"class\", \"class\", \"class\", \"class\", \"clearly\", \"clearly\", \"clip\", \"close\", \"cloud\", \"cloud\", \"cloud\", \"cloud\", \"compare\", \"compare\", \"completion\", \"content\", \"content\", \"content\", \"content\", \"cool\", \"correspond\", \"could\", \"could\", \"could\", \"could\", \"course\", \"course\", \"course\", \"course\", \"data\", \"data\", \"data\", \"data\", \"date\", \"day\", \"day\", \"day\", \"deep\", \"design\", \"design\", \"designer\", \"disappoint\", \"disconnect\", \"dont\", \"dont\", \"dont\", \"dont\", \"ds\", \"due\", \"due\", \"easy\", \"easy\", \"easy\", \"easy\", \"education\", \"educational\", \"educational\", \"elaborate\", \"engage\", \"environment\", \"environment\", \"environment\", \"environment\", \"exactly\", \"exactly\", \"example\", \"example\", \"example\", \"excelent\", \"excellent\", \"excellent\", \"except\", \"exceptional\", \"excite\", \"exercise\", \"exercise\", \"exercise\", \"exercise\", \"exp\", \"expect\", \"expect\", \"experience\", \"experience\", \"experience\", \"experience\", \"expert\", \"explained\", \"explanation\", \"explanation\", \"explanation\", \"explanation\", \"explore\", \"explore\", \"express\", \"extra\", \"extra\", \"extra\", \"extremely\", \"extremely\", \"familiar\", \"familiar\", \"familiar\", \"fantastic\", \"favorite\", \"figure\", \"figure\", \"figure\", \"financial\", \"financial\", \"find\", \"find\", \"find\", \"find\", \"fit\", \"follow\", \"follow\", \"follow\", \"follow\", \"free\", \"free\", \"free\", \"fully\", \"fun\", \"future\", \"future\", \"generate\", \"get\", \"get\", \"get\", \"get\", \"give\", \"give\", \"give\", \"give\", \"guess\", \"hard\", \"hard\", \"hard\", \"hard\", \"helpful\", \"helpful\", \"helpful\", \"helpful\", \"hour\", \"howto\", \"ibm\", \"ibm\", \"ibm\", \"ibm\", \"ide\", \"ides\", \"incredible\", \"indeed\", \"information\", \"information\", \"information\", \"information\", \"informative\", \"informative\", \"informative\", \"informative\", \"instruction\", \"instruction\", \"instruction\", \"instruction\", \"instructor\", \"instructor\", \"instructor\", \"instructor\", \"interactive\", \"interface\", \"interface\", \"interface\", \"internet\", \"internet\", \"introduction\", \"introduction\", \"introduction\", \"introductory\", \"introductory\", \"jupyter\", \"jupyter\", \"kind\", \"kind\", \"know\", \"know\", \"know\", \"know\", \"large\", \"last\", \"last\", \"last\", \"late\", \"layout\", \"layout\", \"learn\", \"learn\", \"learn\", \"learn\", \"learnt\", \"learnt\", \"learnt\", \"lesson\", \"lesson\", \"lite\", \"little\", \"little\", \"little\", \"little\", \"log\", \"lot\", \"lot\", \"lot\", \"lot\", \"love\", \"love\", \"love\", \"machine\", \"major\", \"major\", \"make\", \"make\", \"make\", \"make\", \"many\", \"many\", \"many\", \"many\", \"match\", \"match\", \"match\", \"match\", \"material\", \"material\", \"material\", \"material\", \"modeler\", \"moderator\", \"much\", \"much\", \"much\", \"much\", \"name\", \"name\", \"name\", \"need\", \"need\", \"need\", \"need\", \"new\", \"new\", \"new\", \"new\", \"next\", \"next\", \"normal\", \"notebook\", \"notebook\", \"notebook\", \"notebooks\", \"notebooks\", \"notebooks\", \"notebooks\", \"novice\", \"old\", \"old\", \"one\", \"one\", \"one\", \"one\", \"open\", \"open\", \"operate\", \"organize\", \"organize\", \"outdated\", \"outdated\", \"outdated\", \"outdated\", \"overall\", \"overall\", \"overall\", \"overall\", \"overview\", \"overview\", \"pace\", \"path\", \"pity\", \"plan\", \"platform\", \"platform\", \"platform\", \"platform\", \"plenty\", \"poorly\", \"poorly\", \"popular\", \"possess\", \"practical\", \"practical\", \"practical\", \"practical\", \"practice\", \"practice\", \"practice\", \"pretty\", \"pretty\", \"pretty\", \"problem\", \"problem\", \"problem\", \"problem\", \"problematic\", \"promo\", \"promote\", \"promote\", \"promote\", \"provide\", \"provide\", \"provide\", \"provide\", \"python\", \"python\", \"r\", \"r\", \"rating\", \"ready\", \"realistic\", \"reflect\", \"reflect\", \"require\", \"require\", \"require\", \"responsive\", \"result\", \"revisit\", \"right\", \"right\", \"rise\", \"satisfied\", \"scala\", \"science\", \"science\", \"science\", \"science\", \"scientist\", \"scientist\", \"section\", \"section\", \"section\", \"section\", \"see\", \"see\", \"see\", \"see\", \"serve\", \"sign\", \"sign\", \"significant\", \"site\", \"site\", \"site\", \"solid\", \"source\", \"source\", \"source\", \"staff\", \"start\", \"start\", \"structured\", \"studio\", \"studio\", \"studio\", \"studio\", \"stuff\", \"submit\", \"succeed\", \"suck\", \"super\", \"super\", \"super\", \"support\", \"support\", \"support\", \"supposition\", \"surprise\", \"take\", \"take\", \"take\", \"take\", \"task\", \"task\", \"terminology\", \"thank\", \"thanks\", \"thanks\", \"thanks\", \"thanks\", \"time\", \"time\", \"time\", \"time\", \"timeespecially\", \"tool\", \"tool\", \"tool\", \"tool\", \"tools\", \"trade\", \"train\", \"train\", \"truly\", \"tutorial\", \"tutorial\", \"tutorial\", \"tutorial\", \"ui\", \"unclear\", \"understand\", \"understand\", \"understand\", \"understand\", \"unless\", \"update\", \"update\", \"update\", \"updated\", \"updated\", \"updated\", \"use\", \"use\", \"use\", \"use\", \"useful\", \"useful\", \"useful\", \"useful\", \"v\", \"variety\", \"various\", \"various\", \"version\", \"version\", \"version\", \"video\", \"video\", \"video\", \"video\", \"videos\", \"videos\", \"videos\", \"videos\", \"view\", \"waste\", \"waste\", \"watson\", \"watson\", \"watson\", \"watson\", \"website\", \"website\", \"website\", \"week\", \"week\", \"week\", \"week\", \"well\", \"well\", \"well\", \"well\", \"werent\", \"wonderful\", \"wonderful\", \"wonderful\", \"work\", \"work\", \"work\", \"work\", \"working\", \"would\", \"would\", \"would\", \"would\", \"wouldnt\"]}, \"R\": 30, \"lambda.step\": 0.01, \"plot.opts\": {\"xlab\": \"PC1\", \"ylab\": \"PC2\"}, \"topic.order\": [2, 1, 4, 3]};\n",
       "\n",
       "function LDAvis_load_lib(url, callback){\n",
       "  var s = document.createElement('script');\n",
       "  s.src = url;\n",
       "  s.async = true;\n",
       "  s.onreadystatechange = s.onload = callback;\n",
       "  s.onerror = function(){console.warn(\"failed to load library \" + url);};\n",
       "  document.getElementsByTagName(\"head\")[0].appendChild(s);\n",
       "}\n",
       "\n",
       "if(typeof(LDAvis) !== \"undefined\"){\n",
       "   // already loaded: just create the visualization\n",
       "   !function(LDAvis){\n",
       "       new LDAvis(\"#\" + \"ldavis_el455571402178610798886832384863\", ldavis_el455571402178610798886832384863_data);\n",
       "   }(LDAvis);\n",
       "}else if(typeof define === \"function\" && define.amd){\n",
       "   // require.js is available: use it to load d3/LDAvis\n",
       "   require.config({paths: {d3: \"https://d3js.org/d3.v5\"}});\n",
       "   require([\"d3\"], function(d3){\n",
       "      window.d3 = d3;\n",
       "      LDAvis_load_lib(\"https://cdn.jsdelivr.net/gh/bmabey/pyLDAvis@3.2.2/pyLDAvis/js/ldavis.v3.0.0.js\", function(){\n",
       "        new LDAvis(\"#\" + \"ldavis_el455571402178610798886832384863\", ldavis_el455571402178610798886832384863_data);\n",
       "      });\n",
       "    });\n",
       "}else{\n",
       "    // require.js not available: dynamically load d3 & LDAvis\n",
       "    LDAvis_load_lib(\"https://d3js.org/d3.v5.js\", function(){\n",
       "         LDAvis_load_lib(\"https://cdn.jsdelivr.net/gh/bmabey/pyLDAvis@3.2.2/pyLDAvis/js/ldavis.v3.0.0.js\", function(){\n",
       "                 new LDAvis(\"#\" + \"ldavis_el455571402178610798886832384863\", ldavis_el455571402178610798886832384863_data);\n",
       "            })\n",
       "         });\n",
       "}\n",
       "</script>"
      ],
      "text/plain": [
       "PreparedData(topic_coordinates=              x         y  topics  cluster       Freq\n",
       "topic                                                \n",
       "1     -0.089993 -0.063473       1        1  30.870781\n",
       "0      0.143558 -0.099634       2        1  27.894364\n",
       "3     -0.139411  0.024023       3        1  26.483776\n",
       "2      0.085847  0.139084       4        1  14.751079, topic_info=           Term         Freq        Total Category  logprob  loglift\n",
       "32         tool  1063.000000  1063.000000  Default  30.0000  30.0000\n",
       "35         data   677.000000   677.000000  Default  29.0000  29.0000\n",
       "46      science   508.000000   508.000000  Default  28.0000  28.0000\n",
       "77       update   271.000000   271.000000  Default  27.0000  27.0000\n",
       "151      watson   495.000000   495.000000  Default  26.0000  26.0000\n",
       "..          ...          ...          ...      ...      ...      ...\n",
       "271  assignment    22.655972   107.268350   Topic4  -5.3963   0.3589\n",
       "224         lot    24.019489   231.182374   Topic4  -5.3379  -0.3505\n",
       "33         work    22.672227   191.050049   Topic4  -5.3956  -0.2175\n",
       "154        need    22.621250   270.183100   Topic4  -5.3978  -0.5664\n",
       "151      watson    22.861170   495.334826   Topic4  -5.3873  -1.1619\n",
       "\n",
       "[314 rows x 6 columns], token_table=      Topic      Freq        Term\n",
       "term                             \n",
       "97        1  0.106922           2\n",
       "97        2  0.235229           2\n",
       "97        3  0.213845           2\n",
       "97        4  0.449074           2\n",
       "3559      4  0.814606  abilityfor\n",
       "...     ...       ...         ...\n",
       "82        1  0.360276       would\n",
       "82        2  0.219829       would\n",
       "82        3  0.232042       would\n",
       "82        4  0.183191       would\n",
       "2507      1  0.887304     wouldnt\n",
       "\n",
       "[546 rows x 3 columns], R=30, lambda_step=0.01, plot_opts={'xlab': 'PC1', 'ylab': 'PC2'}, topic_order=[2, 1, 4, 3])"
      ]
     },
     "execution_count": 204,
     "metadata": {},
     "output_type": "execute_result"
    }
   ],
   "source": [
    "# Visualize the topics\n",
    "pyLDAvis.enable_notebook()\n",
    "vis = pyLDAvis.gensim.prepare(lda_model, corpus, dictionary)\n",
    "vis"
   ]
  },
  {
   "cell_type": "markdown",
   "metadata": {},
   "source": [
    "What is topic perplexity and topic coherence: https://towardsdatascience.com/evaluate-topic-model-in-python-latent-dirichlet-allocation-lda-7d57484bb5d0"
   ]
  },
  {
   "cell_type": "code",
   "execution_count": 205,
   "metadata": {},
   "outputs": [
    {
     "name": "stdout",
     "output_type": "stream",
     "text": [
      "\n",
      "Perplexity:  -6.7411165601304495\n",
      "\n",
      "Coherence Score:  0.4834834957346823\n"
     ]
    }
   ],
   "source": [
    "# Calculate Perplexity and Coherence\n",
    "\n",
    "# Compute Perplexity\n",
    "\n",
    "print('\\nPerplexity: ', lda_model.log_perplexity(corpus))  # a measure of how good the model is. The lower the better.\n",
    "\n",
    "# Compute Coherence Score\n",
    "\n",
    "coherence_model_lda = CoherenceModel(model = lda_model, texts = df['preprocessed'], dictionary = dictionary, coherence = 'c_v')\n",
    "coherence_lda = coherence_model_lda.get_coherence()\n",
    "print('\\nCoherence Score: ', coherence_lda)"
   ]
  },
  {
   "cell_type": "markdown",
   "metadata": {},
   "source": [
    "## Hyperparameter Tuning\n",
    "\n",
    "Code references\n",
    "\n",
    "Find the optimal number of topics, alpha and beta: https://towardsdatascience.com/evaluate-topic-model-in-python-latent-dirichlet-allocation-lda-7d57484bb5d0\n",
    "\n",
    "What is alpha and beta: https://www.thoughtvector.io/blog/lda-alpha-and-beta-parameters-the-intuition/"
   ]
  },
  {
   "cell_type": "markdown",
   "metadata": {},
   "source": [
    "## Calculate the coherence score\n",
    "\n",
    "Code reference: \n",
    "\n",
    "https://www.machinelearningplus.com/nlp/topic-modeling-gensim-python/#17howtofindtheoptimalnumberoftopicsforlda"
   ]
  },
  {
   "cell_type": "code",
   "execution_count": 118,
   "metadata": {},
   "outputs": [],
   "source": [
    "# Determine the optiomal number of topics by calculating the coherence score\n",
    "\n",
    "# Define function for calculating coherence score\n",
    "\n",
    "def compute_coherence_values(dictionary, corpus, texts, limit, start = 2, step = 3):\n",
    "    \"\"\"\n",
    "    Compute c_v coherence for various number of topics\n",
    "\n",
    "    Parameters:\n",
    "    ----------\n",
    "    dictionary : Gensim dictionary\n",
    "    corpus : Gensim corpus\n",
    "    texts : List of input texts\n",
    "    limit : Max num of topics\n",
    "\n",
    "    Returns:\n",
    "    -------\n",
    "    model_list : List of LDA topic models\n",
    "    coherence_values : Coherence values corresponding to the LDA model with respective number of topics\n",
    "    \"\"\"\n",
    "    coherence_values = []\n",
    "    model_list = []\n",
    "    for num_topics in range(start, limit, step):\n",
    "        model = LDA(corpus = corpus, num_topics = num_topics, id2word = dictionary, random_state = 100,\n",
    "                chunksize = 100, passes = 10, alpha = 0.18)\n",
    "        model_list.append(model)\n",
    "        coherencemodel = CoherenceModel(model = model, texts = texts, dictionary = dictionary, coherence = 'c_v')\n",
    "        coherence_values.append(coherencemodel.get_coherence())\n",
    "\n",
    "    return model_list, coherence_values"
   ]
  },
  {
   "cell_type": "code",
   "execution_count": 119,
   "metadata": {},
   "outputs": [],
   "source": [
    "# Can take a long time to run.\n",
    "\n",
    "model_list, coherence_values = compute_coherence_values(dictionary = dictionary, corpus = corpus, texts = df['preprocessed'], start = 2, limit = 10, step = 1)"
   ]
  },
  {
   "cell_type": "code",
   "execution_count": 120,
   "metadata": {},
   "outputs": [
    {
     "data": {
      "image/png": "[encoded data removed]",
      "text/plain": [
       "<Figure size 432x288 with 1 Axes>"
      ]
     },
     "metadata": {
      "needs_background": "light"
     },
     "output_type": "display_data"
    }
   ],
   "source": [
    "# Show graph\n",
    "\n",
    "limit = 10; start = 2; step = 1;\n",
    "x = range(start, limit, step)\n",
    "plt.plot(x, coherence_values)\n",
    "plt.xlabel(\"Num Topics\")\n",
    "plt.ylabel(\"Coherence score\")\n",
    "plt.legend((\"coherence_values\"), loc = 'best')\n",
    "plt.show()\n"
   ]
  },
  {
   "cell_type": "code",
   "execution_count": 121,
   "metadata": {},
   "outputs": [
    {
     "name": "stdout",
     "output_type": "stream",
     "text": [
      "Num Topics = 2  has Coherence Value of 0.4784\n",
      "Num Topics = 3  has Coherence Value of 0.477\n",
      "Num Topics = 4  has Coherence Value of 0.4787\n",
      "Num Topics = 5  has Coherence Value of 0.453\n",
      "Num Topics = 6  has Coherence Value of 0.4517\n",
      "Num Topics = 7  has Coherence Value of 0.4469\n",
      "Num Topics = 8  has Coherence Value of 0.44\n",
      "Num Topics = 9  has Coherence Value of 0.4577\n"
     ]
    }
   ],
   "source": [
    "# Print the coherence scores\n",
    "\n",
    "for m, cv in zip(x, coherence_values):\n",
    "    print(\"Num Topics =\", m, \" has Coherence Value of\", round(cv, 4))"
   ]
  },
  {
   "cell_type": "markdown",
   "metadata": {},
   "source": [
    "## LDA Mallet Model\n",
    "\n",
    "Code reference:\n",
    "\n",
    "https://www.machinelearningplus.com/nlp/topic-modeling-gensim-python/#17howtofindtheoptimalnumberoftopicsforlda"
   ]
  },
  {
   "cell_type": "code",
   "execution_count": 84,
   "metadata": {},
   "outputs": [],
   "source": [
    "mallet_path = '/Users/siriamanda/Desktop/LNU-VT-2021/Thesis/11-data-analysis/mallet-2.0.8/bin/mallet' # update this path\n",
    "ldamallet = gensim.models.wrappers.LdaMallet(mallet_path, corpus = corpus, num_topics = 5, id2word = dictionary)"
   ]
  },
  {
   "cell_type": "code",
   "execution_count": 85,
   "metadata": {},
   "outputs": [
    {
     "name": "stdout",
     "output_type": "stream",
     "text": [
      "[(0,\n",
      "  [('ibm', 0.13843423387891934),\n",
      "   ('watson', 0.09879708144350227),\n",
      "   ('studio', 0.0700059159929008),\n",
      "   ('update', 0.06211792545848945),\n",
      "   ('notebook', 0.03332676000788799),\n",
      "   ('content', 0.027213567343719186),\n",
      "   ('jupyter', 0.02681916781699862),\n",
      "   ('cloud', 0.020705975152829816),\n",
      "   ('version', 0.019128377045947546),\n",
      "   ('tutorial', 0.01833957799250641)]),\n",
      " (1,\n",
      "  [('video', 0.0997229916897507),\n",
      "   ('lot', 0.05065294815987337),\n",
      "   ('time', 0.03957261574990107),\n",
      "   ('outdated', 0.037989711119905026),\n",
      "   ('experience', 0.031658092599920855),\n",
      "   ('material', 0.030273051048674317),\n",
      "   ('instruction', 0.024139295607439652),\n",
      "   ('videos', 0.023545706371191136),\n",
      "   ('follow', 0.02334784329244163),\n",
      "   ('find', 0.01820340324495449)]),\n",
      " (2,\n",
      "  [('give', 0.03394406943105111),\n",
      "   ('make', 0.030665380906460944),\n",
      "   ('week', 0.02892960462873674),\n",
      "   ('easy', 0.021986499517839923),\n",
      "   ('assignment', 0.020829315332690453),\n",
      "   ('platform', 0.02063645130183221),\n",
      "   ('start', 0.01909353905496625),\n",
      "   ('content', 0.0171648987463838),\n",
      "   ('student', 0.016200578592092573),\n",
      "   ('date', 0.013693346190935391)]),\n",
      " (3,\n",
      "  [('learn', 0.07640362724290951),\n",
      "   ('work', 0.03241366004244646),\n",
      "   ('beginner', 0.0293266448003087),\n",
      "   ('understand', 0.026046691105537333),\n",
      "   ('information', 0.025274937295002894),\n",
      "   ('helpful', 0.018907968358093767),\n",
      "   ('thing', 0.0175573991896585),\n",
      "   ('explain', 0.01659270692649045),\n",
      "   ('knowledge', 0.01659270692649045),\n",
      "   ('program', 0.01601389156858962)]),\n",
      " (4,\n",
      "  [('tool', 0.22102009273570325),\n",
      "   ('data', 0.14489953632148378),\n",
      "   ('science', 0.11282843894899536),\n",
      "   ('open', 0.04656105100463678),\n",
      "   ('source', 0.04404945904173107),\n",
      "   ('introduction', 0.03632148377125193),\n",
      "   ('basic', 0.0258887171561051),\n",
      "   ('excellent', 0.021058732612055642),\n",
      "   ('overview', 0.019899536321483773),\n",
      "   ('scientist', 0.014489953632148377)])]\n",
      "\n",
      "Coherence Score:  0.42015470703752544\n"
     ]
    }
   ],
   "source": [
    "# Show Topics\n",
    "pprint(ldamallet.show_topics(formatted = False))\n",
    "\n",
    "# Compute Coherence Score\n",
    "coherence_model_ldamallet = CoherenceModel(model = ldamallet, texts = df['preprocessed'], dictionary = dictionary, coherence = 'c_v')\n",
    "coherence_ldamallet = coherence_model_ldamallet.get_coherence()\n",
    "print('\\nCoherence Score: ', coherence_ldamallet)\n",
    "\n",
    "# The coherence score using the Mallet Model is lower than the original LDA Model"
   ]
  },
  {
   "cell_type": "code",
   "execution_count": null,
   "metadata": {},
   "outputs": [],
   "source": []
  },
  {
   "cell_type": "code",
   "execution_count": null,
   "metadata": {},
   "outputs": [],
   "source": []
  }
 ],
 "metadata": {
  "kernelspec": {
   "display_name": "Python 3",
   "language": "python",
   "name": "python3"
  },
  "language_info": {
   "codemirror_mode": {
    "name": "ipython",
    "version": 3
   },
   "file_extension": ".py",
   "mimetype": "text/x-python",
   "name": "python",
   "nbconvert_exporter": "python",
   "pygments_lexer": "ipython3",
   "version": "3.7.6"
  }
 },
 "nbformat": 4,
 "nbformat_minor": 4
}
