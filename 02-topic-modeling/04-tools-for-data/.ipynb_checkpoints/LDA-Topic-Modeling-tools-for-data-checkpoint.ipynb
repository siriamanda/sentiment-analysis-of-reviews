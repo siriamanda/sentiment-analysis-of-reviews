{
 "cells": [
  {
   "cell_type": "code",
   "execution_count": 1,
   "metadata": {},
   "outputs": [
    {
     "name": "stderr",
     "output_type": "stream",
     "text": [
      "/Users/siriamanda/opt/anaconda3/lib/python3.7/site-packages/scipy/sparse/sparsetools.py:21: DeprecationWarning: `scipy.sparse.sparsetools` is deprecated!\n",
      "scipy.sparse.sparsetools is a private module for scipy.sparse, and should not be used.\n",
      "  _deprecated()\n",
      "/Users/siriamanda/opt/anaconda3/lib/python3.7/site-packages/nltk/decorators.py:70: DeprecationWarning: `formatargspec` is deprecated since Python 3.5. Use `signature` and the `Signature` object directly\n",
      "  formatvalue=lambda value: \"\")[1:-1]\n"
     ]
    }
   ],
   "source": [
    "# Import the libraries\n",
    "\n",
    "import pandas as pd \n",
    "import numpy as np\n",
    "\n",
    "from pprint import pprint\n",
    "\n",
    "# libraries for visualization\n",
    "import pyLDAvis\n",
    "import pyLDAvis.gensim\n",
    "import matplotlib.pyplot as plt\n",
    "import seaborn as sns\n",
    "%matplotlib inline\n",
    "\n",
    "import re\n",
    "\n",
    "import spacy\n",
    "\n",
    "import gensim\n",
    "from gensim import corpora, models\n",
    "from gensim.utils import simple_preprocess\n",
    "from gensim.models import CoherenceModel\n",
    "\n",
    "import nltk\n",
    "from nltk import FreqDist\n",
    "from nltk.corpus import stopwords\n",
    "from nltk.tokenize import RegexpTokenizer\n",
    "from nltk.stem import WordNetLemmatizer, SnowballStemmer\n",
    "from nltk.tag import pos_tag, pos_tag_sents\n",
    "from nltk.corpus import wordnet\n",
    "\n",
    "import warnings\n",
    "warnings.filterwarnings(\"ignore\")\n"
   ]
  },
  {
   "cell_type": "markdown",
   "metadata": {},
   "source": [
    "Code references:\n",
    "\n",
    "https://www.analyticsvidhya.com/blog/2018/10/mining-online-reviews-topic-modeling-lda/\n"
   ]
  },
  {
   "cell_type": "code",
   "execution_count": 3,
   "metadata": {},
   "outputs": [],
   "source": [
    "df = pd.read_csv('/Users/siriamanda/Desktop/LNU-VT-2021/Thesis/11-data-analysis/sentiment-analysis-of-reviews/01-sentiment-analysis/04-tools-for-data/VADER-tools-for-data.csv')\n"
   ]
  },
  {
   "cell_type": "code",
   "execution_count": 4,
   "metadata": {},
   "outputs": [
    {
     "data": {
      "text/html": [
       "<div>\n",
       "<style scoped>\n",
       "    .dataframe tbody tr th:only-of-type {\n",
       "        vertical-align: middle;\n",
       "    }\n",
       "\n",
       "    .dataframe tbody tr th {\n",
       "        vertical-align: top;\n",
       "    }\n",
       "\n",
       "    .dataframe thead th {\n",
       "        text-align: right;\n",
       "    }\n",
       "</style>\n",
       "<table border=\"1\" class=\"dataframe\">\n",
       "  <thead>\n",
       "    <tr style=\"text-align: right;\">\n",
       "      <th></th>\n",
       "      <th>Unnamed: 0</th>\n",
       "      <th>date</th>\n",
       "      <th>review</th>\n",
       "      <th>rating</th>\n",
       "      <th>status</th>\n",
       "      <th>length</th>\n",
       "      <th>label</th>\n",
       "      <th>language_scores</th>\n",
       "      <th>language</th>\n",
       "      <th>scores</th>\n",
       "      <th>compound</th>\n",
       "      <th>sentiment</th>\n",
       "    </tr>\n",
       "  </thead>\n",
       "  <tbody>\n",
       "    <tr>\n",
       "      <th>0</th>\n",
       "      <td>0</td>\n",
       "      <td>2021-03-10</td>\n",
       "      <td>Some of the lab instructions are out of synch ...</td>\n",
       "      <td>3</td>\n",
       "      <td>completer</td>\n",
       "      <td>442</td>\n",
       "      <td>neu</td>\n",
       "      <td>{'language': 'en', 'score': 0.999997056713954}</td>\n",
       "      <td>en</td>\n",
       "      <td>{'neg': 0.075, 'neu': 0.895, 'pos': 0.029, 'co...</td>\n",
       "      <td>-0.3818</td>\n",
       "      <td>neg</td>\n",
       "    </tr>\n",
       "    <tr>\n",
       "      <th>1</th>\n",
       "      <td>1</td>\n",
       "      <td>2021-03-10</td>\n",
       "      <td>Very nice course.</td>\n",
       "      <td>5</td>\n",
       "      <td>completer</td>\n",
       "      <td>18</td>\n",
       "      <td>pos</td>\n",
       "      <td>{'language': 'en', 'score': 0.9999965592297603}</td>\n",
       "      <td>en</td>\n",
       "      <td>{'neg': 0.0, 'neu': 0.393, 'pos': 0.607, 'comp...</td>\n",
       "      <td>0.4754</td>\n",
       "      <td>pos</td>\n",
       "    </tr>\n",
       "    <tr>\n",
       "      <th>2</th>\n",
       "      <td>2</td>\n",
       "      <td>2021-03-10</td>\n",
       "      <td>I have learned much knowledge about data scien...</td>\n",
       "      <td>5</td>\n",
       "      <td>completer</td>\n",
       "      <td>210</td>\n",
       "      <td>pos</td>\n",
       "      <td>{'language': 'en', 'score': 0.9999959027806586}</td>\n",
       "      <td>en</td>\n",
       "      <td>{'neg': 0.0, 'neu': 0.727, 'pos': 0.273, 'comp...</td>\n",
       "      <td>0.8923</td>\n",
       "      <td>pos</td>\n",
       "    </tr>\n",
       "    <tr>\n",
       "      <th>3</th>\n",
       "      <td>3</td>\n",
       "      <td>2021-03-08</td>\n",
       "      <td>Clear Idea about the Data Science and its tools</td>\n",
       "      <td>5</td>\n",
       "      <td>completer</td>\n",
       "      <td>47</td>\n",
       "      <td>pos</td>\n",
       "      <td>{'language': 'en', 'score': 0.9999971743061971}</td>\n",
       "      <td>en</td>\n",
       "      <td>{'neg': 0.0, 'neu': 0.755, 'pos': 0.245, 'comp...</td>\n",
       "      <td>0.3818</td>\n",
       "      <td>pos</td>\n",
       "    </tr>\n",
       "    <tr>\n",
       "      <th>4</th>\n",
       "      <td>4</td>\n",
       "      <td>2021-03-08</td>\n",
       "      <td>Nice overview, though the course materials hav...</td>\n",
       "      <td>3</td>\n",
       "      <td>completer</td>\n",
       "      <td>450</td>\n",
       "      <td>neu</td>\n",
       "      <td>{'language': 'en', 'score': 0.9999962557747355}</td>\n",
       "      <td>en</td>\n",
       "      <td>{'neg': 0.055, 'neu': 0.873, 'pos': 0.072, 'co...</td>\n",
       "      <td>0.3400</td>\n",
       "      <td>pos</td>\n",
       "    </tr>\n",
       "  </tbody>\n",
       "</table>\n",
       "</div>"
      ],
      "text/plain": [
       "   Unnamed: 0        date                                             review  \\\n",
       "0           0  2021-03-10  Some of the lab instructions are out of synch ...   \n",
       "1           1  2021-03-10                                 Very nice course.    \n",
       "2           2  2021-03-10  I have learned much knowledge about data scien...   \n",
       "3           3  2021-03-08    Clear Idea about the Data Science and its tools   \n",
       "4           4  2021-03-08  Nice overview, though the course materials hav...   \n",
       "\n",
       "   rating     status  length label  \\\n",
       "0       3  completer     442   neu   \n",
       "1       5  completer      18   pos   \n",
       "2       5  completer     210   pos   \n",
       "3       5  completer      47   pos   \n",
       "4       3  completer     450   neu   \n",
       "\n",
       "                                   language_scores language  \\\n",
       "0   {'language': 'en', 'score': 0.999997056713954}       en   \n",
       "1  {'language': 'en', 'score': 0.9999965592297603}       en   \n",
       "2  {'language': 'en', 'score': 0.9999959027806586}       en   \n",
       "3  {'language': 'en', 'score': 0.9999971743061971}       en   \n",
       "4  {'language': 'en', 'score': 0.9999962557747355}       en   \n",
       "\n",
       "                                              scores  compound sentiment  \n",
       "0  {'neg': 0.075, 'neu': 0.895, 'pos': 0.029, 'co...   -0.3818       neg  \n",
       "1  {'neg': 0.0, 'neu': 0.393, 'pos': 0.607, 'comp...    0.4754       pos  \n",
       "2  {'neg': 0.0, 'neu': 0.727, 'pos': 0.273, 'comp...    0.8923       pos  \n",
       "3  {'neg': 0.0, 'neu': 0.755, 'pos': 0.245, 'comp...    0.3818       pos  \n",
       "4  {'neg': 0.055, 'neu': 0.873, 'pos': 0.072, 'co...    0.3400       pos  "
      ]
     },
     "execution_count": 4,
     "metadata": {},
     "output_type": "execute_result"
    }
   ],
   "source": [
    "df.head()"
   ]
  },
  {
   "cell_type": "code",
   "execution_count": 5,
   "metadata": {},
   "outputs": [],
   "source": [
    "df.drop(['Unnamed: 0', 'language_scores', 'language', 'scores'], axis = 1, inplace = True)"
   ]
  },
  {
   "cell_type": "code",
   "execution_count": 6,
   "metadata": {},
   "outputs": [
    {
     "data": {
      "text/html": [
       "<div>\n",
       "<style scoped>\n",
       "    .dataframe tbody tr th:only-of-type {\n",
       "        vertical-align: middle;\n",
       "    }\n",
       "\n",
       "    .dataframe tbody tr th {\n",
       "        vertical-align: top;\n",
       "    }\n",
       "\n",
       "    .dataframe thead th {\n",
       "        text-align: right;\n",
       "    }\n",
       "</style>\n",
       "<table border=\"1\" class=\"dataframe\">\n",
       "  <thead>\n",
       "    <tr style=\"text-align: right;\">\n",
       "      <th></th>\n",
       "      <th>date</th>\n",
       "      <th>review</th>\n",
       "      <th>rating</th>\n",
       "      <th>status</th>\n",
       "      <th>length</th>\n",
       "      <th>label</th>\n",
       "      <th>compound</th>\n",
       "      <th>sentiment</th>\n",
       "    </tr>\n",
       "  </thead>\n",
       "  <tbody>\n",
       "    <tr>\n",
       "      <th>0</th>\n",
       "      <td>2021-03-10</td>\n",
       "      <td>Some of the lab instructions are out of synch ...</td>\n",
       "      <td>3</td>\n",
       "      <td>completer</td>\n",
       "      <td>442</td>\n",
       "      <td>neu</td>\n",
       "      <td>-0.3818</td>\n",
       "      <td>neg</td>\n",
       "    </tr>\n",
       "    <tr>\n",
       "      <th>1</th>\n",
       "      <td>2021-03-10</td>\n",
       "      <td>Very nice course.</td>\n",
       "      <td>5</td>\n",
       "      <td>completer</td>\n",
       "      <td>18</td>\n",
       "      <td>pos</td>\n",
       "      <td>0.4754</td>\n",
       "      <td>pos</td>\n",
       "    </tr>\n",
       "    <tr>\n",
       "      <th>2</th>\n",
       "      <td>2021-03-10</td>\n",
       "      <td>I have learned much knowledge about data scien...</td>\n",
       "      <td>5</td>\n",
       "      <td>completer</td>\n",
       "      <td>210</td>\n",
       "      <td>pos</td>\n",
       "      <td>0.8923</td>\n",
       "      <td>pos</td>\n",
       "    </tr>\n",
       "    <tr>\n",
       "      <th>3</th>\n",
       "      <td>2021-03-08</td>\n",
       "      <td>Clear Idea about the Data Science and its tools</td>\n",
       "      <td>5</td>\n",
       "      <td>completer</td>\n",
       "      <td>47</td>\n",
       "      <td>pos</td>\n",
       "      <td>0.3818</td>\n",
       "      <td>pos</td>\n",
       "    </tr>\n",
       "    <tr>\n",
       "      <th>4</th>\n",
       "      <td>2021-03-08</td>\n",
       "      <td>Nice overview, though the course materials hav...</td>\n",
       "      <td>3</td>\n",
       "      <td>completer</td>\n",
       "      <td>450</td>\n",
       "      <td>neu</td>\n",
       "      <td>0.3400</td>\n",
       "      <td>pos</td>\n",
       "    </tr>\n",
       "    <tr>\n",
       "      <th>...</th>\n",
       "      <td>...</td>\n",
       "      <td>...</td>\n",
       "      <td>...</td>\n",
       "      <td>...</td>\n",
       "      <td>...</td>\n",
       "      <td>...</td>\n",
       "      <td>...</td>\n",
       "      <td>...</td>\n",
       "    </tr>\n",
       "    <tr>\n",
       "      <th>3031</th>\n",
       "      <td>2018-09-19</td>\n",
       "      <td>Another Great class.  Really introduces you to...</td>\n",
       "      <td>5</td>\n",
       "      <td>dropout</td>\n",
       "      <td>188</td>\n",
       "      <td>pos</td>\n",
       "      <td>0.8360</td>\n",
       "      <td>pos</td>\n",
       "    </tr>\n",
       "    <tr>\n",
       "      <th>3032</th>\n",
       "      <td>2018-09-19</td>\n",
       "      <td>Great introduction to the various open source ...</td>\n",
       "      <td>5</td>\n",
       "      <td>dropout</td>\n",
       "      <td>75</td>\n",
       "      <td>pos</td>\n",
       "      <td>0.6249</td>\n",
       "      <td>pos</td>\n",
       "    </tr>\n",
       "    <tr>\n",
       "      <th>3033</th>\n",
       "      <td>2018-09-19</td>\n",
       "      <td>Simple trivial materials</td>\n",
       "      <td>3</td>\n",
       "      <td>dropout</td>\n",
       "      <td>24</td>\n",
       "      <td>neu</td>\n",
       "      <td>-0.0258</td>\n",
       "      <td>neg</td>\n",
       "    </tr>\n",
       "    <tr>\n",
       "      <th>3034</th>\n",
       "      <td>2018-09-19</td>\n",
       "      <td>Very practical course!</td>\n",
       "      <td>5</td>\n",
       "      <td>dropout</td>\n",
       "      <td>22</td>\n",
       "      <td>pos</td>\n",
       "      <td>0.0000</td>\n",
       "      <td>neu</td>\n",
       "    </tr>\n",
       "    <tr>\n",
       "      <th>3035</th>\n",
       "      <td>2018-09-18</td>\n",
       "      <td>Great Course introducing us to these tools</td>\n",
       "      <td>5</td>\n",
       "      <td>dropout</td>\n",
       "      <td>42</td>\n",
       "      <td>pos</td>\n",
       "      <td>0.6249</td>\n",
       "      <td>pos</td>\n",
       "    </tr>\n",
       "  </tbody>\n",
       "</table>\n",
       "<p>3036 rows × 8 columns</p>\n",
       "</div>"
      ],
      "text/plain": [
       "            date                                             review  rating  \\\n",
       "0     2021-03-10  Some of the lab instructions are out of synch ...       3   \n",
       "1     2021-03-10                                 Very nice course.        5   \n",
       "2     2021-03-10  I have learned much knowledge about data scien...       5   \n",
       "3     2021-03-08    Clear Idea about the Data Science and its tools       5   \n",
       "4     2021-03-08  Nice overview, though the course materials hav...       3   \n",
       "...          ...                                                ...     ...   \n",
       "3031  2018-09-19  Another Great class.  Really introduces you to...       5   \n",
       "3032  2018-09-19  Great introduction to the various open source ...       5   \n",
       "3033  2018-09-19                           Simple trivial materials       3   \n",
       "3034  2018-09-19                             Very practical course!       5   \n",
       "3035  2018-09-18         Great Course introducing us to these tools       5   \n",
       "\n",
       "         status  length label  compound sentiment  \n",
       "0     completer     442   neu   -0.3818       neg  \n",
       "1     completer      18   pos    0.4754       pos  \n",
       "2     completer     210   pos    0.8923       pos  \n",
       "3     completer      47   pos    0.3818       pos  \n",
       "4     completer     450   neu    0.3400       pos  \n",
       "...         ...     ...   ...       ...       ...  \n",
       "3031    dropout     188   pos    0.8360       pos  \n",
       "3032    dropout      75   pos    0.6249       pos  \n",
       "3033    dropout      24   neu   -0.0258       neg  \n",
       "3034    dropout      22   pos    0.0000       neu  \n",
       "3035    dropout      42   pos    0.6249       pos  \n",
       "\n",
       "[3036 rows x 8 columns]"
      ]
     },
     "execution_count": 6,
     "metadata": {},
     "output_type": "execute_result"
    }
   ],
   "source": [
    "df"
   ]
  },
  {
   "cell_type": "code",
   "execution_count": 7,
   "metadata": {},
   "outputs": [
    {
     "data": {
      "text/plain": [
       "0"
      ]
     },
     "execution_count": 7,
     "metadata": {},
     "output_type": "execute_result"
    }
   ],
   "source": [
    "# Check for null values\n",
    "\n",
    "len(df[df['review'].isna()==True])"
   ]
  },
  {
   "cell_type": "code",
   "execution_count": 8,
   "metadata": {},
   "outputs": [],
   "source": [
    "# Drop null values\n",
    "\n",
    "# df.dropna(inplace = True)"
   ]
  },
  {
   "cell_type": "code",
   "execution_count": 9,
   "metadata": {},
   "outputs": [],
   "source": [
    "# Check for null values\n",
    "\n",
    "# len(df[df['review'].isna()==True])"
   ]
  },
  {
   "cell_type": "code",
   "execution_count": 10,
   "metadata": {},
   "outputs": [],
   "source": [
    "# Reset the index\n",
    "\n",
    "# df = df.reset_index(drop = True)"
   ]
  },
  {
   "cell_type": "code",
   "execution_count": 11,
   "metadata": {},
   "outputs": [],
   "source": [
    "# df"
   ]
  },
  {
   "cell_type": "code",
   "execution_count": 12,
   "metadata": {},
   "outputs": [],
   "source": [
    "# Define a function to plot the most frequent words\n",
    "\n",
    "def freq_words(x, terms = 30):\n",
    "    all_words = ' '.join([text for text in x])\n",
    "    all_words = all_words.split()\n",
    "\n",
    "    fdist = FreqDist(all_words)\n",
    "    words_df = pd.DataFrame({'word':list(fdist.keys()), 'count':list(fdist.values())})\n",
    "    \n",
    "    # selecting top 20 most frequent words\n",
    "    d = words_df.nlargest(columns=\"count\", n = terms) \n",
    "    plt.figure(figsize=(20,5))\n",
    "    ax = sns.barplot(data=d, x= \"word\", y = \"count\")\n",
    "    ax.set(ylabel = 'Count')\n",
    "    plt.xticks(rotation = 45)\n",
    "    plt.show()"
   ]
  },
  {
   "cell_type": "code",
   "execution_count": 13,
   "metadata": {},
   "outputs": [
    {
     "data": {
      "image/png": "[encoded data removed]",
      "text/plain": [
       "<Figure size 1440x360 with 1 Axes>"
      ]
     },
     "metadata": {
      "needs_background": "light"
     },
     "output_type": "display_data"
    }
   ],
   "source": [
    "# The most frquent words are stop words such as 'to' and 'the' we will remove these in the preprocessing steps\n",
    "\n",
    "freq_words(df['review'])"
   ]
  },
  {
   "cell_type": "markdown",
   "metadata": {},
   "source": [
    "## Preprocessing"
   ]
  },
  {
   "cell_type": "code",
   "execution_count": 14,
   "metadata": {},
   "outputs": [
    {
     "data": {
      "text/plain": [
       "0    still difficult for me get to used to listen t...\n",
       "1    very good course, i think there could be a lit...\n",
       "2    instructions are clear, pace is good and thank...\n",
       "3    this course was amazing, mostly teaches how to...\n",
       "4                              easy exploratory course\n",
       "Name: preprocessed, dtype: object"
      ]
     },
     "execution_count": 14,
     "metadata": {},
     "output_type": "execute_result"
    }
   ],
   "source": [
    "# Covert to lowercase\n",
    "\n",
    "df['preprocessed'] =  df['review'].apply(lambda x: \" \".join(x.lower() for x in x.split()))\n",
    "df['preprocessed'].head()"
   ]
  },
  {
   "cell_type": "code",
   "execution_count": 15,
   "metadata": {},
   "outputs": [
    {
     "data": {
      "text/plain": [
       "0    still difficult for me get to used to listen t...\n",
       "1    very good course i think there could be a litt...\n",
       "2    instructions are clear pace is good and thanks...\n",
       "3    this course was amazing mostly teaches how to ...\n",
       "4                              easy exploratory course\n",
       "Name: preprocessed, dtype: object"
      ]
     },
     "execution_count": 15,
     "metadata": {},
     "output_type": "execute_result"
    }
   ],
   "source": [
    "# Remove punctuations\n",
    "\n",
    "df['preprocessed'] = df['preprocessed'].str.replace('[^\\w\\s]','')\n",
    "df['preprocessed'].head()"
   ]
  },
  {
   "cell_type": "code",
   "execution_count": 16,
   "metadata": {},
   "outputs": [
    {
     "data": {
      "text/plain": [
       "0        still difficult get used listen computer talk\n",
       "1              course think could little r programming\n",
       "2      instructions clear pace thanks knowledge learnt\n",
       "3    course amazing mostly teaches manage work data...\n",
       "4                              easy exploratory course\n",
       "Name: preprocessed, dtype: object"
      ]
     },
     "execution_count": 16,
     "metadata": {},
     "output_type": "execute_result"
    }
   ],
   "source": [
    "# Remove stopwords\n",
    "\n",
    "stop = stopwords.words('english')\n",
    "stop.extend(['good', 'great', 'really', 'like', 'nice'])\n",
    "\n",
    "df['preprocessed'] = df['preprocessed'].apply(lambda x: \" \".join(x for x in x.split() if x not in stop))\n",
    "df['preprocessed'].head()"
   ]
  },
  {
   "cell_type": "code",
   "execution_count": 17,
   "metadata": {},
   "outputs": [],
   "source": [
    "# Remove short words (length < 3)\n",
    "\n",
    "# df['review'] = df['review'].apply(lambda x: ' '.join([w for w in x.split() if len(w)>2]))\n",
    "# df['review'].head()"
   ]
  },
  {
   "cell_type": "code",
   "execution_count": 18,
   "metadata": {},
   "outputs": [
    {
     "data": {
      "image/png": "[encoded data removed]",
      "text/plain": [
       "<Figure size 1440x360 with 1 Axes>"
      ]
     },
     "metadata": {
      "needs_background": "light"
     },
     "output_type": "display_data"
    }
   ],
   "source": [
    "# Look at the most frequent words again \n",
    "\n",
    "freq_words(df['preprocessed'])"
   ]
  },
  {
   "cell_type": "code",
   "execution_count": 19,
   "metadata": {},
   "outputs": [
    {
     "data": {
      "text/plain": [
       "0    [still, difficult, get, used, listen, computer...\n",
       "1       [course, think, could, little, r, programming]\n",
       "2    [instructions, clear, pace, thanks, knowledge,...\n",
       "3    [course, amazing, mostly, teaches, manage, wor...\n",
       "4                          [easy, exploratory, course]\n",
       "Name: preprocessed, dtype: object"
      ]
     },
     "execution_count": 19,
     "metadata": {},
     "output_type": "execute_result"
    }
   ],
   "source": [
    "# Tokenization\n",
    "\n",
    "tokenizer = RegexpTokenizer(r'\\w+')\n",
    "\n",
    "df['preprocessed'] = df['preprocessed'].apply(lambda x: tokenizer.tokenize(x.lower()))\n",
    "df['preprocessed'].head(5)\n"
   ]
  },
  {
   "cell_type": "code",
   "execution_count": 20,
   "metadata": {},
   "outputs": [
    {
     "data": {
      "text/plain": [
       "0    [(still, RB), (difficult, JJ), (get, VBP), (us...\n",
       "1    [(course, NN), (think, NN), (could, MD), (litt...\n",
       "2    [(instructions, NNS), (clear, JJ), (pace, NN),...\n",
       "3    [(course, NN), (amazing, VBG), (mostly, RB), (...\n",
       "4        [(easy, JJ), (exploratory, JJ), (course, NN)]\n",
       "Name: preprocessed, dtype: object"
      ]
     },
     "execution_count": 20,
     "metadata": {},
     "output_type": "execute_result"
    }
   ],
   "source": [
    "# Add speech tags\n",
    "\n",
    "df['preprocessed'] = df['preprocessed'].apply(nltk.tag.pos_tag)\n",
    "df['preprocessed'].head()"
   ]
  },
  {
   "cell_type": "code",
   "execution_count": 21,
   "metadata": {},
   "outputs": [],
   "source": [
    "# Define function to convert parts of speech tags to wordnet’s format\n",
    "\n",
    "def get_wordnet_pos(tag):\n",
    "    if tag.startswith('J'):\n",
    "        return wordnet.ADJ\n",
    "    elif tag.startswith('V'):\n",
    "        return wordnet.VERB\n",
    "    elif tag.startswith('N'):\n",
    "        return wordnet.NOUN\n",
    "    elif tag.startswith('R'):\n",
    "        return wordnet.ADV\n",
    "    else:\n",
    "        return wordnet.NOUN"
   ]
  },
  {
   "cell_type": "code",
   "execution_count": 22,
   "metadata": {},
   "outputs": [
    {
     "data": {
      "text/plain": [
       "0    [(still, r), (difficult, a), (get, v), (used, ...\n",
       "1    [(course, n), (think, n), (could, n), (little,...\n",
       "2    [(instructions, n), (clear, a), (pace, n), (th...\n",
       "3    [(course, n), (amazing, v), (mostly, r), (teac...\n",
       "4           [(easy, a), (exploratory, a), (course, n)]\n",
       "Name: preprocessed, dtype: object"
      ]
     },
     "execution_count": 22,
     "metadata": {},
     "output_type": "execute_result"
    }
   ],
   "source": [
    "# Apply the function to the tagged data\n",
    "\n",
    "df['preprocessed'] = df['preprocessed'].apply(lambda x: [(word, get_wordnet_pos(pos_tag)) for (word, pos_tag) in x])\n",
    "df['preprocessed'].head()"
   ]
  },
  {
   "cell_type": "code",
   "execution_count": 23,
   "metadata": {},
   "outputs": [
    {
     "data": {
      "text/plain": [
       "0    [still, difficult, get, use, listen, computer,...\n",
       "1       [course, think, could, little, r, programming]\n",
       "2    [instruction, clear, pace, thanks, knowledge, ...\n",
       "3    [course, amaze, mostly, teach, manage, work, d...\n",
       "4                          [easy, exploratory, course]\n",
       "Name: preprocessed, dtype: object"
      ]
     },
     "execution_count": 23,
     "metadata": {},
     "output_type": "execute_result"
    }
   ],
   "source": [
    "# Create lemmatizer\n",
    "\n",
    "lemmatizer = WordNetLemmatizer()\n",
    "\n",
    "# Apply to data \n",
    "\n",
    "df['preprocessed'] = df['preprocessed'].apply(lambda x: [lemmatizer.lemmatize(word, tag) for word, tag in x])\n",
    "df['preprocessed'].head()"
   ]
  },
  {
   "cell_type": "code",
   "execution_count": 24,
   "metadata": {},
   "outputs": [],
   "source": [
    "# Join reviews\n",
    "\n",
    "df['joined'] = df['preprocessed'].apply(lambda x: ' '.join(x))"
   ]
  },
  {
   "cell_type": "code",
   "execution_count": 25,
   "metadata": {},
   "outputs": [
    {
     "data": {
      "image/png": "[encoded data removed]",
      "text/plain": [
       "<Figure size 1440x360 with 1 Axes>"
      ]
     },
     "metadata": {
      "needs_background": "light"
     },
     "output_type": "display_data"
    }
   ],
   "source": [
    "# Most frequent words after lemmatizing \n",
    "\n",
    "freq_words(df['joined'], 35)"
   ]
  },
  {
   "cell_type": "markdown",
   "metadata": {},
   "source": [
    "## LDA Topic Modeling"
   ]
  },
  {
   "cell_type": "code",
   "execution_count": 26,
   "metadata": {},
   "outputs": [],
   "source": [
    "# Create a dictionary from 'df_sen['review']' containing the number of times a word appears in the training set\n",
    "\n",
    "dictionary = gensim.corpora.Dictionary(df['preprocessed'])"
   ]
  },
  {
   "cell_type": "code",
   "execution_count": 27,
   "metadata": {},
   "outputs": [],
   "source": [
    "# Gensim filter extremes\n",
    "\n",
    "# Filter out tokens that appear in:\n",
    "# Less than 50 documents, more than 0.5 documents, and keep only 100000 most frquent tokens\n",
    "\n",
    "# dictionary.filter_extremes(no_below = 50, no_above = 0.5, keep_n = 100000)"
   ]
  },
  {
   "cell_type": "code",
   "execution_count": 28,
   "metadata": {},
   "outputs": [],
   "source": [
    "# Gensim doc2bow\n",
    "# Create a dictionary reporting how many words and how many times those words appear\n",
    "\n",
    "corpus = [dictionary.doc2bow(doc) for doc in df['preprocessed']]\n"
   ]
  },
  {
   "cell_type": "code",
   "execution_count": 29,
   "metadata": {},
   "outputs": [],
   "source": [
    "# Add TF-IDF\n",
    "\n",
    "tfidf = models.TfidfModel(corpus)      # Create a TF-IDF model\n",
    "corpus_tfidf = tfidf[corpus]  "
   ]
  },
  {
   "cell_type": "code",
   "execution_count": 30,
   "metadata": {},
   "outputs": [],
   "source": [
    "# Creating the object for LDA model using gensim library\n",
    "LDA = gensim.models.LdaMulticore\n",
    "\n",
    "# Build LDA model\n",
    "lda_model = LDA(corpus = corpus, id2word = dictionary, num_topics = 5, random_state = 100,\n",
    "                chunksize = 100, passes = 10)"
   ]
  },
  {
   "cell_type": "code",
   "execution_count": 31,
   "metadata": {},
   "outputs": [
    {
     "name": "stdout",
     "output_type": "stream",
     "text": [
      "Topic: 0\n",
      "Word: 0.080*\"course\" + 0.021*\"learn\" + 0.015*\"content\" + 0.013*\"week\" + 0.012*\"could\" + 0.011*\"look\" + 0.010*\"take\" + 0.010*\"coursera\" + 0.010*\"intro\" + 0.010*\"much\"\n",
      "\n",
      "Topic: 1\n",
      "Word: 0.054*\"course\" + 0.030*\"easy\" + 0.018*\"use\" + 0.017*\"git\" + 0.016*\"would\" + 0.014*\"github\" + 0.013*\"understand\" + 0.012*\"follow\" + 0.010*\"awesome\" + 0.009*\"time\"\n",
      "\n",
      "Topic: 2\n",
      "Word: 0.094*\"course\" + 0.090*\"data\" + 0.065*\"science\" + 0.041*\"introduction\" + 0.034*\"tool\" + 0.031*\"start\" + 0.029*\"basic\" + 0.022*\"r\" + 0.015*\"get\" + 0.014*\"scientist\"\n",
      "\n",
      "Topic: 3\n",
      "Word: 0.035*\"course\" + 0.029*\"well\" + 0.012*\"get\" + 0.012*\"experience\" + 0.011*\"material\" + 0.011*\"video\" + 0.011*\"learn\" + 0.011*\"make\" + 0.008*\"one\" + 0.008*\"content\"\n",
      "\n",
      "Topic: 4\n",
      "Word: 0.032*\"excellent\" + 0.019*\"informative\" + 0.010*\"voice\" + 0.010*\"basic\" + 0.010*\"interesting\" + 0.009*\"start\" + 0.008*\"extremely\" + 0.008*\"doesnt\" + 0.007*\"pretty\" + 0.007*\"worth\"\n",
      "\n"
     ]
    }
   ],
   "source": [
    "# Explore the words occurring in each topic and its relative weight\n",
    "\n",
    "for id, topic in lda_model.print_topics(-1):\n",
    "    print('Topic: {}\\nWord: {}\\n'.format(id, topic))"
   ]
  },
  {
   "cell_type": "markdown",
   "metadata": {},
   "source": [
    "### Visualise with pyLDAvis\n",
    "\n",
    "Original paper: https://nlp.stanford.edu/events/illvi2014/papers/sievert-illvi2014.pdf"
   ]
  },
  {
   "cell_type": "code",
   "execution_count": 32,
   "metadata": {
    "scrolled": false
   },
   "outputs": [
    {
     "data": {
      "text/html": [
       "\n",
       "<link rel=\"stylesheet\" type=\"text/css\" href=\"https://cdn.jsdelivr.net/gh/bmabey/pyLDAvis@3.2.2/pyLDAvis/js/ldavis.v1.0.0.css\">\n",
       "\n",
       "\n",
       "<div id=\"ldavis_el366361402244048592161381272064\"></div>\n",
       "<script type=\"text/javascript\">\n",
       "\n",
       "var ldavis_el366361402244048592161381272064_data = {\"mdsDat\": {\"x\": [-0.20174762863282023, -0.04908787690710035, 0.025142476566136062, -0.03607076414582108, 0.26176379311960557], \"y\": [-0.17572592486896535, 0.07433869860602318, 0.11998513621287882, 0.10056463575933705, -0.11916254570927398], \"topics\": [1, 2, 3, 4, 5], \"cluster\": [1, 1, 1, 1, 1], \"Freq\": [33.26288481932689, 21.036783606001332, 19.01269575529096, 18.333781992806784, 8.353853826574024]}, \"tinfo\": {\"Term\": [\"data\", \"science\", \"introduction\", \"tool\", \"start\", \"excellent\", \"easy\", \"well\", \"course\", \"basic\", \"informative\", \"scientist\", \"week\", \"use\", \"content\", \"git\", \"forward\", \"look\", \"would\", \"follow\", \"awesome\", \"experience\", \"understand\", \"r\", \"coursera\", \"voice\", \"video\", \"interesting\", \"take\", \"could\", \"science\", \"data\", \"foundation\", \"analysis\", \"introduction\", \"essential\", \"fundamental\", \"starter\", \"scientist\", \"field\", \"world\", \"journey\", \"strongly\", \"skip\", \"tool\", \"lay\", \"gitgithub\", \"usage\", \"foundational\", \"strong\", \"decent\", \"subsequent\", \"introduces\", \"dive\", \"manage\", \"discussion\", \"element\", \"statistical\", \"community\", \"start\", \"begin\", \"career\", \"toolbox\", \"general\", \"basic\", \"beginner\", \"r\", \"introduce\", \"overview\", \"highly\", \"set\", \"necessary\", \"require\", \"anyone\", \"course\", \"introductory\", \"helpful\", \"recommend\", \"give\", \"specialization\", \"get\", \"useful\", \"use\", \"excellent\", \"github\", \"concept\", \"learn\", \"help\", \"need\", \"rstudio\", \"program\", \"git\", \"forward\", \"week\", \"pay\", \"2\", \"depth\", \"hopkins\", \"info\", \"money\", \"3\", \"john\", \"back\", \"bash\", \"opinion\", \"matter\", \"isnt\", \"move\", \"almost\", \"charge\", \"happy\", \"light\", \"gitbash\", \"value\", \"basically\", \"price\", \"internet\", \"trade\", \"love\", \"interactive\", \"compare\", \"opportunity\", \"thought\", \"1\", \"look\", \"4\", \"coursera\", \"solid\", \"university\", \"question\", \"setup\", \"next\", \"content\", \"could\", \"thank\", \"take\", \"information\", \"good\", \"course\", \"intro\", \"learn\", \"much\", \"little\", \"find\", \"think\", \"lot\", \"overall\", \"complete\", \"specialization\", \"subject\", \"first\", \"go\", \"would\", \"basic\", \"get\", \"material\", \"one\", \"new\", \"need\", \"technical\", \"ready\", \"watch\", \"expectation\", \"difficulty\", \"youll\", \"preview\", \"error\", \"prepared\", \"whether\", \"syllabus\", \"stepbystep\", \"exist\", \"basis\", \"old\", \"paced\", \"nevertheless\", \"methodology\", \"sequence\", \"anyway\", \"master\", \"absolute\", \"hop\", \"terminal\", \"dig\", \"properly\", \"youve\", \"heavy\", \"list\", \"speak\", \"structure\", \"believe\", \"well\", \"do\", \"every\", \"resource\", \"experience\", \"reference\", \"organize\", \"actual\", \"sure\", \"let\", \"feel\", \"present\", \"make\", \"video\", \"read\", \"lesson\", \"interest\", \"although\", \"material\", \"right\", \"effective\", \"one\", \"bit\", \"lecture\", \"quiz\", \"explain\", \"class\", \"software\", \"get\", \"voice\", \"course\", \"content\", \"work\", \"learn\", \"understand\", \"way\", \"thing\", \"also\", \"r\", \"easy\", \"time\", \"line\", \"awesome\", \"excite\", \"quickly\", \"search\", \"waste\", \"excelente\", \"within\", \"specific\", \"lead\", \"sufficient\", \"current\", \"5\", \"grasp\", \"comfortable\", \"speaker\", \"command\", \"broad\", \"second\", \"picture\", \"education\", \"related\", \"understood\", \"appropriate\", \"non\", \"around\", \"prior\", \"sign\", \"prep\", \"poorly\", \"spend\", \"easy\", \"follow\", \"either\", \"machine\", \"show\", \"example\", \"download\", \"would\", \"git\", \"come\", \"instruction\", \"understand\", \"use\", \"learnt\", \"practical\", \"time\", \"google\", \"hour\", \"github\", \"course\", \"lot\", \"job\", \"work\", \"version\", \"im\", \"rstudio\", \"take\", \"video\", \"thanks\", \"know\", \"clear\", \"complete\", \"need\", \"think\", \"r\", \"bit\", \"much\", \"extremely\", \"wait\", \"support\", \"straight\", \"view\", \"separate\", \"guess\", \"force\", \"training\", \"usefull\", \"word\", \"30\", \"stats\", \"pack\", \"programmer\", \"prof\", \"attempt\", \"developer\", \"coverage\", \"number\", \"progress\", \"cours\", \"leek\", \"fix\", \"similar\", \"four\", \"logical\", \"impression\", \"outline\", \"user\", \"datascience\", \"d\", \"cant\", \"slow\", \"informative\", \"doesnt\", \"teacher\", \"interesting\", \"excellent\", \"worth\", \"annoy\", \"voice\", \"stuff\", \"wish\", \"pretty\", \"though\", \"real\", \"enough\", \"slide\", \"nothing\", \"point\", \"basic\", \"start\", \"lecture\", \"seem\", \"content\", \"much\", \"useful\", \"time\", \"bad\"], \"Freq\": [1524.0, 1092.0, 695.0, 597.0, 563.0, 343.0, 345.0, 369.0, 3276.0, 655.0, 109.0, 240.0, 135.0, 397.0, 281.0, 301.0, 104.0, 127.0, 284.0, 142.0, 93.0, 164.0, 270.0, 534.0, 128.0, 108.0, 186.0, 67.0, 193.0, 207.0, 1090.5648623545221, 1517.8640980223954, 69.93791634791926, 77.32643158617768, 683.3875325230176, 39.82532240901952, 39.74150307898594, 35.53845154627284, 233.18134780973074, 99.84508435234727, 74.88398568363968, 40.95959505107323, 17.100812659930146, 15.70318704992078, 567.601022602826, 13.55137164485521, 13.794894424889648, 13.266041083982616, 12.902923912037954, 12.981406078560276, 12.735463549283402, 12.634409138916952, 13.237689851967987, 11.433065358347362, 11.363749828934953, 11.769149914666189, 12.403347577653287, 11.109671260201221, 10.085301277565659, 522.9057814443667, 63.83065735387582, 45.28555417081312, 71.7384527388724, 51.05884074593316, 486.6555160841027, 208.17826502218352, 374.72176421600886, 51.95627969614165, 131.15732138975795, 44.931443952121484, 136.49125595627422, 71.26834346418946, 72.83069031999716, 41.42281930645421, 1575.828233021839, 147.9859073616361, 154.53336086806812, 91.16268706896841, 154.21706535413682, 179.51004781610592, 260.17603117213844, 167.59721671818386, 203.62587615268532, 181.0459126227146, 189.72467342464088, 94.16417145964338, 207.29394170066237, 114.90849558050103, 127.79432058432945, 92.74099055459831, 99.8436893228245, 104.22248322642801, 103.28353757084493, 133.71545154821035, 40.165448422337256, 35.5739948821175, 26.02045893154652, 27.131359180922466, 23.960495988644347, 23.580739561650994, 23.318987104241796, 27.348120688760506, 20.910667719532263, 18.02668688598821, 17.8789049746517, 17.560758936902538, 16.38120746498221, 29.1254664169306, 17.303073359974018, 16.699963163059376, 19.97169168265221, 15.855654240159375, 14.622519573313522, 14.206541640125542, 13.472615932709699, 12.848897481902858, 12.503816105637988, 11.69381668509907, 70.40398111761401, 22.748473908523003, 11.005850940214742, 18.877900336017504, 18.69204935029725, 40.65215562760225, 112.43361716874507, 48.83627552337332, 108.01926004063314, 24.444873597534055, 25.754979119936866, 55.536967926420516, 47.37712044224468, 72.23121242603737, 164.95918525306962, 125.9501534280109, 88.70836332641801, 110.17335354686085, 91.21757653882344, 24.350299419579613, 850.4472507380549, 107.86268142468593, 218.8084795637103, 105.31802860784799, 84.66401549493348, 63.482165409260155, 83.25414376861217, 88.65108499511425, 49.454728838542614, 65.43408960281755, 92.95989653766175, 44.25860377617798, 63.2711337171877, 58.146571872836546, 74.59515795638579, 99.64023719024743, 82.57557199719646, 61.26500923349473, 58.16549116935667, 56.659580593317294, 56.60890939386088, 27.977522253097824, 25.35609747765576, 19.445459495521234, 16.354445337951457, 17.058400481594308, 15.993855577540879, 13.997689132717015, 13.769452696058627, 11.525725586474193, 11.36440439925686, 11.08072517868502, 10.797194907538714, 10.440978436652276, 10.443861112000581, 10.256073963698881, 10.25793863131929, 9.91938330660332, 9.614310244858718, 9.405571623978886, 9.444685967108231, 9.422751204337478, 9.35265538069705, 8.906748397269006, 8.95795340203794, 8.852995573379092, 8.802790097649924, 8.527467163834643, 8.54697729873862, 8.258375467640953, 8.339098216836966, 64.5005306307982, 22.181234872794736, 283.53747447491605, 73.9629852564442, 22.13576162110763, 18.731502341957746, 116.42823353274315, 16.097314952580447, 28.98390296644045, 18.701705737327977, 33.878121267935455, 12.533741383736213, 62.265778564042556, 32.08978518847181, 105.07972080527823, 106.78217018215385, 42.39276254232702, 52.89732110519298, 59.871890274950914, 36.68774196265907, 110.36098810874522, 36.07907189437929, 18.53310394698736, 80.33617952001204, 64.75818849872128, 71.42156760100328, 46.58978554027334, 60.24972457110866, 67.02529730835309, 56.929617237703546, 118.25838968324659, 48.98424722865726, 334.4884991948268, 77.89751232993879, 60.859386888945004, 105.73583294547134, 69.26635676732381, 59.72677545718398, 52.741007082498676, 50.318923675081884, 70.13675897427926, 58.322310045333936, 48.84900115027233, 34.652638660248584, 91.25885210370646, 27.232027951322024, 23.96314933318737, 20.359615565601498, 14.866181837069435, 13.1023755683361, 13.44261179538477, 13.197996879247238, 12.788110574867368, 12.616610151102176, 12.41233817532997, 12.516209070561333, 11.99173464686397, 11.913489407652328, 11.57603723982313, 71.27417091205885, 10.81830552249063, 10.553242134157326, 10.457242847789706, 10.234893925828693, 9.723570888157212, 9.652137846601285, 14.695933052030144, 9.371186529937154, 25.62437090317126, 9.513504008672172, 8.916827093382466, 8.766899348813617, 8.324072483401187, 23.94738667672212, 279.55605590420674, 111.43129422325721, 19.612794379802875, 16.531652931114078, 39.497778605188586, 47.950998822491016, 26.29484968619917, 148.74152367509788, 154.66498224033128, 44.6674590763643, 50.226644335376406, 122.51397521875035, 163.35240468991006, 27.79302992313398, 38.091930212763636, 79.83761741191094, 21.15697530972163, 32.7880900531337, 127.38305936889365, 503.91010526396957, 79.39358480479234, 28.38424401314762, 65.30318247313755, 33.80273384809796, 39.20147608534184, 56.03099527476263, 62.58513720710557, 60.857292603231976, 45.268046957698736, 53.55485430088025, 50.63561809901133, 50.26487385297504, 66.26169799274386, 55.2601499689499, 78.78606809337562, 44.184648347270205, 48.114996973409944, 33.2011065327461, 27.401464037333064, 22.41255469084118, 17.227536164945732, 16.280637299737478, 16.844088532029588, 15.31693903024746, 16.327085142999472, 14.864979942786787, 12.819764172266028, 11.917734577123051, 11.571453288829103, 11.335691807262878, 10.136372789353226, 10.153579630856587, 9.853463735383572, 8.71063874227711, 9.599842922270705, 8.573501672034176, 8.653043455998155, 11.372734149252414, 8.20085555415579, 8.63827139634559, 7.5132299553991455, 7.817124978724649, 6.7165528985491285, 6.624404672338677, 6.579424685637099, 6.576319699081213, 17.090942344331594, 19.0280288033209, 9.533895172949023, 20.5585283444806, 16.398855111168892, 78.2296707735953, 32.62681884816656, 18.02009013425981, 41.655948510951525, 133.1793628530494, 31.354606949358395, 14.678940564473502, 43.79024245837653, 26.72930481455709, 21.381622390752604, 31.45061451147341, 29.446401294004275, 21.590261740942076, 24.285323149395193, 20.640742089934037, 15.584926434087052, 24.50410709591369, 41.80256686185354, 37.073748116626156, 24.486457387865112, 18.73225299999098, 25.17437478646766, 22.314986270191255, 22.85886772192432, 19.197628975475865, 17.47045338573473], \"Total\": [1524.0, 1092.0, 695.0, 597.0, 563.0, 343.0, 345.0, 369.0, 3276.0, 655.0, 109.0, 240.0, 135.0, 397.0, 281.0, 301.0, 104.0, 127.0, 284.0, 142.0, 93.0, 164.0, 270.0, 534.0, 128.0, 108.0, 186.0, 67.0, 193.0, 207.0, 1092.5948249386176, 1524.753051885068, 70.78153648550679, 78.4585465710676, 695.5741311265142, 40.59210539505564, 40.51016725870946, 36.30684475723255, 240.04201180399411, 103.2108785810337, 78.00075753773248, 42.78028707163193, 17.884358416829464, 16.514723516228955, 597.0946319780354, 14.314448967286676, 14.573706367869752, 14.035534943876144, 13.661934869090505, 13.746678497817943, 13.508409887418667, 13.433865948186618, 14.084778121517747, 12.19438772902836, 12.130621134295081, 12.574341531163322, 13.277707416453755, 11.90337141228803, 10.870325349519913, 563.8338094112551, 71.77995618095322, 51.23759216982656, 84.75066631880216, 59.14785881954145, 655.194291976536, 266.22439352372055, 534.1119066723527, 62.905880988019305, 176.2542186246111, 54.52601983935546, 187.73317766608005, 91.48768657268678, 95.30708873035746, 50.7806118609762, 3276.046834177717, 217.04653904965505, 230.54497100021825, 126.91098076073416, 241.1754853325381, 296.9562372367452, 480.1218760663208, 282.12314383269796, 397.71410562139994, 343.2243320966838, 373.47374172255627, 138.46849955574032, 573.7123664523003, 213.48258890499324, 289.73842397726247, 154.7799638197434, 197.0970352225546, 301.99686542923195, 104.05703154008185, 135.330298169712, 40.95579223975085, 36.346290284938384, 26.782306151788074, 27.98119448500508, 24.72933225614827, 24.344822417638525, 24.225290106411965, 28.45707127174166, 21.77080291738394, 18.792090075480647, 18.64216035383571, 18.326039983643902, 17.14075490706217, 30.479111932380018, 18.118882248885193, 17.493684651803232, 20.9268560463535, 16.625957781777867, 15.392260303385854, 14.974090979031459, 14.246530123848636, 13.610625036583281, 13.287142206994499, 12.465866355226245, 75.16661649598417, 24.313807536763164, 11.770925408031546, 20.2742345076249, 20.08970567546071, 44.20215928227738, 127.07303604068483, 55.38837632598034, 128.37745366218198, 27.411909931272795, 29.26560729762172, 72.3820343632725, 61.25486707128594, 102.33388664531046, 281.41224831807784, 207.07669713638722, 141.07759832690678, 193.6129710358216, 158.7799650010669, 28.0192252620008, 3276.046834177717, 207.52332004066426, 573.7123664523003, 214.21250183144008, 160.66625880604522, 125.29613897785033, 198.13138511548487, 220.6998865965414, 86.1085528254911, 146.43235238375416, 296.9562372367452, 71.26824214856723, 154.82262184670182, 136.41693893704266, 284.8550474204936, 655.194291976536, 480.1218760663208, 211.4291281484324, 178.76820898528817, 156.23913773807493, 289.73842397726247, 28.762188587646428, 26.14819699396153, 20.219346275985643, 17.11003041515969, 17.871964697894597, 16.758166610131866, 14.74038059903986, 14.520577503349864, 12.26557742498389, 12.10923663524194, 11.838574907142078, 11.541042163372204, 11.186396275750406, 11.190233393433887, 10.998280093462302, 11.001773427371521, 10.662614211693267, 10.357956429505053, 10.149665458910619, 10.194146510897594, 10.172863247010389, 10.105393265114003, 9.651121640762774, 9.717504450044338, 9.611991056826678, 9.566941538097028, 9.274604146372704, 9.302605272973503, 8.998231701492516, 9.09242665885575, 70.40708314318074, 24.586814496000528, 369.5841357861977, 90.03346559928328, 25.47027112892679, 21.664170249561398, 164.3068676585824, 18.50448624322906, 36.17649001603393, 22.06233435518224, 43.93221259191355, 14.102840575819112, 90.93996762879998, 42.110853941751564, 175.60787411588657, 186.03946548924472, 60.88376539567789, 81.12967793559952, 95.25786278820495, 52.128302007343635, 211.4291281484324, 55.21357231971701, 23.165005096920257, 178.76820898528817, 135.7428605484455, 159.04602788843943, 85.57920229581279, 127.96946768057083, 152.08846897743018, 120.0531256103505, 480.1218760663208, 108.22991467766872, 3276.046834177717, 281.41224831807784, 177.71236205394385, 573.7123664523003, 270.73046746668996, 193.200029065772, 151.07642866158233, 141.31015500676057, 534.1119066723527, 345.7358761169834, 173.74187105852826, 35.41480880064619, 93.55973100274105, 27.98851585018813, 24.719952080066697, 21.11714583602759, 15.619345642737317, 13.845739060730565, 14.208474271454614, 13.956016146090658, 13.543333687393126, 13.374852402907617, 13.174985777736014, 13.301232982685397, 12.749853385652887, 12.6678185974626, 12.329131865002019, 76.1365284634036, 11.580990426516479, 11.308471441346937, 11.212644945274464, 10.991086414516587, 10.479055952721591, 10.405646545968303, 15.848125680510888, 10.12909565977976, 27.72240473540806, 10.319733687295, 9.681124172863163, 9.529832415878635, 9.073086692014675, 26.33650668836609, 345.7358761169834, 142.0585411586025, 22.71284773519533, 19.000010755508473, 50.21206781960702, 63.86004195448797, 34.18947996554699, 284.8550474204936, 301.99686542923195, 65.70804678195175, 83.33675898319692, 270.73046746668996, 397.71410562139994, 39.49010460598377, 60.819217127222046, 173.74187105852826, 27.425034355739687, 51.589672686697895, 373.47374172255627, 3276.046834177717, 220.6998865965414, 44.25670958319566, 177.71236205394385, 60.704450076936155, 78.67243467689315, 154.7799638197434, 193.6129710358216, 186.03946548924472, 107.94064087505102, 157.90007474967206, 143.20262123763968, 146.43235238375416, 289.73842397726247, 198.13138511548487, 534.1119066723527, 135.7428605484455, 214.21250183144008, 34.108977682237715, 28.16169274988624, 23.17851776907097, 17.983134375949202, 17.040088318379382, 17.63277950476808, 16.07615354443985, 17.149686004373272, 15.62675147324131, 13.581824943699814, 12.681204531581606, 12.330711829322968, 12.101987735956557, 10.906781720613584, 10.931392994680039, 10.609566982759647, 9.47716911303579, 10.446369068486057, 9.339831287145765, 9.437437025398145, 12.403763187631753, 8.959342995029012, 9.441615128509959, 8.274814859023468, 8.616225965268058, 7.487009900108166, 7.385767069010703, 7.340889954305969, 7.33993097745025, 19.100421290781153, 21.316444946888346, 10.73385145179693, 23.940392586538117, 19.596640049162282, 109.14520279512018, 48.47519845326454, 23.575359674209924, 67.0616540711749, 343.2243320966838, 54.06842472852668, 19.279140916324224, 108.22991467766872, 52.01898805939537, 38.20921940395989, 75.23989883476409, 81.26630606747787, 51.0981717693434, 74.67796808769847, 55.033710166653705, 26.777788486730216, 98.68192767520497, 655.194291976536, 563.8338094112551, 159.04602788843943, 49.04893785414434, 281.41224831807784, 214.21250183144008, 282.12314383269796, 173.74187105852826, 38.54124479298099], \"Category\": [\"Default\", \"Default\", \"Default\", \"Default\", \"Default\", \"Default\", \"Default\", \"Default\", \"Default\", \"Default\", \"Default\", \"Default\", \"Default\", \"Default\", \"Default\", \"Default\", \"Default\", \"Default\", \"Default\", \"Default\", \"Default\", \"Default\", \"Default\", \"Default\", \"Default\", \"Default\", \"Default\", \"Default\", \"Default\", \"Default\", \"Topic1\", \"Topic1\", \"Topic1\", \"Topic1\", \"Topic1\", \"Topic1\", \"Topic1\", \"Topic1\", \"Topic1\", \"Topic1\", \"Topic1\", \"Topic1\", \"Topic1\", \"Topic1\", \"Topic1\", \"Topic1\", \"Topic1\", \"Topic1\", \"Topic1\", \"Topic1\", \"Topic1\", \"Topic1\", \"Topic1\", \"Topic1\", \"Topic1\", \"Topic1\", \"Topic1\", \"Topic1\", \"Topic1\", \"Topic1\", \"Topic1\", \"Topic1\", \"Topic1\", \"Topic1\", \"Topic1\", \"Topic1\", \"Topic1\", \"Topic1\", \"Topic1\", \"Topic1\", \"Topic1\", \"Topic1\", \"Topic1\", \"Topic1\", \"Topic1\", \"Topic1\", \"Topic1\", \"Topic1\", \"Topic1\", \"Topic1\", \"Topic1\", \"Topic1\", \"Topic1\", \"Topic1\", \"Topic1\", \"Topic1\", \"Topic1\", \"Topic1\", \"Topic1\", \"Topic1\", \"Topic1\", \"Topic1\", \"Topic2\", \"Topic2\", \"Topic2\", \"Topic2\", \"Topic2\", \"Topic2\", \"Topic2\", \"Topic2\", \"Topic2\", \"Topic2\", \"Topic2\", \"Topic2\", \"Topic2\", \"Topic2\", \"Topic2\", \"Topic2\", \"Topic2\", \"Topic2\", \"Topic2\", \"Topic2\", \"Topic2\", \"Topic2\", \"Topic2\", \"Topic2\", \"Topic2\", \"Topic2\", \"Topic2\", \"Topic2\", \"Topic2\", \"Topic2\", \"Topic2\", \"Topic2\", \"Topic2\", \"Topic2\", \"Topic2\", \"Topic2\", \"Topic2\", \"Topic2\", \"Topic2\", \"Topic2\", \"Topic2\", \"Topic2\", \"Topic2\", \"Topic2\", \"Topic2\", \"Topic2\", \"Topic2\", \"Topic2\", \"Topic2\", \"Topic2\", \"Topic2\", \"Topic2\", \"Topic2\", \"Topic2\", \"Topic2\", \"Topic2\", \"Topic2\", \"Topic2\", \"Topic2\", \"Topic2\", \"Topic2\", \"Topic2\", \"Topic2\", \"Topic2\", \"Topic2\", \"Topic2\", \"Topic2\", \"Topic3\", \"Topic3\", \"Topic3\", \"Topic3\", \"Topic3\", \"Topic3\", \"Topic3\", \"Topic3\", \"Topic3\", \"Topic3\", \"Topic3\", \"Topic3\", \"Topic3\", \"Topic3\", \"Topic3\", \"Topic3\", \"Topic3\", \"Topic3\", \"Topic3\", \"Topic3\", \"Topic3\", \"Topic3\", \"Topic3\", \"Topic3\", \"Topic3\", \"Topic3\", \"Topic3\", \"Topic3\", \"Topic3\", \"Topic3\", \"Topic3\", \"Topic3\", \"Topic3\", \"Topic3\", \"Topic3\", \"Topic3\", \"Topic3\", \"Topic3\", \"Topic3\", \"Topic3\", \"Topic3\", \"Topic3\", \"Topic3\", \"Topic3\", \"Topic3\", \"Topic3\", \"Topic3\", \"Topic3\", \"Topic3\", \"Topic3\", \"Topic3\", \"Topic3\", \"Topic3\", \"Topic3\", \"Topic3\", \"Topic3\", \"Topic3\", \"Topic3\", \"Topic3\", \"Topic3\", \"Topic3\", \"Topic3\", \"Topic3\", \"Topic3\", \"Topic3\", \"Topic3\", \"Topic3\", \"Topic3\", \"Topic3\", \"Topic3\", \"Topic3\", \"Topic3\", \"Topic3\", \"Topic4\", \"Topic4\", \"Topic4\", \"Topic4\", \"Topic4\", \"Topic4\", \"Topic4\", \"Topic4\", \"Topic4\", \"Topic4\", \"Topic4\", \"Topic4\", \"Topic4\", \"Topic4\", \"Topic4\", \"Topic4\", \"Topic4\", \"Topic4\", \"Topic4\", \"Topic4\", \"Topic4\", \"Topic4\", \"Topic4\", \"Topic4\", \"Topic4\", \"Topic4\", \"Topic4\", \"Topic4\", \"Topic4\", \"Topic4\", \"Topic4\", \"Topic4\", \"Topic4\", \"Topic4\", \"Topic4\", \"Topic4\", \"Topic4\", \"Topic4\", \"Topic4\", \"Topic4\", \"Topic4\", \"Topic4\", \"Topic4\", \"Topic4\", \"Topic4\", \"Topic4\", \"Topic4\", \"Topic4\", \"Topic4\", \"Topic4\", \"Topic4\", \"Topic4\", \"Topic4\", \"Topic4\", \"Topic4\", \"Topic4\", \"Topic4\", \"Topic4\", \"Topic4\", \"Topic4\", \"Topic4\", \"Topic4\", \"Topic4\", \"Topic4\", \"Topic4\", \"Topic4\", \"Topic4\", \"Topic4\", \"Topic5\", \"Topic5\", \"Topic5\", \"Topic5\", \"Topic5\", \"Topic5\", \"Topic5\", \"Topic5\", \"Topic5\", \"Topic5\", \"Topic5\", \"Topic5\", \"Topic5\", \"Topic5\", \"Topic5\", \"Topic5\", \"Topic5\", \"Topic5\", \"Topic5\", \"Topic5\", \"Topic5\", \"Topic5\", \"Topic5\", \"Topic5\", \"Topic5\", \"Topic5\", \"Topic5\", \"Topic5\", \"Topic5\", \"Topic5\", \"Topic5\", \"Topic5\", \"Topic5\", \"Topic5\", \"Topic5\", \"Topic5\", \"Topic5\", \"Topic5\", \"Topic5\", \"Topic5\", \"Topic5\", \"Topic5\", \"Topic5\", \"Topic5\", \"Topic5\", \"Topic5\", \"Topic5\", \"Topic5\", \"Topic5\", \"Topic5\", \"Topic5\", \"Topic5\", \"Topic5\", \"Topic5\", \"Topic5\", \"Topic5\", \"Topic5\", \"Topic5\", \"Topic5\", \"Topic5\"], \"logprob\": [30.0, 29.0, 28.0, 27.0, 26.0, 25.0, 24.0, 23.0, 22.0, 21.0, 20.0, 19.0, 18.0, 17.0, 16.0, 15.0, 14.0, 13.0, 12.0, 11.0, 10.0, 9.0, 8.0, 7.0, 6.0, 5.0, 4.0, 3.0, 2.0, 1.0, -2.7365, -2.4059, -5.4833, -5.3829, -3.2039, -6.0464, -6.0485, -6.1603, -4.2791, -5.1273, -5.415, -6.0184, -6.8918, -6.9771, -3.3895, -7.1245, -7.1066, -7.1457, -7.1735, -7.1674, -7.1865, -7.1945, -7.1479, -7.2944, -7.3005, -7.2655, -7.213, -7.3231, -7.4199, -3.4715, -5.5747, -5.918, -5.4579, -5.798, -3.5434, -4.3925, -3.8048, -5.7805, -4.8545, -5.9258, -4.8147, -5.4645, -5.4428, -6.0071, -2.3684, -4.7338, -4.6905, -5.2183, -4.6926, -4.5407, -4.1696, -4.6094, -4.4147, -4.5322, -4.4854, -5.1859, -4.3968, -4.9868, -4.8805, -5.2011, -5.1273, -5.0844, -4.6353, -4.3771, -5.5798, -5.7012, -6.0139, -5.9721, -6.0964, -6.1123, -6.1235, -5.9641, -6.2325, -6.3809, -6.3891, -6.4071, -6.4766, -5.9012, -6.4219, -6.4574, -6.2785, -6.5092, -6.5902, -6.6191, -6.6721, -6.7195, -6.7467, -6.8137, -5.0185, -6.1483, -6.8743, -6.3348, -6.3447, -5.5677, -4.5504, -5.3843, -4.5905, -6.0763, -6.0241, -5.2557, -5.4146, -4.9929, -4.1671, -4.4369, -4.7874, -4.5707, -4.7595, -6.0802, -2.527, -4.5919, -3.8846, -4.6158, -4.8341, -5.122, -4.8509, -4.7881, -5.3717, -5.0917, -4.7406, -5.4827, -5.1253, -5.2098, -4.9607, -4.6712, -4.8591, -5.1576, -5.2095, -5.2357, -5.2366, -5.8402, -5.9386, -6.204, -6.3771, -6.335, -6.3994, -6.5327, -6.5492, -6.727, -6.7411, -6.7664, -6.7923, -6.8259, -6.8256, -6.8437, -6.8436, -6.8771, -6.9084, -6.9303, -6.9262, -6.9285, -6.9359, -6.9848, -6.9791, -6.9908, -6.9965, -7.0283, -7.026, -7.0604, -7.0506, -5.0049, -6.0724, -3.5243, -4.868, -6.0744, -6.2414, -4.4143, -6.393, -5.8049, -6.243, -5.6488, -6.6432, -5.0402, -5.7031, -4.5169, -4.5008, -5.4246, -5.2033, -5.0794, -5.5692, -4.4678, -5.5859, -6.252, -4.7854, -5.0009, -4.903, -5.3302, -5.0731, -4.9665, -5.1298, -4.3987, -5.2801, -3.359, -4.8162, -5.063, -4.5107, -4.9336, -5.0818, -5.2062, -5.2532, -4.9212, -5.1056, -5.2829, -5.5899, -4.6215, -5.8308, -5.9587, -6.1217, -6.4362, -6.5624, -6.5368, -6.5552, -6.5867, -6.6002, -6.6166, -6.6082, -6.651, -6.6576, -6.6863, -4.8687, -6.754, -6.7788, -6.7879, -6.8094, -6.8607, -6.8681, -6.4477, -6.8976, -5.8917, -6.8825, -6.9473, -6.9643, -7.0161, -5.9594, -3.502, -4.4218, -6.1591, -6.33, -5.459, -5.2651, -5.8659, -4.133, -4.094, -5.336, -5.2187, -4.327, -4.0393, -5.8105, -5.4952, -4.7552, -6.0833, -5.6452, -4.288, -2.9128, -4.7608, -5.7894, -4.9562, -5.6147, -5.4665, -5.1093, -4.9987, -5.0267, -5.3226, -5.1545, -5.2106, -5.2179, -4.9416, -5.1232, -4.7685, -5.3469, -5.2616, -4.8466, -5.0386, -5.2396, -5.5027, -5.5592, -5.5252, -5.6203, -5.5564, -5.6502, -5.7982, -5.8712, -5.9007, -5.9213, -6.0331, -6.0314, -6.0614, -6.1847, -6.0875, -6.2005, -6.1913, -5.918, -6.245, -6.193, -6.3326, -6.2929, -6.4446, -6.4585, -6.4653, -6.4657, -5.5107, -5.4033, -6.0944, -5.3259, -5.552, -3.9896, -4.8641, -5.4577, -4.6198, -3.4575, -4.9039, -5.6628, -4.5698, -5.0635, -5.2867, -4.9008, -4.9666, -5.277, -5.1593, -5.322, -5.6029, -5.1504, -4.6163, -4.7363, -5.1511, -5.419, -5.1234, -5.244, -5.2199, -5.3944, -5.4887], \"loglift\": [30.0, 29.0, 28.0, 27.0, 26.0, 25.0, 24.0, 23.0, 22.0, 21.0, 20.0, 19.0, 18.0, 17.0, 16.0, 15.0, 14.0, 13.0, 12.0, 11.0, 10.0, 9.0, 8.0, 7.0, 6.0, 5.0, 4.0, 3.0, 2.0, 1.0, 1.0989, 1.0962, 1.0887, 1.0862, 1.0831, 1.0817, 1.0816, 1.0793, 1.0717, 1.0676, 1.0599, 1.0572, 1.0559, 1.0503, 1.0501, 1.0459, 1.0458, 1.0443, 1.0436, 1.0434, 1.0418, 1.0394, 1.0387, 1.0363, 1.0354, 1.0346, 1.0326, 1.0317, 1.0258, 1.0254, 0.9834, 0.9772, 0.934, 0.9537, 0.8034, 0.8548, 0.7463, 0.9095, 0.8052, 0.9072, 0.782, 0.851, 0.8318, 0.897, 0.3689, 0.7177, 0.7007, 0.7699, 0.6536, 0.5974, 0.488, 0.5799, 0.4313, 0.4611, 0.4235, 0.7151, 0.0827, 0.4813, 0.2822, 0.5885, 0.4206, 0.0368, 1.5514, 1.5469, 1.5394, 1.5374, 1.53, 1.5281, 1.5273, 1.527, 1.5208, 1.5191, 1.5186, 1.5173, 1.5171, 1.5162, 1.5136, 1.5135, 1.5128, 1.5125, 1.5122, 1.5115, 1.5076, 1.5063, 1.503, 1.5013, 1.4981, 1.495, 1.4934, 1.4924, 1.4917, 1.4875, 1.4868, 1.4752, 1.4365, 1.433, 1.3862, 1.4443, 1.4311, 1.294, 1.302, 1.2105, 1.0248, 1.0617, 1.0949, 0.9951, 1.0046, 1.4186, 0.2103, 0.9045, 0.595, 0.8489, 0.9183, 0.879, 0.6919, 0.6468, 1.0043, 0.7534, 0.3975, 1.0825, 0.664, 0.7061, 0.219, -0.3245, -0.2014, 0.3202, 0.4361, 0.5446, -0.0739, 1.6324, 1.6293, 1.621, 1.6149, 1.6135, 1.6134, 1.6084, 1.6069, 1.5978, 1.5966, 1.5939, 1.5934, 1.5911, 1.591, 1.5902, 1.5901, 1.5878, 1.5856, 1.5839, 1.5837, 1.5835, 1.5827, 1.5798, 1.5787, 1.5778, 1.5768, 1.5761, 1.5753, 1.5743, 1.5736, 1.5724, 1.5571, 1.395, 1.4634, 1.5197, 1.5146, 1.3156, 1.5207, 1.4384, 1.4948, 1.4002, 1.5421, 1.2813, 1.3883, 1.1465, 1.1049, 1.2981, 1.2324, 1.1957, 1.3088, 1.0099, 1.2346, 1.437, 0.8602, 0.92, 0.8595, 1.052, 0.9068, 0.8407, 0.9139, 0.2589, 0.8673, -0.6217, 0.3756, 0.5885, -0.0311, 0.2969, 0.4861, 0.6077, 0.6275, -0.3701, -0.1196, 0.3912, 1.6747, 1.6715, 1.669, 1.6653, 1.6599, 1.647, 1.6412, 1.641, 1.6406, 1.639, 1.6381, 1.6368, 1.6356, 1.6351, 1.635, 1.6334, 1.6304, 1.6283, 1.6273, 1.6267, 1.6251, 1.6216, 1.6213, 1.6209, 1.6187, 1.6177, 1.6151, 1.6142, 1.613, 1.6103, 1.6013, 1.484, 1.4536, 1.5497, 1.5573, 1.4564, 1.4099, 1.4339, 1.0467, 1.0273, 1.3104, 1.1901, 0.9035, 0.8066, 1.3452, 1.2285, 0.9188, 1.4369, 1.2432, 0.6208, -0.1756, 0.674, 1.2523, 0.6953, 1.1109, 0.9998, 0.6803, 0.5671, 0.579, 0.8274, 0.6152, 0.6568, 0.6272, 0.2211, 0.4195, -0.2174, 0.574, 0.2031, 2.4555, 2.4551, 2.4488, 2.4395, 2.4369, 2.4367, 2.4341, 2.4333, 2.4325, 2.4247, 2.4204, 2.4189, 2.417, 2.4092, 2.4086, 2.4085, 2.3981, 2.3979, 2.3968, 2.3957, 2.3957, 2.394, 2.3935, 2.3859, 2.3851, 2.3739, 2.3737, 2.3729, 2.3726, 2.3713, 2.3689, 2.3639, 2.3302, 2.3043, 2.1494, 2.0865, 2.2137, 2.0063, 1.5358, 1.9376, 2.2098, 1.5776, 1.8166, 1.9019, 1.6102, 1.4673, 1.6209, 1.3591, 1.5018, 1.9412, 1.0894, -0.2695, -0.2394, 0.6114, 1.5199, 0.0685, 0.2207, -0.0306, 0.2797, 1.6912]}, \"token.table\": {\"Topic\": [2, 3, 5, 2, 2, 5, 2, 3, 4, 4, 3, 3, 5, 2, 1, 2, 3, 4, 5, 2, 3, 4, 1, 4, 3, 5, 1, 2, 3, 1, 4, 3, 4, 5, 3, 4, 2, 2, 4, 5, 2, 1, 2, 3, 4, 5, 2, 3, 1, 2, 3, 5, 1, 2, 3, 4, 3, 4, 2, 3, 4, 4, 3, 4, 5, 1, 2, 5, 2, 1, 2, 3, 4, 1, 2, 3, 4, 3, 4, 4, 2, 3, 4, 1, 2, 1, 2, 4, 5, 1, 2, 3, 4, 5, 1, 2, 3, 5, 2, 3, 4, 5, 5, 1, 2, 3, 4, 5, 1, 2, 4, 5, 4, 4, 5, 1, 2, 3, 4, 4, 5, 1, 2, 5, 3, 3, 1, 1, 2, 3, 4, 2, 5, 1, 4, 1, 2, 3, 4, 4, 3, 5, 2, 4, 1, 1, 2, 4, 5, 3, 1, 2, 3, 4, 2, 3, 4, 4, 1, 4, 5, 4, 3, 3, 3, 4, 5, 1, 2, 3, 4, 5, 1, 2, 3, 4, 1, 2, 3, 1, 2, 3, 4, 1, 2, 3, 4, 5, 5, 1, 3, 4, 5, 5, 2, 1, 1, 5, 1, 1, 2, 3, 1, 2, 3, 4, 5, 1, 2, 3, 4, 2, 1, 1, 2, 3, 4, 1, 2, 3, 4, 5, 1, 2, 3, 4, 2, 3, 3, 4, 5, 4, 5, 2, 3, 1, 2, 3, 4, 5, 1, 2, 3, 4, 5, 1, 2, 3, 4, 3, 2, 3, 4, 2, 3, 4, 5, 5, 2, 1, 2, 3, 4, 1, 2, 5, 2, 3, 4, 5, 2, 3, 1, 2, 3, 4, 1, 5, 2, 1, 2, 3, 4, 1, 3, 4, 1, 1, 2, 3, 4, 1, 2, 3, 2, 1, 4, 2, 4, 1, 4, 1, 2, 3, 4, 1, 4, 1, 2, 3, 4, 5, 1, 3, 4, 2, 3, 4, 5, 5, 2, 3, 4, 3, 5, 2, 4, 3, 2, 3, 4, 5, 1, 2, 1, 2, 3, 4, 5, 2, 5, 2, 4, 1, 2, 3, 4, 5, 1, 3, 1, 2, 3, 4, 5, 2, 3, 2, 2, 3, 1, 2, 3, 4, 5, 1, 2, 3, 4, 1, 2, 3, 4, 5, 3, 1, 2, 3, 2, 3, 4, 4, 3, 4, 5, 5, 3, 1, 2, 3, 4, 5, 2, 2, 3, 1, 2, 3, 5, 5, 2, 3, 4, 1, 2, 4, 3, 5, 2, 4, 1, 3, 5, 4, 1, 4, 4, 3, 2, 3, 1, 2, 4, 5, 3, 2, 4, 5, 1, 2, 3, 4, 5, 5, 3, 2, 3, 5, 4, 2, 3, 5, 1, 2, 3, 4, 5, 2, 3, 4, 5, 3, 2, 4, 5, 1, 2, 3, 4, 3, 4, 4, 1, 2, 5, 2, 3, 2, 3, 4, 1, 2, 3, 4, 1, 2, 3, 1, 4, 4, 4, 2, 3, 5, 5, 3, 1, 2, 3, 4, 2, 4, 1, 2, 4, 4, 5, 1, 3, 4, 5, 4, 5, 1, 2, 3, 2, 3, 3, 4, 1, 2, 4, 5, 4, 2, 4, 1, 2, 3, 4, 5, 1, 1, 5, 3, 5, 1, 1, 1, 3, 4, 2, 3, 5, 2, 3, 4, 5, 1, 4, 5, 3, 4, 5, 3, 1, 2, 3, 4, 5, 3, 4, 5, 3, 3, 1, 2, 3, 4, 1, 2, 4, 5, 1, 2, 3, 4, 5, 1, 2, 3, 4, 5, 2, 3, 4, 5, 1, 2, 2, 3, 4, 5, 1, 2, 3, 4, 5, 1, 3, 4, 2, 5, 1, 2, 3, 4, 4, 1, 2, 3, 1, 1, 2, 3, 4, 1, 2, 3, 4, 5, 5, 1, 5, 2, 1, 2, 4, 2, 3, 4, 5, 5, 2, 3, 4, 5, 5, 4, 3, 1, 2, 3, 4, 5, 2, 4, 1, 2, 3, 4, 5, 3, 3, 4, 5, 4, 5, 1, 2, 3, 4, 5, 1, 4, 2, 5, 1, 2, 3, 4, 3, 3], \"Freq\": [0.9275564964637085, 0.02262332918204167, 0.04524665836408334, 0.9904724723699826, 0.9494210347521224, 0.9731798266068856, 0.8846621484554364, 0.07221731824126011, 0.036108659120630056, 0.9773530030578729, 0.8906135331783614, 0.8611962675444211, 0.13597835803332967, 0.9382477222647642, 0.30429518669725325, 0.1415326449754666, 0.35383161243866657, 0.1132261159803733, 0.07784295473650664, 0.019183437048441054, 0.709787170792319, 0.26856811867817476, 0.9814099720832012, 0.012745584053028588, 0.207478124536819, 0.7780429670130713, 0.8073947614543733, 0.17723299641681364, 0.8828595891160632, 0.06309894432688291, 0.9464841649032438, 0.07214381360811487, 0.9378695769054933, 0.9496506702218231, 0.021376718151759174, 0.9726406759050424, 0.9645946490669641, 0.4929783690707421, 0.05189245990218338, 0.4410859091685587, 0.957849814879605, 0.7432909687458642, 0.15262648228867848, 0.03815662057216962, 0.0030525296457735696, 0.06410312256124497, 0.9125028962833589, 0.8936364102886108, 0.8916138070446799, 0.027862931470146245, 0.013931465735073123, 0.05572586294029249, 0.7812957980556625, 0.0037562297983445314, 0.15024919193378125, 0.06385590657185704, 0.8947885462583485, 0.08134441329621349, 0.1915386186422734, 0.4788465466056835, 0.32414227770230886, 0.9498324059411869, 0.04177040941936384, 0.08354081883872767, 0.8771785978066406, 0.878261411091448, 0.0975846012323831, 0.01951692024647662, 0.9717792642528089, 0.01315024086603698, 0.3419062625169615, 0.4405330690122389, 0.2104038538565917, 0.18854403478546986, 0.272341383579012, 0.18156092238600802, 0.35613873237255417, 0.30437672369670055, 0.6848476283175762, 0.9472822733981708, 0.05253719969544806, 0.013134299923862015, 0.9325352945942031, 0.9199356669155858, 0.9345059643734104, 0.17072729894062405, 0.44389097724562254, 0.3414545978812481, 0.03414545978812481, 0.6788547597582685, 0.12999346463456204, 0.12277160548819749, 0.06499673231728102, 0.007221859146364558, 0.046195572785823494, 0.5863284238200674, 0.27717343671494094, 0.08883763997273748, 0.6084702032745501, 0.1931651438966826, 0.1786777581044314, 0.01931651438966826, 0.8929226177007297, 0.48106760366128093, 0.2594590501980259, 0.1019521444307537, 0.15384395447035887, 0.0033577053555038645, 0.007789529792602395, 0.8412692176010587, 0.14800106605944552, 0.9636148366391298, 0.9108169224955381, 0.09316320469784331, 0.9316320469784332, 0.9955710520620246, 0.001311687815628491, 0.0019675317234427365, 0.001311687815628491, 0.0938242753415573, 0.8913306157447943, 0.9623634541995809, 0.9707901870976169, 0.9572704098850351, 0.9512104733511857, 0.9363304591932566, 0.954324325473432, 0.9020543092799028, 0.02221396218270111, 0.8219166007599411, 0.15549773527890776, 0.30943658775242894, 0.6807604930553437, 0.20474134169498795, 0.7604678405813837, 0.020246669447840225, 0.0028923813496914605, 0.1677581182821047, 0.809866777913609, 0.9098281664670018, 0.8202027118278516, 0.17267425512165296, 0.1320838335631188, 0.8805588904207922, 0.9037704796183099, 0.2812074369155108, 0.16068996395172047, 0.22764411559827066, 0.32137992790344094, 0.9641489807667933, 0.9854132869115046, 0.03926145877828101, 0.8637520931221822, 0.07852291755656202, 0.18791093198078712, 0.04697773299519678, 0.7516437279231485, 0.9389170157677419, 0.5273518893439455, 0.08449284414902995, 0.3875016645455511, 0.9646813766232094, 0.8939429422572623, 0.9351239952106578, 0.7059960527093698, 0.23736074185918468, 0.048689382945473786, 0.2578740116538773, 0.031257455958045736, 0.46886183937068604, 0.24224528367485446, 0.9674872201515669, 0.03298879555626676, 0.18693650815217833, 0.6817684414961798, 0.08797012148337803, 0.9688901148291965, 0.01937780229658393, 0.009688901148291965, 0.10375419471064563, 0.5028087897515904, 0.22347057322292907, 0.1676029299171968, 0.23252415939348664, 0.4069172789386016, 0.16793411511751813, 0.14855710183472756, 0.04521303099317796, 0.9667890020857941, 0.035196757331315304, 0.16894443519031346, 0.7813680127551998, 0.007039351466263061, 0.9329616878069898, 0.9898418057440482, 0.9889584696191666, 0.9515489661286483, 0.9349526838342861, 0.9874064390933914, 0.8622459209487134, 0.06762713105480106, 0.050720348291100795, 0.5415291678233911, 0.17287277280515945, 0.24577093001215441, 0.03749048084931169, 0.0020828044916284274, 0.3443744353180073, 0.11920653530238715, 0.023179048531019725, 0.5132503603297225, 0.9745157439093226, 0.9606341480068114, 0.5087372384566354, 0.06426154591031186, 0.08568206121374913, 0.3400506804420669, 0.6385391939303507, 0.1451225440750797, 0.07048809283646729, 0.07463445123861243, 0.07048809283646729, 0.1905921669448922, 0.425167141646298, 0.1612702951072165, 0.21991403878256793, 0.8565547325303243, 0.10706934156629054, 0.10938910635756928, 0.765723744502985, 0.10938910635756928, 0.9411872934557287, 0.933059015549646, 0.9557097327806675, 0.9674709112024079, 0.5386856164236362, 0.22015846932096436, 0.09836867778170748, 0.1358424597937865, 0.00936844550301976, 0.6723200221090629, 0.10410116471366135, 0.01735019411894356, 0.14747665001102025, 0.060725679416302455, 0.8252940547023051, 0.05501960364682034, 0.018339867882273448, 0.09169933941136724, 0.9325340965538474, 0.9649337884581413, 0.34890704016118324, 0.6396629069621692, 0.2160858510330692, 0.19066398620564928, 0.4957263641346882, 0.08897652689596967, 0.9535628573064207, 0.9705074019551442, 0.2708150237954207, 0.5731201666368205, 0.07557628571034997, 0.07557628571034997, 0.27486320270359405, 0.009162106756786468, 0.7146443270293446, 0.2039916143538494, 0.17999260090045535, 0.5999753363348512, 0.011999506726697024, 0.945964549781985, 0.04112889346878196, 0.1679651372776879, 0.020995642159710986, 0.6298692647913295, 0.1784629583575434, 0.3727912820859834, 0.6262893539044522, 0.9783894683656397, 0.41922999296152513, 0.5204234395384449, 0.04336861996153708, 0.019274942205127592, 0.8266317740610551, 0.015896764885789522, 0.1430708839721057, 0.9229822357044802, 0.9819226584718586, 0.01150129028956789, 0.0028753225723919724, 0.0028753225723919724, 0.6818814096185203, 0.1796849660481236, 0.13821920465240276, 0.9334478024306755, 0.33893165897935446, 0.632672430094795, 0.9487975674717954, 0.03514065064710353, 0.9583853406908889, 0.0233752522119729, 0.4053196307947468, 0.05699807308051127, 0.1963266961662055, 0.3419884384830676, 0.9780327578095882, 0.9598818356001306, 0.3608079799291034, 0.3817243845626746, 0.18476157426321238, 0.06797831505910644, 0.005229101158392803, 0.17725959629236637, 0.10129119788135221, 0.7090383851694655, 0.20748710570217685, 0.4464116516622593, 0.1886246415474335, 0.15089971323794682, 0.9532267390166694, 0.11093351075723697, 0.6532751189037288, 0.22186702151447393, 0.9218001104181767, 0.0709077008013982, 0.9623505731222342, 0.9882871370849071, 0.889063569975983, 0.5290469861665926, 0.2676355341783939, 0.20539471227644185, 0.9477688552311229, 0.11017286149925336, 0.8813828919940269, 0.2265519967910285, 0.4032625542880307, 0.00453103993582057, 0.357952154929825, 0.00906207987164114, 0.9312644796741623, 0.053215113124237844, 0.10526309830746601, 0.8947363356134611, 0.06833406565858773, 0.0968065930163326, 0.5979230745126426, 0.15944615320337135, 0.0740285711301367, 0.9067961053454513, 0.8847066731821966, 0.018918869102992408, 0.28851275382063424, 0.5202689003322912, 0.13243208372094686, 0.037837738205984815, 0.9822089232624782, 0.965441404205428, 0.9858359033504926, 0.951471291694406, 0.032809354886014004, 0.13071132525230805, 0.4901674696961552, 0.04668261616153859, 0.22407655757538525, 0.10270175555538491, 0.7760607209538591, 0.1639564903423646, 0.04372173075796389, 0.010930432689490973, 0.44177778785061983, 0.19672917115222915, 0.12079861386540386, 0.22779167186047586, 0.01380555587033187, 0.9378563081681597, 0.480033371188548, 0.36482536210329647, 0.15361067878033535, 0.7035792576661551, 0.18566674855079093, 0.1074912754767737, 0.8885294701813182, 0.18672191702753047, 0.22406630043303655, 0.5975101344880975, 0.9536487476185632, 0.9092330723550395, 0.09509520790354299, 0.32444247402385257, 0.44750686072255524, 0.07831370062644717, 0.050344521831287466, 0.965553329568717, 0.9371500557939352, 0.04932368714704922, 0.027642261578079738, 0.1382113078903987, 0.8016255857643124, 0.055284523156159476, 0.9536874422260118, 0.5690491640163102, 0.011613248245230821, 0.41807693682830954, 0.7432446214465129, 0.17020869193431593, 0.08510434596715796, 0.9089443684707058, 0.9168607437242661, 0.9766628311288488, 0.8918502323766588, 0.47627768434654644, 0.26347276155340865, 0.2533391938013545, 0.8817285970650859, 0.36172777354204105, 0.6248025179362527, 0.9444027562335905, 0.978347743788814, 0.2137216218044153, 0.7598990997490322, 0.10632656507910739, 0.14619902698377266, 0.31897969523732217, 0.41201543968154114, 0.9497719482841518, 0.9551361502545244, 0.9690172540316, 0.9425455361420327, 0.5073643035121443, 0.13698836194827896, 0.22831393658046495, 0.12684107587803609, 0.9147964952743609, 0.8868276371938884, 0.9407395210016305, 0.773672645327237, 0.13815582952272087, 0.08289349771363254, 0.9708756684586277, 0.4323480355905389, 0.5491988560204143, 0.011685082042987538, 0.70210005677713, 0.014978134544578773, 0.13105867726506426, 0.1479090786277154, 0.0037445336361446933, 0.04927421916997546, 0.6898390683796565, 0.09854843833995092, 0.14782265750992638, 0.9560888655448524, 0.1565613743699464, 0.41097360772110936, 0.4305437795173527, 0.717038032915077, 0.13395215999512428, 0.01575907764648521, 0.12607262117188167, 0.8646551862986485, 0.10808189828733106, 0.9542844360328878, 0.765945125094854, 0.09443159076511899, 0.13640118666072742, 0.09231832915643243, 0.8770241269861081, 0.19922637746211996, 0.6520135989669381, 0.1448919108815418, 0.6008529638132473, 0.019382353671395073, 0.019382353671395073, 0.3618039351993747, 0.9985403326995373, 0.0009152523672773027, 0.0009152523672773027, 0.9706634194944831, 0.02499562453633862, 0.9470976880729002, 0.9727220921990324, 0.3262048211437079, 0.26504141717926266, 0.38736822510815316, 0.9641134567243371, 0.886728733713947, 0.7244324188764462, 0.0532670896232681, 0.17045468679445794, 0.04794038066094129, 0.7672859683999199, 0.2122280338127438, 0.11949318680831333, 0.09957765567359445, 0.7767057142540367, 0.9296441032362338, 0.92848075622064, 0.96883244725695, 0.4179256664751684, 0.19987749266203705, 0.38158430417297984, 0.15308746767169631, 0.8164664942490469, 0.458130512807391, 0.06663716549925687, 0.4747898041822052, 0.8755318421873141, 0.07296098684894284, 0.8798531239411473, 0.9733045385023169, 0.6061499218704637, 0.3131774596330729, 0.050512493489205314, 0.030307496093523185, 0.9314979191709766, 0.0759402157493986, 0.9112825889927831, 0.9275782886203774, 0.003547144507152495, 0.0017735722535762474, 0.0017735722535762474, 0.06562217338232115, 0.9915485699932264, 0.9241079370710499, 0.9089415920756215, 0.9531201640446901, 0.9453301990967684, 0.9456829882261039, 0.9505512920163092, 0.05681246575526427, 0.9232025685230444, 0.014203116438816067, 0.01922374958271388, 0.4613699899851331, 0.5190412387332748, 0.6173857902693419, 0.18240943803412377, 0.15434644756733548, 0.042094485700182406, 0.9677035672486234, 0.9719733428365814, 0.9491547397114596, 0.7739195909804522, 0.1365740454671386, 0.0682870227335693, 0.9291658908509186, 0.0774741481407501, 0.5681437530321674, 0.025824716046916697, 0.3253914221911504, 0.00516494320938334, 0.04241716834097518, 0.1696686733639007, 0.7635090301375531, 0.9735003271630799, 0.9261637127378868, 0.1346776541798859, 0.6308584853689392, 0.07088297588415048, 0.17011914212196114, 0.39836709928168357, 0.14822961833737064, 0.4168958015738549, 0.027793053438256995, 0.09928749397168134, 0.33095831323893776, 0.35081581203327405, 0.21843248673769894, 0.0066191662647787555, 0.12113174288874584, 0.41891394415691274, 0.13627321074983909, 0.27759357745337593, 0.04037724762958195, 0.08613655940246243, 0.3691566831534104, 0.1845783415767052, 0.35685146038163, 0.049776737208324845, 0.9457580069581721, 0.14964728905930455, 0.2820275832271509, 0.4604531971055525, 0.10935763431256872, 0.9512729969089628, 0.0133982112240699, 0.005024329209026212, 0.030145975254157274, 0.0016747764030087375, 0.8495508428117999, 0.035397951783824995, 0.10619385535147499, 0.9626286419290118, 0.959892401545226, 0.2844157169324649, 0.007387421219025064, 0.2548660320563647, 0.4543264049700414, 0.9610166899119333, 0.06833960353737578, 0.8884148459858853, 0.03416980176868789, 0.9262204862146733, 0.5129312667481696, 0.035201165365070466, 0.042744272229014134, 0.4098421396076061, 0.5954846444630072, 0.13469295529520403, 0.15241571257088876, 0.035445514551369475, 0.0815246834681498, 0.957161504723288, 0.052354866145421175, 0.89003272447216, 0.9349482395695672, 0.4283046789328935, 0.016473256882034364, 0.5600907339891684, 0.05912723932565765, 0.5751467825313972, 0.32788741807864696, 0.037626425025418506, 0.9389622695055198, 0.01847917930967993, 0.4527398930871583, 0.12011466551291955, 0.40654194481295847, 0.9587491859880855, 0.9603475294737908, 0.9396940801476925, 0.40372664733630087, 0.09834367050499636, 0.3105589594894622, 0.1449275144284157, 0.04658384392341933, 0.9901699901078787, 0.007389328284387154, 0.11905272910700299, 0.09199529067359322, 0.7684312515088374, 0.01894020690338684, 0.002705743843340977, 0.9083974763517554, 0.10468677618641567, 0.31406032855924704, 0.5496055749786822, 0.914946936006881, 0.9462823480304953, 0.2700993867012459, 0.016881211668827868, 0.3432513039328334, 0.3657595861579372, 0.005627070556275956, 0.9615291231462607, 0.03846116492585043, 0.4068918247657533, 0.5733475712608342, 0.09478505030716024, 0.2632918064087785, 0.11935895223864623, 0.5230730553987731, 0.9547583797338854, 0.9703918202826908], \"Term\": [\"1\", \"1\", \"1\", \"2\", \"3\", \"30\", \"4\", \"4\", \"4\", \"5\", \"absolute\", \"actual\", \"actual\", \"almost\", \"also\", \"also\", \"also\", \"also\", \"also\", \"although\", \"although\", \"although\", \"analysis\", \"analysis\", \"annoy\", \"annoy\", \"anyone\", \"anyone\", \"anyway\", \"appropriate\", \"appropriate\", \"around\", \"around\", \"attempt\", \"awesome\", \"awesome\", \"back\", \"bad\", \"bad\", \"bad\", \"bash\", \"basic\", \"basic\", \"basic\", \"basic\", \"basic\", \"basically\", \"basis\", \"begin\", \"begin\", \"begin\", \"begin\", \"beginner\", \"beginner\", \"beginner\", \"beginner\", \"believe\", \"believe\", \"bit\", \"bit\", \"bit\", \"broad\", \"cant\", \"cant\", \"cant\", \"career\", \"career\", \"career\", \"charge\", \"class\", \"class\", \"class\", \"class\", \"clear\", \"clear\", \"clear\", \"clear\", \"come\", \"come\", \"comfortable\", \"command\", \"command\", \"command\", \"community\", \"compare\", \"complete\", \"complete\", \"complete\", \"complete\", \"concept\", \"concept\", \"concept\", \"concept\", \"concept\", \"content\", \"content\", \"content\", \"content\", \"could\", \"could\", \"could\", \"could\", \"cours\", \"course\", \"course\", \"course\", \"course\", \"course\", \"coursera\", \"coursera\", \"coursera\", \"coverage\", \"current\", \"d\", \"d\", \"data\", \"data\", \"data\", \"data\", \"datascience\", \"datascience\", \"decent\", \"depth\", \"developer\", \"difficulty\", \"dig\", \"discussion\", \"dive\", \"do\", \"do\", \"do\", \"doesnt\", \"doesnt\", \"download\", \"download\", \"easy\", \"easy\", \"easy\", \"easy\", \"education\", \"effective\", \"effective\", \"either\", \"either\", \"element\", \"enough\", \"enough\", \"enough\", \"enough\", \"error\", \"essential\", \"every\", \"every\", \"every\", \"example\", \"example\", \"example\", \"excelente\", \"excellent\", \"excellent\", \"excellent\", \"excite\", \"exist\", \"expectation\", \"experience\", \"experience\", \"experience\", \"explain\", \"explain\", \"explain\", \"explain\", \"extremely\", \"feel\", \"feel\", \"feel\", \"feel\", \"field\", \"field\", \"field\", \"find\", \"find\", \"find\", \"find\", \"first\", \"first\", \"first\", \"first\", \"first\", \"fix\", \"follow\", \"follow\", \"follow\", \"follow\", \"force\", \"forward\", \"foundation\", \"foundational\", \"four\", \"fundamental\", \"general\", \"general\", \"general\", \"get\", \"get\", \"get\", \"get\", \"get\", \"git\", \"git\", \"git\", \"git\", \"gitbash\", \"gitgithub\", \"github\", \"github\", \"github\", \"github\", \"give\", \"give\", \"give\", \"give\", \"give\", \"go\", \"go\", \"go\", \"go\", \"good\", \"good\", \"google\", \"google\", \"google\", \"grasp\", \"guess\", \"happy\", \"heavy\", \"help\", \"help\", \"help\", \"help\", \"help\", \"helpful\", \"helpful\", \"helpful\", \"helpful\", \"helpful\", \"highly\", \"highly\", \"highly\", \"highly\", \"hop\", \"hopkins\", \"hour\", \"hour\", \"im\", \"im\", \"im\", \"im\", \"impression\", \"info\", \"information\", \"information\", \"information\", \"information\", \"informative\", \"informative\", \"informative\", \"instruction\", \"instruction\", \"instruction\", \"instruction\", \"interactive\", \"interactive\", \"interest\", \"interest\", \"interest\", \"interest\", \"interesting\", \"interesting\", \"internet\", \"intro\", \"intro\", \"intro\", \"intro\", \"introduce\", \"introduce\", \"introduce\", \"introduces\", \"introduction\", \"introduction\", \"introduction\", \"introduction\", \"introductory\", \"introductory\", \"introductory\", \"isnt\", \"job\", \"job\", \"john\", \"john\", \"journey\", \"journey\", \"know\", \"know\", \"know\", \"know\", \"lay\", \"lead\", \"learn\", \"learn\", \"learn\", \"learn\", \"learn\", \"learnt\", \"learnt\", \"learnt\", \"lecture\", \"lecture\", \"lecture\", \"lecture\", \"leek\", \"lesson\", \"lesson\", \"lesson\", \"let\", \"let\", \"light\", \"line\", \"list\", \"little\", \"little\", \"little\", \"logical\", \"look\", \"look\", \"lot\", \"lot\", \"lot\", \"lot\", \"lot\", \"love\", \"love\", \"machine\", \"machine\", \"make\", \"make\", \"make\", \"make\", \"make\", \"manage\", \"master\", \"material\", \"material\", \"material\", \"material\", \"material\", \"matter\", \"methodology\", \"money\", \"move\", \"move\", \"much\", \"much\", \"much\", \"much\", \"much\", \"necessary\", \"necessary\", \"necessary\", \"necessary\", \"need\", \"need\", \"need\", \"need\", \"need\", \"nevertheless\", \"new\", \"new\", \"new\", \"next\", \"next\", \"next\", \"non\", \"nothing\", \"nothing\", \"nothing\", \"number\", \"old\", \"one\", \"one\", \"one\", \"one\", \"one\", \"opinion\", \"opportunity\", \"opportunity\", \"organize\", \"organize\", \"organize\", \"organize\", \"outline\", \"overall\", \"overall\", \"overall\", \"overview\", \"overview\", \"overview\", \"paced\", \"pack\", \"pay\", \"picture\", \"point\", \"point\", \"point\", \"poorly\", \"practical\", \"practical\", \"prep\", \"prepared\", \"present\", \"present\", \"pretty\", \"pretty\", \"pretty\", \"pretty\", \"preview\", \"price\", \"prior\", \"prof\", \"program\", \"program\", \"program\", \"program\", \"programmer\", \"progress\", \"properly\", \"question\", \"question\", \"question\", \"quickly\", \"quiz\", \"quiz\", \"quiz\", \"r\", \"r\", \"r\", \"r\", \"r\", \"read\", \"read\", \"read\", \"read\", \"ready\", \"real\", \"real\", \"real\", \"recommend\", \"recommend\", \"recommend\", \"recommend\", \"reference\", \"reference\", \"related\", \"require\", \"require\", \"require\", \"resource\", \"resource\", \"right\", \"right\", \"right\", \"rstudio\", \"rstudio\", \"rstudio\", \"rstudio\", \"science\", \"science\", \"science\", \"scientist\", \"scientist\", \"search\", \"second\", \"seem\", \"seem\", \"seem\", \"separate\", \"sequence\", \"set\", \"set\", \"set\", \"set\", \"setup\", \"setup\", \"show\", \"show\", \"show\", \"sign\", \"similar\", \"skip\", \"slide\", \"slide\", \"slide\", \"slow\", \"slow\", \"software\", \"software\", \"software\", \"solid\", \"solid\", \"speak\", \"speaker\", \"specialization\", \"specialization\", \"specialization\", \"specialization\", \"specific\", \"spend\", \"spend\", \"start\", \"start\", \"start\", \"start\", \"start\", \"starter\", \"statistical\", \"stats\", \"stepbystep\", \"straight\", \"strong\", \"strongly\", \"structure\", \"structure\", \"structure\", \"stuff\", \"stuff\", \"stuff\", \"subject\", \"subject\", \"subject\", \"subject\", \"subsequent\", \"sufficient\", \"support\", \"sure\", \"sure\", \"sure\", \"syllabus\", \"take\", \"take\", \"take\", \"take\", \"take\", \"teacher\", \"teacher\", \"teacher\", \"technical\", \"terminal\", \"thank\", \"thank\", \"thank\", \"thank\", \"thanks\", \"thanks\", \"thanks\", \"thanks\", \"thing\", \"thing\", \"thing\", \"thing\", \"thing\", \"think\", \"think\", \"think\", \"think\", \"think\", \"though\", \"though\", \"though\", \"though\", \"thought\", \"thought\", \"time\", \"time\", \"time\", \"time\", \"tool\", \"tool\", \"tool\", \"tool\", \"tool\", \"toolbox\", \"toolbox\", \"toolbox\", \"trade\", \"training\", \"understand\", \"understand\", \"understand\", \"understand\", \"understood\", \"university\", \"university\", \"university\", \"usage\", \"use\", \"use\", \"use\", \"use\", \"useful\", \"useful\", \"useful\", \"useful\", \"useful\", \"usefull\", \"user\", \"user\", \"value\", \"version\", \"version\", \"version\", \"video\", \"video\", \"video\", \"video\", \"view\", \"voice\", \"voice\", \"voice\", \"voice\", \"wait\", \"waste\", \"watch\", \"way\", \"way\", \"way\", \"way\", \"way\", \"week\", \"week\", \"well\", \"well\", \"well\", \"well\", \"well\", \"whether\", \"wish\", \"wish\", \"wish\", \"within\", \"word\", \"work\", \"work\", \"work\", \"work\", \"work\", \"world\", \"world\", \"worth\", \"worth\", \"would\", \"would\", \"would\", \"would\", \"youll\", \"youve\"]}, \"R\": 30, \"lambda.step\": 0.01, \"plot.opts\": {\"xlab\": \"PC1\", \"ylab\": \"PC2\"}, \"topic.order\": [3, 1, 4, 2, 5]};\n",
       "\n",
       "function LDAvis_load_lib(url, callback){\n",
       "  var s = document.createElement('script');\n",
       "  s.src = url;\n",
       "  s.async = true;\n",
       "  s.onreadystatechange = s.onload = callback;\n",
       "  s.onerror = function(){console.warn(\"failed to load library \" + url);};\n",
       "  document.getElementsByTagName(\"head\")[0].appendChild(s);\n",
       "}\n",
       "\n",
       "if(typeof(LDAvis) !== \"undefined\"){\n",
       "   // already loaded: just create the visualization\n",
       "   !function(LDAvis){\n",
       "       new LDAvis(\"#\" + \"ldavis_el366361402244048592161381272064\", ldavis_el366361402244048592161381272064_data);\n",
       "   }(LDAvis);\n",
       "}else if(typeof define === \"function\" && define.amd){\n",
       "   // require.js is available: use it to load d3/LDAvis\n",
       "   require.config({paths: {d3: \"https://d3js.org/d3.v5\"}});\n",
       "   require([\"d3\"], function(d3){\n",
       "      window.d3 = d3;\n",
       "      LDAvis_load_lib(\"https://cdn.jsdelivr.net/gh/bmabey/pyLDAvis@3.2.2/pyLDAvis/js/ldavis.v3.0.0.js\", function(){\n",
       "        new LDAvis(\"#\" + \"ldavis_el366361402244048592161381272064\", ldavis_el366361402244048592161381272064_data);\n",
       "      });\n",
       "    });\n",
       "}else{\n",
       "    // require.js not available: dynamically load d3 & LDAvis\n",
       "    LDAvis_load_lib(\"https://d3js.org/d3.v5.js\", function(){\n",
       "         LDAvis_load_lib(\"https://cdn.jsdelivr.net/gh/bmabey/pyLDAvis@3.2.2/pyLDAvis/js/ldavis.v3.0.0.js\", function(){\n",
       "                 new LDAvis(\"#\" + \"ldavis_el366361402244048592161381272064\", ldavis_el366361402244048592161381272064_data);\n",
       "            })\n",
       "         });\n",
       "}\n",
       "</script>"
      ],
      "text/plain": [
       "PreparedData(topic_coordinates=              x         y  topics  cluster       Freq\n",
       "topic                                                \n",
       "2     -0.201748 -0.175726       1        1  33.262885\n",
       "0     -0.049088  0.074339       2        1  21.036784\n",
       "3      0.025142  0.119985       3        1  19.012696\n",
       "1     -0.036071  0.100565       4        1  18.333782\n",
       "4      0.261764 -0.119163       5        1   8.353854, topic_info=             Term         Freq        Total Category  logprob  loglift\n",
       "20           data  1524.000000  1524.000000  Default  30.0000  30.0000\n",
       "30        science  1092.000000  1092.000000  Default  29.0000  29.0000\n",
       "67   introduction   695.000000   695.000000  Default  28.0000  28.0000\n",
       "34           tool   597.000000   597.000000  Default  27.0000  27.0000\n",
       "93          start   563.000000   563.000000  Default  26.0000  26.0000\n",
       "..            ...          ...          ...      ...      ...      ...\n",
       "70        content    25.174375   281.412248   Topic5  -5.1234   0.0685\n",
       "128          much    22.314986   214.212502   Topic5  -5.2440   0.2207\n",
       "35         useful    22.858868   282.123144   Topic5  -5.2199  -0.0306\n",
       "149          time    19.197629   173.741871   Topic5  -5.3944   0.2797\n",
       "455           bad    17.470453    38.541245   Topic5  -5.4887   1.6912\n",
       "\n",
       "[360 rows x 6 columns], token_table=      Topic      Freq   Term\n",
       "term                        \n",
       "1069      2  0.927556      1\n",
       "1069      3  0.022623      1\n",
       "1069      5  0.045247      1\n",
       "161       2  0.990472      2\n",
       "525       2  0.949421      3\n",
       "...     ...       ...    ...\n",
       "59        2  0.263292  would\n",
       "59        3  0.119359  would\n",
       "59        4  0.523073  would\n",
       "1225      3  0.954758  youll\n",
       "1356      3  0.970392  youve\n",
       "\n",
       "[664 rows x 3 columns], R=30, lambda_step=0.01, plot_opts={'xlab': 'PC1', 'ylab': 'PC2'}, topic_order=[3, 1, 4, 2, 5])"
      ]
     },
     "execution_count": 32,
     "metadata": {},
     "output_type": "execute_result"
    }
   ],
   "source": [
    "# Visualize the topics\n",
    "pyLDAvis.enable_notebook()\n",
    "vis = pyLDAvis.gensim.prepare(lda_model, corpus, dictionary)\n",
    "vis"
   ]
  },
  {
   "cell_type": "markdown",
   "metadata": {},
   "source": [
    "What is topic perplexity and topic coherence: https://towardsdatascience.com/evaluate-topic-model-in-python-latent-dirichlet-allocation-lda-7d57484bb5d0"
   ]
  },
  {
   "cell_type": "code",
   "execution_count": 33,
   "metadata": {},
   "outputs": [
    {
     "name": "stdout",
     "output_type": "stream",
     "text": [
      "\n",
      "Perplexity:  -6.662921293992698\n",
      "\n",
      "Coherence Score:  0.46690894282979495\n"
     ]
    }
   ],
   "source": [
    "# Calculate Perplexity and Coherence\n",
    "\n",
    "# Compute Perplexity\n",
    "\n",
    "print('\\nPerplexity: ', lda_model.log_perplexity(corpus))  # a measure of how good the model is. The lower the better.\n",
    "\n",
    "# Compute Coherence Score\n",
    "\n",
    "coherence_model_lda = CoherenceModel(model = lda_model, texts = df['preprocessed'], dictionary = dictionary, coherence = 'c_v')\n",
    "coherence_lda = coherence_model_lda.get_coherence()\n",
    "print('\\nCoherence Score: ', coherence_lda)"
   ]
  },
  {
   "cell_type": "markdown",
   "metadata": {},
   "source": [
    "## Hyperparameter Tuning\n",
    "\n",
    "Code references\n",
    "\n",
    "Find the optimal number of topics, alpha and beta: https://towardsdatascience.com/evaluate-topic-model-in-python-latent-dirichlet-allocation-lda-7d57484bb5d0\n",
    "\n",
    "What is alpha and beta: https://www.thoughtvector.io/blog/lda-alpha-and-beta-parameters-the-intuition/"
   ]
  },
  {
   "cell_type": "markdown",
   "metadata": {},
   "source": [
    "## Calculate the coherence score\n",
    "\n",
    "Code reference: \n",
    "\n",
    "https://www.machinelearningplus.com/nlp/topic-modeling-gensim-python/#17howtofindtheoptimalnumberoftopicsforlda"
   ]
  },
  {
   "cell_type": "code",
   "execution_count": 34,
   "metadata": {},
   "outputs": [],
   "source": [
    "# Determine the optiomal number of topics by calculating the coherence score\n",
    "\n",
    "# Define function for calculating coherence score\n",
    "\n",
    "def compute_coherence_values(dictionary, corpus, texts, limit, start = 2, step = 3):\n",
    "    \"\"\"\n",
    "    Compute c_v coherence for various number of topics\n",
    "\n",
    "    Parameters:\n",
    "    ----------\n",
    "    dictionary : Gensim dictionary\n",
    "    corpus : Gensim corpus\n",
    "    texts : List of input texts\n",
    "    limit : Max num of topics\n",
    "\n",
    "    Returns:\n",
    "    -------\n",
    "    model_list : List of LDA topic models\n",
    "    coherence_values : Coherence values corresponding to the LDA model with respective number of topics\n",
    "    \"\"\"\n",
    "    coherence_values = []\n",
    "    model_list = []\n",
    "    for num_topics in range(start, limit, step):\n",
    "        model = LDA(corpus = corpus, num_topics = num_topics, id2word = dictionary, random_state = 100,\n",
    "                chunksize = 100, passes = 10)\n",
    "        model_list.append(model)\n",
    "        coherencemodel = CoherenceModel(model = model, texts = texts, dictionary = dictionary, coherence = 'c_v')\n",
    "        coherence_values.append(coherencemodel.get_coherence())\n",
    "\n",
    "    return model_list, coherence_values"
   ]
  },
  {
   "cell_type": "code",
   "execution_count": 35,
   "metadata": {},
   "outputs": [],
   "source": [
    "# Can take a long time to run.\n",
    "\n",
    "model_list, coherence_values = compute_coherence_values(dictionary = dictionary, corpus = corpus, texts = df['preprocessed'], start = 2, limit = 10, step = 1)"
   ]
  },
  {
   "cell_type": "code",
   "execution_count": 36,
   "metadata": {},
   "outputs": [
    {
     "data": {
      "image/png": "[encoded data removed]",
      "text/plain": [
       "<Figure size 432x288 with 1 Axes>"
      ]
     },
     "metadata": {
      "needs_background": "light"
     },
     "output_type": "display_data"
    }
   ],
   "source": [
    "# Show graph\n",
    "\n",
    "limit = 10; start = 2; step = 1;\n",
    "x = range(start, limit, step)\n",
    "plt.plot(x, coherence_values)\n",
    "plt.xlabel(\"Num Topics\")\n",
    "plt.ylabel(\"Coherence score\")\n",
    "plt.legend((\"coherence_values\"), loc = 'best')\n",
    "plt.show()\n"
   ]
  },
  {
   "cell_type": "code",
   "execution_count": 37,
   "metadata": {},
   "outputs": [
    {
     "name": "stdout",
     "output_type": "stream",
     "text": [
      "Num Topics = 2  has Coherence Value of 0.4687\n",
      "Num Topics = 3  has Coherence Value of 0.5202\n",
      "Num Topics = 4  has Coherence Value of 0.5023\n",
      "Num Topics = 5  has Coherence Value of 0.4609\n",
      "Num Topics = 6  has Coherence Value of 0.4921\n",
      "Num Topics = 7  has Coherence Value of 0.464\n",
      "Num Topics = 8  has Coherence Value of 0.5285\n",
      "Num Topics = 9  has Coherence Value of 0.5041\n"
     ]
    }
   ],
   "source": [
    "# Print the coherence scores\n",
    "\n",
    "for m, cv in zip(x, coherence_values):\n",
    "    print(\"Num Topics =\", m, \" has Coherence Value of\", round(cv, 4))"
   ]
  },
  {
   "cell_type": "markdown",
   "metadata": {},
   "source": [
    "## LDA Mallet Model\n",
    "\n",
    "Code reference:\n",
    "\n",
    "https://www.machinelearningplus.com/nlp/topic-modeling-gensim-python/#17howtofindtheoptimalnumberoftopicsforlda"
   ]
  },
  {
   "cell_type": "code",
   "execution_count": 38,
   "metadata": {},
   "outputs": [],
   "source": [
    "mallet_path = '/Users/siriamanda/Desktop/LNU-VT-2021/Thesis/11-data-analysis/mallet-2.0.8/bin/mallet' # update this path\n",
    "ldamallet = gensim.models.wrappers.LdaMallet(mallet_path, corpus = corpus, num_topics = 5, id2word = dictionary)"
   ]
  },
  {
   "cell_type": "code",
   "execution_count": 39,
   "metadata": {},
   "outputs": [
    {
     "name": "stdout",
     "output_type": "stream",
     "text": [
      "[(0,\n",
      "  [('basic', 0.09631807363852724),\n",
      "   ('content', 0.04381912361752765),\n",
      "   ('specialization', 0.04003919921601568),\n",
      "   ('helpful', 0.0373792524149517),\n",
      "   ('intro', 0.02883942321153577),\n",
      "   ('introductory', 0.028699426011479772),\n",
      "   ('voice', 0.023659526809463812),\n",
      "   ('lecture', 0.021699566008679828),\n",
      "   ('coursera', 0.02029959400811984),\n",
      "   ('clear', 0.016939661206775865)]),\n",
      " (1,\n",
      "  [('learn', 0.07764481914604297),\n",
      "   ('lot', 0.03535490889311939),\n",
      "   ('program', 0.027468044601577372),\n",
      "   ('make', 0.02624422083220016),\n",
      "   ('set', 0.025156377481642643),\n",
      "   ('time', 0.025020397062822955),\n",
      "   ('experience', 0.024068534131085124),\n",
      "   ('step', 0.022028827848789775),\n",
      "   ('information', 0.021212945335871633),\n",
      "   ('class', 0.018765297797117216)]),\n",
      " (2,\n",
      "  [('material', 0.0265758547008547),\n",
      "   ('work', 0.025774572649572648),\n",
      "   ('video', 0.022569444444444444),\n",
      "   ('complete', 0.020699786324786324),\n",
      "   ('find', 0.018963675213675212),\n",
      "   ('week', 0.018696581196581196),\n",
      "   ('thing', 0.016826923076923076),\n",
      "   ('give', 0.016826923076923076),\n",
      "   ('people', 0.016426282051282052),\n",
      "   ('software', 0.015224358974358974)]),\n",
      " (3,\n",
      "  [('data', 0.22908129543952413),\n",
      "   ('science', 0.1657633840052875),\n",
      "   ('introduction', 0.09213483146067415),\n",
      "   ('start', 0.08208856576338401),\n",
      "   ('tool', 0.07970918704560476),\n",
      "   ('scientist', 0.03476536682088566),\n",
      "   ('overview', 0.0216787838730998),\n",
      "   ('give', 0.018374091209517517),\n",
      "   ('field', 0.014408460013218771),\n",
      "   ('toolbox', 0.011764705882352941)]),\n",
      " (4,\n",
      "  [('github', 0.05806811836962591),\n",
      "   ('excellent', 0.05443886097152429),\n",
      "   ('easy', 0.05206588498045785),\n",
      "   ('git', 0.044946957007258516),\n",
      "   ('understand', 0.04383026242322725),\n",
      "   ('beginner', 0.03126744835287549),\n",
      "   ('rstudio', 0.027917364600781685),\n",
      "   ('follow', 0.023590173087660524),\n",
      "   ('concept', 0.023031825795644893),\n",
      "   ('knowledge', 0.022054718034617532)])]\n",
      "\n",
      "Coherence Score:  0.4120187931913831\n"
     ]
    }
   ],
   "source": [
    "# Show Topics\n",
    "pprint(ldamallet.show_topics(formatted = False))\n",
    "\n",
    "# Compute Coherence Score\n",
    "coherence_model_ldamallet = CoherenceModel(model = ldamallet, texts = df['preprocessed'], dictionary = dictionary, coherence = 'c_v')\n",
    "coherence_ldamallet = coherence_model_ldamallet.get_coherence()\n",
    "print('\\nCoherence Score: ', coherence_ldamallet)\n",
    "\n",
    "# The coherence score using the Mallet Model is lower than the original LDA Model"
   ]
  },
  {
   "cell_type": "code",
   "execution_count": null,
   "metadata": {},
   "outputs": [],
   "source": []
  },
  {
   "cell_type": "code",
   "execution_count": null,
   "metadata": {},
   "outputs": [],
   "source": []
  }
 ],
 "metadata": {
  "kernelspec": {
   "display_name": "Python 3",
   "language": "python",
   "name": "python3"
  },
  "language_info": {
   "codemirror_mode": {
    "name": "ipython",
    "version": 3
   },
   "file_extension": ".py",
   "mimetype": "text/x-python",
   "name": "python",
   "nbconvert_exporter": "python",
   "pygments_lexer": "ipython3",
   "version": "3.7.6"
  }
 },
 "nbformat": 4,
 "nbformat_minor": 4
}
