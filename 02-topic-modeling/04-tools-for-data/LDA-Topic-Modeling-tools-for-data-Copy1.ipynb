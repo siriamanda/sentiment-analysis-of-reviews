{
 "cells": [
  {
   "cell_type": "code",
   "execution_count": 1,
   "metadata": {},
   "outputs": [
    {
     "name": "stderr",
     "output_type": "stream",
     "text": [
      "/Users/siriamanda/opt/anaconda3/lib/python3.7/site-packages/scipy/sparse/sparsetools.py:21: DeprecationWarning: `scipy.sparse.sparsetools` is deprecated!\n",
      "scipy.sparse.sparsetools is a private module for scipy.sparse, and should not be used.\n",
      "  _deprecated()\n",
      "/Users/siriamanda/opt/anaconda3/lib/python3.7/site-packages/nltk/decorators.py:70: DeprecationWarning: `formatargspec` is deprecated since Python 3.5. Use `signature` and the `Signature` object directly\n",
      "  formatvalue=lambda value: \"\")[1:-1]\n"
     ]
    }
   ],
   "source": [
    "# Import the libraries\n",
    "\n",
    "import pandas as pd \n",
    "import numpy as np\n",
    "\n",
    "from pprint import pprint\n",
    "\n",
    "# libraries for visualization\n",
    "import pyLDAvis\n",
    "import pyLDAvis.gensim\n",
    "import matplotlib.pyplot as plt\n",
    "import seaborn as sns\n",
    "%matplotlib inline\n",
    "\n",
    "import re\n",
    "\n",
    "import spacy\n",
    "\n",
    "import gensim\n",
    "from gensim import corpora, models\n",
    "from gensim.utils import simple_preprocess\n",
    "from gensim.models import CoherenceModel\n",
    "\n",
    "import nltk\n",
    "from nltk import FreqDist\n",
    "from nltk.corpus import stopwords\n",
    "from nltk.tokenize import RegexpTokenizer\n",
    "from nltk.stem import WordNetLemmatizer, SnowballStemmer\n",
    "from nltk.tag import pos_tag, pos_tag_sents\n",
    "from nltk.corpus import wordnet\n",
    "\n",
    "import warnings\n",
    "warnings.filterwarnings(\"ignore\")\n"
   ]
  },
  {
   "cell_type": "markdown",
   "metadata": {},
   "source": [
    "Code references:\n",
    "\n",
    "https://www.analyticsvidhya.com/blog/2018/10/mining-online-reviews-topic-modeling-lda/\n"
   ]
  },
  {
   "cell_type": "code",
   "execution_count": 2,
   "metadata": {},
   "outputs": [],
   "source": [
    "df = pd.read_csv('/Users/siriamanda/Desktop/LNU-VT-2021/Thesis/11-data-analysis/sentiment-analysis-of-reviews/01-sentiment-analysis/04-tools-for-data/VADER-tools-for-data.csv')\n"
   ]
  },
  {
   "cell_type": "code",
   "execution_count": 3,
   "metadata": {},
   "outputs": [
    {
     "data": {
      "text/html": [
       "<div>\n",
       "<style scoped>\n",
       "    .dataframe tbody tr th:only-of-type {\n",
       "        vertical-align: middle;\n",
       "    }\n",
       "\n",
       "    .dataframe tbody tr th {\n",
       "        vertical-align: top;\n",
       "    }\n",
       "\n",
       "    .dataframe thead th {\n",
       "        text-align: right;\n",
       "    }\n",
       "</style>\n",
       "<table border=\"1\" class=\"dataframe\">\n",
       "  <thead>\n",
       "    <tr style=\"text-align: right;\">\n",
       "      <th></th>\n",
       "      <th>Unnamed: 0</th>\n",
       "      <th>date</th>\n",
       "      <th>review</th>\n",
       "      <th>rating</th>\n",
       "      <th>status</th>\n",
       "      <th>length</th>\n",
       "      <th>label</th>\n",
       "      <th>language_scores</th>\n",
       "      <th>language</th>\n",
       "      <th>scores</th>\n",
       "      <th>compound</th>\n",
       "      <th>sentiment</th>\n",
       "    </tr>\n",
       "  </thead>\n",
       "  <tbody>\n",
       "    <tr>\n",
       "      <th>0</th>\n",
       "      <td>0</td>\n",
       "      <td>2021-03-10</td>\n",
       "      <td>Some of the lab instructions are out of synch ...</td>\n",
       "      <td>3</td>\n",
       "      <td>completer</td>\n",
       "      <td>442</td>\n",
       "      <td>neu</td>\n",
       "      <td>{'language': 'en', 'score': 0.999997056713954}</td>\n",
       "      <td>en</td>\n",
       "      <td>{'neg': 0.075, 'neu': 0.895, 'pos': 0.029, 'co...</td>\n",
       "      <td>-0.3818</td>\n",
       "      <td>neg</td>\n",
       "    </tr>\n",
       "    <tr>\n",
       "      <th>1</th>\n",
       "      <td>1</td>\n",
       "      <td>2021-03-10</td>\n",
       "      <td>Very nice course.</td>\n",
       "      <td>5</td>\n",
       "      <td>completer</td>\n",
       "      <td>18</td>\n",
       "      <td>pos</td>\n",
       "      <td>{'language': 'en', 'score': 0.9999965592297603}</td>\n",
       "      <td>en</td>\n",
       "      <td>{'neg': 0.0, 'neu': 0.393, 'pos': 0.607, 'comp...</td>\n",
       "      <td>0.4754</td>\n",
       "      <td>pos</td>\n",
       "    </tr>\n",
       "    <tr>\n",
       "      <th>2</th>\n",
       "      <td>2</td>\n",
       "      <td>2021-03-10</td>\n",
       "      <td>I have learned much knowledge about data scien...</td>\n",
       "      <td>5</td>\n",
       "      <td>completer</td>\n",
       "      <td>210</td>\n",
       "      <td>pos</td>\n",
       "      <td>{'language': 'en', 'score': 0.9999959027806586}</td>\n",
       "      <td>en</td>\n",
       "      <td>{'neg': 0.0, 'neu': 0.727, 'pos': 0.273, 'comp...</td>\n",
       "      <td>0.8923</td>\n",
       "      <td>pos</td>\n",
       "    </tr>\n",
       "    <tr>\n",
       "      <th>3</th>\n",
       "      <td>3</td>\n",
       "      <td>2021-03-08</td>\n",
       "      <td>Clear Idea about the Data Science and its tools</td>\n",
       "      <td>5</td>\n",
       "      <td>completer</td>\n",
       "      <td>47</td>\n",
       "      <td>pos</td>\n",
       "      <td>{'language': 'en', 'score': 0.9999971743061971}</td>\n",
       "      <td>en</td>\n",
       "      <td>{'neg': 0.0, 'neu': 0.755, 'pos': 0.245, 'comp...</td>\n",
       "      <td>0.3818</td>\n",
       "      <td>pos</td>\n",
       "    </tr>\n",
       "    <tr>\n",
       "      <th>4</th>\n",
       "      <td>4</td>\n",
       "      <td>2021-03-08</td>\n",
       "      <td>Nice overview, though the course materials hav...</td>\n",
       "      <td>3</td>\n",
       "      <td>completer</td>\n",
       "      <td>450</td>\n",
       "      <td>neu</td>\n",
       "      <td>{'language': 'en', 'score': 0.9999962557747355}</td>\n",
       "      <td>en</td>\n",
       "      <td>{'neg': 0.055, 'neu': 0.873, 'pos': 0.072, 'co...</td>\n",
       "      <td>0.3400</td>\n",
       "      <td>pos</td>\n",
       "    </tr>\n",
       "  </tbody>\n",
       "</table>\n",
       "</div>"
      ],
      "text/plain": [
       "   Unnamed: 0        date                                             review  \\\n",
       "0           0  2021-03-10  Some of the lab instructions are out of synch ...   \n",
       "1           1  2021-03-10                                 Very nice course.    \n",
       "2           2  2021-03-10  I have learned much knowledge about data scien...   \n",
       "3           3  2021-03-08    Clear Idea about the Data Science and its tools   \n",
       "4           4  2021-03-08  Nice overview, though the course materials hav...   \n",
       "\n",
       "   rating     status  length label  \\\n",
       "0       3  completer     442   neu   \n",
       "1       5  completer      18   pos   \n",
       "2       5  completer     210   pos   \n",
       "3       5  completer      47   pos   \n",
       "4       3  completer     450   neu   \n",
       "\n",
       "                                   language_scores language  \\\n",
       "0   {'language': 'en', 'score': 0.999997056713954}       en   \n",
       "1  {'language': 'en', 'score': 0.9999965592297603}       en   \n",
       "2  {'language': 'en', 'score': 0.9999959027806586}       en   \n",
       "3  {'language': 'en', 'score': 0.9999971743061971}       en   \n",
       "4  {'language': 'en', 'score': 0.9999962557747355}       en   \n",
       "\n",
       "                                              scores  compound sentiment  \n",
       "0  {'neg': 0.075, 'neu': 0.895, 'pos': 0.029, 'co...   -0.3818       neg  \n",
       "1  {'neg': 0.0, 'neu': 0.393, 'pos': 0.607, 'comp...    0.4754       pos  \n",
       "2  {'neg': 0.0, 'neu': 0.727, 'pos': 0.273, 'comp...    0.8923       pos  \n",
       "3  {'neg': 0.0, 'neu': 0.755, 'pos': 0.245, 'comp...    0.3818       pos  \n",
       "4  {'neg': 0.055, 'neu': 0.873, 'pos': 0.072, 'co...    0.3400       pos  "
      ]
     },
     "execution_count": 3,
     "metadata": {},
     "output_type": "execute_result"
    }
   ],
   "source": [
    "df.head()"
   ]
  },
  {
   "cell_type": "code",
   "execution_count": 4,
   "metadata": {},
   "outputs": [],
   "source": [
    "df.drop(['Unnamed: 0', 'language_scores', 'language', 'scores'], axis = 1, inplace = True)"
   ]
  },
  {
   "cell_type": "code",
   "execution_count": 5,
   "metadata": {},
   "outputs": [
    {
     "data": {
      "text/html": [
       "<div>\n",
       "<style scoped>\n",
       "    .dataframe tbody tr th:only-of-type {\n",
       "        vertical-align: middle;\n",
       "    }\n",
       "\n",
       "    .dataframe tbody tr th {\n",
       "        vertical-align: top;\n",
       "    }\n",
       "\n",
       "    .dataframe thead th {\n",
       "        text-align: right;\n",
       "    }\n",
       "</style>\n",
       "<table border=\"1\" class=\"dataframe\">\n",
       "  <thead>\n",
       "    <tr style=\"text-align: right;\">\n",
       "      <th></th>\n",
       "      <th>date</th>\n",
       "      <th>review</th>\n",
       "      <th>rating</th>\n",
       "      <th>status</th>\n",
       "      <th>length</th>\n",
       "      <th>label</th>\n",
       "      <th>compound</th>\n",
       "      <th>sentiment</th>\n",
       "    </tr>\n",
       "  </thead>\n",
       "  <tbody>\n",
       "    <tr>\n",
       "      <th>0</th>\n",
       "      <td>2021-03-10</td>\n",
       "      <td>Some of the lab instructions are out of synch ...</td>\n",
       "      <td>3</td>\n",
       "      <td>completer</td>\n",
       "      <td>442</td>\n",
       "      <td>neu</td>\n",
       "      <td>-0.3818</td>\n",
       "      <td>neg</td>\n",
       "    </tr>\n",
       "    <tr>\n",
       "      <th>1</th>\n",
       "      <td>2021-03-10</td>\n",
       "      <td>Very nice course.</td>\n",
       "      <td>5</td>\n",
       "      <td>completer</td>\n",
       "      <td>18</td>\n",
       "      <td>pos</td>\n",
       "      <td>0.4754</td>\n",
       "      <td>pos</td>\n",
       "    </tr>\n",
       "    <tr>\n",
       "      <th>2</th>\n",
       "      <td>2021-03-10</td>\n",
       "      <td>I have learned much knowledge about data scien...</td>\n",
       "      <td>5</td>\n",
       "      <td>completer</td>\n",
       "      <td>210</td>\n",
       "      <td>pos</td>\n",
       "      <td>0.8923</td>\n",
       "      <td>pos</td>\n",
       "    </tr>\n",
       "    <tr>\n",
       "      <th>3</th>\n",
       "      <td>2021-03-08</td>\n",
       "      <td>Clear Idea about the Data Science and its tools</td>\n",
       "      <td>5</td>\n",
       "      <td>completer</td>\n",
       "      <td>47</td>\n",
       "      <td>pos</td>\n",
       "      <td>0.3818</td>\n",
       "      <td>pos</td>\n",
       "    </tr>\n",
       "    <tr>\n",
       "      <th>4</th>\n",
       "      <td>2021-03-08</td>\n",
       "      <td>Nice overview, though the course materials hav...</td>\n",
       "      <td>3</td>\n",
       "      <td>completer</td>\n",
       "      <td>450</td>\n",
       "      <td>neu</td>\n",
       "      <td>0.3400</td>\n",
       "      <td>pos</td>\n",
       "    </tr>\n",
       "    <tr>\n",
       "      <th>...</th>\n",
       "      <td>...</td>\n",
       "      <td>...</td>\n",
       "      <td>...</td>\n",
       "      <td>...</td>\n",
       "      <td>...</td>\n",
       "      <td>...</td>\n",
       "      <td>...</td>\n",
       "      <td>...</td>\n",
       "    </tr>\n",
       "    <tr>\n",
       "      <th>3031</th>\n",
       "      <td>2018-09-19</td>\n",
       "      <td>Another Great class.  Really introduces you to...</td>\n",
       "      <td>5</td>\n",
       "      <td>dropout</td>\n",
       "      <td>188</td>\n",
       "      <td>pos</td>\n",
       "      <td>0.8360</td>\n",
       "      <td>pos</td>\n",
       "    </tr>\n",
       "    <tr>\n",
       "      <th>3032</th>\n",
       "      <td>2018-09-19</td>\n",
       "      <td>Great introduction to the various open source ...</td>\n",
       "      <td>5</td>\n",
       "      <td>dropout</td>\n",
       "      <td>75</td>\n",
       "      <td>pos</td>\n",
       "      <td>0.6249</td>\n",
       "      <td>pos</td>\n",
       "    </tr>\n",
       "    <tr>\n",
       "      <th>3033</th>\n",
       "      <td>2018-09-19</td>\n",
       "      <td>Simple trivial materials</td>\n",
       "      <td>3</td>\n",
       "      <td>dropout</td>\n",
       "      <td>24</td>\n",
       "      <td>neu</td>\n",
       "      <td>-0.0258</td>\n",
       "      <td>neg</td>\n",
       "    </tr>\n",
       "    <tr>\n",
       "      <th>3034</th>\n",
       "      <td>2018-09-19</td>\n",
       "      <td>Very practical course!</td>\n",
       "      <td>5</td>\n",
       "      <td>dropout</td>\n",
       "      <td>22</td>\n",
       "      <td>pos</td>\n",
       "      <td>0.0000</td>\n",
       "      <td>neu</td>\n",
       "    </tr>\n",
       "    <tr>\n",
       "      <th>3035</th>\n",
       "      <td>2018-09-18</td>\n",
       "      <td>Great Course introducing us to these tools</td>\n",
       "      <td>5</td>\n",
       "      <td>dropout</td>\n",
       "      <td>42</td>\n",
       "      <td>pos</td>\n",
       "      <td>0.6249</td>\n",
       "      <td>pos</td>\n",
       "    </tr>\n",
       "  </tbody>\n",
       "</table>\n",
       "<p>3036 rows × 8 columns</p>\n",
       "</div>"
      ],
      "text/plain": [
       "            date                                             review  rating  \\\n",
       "0     2021-03-10  Some of the lab instructions are out of synch ...       3   \n",
       "1     2021-03-10                                 Very nice course.        5   \n",
       "2     2021-03-10  I have learned much knowledge about data scien...       5   \n",
       "3     2021-03-08    Clear Idea about the Data Science and its tools       5   \n",
       "4     2021-03-08  Nice overview, though the course materials hav...       3   \n",
       "...          ...                                                ...     ...   \n",
       "3031  2018-09-19  Another Great class.  Really introduces you to...       5   \n",
       "3032  2018-09-19  Great introduction to the various open source ...       5   \n",
       "3033  2018-09-19                           Simple trivial materials       3   \n",
       "3034  2018-09-19                             Very practical course!       5   \n",
       "3035  2018-09-18         Great Course introducing us to these tools       5   \n",
       "\n",
       "         status  length label  compound sentiment  \n",
       "0     completer     442   neu   -0.3818       neg  \n",
       "1     completer      18   pos    0.4754       pos  \n",
       "2     completer     210   pos    0.8923       pos  \n",
       "3     completer      47   pos    0.3818       pos  \n",
       "4     completer     450   neu    0.3400       pos  \n",
       "...         ...     ...   ...       ...       ...  \n",
       "3031    dropout     188   pos    0.8360       pos  \n",
       "3032    dropout      75   pos    0.6249       pos  \n",
       "3033    dropout      24   neu   -0.0258       neg  \n",
       "3034    dropout      22   pos    0.0000       neu  \n",
       "3035    dropout      42   pos    0.6249       pos  \n",
       "\n",
       "[3036 rows x 8 columns]"
      ]
     },
     "execution_count": 5,
     "metadata": {},
     "output_type": "execute_result"
    }
   ],
   "source": [
    "df"
   ]
  },
  {
   "cell_type": "code",
   "execution_count": 6,
   "metadata": {},
   "outputs": [
    {
     "data": {
      "text/plain": [
       "0"
      ]
     },
     "execution_count": 6,
     "metadata": {},
     "output_type": "execute_result"
    }
   ],
   "source": [
    "# Check for null values\n",
    "\n",
    "len(df[df['review'].isna()==True])"
   ]
  },
  {
   "cell_type": "code",
   "execution_count": 7,
   "metadata": {},
   "outputs": [],
   "source": [
    "# Drop null values\n",
    "\n",
    "# df.dropna(inplace = True)"
   ]
  },
  {
   "cell_type": "code",
   "execution_count": 8,
   "metadata": {},
   "outputs": [],
   "source": [
    "# Check for null values\n",
    "\n",
    "# len(df[df['review'].isna()==True])"
   ]
  },
  {
   "cell_type": "code",
   "execution_count": 9,
   "metadata": {},
   "outputs": [],
   "source": [
    "# Reset the index\n",
    "\n",
    "# df = df.reset_index(drop = True)"
   ]
  },
  {
   "cell_type": "code",
   "execution_count": 10,
   "metadata": {},
   "outputs": [],
   "source": [
    "# df"
   ]
  },
  {
   "cell_type": "code",
   "execution_count": 11,
   "metadata": {},
   "outputs": [],
   "source": [
    "# Define a function to plot the most frequent words\n",
    "\n",
    "def freq_words(x, terms = 30):\n",
    "    all_words = ' '.join([text for text in x])\n",
    "    all_words = all_words.split()\n",
    "\n",
    "    fdist = FreqDist(all_words)\n",
    "    words_df = pd.DataFrame({'word':list(fdist.keys()), 'count':list(fdist.values())})\n",
    "    \n",
    "    # selecting top 20 most frequent words\n",
    "    d = words_df.nlargest(columns=\"count\", n = terms) \n",
    "    plt.figure(figsize=(20,5))\n",
    "    ax = sns.barplot(data=d, x= \"word\", y = \"count\")\n",
    "    ax.set(ylabel = 'Count')\n",
    "    plt.xticks(rotation = 45)\n",
    "    plt.show()"
   ]
  },
  {
   "cell_type": "code",
   "execution_count": 12,
   "metadata": {},
   "outputs": [
    {
     "data": {
      "image/png": "[encoded data removed]",
      "text/plain": [
       "<Figure size 1440x360 with 1 Axes>"
      ]
     },
     "metadata": {
      "needs_background": "light"
     },
     "output_type": "display_data"
    }
   ],
   "source": [
    "# The most frquent words are stop words such as 'to' and 'the' we will remove these in the preprocessing steps\n",
    "\n",
    "freq_words(df['review'])"
   ]
  },
  {
   "cell_type": "markdown",
   "metadata": {},
   "source": [
    "## Preprocessing"
   ]
  },
  {
   "cell_type": "code",
   "execution_count": 13,
   "metadata": {},
   "outputs": [
    {
     "data": {
      "text/plain": [
       "0    some of the lab instructions are out of synch ...\n",
       "1                                    very nice course.\n",
       "2    i have learned much knowledge about data scien...\n",
       "3      clear idea about the data science and its tools\n",
       "4    nice overview, though the course materials hav...\n",
       "Name: preprocessed, dtype: object"
      ]
     },
     "execution_count": 13,
     "metadata": {},
     "output_type": "execute_result"
    }
   ],
   "source": [
    "# Covert to lowercase\n",
    "\n",
    "df['preprocessed'] =  df['review'].apply(lambda x: \" \".join(x.lower() for x in x.split()))\n",
    "df['preprocessed'].head()"
   ]
  },
  {
   "cell_type": "code",
   "execution_count": 14,
   "metadata": {},
   "outputs": [
    {
     "data": {
      "text/plain": [
       "0    some of the lab instructions are out of synch ...\n",
       "1                                     very nice course\n",
       "2    i have learned much knowledge about data scien...\n",
       "3      clear idea about the data science and its tools\n",
       "4    nice overview though the course materials have...\n",
       "Name: preprocessed, dtype: object"
      ]
     },
     "execution_count": 14,
     "metadata": {},
     "output_type": "execute_result"
    }
   ],
   "source": [
    "# Remove punctuations\n",
    "\n",
    "df['preprocessed'] = df['preprocessed'].str.replace('[^\\w\\s]','')\n",
    "df['preprocessed'].head()"
   ]
  },
  {
   "cell_type": "code",
   "execution_count": 15,
   "metadata": {},
   "outputs": [
    {
     "data": {
      "text/plain": [
       "0    lab instructions synch screenshots also extern...\n",
       "1                                               course\n",
       "2    learned much knowledge data science many tools...\n",
       "3                        clear idea data science tools\n",
       "4    overview though course materials updated detai...\n",
       "Name: preprocessed, dtype: object"
      ]
     },
     "execution_count": 15,
     "metadata": {},
     "output_type": "execute_result"
    }
   ],
   "source": [
    "# Remove stopwords\n",
    "\n",
    "stop = stopwords.words('english')\n",
    "stop.extend(['good', 'great', 'really', 'like', 'nice', 'use', 'need'])\n",
    "\n",
    "df['preprocessed'] = df['preprocessed'].apply(lambda x: \" \".join(x for x in x.split() if x not in stop))\n",
    "df['preprocessed'].head()"
   ]
  },
  {
   "cell_type": "code",
   "execution_count": 16,
   "metadata": {},
   "outputs": [
    {
     "data": {
      "text/html": [
       "<div>\n",
       "<style scoped>\n",
       "    .dataframe tbody tr th:only-of-type {\n",
       "        vertical-align: middle;\n",
       "    }\n",
       "\n",
       "    .dataframe tbody tr th {\n",
       "        vertical-align: top;\n",
       "    }\n",
       "\n",
       "    .dataframe thead th {\n",
       "        text-align: right;\n",
       "    }\n",
       "</style>\n",
       "<table border=\"1\" class=\"dataframe\">\n",
       "  <thead>\n",
       "    <tr style=\"text-align: right;\">\n",
       "      <th></th>\n",
       "      <th>date</th>\n",
       "      <th>review</th>\n",
       "      <th>rating</th>\n",
       "      <th>status</th>\n",
       "      <th>length</th>\n",
       "      <th>label</th>\n",
       "      <th>compound</th>\n",
       "      <th>sentiment</th>\n",
       "      <th>preprocessed</th>\n",
       "    </tr>\n",
       "  </thead>\n",
       "  <tbody>\n",
       "    <tr>\n",
       "      <th>20</th>\n",
       "      <td>2021-02-26</td>\n",
       "      <td>good</td>\n",
       "      <td>4</td>\n",
       "      <td>completer</td>\n",
       "      <td>4</td>\n",
       "      <td>pos</td>\n",
       "      <td>0.4404</td>\n",
       "      <td>pos</td>\n",
       "      <td></td>\n",
       "    </tr>\n",
       "    <tr>\n",
       "      <th>49</th>\n",
       "      <td>2021-02-08</td>\n",
       "      <td>good!</td>\n",
       "      <td>5</td>\n",
       "      <td>completer</td>\n",
       "      <td>5</td>\n",
       "      <td>pos</td>\n",
       "      <td>0.4926</td>\n",
       "      <td>pos</td>\n",
       "      <td></td>\n",
       "    </tr>\n",
       "    <tr>\n",
       "      <th>110</th>\n",
       "      <td>2021-01-05</td>\n",
       "      <td>very nice</td>\n",
       "      <td>5</td>\n",
       "      <td>dropout</td>\n",
       "      <td>9</td>\n",
       "      <td>pos</td>\n",
       "      <td>0.4754</td>\n",
       "      <td>pos</td>\n",
       "      <td></td>\n",
       "    </tr>\n",
       "    <tr>\n",
       "      <th>143</th>\n",
       "      <td>2020-12-17</td>\n",
       "      <td>Great</td>\n",
       "      <td>5</td>\n",
       "      <td>completer</td>\n",
       "      <td>5</td>\n",
       "      <td>pos</td>\n",
       "      <td>0.6249</td>\n",
       "      <td>pos</td>\n",
       "      <td></td>\n",
       "    </tr>\n",
       "    <tr>\n",
       "      <th>152</th>\n",
       "      <td>2020-12-13</td>\n",
       "      <td>nice!</td>\n",
       "      <td>5</td>\n",
       "      <td>completer</td>\n",
       "      <td>5</td>\n",
       "      <td>pos</td>\n",
       "      <td>0.4753</td>\n",
       "      <td>pos</td>\n",
       "      <td></td>\n",
       "    </tr>\n",
       "    <tr>\n",
       "      <th>...</th>\n",
       "      <td>...</td>\n",
       "      <td>...</td>\n",
       "      <td>...</td>\n",
       "      <td>...</td>\n",
       "      <td>...</td>\n",
       "      <td>...</td>\n",
       "      <td>...</td>\n",
       "      <td>...</td>\n",
       "      <td>...</td>\n",
       "    </tr>\n",
       "    <tr>\n",
       "      <th>2905</th>\n",
       "      <td>2018-12-08</td>\n",
       "      <td>vERY Good</td>\n",
       "      <td>5</td>\n",
       "      <td>completer</td>\n",
       "      <td>9</td>\n",
       "      <td>pos</td>\n",
       "      <td>0.4927</td>\n",
       "      <td>pos</td>\n",
       "      <td></td>\n",
       "    </tr>\n",
       "    <tr>\n",
       "      <th>2908</th>\n",
       "      <td>2018-12-08</td>\n",
       "      <td>Nice</td>\n",
       "      <td>5</td>\n",
       "      <td>dropout</td>\n",
       "      <td>4</td>\n",
       "      <td>pos</td>\n",
       "      <td>0.4215</td>\n",
       "      <td>pos</td>\n",
       "      <td></td>\n",
       "    </tr>\n",
       "    <tr>\n",
       "      <th>2928</th>\n",
       "      <td>2018-11-20</td>\n",
       "      <td>Great.</td>\n",
       "      <td>5</td>\n",
       "      <td>completer</td>\n",
       "      <td>6</td>\n",
       "      <td>pos</td>\n",
       "      <td>0.6249</td>\n",
       "      <td>pos</td>\n",
       "      <td></td>\n",
       "    </tr>\n",
       "    <tr>\n",
       "      <th>2935</th>\n",
       "      <td>2018-11-18</td>\n",
       "      <td>great!!!</td>\n",
       "      <td>5</td>\n",
       "      <td>dropout</td>\n",
       "      <td>8</td>\n",
       "      <td>pos</td>\n",
       "      <td>0.7163</td>\n",
       "      <td>pos</td>\n",
       "      <td></td>\n",
       "    </tr>\n",
       "    <tr>\n",
       "      <th>3003</th>\n",
       "      <td>2018-10-08</td>\n",
       "      <td>Very good</td>\n",
       "      <td>5</td>\n",
       "      <td>completer</td>\n",
       "      <td>9</td>\n",
       "      <td>pos</td>\n",
       "      <td>0.4927</td>\n",
       "      <td>pos</td>\n",
       "      <td></td>\n",
       "    </tr>\n",
       "  </tbody>\n",
       "</table>\n",
       "<p>98 rows × 9 columns</p>\n",
       "</div>"
      ],
      "text/plain": [
       "            date     review  rating     status  length label  compound  \\\n",
       "20    2021-02-26       good       4  completer       4   pos    0.4404   \n",
       "49    2021-02-08      good!       5  completer       5   pos    0.4926   \n",
       "110   2021-01-05  very nice       5    dropout       9   pos    0.4754   \n",
       "143   2020-12-17      Great       5  completer       5   pos    0.6249   \n",
       "152   2020-12-13      nice!       5  completer       5   pos    0.4753   \n",
       "...          ...        ...     ...        ...     ...   ...       ...   \n",
       "2905  2018-12-08  vERY Good       5  completer       9   pos    0.4927   \n",
       "2908  2018-12-08       Nice       5    dropout       4   pos    0.4215   \n",
       "2928  2018-11-20     Great.       5  completer       6   pos    0.6249   \n",
       "2935  2018-11-18   great!!!       5    dropout       8   pos    0.7163   \n",
       "3003  2018-10-08  Very good       5  completer       9   pos    0.4927   \n",
       "\n",
       "     sentiment preprocessed  \n",
       "20         pos               \n",
       "49         pos               \n",
       "110        pos               \n",
       "143        pos               \n",
       "152        pos               \n",
       "...        ...          ...  \n",
       "2905       pos               \n",
       "2908       pos               \n",
       "2928       pos               \n",
       "2935       pos               \n",
       "3003       pos               \n",
       "\n",
       "[98 rows x 9 columns]"
      ]
     },
     "execution_count": 16,
     "metadata": {},
     "output_type": "execute_result"
    }
   ],
   "source": [
    "df[(df['preprocessed']== \"\")]"
   ]
  },
  {
   "cell_type": "code",
   "execution_count": 17,
   "metadata": {},
   "outputs": [],
   "source": [
    "df = df[(df['preprocessed']!= \"\")]"
   ]
  },
  {
   "cell_type": "code",
   "execution_count": 18,
   "metadata": {},
   "outputs": [],
   "source": [
    "# Reset the index\n",
    "\n",
    "df = df.reset_index(drop = True)"
   ]
  },
  {
   "cell_type": "code",
   "execution_count": 19,
   "metadata": {},
   "outputs": [],
   "source": [
    "# Remove short words (length < 3)\n",
    "\n",
    "# df['review'] = df['review'].apply(lambda x: ' '.join([w for w in x.split() if len(w)>2]))\n",
    "# df['review'].head()"
   ]
  },
  {
   "cell_type": "code",
   "execution_count": 20,
   "metadata": {},
   "outputs": [
    {
     "data": {
      "image/png": "[encoded data removed]",
      "text/plain": [
       "<Figure size 1440x360 with 1 Axes>"
      ]
     },
     "metadata": {
      "needs_background": "light"
     },
     "output_type": "display_data"
    }
   ],
   "source": [
    "# Look at the most frequent words again \n",
    "\n",
    "freq_words(df['preprocessed'])"
   ]
  },
  {
   "cell_type": "code",
   "execution_count": 21,
   "metadata": {},
   "outputs": [
    {
     "data": {
      "text/plain": [
       "0    [lab, instructions, synch, screenshots, also, ...\n",
       "1                                             [course]\n",
       "2    [learned, much, knowledge, data, science, many...\n",
       "3                  [clear, idea, data, science, tools]\n",
       "4    [overview, though, course, materials, updated,...\n",
       "Name: preprocessed, dtype: object"
      ]
     },
     "execution_count": 21,
     "metadata": {},
     "output_type": "execute_result"
    }
   ],
   "source": [
    "# Tokenization\n",
    "\n",
    "tokenizer = RegexpTokenizer(r'\\w+')\n",
    "\n",
    "df['preprocessed'] = df['preprocessed'].apply(lambda x: tokenizer.tokenize(x.lower()))\n",
    "df['preprocessed'].head(5)\n"
   ]
  },
  {
   "cell_type": "code",
   "execution_count": 22,
   "metadata": {},
   "outputs": [
    {
     "data": {
      "text/plain": [
       "0    [(lab, NN), (instructions, NNS), (synch, VBP),...\n",
       "1                                       [(course, NN)]\n",
       "2    [(learned, VBN), (much, JJ), (knowledge, NN), ...\n",
       "3    [(clear, JJ), (idea, NN), (data, NNS), (scienc...\n",
       "4    [(overview, NN), (though, IN), (course, NN), (...\n",
       "Name: preprocessed, dtype: object"
      ]
     },
     "execution_count": 22,
     "metadata": {},
     "output_type": "execute_result"
    }
   ],
   "source": [
    "# Add speech tags\n",
    "\n",
    "df['preprocessed'] = df['preprocessed'].apply(nltk.tag.pos_tag)\n",
    "df['preprocessed'].head()"
   ]
  },
  {
   "cell_type": "code",
   "execution_count": 23,
   "metadata": {},
   "outputs": [],
   "source": [
    "# Define function to convert parts of speech tags to wordnet’s format\n",
    "\n",
    "def get_wordnet_pos(tag):\n",
    "    if tag.startswith('J'):\n",
    "        return wordnet.ADJ\n",
    "    elif tag.startswith('V'):\n",
    "        return wordnet.VERB\n",
    "    elif tag.startswith('N'):\n",
    "        return wordnet.NOUN\n",
    "    elif tag.startswith('R'):\n",
    "        return wordnet.ADV\n",
    "    else:\n",
    "        return wordnet.NOUN"
   ]
  },
  {
   "cell_type": "code",
   "execution_count": 24,
   "metadata": {},
   "outputs": [
    {
     "data": {
      "text/plain": [
       "0    [(lab, n), (instructions, n), (synch, v), (scr...\n",
       "1                                        [(course, n)]\n",
       "2    [(learned, v), (much, a), (knowledge, n), (dat...\n",
       "3    [(clear, a), (idea, n), (data, n), (science, n...\n",
       "4    [(overview, n), (though, n), (course, n), (mat...\n",
       "Name: preprocessed, dtype: object"
      ]
     },
     "execution_count": 24,
     "metadata": {},
     "output_type": "execute_result"
    }
   ],
   "source": [
    "# Apply the function to the tagged data\n",
    "\n",
    "df['preprocessed'] = df['preprocessed'].apply(lambda x: [(word, get_wordnet_pos(pos_tag)) for (word, pos_tag) in x])\n",
    "df['preprocessed'].head()"
   ]
  },
  {
   "cell_type": "code",
   "execution_count": 25,
   "metadata": {},
   "outputs": [
    {
     "data": {
      "text/plain": [
       "[('course', 'n')]"
      ]
     },
     "execution_count": 25,
     "metadata": {},
     "output_type": "execute_result"
    }
   ],
   "source": [
    "df['preprocessed'][1]"
   ]
  },
  {
   "cell_type": "code",
   "execution_count": 26,
   "metadata": {},
   "outputs": [
    {
     "data": {
      "text/plain": [
       "0    [lab, instruction, synch, screenshots, also, e...\n",
       "1                                             [course]\n",
       "2    [learn, much, knowledge, data, science, many, ...\n",
       "3                   [clear, idea, data, science, tool]\n",
       "4    [overview, though, course, material, update, d...\n",
       "Name: preprocessed, dtype: object"
      ]
     },
     "execution_count": 26,
     "metadata": {},
     "output_type": "execute_result"
    }
   ],
   "source": [
    "# Create lemmatizer\n",
    "\n",
    "lemmatizer = WordNetLemmatizer()\n",
    "\n",
    "# Apply to data \n",
    "\n",
    "df['preprocessed'] = df['preprocessed'].apply(lambda x: [lemmatizer.lemmatize(word, tag) for word, tag in x])\n",
    "df['preprocessed'].head()"
   ]
  },
  {
   "cell_type": "code",
   "execution_count": 27,
   "metadata": {},
   "outputs": [],
   "source": [
    "# Join reviews\n",
    "\n",
    "df['joined'] = df['preprocessed'].apply(lambda x: ' '.join(x))"
   ]
  },
  {
   "cell_type": "code",
   "execution_count": 28,
   "metadata": {},
   "outputs": [
    {
     "data": {
      "image/png": "[encoded data removed]",
      "text/plain": [
       "<Figure size 1440x360 with 1 Axes>"
      ]
     },
     "metadata": {
      "needs_background": "light"
     },
     "output_type": "display_data"
    }
   ],
   "source": [
    "# Most frequent words after lemmatizing \n",
    "\n",
    "freq_words(df['joined'], 35)"
   ]
  },
  {
   "cell_type": "markdown",
   "metadata": {},
   "source": [
    "## LDA Topic Modeling"
   ]
  },
  {
   "cell_type": "code",
   "execution_count": 29,
   "metadata": {},
   "outputs": [],
   "source": [
    "# Create a dictionary from 'df_sen['review']' containing the number of times a word appears in the training set\n",
    "\n",
    "dictionary = gensim.corpora.Dictionary(df['preprocessed'])"
   ]
  },
  {
   "cell_type": "code",
   "execution_count": 30,
   "metadata": {},
   "outputs": [],
   "source": [
    "# Gensim filter extremes\n",
    "\n",
    "# Filter out tokens that appear in:\n",
    "# Less than 50 documents, more than 0.5 documents, and keep only 100000 most frquent tokens\n",
    "\n",
    "# dictionary.filter_extremes(no_below = 50, no_above = 0.5, keep_n = 100000)"
   ]
  },
  {
   "cell_type": "code",
   "execution_count": 31,
   "metadata": {},
   "outputs": [],
   "source": [
    "# Gensim doc2bow\n",
    "# Create a dictionary reporting how many words and how many times those words appear\n",
    "\n",
    "corpus = [dictionary.doc2bow(doc) for doc in df['preprocessed']]\n"
   ]
  },
  {
   "cell_type": "code",
   "execution_count": 32,
   "metadata": {},
   "outputs": [],
   "source": [
    "# Add TF-IDF\n",
    "\n",
    "tfidf = models.TfidfModel(corpus)      # Create a TF-IDF model\n",
    "corpus_tfidf = tfidf[corpus]  "
   ]
  },
  {
   "cell_type": "code",
   "execution_count": 33,
   "metadata": {},
   "outputs": [],
   "source": [
    "# Creating the object for LDA model using gensim library\n",
    "LDA = gensim.models.LdaMulticore\n",
    "\n",
    "# Build LDA model\n",
    "lda_model = LDA(corpus = corpus, id2word = dictionary, num_topics = 4, random_state = 100,\n",
    "                chunksize = 100, passes = 10, alpha = 0.22)"
   ]
  },
  {
   "cell_type": "code",
   "execution_count": 34,
   "metadata": {},
   "outputs": [
    {
     "name": "stdout",
     "output_type": "stream",
     "text": [
      "Topic: 0\n",
      "Word: 0.080*\"course\" + 0.056*\"tool\" + 0.032*\"data\" + 0.029*\"open\" + 0.029*\"source\" + 0.025*\"science\" + 0.020*\"learn\" + 0.019*\"introduction\" + 0.017*\"excellent\" + 0.016*\"ibm\"\n",
      "\n",
      "Topic: 1\n",
      "Word: 0.039*\"ibm\" + 0.038*\"watson\" + 0.031*\"course\" + 0.029*\"video\" + 0.028*\"studio\" + 0.023*\"update\" + 0.018*\"tool\" + 0.010*\"notebook\" + 0.008*\"version\" + 0.008*\"jupyter\"\n",
      "\n",
      "Topic: 2\n",
      "Word: 0.057*\"tool\" + 0.051*\"course\" + 0.047*\"data\" + 0.039*\"science\" + 0.016*\"learn\" + 0.011*\"give\" + 0.011*\"use\" + 0.010*\"overview\" + 0.009*\"lot\" + 0.009*\"available\"\n",
      "\n",
      "Topic: 3\n",
      "Word: 0.035*\"course\" + 0.016*\"video\" + 0.015*\"content\" + 0.014*\"outdated\" + 0.012*\"time\" + 0.011*\"week\" + 0.010*\"little\" + 0.010*\"follow\" + 0.009*\"bit\" + 0.009*\"much\"\n",
      "\n",
      "Topic 0: Video material, Topic 1: Technologies, Topic 2: Content, Topic 3: Learning experience\n"
     ]
    }
   ],
   "source": [
    "# Explore the words occurring in each topic and its relative weight\n",
    "\n",
    "for id, topic in lda_model.print_topics(-1):\n",
    "    print('Topic: {}\\nWord: {}\\n'.format(id, topic))\n",
    "    \n",
    "print('Topic 0: Video material, Topic 1: Technologies, Topic 2: Content, Topic 3: Learning experience')"
   ]
  },
  {
   "cell_type": "markdown",
   "metadata": {},
   "source": [
    "### Visualise with pyLDAvis\n",
    "\n",
    "Original paper: https://nlp.stanford.edu/events/illvi2014/papers/sievert-illvi2014.pdf"
   ]
  },
  {
   "cell_type": "code",
   "execution_count": 35,
   "metadata": {
    "scrolled": false
   },
   "outputs": [
    {
     "data": {
      "text/html": [
       "\n",
       "<link rel=\"stylesheet\" type=\"text/css\" href=\"https://cdn.jsdelivr.net/gh/bmabey/pyLDAvis@3.2.2/pyLDAvis/js/ldavis.v1.0.0.css\">\n",
       "\n",
       "\n",
       "<div id=\"ldavis_el582201402597215346728290065363\"></div>\n",
       "<script type=\"text/javascript\">\n",
       "\n",
       "var ldavis_el582201402597215346728290065363_data = {\"mdsDat\": {\"x\": [0.09593060665486484, -0.09983661096162602, 0.14223436582933083, -0.13832836152256964], \"y\": [0.1250690149418888, -0.048055427326158716, -0.09783480909454106, 0.020821221478810943], \"topics\": [1, 2, 3, 4], \"cluster\": [1, 1, 1, 1], \"Freq\": [34.56698135532047, 27.335663844536164, 21.87414173948711, 16.223213060656253]}, \"tinfo\": {\"Term\": [\"tool\", \"data\", \"science\", \"course\", \"watson\", \"source\", \"open\", \"studio\", \"update\", \"video\", \"excellent\", \"introduction\", \"ibm\", \"learn\", \"outdated\", \"little\", \"version\", \"week\", \"overview\", \"follow\", \"awesome\", \"thank\", \"time\", \"content\", \"bit\", \"available\", \"give\", \"coursera\", \"various\", \"question\", \"updated\", \"current\", \"version\", \"interface\", \"confusion\", \"reflect\", \"site\", \"cause\", \"cant\", \"web\", \"ui\", \"update\", \"upgrade\", \"navigation\", \"check\", \"cognitive\", \"apache\", \"d\", \"additional\", \"main\", \"studio\", \"subscription\", \"discrepancy\", \"accord\", \"minor\", \"create\", \"multiple\", \"please\", \"struggle\", \"educational\", \"watson\", \"tutorial\", \"since\", \"zeppelin\", \"change\", \"notebooks\", \"account\", \"sign\", \"page\", \"website\", \"cloud\", \"video\", \"ibm\", \"notebook\", \"jupyter\", \"actual\", \"r\", \"problem\", \"also\", \"show\", \"new\", \"project\", \"different\", \"experience\", \"course\", \"need\", \"get\", \"tool\", \"work\", \"lot\", \"time\", \"make\", \"would\", \"outdated\", \"use\", \"data\", \"content\", \"wonderful\", \"perfect\", \"cool\", \"interactive\", \"life\", \"insight\", \"deep\", \"highly\", \"introductory\", \"confidence\", \"personal\", \"approximately\", \"let\", \"ad\", \"deliver\", \"familiarize\", \"learning\", \"eg\", \"suck\", \"word\", \"field\", \"away\", \"plan\", \"learnt\", \"financial\", \"description\", \"journey\", \"deal\", \"emphasis\", \"completecourse\", \"require\", \"overview\", \"prior\", \"build\", \"available\", \"exposure\", \"science\", \"data\", \"important\", \"familiar\", \"recommend\", \"professional\", \"give\", \"tool\", \"knowledge\", \"introduce\", \"start\", \"amaze\", \"scientist\", \"use\", \"want\", \"basic\", \"course\", \"learn\", \"useful\", \"beginner\", \"lot\", \"provide\", \"free\", \"information\", \"get\", \"help\", \"well\", \"open\", \"introduction\", \"would\", \"source\", \"many\", \"much\", \"one\", \"work\", \"platform\", \"ibm\", \"technical\", \"pretty\", \"question\", \"longer\", \"couldnt\", \"less\", \"engage\", \"test\", \"series\", \"particularly\", \"useless\", \"unfortunately\", \"staff\", \"learned\", \"indeed\", \"impossible\", \"uptodate\", \"second\", \"board\", \"waste\", \"submit\", \"wouldnt\", \"honestly\", \"little\", \"topic\", \"straight\", \"structured\", \"\\u00e3\", \"cours\", \"recent\", \"advertisement\", \"git\", \"long\", \"final\", \"still\", \"suppose\", \"quiz\", \"bit\", \"didnt\", \"follow\", \"week\", \"outdated\", \"content\", \"assignment\", \"time\", \"date\", \"first\", \"hard\", \"easy\", \"cover\", \"explain\", \"class\", \"much\", \"instruction\", \"material\", \"instructor\", \"course\", \"video\", \"well\", \"information\", \"one\", \"lot\", \"videos\", \"learn\", \"make\", \"would\", \"ibm\", \"get\", \"could\", \"excellent\", \"awesome\", \"nonetheless\", \"powerful\", \"starter\", \"ds\", \"integrate\", \"motivate\", \"spss\", \"perfectly\", \"overcome\", \"helpfull\", \"contain\", \"amazing\", \"excelente\", \"contact\", \"modeler\", \"explicit\", \"courser\", \"connection\", \"thank\", \"plenty\", \"must\", \"acquaint\", \"affect\", \"enlighten\", \"kit\", \"sparketc\", \"tutor\", \"fully\", \"source\", \"open\", \"fantastic\", \"newbie\", \"best\", \"interesting\", \"coursera\", \"introduction\", \"clear\", \"various\", \"love\", \"boring\", \"presentation\", \"course\", \"know\", \"tool\", \"helpful\", \"thanks\", \"hand\", \"data\", \"learn\", \"science\", \"practice\", \"system\", \"exercise\", \"ibm\", \"explanation\", \"basic\", \"short\", \"new\", \"need\", \"easy\", \"material\", \"experience\", \"make\", \"content\"], \"Freq\": [1051.0, 674.0, 528.0, 1514.0, 485.0, 224.0, 237.0, 344.0, 285.0, 454.0, 95.0, 186.0, 640.0, 362.0, 185.0, 83.0, 98.0, 121.0, 106.0, 103.0, 48.0, 58.0, 180.0, 213.0, 95.0, 103.0, 161.0, 69.0, 65.0, 43.0, 40.94851611227382, 47.23491021384152, 95.67152394084908, 60.62744444955635, 25.71082081384354, 22.266733839910643, 21.150846250166268, 19.944263521158046, 18.47178578671652, 16.852591637172075, 15.010148744188994, 271.21196666051134, 14.232437891277305, 13.17617197192074, 13.078567420562987, 17.497526306253473, 10.524438219812705, 10.768705227569013, 10.47310932780195, 9.849772304626342, 319.69686263618445, 8.92995918031872, 8.591455318840824, 9.137392627508055, 10.347853638392492, 66.26892951242723, 12.995499344161093, 44.09145955714716, 7.560882511051329, 9.583988589020793, 438.73524666914363, 83.57749513393064, 37.20955291279333, 58.24251288359875, 67.32317467830534, 34.469138704545664, 42.93043281326647, 22.7563092584175, 20.8306175273729, 44.48676911912883, 83.68472726711467, 331.42070775180866, 448.2808436400089, 117.87962085672658, 93.69016031657618, 36.51267894385805, 43.44935097520686, 57.99144303218966, 72.49008214454753, 52.77891348140708, 77.15218434797593, 46.14913158113267, 66.16311649316799, 81.51441644776777, 357.97348400094813, 68.32692528863893, 92.73006229807366, 202.88833285283863, 72.02628549705094, 83.99241059114323, 75.24601757410571, 63.123271944724344, 65.83707641791455, 64.86224227725, 62.585595039211555, 67.13394150209822, 61.208773946900216, 22.3584418168413, 17.252773011656803, 16.817217260087045, 19.31438934552311, 16.558566728885076, 22.118798945251793, 12.974357705927515, 11.65426731838045, 34.704167425448766, 9.589130652449876, 9.43135256963127, 8.855341969300978, 10.349705862305974, 11.341203121137825, 7.632610632060408, 7.225314612828379, 24.992665763375772, 7.674831147951193, 7.268369874125312, 7.058071103826063, 27.14403669690611, 7.976197708451173, 6.227774117286203, 24.51295331327988, 6.102924473859654, 8.45784420764783, 5.933685576637273, 5.999006404857054, 6.107096600739458, 5.542219850637881, 38.573712163422734, 90.54855615599334, 11.706431172201853, 12.791204429529293, 80.71878200423387, 11.608683285217351, 354.0509839587708, 429.14692944132776, 17.602992713686838, 18.244743915166392, 35.78430771242617, 22.453358503432298, 104.58118861970999, 517.9494520982743, 53.76851078474881, 39.750667982771255, 59.10516351141201, 23.3865281270284, 47.38707897331014, 99.3767979690032, 25.8052096086388, 69.59137931703195, 463.2161996451494, 149.41417493840672, 57.677466173565904, 63.00467587615853, 86.27995937642147, 42.490565897271296, 30.992901084153445, 49.412780452749864, 67.77248561192773, 45.09164751757162, 52.07373758762693, 63.77785600833929, 56.891186139036904, 53.77221033371817, 59.520016510142, 42.792051402324354, 48.50420194877361, 47.6511209464069, 46.468579533516404, 42.05037504181691, 48.11336828239485, 29.864800652300858, 30.759517079629422, 41.74745443128236, 15.828127454700557, 10.59109627277837, 12.130722028213425, 10.100605701577551, 14.012840623778606, 9.007873783569842, 8.785881455127747, 28.608775610918396, 9.32436838349389, 6.925632931603535, 6.881884678010104, 7.462447593337037, 12.969835376598478, 6.357931701500696, 8.95587303499374, 6.440612866127717, 40.825076887075745, 5.822468767287759, 5.7150651166570485, 5.556697881288242, 74.4197543035049, 19.667334091846772, 5.951875656674444, 4.651907733422776, 4.557679904882321, 4.504275784001949, 4.924472255969446, 18.696331916742515, 5.931463162619811, 14.477393562701328, 32.970439659928594, 43.07839087165105, 14.263893173239076, 28.581094006853423, 68.57079901805604, 30.528592337688625, 70.30929389695872, 81.4191539125253, 103.74925207774066, 111.22034184942831, 58.5840465896426, 89.27095024975239, 40.118156258682596, 34.356268103127995, 32.05272295074711, 60.658729376899664, 24.938286079884964, 42.871890271054376, 32.05049326190359, 65.23706250028297, 54.63474522449997, 62.100754173830566, 35.49400012721345, 260.20139643089345, 116.37817554213328, 56.00176984463464, 49.22219775130472, 55.79421073938023, 54.74717549180567, 41.97145791857412, 58.810341227338654, 43.14470789572283, 44.460005783406494, 54.98578975790514, 43.128939590853946, 38.416207106720506, 94.29631600149516, 46.598996148183765, 8.7282976039968, 7.360790207559857, 5.823853317348685, 5.704251856569518, 5.850726799211633, 5.224697557823493, 5.048926866924866, 4.758091558157758, 5.0661809249551375, 4.280616065397951, 4.2894830418681735, 18.747587222954575, 3.964125372138835, 4.002358055160523, 3.9048032704459414, 3.79348379550771, 3.736768510823573, 3.6279393612536337, 48.19772235706006, 3.2337344989032317, 16.725844413575366, 3.4650318165785423, 3.086096222623329, 2.9805874013599896, 2.9694352261057704, 2.956869640050811, 2.944330644479001, 2.877153270889047, 159.20573157024114, 159.65369764121914, 8.66547632134279, 5.256878056948349, 33.53623136900412, 21.373759571016947, 42.50065816132852, 101.98398428462444, 33.4206615319558, 38.360836488333206, 25.5150044679675, 8.144162301917328, 9.978235179188541, 433.50068606937043, 49.391103240806444, 307.1119766096155, 39.40681999291489, 33.35327618280121, 24.76201769856893, 176.07563562423923, 109.72080191032173, 138.1113544070348, 25.645953733984058, 10.942161085877828, 21.521020199125452, 88.942593189043, 21.660561989839724, 31.93230861999234, 13.097418509790772, 25.657197709715817, 25.08463369955354, 24.80402812951806, 23.50488803079201, 22.823622125514863, 22.353927831163343, 22.353608745365552], \"Total\": [1051.0, 674.0, 528.0, 1514.0, 485.0, 224.0, 237.0, 344.0, 285.0, 454.0, 95.0, 186.0, 640.0, 362.0, 185.0, 83.0, 98.0, 121.0, 106.0, 103.0, 48.0, 58.0, 180.0, 213.0, 95.0, 103.0, 161.0, 69.0, 65.0, 43.0, 41.677375577014075, 48.263359933984525, 98.01913139794273, 62.199694919955405, 26.419723679265857, 22.992852638711987, 21.907065694901597, 20.6899574176632, 19.18731924661721, 17.620746234377062, 15.725105692536488, 285.0192055565046, 14.968211213586697, 13.914408940598129, 13.838709747776045, 18.643140649389178, 11.235728206840983, 11.497221197630859, 11.260519904945069, 10.60849793901232, 344.42859540888975, 9.667609631246018, 9.301536500033505, 9.899935293599759, 11.24993646427793, 72.11177192046121, 14.146291867262642, 48.021180718458524, 8.301219795330512, 10.541025346447682, 485.9298159529067, 92.24326315456265, 40.986324162957466, 65.05775888871945, 75.67911350414357, 38.35062580835636, 48.0864224912846, 25.148869593231968, 22.96174223899537, 50.74368072302116, 100.84065044311764, 454.4342252615541, 640.3225948693519, 152.50088062552823, 121.46342590649299, 43.42322190583641, 54.19025777798145, 76.32095774629153, 101.46546526816228, 70.83789862510774, 120.62390579353209, 63.77440870875896, 105.98025902602441, 148.54256684216318, 1514.8917661463615, 116.85426803262123, 207.30291053244594, 1051.272865139804, 161.39312370519673, 227.9318250750532, 180.31953331921738, 142.05784278366647, 173.67811436222036, 185.6754595177008, 189.9744048576395, 674.6798210017946, 213.63405794162176, 23.082119216438173, 17.957235252999446, 17.523439235247118, 20.133992391681094, 17.26439688367198, 23.085335664195238, 13.711476282201401, 12.352644399112481, 36.82718947155188, 10.268767306981506, 10.145326551713213, 9.532841423692858, 11.173002811182634, 12.37493597436242, 8.330107859748608, 7.908884943309187, 27.404753905924473, 8.422598422476447, 7.984377989175251, 7.760655688343607, 29.860640877216866, 8.79532721305207, 6.918867689237779, 27.247774213001332, 6.785203121817356, 9.403949745840263, 6.6239642754446555, 6.708666437895713, 6.841701287979859, 6.219647896407265, 43.736404069204525, 106.05936043375485, 13.293978122912371, 14.675523960340362, 103.32837288818266, 13.355627071830181, 528.4257981406179, 674.6798210017946, 20.996553626763628, 21.90841216983497, 46.51803047149484, 27.827353442980293, 161.99051917835277, 1051.272865139804, 80.77339358025358, 56.96948318342926, 92.74544735424217, 30.664042390414338, 74.97121169288017, 189.9744048576395, 35.38555412243325, 126.99732283730398, 1514.8917661463615, 362.5060888602969, 109.02211645400388, 129.40983618795005, 227.9318250750532, 79.37519324988844, 50.01525897051867, 115.67425207571594, 207.30291053244594, 102.52018536637821, 144.95723067265104, 237.47834920222587, 186.85873429273568, 173.67811436222036, 224.16406347418894, 101.4362265105419, 146.7405623523318, 175.5813517177856, 161.39312370519673, 107.7060917034208, 640.3225948693519, 30.8715680420914, 32.0959544970247, 43.74130883818868, 16.679082852880867, 11.293701259697643, 12.946296033946426, 10.869244240858828, 15.085637894474264, 9.706975979677548, 9.486586547145214, 31.114759880788025, 10.23285979623438, 7.615632294363923, 7.590691428403257, 8.257798846434925, 14.38175330239486, 7.094726718644662, 10.009465954289341, 7.217777252688809, 45.78987727631573, 6.533888907835952, 6.421079969087993, 6.251226459013695, 83.79712795228353, 22.42675663557602, 6.797613266926423, 5.3323402302387, 5.2360290038393185, 5.193870083623344, 5.678649343300205, 21.80865678084565, 6.842977124514155, 17.081940532266184, 39.93453473391721, 53.471463737892314, 17.110068664262826, 36.19252698918078, 95.37244229409565, 40.74499898190082, 103.37226475119614, 121.98887856494756, 185.6754595177008, 213.63405794162176, 102.83949425480193, 180.31953331921738, 66.60656481524548, 54.5450743396515, 50.0683052338428, 115.16158290197203, 36.72837944000584, 79.09402878936069, 52.815497730747296, 146.7405623523318, 113.88625460902352, 142.31201924386224, 63.89642198097492, 1514.8917661463615, 454.4342252615541, 144.95723067265104, 115.67425207571594, 175.5813517177856, 227.9318250750532, 110.45309251769395, 362.5060888602969, 142.05784278366647, 173.67811436222036, 640.3225948693519, 207.30291053244594, 103.59772044621607, 95.27134516023054, 48.72499337550804, 9.545010778446162, 8.08345348596051, 6.559038432521114, 6.459472431678919, 6.6717856888576055, 5.972755185101602, 5.784411223918509, 5.471234093660735, 5.836091978105984, 4.989472675658978, 5.031478841079652, 21.998964207280235, 4.677494276450611, 4.726780657417202, 4.6151272433798916, 4.5017995820706656, 4.445217362425041, 4.372559664013455, 58.46174609302919, 3.944472991278877, 20.578090693463338, 4.266475630605995, 3.809574405767175, 3.6873067065206486, 3.6756699008321685, 3.6749919173102317, 3.6628902240165817, 3.5859807474614382, 224.16406347418894, 237.47834920222587, 11.39471073380949, 6.856289176052066, 53.34091802741671, 32.43415405621387, 69.80429424368668, 186.85873429273568, 55.17516574881381, 65.0296058049262, 41.64546254452299, 11.161723086142054, 14.378609648042897, 1514.8917661463615, 105.58227929905993, 1051.272865139804, 83.62140791376471, 67.85963723353261, 46.841716221921104, 674.6798210017946, 362.5060888602969, 528.4257981406179, 56.90217262597074, 17.12895067818745, 50.796565435698085, 640.3225948693519, 59.649681311460526, 126.99732283730398, 24.794760720504947, 120.62390579353209, 116.85426803262123, 115.16158290197203, 142.31201924386224, 148.54256684216318, 142.05784278366647, 213.63405794162176], \"Category\": [\"Default\", \"Default\", \"Default\", \"Default\", \"Default\", \"Default\", \"Default\", \"Default\", \"Default\", \"Default\", \"Default\", \"Default\", \"Default\", \"Default\", \"Default\", \"Default\", \"Default\", \"Default\", \"Default\", \"Default\", \"Default\", \"Default\", \"Default\", \"Default\", \"Default\", \"Default\", \"Default\", \"Default\", \"Default\", \"Default\", \"Topic1\", \"Topic1\", \"Topic1\", \"Topic1\", \"Topic1\", \"Topic1\", \"Topic1\", \"Topic1\", \"Topic1\", \"Topic1\", \"Topic1\", \"Topic1\", \"Topic1\", \"Topic1\", \"Topic1\", \"Topic1\", \"Topic1\", \"Topic1\", \"Topic1\", \"Topic1\", \"Topic1\", \"Topic1\", \"Topic1\", \"Topic1\", \"Topic1\", \"Topic1\", \"Topic1\", \"Topic1\", \"Topic1\", \"Topic1\", \"Topic1\", \"Topic1\", \"Topic1\", \"Topic1\", \"Topic1\", \"Topic1\", \"Topic1\", \"Topic1\", \"Topic1\", \"Topic1\", \"Topic1\", \"Topic1\", \"Topic1\", \"Topic1\", \"Topic1\", \"Topic1\", \"Topic1\", \"Topic1\", \"Topic1\", \"Topic1\", \"Topic1\", \"Topic1\", \"Topic1\", \"Topic1\", \"Topic1\", \"Topic1\", \"Topic1\", \"Topic1\", \"Topic1\", \"Topic1\", \"Topic1\", \"Topic1\", \"Topic1\", \"Topic1\", \"Topic1\", \"Topic1\", \"Topic1\", \"Topic2\", \"Topic2\", \"Topic2\", \"Topic2\", \"Topic2\", \"Topic2\", \"Topic2\", \"Topic2\", \"Topic2\", \"Topic2\", \"Topic2\", \"Topic2\", \"Topic2\", \"Topic2\", \"Topic2\", \"Topic2\", \"Topic2\", \"Topic2\", \"Topic2\", \"Topic2\", \"Topic2\", \"Topic2\", \"Topic2\", \"Topic2\", \"Topic2\", \"Topic2\", \"Topic2\", \"Topic2\", \"Topic2\", \"Topic2\", \"Topic2\", \"Topic2\", \"Topic2\", \"Topic2\", \"Topic2\", \"Topic2\", \"Topic2\", \"Topic2\", \"Topic2\", \"Topic2\", \"Topic2\", \"Topic2\", \"Topic2\", \"Topic2\", \"Topic2\", \"Topic2\", \"Topic2\", \"Topic2\", \"Topic2\", \"Topic2\", \"Topic2\", \"Topic2\", \"Topic2\", \"Topic2\", \"Topic2\", \"Topic2\", \"Topic2\", \"Topic2\", \"Topic2\", \"Topic2\", \"Topic2\", \"Topic2\", \"Topic2\", \"Topic2\", \"Topic2\", \"Topic2\", \"Topic2\", \"Topic2\", \"Topic2\", \"Topic2\", \"Topic2\", \"Topic2\", \"Topic2\", \"Topic3\", \"Topic3\", \"Topic3\", \"Topic3\", \"Topic3\", \"Topic3\", \"Topic3\", \"Topic3\", \"Topic3\", \"Topic3\", \"Topic3\", \"Topic3\", \"Topic3\", \"Topic3\", \"Topic3\", \"Topic3\", \"Topic3\", \"Topic3\", \"Topic3\", \"Topic3\", \"Topic3\", \"Topic3\", \"Topic3\", \"Topic3\", \"Topic3\", \"Topic3\", \"Topic3\", \"Topic3\", \"Topic3\", \"Topic3\", \"Topic3\", \"Topic3\", \"Topic3\", \"Topic3\", \"Topic3\", \"Topic3\", \"Topic3\", \"Topic3\", \"Topic3\", \"Topic3\", \"Topic3\", \"Topic3\", \"Topic3\", \"Topic3\", \"Topic3\", \"Topic3\", \"Topic3\", \"Topic3\", \"Topic3\", \"Topic3\", \"Topic3\", \"Topic3\", \"Topic3\", \"Topic3\", \"Topic3\", \"Topic3\", \"Topic3\", \"Topic3\", \"Topic3\", \"Topic3\", \"Topic3\", \"Topic3\", \"Topic3\", \"Topic3\", \"Topic3\", \"Topic3\", \"Topic3\", \"Topic3\", \"Topic3\", \"Topic4\", \"Topic4\", \"Topic4\", \"Topic4\", \"Topic4\", \"Topic4\", \"Topic4\", \"Topic4\", \"Topic4\", \"Topic4\", \"Topic4\", \"Topic4\", \"Topic4\", \"Topic4\", \"Topic4\", \"Topic4\", \"Topic4\", \"Topic4\", \"Topic4\", \"Topic4\", \"Topic4\", \"Topic4\", \"Topic4\", \"Topic4\", \"Topic4\", \"Topic4\", \"Topic4\", \"Topic4\", \"Topic4\", \"Topic4\", \"Topic4\", \"Topic4\", \"Topic4\", \"Topic4\", \"Topic4\", \"Topic4\", \"Topic4\", \"Topic4\", \"Topic4\", \"Topic4\", \"Topic4\", \"Topic4\", \"Topic4\", \"Topic4\", \"Topic4\", \"Topic4\", \"Topic4\", \"Topic4\", \"Topic4\", \"Topic4\", \"Topic4\", \"Topic4\", \"Topic4\", \"Topic4\", \"Topic4\", \"Topic4\", \"Topic4\", \"Topic4\", \"Topic4\", \"Topic4\", \"Topic4\", \"Topic4\", \"Topic4\", \"Topic4\", \"Topic4\", \"Topic4\"], \"logprob\": [30.0, 29.0, 28.0, 27.0, 26.0, 25.0, 24.0, 23.0, 22.0, 21.0, 20.0, 19.0, 18.0, 17.0, 16.0, 15.0, 14.0, 13.0, 12.0, 11.0, 10.0, 9.0, 8.0, 7.0, 6.0, 5.0, 4.0, 3.0, 2.0, 1.0, -5.6454, -5.5026, -4.7968, -5.2529, -6.1108, -6.2546, -6.306, -6.3647, -6.4414, -6.5332, -6.649, -3.7548, -6.7022, -6.7793, -6.7867, -6.4956, -7.004, -6.981, -7.0089, -7.0702, -3.5903, -7.1683, -7.2069, -7.1453, -7.0209, -5.164, -6.7931, -5.5714, -7.3347, -7.0976, -3.2738, -4.9319, -5.7411, -5.2931, -5.1482, -5.8176, -5.5981, -6.2328, -6.3213, -5.5625, -4.9306, -3.5543, -3.2523, -4.588, -4.8177, -5.76, -5.5861, -5.2974, -5.0742, -5.3916, -5.0119, -5.5258, -5.1656, -4.9569, -3.4772, -5.1334, -4.828, -4.045, -5.0807, -4.927, -5.0369, -5.2126, -5.1705, -5.1854, -5.2212, -5.151, -5.2434, -6.0158, -6.275, -6.3006, -6.1621, -6.3161, -6.0266, -6.56, -6.6673, -5.5761, -6.8623, -6.8789, -6.942, -6.786, -6.6945, -7.0905, -7.1454, -5.9044, -7.085, -7.1394, -7.1688, -5.8218, -7.0465, -7.294, -5.9238, -7.3142, -6.9879, -7.3423, -7.3314, -7.3135, -7.4106, -5.4704, -4.6171, -6.6628, -6.5742, -4.732, -6.6712, -3.2535, -3.0612, -6.2549, -6.2191, -5.5455, -6.0115, -4.473, -2.8731, -5.1383, -5.4404, -5.0437, -5.9708, -5.2646, -4.5241, -5.8724, -4.8803, -2.9848, -4.1163, -5.0681, -4.9798, -4.6654, -5.3737, -5.6892, -5.2228, -4.9068, -5.3143, -5.1703, -4.9676, -5.0818, -5.1382, -5.0367, -5.3666, -5.2413, -5.2591, -5.2842, -5.3841, -5.2494, -5.5034, -5.4739, -5.1685, -6.1383, -6.5401, -6.4044, -6.5875, -6.2601, -6.702, -6.7269, -5.5464, -6.6675, -6.9649, -6.9712, -6.8902, -6.3375, -7.0504, -6.7078, -7.0375, -5.1908, -7.1384, -7.157, -7.1851, -4.5904, -5.9211, -7.1164, -7.3628, -7.3833, -7.3951, -7.3059, -5.9718, -7.1198, -6.2275, -5.4045, -5.1371, -6.2424, -5.5473, -4.6722, -5.4814, -4.6472, -4.5005, -4.2581, -4.1886, -4.8296, -4.4084, -5.2083, -5.3633, -5.4327, -4.7948, -5.6837, -5.1419, -5.4328, -4.7221, -4.8994, -4.7713, -5.3307, -3.3386, -4.1432, -4.8747, -5.0037, -4.8784, -4.8974, -5.1631, -4.8258, -5.1355, -5.1055, -4.893, -5.1359, -5.2516, -4.0548, -4.7597, -6.4347, -6.6051, -6.8393, -6.86, -6.8347, -6.9478, -6.9821, -7.0414, -6.9786, -7.1471, -7.1451, -5.6702, -7.2239, -7.2143, -7.239, -7.2679, -7.283, -7.3126, -4.7259, -7.4276, -5.7843, -7.3585, -7.4743, -7.5091, -7.5129, -7.5171, -7.5213, -7.5444, -3.531, -3.5282, -6.4419, -6.9417, -5.0886, -5.5391, -4.8517, -3.9764, -5.0921, -4.9542, -5.362, -6.5039, -6.3008, -2.5293, -4.7015, -2.874, -4.9273, -5.0941, -5.3919, -3.4303, -3.9033, -3.6732, -5.3568, -6.2086, -5.5322, -4.1132, -5.5257, -5.1376, -6.0288, -5.3564, -5.379, -5.3902, -5.444, -5.4734, -5.4942, -5.4942], \"loglift\": [30.0, 29.0, 28.0, 27.0, 26.0, 25.0, 24.0, 23.0, 22.0, 21.0, 20.0, 19.0, 18.0, 17.0, 16.0, 15.0, 14.0, 13.0, 12.0, 11.0, 10.0, 9.0, 8.0, 7.0, 6.0, 5.0, 4.0, 3.0, 2.0, 1.0, 1.0446, 1.0407, 1.038, 1.0367, 1.0351, 1.0302, 1.0271, 1.0256, 1.0243, 1.0177, 1.0157, 1.0126, 1.0119, 1.0078, 1.0058, 0.9989, 0.9969, 0.9968, 0.9898, 0.9881, 0.9878, 0.9829, 0.9829, 0.9821, 0.9787, 0.9778, 0.9774, 0.9769, 0.9689, 0.9671, 0.9601, 0.9636, 0.9656, 0.9516, 0.9453, 0.9556, 0.9489, 0.9623, 0.9649, 0.9307, 0.8758, 0.7466, 0.7057, 0.8048, 0.8027, 0.8889, 0.8414, 0.7876, 0.726, 0.768, 0.6154, 0.7388, 0.5911, 0.4622, -0.3804, 0.5256, 0.2578, -0.5828, 0.2555, 0.064, 0.1883, 0.2511, 0.0923, 0.0105, -0.0481, -1.2453, -0.1877, 1.2651, 1.257, 1.2558, 1.2554, 1.2552, 1.2542, 1.2417, 1.2388, 1.2376, 1.2285, 1.224, 1.2233, 1.2204, 1.2097, 1.2095, 1.2066, 1.2048, 1.204, 1.203, 1.2021, 1.2016, 1.1992, 1.1917, 1.1912, 1.191, 1.1909, 1.1869, 1.1852, 1.1834, 1.1817, 1.1714, 1.1389, 1.1698, 1.1596, 1.05, 1.1568, 0.8965, 0.8445, 1.1207, 1.114, 1.0346, 1.0824, 0.8594, 0.5891, 0.89, 0.9371, 0.8464, 1.026, 0.8382, 0.649, 0.9813, 0.6955, 0.1121, 0.4107, 0.6603, 0.5772, 0.3255, 0.6721, 0.8184, 0.4464, 0.179, 0.4756, 0.2732, -0.0177, 0.1078, 0.1245, -0.0291, 0.4339, 0.19, -0.0072, 0.0519, 0.3564, -1.2914, 1.4867, 1.4773, 1.4732, 1.4675, 1.4556, 1.4548, 1.4465, 1.4461, 1.4451, 1.4431, 1.4359, 1.4269, 1.4249, 1.4218, 1.4186, 1.4165, 1.4102, 1.4086, 1.4059, 1.4051, 1.4046, 1.4034, 1.4021, 1.4012, 1.3886, 1.387, 1.3834, 1.3811, 1.3774, 1.3774, 1.3659, 1.3769, 1.3544, 1.3282, 1.3037, 1.3379, 1.2838, 1.1899, 1.2312, 1.1344, 1.1155, 0.9378, 0.8671, 0.9572, 0.8168, 1.0129, 1.0576, 1.0739, 0.8788, 1.1327, 0.9074, 1.0204, 0.7092, 0.7853, 0.6906, 0.932, -0.2418, 0.1577, 0.5688, 0.6654, 0.3734, 0.0935, 0.5523, -0.2989, 0.3282, 0.1573, -0.935, -0.0501, 0.5278, 1.8084, 1.7741, 1.7293, 1.7251, 1.6998, 1.6944, 1.6874, 1.6849, 1.6827, 1.6791, 1.6773, 1.6655, 1.6592, 1.6588, 1.6532, 1.6524, 1.6516, 1.6475, 1.6451, 1.632, 1.6257, 1.62, 1.6115, 1.6107, 1.6081, 1.606, 1.6054, 1.6013, 1.6004, 1.5985, 1.4765, 1.4217, 1.5449, 1.5531, 1.3546, 1.4017, 1.3226, 1.2132, 1.3174, 1.2909, 1.3288, 1.5035, 1.4534, 0.5675, 1.059, 0.5882, 1.0664, 1.1084, 1.1813, 0.4754, 0.6236, 0.4769, 1.0218, 1.3706, 0.9599, -0.1553, 0.8057, 0.4382, 1.1805, 0.2709, 0.2801, 0.2834, 0.0179, -0.0543, -0.0305, -0.4385]}, \"token.table\": {\"Topic\": [1, 1, 2, 4, 1, 2, 3, 4, 1, 2, 1, 3, 4, 4, 1, 2, 3, 4, 2, 4, 1, 2, 4, 1, 2, 1, 2, 3, 4, 1, 2, 3, 4, 2, 2, 4, 1, 2, 3, 4, 1, 2, 3, 4, 2, 3, 4, 1, 2, 3, 4, 3, 3, 4, 1, 2, 1, 1, 1, 2, 3, 1, 1, 2, 3, 1, 2, 4, 1, 2, 3, 4, 1, 4, 2, 2, 1, 4, 4, 4, 1, 2, 3, 4, 2, 1, 2, 3, 4, 3, 3, 1, 2, 3, 4, 4, 1, 2, 3, 4, 1, 2, 3, 4, 1, 2, 3, 1, 1, 1, 2, 3, 4, 1, 3, 2, 2, 2, 2, 1, 2, 3, 4, 1, 2, 3, 1, 4, 1, 2, 3, 4, 1, 2, 2, 3, 4, 4, 4, 1, 3, 4, 1, 2, 3, 4, 1, 2, 3, 4, 1, 2, 3, 4, 4, 2, 4, 2, 3, 2, 1, 4, 1, 2, 4, 1, 3, 2, 1, 2, 3, 4, 1, 2, 3, 4, 1, 2, 4, 1, 2, 3, 4, 3, 1, 2, 3, 1, 2, 4, 1, 2, 3, 4, 1, 2, 3, 4, 1, 2, 3, 4, 4, 2, 3, 1, 2, 3, 4, 2, 4, 2, 3, 3, 1, 2, 3, 4, 2, 3, 1, 2, 3, 4, 1, 2, 3, 4, 4, 2, 2, 3, 4, 1, 3, 1, 2, 4, 1, 2, 4, 1, 2, 3, 2, 1, 2, 3, 4, 4, 1, 2, 3, 4, 1, 2, 3, 4, 1, 2, 3, 4, 3, 1, 2, 3, 2, 4, 3, 2, 2, 1, 2, 3, 2, 3, 3, 1, 2, 3, 4, 1, 2, 4, 1, 1, 2, 3, 4, 1, 2, 3, 4, 1, 2, 3, 4, 1, 4, 4, 1, 2, 3, 4, 1, 3, 3, 4, 1, 1, 2, 3, 4, 1, 2, 3, 4, 3, 4, 4, 1, 2, 3, 4, 1, 2, 3, 1, 2, 3, 4, 1, 2, 3, 4, 1, 3, 4, 4, 1, 2, 3, 1, 2, 3, 3, 2, 4, 2, 2, 1, 2, 3, 4, 1, 4, 4, 4, 1, 2, 3, 4, 2, 3, 4, 2, 3, 1, 2, 1, 2, 3, 4, 1, 2, 4, 1, 2, 3, 4, 1, 2, 3, 4, 1, 2, 3, 1, 2, 3, 1, 2, 3, 4, 3, 1, 2, 3, 1, 1, 2, 1, 2, 3, 4, 1, 2, 3, 4, 2, 3, 3, 1, 3, 4, 1, 2, 3, 1, 2, 1, 2, 3, 1, 1, 2, 4, 4, 4, 3, 1, 2, 4, 4, 1, 2, 3, 3, 3, 1, 1, 2, 3, 4, 3, 1, 2, 1, 3, 4, 1, 2, 4, 2, 3, 2, 3, 2, 3, 4, 1, 2, 3, 4, 1, 2, 3, 4, 1, 2, 3, 4, 1, 2, 3, 4, 4, 1, 2, 3, 4, 1, 3, 1, 3, 4, 1, 1, 3, 1, 2, 3, 4, 1, 2, 3, 4, 2, 3, 4, 1, 2, 4, 1, 2, 1, 2, 3, 4, 1, 3, 4, 1, 2, 1, 3, 1, 2, 3, 4, 1, 1, 2, 4, 1, 2, 3, 4, 1, 2, 3, 4, 2, 2, 1, 2, 3, 4, 1, 2, 3, 4, 3, 1, 2, 4, 3], \"Freq\": [0.909096850947949, 0.8942233123662613, 0.10397945492630944, 0.7031564831823242, 0.8520786430872124, 0.023029152515870604, 0.06908745754761181, 0.06908745754761181, 0.08080849889419503, 0.8888934878361453, 0.8880584630562652, 0.8712136740437647, 0.1375600537963839, 0.7874895409467288, 0.709601043169829, 0.08870013039622862, 0.11826684052830483, 0.08870013039622862, 0.7500641861618956, 0.2282804044840552, 0.09091337124582118, 0.04545668562291059, 0.8636770268353011, 0.9790197660088059, 0.9441046588304157, 0.359783955260674, 0.048619453413604595, 0.5737095502805342, 0.029171672048162758, 0.19355767869918078, 0.7839085987316822, 0.009677883934959039, 0.009677883934959039, 0.9095738914782133, 0.04104669619114436, 0.9645973604918924, 0.15748363471899293, 0.5511927215164752, 0.04724509041569788, 0.2519738155503887, 0.27818596376024257, 0.4868254365804245, 0.0772738788222896, 0.1545477576445792, 0.07498933554057016, 0.29995734216228065, 0.6374093520948464, 0.1992189729336129, 0.0733964637123837, 0.7234794280220679, 0.0104852091017691, 0.8312808486525189, 0.1791838038414624, 0.7167352153658496, 0.06814066759745234, 0.8858286787668804, 0.9381195866209117, 0.9666525453032504, 0.8853169242836285, 0.05285474174827633, 0.05285474174827633, 0.9393939346180138, 0.340809057443021, 0.03786767304922455, 0.6058827687875928, 0.3443578237081866, 0.054372287953924195, 0.5980951674931662, 0.8329974036351824, 0.06941645030293186, 0.009916635757561696, 0.09916635757561695, 0.9118635277021839, 0.053639031041304935, 0.964684834243729, 0.9738267214606395, 0.9841132449240847, 0.9147959793254159, 0.8462419329154299, 0.7949948963994217, 0.28553499656252856, 0.08893713007685317, 0.5195800757121422, 0.10297983482582998, 0.9701291950615346, 0.34749799363287925, 0.22201260704322842, 0.3668034377235948, 0.05791633227214655, 0.9739942421935901, 0.9626732897623622, 0.23632051345205593, 0.30563239588911145, 0.1716294231774708, 0.2864891140731628, 0.8998435113233345, 0.1002803634911487, 0.27218955804740363, 0.014325766213021243, 0.6160079471599135, 0.02722690233674631, 0.2994959257042094, 0.6806725584186577, 0.02722690233674631, 0.9152458501893082, 0.06933680683252334, 0.01386736136650467, 0.9738236223977657, 0.9567529241123658, 0.09930636416621356, 0.6358571675717257, 0.002964369079588465, 0.2608644790037849, 0.3903519130902379, 0.6005414047542121, 0.8943655278651776, 0.9481108913760836, 0.9603717184331187, 0.8507063751099601, 0.2208860038012973, 0.024542889311255256, 0.7608295686489129, 0.024542889311255256, 0.6227574890507968, 0.3302501835875437, 0.04717859765536339, 0.9675820763556194, 0.9288684274855717, 0.13893522125012417, 0.12156831859385865, 0.5296905310160984, 0.21708628320331902, 0.9486743150057971, 0.9498256474689917, 0.876974855733816, 0.9200271682559831, 0.8136019698862553, 0.855158716096878, 0.9866555346931195, 0.3346682960587131, 0.23623644427673868, 0.43310014784068757, 0.5520303152370506, 0.20869438746766547, 0.08751700119611777, 0.1548377713469776, 0.22757723023487286, 0.025286358914985874, 0.5436567166721963, 0.202290871319887, 0.26823278261045647, 0.26823278261045647, 0.10058729347892117, 0.36882007608937767, 0.8885335579866361, 0.8984976845685155, 0.07487480704737629, 0.8216022165578779, 0.1369337027596463, 0.8850805202219952, 0.1755200326468804, 0.7898401469109617, 0.06697779891006841, 0.9042002852859236, 0.03348889945503421, 0.1502458971909363, 0.8263524345501496, 0.8842771383965515, 0.1466676890049521, 0.20166807238180917, 0.6233376782710465, 0.018333461125619014, 0.2998870158703889, 0.019347549410992832, 0.6771642293847491, 0.009673774705496416, 0.3598901689304466, 0.6198108464913247, 0.8365912176532845, 0.448618882200615, 0.3280224084907723, 0.20742593478092952, 0.01929543579357484, 0.8768113484561728, 0.2839672360661654, 0.6481860823249428, 0.06790520862451782, 0.06404547574189975, 0.40562134636536507, 0.5337122978491646, 0.2995907277057385, 0.03994543036076513, 0.6391268857722421, 0.019972715180382565, 0.16582100333945746, 0.43893795001621094, 0.2828711233437804, 0.107295943337296, 0.1674212423502558, 0.31092516436476075, 0.05979330083937707, 0.46638774654714116, 0.8016879257629576, 0.9714519103992163, 0.959811652855505, 0.6996473396216912, 0.07496221495946691, 0.08589420464105584, 0.1389924402373449, 0.8572835485275061, 0.142880591421251, 0.06953255134987466, 0.9039231675483705, 0.8476835207752796, 0.12967449307717654, 0.42360334405211003, 0.42360334405211003, 0.017289932410290206, 0.9529859266513259, 0.043317542120514814, 0.4565959270371852, 0.008780690904561253, 0.48293799975086893, 0.05268414542736752, 0.10955230015984684, 0.03130065718852767, 0.5477615007992342, 0.29735624329101285, 0.899309462235944, 0.9436777182775914, 0.21582187677433537, 0.12332678672819164, 0.6474656303230062, 0.9807122057190266, 0.016077249274082404, 0.2808521177642336, 0.7021302944105839, 0.0175532573602646, 0.1498458185857921, 0.3050432735496482, 0.5458669105625283, 0.027153850574790018, 0.9503847701176507, 0.027153850574790018, 0.9058019866203506, 0.773895510508362, 0.09056224059140407, 0.03293172385141966, 0.10702810251711391, 0.816177752882761, 0.3125524493227513, 0.08524157708802307, 0.13259800880359143, 0.4640930308125701, 0.07428188582962796, 0.6685369724666516, 0.012380314304937991, 0.24760628609875984, 0.12413584594255507, 0.41102757878757123, 0.1627558869024611, 0.3034431789706902, 0.9221821313677728, 0.0364900193387183, 0.9122504834679576, 0.0364900193387183, 0.9175061347972855, 0.07340049078378284, 0.9269060408115845, 0.8950145425535363, 0.9846854259981687, 0.011933583219814269, 0.09546866575851415, 0.8830851582662559, 0.11708271646433772, 0.8195790152503641, 0.9592853600602161, 0.3685312482025735, 0.3773058017312062, 0.24130022203739931, 0.013161830292949053, 0.09604887917197742, 0.2881466375159322, 0.6243177146178532, 0.9426405187133426, 0.44348132257604306, 0.09151201894426285, 0.302693601123331, 0.1548664935979833, 0.2563186831215366, 0.4239116682394644, 0.2563186831215366, 0.06900887622502909, 0.3864747355299162, 0.007026813373271203, 0.4356624291428146, 0.16864352095850887, 0.8888939090236758, 0.866714998104927, 0.8371345961863571, 0.19081295281375935, 0.33392266742407883, 0.44295864046051275, 0.034073741573885596, 0.9189687390859373, 0.07068990300661056, 0.14578612003848124, 0.826121346884727, 0.9342833070019845, 0.5819214064223739, 0.0427883387075275, 0.154038019347099, 0.21394169353763748, 0.6383477594548989, 0.08290230642271414, 0.05803161449589989, 0.21554599669905675, 0.1458514911379237, 0.7292574556896184, 0.9429009782077077, 0.7737660236189293, 0.11803210529780278, 0.006557339183211266, 0.09836008774816898, 0.8865565889303327, 0.07822558137620583, 0.02607519379206861, 0.30185437964498446, 0.2733775513765897, 0.3189404766060213, 0.10821194741990009, 0.05474183243934286, 0.26949825200907257, 0.004210910187641759, 0.6737456300226814, 0.35007318774834334, 0.5601171003973494, 0.09155760294956672, 0.8567376968624602, 0.018857364327113862, 0.8580100768836807, 0.1225728681262401, 0.914564747806297, 0.043550702276490334, 0.043550702276490334, 0.948707942026667, 0.9466936173908199, 0.9138706029400694, 0.8871079658328194, 0.8671939209551488, 0.2971048293917777, 0.38995008857670826, 0.2785357775547916, 0.02785357775547916, 0.9162623521892528, 0.06247243310381269, 0.7605578759527366, 0.8659665095070725, 0.12301814986946785, 0.3514804281984796, 0.0878701070496199, 0.45692455665802345, 0.13909550707305168, 0.13909550707305168, 0.6954775353652585, 0.031156574579911625, 0.9658538119772604, 0.07522202840671785, 0.9026643408806142, 0.7599485346188315, 0.013102560941703992, 0.20964097506726387, 0.013102560941703992, 0.14374345760893897, 0.7905890168491644, 0.03593586440223474, 0.7212924577642101, 0.1568027082096109, 0.03136054164192218, 0.07840135410480545, 0.21417270691210435, 0.5291325700181402, 0.13858233976665577, 0.11338555071817288, 0.022861684447972954, 0.022861684447972954, 0.960190746814864, 0.027630013242759623, 0.19341009269931736, 0.8012703840400291, 0.7935005619676482, 0.1476280115288648, 0.0184535014411081, 0.0184535014411081, 0.8804910635834751, 0.08598816328759032, 0.7738934695883128, 0.12898224493138546, 0.9568190752877541, 0.11432124122706688, 0.8917056815711216, 0.06812687822334546, 0.6699143025295636, 0.0018924132839818182, 0.2611530331894909, 0.13338453219837282, 0.6269073013323522, 0.01333845321983728, 0.22675370473723377, 0.0999054299766584, 0.8991488697899256, 0.927168257018698, 0.08066220208957395, 0.4033110104478697, 0.5243043135822306, 0.7481870725794612, 0.0282334744369608, 0.2258677954956864, 0.9145540285512368, 0.07952643726532493, 0.902740139683953, 0.07319514646086105, 0.024398382153620352, 0.9585948338525001, 0.022305091737310153, 0.2676611008477218, 0.7093019172464629, 0.81632832602139, 0.8643922097594008, 0.9191620248236602, 0.2695550101183107, 0.6361498238792133, 0.08625760323785941, 0.9147682334426823, 0.07480625590515522, 0.11220938385773283, 0.8041672509804186, 0.8826627471134337, 0.9376746014153295, 0.9637137911346535, 0.9290750078985479, 0.005806718799365924, 0.05516382859397628, 0.008710078199048886, 0.9182892584543838, 0.930943671009607, 0.8767120005453383, 0.058445119047865854, 0.8182316666701219, 0.058445119047865854, 0.058380692360415966, 0.2919034618020798, 0.6421876159645756, 0.032392264579387875, 0.9717679373816362, 0.06628821445901809, 0.9280350024262531, 0.051315607221620624, 0.11973641685044813, 0.82104971554593, 0.16209930451211413, 0.2505171069732673, 0.08841780246115316, 0.4862979135363424, 0.4159283169130016, 0.06654853070608026, 0.49356826940342857, 0.016637132676520065, 0.19309924828413025, 0.49273601286295304, 0.021878239953374363, 0.29202694198634477, 0.04458959519869581, 0.04458959519869581, 0.8917919039739163, 0.04458959519869581, 0.8190253642683066, 0.9106356077109907, 0.021681800183595015, 0.010840900091797508, 0.06504540055078505, 0.9538886601645774, 0.8795195262337061, 0.9508131196663332, 0.035085354969237384, 0.010525606490771217, 0.9837471633557545, 0.9353155029835597, 0.8456985361017835, 0.3316236208093932, 0.5211228327004751, 0.07369413795764294, 0.07369413795764294, 0.20179391774403627, 0.5320021467797319, 0.24765617177677177, 0.018344901613094204, 0.06427817562027566, 0.9320335464939971, 0.03213908781013783, 0.07688805641846953, 0.33830744824126596, 0.5843492287803684, 0.9794006397613813, 0.020404179995028776, 0.7283782373774548, 0.0022005384815028846, 0.2552624638543346, 0.013203230889017308, 0.47078808582629683, 0.3802519154750859, 0.14485787256193747, 0.2543410785333528, 0.7347631157630191, 0.0873555518802177, 0.8953944067722314, 0.9034226457973616, 0.006173731064674453, 0.05967940029185305, 0.02881074496848078, 0.9647718532393355, 0.8671030436315647, 0.07882754942105133, 0.039413774710525665, 0.2869114005451391, 0.02459240576101192, 0.6639949555473219, 0.01639493717400795, 0.14487031728291738, 0.3587264999386526, 0.3863208460877797, 0.11037738459650849, 0.9531187233593555, 0.9019856415629802, 0.44611566061213587, 0.2850183387244201, 0.1858815252550566, 0.08054866094385786, 0.38001333813626875, 0.31092000392967445, 0.25334222542417917, 0.05757777850549527, 0.9344222512232938, 0.8915154931667464, 0.015370956778737007, 0.09222574067242205, 0.9549221359037068], \"Term\": [\"accord\", \"account\", \"account\", \"acquaint\", \"actual\", \"actual\", \"actual\", \"actual\", \"ad\", \"ad\", \"additional\", \"advertisement\", \"advertisement\", \"affect\", \"also\", \"also\", \"also\", \"also\", \"amaze\", \"amaze\", \"amazing\", \"amazing\", \"amazing\", \"apache\", \"approximately\", \"assignment\", \"assignment\", \"assignment\", \"assignment\", \"available\", \"available\", \"available\", \"available\", \"away\", \"awesome\", \"awesome\", \"basic\", \"basic\", \"basic\", \"basic\", \"beginner\", \"beginner\", \"beginner\", \"beginner\", \"best\", \"best\", \"best\", \"bit\", \"bit\", \"bit\", \"bit\", \"board\", \"boring\", \"boring\", \"build\", \"build\", \"cant\", \"cause\", \"change\", \"change\", \"change\", \"check\", \"class\", \"class\", \"class\", \"clear\", \"clear\", \"clear\", \"cloud\", \"cloud\", \"cloud\", \"cloud\", \"cognitive\", \"cognitive\", \"completecourse\", \"confidence\", \"confusion\", \"connection\", \"contact\", \"contain\", \"content\", \"content\", \"content\", \"content\", \"cool\", \"could\", \"could\", \"could\", \"could\", \"couldnt\", \"cours\", \"course\", \"course\", \"course\", \"course\", \"courser\", \"coursera\", \"coursera\", \"coursera\", \"coursera\", \"cover\", \"cover\", \"cover\", \"cover\", \"create\", \"create\", \"create\", \"current\", \"d\", \"data\", \"data\", \"data\", \"data\", \"date\", \"date\", \"deal\", \"deep\", \"deliver\", \"description\", \"didnt\", \"didnt\", \"didnt\", \"didnt\", \"different\", \"different\", \"different\", \"discrepancy\", \"ds\", \"easy\", \"easy\", \"easy\", \"easy\", \"educational\", \"eg\", \"emphasis\", \"engage\", \"enlighten\", \"excelente\", \"excellent\", \"exercise\", \"exercise\", \"exercise\", \"experience\", \"experience\", \"experience\", \"experience\", \"explain\", \"explain\", \"explain\", \"explain\", \"explanation\", \"explanation\", \"explanation\", \"explanation\", \"explicit\", \"exposure\", \"exposure\", \"familiar\", \"familiar\", \"familiarize\", \"fantastic\", \"fantastic\", \"field\", \"field\", \"field\", \"final\", \"final\", \"financial\", \"first\", \"first\", \"first\", \"first\", \"follow\", \"follow\", \"follow\", \"follow\", \"free\", \"free\", \"fully\", \"get\", \"get\", \"get\", \"get\", \"git\", \"give\", \"give\", \"give\", \"hand\", \"hand\", \"hand\", \"hard\", \"hard\", \"hard\", \"hard\", \"help\", \"help\", \"help\", \"help\", \"helpful\", \"helpful\", \"helpful\", \"helpful\", \"helpfull\", \"highly\", \"honestly\", \"ibm\", \"ibm\", \"ibm\", \"ibm\", \"important\", \"important\", \"impossible\", \"impossible\", \"indeed\", \"information\", \"information\", \"information\", \"information\", \"insight\", \"insight\", \"instruction\", \"instruction\", \"instruction\", \"instruction\", \"instructor\", \"instructor\", \"instructor\", \"instructor\", \"integrate\", \"interactive\", \"interesting\", \"interesting\", \"interesting\", \"interface\", \"interface\", \"introduce\", \"introduce\", \"introduce\", \"introduction\", \"introduction\", \"introduction\", \"introductory\", \"introductory\", \"introductory\", \"journey\", \"jupyter\", \"jupyter\", \"jupyter\", \"jupyter\", \"kit\", \"know\", \"know\", \"know\", \"know\", \"knowledge\", \"knowledge\", \"knowledge\", \"knowledge\", \"learn\", \"learn\", \"learn\", \"learn\", \"learned\", \"learning\", \"learning\", \"learning\", \"learnt\", \"learnt\", \"less\", \"let\", \"life\", \"little\", \"little\", \"little\", \"long\", \"long\", \"longer\", \"lot\", \"lot\", \"lot\", \"lot\", \"love\", \"love\", \"love\", \"main\", \"make\", \"make\", \"make\", \"make\", \"many\", \"many\", \"many\", \"many\", \"material\", \"material\", \"material\", \"material\", \"minor\", \"modeler\", \"motivate\", \"much\", \"much\", \"much\", \"much\", \"multiple\", \"multiple\", \"must\", \"must\", \"navigation\", \"need\", \"need\", \"need\", \"need\", \"new\", \"new\", \"new\", \"new\", \"newbie\", \"newbie\", \"nonetheless\", \"notebook\", \"notebook\", \"notebook\", \"notebook\", \"notebooks\", \"notebooks\", \"notebooks\", \"one\", \"one\", \"one\", \"one\", \"open\", \"open\", \"open\", \"open\", \"outdated\", \"outdated\", \"outdated\", \"overcome\", \"overview\", \"overview\", \"overview\", \"page\", \"page\", \"page\", \"particularly\", \"perfect\", \"perfectly\", \"personal\", \"plan\", \"platform\", \"platform\", \"platform\", \"platform\", \"please\", \"please\", \"plenty\", \"powerful\", \"practice\", \"practice\", \"practice\", \"practice\", \"presentation\", \"presentation\", \"presentation\", \"pretty\", \"pretty\", \"prior\", \"prior\", \"problem\", \"problem\", \"problem\", \"problem\", \"professional\", \"professional\", \"professional\", \"project\", \"project\", \"project\", \"project\", \"provide\", \"provide\", \"provide\", \"provide\", \"question\", \"question\", \"question\", \"quiz\", \"quiz\", \"quiz\", \"r\", \"r\", \"r\", \"r\", \"recent\", \"recommend\", \"recommend\", \"recommend\", \"reflect\", \"require\", \"require\", \"science\", \"science\", \"science\", \"science\", \"scientist\", \"scientist\", \"scientist\", \"scientist\", \"second\", \"second\", \"series\", \"short\", \"short\", \"short\", \"show\", \"show\", \"show\", \"sign\", \"sign\", \"since\", \"since\", \"since\", \"site\", \"source\", \"source\", \"source\", \"sparketc\", \"spss\", \"staff\", \"start\", \"start\", \"start\", \"starter\", \"still\", \"still\", \"still\", \"straight\", \"structured\", \"struggle\", \"studio\", \"studio\", \"studio\", \"studio\", \"submit\", \"subscription\", \"suck\", \"suppose\", \"suppose\", \"suppose\", \"system\", \"system\", \"system\", \"technical\", \"technical\", \"test\", \"test\", \"thank\", \"thank\", \"thank\", \"thanks\", \"thanks\", \"thanks\", \"thanks\", \"time\", \"time\", \"time\", \"time\", \"tool\", \"tool\", \"tool\", \"tool\", \"topic\", \"topic\", \"topic\", \"topic\", \"tutor\", \"tutorial\", \"tutorial\", \"tutorial\", \"tutorial\", \"ui\", \"unfortunately\", \"update\", \"update\", \"update\", \"updated\", \"upgrade\", \"uptodate\", \"use\", \"use\", \"use\", \"use\", \"useful\", \"useful\", \"useful\", \"useful\", \"useless\", \"useless\", \"useless\", \"various\", \"various\", \"various\", \"version\", \"version\", \"video\", \"video\", \"video\", \"video\", \"videos\", \"videos\", \"videos\", \"want\", \"want\", \"waste\", \"waste\", \"watson\", \"watson\", \"watson\", \"watson\", \"web\", \"website\", \"website\", \"website\", \"week\", \"week\", \"week\", \"week\", \"well\", \"well\", \"well\", \"well\", \"wonderful\", \"word\", \"work\", \"work\", \"work\", \"work\", \"would\", \"would\", \"would\", \"would\", \"wouldnt\", \"zeppelin\", \"zeppelin\", \"zeppelin\", \"\\u00e3\"]}, \"R\": 30, \"lambda.step\": 0.01, \"plot.opts\": {\"xlab\": \"PC1\", \"ylab\": \"PC2\"}, \"topic.order\": [2, 3, 4, 1]};\n",
       "\n",
       "function LDAvis_load_lib(url, callback){\n",
       "  var s = document.createElement('script');\n",
       "  s.src = url;\n",
       "  s.async = true;\n",
       "  s.onreadystatechange = s.onload = callback;\n",
       "  s.onerror = function(){console.warn(\"failed to load library \" + url);};\n",
       "  document.getElementsByTagName(\"head\")[0].appendChild(s);\n",
       "}\n",
       "\n",
       "if(typeof(LDAvis) !== \"undefined\"){\n",
       "   // already loaded: just create the visualization\n",
       "   !function(LDAvis){\n",
       "       new LDAvis(\"#\" + \"ldavis_el582201402597215346728290065363\", ldavis_el582201402597215346728290065363_data);\n",
       "   }(LDAvis);\n",
       "}else if(typeof define === \"function\" && define.amd){\n",
       "   // require.js is available: use it to load d3/LDAvis\n",
       "   require.config({paths: {d3: \"https://d3js.org/d3.v5\"}});\n",
       "   require([\"d3\"], function(d3){\n",
       "      window.d3 = d3;\n",
       "      LDAvis_load_lib(\"https://cdn.jsdelivr.net/gh/bmabey/pyLDAvis@3.2.2/pyLDAvis/js/ldavis.v3.0.0.js\", function(){\n",
       "        new LDAvis(\"#\" + \"ldavis_el582201402597215346728290065363\", ldavis_el582201402597215346728290065363_data);\n",
       "      });\n",
       "    });\n",
       "}else{\n",
       "    // require.js not available: dynamically load d3 & LDAvis\n",
       "    LDAvis_load_lib(\"https://d3js.org/d3.v5.js\", function(){\n",
       "         LDAvis_load_lib(\"https://cdn.jsdelivr.net/gh/bmabey/pyLDAvis@3.2.2/pyLDAvis/js/ldavis.v3.0.0.js\", function(){\n",
       "                 new LDAvis(\"#\" + \"ldavis_el582201402597215346728290065363\", ldavis_el582201402597215346728290065363_data);\n",
       "            })\n",
       "         });\n",
       "}\n",
       "</script>"
      ],
      "text/plain": [
       "PreparedData(topic_coordinates=              x         y  topics  cluster       Freq\n",
       "topic                                                \n",
       "1      0.095931  0.125069       1        1  34.566981\n",
       "2     -0.099837 -0.048055       2        1  27.335664\n",
       "3      0.142234 -0.097835       3        1  21.874142\n",
       "0     -0.138328  0.020821       4        1  16.223213, topic_info=           Term         Freq        Total Category  logprob  loglift\n",
       "32         tool  1051.000000  1051.000000  Default  30.0000  30.0000\n",
       "35         data   674.000000   674.000000  Default  29.0000  29.0000\n",
       "46      science   528.000000   528.000000  Default  28.0000  28.0000\n",
       "34       course  1514.000000  1514.000000  Default  27.0000  27.0000\n",
       "151      watson   485.000000   485.000000  Default  26.0000  26.0000\n",
       "..          ...          ...          ...      ...      ...      ...\n",
       "258        easy    24.804028   115.161583   Topic4  -5.3902   0.2834\n",
       "60     material    23.504888   142.312019   Topic4  -5.4440   0.0179\n",
       "216  experience    22.823622   148.542567   Topic4  -5.4734  -0.0543\n",
       "288        make    22.353928   142.057843   Topic4  -5.4942  -0.0305\n",
       "152     content    22.353609   213.634058   Topic4  -5.4942  -0.4385\n",
       "\n",
       "[305 rows x 6 columns], token_table=      Topic      Freq      Term\n",
       "term                           \n",
       "1269      1  0.909097    accord\n",
       "709       1  0.894223   account\n",
       "709       2  0.103979   account\n",
       "650       4  0.703156  acquaint\n",
       "865       1  0.852079    actual\n",
       "...     ...       ...       ...\n",
       "2511      3  0.934422   wouldnt\n",
       "2164      1  0.891515  zeppelin\n",
       "2164      2  0.015371  zeppelin\n",
       "2164      4  0.092226  zeppelin\n",
       "1736      3  0.954922         ã\n",
       "\n",
       "[547 rows x 3 columns], R=30, lambda_step=0.01, plot_opts={'xlab': 'PC1', 'ylab': 'PC2'}, topic_order=[2, 3, 4, 1])"
      ]
     },
     "execution_count": 35,
     "metadata": {},
     "output_type": "execute_result"
    }
   ],
   "source": [
    "# Visualize the topics\n",
    "pyLDAvis.enable_notebook()\n",
    "vis = pyLDAvis.gensim.prepare(lda_model, corpus, dictionary)\n",
    "vis"
   ]
  },
  {
   "cell_type": "markdown",
   "metadata": {},
   "source": [
    "What is topic perplexity and topic coherence: https://towardsdatascience.com/evaluate-topic-model-in-python-latent-dirichlet-allocation-lda-7d57484bb5d0"
   ]
  },
  {
   "cell_type": "code",
   "execution_count": 36,
   "metadata": {},
   "outputs": [
    {
     "name": "stdout",
     "output_type": "stream",
     "text": [
      "\n",
      "Perplexity:  -6.718774475313731\n",
      "\n",
      "Coherence Score:  0.4482907065910259\n"
     ]
    }
   ],
   "source": [
    "# Calculate Perplexity and Coherence\n",
    "\n",
    "# Compute Perplexity\n",
    "\n",
    "print('\\nPerplexity: ', lda_model.log_perplexity(corpus))  # a measure of how good the model is. The lower the better.\n",
    "\n",
    "# Compute Coherence Score\n",
    "\n",
    "coherence_model_lda = CoherenceModel(model = lda_model, texts = df['preprocessed'], dictionary = dictionary, coherence = 'c_v')\n",
    "coherence_lda = coherence_model_lda.get_coherence()\n",
    "print('\\nCoherence Score: ', coherence_lda)"
   ]
  },
  {
   "cell_type": "markdown",
   "metadata": {},
   "source": [
    "## Hyperparameter Tuning\n",
    "\n",
    "Code references\n",
    "\n",
    "Find the optimal number of topics, alpha and beta: https://towardsdatascience.com/evaluate-topic-model-in-python-latent-dirichlet-allocation-lda-7d57484bb5d0\n",
    "\n",
    "What is alpha and beta: https://www.thoughtvector.io/blog/lda-alpha-and-beta-parameters-the-intuition/"
   ]
  },
  {
   "cell_type": "markdown",
   "metadata": {},
   "source": [
    "## Calculate the coherence score\n",
    "\n",
    "Code reference: \n",
    "\n",
    "https://www.machinelearningplus.com/nlp/topic-modeling-gensim-python/#17howtofindtheoptimalnumberoftopicsforlda"
   ]
  },
  {
   "cell_type": "code",
   "execution_count": 37,
   "metadata": {},
   "outputs": [],
   "source": [
    "# Determine the optiomal number of topics by calculating the coherence score\n",
    "\n",
    "# Define function for calculating coherence score\n",
    "\n",
    "def compute_coherence_values(dictionary, corpus, texts, limit, start = 2, step = 3):\n",
    "    \"\"\"\n",
    "    Compute c_v coherence for various number of topics\n",
    "\n",
    "    Parameters:\n",
    "    ----------\n",
    "    dictionary : Gensim dictionary\n",
    "    corpus : Gensim corpus\n",
    "    texts : List of input texts\n",
    "    limit : Max num of topics\n",
    "\n",
    "    Returns:\n",
    "    -------\n",
    "    model_list : List of LDA topic models\n",
    "    coherence_values : Coherence values corresponding to the LDA model with respective number of topics\n",
    "    \"\"\"\n",
    "    coherence_values = []\n",
    "    model_list = []\n",
    "    for num_topics in range(start, limit, step):\n",
    "        model = LDA(corpus = corpus, num_topics = num_topics, id2word = dictionary, random_state = 100,\n",
    "                chunksize = 100, passes = 10, alpha = 0.18)\n",
    "        model_list.append(model)\n",
    "        coherencemodel = CoherenceModel(model = model, texts = texts, dictionary = dictionary, coherence = 'c_v')\n",
    "        coherence_values.append(coherencemodel.get_coherence())\n",
    "\n",
    "    return model_list, coherence_values"
   ]
  },
  {
   "cell_type": "code",
   "execution_count": 38,
   "metadata": {},
   "outputs": [],
   "source": [
    "# Can take a long time to run.\n",
    "\n",
    "model_list, coherence_values = compute_coherence_values(dictionary = dictionary, corpus = corpus, texts = df['preprocessed'], start = 2, limit = 10, step = 1)"
   ]
  },
  {
   "cell_type": "code",
   "execution_count": 39,
   "metadata": {},
   "outputs": [
    {
     "data": {
      "image/png": "[encoded data removed]",
      "text/plain": [
       "<Figure size 432x288 with 1 Axes>"
      ]
     },
     "metadata": {
      "needs_background": "light"
     },
     "output_type": "display_data"
    }
   ],
   "source": [
    "# Show graph\n",
    "\n",
    "limit = 10; start = 2; step = 1;\n",
    "x = range(start, limit, step)\n",
    "plt.plot(x, coherence_values)\n",
    "plt.xlabel(\"Num Topics\")\n",
    "plt.ylabel(\"Coherence score\")\n",
    "plt.legend((\"coherence_values\"), loc = 'best')\n",
    "plt.show()\n"
   ]
  },
  {
   "cell_type": "code",
   "execution_count": 40,
   "metadata": {},
   "outputs": [
    {
     "name": "stdout",
     "output_type": "stream",
     "text": [
      "Num Topics = 2  has Coherence Value of 0.4058\n",
      "Num Topics = 3  has Coherence Value of 0.461\n",
      "Num Topics = 4  has Coherence Value of 0.4439\n",
      "Num Topics = 5  has Coherence Value of 0.4573\n",
      "Num Topics = 6  has Coherence Value of 0.4255\n",
      "Num Topics = 7  has Coherence Value of 0.4126\n",
      "Num Topics = 8  has Coherence Value of 0.4401\n",
      "Num Topics = 9  has Coherence Value of 0.425\n"
     ]
    }
   ],
   "source": [
    "# Print the coherence scores\n",
    "\n",
    "for m, cv in zip(x, coherence_values):\n",
    "    print(\"Num Topics =\", m, \" has Coherence Value of\", round(cv, 4))"
   ]
  },
  {
   "cell_type": "markdown",
   "metadata": {},
   "source": [
    "## LDA Mallet Model\n",
    "\n",
    "Code reference:\n",
    "\n",
    "https://www.machinelearningplus.com/nlp/topic-modeling-gensim-python/#17howtofindtheoptimalnumberoftopicsforlda"
   ]
  },
  {
   "cell_type": "code",
   "execution_count": 84,
   "metadata": {},
   "outputs": [],
   "source": [
    "mallet_path = '/Users/siriamanda/Desktop/LNU-VT-2021/Thesis/11-data-analysis/mallet-2.0.8/bin/mallet' # update this path\n",
    "ldamallet = gensim.models.wrappers.LdaMallet(mallet_path, corpus = corpus, num_topics = 5, id2word = dictionary)"
   ]
  },
  {
   "cell_type": "code",
   "execution_count": 85,
   "metadata": {},
   "outputs": [
    {
     "name": "stdout",
     "output_type": "stream",
     "text": [
      "[(0,\n",
      "  [('ibm', 0.13843423387891934),\n",
      "   ('watson', 0.09879708144350227),\n",
      "   ('studio', 0.0700059159929008),\n",
      "   ('update', 0.06211792545848945),\n",
      "   ('notebook', 0.03332676000788799),\n",
      "   ('content', 0.027213567343719186),\n",
      "   ('jupyter', 0.02681916781699862),\n",
      "   ('cloud', 0.020705975152829816),\n",
      "   ('version', 0.019128377045947546),\n",
      "   ('tutorial', 0.01833957799250641)]),\n",
      " (1,\n",
      "  [('video', 0.0997229916897507),\n",
      "   ('lot', 0.05065294815987337),\n",
      "   ('time', 0.03957261574990107),\n",
      "   ('outdated', 0.037989711119905026),\n",
      "   ('experience', 0.031658092599920855),\n",
      "   ('material', 0.030273051048674317),\n",
      "   ('instruction', 0.024139295607439652),\n",
      "   ('videos', 0.023545706371191136),\n",
      "   ('follow', 0.02334784329244163),\n",
      "   ('find', 0.01820340324495449)]),\n",
      " (2,\n",
      "  [('give', 0.03394406943105111),\n",
      "   ('make', 0.030665380906460944),\n",
      "   ('week', 0.02892960462873674),\n",
      "   ('easy', 0.021986499517839923),\n",
      "   ('assignment', 0.020829315332690453),\n",
      "   ('platform', 0.02063645130183221),\n",
      "   ('start', 0.01909353905496625),\n",
      "   ('content', 0.0171648987463838),\n",
      "   ('student', 0.016200578592092573),\n",
      "   ('date', 0.013693346190935391)]),\n",
      " (3,\n",
      "  [('learn', 0.07640362724290951),\n",
      "   ('work', 0.03241366004244646),\n",
      "   ('beginner', 0.0293266448003087),\n",
      "   ('understand', 0.026046691105537333),\n",
      "   ('information', 0.025274937295002894),\n",
      "   ('helpful', 0.018907968358093767),\n",
      "   ('thing', 0.0175573991896585),\n",
      "   ('explain', 0.01659270692649045),\n",
      "   ('knowledge', 0.01659270692649045),\n",
      "   ('program', 0.01601389156858962)]),\n",
      " (4,\n",
      "  [('tool', 0.22102009273570325),\n",
      "   ('data', 0.14489953632148378),\n",
      "   ('science', 0.11282843894899536),\n",
      "   ('open', 0.04656105100463678),\n",
      "   ('source', 0.04404945904173107),\n",
      "   ('introduction', 0.03632148377125193),\n",
      "   ('basic', 0.0258887171561051),\n",
      "   ('excellent', 0.021058732612055642),\n",
      "   ('overview', 0.019899536321483773),\n",
      "   ('scientist', 0.014489953632148377)])]\n",
      "\n",
      "Coherence Score:  0.42015470703752544\n"
     ]
    }
   ],
   "source": [
    "# Show Topics\n",
    "pprint(ldamallet.show_topics(formatted = False))\n",
    "\n",
    "# Compute Coherence Score\n",
    "coherence_model_ldamallet = CoherenceModel(model = ldamallet, texts = df['preprocessed'], dictionary = dictionary, coherence = 'c_v')\n",
    "coherence_ldamallet = coherence_model_ldamallet.get_coherence()\n",
    "print('\\nCoherence Score: ', coherence_ldamallet)\n",
    "\n",
    "# The coherence score using the Mallet Model is lower than the original LDA Model"
   ]
  },
  {
   "cell_type": "code",
   "execution_count": 230,
   "metadata": {},
   "outputs": [],
   "source": [
    "# Create new column with the topic\n",
    "\n",
    "df['topic'] = ''\n",
    "\n",
    "df['topic'] = [max(p, key = lambda item: item[1]) for p in lda_model[corpus]]"
   ]
  },
  {
   "cell_type": "code",
   "execution_count": 231,
   "metadata": {},
   "outputs": [],
   "source": [
    "# Create two separate columns for the topic ID and topic score\n",
    "\n",
    "df[['topic_id', 'topic_score']] = df['topic'].apply(pd.Series)"
   ]
  },
  {
   "cell_type": "code",
   "execution_count": 232,
   "metadata": {},
   "outputs": [
    {
     "data": {
      "text/html": [
       "<div>\n",
       "<style scoped>\n",
       "    .dataframe tbody tr th:only-of-type {\n",
       "        vertical-align: middle;\n",
       "    }\n",
       "\n",
       "    .dataframe tbody tr th {\n",
       "        vertical-align: top;\n",
       "    }\n",
       "\n",
       "    .dataframe thead th {\n",
       "        text-align: right;\n",
       "    }\n",
       "</style>\n",
       "<table border=\"1\" class=\"dataframe\">\n",
       "  <thead>\n",
       "    <tr style=\"text-align: right;\">\n",
       "      <th></th>\n",
       "      <th>date</th>\n",
       "      <th>review</th>\n",
       "      <th>rating</th>\n",
       "      <th>status</th>\n",
       "      <th>length</th>\n",
       "      <th>label</th>\n",
       "      <th>compound</th>\n",
       "      <th>sentiment</th>\n",
       "      <th>preprocessed</th>\n",
       "      <th>joined</th>\n",
       "      <th>topic</th>\n",
       "      <th>topic_id</th>\n",
       "      <th>topic_score</th>\n",
       "    </tr>\n",
       "  </thead>\n",
       "  <tbody>\n",
       "    <tr>\n",
       "      <th>0</th>\n",
       "      <td>2021-03-10</td>\n",
       "      <td>Some of the lab instructions are out of synch ...</td>\n",
       "      <td>3</td>\n",
       "      <td>completer</td>\n",
       "      <td>442</td>\n",
       "      <td>neu</td>\n",
       "      <td>-0.3818</td>\n",
       "      <td>neg</td>\n",
       "      <td>[lab, instruction, synch, screenshots, also, e...</td>\n",
       "      <td>lab instruction synch screenshots also externa...</td>\n",
       "      <td>(0, 0.6499194)</td>\n",
       "      <td>0.0</td>\n",
       "      <td>0.649919</td>\n",
       "    </tr>\n",
       "    <tr>\n",
       "      <th>1</th>\n",
       "      <td>2021-03-10</td>\n",
       "      <td>Very nice course.</td>\n",
       "      <td>5</td>\n",
       "      <td>completer</td>\n",
       "      <td>18</td>\n",
       "      <td>pos</td>\n",
       "      <td>0.4754</td>\n",
       "      <td>pos</td>\n",
       "      <td>[course]</td>\n",
       "      <td>course</td>\n",
       "      <td>(0, 0.627182)</td>\n",
       "      <td>0.0</td>\n",
       "      <td>0.627182</td>\n",
       "    </tr>\n",
       "    <tr>\n",
       "      <th>2</th>\n",
       "      <td>2021-03-10</td>\n",
       "      <td>I have learned much knowledge about data scien...</td>\n",
       "      <td>5</td>\n",
       "      <td>completer</td>\n",
       "      <td>210</td>\n",
       "      <td>pos</td>\n",
       "      <td>0.8923</td>\n",
       "      <td>pos</td>\n",
       "      <td>[learn, much, knowledge, data, science, many, ...</td>\n",
       "      <td>learn much knowledge data science many tool pr...</td>\n",
       "      <td>(3, 0.96213746)</td>\n",
       "      <td>3.0</td>\n",
       "      <td>0.962137</td>\n",
       "    </tr>\n",
       "    <tr>\n",
       "      <th>3</th>\n",
       "      <td>2021-03-08</td>\n",
       "      <td>Clear Idea about the Data Science and its tools</td>\n",
       "      <td>5</td>\n",
       "      <td>completer</td>\n",
       "      <td>47</td>\n",
       "      <td>pos</td>\n",
       "      <td>0.3818</td>\n",
       "      <td>pos</td>\n",
       "      <td>[clear, idea, data, science, tool]</td>\n",
       "      <td>clear idea data science tool</td>\n",
       "      <td>(3, 0.88520813)</td>\n",
       "      <td>3.0</td>\n",
       "      <td>0.885208</td>\n",
       "    </tr>\n",
       "    <tr>\n",
       "      <th>4</th>\n",
       "      <td>2021-03-08</td>\n",
       "      <td>Nice overview, though the course materials hav...</td>\n",
       "      <td>3</td>\n",
       "      <td>completer</td>\n",
       "      <td>450</td>\n",
       "      <td>neu</td>\n",
       "      <td>0.3400</td>\n",
       "      <td>pos</td>\n",
       "      <td>[overview, though, course, material, update, d...</td>\n",
       "      <td>overview though course material update detaile...</td>\n",
       "      <td>(3, 0.34690684)</td>\n",
       "      <td>3.0</td>\n",
       "      <td>0.346907</td>\n",
       "    </tr>\n",
       "    <tr>\n",
       "      <th>...</th>\n",
       "      <td>...</td>\n",
       "      <td>...</td>\n",
       "      <td>...</td>\n",
       "      <td>...</td>\n",
       "      <td>...</td>\n",
       "      <td>...</td>\n",
       "      <td>...</td>\n",
       "      <td>...</td>\n",
       "      <td>...</td>\n",
       "      <td>...</td>\n",
       "      <td>...</td>\n",
       "      <td>...</td>\n",
       "      <td>...</td>\n",
       "    </tr>\n",
       "    <tr>\n",
       "      <th>2933</th>\n",
       "      <td>2018-09-19</td>\n",
       "      <td>Another Great class.  Really introduces you to...</td>\n",
       "      <td>5</td>\n",
       "      <td>dropout</td>\n",
       "      <td>188</td>\n",
       "      <td>pos</td>\n",
       "      <td>0.8360</td>\n",
       "      <td>pos</td>\n",
       "      <td>[another, class, introduce, new, tool, data, s...</td>\n",
       "      <td>another class introduce new tool data scientis...</td>\n",
       "      <td>(1, 0.96028733)</td>\n",
       "      <td>1.0</td>\n",
       "      <td>0.960287</td>\n",
       "    </tr>\n",
       "    <tr>\n",
       "      <th>2934</th>\n",
       "      <td>2018-09-19</td>\n",
       "      <td>Great introduction to the various open source ...</td>\n",
       "      <td>5</td>\n",
       "      <td>dropout</td>\n",
       "      <td>75</td>\n",
       "      <td>pos</td>\n",
       "      <td>0.6249</td>\n",
       "      <td>pos</td>\n",
       "      <td>[introduction, various, open, source, tool, us...</td>\n",
       "      <td>introduction various open source tool use data...</td>\n",
       "      <td>(1, 0.9244344)</td>\n",
       "      <td>1.0</td>\n",
       "      <td>0.924434</td>\n",
       "    </tr>\n",
       "    <tr>\n",
       "      <th>2935</th>\n",
       "      <td>2018-09-19</td>\n",
       "      <td>Simple trivial materials</td>\n",
       "      <td>3</td>\n",
       "      <td>dropout</td>\n",
       "      <td>24</td>\n",
       "      <td>neu</td>\n",
       "      <td>-0.0258</td>\n",
       "      <td>neg</td>\n",
       "      <td>[simple, trivial, material]</td>\n",
       "      <td>simple trivial material</td>\n",
       "      <td>(1, 0.5629533)</td>\n",
       "      <td>1.0</td>\n",
       "      <td>0.562953</td>\n",
       "    </tr>\n",
       "    <tr>\n",
       "      <th>2936</th>\n",
       "      <td>2018-09-19</td>\n",
       "      <td>Very practical course!</td>\n",
       "      <td>5</td>\n",
       "      <td>dropout</td>\n",
       "      <td>22</td>\n",
       "      <td>pos</td>\n",
       "      <td>0.0000</td>\n",
       "      <td>neu</td>\n",
       "      <td>[practical, course]</td>\n",
       "      <td>practical course</td>\n",
       "      <td>(3, 0.76551014)</td>\n",
       "      <td>3.0</td>\n",
       "      <td>0.765510</td>\n",
       "    </tr>\n",
       "    <tr>\n",
       "      <th>2937</th>\n",
       "      <td>2018-09-18</td>\n",
       "      <td>Great Course introducing us to these tools</td>\n",
       "      <td>5</td>\n",
       "      <td>dropout</td>\n",
       "      <td>42</td>\n",
       "      <td>pos</td>\n",
       "      <td>0.6249</td>\n",
       "      <td>pos</td>\n",
       "      <td>[course, introduce, u, tool]</td>\n",
       "      <td>course introduce u tool</td>\n",
       "      <td>(1, 0.8617751)</td>\n",
       "      <td>1.0</td>\n",
       "      <td>0.861775</td>\n",
       "    </tr>\n",
       "  </tbody>\n",
       "</table>\n",
       "<p>2938 rows × 13 columns</p>\n",
       "</div>"
      ],
      "text/plain": [
       "            date                                             review  rating  \\\n",
       "0     2021-03-10  Some of the lab instructions are out of synch ...       3   \n",
       "1     2021-03-10                                 Very nice course.        5   \n",
       "2     2021-03-10  I have learned much knowledge about data scien...       5   \n",
       "3     2021-03-08    Clear Idea about the Data Science and its tools       5   \n",
       "4     2021-03-08  Nice overview, though the course materials hav...       3   \n",
       "...          ...                                                ...     ...   \n",
       "2933  2018-09-19  Another Great class.  Really introduces you to...       5   \n",
       "2934  2018-09-19  Great introduction to the various open source ...       5   \n",
       "2935  2018-09-19                           Simple trivial materials       3   \n",
       "2936  2018-09-19                             Very practical course!       5   \n",
       "2937  2018-09-18         Great Course introducing us to these tools       5   \n",
       "\n",
       "         status  length label  compound sentiment  \\\n",
       "0     completer     442   neu   -0.3818       neg   \n",
       "1     completer      18   pos    0.4754       pos   \n",
       "2     completer     210   pos    0.8923       pos   \n",
       "3     completer      47   pos    0.3818       pos   \n",
       "4     completer     450   neu    0.3400       pos   \n",
       "...         ...     ...   ...       ...       ...   \n",
       "2933    dropout     188   pos    0.8360       pos   \n",
       "2934    dropout      75   pos    0.6249       pos   \n",
       "2935    dropout      24   neu   -0.0258       neg   \n",
       "2936    dropout      22   pos    0.0000       neu   \n",
       "2937    dropout      42   pos    0.6249       pos   \n",
       "\n",
       "                                           preprocessed  \\\n",
       "0     [lab, instruction, synch, screenshots, also, e...   \n",
       "1                                              [course]   \n",
       "2     [learn, much, knowledge, data, science, many, ...   \n",
       "3                    [clear, idea, data, science, tool]   \n",
       "4     [overview, though, course, material, update, d...   \n",
       "...                                                 ...   \n",
       "2933  [another, class, introduce, new, tool, data, s...   \n",
       "2934  [introduction, various, open, source, tool, us...   \n",
       "2935                        [simple, trivial, material]   \n",
       "2936                                [practical, course]   \n",
       "2937                       [course, introduce, u, tool]   \n",
       "\n",
       "                                                 joined            topic  \\\n",
       "0     lab instruction synch screenshots also externa...   (0, 0.6499194)   \n",
       "1                                                course    (0, 0.627182)   \n",
       "2     learn much knowledge data science many tool pr...  (3, 0.96213746)   \n",
       "3                          clear idea data science tool  (3, 0.88520813)   \n",
       "4     overview though course material update detaile...  (3, 0.34690684)   \n",
       "...                                                 ...              ...   \n",
       "2933  another class introduce new tool data scientis...  (1, 0.96028733)   \n",
       "2934  introduction various open source tool use data...   (1, 0.9244344)   \n",
       "2935                            simple trivial material   (1, 0.5629533)   \n",
       "2936                                   practical course  (3, 0.76551014)   \n",
       "2937                            course introduce u tool   (1, 0.8617751)   \n",
       "\n",
       "      topic_id  topic_score  \n",
       "0          0.0     0.649919  \n",
       "1          0.0     0.627182  \n",
       "2          3.0     0.962137  \n",
       "3          3.0     0.885208  \n",
       "4          3.0     0.346907  \n",
       "...        ...          ...  \n",
       "2933       1.0     0.960287  \n",
       "2934       1.0     0.924434  \n",
       "2935       1.0     0.562953  \n",
       "2936       3.0     0.765510  \n",
       "2937       1.0     0.861775  \n",
       "\n",
       "[2938 rows x 13 columns]"
      ]
     },
     "execution_count": 232,
     "metadata": {},
     "output_type": "execute_result"
    }
   ],
   "source": [
    "df"
   ]
  },
  {
   "cell_type": "code",
   "execution_count": 233,
   "metadata": {},
   "outputs": [],
   "source": [
    "df_final = df.drop(['joined', 'topic'], axis = 1)"
   ]
  },
  {
   "cell_type": "code",
   "execution_count": 234,
   "metadata": {},
   "outputs": [],
   "source": [
    "# Save dataframe as a csv file\n",
    "\n",
    "df_final.to_csv('tools-for-data.csv')"
   ]
  },
  {
   "cell_type": "code",
   "execution_count": null,
   "metadata": {},
   "outputs": [],
   "source": []
  }
 ],
 "metadata": {
  "kernelspec": {
   "display_name": "Python 3",
   "language": "python",
   "name": "python3"
  },
  "language_info": {
   "codemirror_mode": {
    "name": "ipython",
    "version": 3
   },
   "file_extension": ".py",
   "mimetype": "text/x-python",
   "name": "python",
   "nbconvert_exporter": "python",
   "pygments_lexer": "ipython3",
   "version": "3.7.6"
  }
 },
 "nbformat": 4,
 "nbformat_minor": 4
}
