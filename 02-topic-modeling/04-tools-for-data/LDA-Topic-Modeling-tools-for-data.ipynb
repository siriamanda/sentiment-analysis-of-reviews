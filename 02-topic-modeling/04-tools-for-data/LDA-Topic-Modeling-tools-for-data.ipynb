{
 "cells": [
  {
   "cell_type": "code",
   "execution_count": 1,
   "metadata": {},
   "outputs": [
    {
     "name": "stderr",
     "output_type": "stream",
     "text": [
      "/Users/siriamanda/opt/anaconda3/lib/python3.7/site-packages/scipy/sparse/sparsetools.py:21: DeprecationWarning: `scipy.sparse.sparsetools` is deprecated!\n",
      "scipy.sparse.sparsetools is a private module for scipy.sparse, and should not be used.\n",
      "  _deprecated()\n",
      "/Users/siriamanda/opt/anaconda3/lib/python3.7/site-packages/nltk/decorators.py:70: DeprecationWarning: `formatargspec` is deprecated since Python 3.5. Use `signature` and the `Signature` object directly\n",
      "  formatvalue=lambda value: \"\")[1:-1]\n"
     ]
    }
   ],
   "source": [
    "# Import the libraries\n",
    "\n",
    "import pandas as pd \n",
    "import numpy as np\n",
    "\n",
    "from pprint import pprint\n",
    "\n",
    "# libraries for visualization\n",
    "import pyLDAvis\n",
    "import pyLDAvis.gensim\n",
    "import matplotlib.pyplot as plt\n",
    "import seaborn as sns\n",
    "%matplotlib inline\n",
    "\n",
    "import re\n",
    "\n",
    "import spacy\n",
    "\n",
    "import gensim\n",
    "from gensim import corpora, models\n",
    "from gensim.utils import simple_preprocess\n",
    "from gensim.models import CoherenceModel\n",
    "\n",
    "import nltk\n",
    "from nltk import FreqDist\n",
    "from nltk.corpus import stopwords\n",
    "from nltk.tokenize import RegexpTokenizer\n",
    "from nltk.stem import WordNetLemmatizer, SnowballStemmer\n",
    "from nltk.tag import pos_tag, pos_tag_sents\n",
    "from nltk.corpus import wordnet\n",
    "\n",
    "import warnings\n",
    "warnings.filterwarnings(\"ignore\")\n"
   ]
  },
  {
   "cell_type": "markdown",
   "metadata": {},
   "source": [
    "Code references:\n",
    "\n",
    "https://www.analyticsvidhya.com/blog/2018/10/mining-online-reviews-topic-modeling-lda/\n"
   ]
  },
  {
   "cell_type": "code",
   "execution_count": 3,
   "metadata": {},
   "outputs": [],
   "source": [
    "df = pd.read_csv('/Users/siriamanda/Desktop/LNU-VT-2021/Thesis/11-data-analysis/sentiment-analysis-of-reviews/01-sentiment-analysis/04-tools-for-data/VADER-tools-for-data.csv')\n"
   ]
  },
  {
   "cell_type": "code",
   "execution_count": 4,
   "metadata": {},
   "outputs": [
    {
     "data": {
      "text/html": [
       "<div>\n",
       "<style scoped>\n",
       "    .dataframe tbody tr th:only-of-type {\n",
       "        vertical-align: middle;\n",
       "    }\n",
       "\n",
       "    .dataframe tbody tr th {\n",
       "        vertical-align: top;\n",
       "    }\n",
       "\n",
       "    .dataframe thead th {\n",
       "        text-align: right;\n",
       "    }\n",
       "</style>\n",
       "<table border=\"1\" class=\"dataframe\">\n",
       "  <thead>\n",
       "    <tr style=\"text-align: right;\">\n",
       "      <th></th>\n",
       "      <th>Unnamed: 0</th>\n",
       "      <th>date</th>\n",
       "      <th>review</th>\n",
       "      <th>rating</th>\n",
       "      <th>status</th>\n",
       "      <th>length</th>\n",
       "      <th>label</th>\n",
       "      <th>language_scores</th>\n",
       "      <th>language</th>\n",
       "      <th>scores</th>\n",
       "      <th>compound</th>\n",
       "      <th>sentiment</th>\n",
       "    </tr>\n",
       "  </thead>\n",
       "  <tbody>\n",
       "    <tr>\n",
       "      <th>0</th>\n",
       "      <td>0</td>\n",
       "      <td>2021-03-10</td>\n",
       "      <td>Some of the lab instructions are out of synch ...</td>\n",
       "      <td>3</td>\n",
       "      <td>completer</td>\n",
       "      <td>442</td>\n",
       "      <td>neu</td>\n",
       "      <td>{'language': 'en', 'score': 0.999997056713954}</td>\n",
       "      <td>en</td>\n",
       "      <td>{'neg': 0.075, 'neu': 0.895, 'pos': 0.029, 'co...</td>\n",
       "      <td>-0.3818</td>\n",
       "      <td>neg</td>\n",
       "    </tr>\n",
       "    <tr>\n",
       "      <th>1</th>\n",
       "      <td>1</td>\n",
       "      <td>2021-03-10</td>\n",
       "      <td>Very nice course.</td>\n",
       "      <td>5</td>\n",
       "      <td>completer</td>\n",
       "      <td>18</td>\n",
       "      <td>pos</td>\n",
       "      <td>{'language': 'en', 'score': 0.9999965592297603}</td>\n",
       "      <td>en</td>\n",
       "      <td>{'neg': 0.0, 'neu': 0.393, 'pos': 0.607, 'comp...</td>\n",
       "      <td>0.4754</td>\n",
       "      <td>pos</td>\n",
       "    </tr>\n",
       "    <tr>\n",
       "      <th>2</th>\n",
       "      <td>2</td>\n",
       "      <td>2021-03-10</td>\n",
       "      <td>I have learned much knowledge about data scien...</td>\n",
       "      <td>5</td>\n",
       "      <td>completer</td>\n",
       "      <td>210</td>\n",
       "      <td>pos</td>\n",
       "      <td>{'language': 'en', 'score': 0.9999959027806586}</td>\n",
       "      <td>en</td>\n",
       "      <td>{'neg': 0.0, 'neu': 0.727, 'pos': 0.273, 'comp...</td>\n",
       "      <td>0.8923</td>\n",
       "      <td>pos</td>\n",
       "    </tr>\n",
       "    <tr>\n",
       "      <th>3</th>\n",
       "      <td>3</td>\n",
       "      <td>2021-03-08</td>\n",
       "      <td>Clear Idea about the Data Science and its tools</td>\n",
       "      <td>5</td>\n",
       "      <td>completer</td>\n",
       "      <td>47</td>\n",
       "      <td>pos</td>\n",
       "      <td>{'language': 'en', 'score': 0.9999971743061971}</td>\n",
       "      <td>en</td>\n",
       "      <td>{'neg': 0.0, 'neu': 0.755, 'pos': 0.245, 'comp...</td>\n",
       "      <td>0.3818</td>\n",
       "      <td>pos</td>\n",
       "    </tr>\n",
       "    <tr>\n",
       "      <th>4</th>\n",
       "      <td>4</td>\n",
       "      <td>2021-03-08</td>\n",
       "      <td>Nice overview, though the course materials hav...</td>\n",
       "      <td>3</td>\n",
       "      <td>completer</td>\n",
       "      <td>450</td>\n",
       "      <td>neu</td>\n",
       "      <td>{'language': 'en', 'score': 0.9999962557747355}</td>\n",
       "      <td>en</td>\n",
       "      <td>{'neg': 0.055, 'neu': 0.873, 'pos': 0.072, 'co...</td>\n",
       "      <td>0.3400</td>\n",
       "      <td>pos</td>\n",
       "    </tr>\n",
       "  </tbody>\n",
       "</table>\n",
       "</div>"
      ],
      "text/plain": [
       "   Unnamed: 0        date                                             review  \\\n",
       "0           0  2021-03-10  Some of the lab instructions are out of synch ...   \n",
       "1           1  2021-03-10                                 Very nice course.    \n",
       "2           2  2021-03-10  I have learned much knowledge about data scien...   \n",
       "3           3  2021-03-08    Clear Idea about the Data Science and its tools   \n",
       "4           4  2021-03-08  Nice overview, though the course materials hav...   \n",
       "\n",
       "   rating     status  length label  \\\n",
       "0       3  completer     442   neu   \n",
       "1       5  completer      18   pos   \n",
       "2       5  completer     210   pos   \n",
       "3       5  completer      47   pos   \n",
       "4       3  completer     450   neu   \n",
       "\n",
       "                                   language_scores language  \\\n",
       "0   {'language': 'en', 'score': 0.999997056713954}       en   \n",
       "1  {'language': 'en', 'score': 0.9999965592297603}       en   \n",
       "2  {'language': 'en', 'score': 0.9999959027806586}       en   \n",
       "3  {'language': 'en', 'score': 0.9999971743061971}       en   \n",
       "4  {'language': 'en', 'score': 0.9999962557747355}       en   \n",
       "\n",
       "                                              scores  compound sentiment  \n",
       "0  {'neg': 0.075, 'neu': 0.895, 'pos': 0.029, 'co...   -0.3818       neg  \n",
       "1  {'neg': 0.0, 'neu': 0.393, 'pos': 0.607, 'comp...    0.4754       pos  \n",
       "2  {'neg': 0.0, 'neu': 0.727, 'pos': 0.273, 'comp...    0.8923       pos  \n",
       "3  {'neg': 0.0, 'neu': 0.755, 'pos': 0.245, 'comp...    0.3818       pos  \n",
       "4  {'neg': 0.055, 'neu': 0.873, 'pos': 0.072, 'co...    0.3400       pos  "
      ]
     },
     "execution_count": 4,
     "metadata": {},
     "output_type": "execute_result"
    }
   ],
   "source": [
    "df.head()"
   ]
  },
  {
   "cell_type": "code",
   "execution_count": 5,
   "metadata": {},
   "outputs": [],
   "source": [
    "df.drop(['Unnamed: 0', 'language_scores', 'language', 'scores'], axis = 1, inplace = True)"
   ]
  },
  {
   "cell_type": "code",
   "execution_count": 7,
   "metadata": {},
   "outputs": [
    {
     "data": {
      "text/html": [
       "<div>\n",
       "<style scoped>\n",
       "    .dataframe tbody tr th:only-of-type {\n",
       "        vertical-align: middle;\n",
       "    }\n",
       "\n",
       "    .dataframe tbody tr th {\n",
       "        vertical-align: top;\n",
       "    }\n",
       "\n",
       "    .dataframe thead th {\n",
       "        text-align: right;\n",
       "    }\n",
       "</style>\n",
       "<table border=\"1\" class=\"dataframe\">\n",
       "  <thead>\n",
       "    <tr style=\"text-align: right;\">\n",
       "      <th></th>\n",
       "      <th>date</th>\n",
       "      <th>review</th>\n",
       "      <th>rating</th>\n",
       "      <th>status</th>\n",
       "      <th>length</th>\n",
       "      <th>label</th>\n",
       "      <th>compound</th>\n",
       "      <th>sentiment</th>\n",
       "    </tr>\n",
       "  </thead>\n",
       "  <tbody>\n",
       "    <tr>\n",
       "      <th>0</th>\n",
       "      <td>2021-03-10</td>\n",
       "      <td>Some of the lab instructions are out of synch ...</td>\n",
       "      <td>3</td>\n",
       "      <td>completer</td>\n",
       "      <td>442</td>\n",
       "      <td>neu</td>\n",
       "      <td>-0.3818</td>\n",
       "      <td>neg</td>\n",
       "    </tr>\n",
       "    <tr>\n",
       "      <th>1</th>\n",
       "      <td>2021-03-10</td>\n",
       "      <td>Very nice course.</td>\n",
       "      <td>5</td>\n",
       "      <td>completer</td>\n",
       "      <td>18</td>\n",
       "      <td>pos</td>\n",
       "      <td>0.4754</td>\n",
       "      <td>pos</td>\n",
       "    </tr>\n",
       "    <tr>\n",
       "      <th>2</th>\n",
       "      <td>2021-03-10</td>\n",
       "      <td>I have learned much knowledge about data scien...</td>\n",
       "      <td>5</td>\n",
       "      <td>completer</td>\n",
       "      <td>210</td>\n",
       "      <td>pos</td>\n",
       "      <td>0.8923</td>\n",
       "      <td>pos</td>\n",
       "    </tr>\n",
       "    <tr>\n",
       "      <th>3</th>\n",
       "      <td>2021-03-08</td>\n",
       "      <td>Clear Idea about the Data Science and its tools</td>\n",
       "      <td>5</td>\n",
       "      <td>completer</td>\n",
       "      <td>47</td>\n",
       "      <td>pos</td>\n",
       "      <td>0.3818</td>\n",
       "      <td>pos</td>\n",
       "    </tr>\n",
       "    <tr>\n",
       "      <th>4</th>\n",
       "      <td>2021-03-08</td>\n",
       "      <td>Nice overview, though the course materials hav...</td>\n",
       "      <td>3</td>\n",
       "      <td>completer</td>\n",
       "      <td>450</td>\n",
       "      <td>neu</td>\n",
       "      <td>0.3400</td>\n",
       "      <td>pos</td>\n",
       "    </tr>\n",
       "    <tr>\n",
       "      <th>...</th>\n",
       "      <td>...</td>\n",
       "      <td>...</td>\n",
       "      <td>...</td>\n",
       "      <td>...</td>\n",
       "      <td>...</td>\n",
       "      <td>...</td>\n",
       "      <td>...</td>\n",
       "      <td>...</td>\n",
       "    </tr>\n",
       "    <tr>\n",
       "      <th>3031</th>\n",
       "      <td>2018-09-19</td>\n",
       "      <td>Another Great class.  Really introduces you to...</td>\n",
       "      <td>5</td>\n",
       "      <td>dropout</td>\n",
       "      <td>188</td>\n",
       "      <td>pos</td>\n",
       "      <td>0.8360</td>\n",
       "      <td>pos</td>\n",
       "    </tr>\n",
       "    <tr>\n",
       "      <th>3032</th>\n",
       "      <td>2018-09-19</td>\n",
       "      <td>Great introduction to the various open source ...</td>\n",
       "      <td>5</td>\n",
       "      <td>dropout</td>\n",
       "      <td>75</td>\n",
       "      <td>pos</td>\n",
       "      <td>0.6249</td>\n",
       "      <td>pos</td>\n",
       "    </tr>\n",
       "    <tr>\n",
       "      <th>3033</th>\n",
       "      <td>2018-09-19</td>\n",
       "      <td>Simple trivial materials</td>\n",
       "      <td>3</td>\n",
       "      <td>dropout</td>\n",
       "      <td>24</td>\n",
       "      <td>neu</td>\n",
       "      <td>-0.0258</td>\n",
       "      <td>neg</td>\n",
       "    </tr>\n",
       "    <tr>\n",
       "      <th>3034</th>\n",
       "      <td>2018-09-19</td>\n",
       "      <td>Very practical course!</td>\n",
       "      <td>5</td>\n",
       "      <td>dropout</td>\n",
       "      <td>22</td>\n",
       "      <td>pos</td>\n",
       "      <td>0.0000</td>\n",
       "      <td>neu</td>\n",
       "    </tr>\n",
       "    <tr>\n",
       "      <th>3035</th>\n",
       "      <td>2018-09-18</td>\n",
       "      <td>Great Course introducing us to these tools</td>\n",
       "      <td>5</td>\n",
       "      <td>dropout</td>\n",
       "      <td>42</td>\n",
       "      <td>pos</td>\n",
       "      <td>0.6249</td>\n",
       "      <td>pos</td>\n",
       "    </tr>\n",
       "  </tbody>\n",
       "</table>\n",
       "<p>3036 rows × 8 columns</p>\n",
       "</div>"
      ],
      "text/plain": [
       "            date                                             review  rating  \\\n",
       "0     2021-03-10  Some of the lab instructions are out of synch ...       3   \n",
       "1     2021-03-10                                 Very nice course.        5   \n",
       "2     2021-03-10  I have learned much knowledge about data scien...       5   \n",
       "3     2021-03-08    Clear Idea about the Data Science and its tools       5   \n",
       "4     2021-03-08  Nice overview, though the course materials hav...       3   \n",
       "...          ...                                                ...     ...   \n",
       "3031  2018-09-19  Another Great class.  Really introduces you to...       5   \n",
       "3032  2018-09-19  Great introduction to the various open source ...       5   \n",
       "3033  2018-09-19                           Simple trivial materials       3   \n",
       "3034  2018-09-19                             Very practical course!       5   \n",
       "3035  2018-09-18         Great Course introducing us to these tools       5   \n",
       "\n",
       "         status  length label  compound sentiment  \n",
       "0     completer     442   neu   -0.3818       neg  \n",
       "1     completer      18   pos    0.4754       pos  \n",
       "2     completer     210   pos    0.8923       pos  \n",
       "3     completer      47   pos    0.3818       pos  \n",
       "4     completer     450   neu    0.3400       pos  \n",
       "...         ...     ...   ...       ...       ...  \n",
       "3031    dropout     188   pos    0.8360       pos  \n",
       "3032    dropout      75   pos    0.6249       pos  \n",
       "3033    dropout      24   neu   -0.0258       neg  \n",
       "3034    dropout      22   pos    0.0000       neu  \n",
       "3035    dropout      42   pos    0.6249       pos  \n",
       "\n",
       "[3036 rows x 8 columns]"
      ]
     },
     "execution_count": 7,
     "metadata": {},
     "output_type": "execute_result"
    }
   ],
   "source": [
    "df"
   ]
  },
  {
   "cell_type": "code",
   "execution_count": 8,
   "metadata": {},
   "outputs": [
    {
     "data": {
      "text/plain": [
       "0"
      ]
     },
     "execution_count": 8,
     "metadata": {},
     "output_type": "execute_result"
    }
   ],
   "source": [
    "# Check for null values\n",
    "\n",
    "len(df[df['review'].isna()==True])"
   ]
  },
  {
   "cell_type": "code",
   "execution_count": 9,
   "metadata": {},
   "outputs": [],
   "source": [
    "# Drop null values\n",
    "\n",
    "# df.dropna(inplace = True)"
   ]
  },
  {
   "cell_type": "code",
   "execution_count": 10,
   "metadata": {},
   "outputs": [],
   "source": [
    "# Check for null values\n",
    "\n",
    "# len(df[df['review'].isna()==True])"
   ]
  },
  {
   "cell_type": "code",
   "execution_count": 11,
   "metadata": {},
   "outputs": [],
   "source": [
    "# Reset the index\n",
    "\n",
    "# df = df.reset_index(drop = True)"
   ]
  },
  {
   "cell_type": "code",
   "execution_count": 12,
   "metadata": {},
   "outputs": [],
   "source": [
    "# df"
   ]
  },
  {
   "cell_type": "code",
   "execution_count": 13,
   "metadata": {},
   "outputs": [],
   "source": [
    "# Define a function to plot the most frequent words\n",
    "\n",
    "def freq_words(x, terms = 30):\n",
    "    all_words = ' '.join([text for text in x])\n",
    "    all_words = all_words.split()\n",
    "\n",
    "    fdist = FreqDist(all_words)\n",
    "    words_df = pd.DataFrame({'word':list(fdist.keys()), 'count':list(fdist.values())})\n",
    "    \n",
    "    # selecting top 20 most frequent words\n",
    "    d = words_df.nlargest(columns=\"count\", n = terms) \n",
    "    plt.figure(figsize=(20,5))\n",
    "    ax = sns.barplot(data=d, x= \"word\", y = \"count\")\n",
    "    ax.set(ylabel = 'Count')\n",
    "    plt.xticks(rotation = 45)\n",
    "    plt.show()"
   ]
  },
  {
   "cell_type": "code",
   "execution_count": 14,
   "metadata": {},
   "outputs": [
    {
     "data": {
      "image/png": "[encoded data removed]",
      "text/plain": [
       "<Figure size 1440x360 with 1 Axes>"
      ]
     },
     "metadata": {
      "needs_background": "light"
     },
     "output_type": "display_data"
    }
   ],
   "source": [
    "# The most frquent words are stop words such as 'to' and 'the' we will remove these in the preprocessing steps\n",
    "\n",
    "freq_words(df['review'])"
   ]
  },
  {
   "cell_type": "markdown",
   "metadata": {},
   "source": [
    "## Preprocessing"
   ]
  },
  {
   "cell_type": "code",
   "execution_count": 15,
   "metadata": {},
   "outputs": [
    {
     "data": {
      "text/plain": [
       "0    some of the lab instructions are out of synch ...\n",
       "1                                    very nice course.\n",
       "2    i have learned much knowledge about data scien...\n",
       "3      clear idea about the data science and its tools\n",
       "4    nice overview, though the course materials hav...\n",
       "Name: preprocessed, dtype: object"
      ]
     },
     "execution_count": 15,
     "metadata": {},
     "output_type": "execute_result"
    }
   ],
   "source": [
    "# Covert to lowercase\n",
    "\n",
    "df['preprocessed'] =  df['review'].apply(lambda x: \" \".join(x.lower() for x in x.split()))\n",
    "df['preprocessed'].head()"
   ]
  },
  {
   "cell_type": "code",
   "execution_count": 16,
   "metadata": {},
   "outputs": [
    {
     "data": {
      "text/plain": [
       "0    some of the lab instructions are out of synch ...\n",
       "1                                     very nice course\n",
       "2    i have learned much knowledge about data scien...\n",
       "3      clear idea about the data science and its tools\n",
       "4    nice overview though the course materials have...\n",
       "Name: preprocessed, dtype: object"
      ]
     },
     "execution_count": 16,
     "metadata": {},
     "output_type": "execute_result"
    }
   ],
   "source": [
    "# Remove punctuations\n",
    "\n",
    "df['preprocessed'] = df['preprocessed'].str.replace('[^\\w\\s]','')\n",
    "df['preprocessed'].head()"
   ]
  },
  {
   "cell_type": "code",
   "execution_count": 17,
   "metadata": {},
   "outputs": [
    {
     "data": {
      "text/plain": [
       "0    lab instructions synch screenshots also extern...\n",
       "1                                               course\n",
       "2    learned much knowledge data science many tools...\n",
       "3                        clear idea data science tools\n",
       "4    overview though course materials updated detai...\n",
       "Name: preprocessed, dtype: object"
      ]
     },
     "execution_count": 17,
     "metadata": {},
     "output_type": "execute_result"
    }
   ],
   "source": [
    "# Remove stopwords\n",
    "\n",
    "stop = stopwords.words('english')\n",
    "stop.extend(['good', 'great', 'really', 'like', 'nice'])\n",
    "\n",
    "df['preprocessed'] = df['preprocessed'].apply(lambda x: \" \".join(x for x in x.split() if x not in stop))\n",
    "df['preprocessed'].head()"
   ]
  },
  {
   "cell_type": "code",
   "execution_count": 18,
   "metadata": {},
   "outputs": [],
   "source": [
    "# Remove short words (length < 3)\n",
    "\n",
    "# df['review'] = df['review'].apply(lambda x: ' '.join([w for w in x.split() if len(w)>2]))\n",
    "# df['review'].head()"
   ]
  },
  {
   "cell_type": "code",
   "execution_count": 19,
   "metadata": {},
   "outputs": [
    {
     "data": {
      "image/png": "[encoded data removed]",
      "text/plain": [
       "<Figure size 1440x360 with 1 Axes>"
      ]
     },
     "metadata": {
      "needs_background": "light"
     },
     "output_type": "display_data"
    }
   ],
   "source": [
    "# Look at the most frequent words again \n",
    "\n",
    "freq_words(df['preprocessed'])"
   ]
  },
  {
   "cell_type": "code",
   "execution_count": 20,
   "metadata": {},
   "outputs": [
    {
     "data": {
      "text/plain": [
       "0    [lab, instructions, synch, screenshots, also, ...\n",
       "1                                             [course]\n",
       "2    [learned, much, knowledge, data, science, many...\n",
       "3                  [clear, idea, data, science, tools]\n",
       "4    [overview, though, course, materials, updated,...\n",
       "Name: preprocessed, dtype: object"
      ]
     },
     "execution_count": 20,
     "metadata": {},
     "output_type": "execute_result"
    }
   ],
   "source": [
    "# Tokenization\n",
    "\n",
    "tokenizer = RegexpTokenizer(r'\\w+')\n",
    "\n",
    "df['preprocessed'] = df['preprocessed'].apply(lambda x: tokenizer.tokenize(x.lower()))\n",
    "df['preprocessed'].head(5)\n"
   ]
  },
  {
   "cell_type": "code",
   "execution_count": 21,
   "metadata": {},
   "outputs": [
    {
     "data": {
      "text/plain": [
       "0    [(lab, NN), (instructions, NNS), (synch, VBP),...\n",
       "1                                       [(course, NN)]\n",
       "2    [(learned, VBN), (much, JJ), (knowledge, NN), ...\n",
       "3    [(clear, JJ), (idea, NN), (data, NNS), (scienc...\n",
       "4    [(overview, NN), (though, IN), (course, NN), (...\n",
       "Name: preprocessed, dtype: object"
      ]
     },
     "execution_count": 21,
     "metadata": {},
     "output_type": "execute_result"
    }
   ],
   "source": [
    "# Add speech tags\n",
    "\n",
    "df['preprocessed'] = df['preprocessed'].apply(nltk.tag.pos_tag)\n",
    "df['preprocessed'].head()"
   ]
  },
  {
   "cell_type": "code",
   "execution_count": 22,
   "metadata": {},
   "outputs": [],
   "source": [
    "# Define function to convert parts of speech tags to wordnet’s format\n",
    "\n",
    "def get_wordnet_pos(tag):\n",
    "    if tag.startswith('J'):\n",
    "        return wordnet.ADJ\n",
    "    elif tag.startswith('V'):\n",
    "        return wordnet.VERB\n",
    "    elif tag.startswith('N'):\n",
    "        return wordnet.NOUN\n",
    "    elif tag.startswith('R'):\n",
    "        return wordnet.ADV\n",
    "    else:\n",
    "        return wordnet.NOUN"
   ]
  },
  {
   "cell_type": "code",
   "execution_count": 23,
   "metadata": {},
   "outputs": [
    {
     "data": {
      "text/plain": [
       "0    [(lab, n), (instructions, n), (synch, v), (scr...\n",
       "1                                        [(course, n)]\n",
       "2    [(learned, v), (much, a), (knowledge, n), (dat...\n",
       "3    [(clear, a), (idea, n), (data, n), (science, n...\n",
       "4    [(overview, n), (though, n), (course, n), (mat...\n",
       "Name: preprocessed, dtype: object"
      ]
     },
     "execution_count": 23,
     "metadata": {},
     "output_type": "execute_result"
    }
   ],
   "source": [
    "# Apply the function to the tagged data\n",
    "\n",
    "df['preprocessed'] = df['preprocessed'].apply(lambda x: [(word, get_wordnet_pos(pos_tag)) for (word, pos_tag) in x])\n",
    "df['preprocessed'].head()"
   ]
  },
  {
   "cell_type": "code",
   "execution_count": 24,
   "metadata": {},
   "outputs": [
    {
     "data": {
      "text/plain": [
       "0    [lab, instruction, synch, screenshots, also, e...\n",
       "1                                             [course]\n",
       "2    [learn, much, knowledge, data, science, many, ...\n",
       "3                   [clear, idea, data, science, tool]\n",
       "4    [overview, though, course, material, update, d...\n",
       "Name: preprocessed, dtype: object"
      ]
     },
     "execution_count": 24,
     "metadata": {},
     "output_type": "execute_result"
    }
   ],
   "source": [
    "# Create lemmatizer\n",
    "\n",
    "lemmatizer = WordNetLemmatizer()\n",
    "\n",
    "# Apply to data \n",
    "\n",
    "df['preprocessed'] = df['preprocessed'].apply(lambda x: [lemmatizer.lemmatize(word, tag) for word, tag in x])\n",
    "df['preprocessed'].head()"
   ]
  },
  {
   "cell_type": "code",
   "execution_count": 25,
   "metadata": {},
   "outputs": [],
   "source": [
    "# Join reviews\n",
    "\n",
    "df['joined'] = df['preprocessed'].apply(lambda x: ' '.join(x))"
   ]
  },
  {
   "cell_type": "code",
   "execution_count": 26,
   "metadata": {},
   "outputs": [
    {
     "data": {
      "image/png": "[encoded data removed]",
      "text/plain": [
       "<Figure size 1440x360 with 1 Axes>"
      ]
     },
     "metadata": {
      "needs_background": "light"
     },
     "output_type": "display_data"
    }
   ],
   "source": [
    "# Most frequent words after lemmatizing \n",
    "\n",
    "freq_words(df['joined'], 35)"
   ]
  },
  {
   "cell_type": "markdown",
   "metadata": {},
   "source": [
    "## LDA Topic Modeling"
   ]
  },
  {
   "cell_type": "code",
   "execution_count": 27,
   "metadata": {},
   "outputs": [],
   "source": [
    "# Create a dictionary from 'df_sen['review']' containing the number of times a word appears in the training set\n",
    "\n",
    "dictionary = gensim.corpora.Dictionary(df['preprocessed'])"
   ]
  },
  {
   "cell_type": "code",
   "execution_count": 28,
   "metadata": {},
   "outputs": [],
   "source": [
    "# Gensim filter extremes\n",
    "\n",
    "# Filter out tokens that appear in:\n",
    "# Less than 50 documents, more than 0.5 documents, and keep only 100000 most frquent tokens\n",
    "\n",
    "# dictionary.filter_extremes(no_below = 50, no_above = 0.5, keep_n = 100000)"
   ]
  },
  {
   "cell_type": "code",
   "execution_count": 29,
   "metadata": {},
   "outputs": [],
   "source": [
    "# Gensim doc2bow\n",
    "# Create a dictionary reporting how many words and how many times those words appear\n",
    "\n",
    "corpus = [dictionary.doc2bow(doc) for doc in df['preprocessed']]\n"
   ]
  },
  {
   "cell_type": "code",
   "execution_count": 30,
   "metadata": {},
   "outputs": [],
   "source": [
    "# Add TF-IDF\n",
    "\n",
    "tfidf = models.TfidfModel(corpus)      # Create a TF-IDF model\n",
    "corpus_tfidf = tfidf[corpus]  "
   ]
  },
  {
   "cell_type": "code",
   "execution_count": 31,
   "metadata": {},
   "outputs": [],
   "source": [
    "# Creating the object for LDA model using gensim library\n",
    "LDA = gensim.models.LdaMulticore\n",
    "\n",
    "# Build LDA model\n",
    "lda_model = LDA(corpus = corpus, id2word = dictionary, num_topics = 5, random_state = 100,\n",
    "                chunksize = 100, passes = 10)"
   ]
  },
  {
   "cell_type": "code",
   "execution_count": 32,
   "metadata": {},
   "outputs": [
    {
     "name": "stdout",
     "output_type": "stream",
     "text": [
      "Topic: 0\n",
      "Word: 0.091*\"course\" + 0.023*\"excellent\" + 0.015*\"thanks\" + 0.011*\"best\" + 0.010*\"helpful\" + 0.010*\"help\" + 0.009*\"material\" + 0.008*\"learn\" + 0.007*\"knowledge\" + 0.007*\"one\"\n",
      "\n",
      "Topic: 1\n",
      "Word: 0.042*\"course\" + 0.034*\"tool\" + 0.024*\"ibm\" + 0.022*\"data\" + 0.021*\"learn\" + 0.015*\"science\" + 0.015*\"notebook\" + 0.014*\"use\" + 0.014*\"jupyter\" + 0.013*\"watson\"\n",
      "\n",
      "Topic: 2\n",
      "Word: 0.050*\"course\" + 0.022*\"easy\" + 0.017*\"well\" + 0.015*\"awesome\" + 0.015*\"content\" + 0.013*\"information\" + 0.012*\"follow\" + 0.011*\"beginner\" + 0.011*\"need\" + 0.010*\"week\"\n",
      "\n",
      "Topic: 3\n",
      "Word: 0.083*\"tool\" + 0.055*\"data\" + 0.044*\"science\" + 0.044*\"course\" + 0.023*\"use\" + 0.023*\"open\" + 0.022*\"source\" + 0.021*\"introduction\" + 0.014*\"learn\" + 0.011*\"overview\"\n",
      "\n",
      "Topic: 4\n",
      "Word: 0.041*\"ibm\" + 0.038*\"watson\" + 0.037*\"video\" + 0.031*\"course\" + 0.026*\"studio\" + 0.025*\"update\" + 0.014*\"outdated\" + 0.014*\"need\" + 0.012*\"time\" + 0.010*\"content\"\n",
      "\n"
     ]
    }
   ],
   "source": [
    "# Explore the words occurring in each topic and its relative weight\n",
    "\n",
    "for id, topic in lda_model.print_topics(-1):\n",
    "    print('Topic: {}\\nWord: {}\\n'.format(id, topic))"
   ]
  },
  {
   "cell_type": "markdown",
   "metadata": {},
   "source": [
    "### Visualise with pyLDAvis\n",
    "\n",
    "Original paper: https://nlp.stanford.edu/events/illvi2014/papers/sievert-illvi2014.pdf"
   ]
  },
  {
   "cell_type": "code",
   "execution_count": 33,
   "metadata": {
    "scrolled": false
   },
   "outputs": [
    {
     "data": {
      "text/html": [
       "\n",
       "<link rel=\"stylesheet\" type=\"text/css\" href=\"https://cdn.jsdelivr.net/gh/bmabey/pyLDAvis@3.2.2/pyLDAvis/js/ldavis.v1.0.0.css\">\n",
       "\n",
       "\n",
       "<div id=\"ldavis_el370181402725692201764588830039\"></div>\n",
       "<script type=\"text/javascript\">\n",
       "\n",
       "var ldavis_el370181402725692201764588830039_data = {\"mdsDat\": {\"x\": [-0.05447043193380618, 0.17125479681269914, 0.11142128975588382, -0.11108373476936273, -0.11712191986541427], \"y\": [0.19873013981407997, -0.06818624839017971, 0.03312396976326968, -0.05923483335756278, -0.10443302782960748], \"topics\": [1, 2, 3, 4, 5], \"cluster\": [1, 1, 1, 1, 1], \"Freq\": [31.9985560256524, 26.573082658573544, 22.137079549778246, 9.81608931278896, 9.475192453206844]}, \"tinfo\": {\"Term\": [\"tool\", \"course\", \"data\", \"science\", \"watson\", \"update\", \"video\", \"introduction\", \"studio\", \"open\", \"ibm\", \"source\", \"excellent\", \"easy\", \"well\", \"content\", \"use\", \"jupyter\", \"outdated\", \"follow\", \"thanks\", \"awesome\", \"overview\", \"notebook\", \"available\", \"information\", \"beginner\", \"problem\", \"best\", \"learn\", \"update\", \"problem\", \"account\", \"figure\", \"updated\", \"reflect\", \"sign\", \"site\", \"match\", \"small\", \"cool\", \"ui\", \"difficulty\", \"5\", \"comment\", \"late\", \"check\", \"super\", \"old\", \"solve\", \"dsx\", \"month\", \"interface\", \"version\", \"anymore\", \"change\", \"slow\", \"link\", \"promo\", \"minor\", \"current\", \"video\", \"website\", \"please\", \"last\", \"screen\", \"watson\", \"outdated\", \"hour\", \"studio\", \"issue\", \"ibm\", \"time\", \"show\", \"confusion\", \"instruction\", \"need\", \"forum\", \"create\", \"date\", \"videos\", \"material\", \"tutorial\", \"make\", \"content\", \"course\", \"cloud\", \"work\", \"lot\", \"take\", \"different\", \"follow\", \"would\", \"use\", \"experience\", \"get\", \"introduction\", \"computer\", \"build\", \"overview\", \"gentle\", \"apache\", \"confidence\", \"detailed\", \"view\", \"kind\", \"fast\", \"available\", \"instance\", \"indeed\", \"plan\", \"familiar\", \"codeacademy\", \"familiarize\", \"variety\", \"invest\", \"brief\", \"apply\", \"scenario\", \"download\", \"terminology\", \"introduces\", \"generate\", \"approach\", \"accomplish\", \"wellorganized\", \"require\", \"source\", \"open\", \"practice\", \"science\", \"data\", \"tool\", \"various\", \"stuff\", \"popular\", \"use\", \"start\", \"provide\", \"basic\", \"scientist\", \"useful\", \"get\", \"program\", \"course\", \"online\", \"introduce\", \"give\", \"learn\", \"informative\", \"different\", \"explanation\", \"understand\", \"lot\", \"know\", \"information\", \"work\", \"one\", \"would\", \"r\", \"option\", \"wonderful\", \"explore\", \"excite\", \"python\", \"fact\", \"clip\", \"scala\", \"bite\", \"aware\", \"fit\", \"absolutely\", \"discrepancy\", \"truly\", \"upgraded\", \"ds\", \"eg\", \"except\", \"surface\", \"another\", \"integrate\", \"sync\", \"quickly\", \"demo\", \"cause\", \"straight\", \"ides\", \"form\", \"upload\", \"thank\", \"fun\", \"jupyter\", \"taught\", \"thats\", \"guide\", \"notebook\", \"ide\", \"zeppelin\", \"notebooks\", \"github\", \"step\", \"learn\", \"rstudio\", \"know\", \"new\", \"introductory\", \"amaze\", \"tool\", \"course\", \"ibm\", \"experience\", \"data\", \"quality\", \"use\", \"much\", \"free\", \"science\", \"one\", \"class\", \"studio\", \"watson\", \"beginner\", \"basic\", \"get\", \"give\", \"thing\", \"would\", \"lot\", \"open\", \"source\", \"content\", \"start\", \"engage\", \"organize\", \"subject\", \"compare\", \"turn\", \"market\", \"indepth\", \"awesome\", \"none\", \"novice\", \"needed\", \"datascience\", \"surprise\", \"lecturer\", \"courser\", \"insightful\", \"revisit\", \"mostly\", \"improvement\", \"incredible\", \"excelente\", \"clean\", \"laid\", \"possibly\", \"gradual\", \"exceptional\", \"exp\", \"team\", \"associate\", \"express\", \"extremely\", \"poorly\", \"less\", \"perfect\", \"easy\", \"amazing\", \"lesson\", \"starter\", \"prior\", \"support\", \"love\", \"well\", \"expect\", \"follow\", \"information\", \"hard\", \"enjoy\", \"train\", \"structure\", \"beginner\", \"content\", \"course\", \"informative\", \"week\", \"understand\", \"practical\", \"explain\", \"much\", \"need\", \"class\", \"would\", \"little\", \"instruction\", \"instructor\", \"outdated\", \"lot\", \"answer\", \"value\", \"understandable\", \"elaborate\", \"sort\", \"board\", \"objective\", \"confused\", \"motivate\", \"teaching\", \"overcome\", \"jupiter\", \"unable\", \"stuck\", \"brilliant\", \"contain\", \"pleasure\", \"respect\", \"unacceptable\", \"dollar\", \"financial\", \"begineers\", \"intermediate\", \"newer\", \"feebased\", \"rise\", \"approve\", \"possiblehappy\", \"complaint\", \"calm\", \"excellent\", \"acquaint\", \"thanks\", \"best\", \"ever\", \"life\", \"useless\", \"move\", \"learning\", \"right\", \"course\", \"challenge\", \"topic\", \"helpful\", \"question\", \"worth\", \"help\", \"clear\", \"knowledge\", \"quiz\", \"material\", \"coursera\", \"take\", \"dont\", \"feel\", \"interesting\", \"instructor\", \"detail\", \"beginner\", \"one\", \"could\", \"learn\", \"find\", \"content\", \"date\", \"many\", \"little\"], \"Freq\": [1062.0, 1510.0, 672.0, 517.0, 511.0, 277.0, 453.0, 197.0, 360.0, 252.0, 662.0, 239.0, 94.0, 117.0, 140.0, 209.0, 383.0, 127.0, 184.0, 101.0, 69.0, 55.0, 104.0, 162.0, 99.0, 114.0, 129.0, 87.0, 52.0, 365.0, 274.1041987118779, 86.11171722870989, 51.13338313401519, 43.16853634895425, 45.274751777409136, 25.064687522768264, 24.624093348714112, 22.447954116409093, 54.54567081984432, 16.41301012314021, 16.29601105606703, 17.15428649790685, 15.015290026906234, 23.326052913729995, 18.121474915359524, 17.88918688796027, 13.088846572821796, 13.12843396642816, 48.2771439139197, 12.464801486265955, 11.653920611713408, 11.604295964262192, 57.02290495020965, 93.33398644339071, 11.0365367380072, 68.54750489177087, 9.988098056924358, 30.547607795998374, 10.003175392905435, 10.919372339580606, 45.592819011657745, 398.3671631628009, 47.06935672889823, 44.7001710552367, 28.204731262742946, 21.77761246468405, 412.2488581340109, 155.75564412515902, 24.363942571015254, 277.09225876556917, 36.47567579689413, 440.2169661540953, 126.63591109735677, 57.2598008002906, 24.326754375140442, 80.78466024924708, 155.33977645397528, 37.663630791934715, 53.676255073755975, 47.33102451641999, 72.80484529738116, 85.25591166060003, 62.713519265465614, 82.08685037499467, 104.14146731885427, 340.5591639808852, 64.19868450279706, 82.42591342905504, 93.58473478915896, 56.26861535723677, 56.81507208032978, 55.16462597244362, 60.128095326399674, 68.00848934165275, 58.34598993005699, 55.405974410424065, 192.86920409603715, 18.790281470787082, 13.879064195213584, 98.60876960739701, 11.93355575386601, 11.62566998103916, 11.691828094737538, 11.565009060223693, 11.303288178705438, 11.276294813081153, 12.950642293540334, 92.07581125791761, 8.503748113634435, 8.109416493527794, 7.106123768063575, 17.546040859598566, 6.441512100437098, 6.252927466118542, 6.1091625091781285, 6.163876609704246, 22.39034854629789, 10.925686051982407, 6.44829738675244, 5.993955705083009, 6.363241820951997, 13.91877709045217, 5.2526511221828285, 5.137054955426888, 5.083305614871927, 4.7752222784877025, 35.807580413982336, 196.54718562701328, 206.57639638099528, 48.48204247938618, 399.9012732235181, 492.9668433171579, 742.7902776209561, 52.371388718524535, 17.578264157059976, 11.615805428243362, 206.83774624129703, 55.878268679906576, 49.00945857138589, 69.68917921227992, 51.04914875718557, 60.34121791208643, 90.96719986301105, 39.183705790941026, 391.65599955575755, 25.33730089552237, 33.58890498177918, 73.27816595925724, 126.83349805279362, 37.326889237740374, 43.92939415174569, 31.091485711565067, 43.39917758321916, 58.55105102329188, 42.22462083536832, 38.308317913494314, 43.56058648555278, 41.44166964495711, 38.630661984856864, 56.13474472554519, 23.23321848990071, 23.58191811742175, 20.436636510796458, 18.10116484960922, 42.27402620916996, 14.073729204726368, 11.112802492417474, 10.781037024716781, 11.86715361014382, 10.64510972382319, 10.476071098213593, 10.149302495511705, 9.40850569060057, 8.795010635416995, 8.574037966998743, 8.0560089649524, 7.631168919430169, 7.481052547578062, 6.977086887229388, 14.111771910451152, 6.544155639899726, 6.486944460614959, 6.380140509444879, 6.23450062315085, 19.358600649738445, 6.009511166784492, 5.958136793810578, 6.078829462704928, 5.787750944246211, 55.29990243352042, 23.438272436903933, 105.17740219993951, 11.030208845479331, 9.5286103132645, 13.176649182342548, 111.20355677762863, 16.847074844810315, 51.59369719202312, 27.882597497800173, 14.901961106238126, 33.461718196067956, 161.15321466233556, 30.242818614737214, 59.74415589858757, 63.80197698796167, 24.111116068806677, 23.0565776096092, 256.8279434477795, 317.85362976234586, 178.1013932952643, 63.427457459733894, 165.47114863752552, 20.86655549458499, 106.9436608262375, 55.673894597348536, 30.351134372956995, 113.0306055015462, 57.80036057101454, 30.706609410645903, 82.80829472624494, 97.76360171011665, 44.187992269607015, 40.6161881154758, 48.526737929946634, 42.96987131084879, 33.91910378463238, 42.749862566763696, 46.24175529818818, 45.554047673669736, 42.5987883824175, 36.012771883614626, 34.09049372204379, 10.751732880238874, 17.914643787158948, 10.541660656068656, 10.014948485165297, 8.360202100064265, 7.199938248395482, 7.329192080047813, 50.493239115270676, 6.664274906044462, 5.701901632420068, 5.228266965774743, 5.170039053481751, 5.168957324544693, 4.335769355005751, 4.228191141202417, 4.284457306707982, 4.230719692271823, 4.81958752781837, 5.20515033321432, 4.096003787661724, 3.9725627971908466, 3.9847854824245266, 3.804973018548699, 3.916180483266842, 3.56455973019118, 3.564393250791418, 3.560830591636514, 3.813285373694949, 3.5430490430963664, 3.5430490430963664, 9.710340740259598, 14.25608475476408, 10.206755983374665, 13.330511946037745, 73.81471722103453, 16.20550587202595, 23.872631775520627, 5.657138806276653, 10.14272258596672, 18.235727572381546, 26.751452404734984, 56.670002715957565, 17.111407784605536, 40.23944611971957, 42.61920641916962, 23.21097759775261, 19.450251319208064, 8.714447033073847, 13.787785172139031, 36.938662932254815, 49.76896545350851, 167.4424838638205, 25.467597343974145, 31.799420631922036, 29.62131566791936, 19.80556636631286, 22.823828592122183, 28.09682895977434, 36.57781612314119, 17.413043678644787, 24.96471495692042, 17.85005132869692, 18.452033095007966, 16.378704844955887, 19.498719279899667, 18.252976386842455, 16.810299105799025, 9.865641783656056, 7.06123202004913, 6.2475172041510545, 6.106799711185255, 5.767699987002558, 5.870314153466225, 7.1716583438442525, 5.265694882706825, 5.140031787644921, 5.1039319521231725, 5.063109842393603, 4.774788767149462, 4.726809250358467, 4.427349572489754, 4.410055121435995, 4.412769793788449, 4.0235869059711495, 4.009337865848027, 4.025710359757857, 7.003478711127942, 3.879827365517882, 3.693198499593478, 3.640071046175961, 3.286825053744719, 3.28679889363119, 3.286791045597132, 3.286791045597132, 3.382933199973822, 3.2860761270659857, 73.9888434252188, 3.592298194281842, 46.89881708844673, 35.8372208689217, 8.458538607452315, 13.577541400979316, 17.994186255013165, 7.432536712565074, 14.796115365868753, 11.446118496259256, 293.1537361618705, 15.566103178287861, 11.698929833399673, 32.11884027032968, 20.033208649022942, 10.25945762757927, 30.936453964200265, 18.740154598622127, 23.301082195379816, 13.620406615575469, 28.741716110422836, 19.714780272834638, 19.611402978487753, 16.157768708259713, 15.206618372495955, 11.334325867106125, 15.421845848245736, 12.022261362295051, 19.134365086543717, 21.06236096901084, 17.465562114054357, 24.83287792643355, 15.546326132460239, 18.9683231088186, 13.794411731858693, 14.84067725068519, 12.948425052479918], \"Total\": [1062.0, 1510.0, 672.0, 517.0, 511.0, 277.0, 453.0, 197.0, 360.0, 252.0, 662.0, 239.0, 94.0, 117.0, 140.0, 209.0, 383.0, 127.0, 184.0, 101.0, 69.0, 55.0, 104.0, 162.0, 99.0, 114.0, 129.0, 87.0, 52.0, 365.0, 277.0460040960736, 87.65961264746565, 52.21842096263448, 44.21575407173686, 46.59439795823956, 25.812293945367163, 25.376738725995367, 23.294025318729734, 56.64433157672631, 17.17266789890936, 17.05900141016505, 18.06064874552538, 15.833214008118176, 24.60442802182991, 19.158085771190457, 18.916154867336274, 13.848128759677133, 13.902635582592326, 51.124144481406724, 13.226263101965827, 12.40149239447598, 12.363927626211215, 60.960083083702045, 99.84827152154404, 11.826048139331252, 73.57997521240974, 10.734941816556185, 32.93661604850932, 10.789292405819996, 11.789944520215574, 49.24584753976121, 453.66824826968053, 51.76687896500636, 49.697920708135996, 30.9953762105869, 23.74683768633955, 511.65354863005047, 184.91848958831034, 26.737558206649098, 360.9306969045463, 41.2290191541934, 662.5849533999926, 172.61959660203328, 71.92338894618668, 26.96588734062207, 109.99596071474684, 261.5456069546429, 46.065031993094024, 73.22556373169681, 62.10464438057851, 109.76139936676111, 143.90746410507586, 93.90330717623868, 137.2675787214093, 209.56603071132287, 1510.6650133246796, 106.07808196463643, 172.19934416068963, 223.46120342673026, 98.89777043235995, 105.18817107930556, 101.17617463956196, 171.32073660292738, 383.99367872069166, 154.33693597818194, 200.1145819152318, 197.8347043837543, 19.706541394777947, 14.73832263277259, 104.760825502966, 12.68604642263128, 12.377597833196967, 12.450194263549589, 12.320389337390287, 12.04678650235735, 12.028263184326034, 13.841364640629351, 99.41164751741202, 9.275916766553088, 8.856399211817008, 7.863673475860271, 19.498695783479917, 7.186605093514566, 7.01329829532589, 6.8595725460871675, 6.922451435324313, 25.149483628463617, 12.29675265945299, 7.313795498647562, 6.802727485541402, 7.230257872830474, 15.82396831241561, 6.014724453300509, 5.916992303944594, 5.869576647303752, 5.516723073891249, 41.46726864862602, 239.74206225336974, 252.85175007535554, 58.36283201132695, 517.1141975517681, 672.7540245660019, 1062.4891262024562, 67.66078582412949, 21.632444744659615, 13.988001630049714, 383.99367872069166, 90.7740403029467, 80.40816422928802, 124.71663706051461, 84.94768489598859, 109.06733114341414, 200.1145819152318, 64.23177377988294, 1510.6650133246796, 36.38977013723499, 53.85336857126146, 162.2234089423751, 365.39523927061106, 73.77517142280031, 105.18817107930556, 57.964942103502295, 110.09289919828487, 223.46120342673026, 113.45020101133139, 114.86383906592336, 172.19934416068963, 169.80623886738073, 171.32073660292738, 57.90084475582427, 23.98423662770588, 24.431323134555473, 21.18541074178899, 18.90178157397642, 44.20292739368811, 14.817294118711654, 11.844940345832379, 11.51881255681644, 12.682447699944012, 11.39126705860634, 11.222120038043329, 10.899271710455313, 10.160477494669191, 9.527525239080873, 9.321637370828771, 8.803390819476332, 8.374841586620676, 8.230121045354997, 7.712820866125016, 15.601759959613261, 7.280336045032983, 7.2456410004454455, 7.138025297767967, 6.981325017569143, 21.71226940678001, 6.744851347592067, 6.688369399213736, 6.8693918852735365, 6.5630142862574345, 63.17310846894692, 27.107441409964522, 127.10437377619118, 12.660310283527886, 10.983357944779332, 15.639044862186106, 162.10704663675608, 20.45138525554649, 73.91038172408425, 39.22725580190762, 18.774794166646593, 50.72633688232127, 365.39523927061106, 46.51261992625594, 113.45020101133139, 123.83365159131426, 36.01809116325342, 33.9929056755923, 1062.4891262024562, 1510.6650133246796, 662.5849533999926, 154.33693597818194, 672.7540245660019, 30.728993893187052, 383.99367872069166, 140.40612942183728, 54.74608610993874, 517.1141975517681, 169.80623886738073, 57.020751673425686, 360.9306969045463, 511.65354863005047, 129.11210272345235, 124.71663706051461, 200.1145819152318, 162.2234089423751, 78.01490139080842, 171.32073660292738, 223.46120342673026, 252.85175007535554, 239.74206225336974, 209.56603071132287, 90.7740403029467, 11.487940414288635, 19.243831392202054, 11.341978345751414, 10.845975262416259, 9.129014587167976, 7.942960944193804, 8.088735942151, 55.809279724297454, 7.40958361184232, 6.44651362679997, 5.96476030782206, 5.91014509030658, 5.91362434146057, 5.080655838346203, 4.9609761710053, 5.029321701095638, 4.9679217970279845, 5.67228233661865, 6.130980913853823, 4.83312223874912, 4.708231833199559, 4.7262780201853065, 4.5538000730498, 4.717567616168491, 4.2968541682073305, 4.296707999578556, 4.296025105208796, 4.620008580702973, 4.294785244247898, 4.294785244247898, 11.834834415570853, 17.759058019899687, 12.73971672499352, 16.991859407626766, 117.92974631203762, 22.498146019275055, 37.45865277640094, 7.189470382924922, 14.544324095891044, 30.07234374143741, 52.08337964419023, 140.22033827480368, 31.33021377912127, 101.17617463956196, 114.86383906592336, 50.0294773690152, 41.940065194592506, 13.377918653950852, 27.33649719377997, 129.11210272345235, 209.56603071132287, 1510.6650133246796, 73.77517142280031, 115.63902509985834, 110.09289919828487, 53.48929386077001, 77.83390212058714, 140.40612942183728, 261.5456069546429, 57.020751673425686, 171.32073660292738, 78.53321324146812, 109.99596071474684, 67.4984424777209, 184.91848958831034, 223.46120342673026, 17.791058336518983, 10.698941738334959, 7.821277855530524, 7.015315618669901, 6.900929788440903, 6.52341505745344, 6.687103255902716, 8.172387797801303, 6.039466207986566, 5.919631740510355, 5.884396671072748, 5.858056384916141, 5.526879613674657, 5.521385548192324, 5.1752091003492495, 5.166232638061293, 5.175516294617888, 4.770832649547056, 4.761170542260773, 4.782596056267716, 8.344154274321992, 4.646252674347931, 4.452265446994822, 4.428078288304262, 4.0339065361527835, 4.033884128362927, 4.033988581259958, 4.033988581259958, 4.152777534203389, 4.033948815107481, 94.2682172737969, 4.432809460414759, 69.57608124618939, 52.78421831703315, 11.552004015079753, 21.073664104641207, 30.44883188010585, 10.7067383326382, 25.555698300078916, 18.466321875285843, 1510.6650133246796, 29.076736995561134, 20.51920645162373, 81.89155998209242, 43.8275218134858, 17.632332002421116, 101.76000126300539, 54.651424596478925, 84.3523000776532, 35.47824494931522, 143.90746410507586, 75.80922073404602, 98.89777043235995, 67.43631798142124, 58.80996914356942, 30.965725066609068, 67.4984424777209, 36.217119188022565, 129.11210272345235, 169.80623886738073, 102.99200226591398, 365.39523927061106, 85.77616729845145, 209.56603071132287, 62.10464438057851, 102.35424224367782, 78.53321324146812], \"Category\": [\"Default\", \"Default\", \"Default\", \"Default\", \"Default\", \"Default\", \"Default\", \"Default\", \"Default\", \"Default\", \"Default\", \"Default\", \"Default\", \"Default\", \"Default\", \"Default\", \"Default\", \"Default\", \"Default\", \"Default\", \"Default\", \"Default\", \"Default\", \"Default\", \"Default\", \"Default\", \"Default\", \"Default\", \"Default\", \"Default\", \"Topic1\", \"Topic1\", \"Topic1\", \"Topic1\", \"Topic1\", \"Topic1\", \"Topic1\", \"Topic1\", \"Topic1\", \"Topic1\", \"Topic1\", \"Topic1\", \"Topic1\", \"Topic1\", \"Topic1\", \"Topic1\", \"Topic1\", \"Topic1\", \"Topic1\", \"Topic1\", \"Topic1\", \"Topic1\", \"Topic1\", \"Topic1\", \"Topic1\", \"Topic1\", \"Topic1\", \"Topic1\", \"Topic1\", \"Topic1\", \"Topic1\", \"Topic1\", \"Topic1\", \"Topic1\", \"Topic1\", \"Topic1\", \"Topic1\", \"Topic1\", \"Topic1\", \"Topic1\", \"Topic1\", \"Topic1\", \"Topic1\", \"Topic1\", \"Topic1\", \"Topic1\", \"Topic1\", \"Topic1\", \"Topic1\", \"Topic1\", \"Topic1\", \"Topic1\", \"Topic1\", \"Topic1\", \"Topic1\", \"Topic1\", \"Topic1\", \"Topic1\", \"Topic1\", \"Topic1\", \"Topic1\", \"Topic1\", \"Topic1\", \"Topic1\", \"Topic1\", \"Topic1\", \"Topic2\", \"Topic2\", \"Topic2\", \"Topic2\", \"Topic2\", \"Topic2\", \"Topic2\", \"Topic2\", \"Topic2\", \"Topic2\", \"Topic2\", \"Topic2\", \"Topic2\", \"Topic2\", \"Topic2\", \"Topic2\", \"Topic2\", \"Topic2\", \"Topic2\", \"Topic2\", \"Topic2\", \"Topic2\", \"Topic2\", \"Topic2\", \"Topic2\", \"Topic2\", \"Topic2\", \"Topic2\", \"Topic2\", \"Topic2\", \"Topic2\", \"Topic2\", \"Topic2\", \"Topic2\", \"Topic2\", \"Topic2\", \"Topic2\", \"Topic2\", \"Topic2\", \"Topic2\", \"Topic2\", \"Topic2\", \"Topic2\", \"Topic2\", \"Topic2\", \"Topic2\", \"Topic2\", \"Topic2\", \"Topic2\", \"Topic2\", \"Topic2\", \"Topic2\", \"Topic2\", \"Topic2\", \"Topic2\", \"Topic2\", \"Topic2\", \"Topic2\", \"Topic2\", \"Topic2\", \"Topic2\", \"Topic2\", \"Topic2\", \"Topic3\", \"Topic3\", \"Topic3\", \"Topic3\", \"Topic3\", \"Topic3\", \"Topic3\", \"Topic3\", \"Topic3\", \"Topic3\", \"Topic3\", \"Topic3\", \"Topic3\", \"Topic3\", \"Topic3\", \"Topic3\", \"Topic3\", \"Topic3\", \"Topic3\", \"Topic3\", \"Topic3\", \"Topic3\", \"Topic3\", \"Topic3\", \"Topic3\", \"Topic3\", \"Topic3\", \"Topic3\", \"Topic3\", \"Topic3\", \"Topic3\", \"Topic3\", \"Topic3\", \"Topic3\", \"Topic3\", \"Topic3\", \"Topic3\", \"Topic3\", \"Topic3\", \"Topic3\", \"Topic3\", \"Topic3\", \"Topic3\", \"Topic3\", \"Topic3\", \"Topic3\", \"Topic3\", \"Topic3\", \"Topic3\", \"Topic3\", \"Topic3\", \"Topic3\", \"Topic3\", \"Topic3\", \"Topic3\", \"Topic3\", \"Topic3\", \"Topic3\", \"Topic3\", \"Topic3\", \"Topic3\", \"Topic3\", \"Topic3\", \"Topic3\", \"Topic3\", \"Topic3\", \"Topic3\", \"Topic3\", \"Topic3\", \"Topic3\", \"Topic3\", \"Topic3\", \"Topic3\", \"Topic4\", \"Topic4\", \"Topic4\", \"Topic4\", \"Topic4\", \"Topic4\", \"Topic4\", \"Topic4\", \"Topic4\", \"Topic4\", \"Topic4\", \"Topic4\", \"Topic4\", \"Topic4\", \"Topic4\", \"Topic4\", \"Topic4\", \"Topic4\", \"Topic4\", \"Topic4\", \"Topic4\", \"Topic4\", \"Topic4\", \"Topic4\", \"Topic4\", \"Topic4\", \"Topic4\", \"Topic4\", \"Topic4\", \"Topic4\", \"Topic4\", \"Topic4\", \"Topic4\", \"Topic4\", \"Topic4\", \"Topic4\", \"Topic4\", \"Topic4\", \"Topic4\", \"Topic4\", \"Topic4\", \"Topic4\", \"Topic4\", \"Topic4\", \"Topic4\", \"Topic4\", \"Topic4\", \"Topic4\", \"Topic4\", \"Topic4\", \"Topic4\", \"Topic4\", \"Topic4\", \"Topic4\", \"Topic4\", \"Topic4\", \"Topic4\", \"Topic4\", \"Topic4\", \"Topic4\", \"Topic4\", \"Topic4\", \"Topic4\", \"Topic4\", \"Topic4\", \"Topic4\", \"Topic5\", \"Topic5\", \"Topic5\", \"Topic5\", \"Topic5\", \"Topic5\", \"Topic5\", \"Topic5\", \"Topic5\", \"Topic5\", \"Topic5\", \"Topic5\", \"Topic5\", \"Topic5\", \"Topic5\", \"Topic5\", \"Topic5\", \"Topic5\", \"Topic5\", \"Topic5\", \"Topic5\", \"Topic5\", \"Topic5\", \"Topic5\", \"Topic5\", \"Topic5\", \"Topic5\", \"Topic5\", \"Topic5\", \"Topic5\", \"Topic5\", \"Topic5\", \"Topic5\", \"Topic5\", \"Topic5\", \"Topic5\", \"Topic5\", \"Topic5\", \"Topic5\", \"Topic5\", \"Topic5\", \"Topic5\", \"Topic5\", \"Topic5\", \"Topic5\", \"Topic5\", \"Topic5\", \"Topic5\", \"Topic5\", \"Topic5\", \"Topic5\", \"Topic5\", \"Topic5\", \"Topic5\", \"Topic5\", \"Topic5\", \"Topic5\", \"Topic5\", \"Topic5\", \"Topic5\", \"Topic5\", \"Topic5\", \"Topic5\", \"Topic5\", \"Topic5\", \"Topic5\", \"Topic5\"], \"logprob\": [30.0, 29.0, 28.0, 27.0, 26.0, 25.0, 24.0, 23.0, 22.0, 21.0, 20.0, 19.0, 18.0, 17.0, 16.0, 15.0, 14.0, 13.0, 12.0, 11.0, 10.0, 9.0, 8.0, 7.0, 6.0, 5.0, 4.0, 3.0, 2.0, 1.0, -3.6776, -4.8355, -5.3567, -5.526, -5.4784, -6.0696, -6.0874, -6.1799, -5.2921, -6.493, -6.5002, -6.4489, -6.582, -6.1415, -6.394, -6.4069, -6.7193, -6.7163, -5.4141, -6.7682, -6.8355, -6.8397, -5.2476, -4.7549, -6.8899, -5.0636, -6.9897, -5.8718, -6.9882, -6.9006, -5.4714, -3.3037, -5.4395, -5.4911, -5.9516, -6.2102, -3.2695, -4.2428, -6.098, -3.6668, -5.6945, -3.2038, -4.4498, -5.2435, -6.0995, -4.8993, -4.2455, -5.6624, -5.3081, -5.4339, -5.0033, -4.8454, -5.1525, -4.8833, -4.6454, -3.4605, -5.1291, -4.8792, -4.7522, -5.261, -5.2513, -5.2808, -5.1946, -5.0715, -5.2247, -5.2764, -3.8433, -6.172, -6.4749, -4.5141, -6.626, -6.6521, -6.6464, -6.6573, -6.6802, -6.6826, -6.5442, -4.5827, -6.9648, -7.0123, -7.1444, -6.2405, -7.2425, -7.2723, -7.2955, -7.2866, -5.9967, -6.7142, -7.2415, -7.3146, -7.2548, -6.4721, -7.4466, -7.4688, -7.4793, -7.5419, -5.5271, -3.8244, -3.7746, -5.2241, -3.1141, -2.9049, -2.4949, -5.1469, -6.2386, -6.6529, -3.7734, -5.0821, -5.2133, -4.8613, -5.1725, -5.0053, -4.5948, -5.437, -3.1349, -5.873, -5.5911, -4.811, -4.2624, -5.4856, -5.3227, -5.6684, -5.3349, -5.0354, -5.3623, -5.4596, -5.3312, -5.381, -5.4513, -4.8949, -5.7771, -5.7622, -5.9053, -6.0267, -5.1785, -6.2784, -6.5146, -6.5449, -6.4489, -6.5576, -6.5736, -6.6053, -6.681, -6.7485, -6.7739, -6.8362, -6.8904, -6.9103, -6.98, -6.2757, -7.0441, -7.0529, -7.0695, -7.0926, -5.9595, -7.1293, -7.1379, -7.1179, -7.1669, -4.9099, -5.7683, -4.267, -6.522, -6.6684, -6.3442, -4.2113, -6.0985, -4.9793, -5.5947, -6.2212, -5.4123, -3.8403, -5.5134, -4.8326, -4.7669, -5.74, -5.7847, -3.3743, -3.1611, -3.7403, -4.7728, -3.8139, -5.8845, -4.2504, -4.9032, -5.5098, -4.195, -4.8657, -5.4982, -4.5061, -4.3401, -5.1342, -5.2185, -5.0405, -5.1622, -5.3987, -5.1673, -5.0888, -5.1038, -5.1708, -5.3388, -5.3936, -5.7344, -5.2238, -5.7541, -5.8054, -5.986, -6.1354, -6.1176, -4.1876, -6.2127, -6.3686, -6.4554, -6.4666, -6.4668, -6.6425, -6.6677, -6.6544, -6.6671, -6.5367, -6.4598, -6.6994, -6.73, -6.7269, -6.7731, -6.7443, -6.8384, -6.8384, -6.8394, -6.7709, -6.8444, -6.8444, -5.8362, -5.4522, -5.7864, -5.5194, -3.8079, -5.3241, -4.9367, -6.3765, -5.7927, -5.2061, -4.8228, -4.0722, -5.2697, -4.4146, -4.3571, -4.9648, -5.1416, -5.9445, -5.4856, -4.5002, -4.202, -2.9888, -4.872, -4.65, -4.7209, -5.1235, -4.9816, -4.7738, -4.51, -5.2522, -4.892, -5.2274, -5.1943, -5.3135, -5.1391, -5.2051, -5.2521, -5.785, -6.1195, -6.2419, -6.2647, -6.3218, -6.3042, -6.104, -6.4129, -6.437, -6.4441, -6.4521, -6.5107, -6.5208, -6.5863, -6.5902, -6.5896, -6.6819, -6.6855, -6.6814, -6.1277, -6.7183, -6.7676, -6.7821, -6.8842, -6.8842, -6.8842, -6.8842, -6.8553, -6.8844, -3.7702, -6.7953, -4.2261, -4.4951, -5.9389, -5.4657, -5.184, -6.0682, -5.3797, -5.6364, -2.3934, -5.329, -5.6146, -4.6046, -5.0767, -5.7459, -4.6422, -5.1434, -4.9256, -5.4625, -4.7157, -5.0927, -5.098, -5.2917, -5.3524, -5.6463, -5.3383, -5.5873, -5.1226, -5.0266, -5.2139, -4.8619, -5.3303, -5.1313, -5.4498, -5.3767, -5.5131], \"loglift\": [30.0, 29.0, 28.0, 27.0, 26.0, 25.0, 24.0, 23.0, 22.0, 21.0, 20.0, 19.0, 18.0, 17.0, 16.0, 15.0, 14.0, 13.0, 12.0, 11.0, 10.0, 9.0, 8.0, 7.0, 6.0, 5.0, 4.0, 3.0, 2.0, 1.0, 1.1288, 1.1217, 1.1185, 1.1155, 1.1107, 1.1101, 1.1094, 1.1025, 1.1017, 1.0942, 1.0937, 1.088, 1.0864, 1.0861, 1.0839, 1.0837, 1.0831, 1.0822, 1.0822, 1.0802, 1.0773, 1.0761, 1.0727, 1.072, 1.0704, 1.0686, 1.0674, 1.0642, 1.0638, 1.0628, 1.0624, 1.0095, 1.0444, 1.0335, 1.0451, 1.0529, 0.9235, 0.9679, 1.0465, 0.8751, 1.017, 0.7306, 0.8297, 0.9115, 1.0365, 0.8308, 0.6185, 0.9381, 0.8289, 0.8678, 0.729, 0.616, 0.7358, 0.6253, 0.4402, -0.3502, 0.6373, 0.4027, 0.2691, 0.5755, 0.5235, 0.5329, 0.0924, -0.5915, 0.1667, -0.1447, 1.2999, 1.2777, 1.2652, 1.2648, 1.2641, 1.2626, 1.2624, 1.262, 1.2616, 1.2607, 1.2588, 1.2486, 1.2384, 1.2372, 1.224, 1.2198, 1.2158, 1.2105, 1.2094, 1.2092, 1.2091, 1.2071, 1.1993, 1.1987, 1.1975, 1.197, 1.1898, 1.1839, 1.1815, 1.1809, 1.1785, 1.1266, 1.1231, 1.1398, 1.0682, 1.0143, 0.9673, 1.0691, 1.1177, 1.1394, 0.7066, 0.8401, 0.8302, 0.7433, 0.816, 0.7333, 0.5369, 0.831, -0.0246, 0.9633, 0.8532, 0.5306, 0.2672, 0.644, 0.4521, 0.7024, 0.3944, -0.0141, 0.3369, 0.2272, -0.0492, -0.0851, -0.1642, 1.4769, 1.4761, 1.4725, 1.4719, 1.4646, 1.4633, 1.4564, 1.4441, 1.4417, 1.4415, 1.4402, 1.4391, 1.4366, 1.431, 1.4279, 1.4243, 1.4192, 1.4149, 1.4125, 1.4077, 1.4075, 1.4013, 1.3973, 1.3957, 1.3948, 1.3932, 1.3925, 1.3923, 1.3857, 1.3822, 1.3748, 1.3625, 1.3186, 1.3701, 1.3658, 1.3366, 1.131, 1.314, 1.1485, 1.1665, 1.2769, 1.0919, 0.6893, 1.0775, 0.8666, 0.8448, 1.1066, 1.1197, 0.088, -0.0508, 0.1941, 0.6187, 0.1053, 1.1209, 0.2296, 0.5829, 0.918, -0.0127, 0.4303, 0.889, 0.0358, -0.1472, 0.4357, 0.386, 0.0911, 0.1794, 0.675, 0.1197, -0.0674, -0.206, -0.2198, -0.2532, 0.5286, 2.2549, 2.2496, 2.248, 2.2414, 2.2332, 2.2229, 2.2225, 2.221, 2.2151, 2.1984, 2.1894, 2.1874, 2.1866, 2.1626, 2.1613, 2.1609, 2.1605, 2.1582, 2.1574, 2.1557, 2.1512, 2.1505, 2.1415, 2.135, 2.1343, 2.1343, 2.1335, 2.1292, 2.1287, 2.1287, 2.1233, 2.1014, 2.0995, 2.0785, 1.8526, 1.9931, 1.8706, 2.0814, 1.9607, 1.8209, 1.6549, 1.4152, 1.7163, 1.3991, 1.3297, 1.5532, 1.5528, 1.8925, 1.6367, 1.0697, 0.8835, 0.1215, 1.2575, 1.0301, 1.0083, 1.3276, 1.0944, 0.7123, 0.354, 1.135, 0.3951, 0.8396, 0.5359, 0.905, 0.0716, -0.1838, 2.2998, 2.2754, 2.2543, 2.2406, 2.2342, 2.2334, 2.2262, 2.2259, 2.2194, 2.2153, 2.2142, 2.2107, 2.2102, 2.2011, 2.2004, 2.1982, 2.1971, 2.1861, 2.1846, 2.1842, 2.1813, 2.1762, 2.1696, 2.1605, 2.1517, 2.1517, 2.1516, 2.1516, 2.1515, 2.1514, 2.1143, 2.1463, 1.9621, 1.9693, 2.0448, 1.9169, 1.8305, 1.9915, 1.81, 1.8782, 0.7169, 1.7317, 1.7946, 1.4205, 1.5736, 1.815, 1.1658, 1.2862, 1.07, 1.3991, 0.7457, 1.0096, 0.7385, 0.9277, 1.0039, 1.3514, 0.8802, 1.2537, 0.4473, 0.2693, 0.5821, -0.3323, 0.6486, -0.0458, 0.8519, 0.4254, 0.5539]}, \"token.table\": {\"Topic\": [1, 3, 3, 2, 1, 3, 5, 2, 3, 5, 1, 3, 4, 3, 4, 5, 1, 2, 2, 5, 2, 5, 4, 1, 2, 3, 3, 4, 5, 1, 2, 3, 4, 5, 5, 1, 2, 3, 4, 5, 2, 4, 5, 3, 5, 2, 3, 5, 2, 5, 2, 3, 4, 2, 3, 5, 1, 5, 1, 1, 2, 3, 4, 4, 1, 2, 4, 5, 3, 1, 2, 3, 2, 1, 4, 5, 2, 2, 5, 1, 2, 3, 4, 5, 1, 2, 3, 4, 5, 1, 1, 2, 3, 4, 5, 1, 2, 3, 4, 5, 4, 1, 2, 3, 4, 5, 1, 2, 3, 1, 3, 4, 1, 2, 3, 4, 5, 4, 1, 2, 5, 3, 1, 2, 3, 5, 2, 1, 2, 3, 4, 1, 3, 5, 1, 2, 3, 4, 5, 2, 3, 1, 1, 2, 3, 4, 3, 5, 4, 2, 3, 4, 5, 1, 2, 5, 4, 2, 4, 5, 3, 4, 3, 4, 2, 3, 4, 1, 2, 3, 4, 1, 2, 3, 4, 5, 1, 2, 3, 4, 5, 3, 4, 1, 4, 3, 2, 4, 2, 2, 5, 1, 2, 3, 5, 1, 3, 5, 1, 2, 3, 4, 5, 3, 1, 2, 3, 4, 5, 3, 1, 2, 4, 5, 2, 3, 4, 3, 4, 2, 2, 1, 2, 3, 4, 5, 1, 2, 3, 4, 5, 1, 2, 3, 4, 5, 4, 2, 3, 1, 2, 3, 4, 1, 2, 3, 4, 5, 1, 2, 3, 4, 5, 1, 3, 1, 2, 3, 4, 5, 1, 3, 3, 4, 4, 2, 4, 1, 2, 3, 4, 5, 1, 2, 3, 4, 4, 2, 1, 2, 3, 4, 5, 1, 2, 3, 4, 5, 3, 2, 3, 4, 5, 1, 3, 5, 2, 3, 1, 2, 2, 3, 2, 3, 4, 2, 1, 3, 5, 5, 1, 2, 3, 2, 1, 2, 3, 4, 5, 1, 2, 3, 4, 5, 4, 1, 2, 1, 1, 2, 3, 4, 5, 3, 4, 5, 4, 1, 3, 4, 1, 2, 4, 2, 5, 1, 3, 1, 2, 3, 4, 5, 1, 2, 3, 4, 5, 2, 3, 4, 1, 2, 3, 4, 5, 1, 2, 3, 4, 5, 4, 1, 3, 1, 2, 3, 4, 5, 1, 1, 4, 5, 3, 5, 1, 2, 3, 4, 5, 1, 2, 3, 4, 5, 4, 1, 2, 3, 4, 5, 4, 1, 2, 3, 4, 1, 2, 3, 4, 5, 1, 3, 1, 2, 3, 4, 5, 1, 2, 3, 2, 3, 3, 1, 4, 1, 2, 4, 5, 5, 1, 2, 3, 1, 3, 4, 2, 1, 3, 5, 2, 4, 5, 2, 3, 5, 4, 1, 2, 3, 4, 5, 1, 2, 3, 4, 5, 1, 2, 4, 5, 1, 3, 1, 2, 3, 4, 5, 1, 1, 2, 3, 4, 5, 2, 3, 1, 2, 3, 4, 1, 2, 4, 5, 3, 1, 2, 3, 4, 5, 2, 3, 1, 2, 4, 5, 4, 1, 5, 5, 1, 2, 3, 3, 2, 1, 2, 3, 5, 1, 2, 3, 1, 2, 1, 2, 3, 4, 5, 1, 1, 1, 1, 1, 5, 2, 3, 2, 3, 3, 4, 1, 3, 4, 3, 1, 2, 4, 5, 5, 1, 3, 1, 2, 3, 4, 1, 1, 4, 5, 3, 4, 3, 1, 2, 3, 4, 5, 1, 3, 5, 4, 2, 1, 3, 4, 5, 1, 2, 4, 5, 3, 5, 1, 2, 3, 4, 5, 1, 2, 3, 4, 5, 1, 2, 3, 4, 5, 1, 3, 5, 2, 4, 5, 3, 4, 1, 2, 3, 4, 5, 1, 5, 5, 1, 2, 3, 4, 5, 5, 1, 3, 4, 1, 3, 3, 3, 1, 2, 3, 4, 1, 2, 3, 4, 5, 1, 2, 5, 5, 2, 2, 3, 1, 3, 5, 1, 2, 3, 4, 5, 1, 3, 4, 5, 2, 1, 2, 3, 5, 1, 5, 1, 2, 3, 4, 5, 1, 2, 3, 4, 5, 2, 3, 1, 2, 3, 4, 5, 3, 5, 1, 2, 3, 4, 5, 1, 2, 3, 5], \"Freq\": [0.9347910863684209, 0.04064309071167047, 0.9174924954304359, 0.8518501930282824, 0.9766668363352784, 0.019150330124221144, 0.9023622683808604, 0.08825370883649027, 0.6766117677464254, 0.23534322356397405, 0.044448106930378185, 0.22224053465189095, 0.711169710886051, 0.8973346620022626, 0.06409533300016161, 0.9555361844384935, 0.9301501118886901, 0.9694934478979239, 0.8945451132209181, 0.08132228302008346, 0.8450239147119937, 0.7436808358696427, 0.9313620524698619, 0.020118366911178076, 0.9254448779141914, 0.05029591727794519, 0.9656520160054777, 0.8959083551517636, 0.08959083551517635, 0.024054529297036366, 0.5612723502641819, 0.32874523372616365, 0.04810905859407273, 0.04810905859407273, 0.8609088399526984, 0.02323562188763788, 0.20137538969286164, 0.3407891210186889, 0.2865726699475339, 0.1471589386217066, 0.22734067838090294, 0.07578022612696765, 0.6820220351427089, 0.9461895908352909, 0.919763643299777, 0.874769451532631, 0.07952449559387555, 0.772915629579114, 0.9499045684390954, 0.7436881669803904, 0.04605690825150381, 0.8750812567785724, 0.04605690825150381, 0.37830929934398294, 0.06878350897163325, 0.550268071773066, 0.93775514059106, 0.05436261684585855, 0.9387549917829543, 0.10522484926827574, 0.05261242463413787, 0.5436617212194247, 0.29813707292678127, 0.8463319303089092, 0.18297784685093604, 0.29276455496149767, 0.18297784685093604, 0.3476579090167785, 0.9286665596311197, 0.6033291591880015, 0.14140527168468786, 0.2545294890324381, 0.8348865593595232, 0.9395510707582297, 0.9220009965034908, 0.7224080691275168, 0.964146859632854, 0.9638403824053073, 0.8565428089307361, 0.8900133600961023, 0.037083890004004263, 0.037083890004004263, 0.037083890004004263, 0.7742585903953912, 0.49626363417294456, 0.00477176571320139, 0.17178356567525005, 0.2385882856600695, 0.09066354855082641, 0.9379212543159756, 0.29128475357283873, 0.2621562782155548, 0.2621562782155548, 0.00970949178576129, 0.16506136035794194, 0.225728402387188, 0.2594883687266208, 0.2105033195282281, 0.11054734075853488, 0.193954316420663, 0.8062929274641998, 0.1978651126440544, 0.039573022528810876, 0.3693482102689015, 0.13191007509603625, 0.2638201501920725, 0.7374473783207663, 0.013656432931866042, 0.24581579277358875, 0.9340889089757161, 0.020306280629906873, 0.040612561259813745, 0.014864273768486284, 0.7328086967863738, 0.2452605171800237, 0.004459282130545885, 0.0014864273768486285, 0.8460029193193009, 0.7567872011629767, 0.01610185534389312, 0.2254259748145037, 0.8594357066746573, 0.13805625936293575, 0.3589462743436329, 0.1656675112355229, 0.3313350224710458, 0.9739951937705442, 0.5418860259203996, 0.4182979849210102, 0.028520317153705243, 0.009506772384568414, 0.9473755607869027, 0.8857851419603017, 0.8363658466948921, 0.4003777312907048, 0.17794565835142437, 0.11863043890094958, 0.05931521945047479, 0.23726087780189917, 0.881999170590395, 0.9087407527450745, 0.9676254775066574, 0.1526332461732995, 0.144153621385894, 0.06783699829924424, 0.6274922342680092, 0.9552419490274887, 0.8552715695402449, 0.9575258578394316, 0.09537419604478191, 0.2145919411007593, 0.45302743121271405, 0.2145919411007593, 0.08656506686585463, 0.17313013373170927, 0.6925205349268371, 0.849575836897932, 0.20155255450323764, 0.010608029184380929, 0.7849941596441887, 0.8505342705683211, 0.9309452726115763, 0.9522911863917645, 0.9310932552861774, 0.03191807138789486, 0.4149349280426332, 0.5426072135942127, 0.37580116277673964, 0.12958660785404816, 0.4081978147402517, 0.0842312951051313, 0.34689253993933417, 0.15417446219525963, 0.03854361554881491, 0.2955010525409143, 0.1670223340448646, 0.13801445683694788, 0.534806020243173, 0.06900722841847394, 0.06900722841847394, 0.17251807104618483, 0.944045892891247, 0.9313620524698619, 0.16899264744833611, 0.8449632372416805, 0.944841877864896, 0.923138665266542, 0.05128548140369678, 0.8555175820767218, 0.9392137507771708, 0.7436959614986914, 0.11902743874786433, 0.30607055678022255, 0.32307447660134603, 0.2550587973168521, 0.9725040520678583, 0.11984438052366372, 0.838910663665646, 0.5246212487371466, 0.08160774980355613, 0.1398989996632391, 0.08160774980355613, 0.18653199955098546, 0.8910972228152698, 0.5436062412513258, 0.009883749840933197, 0.029651249522799593, 0.3953499936373279, 0.009883749840933197, 0.8734397600554248, 0.8249207339245284, 0.021708440366434954, 0.021708440366434954, 0.13025064219860974, 0.4201213572384405, 0.5479843790066615, 0.01826614596688872, 0.8484755035399744, 0.11067071785304013, 0.8312932768277205, 0.9459211798714998, 0.2748425400768541, 0.45473947539988585, 0.24485971752301547, 0.004997137092306438, 0.019988548369225752, 0.05326290084055884, 0.05326290084055884, 0.7989435126083826, 0.10652580168111768, 0.05326290084055884, 0.24657353868213172, 0.4499967080948904, 0.2650665540832916, 0.012328676934106586, 0.02465735386821317, 0.9309136040958124, 0.12788504781617652, 0.8312528108051475, 0.4397407519916504, 0.019988215999620473, 0.0799528639984819, 0.4597289679912709, 0.1375786146446292, 0.3144654049020096, 0.1867138341605682, 0.0687893073223146, 0.3046383609988218, 0.012211270614684522, 0.36633811844053565, 0.2198028710643214, 0.024422541229369044, 0.3907606596699047, 0.8976137541995768, 0.07480114618329807, 0.6640657892126606, 0.03924025118074812, 0.26864479654512174, 0.024147846880460382, 0.0045277212900863215, 0.14668932996538164, 0.831239536470496, 0.8970796380811954, 0.8155301851783275, 0.8276223530889333, 0.903301647618332, 0.8654009786031563, 0.1131774813180235, 0.3308264838526841, 0.08705960101386424, 0.3743562843596162, 0.09576556111525067, 0.12199226144012101, 0.501523741476053, 0.027109391431138004, 0.338867392889225, 0.7953358798123015, 0.9702545016846224, 0.736390677200027, 0.009091242928395396, 0.018182485856790793, 0.16364237271111712, 0.07272994342716317, 0.26667281998308673, 0.1777818799887245, 0.08889093999436225, 0.23704250665163265, 0.2222273499859056, 0.9614940789410068, 0.29064392907450026, 0.25835015917733356, 0.06458753979433339, 0.3552314688688336, 0.9350380956951027, 0.04921253135237382, 0.8984190290585456, 0.6313439790680783, 0.3713788112165166, 0.06319527316137205, 0.8847338242592087, 0.9755618995220571, 0.020218899471959734, 0.2776382555831347, 0.6663318133995233, 0.02776382555831347, 0.8667449755418766, 0.873171390892486, 0.07276428257437384, 0.04850952171624922, 0.8535254138001227, 0.07867549874883355, 0.09441059849860024, 0.8260927368627522, 0.91451274647316, 0.01762888017977368, 0.37020648377524734, 0.5288664053932105, 0.00881444008988684, 0.07051552071909473, 0.011855041286122822, 0.2608109082947021, 0.40307140372817596, 0.04742016514449129, 0.2726659495808249, 0.8783872668615191, 0.9033605467397492, 0.06452575333855352, 0.9515675953299443, 0.1067337387259079, 0.347568841492059, 0.44061876756079926, 0.0383146754400695, 0.0684190632858384, 0.1565208648588424, 0.27391151350297416, 0.5869532432206589, 0.7872999327783702, 0.07849468097184151, 0.07849468097184151, 0.7849468097184151, 0.2936571175066401, 0.0800883047745382, 0.6407064381963056, 0.3321681490813142, 0.6643362981626284, 0.9412017298420379, 0.06072269224787341, 0.35653704775720396, 0.14006812590461584, 0.1018677279306297, 0.22920238784391683, 0.16553505788727327, 0.42065467543595886, 0.2640279345821444, 0.20585228797929903, 0.08055089529624744, 0.03132534817076289, 0.3071997268476943, 0.17279984635182805, 0.5183995390554841, 0.5973733984659456, 0.050995290112946574, 0.22583628478590628, 0.058280331557653234, 0.06556537300235989, 0.21493979651203846, 0.30286971326696327, 0.23447977801313286, 0.09769990750547203, 0.14654986125820804, 0.8812834469640575, 0.9709709421762879, 0.017654017130477963, 0.5906573403165257, 0.055591279088614186, 0.04864236920253741, 0.11118255817722837, 0.20151838669622643, 0.9329984531427523, 0.9705653707128067, 0.8814793945853884, 0.8278877350763252, 0.2801973772773415, 0.6537938803137969, 0.15668831617673204, 0.17093270855643497, 0.3988429866316816, 0.1994214933158408, 0.07834415808836602, 0.59263086772809, 0.1338198733579558, 0.0955856238271113, 0.1414667232641247, 0.03823424953084452, 0.8382566510582338, 0.3553153721511203, 0.11305489113899282, 0.5168223594925386, 0.008075349367070916, 0.9033263956884114, 0.9447224522593003, 0.13571279260485725, 0.16655660910596118, 0.684732726324507, 0.006168763300220784, 0.22943231220273969, 0.05098495826727548, 0.7137894157418568, 0.9307356421393903, 0.8972494921031451, 0.9388910168943181, 0.03912045903726325, 0.21789540977288313, 0.24145167028887052, 0.3415657774818168, 0.07655784667695895, 0.12367036770893368, 0.10992100210897163, 0.6870062631810726, 0.16488150316345743, 0.8186615277066871, 0.18192478393481937, 0.9589631872390335, 0.05196470388974713, 0.9353646700154483, 0.8436149373018759, 0.010815576119254818, 0.10274797313292078, 0.03785451641739186, 0.8497047835982275, 0.019091105767807984, 0.9450097355064953, 0.02863665865171198, 0.11770342209295255, 0.058851711046476275, 0.7650722436041916, 0.8901692092745768, 0.9054704776136258, 0.08048626467676673, 0.7728697529480627, 0.1126185858370937, 0.7883301008596558, 0.05630929291854685, 0.857878081328001, 0.1429796802213335, 0.7436808358696427, 0.8478945773433801, 0.037390659992743616, 0.4112972599201798, 0.13086730997460266, 0.3739065999274362, 0.056085989989115424, 0.05140257757570375, 0.82244124121126, 0.017134192525234584, 0.08567096262617292, 0.03426838505046917, 0.06875534355580763, 0.2062660306674229, 0.6875534355580764, 0.06875534355580763, 0.9810675338694458, 0.01140776202173774, 0.031137237574254715, 0.607176132697967, 0.1089803315098915, 0.07784309393563679, 0.1868234254455283, 0.9268448405945293, 0.08705583651977354, 0.6093908556384148, 0.2362944134108139, 0.037309644222760084, 0.024873096148506725, 0.02262293605791352, 0.9501633144323679, 0.09762766755162564, 0.06508511170108376, 0.6833936728613794, 0.1627127792527094, 0.18253370642413067, 0.31943398624222863, 0.022816713303016333, 0.4563342660603267, 0.8405686096231934, 0.08455886147372417, 0.1409314357895403, 0.1409314357895403, 0.2536765844211725, 0.39460802021071284, 0.017270905186567414, 0.9671706904477753, 0.9685307339562141, 0.8681545993551429, 0.1205770276882143, 0.8384280677671142, 0.8051656534515026, 0.3249158137999328, 0.5956789919665434, 0.7437000926492877, 0.1719963315909469, 0.1719963315909469, 0.6449862434660508, 0.9549595451564645, 0.8203674823980922, 0.0058014264822030355, 0.7735235309604048, 0.21852039749631436, 0.001933808827401012, 0.01177195118647927, 0.6003695105104427, 0.3884743891538159, 0.9264391448910932, 0.04211087022232242, 0.7925099308466623, 0.09732578098116906, 0.02780736599461973, 0.013903682997309865, 0.06951841498654933, 0.9851541709096984, 0.9444481878497288, 0.9315374196604674, 0.9317131207676917, 0.9072857471144993, 0.8694480575718991, 0.8217164653893814, 0.17935943153169237, 0.6169164643669841, 0.37455642479424034, 0.13909230398598094, 0.8345538239158856, 0.15770900269339366, 0.6505496361102489, 0.1774226280300679, 0.8895674182859521, 0.03658113155139481, 0.32923018396255327, 0.5121358417195273, 0.14632452620557923, 0.9055697988047542, 0.7674603528478956, 0.22996104435514564, 0.09245372049286008, 0.8320834844357408, 0.09245372049286008, 0.9698484395467466, 0.9350744988437639, 0.2992783029278387, 0.5985566058556774, 0.09975943430927957, 0.9075797456601449, 0.8455051777545073, 0.8280840852632823, 0.5662412787991069, 0.08089161125701527, 0.111225965478396, 0.040445805628507636, 0.20222902814253818, 0.0789870056582328, 0.8688570622405607, 0.8446471367100498, 0.8657992577562197, 0.8298459205094911, 0.04748856076117682, 0.8706236139549084, 0.06331808101490242, 0.015829520253725606, 0.22996408698824647, 0.07186377718382701, 0.02874551087353081, 0.675519505527974, 0.91046836953477, 0.091046836953477, 0.25636128026121385, 0.23072515223509246, 0.43581417644406356, 0.06409032006530346, 0.012818064013060694, 0.7357217981037969, 0.06951702029327216, 0.12165478551322627, 0.005793085024439345, 0.0753101053177115, 0.04988286345050171, 0.6993012744098636, 0.2418848284297913, 0.00941186102839655, 0.0009411861028396549, 0.1949393125621323, 0.24367414070266538, 0.5848179376863969, 0.22425013020347684, 0.6727503906104305, 0.07475004340115894, 0.9446314519412636, 0.8763267846285454, 0.6709028882418482, 0.1277910263317806, 0.0638955131658903, 0.1277910263317806, 0.0212985043886301, 0.9412729431555906, 0.9046696055454064, 0.8401295363179025, 0.1544150451463889, 0.390579231840866, 0.17258152104596405, 0.27249713849362744, 0.009083237949787583, 0.8949944151453731, 0.9890054212981274, 0.0036095088368544794, 0.0036095088368544794, 0.9657813379267494, 0.02146180750948332, 0.9654956143396752, 0.9142140696788741, 0.1770862484678079, 0.5390713740122975, 0.2786504203831683, 0.0052084190725825855, 0.12836107616488027, 0.5501188978494869, 0.17420431765233751, 0.12836107616488027, 0.018337296594982896, 0.1313679295071235, 0.262735859014247, 0.5911556827820558, 0.9346718810673948, 0.8746900713838963, 0.7685396994229933, 0.22169414406432497, 0.9314132191054865, 0.050075979521800346, 0.01001519590436007, 0.8772930473269779, 0.006612761663268678, 0.07053612440819923, 0.019838284989806033, 0.02645104665307471, 0.6650789842435855, 0.14577073627256668, 0.09110671017035417, 0.10021738118738958, 0.913106578077688, 0.8052323708164005, 0.0019544475019815546, 0.19153585519419236, 0.0019544475019815546, 0.9079164311174969, 0.07726948349936144, 0.4237323858246538, 0.12971399566060832, 0.14700919508202273, 0.2767231907426311, 0.017295199421414442, 0.1426326611821747, 0.22108062483237081, 0.22821225789147956, 0.40650308436919796, 0.007131633059108736, 0.9063351437129912, 0.982345486072123, 0.47619228981198, 0.25551781404545265, 0.18583113748760194, 0.058072230464875606, 0.023228892185950242, 0.3969979693575882, 0.567139956225126, 0.35022030134660753, 0.22764319587529488, 0.25099121596506874, 0.14592512556108647, 0.029185025112217294, 0.013529899002999501, 0.24353818205399103, 0.7035547481559741, 0.040589697008998504], \"Term\": [\"5\", \"5\", \"absolutely\", \"accomplish\", \"account\", \"account\", \"acquaint\", \"amaze\", \"amaze\", \"amaze\", \"amazing\", \"amazing\", \"amazing\", \"another\", \"another\", \"answer\", \"anymore\", \"apache\", \"apply\", \"apply\", \"approach\", \"approve\", \"associate\", \"available\", \"available\", \"available\", \"aware\", \"awesome\", \"awesome\", \"basic\", \"basic\", \"basic\", \"basic\", \"basic\", \"begineers\", \"beginner\", \"beginner\", \"beginner\", \"beginner\", \"beginner\", \"best\", \"best\", \"best\", \"bite\", \"board\", \"brief\", \"brief\", \"brilliant\", \"build\", \"calm\", \"cause\", \"cause\", \"cause\", \"challenge\", \"challenge\", \"challenge\", \"change\", \"change\", \"check\", \"class\", \"class\", \"class\", \"class\", \"clean\", \"clear\", \"clear\", \"clear\", \"clear\", \"clip\", \"cloud\", \"cloud\", \"cloud\", \"codeacademy\", \"comment\", \"compare\", \"complaint\", \"computer\", \"confidence\", \"confused\", \"confusion\", \"confusion\", \"confusion\", \"confusion\", \"contain\", \"content\", \"content\", \"content\", \"content\", \"content\", \"cool\", \"could\", \"could\", \"could\", \"could\", \"could\", \"course\", \"course\", \"course\", \"course\", \"course\", \"courser\", \"coursera\", \"coursera\", \"coursera\", \"coursera\", \"coursera\", \"create\", \"create\", \"create\", \"current\", \"current\", \"current\", \"data\", \"data\", \"data\", \"data\", \"data\", \"datascience\", \"date\", \"date\", \"date\", \"demo\", \"detail\", \"detail\", \"detail\", \"detail\", \"detailed\", \"different\", \"different\", \"different\", \"different\", \"difficulty\", \"discrepancy\", \"dollar\", \"dont\", \"dont\", \"dont\", \"dont\", \"dont\", \"download\", \"ds\", \"dsx\", \"easy\", \"easy\", \"easy\", \"easy\", \"eg\", \"elaborate\", \"engage\", \"enjoy\", \"enjoy\", \"enjoy\", \"enjoy\", \"ever\", \"ever\", \"ever\", \"excelente\", \"excellent\", \"excellent\", \"excellent\", \"except\", \"exceptional\", \"excite\", \"exp\", \"expect\", \"expect\", \"expect\", \"experience\", \"experience\", \"experience\", \"experience\", \"explain\", \"explain\", \"explain\", \"explain\", \"explain\", \"explanation\", \"explanation\", \"explanation\", \"explanation\", \"explanation\", \"explore\", \"express\", \"extremely\", \"extremely\", \"fact\", \"familiar\", \"familiar\", \"familiarize\", \"fast\", \"feebased\", \"feel\", \"feel\", \"feel\", \"feel\", \"figure\", \"financial\", \"financial\", \"find\", \"find\", \"find\", \"find\", \"find\", \"fit\", \"follow\", \"follow\", \"follow\", \"follow\", \"follow\", \"form\", \"forum\", \"forum\", \"forum\", \"forum\", \"free\", \"free\", \"free\", \"fun\", \"fun\", \"generate\", \"gentle\", \"get\", \"get\", \"get\", \"get\", \"get\", \"github\", \"github\", \"github\", \"github\", \"github\", \"give\", \"give\", \"give\", \"give\", \"give\", \"gradual\", \"guide\", \"guide\", \"hard\", \"hard\", \"hard\", \"hard\", \"help\", \"help\", \"help\", \"help\", \"help\", \"helpful\", \"helpful\", \"helpful\", \"helpful\", \"helpful\", \"hour\", \"hour\", \"ibm\", \"ibm\", \"ibm\", \"ibm\", \"ibm\", \"ide\", \"ide\", \"ides\", \"improvement\", \"incredible\", \"indeed\", \"indepth\", \"information\", \"information\", \"information\", \"information\", \"information\", \"informative\", \"informative\", \"informative\", \"informative\", \"insightful\", \"instance\", \"instruction\", \"instruction\", \"instruction\", \"instruction\", \"instruction\", \"instructor\", \"instructor\", \"instructor\", \"instructor\", \"instructor\", \"integrate\", \"interesting\", \"interesting\", \"interesting\", \"interesting\", \"interface\", \"interface\", \"intermediate\", \"introduce\", \"introduce\", \"introduces\", \"introduces\", \"introduction\", \"introduction\", \"introductory\", \"introductory\", \"introductory\", \"invest\", \"issue\", \"issue\", \"issue\", \"jupiter\", \"jupyter\", \"jupyter\", \"jupyter\", \"kind\", \"know\", \"know\", \"know\", \"know\", \"know\", \"knowledge\", \"knowledge\", \"knowledge\", \"knowledge\", \"knowledge\", \"laid\", \"last\", \"last\", \"late\", \"learn\", \"learn\", \"learn\", \"learn\", \"learn\", \"learning\", \"learning\", \"learning\", \"lecturer\", \"less\", \"less\", \"less\", \"lesson\", \"lesson\", \"lesson\", \"life\", \"life\", \"link\", \"link\", \"little\", \"little\", \"little\", \"little\", \"little\", \"lot\", \"lot\", \"lot\", \"lot\", \"lot\", \"love\", \"love\", \"love\", \"make\", \"make\", \"make\", \"make\", \"make\", \"many\", \"many\", \"many\", \"many\", \"many\", \"market\", \"match\", \"match\", \"material\", \"material\", \"material\", \"material\", \"material\", \"minor\", \"month\", \"mostly\", \"motivate\", \"move\", \"move\", \"much\", \"much\", \"much\", \"much\", \"much\", \"need\", \"need\", \"need\", \"need\", \"need\", \"needed\", \"new\", \"new\", \"new\", \"new\", \"newer\", \"none\", \"notebook\", \"notebook\", \"notebook\", \"notebook\", \"notebooks\", \"notebooks\", \"notebooks\", \"novice\", \"objective\", \"old\", \"old\", \"one\", \"one\", \"one\", \"one\", \"one\", \"online\", \"online\", \"online\", \"open\", \"open\", \"option\", \"organize\", \"organize\", \"outdated\", \"outdated\", \"outdated\", \"outdated\", \"overcome\", \"overview\", \"overview\", \"overview\", \"perfect\", \"perfect\", \"perfect\", \"plan\", \"please\", \"please\", \"pleasure\", \"poorly\", \"poorly\", \"poorly\", \"popular\", \"popular\", \"possiblehappy\", \"possibly\", \"practical\", \"practical\", \"practical\", \"practical\", \"practical\", \"practice\", \"practice\", \"practice\", \"practice\", \"practice\", \"prior\", \"prior\", \"prior\", \"prior\", \"problem\", \"problem\", \"program\", \"program\", \"program\", \"program\", \"program\", \"promo\", \"provide\", \"provide\", \"provide\", \"provide\", \"provide\", \"python\", \"python\", \"quality\", \"quality\", \"quality\", \"quality\", \"question\", \"question\", \"question\", \"question\", \"quickly\", \"quiz\", \"quiz\", \"quiz\", \"quiz\", \"quiz\", \"r\", \"r\", \"reflect\", \"require\", \"require\", \"respect\", \"revisit\", \"right\", \"right\", \"rise\", \"rstudio\", \"rstudio\", \"rstudio\", \"scala\", \"scenario\", \"science\", \"science\", \"science\", \"science\", \"scientist\", \"scientist\", \"scientist\", \"screen\", \"screen\", \"show\", \"show\", \"show\", \"show\", \"show\", \"sign\", \"site\", \"slow\", \"small\", \"solve\", \"sort\", \"source\", \"source\", \"start\", \"start\", \"starter\", \"starter\", \"step\", \"step\", \"step\", \"straight\", \"structure\", \"structure\", \"structure\", \"structure\", \"stuck\", \"studio\", \"studio\", \"stuff\", \"stuff\", \"stuff\", \"subject\", \"super\", \"support\", \"support\", \"support\", \"surface\", \"surprise\", \"sync\", \"take\", \"take\", \"take\", \"take\", \"take\", \"taught\", \"taught\", \"teaching\", \"team\", \"terminology\", \"thank\", \"thank\", \"thank\", \"thank\", \"thanks\", \"thanks\", \"thanks\", \"thanks\", \"thats\", \"thats\", \"thing\", \"thing\", \"thing\", \"thing\", \"thing\", \"time\", \"time\", \"time\", \"time\", \"time\", \"tool\", \"tool\", \"tool\", \"tool\", \"tool\", \"topic\", \"topic\", \"topic\", \"train\", \"train\", \"train\", \"truly\", \"turn\", \"tutorial\", \"tutorial\", \"tutorial\", \"tutorial\", \"tutorial\", \"ui\", \"unable\", \"unacceptable\", \"understand\", \"understand\", \"understand\", \"understand\", \"understand\", \"understandable\", \"update\", \"update\", \"update\", \"updated\", \"updated\", \"upgraded\", \"upload\", \"use\", \"use\", \"use\", \"use\", \"useful\", \"useful\", \"useful\", \"useful\", \"useful\", \"useless\", \"useless\", \"useless\", \"value\", \"variety\", \"various\", \"various\", \"version\", \"version\", \"version\", \"video\", \"video\", \"video\", \"video\", \"video\", \"videos\", \"videos\", \"videos\", \"videos\", \"view\", \"watson\", \"watson\", \"watson\", \"watson\", \"website\", \"website\", \"week\", \"week\", \"week\", \"week\", \"week\", \"well\", \"well\", \"well\", \"well\", \"well\", \"wellorganized\", \"wonderful\", \"work\", \"work\", \"work\", \"work\", \"work\", \"worth\", \"worth\", \"would\", \"would\", \"would\", \"would\", \"would\", \"zeppelin\", \"zeppelin\", \"zeppelin\", \"zeppelin\"]}, \"R\": 30, \"lambda.step\": 0.01, \"plot.opts\": {\"xlab\": \"PC1\", \"ylab\": \"PC2\"}, \"topic.order\": [5, 4, 2, 3, 1]};\n",
       "\n",
       "function LDAvis_load_lib(url, callback){\n",
       "  var s = document.createElement('script');\n",
       "  s.src = url;\n",
       "  s.async = true;\n",
       "  s.onreadystatechange = s.onload = callback;\n",
       "  s.onerror = function(){console.warn(\"failed to load library \" + url);};\n",
       "  document.getElementsByTagName(\"head\")[0].appendChild(s);\n",
       "}\n",
       "\n",
       "if(typeof(LDAvis) !== \"undefined\"){\n",
       "   // already loaded: just create the visualization\n",
       "   !function(LDAvis){\n",
       "       new LDAvis(\"#\" + \"ldavis_el370181402725692201764588830039\", ldavis_el370181402725692201764588830039_data);\n",
       "   }(LDAvis);\n",
       "}else if(typeof define === \"function\" && define.amd){\n",
       "   // require.js is available: use it to load d3/LDAvis\n",
       "   require.config({paths: {d3: \"https://d3js.org/d3.v5\"}});\n",
       "   require([\"d3\"], function(d3){\n",
       "      window.d3 = d3;\n",
       "      LDAvis_load_lib(\"https://cdn.jsdelivr.net/gh/bmabey/pyLDAvis@3.2.2/pyLDAvis/js/ldavis.v3.0.0.js\", function(){\n",
       "        new LDAvis(\"#\" + \"ldavis_el370181402725692201764588830039\", ldavis_el370181402725692201764588830039_data);\n",
       "      });\n",
       "    });\n",
       "}else{\n",
       "    // require.js not available: dynamically load d3 & LDAvis\n",
       "    LDAvis_load_lib(\"https://d3js.org/d3.v5.js\", function(){\n",
       "         LDAvis_load_lib(\"https://cdn.jsdelivr.net/gh/bmabey/pyLDAvis@3.2.2/pyLDAvis/js/ldavis.v3.0.0.js\", function(){\n",
       "                 new LDAvis(\"#\" + \"ldavis_el370181402725692201764588830039\", ldavis_el370181402725692201764588830039_data);\n",
       "            })\n",
       "         });\n",
       "}\n",
       "</script>"
      ],
      "text/plain": [
       "PreparedData(topic_coordinates=              x         y  topics  cluster       Freq\n",
       "topic                                                \n",
       "4     -0.054470  0.198730       1        1  31.998556\n",
       "3      0.171255 -0.068186       2        1  26.573083\n",
       "1      0.111421  0.033124       3        1  22.137080\n",
       "2     -0.111084 -0.059235       4        1   9.816089\n",
       "0     -0.117122 -0.104433       5        1   9.475192, topic_info=         Term         Freq        Total Category  logprob  loglift\n",
       "32       tool  1062.000000  1062.000000  Default  30.0000  30.0000\n",
       "34     course  1510.000000  1510.000000  Default  29.0000  29.0000\n",
       "35       data   672.000000   672.000000  Default  28.0000  28.0000\n",
       "46    science   517.000000   517.000000  Default  27.0000  27.0000\n",
       "151    watson   511.000000   511.000000  Default  26.0000  26.0000\n",
       "...       ...          ...          ...      ...      ...      ...\n",
       "343      find    15.546326    85.776167   Topic5  -5.3303   0.6486\n",
       "152   content    18.968323   209.566031   Topic5  -5.1313  -0.0458\n",
       "1263     date    13.794412    62.104644   Topic5  -5.4498   0.8519\n",
       "43       many    14.840677   102.354242   Topic5  -5.3767   0.4254\n",
       "443    little    12.948425    78.533213   Topic5  -5.5131   0.5539\n",
       "\n",
       "[365 rows x 6 columns], token_table=      Topic      Freq        Term\n",
       "term                             \n",
       "317       1  0.934791           5\n",
       "317       3  0.040643           5\n",
       "1282      3  0.917492  absolutely\n",
       "3028      2  0.851850  accomplish\n",
       "710       1  0.976667     account\n",
       "...     ...       ...         ...\n",
       "82        5  0.029185       would\n",
       "2159      1  0.013530    zeppelin\n",
       "2159      2  0.243538    zeppelin\n",
       "2159      3  0.703555    zeppelin\n",
       "2159      5  0.040590    zeppelin\n",
       "\n",
       "[680 rows x 3 columns], R=30, lambda_step=0.01, plot_opts={'xlab': 'PC1', 'ylab': 'PC2'}, topic_order=[5, 4, 2, 3, 1])"
      ]
     },
     "execution_count": 33,
     "metadata": {},
     "output_type": "execute_result"
    }
   ],
   "source": [
    "# Visualize the topics\n",
    "pyLDAvis.enable_notebook()\n",
    "vis = pyLDAvis.gensim.prepare(lda_model, corpus, dictionary)\n",
    "vis"
   ]
  },
  {
   "cell_type": "markdown",
   "metadata": {},
   "source": [
    "What is topic perplexity and topic coherence: https://towardsdatascience.com/evaluate-topic-model-in-python-latent-dirichlet-allocation-lda-7d57484bb5d0"
   ]
  },
  {
   "cell_type": "code",
   "execution_count": 34,
   "metadata": {},
   "outputs": [
    {
     "name": "stdout",
     "output_type": "stream",
     "text": [
      "\n",
      "Perplexity:  -6.7356995772400055\n",
      "\n",
      "Coherence Score:  0.4480019994957985\n"
     ]
    }
   ],
   "source": [
    "# Calculate Perplexity and Coherence\n",
    "\n",
    "# Compute Perplexity\n",
    "\n",
    "print('\\nPerplexity: ', lda_model.log_perplexity(corpus))  # a measure of how good the model is. The lower the better.\n",
    "\n",
    "# Compute Coherence Score\n",
    "\n",
    "coherence_model_lda = CoherenceModel(model = lda_model, texts = df['preprocessed'], dictionary = dictionary, coherence = 'c_v')\n",
    "coherence_lda = coherence_model_lda.get_coherence()\n",
    "print('\\nCoherence Score: ', coherence_lda)"
   ]
  },
  {
   "cell_type": "markdown",
   "metadata": {},
   "source": [
    "## Hyperparameter Tuning\n",
    "\n",
    "Code references\n",
    "\n",
    "Find the optimal number of topics, alpha and beta: https://towardsdatascience.com/evaluate-topic-model-in-python-latent-dirichlet-allocation-lda-7d57484bb5d0\n",
    "\n",
    "What is alpha and beta: https://www.thoughtvector.io/blog/lda-alpha-and-beta-parameters-the-intuition/"
   ]
  },
  {
   "cell_type": "markdown",
   "metadata": {},
   "source": [
    "## Calculate the coherence score\n",
    "\n",
    "Code reference: \n",
    "\n",
    "https://www.machinelearningplus.com/nlp/topic-modeling-gensim-python/#17howtofindtheoptimalnumberoftopicsforlda"
   ]
  },
  {
   "cell_type": "code",
   "execution_count": 35,
   "metadata": {},
   "outputs": [],
   "source": [
    "# Determine the optiomal number of topics by calculating the coherence score\n",
    "\n",
    "# Define function for calculating coherence score\n",
    "\n",
    "def compute_coherence_values(dictionary, corpus, texts, limit, start = 2, step = 3):\n",
    "    \"\"\"\n",
    "    Compute c_v coherence for various number of topics\n",
    "\n",
    "    Parameters:\n",
    "    ----------\n",
    "    dictionary : Gensim dictionary\n",
    "    corpus : Gensim corpus\n",
    "    texts : List of input texts\n",
    "    limit : Max num of topics\n",
    "\n",
    "    Returns:\n",
    "    -------\n",
    "    model_list : List of LDA topic models\n",
    "    coherence_values : Coherence values corresponding to the LDA model with respective number of topics\n",
    "    \"\"\"\n",
    "    coherence_values = []\n",
    "    model_list = []\n",
    "    for num_topics in range(start, limit, step):\n",
    "        model = LDA(corpus = corpus, num_topics = num_topics, id2word = dictionary, random_state = 100,\n",
    "                chunksize = 100, passes = 10)\n",
    "        model_list.append(model)\n",
    "        coherencemodel = CoherenceModel(model = model, texts = texts, dictionary = dictionary, coherence = 'c_v')\n",
    "        coherence_values.append(coherencemodel.get_coherence())\n",
    "\n",
    "    return model_list, coherence_values"
   ]
  },
  {
   "cell_type": "code",
   "execution_count": 36,
   "metadata": {},
   "outputs": [],
   "source": [
    "# Can take a long time to run.\n",
    "\n",
    "model_list, coherence_values = compute_coherence_values(dictionary = dictionary, corpus = corpus, texts = df['preprocessed'], start = 2, limit = 10, step = 1)"
   ]
  },
  {
   "cell_type": "code",
   "execution_count": 37,
   "metadata": {},
   "outputs": [
    {
     "data": {
      "image/png": "[encoded data removed]",
      "text/plain": [
       "<Figure size 432x288 with 1 Axes>"
      ]
     },
     "metadata": {
      "needs_background": "light"
     },
     "output_type": "display_data"
    }
   ],
   "source": [
    "# Show graph\n",
    "\n",
    "limit = 10; start = 2; step = 1;\n",
    "x = range(start, limit, step)\n",
    "plt.plot(x, coherence_values)\n",
    "plt.xlabel(\"Num Topics\")\n",
    "plt.ylabel(\"Coherence score\")\n",
    "plt.legend((\"coherence_values\"), loc = 'best')\n",
    "plt.show()\n"
   ]
  },
  {
   "cell_type": "code",
   "execution_count": 38,
   "metadata": {},
   "outputs": [
    {
     "name": "stdout",
     "output_type": "stream",
     "text": [
      "Num Topics = 2  has Coherence Value of 0.4887\n",
      "Num Topics = 3  has Coherence Value of 0.4914\n",
      "Num Topics = 4  has Coherence Value of 0.4894\n",
      "Num Topics = 5  has Coherence Value of 0.4557\n",
      "Num Topics = 6  has Coherence Value of 0.4652\n",
      "Num Topics = 7  has Coherence Value of 0.4667\n",
      "Num Topics = 8  has Coherence Value of 0.4562\n",
      "Num Topics = 9  has Coherence Value of 0.4753\n"
     ]
    }
   ],
   "source": [
    "# Print the coherence scores\n",
    "\n",
    "for m, cv in zip(x, coherence_values):\n",
    "    print(\"Num Topics =\", m, \" has Coherence Value of\", round(cv, 4))"
   ]
  },
  {
   "cell_type": "markdown",
   "metadata": {},
   "source": [
    "## LDA Mallet Model\n",
    "\n",
    "Code reference:\n",
    "\n",
    "https://www.machinelearningplus.com/nlp/topic-modeling-gensim-python/#17howtofindtheoptimalnumberoftopicsforlda"
   ]
  },
  {
   "cell_type": "code",
   "execution_count": 39,
   "metadata": {},
   "outputs": [],
   "source": [
    "mallet_path = '/Users/siriamanda/Desktop/LNU-VT-2021/Thesis/11-data-analysis/mallet-2.0.8/bin/mallet' # update this path\n",
    "ldamallet = gensim.models.wrappers.LdaMallet(mallet_path, corpus = corpus, num_topics = 5, id2word = dictionary)"
   ]
  },
  {
   "cell_type": "code",
   "execution_count": 40,
   "metadata": {},
   "outputs": [
    {
     "name": "stdout",
     "output_type": "stream",
     "text": [
      "[(0,\n",
      "  [('tool', 0.22112784859018927),\n",
      "   ('data', 0.14484356894553882),\n",
      "   ('science', 0.11278485901892622),\n",
      "   ('open', 0.046543066821166476),\n",
      "   ('source', 0.04306682116647354),\n",
      "   ('introduction', 0.03630745461568173),\n",
      "   ('basic', 0.025878717651602934),\n",
      "   ('overview', 0.019891850135187333),\n",
      "   ('provide', 0.015836230204712243),\n",
      "   ('scientist', 0.014484356894553883)]),\n",
      " (1,\n",
      "  [('make', 0.029323870003735524),\n",
      "   ('material', 0.028576765035487485),\n",
      "   ('week', 0.028016436309301458),\n",
      "   ('information', 0.024280911468061262),\n",
      "   ('give', 0.022413149047441166),\n",
      "   ('follow', 0.022039596563317145),\n",
      "   ('assignment', 0.020171834142697048),\n",
      "   ('start', 0.018304071722076952),\n",
      "   ('student', 0.015689204333208816),\n",
      "   ('program', 0.015502428091146806)]),\n",
      " (2,\n",
      "  [('lot', 0.05102650986645406),\n",
      "   ('content', 0.045246163045644806),\n",
      "   ('time', 0.039665138529001394),\n",
      "   ('work', 0.033486147099860475),\n",
      "   ('outdated', 0.03328682479569464),\n",
      "   ('beginner', 0.030296990233207095),\n",
      "   ('understand', 0.026908511062387883),\n",
      "   ('platform', 0.022722742674905323),\n",
      "   ('knowledge', 0.01714171815826191),\n",
      "   ('thing', 0.016942395854096074)]),\n",
      " (3,\n",
      "  [('learn', 0.07931103544962947),\n",
      "   ('notebook', 0.03384738634087723),\n",
      "   ('experience', 0.032044862807931104),\n",
      "   ('jupyter', 0.02723813338674144),\n",
      "   ('excellent', 0.025035049068696174),\n",
      "   ('easy', 0.022831964750650913),\n",
      "   ('bit', 0.02002803925495694),\n",
      "   ('helpful', 0.019627478469857802),\n",
      "   ('find', 0.018425796114560383),\n",
      "   ('explain', 0.017023833366713398)]),\n",
      " (4,\n",
      "  [('ibm', 0.1369221767115272),\n",
      "   ('video', 0.09830310122878877),\n",
      "   ('watson', 0.09713282621416033),\n",
      "   ('studio', 0.06924127169884924),\n",
      "   ('update', 0.06143943826799298),\n",
      "   ('instruction', 0.024965866978740005),\n",
      "   ('videos', 0.02321045445679735),\n",
      "   ('cloud', 0.02047981275599766),\n",
      "   ('version', 0.018919446069826408),\n",
      "   ('tutorial', 0.018139262726740785)])]\n",
      "\n",
      "Coherence Score:  0.4174632013467578\n"
     ]
    }
   ],
   "source": [
    "# Show Topics\n",
    "pprint(ldamallet.show_topics(formatted = False))\n",
    "\n",
    "# Compute Coherence Score\n",
    "coherence_model_ldamallet = CoherenceModel(model = ldamallet, texts = df['preprocessed'], dictionary = dictionary, coherence = 'c_v')\n",
    "coherence_ldamallet = coherence_model_ldamallet.get_coherence()\n",
    "print('\\nCoherence Score: ', coherence_ldamallet)\n",
    "\n",
    "# The coherence score using the Mallet Model is lower than the original LDA Model"
   ]
  },
  {
   "cell_type": "code",
   "execution_count": null,
   "metadata": {},
   "outputs": [],
   "source": []
  },
  {
   "cell_type": "code",
   "execution_count": null,
   "metadata": {},
   "outputs": [],
   "source": []
  }
 ],
 "metadata": {
  "kernelspec": {
   "display_name": "Python 3",
   "language": "python",
   "name": "python3"
  },
  "language_info": {
   "codemirror_mode": {
    "name": "ipython",
    "version": 3
   },
   "file_extension": ".py",
   "mimetype": "text/x-python",
   "name": "python",
   "nbconvert_exporter": "python",
   "pygments_lexer": "ipython3",
   "version": "3.7.6"
  }
 },
 "nbformat": 4,
 "nbformat_minor": 4
}
