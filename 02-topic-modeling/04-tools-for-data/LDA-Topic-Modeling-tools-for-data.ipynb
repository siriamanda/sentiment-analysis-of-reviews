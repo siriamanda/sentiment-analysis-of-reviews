{
 "cells": [
  {
   "cell_type": "code",
   "execution_count": 1,
   "metadata": {},
   "outputs": [
    {
     "name": "stderr",
     "output_type": "stream",
     "text": [
      "/Users/siriamanda/opt/anaconda3/lib/python3.7/site-packages/scipy/sparse/sparsetools.py:21: DeprecationWarning: `scipy.sparse.sparsetools` is deprecated!\n",
      "scipy.sparse.sparsetools is a private module for scipy.sparse, and should not be used.\n",
      "  _deprecated()\n",
      "/Users/siriamanda/opt/anaconda3/lib/python3.7/site-packages/nltk/decorators.py:70: DeprecationWarning: `formatargspec` is deprecated since Python 3.5. Use `signature` and the `Signature` object directly\n",
      "  formatvalue=lambda value: \"\")[1:-1]\n"
     ]
    }
   ],
   "source": [
    "# Import the libraries\n",
    "\n",
    "import pandas as pd \n",
    "import numpy as np\n",
    "\n",
    "from pprint import pprint\n",
    "\n",
    "# libraries for visualization\n",
    "import pyLDAvis\n",
    "import pyLDAvis.gensim\n",
    "import matplotlib.pyplot as plt\n",
    "import seaborn as sns\n",
    "%matplotlib inline\n",
    "\n",
    "import re\n",
    "\n",
    "import spacy\n",
    "\n",
    "import gensim\n",
    "from gensim import corpora, models\n",
    "from gensim.utils import simple_preprocess\n",
    "from gensim.models import CoherenceModel\n",
    "\n",
    "import nltk\n",
    "from nltk import FreqDist\n",
    "from nltk.corpus import stopwords\n",
    "from nltk.tokenize import RegexpTokenizer\n",
    "from nltk.stem import WordNetLemmatizer, SnowballStemmer\n",
    "from nltk.tag import pos_tag, pos_tag_sents\n",
    "from nltk.corpus import wordnet\n",
    "\n",
    "import warnings\n",
    "warnings.filterwarnings(\"ignore\")\n"
   ]
  },
  {
   "cell_type": "markdown",
   "metadata": {},
   "source": [
    "Code references:\n",
    "\n",
    "https://www.analyticsvidhya.com/blog/2018/10/mining-online-reviews-topic-modeling-lda/\n"
   ]
  },
  {
   "cell_type": "code",
   "execution_count": 2,
   "metadata": {},
   "outputs": [],
   "source": [
    "df = pd.read_csv('/Users/siriamanda/Desktop/LNU-VT-2021/Thesis/11-data-analysis/sentiment-analysis-of-reviews/01-sentiment-analysis/04-tools-for-data/VADER-tools-for-data.csv')\n"
   ]
  },
  {
   "cell_type": "code",
   "execution_count": 3,
   "metadata": {},
   "outputs": [
    {
     "data": {
      "text/html": [
       "<div>\n",
       "<style scoped>\n",
       "    .dataframe tbody tr th:only-of-type {\n",
       "        vertical-align: middle;\n",
       "    }\n",
       "\n",
       "    .dataframe tbody tr th {\n",
       "        vertical-align: top;\n",
       "    }\n",
       "\n",
       "    .dataframe thead th {\n",
       "        text-align: right;\n",
       "    }\n",
       "</style>\n",
       "<table border=\"1\" class=\"dataframe\">\n",
       "  <thead>\n",
       "    <tr style=\"text-align: right;\">\n",
       "      <th></th>\n",
       "      <th>Unnamed: 0</th>\n",
       "      <th>date</th>\n",
       "      <th>review</th>\n",
       "      <th>rating</th>\n",
       "      <th>status</th>\n",
       "      <th>length</th>\n",
       "      <th>label</th>\n",
       "      <th>language_scores</th>\n",
       "      <th>language</th>\n",
       "      <th>scores</th>\n",
       "      <th>compound</th>\n",
       "      <th>sentiment</th>\n",
       "    </tr>\n",
       "  </thead>\n",
       "  <tbody>\n",
       "    <tr>\n",
       "      <th>0</th>\n",
       "      <td>0</td>\n",
       "      <td>2021-03-10</td>\n",
       "      <td>Some of the lab instructions are out of synch ...</td>\n",
       "      <td>3</td>\n",
       "      <td>completer</td>\n",
       "      <td>442</td>\n",
       "      <td>neu</td>\n",
       "      <td>{'language': 'en', 'score': 0.999997056713954}</td>\n",
       "      <td>en</td>\n",
       "      <td>{'neg': 0.075, 'neu': 0.895, 'pos': 0.029, 'co...</td>\n",
       "      <td>-0.3818</td>\n",
       "      <td>neg</td>\n",
       "    </tr>\n",
       "    <tr>\n",
       "      <th>1</th>\n",
       "      <td>1</td>\n",
       "      <td>2021-03-10</td>\n",
       "      <td>Very nice course.</td>\n",
       "      <td>5</td>\n",
       "      <td>completer</td>\n",
       "      <td>18</td>\n",
       "      <td>pos</td>\n",
       "      <td>{'language': 'en', 'score': 0.9999965592297603}</td>\n",
       "      <td>en</td>\n",
       "      <td>{'neg': 0.0, 'neu': 0.393, 'pos': 0.607, 'comp...</td>\n",
       "      <td>0.4754</td>\n",
       "      <td>pos</td>\n",
       "    </tr>\n",
       "    <tr>\n",
       "      <th>2</th>\n",
       "      <td>2</td>\n",
       "      <td>2021-03-10</td>\n",
       "      <td>I have learned much knowledge about data scien...</td>\n",
       "      <td>5</td>\n",
       "      <td>completer</td>\n",
       "      <td>210</td>\n",
       "      <td>pos</td>\n",
       "      <td>{'language': 'en', 'score': 0.9999959027806586}</td>\n",
       "      <td>en</td>\n",
       "      <td>{'neg': 0.0, 'neu': 0.727, 'pos': 0.273, 'comp...</td>\n",
       "      <td>0.8923</td>\n",
       "      <td>pos</td>\n",
       "    </tr>\n",
       "    <tr>\n",
       "      <th>3</th>\n",
       "      <td>3</td>\n",
       "      <td>2021-03-08</td>\n",
       "      <td>Clear Idea about the Data Science and its tools</td>\n",
       "      <td>5</td>\n",
       "      <td>completer</td>\n",
       "      <td>47</td>\n",
       "      <td>pos</td>\n",
       "      <td>{'language': 'en', 'score': 0.9999971743061971}</td>\n",
       "      <td>en</td>\n",
       "      <td>{'neg': 0.0, 'neu': 0.755, 'pos': 0.245, 'comp...</td>\n",
       "      <td>0.3818</td>\n",
       "      <td>pos</td>\n",
       "    </tr>\n",
       "    <tr>\n",
       "      <th>4</th>\n",
       "      <td>4</td>\n",
       "      <td>2021-03-08</td>\n",
       "      <td>Nice overview, though the course materials hav...</td>\n",
       "      <td>3</td>\n",
       "      <td>completer</td>\n",
       "      <td>450</td>\n",
       "      <td>neu</td>\n",
       "      <td>{'language': 'en', 'score': 0.9999962557747355}</td>\n",
       "      <td>en</td>\n",
       "      <td>{'neg': 0.055, 'neu': 0.873, 'pos': 0.072, 'co...</td>\n",
       "      <td>0.3400</td>\n",
       "      <td>pos</td>\n",
       "    </tr>\n",
       "  </tbody>\n",
       "</table>\n",
       "</div>"
      ],
      "text/plain": [
       "   Unnamed: 0        date                                             review  \\\n",
       "0           0  2021-03-10  Some of the lab instructions are out of synch ...   \n",
       "1           1  2021-03-10                                 Very nice course.    \n",
       "2           2  2021-03-10  I have learned much knowledge about data scien...   \n",
       "3           3  2021-03-08    Clear Idea about the Data Science and its tools   \n",
       "4           4  2021-03-08  Nice overview, though the course materials hav...   \n",
       "\n",
       "   rating     status  length label  \\\n",
       "0       3  completer     442   neu   \n",
       "1       5  completer      18   pos   \n",
       "2       5  completer     210   pos   \n",
       "3       5  completer      47   pos   \n",
       "4       3  completer     450   neu   \n",
       "\n",
       "                                   language_scores language  \\\n",
       "0   {'language': 'en', 'score': 0.999997056713954}       en   \n",
       "1  {'language': 'en', 'score': 0.9999965592297603}       en   \n",
       "2  {'language': 'en', 'score': 0.9999959027806586}       en   \n",
       "3  {'language': 'en', 'score': 0.9999971743061971}       en   \n",
       "4  {'language': 'en', 'score': 0.9999962557747355}       en   \n",
       "\n",
       "                                              scores  compound sentiment  \n",
       "0  {'neg': 0.075, 'neu': 0.895, 'pos': 0.029, 'co...   -0.3818       neg  \n",
       "1  {'neg': 0.0, 'neu': 0.393, 'pos': 0.607, 'comp...    0.4754       pos  \n",
       "2  {'neg': 0.0, 'neu': 0.727, 'pos': 0.273, 'comp...    0.8923       pos  \n",
       "3  {'neg': 0.0, 'neu': 0.755, 'pos': 0.245, 'comp...    0.3818       pos  \n",
       "4  {'neg': 0.055, 'neu': 0.873, 'pos': 0.072, 'co...    0.3400       pos  "
      ]
     },
     "execution_count": 3,
     "metadata": {},
     "output_type": "execute_result"
    }
   ],
   "source": [
    "df.head()"
   ]
  },
  {
   "cell_type": "code",
   "execution_count": 4,
   "metadata": {},
   "outputs": [],
   "source": [
    "df.drop(['Unnamed: 0', 'language_scores', 'language', 'scores'], axis = 1, inplace = True)"
   ]
  },
  {
   "cell_type": "code",
   "execution_count": 5,
   "metadata": {},
   "outputs": [
    {
     "data": {
      "text/html": [
       "<div>\n",
       "<style scoped>\n",
       "    .dataframe tbody tr th:only-of-type {\n",
       "        vertical-align: middle;\n",
       "    }\n",
       "\n",
       "    .dataframe tbody tr th {\n",
       "        vertical-align: top;\n",
       "    }\n",
       "\n",
       "    .dataframe thead th {\n",
       "        text-align: right;\n",
       "    }\n",
       "</style>\n",
       "<table border=\"1\" class=\"dataframe\">\n",
       "  <thead>\n",
       "    <tr style=\"text-align: right;\">\n",
       "      <th></th>\n",
       "      <th>date</th>\n",
       "      <th>review</th>\n",
       "      <th>rating</th>\n",
       "      <th>status</th>\n",
       "      <th>length</th>\n",
       "      <th>label</th>\n",
       "      <th>compound</th>\n",
       "      <th>sentiment</th>\n",
       "    </tr>\n",
       "  </thead>\n",
       "  <tbody>\n",
       "    <tr>\n",
       "      <th>0</th>\n",
       "      <td>2021-03-10</td>\n",
       "      <td>Some of the lab instructions are out of synch ...</td>\n",
       "      <td>3</td>\n",
       "      <td>completer</td>\n",
       "      <td>442</td>\n",
       "      <td>neu</td>\n",
       "      <td>-0.3818</td>\n",
       "      <td>neg</td>\n",
       "    </tr>\n",
       "    <tr>\n",
       "      <th>1</th>\n",
       "      <td>2021-03-10</td>\n",
       "      <td>Very nice course.</td>\n",
       "      <td>5</td>\n",
       "      <td>completer</td>\n",
       "      <td>18</td>\n",
       "      <td>pos</td>\n",
       "      <td>0.4754</td>\n",
       "      <td>pos</td>\n",
       "    </tr>\n",
       "    <tr>\n",
       "      <th>2</th>\n",
       "      <td>2021-03-10</td>\n",
       "      <td>I have learned much knowledge about data scien...</td>\n",
       "      <td>5</td>\n",
       "      <td>completer</td>\n",
       "      <td>210</td>\n",
       "      <td>pos</td>\n",
       "      <td>0.8923</td>\n",
       "      <td>pos</td>\n",
       "    </tr>\n",
       "    <tr>\n",
       "      <th>3</th>\n",
       "      <td>2021-03-08</td>\n",
       "      <td>Clear Idea about the Data Science and its tools</td>\n",
       "      <td>5</td>\n",
       "      <td>completer</td>\n",
       "      <td>47</td>\n",
       "      <td>pos</td>\n",
       "      <td>0.3818</td>\n",
       "      <td>pos</td>\n",
       "    </tr>\n",
       "    <tr>\n",
       "      <th>4</th>\n",
       "      <td>2021-03-08</td>\n",
       "      <td>Nice overview, though the course materials hav...</td>\n",
       "      <td>3</td>\n",
       "      <td>completer</td>\n",
       "      <td>450</td>\n",
       "      <td>neu</td>\n",
       "      <td>0.3400</td>\n",
       "      <td>pos</td>\n",
       "    </tr>\n",
       "    <tr>\n",
       "      <th>...</th>\n",
       "      <td>...</td>\n",
       "      <td>...</td>\n",
       "      <td>...</td>\n",
       "      <td>...</td>\n",
       "      <td>...</td>\n",
       "      <td>...</td>\n",
       "      <td>...</td>\n",
       "      <td>...</td>\n",
       "    </tr>\n",
       "    <tr>\n",
       "      <th>3031</th>\n",
       "      <td>2018-09-19</td>\n",
       "      <td>Another Great class.  Really introduces you to...</td>\n",
       "      <td>5</td>\n",
       "      <td>dropout</td>\n",
       "      <td>188</td>\n",
       "      <td>pos</td>\n",
       "      <td>0.8360</td>\n",
       "      <td>pos</td>\n",
       "    </tr>\n",
       "    <tr>\n",
       "      <th>3032</th>\n",
       "      <td>2018-09-19</td>\n",
       "      <td>Great introduction to the various open source ...</td>\n",
       "      <td>5</td>\n",
       "      <td>dropout</td>\n",
       "      <td>75</td>\n",
       "      <td>pos</td>\n",
       "      <td>0.6249</td>\n",
       "      <td>pos</td>\n",
       "    </tr>\n",
       "    <tr>\n",
       "      <th>3033</th>\n",
       "      <td>2018-09-19</td>\n",
       "      <td>Simple trivial materials</td>\n",
       "      <td>3</td>\n",
       "      <td>dropout</td>\n",
       "      <td>24</td>\n",
       "      <td>neu</td>\n",
       "      <td>-0.0258</td>\n",
       "      <td>neg</td>\n",
       "    </tr>\n",
       "    <tr>\n",
       "      <th>3034</th>\n",
       "      <td>2018-09-19</td>\n",
       "      <td>Very practical course!</td>\n",
       "      <td>5</td>\n",
       "      <td>dropout</td>\n",
       "      <td>22</td>\n",
       "      <td>pos</td>\n",
       "      <td>0.0000</td>\n",
       "      <td>neu</td>\n",
       "    </tr>\n",
       "    <tr>\n",
       "      <th>3035</th>\n",
       "      <td>2018-09-18</td>\n",
       "      <td>Great Course introducing us to these tools</td>\n",
       "      <td>5</td>\n",
       "      <td>dropout</td>\n",
       "      <td>42</td>\n",
       "      <td>pos</td>\n",
       "      <td>0.6249</td>\n",
       "      <td>pos</td>\n",
       "    </tr>\n",
       "  </tbody>\n",
       "</table>\n",
       "<p>3036 rows × 8 columns</p>\n",
       "</div>"
      ],
      "text/plain": [
       "            date                                             review  rating  \\\n",
       "0     2021-03-10  Some of the lab instructions are out of synch ...       3   \n",
       "1     2021-03-10                                 Very nice course.        5   \n",
       "2     2021-03-10  I have learned much knowledge about data scien...       5   \n",
       "3     2021-03-08    Clear Idea about the Data Science and its tools       5   \n",
       "4     2021-03-08  Nice overview, though the course materials hav...       3   \n",
       "...          ...                                                ...     ...   \n",
       "3031  2018-09-19  Another Great class.  Really introduces you to...       5   \n",
       "3032  2018-09-19  Great introduction to the various open source ...       5   \n",
       "3033  2018-09-19                           Simple trivial materials       3   \n",
       "3034  2018-09-19                             Very practical course!       5   \n",
       "3035  2018-09-18         Great Course introducing us to these tools       5   \n",
       "\n",
       "         status  length label  compound sentiment  \n",
       "0     completer     442   neu   -0.3818       neg  \n",
       "1     completer      18   pos    0.4754       pos  \n",
       "2     completer     210   pos    0.8923       pos  \n",
       "3     completer      47   pos    0.3818       pos  \n",
       "4     completer     450   neu    0.3400       pos  \n",
       "...         ...     ...   ...       ...       ...  \n",
       "3031    dropout     188   pos    0.8360       pos  \n",
       "3032    dropout      75   pos    0.6249       pos  \n",
       "3033    dropout      24   neu   -0.0258       neg  \n",
       "3034    dropout      22   pos    0.0000       neu  \n",
       "3035    dropout      42   pos    0.6249       pos  \n",
       "\n",
       "[3036 rows x 8 columns]"
      ]
     },
     "execution_count": 5,
     "metadata": {},
     "output_type": "execute_result"
    }
   ],
   "source": [
    "df"
   ]
  },
  {
   "cell_type": "code",
   "execution_count": 6,
   "metadata": {},
   "outputs": [
    {
     "data": {
      "text/plain": [
       "0"
      ]
     },
     "execution_count": 6,
     "metadata": {},
     "output_type": "execute_result"
    }
   ],
   "source": [
    "# Check for null values\n",
    "\n",
    "len(df[df['review'].isna()==True])"
   ]
  },
  {
   "cell_type": "code",
   "execution_count": 7,
   "metadata": {},
   "outputs": [],
   "source": [
    "# Drop null values\n",
    "\n",
    "# df.dropna(inplace = True)"
   ]
  },
  {
   "cell_type": "code",
   "execution_count": 8,
   "metadata": {},
   "outputs": [],
   "source": [
    "# Check for null values\n",
    "\n",
    "# len(df[df['review'].isna()==True])"
   ]
  },
  {
   "cell_type": "code",
   "execution_count": 9,
   "metadata": {},
   "outputs": [],
   "source": [
    "# Reset the index\n",
    "\n",
    "# df = df.reset_index(drop = True)"
   ]
  },
  {
   "cell_type": "code",
   "execution_count": 10,
   "metadata": {},
   "outputs": [],
   "source": [
    "# df"
   ]
  },
  {
   "cell_type": "code",
   "execution_count": 11,
   "metadata": {},
   "outputs": [],
   "source": [
    "# Define a function to plot the most frequent words\n",
    "\n",
    "def freq_words(x, terms = 30):\n",
    "    all_words = ' '.join([text for text in x])\n",
    "    all_words = all_words.split()\n",
    "\n",
    "    fdist = FreqDist(all_words)\n",
    "    words_df = pd.DataFrame({'word':list(fdist.keys()), 'count':list(fdist.values())})\n",
    "    \n",
    "    # selecting top 20 most frequent words\n",
    "    d = words_df.nlargest(columns=\"count\", n = terms) \n",
    "    plt.figure(figsize=(20,5))\n",
    "    ax = sns.barplot(data=d, x= \"word\", y = \"count\")\n",
    "    ax.set(ylabel = 'Count')\n",
    "    plt.xticks(rotation = 45)\n",
    "    plt.show()"
   ]
  },
  {
   "cell_type": "code",
   "execution_count": 12,
   "metadata": {},
   "outputs": [
    {
     "data": {
      "image/png": "[encoded data removed]",
      "text/plain": [
       "<Figure size 1440x360 with 1 Axes>"
      ]
     },
     "metadata": {
      "needs_background": "light"
     },
     "output_type": "display_data"
    }
   ],
   "source": [
    "# The most frquent words are stop words such as 'to' and 'the' we will remove these in the preprocessing steps\n",
    "\n",
    "freq_words(df['review'])"
   ]
  },
  {
   "cell_type": "markdown",
   "metadata": {},
   "source": [
    "## Preprocessing"
   ]
  },
  {
   "cell_type": "code",
   "execution_count": 13,
   "metadata": {},
   "outputs": [
    {
     "data": {
      "text/plain": [
       "0    some of the lab instructions are out of synch ...\n",
       "1                                    very nice course.\n",
       "2    i have learned much knowledge about data scien...\n",
       "3      clear idea about the data science and its tools\n",
       "4    nice overview, though the course materials hav...\n",
       "Name: preprocessed, dtype: object"
      ]
     },
     "execution_count": 13,
     "metadata": {},
     "output_type": "execute_result"
    }
   ],
   "source": [
    "# Covert to lowercase\n",
    "\n",
    "df['preprocessed'] =  df['review'].apply(lambda x: \" \".join(x.lower() for x in x.split()))\n",
    "df['preprocessed'].head()"
   ]
  },
  {
   "cell_type": "code",
   "execution_count": 14,
   "metadata": {},
   "outputs": [
    {
     "data": {
      "text/plain": [
       "0    some of the lab instructions are out of synch ...\n",
       "1                                     very nice course\n",
       "2    i have learned much knowledge about data scien...\n",
       "3      clear idea about the data science and its tools\n",
       "4    nice overview though the course materials have...\n",
       "Name: preprocessed, dtype: object"
      ]
     },
     "execution_count": 14,
     "metadata": {},
     "output_type": "execute_result"
    }
   ],
   "source": [
    "# Remove punctuations\n",
    "\n",
    "df['preprocessed'] = df['preprocessed'].str.replace('[^\\w\\s]','')\n",
    "df['preprocessed'].head()"
   ]
  },
  {
   "cell_type": "code",
   "execution_count": 15,
   "metadata": {},
   "outputs": [
    {
     "data": {
      "text/plain": [
       "0    lab instructions synch screenshots also extern...\n",
       "1                                               course\n",
       "2    learned much knowledge data science many tools...\n",
       "3                        clear idea data science tools\n",
       "4    overview though course materials updated detai...\n",
       "Name: preprocessed, dtype: object"
      ]
     },
     "execution_count": 15,
     "metadata": {},
     "output_type": "execute_result"
    }
   ],
   "source": [
    "# Remove stopwords\n",
    "\n",
    "stop = stopwords.words('english')\n",
    "stop.extend(['good', 'great', 'really', 'like', 'nice'])\n",
    "\n",
    "df['preprocessed'] = df['preprocessed'].apply(lambda x: \" \".join(x for x in x.split() if x not in stop))\n",
    "df['preprocessed'].head()"
   ]
  },
  {
   "cell_type": "code",
   "execution_count": 16,
   "metadata": {},
   "outputs": [],
   "source": [
    "# Remove short words (length < 3)\n",
    "\n",
    "# df['review'] = df['review'].apply(lambda x: ' '.join([w for w in x.split() if len(w)>2]))\n",
    "# df['review'].head()"
   ]
  },
  {
   "cell_type": "code",
   "execution_count": 17,
   "metadata": {},
   "outputs": [
    {
     "data": {
      "image/png": "[encoded data removed]",
      "text/plain": [
       "<Figure size 1440x360 with 1 Axes>"
      ]
     },
     "metadata": {
      "needs_background": "light"
     },
     "output_type": "display_data"
    }
   ],
   "source": [
    "# Look at the most frequent words again \n",
    "\n",
    "freq_words(df['preprocessed'])"
   ]
  },
  {
   "cell_type": "code",
   "execution_count": 18,
   "metadata": {},
   "outputs": [
    {
     "data": {
      "text/plain": [
       "0    [lab, instructions, synch, screenshots, also, ...\n",
       "1                                             [course]\n",
       "2    [learned, much, knowledge, data, science, many...\n",
       "3                  [clear, idea, data, science, tools]\n",
       "4    [overview, though, course, materials, updated,...\n",
       "Name: preprocessed, dtype: object"
      ]
     },
     "execution_count": 18,
     "metadata": {},
     "output_type": "execute_result"
    }
   ],
   "source": [
    "# Tokenization\n",
    "\n",
    "tokenizer = RegexpTokenizer(r'\\w+')\n",
    "\n",
    "df['preprocessed'] = df['preprocessed'].apply(lambda x: tokenizer.tokenize(x.lower()))\n",
    "df['preprocessed'].head(5)\n"
   ]
  },
  {
   "cell_type": "code",
   "execution_count": 19,
   "metadata": {},
   "outputs": [
    {
     "data": {
      "text/plain": [
       "0    [(lab, NN), (instructions, NNS), (synch, VBP),...\n",
       "1                                       [(course, NN)]\n",
       "2    [(learned, VBN), (much, JJ), (knowledge, NN), ...\n",
       "3    [(clear, JJ), (idea, NN), (data, NNS), (scienc...\n",
       "4    [(overview, NN), (though, IN), (course, NN), (...\n",
       "Name: preprocessed, dtype: object"
      ]
     },
     "execution_count": 19,
     "metadata": {},
     "output_type": "execute_result"
    }
   ],
   "source": [
    "# Add speech tags\n",
    "\n",
    "df['preprocessed'] = df['preprocessed'].apply(nltk.tag.pos_tag)\n",
    "df['preprocessed'].head()"
   ]
  },
  {
   "cell_type": "code",
   "execution_count": 20,
   "metadata": {},
   "outputs": [],
   "source": [
    "# Define function to convert parts of speech tags to wordnet’s format\n",
    "\n",
    "def get_wordnet_pos(tag):\n",
    "    if tag.startswith('J'):\n",
    "        return wordnet.ADJ\n",
    "    elif tag.startswith('V'):\n",
    "        return wordnet.VERB\n",
    "    elif tag.startswith('N'):\n",
    "        return wordnet.NOUN\n",
    "    elif tag.startswith('R'):\n",
    "        return wordnet.ADV\n",
    "    else:\n",
    "        return wordnet.NOUN"
   ]
  },
  {
   "cell_type": "code",
   "execution_count": 21,
   "metadata": {},
   "outputs": [
    {
     "data": {
      "text/plain": [
       "0    [(lab, n), (instructions, n), (synch, v), (scr...\n",
       "1                                        [(course, n)]\n",
       "2    [(learned, v), (much, a), (knowledge, n), (dat...\n",
       "3    [(clear, a), (idea, n), (data, n), (science, n...\n",
       "4    [(overview, n), (though, n), (course, n), (mat...\n",
       "Name: preprocessed, dtype: object"
      ]
     },
     "execution_count": 21,
     "metadata": {},
     "output_type": "execute_result"
    }
   ],
   "source": [
    "# Apply the function to the tagged data\n",
    "\n",
    "df['preprocessed'] = df['preprocessed'].apply(lambda x: [(word, get_wordnet_pos(pos_tag)) for (word, pos_tag) in x])\n",
    "df['preprocessed'].head()"
   ]
  },
  {
   "cell_type": "code",
   "execution_count": 22,
   "metadata": {},
   "outputs": [
    {
     "data": {
      "text/plain": [
       "0    [lab, instruction, synch, screenshots, also, e...\n",
       "1                                             [course]\n",
       "2    [learn, much, knowledge, data, science, many, ...\n",
       "3                   [clear, idea, data, science, tool]\n",
       "4    [overview, though, course, material, update, d...\n",
       "Name: preprocessed, dtype: object"
      ]
     },
     "execution_count": 22,
     "metadata": {},
     "output_type": "execute_result"
    }
   ],
   "source": [
    "# Create lemmatizer\n",
    "\n",
    "lemmatizer = WordNetLemmatizer()\n",
    "\n",
    "# Apply to data \n",
    "\n",
    "df['preprocessed'] = df['preprocessed'].apply(lambda x: [lemmatizer.lemmatize(word, tag) for word, tag in x])\n",
    "df['preprocessed'].head()"
   ]
  },
  {
   "cell_type": "code",
   "execution_count": 23,
   "metadata": {},
   "outputs": [],
   "source": [
    "# Join reviews\n",
    "\n",
    "df['joined'] = df['preprocessed'].apply(lambda x: ' '.join(x))"
   ]
  },
  {
   "cell_type": "code",
   "execution_count": 24,
   "metadata": {},
   "outputs": [
    {
     "data": {
      "image/png": "[encoded data removed]",
      "text/plain": [
       "<Figure size 1440x360 with 1 Axes>"
      ]
     },
     "metadata": {
      "needs_background": "light"
     },
     "output_type": "display_data"
    }
   ],
   "source": [
    "# Most frequent words after lemmatizing \n",
    "\n",
    "freq_words(df['joined'], 35)"
   ]
  },
  {
   "cell_type": "markdown",
   "metadata": {},
   "source": [
    "## LDA Topic Modeling"
   ]
  },
  {
   "cell_type": "code",
   "execution_count": 25,
   "metadata": {},
   "outputs": [],
   "source": [
    "# Create a dictionary from 'df_sen['review']' containing the number of times a word appears in the training set\n",
    "\n",
    "dictionary = gensim.corpora.Dictionary(df['preprocessed'])"
   ]
  },
  {
   "cell_type": "code",
   "execution_count": 26,
   "metadata": {},
   "outputs": [],
   "source": [
    "# Gensim filter extremes\n",
    "\n",
    "# Filter out tokens that appear in:\n",
    "# Less than 50 documents, more than 0.5 documents, and keep only 100000 most frquent tokens\n",
    "\n",
    "# dictionary.filter_extremes(no_below = 50, no_above = 0.5, keep_n = 100000)"
   ]
  },
  {
   "cell_type": "code",
   "execution_count": 27,
   "metadata": {},
   "outputs": [],
   "source": [
    "# Gensim doc2bow\n",
    "# Create a dictionary reporting how many words and how many times those words appear\n",
    "\n",
    "corpus = [dictionary.doc2bow(doc) for doc in df['preprocessed']]\n"
   ]
  },
  {
   "cell_type": "code",
   "execution_count": 28,
   "metadata": {},
   "outputs": [],
   "source": [
    "# Add TF-IDF\n",
    "\n",
    "tfidf = models.TfidfModel(corpus)      # Create a TF-IDF model\n",
    "corpus_tfidf = tfidf[corpus]  "
   ]
  },
  {
   "cell_type": "code",
   "execution_count": 39,
   "metadata": {},
   "outputs": [],
   "source": [
    "# Creating the object for LDA model using gensim library\n",
    "LDA = gensim.models.LdaMulticore\n",
    "\n",
    "# Build LDA model\n",
    "lda_model = LDA(corpus = corpus, id2word = dictionary, num_topics = 4, random_state = 100,\n",
    "                chunksize = 100, passes = 10)"
   ]
  },
  {
   "cell_type": "code",
   "execution_count": 40,
   "metadata": {},
   "outputs": [
    {
     "name": "stdout",
     "output_type": "stream",
     "text": [
      "Topic: 0\n",
      "Word: 0.054*\"course\" + 0.036*\"video\" + 0.027*\"update\" + 0.026*\"watson\" + 0.026*\"ibm\" + 0.019*\"studio\" + 0.018*\"need\" + 0.018*\"outdated\" + 0.012*\"material\" + 0.011*\"time\"\n",
      "\n",
      "Topic: 1\n",
      "Word: 0.037*\"course\" + 0.036*\"ibm\" + 0.035*\"tool\" + 0.028*\"watson\" + 0.021*\"data\" + 0.019*\"studio\" + 0.016*\"use\" + 0.014*\"science\" + 0.014*\"learn\" + 0.011*\"open\"\n",
      "\n",
      "Topic: 2\n",
      "Word: 0.040*\"course\" + 0.012*\"beginner\" + 0.011*\"ibm\" + 0.011*\"content\" + 0.010*\"easy\" + 0.010*\"week\" + 0.010*\"awesome\" + 0.009*\"well\" + 0.009*\"instructor\" + 0.009*\"video\"\n",
      "\n",
      "Topic: 3\n",
      "Word: 0.069*\"tool\" + 0.047*\"course\" + 0.046*\"data\" + 0.038*\"science\" + 0.020*\"use\" + 0.019*\"introduction\" + 0.015*\"learn\" + 0.014*\"source\" + 0.014*\"open\" + 0.009*\"get\"\n",
      "\n"
     ]
    }
   ],
   "source": [
    "# Explore the words occurring in each topic and its relative weight\n",
    "\n",
    "for id, topic in lda_model.print_topics(-1):\n",
    "    print('Topic: {}\\nWord: {}\\n'.format(id, topic))"
   ]
  },
  {
   "cell_type": "markdown",
   "metadata": {},
   "source": [
    "### Visualise with pyLDAvis\n",
    "\n",
    "Original paper: https://nlp.stanford.edu/events/illvi2014/papers/sievert-illvi2014.pdf"
   ]
  },
  {
   "cell_type": "code",
   "execution_count": 41,
   "metadata": {
    "scrolled": false
   },
   "outputs": [
    {
     "data": {
      "text/html": [
       "\n",
       "<link rel=\"stylesheet\" type=\"text/css\" href=\"https://cdn.jsdelivr.net/gh/bmabey/pyLDAvis@3.2.2/pyLDAvis/js/ldavis.v1.0.0.css\">\n",
       "\n",
       "\n",
       "<div id=\"ldavis_el386341406760368082725024069105\"></div>\n",
       "<script type=\"text/javascript\">\n",
       "\n",
       "var ldavis_el386341406760368082725024069105_data = {\"mdsDat\": {\"x\": [0.05786730405859756, 0.16173278841151778, -0.13601292024054573, -0.08358717222956961], \"y\": [-0.07161546272892132, 0.019951722231180115, -0.09987024049486477, 0.1515339809926059], \"topics\": [1, 2, 3, 4], \"cluster\": [1, 1, 1, 1], \"Freq\": [30.16680703179971, 28.820964281236392, 24.67961612797111, 16.332612558992786]}, \"tinfo\": {\"Term\": [\"tool\", \"data\", \"science\", \"watson\", \"update\", \"ibm\", \"studio\", \"video\", \"introduction\", \"outdated\", \"open\", \"source\", \"use\", \"awesome\", \"beginner\", \"content\", \"instruction\", \"jupyter\", \"notebook\", \"date\", \"material\", \"easy\", \"version\", \"instructor\", \"follow\", \"need\", \"excellent\", \"change\", \"week\", \"videos\", \"hour\", \"python\", \"explore\", \"ide\", \"cognitive\", \"excite\", \"r\", \"introductory\", \"d\", \"clip\", \"popular\", \"promo\", \"machine\", \"fantastic\", \"scala\", \"aware\", \"unnecessary\", \"month\", \"web\", \"lite\", \"let\", \"suck\", \"pity\", \"turn\", \"upgraded\", \"enterprise\", \"approximately\", \"solve\", \"ds\", \"eg\", \"notebooks\", \"option\", \"thank\", \"jupyter\", \"network\", \"step\", \"another\", \"notebook\", \"class\", \"ibm\", \"watson\", \"studio\", \"account\", \"free\", \"cloud\", \"different\", \"platform\", \"certificate\", \"create\", \"environment\", \"tool\", \"use\", \"new\", \"experience\", \"open\", \"learn\", \"course\", \"data\", \"source\", \"lab\", \"science\", \"get\", \"much\", \"video\", \"work\", \"would\", \"give\", \"content\", \"one\", \"need\", \"update\", \"exist\", \"computer\", \"interactive\", \"build\", \"require\", \"gentle\", \"apache\", \"view\", \"detailed\", \"confidence\", \"introduction\", \"fast\", \"indeed\", \"activity\", \"excelent\", \"particularly\", \"terminology\", \"tools\", \"familiarize\", \"variety\", \"clearly\", \"large\", \"structured\", \"challenge\", \"future\", \"practice\", \"ides\", \"jupiter\", \"prior\", \"generate\", \"become\", \"informative\", \"science\", \"nonetheless\", \"start\", \"practical\", \"various\", \"data\", \"tool\", \"basic\", \"overview\", \"wonderful\", \"available\", \"example\", \"source\", \"use\", \"open\", \"exercise\", \"helpful\", \"scientist\", \"course\", \"give\", \"learn\", \"useful\", \"get\", \"program\", \"lot\", \"know\", \"information\", \"work\", \"well\", \"notebook\", \"understand\", \"would\", \"one\", \"date\", \"late\", \"lead\", \"minor\", \"confusion\", \"unclear\", \"result\", \"marketing\", \"discrepancy\", \"difference\", \"mark\", \"correspond\", \"uptodate\", \"staff\", \"advertisement\", \"v\", \"light\", \"figuring\", \"confused\", \"board\", \"demo\", \"waste\", \"submit\", \"overcome\", \"education\", \"solid\", \"tricky\", \"mismatch\", \"motivate\", \"teaching\", \"layout\", \"check\", \"update\", \"instruction\", \"change\", \"website\", \"outdated\", \"dsx\", \"difficulty\", \"video\", \"match\", \"reflect\", \"material\", \"videos\", \"grade\", \"thanks\", \"version\", \"interface\", \"need\", \"excellent\", \"old\", \"watson\", \"time\", \"studio\", \"course\", \"make\", \"find\", \"ibm\", \"content\", \"actual\", \"follow\", \"tutorial\", \"clear\", \"assignment\", \"lot\", \"take\", \"one\", \"learn\", \"awesome\", \"cool\", \"design\", \"due\", \"super\", \"pretty\", \"engage\", \"slow\", \"compare\", \"poorly\", \"awareness\", \"market\", \"codeacademy\", \"indepth\", \"deliver\", \"nobody\", \"okay\", \"post\", \"none\", \"delivery\", \"organize\", \"novice\", \"slide\", \"original\", \"surprise\", \"care\", \"responsive\", \"advance\", \"couple\", \"mostly\", \"cannot\", \"quality\", \"three\", \"expect\", \"suppose\", \"reading\", \"instructor\", \"spent\", \"put\", \"beginner\", \"lesson\", \"section\", \"easy\", \"week\", \"2\", \"coursera\", \"explain\", \"first\", \"structure\", \"follow\", \"well\", \"course\", \"understand\", \"content\", \"overall\", \"question\", \"little\", \"much\", \"ibm\", \"video\", \"lecture\", \"would\", \"love\", \"level\", \"information\", \"learn\", \"outdated\", \"experience\", \"lot\"], \"Freq\": [1057.0, 669.0, 516.0, 507.0, 278.0, 653.0, 357.0, 457.0, 201.0, 186.0, 250.0, 238.0, 380.0, 56.0, 129.0, 209.0, 110.0, 119.0, 155.0, 62.0, 146.0, 118.0, 100.0, 69.0, 102.0, 261.0, 97.0, 74.0, 116.0, 110.0, 25.71346996158259, 40.01483863038586, 19.088545256338247, 18.68324940389416, 19.108680655551222, 16.70835974011815, 51.548582815911004, 32.10867406992047, 11.735972698627615, 10.297284563405762, 12.939314746930659, 10.158434429425048, 10.893402081924325, 11.42267526269043, 10.052869634508504, 9.978735242334377, 10.886408293791378, 11.541706490762586, 20.176833659714497, 8.884983759983573, 8.816680697452108, 7.988019128600835, 7.625228564904856, 8.028908635742185, 8.03305874343319, 7.258928019073424, 7.196642493711469, 12.039116172685493, 7.647872708976339, 7.204218106001784, 33.67487093243994, 20.27561526542622, 52.38052235112946, 101.12859631553873, 14.71350958132372, 39.02881206924547, 12.820263291842805, 105.15617112510581, 41.30554591877701, 367.91938290738807, 282.51239397791096, 197.3736200358584, 37.96292449084013, 38.159062292569246, 66.87403101150079, 66.84324311396283, 65.64321948605836, 20.379903378705023, 46.74788387347114, 35.88182157782086, 353.8780075390412, 160.37455329695604, 66.36309659502409, 78.71719618489624, 114.04062838776906, 141.07168853142701, 381.56661226823707, 211.16537975262526, 99.91113937975335, 46.28647946931126, 142.6491958651938, 73.5495411033515, 56.00872544420242, 87.24353532448924, 59.33027270143315, 55.19311505977277, 54.197584180904244, 57.29033771447716, 50.69950028997811, 50.843626105582075, 50.636339648731195, 20.42621933030866, 19.50361193208277, 21.454220935130103, 14.2745549200762, 40.18302016639334, 12.370544397452653, 11.965230944315206, 11.566301436389379, 11.72783480221234, 12.108611671056192, 188.4518073501646, 12.974397864626082, 8.400421615192103, 11.772794100122741, 7.153409539537872, 7.4602919015344975, 6.6408069302557635, 6.531955321708437, 6.405192063463904, 6.251803456800712, 13.41487644331935, 6.1513449856234, 5.595664955442613, 26.99380527357793, 15.270067290906665, 52.47544762742459, 5.72743442713301, 5.479696771219119, 12.757165258877157, 5.3805660151428, 14.215705767012523, 61.362931524082796, 369.7741847413182, 8.913891558910905, 69.84137004236678, 42.57166602549958, 53.10302945505874, 451.5581975201476, 676.6382451856099, 89.5649325312314, 73.8747184358578, 19.018557137661492, 68.1179230897663, 29.856552277522262, 137.98371035847666, 194.85126682180118, 136.3391078574214, 36.798065080047564, 52.517584394003, 52.398863019732765, 457.3322304277044, 81.71739967530358, 146.85565726027153, 60.059037996426376, 91.22920522244726, 39.08558178997171, 90.4680788998948, 55.351301271021704, 55.13430169746088, 69.25160990723282, 55.113467483102156, 49.52708800779863, 44.63107491531591, 49.18837060705128, 47.39206301479908, 61.45866518349157, 18.235463419638386, 14.924530220319545, 11.420470299145785, 25.571095827704088, 11.322259943130632, 10.484980982941906, 9.044359636104659, 9.009731856406333, 12.413961681715106, 10.11110823102897, 7.761502313403197, 7.365314822194867, 7.213153209540888, 19.401520367302975, 6.762213352380982, 7.112450946064452, 6.603919311208999, 7.41615119450709, 6.09423808935676, 5.9608894046341225, 37.39605916509469, 6.192990629925012, 5.442355584185536, 9.96820123172974, 5.437289030148043, 5.886094218142872, 5.196910486459877, 5.527554971028325, 5.157359729423486, 14.08929832317421, 12.25954031782231, 226.074130479995, 91.52255140892579, 61.843326142589426, 44.190992430523956, 148.57087134240433, 10.813052281036173, 13.577606540829281, 302.5323303515881, 44.246959114662225, 21.460381035080733, 102.69803216217868, 76.26983502915243, 14.51494434620073, 50.733612278287396, 67.73034071171068, 42.627246520065476, 149.36684888322497, 63.41930965484606, 35.90517818624632, 221.18578676203742, 93.64759558143308, 158.65544951958282, 455.3148523664167, 71.07255708368216, 49.81866562421747, 218.10555552356587, 91.07600159186369, 29.232825353082482, 48.428434345172526, 45.85605384731067, 33.20000238233047, 46.319100870487546, 69.75253919096428, 42.45528543720984, 49.85879312155497, 41.68612315683585, 55.25204820186658, 17.281748965806642, 21.879082759270986, 17.989421264516633, 13.774077634865437, 24.542093717126633, 10.855536061950332, 10.690118262827443, 10.18329575631303, 16.550073123183147, 8.640415824665265, 7.363882983463456, 6.936305927048542, 7.4884550762656, 6.865574642584402, 6.001215155847538, 6.038940440110502, 5.99721349155709, 6.638111721472003, 5.351844632186974, 17.147230688741054, 5.799367524311024, 5.097965380039391, 5.105471721498575, 5.204809881012657, 4.861702276075767, 4.8487896294720905, 4.9583667543861285, 5.927190808303428, 4.944357064272047, 17.546513298821555, 25.009523149801787, 9.45208759048845, 24.642908343890184, 13.90358288045835, 11.468352425893979, 48.44495699391465, 8.59493715479383, 18.168760500693754, 67.64294271570691, 24.569551369849762, 27.34912593846331, 58.09987266234175, 55.92821866749036, 26.80438167189575, 39.416437065355645, 38.69202760605415, 29.31805299209427, 17.683023389471508, 43.44739106474776, 51.688108781350024, 221.4914846003295, 41.38798980856289, 60.30056126970104, 30.95957536570401, 23.5895971234646, 29.87966196747122, 37.541918883545506, 63.3227583160508, 47.39751041478016, 21.86860319155093, 32.30863096406663, 22.694358084340916, 21.91905817446868, 25.627894947235585, 30.340234717160612, 27.078247021184886, 26.117182794705244, 27.02996679980038], \"Total\": [1057.0, 669.0, 516.0, 507.0, 278.0, 653.0, 357.0, 457.0, 201.0, 186.0, 250.0, 238.0, 380.0, 56.0, 129.0, 209.0, 110.0, 119.0, 155.0, 62.0, 146.0, 118.0, 100.0, 69.0, 102.0, 261.0, 97.0, 74.0, 116.0, 110.0, 26.454055307783698, 41.27461560645142, 19.817290311046364, 19.417225598859446, 19.86034529554094, 17.494291991678807, 54.115555890726014, 33.8986728356284, 12.46061822229573, 11.007723434326767, 13.834152241591637, 10.86563905255632, 11.66697739199316, 12.238562600007405, 10.776661093330686, 10.711106370850008, 11.711521219342705, 12.449919657273014, 21.779945548736606, 9.600344548969062, 9.549903229422966, 8.699970988349216, 8.336041072417693, 8.777875775585999, 8.814293802546485, 7.966035034769348, 7.897709903097525, 13.223416759689144, 8.4117385125706, 7.933566499078191, 37.1992149920106, 22.402695581961147, 59.58823408188989, 119.88056284122972, 16.76649201594893, 48.142075595110946, 14.704767131706555, 155.62480635453144, 54.65904646457649, 653.7278217605387, 507.15258371775417, 357.0677057960226, 51.9814341195084, 52.94643284013721, 104.36403569609266, 105.57735741689716, 104.34106858336705, 25.283426331676168, 72.28061591253075, 52.62431472387692, 1057.4640793265614, 380.61868333721213, 119.86335736402344, 151.0907318584683, 250.87030956565528, 359.953703665695, 1515.705179662688, 669.4100845012765, 238.46032088767413, 79.60494691688714, 516.1268776496235, 200.3139904685026, 138.00362665498062, 457.01917930840386, 172.55650257392762, 171.1063333857549, 161.81405375859043, 209.51340051419035, 168.65026235307485, 261.7046216780902, 278.47094805701965, 21.179213129378176, 20.26014093896385, 22.29368095889083, 15.018069983086603, 42.30517022152355, 13.087519677304723, 12.68828943767184, 12.26634562961595, 12.441059426991178, 12.871442743239193, 201.9051938052379, 14.072070810227686, 9.12121704640034, 12.882819874497168, 7.846277350837361, 8.239177959038667, 7.360935880459173, 7.275038339103167, 7.1438125114350495, 6.9872707104779685, 15.022193715675085, 6.905409980648788, 6.288809211817464, 30.37264164192564, 17.183516618780406, 59.2587634780385, 6.473208749622711, 6.207267364514642, 14.465707434812487, 6.10619678074661, 16.1391142593314, 74.37316981896996, 516.1268776496235, 10.264426756638246, 90.0616654367969, 53.3998329048876, 67.79781702135878, 669.4100845012765, 1057.4640793265614, 124.31269678179163, 105.40735549160522, 23.45091065547242, 99.8020943978033, 39.22320824986306, 238.46032088767413, 380.61868333721213, 250.87030956565528, 50.926898954786765, 83.01669595258736, 83.6913600976747, 1515.705179662688, 161.81405375859043, 359.953703665695, 109.44093455101489, 200.3139904685026, 64.92218309048219, 223.524922416478, 110.75064895807307, 115.65468595058105, 172.55650257392762, 139.3320290864222, 155.62480635453144, 110.73371121149975, 171.1063333857549, 168.65026235307485, 62.90206515954523, 18.947800324521342, 15.714271235949676, 12.128032819826355, 27.22407188712229, 12.104647017359493, 11.21886890840514, 9.762484180868224, 9.734649582621804, 13.51959189237683, 11.01314929143911, 8.486691665545335, 8.068701153057322, 7.915726223699053, 21.37654439299979, 7.466452149087033, 7.8655522550348005, 7.305223258379218, 8.216215045653405, 6.809747134319254, 6.677249609520126, 41.9737182667004, 6.962232141271955, 6.148622691641845, 11.294387579238652, 6.167517022370053, 6.677345865466684, 5.91418352348484, 6.306590936090047, 5.894494327234007, 16.212129843994475, 14.151218407354555, 278.47094805701965, 110.55046789993688, 74.14518061077246, 52.71723513347176, 186.9964264189865, 12.496554076820216, 15.980353583762579, 457.01917930840386, 57.0330621509299, 26.23599442615192, 146.28157963134973, 110.01077377573876, 17.354465941252798, 71.08058340900651, 100.55402084849159, 60.75608031569067, 261.7046216780902, 97.92925809583538, 51.19813053246698, 507.15258371775417, 174.08251776189303, 357.0677057960226, 1515.705179662688, 136.49234312828432, 86.36805149188858, 653.7278217605387, 209.51340051419035, 45.0552681459081, 102.09609664845476, 94.88323091612959, 55.41253352724879, 104.20363423829056, 223.524922416478, 100.00634766313932, 168.65026235307485, 359.953703665695, 56.41643070298707, 18.147496351026632, 23.030628790531967, 18.94270665026314, 14.573822394214362, 26.005989571734702, 11.558119493902343, 11.44431815381097, 10.911030074031823, 17.953805137306567, 9.445108962282063, 8.09048646458633, 7.632801007597086, 8.240922316235569, 7.586509006168011, 6.6925510953297085, 6.743372750481625, 6.714158625530374, 7.433358200449646, 6.056982906808428, 19.44861116819232, 6.5842204303847645, 5.7944221176265085, 5.804332231290684, 5.93590911272779, 5.55241679030314, 5.551340382984053, 5.683991743795934, 6.79914389377632, 5.715196392798992, 20.407575610899684, 30.448386980673163, 11.06449628333617, 30.83352148086462, 17.0800769858853, 13.88648206232033, 69.96870071520276, 10.39168656474294, 25.275450427112418, 129.55108557778934, 38.36129905275627, 44.929922619715086, 118.44076907331993, 116.36130431582296, 45.37378318090336, 75.87556848404512, 79.62060578924229, 54.71933249902729, 27.69453448965993, 102.09609664845476, 139.3320290864222, 1515.705179662688, 110.73371121149975, 209.51340051419035, 69.4002904799171, 46.2950570575952, 80.04995817932448, 138.00362665498062, 653.7278217605387, 457.01917930840386, 43.69383083853688, 171.1063333857549, 51.798852965564684, 45.966925297800394, 115.65468595058105, 359.953703665695, 186.9964264189865, 151.0907318584683, 223.524922416478], \"Category\": [\"Default\", \"Default\", \"Default\", \"Default\", \"Default\", \"Default\", \"Default\", \"Default\", \"Default\", \"Default\", \"Default\", \"Default\", \"Default\", \"Default\", \"Default\", \"Default\", \"Default\", \"Default\", \"Default\", \"Default\", \"Default\", \"Default\", \"Default\", \"Default\", \"Default\", \"Default\", \"Default\", \"Default\", \"Default\", \"Default\", \"Topic1\", \"Topic1\", \"Topic1\", \"Topic1\", \"Topic1\", \"Topic1\", \"Topic1\", \"Topic1\", \"Topic1\", \"Topic1\", \"Topic1\", \"Topic1\", \"Topic1\", \"Topic1\", \"Topic1\", \"Topic1\", \"Topic1\", \"Topic1\", \"Topic1\", \"Topic1\", \"Topic1\", \"Topic1\", \"Topic1\", \"Topic1\", \"Topic1\", \"Topic1\", \"Topic1\", \"Topic1\", \"Topic1\", \"Topic1\", \"Topic1\", \"Topic1\", \"Topic1\", \"Topic1\", \"Topic1\", \"Topic1\", \"Topic1\", \"Topic1\", \"Topic1\", \"Topic1\", \"Topic1\", \"Topic1\", \"Topic1\", \"Topic1\", \"Topic1\", \"Topic1\", \"Topic1\", \"Topic1\", \"Topic1\", \"Topic1\", \"Topic1\", \"Topic1\", \"Topic1\", \"Topic1\", \"Topic1\", \"Topic1\", \"Topic1\", \"Topic1\", \"Topic1\", \"Topic1\", \"Topic1\", \"Topic1\", \"Topic1\", \"Topic1\", \"Topic1\", \"Topic1\", \"Topic1\", \"Topic1\", \"Topic1\", \"Topic1\", \"Topic1\", \"Topic2\", \"Topic2\", \"Topic2\", \"Topic2\", \"Topic2\", \"Topic2\", \"Topic2\", \"Topic2\", \"Topic2\", \"Topic2\", \"Topic2\", \"Topic2\", \"Topic2\", \"Topic2\", \"Topic2\", \"Topic2\", \"Topic2\", \"Topic2\", \"Topic2\", \"Topic2\", \"Topic2\", \"Topic2\", \"Topic2\", \"Topic2\", \"Topic2\", \"Topic2\", \"Topic2\", \"Topic2\", \"Topic2\", \"Topic2\", \"Topic2\", \"Topic2\", \"Topic2\", \"Topic2\", \"Topic2\", \"Topic2\", \"Topic2\", \"Topic2\", \"Topic2\", \"Topic2\", \"Topic2\", \"Topic2\", \"Topic2\", \"Topic2\", \"Topic2\", \"Topic2\", \"Topic2\", \"Topic2\", \"Topic2\", \"Topic2\", \"Topic2\", \"Topic2\", \"Topic2\", \"Topic2\", \"Topic2\", \"Topic2\", \"Topic2\", \"Topic2\", \"Topic2\", \"Topic2\", \"Topic2\", \"Topic2\", \"Topic2\", \"Topic2\", \"Topic2\", \"Topic3\", \"Topic3\", \"Topic3\", \"Topic3\", \"Topic3\", \"Topic3\", \"Topic3\", \"Topic3\", \"Topic3\", \"Topic3\", \"Topic3\", \"Topic3\", \"Topic3\", \"Topic3\", \"Topic3\", \"Topic3\", \"Topic3\", \"Topic3\", \"Topic3\", \"Topic3\", \"Topic3\", \"Topic3\", \"Topic3\", \"Topic3\", \"Topic3\", \"Topic3\", \"Topic3\", \"Topic3\", \"Topic3\", \"Topic3\", \"Topic3\", \"Topic3\", \"Topic3\", \"Topic3\", \"Topic3\", \"Topic3\", \"Topic3\", \"Topic3\", \"Topic3\", \"Topic3\", \"Topic3\", \"Topic3\", \"Topic3\", \"Topic3\", \"Topic3\", \"Topic3\", \"Topic3\", \"Topic3\", \"Topic3\", \"Topic3\", \"Topic3\", \"Topic3\", \"Topic3\", \"Topic3\", \"Topic3\", \"Topic3\", \"Topic3\", \"Topic3\", \"Topic3\", \"Topic3\", \"Topic3\", \"Topic3\", \"Topic3\", \"Topic3\", \"Topic3\", \"Topic3\", \"Topic3\", \"Topic3\", \"Topic4\", \"Topic4\", \"Topic4\", \"Topic4\", \"Topic4\", \"Topic4\", \"Topic4\", \"Topic4\", \"Topic4\", \"Topic4\", \"Topic4\", \"Topic4\", \"Topic4\", \"Topic4\", \"Topic4\", \"Topic4\", \"Topic4\", \"Topic4\", \"Topic4\", \"Topic4\", \"Topic4\", \"Topic4\", \"Topic4\", \"Topic4\", \"Topic4\", \"Topic4\", \"Topic4\", \"Topic4\", \"Topic4\", \"Topic4\", \"Topic4\", \"Topic4\", \"Topic4\", \"Topic4\", \"Topic4\", \"Topic4\", \"Topic4\", \"Topic4\", \"Topic4\", \"Topic4\", \"Topic4\", \"Topic4\", \"Topic4\", \"Topic4\", \"Topic4\", \"Topic4\", \"Topic4\", \"Topic4\", \"Topic4\", \"Topic4\", \"Topic4\", \"Topic4\", \"Topic4\", \"Topic4\", \"Topic4\", \"Topic4\", \"Topic4\", \"Topic4\", \"Topic4\", \"Topic4\", \"Topic4\", \"Topic4\", \"Topic4\", \"Topic4\", \"Topic4\", \"Topic4\", \"Topic4\", \"Topic4\", \"Topic4\"], \"logprob\": [30.0, 29.0, 28.0, 27.0, 26.0, 25.0, 24.0, 23.0, 22.0, 21.0, 20.0, 19.0, 18.0, 17.0, 16.0, 15.0, 14.0, 13.0, 12.0, 11.0, 10.0, 9.0, 8.0, 7.0, 6.0, 5.0, 4.0, 3.0, 2.0, 1.0, -5.9851, -5.5429, -6.2831, -6.3045, -6.282, -6.4162, -5.2896, -5.763, -6.7695, -6.9003, -6.6719, -6.9138, -6.844, -6.7966, -6.9243, -6.9317, -6.8446, -6.7862, -6.2276, -7.0478, -7.0555, -7.1542, -7.2007, -7.1491, -7.1486, -7.2499, -7.2585, -6.744, -7.1977, -7.2575, -5.7154, -6.2227, -5.2736, -4.6158, -6.5434, -5.5679, -6.6811, -4.5767, -5.5112, -3.3243, -3.5884, -3.9471, -5.5955, -5.5904, -5.0293, -5.0298, -5.0479, -6.2176, -5.3874, -5.6519, -3.3632, -4.1546, -5.037, -4.8663, -4.4956, -4.2829, -3.2879, -3.8795, -4.6279, -5.3973, -4.2718, -4.9342, -5.2066, -4.7634, -5.149, -5.2213, -5.2395, -5.184, -5.3062, -5.3034, -5.3075, -6.1697, -6.2159, -6.1206, -6.528, -5.4931, -6.6712, -6.7045, -6.7384, -6.7245, -6.6926, -3.9477, -6.6235, -7.0582, -6.7207, -7.2189, -7.1769, -7.2933, -7.3098, -7.3294, -7.3536, -6.5901, -7.3698, -7.4645, -5.8909, -6.4606, -5.2262, -7.4412, -7.4855, -6.6404, -7.5037, -6.5322, -5.0697, -3.2736, -6.9989, -4.9403, -5.4353, -5.2143, -3.0738, -2.6694, -4.6915, -4.8841, -6.2411, -4.9653, -5.7901, -4.2594, -3.9143, -4.2714, -5.5811, -5.2254, -5.2276, -3.0611, -4.7832, -4.1971, -5.0912, -4.6731, -5.5208, -4.6815, -5.1728, -5.1767, -4.9488, -5.1771, -5.284, -5.3881, -5.2909, -5.3281, -4.913, -6.128, -6.3284, -6.596, -5.7899, -6.6046, -6.6814, -6.8292, -6.8331, -6.5126, -6.7178, -6.9822, -7.0346, -7.0555, -6.066, -7.12, -7.0695, -7.1437, -7.0277, -7.224, -7.2462, -5.4098, -7.208, -7.3372, -6.732, -7.3381, -7.2588, -7.3833, -7.3216, -7.391, -6.386, -6.5251, -3.6105, -4.5148, -4.9068, -5.2429, -4.0303, -6.6506, -6.423, -3.3192, -5.2416, -5.9652, -4.3996, -4.6971, -6.3562, -5.1048, -4.8159, -5.2789, -4.025, -4.8816, -5.4505, -3.6324, -4.4918, -3.9647, -2.9104, -4.7677, -5.123, -3.6464, -4.5197, -5.6561, -5.1513, -5.2059, -5.5288, -5.1958, -4.7864, -5.2829, -5.1222, -5.3012, -4.6067, -5.7689, -5.533, -5.7288, -5.9958, -5.4182, -6.2339, -6.2493, -6.2978, -5.8122, -6.4621, -6.622, -6.6818, -6.6052, -6.6921, -6.8266, -6.8203, -6.8273, -6.7257, -6.9411, -5.7767, -6.8608, -6.9897, -6.9883, -6.969, -7.0372, -7.0398, -7.0175, -6.839, -7.0203, -5.7537, -5.3993, -6.3723, -5.4141, -5.9864, -6.179, -4.7381, -6.4674, -5.7189, -4.4043, -5.4171, -5.3099, -4.5564, -4.5945, -5.33, -4.9444, -4.9629, -5.2404, -5.746, -4.847, -4.6733, -3.2182, -4.8956, -4.5192, -5.1859, -5.4578, -5.2214, -4.9931, -4.4703, -4.76, -5.5335, -5.1432, -5.4965, -5.5312, -5.3749, -5.2061, -5.3198, -5.356, -5.3216], \"loglift\": [30.0, 29.0, 28.0, 27.0, 26.0, 25.0, 24.0, 23.0, 22.0, 21.0, 20.0, 19.0, 18.0, 17.0, 16.0, 15.0, 14.0, 13.0, 12.0, 11.0, 10.0, 9.0, 8.0, 7.0, 6.0, 5.0, 4.0, 3.0, 2.0, 1.0, 1.17, 1.1674, 1.161, 1.1599, 1.1598, 1.1525, 1.1498, 1.1442, 1.1385, 1.1317, 1.1316, 1.1311, 1.1298, 1.1294, 1.1289, 1.1276, 1.1254, 1.1227, 1.122, 1.121, 1.1185, 1.1131, 1.1093, 1.1092, 1.1056, 1.1055, 1.1055, 1.1046, 1.1032, 1.102, 1.0989, 1.0987, 1.0695, 1.0283, 1.0678, 0.9886, 1.0613, 0.8064, 0.9183, 0.6236, 0.6133, 0.6056, 0.8842, 0.8709, 0.7534, 0.7413, 0.735, 0.9828, 0.7626, 0.8155, 0.1038, 0.3341, 0.6072, 0.5464, 0.41, 0.2617, -0.1809, 0.0447, 0.3285, 0.6562, -0.0875, 0.1965, 0.2967, -0.4576, 0.1308, 0.067, 0.1046, -0.0982, -0.0035, -0.44, -0.5062, 1.2079, 1.206, 1.2057, 1.1933, 1.1926, 1.1877, 1.1854, 1.1853, 1.185, 1.183, 1.1751, 1.1629, 1.1617, 1.154, 1.1516, 1.1448, 1.1411, 1.1363, 1.1349, 1.1328, 1.1309, 1.1284, 1.1273, 1.1261, 1.126, 1.1225, 1.1217, 1.1194, 1.1184, 1.1176, 1.1172, 1.0518, 0.9106, 1.103, 0.9898, 1.0174, 0.9998, 0.8504, 0.7976, 0.9162, 0.8886, 1.0346, 0.8621, 0.9712, 0.697, 0.5745, 0.6343, 0.9191, 0.7862, 0.7758, 0.0458, 0.5609, 0.3475, 0.644, 0.4576, 0.7366, 0.3395, 0.5505, 0.5032, 0.3311, 0.3166, 0.0991, 0.3354, -0.0026, -0.0253, 1.376, 1.3609, 1.3476, 1.3391, 1.3366, 1.3324, 1.3315, 1.3228, 1.3218, 1.3139, 1.3137, 1.3099, 1.308, 1.3062, 1.3022, 1.3001, 1.2985, 1.2983, 1.2967, 1.2882, 1.2857, 1.2837, 1.2821, 1.2772, 1.2743, 1.2732, 1.2731, 1.2699, 1.2673, 1.2656, 1.2588, 1.2557, 1.1907, 1.2103, 1.2178, 1.2228, 1.1692, 1.2545, 1.2363, 0.9867, 1.1453, 1.1983, 1.0455, 1.0329, 1.2205, 1.062, 1.004, 1.0448, 0.8384, 0.9647, 1.0444, 0.5694, 0.7792, 0.588, 0.1965, 0.7466, 0.849, 0.3015, 0.5661, 0.9666, 0.6534, 0.6721, 0.8869, 0.5884, 0.2346, 0.5424, 0.1806, -0.7566, 1.7912, 1.7631, 1.7607, 1.7604, 1.7556, 1.7541, 1.7493, 1.7438, 1.743, 1.7306, 1.723, 1.7179, 1.7163, 1.7163, 1.7122, 1.703, 1.7017, 1.6991, 1.6989, 1.6882, 1.6861, 1.6851, 1.684, 1.6837, 1.6806, 1.6792, 1.6767, 1.6754, 1.6748, 1.6671, 1.661, 1.6152, 1.6545, 1.5879, 1.6062, 1.6207, 1.4444, 1.6222, 1.4819, 1.1622, 1.3665, 1.3156, 1.0998, 1.0794, 1.2856, 1.1571, 1.0904, 1.188, 1.3634, 0.9576, 0.8204, -0.1112, 0.8279, 0.5666, 1.0048, 1.1378, 0.8265, 0.5102, -0.5224, -0.4541, 1.1199, 0.1451, 0.9868, 1.0714, 0.3051, -0.6615, -0.1204, 0.0567, -0.3006]}, \"token.table\": {\"Topic\": [1, 2, 3, 4, 1, 2, 3, 1, 2, 1, 2, 3, 4, 1, 2, 3, 1, 4, 2, 1, 1, 2, 3, 4, 1, 2, 4, 1, 4, 1, 4, 1, 2, 4, 2, 4, 1, 2, 3, 4, 3, 2, 1, 4, 4, 1, 2, 3, 4, 1, 2, 3, 4, 1, 3, 4, 2, 3, 1, 2, 3, 4, 2, 3, 1, 2, 4, 1, 1, 2, 3, 4, 4, 1, 4, 2, 2, 3, 1, 3, 1, 2, 3, 4, 4, 3, 4, 1, 2, 3, 4, 1, 3, 4, 1, 2, 3, 4, 1, 1, 2, 3, 4, 2, 3, 4, 4, 3, 1, 4, 2, 2, 3, 1, 2, 3, 4, 2, 3, 4, 3, 1, 1, 3, 4, 1, 2, 3, 4, 3, 4, 1, 4, 1, 1, 2, 3, 4, 1, 2, 3, 2, 2, 3, 4, 1, 1, 2, 3, 4, 2, 1, 4, 1, 2, 3, 4, 1, 2, 3, 4, 1, 2, 1, 1, 2, 3, 1, 2, 3, 4, 1, 2, 3, 4, 1, 2, 3, 4, 1, 2, 2, 3, 2, 2, 1, 2, 3, 4, 1, 2, 3, 4, 1, 3, 1, 2, 3, 1, 1, 2, 3, 4, 1, 2, 2, 4, 1, 2, 3, 4, 1, 2, 3, 4, 1, 2, 3, 4, 1, 2, 3, 4, 2, 1, 3, 1, 2, 3, 1, 4, 2, 1, 2, 4, 1, 2, 3, 4, 1, 2, 3, 4, 2, 3, 1, 3, 3, 1, 2, 3, 4, 1, 4, 2, 3, 4, 1, 1, 2, 3, 4, 3, 1, 1, 2, 3, 4, 1, 2, 3, 4, 1, 2, 4, 1, 1, 2, 3, 4, 3, 4, 3, 1, 2, 3, 1, 2, 3, 4, 3, 3, 1, 4, 3, 1, 2, 3, 4, 1, 2, 3, 4, 1, 4, 1, 2, 3, 4, 4, 4, 2, 4, 1, 2, 4, 1, 2, 4, 4, 1, 3, 1, 2, 3, 4, 1, 2, 1, 3, 2, 4, 4, 1, 2, 3, 4, 1, 2, 3, 4, 3, 1, 2, 4, 2, 1, 1, 2, 3, 4, 2, 4, 1, 4, 1, 2, 3, 4, 1, 2, 3, 4, 2, 3, 4, 1, 2, 4, 1, 2, 3, 4, 1, 1, 2, 4, 1, 2, 1, 2, 3, 4, 2, 3, 4, 1, 2, 2, 3, 4, 3, 4, 1, 2, 4, 4, 3, 1, 1, 2, 3, 4, 1, 2, 1, 2, 3, 4, 4, 4, 3, 1, 4, 1, 2, 2, 4, 3, 1, 2, 1, 3, 4, 2, 3, 4, 2, 1, 2, 3, 3, 1, 4, 1, 4, 4, 1, 2, 3, 4, 3, 2, 1, 4, 1, 2, 3, 4, 3, 4, 1, 2, 3, 4, 1, 2, 3, 4, 2, 3, 1, 1, 2, 3, 4, 3, 1, 2, 3, 4, 1, 1, 3, 4, 1, 3, 1, 2, 3, 4, 1, 2, 3, 4, 3, 2, 1, 2, 1, 3, 1, 2, 3, 4, 1, 2, 3, 4, 2, 1, 2, 3, 1, 2, 3, 4, 1, 3, 1, 3, 4, 1, 2, 3, 4, 1, 2, 3, 4, 1, 2, 3, 1, 2, 3, 4, 1, 2, 3, 4], \"Freq\": [0.11019579258060125, 0.176313268128962, 0.13223495109672148, 0.5950572799352467, 0.7310302349995913, 0.05771291328944142, 0.21161401539461855, 0.07762275726447128, 0.9314730871736554, 0.26633955348215665, 0.08877985116071889, 0.6436539209152119, 0.8796634874527203, 0.04678024575045308, 0.04678024575045308, 0.8888246692586085, 0.8840670432630844, 0.06800515717408341, 0.9457539614734598, 0.886332884581461, 0.24951145120854207, 0.1631421027132775, 0.44144333675357444, 0.14394891415877428, 0.3106147239399249, 0.6813484267069321, 0.010019829804513707, 0.9336103716806263, 0.9528741315680366, 0.01772533262986191, 0.974893294642405, 0.24132691813982246, 0.7239807544194674, 0.04022115302330374, 0.8674577659616856, 0.06196126899726326, 0.20069303073796493, 0.27016369522418354, 0.0077189627206909585, 0.5248894650069852, 0.8810899849366871, 0.9322103316715692, 0.09800282199771933, 0.882025397979474, 0.9005087674131573, 0.791032027765285, 0.03955160138826425, 0.03955160138826425, 0.11865480416479275, 0.03292436699413148, 0.88895790884155, 0.06584873398826296, 0.03292436699413148, 0.14835758587931505, 0.8361973022288667, 0.013487053261755914, 0.07066529334889554, 0.8479835201867465, 0.7501045600305402, 0.036590466342953175, 0.036590466342953175, 0.18295233171476588, 0.3789756335482003, 0.5955331384328861, 0.06656817365872057, 0.8653862575633675, 0.06656817365872057, 0.9084530565889531, 0.6419836062597611, 0.06707291408684071, 0.2874553460864602, 0.009581844869548673, 0.9170945231026925, 0.9566802448427668, 0.9165037519051416, 0.987159964002839, 0.9322964207958021, 0.8519738055910775, 0.036732198039523496, 0.9550371490276108, 0.2720589702620926, 0.004772964390563027, 0.4343397595412355, 0.28637786343378163, 0.9367683382417809, 0.9426523685877233, 0.8824640416114997, 0.2520279043217442, 0.3015098227095212, 0.30019030488584714, 0.1458067195159829, 0.27676893128538227, 0.21087156669362458, 0.5139994438157099, 0.6502434906874107, 0.13834967886966185, 0.1936895504175266, 0.013834967886966186, 0.9630340795233139, 0.31520290011346197, 0.6752213784421082, 0.004481557821518416, 0.004481557821518416, 0.015897729231362963, 0.9697614831131407, 0.922690527923823, 0.8254934968331654, 0.8985735670934731, 0.04342043845590122, 0.9552496460298268, 0.9645480813286457, 0.0739667297622986, 0.887600757147583, 0.6346057681235064, 0.312567020120533, 0.01894345576488079, 0.03788691152976158, 0.06257683816308586, 0.8760757342832021, 0.06257683816308586, 0.924532508706498, 0.9510519125201891, 0.08002205998971301, 0.8802426598868431, 0.9502337935297095, 0.03377215490321435, 0.287063316677322, 0.18574685196767893, 0.48969624609660806, 0.8853955054970846, 0.08853955054970845, 0.8823270090208908, 0.9517119117693162, 0.8787307574529994, 0.6840944188802126, 0.22803147296007087, 0.019002622746672575, 0.05700786824001772, 0.1274755488676135, 0.764853293205681, 0.1019804390940908, 0.8921428197096493, 0.3471893963163386, 0.6433215284685098, 0.010211452832833489, 0.9717455275175515, 0.019635988456469862, 0.7265315728893849, 0.2159958730211685, 0.039271976912939724, 0.9443221463340173, 0.19459340716964876, 0.8108058632068699, 0.52286463258383, 0.1456078723651172, 0.15884495167103696, 0.1720820309769567, 0.06279781408891968, 0.16327431663119119, 0.28886994480903055, 0.48982294989357356, 0.9587587254252011, 0.8398876636804008, 0.8987983605193427, 0.07106274644902956, 0.9238157038373843, 0.9582184900332619, 0.23156710907016745, 0.0810484881745586, 0.5789177726754186, 0.10420519908157534, 0.20102584402314375, 0.09137538364688352, 0.16447569056439035, 0.5299772251519244, 0.05876816251516126, 0.039178775010107504, 0.4701453001212901, 0.42117183135865566, 0.7177065188647281, 0.2644181911606893, 0.8729295832033607, 0.05819530554689071, 0.8188402993767662, 0.9169040655434041, 0.3694200281614168, 0.4542867913876882, 0.09984325085443696, 0.07987460068354957, 0.33371637843374424, 0.5067545005845746, 0.08651906107541517, 0.07415919520749872, 0.11524411104151917, 0.8643308328113938, 0.20477808475669848, 0.6384257936532364, 0.15659500599041648, 0.9828360792891327, 0.5629254067984257, 0.006118754421722018, 0.33347211598385, 0.09637038214212179, 0.9785126048654472, 0.9268973444352012, 0.8770759383647356, 0.8494194862399311, 0.034585714942057685, 0.47555358045329316, 0.26803929080094707, 0.22480714712337493, 0.013445709016222884, 0.8201882499895959, 0.10756567212978307, 0.05378283606489154, 0.05427385441218405, 0.027136927206092024, 0.832199100986822, 0.09045642402030675, 0.04287631425672825, 0.12862894277018475, 0.14292104752242749, 0.686021028107652, 0.9419709575427964, 0.2798073857244809, 0.7077480933030987, 0.05943383512746808, 0.9311300836636667, 0.0049528195939556735, 0.9439897589845214, 0.029499679968266294, 0.8055074328816122, 0.8425052202479629, 0.15014944519270626, 0.008341635844039236, 0.3972888684079594, 0.49661108550994926, 0.01805858492763452, 0.0902929246381726, 0.5778535352586449, 0.2386786341285707, 0.11305830037669139, 0.06281016687593967, 0.8688839644299119, 0.9499783453335877, 0.1233644202979825, 0.8635509420858776, 0.9545463340154374, 0.3917170418420058, 0.408385852133155, 0.11668167203804428, 0.08334405145574592, 0.48061704815038825, 0.5035035742527877, 0.33888320575697356, 0.026067938904382585, 0.6516984726095646, 0.942417926526341, 0.391585904068753, 0.10877386224132027, 0.021754772448264056, 0.4786049938618092, 0.8899565819449291, 0.9374663538473179, 0.049968795624344635, 0.2123673814034647, 0.3622737682764986, 0.37476596718258476, 0.1610558662130918, 0.40263966553272945, 0.313164184303234, 0.12079189965981883, 0.25097080834284613, 0.3088871487296567, 0.44402527629888155, 0.9428320318464922, 0.24177180377791938, 0.1098962744445088, 0.5201756990373417, 0.12454911103710999, 0.9080054882914677, 0.8652137335178043, 0.9218965002409445, 0.17533689447598694, 0.05260106834279608, 0.7714823356943424, 0.027344522872124882, 0.1640671372327493, 0.7041214639572158, 0.10254196077046832, 0.9069896300097161, 0.8454252358157849, 0.9638616417086532, 0.8748605745727089, 0.9513856314454213, 0.4057864373376519, 0.21738559143088493, 0.10144660933441298, 0.27535508247912094, 0.19487619161243763, 0.15284407185289225, 0.5693441676520237, 0.08024313772276843, 0.8946415258320837, 0.11928553677761115, 0.5506269926976838, 0.21691366378999666, 0.21691366378999666, 0.008342833222692178, 0.896519117229752, 0.9417008855535265, 0.8768146739592144, 0.09742385266213494, 0.6746996347150322, 0.32128554034049156, 0.006425710806809831, 0.9139977821387438, 0.08064686312988915, 0.9112696124679069, 0.8897624708009012, 0.29297944756963035, 0.7031506741671127, 0.3024009526485635, 0.2786832308722056, 0.29647152220447404, 0.12451803932587908, 0.4544180624537598, 0.5421127762606257, 0.8927497107135706, 0.08927497107135705, 0.10283510646101797, 0.8740984049186526, 0.8614255354036087, 0.03208617466601381, 0.03208617466601381, 0.7968066708726763, 0.14438778599706215, 0.28818323182361255, 0.14409161591180628, 0.12968245432062564, 0.4466840093265994, 0.8131902461337838, 0.28461011909542916, 0.7020382937687253, 0.009487003969847639, 0.849599321048862, 0.9596881697800667, 0.6325409629791833, 0.038335815938132324, 0.3066865275050586, 0.02875186195359924, 0.05569849914000014, 0.9468744853800024, 0.9397034074062158, 0.8936339360802695, 0.056179951074817214, 0.8052459654057135, 0.13108655250790682, 0.018726650358272406, 0.08437570591315184, 0.8775073414967792, 0.01687514118263037, 0.01687514118263037, 0.038452680188985254, 0.038452680188985254, 0.9613170047246312, 0.06912900765526664, 0.8986770995184664, 0.06912900765526664, 0.0924183339866712, 0.6007191709133627, 0.16943361230889717, 0.13862750098000678, 0.9203324306679721, 0.03956408226566448, 0.23738449359398686, 0.7121534807819606, 0.9691186559166358, 0.024227966397915895, 0.1313698490018195, 0.032842462250454875, 0.032842462250454875, 0.8210615562613718, 0.28080751653090813, 0.2160057819468524, 0.5184138766724458, 0.9609066957568005, 0.03695794983680002, 0.07201247915146244, 0.07201247915146244, 0.792137270666087, 0.8004270643946813, 0.1524622979799393, 0.0236377727536298, 0.945510910145192, 0.0236377727536298, 0.9006833764555279, 0.891355454961064, 0.9279311944020087, 0.2770636566171557, 0.7168779926457874, 0.003875016176463716, 0.001937508088231858, 0.3704086056651541, 0.6213305643415488, 0.311596352357323, 0.044513764622474715, 0.044513764622474715, 0.6009358224034087, 0.8628988186397581, 0.9611756552169067, 0.810699019048447, 0.907481040496382, 0.07562342004136516, 0.4193569799275102, 0.5787126322999641, 0.09623077002657239, 0.8660769302391516, 0.8843155766356039, 0.22207006613746796, 0.7772452314811379, 0.8101021719130165, 0.08308740224748887, 0.10385925280936108, 0.18054103786676057, 0.18054103786676057, 0.6499477363203381, 0.9540756919012975, 0.5517160941811344, 0.002800589310564134, 0.4452937003796973, 0.8617925800595092, 0.9195432962608037, 0.9606265001251721, 0.11709549094262092, 0.8196684365983464, 0.8423309563953714, 0.34997778458917184, 0.06999555691783436, 0.41997334150700616, 0.14999047910964505, 0.8482491834624009, 0.9509660338955896, 0.8726554965286996, 0.11747285530194033, 0.19695955391140027, 0.056274158260400074, 0.7174955178201009, 0.028137079130200037, 0.09037917085354018, 0.8134125376818615, 0.21254288182233178, 0.1608432619196024, 0.5399738078729509, 0.08616603317121557, 0.3347631441300989, 0.6402108716838332, 0.009456585992375675, 0.016076196187038646, 0.9621942419705416, 0.8985606138855675, 0.9113822301120377, 0.14754978160867077, 0.14754978160867077, 0.48480642528563256, 0.22132467241300616, 0.9087419058337431, 0.12642943008800822, 0.40638031099716926, 0.0993374093548636, 0.3702576166863098, 0.9392460461782233, 0.1831429826193476, 0.8115747857249521, 0.003591038874889169, 0.9076166711947776, 0.8675497911268681, 0.4203682241689821, 0.5123237732059469, 0.052546028021122765, 0.01576380840633683, 0.22843372182961832, 0.548240932391084, 0.09137348873184732, 0.12792288422458625, 0.9375269351797736, 0.8587043852476651, 0.20649632414550295, 0.7817360842651183, 0.31823690121964954, 0.6762534150917553, 0.1903640020789828, 0.04376183955838685, 0.6629918693095608, 0.10284032296220909, 0.1545303193181348, 0.009090018783419694, 0.6908414275398967, 0.1454403005347151, 0.9782864727883679, 0.023824432080236838, 0.09529772832094735, 0.881503986968763, 0.5580174667068207, 0.0019717931685753385, 0.43576629025514974, 0.003943586337150677, 0.9182759412894925, 0.045913797064474626, 0.13278389851586675, 0.8346416478140196, 0.01896912835940954, 0.15469060015987063, 0.11172098900435101, 0.25781766693311775, 0.4812596449418198, 0.17942751687405253, 0.39474053712291557, 0.05741680539969681, 0.3732092350980293, 0.1279268018233625, 0.8102030782146291, 0.042642267274454165, 0.3419169902028055, 0.3998690224405692, 0.17385609671329097, 0.08113284513286911, 0.3214375465343173, 0.2863716323669372, 0.19870684694848706, 0.1870182088926937], \"Term\": [\"2\", \"2\", \"2\", \"2\", \"account\", \"account\", \"account\", \"activity\", \"activity\", \"actual\", \"actual\", \"actual\", \"advance\", \"advertisement\", \"advertisement\", \"advertisement\", \"another\", \"another\", \"apache\", \"approximately\", \"assignment\", \"assignment\", \"assignment\", \"assignment\", \"available\", \"available\", \"available\", \"aware\", \"awareness\", \"awesome\", \"awesome\", \"basic\", \"basic\", \"basic\", \"become\", \"become\", \"beginner\", \"beginner\", \"beginner\", \"beginner\", \"board\", \"build\", \"cannot\", \"cannot\", \"care\", \"certificate\", \"certificate\", \"certificate\", \"certificate\", \"challenge\", \"challenge\", \"challenge\", \"challenge\", \"change\", \"change\", \"change\", \"check\", \"check\", \"class\", \"class\", \"class\", \"class\", \"clear\", \"clear\", \"clearly\", \"clearly\", \"clearly\", \"clip\", \"cloud\", \"cloud\", \"cloud\", \"cloud\", \"codeacademy\", \"cognitive\", \"compare\", \"computer\", \"confidence\", \"confused\", \"confusion\", \"confusion\", \"content\", \"content\", \"content\", \"content\", \"cool\", \"correspond\", \"couple\", \"course\", \"course\", \"course\", \"course\", \"coursera\", \"coursera\", \"coursera\", \"create\", \"create\", \"create\", \"create\", \"d\", \"data\", \"data\", \"data\", \"data\", \"date\", \"date\", \"deliver\", \"delivery\", \"demo\", \"design\", \"design\", \"detailed\", \"difference\", \"difference\", \"different\", \"different\", \"different\", \"different\", \"difficulty\", \"difficulty\", \"difficulty\", \"discrepancy\", \"ds\", \"dsx\", \"dsx\", \"due\", \"easy\", \"easy\", \"easy\", \"easy\", \"education\", \"education\", \"eg\", \"engage\", \"enterprise\", \"environment\", \"environment\", \"environment\", \"environment\", \"example\", \"example\", \"example\", \"excelent\", \"excellent\", \"excellent\", \"excellent\", \"excite\", \"exercise\", \"exercise\", \"exercise\", \"exercise\", \"exist\", \"expect\", \"expect\", \"experience\", \"experience\", \"experience\", \"experience\", \"explain\", \"explain\", \"explain\", \"explain\", \"explore\", \"familiarize\", \"fantastic\", \"fast\", \"fast\", \"figuring\", \"find\", \"find\", \"find\", \"find\", \"first\", \"first\", \"first\", \"first\", \"follow\", \"follow\", \"follow\", \"follow\", \"free\", \"free\", \"future\", \"future\", \"generate\", \"gentle\", \"get\", \"get\", \"get\", \"get\", \"give\", \"give\", \"give\", \"give\", \"grade\", \"grade\", \"helpful\", \"helpful\", \"helpful\", \"hour\", \"ibm\", \"ibm\", \"ibm\", \"ibm\", \"ide\", \"ides\", \"indeed\", \"indepth\", \"information\", \"information\", \"information\", \"information\", \"informative\", \"informative\", \"informative\", \"informative\", \"instruction\", \"instruction\", \"instruction\", \"instruction\", \"instructor\", \"instructor\", \"instructor\", \"instructor\", \"interactive\", \"interface\", \"interface\", \"introduction\", \"introduction\", \"introduction\", \"introductory\", \"introductory\", \"jupiter\", \"jupyter\", \"jupyter\", \"jupyter\", \"know\", \"know\", \"know\", \"know\", \"lab\", \"lab\", \"lab\", \"lab\", \"large\", \"late\", \"layout\", \"layout\", \"lead\", \"learn\", \"learn\", \"learn\", \"learn\", \"lecture\", \"lecture\", \"lesson\", \"lesson\", \"lesson\", \"let\", \"level\", \"level\", \"level\", \"level\", \"light\", \"lite\", \"little\", \"little\", \"little\", \"little\", \"lot\", \"lot\", \"lot\", \"lot\", \"love\", \"love\", \"love\", \"machine\", \"make\", \"make\", \"make\", \"make\", \"mark\", \"market\", \"marketing\", \"match\", \"match\", \"match\", \"material\", \"material\", \"material\", \"material\", \"minor\", \"mismatch\", \"month\", \"mostly\", \"motivate\", \"much\", \"much\", \"much\", \"much\", \"need\", \"need\", \"need\", \"need\", \"network\", \"network\", \"new\", \"new\", \"new\", \"new\", \"nobody\", \"none\", \"nonetheless\", \"nonetheless\", \"notebook\", \"notebook\", \"notebook\", \"notebooks\", \"notebooks\", \"novice\", \"okay\", \"old\", \"old\", \"one\", \"one\", \"one\", \"one\", \"open\", \"open\", \"option\", \"option\", \"organize\", \"organize\", \"original\", \"outdated\", \"outdated\", \"outdated\", \"outdated\", \"overall\", \"overall\", \"overall\", \"overall\", \"overcome\", \"overview\", \"overview\", \"overview\", \"particularly\", \"pity\", \"platform\", \"platform\", \"platform\", \"platform\", \"poorly\", \"poorly\", \"popular\", \"post\", \"practical\", \"practical\", \"practical\", \"practical\", \"practice\", \"practice\", \"practice\", \"practice\", \"pretty\", \"pretty\", \"pretty\", \"prior\", \"prior\", \"prior\", \"program\", \"program\", \"program\", \"program\", \"promo\", \"put\", \"put\", \"put\", \"python\", \"python\", \"quality\", \"quality\", \"quality\", \"quality\", \"question\", \"question\", \"question\", \"r\", \"r\", \"reading\", \"reading\", \"reading\", \"reflect\", \"reflect\", \"require\", \"require\", \"require\", \"responsive\", \"result\", \"scala\", \"science\", \"science\", \"science\", \"science\", \"scientist\", \"scientist\", \"section\", \"section\", \"section\", \"section\", \"slide\", \"slow\", \"solid\", \"solve\", \"solve\", \"source\", \"source\", \"spent\", \"spent\", \"staff\", \"start\", \"start\", \"step\", \"step\", \"step\", \"structure\", \"structure\", \"structure\", \"structured\", \"studio\", \"studio\", \"studio\", \"submit\", \"suck\", \"super\", \"suppose\", \"suppose\", \"surprise\", \"take\", \"take\", \"take\", \"take\", \"teaching\", \"terminology\", \"thank\", \"thank\", \"thanks\", \"thanks\", \"thanks\", \"thanks\", \"three\", \"three\", \"time\", \"time\", \"time\", \"time\", \"tool\", \"tool\", \"tool\", \"tool\", \"tools\", \"tricky\", \"turn\", \"tutorial\", \"tutorial\", \"tutorial\", \"tutorial\", \"unclear\", \"understand\", \"understand\", \"understand\", \"understand\", \"unnecessary\", \"update\", \"update\", \"update\", \"upgraded\", \"uptodate\", \"use\", \"use\", \"use\", \"use\", \"useful\", \"useful\", \"useful\", \"useful\", \"v\", \"variety\", \"various\", \"various\", \"version\", \"version\", \"video\", \"video\", \"video\", \"video\", \"videos\", \"videos\", \"videos\", \"videos\", \"view\", \"waste\", \"waste\", \"waste\", \"watson\", \"watson\", \"watson\", \"watson\", \"web\", \"web\", \"website\", \"website\", \"website\", \"week\", \"week\", \"week\", \"week\", \"well\", \"well\", \"well\", \"well\", \"wonderful\", \"wonderful\", \"wonderful\", \"work\", \"work\", \"work\", \"work\", \"would\", \"would\", \"would\", \"would\"]}, \"R\": 30, \"lambda.step\": 0.01, \"plot.opts\": {\"xlab\": \"PC1\", \"ylab\": \"PC2\"}, \"topic.order\": [2, 4, 1, 3]};\n",
       "\n",
       "function LDAvis_load_lib(url, callback){\n",
       "  var s = document.createElement('script');\n",
       "  s.src = url;\n",
       "  s.async = true;\n",
       "  s.onreadystatechange = s.onload = callback;\n",
       "  s.onerror = function(){console.warn(\"failed to load library \" + url);};\n",
       "  document.getElementsByTagName(\"head\")[0].appendChild(s);\n",
       "}\n",
       "\n",
       "if(typeof(LDAvis) !== \"undefined\"){\n",
       "   // already loaded: just create the visualization\n",
       "   !function(LDAvis){\n",
       "       new LDAvis(\"#\" + \"ldavis_el386341406760368082725024069105\", ldavis_el386341406760368082725024069105_data);\n",
       "   }(LDAvis);\n",
       "}else if(typeof define === \"function\" && define.amd){\n",
       "   // require.js is available: use it to load d3/LDAvis\n",
       "   require.config({paths: {d3: \"https://d3js.org/d3.v5\"}});\n",
       "   require([\"d3\"], function(d3){\n",
       "      window.d3 = d3;\n",
       "      LDAvis_load_lib(\"https://cdn.jsdelivr.net/gh/bmabey/pyLDAvis@3.2.2/pyLDAvis/js/ldavis.v3.0.0.js\", function(){\n",
       "        new LDAvis(\"#\" + \"ldavis_el386341406760368082725024069105\", ldavis_el386341406760368082725024069105_data);\n",
       "      });\n",
       "    });\n",
       "}else{\n",
       "    // require.js not available: dynamically load d3 & LDAvis\n",
       "    LDAvis_load_lib(\"https://d3js.org/d3.v5.js\", function(){\n",
       "         LDAvis_load_lib(\"https://cdn.jsdelivr.net/gh/bmabey/pyLDAvis@3.2.2/pyLDAvis/js/ldavis.v3.0.0.js\", function(){\n",
       "                 new LDAvis(\"#\" + \"ldavis_el386341406760368082725024069105\", ldavis_el386341406760368082725024069105_data);\n",
       "            })\n",
       "         });\n",
       "}\n",
       "</script>"
      ],
      "text/plain": [
       "PreparedData(topic_coordinates=              x         y  topics  cluster       Freq\n",
       "topic                                                \n",
       "1      0.057867 -0.071615       1        1  30.166807\n",
       "3      0.161733  0.019952       2        1  28.820964\n",
       "0     -0.136013 -0.099870       3        1  24.679616\n",
       "2     -0.083587  0.151534       4        1  16.332613, topic_info=            Term         Freq        Total Category  logprob  loglift\n",
       "32          tool  1057.000000  1057.000000  Default  30.0000  30.0000\n",
       "35          data   669.000000   669.000000  Default  29.0000  29.0000\n",
       "46       science   516.000000   516.000000  Default  28.0000  28.0000\n",
       "151       watson   507.000000   507.000000  Default  27.0000  27.0000\n",
       "77        update   278.000000   278.000000  Default  26.0000  26.0000\n",
       "..           ...          ...          ...      ...      ...      ...\n",
       "15   information    25.627895   115.654686   Topic4  -5.3749   0.3051\n",
       "42         learn    30.340235   359.953704   Topic4  -5.2061  -0.6615\n",
       "445     outdated    27.078247   186.996426   Topic4  -5.3198  -0.1204\n",
       "216   experience    26.117183   151.090732   Topic4  -5.3560   0.0567\n",
       "224          lot    27.029967   223.524922   Topic4  -5.3216  -0.3006\n",
       "\n",
       "[303 rows x 6 columns], token_table=      Topic      Freq     Term\n",
       "term                          \n",
       "97        1  0.110196        2\n",
       "97        2  0.176313        2\n",
       "97        3  0.132235        2\n",
       "97        4  0.595057        2\n",
       "710       1  0.731030  account\n",
       "...     ...       ...      ...\n",
       "33        4  0.081133     work\n",
       "82        1  0.321438    would\n",
       "82        2  0.286372    would\n",
       "82        3  0.198707    would\n",
       "82        4  0.187018    would\n",
       "\n",
       "[531 rows x 3 columns], R=30, lambda_step=0.01, plot_opts={'xlab': 'PC1', 'ylab': 'PC2'}, topic_order=[2, 4, 1, 3])"
      ]
     },
     "execution_count": 41,
     "metadata": {},
     "output_type": "execute_result"
    }
   ],
   "source": [
    "# Visualize the topics\n",
    "pyLDAvis.enable_notebook()\n",
    "vis = pyLDAvis.gensim.prepare(lda_model, corpus, dictionary)\n",
    "vis"
   ]
  },
  {
   "cell_type": "markdown",
   "metadata": {},
   "source": [
    "What is topic perplexity and topic coherence: https://towardsdatascience.com/evaluate-topic-model-in-python-latent-dirichlet-allocation-lda-7d57484bb5d0"
   ]
  },
  {
   "cell_type": "code",
   "execution_count": 42,
   "metadata": {},
   "outputs": [
    {
     "name": "stdout",
     "output_type": "stream",
     "text": [
      "\n",
      "Perplexity:  -6.725824425551984\n",
      "\n",
      "Coherence Score:  0.4744409983948921\n"
     ]
    }
   ],
   "source": [
    "# Calculate Perplexity and Coherence\n",
    "\n",
    "# Compute Perplexity\n",
    "\n",
    "print('\\nPerplexity: ', lda_model.log_perplexity(corpus))  # a measure of how good the model is. The lower the better.\n",
    "\n",
    "# Compute Coherence Score\n",
    "\n",
    "coherence_model_lda = CoherenceModel(model = lda_model, texts = df['preprocessed'], dictionary = dictionary, coherence = 'c_v')\n",
    "coherence_lda = coherence_model_lda.get_coherence()\n",
    "print('\\nCoherence Score: ', coherence_lda)"
   ]
  },
  {
   "cell_type": "markdown",
   "metadata": {},
   "source": [
    "## Hyperparameter Tuning\n",
    "\n",
    "Code references\n",
    "\n",
    "Find the optimal number of topics, alpha and beta: https://towardsdatascience.com/evaluate-topic-model-in-python-latent-dirichlet-allocation-lda-7d57484bb5d0\n",
    "\n",
    "What is alpha and beta: https://www.thoughtvector.io/blog/lda-alpha-and-beta-parameters-the-intuition/"
   ]
  },
  {
   "cell_type": "markdown",
   "metadata": {},
   "source": [
    "## Calculate the coherence score\n",
    "\n",
    "Code reference: \n",
    "\n",
    "https://www.machinelearningplus.com/nlp/topic-modeling-gensim-python/#17howtofindtheoptimalnumberoftopicsforlda"
   ]
  },
  {
   "cell_type": "code",
   "execution_count": 33,
   "metadata": {},
   "outputs": [],
   "source": [
    "# Determine the optiomal number of topics by calculating the coherence score\n",
    "\n",
    "# Define function for calculating coherence score\n",
    "\n",
    "def compute_coherence_values(dictionary, corpus, texts, limit, start = 2, step = 3):\n",
    "    \"\"\"\n",
    "    Compute c_v coherence for various number of topics\n",
    "\n",
    "    Parameters:\n",
    "    ----------\n",
    "    dictionary : Gensim dictionary\n",
    "    corpus : Gensim corpus\n",
    "    texts : List of input texts\n",
    "    limit : Max num of topics\n",
    "\n",
    "    Returns:\n",
    "    -------\n",
    "    model_list : List of LDA topic models\n",
    "    coherence_values : Coherence values corresponding to the LDA model with respective number of topics\n",
    "    \"\"\"\n",
    "    coherence_values = []\n",
    "    model_list = []\n",
    "    for num_topics in range(start, limit, step):\n",
    "        model = LDA(corpus = corpus, num_topics = num_topics, id2word = dictionary, random_state = 100,\n",
    "                chunksize = 100, passes = 10)\n",
    "        model_list.append(model)\n",
    "        coherencemodel = CoherenceModel(model = model, texts = texts, dictionary = dictionary, coherence = 'c_v')\n",
    "        coherence_values.append(coherencemodel.get_coherence())\n",
    "\n",
    "    return model_list, coherence_values"
   ]
  },
  {
   "cell_type": "code",
   "execution_count": 34,
   "metadata": {},
   "outputs": [],
   "source": [
    "# Can take a long time to run.\n",
    "\n",
    "model_list, coherence_values = compute_coherence_values(dictionary = dictionary, corpus = corpus, texts = df['preprocessed'], start = 2, limit = 10, step = 1)"
   ]
  },
  {
   "cell_type": "code",
   "execution_count": 35,
   "metadata": {},
   "outputs": [
    {
     "data": {
      "image/png": "[encoded data removed]",
      "text/plain": [
       "<Figure size 432x288 with 1 Axes>"
      ]
     },
     "metadata": {
      "needs_background": "light"
     },
     "output_type": "display_data"
    }
   ],
   "source": [
    "# Show graph\n",
    "\n",
    "limit = 10; start = 2; step = 1;\n",
    "x = range(start, limit, step)\n",
    "plt.plot(x, coherence_values)\n",
    "plt.xlabel(\"Num Topics\")\n",
    "plt.ylabel(\"Coherence score\")\n",
    "plt.legend((\"coherence_values\"), loc = 'best')\n",
    "plt.show()\n"
   ]
  },
  {
   "cell_type": "code",
   "execution_count": 36,
   "metadata": {},
   "outputs": [
    {
     "name": "stdout",
     "output_type": "stream",
     "text": [
      "Num Topics = 2  has Coherence Value of 0.491\n",
      "Num Topics = 3  has Coherence Value of 0.4914\n",
      "Num Topics = 4  has Coherence Value of 0.4947\n",
      "Num Topics = 5  has Coherence Value of 0.4613\n",
      "Num Topics = 6  has Coherence Value of 0.4556\n",
      "Num Topics = 7  has Coherence Value of 0.4608\n",
      "Num Topics = 8  has Coherence Value of 0.4481\n",
      "Num Topics = 9  has Coherence Value of 0.4644\n"
     ]
    }
   ],
   "source": [
    "# Print the coherence scores\n",
    "\n",
    "for m, cv in zip(x, coherence_values):\n",
    "    print(\"Num Topics =\", m, \" has Coherence Value of\", round(cv, 4))"
   ]
  },
  {
   "cell_type": "markdown",
   "metadata": {},
   "source": [
    "## LDA Mallet Model\n",
    "\n",
    "Code reference:\n",
    "\n",
    "https://www.machinelearningplus.com/nlp/topic-modeling-gensim-python/#17howtofindtheoptimalnumberoftopicsforlda"
   ]
  },
  {
   "cell_type": "code",
   "execution_count": 37,
   "metadata": {},
   "outputs": [],
   "source": [
    "mallet_path = '/Users/siriamanda/Desktop/LNU-VT-2021/Thesis/11-data-analysis/mallet-2.0.8/bin/mallet' # update this path\n",
    "ldamallet = gensim.models.wrappers.LdaMallet(mallet_path, corpus = corpus, num_topics = 5, id2word = dictionary)"
   ]
  },
  {
   "cell_type": "code",
   "execution_count": 38,
   "metadata": {},
   "outputs": [
    {
     "name": "stdout",
     "output_type": "stream",
     "text": [
      "[(0,\n",
      "  [('video', 0.09712854114472924),\n",
      "   ('watson', 0.0965503950664868),\n",
      "   ('ibm', 0.0923106571593756),\n",
      "   ('studio', 0.06841395259202158),\n",
      "   ('update', 0.06070533821545577),\n",
      "   ('outdated', 0.0370013490075159),\n",
      "   ('material', 0.029292734630950088),\n",
      "   ('videos', 0.022933127770283293),\n",
      "   ('experience', 0.019464251300828676),\n",
      "   ('version', 0.018693389863172094)]),\n",
      " (1,\n",
      "  [('ibm', 0.043478260869565216),\n",
      "   ('notebook', 0.03324808184143223),\n",
      "   ('beginner', 0.029706866024001573),\n",
      "   ('jupyter', 0.026755852842809364),\n",
      "   ('cloud', 0.020657092268345466),\n",
      "   ('start', 0.019476686995868582),\n",
      "   ('helpful', 0.019279952783789103),\n",
      "   ('thing', 0.01809954751131222),\n",
      "   ('explain', 0.016919142238835335),\n",
      "   ('create', 0.01613220539051741)]),\n",
      " (2,\n",
      "  [('content', 0.04451853304569523),\n",
      "   ('time', 0.03922337713277113),\n",
      "   ('work', 0.03294763679152775),\n",
      "   ('make', 0.03118258482055305),\n",
      "   ('week', 0.02941753284957835),\n",
      "   ('understand', 0.026475779564620515),\n",
      "   ('instruction', 0.02529907825063738),\n",
      "   ('assignment', 0.02118062365169641),\n",
      "   ('bit', 0.019611688566385566),\n",
      "   ('lab', 0.016669935281427732)]),\n",
      " (3,\n",
      "  [('learn', 0.07729845793480383),\n",
      "   ('lot', 0.049970720281085304),\n",
      "   ('give', 0.034354870193246144),\n",
      "   ('information', 0.02557095451883662),\n",
      "   ('follow', 0.023033378879562756),\n",
      "   ('platform', 0.0222525863751708),\n",
      "   ('easy', 0.0222525863751708),\n",
      "   ('tutorial', 0.01815342572711302),\n",
      "   ('difficult', 0.014835057583447199),\n",
      "   ('informative', 0.01444466133125122)]),\n",
      " (4,\n",
      "  [('tool', 0.221256038647343),\n",
      "   ('data', 0.14492753623188406),\n",
      "   ('science', 0.11285024154589372),\n",
      "   ('open', 0.04657004830917874),\n",
      "   ('source', 0.044057971014492756),\n",
      "   ('introduction', 0.03632850241545894),\n",
      "   ('excellent', 0.024154589371980676),\n",
      "   ('basic', 0.02357487922705314),\n",
      "   ('overview', 0.019903381642512076),\n",
      "   ('knowledge', 0.01642512077294686)])]\n",
      "\n",
      "Coherence Score:  0.4015260983277623\n"
     ]
    }
   ],
   "source": [
    "# Show Topics\n",
    "pprint(ldamallet.show_topics(formatted = False))\n",
    "\n",
    "# Compute Coherence Score\n",
    "coherence_model_ldamallet = CoherenceModel(model = ldamallet, texts = df['preprocessed'], dictionary = dictionary, coherence = 'c_v')\n",
    "coherence_ldamallet = coherence_model_ldamallet.get_coherence()\n",
    "print('\\nCoherence Score: ', coherence_ldamallet)\n",
    "\n",
    "# The coherence score using the Mallet Model is lower than the original LDA Model"
   ]
  },
  {
   "cell_type": "code",
   "execution_count": null,
   "metadata": {},
   "outputs": [],
   "source": []
  },
  {
   "cell_type": "code",
   "execution_count": null,
   "metadata": {},
   "outputs": [],
   "source": []
  }
 ],
 "metadata": {
  "kernelspec": {
   "display_name": "Python 3",
   "language": "python",
   "name": "python3"
  },
  "language_info": {
   "codemirror_mode": {
    "name": "ipython",
    "version": 3
   },
   "file_extension": ".py",
   "mimetype": "text/x-python",
   "name": "python",
   "nbconvert_exporter": "python",
   "pygments_lexer": "ipython3",
   "version": "3.7.6"
  }
 },
 "nbformat": 4,
 "nbformat_minor": 4
}
