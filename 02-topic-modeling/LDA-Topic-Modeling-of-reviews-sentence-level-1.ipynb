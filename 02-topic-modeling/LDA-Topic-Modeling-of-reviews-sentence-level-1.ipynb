{
 "cells": [
  {
   "cell_type": "code",
   "execution_count": 2,
   "metadata": {},
   "outputs": [],
   "source": [
    "# Import the libraries\n",
    "\n",
    "import pandas as pd \n",
    "import numpy as np\n",
    "\n",
    "from pprint import pprint\n",
    "\n",
    "# libraries for visualization\n",
    "import pyLDAvis\n",
    "import pyLDAvis.gensim\n",
    "import matplotlib.pyplot as plt\n",
    "import seaborn as sns\n",
    "%matplotlib inline\n",
    "\n",
    "import re\n",
    "\n",
    "import spacy\n",
    "\n",
    "import gensim\n",
    "from gensim import corpora\n",
    "from gensim.utils import simple_preprocess\n",
    "from gensim.models import CoherenceModel\n",
    "\n",
    "import nltk\n",
    "from nltk import FreqDist\n",
    "from nltk.corpus import stopwords\n",
    "\n",
    "import warnings\n",
    "warnings.filterwarnings(\"ignore\")\n"
   ]
  },
  {
   "cell_type": "markdown",
   "metadata": {},
   "source": [
    "Code references:\n",
    "\n",
    "https://www.analyticsvidhya.com/blog/2018/10/mining-online-reviews-topic-modeling-lda/\n"
   ]
  },
  {
   "cell_type": "code",
   "execution_count": 60,
   "metadata": {},
   "outputs": [],
   "source": [
    "df = pd.read_csv('sentiment-sentence-level.csv')"
   ]
  },
  {
   "cell_type": "code",
   "execution_count": 61,
   "metadata": {},
   "outputs": [
    {
     "data": {
      "text/html": [
       "<div>\n",
       "<style scoped>\n",
       "    .dataframe tbody tr th:only-of-type {\n",
       "        vertical-align: middle;\n",
       "    }\n",
       "\n",
       "    .dataframe tbody tr th {\n",
       "        vertical-align: top;\n",
       "    }\n",
       "\n",
       "    .dataframe thead th {\n",
       "        text-align: right;\n",
       "    }\n",
       "</style>\n",
       "<table border=\"1\" class=\"dataframe\">\n",
       "  <thead>\n",
       "    <tr style=\"text-align: right;\">\n",
       "      <th></th>\n",
       "      <th>Unnamed: 0</th>\n",
       "      <th>review_index</th>\n",
       "      <th>date</th>\n",
       "      <th>review</th>\n",
       "      <th>rating</th>\n",
       "      <th>status</th>\n",
       "      <th>length</th>\n",
       "      <th>label</th>\n",
       "      <th>language</th>\n",
       "      <th>scores</th>\n",
       "      <th>compound</th>\n",
       "      <th>sentiment</th>\n",
       "    </tr>\n",
       "  </thead>\n",
       "  <tbody>\n",
       "    <tr>\n",
       "      <th>0</th>\n",
       "      <td>0</td>\n",
       "      <td>0</td>\n",
       "      <td>2021-03-11</td>\n",
       "      <td>Nice Course for beginners where we can enjoy a...</td>\n",
       "      <td>5</td>\n",
       "      <td>completer</td>\n",
       "      <td>128</td>\n",
       "      <td>pos</td>\n",
       "      <td>en</td>\n",
       "      <td>{'neg': 0.0, 'neu': 0.658, 'pos': 0.342, 'comp...</td>\n",
       "      <td>0.8555</td>\n",
       "      <td>pos</td>\n",
       "    </tr>\n",
       "    <tr>\n",
       "      <th>1</th>\n",
       "      <td>1</td>\n",
       "      <td>0</td>\n",
       "      <td>2021-03-11</td>\n",
       "      <td>Thanks</td>\n",
       "      <td>5</td>\n",
       "      <td>completer</td>\n",
       "      <td>6</td>\n",
       "      <td>pos</td>\n",
       "      <td>en</td>\n",
       "      <td>{'neg': 0.0, 'neu': 0.0, 'pos': 1.0, 'compound...</td>\n",
       "      <td>0.4404</td>\n",
       "      <td>pos</td>\n",
       "    </tr>\n",
       "    <tr>\n",
       "      <th>2</th>\n",
       "      <td>2</td>\n",
       "      <td>1</td>\n",
       "      <td>2021-03-11</td>\n",
       "      <td>Super easy and totally for the beginners like ...</td>\n",
       "      <td>5</td>\n",
       "      <td>completer</td>\n",
       "      <td>63</td>\n",
       "      <td>pos</td>\n",
       "      <td>en</td>\n",
       "      <td>{'neg': 0.0, 'neu': 0.462, 'pos': 0.538, 'comp...</td>\n",
       "      <td>0.8519</td>\n",
       "      <td>pos</td>\n",
       "    </tr>\n",
       "    <tr>\n",
       "      <th>3</th>\n",
       "      <td>3</td>\n",
       "      <td>1</td>\n",
       "      <td>2021-03-11</td>\n",
       "      <td>Professor's explanations are clear like crystal.</td>\n",
       "      <td>5</td>\n",
       "      <td>completer</td>\n",
       "      <td>48</td>\n",
       "      <td>pos</td>\n",
       "      <td>en</td>\n",
       "      <td>{'neg': 0.0, 'neu': 0.44, 'pos': 0.56, 'compou...</td>\n",
       "      <td>0.6249</td>\n",
       "      <td>pos</td>\n",
       "    </tr>\n",
       "    <tr>\n",
       "      <th>4</th>\n",
       "      <td>4</td>\n",
       "      <td>1</td>\n",
       "      <td>2021-03-11</td>\n",
       "      <td>There are some cute moments that make you smil...</td>\n",
       "      <td>5</td>\n",
       "      <td>completer</td>\n",
       "      <td>50</td>\n",
       "      <td>pos</td>\n",
       "      <td>en</td>\n",
       "      <td>{'neg': 0.0, 'neu': 0.452, 'pos': 0.548, 'comp...</td>\n",
       "      <td>0.8176</td>\n",
       "      <td>pos</td>\n",
       "    </tr>\n",
       "  </tbody>\n",
       "</table>\n",
       "</div>"
      ],
      "text/plain": [
       "   Unnamed: 0  review_index        date  \\\n",
       "0           0             0  2021-03-11   \n",
       "1           1             0  2021-03-11   \n",
       "2           2             1  2021-03-11   \n",
       "3           3             1  2021-03-11   \n",
       "4           4             1  2021-03-11   \n",
       "\n",
       "                                              review  rating     status  \\\n",
       "0  Nice Course for beginners where we can enjoy a...       5  completer   \n",
       "1                                             Thanks       5  completer   \n",
       "2  Super easy and totally for the beginners like ...       5  completer   \n",
       "3   Professor's explanations are clear like crystal.       5  completer   \n",
       "4  There are some cute moments that make you smil...       5  completer   \n",
       "\n",
       "   length label language                                             scores  \\\n",
       "0     128   pos       en  {'neg': 0.0, 'neu': 0.658, 'pos': 0.342, 'comp...   \n",
       "1       6   pos       en  {'neg': 0.0, 'neu': 0.0, 'pos': 1.0, 'compound...   \n",
       "2      63   pos       en  {'neg': 0.0, 'neu': 0.462, 'pos': 0.538, 'comp...   \n",
       "3      48   pos       en  {'neg': 0.0, 'neu': 0.44, 'pos': 0.56, 'compou...   \n",
       "4      50   pos       en  {'neg': 0.0, 'neu': 0.452, 'pos': 0.548, 'comp...   \n",
       "\n",
       "   compound sentiment  \n",
       "0    0.8555       pos  \n",
       "1    0.4404       pos  \n",
       "2    0.8519       pos  \n",
       "3    0.6249       pos  \n",
       "4    0.8176       pos  "
      ]
     },
     "execution_count": 61,
     "metadata": {},
     "output_type": "execute_result"
    }
   ],
   "source": [
    "df.head()"
   ]
  },
  {
   "cell_type": "code",
   "execution_count": 62,
   "metadata": {},
   "outputs": [],
   "source": [
    "df.drop(['Unnamed: 0', 'date', 'language', 'scores'], axis = 1, inplace = True)"
   ]
  },
  {
   "cell_type": "code",
   "execution_count": 63,
   "metadata": {},
   "outputs": [
    {
     "data": {
      "text/html": [
       "<div>\n",
       "<style scoped>\n",
       "    .dataframe tbody tr th:only-of-type {\n",
       "        vertical-align: middle;\n",
       "    }\n",
       "\n",
       "    .dataframe tbody tr th {\n",
       "        vertical-align: top;\n",
       "    }\n",
       "\n",
       "    .dataframe thead th {\n",
       "        text-align: right;\n",
       "    }\n",
       "</style>\n",
       "<table border=\"1\" class=\"dataframe\">\n",
       "  <thead>\n",
       "    <tr style=\"text-align: right;\">\n",
       "      <th></th>\n",
       "      <th>review_index</th>\n",
       "      <th>review</th>\n",
       "      <th>rating</th>\n",
       "      <th>status</th>\n",
       "      <th>length</th>\n",
       "      <th>label</th>\n",
       "      <th>compound</th>\n",
       "      <th>sentiment</th>\n",
       "    </tr>\n",
       "  </thead>\n",
       "  <tbody>\n",
       "    <tr>\n",
       "      <th>0</th>\n",
       "      <td>0</td>\n",
       "      <td>Nice Course for beginners where we can enjoy a...</td>\n",
       "      <td>5</td>\n",
       "      <td>completer</td>\n",
       "      <td>128</td>\n",
       "      <td>pos</td>\n",
       "      <td>0.8555</td>\n",
       "      <td>pos</td>\n",
       "    </tr>\n",
       "    <tr>\n",
       "      <th>1</th>\n",
       "      <td>0</td>\n",
       "      <td>Thanks</td>\n",
       "      <td>5</td>\n",
       "      <td>completer</td>\n",
       "      <td>6</td>\n",
       "      <td>pos</td>\n",
       "      <td>0.4404</td>\n",
       "      <td>pos</td>\n",
       "    </tr>\n",
       "    <tr>\n",
       "      <th>2</th>\n",
       "      <td>1</td>\n",
       "      <td>Super easy and totally for the beginners like ...</td>\n",
       "      <td>5</td>\n",
       "      <td>completer</td>\n",
       "      <td>63</td>\n",
       "      <td>pos</td>\n",
       "      <td>0.8519</td>\n",
       "      <td>pos</td>\n",
       "    </tr>\n",
       "    <tr>\n",
       "      <th>3</th>\n",
       "      <td>1</td>\n",
       "      <td>Professor's explanations are clear like crystal.</td>\n",
       "      <td>5</td>\n",
       "      <td>completer</td>\n",
       "      <td>48</td>\n",
       "      <td>pos</td>\n",
       "      <td>0.6249</td>\n",
       "      <td>pos</td>\n",
       "    </tr>\n",
       "    <tr>\n",
       "      <th>4</th>\n",
       "      <td>1</td>\n",
       "      <td>There are some cute moments that make you smil...</td>\n",
       "      <td>5</td>\n",
       "      <td>completer</td>\n",
       "      <td>50</td>\n",
       "      <td>pos</td>\n",
       "      <td>0.8176</td>\n",
       "      <td>pos</td>\n",
       "    </tr>\n",
       "    <tr>\n",
       "      <th>...</th>\n",
       "      <td>...</td>\n",
       "      <td>...</td>\n",
       "      <td>...</td>\n",
       "      <td>...</td>\n",
       "      <td>...</td>\n",
       "      <td>...</td>\n",
       "      <td>...</td>\n",
       "      <td>...</td>\n",
       "    </tr>\n",
       "    <tr>\n",
       "      <th>14469</th>\n",
       "      <td>9687</td>\n",
       "      <td>My friend recommanded the lecture.</td>\n",
       "      <td>5</td>\n",
       "      <td>dropout</td>\n",
       "      <td>34</td>\n",
       "      <td>pos</td>\n",
       "      <td>0.4939</td>\n",
       "      <td>pos</td>\n",
       "    </tr>\n",
       "    <tr>\n",
       "      <th>14470</th>\n",
       "      <td>9687</td>\n",
       "      <td>It really deserves five star rate!</td>\n",
       "      <td>5</td>\n",
       "      <td>dropout</td>\n",
       "      <td>34</td>\n",
       "      <td>pos</td>\n",
       "      <td>0.0000</td>\n",
       "      <td>neu</td>\n",
       "    </tr>\n",
       "    <tr>\n",
       "      <th>14471</th>\n",
       "      <td>9688</td>\n",
       "      <td>Highly recommend this sets  a good foundation ...</td>\n",
       "      <td>5</td>\n",
       "      <td>dropout</td>\n",
       "      <td>56</td>\n",
       "      <td>pos</td>\n",
       "      <td>0.6901</td>\n",
       "      <td>pos</td>\n",
       "    </tr>\n",
       "    <tr>\n",
       "      <th>14472</th>\n",
       "      <td>9689</td>\n",
       "      <td>best python programming course for absolute be...</td>\n",
       "      <td>5</td>\n",
       "      <td>dropout</td>\n",
       "      <td>53</td>\n",
       "      <td>pos</td>\n",
       "      <td>0.6369</td>\n",
       "      <td>pos</td>\n",
       "    </tr>\n",
       "    <tr>\n",
       "      <th>14473</th>\n",
       "      <td>9690</td>\n",
       "      <td>best one</td>\n",
       "      <td>4</td>\n",
       "      <td>completer</td>\n",
       "      <td>8</td>\n",
       "      <td>pos</td>\n",
       "      <td>0.6369</td>\n",
       "      <td>pos</td>\n",
       "    </tr>\n",
       "  </tbody>\n",
       "</table>\n",
       "<p>14474 rows × 8 columns</p>\n",
       "</div>"
      ],
      "text/plain": [
       "       review_index                                             review  \\\n",
       "0                 0  Nice Course for beginners where we can enjoy a...   \n",
       "1                 0                                             Thanks   \n",
       "2                 1  Super easy and totally for the beginners like ...   \n",
       "3                 1   Professor's explanations are clear like crystal.   \n",
       "4                 1  There are some cute moments that make you smil...   \n",
       "...             ...                                                ...   \n",
       "14469          9687                 My friend recommanded the lecture.   \n",
       "14470          9687                 It really deserves five star rate!   \n",
       "14471          9688  Highly recommend this sets  a good foundation ...   \n",
       "14472          9689  best python programming course for absolute be...   \n",
       "14473          9690                                           best one   \n",
       "\n",
       "       rating     status  length label  compound sentiment  \n",
       "0           5  completer     128   pos    0.8555       pos  \n",
       "1           5  completer       6   pos    0.4404       pos  \n",
       "2           5  completer      63   pos    0.8519       pos  \n",
       "3           5  completer      48   pos    0.6249       pos  \n",
       "4           5  completer      50   pos    0.8176       pos  \n",
       "...       ...        ...     ...   ...       ...       ...  \n",
       "14469       5    dropout      34   pos    0.4939       pos  \n",
       "14470       5    dropout      34   pos    0.0000       neu  \n",
       "14471       5    dropout      56   pos    0.6901       pos  \n",
       "14472       5    dropout      53   pos    0.6369       pos  \n",
       "14473       4  completer       8   pos    0.6369       pos  \n",
       "\n",
       "[14474 rows x 8 columns]"
      ]
     },
     "execution_count": 63,
     "metadata": {},
     "output_type": "execute_result"
    }
   ],
   "source": [
    "df"
   ]
  },
  {
   "cell_type": "code",
   "execution_count": 64,
   "metadata": {},
   "outputs": [
    {
     "data": {
      "text/plain": [
       "526"
      ]
     },
     "execution_count": 64,
     "metadata": {},
     "output_type": "execute_result"
    }
   ],
   "source": [
    "# Check for null values\n",
    "\n",
    "len(df[df['review'].isna()==True])"
   ]
  },
  {
   "cell_type": "code",
   "execution_count": 65,
   "metadata": {},
   "outputs": [],
   "source": [
    "# Drop null values\n",
    "\n",
    "df.dropna(inplace = True)"
   ]
  },
  {
   "cell_type": "code",
   "execution_count": 66,
   "metadata": {},
   "outputs": [
    {
     "data": {
      "text/plain": [
       "0"
      ]
     },
     "execution_count": 66,
     "metadata": {},
     "output_type": "execute_result"
    }
   ],
   "source": [
    "# Check for null values\n",
    "\n",
    "len(df[df['review'].isna()==True])"
   ]
  },
  {
   "cell_type": "code",
   "execution_count": null,
   "metadata": {},
   "outputs": [],
   "source": [
    "# Reset the index\n",
    "\n",
    "df = df.reset_index(drop = True)"
   ]
  },
  {
   "cell_type": "code",
   "execution_count": 67,
   "metadata": {},
   "outputs": [],
   "source": [
    "# Define a function to plot the most frequent words\n",
    "\n",
    "def freq_words(x, terms = 30):\n",
    "    all_words = ' '.join([text for text in x])\n",
    "    all_words = all_words.split()\n",
    "\n",
    "    fdist = FreqDist(all_words)\n",
    "    words_df = pd.DataFrame({'word':list(fdist.keys()), 'count':list(fdist.values())})\n",
    "    \n",
    "    # selecting top 20 most frequent words\n",
    "    d = words_df.nlargest(columns=\"count\", n = terms) \n",
    "    plt.figure(figsize=(20,5))\n",
    "    ax = sns.barplot(data=d, x= \"word\", y = \"count\")\n",
    "    ax.set(ylabel = 'Count')\n",
    "    plt.xticks(rotation = 45)\n",
    "    plt.show()"
   ]
  },
  {
   "cell_type": "code",
   "execution_count": 68,
   "metadata": {},
   "outputs": [
    {
     "data": {
      "image/png": "[encoded data removed]",
      "text/plain": [
       "<Figure size 1440x360 with 1 Axes>"
      ]
     },
     "metadata": {
      "needs_background": "light"
     },
     "output_type": "display_data"
    }
   ],
   "source": [
    "# The most frquent words are stop words such as 'to' and 'the' we will remove these in the preprocessing steps\n",
    "\n",
    "freq_words(df['review'])"
   ]
  },
  {
   "cell_type": "markdown",
   "metadata": {},
   "source": [
    "## Preprocessing"
   ]
  },
  {
   "cell_type": "code",
   "execution_count": 69,
   "metadata": {},
   "outputs": [
    {
     "data": {
      "text/plain": [
       "0    nice course for beginners where we can enjoy a...\n",
       "1                                               thanks\n",
       "2    super easy and totally for the beginners like ...\n",
       "3     professor's explanations are clear like crystal.\n",
       "4    there are some cute moments that make you smil...\n",
       "Name: review, dtype: object"
      ]
     },
     "execution_count": 69,
     "metadata": {},
     "output_type": "execute_result"
    }
   ],
   "source": [
    "# Covert to lowercase\n",
    "\n",
    "df['review'] =  df['review'].apply(lambda x: \" \".join(x.lower() for x in x.split()))\n",
    "df['review'].head()"
   ]
  },
  {
   "cell_type": "code",
   "execution_count": 70,
   "metadata": {},
   "outputs": [
    {
     "data": {
      "text/plain": [
       "0    nice course for beginners where we can enjoy a...\n",
       "1                                               thanks\n",
       "2    super easy and totally for the beginners like ...\n",
       "3       professors explanations are clear like crystal\n",
       "4     there are some cute moments that make you smile \n",
       "Name: review, dtype: object"
      ]
     },
     "execution_count": 70,
     "metadata": {},
     "output_type": "execute_result"
    }
   ],
   "source": [
    "# Remove punctuations\n",
    "\n",
    "df['review'] = df['review'].str.replace('[^\\w\\s]','')\n",
    "df['review'].head()"
   ]
  },
  {
   "cell_type": "code",
   "execution_count": 71,
   "metadata": {},
   "outputs": [
    {
     "data": {
      "text/plain": [
       "0    nice course beginners enjoy learn well dr chuc...\n",
       "1                                               thanks\n",
       "2       super easy totally beginners like course title\n",
       "3           professors explanations clear like crystal\n",
       "4                              cute moments make smile\n",
       "Name: review, dtype: object"
      ]
     },
     "execution_count": 71,
     "metadata": {},
     "output_type": "execute_result"
    }
   ],
   "source": [
    "# Remove stopwords\n",
    "\n",
    "stop = stopwords.words('english')\n",
    "\n",
    "df['review'] = df['review'].apply(lambda x: \" \".join(x for x in x.split() if x not in stop))\n",
    "df['review'].head()"
   ]
  },
  {
   "cell_type": "code",
   "execution_count": 72,
   "metadata": {},
   "outputs": [],
   "source": [
    "# Remove short words (length < 3)\n",
    "\n",
    "# df['review'] = df['review'].apply(lambda x: ' '.join([w for w in x.split() if len(w)>2]))\n",
    "# df['review'].head()"
   ]
  },
  {
   "cell_type": "code",
   "execution_count": 73,
   "metadata": {},
   "outputs": [
    {
     "data": {
      "image/png": "[encoded data removed]",
      "text/plain": [
       "<Figure size 1440x360 with 1 Axes>"
      ]
     },
     "metadata": {
      "needs_background": "light"
     },
     "output_type": "display_data"
    }
   ],
   "source": [
    "# Look at the most frequent words again \n",
    "\n",
    "freq_words(df['review'])"
   ]
  },
  {
   "cell_type": "code",
   "execution_count": 90,
   "metadata": {},
   "outputs": [],
   "source": [
    "# Remove additional noice with lemmatization using the spacy library\n",
    "\n",
    "nlp = spacy.load('en', disable=['parser', 'ner'])\n",
    "\n",
    "# Define function for lemmatization\n",
    "\n",
    "def lemmatization(texts, tags = ['NOUN', 'ADJ', 'VERB', 'ADV']):\n",
    "    output = []\n",
    "    for sent in texts:\n",
    "        doc = nlp(\" \".join(sent)) \n",
    "        output.append([token.lemma_ for token in doc if token.pos_ in tags])\n",
    "    return output\n"
   ]
  },
  {
   "cell_type": "code",
   "execution_count": 91,
   "metadata": {},
   "outputs": [
    {
     "name": "stdout",
     "output_type": "stream",
     "text": [
      "['nice', 'course', 'beginners', 'enjoy', 'learn', 'well', 'dr', 'chuck', 'made', 'huge', 'impact', 'basic', 'control', 'flow', 'python']\n"
     ]
    }
   ],
   "source": [
    "# Tokenize reviews\n",
    "\n",
    "tokenized_reviews = pd.Series(df['review']).apply(lambda x: x.split())\n",
    "print(tokenized_reviews[0])"
   ]
  },
  {
   "cell_type": "code",
   "execution_count": 92,
   "metadata": {},
   "outputs": [
    {
     "name": "stdout",
     "output_type": "stream",
     "text": [
      "['nice', 'course', 'beginner', 'enjoy', 'learn', 'well', 'make', 'huge', 'impact', 'basic', 'control', 'flow']\n"
     ]
    }
   ],
   "source": [
    "# Apply lemmatization function\n",
    "\n",
    "lemmatized_reviews = lemmatization(tokenized_reviews)\n",
    "print(lemmatized_reviews[0]) # print lemmatized review"
   ]
  },
  {
   "cell_type": "code",
   "execution_count": 93,
   "metadata": {},
   "outputs": [
    {
     "data": {
      "image/png": "[encoded data removed]",
      "text/plain": [
       "<Figure size 1440x360 with 1 Axes>"
      ]
     },
     "metadata": {
      "needs_background": "light"
     },
     "output_type": "display_data"
    }
   ],
   "source": [
    "joined_reviews = []\n",
    "for i in range(len(lemmatized_reviews)):\n",
    "    joined_reviews.append(' '.join(lemmatized_reviews[i]))\n",
    "\n",
    "df['lemmatized_reviews'] = joined_reviews\n",
    "\n",
    "freq_words(df['lemmatized_reviews'], 35)"
   ]
  },
  {
   "cell_type": "markdown",
   "metadata": {},
   "source": [
    "## LDA Topic Modeling"
   ]
  },
  {
   "cell_type": "code",
   "execution_count": 94,
   "metadata": {},
   "outputs": [],
   "source": [
    "# Create a dictionary from 'df_sen['review']' containing the number of times a word appears in the training set\n",
    "\n",
    "dictionary = gensim.corpora.Dictionary(lemmatized_reviews)"
   ]
  },
  {
   "cell_type": "code",
   "execution_count": 95,
   "metadata": {},
   "outputs": [],
   "source": [
    "# Gensim filter extremes\n",
    "\n",
    "# Filter out tokens that appear in:\n",
    "# Less than 50 documents, more than 0.5 documents, and keep only 100000 most frquent tokens\n",
    "\n",
    "dictionary.filter_extremes(no_below = 50, no_above = 0.5, keep_n = 100000)"
   ]
  },
  {
   "cell_type": "code",
   "execution_count": 96,
   "metadata": {},
   "outputs": [],
   "source": [
    "# Gensim doc2bow\n",
    "# Create a dictionary reporting how many words and how many times those words appear\n",
    "\n",
    "corpus = [dictionary.doc2bow(doc) for doc in lemmatized_reviews]\n"
   ]
  },
  {
   "cell_type": "code",
   "execution_count": 113,
   "metadata": {},
   "outputs": [],
   "source": [
    "# Creating the object for LDA model using gensim library\n",
    "LDA = gensim.models.ldamodel.LdaModel\n",
    "\n",
    "# Build LDA model\n",
    "lda_model = LDA(corpus = corpus, id2word = dictionary, num_topics = 7, random_state = 100,\n",
    "                chunksize = 1000, passes = 50)"
   ]
  },
  {
   "cell_type": "code",
   "execution_count": 114,
   "metadata": {},
   "outputs": [
    {
     "name": "stdout",
     "output_type": "stream",
     "text": [
      "Topic: 0\n",
      "Word: 0.157*\"course\" + 0.118*\"amazing\" + 0.089*\"awesome\" + 0.075*\"program\" + 0.070*\"useful\" + 0.048*\"thing\" + 0.045*\"complete\" + 0.045*\"learn\" + 0.039*\"get\" + 0.035*\"be\"\n",
      "\n",
      "Topic: 1\n",
      "Word: 0.115*\"easy\" + 0.106*\"nice\" + 0.094*\"course\" + 0.076*\"make\" + 0.063*\"understand\" + 0.045*\"learn\" + 0.040*\"fun\" + 0.038*\"class\" + 0.033*\"first\" + 0.030*\"time\"\n",
      "\n",
      "Topic: 2\n",
      "Word: 0.290*\"course\" + 0.187*\"great\" + 0.099*\"beginner\" + 0.080*\"learn\" + 0.053*\"start\" + 0.048*\"really\" + 0.044*\"helpful\" + 0.040*\"love\" + 0.034*\"want\" + 0.030*\"lot\"\n",
      "\n",
      "Topic: 3\n",
      "Word: 0.577*\"good\" + 0.091*\"experience\" + 0.067*\"teaching\" + 0.050*\"learning\" + 0.029*\"explanation\" + 0.024*\"teacher\" + 0.024*\"exercise\" + 0.023*\"platform\" + 0.017*\"work\" + 0.017*\"week\"\n",
      "\n",
      "Topic: 4\n",
      "Word: 0.113*\"thank\" + 0.108*\"programming\" + 0.092*\"course\" + 0.091*\"basic\" + 0.065*\"python\" + 0.058*\"learn\" + 0.048*\"much\" + 0.046*\"language\" + 0.040*\"knowledge\" + 0.039*\"help\"\n",
      "\n",
      "Topic: 5\n",
      "Word: 0.087*\"really\" + 0.084*\"instructor\" + 0.067*\"explain\" + 0.041*\"teacher\" + 0.039*\"way\" + 0.039*\"enjoy\" + 0.038*\"assignment\" + 0.036*\"would\" + 0.034*\"also\" + 0.030*\"concept\"\n",
      "\n",
      "Topic: 6\n",
      "Word: 0.208*\"course\" + 0.130*\"excellent\" + 0.092*\"well\" + 0.082*\"teach\" + 0.058*\"take\" + 0.050*\"interesting\" + 0.037*\"beginner\" + 0.029*\"ever\" + 0.029*\"look\" + 0.026*\"content\"\n",
      "\n"
     ]
    }
   ],
   "source": [
    "# Explore the words occurring in each topic and its relative weight\n",
    "\n",
    "for id, topic in lda_model.print_topics(-1):\n",
    "    print('Topic: {}\\nWord: {}\\n'.format(id, topic))"
   ]
  },
  {
   "cell_type": "code",
   "execution_count": 115,
   "metadata": {
    "scrolled": false
   },
   "outputs": [
    {
     "data": {
      "text/html": [
       "\n",
       "<link rel=\"stylesheet\" type=\"text/css\" href=\"https://cdn.jsdelivr.net/gh/bmabey/pyLDAvis@3.2.2/pyLDAvis/js/ldavis.v1.0.0.css\">\n",
       "\n",
       "\n",
       "<div id=\"ldavis_el211141402316630256167636311578\"></div>\n",
       "<script type=\"text/javascript\">\n",
       "\n",
       "var ldavis_el211141402316630256167636311578_data = {\"mdsDat\": {\"x\": [-0.13324466834960222, -0.17444091311370835, 0.25542142430960996, -0.06134356674446745, -0.11431327790963632, -0.1710195353918656, 0.3989405371996716], \"y\": [-0.14875779068991427, 0.10749361116365871, 0.294783200417238, -0.17819309253763171, 0.1528666851309137, -0.03722213732309689, -0.19097047616116727], \"topics\": [1, 2, 3, 4, 5, 6, 7], \"cluster\": [1, 1, 1, 1, 1, 1, 1], \"Freq\": [18.0710220521261, 17.37959460339474, 15.861555686631046, 14.176473725021635, 13.160065258042755, 10.889592869855184, 10.461695804928542]}, \"tinfo\": {\"Term\": [\"good\", \"great\", \"course\", \"thank\", \"excellent\", \"easy\", \"nice\", \"programming\", \"amazing\", \"basic\", \"beginner\", \"really\", \"instructor\", \"well\", \"teach\", \"experience\", \"awesome\", \"make\", \"python\", \"explain\", \"learn\", \"program\", \"useful\", \"understand\", \"teaching\", \"start\", \"take\", \"much\", \"language\", \"interesting\", \"thank\", \"basic\", \"python\", \"much\", \"language\", \"knowledge\", \"help\", \"know\", \"clear\", \"new\", \"could\", \"skill\", \"computer\", \"prior\", \"programmer\", \"understanding\", \"gain\", \"point\", \"learner\", \"programming\", \"fundamental\", \"already\", \"coding\", \"give\", \"easily\", \"lot\", \"have\", \"even\", \"get\", \"need\", \"learn\", \"understand\", \"course\", \"concept\", \"great\", \"helpful\", \"want\", \"people\", \"overall\", \"quiz\", \"introductory\", \"must\", \"beginner\", \"definitely\", \"love\", \"start\", \"lot\", \"course\", \"learn\", \"really\", \"introduction\", \"recommend\", \"content\", \"code\", \"world\", \"job\", \"learner\", \"interactive\", \"write\", \"challenge\", \"coding\", \"engage\", \"information\", \"different\", \"point\", \"especially\", \"programming\", \"way\", \"pace\", \"enjoy\", \"absolutely\", \"experience\", \"say\", \"instructor\", \"explain\", \"enjoy\", \"assignment\", \"would\", \"also\", \"severance\", \"video\", \"lecture\", \"professor\", \"highly\", \"like\", \"say\", \"never\", \"keep\", \"especially\", \"part\", \"fantastic\", \"absolutely\", \"difficult\", \"pretty\", \"clearly\", \"information\", \"think\", \"code\", \"example\", \"go\", \"able\", \"feel\", \"problem\", \"concept\", \"teacher\", \"recommend\", \"really\", \"way\", \"simple\", \"well\", \"love\", \"easy\", \"nice\", \"make\", \"fun\", \"class\", \"first\", \"time\", \"wonderful\", \"student\", \"perfect\", \"topic\", \"follow\", \"step\", \"background\", \"bit\", \"little\", \"person\", \"idea\", \"interactive\", \"world\", \"understand\", \"use\", \"different\", \"try\", \"even\", \"find\", \"online\", \"pace\", \"simple\", \"experience\", \"feel\", \"learn\", \"programming\", \"course\", \"way\", \"excellent\", \"teach\", \"take\", \"interesting\", \"ever\", \"look\", \"understandable\", \"forward\", \"friendly\", \"continue\", \"next\", \"see\", \"cover\", \"study\", \"style\", \"level\", \"design\", \"specialization\", \"engage\", \"well\", \"content\", \"online\", \"extremely\", \"introduction\", \"have\", \"easily\", \"definitely\", \"go\", \"beginner\", \"course\", \"way\", \"amazing\", \"awesome\", \"program\", \"useful\", \"thing\", \"complete\", \"be\", \"provide\", \"informative\", \"many\", \"begin\", \"happy\", \"opportunity\", \"structure\", \"lesson\", \"do\", \"practice\", \"challenge\", \"need\", \"get\", \"material\", \"extremely\", \"different\", \"start\", \"write\", \"think\", \"fundamental\", \"find\", \"learn\", \"course\", \"good\", \"teaching\", \"learning\", \"explanation\", \"exercise\", \"platform\", \"week\", \"quite\", \"build\", \"detail\", \"experience\", \"pace\", \"work\", \"job\", \"teacher\", \"example\", \"material\", \"way\", \"learner\", \"interactive\", \"write\", \"challenge\", \"coding\", \"engage\", \"information\", \"different\", \"point\", \"gain\", \"extremely\", \"specialization\", \"pretty\", \"style\", \"online\", \"overall\", \"course\", \"learn\", \"really\", \"give\", \"content\", \"skill\", \"introduction\", \"person\", \"clear\"], \"Freq\": [2666.0, 1437.0, 5509.0, 898.0, 756.0, 718.0, 667.0, 1040.0, 569.0, 725.0, 977.0, 982.0, 587.0, 707.0, 476.0, 561.0, 426.0, 474.0, 518.0, 469.0, 1577.0, 361.0, 336.0, 542.0, 312.0, 555.0, 340.0, 386.0, 371.0, 293.0, 897.7904220612191, 724.7926464391028, 517.9216681205617, 385.2322790430696, 370.75641471675516, 320.70093905872136, 314.5626059315008, 243.1192394343583, 188.65621272899685, 174.86892793629622, 127.03284761306814, 124.80493643450947, 104.46368440583387, 84.2846792641578, 65.43161923234011, 61.09006968956181, 54.747865330854815, 54.10641645954724, 45.444060810147974, 858.8542604474769, 48.45156553129593, 55.06567870037404, 37.847931897999196, 138.41139701963263, 57.86980263129878, 160.57301096802797, 37.132705055748374, 56.166849377631635, 110.39992600887929, 32.438981531309885, 464.40789791116373, 146.72523841952557, 734.3253978586122, 78.76273420278521, 1436.3006819146872, 338.0937855584465, 262.69314931816143, 117.6877977881221, 75.96829850173363, 73.34303474111653, 65.27864446039037, 60.11913614528235, 760.4993706951487, 50.38729559108209, 304.54694767188056, 403.427223066369, 230.1175212364116, 2224.0428671198383, 612.4429676154069, 371.2281212011678, 56.3961676090237, 93.7596446297358, 50.824475074150364, 54.25115594103222, 13.417183983246828, 0.13232548672123048, 0.1322995383906818, 0.1322745810937366, 0.13224725089943087, 0.13221973924826816, 0.13244526220505967, 0.13220843309025607, 0.13229433197470833, 0.13229706778578285, 0.13234992756404426, 0.13273514651320145, 0.13248688561640784, 0.13244287534947935, 0.13243990224866878, 0.13243787830680243, 0.1324350866628488, 0.13243436083542087, 0.13243325813605922, 586.9193317886405, 468.2977889420508, 270.59590455514774, 266.7984180878768, 253.452610082839, 235.8360255915495, 201.78600338785628, 194.26289404172098, 176.20161364758562, 152.6394097143922, 150.36555133314056, 100.8588309424613, 95.56132088421951, 92.4411184086106, 81.36766863730818, 78.98905430276223, 74.48092186754513, 62.317190970990225, 60.12541674839678, 59.54183979745328, 59.42544139495713, 59.096517746078916, 51.86427721976413, 149.7786284009979, 198.8693904973373, 78.69816917699045, 122.21177415092679, 66.10844204249814, 102.13108648380941, 54.21202438856915, 211.9314488608761, 287.85761936790925, 210.87599724752147, 610.3644720365262, 271.15174182180255, 131.27785696365984, 172.65367345844442, 111.4333968736805, 717.757978302298, 666.4788483861906, 474.105302193094, 251.27385985711715, 235.88090566678991, 208.9423031195983, 186.78423351756365, 185.0784975957934, 160.70028857647287, 135.09304216264005, 119.32385441458995, 115.26689776504487, 100.09256010526802, 91.28920784731879, 88.01241992255159, 73.53953574537829, 71.22182277232596, 59.71652013056852, 46.09056660596703, 66.38371804817814, 395.1282005298692, 92.66507776200342, 38.38152701751408, 69.99059349963419, 91.13611448362313, 53.72876947181896, 55.796952270741635, 17.797537824631274, 51.34204148342916, 142.55547796751148, 34.97370150323228, 282.02971152528914, 180.8998683894341, 586.2648278941487, 65.99555157919626, 755.6422652488176, 475.4288687661193, 339.89032840847244, 293.0524399510032, 169.644381704921, 165.73309444294662, 101.35528196105456, 99.1394421490722, 92.64981972591735, 87.4547276888801, 82.77622913443847, 73.3585527739122, 69.94757035211433, 69.67388869041868, 68.1658742699377, 65.36285325053751, 58.91223698504278, 56.47343758624658, 50.87738519326205, 533.864725192758, 151.13339483988216, 123.29611576864642, 36.60026835395976, 106.60274658325199, 56.609596566946635, 38.90857462209338, 17.081230983542564, 38.426842081180126, 216.61115066333824, 1208.532068698326, 88.26923015945388, 568.1457236327337, 425.56444277096375, 360.7660050481555, 336.04684382832204, 229.917670928449, 218.54820227929227, 166.63803894594685, 146.38017592015646, 136.234080711281, 104.53118041296749, 86.45329932531084, 84.9182568092091, 69.90810539135425, 69.84081188152076, 69.19021242512429, 67.9931554579127, 65.69457251489146, 48.70334190133656, 59.88336508066863, 185.2648717209542, 54.35256667487823, 18.619212550735384, 14.72315207646678, 151.01181249016878, 12.98428787192709, 35.224742495796164, 10.91055360022911, 15.562000290517123, 217.69307139122463, 756.0536343753911, 2665.2274663147787, 311.75271811582144, 228.72197603543816, 133.6592339056683, 110.57859273888353, 106.64685196783537, 79.21817312709275, 67.07827659509917, 65.38334550111335, 61.49843544294186, 418.422602569119, 44.45034379124508, 79.28558423041605, 13.52952028693319, 111.58876984688455, 23.063356047885396, 18.71580664197011, 59.514359327407305, 0.14358972346013887, 0.14355814803158698, 0.143446566953575, 0.14350889439609707, 0.14353040400149697, 0.14367025004535477, 0.14346901760421116, 0.14361047686847395, 0.14357760750272222, 0.14349360241100806, 0.14359195844257497, 0.14343589617277114, 0.14368070236922878, 0.14406545543581953, 0.1440660771978506, 0.14384869574827785, 0.143845402089951, 0.14378814956995298, 0.14377094188563305, 0.14375218819842503, 0.1437463234700777, 0.14373711467026587, 0.14372138577131718, 0.14372069679176921, 0.1437103116854121], \"Total\": [2666.0, 1437.0, 5509.0, 898.0, 756.0, 718.0, 667.0, 1040.0, 569.0, 725.0, 977.0, 982.0, 587.0, 707.0, 476.0, 561.0, 426.0, 474.0, 518.0, 469.0, 1577.0, 361.0, 336.0, 542.0, 312.0, 555.0, 340.0, 386.0, 371.0, 293.0, 898.6561131776997, 725.6585405407658, 518.7877526770363, 386.0981545137175, 371.6222378211371, 321.56687298788336, 315.4287449366343, 243.9853725669523, 189.52275222652503, 175.7348444486257, 127.89943732145672, 125.67102582284285, 105.32998767970102, 85.15109818755057, 66.29769605050174, 61.95641942816465, 55.61344627039557, 54.973213480682375, 46.3104275637422, 1040.4727274191762, 60.075337583011105, 73.09251318932772, 50.251719738682475, 201.53380931003477, 127.91924048744457, 391.4247011156993, 94.46427426077685, 148.02164797245425, 296.3783897044249, 93.03567464679921, 1577.0073597885425, 542.5720116005067, 5509.507892902359, 291.4155532989789, 1437.176648109369, 338.96982176247826, 263.5696287800797, 118.56452936568118, 76.84480658042763, 74.22110001037643, 66.15473039001773, 60.99561660426953, 977.8423704087345, 68.2005227946149, 416.71165127415225, 555.1629800979562, 391.4247011156993, 5509.507892902359, 1577.0073597885425, 982.3245032949893, 163.73090378647692, 305.3667784927565, 202.69030679739893, 253.8522691057081, 80.52970099663233, 45.38775828540752, 46.3104275637422, 46.951040197481504, 48.493214834629775, 49.55886376846555, 50.251719738682475, 51.74169446849781, 52.727820088867226, 53.813329080355395, 54.973213480682375, 79.85386200065727, 1040.4727274191762, 485.35914477928213, 62.96542555503815, 271.4593917045227, 60.9895463446002, 561.6954365183892, 96.42536687922511, 587.7833572342706, 469.1610257676046, 271.4593917045227, 267.66199975123124, 254.31633831487957, 236.6998650862559, 202.64968192288057, 195.12618004185245, 177.06502835030162, 153.50301574441278, 151.22867754254708, 101.72209946013406, 96.42536687922511, 93.30492067732547, 82.23130498074416, 79.85386200065727, 75.34519386379627, 63.18047069043439, 60.9895463446002, 60.40519782936775, 60.28963891513691, 59.959750417463304, 52.727820088867226, 185.71465808571847, 253.8522691057081, 102.48142737593473, 161.35807989993725, 88.05672137712223, 137.8207857198457, 73.45026557364616, 291.4155532989789, 400.1668645105373, 305.3667784927565, 982.3245032949893, 485.35914477928213, 183.33594094301853, 707.2374660754939, 416.71165127415225, 718.618339713656, 667.3388212399783, 474.96584972522163, 252.13465705467857, 236.74151310088223, 209.80300349446975, 187.64489745760622, 185.93880765475518, 161.56137275614245, 135.95341968697886, 120.18540510957921, 116.127017306584, 100.95299152309586, 92.1501682533338, 88.87308013264673, 74.40051307958898, 72.08299402764183, 60.577681624907406, 46.951040197481504, 80.52970099663233, 542.5720116005067, 127.59519766242681, 53.813329080355395, 108.00373256174534, 148.02164797245425, 100.97347036071157, 179.81010988221593, 62.96542555503815, 183.33594094301853, 561.6954365183892, 137.8207857198457, 1577.0073597885425, 1040.4727274191762, 5509.507892902359, 485.35914477928213, 756.5054866252655, 476.2928765201079, 340.754527093966, 293.91634289821747, 170.5078831706622, 166.5966949899987, 102.21923744377379, 100.00245844453357, 93.51343317992878, 88.31850544900425, 83.63956342411554, 74.22239183974624, 70.8117122304775, 70.53823819095268, 69.03017048993685, 66.226735154855, 59.775671475817, 57.33731910738841, 51.74169446849781, 707.2374660754939, 202.69030679739893, 179.81010988221593, 55.93091603893992, 163.73090378647692, 94.46427426077685, 127.91924048744457, 68.2005227946149, 161.35807989993725, 977.8423704087345, 5509.507892902359, 485.35914477928213, 569.0009404972321, 426.41962582438896, 361.6216982255312, 336.90204771291627, 230.7735010952189, 219.4039809098717, 167.49352107202975, 147.235935440762, 137.08932141054092, 105.38671740117658, 87.30862706553964, 85.77330009022637, 70.76365645646929, 70.69654646653447, 70.04612299160247, 68.84883294299166, 66.55034094354993, 49.55886376846555, 93.03567464679921, 296.3783897044249, 134.43156805579392, 55.93091603893992, 53.813329080355395, 555.1629800979562, 48.493214834629775, 185.71465808571847, 60.075337583011105, 100.97347036071157, 1577.0073597885425, 5509.507892902359, 2666.0920533207577, 312.617678666645, 229.58672267666805, 134.52435688572064, 111.44351179095212, 107.51176877907507, 80.08416255740951, 67.94345295339177, 66.24907078427731, 62.36353040084851, 561.6954365183892, 62.96542555503815, 175.23914551802054, 45.38775828540752, 400.1668645105373, 102.48142737593473, 134.43156805579392, 485.35914477928213, 46.3104275637422, 46.951040197481504, 48.493214834629775, 49.55886376846555, 50.251719738682475, 51.74169446849781, 52.727820088867226, 53.813329080355395, 54.973213480682375, 55.61344627039557, 55.93091603893992, 57.33731910738841, 60.28963891513691, 69.03017048993685, 179.81010988221593, 76.84480658042763, 5509.507892902359, 1577.0073597885425, 982.3245032949893, 201.53380931003477, 202.69030679739893, 125.67102582284285, 163.73090378647692, 72.08299402764183, 189.52275222652503], \"Category\": [\"Default\", \"Default\", \"Default\", \"Default\", \"Default\", \"Default\", \"Default\", \"Default\", \"Default\", \"Default\", \"Default\", \"Default\", \"Default\", \"Default\", \"Default\", \"Default\", \"Default\", \"Default\", \"Default\", \"Default\", \"Default\", \"Default\", \"Default\", \"Default\", \"Default\", \"Default\", \"Default\", \"Default\", \"Default\", \"Default\", \"Topic1\", \"Topic1\", \"Topic1\", \"Topic1\", \"Topic1\", \"Topic1\", \"Topic1\", \"Topic1\", \"Topic1\", \"Topic1\", \"Topic1\", \"Topic1\", \"Topic1\", \"Topic1\", \"Topic1\", \"Topic1\", \"Topic1\", \"Topic1\", \"Topic1\", \"Topic1\", \"Topic1\", \"Topic1\", \"Topic1\", \"Topic1\", \"Topic1\", \"Topic1\", \"Topic1\", \"Topic1\", \"Topic1\", \"Topic1\", \"Topic1\", \"Topic1\", \"Topic1\", \"Topic1\", \"Topic2\", \"Topic2\", \"Topic2\", \"Topic2\", \"Topic2\", \"Topic2\", \"Topic2\", \"Topic2\", \"Topic2\", \"Topic2\", \"Topic2\", \"Topic2\", \"Topic2\", \"Topic2\", \"Topic2\", \"Topic2\", \"Topic2\", \"Topic2\", \"Topic2\", \"Topic2\", \"Topic2\", \"Topic2\", \"Topic2\", \"Topic2\", \"Topic2\", \"Topic2\", \"Topic2\", \"Topic2\", \"Topic2\", \"Topic2\", \"Topic2\", \"Topic2\", \"Topic2\", \"Topic2\", \"Topic2\", \"Topic2\", \"Topic2\", \"Topic2\", \"Topic2\", \"Topic3\", \"Topic3\", \"Topic3\", \"Topic3\", \"Topic3\", \"Topic3\", \"Topic3\", \"Topic3\", \"Topic3\", \"Topic3\", \"Topic3\", \"Topic3\", \"Topic3\", \"Topic3\", \"Topic3\", \"Topic3\", \"Topic3\", \"Topic3\", \"Topic3\", \"Topic3\", \"Topic3\", \"Topic3\", \"Topic3\", \"Topic3\", \"Topic3\", \"Topic3\", \"Topic3\", \"Topic3\", \"Topic3\", \"Topic3\", \"Topic3\", \"Topic3\", \"Topic3\", \"Topic3\", \"Topic3\", \"Topic3\", \"Topic3\", \"Topic3\", \"Topic4\", \"Topic4\", \"Topic4\", \"Topic4\", \"Topic4\", \"Topic4\", \"Topic4\", \"Topic4\", \"Topic4\", \"Topic4\", \"Topic4\", \"Topic4\", \"Topic4\", \"Topic4\", \"Topic4\", \"Topic4\", \"Topic4\", \"Topic4\", \"Topic4\", \"Topic4\", \"Topic4\", \"Topic4\", \"Topic4\", \"Topic4\", \"Topic4\", \"Topic4\", \"Topic4\", \"Topic4\", \"Topic4\", \"Topic4\", \"Topic4\", \"Topic4\", \"Topic4\", \"Topic4\", \"Topic4\", \"Topic5\", \"Topic5\", \"Topic5\", \"Topic5\", \"Topic5\", \"Topic5\", \"Topic5\", \"Topic5\", \"Topic5\", \"Topic5\", \"Topic5\", \"Topic5\", \"Topic5\", \"Topic5\", \"Topic5\", \"Topic5\", \"Topic5\", \"Topic5\", \"Topic5\", \"Topic5\", \"Topic5\", \"Topic5\", \"Topic5\", \"Topic5\", \"Topic5\", \"Topic5\", \"Topic5\", \"Topic5\", \"Topic5\", \"Topic5\", \"Topic5\", \"Topic6\", \"Topic6\", \"Topic6\", \"Topic6\", \"Topic6\", \"Topic6\", \"Topic6\", \"Topic6\", \"Topic6\", \"Topic6\", \"Topic6\", \"Topic6\", \"Topic6\", \"Topic6\", \"Topic6\", \"Topic6\", \"Topic6\", \"Topic6\", \"Topic6\", \"Topic6\", \"Topic6\", \"Topic6\", \"Topic6\", \"Topic6\", \"Topic6\", \"Topic6\", \"Topic6\", \"Topic6\", \"Topic6\", \"Topic6\", \"Topic7\", \"Topic7\", \"Topic7\", \"Topic7\", \"Topic7\", \"Topic7\", \"Topic7\", \"Topic7\", \"Topic7\", \"Topic7\", \"Topic7\", \"Topic7\", \"Topic7\", \"Topic7\", \"Topic7\", \"Topic7\", \"Topic7\", \"Topic7\", \"Topic7\", \"Topic7\", \"Topic7\", \"Topic7\", \"Topic7\", \"Topic7\", \"Topic7\", \"Topic7\", \"Topic7\", \"Topic7\", \"Topic7\", \"Topic7\", \"Topic7\", \"Topic7\", \"Topic7\", \"Topic7\", \"Topic7\", \"Topic7\", \"Topic7\", \"Topic7\", \"Topic7\", \"Topic7\", \"Topic7\", \"Topic7\", \"Topic7\"], \"logprob\": [30.0, 29.0, 28.0, 27.0, 26.0, 25.0, 24.0, 23.0, 22.0, 21.0, 20.0, 19.0, 18.0, 17.0, 16.0, 15.0, 14.0, 13.0, 12.0, 11.0, 10.0, 9.0, 8.0, 7.0, 6.0, 5.0, 4.0, 3.0, 2.0, 1.0, -2.1846, -2.3987, -2.7347, -3.0307, -3.069, -3.214, -3.2334, -3.491, -3.7446, -3.8205, -4.1401, -4.1578, -4.3357, -4.5504, -4.8036, -4.8722, -4.9818, -4.9936, -5.1681, -2.229, -5.104, -4.976, -5.351, -4.0543, -4.9264, -3.9058, -5.3701, -4.9562, -4.2804, -5.5052, -2.8438, -3.996, -2.3856, -4.6181, -1.6757, -3.1222, -3.3746, -4.1775, -4.6152, -4.6504, -4.7669, -4.8492, -2.3116, -5.0258, -3.2267, -2.9455, -3.507, -1.2385, -2.5281, -3.0287, -4.9131, -4.4048, -5.0172, -4.9519, -6.349, -10.968, -10.9682, -10.9684, -10.9686, -10.9688, -10.9671, -10.9689, -10.9683, -10.9682, -10.9678, -10.9649, -10.9668, -10.9671, -10.9672, -10.9672, -10.9672, -10.9672, -10.9672, -2.4793, -2.705, -3.2535, -3.2677, -3.319, -3.391, -3.5469, -3.5849, -3.6825, -3.8261, -3.8411, -4.2404, -4.2944, -4.3276, -4.4552, -4.4848, -4.5436, -4.7219, -4.7577, -4.7675, -4.7694, -4.775, -4.9055, -3.845, -3.5615, -4.4885, -4.0484, -4.6628, -4.2279, -4.8612, -3.4979, -3.1917, -3.5029, -2.4401, -3.2515, -3.9768, -3.7029, -4.1407, -2.1657, -2.2398, -2.5804, -3.2153, -3.2785, -3.3998, -3.5119, -3.521, -3.6623, -3.8359, -3.96, -3.9946, -4.1357, -4.2278, -4.2644, -4.444, -4.476, -4.6522, -4.9112, -4.5464, -2.7626, -4.2128, -5.0943, -4.4935, -4.2295, -4.7579, -4.7201, -5.8628, -4.8033, -3.7821, -5.1872, -3.0998, -3.5439, -2.3681, -4.5522, -2.0399, -2.5032, -2.8388, -2.9871, -3.5337, -3.5571, -4.0488, -4.0709, -4.1386, -4.1963, -4.2513, -4.3721, -4.4197, -4.4236, -4.4455, -4.4875, -4.5914, -4.6337, -4.738, -2.3873, -3.6493, -3.8528, -5.0674, -3.9983, -4.6313, -5.0062, -5.8295, -5.0187, -3.2893, -1.5703, -4.187, -2.1357, -2.4246, -2.5898, -2.6608, -3.0403, -3.091, -3.3622, -3.4918, -3.5637, -3.8286, -4.0184, -4.0364, -4.2309, -4.2318, -4.2412, -4.2586, -4.293, -4.5923, -4.3857, -3.2563, -4.4826, -5.5539, -5.7886, -3.4607, -5.9143, -4.9163, -6.0883, -5.7332, -3.095, -1.8499, -0.5499, -2.6958, -3.0055, -3.5427, -3.7322, -3.7684, -4.0658, -4.2321, -4.2577, -4.319, -2.4015, -4.6436, -4.0649, -5.8331, -3.7231, -5.2997, -5.5086, -4.3517, -10.3788, -10.379, -10.3798, -10.3793, -10.3792, -10.3782, -10.3796, -10.3786, -10.3788, -10.3794, -10.3787, -10.3798, -10.3781, -10.3755, -10.3754, -10.377, -10.377, -10.3774, -10.3775, -10.3776, -10.3777, -10.3777, -10.3778, -10.3779, -10.3779], \"loglift\": [30.0, 29.0, 28.0, 27.0, 26.0, 25.0, 24.0, 23.0, 22.0, 21.0, 20.0, 19.0, 18.0, 17.0, 16.0, 15.0, 14.0, 13.0, 12.0, 11.0, 10.0, 9.0, 8.0, 7.0, 6.0, 5.0, 4.0, 3.0, 2.0, 1.0, 1.7099, 1.7097, 1.7092, 1.7086, 1.7085, 1.7082, 1.7081, 1.7073, 1.7063, 1.7059, 1.7041, 1.7039, 1.7026, 1.7006, 1.6977, 1.6968, 1.6952, 1.695, 1.692, 1.519, 1.4958, 1.4277, 1.4274, 1.3351, 0.9177, 0.8198, 0.7771, 0.7418, 0.7233, 0.6572, 0.4883, 0.4031, -0.3044, 0.4026, 1.7493, 1.7473, 1.7465, 1.7425, 1.7384, 1.738, 1.7365, 1.7354, 1.4985, 1.4472, 1.4363, 1.4306, 1.2187, 0.8427, 0.804, 0.7768, 0.6841, 0.5691, 0.3666, 0.2067, -0.0422, -4.0879, -4.1082, -4.1221, -4.1546, -4.1766, -4.1888, -4.2198, -4.238, -4.2584, -4.2793, -4.6497, -7.2188, -6.4566, -4.4143, -5.8756, -4.3825, -6.6028, -4.8406, 1.8398, 1.8394, 1.8381, 1.838, 1.8379, 1.8376, 1.837, 1.8368, 1.8364, 1.8356, 1.8355, 1.8327, 1.8323, 1.832, 1.8307, 1.8304, 1.8297, 1.8275, 1.827, 1.8269, 1.8268, 1.8268, 1.8248, 1.6262, 1.5972, 1.5772, 1.5634, 1.5546, 1.5416, 1.5376, 1.5228, 1.5119, 1.471, 1.3654, 1.2591, 1.5073, 0.4312, 0.5223, 1.9524, 1.9523, 1.9518, 1.9502, 1.9499, 1.9495, 1.949, 1.9489, 1.9482, 1.9472, 1.9464, 1.9462, 1.945, 1.9442, 1.9439, 1.9419, 1.9416, 1.9393, 1.9351, 1.7604, 1.6365, 1.6337, 1.6156, 1.5198, 1.4686, 1.3227, 0.7834, 0.6901, 0.6808, 0.5824, 0.5822, 0.2323, 0.2041, -0.2869, -0.0417, 2.0268, 2.0262, 2.0254, 2.025, 2.0229, 2.0228, 2.0195, 2.0193, 2.0187, 2.0182, 2.0176, 2.0163, 2.0157, 2.0157, 2.0154, 2.0149, 2.0134, 2.0128, 2.0111, 1.7468, 1.7345, 1.6507, 1.6039, 1.5989, 1.5159, 0.8378, 0.6435, 0.5931, 0.5207, 0.5109, 0.3235, 2.2159, 2.2154, 2.215, 2.2148, 2.2136, 2.2135, 2.2122, 2.2115, 2.2111, 2.2092, 2.2075, 2.2073, 2.2052, 2.2052, 2.2051, 2.2049, 2.2044, 2.1999, 1.7768, 1.7475, 1.3118, 1.1174, 0.9213, 0.9155, 0.8997, 0.5549, 0.5115, 0.3473, 0.2372, 0.2312, 2.2571, 2.2547, 2.2537, 2.251, 2.2497, 2.2494, 2.2466, 2.2446, 2.2443, 2.2435, 1.963, 1.9092, 1.4644, 1.0471, 0.9804, 0.766, 0.2858, 0.1588, -3.5187, -3.5327, -3.5658, -3.5871, -3.6008, -3.629, -3.6493, -3.6687, -3.6903, -3.7024, -3.7074, -3.7334, -3.7819, -3.9146, -4.8719, -4.0233, -8.2958, -7.0452, -6.572, -4.9882, -4.9939, -4.516, -4.7807, -3.9603, -4.927]}, \"token.table\": {\"Topic\": [1, 3, 3, 1, 4, 3, 6, 3, 6, 4, 1, 6, 6, 2, 5, 4, 7, 6, 4, 1, 3, 2, 3, 1, 4, 6, 1, 1, 3, 2, 5, 5, 1, 1, 2, 4, 5, 6, 5, 2, 5, 5, 7, 4, 6, 3, 6, 1, 3, 5, 4, 5, 3, 3, 1, 4, 5, 3, 7, 5, 7, 4, 7, 3, 7, 5, 6, 3, 3, 4, 3, 4, 6, 4, 4, 5, 5, 4, 1, 6, 1, 1, 6, 1, 3, 3, 5, 7, 2, 6, 1, 5, 1, 2, 3, 4, 3, 6, 3, 4, 5, 2, 5, 2, 3, 7, 3, 1, 1, 1, 1, 2, 4, 6, 1, 7, 3, 6, 5, 3, 4, 5, 1, 2, 2, 3, 4, 6, 3, 6, 7, 1, 2, 1, 6, 3, 1, 5, 4, 4, 5, 6, 2, 4, 7, 3, 2, 4, 4, 7, 1, 6, 3, 1, 1, 3, 3, 6, 1, 1, 4, 6, 1, 7, 2, 2, 3, 2, 3, 3, 5, 3, 3, 4, 1, 5, 2, 6, 4, 6, 4, 5, 5, 5, 5, 3, 7, 7, 1, 6, 3, 6, 4, 4, 3, 4, 1, 4, 5, 1, 3, 4, 6, 3, 2, 3, 4, 5, 7, 7, 3, 5, 4, 1, 3, 7, 2, 4, 3, 3, 6], \"Freq\": [0.2384826469982103, 0.7495168905658038, 0.9837751483014956, 0.7524710479927865, 0.23258196028867947, 0.9970432383389789, 0.9982408807683912, 0.9975267324018856, 0.9990159321968878, 0.9875185441857054, 0.9990924925375025, 0.9970534915686827, 0.9850114804284198, 0.7772213835265932, 0.22191715819114569, 0.9901761013420078, 0.9811458369228365, 0.9887232328191278, 0.9968678366072357, 0.9972417442212943, 0.9839934220742891, 0.2127221481621405, 0.7839205089678881, 0.7561930257831272, 0.2387977976157244, 0.9981587348224203, 0.987373133625104, 0.2710905410012541, 0.7274834771172896, 0.251615387069188, 0.7449788911264194, 0.9850710171973465, 0.9929676209661805, 0.13322423967221786, 0.4036658161185457, 0.10636158644130746, 0.21943883619034252, 0.13721733677410997, 0.9885370342714558, 0.7331322100062845, 0.24926495140213673, 0.9870236258888232, 0.978135772749165, 0.7061447535285813, 0.27874135007707157, 0.9932920039346225, 0.9876710627223774, 0.4534110723217808, 0.24234040072371044, 0.30487985897499054, 0.999139543649968, 0.9856654391373019, 0.9983076964048355, 0.9893071921724932, 0.37832304103533015, 0.6147749416824114, 0.9970213507949433, 0.7708713863849952, 0.22443090996018847, 0.9993318136692961, 0.9960202995775648, 0.2545863660320451, 0.7441755314782857, 0.997525314968981, 0.9961021416651998, 0.661530377479247, 0.33970478843528906, 0.9813158927508099, 0.7400915577954971, 0.2539529855180627, 0.3070113356434859, 0.5347939395080078, 0.15845746355792822, 0.9961725834182783, 0.9902949603569978, 0.9899756619974539, 0.9945095248621566, 0.9954997973387193, 0.7989967585895692, 0.18310342384344294, 0.9889694613167297, 0.37114716801620345, 0.6242020552999785, 0.6847486308746544, 0.30764068923354043, 0.7560823732883762, 0.2355010670898221, 0.9995903917423266, 0.9991812780211, 0.9909843728827861, 0.39168246715004956, 0.6034027196635898, 0.9986407550246557, 0.9971389141445228, 0.9918753667458251, 0.9904637878272666, 0.9861966588483924, 0.9920539295159341, 0.9986672687740656, 0.9797440015496713, 0.9968823002859192, 0.3420246190849233, 0.6535113257515499, 0.9825450064838905, 0.6830035492183961, 0.30845321577604984, 0.9850263232350199, 0.9959613457291097, 0.9982371536513815, 0.9983256173667503, 0.29422817662830486, 0.38807681917354003, 0.1788197107956508, 0.13823651401933287, 0.9717034017459996, 0.9974444398620806, 0.9939851005010736, 0.9850652263548135, 0.9814767381785228, 0.9929012528844132, 0.9946167968067569, 0.996418326365751, 0.4113179355852936, 0.5875970508361337, 0.7319209795728563, 0.26637124174618704, 0.9979664859572949, 0.9963304920134816, 0.4537624672702085, 0.4016913644687092, 0.1413358504612125, 0.997155763370326, 0.9836772433873578, 0.34395408128639743, 0.6449139024119952, 0.9860144495289991, 0.9958184476679551, 0.9923533385645203, 0.9979937908640012, 0.3114396628570142, 0.6840549737752275, 0.9892083522148257, 0.9890063282345121, 0.2858711720175095, 0.6987961982650233, 0.9821462551914324, 0.9952386319188259, 0.9929871592110443, 0.9849757346756915, 0.9952398813182332, 0.9822965873911598, 0.9917304564372293, 0.9786092778403899, 0.9864816988617667, 0.25867843841829713, 0.7351913512941077, 0.9967230888463435, 0.9982808049722076, 0.9804262270364081, 0.8255862718580743, 0.1739593890643905, 0.9916057487116705, 0.9984815511295874, 0.986114144742703, 0.9835478050014657, 0.37767560389215876, 0.6209760603078621, 0.307826543751647, 0.6909723482084842, 0.9955886413192714, 0.9835306865024572, 0.9967940639397213, 0.7145352914773829, 0.27817786156753077, 0.9946604571861394, 0.9766762881800645, 0.7259129560996527, 0.2719921994318798, 0.9905600467235501, 0.990147376338048, 0.9965253281365108, 0.9923695543756618, 0.985076518243758, 0.9977857165966341, 0.9972855430264801, 0.7196997691257275, 0.27988324354889405, 0.9980241723075947, 0.99926989516003, 0.9966482239444825, 0.8076906882103296, 0.18846116058241025, 0.9965632028030396, 0.9901368630533931, 0.342580752742478, 0.6481257484317151, 0.27093177837605714, 0.7280139623030107, 0.9880723289053644, 0.9845630293520501, 0.2664677089960106, 0.7288675569596761, 0.9973225223205383, 0.9942284523706102, 0.9978387920386874, 0.5583494262238279, 0.13598177908034184, 0.18130903877378915, 0.12361979916394714, 0.9864622102200006, 0.2446137376742611, 0.7550504966361585, 0.9949509859367371, 0.25108545165483764, 0.2910308644181072, 0.4508125154711857, 0.1614311221712303, 0.8195733894847077, 0.9948240120017388, 0.7217504576538395, 0.26807874141428323], \"Term\": [\"able\", \"able\", \"absolutely\", \"already\", \"already\", \"also\", \"amazing\", \"assignment\", \"awesome\", \"background\", \"basic\", \"be\", \"begin\", \"beginner\", \"beginner\", \"bit\", \"build\", \"challenge\", \"class\", \"clear\", \"clearly\", \"code\", \"code\", \"coding\", \"coding\", \"complete\", \"computer\", \"concept\", \"concept\", \"content\", \"content\", \"continue\", \"could\", \"course\", \"course\", \"course\", \"course\", \"course\", \"cover\", \"definitely\", \"definitely\", \"design\", \"detail\", \"different\", \"different\", \"difficult\", \"do\", \"easily\", \"easily\", \"easily\", \"easy\", \"engage\", \"enjoy\", \"especially\", \"even\", \"even\", \"ever\", \"example\", \"example\", \"excellent\", \"exercise\", \"experience\", \"experience\", \"explain\", \"explanation\", \"extremely\", \"extremely\", \"fantastic\", \"feel\", \"feel\", \"find\", \"find\", \"find\", \"first\", \"follow\", \"forward\", \"friendly\", \"fun\", \"fundamental\", \"fundamental\", \"gain\", \"get\", \"get\", \"give\", \"give\", \"go\", \"go\", \"good\", \"great\", \"happy\", \"have\", \"have\", \"help\", \"helpful\", \"highly\", \"idea\", \"information\", \"informative\", \"instructor\", \"interactive\", \"interesting\", \"introduction\", \"introduction\", \"introductory\", \"job\", \"job\", \"keep\", \"know\", \"knowledge\", \"language\", \"learn\", \"learn\", \"learn\", \"learn\", \"learner\", \"learning\", \"lecture\", \"lesson\", \"level\", \"like\", \"little\", \"look\", \"lot\", \"lot\", \"love\", \"love\", \"make\", \"many\", \"material\", \"material\", \"material\", \"much\", \"must\", \"need\", \"need\", \"never\", \"new\", \"next\", \"nice\", \"online\", \"online\", \"opportunity\", \"overall\", \"pace\", \"pace\", \"part\", \"people\", \"perfect\", \"person\", \"platform\", \"point\", \"practice\", \"pretty\", \"prior\", \"problem\", \"problem\", \"professor\", \"program\", \"programmer\", \"programming\", \"programming\", \"provide\", \"python\", \"quite\", \"quiz\", \"really\", \"really\", \"recommend\", \"recommend\", \"say\", \"see\", \"severance\", \"simple\", \"simple\", \"skill\", \"specialization\", \"start\", \"start\", \"step\", \"structure\", \"student\", \"study\", \"style\", \"take\", \"teach\", \"teacher\", \"teacher\", \"teaching\", \"thank\", \"thing\", \"think\", \"think\", \"time\", \"topic\", \"try\", \"try\", \"understand\", \"understand\", \"understandable\", \"understanding\", \"use\", \"use\", \"useful\", \"video\", \"want\", \"way\", \"way\", \"way\", \"way\", \"week\", \"well\", \"well\", \"wonderful\", \"work\", \"work\", \"work\", \"world\", \"world\", \"would\", \"write\", \"write\"]}, \"R\": 30, \"lambda.step\": 0.01, \"plot.opts\": {\"xlab\": \"PC1\", \"ylab\": \"PC2\"}, \"topic.order\": [5, 3, 6, 2, 7, 1, 4]};\n",
       "\n",
       "function LDAvis_load_lib(url, callback){\n",
       "  var s = document.createElement('script');\n",
       "  s.src = url;\n",
       "  s.async = true;\n",
       "  s.onreadystatechange = s.onload = callback;\n",
       "  s.onerror = function(){console.warn(\"failed to load library \" + url);};\n",
       "  document.getElementsByTagName(\"head\")[0].appendChild(s);\n",
       "}\n",
       "\n",
       "if(typeof(LDAvis) !== \"undefined\"){\n",
       "   // already loaded: just create the visualization\n",
       "   !function(LDAvis){\n",
       "       new LDAvis(\"#\" + \"ldavis_el211141402316630256167636311578\", ldavis_el211141402316630256167636311578_data);\n",
       "   }(LDAvis);\n",
       "}else if(typeof define === \"function\" && define.amd){\n",
       "   // require.js is available: use it to load d3/LDAvis\n",
       "   require.config({paths: {d3: \"https://d3js.org/d3.v5\"}});\n",
       "   require([\"d3\"], function(d3){\n",
       "      window.d3 = d3;\n",
       "      LDAvis_load_lib(\"https://cdn.jsdelivr.net/gh/bmabey/pyLDAvis@3.2.2/pyLDAvis/js/ldavis.v3.0.0.js\", function(){\n",
       "        new LDAvis(\"#\" + \"ldavis_el211141402316630256167636311578\", ldavis_el211141402316630256167636311578_data);\n",
       "      });\n",
       "    });\n",
       "}else{\n",
       "    // require.js not available: dynamically load d3 & LDAvis\n",
       "    LDAvis_load_lib(\"https://d3js.org/d3.v5.js\", function(){\n",
       "         LDAvis_load_lib(\"https://cdn.jsdelivr.net/gh/bmabey/pyLDAvis@3.2.2/pyLDAvis/js/ldavis.v3.0.0.js\", function(){\n",
       "                 new LDAvis(\"#\" + \"ldavis_el211141402316630256167636311578\", ldavis_el211141402316630256167636311578_data);\n",
       "            })\n",
       "         });\n",
       "}\n",
       "</script>"
      ],
      "text/plain": [
       "PreparedData(topic_coordinates=              x         y  topics  cluster       Freq\n",
       "topic                                                \n",
       "4     -0.133245 -0.148758       1        1  18.071022\n",
       "2     -0.174441  0.107494       2        1  17.379595\n",
       "5      0.255421  0.294783       3        1  15.861556\n",
       "1     -0.061344 -0.178193       4        1  14.176474\n",
       "6     -0.114313  0.152867       5        1  13.160065\n",
       "0     -0.171020 -0.037222       6        1  10.889593\n",
       "3      0.398941 -0.190970       7        1  10.461696, topic_info=             Term         Freq        Total Category  logprob  loglift\n",
       "26           good  2666.000000  2666.000000  Default  30.0000  30.0000\n",
       "32          great  1437.000000  1437.000000  Default  29.0000  29.0000\n",
       "2          course  5509.000000  5509.000000  Default  28.0000  28.0000\n",
       "22          thank   898.000000   898.000000  Default  27.0000  27.0000\n",
       "49      excellent   756.000000   756.000000  Default  26.0000  26.0000\n",
       "..            ...          ...          ...      ...      ...      ...\n",
       "122       content     0.143746   202.690307   Topic7 -10.3777  -4.9939\n",
       "91          skill     0.143737   125.671026   Topic7 -10.3777  -4.5160\n",
       "18   introduction     0.143721   163.730904   Topic7 -10.3778  -4.7807\n",
       "117        person     0.143721    72.082994   Topic7 -10.3779  -3.9603\n",
       "9           clear     0.143710   189.522752   Topic7 -10.3779  -4.9270\n",
       "\n",
       "[280 rows x 6 columns], token_table=      Topic      Freq        Term\n",
       "term                             \n",
       "157       1  0.238483        able\n",
       "157       3  0.749517        able\n",
       "151       3  0.983775  absolutely\n",
       "128       1  0.752471     already\n",
       "128       4  0.232582     already\n",
       "...     ...       ...         ...\n",
       "19        2  0.161431       world\n",
       "19        4  0.819573       world\n",
       "101       3  0.994824       would\n",
       "136       3  0.721750       write\n",
       "136       6  0.268079       write\n",
       "\n",
       "[221 rows x 3 columns], R=30, lambda_step=0.01, plot_opts={'xlab': 'PC1', 'ylab': 'PC2'}, topic_order=[5, 3, 6, 2, 7, 1, 4])"
      ]
     },
     "execution_count": 115,
     "metadata": {},
     "output_type": "execute_result"
    }
   ],
   "source": [
    "# Visualize the topics\n",
    "pyLDAvis.enable_notebook()\n",
    "vis = pyLDAvis.gensim.prepare(lda_model, corpus, dictionary)\n",
    "vis"
   ]
  },
  {
   "cell_type": "code",
   "execution_count": 134,
   "metadata": {},
   "outputs": [
    {
     "name": "stdout",
     "output_type": "stream",
     "text": [
      "\n",
      "Perplexity:  -4.635312233476272\n",
      "\n",
      "Coherence Score:  0.3448362815928226\n"
     ]
    }
   ],
   "source": [
    "# Calculate Perplexity and Coherence\n",
    "\n",
    "# Compute Perplexity\n",
    "\n",
    "print('\\nPerplexity: ', lda_model.log_perplexity(corpus))  # a measure of how good the model is. lower the better.\n",
    "\n",
    "# Compute Coherence Score\n",
    "\n",
    "coherence_model_lda = CoherenceModel(model = lda_model, texts = lemmatized_reviews, dictionary = dictionary, coherence = 'c_v')\n",
    "coherence_lda = coherence_model_lda.get_coherence()\n",
    "print('\\nCoherence Score: ', coherence_lda)"
   ]
  },
  {
   "cell_type": "markdown",
   "metadata": {},
   "source": [
    "## Calculate the coherence score\n",
    "\n",
    "Code reference: \n",
    "\n",
    "https://www.machinelearningplus.com/nlp/topic-modeling-gensim-python/#17howtofindtheoptimalnumberoftopicsforlda"
   ]
  },
  {
   "cell_type": "code",
   "execution_count": 130,
   "metadata": {},
   "outputs": [],
   "source": [
    "# Determine the optiomal number of topics by calculating the coherence score\n",
    "\n",
    "# Define function for calculating coherence score\n",
    "\n",
    "def compute_coherence_values(dictionary, corpus, texts, limit, start=2, step=3):\n",
    "    \"\"\"\n",
    "    Compute c_v coherence for various number of topics\n",
    "\n",
    "    Parameters:\n",
    "    ----------\n",
    "    dictionary : Gensim dictionary\n",
    "    corpus : Gensim corpus\n",
    "    texts : List of input texts\n",
    "    limit : Max num of topics\n",
    "\n",
    "    Returns:\n",
    "    -------\n",
    "    model_list : List of LDA topic models\n",
    "    coherence_values : Coherence values corresponding to the LDA model with respective number of topics\n",
    "    \"\"\"\n",
    "    coherence_values = []\n",
    "    model_list = []\n",
    "    for num_topics in range(start, limit, step):\n",
    "        model = LDA(corpus = corpus, num_topics = num_topics, id2word = dictionary)\n",
    "        model_list.append(model)\n",
    "        coherencemodel = CoherenceModel(model = model, texts = texts, dictionary = dictionary, coherence = 'c_v')\n",
    "        coherence_values.append(coherencemodel.get_coherence())\n",
    "\n",
    "    return model_list, coherence_values"
   ]
  },
  {
   "cell_type": "code",
   "execution_count": 131,
   "metadata": {},
   "outputs": [],
   "source": [
    "# Can take a long time to run.\n",
    "\n",
    "model_list, coherence_values = compute_coherence_values(dictionary = dictionary, corpus = corpus, texts = lemmatized_reviews, start = 2, limit = 10, step = 1)"
   ]
  },
  {
   "cell_type": "code",
   "execution_count": 132,
   "metadata": {},
   "outputs": [
    {
     "data": {
      "image/png": "[encoded data removed]",
      "text/plain": [
       "<Figure size 432x288 with 1 Axes>"
      ]
     },
     "metadata": {
      "needs_background": "light"
     },
     "output_type": "display_data"
    }
   ],
   "source": [
    "# Show graph\n",
    "\n",
    "limit = 10; start = 2; step = 1;\n",
    "x = range(start, limit, step)\n",
    "plt.plot(x, coherence_values)\n",
    "plt.xlabel(\"Num Topics\")\n",
    "plt.ylabel(\"Coherence score\")\n",
    "plt.legend((\"coherence_values\"), loc = 'best')\n",
    "plt.show()\n"
   ]
  },
  {
   "cell_type": "code",
   "execution_count": 133,
   "metadata": {},
   "outputs": [
    {
     "name": "stdout",
     "output_type": "stream",
     "text": [
      "Num Topics = 2  has Coherence Value of 0.2903\n",
      "Num Topics = 3  has Coherence Value of 0.2853\n",
      "Num Topics = 4  has Coherence Value of 0.3421\n",
      "Num Topics = 5  has Coherence Value of 0.3331\n",
      "Num Topics = 6  has Coherence Value of 0.3394\n",
      "Num Topics = 7  has Coherence Value of 0.3375\n",
      "Num Topics = 8  has Coherence Value of 0.3238\n",
      "Num Topics = 9  has Coherence Value of 0.3535\n"
     ]
    }
   ],
   "source": [
    "# Print the coherence scores\n",
    "\n",
    "for m, cv in zip(x, coherence_values):\n",
    "    print(\"Num Topics =\", m, \" has Coherence Value of\", round(cv, 4))"
   ]
  },
  {
   "cell_type": "markdown",
   "metadata": {},
   "source": [
    "## LDA Mallet Model\n",
    "\n",
    "Code reference:\n",
    "\n",
    "https://www.machinelearningplus.com/nlp/topic-modeling-gensim-python/#17howtofindtheoptimalnumberoftopicsforlda"
   ]
  },
  {
   "cell_type": "code",
   "execution_count": 128,
   "metadata": {},
   "outputs": [],
   "source": [
    "mallet_path = '/Users/siriamanda/Desktop/LNU-VT-2021/Thesis/11-data-analysis/mallet-2.0.8/bin/mallet' # update this path\n",
    "ldamallet = gensim.models.wrappers.LdaMallet(mallet_path, corpus = corpus, num_topics = 4, id2word = dictionary)"
   ]
  },
  {
   "cell_type": "code",
   "execution_count": 129,
   "metadata": {},
   "outputs": [
    {
     "name": "stdout",
     "output_type": "stream",
     "text": [
      "[(0,\n",
      "  [('programming', 0.14439365420812048),\n",
      "   ('beginner', 0.09115353589674643),\n",
      "   ('nice', 0.0860446356547459),\n",
      "   ('great', 0.07555794568432374),\n",
      "   ('experience', 0.0740790535090078),\n",
      "   ('good', 0.07085237967195483),\n",
      "   ('basic', 0.056601236891637534),\n",
      "   ('language', 0.05108900242000538),\n",
      "   ('awesome', 0.0501478892175316),\n",
      "   ('helpful', 0.04732454961011025)]),\n",
      " (1,\n",
      "  [('learn', 0.2228000547420282),\n",
      "   ('good', 0.16326809908307102),\n",
      "   ('great', 0.09908307102778158),\n",
      "   ('start', 0.07923908580812919),\n",
      "   ('lot', 0.056794854249349935),\n",
      "   ('beginner', 0.045846448610921034),\n",
      "   ('program', 0.04543588339947995),\n",
      "   ('basic', 0.03941426029834405),\n",
      "   ('enjoy', 0.03517175311345285),\n",
      "   ('assignment', 0.030792390858081293)]),\n",
      " (2,\n",
      "  [('good', 0.11121843521457155),\n",
      "   ('amazing', 0.0714778529046502),\n",
      "   ('python', 0.06361252932247827),\n",
      "   ('love', 0.05988684973092314),\n",
      "   ('great', 0.04332827376845591),\n",
      "   ('knowledge', 0.043052297502414794),\n",
      "   ('teaching', 0.04056851110804471),\n",
      "   ('code', 0.03670484338346902),\n",
      "   ('give', 0.02939147233337933),\n",
      "   ('video', 0.028287567269214848)]),\n",
      " (3,\n",
      "  [('excellent', 0.09880402283229138),\n",
      "   ('easy', 0.09567817341668931),\n",
      "   ('instructor', 0.07393313400380538),\n",
      "   ('understand', 0.07026365860288122),\n",
      "   ('make', 0.06292470780103289),\n",
      "   ('explain', 0.060750203859744493),\n",
      "   ('teach', 0.06047839086708345),\n",
      "   ('teacher', 0.05640119597716771),\n",
      "   ('interesting', 0.03914107094319109),\n",
      "   ('concept', 0.037646099483555316)])]\n",
      "\n",
      "Coherence Score:  0.2831572367558556\n"
     ]
    }
   ],
   "source": [
    "# Show Topics\n",
    "pprint(ldamallet.show_topics(formatted = False))\n",
    "\n",
    "# Compute Coherence Score\n",
    "coherence_model_ldamallet = CoherenceModel(model = ldamallet, texts = lemmatized_reviews, dictionary = dictionary, coherence = 'c_v')\n",
    "coherence_ldamallet = coherence_model_ldamallet.get_coherence()\n",
    "print('\\nCoherence Score: ', coherence_ldamallet)\n",
    "\n",
    "# The coherence score using the Mallet Model is lower than the original LDA Model"
   ]
  },
  {
   "cell_type": "code",
   "execution_count": null,
   "metadata": {},
   "outputs": [],
   "source": []
  }
 ],
 "metadata": {
  "kernelspec": {
   "display_name": "Python 3",
   "language": "python",
   "name": "python3"
  },
  "language_info": {
   "codemirror_mode": {
    "name": "ipython",
    "version": 3
   },
   "file_extension": ".py",
   "mimetype": "text/x-python",
   "name": "python",
   "nbconvert_exporter": "python",
   "pygments_lexer": "ipython3",
   "version": "3.7.6"
  }
 },
 "nbformat": 4,
 "nbformat_minor": 4
}
