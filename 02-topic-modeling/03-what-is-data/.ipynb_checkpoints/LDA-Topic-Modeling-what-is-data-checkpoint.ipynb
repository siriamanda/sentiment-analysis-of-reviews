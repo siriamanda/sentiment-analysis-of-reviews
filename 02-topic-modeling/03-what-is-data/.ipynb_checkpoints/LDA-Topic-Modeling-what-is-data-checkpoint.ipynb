{
 "cells": [
  {
   "cell_type": "code",
   "execution_count": 1,
   "metadata": {},
   "outputs": [
    {
     "name": "stderr",
     "output_type": "stream",
     "text": [
      "/Users/siriamanda/opt/anaconda3/lib/python3.7/site-packages/scipy/sparse/sparsetools.py:21: DeprecationWarning: `scipy.sparse.sparsetools` is deprecated!\n",
      "scipy.sparse.sparsetools is a private module for scipy.sparse, and should not be used.\n",
      "  _deprecated()\n",
      "/Users/siriamanda/opt/anaconda3/lib/python3.7/site-packages/nltk/decorators.py:70: DeprecationWarning: `formatargspec` is deprecated since Python 3.5. Use `signature` and the `Signature` object directly\n",
      "  formatvalue=lambda value: \"\")[1:-1]\n"
     ]
    }
   ],
   "source": [
    "# Import the libraries\n",
    "\n",
    "import pandas as pd \n",
    "import numpy as np\n",
    "\n",
    "from pprint import pprint\n",
    "\n",
    "# libraries for visualization\n",
    "import pyLDAvis\n",
    "import pyLDAvis.gensim\n",
    "import matplotlib.pyplot as plt\n",
    "import seaborn as sns\n",
    "%matplotlib inline\n",
    "\n",
    "import re\n",
    "\n",
    "import spacy\n",
    "\n",
    "import gensim\n",
    "from gensim import corpora, models\n",
    "from gensim.utils import simple_preprocess\n",
    "from gensim.models import CoherenceModel\n",
    "\n",
    "import nltk\n",
    "from nltk import FreqDist\n",
    "from nltk.corpus import stopwords\n",
    "from nltk.tokenize import RegexpTokenizer\n",
    "from nltk.stem import WordNetLemmatizer, SnowballStemmer\n",
    "from nltk.tag import pos_tag, pos_tag_sents\n",
    "from nltk.corpus import wordnet\n",
    "\n",
    "import warnings\n",
    "warnings.filterwarnings(\"ignore\")\n"
   ]
  },
  {
   "cell_type": "markdown",
   "metadata": {},
   "source": [
    "Code references:\n",
    "\n",
    "https://www.analyticsvidhya.com/blog/2018/10/mining-online-reviews-topic-modeling-lda/\n"
   ]
  },
  {
   "cell_type": "code",
   "execution_count": 2,
   "metadata": {},
   "outputs": [],
   "source": [
    "df = pd.read_csv('/Users/siriamanda/Desktop/LNU-VT-2021/Thesis/11-data-analysis/sentiment-analysis-of-reviews/01-sentiment-analysis/03-what-is-data/VADER-what-is-data.csv')"
   ]
  },
  {
   "cell_type": "code",
   "execution_count": 3,
   "metadata": {},
   "outputs": [
    {
     "data": {
      "text/html": [
       "<div>\n",
       "<style scoped>\n",
       "    .dataframe tbody tr th:only-of-type {\n",
       "        vertical-align: middle;\n",
       "    }\n",
       "\n",
       "    .dataframe tbody tr th {\n",
       "        vertical-align: top;\n",
       "    }\n",
       "\n",
       "    .dataframe thead th {\n",
       "        text-align: right;\n",
       "    }\n",
       "</style>\n",
       "<table border=\"1\" class=\"dataframe\">\n",
       "  <thead>\n",
       "    <tr style=\"text-align: right;\">\n",
       "      <th></th>\n",
       "      <th>Unnamed: 0</th>\n",
       "      <th>date</th>\n",
       "      <th>review</th>\n",
       "      <th>rating</th>\n",
       "      <th>status</th>\n",
       "      <th>length</th>\n",
       "      <th>label</th>\n",
       "      <th>language_scores</th>\n",
       "      <th>language</th>\n",
       "      <th>scores</th>\n",
       "      <th>compound</th>\n",
       "      <th>sentiment</th>\n",
       "    </tr>\n",
       "  </thead>\n",
       "  <tbody>\n",
       "    <tr>\n",
       "      <th>0</th>\n",
       "      <td>0</td>\n",
       "      <td>2021-03-11</td>\n",
       "      <td>This course has a good overview of data scienc...</td>\n",
       "      <td>5</td>\n",
       "      <td>completer</td>\n",
       "      <td>371</td>\n",
       "      <td>pos</td>\n",
       "      <td>{'language': 'en', 'score': 0.9999957253533018}</td>\n",
       "      <td>en</td>\n",
       "      <td>{'neg': 0.0, 'neu': 0.803, 'pos': 0.197, 'comp...</td>\n",
       "      <td>0.8999</td>\n",
       "      <td>pos</td>\n",
       "    </tr>\n",
       "    <tr>\n",
       "      <th>1</th>\n",
       "      <td>1</td>\n",
       "      <td>2021-03-11</td>\n",
       "      <td>Greate Course</td>\n",
       "      <td>5</td>\n",
       "      <td>completer</td>\n",
       "      <td>13</td>\n",
       "      <td>pos</td>\n",
       "      <td>{'language': 'en', 'score': 0.999994475073214}</td>\n",
       "      <td>en</td>\n",
       "      <td>{'neg': 0.0, 'neu': 1.0, 'pos': 0.0, 'compound...</td>\n",
       "      <td>0.0000</td>\n",
       "      <td>neu</td>\n",
       "    </tr>\n",
       "    <tr>\n",
       "      <th>2</th>\n",
       "      <td>2</td>\n",
       "      <td>2021-03-10</td>\n",
       "      <td>have an overall understanding of data science ...</td>\n",
       "      <td>5</td>\n",
       "      <td>completer</td>\n",
       "      <td>70</td>\n",
       "      <td>pos</td>\n",
       "      <td>{'language': 'en', 'score': 0.9999964991174284}</td>\n",
       "      <td>en</td>\n",
       "      <td>{'neg': 0.0, 'neu': 1.0, 'pos': 0.0, 'compound...</td>\n",
       "      <td>0.0000</td>\n",
       "      <td>neu</td>\n",
       "    </tr>\n",
       "    <tr>\n",
       "      <th>3</th>\n",
       "      <td>3</td>\n",
       "      <td>2021-03-10</td>\n",
       "      <td>Course creates interest to keep on learning</td>\n",
       "      <td>4</td>\n",
       "      <td>completer</td>\n",
       "      <td>43</td>\n",
       "      <td>pos</td>\n",
       "      <td>{'language': 'en', 'score': 0.9999949953681738}</td>\n",
       "      <td>en</td>\n",
       "      <td>{'neg': 0.0, 'neu': 0.495, 'pos': 0.505, 'comp...</td>\n",
       "      <td>0.6249</td>\n",
       "      <td>pos</td>\n",
       "    </tr>\n",
       "    <tr>\n",
       "      <th>4</th>\n",
       "      <td>4</td>\n",
       "      <td>2021-03-10</td>\n",
       "      <td>Even though I have been self-teaching for abou...</td>\n",
       "      <td>5</td>\n",
       "      <td>completer</td>\n",
       "      <td>148</td>\n",
       "      <td>pos</td>\n",
       "      <td>{'language': 'en', 'score': 0.9999963070938086}</td>\n",
       "      <td>en</td>\n",
       "      <td>{'neg': 0.0, 'neu': 0.921, 'pos': 0.079, 'comp...</td>\n",
       "      <td>0.2263</td>\n",
       "      <td>pos</td>\n",
       "    </tr>\n",
       "  </tbody>\n",
       "</table>\n",
       "</div>"
      ],
      "text/plain": [
       "   Unnamed: 0        date                                             review  \\\n",
       "0           0  2021-03-11  This course has a good overview of data scienc...   \n",
       "1           1  2021-03-11                                      Greate Course   \n",
       "2           2  2021-03-10  have an overall understanding of data science ...   \n",
       "3           3  2021-03-10        Course creates interest to keep on learning   \n",
       "4           4  2021-03-10  Even though I have been self-teaching for abou...   \n",
       "\n",
       "   rating     status  length label  \\\n",
       "0       5  completer     371   pos   \n",
       "1       5  completer      13   pos   \n",
       "2       5  completer      70   pos   \n",
       "3       4  completer      43   pos   \n",
       "4       5  completer     148   pos   \n",
       "\n",
       "                                   language_scores language  \\\n",
       "0  {'language': 'en', 'score': 0.9999957253533018}       en   \n",
       "1   {'language': 'en', 'score': 0.999994475073214}       en   \n",
       "2  {'language': 'en', 'score': 0.9999964991174284}       en   \n",
       "3  {'language': 'en', 'score': 0.9999949953681738}       en   \n",
       "4  {'language': 'en', 'score': 0.9999963070938086}       en   \n",
       "\n",
       "                                              scores  compound sentiment  \n",
       "0  {'neg': 0.0, 'neu': 0.803, 'pos': 0.197, 'comp...    0.8999       pos  \n",
       "1  {'neg': 0.0, 'neu': 1.0, 'pos': 0.0, 'compound...    0.0000       neu  \n",
       "2  {'neg': 0.0, 'neu': 1.0, 'pos': 0.0, 'compound...    0.0000       neu  \n",
       "3  {'neg': 0.0, 'neu': 0.495, 'pos': 0.505, 'comp...    0.6249       pos  \n",
       "4  {'neg': 0.0, 'neu': 0.921, 'pos': 0.079, 'comp...    0.2263       pos  "
      ]
     },
     "execution_count": 3,
     "metadata": {},
     "output_type": "execute_result"
    }
   ],
   "source": [
    "df.head()"
   ]
  },
  {
   "cell_type": "code",
   "execution_count": 4,
   "metadata": {},
   "outputs": [],
   "source": [
    "df.drop(['Unnamed: 0', 'language_scores', 'language', 'scores'], axis = 1, inplace = True)"
   ]
  },
  {
   "cell_type": "code",
   "execution_count": 5,
   "metadata": {},
   "outputs": [
    {
     "data": {
      "text/html": [
       "<div>\n",
       "<style scoped>\n",
       "    .dataframe tbody tr th:only-of-type {\n",
       "        vertical-align: middle;\n",
       "    }\n",
       "\n",
       "    .dataframe tbody tr th {\n",
       "        vertical-align: top;\n",
       "    }\n",
       "\n",
       "    .dataframe thead th {\n",
       "        text-align: right;\n",
       "    }\n",
       "</style>\n",
       "<table border=\"1\" class=\"dataframe\">\n",
       "  <thead>\n",
       "    <tr style=\"text-align: right;\">\n",
       "      <th></th>\n",
       "      <th>date</th>\n",
       "      <th>review</th>\n",
       "      <th>rating</th>\n",
       "      <th>status</th>\n",
       "      <th>length</th>\n",
       "      <th>label</th>\n",
       "      <th>compound</th>\n",
       "      <th>sentiment</th>\n",
       "    </tr>\n",
       "  </thead>\n",
       "  <tbody>\n",
       "    <tr>\n",
       "      <th>0</th>\n",
       "      <td>2021-03-11</td>\n",
       "      <td>This course has a good overview of data scienc...</td>\n",
       "      <td>5</td>\n",
       "      <td>completer</td>\n",
       "      <td>371</td>\n",
       "      <td>pos</td>\n",
       "      <td>0.8999</td>\n",
       "      <td>pos</td>\n",
       "    </tr>\n",
       "    <tr>\n",
       "      <th>1</th>\n",
       "      <td>2021-03-11</td>\n",
       "      <td>Greate Course</td>\n",
       "      <td>5</td>\n",
       "      <td>completer</td>\n",
       "      <td>13</td>\n",
       "      <td>pos</td>\n",
       "      <td>0.0000</td>\n",
       "      <td>neu</td>\n",
       "    </tr>\n",
       "    <tr>\n",
       "      <th>2</th>\n",
       "      <td>2021-03-10</td>\n",
       "      <td>have an overall understanding of data science ...</td>\n",
       "      <td>5</td>\n",
       "      <td>completer</td>\n",
       "      <td>70</td>\n",
       "      <td>pos</td>\n",
       "      <td>0.0000</td>\n",
       "      <td>neu</td>\n",
       "    </tr>\n",
       "    <tr>\n",
       "      <th>3</th>\n",
       "      <td>2021-03-10</td>\n",
       "      <td>Course creates interest to keep on learning</td>\n",
       "      <td>4</td>\n",
       "      <td>completer</td>\n",
       "      <td>43</td>\n",
       "      <td>pos</td>\n",
       "      <td>0.6249</td>\n",
       "      <td>pos</td>\n",
       "    </tr>\n",
       "    <tr>\n",
       "      <th>4</th>\n",
       "      <td>2021-03-10</td>\n",
       "      <td>Even though I have been self-teaching for abou...</td>\n",
       "      <td>5</td>\n",
       "      <td>completer</td>\n",
       "      <td>148</td>\n",
       "      <td>pos</td>\n",
       "      <td>0.2263</td>\n",
       "      <td>pos</td>\n",
       "    </tr>\n",
       "    <tr>\n",
       "      <th>...</th>\n",
       "      <td>...</td>\n",
       "      <td>...</td>\n",
       "      <td>...</td>\n",
       "      <td>...</td>\n",
       "      <td>...</td>\n",
       "      <td>...</td>\n",
       "      <td>...</td>\n",
       "      <td>...</td>\n",
       "    </tr>\n",
       "    <tr>\n",
       "      <th>7869</th>\n",
       "      <td>2018-08-28</td>\n",
       "      <td>Thanks for the data science introduction!</td>\n",
       "      <td>5</td>\n",
       "      <td>dropout</td>\n",
       "      <td>42</td>\n",
       "      <td>pos</td>\n",
       "      <td>0.4926</td>\n",
       "      <td>pos</td>\n",
       "    </tr>\n",
       "    <tr>\n",
       "      <th>7870</th>\n",
       "      <td>2018-08-28</td>\n",
       "      <td>Some very interesting materials in the form of...</td>\n",
       "      <td>5</td>\n",
       "      <td>dropout</td>\n",
       "      <td>72</td>\n",
       "      <td>pos</td>\n",
       "      <td>0.6240</td>\n",
       "      <td>pos</td>\n",
       "    </tr>\n",
       "    <tr>\n",
       "      <th>7871</th>\n",
       "      <td>2018-08-28</td>\n",
       "      <td>Very easy to understand. A perfect introductio...</td>\n",
       "      <td>5</td>\n",
       "      <td>dropout</td>\n",
       "      <td>104</td>\n",
       "      <td>pos</td>\n",
       "      <td>0.8655</td>\n",
       "      <td>pos</td>\n",
       "    </tr>\n",
       "    <tr>\n",
       "      <th>7872</th>\n",
       "      <td>2018-08-25</td>\n",
       "      <td>Was good learning spl, if you are looking to b...</td>\n",
       "      <td>5</td>\n",
       "      <td>completer</td>\n",
       "      <td>96</td>\n",
       "      <td>pos</td>\n",
       "      <td>0.4404</td>\n",
       "      <td>pos</td>\n",
       "    </tr>\n",
       "    <tr>\n",
       "      <th>7873</th>\n",
       "      <td>2018-08-24</td>\n",
       "      <td>Good for getting information about Data scienc...</td>\n",
       "      <td>5</td>\n",
       "      <td>dropout</td>\n",
       "      <td>90</td>\n",
       "      <td>pos</td>\n",
       "      <td>0.4404</td>\n",
       "      <td>pos</td>\n",
       "    </tr>\n",
       "  </tbody>\n",
       "</table>\n",
       "<p>7874 rows × 8 columns</p>\n",
       "</div>"
      ],
      "text/plain": [
       "            date                                             review  rating  \\\n",
       "0     2021-03-11  This course has a good overview of data scienc...       5   \n",
       "1     2021-03-11                                      Greate Course       5   \n",
       "2     2021-03-10  have an overall understanding of data science ...       5   \n",
       "3     2021-03-10        Course creates interest to keep on learning       4   \n",
       "4     2021-03-10  Even though I have been self-teaching for abou...       5   \n",
       "...          ...                                                ...     ...   \n",
       "7869  2018-08-28         Thanks for the data science introduction!        5   \n",
       "7870  2018-08-28  Some very interesting materials in the form of...       5   \n",
       "7871  2018-08-28  Very easy to understand. A perfect introductio...       5   \n",
       "7872  2018-08-25  Was good learning spl, if you are looking to b...       5   \n",
       "7873  2018-08-24  Good for getting information about Data scienc...       5   \n",
       "\n",
       "         status  length label  compound sentiment  \n",
       "0     completer     371   pos    0.8999       pos  \n",
       "1     completer      13   pos    0.0000       neu  \n",
       "2     completer      70   pos    0.0000       neu  \n",
       "3     completer      43   pos    0.6249       pos  \n",
       "4     completer     148   pos    0.2263       pos  \n",
       "...         ...     ...   ...       ...       ...  \n",
       "7869    dropout      42   pos    0.4926       pos  \n",
       "7870    dropout      72   pos    0.6240       pos  \n",
       "7871    dropout     104   pos    0.8655       pos  \n",
       "7872  completer      96   pos    0.4404       pos  \n",
       "7873    dropout      90   pos    0.4404       pos  \n",
       "\n",
       "[7874 rows x 8 columns]"
      ]
     },
     "execution_count": 5,
     "metadata": {},
     "output_type": "execute_result"
    }
   ],
   "source": [
    "df"
   ]
  },
  {
   "cell_type": "code",
   "execution_count": 6,
   "metadata": {},
   "outputs": [
    {
     "data": {
      "text/plain": [
       "0"
      ]
     },
     "execution_count": 6,
     "metadata": {},
     "output_type": "execute_result"
    }
   ],
   "source": [
    "# Check for null values\n",
    "\n",
    "len(df[df['review'].isna()==True])"
   ]
  },
  {
   "cell_type": "code",
   "execution_count": 7,
   "metadata": {},
   "outputs": [],
   "source": [
    "# Drop null values\n",
    "\n",
    "# df.dropna(inplace = True)"
   ]
  },
  {
   "cell_type": "code",
   "execution_count": 8,
   "metadata": {},
   "outputs": [],
   "source": [
    "# Check for null values\n",
    "\n",
    "# len(df[df['review'].isna()==True])"
   ]
  },
  {
   "cell_type": "code",
   "execution_count": 9,
   "metadata": {},
   "outputs": [],
   "source": [
    "# Reset the index\n",
    "\n",
    "# df = df.reset_index(drop = True)"
   ]
  },
  {
   "cell_type": "code",
   "execution_count": 10,
   "metadata": {},
   "outputs": [],
   "source": [
    "# df"
   ]
  },
  {
   "cell_type": "code",
   "execution_count": 11,
   "metadata": {},
   "outputs": [],
   "source": [
    "# Define a function to plot the most frequent words\n",
    "\n",
    "def freq_words(x, terms = 30):\n",
    "    all_words = ' '.join([text for text in x])\n",
    "    all_words = all_words.split()\n",
    "\n",
    "    fdist = FreqDist(all_words)\n",
    "    words_df = pd.DataFrame({'word':list(fdist.keys()), 'count':list(fdist.values())})\n",
    "    \n",
    "    # selecting top 20 most frequent words\n",
    "    d = words_df.nlargest(columns=\"count\", n = terms) \n",
    "    plt.figure(figsize=(20,5))\n",
    "    ax = sns.barplot(data=d, x= \"word\", y = \"count\")\n",
    "    ax.set(ylabel = 'Count')\n",
    "    plt.xticks(rotation = 45)\n",
    "    plt.show()"
   ]
  },
  {
   "cell_type": "code",
   "execution_count": 12,
   "metadata": {},
   "outputs": [
    {
     "data": {
      "image/png": "[encoded data removed]",
      "text/plain": [
       "<Figure size 1440x360 with 1 Axes>"
      ]
     },
     "metadata": {
      "needs_background": "light"
     },
     "output_type": "display_data"
    }
   ],
   "source": [
    "# The most frquent words are stop words such as 'to' and 'the' we will remove these in the preprocessing steps\n",
    "\n",
    "freq_words(df['review'])"
   ]
  },
  {
   "cell_type": "markdown",
   "metadata": {},
   "source": [
    "## Preprocessing"
   ]
  },
  {
   "cell_type": "code",
   "execution_count": 13,
   "metadata": {},
   "outputs": [
    {
     "data": {
      "text/plain": [
       "0    this course has a good overview of data scienc...\n",
       "1                                        greate course\n",
       "2    have an overall understanding of data science ...\n",
       "3          course creates interest to keep on learning\n",
       "4    even though i have been self-teaching for abou...\n",
       "Name: preprocessed, dtype: object"
      ]
     },
     "execution_count": 13,
     "metadata": {},
     "output_type": "execute_result"
    }
   ],
   "source": [
    "# Covert to lowercase\n",
    "\n",
    "df['preprocessed'] =  df['review'].apply(lambda x: \" \".join(x.lower() for x in x.split()))\n",
    "df['preprocessed'].head()"
   ]
  },
  {
   "cell_type": "code",
   "execution_count": 14,
   "metadata": {},
   "outputs": [
    {
     "data": {
      "text/plain": [
       "0    this course has a good overview of data scienc...\n",
       "1                                        greate course\n",
       "2    have an overall understanding of data science ...\n",
       "3          course creates interest to keep on learning\n",
       "4    even though i have been selfteaching for about...\n",
       "Name: preprocessed, dtype: object"
      ]
     },
     "execution_count": 14,
     "metadata": {},
     "output_type": "execute_result"
    }
   ],
   "source": [
    "# Remove punctuations\n",
    "\n",
    "df['preprocessed'] = df['preprocessed'].str.replace('[^\\w\\s]','')\n",
    "df['preprocessed'].head()"
   ]
  },
  {
   "cell_type": "code",
   "execution_count": 15,
   "metadata": {},
   "outputs": [
    {
     "data": {
      "text/plain": [
       "0    course overview data science related concepts ...\n",
       "1                                        greate course\n",
       "2      overall understanding data science future looks\n",
       "3                course creates interest keep learning\n",
       "4    even though selfteaching year surprised much l...\n",
       "Name: preprocessed, dtype: object"
      ]
     },
     "execution_count": 15,
     "metadata": {},
     "output_type": "execute_result"
    }
   ],
   "source": [
    "# Remove stopwords\n",
    "\n",
    "stop = stopwords.words('english')\n",
    "stop.extend(['good', 'great', 'really', 'like', 'nice'])\n",
    "\n",
    "df['preprocessed'] = df['preprocessed'].apply(lambda x: \" \".join(x for x in x.split() if x not in stop))\n",
    "df['preprocessed'].head()"
   ]
  },
  {
   "cell_type": "code",
   "execution_count": 16,
   "metadata": {},
   "outputs": [],
   "source": [
    "# Remove short words (length < 3)\n",
    "\n",
    "# df['review'] = df['review'].apply(lambda x: ' '.join([w for w in x.split() if len(w)>2]))\n",
    "# df['review'].head()"
   ]
  },
  {
   "cell_type": "code",
   "execution_count": 17,
   "metadata": {},
   "outputs": [
    {
     "data": {
      "image/png": "[encoded data removed]",
      "text/plain": [
       "<Figure size 1440x360 with 1 Axes>"
      ]
     },
     "metadata": {
      "needs_background": "light"
     },
     "output_type": "display_data"
    }
   ],
   "source": [
    "# Look at the most frequent words again \n",
    "\n",
    "freq_words(df['preprocessed'])"
   ]
  },
  {
   "cell_type": "code",
   "execution_count": 18,
   "metadata": {},
   "outputs": [
    {
     "data": {
      "text/plain": [
       "0    [course, overview, data, science, related, con...\n",
       "1                                     [greate, course]\n",
       "2    [overall, understanding, data, science, future...\n",
       "3          [course, creates, interest, keep, learning]\n",
       "4    [even, though, selfteaching, year, surprised, ...\n",
       "Name: preprocessed, dtype: object"
      ]
     },
     "execution_count": 18,
     "metadata": {},
     "output_type": "execute_result"
    }
   ],
   "source": [
    "# Tokenization\n",
    "\n",
    "tokenizer = RegexpTokenizer(r'\\w+')\n",
    "\n",
    "df['preprocessed'] = df['preprocessed'].apply(lambda x: tokenizer.tokenize(x.lower()))\n",
    "df['preprocessed'].head(5)\n"
   ]
  },
  {
   "cell_type": "code",
   "execution_count": 19,
   "metadata": {},
   "outputs": [
    {
     "data": {
      "text/plain": [
       "0    [(course, NN), (overview, NN), (data, NNS), (s...\n",
       "1                         [(greate, NN), (course, NN)]\n",
       "2    [(overall, JJ), (understanding, NN), (data, NN...\n",
       "3    [(course, NN), (creates, VBZ), (interest, NN),...\n",
       "4    [(even, RB), (though, IN), (selfteaching, VBG)...\n",
       "Name: preprocessed, dtype: object"
      ]
     },
     "execution_count": 19,
     "metadata": {},
     "output_type": "execute_result"
    }
   ],
   "source": [
    "# Add speech tags\n",
    "\n",
    "df['preprocessed'] = df['preprocessed'].apply(nltk.tag.pos_tag)\n",
    "df['preprocessed'].head()"
   ]
  },
  {
   "cell_type": "code",
   "execution_count": 20,
   "metadata": {},
   "outputs": [],
   "source": [
    "# Define function to convert parts of speech tags to wordnet’s format\n",
    "\n",
    "def get_wordnet_pos(tag):\n",
    "    if tag.startswith('J'):\n",
    "        return wordnet.ADJ\n",
    "    elif tag.startswith('V'):\n",
    "        return wordnet.VERB\n",
    "    elif tag.startswith('N'):\n",
    "        return wordnet.NOUN\n",
    "    elif tag.startswith('R'):\n",
    "        return wordnet.ADV\n",
    "    else:\n",
    "        return wordnet.NOUN"
   ]
  },
  {
   "cell_type": "code",
   "execution_count": 21,
   "metadata": {},
   "outputs": [
    {
     "data": {
      "text/plain": [
       "0    [(course, n), (overview, n), (data, n), (scien...\n",
       "1                           [(greate, n), (course, n)]\n",
       "2    [(overall, a), (understanding, n), (data, n), ...\n",
       "3    [(course, n), (creates, v), (interest, n), (ke...\n",
       "4    [(even, r), (though, n), (selfteaching, v), (y...\n",
       "Name: preprocessed, dtype: object"
      ]
     },
     "execution_count": 21,
     "metadata": {},
     "output_type": "execute_result"
    }
   ],
   "source": [
    "# Apply the function to the tagged data\n",
    "\n",
    "df['preprocessed'] = df['preprocessed'].apply(lambda x: [(word, get_wordnet_pos(pos_tag)) for (word, pos_tag) in x])\n",
    "df['preprocessed'].head()"
   ]
  },
  {
   "cell_type": "code",
   "execution_count": 22,
   "metadata": {},
   "outputs": [
    {
     "data": {
      "text/plain": [
       "0    [course, overview, data, science, relate, conc...\n",
       "1                                     [greate, course]\n",
       "2    [overall, understanding, data, science, future...\n",
       "3           [course, create, interest, keep, learning]\n",
       "4    [even, though, selfteaching, year, surprise, m...\n",
       "Name: preprocessed, dtype: object"
      ]
     },
     "execution_count": 22,
     "metadata": {},
     "output_type": "execute_result"
    }
   ],
   "source": [
    "# Create lemmatizer\n",
    "\n",
    "lemmatizer = WordNetLemmatizer()\n",
    "\n",
    "# Apply to data \n",
    "\n",
    "df['preprocessed'] = df['preprocessed'].apply(lambda x: [lemmatizer.lemmatize(word, tag) for word, tag in x])\n",
    "df['preprocessed'].head()"
   ]
  },
  {
   "cell_type": "code",
   "execution_count": 23,
   "metadata": {},
   "outputs": [],
   "source": [
    "# Join reviews\n",
    "\n",
    "df['joined'] = df['preprocessed'].apply(lambda x: ' '.join(x))"
   ]
  },
  {
   "cell_type": "code",
   "execution_count": 24,
   "metadata": {},
   "outputs": [
    {
     "data": {
      "image/png": "[encoded data removed]",
      "text/plain": [
       "<Figure size 1440x360 with 1 Axes>"
      ]
     },
     "metadata": {
      "needs_background": "light"
     },
     "output_type": "display_data"
    }
   ],
   "source": [
    "# Most frequent words after lemmatizing \n",
    "\n",
    "freq_words(df['joined'], 35)"
   ]
  },
  {
   "cell_type": "markdown",
   "metadata": {},
   "source": [
    "## LDA Topic Modeling"
   ]
  },
  {
   "cell_type": "code",
   "execution_count": 25,
   "metadata": {},
   "outputs": [],
   "source": [
    "# Create a dictionary from 'df_sen['review']' containing the number of times a word appears in the training set\n",
    "\n",
    "dictionary = gensim.corpora.Dictionary(df['preprocessed'])"
   ]
  },
  {
   "cell_type": "code",
   "execution_count": 26,
   "metadata": {},
   "outputs": [],
   "source": [
    "# Gensim filter extremes\n",
    "\n",
    "# Filter out tokens that appear in:\n",
    "# Less than 50 documents, more than 0.5 documents, and keep only 100000 most frquent tokens\n",
    "\n",
    "# dictionary.filter_extremes(no_below = 50, no_above = 0.5, keep_n = 100000)"
   ]
  },
  {
   "cell_type": "code",
   "execution_count": 27,
   "metadata": {},
   "outputs": [],
   "source": [
    "# Gensim doc2bow\n",
    "# Create a dictionary reporting how many words and how many times those words appear\n",
    "\n",
    "corpus = [dictionary.doc2bow(doc) for doc in df['preprocessed']]\n"
   ]
  },
  {
   "cell_type": "code",
   "execution_count": 28,
   "metadata": {},
   "outputs": [],
   "source": [
    "# Add TF-IDF\n",
    "\n",
    "tfidf = models.TfidfModel(corpus)      # Create a TF-IDF model\n",
    "corpus_tfidf = tfidf[corpus]  "
   ]
  },
  {
   "cell_type": "code",
   "execution_count": 29,
   "metadata": {},
   "outputs": [],
   "source": [
    "# Creating the object for LDA model using gensim library\n",
    "LDA = gensim.models.LdaMulticore\n",
    "\n",
    "# Build LDA model\n",
    "lda_model = LDA(corpus = corpus, id2word = dictionary, num_topics = 5, random_state = 100,\n",
    "                chunksize = 100, passes = 10)"
   ]
  },
  {
   "cell_type": "code",
   "execution_count": 30,
   "metadata": {},
   "outputs": [
    {
     "name": "stdout",
     "output_type": "stream",
     "text": [
      "Topic: 0\n",
      "Word: 0.064*\"course\" + 0.033*\"well\" + 0.027*\"informative\" + 0.023*\"material\" + 0.022*\"content\" + 0.016*\"video\" + 0.012*\"simple\" + 0.011*\"explain\" + 0.010*\"way\" + 0.010*\"could\"\n",
      "\n",
      "Topic: 1\n",
      "Word: 0.015*\"time\" + 0.011*\"question\" + 0.010*\"quiz\" + 0.009*\"answer\" + 0.009*\"review\" + 0.009*\"one\" + 0.008*\"videos\" + 0.008*\"week\" + 0.007*\"assignment\" + 0.007*\"video\"\n",
      "\n",
      "Topic: 2\n",
      "Word: 0.060*\"course\" + 0.039*\"learn\" + 0.029*\"coursera\" + 0.028*\"easy\" + 0.026*\"thank\" + 0.025*\"thanks\" + 0.019*\"experience\" + 0.019*\"awesome\" + 0.016*\"ibm\" + 0.016*\"lot\"\n",
      "\n",
      "Topic: 3\n",
      "Word: 0.152*\"data\" + 0.113*\"science\" + 0.044*\"introduction\" + 0.043*\"course\" + 0.030*\"scientist\" + 0.018*\"give\" + 0.014*\"field\" + 0.014*\"understand\" + 0.012*\"overview\" + 0.011*\"learn\"\n",
      "\n",
      "Topic: 4\n",
      "Word: 0.122*\"course\" + 0.081*\"data\" + 0.076*\"science\" + 0.037*\"excellent\" + 0.028*\"beginner\" + 0.027*\"introductory\" + 0.027*\"start\" + 0.017*\"basic\" + 0.013*\"best\" + 0.013*\"knowledge\"\n",
      "\n"
     ]
    }
   ],
   "source": [
    "# Explore the words occurring in each topic and its relative weight\n",
    "\n",
    "for id, topic in lda_model.print_topics(-1):\n",
    "    print('Topic: {}\\nWord: {}\\n'.format(id, topic))"
   ]
  },
  {
   "cell_type": "markdown",
   "metadata": {},
   "source": [
    "### Visualise with pyLDAvis\n",
    "\n",
    "Original paper: https://nlp.stanford.edu/events/illvi2014/papers/sievert-illvi2014.pdf"
   ]
  },
  {
   "cell_type": "code",
   "execution_count": 31,
   "metadata": {
    "scrolled": false
   },
   "outputs": [
    {
     "data": {
      "text/html": [
       "\n",
       "<link rel=\"stylesheet\" type=\"text/css\" href=\"https://cdn.jsdelivr.net/gh/bmabey/pyLDAvis@3.2.2/pyLDAvis/js/ldavis.v1.0.0.css\">\n",
       "\n",
       "\n",
       "<div id=\"ldavis_el369201405792751342883746128505\"></div>\n",
       "<script type=\"text/javascript\">\n",
       "\n",
       "var ldavis_el369201405792751342883746128505_data = {\"mdsDat\": {\"x\": [0.217975916499263, 0.2002730696931845, -0.09848544327289865, -0.2037780059458777, -0.11598553697367078], \"y\": [0.042271100256238044, 0.006308488867564273, -0.01163444824517879, 0.1812049283121471, -0.2181500691907707], \"topics\": [1, 2, 3, 4, 5], \"cluster\": [1, 1, 1, 1, 1], \"Freq\": [35.93236453887067, 21.999745480283934, 14.752951349901824, 14.216015740455513, 13.098922890488051]}, \"tinfo\": {\"Term\": [\"data\", \"science\", \"course\", \"excellent\", \"introduction\", \"scientist\", \"beginner\", \"introductory\", \"well\", \"coursera\", \"informative\", \"learn\", \"easy\", \"thank\", \"start\", \"thanks\", \"material\", \"awesome\", \"content\", \"experience\", \"overview\", \"best\", \"video\", \"time\", \"ibm\", \"reading\", \"recommend\", \"lot\", \"simple\", \"basic\", \"insight\", \"scientist\", \"overview\", \"general\", \"become\", \"deep\", \"role\", \"broad\", \"path\", \"scope\", \"believe\", \"requirement\", \"aspect\", \"dive\", \"brief\", \"guide\", \"familiar\", \"view\", \"various\", \"already\", \"analytics\", \"quick\", \"network\", \"industry\", \"neural\", \"machine\", \"difference\", \"exactly\", \"profession\", \"behind\", \"introduction\", \"mining\", \"sense\", \"develop\", \"application\", \"data\", \"someone\", \"science\", \"skill\", \"give\", \"area\", \"rest\", \"relate\", \"field\", \"idea\", \"world\", \"provide\", \"require\", \"help\", \"use\", \"understand\", \"know\", \"tool\", \"understanding\", \"course\", \"need\", \"subject\", \"clear\", \"basic\", \"new\", \"get\", \"learn\", \"career\", \"helpful\", \"topic\", \"start\", \"beginner\", \"explanation\", \"highly\", \"recommend\", \"amazing\", \"introductory\", \"excellent\", \"anyone\", \"best\", \"murtaza\", \"difficult\", \"whats\", \"theory\", \"starter\", \"ever\", \"individual\", \"absolute\", \"novice\", \"brilliant\", \"cool\", \"gentle\", \"head\", \"rich\", \"wellversed\", \"meet\", \"exceptional\", \"visual\", \"enter\", \"ahead\", \"daily\", \"towards\", \"start\", \"journey\", \"everyone\", \"knowledge\", \"course\", \"curious\", \"perfect\", \"basic\", \"want\", \"science\", \"concept\", \"data\", \"step\", \"useful\", \"get\", \"career\", \"introduce\", \"field\", \"level\", \"know\", \"learn\", \"understand\", \"well\", \"way\", \"content\", \"helpful\", \"lot\", \"people\", \"short\", \"nicely\", \"enough\", \"pace\", \"presentation\", \"hard\", \"challenge\", \"discuss\", \"structured\", \"necessary\", \"super\", \"note\", \"info\", \"skip\", \"specific\", \"earn\", \"author\", \"reference\", \"decent\", \"examples\", \"lack\", \"exposure\", \"precise\", \"superb\", \"thus\", \"ability\", \"benefit\", \"better\", \"decide\", \"mix\", \"informative\", \"material\", \"organize\", \"story\", \"lecture\", \"structure\", \"well\", \"simple\", \"certificate\", \"include\", \"content\", \"interesting\", \"little\", \"bit\", \"video\", \"love\", \"quite\", \"could\", \"class\", \"explain\", \"course\", \"overall\", \"part\", \"read\", \"way\", \"would\", \"information\", \"easy\", \"look\", \"much\", \"topic\", \"introduction\", \"get\", \"final\", \"review\", \"rather\", \"waste\", \"stuff\", \"grade\", \"interactive\", \"instead\", \"fluff\", \"write\", \"bad\", \"star\", \"match\", \"repetitive\", \"de\", \"two\", \"substance\", \"5\", \"three\", \"redundant\", \"cours\", \"code\", \"spend\", \"newbie\", \"file\", \"quizzes\", \"particularly\", \"datascience\", \"thats\", \"least\", \"answer\", \"question\", \"project\", \"peer\", \"week\", \"time\", \"quiz\", \"assignment\", \"say\", \"report\", \"form\", \"though\", \"videos\", \"add\", \"one\", \"student\", \"think\", \"practical\", \"could\", \"would\", \"people\", \"video\", \"much\", \"need\", \"feel\", \"read\", \"use\", \"take\", \"get\", \"little\", \"also\", \"find\", \"content\", \"coursera\", \"thank\", \"awesome\", \"thanks\", \"reading\", \"follow\", \"team\", \"financial\", \"recommended\", \"far\", \"transcript\", \"money\", \"unnecessary\", \"listen\", \"teacher\", \"encouraging\", \"wonderful\", \"throughout\", \"receive\", \"wow\", \"d\", \"aid\", \"break\", \"walk\", \"straightforward\", \"kick\", \"boring\", \"style\", \"enlighten\", \"navigate\", \"simplify\", \"opportunity\", \"happy\", \"easy\", \"experience\", \"platform\", \"ibm\", \"instructor\", \"enjoy\", \"online\", \"learn\", \"lot\", \"insightful\", \"amaze\", \"interest\", \"intro\", \"course\", \"learnt\", \"make\", \"much\", \"video\", \"understand\", \"thing\", \"work\", \"way\", \"content\"], \"Freq\": [4854.0, 3835.0, 4026.0, 548.0, 1151.0, 719.0, 415.0, 409.0, 435.0, 254.0, 290.0, 819.0, 344.0, 225.0, 526.0, 221.0, 255.0, 167.0, 406.0, 251.0, 301.0, 203.0, 309.0, 171.0, 210.0, 117.0, 161.0, 286.0, 165.0, 533.0, 185.88378064183152, 715.8455634502751, 299.7763226761046, 107.73015371421593, 110.42669423426727, 57.96228321086008, 48.329371810661385, 41.18550741228583, 49.3184340343198, 32.10247550609826, 30.927313644785233, 24.989802943796224, 28.304190681699048, 22.565467467417413, 55.90106069232559, 22.566264390167834, 21.71206386564218, 71.56192933135588, 42.60077790397064, 41.098916862067206, 18.31146865968497, 23.077353319774662, 17.152716416480185, 69.85804697411048, 16.179015228363667, 56.15778166676844, 15.27905176442257, 31.45721973807263, 15.450239159873675, 14.963231278430463, 1062.7211503492515, 33.88683308003537, 26.752850523765048, 27.203757804614156, 94.68104419947282, 3662.504399165123, 90.7175586870213, 2720.3933071694846, 140.06455890666848, 426.38474307419705, 60.30599107654754, 40.42983450191406, 46.02358907923346, 346.40783518778164, 119.38693572382584, 143.10443052492255, 198.5298877197965, 60.667883484284644, 179.11428818184265, 140.6275722468506, 332.51453561674623, 193.15383006813087, 74.24102702994362, 92.74720069487766, 1041.4385593386924, 138.4948391935116, 102.99765172870838, 135.1683214524813, 230.76149267366483, 127.44568701322672, 200.75952657958675, 274.07968560354664, 114.13254720449828, 114.96511616973531, 102.5889338178886, 118.46166646728364, 413.68966230937804, 93.02194623224479, 102.9131441416249, 159.18048163746948, 52.80367130491669, 403.4676927120659, 538.709362666482, 74.04205284744955, 198.5193032497657, 30.597884267857214, 31.494276089992304, 27.196931983560138, 32.64107841919978, 21.35973822481698, 20.491214304301682, 20.394270711899512, 19.629630823224073, 19.286714222275048, 16.851722506287164, 16.105145907327316, 16.239387085716025, 14.586915364345165, 14.657834876852844, 14.17388816989051, 14.921830087165983, 24.378223332957976, 13.306740695677114, 12.600340407152366, 13.270411244496202, 12.028114529098698, 30.339975210035682, 393.8613575552549, 60.826730270991305, 45.936995008230426, 186.19862968159262, 1794.9607029603785, 33.57015570501131, 67.46234506073462, 257.1413979685822, 115.9459471992547, 1112.824156469824, 105.42335762081285, 1188.0702163439084, 51.63021316859408, 109.22657462484209, 168.37386920772755, 94.72761657598532, 62.144982340683846, 142.28650017531655, 52.59879994166336, 97.047195666356, 157.06875278667712, 118.45438020063919, 95.44838138278878, 83.04936679126382, 86.94601094403342, 70.52327402051328, 70.96565427475552, 66.999331807947, 68.46607498136986, 45.06388795986604, 35.69178283112097, 31.85052426859097, 31.806406629818124, 27.8835003563938, 25.055643289801697, 24.889530529469567, 23.625333092415666, 27.29962014594584, 22.15117849446924, 19.693683196193017, 18.59154242449403, 18.864480993355738, 18.238308559083638, 17.199078015651427, 16.46394208565825, 16.122330028754615, 15.916552953288646, 15.120410278038097, 14.941035131864812, 14.208522518323075, 13.323057352975626, 12.801141369588322, 12.961008685064508, 12.59761219504661, 12.635591158517114, 12.593712236190791, 11.887668139405275, 11.037680315406801, 268.94022588045266, 222.44953848981262, 33.13146271242601, 24.917297501764768, 47.369242384555875, 63.968018343579296, 324.00699282667824, 117.72364139483751, 59.36182825724246, 38.43406582258945, 218.3782615709098, 90.26079471068599, 73.62412359655134, 67.58309766142733, 157.75205677929773, 81.21948462019884, 66.50940925367411, 93.98966511536157, 70.77195292129026, 105.52133715767937, 631.6531244054337, 51.776005313716865, 57.45136045252524, 65.85959826984613, 96.24163476324968, 81.19531107481524, 80.1180361285087, 93.77979061476861, 64.3627258662362, 73.53533725034188, 62.203588326997334, 80.14353223868532, 54.81191146595323, 58.30099824256174, 85.88845780073511, 45.85406205771338, 35.35282628065536, 35.63959512760155, 35.1932327022349, 32.54054453494334, 31.838225259872786, 31.345485534908576, 33.61046823926994, 25.672099874078526, 24.272211672786984, 24.14862516338282, 22.635051622273444, 21.81149556787709, 30.257826014849236, 20.618863737235884, 20.24893170342011, 19.38391021456176, 18.407661531005225, 17.5371330005602, 17.73880046520494, 17.12984534736771, 16.663356443980486, 16.56166866663905, 16.269886177171603, 16.57673835737704, 16.425167492011333, 23.824296036012598, 16.090660626071923, 88.50909272918932, 106.80003772432458, 29.431683487325188, 35.44516713265211, 73.33754495364319, 141.53460621283529, 94.34691081936391, 69.8242736765302, 56.75771676758965, 50.36780503617757, 30.053746868673972, 37.281954674992825, 78.89925427174688, 34.33068263380737, 81.87688001817095, 63.52613417128611, 65.2413884523514, 47.74178475648915, 62.20756388861052, 66.82134076189865, 61.446738104630164, 69.04130909860999, 58.985477711962005, 55.68286792281631, 45.313593163963404, 47.591384331058904, 50.93981164418085, 50.99745747041599, 53.63986833430452, 40.48338446744962, 42.680802475574616, 39.52609735335785, 41.188033559631776, 254.12997354061514, 224.5463501833091, 166.38089932538438, 219.36982321760206, 116.41091621299887, 92.69039346168772, 31.732589962719565, 26.560829453757723, 23.68368362668084, 27.842052211390392, 22.79977500750024, 22.59220784451677, 19.217193582134403, 19.267891720004172, 19.308043715554486, 19.060204274322686, 69.77717556043794, 16.469222198624976, 15.889173158260803, 14.696869894810533, 14.61860969023132, 14.063452032942624, 14.202261324490319, 14.340071658037521, 13.600683719870684, 12.507501554346595, 12.452715843434003, 12.045138940544243, 11.95824488467508, 11.38183286690861, 12.235171332584414, 55.5865082648227, 42.28694820206098, 246.50975881769287, 170.11719796143788, 43.912106083193, 143.47486576697895, 55.48903442825243, 106.83753880751834, 34.0724757902349, 337.11464600996555, 143.20672097536985, 45.58843100084809, 61.02343707829015, 97.36238547645334, 79.92850521382653, 522.7091039335764, 27.79736820842153, 80.12511645784134, 71.39944257943793, 78.88659609669493, 98.73865602979795, 44.39231538747758, 48.470698016694826, 55.573774608351144, 59.36610051740356], \"Total\": [4854.0, 3835.0, 4026.0, 548.0, 1151.0, 719.0, 415.0, 409.0, 435.0, 254.0, 290.0, 819.0, 344.0, 225.0, 526.0, 221.0, 255.0, 167.0, 406.0, 251.0, 301.0, 203.0, 309.0, 171.0, 210.0, 117.0, 161.0, 286.0, 165.0, 533.0, 186.66878167947598, 719.2128290373278, 301.47619532901064, 108.51800670520387, 111.66184374134347, 58.73905050433718, 49.101234157346774, 41.96885286644795, 50.274394117548944, 32.96974288053918, 31.799720744617535, 25.785154287896358, 29.26538712917223, 23.345485879528745, 57.83375219726688, 23.351813431562743, 22.519673998646073, 74.2398186740142, 44.25814154762536, 42.74128781387883, 19.08722815950064, 24.09074056657961, 17.940667163702525, 73.16299310346994, 16.959868272854386, 58.89109643491299, 16.04939915944887, 33.04624360041425, 16.233207096268007, 15.738176903148084, 1151.9366851409434, 35.765543524869834, 28.17042388544561, 28.740183452185253, 105.97098933792698, 4854.249737758847, 102.07429315475403, 3835.527270162977, 165.0011690519275, 559.1880733592773, 67.87351582881504, 43.9529763377548, 50.62815190626677, 503.6423168333129, 151.76310312306094, 190.5044838415844, 280.1005872367142, 70.64614945541102, 263.53252958105907, 199.48244373431697, 593.9267855750865, 305.0906225013185, 91.21723749298548, 127.5959168203385, 4026.7205096655725, 229.28280054880634, 150.56854580045817, 226.3480809244703, 533.6318788800154, 215.04926971745755, 479.27781690418055, 819.6750312715301, 209.63348807604257, 224.33803583769082, 186.46601901577213, 526.7990046718006, 415.0282763257333, 93.7933741942163, 103.8278614309462, 161.04786581793226, 53.578484434622894, 409.85449887179516, 548.2228782804858, 75.47522298904623, 203.23935843478915, 31.380151675547374, 32.318801339979174, 27.98574887954418, 33.718773835064574, 22.127569160854726, 21.267811162090972, 21.184208836448985, 20.39464511985341, 20.079330867430905, 17.61479426323205, 16.871229795682236, 17.04156762716319, 15.352121530507409, 15.43282262345125, 14.968399119875265, 15.770558105157821, 25.81232297577738, 14.109694193619308, 13.363608016869984, 14.089520178562115, 12.810991922041897, 32.37377950678711, 526.7990046718006, 72.84483917549221, 57.04980895956481, 284.4645637966226, 4026.7205096655725, 40.366740100956655, 101.44661997398786, 533.6318788800154, 206.9317798223681, 3835.527270162977, 190.5192044276985, 4854.249737758847, 74.37369015624168, 208.96311854361878, 479.27781690418055, 209.63348807604257, 110.37189160452321, 503.6423168333129, 93.18212091813537, 305.0906225013185, 819.6750312715301, 593.9267855750865, 435.6074868522978, 303.1680089911058, 406.0678445451514, 224.33803583769082, 286.1938509915386, 204.3983497070111, 69.2477665034561, 45.84079534003066, 36.543145357542485, 32.63830511589384, 32.69840490897328, 28.66759031030713, 25.834796728255476, 25.670393106387905, 24.396734644150914, 28.208587783689858, 22.921733953558913, 20.481614920609044, 19.361069761509757, 19.65012260543452, 19.01300383409477, 17.994141597793657, 17.246051122200708, 16.896346857592842, 16.69029310043921, 15.902499818442045, 15.723041903244866, 14.985005032112387, 14.110550541850149, 13.575032655722982, 13.755360220556236, 13.372810858115127, 13.42488093291, 13.384483777819238, 12.66883996421541, 11.809580191175094, 290.54670285138997, 255.98843155876077, 36.43344570820211, 27.218996679384087, 54.09080774782981, 76.0186222942029, 435.6074868522978, 165.5492979428907, 77.35138842041181, 47.741616649372254, 406.0678445451514, 139.94471916551504, 114.68567864859531, 103.746429171295, 309.7340656777354, 132.7931712226677, 102.66466454972957, 167.00247383115305, 117.3286057920099, 224.90425080508047, 4026.7205096655725, 85.23910316168568, 100.95963652351425, 139.28718218622728, 303.1680089911058, 236.6665124577357, 231.0418851642341, 344.26063124098346, 157.0375941279657, 247.00669223834808, 186.46601901577213, 1151.9366851409434, 479.27781690418055, 59.06659869193832, 87.31866437326019, 46.73310246653236, 36.10921955109047, 36.409073990914756, 35.98331507855557, 33.306161474947885, 32.60496020805293, 32.10343734739521, 34.48521614246939, 26.42942843538352, 25.029235093665022, 24.918940092705885, 23.39960834149354, 22.566960725575466, 31.355737408818975, 21.381796897859452, 21.00752172137343, 20.146036083935307, 19.17133728808273, 18.29031936053352, 18.501828053948817, 17.888280892939477, 17.433366382917182, 17.32831797996783, 17.028042425500317, 17.349661110037463, 17.19156166231891, 24.942056430920157, 16.854970895910228, 93.09222433188647, 113.78310170523115, 30.95760273934447, 38.21838723341934, 83.7482306559753, 171.32668496740385, 119.72475579765802, 86.0903801271013, 73.97347383478368, 67.33078813632105, 36.329628236360776, 51.18126064139395, 154.78097531700922, 47.978924437462524, 233.22282070677133, 150.31192107567404, 164.42645800300312, 92.2474373871592, 167.00247383115305, 236.6665124577357, 204.3983497070111, 309.7340656777354, 247.00669223834808, 229.28280054880634, 115.70235172669418, 139.28718218622728, 199.48244373431697, 219.45499249540526, 479.27781690418055, 114.68567864859531, 205.81005864313997, 125.17248507330163, 406.0678445451514, 254.99670972697575, 225.54679451865132, 167.13984063255162, 221.00336923922606, 117.43932514884716, 93.68947346482717, 32.50455997833624, 27.318728194297776, 24.447615653387746, 28.830680937086587, 23.609608501179494, 23.408999003617108, 19.981973204074084, 20.038734741347156, 20.096903330831438, 19.871206491273803, 72.99732893485697, 17.24640054122388, 16.65361567184371, 15.4495334181319, 15.379263977106472, 14.820710271167464, 14.970391520147263, 15.117269533290495, 14.372066071678573, 13.27300123488976, 13.231036434581716, 12.81143544567292, 12.730758507373952, 12.143174868993805, 13.067491199611942, 64.47267504410995, 48.431693280110856, 344.26063124098346, 251.22510233409375, 54.92567716255576, 210.9888758845134, 74.11455029844575, 161.83529102387615, 44.64924441932082, 819.6750312715301, 286.1938509915386, 66.23806976242713, 103.13480989752499, 197.24044761078017, 181.12146226149855, 4026.7205096655725, 38.32632937504817, 254.7192169558362, 247.00669223834808, 309.7340656777354, 593.9267855750865, 111.92461062839227, 164.74167349871308, 303.1680089911058, 406.0678445451514], \"Category\": [\"Default\", \"Default\", \"Default\", \"Default\", \"Default\", \"Default\", \"Default\", \"Default\", \"Default\", \"Default\", \"Default\", \"Default\", \"Default\", \"Default\", \"Default\", \"Default\", \"Default\", \"Default\", \"Default\", \"Default\", \"Default\", \"Default\", \"Default\", \"Default\", \"Default\", \"Default\", \"Default\", \"Default\", \"Default\", \"Default\", \"Topic1\", \"Topic1\", \"Topic1\", \"Topic1\", \"Topic1\", \"Topic1\", \"Topic1\", \"Topic1\", \"Topic1\", \"Topic1\", \"Topic1\", \"Topic1\", \"Topic1\", \"Topic1\", \"Topic1\", \"Topic1\", \"Topic1\", \"Topic1\", \"Topic1\", \"Topic1\", \"Topic1\", \"Topic1\", \"Topic1\", \"Topic1\", \"Topic1\", \"Topic1\", \"Topic1\", \"Topic1\", \"Topic1\", \"Topic1\", \"Topic1\", \"Topic1\", \"Topic1\", \"Topic1\", \"Topic1\", \"Topic1\", \"Topic1\", \"Topic1\", \"Topic1\", \"Topic1\", \"Topic1\", \"Topic1\", \"Topic1\", \"Topic1\", \"Topic1\", \"Topic1\", \"Topic1\", \"Topic1\", \"Topic1\", \"Topic1\", \"Topic1\", \"Topic1\", \"Topic1\", \"Topic1\", \"Topic1\", \"Topic1\", \"Topic1\", \"Topic1\", \"Topic1\", \"Topic1\", \"Topic1\", \"Topic1\", \"Topic1\", \"Topic1\", \"Topic1\", \"Topic1\", \"Topic2\", \"Topic2\", \"Topic2\", \"Topic2\", \"Topic2\", \"Topic2\", \"Topic2\", \"Topic2\", \"Topic2\", \"Topic2\", \"Topic2\", \"Topic2\", \"Topic2\", \"Topic2\", \"Topic2\", \"Topic2\", \"Topic2\", \"Topic2\", \"Topic2\", \"Topic2\", \"Topic2\", \"Topic2\", \"Topic2\", \"Topic2\", \"Topic2\", \"Topic2\", \"Topic2\", \"Topic2\", \"Topic2\", \"Topic2\", \"Topic2\", \"Topic2\", \"Topic2\", \"Topic2\", \"Topic2\", \"Topic2\", \"Topic2\", \"Topic2\", \"Topic2\", \"Topic2\", \"Topic2\", \"Topic2\", \"Topic2\", \"Topic2\", \"Topic2\", \"Topic2\", \"Topic2\", \"Topic2\", \"Topic2\", \"Topic2\", \"Topic2\", \"Topic2\", \"Topic2\", \"Topic2\", \"Topic2\", \"Topic2\", \"Topic2\", \"Topic2\", \"Topic2\", \"Topic3\", \"Topic3\", \"Topic3\", \"Topic3\", \"Topic3\", \"Topic3\", \"Topic3\", \"Topic3\", \"Topic3\", \"Topic3\", \"Topic3\", \"Topic3\", \"Topic3\", \"Topic3\", \"Topic3\", \"Topic3\", \"Topic3\", \"Topic3\", \"Topic3\", \"Topic3\", \"Topic3\", \"Topic3\", \"Topic3\", \"Topic3\", \"Topic3\", \"Topic3\", \"Topic3\", \"Topic3\", \"Topic3\", \"Topic3\", \"Topic3\", \"Topic3\", \"Topic3\", \"Topic3\", \"Topic3\", \"Topic3\", \"Topic3\", \"Topic3\", \"Topic3\", \"Topic3\", \"Topic3\", \"Topic3\", \"Topic3\", \"Topic3\", \"Topic3\", \"Topic3\", \"Topic3\", \"Topic3\", \"Topic3\", \"Topic3\", \"Topic3\", \"Topic3\", \"Topic3\", \"Topic3\", \"Topic3\", \"Topic3\", \"Topic3\", \"Topic3\", \"Topic3\", \"Topic3\", \"Topic3\", \"Topic3\", \"Topic3\", \"Topic4\", \"Topic4\", \"Topic4\", \"Topic4\", \"Topic4\", \"Topic4\", \"Topic4\", \"Topic4\", \"Topic4\", \"Topic4\", \"Topic4\", \"Topic4\", \"Topic4\", \"Topic4\", \"Topic4\", \"Topic4\", \"Topic4\", \"Topic4\", \"Topic4\", \"Topic4\", \"Topic4\", \"Topic4\", \"Topic4\", \"Topic4\", \"Topic4\", \"Topic4\", \"Topic4\", \"Topic4\", \"Topic4\", \"Topic4\", \"Topic4\", \"Topic4\", \"Topic4\", \"Topic4\", \"Topic4\", \"Topic4\", \"Topic4\", \"Topic4\", \"Topic4\", \"Topic4\", \"Topic4\", \"Topic4\", \"Topic4\", \"Topic4\", \"Topic4\", \"Topic4\", \"Topic4\", \"Topic4\", \"Topic4\", \"Topic4\", \"Topic4\", \"Topic4\", \"Topic4\", \"Topic4\", \"Topic4\", \"Topic4\", \"Topic4\", \"Topic4\", \"Topic4\", \"Topic4\", \"Topic4\", \"Topic4\", \"Topic4\", \"Topic5\", \"Topic5\", \"Topic5\", \"Topic5\", \"Topic5\", \"Topic5\", \"Topic5\", \"Topic5\", \"Topic5\", \"Topic5\", \"Topic5\", \"Topic5\", \"Topic5\", \"Topic5\", \"Topic5\", \"Topic5\", \"Topic5\", \"Topic5\", \"Topic5\", \"Topic5\", \"Topic5\", \"Topic5\", \"Topic5\", \"Topic5\", \"Topic5\", \"Topic5\", \"Topic5\", \"Topic5\", \"Topic5\", \"Topic5\", \"Topic5\", \"Topic5\", \"Topic5\", \"Topic5\", \"Topic5\", \"Topic5\", \"Topic5\", \"Topic5\", \"Topic5\", \"Topic5\", \"Topic5\", \"Topic5\", \"Topic5\", \"Topic5\", \"Topic5\", \"Topic5\", \"Topic5\", \"Topic5\", \"Topic5\", \"Topic5\", \"Topic5\", \"Topic5\", \"Topic5\", \"Topic5\", \"Topic5\", \"Topic5\"], \"logprob\": [30.0, 29.0, 28.0, 27.0, 26.0, 25.0, 24.0, 23.0, 22.0, 21.0, 20.0, 19.0, 18.0, 17.0, 16.0, 15.0, 14.0, 13.0, 12.0, 11.0, 10.0, 9.0, 8.0, 7.0, 6.0, 5.0, 4.0, 3.0, 2.0, 1.0, -4.8615, -3.5132, -4.3836, -5.407, -5.3823, -6.0268, -6.2086, -6.3685, -6.1883, -6.6177, -6.655, -6.8681, -6.7436, -6.9702, -6.063, -6.9702, -7.0087, -5.8161, -6.3347, -6.3706, -7.1791, -6.9478, -7.2445, -5.8401, -7.3029, -6.0584, -7.3601, -6.638, -7.349, -7.381, -3.118, -6.5636, -6.8, -6.7833, -5.5361, -1.8807, -5.5789, -2.1781, -5.1445, -4.0313, -5.9872, -6.387, -6.2575, -4.239, -5.3042, -5.123, -4.7957, -5.9812, -4.8986, -5.1405, -4.2799, -4.8231, -5.7793, -5.5567, -3.1383, -5.1558, -5.4519, -5.1801, -4.6452, -5.2389, -4.7845, -4.4732, -5.3493, -5.342, -5.4559, -5.312, -3.5709, -5.0632, -4.9621, -4.526, -5.6294, -3.5959, -3.3068, -5.2914, -4.3051, -6.1751, -6.1462, -6.2929, -6.1104, -6.5345, -6.576, -6.5808, -6.619, -6.6366, -6.7716, -6.8169, -6.8086, -6.9159, -6.911, -6.9446, -6.8932, -6.4023, -7.0077, -7.0623, -7.0105, -7.1088, -6.1835, -3.62, -5.488, -5.7687, -4.3692, -2.1033, -6.0824, -5.3844, -4.0464, -4.8429, -2.5814, -4.938, -2.5159, -5.6519, -4.9026, -4.4698, -5.045, -5.4665, -4.6382, -5.6333, -5.0208, -4.5393, -4.8215, -5.0374, -5.1766, -5.1307, -5.3401, -5.3338, -5.3913, -4.9701, -5.3883, -5.6215, -5.7354, -5.7368, -5.8684, -5.9753, -5.982, -6.0341, -5.8895, -6.0985, -6.2161, -6.2737, -6.2591, -6.2929, -6.3516, -6.3952, -6.4162, -6.4291, -6.4804, -6.4923, -6.5426, -6.6069, -6.6469, -6.6345, -6.6629, -6.6599, -6.6632, -6.7209, -6.7951, -3.6019, -3.7917, -5.6959, -5.9809, -5.3384, -5.038, -3.4157, -4.4281, -5.1128, -5.5475, -3.8102, -4.6937, -4.8974, -4.9831, -4.1354, -4.7993, -4.9991, -4.6532, -4.937, -4.5375, -2.7481, -5.2495, -5.1455, -5.0089, -4.6296, -4.7996, -4.8129, -4.6555, -5.0319, -4.8987, -5.066, -4.8126, -5.1925, -5.0937, -4.7063, -5.3339, -5.594, -5.5859, -5.5985, -5.6769, -5.6987, -5.7143, -5.6445, -5.9139, -5.97, -5.9751, -6.0398, -6.0769, -5.7496, -6.1331, -6.1512, -6.1949, -6.2466, -6.295, -6.2836, -6.3185, -6.3461, -6.3523, -6.37, -6.3513, -6.3605, -5.9886, -6.3811, -4.6762, -4.4884, -5.7773, -5.5914, -4.8643, -4.2068, -4.6124, -4.9134, -5.1206, -5.24, -5.7564, -5.5408, -4.7912, -5.6233, -4.7541, -5.0079, -4.9813, -5.2935, -5.0289, -4.9573, -5.0412, -4.9246, -5.0821, -5.1397, -5.3457, -5.2967, -5.2287, -5.2276, -5.1771, -5.4585, -5.4056, -5.4824, -5.4412, -3.5397, -3.6634, -3.9632, -3.6867, -4.3204, -4.5482, -5.6202, -5.7981, -5.9127, -5.751, -5.9508, -5.9599, -6.1217, -6.1191, -6.117, -6.1299, -4.8322, -6.276, -6.3119, -6.3899, -6.3952, -6.4339, -6.4241, -6.4144, -6.4674, -6.5512, -6.5556, -6.5888, -6.5961, -6.6455, -6.5732, -5.0596, -5.333, -3.5701, -3.941, -5.2953, -4.1113, -5.0613, -4.4062, -5.549, -3.2571, -4.1132, -5.2579, -4.9662, -4.4991, -4.6964, -2.8185, -5.7526, -4.6939, -4.8092, -4.7095, -4.485, -5.2844, -5.1965, -5.0598, -4.9938], \"loglift\": [30.0, 29.0, 28.0, 27.0, 26.0, 25.0, 24.0, 23.0, 22.0, 21.0, 20.0, 19.0, 18.0, 17.0, 16.0, 15.0, 14.0, 13.0, 12.0, 11.0, 10.0, 9.0, 8.0, 7.0, 6.0, 5.0, 4.0, 3.0, 2.0, 1.0, 1.0193, 1.0188, 1.0179, 1.0162, 1.0124, 1.0102, 1.0077, 1.0047, 1.0043, 0.9969, 0.9957, 0.9922, 0.9901, 0.9895, 0.9895, 0.9893, 0.987, 0.9868, 0.9854, 0.9843, 0.982, 0.9806, 0.9786, 0.9773, 0.9764, 0.976, 0.9743, 0.9743, 0.9741, 0.973, 0.9429, 0.9696, 0.9719, 0.9686, 0.9109, 0.7418, 0.9056, 0.68, 0.8597, 0.7524, 0.9053, 0.94, 0.9282, 0.6493, 0.7836, 0.7374, 0.6793, 0.8713, 0.6374, 0.6739, 0.4435, 0.5664, 0.8176, 0.7045, -0.3288, 0.5194, 0.6438, 0.508, 0.1852, 0.5004, 0.1534, -0.072, 0.4155, 0.355, 0.426, -0.4687, 1.5109, 1.5059, 1.5053, 1.5025, 1.4996, 1.4984, 1.4966, 1.495, 1.4906, 1.4889, 1.4883, 1.4855, 1.4817, 1.4788, 1.4769, 1.4761, 1.4759, 1.4739, 1.4699, 1.4677, 1.4659, 1.463, 1.4626, 1.4596, 1.4588, 1.457, 1.4555, 1.4553, 1.4542, 1.4511, 1.4493, 1.2233, 1.3338, 1.2975, 1.0903, 0.7062, 1.3298, 1.1062, 0.7841, 0.9349, 0.2767, 0.9224, 0.1066, 1.1491, 0.8654, 0.468, 0.7198, 0.9398, 0.2501, 0.9423, 0.3687, -0.1381, -0.0981, -0.004, 0.2193, -0.0271, 0.3569, 0.1197, 0.3988, 1.9024, 1.8966, 1.8902, 1.8893, 1.8861, 1.886, 1.8831, 1.8828, 1.8816, 1.881, 1.8795, 1.8745, 1.8732, 1.8729, 1.8721, 1.8685, 1.8673, 1.8668, 1.8663, 1.8633, 1.8627, 1.8605, 1.8563, 1.855, 1.8542, 1.854, 1.8531, 1.8528, 1.8501, 1.8461, 1.8365, 1.7733, 1.8187, 1.8254, 1.781, 1.7411, 1.6178, 1.5728, 1.649, 1.6969, 1.2934, 1.4752, 1.4705, 1.4851, 1.239, 1.4221, 1.4796, 1.3389, 1.4082, 1.157, 0.0614, 1.4152, 1.3499, 1.1647, 0.7663, 0.8439, 0.8546, 0.6133, 1.0218, 0.7021, 0.8159, -0.7517, -0.2546, 1.9378, 1.9343, 1.9318, 1.9296, 1.9294, 1.9286, 1.9275, 1.927, 1.9269, 1.9251, 1.9217, 1.9201, 1.9194, 1.9176, 1.9168, 1.9152, 1.9145, 1.914, 1.9122, 1.9102, 1.9087, 1.9087, 1.9075, 1.9056, 1.9055, 1.9053, 1.9052, 1.9052, 1.905, 1.9044, 1.9003, 1.8875, 1.9003, 1.8755, 1.8181, 1.7598, 1.7126, 1.7414, 1.6859, 1.6605, 1.7612, 1.6339, 1.277, 1.6161, 0.904, 1.0895, 1.0264, 1.2921, 0.9633, 0.6862, 0.7489, 0.4498, 0.5187, 0.5355, 1.0134, 0.8769, 0.5857, 0.4914, -0.2392, 0.9095, 0.3776, 0.7981, -0.3376, 2.0292, 2.0282, 2.0281, 2.0252, 2.0238, 2.0219, 2.0086, 2.0045, 2.0009, 1.9977, 1.9977, 1.9971, 1.9936, 1.9934, 1.9926, 1.991, 1.9875, 1.9865, 1.9857, 1.9827, 1.9819, 1.9802, 1.98, 1.9799, 1.9775, 1.9732, 1.972, 1.971, 1.97, 1.9679, 1.9668, 1.8843, 1.897, 1.6986, 1.6428, 1.8088, 1.647, 1.7432, 1.6174, 1.7623, 1.1442, 1.3403, 1.659, 1.5079, 1.3267, 1.2146, -0.009, 1.7114, 0.8761, 0.7915, 0.6649, 0.2384, 1.1079, 0.8092, 0.3361, 0.1098]}, \"token.table\": {\"Topic\": [4, 3, 2, 3, 4, 5, 2, 5, 1, 5, 1, 2, 3, 4, 5, 1, 2, 5, 2, 1, 3, 4, 5, 1, 2, 1, 2, 1, 2, 1, 3, 4, 3, 5, 4, 1, 2, 3, 4, 1, 5, 1, 2, 1, 1, 3, 2, 3, 3, 3, 4, 5, 5, 1, 2, 2, 1, 1, 2, 2, 3, 3, 3, 4, 5, 1, 2, 3, 5, 4, 1, 2, 5, 2, 3, 4, 5, 2, 2, 3, 4, 5, 4, 1, 2, 3, 4, 5, 5, 2, 4, 5, 2, 1, 2, 3, 4, 5, 4, 4, 3, 3, 1, 1, 2, 1, 2, 3, 1, 3, 2, 3, 5, 5, 1, 2, 4, 5, 5, 3, 2, 2, 2, 3, 4, 5, 1, 4, 3, 1, 2, 4, 2, 5, 1, 2, 3, 4, 5, 1, 2, 3, 2, 3, 1, 5, 1, 3, 4, 5, 1, 2, 3, 4, 4, 5, 1, 2, 3, 4, 5, 4, 5, 1, 4, 1, 2, 1, 2, 3, 4, 5, 1, 2, 3, 4, 5, 4, 1, 1, 3, 4, 5, 3, 2, 1, 2, 3, 4, 5, 1, 2, 3, 4, 2, 2, 3, 4, 5, 1, 2, 1, 3, 5, 2, 1, 2, 3, 1, 2, 3, 4, 5, 1, 3, 1, 1, 2, 5, 4, 3, 5, 4, 1, 2, 3, 4, 5, 1, 3, 1, 4, 5, 1, 2, 1, 2, 3, 1, 2, 3, 2, 5, 5, 1, 2, 3, 5, 1, 2, 3, 4, 5, 3, 1, 2, 3, 4, 5, 1, 2, 5, 4, 3, 4, 5, 1, 2, 3, 5, 3, 4, 1, 2, 3, 4, 5, 1, 2, 3, 4, 5, 1, 2, 3, 5, 1, 4, 1, 2, 3, 4, 5, 4, 1, 3, 4, 5, 2, 1, 4, 3, 5, 1, 2, 3, 4, 5, 2, 5, 3, 1, 2, 3, 4, 1, 1, 1, 2, 3, 4, 5, 4, 3, 3, 2, 1, 2, 3, 4, 5, 3, 5, 1, 2, 3, 5, 2, 3, 1, 2, 3, 4, 1, 3, 3, 1, 2, 3, 4, 5, 4, 1, 4, 5, 1, 2, 4, 1, 2, 5, 2, 4, 5, 1, 2, 4, 3, 3, 1, 2, 4, 5, 1, 2, 3, 5, 2, 3, 4, 5, 1, 1, 3, 5, 3, 4, 5, 4, 4, 1, 3, 4, 5, 5, 5, 1, 2, 5, 4, 3, 1, 3, 4, 1, 3, 4, 1, 3, 1, 1, 5, 4, 5, 2, 1, 1, 2, 4, 5, 1, 2, 4, 1, 2, 1, 1, 3, 3, 1, 2, 3, 5, 1, 3, 4, 3, 1, 2, 3, 4, 4, 1, 2, 3, 4, 2, 1, 2, 3, 4, 1, 3, 5, 1, 3, 3, 1, 3, 4, 5, 4, 5, 1, 2, 3, 4, 5, 4, 3, 3, 1, 2, 3, 4, 5, 5, 5, 5, 2, 5, 1, 4, 2, 1, 2, 3, 4, 5, 1, 2, 3, 4, 5, 3, 4, 4, 5, 3, 3, 4, 1, 2, 4, 1, 2, 3, 4, 5, 2, 4, 5, 4, 5, 1, 2, 3, 5, 1, 2, 3, 4, 5, 1, 2, 3, 4, 5, 1, 2, 3, 4, 5, 1, 2, 2, 3, 4, 5, 2, 3, 4, 5, 1, 2, 3, 2, 5, 1, 2, 3, 5, 4, 1, 2, 3, 4, 5, 1, 3, 4, 5, 1, 2, 3, 4, 5, 2, 2, 1, 2, 5, 1, 2, 3, 4, 5, 1, 2, 1, 2, 3, 4, 5, 5, 4], \"Freq\": [0.9520399533683044, 0.9721217280293102, 0.9806495716138135, 0.2292673320415467, 0.7086444808556898, 0.0625274541931491, 0.9226715910297731, 0.9446240931675123, 0.9592598187153032, 0.023396580944275686, 0.398425618945001, 0.09231813121896365, 0.1797774134264029, 0.2089305074955493, 0.12147122528811007, 0.18422489961321933, 0.22300908900547603, 0.5914588882319147, 0.9892030459478792, 0.943038970854473, 0.010742035730447944, 0.956041180009867, 0.032226107191343834, 0.013249381192886713, 0.9804542082736167, 0.8964717664101257, 0.10380199400538298, 0.88399723024997, 0.10313301019582984, 0.9567616473485543, 0.18585119471395145, 0.8130989768735376, 0.9277486125159008, 0.9931803175817457, 0.9837518833813067, 0.43288268400460245, 0.4816054103427828, 0.06746223646824974, 0.016865559117062435, 0.9851171744468682, 0.00895561067678971, 0.00240947438293374, 0.9975223945345684, 0.9530964159514291, 0.9748513280654234, 0.9683512326825604, 0.9791410558100665, 0.01968122725246365, 0.9712739180530515, 0.6554442455819436, 0.3469998947198525, 0.9069584275828779, 0.9351792824628999, 0.968292698854951, 0.01729094105098127, 0.9650978459331012, 0.9769149547753662, 0.543806245110264, 0.45317187092521993, 0.21977627483043302, 0.7627529538232676, 0.9676871183839252, 0.6051380183095563, 0.08523070680416286, 0.3068305444949863, 0.5964265278884688, 0.15021112554228105, 0.1060313827357278, 0.14579315126162573, 0.9728768393865972, 0.425153990346098, 0.5511255430412382, 0.020995258782523358, 0.21424991209892838, 0.5368561015812229, 0.10096834937995476, 0.1452959174004227, 0.9483600302862802, 0.005987935250654099, 0.5628659135614853, 0.3712519855405541, 0.059879352506540987, 0.9841271573879696, 0.25852303319816383, 0.44577218500547944, 0.15695154368995154, 0.008940277805123822, 0.12988236922443774, 0.9960912839697307, 0.8422775759193454, 0.14863721927988446, 0.9753392634607844, 0.9366956183426712, 0.7545965283795156, 0.2447340092041672, 0.00020600505825266603, 0.00041201011650533205, 0.00020600505825266603, 0.9306891551957948, 0.9748765138349835, 0.9586410438519475, 0.9472059031367809, 0.9874180719982423, 0.9394512058324062, 0.03479448910490393, 0.9346144270559156, 0.9591939897118714, 0.9738845796552651, 0.9852011698830524, 0.944751929821673, 0.008714327831171584, 0.273048938710043, 0.7174796580997937, 0.9561573429546725, 0.17919453672018623, 0.11740331716150132, 0.04325385369107943, 0.6611660492779285, 0.9425989812821695, 0.9851368744472243, 0.972791179117872, 0.9403882631631225, 0.8063129542222205, 0.01752854248309175, 0.08764271241545875, 0.08764271241545875, 0.9380793888359341, 0.030260625446320456, 0.9432479277631922, 0.009120378222234394, 0.9831767723568677, 0.007296302577787516, 0.9297884588892643, 0.03874118578705268, 0.10747333665763156, 0.15523926406102337, 0.003980493950282651, 0.059707409254239764, 0.6766839715480506, 0.28456554187349437, 0.2445485125475342, 0.471311678727975, 0.9915412554348085, 0.9342672871979988, 0.9769235558793028, 0.9711876060472081, 0.14692873348120425, 0.3111432003131384, 0.388929000391423, 0.1555716001565692, 0.686995489528163, 0.28194612576011313, 0.027797505356630874, 0.9810530958430369, 0.9819424392878764, 0.9883329783132326, 0.27162518967398813, 0.14380157100387606, 0.07988976166882003, 0.3195590466752801, 0.18374645183828608, 0.9656286853194324, 0.992640865197241, 0.16515445632870132, 0.8257722816435066, 0.9952265368584305, 0.9388807620313641, 0.4193809788617545, 0.3505273853172874, 0.1147559892407786, 0.11266951670912809, 0.00417294506330104, 0.7618188232106585, 0.11445165419127264, 0.04649598451520451, 0.04828429161194315, 0.02861291354781816, 0.972673027029086, 0.9849342136706511, 0.020647636542797974, 0.04129527308559595, 0.061942909628393925, 0.8672007347975149, 0.9767127162387589, 0.9770636566543797, 0.679233035422832, 0.20870288797908243, 0.011383793889768134, 0.007589195926512088, 0.09107035111814507, 0.5126192692673961, 0.31648667928682717, 0.16047211907501097, 0.013372676589584248, 0.9920265965268216, 0.018958345473101792, 0.12322924557516164, 0.17536469562619156, 0.677760850663389, 0.784116808045931, 0.21085493997873772, 0.1675686866398813, 0.7959512615394363, 0.020946085829985164, 0.944099454192905, 0.9567678553145479, 0.04100433665633777, 0.9813507328904123, 0.25103673283643446, 0.24670851330477178, 0.34625756253301304, 0.12551836641821723, 0.034625756253301304, 0.07227753677432426, 0.9258408282044392, 0.9964172815965321, 0.2717470491600937, 0.04529117486001561, 0.6944646811869061, 0.9814457614978621, 0.24286729026240178, 0.7420944980240054, 0.9908076625648329, 0.4005263674715077, 0.04055963214901344, 0.01520986205588004, 0.050699540186266795, 0.49178553980678796, 0.3501382566786736, 0.643111083695523, 0.5300310565149792, 0.022084627354790796, 0.44169254709581596, 0.4348933347268362, 0.5617372240221634, 0.9227937730535409, 0.006944826137750073, 0.06944826137750074, 0.009759561041810652, 0.9832757749624232, 0.004879780520905326, 0.8373963164781443, 0.15100589313540308, 0.9794318383567884, 0.6325989255837122, 0.31793832011202117, 0.00655542928066023, 0.03933257568396138, 0.2952916134048093, 0.6538600011106492, 0.0035153763500572538, 0.038669139850629794, 0.0070307527001145075, 0.9540138665473094, 0.33427881727097924, 0.19153932230490417, 0.03903986187106327, 0.023179917985943817, 0.41113854532963506, 0.23482551412448402, 0.026091723791609334, 0.7305682661650613, 0.9492748518410268, 0.8689091909869973, 0.03697485919093605, 0.0739497183818721, 0.11804839696301814, 0.5687786399127237, 0.31121850108432053, 0.9481636563009205, 0.6452418547109183, 0.3487793809248207, 0.5221679589231379, 0.006367901938087049, 0.4075457240375711, 0.03820741162852229, 0.019103705814261147, 0.12229473092709732, 0.24808359702354027, 0.006988270338691275, 0.12229473092709732, 0.4996613292164262, 0.12048812339281503, 0.0075305077120509396, 0.6099711246761261, 0.2635677699217829, 0.950907749898862, 0.0339609910678165, 0.1884427903542211, 0.16488744155994345, 0.18451689888850814, 0.1491838756970917, 0.31407131725703513, 0.9631228258791444, 0.0039064265283818315, 0.8672266893007667, 0.04687711834058198, 0.08203495709601848, 0.9511394523884473, 0.9506356299704448, 0.027959871469718966, 0.9314471659390512, 0.9825281293081387, 0.10930877926961777, 0.06477557290051424, 0.29958702466487835, 0.23885992507064624, 0.2874416047460319, 0.9878856010806473, 0.9058586505319322, 0.9571553247203441, 0.601876807460857, 0.05233711369224844, 0.10031280124347618, 0.24423986389715938, 0.9475678827816572, 0.9434035537651709, 0.590562340280713, 0.19995417820528077, 0.1209025263566814, 0.013950291502694008, 0.06975145751347005, 0.97514155479794, 0.9816583605543067, 0.9764855006562773, 0.9462466715371675, 0.28299117470575974, 0.2486892141353646, 0.060028430998191454, 0.35159509584654997, 0.05574068592689207, 0.2239679557863415, 0.7614910496735611, 0.07755223428497693, 0.015510446856995385, 0.04653134057098616, 0.8685850239917416, 0.08234192351794556, 0.9057611586974013, 0.22290239215633084, 0.011731704850333202, 0.6100486522173265, 0.15251216305433163, 0.9951034431511263, 0.003317011477170421, 0.9804430679342168, 0.019809896993182866, 0.15847917594546293, 0.5645820643057117, 0.19809896993182866, 0.049524742482957164, 0.979846228245048, 0.9746512287235283, 0.9157895592568311, 0.05233083195753321, 0.3718229629003365, 0.32779129624108616, 0.2984368518015859, 0.2760072243627194, 0.6604458582965071, 0.04928700435048561, 0.036412841922383275, 0.1456513676895331, 0.801082522292432, 0.2601698288839489, 0.2168081907366241, 0.5203396577678978, 0.9212964413715543, 0.9786410098315952, 0.9240318263079684, 0.03230224279378989, 0.9367650410199068, 0.03230224279378989, 0.7104590603083036, 0.08211335872910042, 0.13923569523630072, 0.06783277460230035, 0.008788651258520097, 0.05273190755112059, 0.9403856846616505, 0.008788651258520097, 0.954723659757776, 0.048702248450615236, 0.6526101292382442, 0.29221349070369146, 0.200459794969734, 0.7851341969647916, 0.00835249145707225, 0.9396265055130016, 0.9843129938343519, 0.007179411517299544, 0.4738411601417699, 0.3446117528303781, 0.17230587641518905, 0.9877440955402043, 0.9607523264182938, 0.006209334069229576, 0.9872841170075025, 0.9816908258157389, 0.9389016389164018, 0.9469502570497927, 0.9085854068930789, 0.07900742668635469, 0.9829224346125088, 0.19307660521780312, 0.0594081862208625, 0.7426023277607812, 0.8634582418182709, 0.12739547830105638, 0.9695501419487371, 0.9100635118000129, 0.06825476338500097, 0.9848982530513373, 0.011452305268038804, 0.9719544095068167, 0.9775721694933812, 0.013518359327472624, 0.013518359327472624, 0.7705464816659395, 0.20277538991208935, 0.7091593432692302, 0.29018174597744606, 0.0005214406935803163, 0.9955328535481935, 0.004171227040006398, 0.9705868837360093, 0.95845203145664, 0.035498223387282965, 0.9819811299849818, 0.03624298063812878, 0.24766036769388, 0.7127786192165327, 0.9183093997688215, 0.8484788368738201, 0.14545351489265487, 0.006060563120527287, 0.9669150865626294, 0.8915075205275791, 0.10776464533849857, 0.9467204738959649, 0.9503428586427172, 0.958878683674775, 0.22399434880009844, 0.7479133341291423, 0.00569477157966352, 0.02277908631865408, 0.9490423393253029, 0.20168422419929033, 0.6991719772242065, 0.06722807473309678, 0.02689122989323871, 0.0734780941251526, 0.9184761765644075, 0.9741118590867209, 0.14470138589763482, 0.84189897249533, 0.9837382071847869, 0.45239259476808646, 0.10644531641602034, 0.42578126566408137, 0.019958496828003814, 0.9887645043920416, 0.9366631905445862, 0.6840738180237281, 0.006641493378871147, 0.05313194703096918, 0.16603733447177868, 0.09298090730419606, 0.9821438347916552, 0.9597877736725148, 0.9576404219196807, 0.2597343507744232, 0.27796132275859325, 0.07746463093272271, 0.2323938927981681, 0.1503725188694029, 0.9454192861071966, 0.9844772555397606, 0.9975756936833517, 0.004524817895050033, 0.9909351190159571, 0.0400929250869756, 0.9622302020874145, 0.978683274825459, 0.24123380772477598, 0.05360751282772799, 0.16975712395447198, 0.13401878206932, 0.393121760736672, 0.21286111995042034, 0.23718810508761123, 0.14596191082314539, 0.39531350847935204, 0.006081746284297724, 0.25399921449933904, 0.7229208412673496, 0.9431135693810669, 0.927729815955241, 0.9450861185425437, 0.16926726858409397, 0.8288259358255635, 0.8112501763242999, 0.12059124242658512, 0.05481420110299323, 0.5523794659405894, 0.06971779667211322, 0.33250026105161695, 0.02145162974526561, 0.02681453718158201, 0.92667586105325, 0.030889195368441664, 0.97417964380269, 0.956762700518162, 0.03189209001727207, 0.5606751675251745, 0.19867768699090269, 0.07408320531864168, 0.16668721196694378, 0.728863448906039, 0.14890758633564238, 0.10188413801912374, 0.023511724158259324, 0.9508570452955131, 0.7068291191970382, 0.025064862382873695, 0.010025944953149478, 0.2556615963053117, 0.005012972476574739, 0.30627414275807097, 0.5216231493848396, 0.08135406917011259, 0.08135406917011259, 0.004785533480594859, 0.9715726529937663, 0.022594712860320144, 0.01291430437671594, 0.5101150228802795, 0.22277175049834994, 0.2550575114401398, 0.03230371167877335, 0.2907334051089601, 0.5103986445246189, 0.16797930072962142, 0.969829954948446, 0.013469860485395084, 0.026939720970790167, 0.9213523568695674, 0.9260931657777154, 0.38176832996755855, 0.5605712186865417, 0.024162552529592315, 0.03382757354142924, 0.9692815418089819, 0.19791006379489154, 0.27377558824959997, 0.31665610207182643, 0.02638800850598554, 0.18471605954189876, 0.011940550769458573, 0.011940550769458573, 0.8716602061704758, 0.09552440615566858, 0.0321390252063023, 0.21808624247133707, 0.7437888690601391, 0.002295644657593022, 0.002295644657593022, 0.9353037614697614, 0.9647767553483373, 0.027398262774584615, 0.013699131387292307, 0.9589391971104615, 0.473468542254485, 0.09712175225733025, 0.036420657096498846, 0.09712175225733025, 0.29136525677199077, 0.7506385000308594, 0.24671335315699575, 0.10563387164656234, 0.2619720016834746, 0.342253744134862, 0.28309877601278705, 0.008450709731724987, 0.9709031071705818, 0.9859297346299118], \"Term\": [\"5\", \"ability\", \"absolute\", \"add\", \"add\", \"add\", \"ahead\", \"aid\", \"already\", \"already\", \"also\", \"also\", \"also\", \"also\", \"also\", \"amaze\", \"amaze\", \"amaze\", \"amazing\", \"analytics\", \"answer\", \"answer\", \"answer\", \"anyone\", \"anyone\", \"application\", \"application\", \"area\", \"area\", \"aspect\", \"assignment\", \"assignment\", \"author\", \"awesome\", \"bad\", \"basic\", \"basic\", \"basic\", \"basic\", \"become\", \"become\", \"beginner\", \"beginner\", \"behind\", \"believe\", \"benefit\", \"best\", \"best\", \"better\", \"bit\", \"bit\", \"boring\", \"break\", \"brief\", \"brief\", \"brilliant\", \"broad\", \"career\", \"career\", \"certificate\", \"certificate\", \"challenge\", \"class\", \"class\", \"class\", \"clear\", \"clear\", \"clear\", \"clear\", \"code\", \"concept\", \"concept\", \"concept\", \"content\", \"content\", \"content\", \"content\", \"cool\", \"could\", \"could\", \"could\", \"could\", \"cours\", \"course\", \"course\", \"course\", \"course\", \"course\", \"coursera\", \"curious\", \"curious\", \"d\", \"daily\", \"data\", \"data\", \"data\", \"data\", \"data\", \"datascience\", \"de\", \"decent\", \"decide\", \"deep\", \"develop\", \"develop\", \"difference\", \"difficult\", \"discuss\", \"dive\", \"earn\", \"easy\", \"easy\", \"easy\", \"encouraging\", \"enjoy\", \"enjoy\", \"enjoy\", \"enjoy\", \"enlighten\", \"enough\", \"enter\", \"ever\", \"everyone\", \"everyone\", \"everyone\", \"everyone\", \"exactly\", \"exactly\", \"examples\", \"excellent\", \"excellent\", \"excellent\", \"exceptional\", \"exceptional\", \"experience\", \"experience\", \"experience\", \"experience\", \"experience\", \"explain\", \"explain\", \"explain\", \"explanation\", \"exposure\", \"familiar\", \"far\", \"feel\", \"feel\", \"feel\", \"feel\", \"field\", \"field\", \"field\", \"file\", \"final\", \"financial\", \"find\", \"find\", \"find\", \"find\", \"find\", \"fluff\", \"follow\", \"form\", \"form\", \"general\", \"gentle\", \"get\", \"get\", \"get\", \"get\", \"get\", \"give\", \"give\", \"give\", \"give\", \"give\", \"grade\", \"guide\", \"happy\", \"happy\", \"happy\", \"happy\", \"hard\", \"head\", \"help\", \"help\", \"help\", \"help\", \"help\", \"helpful\", \"helpful\", \"helpful\", \"helpful\", \"highly\", \"ibm\", \"ibm\", \"ibm\", \"ibm\", \"idea\", \"idea\", \"include\", \"include\", \"include\", \"individual\", \"industry\", \"industry\", \"info\", \"information\", \"information\", \"information\", \"information\", \"information\", \"informative\", \"informative\", \"insight\", \"insightful\", \"insightful\", \"insightful\", \"instead\", \"instructor\", \"instructor\", \"interactive\", \"interest\", \"interest\", \"interest\", \"interest\", \"interest\", \"interesting\", \"interesting\", \"intro\", \"intro\", \"intro\", \"introduce\", \"introduce\", \"introduction\", \"introduction\", \"introduction\", \"introductory\", \"introductory\", \"introductory\", \"journey\", \"journey\", \"kick\", \"know\", \"know\", \"know\", \"know\", \"knowledge\", \"knowledge\", \"knowledge\", \"knowledge\", \"knowledge\", \"lack\", \"learn\", \"learn\", \"learn\", \"learn\", \"learn\", \"learnt\", \"learnt\", \"learnt\", \"least\", \"lecture\", \"lecture\", \"lecture\", \"level\", \"level\", \"level\", \"listen\", \"little\", \"little\", \"look\", \"look\", \"look\", \"look\", \"look\", \"lot\", \"lot\", \"lot\", \"lot\", \"lot\", \"love\", \"love\", \"love\", \"love\", \"machine\", \"machine\", \"make\", \"make\", \"make\", \"make\", \"make\", \"match\", \"material\", \"material\", \"material\", \"material\", \"meet\", \"mining\", \"mining\", \"mix\", \"money\", \"much\", \"much\", \"much\", \"much\", \"much\", \"murtaza\", \"navigate\", \"necessary\", \"need\", \"need\", \"need\", \"need\", \"network\", \"neural\", \"new\", \"new\", \"new\", \"new\", \"new\", \"newbie\", \"nicely\", \"note\", \"novice\", \"one\", \"one\", \"one\", \"one\", \"one\", \"online\", \"online\", \"opportunity\", \"opportunity\", \"opportunity\", \"opportunity\", \"organize\", \"organize\", \"overall\", \"overall\", \"overall\", \"overall\", \"overview\", \"overview\", \"pace\", \"part\", \"part\", \"part\", \"part\", \"part\", \"particularly\", \"path\", \"peer\", \"peer\", \"people\", \"people\", \"people\", \"perfect\", \"perfect\", \"perfect\", \"platform\", \"platform\", \"platform\", \"practical\", \"practical\", \"practical\", \"precise\", \"presentation\", \"profession\", \"project\", \"project\", \"project\", \"provide\", \"provide\", \"provide\", \"provide\", \"question\", \"question\", \"question\", \"question\", \"quick\", \"quite\", \"quite\", \"quite\", \"quiz\", \"quiz\", \"quiz\", \"quizzes\", \"rather\", \"read\", \"read\", \"read\", \"read\", \"reading\", \"receive\", \"recommend\", \"recommend\", \"recommended\", \"redundant\", \"reference\", \"relate\", \"relate\", \"repetitive\", \"report\", \"report\", \"report\", \"require\", \"require\", \"requirement\", \"rest\", \"rest\", \"review\", \"review\", \"rich\", \"role\", \"say\", \"say\", \"say\", \"say\", \"science\", \"science\", \"science\", \"scientist\", \"scientist\", \"scope\", \"sense\", \"sense\", \"short\", \"simple\", \"simple\", \"simple\", \"simplify\", \"skill\", \"skill\", \"skill\", \"skip\", \"someone\", \"someone\", \"specific\", \"spend\", \"star\", \"start\", \"start\", \"start\", \"start\", \"starter\", \"step\", \"step\", \"step\", \"step\", \"story\", \"story\", \"straightforward\", \"structure\", \"structure\", \"structured\", \"student\", \"student\", \"student\", \"student\", \"stuff\", \"style\", \"subject\", \"subject\", \"subject\", \"subject\", \"subject\", \"substance\", \"super\", \"superb\", \"take\", \"take\", \"take\", \"take\", \"take\", \"teacher\", \"team\", \"thank\", \"thanks\", \"thanks\", \"thats\", \"thats\", \"theory\", \"thing\", \"thing\", \"thing\", \"thing\", \"thing\", \"think\", \"think\", \"think\", \"think\", \"think\", \"though\", \"though\", \"three\", \"throughout\", \"thus\", \"time\", \"time\", \"tool\", \"tool\", \"tool\", \"topic\", \"topic\", \"topic\", \"topic\", \"topic\", \"towards\", \"towards\", \"transcript\", \"two\", \"two\", \"understand\", \"understand\", \"understand\", \"understand\", \"understanding\", \"understanding\", \"understanding\", \"understanding\", \"unnecessary\", \"use\", \"use\", \"use\", \"use\", \"use\", \"useful\", \"useful\", \"useful\", \"useful\", \"useful\", \"various\", \"various\", \"video\", \"video\", \"video\", \"video\", \"videos\", \"videos\", \"videos\", \"videos\", \"view\", \"view\", \"view\", \"visual\", \"walk\", \"want\", \"want\", \"want\", \"want\", \"waste\", \"way\", \"way\", \"way\", \"way\", \"way\", \"week\", \"week\", \"week\", \"week\", \"well\", \"well\", \"well\", \"well\", \"well\", \"wellversed\", \"whats\", \"wonderful\", \"wonderful\", \"wonderful\", \"work\", \"work\", \"work\", \"work\", \"work\", \"world\", \"world\", \"would\", \"would\", \"would\", \"would\", \"would\", \"wow\", \"write\"]}, \"R\": 30, \"lambda.step\": 0.01, \"plot.opts\": {\"xlab\": \"PC1\", \"ylab\": \"PC2\"}, \"topic.order\": [4, 5, 1, 2, 3]};\n",
       "\n",
       "function LDAvis_load_lib(url, callback){\n",
       "  var s = document.createElement('script');\n",
       "  s.src = url;\n",
       "  s.async = true;\n",
       "  s.onreadystatechange = s.onload = callback;\n",
       "  s.onerror = function(){console.warn(\"failed to load library \" + url);};\n",
       "  document.getElementsByTagName(\"head\")[0].appendChild(s);\n",
       "}\n",
       "\n",
       "if(typeof(LDAvis) !== \"undefined\"){\n",
       "   // already loaded: just create the visualization\n",
       "   !function(LDAvis){\n",
       "       new LDAvis(\"#\" + \"ldavis_el369201405792751342883746128505\", ldavis_el369201405792751342883746128505_data);\n",
       "   }(LDAvis);\n",
       "}else if(typeof define === \"function\" && define.amd){\n",
       "   // require.js is available: use it to load d3/LDAvis\n",
       "   require.config({paths: {d3: \"https://d3js.org/d3.v5\"}});\n",
       "   require([\"d3\"], function(d3){\n",
       "      window.d3 = d3;\n",
       "      LDAvis_load_lib(\"https://cdn.jsdelivr.net/gh/bmabey/pyLDAvis@3.2.2/pyLDAvis/js/ldavis.v3.0.0.js\", function(){\n",
       "        new LDAvis(\"#\" + \"ldavis_el369201405792751342883746128505\", ldavis_el369201405792751342883746128505_data);\n",
       "      });\n",
       "    });\n",
       "}else{\n",
       "    // require.js not available: dynamically load d3 & LDAvis\n",
       "    LDAvis_load_lib(\"https://d3js.org/d3.v5.js\", function(){\n",
       "         LDAvis_load_lib(\"https://cdn.jsdelivr.net/gh/bmabey/pyLDAvis@3.2.2/pyLDAvis/js/ldavis.v3.0.0.js\", function(){\n",
       "                 new LDAvis(\"#\" + \"ldavis_el369201405792751342883746128505\", ldavis_el369201405792751342883746128505_data);\n",
       "            })\n",
       "         });\n",
       "}\n",
       "</script>"
      ],
      "text/plain": [
       "PreparedData(topic_coordinates=              x         y  topics  cluster       Freq\n",
       "topic                                                \n",
       "3      0.217976  0.042271       1        1  35.932365\n",
       "4      0.200273  0.006308       2        1  21.999745\n",
       "0     -0.098485 -0.011634       3        1  14.752951\n",
       "1     -0.203778  0.181205       4        1  14.216016\n",
       "2     -0.115986 -0.218150       5        1  13.098923, topic_info=             Term         Freq        Total Category  logprob  loglift\n",
       "8            data  4854.000000  4854.000000  Default  30.0000  30.0000\n",
       "21        science  3835.000000  3835.000000  Default  29.0000  29.0000\n",
       "7          course  4026.000000  4026.000000  Default  28.0000  28.0000\n",
       "55      excellent   548.000000   548.000000  Default  27.0000  27.0000\n",
       "40   introduction  1151.000000  1151.000000  Default  26.0000  26.0000\n",
       "..            ...          ...          ...      ...      ...      ...\n",
       "172    understand    98.738656   593.926786   Topic5  -4.4850   0.2384\n",
       "313         thing    44.392315   111.924611   Topic5  -5.2844   1.1079\n",
       "166          work    48.470698   164.741673   Topic5  -5.1965   0.8092\n",
       "251           way    55.573775   303.168009   Topic5  -5.0598   0.3361\n",
       "42        content    59.366101   406.067845   Topic5  -4.9938   0.1098\n",
       "\n",
       "[337 rows x 6 columns], token_table=      Topic      Freq      Term\n",
       "term                           \n",
       "1292      4  0.952040         5\n",
       "853       3  0.972122   ability\n",
       "984       2  0.980650  absolute\n",
       "180       3  0.229267       add\n",
       "180       4  0.708644       add\n",
       "...     ...       ...       ...\n",
       "202       3  0.342254     would\n",
       "202       4  0.283099     would\n",
       "202       5  0.008451     would\n",
       "1849      5  0.970903       wow\n",
       "1866      4  0.985930     write\n",
       "\n",
       "[586 rows x 3 columns], R=30, lambda_step=0.01, plot_opts={'xlab': 'PC1', 'ylab': 'PC2'}, topic_order=[4, 5, 1, 2, 3])"
      ]
     },
     "execution_count": 31,
     "metadata": {},
     "output_type": "execute_result"
    }
   ],
   "source": [
    "# Visualize the topics\n",
    "pyLDAvis.enable_notebook()\n",
    "vis = pyLDAvis.gensim.prepare(lda_model, corpus, dictionary)\n",
    "vis"
   ]
  },
  {
   "cell_type": "markdown",
   "metadata": {},
   "source": [
    "What is topic perplexity and topic coherence: https://towardsdatascience.com/evaluate-topic-model-in-python-latent-dirichlet-allocation-lda-7d57484bb5d0"
   ]
  },
  {
   "cell_type": "code",
   "execution_count": 32,
   "metadata": {},
   "outputs": [
    {
     "name": "stdout",
     "output_type": "stream",
     "text": [
      "\n",
      "Perplexity:  -6.356182763326303\n",
      "\n",
      "Coherence Score:  0.5248414568179964\n"
     ]
    }
   ],
   "source": [
    "# Calculate Perplexity and Coherence\n",
    "\n",
    "# Compute Perplexity\n",
    "\n",
    "print('\\nPerplexity: ', lda_model.log_perplexity(corpus))  # a measure of how good the model is. The lower the better.\n",
    "\n",
    "# Compute Coherence Score\n",
    "\n",
    "coherence_model_lda = CoherenceModel(model = lda_model, texts = df['preprocessed'], dictionary = dictionary, coherence = 'c_v')\n",
    "coherence_lda = coherence_model_lda.get_coherence()\n",
    "print('\\nCoherence Score: ', coherence_lda)"
   ]
  },
  {
   "cell_type": "markdown",
   "metadata": {},
   "source": [
    "## Hyperparameter Tuning\n",
    "\n",
    "Code references\n",
    "\n",
    "Find the optimal number of topics, alpha and beta: https://towardsdatascience.com/evaluate-topic-model-in-python-latent-dirichlet-allocation-lda-7d57484bb5d0\n",
    "\n",
    "What is alpha and beta: https://www.thoughtvector.io/blog/lda-alpha-and-beta-parameters-the-intuition/"
   ]
  },
  {
   "cell_type": "markdown",
   "metadata": {},
   "source": [
    "## Calculate the coherence score\n",
    "\n",
    "Code reference: \n",
    "\n",
    "https://www.machinelearningplus.com/nlp/topic-modeling-gensim-python/#17howtofindtheoptimalnumberoftopicsforlda"
   ]
  },
  {
   "cell_type": "code",
   "execution_count": 33,
   "metadata": {},
   "outputs": [],
   "source": [
    "# Determine the optiomal number of topics by calculating the coherence score\n",
    "\n",
    "# Define function for calculating coherence score\n",
    "\n",
    "def compute_coherence_values(dictionary, corpus, texts, limit, start = 2, step = 3):\n",
    "    \"\"\"\n",
    "    Compute c_v coherence for various number of topics\n",
    "\n",
    "    Parameters:\n",
    "    ----------\n",
    "    dictionary : Gensim dictionary\n",
    "    corpus : Gensim corpus\n",
    "    texts : List of input texts\n",
    "    limit : Max num of topics\n",
    "\n",
    "    Returns:\n",
    "    -------\n",
    "    model_list : List of LDA topic models\n",
    "    coherence_values : Coherence values corresponding to the LDA model with respective number of topics\n",
    "    \"\"\"\n",
    "    coherence_values = []\n",
    "    model_list = []\n",
    "    for num_topics in range(start, limit, step):\n",
    "        model = LDA(corpus = corpus, num_topics = num_topics, id2word = dictionary, random_state = 100,\n",
    "                chunksize = 100, passes = 10)\n",
    "        model_list.append(model)\n",
    "        coherencemodel = CoherenceModel(model = model, texts = texts, dictionary = dictionary, coherence = 'c_v')\n",
    "        coherence_values.append(coherencemodel.get_coherence())\n",
    "\n",
    "    return model_list, coherence_values"
   ]
  },
  {
   "cell_type": "code",
   "execution_count": 34,
   "metadata": {},
   "outputs": [],
   "source": [
    "# Can take a long time to run.\n",
    "\n",
    "model_list, coherence_values = compute_coherence_values(dictionary = dictionary, corpus = corpus, texts = df['preprocessed'], start = 2, limit = 10, step = 1)"
   ]
  },
  {
   "cell_type": "code",
   "execution_count": 35,
   "metadata": {},
   "outputs": [
    {
     "data": {
      "image/png": "[encoded data removed]",
      "text/plain": [
       "<Figure size 432x288 with 1 Axes>"
      ]
     },
     "metadata": {
      "needs_background": "light"
     },
     "output_type": "display_data"
    }
   ],
   "source": [
    "# Show graph\n",
    "\n",
    "limit = 10; start = 2; step = 1;\n",
    "x = range(start, limit, step)\n",
    "plt.plot(x, coherence_values)\n",
    "plt.xlabel(\"Num Topics\")\n",
    "plt.ylabel(\"Coherence score\")\n",
    "plt.legend((\"coherence_values\"), loc = 'best')\n",
    "plt.show()\n"
   ]
  },
  {
   "cell_type": "code",
   "execution_count": 36,
   "metadata": {},
   "outputs": [
    {
     "name": "stdout",
     "output_type": "stream",
     "text": [
      "Num Topics = 2  has Coherence Value of 0.4595\n",
      "Num Topics = 3  has Coherence Value of 0.5119\n",
      "Num Topics = 4  has Coherence Value of 0.4648\n",
      "Num Topics = 5  has Coherence Value of 0.5154\n",
      "Num Topics = 6  has Coherence Value of 0.4854\n",
      "Num Topics = 7  has Coherence Value of 0.4381\n",
      "Num Topics = 8  has Coherence Value of 0.4687\n",
      "Num Topics = 9  has Coherence Value of 0.468\n"
     ]
    }
   ],
   "source": [
    "# Print the coherence scores\n",
    "\n",
    "for m, cv in zip(x, coherence_values):\n",
    "    print(\"Num Topics =\", m, \" has Coherence Value of\", round(cv, 4))"
   ]
  },
  {
   "cell_type": "markdown",
   "metadata": {},
   "source": [
    "## LDA Mallet Model\n",
    "\n",
    "Code reference:\n",
    "\n",
    "https://www.machinelearningplus.com/nlp/topic-modeling-gensim-python/#17howtofindtheoptimalnumberoftopicsforlda"
   ]
  },
  {
   "cell_type": "code",
   "execution_count": 37,
   "metadata": {},
   "outputs": [],
   "source": [
    "mallet_path = '/Users/siriamanda/Desktop/LNU-VT-2021/Thesis/11-data-analysis/mallet-2.0.8/bin/mallet' # update this path\n",
    "ldamallet = gensim.models.wrappers.LdaMallet(mallet_path, corpus = corpus, num_topics = 5, id2word = dictionary)"
   ]
  },
  {
   "cell_type": "code",
   "execution_count": 38,
   "metadata": {},
   "outputs": [
    {
     "name": "stdout",
     "output_type": "stream",
     "text": [
      "[(0,\n",
      "  [('science', 0.20898702304861513),\n",
      "   ('data', 0.20191748983149332),\n",
      "   ('understand', 0.062366840983924074),\n",
      "   ('give', 0.057718380786364515),\n",
      "   ('basic', 0.05762153786558202),\n",
      "   ('helpful', 0.02459810187875266),\n",
      "   ('clear', 0.02430757311640519),\n",
      "   ('explain', 0.023339143908580284),\n",
      "   ('insight', 0.01917489831493318),\n",
      "   ('world', 0.019078055394150688)]),\n",
      " (1,\n",
      "  [('excellent', 0.06145138467758237),\n",
      "   ('start', 0.05508388922579341),\n",
      "   ('field', 0.05508388922579341),\n",
      "   ('beginner', 0.04679603800283),\n",
      "   ('introductory', 0.04265211239134829),\n",
      "   ('content', 0.03871032949262179),\n",
      "   ('experience', 0.028704265211239133),\n",
      "   ('overview', 0.026986052152819892),\n",
      "   ('provide', 0.026682838083687082),\n",
      "   ('information', 0.02415605417424702)]),\n",
      " (2,\n",
      "  [('learn', 0.0873405299313052),\n",
      "   ('easy', 0.035034347399411185),\n",
      "   ('knowledge', 0.03346418056918547),\n",
      "   ('informative', 0.03218842001962709),\n",
      "   ('video', 0.031207065750736014),\n",
      "   ('material', 0.026987242394504417),\n",
      "   ('people', 0.021786064769381747),\n",
      "   ('make', 0.02070657507360157),\n",
      "   ('skill', 0.0168792934249264),\n",
      "   ('subject', 0.015407262021589794)]),\n",
      " (3,\n",
      "  [('data', 0.30819132455460885),\n",
      "   ('science', 0.18115801704105344),\n",
      "   ('introduction', 0.1010844306738962),\n",
      "   ('scientist', 0.07184353214562354),\n",
      "   ('concept', 0.020526723470178157),\n",
      "   ('career', 0.01994577846630519),\n",
      "   ('application', 0.012393493415956624),\n",
      "   ('expect', 0.009972889233152595),\n",
      "   ('industry', 0.008907823392718823),\n",
      "   ('definition', 0.0087141750580945)]),\n",
      " (4,\n",
      "  [('coursera', 0.02691840358912048),\n",
      "   ('ibm', 0.02420786989438265),\n",
      "   ('complete', 0.01710440228058697),\n",
      "   ('time', 0.015795868772782502),\n",
      "   ('lot', 0.01532853537713805),\n",
      "   ('student', 0.013739601831946911),\n",
      "   ('read', 0.013365735115431349),\n",
      "   ('question', 0.012057201607626881),\n",
      "   ('professional', 0.011309468174595756),\n",
      "   ('quiz', 0.011216001495466865)])]\n",
      "\n",
      "Coherence Score:  0.38093995582802875\n"
     ]
    }
   ],
   "source": [
    "# Show Topics\n",
    "pprint(ldamallet.show_topics(formatted = False))\n",
    "\n",
    "# Compute Coherence Score\n",
    "coherence_model_ldamallet = CoherenceModel(model = ldamallet, texts = df['preprocessed'], dictionary = dictionary, coherence = 'c_v')\n",
    "coherence_ldamallet = coherence_model_ldamallet.get_coherence()\n",
    "print('\\nCoherence Score: ', coherence_ldamallet)\n",
    "\n",
    "# The coherence score using the Mallet Model is lower than the original LDA Model"
   ]
  },
  {
   "cell_type": "code",
   "execution_count": null,
   "metadata": {},
   "outputs": [],
   "source": []
  },
  {
   "cell_type": "code",
   "execution_count": null,
   "metadata": {},
   "outputs": [],
   "source": []
  }
 ],
 "metadata": {
  "kernelspec": {
   "display_name": "Python 3",
   "language": "python",
   "name": "python3"
  },
  "language_info": {
   "codemirror_mode": {
    "name": "ipython",
    "version": 3
   },
   "file_extension": ".py",
   "mimetype": "text/x-python",
   "name": "python",
   "nbconvert_exporter": "python",
   "pygments_lexer": "ipython3",
   "version": "3.7.6"
  }
 },
 "nbformat": 4,
 "nbformat_minor": 4
}
