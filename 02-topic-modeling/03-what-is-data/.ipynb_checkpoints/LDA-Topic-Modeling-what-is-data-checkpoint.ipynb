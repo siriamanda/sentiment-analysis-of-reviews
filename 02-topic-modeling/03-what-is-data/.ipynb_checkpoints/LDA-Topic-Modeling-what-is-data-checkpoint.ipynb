{
 "cells": [
  {
   "cell_type": "code",
   "execution_count": 1,
   "metadata": {},
   "outputs": [
    {
     "name": "stderr",
     "output_type": "stream",
     "text": [
      "/Users/siriamanda/opt/anaconda3/lib/python3.7/site-packages/scipy/sparse/sparsetools.py:21: DeprecationWarning: `scipy.sparse.sparsetools` is deprecated!\n",
      "scipy.sparse.sparsetools is a private module for scipy.sparse, and should not be used.\n",
      "  _deprecated()\n",
      "/Users/siriamanda/opt/anaconda3/lib/python3.7/site-packages/nltk/decorators.py:70: DeprecationWarning: `formatargspec` is deprecated since Python 3.5. Use `signature` and the `Signature` object directly\n",
      "  formatvalue=lambda value: \"\")[1:-1]\n"
     ]
    }
   ],
   "source": [
    "# Import the libraries\n",
    "\n",
    "import pandas as pd \n",
    "import numpy as np\n",
    "\n",
    "from pprint import pprint\n",
    "\n",
    "# libraries for visualization\n",
    "import pyLDAvis\n",
    "import pyLDAvis.gensim\n",
    "import matplotlib.pyplot as plt\n",
    "import seaborn as sns\n",
    "%matplotlib inline\n",
    "\n",
    "import re\n",
    "\n",
    "import spacy\n",
    "\n",
    "import gensim\n",
    "from gensim import corpora, models\n",
    "from gensim.utils import simple_preprocess\n",
    "from gensim.models import CoherenceModel\n",
    "\n",
    "import nltk\n",
    "from nltk import FreqDist\n",
    "from nltk.corpus import stopwords\n",
    "from nltk.tokenize import RegexpTokenizer\n",
    "from nltk.stem import WordNetLemmatizer, SnowballStemmer\n",
    "from nltk.tag import pos_tag, pos_tag_sents\n",
    "from nltk.corpus import wordnet\n",
    "\n",
    "import warnings\n",
    "warnings.filterwarnings(\"ignore\")\n"
   ]
  },
  {
   "cell_type": "markdown",
   "metadata": {},
   "source": [
    "Code references:\n",
    "\n",
    "https://www.analyticsvidhya.com/blog/2018/10/mining-online-reviews-topic-modeling-lda/\n"
   ]
  },
  {
   "cell_type": "code",
   "execution_count": 2,
   "metadata": {},
   "outputs": [],
   "source": [
    "df = pd.read_csv('/Users/siriamanda/Desktop/LNU-VT-2021/Thesis/11-data-analysis/sentiment-analysis-of-reviews/01-sentiment-analysis/03-what-is-data/VADER-what-is-data.csv')"
   ]
  },
  {
   "cell_type": "code",
   "execution_count": 3,
   "metadata": {},
   "outputs": [
    {
     "data": {
      "text/html": [
       "<div>\n",
       "<style scoped>\n",
       "    .dataframe tbody tr th:only-of-type {\n",
       "        vertical-align: middle;\n",
       "    }\n",
       "\n",
       "    .dataframe tbody tr th {\n",
       "        vertical-align: top;\n",
       "    }\n",
       "\n",
       "    .dataframe thead th {\n",
       "        text-align: right;\n",
       "    }\n",
       "</style>\n",
       "<table border=\"1\" class=\"dataframe\">\n",
       "  <thead>\n",
       "    <tr style=\"text-align: right;\">\n",
       "      <th></th>\n",
       "      <th>Unnamed: 0</th>\n",
       "      <th>date</th>\n",
       "      <th>review</th>\n",
       "      <th>rating</th>\n",
       "      <th>status</th>\n",
       "      <th>length</th>\n",
       "      <th>label</th>\n",
       "      <th>language_scores</th>\n",
       "      <th>language</th>\n",
       "      <th>scores</th>\n",
       "      <th>compound</th>\n",
       "      <th>sentiment</th>\n",
       "    </tr>\n",
       "  </thead>\n",
       "  <tbody>\n",
       "    <tr>\n",
       "      <th>0</th>\n",
       "      <td>0</td>\n",
       "      <td>2021-03-11</td>\n",
       "      <td>This course has a good overview of data scienc...</td>\n",
       "      <td>5</td>\n",
       "      <td>completer</td>\n",
       "      <td>371</td>\n",
       "      <td>pos</td>\n",
       "      <td>{'language': 'en', 'score': 0.9999957253533018}</td>\n",
       "      <td>en</td>\n",
       "      <td>{'neg': 0.0, 'neu': 0.803, 'pos': 0.197, 'comp...</td>\n",
       "      <td>0.8999</td>\n",
       "      <td>pos</td>\n",
       "    </tr>\n",
       "    <tr>\n",
       "      <th>1</th>\n",
       "      <td>1</td>\n",
       "      <td>2021-03-11</td>\n",
       "      <td>Greate Course</td>\n",
       "      <td>5</td>\n",
       "      <td>completer</td>\n",
       "      <td>13</td>\n",
       "      <td>pos</td>\n",
       "      <td>{'language': 'en', 'score': 0.999994475073214}</td>\n",
       "      <td>en</td>\n",
       "      <td>{'neg': 0.0, 'neu': 1.0, 'pos': 0.0, 'compound...</td>\n",
       "      <td>0.0000</td>\n",
       "      <td>neu</td>\n",
       "    </tr>\n",
       "    <tr>\n",
       "      <th>2</th>\n",
       "      <td>2</td>\n",
       "      <td>2021-03-10</td>\n",
       "      <td>have an overall understanding of data science ...</td>\n",
       "      <td>5</td>\n",
       "      <td>completer</td>\n",
       "      <td>70</td>\n",
       "      <td>pos</td>\n",
       "      <td>{'language': 'en', 'score': 0.9999964991174284}</td>\n",
       "      <td>en</td>\n",
       "      <td>{'neg': 0.0, 'neu': 1.0, 'pos': 0.0, 'compound...</td>\n",
       "      <td>0.0000</td>\n",
       "      <td>neu</td>\n",
       "    </tr>\n",
       "    <tr>\n",
       "      <th>3</th>\n",
       "      <td>3</td>\n",
       "      <td>2021-03-10</td>\n",
       "      <td>Course creates interest to keep on learning</td>\n",
       "      <td>4</td>\n",
       "      <td>completer</td>\n",
       "      <td>43</td>\n",
       "      <td>pos</td>\n",
       "      <td>{'language': 'en', 'score': 0.9999949953681738}</td>\n",
       "      <td>en</td>\n",
       "      <td>{'neg': 0.0, 'neu': 0.495, 'pos': 0.505, 'comp...</td>\n",
       "      <td>0.6249</td>\n",
       "      <td>pos</td>\n",
       "    </tr>\n",
       "    <tr>\n",
       "      <th>4</th>\n",
       "      <td>4</td>\n",
       "      <td>2021-03-10</td>\n",
       "      <td>Even though I have been self-teaching for abou...</td>\n",
       "      <td>5</td>\n",
       "      <td>completer</td>\n",
       "      <td>148</td>\n",
       "      <td>pos</td>\n",
       "      <td>{'language': 'en', 'score': 0.9999963070938086}</td>\n",
       "      <td>en</td>\n",
       "      <td>{'neg': 0.0, 'neu': 0.921, 'pos': 0.079, 'comp...</td>\n",
       "      <td>0.2263</td>\n",
       "      <td>pos</td>\n",
       "    </tr>\n",
       "  </tbody>\n",
       "</table>\n",
       "</div>"
      ],
      "text/plain": [
       "   Unnamed: 0        date                                             review  \\\n",
       "0           0  2021-03-11  This course has a good overview of data scienc...   \n",
       "1           1  2021-03-11                                      Greate Course   \n",
       "2           2  2021-03-10  have an overall understanding of data science ...   \n",
       "3           3  2021-03-10        Course creates interest to keep on learning   \n",
       "4           4  2021-03-10  Even though I have been self-teaching for abou...   \n",
       "\n",
       "   rating     status  length label  \\\n",
       "0       5  completer     371   pos   \n",
       "1       5  completer      13   pos   \n",
       "2       5  completer      70   pos   \n",
       "3       4  completer      43   pos   \n",
       "4       5  completer     148   pos   \n",
       "\n",
       "                                   language_scores language  \\\n",
       "0  {'language': 'en', 'score': 0.9999957253533018}       en   \n",
       "1   {'language': 'en', 'score': 0.999994475073214}       en   \n",
       "2  {'language': 'en', 'score': 0.9999964991174284}       en   \n",
       "3  {'language': 'en', 'score': 0.9999949953681738}       en   \n",
       "4  {'language': 'en', 'score': 0.9999963070938086}       en   \n",
       "\n",
       "                                              scores  compound sentiment  \n",
       "0  {'neg': 0.0, 'neu': 0.803, 'pos': 0.197, 'comp...    0.8999       pos  \n",
       "1  {'neg': 0.0, 'neu': 1.0, 'pos': 0.0, 'compound...    0.0000       neu  \n",
       "2  {'neg': 0.0, 'neu': 1.0, 'pos': 0.0, 'compound...    0.0000       neu  \n",
       "3  {'neg': 0.0, 'neu': 0.495, 'pos': 0.505, 'comp...    0.6249       pos  \n",
       "4  {'neg': 0.0, 'neu': 0.921, 'pos': 0.079, 'comp...    0.2263       pos  "
      ]
     },
     "execution_count": 3,
     "metadata": {},
     "output_type": "execute_result"
    }
   ],
   "source": [
    "df.head()"
   ]
  },
  {
   "cell_type": "code",
   "execution_count": 4,
   "metadata": {},
   "outputs": [],
   "source": [
    "df.drop(['Unnamed: 0', 'language_scores', 'language', 'scores'], axis = 1, inplace = True)"
   ]
  },
  {
   "cell_type": "code",
   "execution_count": 5,
   "metadata": {},
   "outputs": [
    {
     "data": {
      "text/html": [
       "<div>\n",
       "<style scoped>\n",
       "    .dataframe tbody tr th:only-of-type {\n",
       "        vertical-align: middle;\n",
       "    }\n",
       "\n",
       "    .dataframe tbody tr th {\n",
       "        vertical-align: top;\n",
       "    }\n",
       "\n",
       "    .dataframe thead th {\n",
       "        text-align: right;\n",
       "    }\n",
       "</style>\n",
       "<table border=\"1\" class=\"dataframe\">\n",
       "  <thead>\n",
       "    <tr style=\"text-align: right;\">\n",
       "      <th></th>\n",
       "      <th>date</th>\n",
       "      <th>review</th>\n",
       "      <th>rating</th>\n",
       "      <th>status</th>\n",
       "      <th>length</th>\n",
       "      <th>label</th>\n",
       "      <th>compound</th>\n",
       "      <th>sentiment</th>\n",
       "    </tr>\n",
       "  </thead>\n",
       "  <tbody>\n",
       "    <tr>\n",
       "      <th>0</th>\n",
       "      <td>2021-03-11</td>\n",
       "      <td>This course has a good overview of data scienc...</td>\n",
       "      <td>5</td>\n",
       "      <td>completer</td>\n",
       "      <td>371</td>\n",
       "      <td>pos</td>\n",
       "      <td>0.8999</td>\n",
       "      <td>pos</td>\n",
       "    </tr>\n",
       "    <tr>\n",
       "      <th>1</th>\n",
       "      <td>2021-03-11</td>\n",
       "      <td>Greate Course</td>\n",
       "      <td>5</td>\n",
       "      <td>completer</td>\n",
       "      <td>13</td>\n",
       "      <td>pos</td>\n",
       "      <td>0.0000</td>\n",
       "      <td>neu</td>\n",
       "    </tr>\n",
       "    <tr>\n",
       "      <th>2</th>\n",
       "      <td>2021-03-10</td>\n",
       "      <td>have an overall understanding of data science ...</td>\n",
       "      <td>5</td>\n",
       "      <td>completer</td>\n",
       "      <td>70</td>\n",
       "      <td>pos</td>\n",
       "      <td>0.0000</td>\n",
       "      <td>neu</td>\n",
       "    </tr>\n",
       "    <tr>\n",
       "      <th>3</th>\n",
       "      <td>2021-03-10</td>\n",
       "      <td>Course creates interest to keep on learning</td>\n",
       "      <td>4</td>\n",
       "      <td>completer</td>\n",
       "      <td>43</td>\n",
       "      <td>pos</td>\n",
       "      <td>0.6249</td>\n",
       "      <td>pos</td>\n",
       "    </tr>\n",
       "    <tr>\n",
       "      <th>4</th>\n",
       "      <td>2021-03-10</td>\n",
       "      <td>Even though I have been self-teaching for abou...</td>\n",
       "      <td>5</td>\n",
       "      <td>completer</td>\n",
       "      <td>148</td>\n",
       "      <td>pos</td>\n",
       "      <td>0.2263</td>\n",
       "      <td>pos</td>\n",
       "    </tr>\n",
       "    <tr>\n",
       "      <th>...</th>\n",
       "      <td>...</td>\n",
       "      <td>...</td>\n",
       "      <td>...</td>\n",
       "      <td>...</td>\n",
       "      <td>...</td>\n",
       "      <td>...</td>\n",
       "      <td>...</td>\n",
       "      <td>...</td>\n",
       "    </tr>\n",
       "    <tr>\n",
       "      <th>7869</th>\n",
       "      <td>2018-08-28</td>\n",
       "      <td>Thanks for the data science introduction!</td>\n",
       "      <td>5</td>\n",
       "      <td>dropout</td>\n",
       "      <td>42</td>\n",
       "      <td>pos</td>\n",
       "      <td>0.4926</td>\n",
       "      <td>pos</td>\n",
       "    </tr>\n",
       "    <tr>\n",
       "      <th>7870</th>\n",
       "      <td>2018-08-28</td>\n",
       "      <td>Some very interesting materials in the form of...</td>\n",
       "      <td>5</td>\n",
       "      <td>dropout</td>\n",
       "      <td>72</td>\n",
       "      <td>pos</td>\n",
       "      <td>0.6240</td>\n",
       "      <td>pos</td>\n",
       "    </tr>\n",
       "    <tr>\n",
       "      <th>7871</th>\n",
       "      <td>2018-08-28</td>\n",
       "      <td>Very easy to understand. A perfect introductio...</td>\n",
       "      <td>5</td>\n",
       "      <td>dropout</td>\n",
       "      <td>104</td>\n",
       "      <td>pos</td>\n",
       "      <td>0.8655</td>\n",
       "      <td>pos</td>\n",
       "    </tr>\n",
       "    <tr>\n",
       "      <th>7872</th>\n",
       "      <td>2018-08-25</td>\n",
       "      <td>Was good learning spl, if you are looking to b...</td>\n",
       "      <td>5</td>\n",
       "      <td>completer</td>\n",
       "      <td>96</td>\n",
       "      <td>pos</td>\n",
       "      <td>0.4404</td>\n",
       "      <td>pos</td>\n",
       "    </tr>\n",
       "    <tr>\n",
       "      <th>7873</th>\n",
       "      <td>2018-08-24</td>\n",
       "      <td>Good for getting information about Data scienc...</td>\n",
       "      <td>5</td>\n",
       "      <td>dropout</td>\n",
       "      <td>90</td>\n",
       "      <td>pos</td>\n",
       "      <td>0.4404</td>\n",
       "      <td>pos</td>\n",
       "    </tr>\n",
       "  </tbody>\n",
       "</table>\n",
       "<p>7874 rows × 8 columns</p>\n",
       "</div>"
      ],
      "text/plain": [
       "            date                                             review  rating  \\\n",
       "0     2021-03-11  This course has a good overview of data scienc...       5   \n",
       "1     2021-03-11                                      Greate Course       5   \n",
       "2     2021-03-10  have an overall understanding of data science ...       5   \n",
       "3     2021-03-10        Course creates interest to keep on learning       4   \n",
       "4     2021-03-10  Even though I have been self-teaching for abou...       5   \n",
       "...          ...                                                ...     ...   \n",
       "7869  2018-08-28         Thanks for the data science introduction!        5   \n",
       "7870  2018-08-28  Some very interesting materials in the form of...       5   \n",
       "7871  2018-08-28  Very easy to understand. A perfect introductio...       5   \n",
       "7872  2018-08-25  Was good learning spl, if you are looking to b...       5   \n",
       "7873  2018-08-24  Good for getting information about Data scienc...       5   \n",
       "\n",
       "         status  length label  compound sentiment  \n",
       "0     completer     371   pos    0.8999       pos  \n",
       "1     completer      13   pos    0.0000       neu  \n",
       "2     completer      70   pos    0.0000       neu  \n",
       "3     completer      43   pos    0.6249       pos  \n",
       "4     completer     148   pos    0.2263       pos  \n",
       "...         ...     ...   ...       ...       ...  \n",
       "7869    dropout      42   pos    0.4926       pos  \n",
       "7870    dropout      72   pos    0.6240       pos  \n",
       "7871    dropout     104   pos    0.8655       pos  \n",
       "7872  completer      96   pos    0.4404       pos  \n",
       "7873    dropout      90   pos    0.4404       pos  \n",
       "\n",
       "[7874 rows x 8 columns]"
      ]
     },
     "execution_count": 5,
     "metadata": {},
     "output_type": "execute_result"
    }
   ],
   "source": [
    "df"
   ]
  },
  {
   "cell_type": "code",
   "execution_count": 6,
   "metadata": {},
   "outputs": [
    {
     "data": {
      "text/plain": [
       "0"
      ]
     },
     "execution_count": 6,
     "metadata": {},
     "output_type": "execute_result"
    }
   ],
   "source": [
    "# Check for null values\n",
    "\n",
    "len(df[df['review'].isna()==True])"
   ]
  },
  {
   "cell_type": "code",
   "execution_count": 7,
   "metadata": {},
   "outputs": [],
   "source": [
    "# Drop null values\n",
    "\n",
    "# df.dropna(inplace = True)"
   ]
  },
  {
   "cell_type": "code",
   "execution_count": 8,
   "metadata": {},
   "outputs": [],
   "source": [
    "# Check for null values\n",
    "\n",
    "# len(df[df['review'].isna()==True])"
   ]
  },
  {
   "cell_type": "code",
   "execution_count": 9,
   "metadata": {},
   "outputs": [],
   "source": [
    "# Reset the index\n",
    "\n",
    "# df = df.reset_index(drop = True)"
   ]
  },
  {
   "cell_type": "code",
   "execution_count": 10,
   "metadata": {},
   "outputs": [],
   "source": [
    "# df"
   ]
  },
  {
   "cell_type": "code",
   "execution_count": 11,
   "metadata": {},
   "outputs": [],
   "source": [
    "# Define a function to plot the most frequent words\n",
    "\n",
    "def freq_words(x, terms = 30):\n",
    "    all_words = ' '.join([text for text in x])\n",
    "    all_words = all_words.split()\n",
    "\n",
    "    fdist = FreqDist(all_words)\n",
    "    words_df = pd.DataFrame({'word':list(fdist.keys()), 'count':list(fdist.values())})\n",
    "    \n",
    "    # selecting top 20 most frequent words\n",
    "    d = words_df.nlargest(columns=\"count\", n = terms) \n",
    "    plt.figure(figsize=(20,5))\n",
    "    ax = sns.barplot(data=d, x= \"word\", y = \"count\")\n",
    "    ax.set(ylabel = 'Count')\n",
    "    plt.xticks(rotation = 45)\n",
    "    plt.show()"
   ]
  },
  {
   "cell_type": "code",
   "execution_count": 12,
   "metadata": {},
   "outputs": [
    {
     "data": {
      "image/png": "[encoded data removed]",
      "text/plain": [
       "<Figure size 1440x360 with 1 Axes>"
      ]
     },
     "metadata": {
      "needs_background": "light"
     },
     "output_type": "display_data"
    }
   ],
   "source": [
    "# The most frquent words are stop words such as 'to' and 'the' we will remove these in the preprocessing steps\n",
    "\n",
    "freq_words(df['review'])"
   ]
  },
  {
   "cell_type": "markdown",
   "metadata": {},
   "source": [
    "## Preprocessing"
   ]
  },
  {
   "cell_type": "code",
   "execution_count": 13,
   "metadata": {},
   "outputs": [
    {
     "data": {
      "text/plain": [
       "0    this course has a good overview of data scienc...\n",
       "1                                        greate course\n",
       "2    have an overall understanding of data science ...\n",
       "3          course creates interest to keep on learning\n",
       "4    even though i have been self-teaching for abou...\n",
       "Name: preprocessed, dtype: object"
      ]
     },
     "execution_count": 13,
     "metadata": {},
     "output_type": "execute_result"
    }
   ],
   "source": [
    "# Covert to lowercase\n",
    "\n",
    "df['preprocessed'] =  df['review'].apply(lambda x: \" \".join(x.lower() for x in x.split()))\n",
    "df['preprocessed'].head()"
   ]
  },
  {
   "cell_type": "code",
   "execution_count": 14,
   "metadata": {},
   "outputs": [
    {
     "data": {
      "text/plain": [
       "0    this course has a good overview of data scienc...\n",
       "1                                        greate course\n",
       "2    have an overall understanding of data science ...\n",
       "3          course creates interest to keep on learning\n",
       "4    even though i have been selfteaching for about...\n",
       "Name: preprocessed, dtype: object"
      ]
     },
     "execution_count": 14,
     "metadata": {},
     "output_type": "execute_result"
    }
   ],
   "source": [
    "# Remove punctuations\n",
    "\n",
    "df['preprocessed'] = df['preprocessed'].str.replace('[^\\w\\s]','')\n",
    "df['preprocessed'].head()"
   ]
  },
  {
   "cell_type": "code",
   "execution_count": 15,
   "metadata": {},
   "outputs": [
    {
     "data": {
      "text/plain": [
       "0    course overview data science related concepts ...\n",
       "1                                        greate course\n",
       "2      overall understanding data science future looks\n",
       "3                course creates interest keep learning\n",
       "4    even though selfteaching year surprised much l...\n",
       "Name: preprocessed, dtype: object"
      ]
     },
     "execution_count": 15,
     "metadata": {},
     "output_type": "execute_result"
    }
   ],
   "source": [
    "# Remove stopwords\n",
    "\n",
    "stop = stopwords.words('english')\n",
    "stop.extend(['good', 'great', 'really', 'like', 'nice'])\n",
    "\n",
    "df['preprocessed'] = df['preprocessed'].apply(lambda x: \" \".join(x for x in x.split() if x not in stop))\n",
    "df['preprocessed'].head()"
   ]
  },
  {
   "cell_type": "code",
   "execution_count": 16,
   "metadata": {},
   "outputs": [],
   "source": [
    "# Remove short words (length < 3)\n",
    "\n",
    "# df['review'] = df['review'].apply(lambda x: ' '.join([w for w in x.split() if len(w)>2]))\n",
    "# df['review'].head()"
   ]
  },
  {
   "cell_type": "code",
   "execution_count": 17,
   "metadata": {},
   "outputs": [
    {
     "data": {
      "image/png": "[encoded data removed]",
      "text/plain": [
       "<Figure size 1440x360 with 1 Axes>"
      ]
     },
     "metadata": {
      "needs_background": "light"
     },
     "output_type": "display_data"
    }
   ],
   "source": [
    "# Look at the most frequent words again \n",
    "\n",
    "freq_words(df['preprocessed'])"
   ]
  },
  {
   "cell_type": "code",
   "execution_count": 18,
   "metadata": {},
   "outputs": [
    {
     "data": {
      "text/plain": [
       "0    [course, overview, data, science, related, con...\n",
       "1                                     [greate, course]\n",
       "2    [overall, understanding, data, science, future...\n",
       "3          [course, creates, interest, keep, learning]\n",
       "4    [even, though, selfteaching, year, surprised, ...\n",
       "Name: preprocessed, dtype: object"
      ]
     },
     "execution_count": 18,
     "metadata": {},
     "output_type": "execute_result"
    }
   ],
   "source": [
    "# Tokenization\n",
    "\n",
    "tokenizer = RegexpTokenizer(r'\\w+')\n",
    "\n",
    "df['preprocessed'] = df['preprocessed'].apply(lambda x: tokenizer.tokenize(x.lower()))\n",
    "df['preprocessed'].head(5)\n"
   ]
  },
  {
   "cell_type": "code",
   "execution_count": 19,
   "metadata": {},
   "outputs": [
    {
     "data": {
      "text/plain": [
       "0    [(course, NN), (overview, NN), (data, NNS), (s...\n",
       "1                         [(greate, NN), (course, NN)]\n",
       "2    [(overall, JJ), (understanding, NN), (data, NN...\n",
       "3    [(course, NN), (creates, VBZ), (interest, NN),...\n",
       "4    [(even, RB), (though, IN), (selfteaching, VBG)...\n",
       "Name: preprocessed, dtype: object"
      ]
     },
     "execution_count": 19,
     "metadata": {},
     "output_type": "execute_result"
    }
   ],
   "source": [
    "# Add speech tags\n",
    "\n",
    "df['preprocessed'] = df['preprocessed'].apply(nltk.tag.pos_tag)\n",
    "df['preprocessed'].head()"
   ]
  },
  {
   "cell_type": "code",
   "execution_count": 20,
   "metadata": {},
   "outputs": [],
   "source": [
    "# Define function to convert parts of speech tags to wordnet’s format\n",
    "\n",
    "def get_wordnet_pos(tag):\n",
    "    if tag.startswith('J'):\n",
    "        return wordnet.ADJ\n",
    "    elif tag.startswith('V'):\n",
    "        return wordnet.VERB\n",
    "    elif tag.startswith('N'):\n",
    "        return wordnet.NOUN\n",
    "    elif tag.startswith('R'):\n",
    "        return wordnet.ADV\n",
    "    else:\n",
    "        return wordnet.NOUN"
   ]
  },
  {
   "cell_type": "code",
   "execution_count": 21,
   "metadata": {},
   "outputs": [
    {
     "data": {
      "text/plain": [
       "0    [(course, n), (overview, n), (data, n), (scien...\n",
       "1                           [(greate, n), (course, n)]\n",
       "2    [(overall, a), (understanding, n), (data, n), ...\n",
       "3    [(course, n), (creates, v), (interest, n), (ke...\n",
       "4    [(even, r), (though, n), (selfteaching, v), (y...\n",
       "Name: preprocessed, dtype: object"
      ]
     },
     "execution_count": 21,
     "metadata": {},
     "output_type": "execute_result"
    }
   ],
   "source": [
    "# Apply the function to the tagged data\n",
    "\n",
    "df['preprocessed'] = df['preprocessed'].apply(lambda x: [(word, get_wordnet_pos(pos_tag)) for (word, pos_tag) in x])\n",
    "df['preprocessed'].head()"
   ]
  },
  {
   "cell_type": "code",
   "execution_count": 22,
   "metadata": {},
   "outputs": [
    {
     "data": {
      "text/plain": [
       "0    [course, overview, data, science, relate, conc...\n",
       "1                                     [greate, course]\n",
       "2    [overall, understanding, data, science, future...\n",
       "3           [course, create, interest, keep, learning]\n",
       "4    [even, though, selfteaching, year, surprise, m...\n",
       "Name: preprocessed, dtype: object"
      ]
     },
     "execution_count": 22,
     "metadata": {},
     "output_type": "execute_result"
    }
   ],
   "source": [
    "# Create lemmatizer\n",
    "\n",
    "lemmatizer = WordNetLemmatizer()\n",
    "\n",
    "# Apply to data \n",
    "\n",
    "df['preprocessed'] = df['preprocessed'].apply(lambda x: [lemmatizer.lemmatize(word, tag) for word, tag in x])\n",
    "df['preprocessed'].head()"
   ]
  },
  {
   "cell_type": "code",
   "execution_count": 23,
   "metadata": {},
   "outputs": [],
   "source": [
    "# Join reviews\n",
    "\n",
    "df['joined'] = df['preprocessed'].apply(lambda x: ' '.join(x))"
   ]
  },
  {
   "cell_type": "code",
   "execution_count": 24,
   "metadata": {},
   "outputs": [
    {
     "data": {
      "image/png": "[encoded data removed]",
      "text/plain": [
       "<Figure size 1440x360 with 1 Axes>"
      ]
     },
     "metadata": {
      "needs_background": "light"
     },
     "output_type": "display_data"
    }
   ],
   "source": [
    "# Most frequent words after lemmatizing \n",
    "\n",
    "freq_words(df['joined'], 35)"
   ]
  },
  {
   "cell_type": "markdown",
   "metadata": {},
   "source": [
    "## LDA Topic Modeling"
   ]
  },
  {
   "cell_type": "code",
   "execution_count": 25,
   "metadata": {},
   "outputs": [],
   "source": [
    "# Create a dictionary from 'df_sen['review']' containing the number of times a word appears in the training set\n",
    "\n",
    "dictionary = gensim.corpora.Dictionary(df['preprocessed'])"
   ]
  },
  {
   "cell_type": "code",
   "execution_count": 26,
   "metadata": {},
   "outputs": [],
   "source": [
    "# Gensim filter extremes\n",
    "\n",
    "# Filter out tokens that appear in:\n",
    "# Less than 50 documents, more than 0.5 documents, and keep only 100000 most frquent tokens\n",
    "\n",
    "# dictionary.filter_extremes(no_below = 50, no_above = 0.5, keep_n = 100000)"
   ]
  },
  {
   "cell_type": "code",
   "execution_count": 27,
   "metadata": {},
   "outputs": [],
   "source": [
    "# Gensim doc2bow\n",
    "# Create a dictionary reporting how many words and how many times those words appear\n",
    "\n",
    "corpus = [dictionary.doc2bow(doc) for doc in df['preprocessed']]\n"
   ]
  },
  {
   "cell_type": "code",
   "execution_count": 28,
   "metadata": {},
   "outputs": [],
   "source": [
    "# Add TF-IDF\n",
    "\n",
    "tfidf = models.TfidfModel(corpus)      # Create a TF-IDF model\n",
    "corpus_tfidf = tfidf[corpus]  "
   ]
  },
  {
   "cell_type": "code",
   "execution_count": 29,
   "metadata": {},
   "outputs": [],
   "source": [
    "# Creating the object for LDA model using gensim library\n",
    "LDA = gensim.models.LdaMulticore\n",
    "\n",
    "# Build LDA model\n",
    "lda_model = LDA(corpus = corpus, id2word = dictionary, num_topics = 5, random_state = 100,\n",
    "                chunksize = 100, passes = 10)"
   ]
  },
  {
   "cell_type": "code",
   "execution_count": 30,
   "metadata": {},
   "outputs": [
    {
     "name": "stdout",
     "output_type": "stream",
     "text": [
      "Topic: 0\n",
      "Word: 0.064*\"course\" + 0.033*\"well\" + 0.030*\"informative\" + 0.023*\"content\" + 0.022*\"material\" + 0.015*\"video\" + 0.010*\"explain\" + 0.010*\"easy\" + 0.010*\"could\" + 0.009*\"simple\"\n",
      "\n",
      "Topic: 1\n",
      "Word: 0.014*\"time\" + 0.013*\"question\" + 0.009*\"one\" + 0.009*\"quiz\" + 0.009*\"answer\" + 0.008*\"would\" + 0.008*\"assignment\" + 0.008*\"people\" + 0.007*\"week\" + 0.007*\"review\"\n",
      "\n",
      "Topic: 2\n",
      "Word: 0.059*\"course\" + 0.036*\"learn\" + 0.031*\"coursera\" + 0.027*\"easy\" + 0.026*\"thank\" + 0.024*\"thanks\" + 0.021*\"awesome\" + 0.020*\"experience\" + 0.018*\"ibm\" + 0.015*\"lot\"\n",
      "\n",
      "Topic: 3\n",
      "Word: 0.151*\"data\" + 0.113*\"science\" + 0.044*\"introduction\" + 0.044*\"course\" + 0.029*\"scientist\" + 0.019*\"give\" + 0.015*\"field\" + 0.013*\"understand\" + 0.011*\"learn\" + 0.011*\"overview\"\n",
      "\n",
      "Topic: 4\n",
      "Word: 0.122*\"course\" + 0.084*\"data\" + 0.079*\"science\" + 0.035*\"excellent\" + 0.029*\"beginner\" + 0.027*\"start\" + 0.026*\"introductory\" + 0.018*\"basic\" + 0.014*\"best\" + 0.013*\"knowledge\"\n",
      "\n"
     ]
    }
   ],
   "source": [
    "# Explore the words occurring in each topic and its relative weight\n",
    "\n",
    "for id, topic in lda_model.print_topics(-1):\n",
    "    print('Topic: {}\\nWord: {}\\n'.format(id, topic))"
   ]
  },
  {
   "cell_type": "markdown",
   "metadata": {},
   "source": [
    "### Visualise with pyLDAvis\n",
    "\n",
    "Original paper: https://nlp.stanford.edu/events/illvi2014/papers/sievert-illvi2014.pdf"
   ]
  },
  {
   "cell_type": "code",
   "execution_count": 31,
   "metadata": {
    "scrolled": false
   },
   "outputs": [
    {
     "data": {
      "text/html": [
       "\n",
       "<link rel=\"stylesheet\" type=\"text/css\" href=\"https://cdn.jsdelivr.net/gh/bmabey/pyLDAvis@3.2.2/pyLDAvis/js/ldavis.v1.0.0.css\">\n",
       "\n",
       "\n",
       "<div id=\"ldavis_el386151403697096745763888374318\"></div>\n",
       "<script type=\"text/javascript\">\n",
       "\n",
       "var ldavis_el386151403697096745763888374318_data = {\"mdsDat\": {\"x\": [0.21700568868353115, 0.20200876086434866, -0.09706727896646432, -0.199999040319274, -0.12194813026214173], \"y\": [0.042367208965043535, 0.0011522982260462635, -0.015777379271313563, 0.18374247769499039, -0.21148460561476665], \"topics\": [1, 2, 3, 4, 5], \"cluster\": [1, 1, 1, 1, 1], \"Freq\": [35.63358470446274, 22.35425888324003, 14.77299650633178, 14.377771173565737, 12.861388732399723]}, \"tinfo\": {\"Term\": [\"data\", \"science\", \"course\", \"introduction\", \"excellent\", \"scientist\", \"beginner\", \"well\", \"informative\", \"coursera\", \"introductory\", \"easy\", \"thank\", \"start\", \"learn\", \"thanks\", \"awesome\", \"material\", \"content\", \"experience\", \"best\", \"video\", \"ibm\", \"overview\", \"time\", \"recommend\", \"question\", \"reading\", \"lot\", \"basic\", \"insight\", \"overview\", \"scientist\", \"general\", \"become\", \"deep\", \"role\", \"path\", \"view\", \"broad\", \"believe\", \"aspect\", \"dive\", \"brief\", \"motivation\", \"picture\", \"various\", \"scope\", \"guide\", \"exactly\", \"behind\", \"profession\", \"rest\", \"sense\", \"machine\", \"requirement\", \"introduces\", \"entail\", \"discipline\", \"mining\", \"introduction\", \"industry\", \"already\", \"someone\", \"data\", \"hear\", \"skill\", \"science\", \"give\", \"application\", \"excite\", \"field\", \"idea\", \"require\", \"help\", \"provide\", \"world\", \"tool\", \"know\", \"use\", \"understand\", \"clear\", \"course\", \"need\", \"basic\", \"get\", \"learn\", \"subject\", \"understanding\", \"new\", \"career\", \"helpful\", \"start\", \"beginner\", \"explanation\", \"recommend\", \"highly\", \"anyone\", \"amazing\", \"excellent\", \"murtaza\", \"theory\", \"best\", \"starter\", \"ever\", \"individual\", \"absolute\", \"whats\", \"introductory\", \"brilliant\", \"difficult\", \"cool\", \"tutorial\", \"enter\", \"novice\", \"ahead\", \"daily\", \"training\", \"usefull\", \"willing\", \"grow\", \"towards\", \"gentle\", \"curious\", \"start\", \"journey\", \"everyone\", \"knowledge\", \"course\", \"perfect\", \"share\", \"basic\", \"want\", \"science\", \"data\", \"concept\", \"useful\", \"career\", \"get\", \"step\", \"introduce\", \"gain\", \"learn\", \"field\", \"know\", \"understand\", \"way\", \"people\", \"well\", \"lot\", \"content\", \"helpful\", \"short\", \"nicely\", \"enough\", \"hard\", \"structured\", \"presentation\", \"pace\", \"super\", \"necessary\", \"info\", \"specific\", \"challenge\", \"reference\", \"lack\", \"examples\", \"discuss\", \"skip\", \"precise\", \"superb\", \"benefit\", \"decent\", \"decide\", \"better\", \"author\", \"informative\", \"resource\", \"outdated\", \"appropriate\", \"note\", \"train\", \"element\", \"material\", \"structure\", \"organize\", \"well\", \"lecture\", \"story\", \"certificate\", \"content\", \"bit\", \"love\", \"interesting\", \"simple\", \"little\", \"video\", \"quite\", \"could\", \"include\", \"overall\", \"explain\", \"course\", \"read\", \"part\", \"much\", \"easy\", \"way\", \"would\", \"information\", \"topic\", \"look\", \"helpful\", \"example\", \"introduction\", \"final\", \"review\", \"stuff\", \"grade\", \"rather\", \"waste\", \"instead\", \"interactive\", \"bad\", \"still\", \"star\", \"5\", \"cours\", \"spend\", \"repetitive\", \"quizzes\", \"code\", \"newbie\", \"de\", \"least\", \"datascience\", \"project\", \"light\", \"fluff\", \"two\", \"write\", \"three\", \"\\u00e3\", \"excelente\", \"match\", \"question\", \"answer\", \"peer\", \"week\", \"assignment\", \"time\", \"quiz\", \"say\", \"form\", \"report\", \"test\", \"watson\", \"value\", \"though\", \"didnt\", \"add\", \"one\", \"videos\", \"practical\", \"could\", \"would\", \"think\", \"people\", \"student\", \"read\", \"video\", \"take\", \"much\", \"need\", \"use\", \"feel\", \"ibm\", \"get\", \"course\", \"coursera\", \"awesome\", \"thank\", \"thanks\", \"reading\", \"follow\", \"financial\", \"teacher\", \"listen\", \"team\", \"unnecessary\", \"d\", \"aid\", \"kick\", \"boring\", \"style\", \"wonderful\", \"thankful\", \"throughout\", \"previous\", \"recommended\", \"miss\", \"subtitle\", \"receive\", \"access\", \"bring\", \"straightforward\", \"lecturer\", \"cannot\", \"number\", \"transcript\", \"far\", \"happy\", \"easy\", \"opportunity\", \"platform\", \"ibm\", \"experience\", \"instructor\", \"enjoy\", \"online\", \"learn\", \"amaze\", \"lot\", \"class\", \"intro\", \"insightful\", \"interest\", \"course\", \"make\", \"video\", \"much\", \"understand\", \"work\", \"im\", \"way\", \"learning\", \"many\", \"content\"], \"Freq\": [4848.0, 3882.0, 4052.0, 1128.0, 540.0, 683.0, 428.0, 429.0, 312.0, 263.0, 400.0, 336.0, 225.0, 521.0, 818.0, 209.0, 178.0, 261.0, 374.0, 267.0, 212.0, 305.0, 225.0, 260.0, 164.0, 165.0, 127.0, 107.0, 281.0, 543.0, 187.0090361605055, 259.63434781670856, 679.4117620141252, 107.79136680884658, 117.41086431201445, 62.2338638312957, 56.19587263830226, 56.30537720108421, 71.89196661486496, 31.287344751954887, 30.504895967954294, 32.45272674936074, 25.39628489013712, 64.43443691137931, 22.83019284466726, 24.118575447069798, 48.88780044114282, 30.36397366153295, 19.745267127008127, 36.258460913565926, 17.614970797668107, 17.05251277040956, 32.115439385739066, 19.041677434136286, 48.6554921541937, 16.616285857533388, 15.775428631948653, 15.470267505655677, 15.161196492466711, 23.705025878190355, 1051.2128341841506, 79.36154209755355, 35.86426389833691, 90.92662704985919, 3597.6925985949156, 34.067060816356026, 131.9531146169686, 2701.5238946039967, 445.6672543704211, 103.33229886323015, 44.63608960354637, 355.21010768284003, 128.94706046880066, 61.39012687695814, 195.6387166797751, 191.33517904353607, 128.55709223195205, 70.75252020053581, 197.00044432359527, 131.94484007619013, 315.346631224274, 141.8833843500706, 1043.8554585905297, 128.94996654076306, 229.55752345853745, 203.5349135092351, 264.8294949515208, 99.19091338736686, 91.66781404874467, 117.14420447976924, 115.15040618412534, 100.46210912524363, 97.29551113896923, 427.75559339342954, 102.40227439645281, 164.27092026355635, 80.38023897556359, 81.50858996586058, 57.819255532208814, 530.2035284368953, 32.9472776367089, 35.985157998423105, 207.09909024293827, 23.37524352686167, 22.419506412713556, 21.757550541614435, 20.627727861764978, 19.530332800056666, 384.8751940912071, 18.65006587449475, 19.968537932023317, 17.20111096832443, 15.302271351398785, 14.121044782151671, 14.332912410961615, 14.606682329227251, 13.465121794466182, 12.425310500565827, 12.396083720221997, 11.792150862335085, 11.905355275421506, 32.694129637828176, 11.173545468360437, 35.91315654384116, 408.51769539704406, 58.01319846935381, 45.60876908645105, 199.02933282195877, 1818.9211127190301, 69.72236761179356, 25.94774816663302, 271.41178451858116, 123.20887516392902, 1178.4971522322573, 1247.9340677376179, 103.39657986647278, 105.81714386726007, 103.68496839366762, 168.83002662181553, 49.09814501533379, 61.468130600200254, 45.39775733383473, 183.00977981396863, 136.42783426613138, 104.57850313981653, 139.1878331986376, 84.39162631995828, 71.5858675440168, 89.5091118736156, 74.3033579589061, 71.57492902876164, 65.32477135378096, 66.84562081054209, 42.31330857594712, 34.965868930899816, 28.857622655795215, 28.07080920028549, 30.82510464621685, 26.906474460771495, 25.72605654293424, 25.865266280569735, 22.107070109972458, 21.61690449824649, 19.08905192584549, 18.84544753079907, 17.226395700187975, 16.918565506472095, 16.78537402748723, 15.734873471989761, 15.245056195005178, 14.641124226819588, 14.441237566246151, 14.09894752476474, 14.12259175125327, 14.640367777117179, 13.163403182021717, 294.6626070681026, 13.335773697265111, 12.70476128958111, 12.981833410670907, 12.184003150452687, 11.947585027579155, 12.528045212217492, 218.73909779145566, 74.65124824828463, 26.922677199534046, 324.244453289441, 48.12857199457994, 27.429512295583624, 57.438931939442256, 227.38881733208308, 76.52019864129882, 92.2542788757587, 93.44451224581354, 93.58545560981868, 69.95467047375048, 152.70082724110998, 56.38918208554916, 95.10386399180148, 34.018322559443796, 55.966158857439474, 100.13495808002418, 633.0543528357057, 63.521150826609855, 52.75346868728334, 86.64464101878507, 95.38728661160876, 88.39884098095473, 80.01632982517597, 73.09067641753958, 64.65575640304739, 57.37011570967596, 68.71033600491847, 54.05315963950505, 66.87536376905383, 56.95045576601153, 69.3784029801647, 40.1807539779565, 39.967699976217965, 41.608943050927714, 33.77742837509049, 30.210791156993732, 30.179771783271438, 29.21436258627484, 30.266696294326298, 27.76600711624799, 23.368188526386064, 19.581379096493734, 19.41435514218469, 19.161031002695008, 19.01927770106565, 19.021985350914445, 19.186272564921776, 18.466998808952674, 18.471275105532047, 18.32368469263775, 33.68118820591949, 17.534144066501735, 16.36506477656075, 23.66113610048119, 32.712570108193, 15.67254416750673, 14.955829252531094, 14.567366532860843, 14.324615654144344, 120.61580259885359, 84.79064129948073, 32.03727999817676, 71.26412222122187, 75.25372567388024, 135.01117294768306, 87.48996680328453, 62.34333343757792, 24.080707702959643, 47.48094048210167, 28.869569111893192, 34.40694801402638, 23.18061328595196, 38.939773158167164, 35.668876197645936, 35.258703049188085, 89.1192917432053, 63.88643427504106, 51.6863816690704, 67.01127702235493, 76.34960331450003, 63.97594783640589, 72.35791877559423, 58.54734261319832, 55.22968834392458, 67.3016310706858, 57.42935175290434, 58.24757668448396, 53.475310260078224, 51.366001797870844, 41.870264827243496, 44.80510216244079, 49.74341241666485, 46.99594892645836, 262.95927500921226, 177.74939792596518, 224.95356946484, 207.66674360154803, 106.76471526274837, 95.07219365103718, 22.731769741044403, 21.363169442034692, 21.303047768024644, 28.5275311431402, 16.936750977239186, 15.544899694228688, 15.42532191826148, 13.467876512453092, 13.723877542916945, 12.930210393510313, 76.01640738301215, 11.727159382547542, 11.767941434335246, 11.666394155409671, 11.539766319983052, 12.086218990884117, 11.315978976878736, 11.367143952691414, 11.385144423926151, 12.221831548594542, 10.712192027707895, 11.709146900990046, 10.144005676914567, 10.766074339044748, 12.224286658738485, 27.833222391336356, 39.725059312670595, 235.24106747205497, 50.68584800686155, 47.24025855532406, 151.2522238555213, 174.40961541449173, 57.68756591716751, 94.76389667270087, 36.5780985296486, 309.4001665161204, 65.43203421440445, 131.07818846295262, 54.00784323032924, 75.87985802012653, 37.5173418003543, 72.09516511237643, 509.6478615155809, 84.34583044333414, 83.08729274208599, 72.69922829897072, 96.44939334114218, 52.29030702420839, 38.41017318047912, 55.09757584520259, 41.03227885550105, 40.04417358837166, 43.03205764645348], \"Total\": [4848.0, 3882.0, 4052.0, 1128.0, 540.0, 683.0, 428.0, 429.0, 312.0, 263.0, 400.0, 336.0, 225.0, 521.0, 818.0, 209.0, 178.0, 261.0, 374.0, 267.0, 212.0, 305.0, 225.0, 260.0, 164.0, 165.0, 127.0, 107.0, 281.0, 543.0, 187.7889011067449, 260.9891797505221, 683.9315590861673, 108.57391740886355, 118.52034852838305, 63.01337568003133, 56.96583523335208, 57.24043943596911, 73.54268992407425, 32.06818471369672, 31.376799502573405, 33.42898240247306, 26.176152769876904, 66.4636596002584, 23.609460538548465, 24.960835413416515, 50.72604737689183, 31.532382906918183, 20.530747496481492, 37.826657013801075, 18.388491871564508, 17.833763486484887, 33.60070512018483, 19.927057575191434, 50.929040921359785, 17.398542625565735, 16.552163371126476, 16.241948144604436, 15.938023325861018, 24.931098419547688, 1128.4392503047454, 84.38762637097162, 38.28006114444481, 101.52537274458233, 4848.981813183429, 36.72200283993528, 155.50843997858377, 3882.2540393331524, 568.8702042986499, 121.71690754939827, 49.5286280113748, 505.36497156415265, 165.07586120420444, 71.30998655088167, 286.76270032131265, 281.57145998360204, 182.5858787801599, 87.73902475832654, 314.15946674811465, 192.18770373457744, 590.9864704891068, 233.69453062904242, 4052.4747345873047, 218.4298448866159, 543.4188904099136, 473.83126793574513, 818.106071409763, 151.50563504509537, 134.4742624670269, 224.7301796186492, 219.5438009136606, 236.16924169179518, 521.1988363405208, 428.996347345721, 103.18080230257796, 165.8310406284109, 81.26821398301303, 82.5052431245337, 58.60050387588703, 540.1250315975178, 33.74466625722366, 36.905629265603054, 212.46562183721906, 24.150817972088085, 23.213295187745416, 22.554957225434066, 21.399889246864817, 20.326510606601268, 400.58214163517886, 19.41987745882522, 20.794558106751982, 17.97497658249676, 16.09694394796284, 14.891580211896642, 15.116670229193533, 15.445327738608057, 14.257209186762266, 13.208039975997774, 13.200872791832545, 12.568936636211541, 12.705910488554814, 34.94472157649709, 11.960974668514886, 39.7693963216598, 521.1988363405208, 70.44786090943185, 57.16436149367835, 305.3503341298512, 4052.4747345873047, 98.78000657502686, 30.757686752858678, 543.4188904099136, 214.35756345154454, 3882.2540393331524, 4848.981813183429, 191.113428064206, 205.84475284376137, 219.5438009136606, 473.83126793574513, 76.60579572994097, 107.83189145532995, 71.15952105581833, 818.106071409763, 505.36497156415265, 314.15946674811465, 590.9864704891068, 290.6724635027178, 221.94249202908875, 429.2968903847659, 281.43595763388055, 374.5083501454344, 236.16924169179518, 67.62926125464674, 43.10933214489002, 35.778928995980735, 29.64025362918811, 28.838282430565897, 31.707556575499737, 27.687561462631123, 26.492405783553206, 26.67067261443202, 22.872762391711063, 22.388312475175155, 19.865363954125435, 19.616328612208385, 18.00530327216026, 17.697048249302235, 17.559725344985672, 16.513479334471956, 16.02611890102457, 15.411923234699188, 15.227808120967696, 14.868580520709095, 14.901247843419052, 15.470044789722511, 13.935178725854838, 312.0157280665023, 14.147378458784557, 13.485181696086752, 13.816887670691775, 12.968309801673437, 12.72398535281792, 13.346637400751236, 261.627577047852, 88.05595172214365, 29.899672369690474, 429.2968903847659, 56.56899523084461, 31.13004069882108, 71.0134549518437, 374.5083501454344, 109.29728781184201, 145.98970620043232, 148.58150154771897, 152.2688349362031, 106.02535838897055, 305.3682327588403, 85.53924855377747, 172.0631325719069, 44.1135329457036, 91.573420941806, 229.36733327653965, 4052.4747345873047, 140.92987654596325, 103.05447520178039, 263.54209574674104, 336.14963863555016, 290.6724635027178, 241.82050398290266, 222.30196249519113, 178.73337490429083, 143.85774102358462, 236.16924169179518, 127.2004874550921, 1128.4392503047454, 57.70926646207014, 70.63491698856515, 40.95499581183085, 40.757710320817495, 42.46974590974966, 34.53229527012144, 30.972803406611536, 30.944635550395716, 29.97098930395528, 31.058613709287922, 28.52217901924538, 24.12610015606144, 20.33319851472588, 20.17138392002168, 19.924035715928085, 19.776699595219792, 19.78369770520048, 19.957381706677687, 19.224059834187532, 19.240232723617996, 19.088654106439627, 35.12257530144063, 18.30421161390958, 17.121356719846773, 24.762161114157593, 34.27930792660051, 16.43086953614333, 15.708422260538658, 15.319284395671463, 15.08281105141291, 127.90594814673588, 90.70124452751998, 34.68612368600465, 82.20139528875552, 87.4096562984214, 164.0262909255497, 109.65620338399883, 76.99870401331162, 26.299334868061855, 67.76342481079683, 34.6199404158565, 44.31307854573184, 25.83954524611174, 54.92318176070057, 49.638647510058306, 50.43097406102758, 239.0713747196137, 136.48157511872012, 99.14176700000934, 172.0631325719069, 241.82050398290266, 169.17345325282454, 221.94249202908875, 145.0224195416672, 140.92987654596325, 305.3682327588403, 219.96463140594133, 263.54209574674104, 218.4298448866159, 192.18770373457744, 105.85919772508016, 225.78913861308683, 473.83126793574513, 4052.4747345873047, 263.8748243581913, 178.5154906003222, 225.97338481902858, 209.23852738113717, 107.66636362118112, 96.0665333849872, 23.497332406436993, 22.13186613463534, 22.082507718348584, 29.673937468847207, 17.71000486952152, 16.313390419080402, 16.1909104727406, 14.24122910043158, 14.513123003236634, 13.702015301364037, 80.67598402391447, 12.49167207654517, 12.538529317282086, 12.4358728251377, 12.305281855531895, 12.896966997733275, 12.084763466522833, 12.140004772948807, 12.172190955373221, 13.078191627178752, 11.482831735016124, 12.586930599193945, 10.922602560090354, 11.597159927082673, 13.266138694143546, 31.64058239410611, 46.906804193267305, 336.14963863555016, 65.00577031149568, 60.163252673046344, 225.78913861308683, 267.1133003372041, 77.42782439077234, 146.74059622274333, 49.768244157718755, 818.106071409763, 112.57581306980858, 281.43595763388055, 95.47988828660755, 167.77556121651412, 62.242900994980374, 181.4086250670345, 4052.4747345873047, 256.1844958241526, 305.3682327588403, 263.54209574674104, 590.9864704891068, 172.78766997672852, 75.94244442651564, 290.6724635027178, 111.06605841271845, 126.0898892897542, 374.5083501454344], \"Category\": [\"Default\", \"Default\", \"Default\", \"Default\", \"Default\", \"Default\", \"Default\", \"Default\", \"Default\", \"Default\", \"Default\", \"Default\", \"Default\", \"Default\", \"Default\", \"Default\", \"Default\", \"Default\", \"Default\", \"Default\", \"Default\", \"Default\", \"Default\", \"Default\", \"Default\", \"Default\", \"Default\", \"Default\", \"Default\", \"Default\", \"Topic1\", \"Topic1\", \"Topic1\", \"Topic1\", \"Topic1\", \"Topic1\", \"Topic1\", \"Topic1\", \"Topic1\", \"Topic1\", \"Topic1\", \"Topic1\", \"Topic1\", \"Topic1\", \"Topic1\", \"Topic1\", \"Topic1\", \"Topic1\", \"Topic1\", \"Topic1\", \"Topic1\", \"Topic1\", \"Topic1\", \"Topic1\", \"Topic1\", \"Topic1\", \"Topic1\", \"Topic1\", \"Topic1\", \"Topic1\", \"Topic1\", \"Topic1\", \"Topic1\", \"Topic1\", \"Topic1\", \"Topic1\", \"Topic1\", \"Topic1\", \"Topic1\", \"Topic1\", \"Topic1\", \"Topic1\", \"Topic1\", \"Topic1\", \"Topic1\", \"Topic1\", \"Topic1\", \"Topic1\", \"Topic1\", \"Topic1\", \"Topic1\", \"Topic1\", \"Topic1\", \"Topic1\", \"Topic1\", \"Topic1\", \"Topic1\", \"Topic1\", \"Topic1\", \"Topic1\", \"Topic1\", \"Topic1\", \"Topic1\", \"Topic2\", \"Topic2\", \"Topic2\", \"Topic2\", \"Topic2\", \"Topic2\", \"Topic2\", \"Topic2\", \"Topic2\", \"Topic2\", \"Topic2\", \"Topic2\", \"Topic2\", \"Topic2\", \"Topic2\", \"Topic2\", \"Topic2\", \"Topic2\", \"Topic2\", \"Topic2\", \"Topic2\", \"Topic2\", \"Topic2\", \"Topic2\", \"Topic2\", \"Topic2\", \"Topic2\", \"Topic2\", \"Topic2\", \"Topic2\", \"Topic2\", \"Topic2\", \"Topic2\", \"Topic2\", \"Topic2\", \"Topic2\", \"Topic2\", \"Topic2\", \"Topic2\", \"Topic2\", \"Topic2\", \"Topic2\", \"Topic2\", \"Topic2\", \"Topic2\", \"Topic2\", \"Topic2\", \"Topic2\", \"Topic2\", \"Topic2\", \"Topic2\", \"Topic2\", \"Topic2\", \"Topic2\", \"Topic2\", \"Topic2\", \"Topic2\", \"Topic2\", \"Topic2\", \"Topic3\", \"Topic3\", \"Topic3\", \"Topic3\", \"Topic3\", \"Topic3\", \"Topic3\", \"Topic3\", \"Topic3\", \"Topic3\", \"Topic3\", \"Topic3\", \"Topic3\", \"Topic3\", \"Topic3\", \"Topic3\", \"Topic3\", \"Topic3\", \"Topic3\", \"Topic3\", \"Topic3\", \"Topic3\", \"Topic3\", \"Topic3\", \"Topic3\", \"Topic3\", \"Topic3\", \"Topic3\", \"Topic3\", \"Topic3\", \"Topic3\", \"Topic3\", \"Topic3\", \"Topic3\", \"Topic3\", \"Topic3\", \"Topic3\", \"Topic3\", \"Topic3\", \"Topic3\", \"Topic3\", \"Topic3\", \"Topic3\", \"Topic3\", \"Topic3\", \"Topic3\", \"Topic3\", \"Topic3\", \"Topic3\", \"Topic3\", \"Topic3\", \"Topic3\", \"Topic3\", \"Topic3\", \"Topic3\", \"Topic3\", \"Topic3\", \"Topic3\", \"Topic3\", \"Topic3\", \"Topic3\", \"Topic3\", \"Topic3\", \"Topic4\", \"Topic4\", \"Topic4\", \"Topic4\", \"Topic4\", \"Topic4\", \"Topic4\", \"Topic4\", \"Topic4\", \"Topic4\", \"Topic4\", \"Topic4\", \"Topic4\", \"Topic4\", \"Topic4\", \"Topic4\", \"Topic4\", \"Topic4\", \"Topic4\", \"Topic4\", \"Topic4\", \"Topic4\", \"Topic4\", \"Topic4\", \"Topic4\", \"Topic4\", \"Topic4\", \"Topic4\", \"Topic4\", \"Topic4\", \"Topic4\", \"Topic4\", \"Topic4\", \"Topic4\", \"Topic4\", \"Topic4\", \"Topic4\", \"Topic4\", \"Topic4\", \"Topic4\", \"Topic4\", \"Topic4\", \"Topic4\", \"Topic4\", \"Topic4\", \"Topic4\", \"Topic4\", \"Topic4\", \"Topic4\", \"Topic4\", \"Topic4\", \"Topic4\", \"Topic4\", \"Topic4\", \"Topic4\", \"Topic4\", \"Topic4\", \"Topic4\", \"Topic4\", \"Topic4\", \"Topic4\", \"Topic4\", \"Topic4\", \"Topic4\", \"Topic5\", \"Topic5\", \"Topic5\", \"Topic5\", \"Topic5\", \"Topic5\", \"Topic5\", \"Topic5\", \"Topic5\", \"Topic5\", \"Topic5\", \"Topic5\", \"Topic5\", \"Topic5\", \"Topic5\", \"Topic5\", \"Topic5\", \"Topic5\", \"Topic5\", \"Topic5\", \"Topic5\", \"Topic5\", \"Topic5\", \"Topic5\", \"Topic5\", \"Topic5\", \"Topic5\", \"Topic5\", \"Topic5\", \"Topic5\", \"Topic5\", \"Topic5\", \"Topic5\", \"Topic5\", \"Topic5\", \"Topic5\", \"Topic5\", \"Topic5\", \"Topic5\", \"Topic5\", \"Topic5\", \"Topic5\", \"Topic5\", \"Topic5\", \"Topic5\", \"Topic5\", \"Topic5\", \"Topic5\", \"Topic5\", \"Topic5\", \"Topic5\", \"Topic5\", \"Topic5\", \"Topic5\", \"Topic5\", \"Topic5\", \"Topic5\", \"Topic5\", \"Topic5\"], \"logprob\": [30.0, 29.0, 28.0, 27.0, 26.0, 25.0, 24.0, 23.0, 22.0, 21.0, 20.0, 19.0, 18.0, 17.0, 16.0, 15.0, 14.0, 13.0, 12.0, 11.0, 10.0, 9.0, 8.0, 7.0, 6.0, 5.0, 4.0, 3.0, 2.0, 1.0, -4.8471, -4.519, -3.557, -5.3981, -5.3126, -5.9474, -6.0494, -6.0475, -5.8031, -6.6351, -6.6604, -6.5985, -6.8437, -5.9126, -6.9502, -6.8953, -6.1887, -6.665, -7.0954, -6.4876, -7.2095, -7.242, -6.6089, -7.1316, -6.1935, -7.2679, -7.3198, -7.3393, -7.3595, -6.9126, -3.1206, -5.7043, -6.4985, -5.5682, -1.8902, -6.5499, -5.1958, -2.1767, -3.9787, -5.4403, -6.2797, -4.2056, -5.2189, -5.961, -4.802, -4.8242, -5.2219, -5.8191, -4.7951, -5.1959, -4.3246, -5.1233, -3.1276, -5.2188, -4.6421, -4.7624, -4.4992, -5.4812, -5.5601, -5.3149, -5.332, -5.4685, -5.5005, -3.5534, -4.9831, -4.5105, -5.2252, -5.2113, -5.5547, -3.3387, -6.1171, -6.0289, -4.2788, -6.4603, -6.5021, -6.532, -6.5854, -6.64, -3.6591, -6.6861, -6.6178, -6.767, -6.884, -6.9643, -6.9494, -6.9305, -7.0119, -7.0923, -7.0946, -7.1446, -7.135, -6.1248, -7.1984, -6.0309, -3.5995, -5.5513, -5.7919, -4.3185, -2.106, -5.3675, -6.3559, -4.0084, -4.7981, -2.54, -2.4827, -4.9734, -4.9503, -4.9706, -4.4831, -5.7182, -5.4935, -5.7965, -4.4025, -4.6962, -4.9621, -4.6762, -5.1765, -5.3411, -5.1177, -5.3038, -5.3412, -5.4326, -4.9954, -5.4527, -5.6434, -5.8354, -5.863, -5.7694, -5.9054, -5.9503, -5.9449, -6.1019, -6.1243, -6.2487, -6.2615, -6.3513, -6.3694, -6.3773, -6.4419, -6.4735, -6.5139, -6.5277, -6.5517, -6.55, -6.514, -6.6203, -3.5119, -6.6073, -6.6558, -6.6342, -6.6977, -6.7172, -6.6698, -3.8099, -4.885, -5.9048, -3.4163, -5.3239, -5.8862, -5.1471, -3.7711, -4.8602, -4.6732, -4.6604, -4.6589, -4.9499, -4.1693, -5.1655, -4.6428, -5.6709, -5.173, -4.5913, -2.7472, -5.0464, -5.2321, -4.736, -4.6398, -4.7159, -4.8155, -4.9061, -5.0287, -5.1483, -4.9679, -5.2078, -4.9949, -5.1285, -4.9311, -5.4773, -5.4826, -5.4423, -5.6509, -5.7625, -5.7635, -5.796, -5.7606, -5.8468, -6.0193, -6.1961, -6.2046, -6.2178, -6.2252, -6.2251, -6.2165, -6.2547, -6.2544, -6.2625, -5.6537, -6.3065, -6.3755, -6.0068, -5.6829, -6.4187, -6.4656, -6.4919, -6.5087, -4.378, -4.7305, -5.7038, -4.9043, -4.8498, -4.2653, -4.6991, -5.038, -5.9892, -5.3103, -5.8079, -5.6324, -6.0273, -5.5086, -5.5964, -5.6079, -4.6807, -5.0136, -5.2255, -4.9658, -4.8353, -5.0122, -4.889, -5.1008, -5.1592, -4.9615, -5.1201, -5.106, -5.1914, -5.2317, -5.4361, -5.3683, -5.2638, -5.3206, -3.4872, -3.8788, -3.6433, -3.7233, -4.3886, -4.5046, -5.9354, -5.9975, -6.0004, -5.7083, -6.2297, -6.3155, -6.3232, -6.4589, -6.4401, -6.4996, -4.7283, -6.5973, -6.5938, -6.6025, -6.6134, -6.5671, -6.633, -6.6285, -6.6269, -6.556, -6.6878, -6.5988, -6.7423, -6.6828, -6.5558, -5.733, -5.3772, -3.5986, -5.1336, -5.204, -4.0403, -3.8978, -5.0042, -4.5078, -5.4598, -3.3246, -4.8782, -4.1834, -5.0701, -4.7301, -5.4344, -4.7812, -2.8255, -4.6243, -4.6393, -4.7729, -4.4902, -5.1024, -5.4109, -5.0501, -5.3448, -5.3692, -5.2973], \"loglift\": [30.0, 29.0, 28.0, 27.0, 26.0, 25.0, 24.0, 23.0, 22.0, 21.0, 20.0, 19.0, 18.0, 17.0, 16.0, 15.0, 14.0, 13.0, 12.0, 11.0, 10.0, 9.0, 8.0, 7.0, 6.0, 5.0, 4.0, 3.0, 2.0, 1.0, 1.0277, 1.0267, 1.0253, 1.0246, 1.0225, 1.0194, 1.0183, 1.0154, 1.0092, 1.0072, 1.0037, 1.0022, 1.0016, 1.0009, 0.9983, 0.9976, 0.995, 0.9941, 0.9929, 0.9895, 0.9889, 0.9871, 0.9867, 0.9864, 0.9862, 0.9859, 0.9838, 0.9832, 0.9819, 0.9815, 0.961, 0.9705, 0.9667, 0.9216, 0.7334, 0.9568, 0.8676, 0.6693, 0.7878, 0.8681, 0.9279, 0.6793, 0.7849, 0.8821, 0.6495, 0.6455, 0.681, 0.8167, 0.5652, 0.6558, 0.4038, 0.5329, -0.3245, 0.5048, 0.1702, 0.1869, -0.096, 0.6083, 0.6487, 0.3804, 0.3866, 0.1771, -0.6465, 1.4953, 1.4906, 1.4887, 1.4872, 1.486, 1.4847, 1.4796, 1.4742, 1.4729, 1.4726, 1.4655, 1.4634, 1.4622, 1.4614, 1.4582, 1.4582, 1.4577, 1.4576, 1.4541, 1.4475, 1.445, 1.4449, 1.4423, 1.441, 1.4371, 1.4353, 1.4344, 1.4331, 1.4316, 1.4301, 1.3962, 1.2546, 1.304, 1.2723, 1.0701, 0.6971, 1.1498, 1.3281, 0.8039, 0.9444, 0.306, 0.1409, 0.8839, 0.8327, 0.748, 0.4662, 1.0533, 0.9361, 1.0487, 0.0007, 0.1887, 0.3982, 0.0522, 0.2614, 0.3666, -0.0697, 0.1664, -0.1567, 0.213, 1.9007, 1.8937, 1.8894, 1.8856, 1.8854, 1.8841, 1.8838, 1.883, 1.8817, 1.8783, 1.8773, 1.8725, 1.8723, 1.8681, 1.8674, 1.8673, 1.8641, 1.8624, 1.8611, 1.8593, 1.8592, 1.8587, 1.8572, 1.8554, 1.8551, 1.8533, 1.8528, 1.85, 1.85, 1.8494, 1.8491, 1.7333, 1.7472, 1.8075, 1.6317, 1.7508, 1.7858, 1.7002, 1.4134, 1.5559, 1.4534, 1.4486, 1.4256, 1.4965, 1.2193, 1.4957, 1.3195, 1.6525, 1.42, 1.0836, 0.0558, 1.1155, 1.2427, 0.8, 0.6528, 0.722, 0.8064, 0.8, 0.8956, 0.9931, 0.6777, 1.0566, -0.9134, 1.9263, 1.9215, 1.9204, 1.9199, 1.919, 1.9174, 1.9146, 1.9145, 1.9139, 1.9137, 1.9126, 1.9076, 1.9018, 1.9012, 1.9004, 1.9004, 1.9002, 1.9001, 1.8993, 1.8987, 1.8986, 1.8976, 1.8965, 1.8943, 1.894, 1.8927, 1.8922, 1.8904, 1.8892, 1.8879, 1.8808, 1.8721, 1.86, 1.7967, 1.7897, 1.7448, 1.7137, 1.7284, 1.8514, 1.5838, 1.7578, 1.6865, 1.8309, 1.5956, 1.609, 1.5816, 0.9527, 1.1804, 1.2881, 0.9965, 0.7866, 0.9671, 0.8187, 1.0324, 1.0027, 0.4272, 0.5966, 0.43, 0.5322, 0.62, 1.012, 0.3222, -0.3145, -2.5175, 2.0475, 2.0466, 2.0464, 2.0434, 2.0425, 2.0405, 2.0178, 2.0156, 2.015, 2.0115, 2.0063, 2.0027, 2.0025, 1.9951, 1.995, 1.993, 1.9914, 1.9878, 1.9875, 1.9871, 1.9867, 1.986, 1.9852, 1.9852, 1.9841, 1.9832, 1.9815, 1.9787, 1.977, 1.9766, 1.9692, 1.9227, 1.8848, 1.694, 1.8021, 1.8091, 1.6503, 1.6247, 1.7566, 1.6137, 1.743, 1.0786, 1.5083, 1.2868, 1.4812, 1.2575, 1.5447, 1.1282, -0.0224, 0.94, 0.7493, 0.7631, 0.2382, 0.8557, 1.3693, 0.3878, 1.0552, 0.9039, -0.1127]}, \"token.table\": {\"Topic\": [4, 2, 5, 3, 4, 5, 2, 5, 1, 5, 1, 2, 5, 2, 4, 5, 2, 1, 2, 3, 1, 3, 4, 3, 5, 4, 1, 2, 3, 4, 1, 2, 1, 1, 3, 2, 3, 3, 3, 4, 5, 1, 2, 2, 5, 1, 5, 1, 2, 2, 3, 3, 3, 4, 5, 1, 2, 3, 5, 4, 1, 2, 5, 2, 3, 4, 5, 2, 2, 3, 4, 5, 4, 1, 2, 3, 4, 5, 5, 2, 4, 5, 2, 1, 2, 3, 4, 5, 4, 4, 3, 3, 1, 1, 3, 4, 2, 1, 3, 1, 2, 3, 5, 3, 1, 2, 4, 5, 3, 1, 2, 2, 2, 3, 4, 5, 1, 4, 1, 2, 3, 4, 3, 4, 1, 2, 4, 1, 4, 1, 2, 3, 4, 5, 1, 2, 3, 2, 3, 4, 5, 1, 3, 4, 5, 1, 2, 3, 4, 5, 4, 5, 1, 4, 1, 2, 4, 1, 2, 1, 2, 3, 4, 5, 1, 2, 3, 4, 5, 4, 2, 1, 3, 4, 5, 3, 1, 2, 1, 2, 3, 4, 5, 1, 2, 3, 4, 2, 2, 3, 4, 5, 1, 2, 1, 2, 3, 5, 1, 3, 5, 2, 1, 2, 3, 1, 2, 3, 4, 5, 1, 3, 1, 1, 2, 5, 4, 2, 3, 5, 4, 1, 2, 3, 4, 5, 1, 2, 3, 1, 3, 4, 5, 1, 2, 1, 1, 2, 3, 1, 2, 3, 2, 5, 5, 1, 2, 3, 5, 1, 2, 3, 4, 5, 3, 1, 2, 3, 4, 5, 1, 2, 4, 5, 4, 1, 3, 4, 5, 5, 4, 5, 3, 4, 1, 2, 3, 4, 5, 1, 2, 3, 4, 5, 1, 2, 3, 5, 1, 4, 1, 2, 3, 4, 5, 1, 4, 5, 4, 1, 3, 4, 5, 1, 4, 5, 1, 1, 2, 3, 4, 5, 2, 3, 1, 2, 3, 4, 1, 2, 3, 4, 5, 4, 3, 3, 2, 5, 1, 2, 3, 4, 5, 3, 5, 1, 2, 3, 5, 2, 3, 3, 1, 2, 3, 4, 1, 3, 3, 1, 2, 3, 4, 5, 1, 4, 5, 1, 2, 4, 1, 2, 5, 1, 2, 4, 5, 1, 2, 4, 3, 3, 5, 1, 2, 4, 1, 2, 3, 5, 3, 4, 5, 1, 3, 5, 3, 4, 5, 4, 4, 1, 3, 4, 5, 5, 5, 1, 2, 5, 3, 4, 1, 3, 4, 1, 3, 1, 3, 1, 5, 4, 5, 1, 1, 2, 4, 5, 1, 2, 4, 1, 2, 1, 1, 2, 4, 3, 1, 2, 3, 1, 3, 4, 3, 1, 2, 3, 4, 4, 1, 2, 3, 4, 2, 1, 2, 3, 4, 4, 1, 3, 5, 1, 3, 3, 1, 3, 4, 5, 4, 5, 1, 2, 3, 4, 5, 5, 3, 3, 1, 2, 3, 4, 5, 5, 3, 5, 3, 4, 5, 5, 2, 5, 2, 1, 2, 3, 4, 5, 3, 4, 4, 5, 3, 4, 1, 2, 4, 1, 2, 3, 4, 5, 2, 4, 3, 2, 5, 2, 4, 5, 1, 2, 3, 5, 1, 2, 3, 4, 5, 1, 2, 3, 4, 5, 1, 2, 3, 4, 5, 2, 2, 4, 5, 1, 2, 2, 3, 4, 5, 2, 3, 4, 5, 1, 3, 1, 2, 3, 5, 4, 3, 4, 5, 1, 2, 3, 4, 5, 1, 4, 5, 1, 2, 3, 4, 5, 2, 2, 1, 2, 5, 1, 2, 3, 4, 5, 1, 2, 1, 2, 3, 4, 5, 1, 4, 4], \"Freq\": [0.9533244018396185, 0.9813134898853085, 0.9036992633724846, 0.2379490030368747, 0.6940179255242178, 0.05948725075921867, 0.9711674788554412, 0.9264457378882031, 0.9404373693176379, 0.05224652051764655, 0.1598922495797401, 0.2576041798784702, 0.5773886790379503, 0.9897525816986341, 0.9371425986796671, 0.05512603521645101, 0.9938762300988424, 0.8462259029888506, 0.14788413838640108, 0.9408775919612817, 0.957253188707074, 0.13728460341991663, 0.858028771374479, 0.9328907978682942, 0.9971123480736115, 0.9676023605991831, 0.4232462361153945, 0.4986944782055301, 0.0588864328508375, 0.01840201026588672, 0.9871722573611994, 0.9976774922400026, 0.978873097680987, 0.9879911428652084, 0.9193706598340253, 0.9742752649112968, 0.023533218959210067, 0.9696158093844186, 0.7045005557004983, 0.2927794517196876, 0.9646442048949629, 0.9629322307095949, 0.01504581610483742, 0.9783789851550063, 0.917558049467781, 0.9666902032892281, 0.9155327171326902, 0.5238134692093891, 0.473709572154578, 0.1830638997752705, 0.8026647913223398, 0.9564385552601101, 0.3665693438490257, 0.06284045894554725, 0.5655641305099253, 0.6076308230996011, 0.14548907031962283, 0.10269816728443963, 0.1412099800161045, 0.960386692271664, 0.4499945444498418, 0.5389469543992291, 0.010464989405810275, 0.19225205518659313, 0.6061280073243978, 0.08544535786070806, 0.11481719962532645, 0.9457592293362903, 0.005811820260694662, 0.5521229247659928, 0.3893919574665423, 0.052306382346251956, 0.9836130791481444, 0.257620359996228, 0.448861527617949, 0.15620085045748308, 0.011597851455768885, 0.12584902643493898, 0.9966846994201926, 0.9052186688685829, 0.07543488907238191, 0.9807893754131051, 0.911819405165944, 0.7420114445918821, 0.2573736194693354, 0.00020622886175427518, 0.00041245772350855035, 0.00020622886175427518, 0.9429685246340984, 0.9363266737231697, 0.9415828216083352, 0.9395186327420844, 0.9839180861349653, 0.020145593205321912, 0.2618927116691848, 0.7252413553915888, 0.9617900941836321, 0.9411455670077367, 0.9681244817906274, 0.9550677756117621, 0.01487432805311133, 0.28261223300911525, 0.6990934184962325, 0.9740281098269947, 0.19081290877064241, 0.12266544135255585, 0.04088848045085195, 0.6474009404718225, 0.9782293931696995, 0.9235345333240083, 0.9401285693519367, 0.9477327463450372, 0.8046971714201167, 0.03498683354000507, 0.1049605006200152, 0.0524802503100076, 0.9517097952077918, 0.026436383200216438, 0.1179240763939346, 0.2672945731595851, 0.42452667501816455, 0.1808169171373664, 0.9606121744438529, 0.9791580084666567, 0.007405692693355229, 0.9812542818695679, 0.011108539040032844, 0.9085654460217483, 0.08076137297971096, 0.10482443204682346, 0.16846783721810912, 0.0037437297159579807, 0.06738713488724365, 0.6514089705766887, 0.2921078561750578, 0.2659489436817691, 0.435981874888146, 0.9885559883599736, 0.09481494248850579, 0.03160498082950193, 0.8849394632260541, 0.1416976542648235, 0.3211813496669333, 0.3967534319415058, 0.1416976542648235, 0.7024626160797042, 0.26911243883616837, 0.025723983124045505, 0.9877096607606975, 0.9788345162831866, 0.9345053818926092, 0.9888979715681729, 0.07604755063326023, 0.9125706075991227, 0.32321746491180764, 0.6323819965665802, 0.02810586651407023, 0.994714039775296, 0.9196574948825467, 0.4305330057442808, 0.35666704887638945, 0.10552279552555902, 0.10552279552555902, 0.00422091182102236, 0.7840101250334698, 0.10547221413006319, 0.03164166423901896, 0.050978236829530545, 0.028125923768016852, 0.9814093992313773, 0.9444423530930206, 0.9741486520852467, 0.0426377374113896, 0.0852754748227792, 0.8527547482277921, 0.9783991852027332, 0.9258754253737191, 0.05446326031610113, 0.6834919596599746, 0.21620664030060419, 0.013948815503264787, 0.006974407751632394, 0.08369289301958872, 0.423425164444156, 0.2752263568887014, 0.29216336346646765, 0.0042342516444415605, 0.9843947107871952, 0.022144555006997125, 0.1062938640335862, 0.19930099506297413, 0.6687655612113131, 0.7814588944680568, 0.21202373105722472, 0.47404320827248014, 0.013167866896457782, 0.013167866896457782, 0.5003789420653957, 0.20401902543324968, 0.77073854052561, 0.02266878060369441, 0.975395332392461, 0.9361562043789764, 0.04740031414577096, 0.9618427203166616, 0.23391606361156111, 0.269903150321032, 0.3283821662239223, 0.12595480348314828, 0.04048547254815481, 0.0544844329013333, 0.9454651591701955, 0.9957990003557428, 0.35345396259364914, 0.03213217841760447, 0.6105113899344848, 0.9685916901405225, 0.01291525375881771, 0.24538982141753646, 0.7490847180114272, 0.9694733664302717, 0.34728227490131797, 0.09371109005273659, 0.05512417061925682, 0.09922350711466228, 0.39689402845864913, 0.36343689784732164, 0.006730312923098549, 0.625919101848165, 0.5364309280053913, 0.005960343644504347, 0.005960343644504347, 0.4529861169823304, 0.42658993901684267, 0.5656953539136391, 0.9666410149086816, 0.9313749053980246, 0.008861797387231442, 0.05937404249445066, 0.01747456831556683, 0.9611012573561756, 0.01997093521779066, 0.8233039193988461, 0.17033874194458884, 0.9128425579226188, 0.6270700738041097, 0.33422516624076914, 0.006366193642681317, 0.031830968213406585, 0.30129326782028903, 0.6517104380025817, 0.006549853648267153, 0.03929912188960292, 0.0032749268241335765, 0.9441662682952608, 0.3239188771003143, 0.2236873755070095, 0.0488934154113682, 0.025669043090968305, 0.37770163405281937, 0.504204441935857, 0.00900365074885459, 0.11704745973510966, 0.36914968070303816, 0.9355396194300929, 0.017677528050820738, 0.8485213464393954, 0.035355056101641476, 0.08838764025410369, 0.9533698390907525, 0.9833802394592944, 0.9509789498477513, 0.6602194141442475, 0.33954141298847007, 0.5282996900913399, 0.006951311711728157, 0.396224767568505, 0.041707870270368944, 0.020853935135184472, 0.13146863077152787, 0.26293726154305574, 0.010659618711204962, 0.13146863077152787, 0.46547001705595, 0.11644656628502523, 0.00684979801676619, 0.6301814175424895, 0.24659272860358283, 0.962122967830114, 0.03927032521755568, 0.16004091062615586, 0.171751221159777, 0.19907527907155972, 0.14052372640345392, 0.3278886949413925, 0.43619675066579017, 0.24585635037526357, 0.317234000484211, 0.9282089361378377, 0.0038222270422857553, 0.8370677222605805, 0.061155632676572085, 0.09555567605714388, 0.9626531328913434, 0.040110547203805975, 0.9304513225558442, 0.9741857490748945, 0.11383380675863423, 0.060711363604604926, 0.33011803960003927, 0.22007869306669284, 0.27699559644600996, 0.9779323270958635, 0.9748535545343124, 0.5905786366646106, 0.054937547596707964, 0.10987509519341593, 0.2426408352187935, 0.5206243335832352, 0.28923574087957515, 0.13349341886749622, 0.017799122515666163, 0.040048025660248864, 0.9520286919021371, 0.9742670069403635, 0.9253326133874065, 0.9261298809682966, 0.948508088977187, 0.26770248037875766, 0.2593367778669215, 0.046011363815098974, 0.37227376177670984, 0.05019421507101706, 0.2612107423119483, 0.7434459588878528, 0.15383249751647957, 0.015383249751647956, 0.03076649950329591, 0.7845457373340458, 0.06689036506056886, 0.9030199283176796, 0.964021122813084, 0.24024438285406832, 0.010920199220639469, 0.6115311563558102, 0.13104239064767362, 0.9962098821435139, 0.003831576469782746, 0.9751671354821515, 0.019407211536267642, 0.1940721153626764, 0.5142911057110925, 0.2328865384352117, 0.0485180288406691, 0.9783293166825404, 0.9225591273812916, 0.05765994546133073, 0.35144239071523525, 0.32440836066021717, 0.32440836066021717, 0.2632111588315404, 0.708645427623378, 0.030370518326716202, 0.961506279837891, 0.04986432526019369, 0.14959297578058106, 0.781207762409701, 0.3025969872011377, 0.1815581923206826, 0.524501444481972, 0.9359720898514631, 0.977684922715033, 0.9649503632542275, 0.953248034991787, 0.028471716308313612, 0.9680383544826628, 0.6783357944413945, 0.09589040026134896, 0.14561134854501137, 0.07813291873146952, 0.046909468143863785, 0.9460076075679197, 0.007818244690643964, 0.10521485928581441, 0.6546702355561785, 0.2338107984129209, 0.19150763342098662, 0.7933887670298017, 0.009119411115285078, 0.960726531164607, 0.9889392813710755, 0.007095727495893018, 0.45412655973715316, 0.390265012274116, 0.1490102774137534, 0.9938108467791698, 0.9060951956551909, 0.006030234123904277, 0.9889583963203015, 0.9751909904124094, 0.9685808377096208, 0.9536220608564071, 0.22135835138028664, 0.07378611712676221, 0.6935895009915648, 0.8554201585282138, 0.1262095315861299, 0.9770933328070761, 0.9188981575542632, 0.9523609664005759, 0.029761280200017996, 0.9768539830119738, 0.014157304101622808, 0.9830453599179986, 0.012987231575055066, 0.0389616947251652, 0.8052083576534141, 0.12987231575055067, 0.6959874270525886, 0.30343197226793095, 0.0005151646388250101, 0.9927893968034511, 0.005848538420049786, 0.9514028828255165, 0.9534774478523316, 0.845317146536825, 0.13004879177489614, 0.9906954291238321, 0.09850998076057148, 0.28896261023100966, 0.6173292127662479, 0.8488285267229143, 0.14147142112048572, 0.00643051914184026, 0.9689054423921393, 0.896327662139571, 0.09849754529006274, 0.9826555719371111, 0.9419284306586923, 0.9816921765026073, 0.18610939479654917, 0.7847293038328723, 0.005755960663810799, 0.023023842655243196, 0.9523486958736501, 0.2480230094728192, 0.6396382875877968, 0.07832305562299553, 0.02610768520766518, 0.9659156162217456, 0.09636993504199345, 0.8673294153779411, 0.9579518583779504, 0.14763340519015544, 0.8517311837893584, 0.9709316103487011, 0.468893018161668, 0.10343228341801501, 0.40683364811085904, 0.020686456683603, 0.9766818237213695, 0.9487655439054902, 0.65344104178391, 0.006600414563473839, 0.039602487380843036, 0.204612851467689, 0.09240580388863374, 0.9102370957008931, 0.9814133232151042, 0.9732724314528272, 0.26367875430374027, 0.2500401980466503, 0.06819278128545007, 0.2591325688847103, 0.15457030424702017, 0.9488580796689339, 0.0336996059606123, 0.9772885728577567, 0.1444254363219504, 0.8376675306673124, 0.9956924802458125, 0.960640010918286, 0.004779234553579399, 0.994080787144515, 0.9754609450204628, 0.20688825183283083, 0.23053262347086864, 0.17733278728528357, 0.378309946208605, 0.011822185819018905, 0.27310872238529005, 0.7100826782017542, 0.9737768268930906, 0.9570500412245461, 0.1707043416150219, 0.8230387899295698, 0.809218021234753, 0.10257693226919404, 0.07978205843159536, 0.5091382627823662, 0.07273403754033803, 0.36367018770169013, 0.01678477789392416, 0.03916448175248971, 0.9443486315310906, 0.05723325039582367, 0.9431007398434657, 0.9085375287935926, 0.904558611715518, 0.9318539002490803, 0.9692207351917345, 0.0403841972996556, 0.5330071257626298, 0.23519996978096996, 0.06768344454128632, 0.16244026689908717, 0.6841457860574502, 0.20078191547338214, 0.09667277411681362, 0.02230910171926468, 0.9599093916262316, 0.6868285401978671, 0.026016232583252544, 0.015609739549951526, 0.26536557234917596, 0.005203246516650509, 0.28662377439750286, 0.5149511879005985, 0.0728704511180092, 0.12630878193788264, 0.004858030074533947, 0.9090308034347901, 0.03870037148391677, 0.8901085441300858, 0.07740074296783354, 0.9659731545005392, 0.01971373784694978, 0.0065494697399629915, 0.5010344351071688, 0.21940723628876022, 0.27180299420846415, 0.029307985319780728, 0.30773384585769764, 0.46892776511649165, 0.19782890090851993, 0.9790232050844627, 0.013597544515061982, 0.3592128906494397, 0.5738076045439102, 0.046651024759667495, 0.013995307427900248, 0.9845855809479888, 0.045133402273912576, 0.7672678386565138, 0.157966907958694, 0.1892164098973405, 0.2889850623886655, 0.3027462558357448, 0.02752238689415862, 0.1892164098973405, 0.024330487249935813, 0.8637322973727214, 0.09732194899974325, 0.03028207352806234, 0.20964512442504699, 0.7547224479301691, 0.004658780542778821, 0.0023293902713894107, 0.9839367113755753, 0.9547347040820927, 0.03718578752148498, 0.024790525014323318, 0.9420399505442861, 0.4456336497295817, 0.09838664994029726, 0.040512149975416516, 0.11574899992976148, 0.30094739981737983, 0.7065168503820645, 0.2902743648856544, 0.09511186860162263, 0.2563885153608958, 0.33082389078825264, 0.31428269624884, 0.004135298634853158, 0.02917211753928109, 0.9626798787962759, 0.9549017559632138], \"Term\": [\"5\", \"absolute\", \"access\", \"add\", \"add\", \"add\", \"ahead\", \"aid\", \"already\", \"already\", \"amaze\", \"amaze\", \"amaze\", \"amazing\", \"answer\", \"answer\", \"anyone\", \"application\", \"application\", \"appropriate\", \"aspect\", \"assignment\", \"assignment\", \"author\", \"awesome\", \"bad\", \"basic\", \"basic\", \"basic\", \"basic\", \"become\", \"beginner\", \"behind\", \"believe\", \"benefit\", \"best\", \"best\", \"better\", \"bit\", \"bit\", \"boring\", \"brief\", \"brief\", \"brilliant\", \"bring\", \"broad\", \"cannot\", \"career\", \"career\", \"certificate\", \"certificate\", \"challenge\", \"class\", \"class\", \"class\", \"clear\", \"clear\", \"clear\", \"clear\", \"code\", \"concept\", \"concept\", \"concept\", \"content\", \"content\", \"content\", \"content\", \"cool\", \"could\", \"could\", \"could\", \"could\", \"cours\", \"course\", \"course\", \"course\", \"course\", \"course\", \"coursera\", \"curious\", \"curious\", \"d\", \"daily\", \"data\", \"data\", \"data\", \"data\", \"data\", \"datascience\", \"de\", \"decent\", \"decide\", \"deep\", \"didnt\", \"didnt\", \"didnt\", \"difficult\", \"discipline\", \"discuss\", \"dive\", \"easy\", \"easy\", \"easy\", \"element\", \"enjoy\", \"enjoy\", \"enjoy\", \"enjoy\", \"enough\", \"entail\", \"enter\", \"ever\", \"everyone\", \"everyone\", \"everyone\", \"everyone\", \"exactly\", \"exactly\", \"example\", \"example\", \"example\", \"example\", \"examples\", \"excelente\", \"excellent\", \"excellent\", \"excellent\", \"excite\", \"excite\", \"experience\", \"experience\", \"experience\", \"experience\", \"experience\", \"explain\", \"explain\", \"explain\", \"explanation\", \"far\", \"far\", \"far\", \"feel\", \"feel\", \"feel\", \"feel\", \"field\", \"field\", \"field\", \"final\", \"financial\", \"fluff\", \"follow\", \"form\", \"form\", \"gain\", \"gain\", \"gain\", \"general\", \"gentle\", \"get\", \"get\", \"get\", \"get\", \"get\", \"give\", \"give\", \"give\", \"give\", \"give\", \"grade\", \"grow\", \"guide\", \"happy\", \"happy\", \"happy\", \"hard\", \"hear\", \"hear\", \"help\", \"help\", \"help\", \"help\", \"help\", \"helpful\", \"helpful\", \"helpful\", \"helpful\", \"highly\", \"ibm\", \"ibm\", \"ibm\", \"ibm\", \"idea\", \"idea\", \"im\", \"im\", \"im\", \"im\", \"include\", \"include\", \"include\", \"individual\", \"industry\", \"industry\", \"info\", \"information\", \"information\", \"information\", \"information\", \"information\", \"informative\", \"informative\", \"insight\", \"insightful\", \"insightful\", \"insightful\", \"instead\", \"instructor\", \"instructor\", \"instructor\", \"interactive\", \"interest\", \"interest\", \"interest\", \"interest\", \"interest\", \"interesting\", \"interesting\", \"interesting\", \"intro\", \"intro\", \"intro\", \"intro\", \"introduce\", \"introduce\", \"introduces\", \"introduction\", \"introduction\", \"introduction\", \"introductory\", \"introductory\", \"introductory\", \"journey\", \"journey\", \"kick\", \"know\", \"know\", \"know\", \"know\", \"knowledge\", \"knowledge\", \"knowledge\", \"knowledge\", \"knowledge\", \"lack\", \"learn\", \"learn\", \"learn\", \"learn\", \"learn\", \"learning\", \"learning\", \"learning\", \"learning\", \"least\", \"lecture\", \"lecture\", \"lecture\", \"lecture\", \"lecturer\", \"light\", \"listen\", \"little\", \"little\", \"look\", \"look\", \"look\", \"look\", \"look\", \"lot\", \"lot\", \"lot\", \"lot\", \"lot\", \"love\", \"love\", \"love\", \"love\", \"machine\", \"machine\", \"make\", \"make\", \"make\", \"make\", \"make\", \"many\", \"many\", \"many\", \"match\", \"material\", \"material\", \"material\", \"material\", \"mining\", \"mining\", \"miss\", \"motivation\", \"much\", \"much\", \"much\", \"much\", \"much\", \"murtaza\", \"necessary\", \"need\", \"need\", \"need\", \"need\", \"new\", \"new\", \"new\", \"new\", \"new\", \"newbie\", \"nicely\", \"note\", \"novice\", \"number\", \"one\", \"one\", \"one\", \"one\", \"one\", \"online\", \"online\", \"opportunity\", \"opportunity\", \"opportunity\", \"opportunity\", \"organize\", \"organize\", \"outdated\", \"overall\", \"overall\", \"overall\", \"overall\", \"overview\", \"overview\", \"pace\", \"part\", \"part\", \"part\", \"part\", \"part\", \"path\", \"peer\", \"peer\", \"people\", \"people\", \"people\", \"perfect\", \"perfect\", \"perfect\", \"picture\", \"platform\", \"platform\", \"platform\", \"practical\", \"practical\", \"practical\", \"precise\", \"presentation\", \"previous\", \"profession\", \"project\", \"project\", \"provide\", \"provide\", \"provide\", \"provide\", \"question\", \"question\", \"question\", \"quite\", \"quite\", \"quite\", \"quiz\", \"quiz\", \"quiz\", \"quizzes\", \"rather\", \"read\", \"read\", \"read\", \"read\", \"reading\", \"receive\", \"recommend\", \"recommend\", \"recommended\", \"reference\", \"repetitive\", \"report\", \"report\", \"report\", \"require\", \"require\", \"requirement\", \"resource\", \"rest\", \"rest\", \"review\", \"review\", \"role\", \"say\", \"say\", \"say\", \"say\", \"science\", \"science\", \"science\", \"scientist\", \"scientist\", \"scope\", \"sense\", \"share\", \"share\", \"short\", \"simple\", \"simple\", \"simple\", \"skill\", \"skill\", \"skill\", \"skip\", \"someone\", \"someone\", \"specific\", \"spend\", \"star\", \"start\", \"start\", \"start\", \"start\", \"starter\", \"step\", \"step\", \"step\", \"step\", \"still\", \"story\", \"story\", \"straightforward\", \"structure\", \"structure\", \"structured\", \"student\", \"student\", \"student\", \"student\", \"stuff\", \"style\", \"subject\", \"subject\", \"subject\", \"subject\", \"subject\", \"subtitle\", \"super\", \"superb\", \"take\", \"take\", \"take\", \"take\", \"take\", \"teacher\", \"team\", \"team\", \"test\", \"test\", \"thank\", \"thankful\", \"thanks\", \"thanks\", \"theory\", \"think\", \"think\", \"think\", \"think\", \"think\", \"though\", \"though\", \"three\", \"throughout\", \"time\", \"time\", \"tool\", \"tool\", \"tool\", \"topic\", \"topic\", \"topic\", \"topic\", \"topic\", \"towards\", \"towards\", \"train\", \"training\", \"transcript\", \"tutorial\", \"two\", \"two\", \"understand\", \"understand\", \"understand\", \"understand\", \"understanding\", \"understanding\", \"understanding\", \"understanding\", \"unnecessary\", \"use\", \"use\", \"use\", \"use\", \"use\", \"useful\", \"useful\", \"useful\", \"useful\", \"useful\", \"usefull\", \"value\", \"value\", \"value\", \"various\", \"various\", \"video\", \"video\", \"video\", \"video\", \"videos\", \"videos\", \"videos\", \"videos\", \"view\", \"view\", \"want\", \"want\", \"want\", \"want\", \"waste\", \"watson\", \"watson\", \"watson\", \"way\", \"way\", \"way\", \"way\", \"way\", \"week\", \"week\", \"week\", \"well\", \"well\", \"well\", \"well\", \"well\", \"whats\", \"willing\", \"wonderful\", \"wonderful\", \"wonderful\", \"work\", \"work\", \"work\", \"work\", \"work\", \"world\", \"world\", \"would\", \"would\", \"would\", \"would\", \"would\", \"write\", \"write\", \"\\u00e3\"]}, \"R\": 30, \"lambda.step\": 0.01, \"plot.opts\": {\"xlab\": \"PC1\", \"ylab\": \"PC2\"}, \"topic.order\": [4, 5, 1, 2, 3]};\n",
       "\n",
       "function LDAvis_load_lib(url, callback){\n",
       "  var s = document.createElement('script');\n",
       "  s.src = url;\n",
       "  s.async = true;\n",
       "  s.onreadystatechange = s.onload = callback;\n",
       "  s.onerror = function(){console.warn(\"failed to load library \" + url);};\n",
       "  document.getElementsByTagName(\"head\")[0].appendChild(s);\n",
       "}\n",
       "\n",
       "if(typeof(LDAvis) !== \"undefined\"){\n",
       "   // already loaded: just create the visualization\n",
       "   !function(LDAvis){\n",
       "       new LDAvis(\"#\" + \"ldavis_el386151403697096745763888374318\", ldavis_el386151403697096745763888374318_data);\n",
       "   }(LDAvis);\n",
       "}else if(typeof define === \"function\" && define.amd){\n",
       "   // require.js is available: use it to load d3/LDAvis\n",
       "   require.config({paths: {d3: \"https://d3js.org/d3.v5\"}});\n",
       "   require([\"d3\"], function(d3){\n",
       "      window.d3 = d3;\n",
       "      LDAvis_load_lib(\"https://cdn.jsdelivr.net/gh/bmabey/pyLDAvis@3.2.2/pyLDAvis/js/ldavis.v3.0.0.js\", function(){\n",
       "        new LDAvis(\"#\" + \"ldavis_el386151403697096745763888374318\", ldavis_el386151403697096745763888374318_data);\n",
       "      });\n",
       "    });\n",
       "}else{\n",
       "    // require.js not available: dynamically load d3 & LDAvis\n",
       "    LDAvis_load_lib(\"https://d3js.org/d3.v5.js\", function(){\n",
       "         LDAvis_load_lib(\"https://cdn.jsdelivr.net/gh/bmabey/pyLDAvis@3.2.2/pyLDAvis/js/ldavis.v3.0.0.js\", function(){\n",
       "                 new LDAvis(\"#\" + \"ldavis_el386151403697096745763888374318\", ldavis_el386151403697096745763888374318_data);\n",
       "            })\n",
       "         });\n",
       "}\n",
       "</script>"
      ],
      "text/plain": [
       "PreparedData(topic_coordinates=              x         y  topics  cluster       Freq\n",
       "topic                                                \n",
       "3      0.217006  0.042367       1        1  35.633585\n",
       "4      0.202009  0.001152       2        1  22.354259\n",
       "0     -0.097067 -0.015777       3        1  14.772997\n",
       "1     -0.199999  0.183742       4        1  14.377771\n",
       "2     -0.121948 -0.211485       5        1  12.861389, topic_info=             Term         Freq        Total Category  logprob  loglift\n",
       "8            data  4848.000000  4848.000000  Default  30.0000  30.0000\n",
       "21        science  3882.000000  3882.000000  Default  29.0000  29.0000\n",
       "7          course  4052.000000  4052.000000  Default  28.0000  28.0000\n",
       "40   introduction  1128.000000  1128.000000  Default  27.0000  27.0000\n",
       "55      excellent   540.000000   540.000000  Default  26.0000  26.0000\n",
       "..            ...          ...          ...      ...      ...      ...\n",
       "727            im    38.410173    75.942444   Topic5  -5.4109   1.3693\n",
       "251           way    55.097576   290.672464   Topic5  -5.0501   0.3878\n",
       "32       learning    41.032279   111.066058   Topic5  -5.3448   1.0552\n",
       "230          many    40.044174   126.089889   Topic5  -5.3692   0.9039\n",
       "42        content    43.032058   374.508350   Topic5  -5.2973  -0.1127\n",
       "\n",
       "[338 rows x 6 columns], token_table=      Topic      Freq      Term\n",
       "term                           \n",
       "1292      4  0.953324         5\n",
       "984       2  0.981313  absolute\n",
       "1633      5  0.903699    access\n",
       "180       3  0.237949       add\n",
       "180       4  0.694018       add\n",
       "...     ...       ...       ...\n",
       "202       4  0.314283     would\n",
       "202       5  0.004135     would\n",
       "1866      1  0.029172     write\n",
       "1866      4  0.962680     write\n",
       "2065      4  0.954902         ã\n",
       "\n",
       "[588 rows x 3 columns], R=30, lambda_step=0.01, plot_opts={'xlab': 'PC1', 'ylab': 'PC2'}, topic_order=[4, 5, 1, 2, 3])"
      ]
     },
     "execution_count": 31,
     "metadata": {},
     "output_type": "execute_result"
    }
   ],
   "source": [
    "# Visualize the topics\n",
    "pyLDAvis.enable_notebook()\n",
    "vis = pyLDAvis.gensim.prepare(lda_model, corpus, dictionary)\n",
    "vis"
   ]
  },
  {
   "cell_type": "markdown",
   "metadata": {},
   "source": [
    "What is topic perplexity and topic coherence: https://towardsdatascience.com/evaluate-topic-model-in-python-latent-dirichlet-allocation-lda-7d57484bb5d0"
   ]
  },
  {
   "cell_type": "code",
   "execution_count": 32,
   "metadata": {},
   "outputs": [
    {
     "name": "stdout",
     "output_type": "stream",
     "text": [
      "\n",
      "Perplexity:  -6.341172767751826\n",
      "\n",
      "Coherence Score:  0.5313644762071272\n"
     ]
    }
   ],
   "source": [
    "# Calculate Perplexity and Coherence\n",
    "\n",
    "# Compute Perplexity\n",
    "\n",
    "print('\\nPerplexity: ', lda_model.log_perplexity(corpus))  # a measure of how good the model is. The lower the better.\n",
    "\n",
    "# Compute Coherence Score\n",
    "\n",
    "coherence_model_lda = CoherenceModel(model = lda_model, texts = df['preprocessed'], dictionary = dictionary, coherence = 'c_v')\n",
    "coherence_lda = coherence_model_lda.get_coherence()\n",
    "print('\\nCoherence Score: ', coherence_lda)"
   ]
  },
  {
   "cell_type": "markdown",
   "metadata": {},
   "source": [
    "## Hyperparameter Tuning\n",
    "\n",
    "Code references\n",
    "\n",
    "Find the optimal number of topics, alpha and beta: https://towardsdatascience.com/evaluate-topic-model-in-python-latent-dirichlet-allocation-lda-7d57484bb5d0\n",
    "\n",
    "What is alpha and beta: https://www.thoughtvector.io/blog/lda-alpha-and-beta-parameters-the-intuition/"
   ]
  },
  {
   "cell_type": "markdown",
   "metadata": {},
   "source": [
    "## Calculate the coherence score\n",
    "\n",
    "Code reference: \n",
    "\n",
    "https://www.machinelearningplus.com/nlp/topic-modeling-gensim-python/#17howtofindtheoptimalnumberoftopicsforlda"
   ]
  },
  {
   "cell_type": "code",
   "execution_count": 33,
   "metadata": {},
   "outputs": [],
   "source": [
    "# Determine the optiomal number of topics by calculating the coherence score\n",
    "\n",
    "# Define function for calculating coherence score\n",
    "\n",
    "def compute_coherence_values(dictionary, corpus, texts, limit, start = 2, step = 3):\n",
    "    \"\"\"\n",
    "    Compute c_v coherence for various number of topics\n",
    "\n",
    "    Parameters:\n",
    "    ----------\n",
    "    dictionary : Gensim dictionary\n",
    "    corpus : Gensim corpus\n",
    "    texts : List of input texts\n",
    "    limit : Max num of topics\n",
    "\n",
    "    Returns:\n",
    "    -------\n",
    "    model_list : List of LDA topic models\n",
    "    coherence_values : Coherence values corresponding to the LDA model with respective number of topics\n",
    "    \"\"\"\n",
    "    coherence_values = []\n",
    "    model_list = []\n",
    "    for num_topics in range(start, limit, step):\n",
    "        model = LDA(corpus = corpus, num_topics = num_topics, id2word = dictionary, random_state = 100,\n",
    "                chunksize = 100, passes = 10)\n",
    "        model_list.append(model)\n",
    "        coherencemodel = CoherenceModel(model = model, texts = texts, dictionary = dictionary, coherence = 'c_v')\n",
    "        coherence_values.append(coherencemodel.get_coherence())\n",
    "\n",
    "    return model_list, coherence_values"
   ]
  },
  {
   "cell_type": "code",
   "execution_count": 34,
   "metadata": {},
   "outputs": [],
   "source": [
    "# Can take a long time to run.\n",
    "\n",
    "model_list, coherence_values = compute_coherence_values(dictionary = dictionary, corpus = corpus, texts = df['preprocessed'], start = 2, limit = 10, step = 1)"
   ]
  },
  {
   "cell_type": "code",
   "execution_count": 35,
   "metadata": {},
   "outputs": [
    {
     "data": {
      "image/png": "[encoded data removed]",
      "text/plain": [
       "<Figure size 432x288 with 1 Axes>"
      ]
     },
     "metadata": {
      "needs_background": "light"
     },
     "output_type": "display_data"
    }
   ],
   "source": [
    "# Show graph\n",
    "\n",
    "limit = 10; start = 2; step = 1;\n",
    "x = range(start, limit, step)\n",
    "plt.plot(x, coherence_values)\n",
    "plt.xlabel(\"Num Topics\")\n",
    "plt.ylabel(\"Coherence score\")\n",
    "plt.legend((\"coherence_values\"), loc = 'best')\n",
    "plt.show()\n"
   ]
  },
  {
   "cell_type": "code",
   "execution_count": 36,
   "metadata": {},
   "outputs": [
    {
     "name": "stdout",
     "output_type": "stream",
     "text": [
      "Num Topics = 2  has Coherence Value of 0.4666\n",
      "Num Topics = 3  has Coherence Value of 0.4954\n",
      "Num Topics = 4  has Coherence Value of 0.4694\n",
      "Num Topics = 5  has Coherence Value of 0.5108\n",
      "Num Topics = 6  has Coherence Value of 0.4964\n",
      "Num Topics = 7  has Coherence Value of 0.4432\n",
      "Num Topics = 8  has Coherence Value of 0.463\n",
      "Num Topics = 9  has Coherence Value of 0.4608\n"
     ]
    }
   ],
   "source": [
    "# Print the coherence scores\n",
    "\n",
    "for m, cv in zip(x, coherence_values):\n",
    "    print(\"Num Topics =\", m, \" has Coherence Value of\", round(cv, 4))"
   ]
  },
  {
   "cell_type": "markdown",
   "metadata": {},
   "source": [
    "## LDA Mallet Model\n",
    "\n",
    "Code reference:\n",
    "\n",
    "https://www.machinelearningplus.com/nlp/topic-modeling-gensim-python/#17howtofindtheoptimalnumberoftopicsforlda"
   ]
  },
  {
   "cell_type": "code",
   "execution_count": 37,
   "metadata": {},
   "outputs": [],
   "source": [
    "mallet_path = '/Users/siriamanda/Desktop/LNU-VT-2021/Thesis/11-data-analysis/mallet-2.0.8/bin/mallet' # update this path\n",
    "ldamallet = gensim.models.wrappers.LdaMallet(mallet_path, corpus = corpus, num_topics = 5, id2word = dictionary)"
   ]
  },
  {
   "cell_type": "code",
   "execution_count": 38,
   "metadata": {},
   "outputs": [
    {
     "name": "stdout",
     "output_type": "stream",
     "text": [
      "[(0,\n",
      "  [('data', 0.28549806073219186),\n",
      "   ('science', 0.14776274713839752),\n",
      "   ('scientist', 0.07028663324188819),\n",
      "   ('give', 0.05638066408097626),\n",
      "   ('career', 0.02355500898685082),\n",
      "   ('idea', 0.016743922050893954),\n",
      "   ('skill', 0.015703339324567214),\n",
      "   ('application', 0.012108598997256645),\n",
      "   ('learning', 0.011635606848926307),\n",
      "   ('industry', 0.008703055529278214)]),\n",
      " (1,\n",
      "  [('learn', 0.08766745468873129),\n",
      "   ('knowledge', 0.03329393223010244),\n",
      "   ('lot', 0.028861308116627266),\n",
      "   ('coursera', 0.028368794326241134),\n",
      "   ('experience', 0.02797478329393223),\n",
      "   ('start', 0.02669424743892829),\n",
      "   ('ibm', 0.025512214342001575),\n",
      "   ('information', 0.023542159180457052),\n",
      "   ('interest', 0.01901103230890465),\n",
      "   ('complete', 0.01802600472813239)]),\n",
      " (2,\n",
      "  [('content', 0.0356014129020264),\n",
      "   ('video', 0.029838259899609594),\n",
      "   ('make', 0.02602714259155977),\n",
      "   ('material', 0.02556237218813906),\n",
      "   ('people', 0.020821714073247816),\n",
      "   ('time', 0.013943112102621304),\n",
      "   ('student', 0.013850158021937163),\n",
      "   ('read', 0.013292433537832311),\n",
      "   ('videos', 0.012641754973043316),\n",
      "   ('point', 0.012084030488938465)]),\n",
      " (3,\n",
      "  [('data', 0.22030745128757465),\n",
      "   ('science', 0.2201116224419857),\n",
      "   ('understand', 0.06305688827964359),\n",
      "   ('basic', 0.057084108489180455),\n",
      "   ('introductory', 0.04131988641926956),\n",
      "   ('introduction', 0.03524919220601194),\n",
      "   ('overview', 0.026338979731714483),\n",
      "   ('concept', 0.020757857632429256),\n",
      "   ('world', 0.019289141290512093),\n",
      "   ('clear', 0.017526681680211494)]),\n",
      " (4,\n",
      "  [('introduction', 0.08180231961408191),\n",
      "   ('excellent', 0.06240377707071744),\n",
      "   ('field', 0.055937596222929285),\n",
      "   ('beginner', 0.04752129734168121),\n",
      "   ('science', 0.0390023606691984),\n",
      "   ('easy', 0.03664169147079955),\n",
      "   ('informative', 0.0336651955249923),\n",
      "   ('provide', 0.031407164117828186),\n",
      "   ('start', 0.02812275479831674),\n",
      "   ('helpful', 0.020630196038181257)])]\n",
      "\n",
      "Coherence Score:  0.38604639956726705\n"
     ]
    }
   ],
   "source": [
    "# Show Topics\n",
    "pprint(ldamallet.show_topics(formatted = False))\n",
    "\n",
    "# Compute Coherence Score\n",
    "coherence_model_ldamallet = CoherenceModel(model = ldamallet, texts = df['preprocessed'], dictionary = dictionary, coherence = 'c_v')\n",
    "coherence_ldamallet = coherence_model_ldamallet.get_coherence()\n",
    "print('\\nCoherence Score: ', coherence_ldamallet)\n",
    "\n",
    "# The coherence score using the Mallet Model is lower than the original LDA Model"
   ]
  },
  {
   "cell_type": "code",
   "execution_count": null,
   "metadata": {},
   "outputs": [],
   "source": []
  },
  {
   "cell_type": "code",
   "execution_count": null,
   "metadata": {},
   "outputs": [],
   "source": []
  }
 ],
 "metadata": {
  "kernelspec": {
   "display_name": "Python 3",
   "language": "python",
   "name": "python3"
  },
  "language_info": {
   "codemirror_mode": {
    "name": "ipython",
    "version": 3
   },
   "file_extension": ".py",
   "mimetype": "text/x-python",
   "name": "python",
   "nbconvert_exporter": "python",
   "pygments_lexer": "ipython3",
   "version": "3.7.6"
  }
 },
 "nbformat": 4,
 "nbformat_minor": 4
}
