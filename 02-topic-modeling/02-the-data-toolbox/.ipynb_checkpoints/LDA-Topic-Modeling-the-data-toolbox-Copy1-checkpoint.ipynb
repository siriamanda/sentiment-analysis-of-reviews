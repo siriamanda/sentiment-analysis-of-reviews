{
 "cells": [
  {
   "cell_type": "code",
   "execution_count": 51,
   "metadata": {},
   "outputs": [],
   "source": [
    "# Import the libraries\n",
    "\n",
    "import pandas as pd \n",
    "import numpy as np\n",
    "\n",
    "from pprint import pprint\n",
    "\n",
    "# libraries for visualization\n",
    "import pyLDAvis\n",
    "import pyLDAvis.gensim\n",
    "import matplotlib.pyplot as plt\n",
    "import seaborn as sns\n",
    "%matplotlib inline\n",
    "\n",
    "import re\n",
    "\n",
    "import spacy\n",
    "\n",
    "import gensim\n",
    "from gensim import corpora, models\n",
    "from gensim.utils import simple_preprocess\n",
    "from gensim.models import CoherenceModel\n",
    "\n",
    "import nltk\n",
    "from nltk import FreqDist\n",
    "from nltk.corpus import stopwords\n",
    "from nltk.tokenize import RegexpTokenizer\n",
    "from nltk.stem import WordNetLemmatizer, SnowballStemmer\n",
    "from nltk.tag import pos_tag, pos_tag_sents\n",
    "from nltk.corpus import wordnet\n",
    "\n",
    "import warnings\n",
    "warnings.filterwarnings(\"ignore\")\n"
   ]
  },
  {
   "cell_type": "markdown",
   "metadata": {},
   "source": [
    "Code references:\n",
    "\n",
    "https://www.analyticsvidhya.com/blog/2018/10/mining-online-reviews-topic-modeling-lda/\n"
   ]
  },
  {
   "cell_type": "code",
   "execution_count": 52,
   "metadata": {},
   "outputs": [],
   "source": [
    "df = pd.read_csv('/Users/siriamanda/Desktop/LNU-VT-2021/Thesis/11-data-analysis/sentiment-analysis-of-reviews/01-sentiment-analysis/02-the-data-toolbox/VADER-the-data-toolbox.csv')"
   ]
  },
  {
   "cell_type": "code",
   "execution_count": 53,
   "metadata": {},
   "outputs": [
    {
     "data": {
      "text/html": [
       "<div>\n",
       "<style scoped>\n",
       "    .dataframe tbody tr th:only-of-type {\n",
       "        vertical-align: middle;\n",
       "    }\n",
       "\n",
       "    .dataframe tbody tr th {\n",
       "        vertical-align: top;\n",
       "    }\n",
       "\n",
       "    .dataframe thead th {\n",
       "        text-align: right;\n",
       "    }\n",
       "</style>\n",
       "<table border=\"1\" class=\"dataframe\">\n",
       "  <thead>\n",
       "    <tr style=\"text-align: right;\">\n",
       "      <th></th>\n",
       "      <th>Unnamed: 0</th>\n",
       "      <th>date</th>\n",
       "      <th>review</th>\n",
       "      <th>rating</th>\n",
       "      <th>status</th>\n",
       "      <th>length</th>\n",
       "      <th>label</th>\n",
       "      <th>language_scores</th>\n",
       "      <th>language</th>\n",
       "      <th>scores</th>\n",
       "      <th>compound</th>\n",
       "      <th>sentiment</th>\n",
       "    </tr>\n",
       "  </thead>\n",
       "  <tbody>\n",
       "    <tr>\n",
       "      <th>0</th>\n",
       "      <td>0</td>\n",
       "      <td>2021-03-09</td>\n",
       "      <td>Still difficult for me get to used to listen t...</td>\n",
       "      <td>4</td>\n",
       "      <td>completer</td>\n",
       "      <td>63</td>\n",
       "      <td>pos</td>\n",
       "      <td>{'language': 'en', 'score': 0.9999954275035461}</td>\n",
       "      <td>en</td>\n",
       "      <td>{'neg': 0.185, 'neu': 0.815, 'pos': 0.0, 'comp...</td>\n",
       "      <td>-0.3612</td>\n",
       "      <td>neg</td>\n",
       "    </tr>\n",
       "    <tr>\n",
       "      <th>1</th>\n",
       "      <td>1</td>\n",
       "      <td>2021-03-08</td>\n",
       "      <td>very good course, i think there could be a lit...</td>\n",
       "      <td>4</td>\n",
       "      <td>completer</td>\n",
       "      <td>74</td>\n",
       "      <td>pos</td>\n",
       "      <td>{'language': 'en', 'score': 0.9999976742625711}</td>\n",
       "      <td>en</td>\n",
       "      <td>{'neg': 0.0, 'neu': 0.758, 'pos': 0.242, 'comp...</td>\n",
       "      <td>0.4927</td>\n",
       "      <td>pos</td>\n",
       "    </tr>\n",
       "    <tr>\n",
       "      <th>2</th>\n",
       "      <td>2</td>\n",
       "      <td>2021-03-08</td>\n",
       "      <td>Instructions are clear, pace is good and thank...</td>\n",
       "      <td>5</td>\n",
       "      <td>completer</td>\n",
       "      <td>76</td>\n",
       "      <td>pos</td>\n",
       "      <td>{'language': 'en', 'score': 0.9999965864363265}</td>\n",
       "      <td>en</td>\n",
       "      <td>{'neg': 0.0, 'neu': 0.543, 'pos': 0.457, 'comp...</td>\n",
       "      <td>0.8126</td>\n",
       "      <td>pos</td>\n",
       "    </tr>\n",
       "    <tr>\n",
       "      <th>3</th>\n",
       "      <td>3</td>\n",
       "      <td>2021-03-07</td>\n",
       "      <td>This course was amazing, mostly teaches how to...</td>\n",
       "      <td>4</td>\n",
       "      <td>completer</td>\n",
       "      <td>284</td>\n",
       "      <td>pos</td>\n",
       "      <td>{'language': 'en', 'score': 0.9999966019854107}</td>\n",
       "      <td>en</td>\n",
       "      <td>{'neg': 0.035, 'neu': 0.741, 'pos': 0.224, 'co...</td>\n",
       "      <td>0.9133</td>\n",
       "      <td>pos</td>\n",
       "    </tr>\n",
       "    <tr>\n",
       "      <th>4</th>\n",
       "      <td>4</td>\n",
       "      <td>2021-03-07</td>\n",
       "      <td>Easy exploratory course</td>\n",
       "      <td>5</td>\n",
       "      <td>completer</td>\n",
       "      <td>23</td>\n",
       "      <td>pos</td>\n",
       "      <td>{'language': 'en', 'score': 0.9999949623133836}</td>\n",
       "      <td>en</td>\n",
       "      <td>{'neg': 0.0, 'neu': 0.408, 'pos': 0.592, 'comp...</td>\n",
       "      <td>0.4404</td>\n",
       "      <td>pos</td>\n",
       "    </tr>\n",
       "  </tbody>\n",
       "</table>\n",
       "</div>"
      ],
      "text/plain": [
       "   Unnamed: 0        date                                             review  \\\n",
       "0           0  2021-03-09  Still difficult for me get to used to listen t...   \n",
       "1           1  2021-03-08  very good course, i think there could be a lit...   \n",
       "2           2  2021-03-08  Instructions are clear, pace is good and thank...   \n",
       "3           3  2021-03-07  This course was amazing, mostly teaches how to...   \n",
       "4           4  2021-03-07                            Easy exploratory course   \n",
       "\n",
       "   rating     status  length label  \\\n",
       "0       4  completer      63   pos   \n",
       "1       4  completer      74   pos   \n",
       "2       5  completer      76   pos   \n",
       "3       4  completer     284   pos   \n",
       "4       5  completer      23   pos   \n",
       "\n",
       "                                   language_scores language  \\\n",
       "0  {'language': 'en', 'score': 0.9999954275035461}       en   \n",
       "1  {'language': 'en', 'score': 0.9999976742625711}       en   \n",
       "2  {'language': 'en', 'score': 0.9999965864363265}       en   \n",
       "3  {'language': 'en', 'score': 0.9999966019854107}       en   \n",
       "4  {'language': 'en', 'score': 0.9999949623133836}       en   \n",
       "\n",
       "                                              scores  compound sentiment  \n",
       "0  {'neg': 0.185, 'neu': 0.815, 'pos': 0.0, 'comp...   -0.3612       neg  \n",
       "1  {'neg': 0.0, 'neu': 0.758, 'pos': 0.242, 'comp...    0.4927       pos  \n",
       "2  {'neg': 0.0, 'neu': 0.543, 'pos': 0.457, 'comp...    0.8126       pos  \n",
       "3  {'neg': 0.035, 'neu': 0.741, 'pos': 0.224, 'co...    0.9133       pos  \n",
       "4  {'neg': 0.0, 'neu': 0.408, 'pos': 0.592, 'comp...    0.4404       pos  "
      ]
     },
     "execution_count": 53,
     "metadata": {},
     "output_type": "execute_result"
    }
   ],
   "source": [
    "df.head()"
   ]
  },
  {
   "cell_type": "code",
   "execution_count": 54,
   "metadata": {},
   "outputs": [],
   "source": [
    "df.drop(['Unnamed: 0', 'language_scores', 'language', 'scores'], axis = 1, inplace = True)"
   ]
  },
  {
   "cell_type": "code",
   "execution_count": 55,
   "metadata": {},
   "outputs": [
    {
     "data": {
      "text/html": [
       "<div>\n",
       "<style scoped>\n",
       "    .dataframe tbody tr th:only-of-type {\n",
       "        vertical-align: middle;\n",
       "    }\n",
       "\n",
       "    .dataframe tbody tr th {\n",
       "        vertical-align: top;\n",
       "    }\n",
       "\n",
       "    .dataframe thead th {\n",
       "        text-align: right;\n",
       "    }\n",
       "</style>\n",
       "<table border=\"1\" class=\"dataframe\">\n",
       "  <thead>\n",
       "    <tr style=\"text-align: right;\">\n",
       "      <th></th>\n",
       "      <th>date</th>\n",
       "      <th>review</th>\n",
       "      <th>rating</th>\n",
       "      <th>status</th>\n",
       "      <th>length</th>\n",
       "      <th>label</th>\n",
       "      <th>compound</th>\n",
       "      <th>sentiment</th>\n",
       "    </tr>\n",
       "  </thead>\n",
       "  <tbody>\n",
       "    <tr>\n",
       "      <th>0</th>\n",
       "      <td>2021-03-09</td>\n",
       "      <td>Still difficult for me get to used to listen t...</td>\n",
       "      <td>4</td>\n",
       "      <td>completer</td>\n",
       "      <td>63</td>\n",
       "      <td>pos</td>\n",
       "      <td>-0.3612</td>\n",
       "      <td>neg</td>\n",
       "    </tr>\n",
       "    <tr>\n",
       "      <th>1</th>\n",
       "      <td>2021-03-08</td>\n",
       "      <td>very good course, i think there could be a lit...</td>\n",
       "      <td>4</td>\n",
       "      <td>completer</td>\n",
       "      <td>74</td>\n",
       "      <td>pos</td>\n",
       "      <td>0.4927</td>\n",
       "      <td>pos</td>\n",
       "    </tr>\n",
       "    <tr>\n",
       "      <th>2</th>\n",
       "      <td>2021-03-08</td>\n",
       "      <td>Instructions are clear, pace is good and thank...</td>\n",
       "      <td>5</td>\n",
       "      <td>completer</td>\n",
       "      <td>76</td>\n",
       "      <td>pos</td>\n",
       "      <td>0.8126</td>\n",
       "      <td>pos</td>\n",
       "    </tr>\n",
       "    <tr>\n",
       "      <th>3</th>\n",
       "      <td>2021-03-07</td>\n",
       "      <td>This course was amazing, mostly teaches how to...</td>\n",
       "      <td>4</td>\n",
       "      <td>completer</td>\n",
       "      <td>284</td>\n",
       "      <td>pos</td>\n",
       "      <td>0.9133</td>\n",
       "      <td>pos</td>\n",
       "    </tr>\n",
       "    <tr>\n",
       "      <th>4</th>\n",
       "      <td>2021-03-07</td>\n",
       "      <td>Easy exploratory course</td>\n",
       "      <td>5</td>\n",
       "      <td>completer</td>\n",
       "      <td>23</td>\n",
       "      <td>pos</td>\n",
       "      <td>0.4404</td>\n",
       "      <td>pos</td>\n",
       "    </tr>\n",
       "    <tr>\n",
       "      <th>...</th>\n",
       "      <td>...</td>\n",
       "      <td>...</td>\n",
       "      <td>...</td>\n",
       "      <td>...</td>\n",
       "      <td>...</td>\n",
       "      <td>...</td>\n",
       "      <td>...</td>\n",
       "      <td>...</td>\n",
       "    </tr>\n",
       "    <tr>\n",
       "      <th>6032</th>\n",
       "      <td>2016-01-24</td>\n",
       "      <td>This was a great starter for me. I have very l...</td>\n",
       "      <td>5</td>\n",
       "      <td>dropout</td>\n",
       "      <td>160</td>\n",
       "      <td>pos</td>\n",
       "      <td>0.6249</td>\n",
       "      <td>pos</td>\n",
       "    </tr>\n",
       "    <tr>\n",
       "      <th>6033</th>\n",
       "      <td>2016-01-24</td>\n",
       "      <td>Useful couple of modules for helping you get s...</td>\n",
       "      <td>4</td>\n",
       "      <td>dropout</td>\n",
       "      <td>145</td>\n",
       "      <td>pos</td>\n",
       "      <td>0.6249</td>\n",
       "      <td>pos</td>\n",
       "    </tr>\n",
       "    <tr>\n",
       "      <th>6034</th>\n",
       "      <td>2016-01-24</td>\n",
       "      <td>Very common curse about common data things.</td>\n",
       "      <td>3</td>\n",
       "      <td>dropout</td>\n",
       "      <td>43</td>\n",
       "      <td>neu</td>\n",
       "      <td>-0.5829</td>\n",
       "      <td>neg</td>\n",
       "    </tr>\n",
       "    <tr>\n",
       "      <th>6035</th>\n",
       "      <td>2016-01-24</td>\n",
       "      <td>It is really basic course, I expected much mor...</td>\n",
       "      <td>1</td>\n",
       "      <td>dropout</td>\n",
       "      <td>130</td>\n",
       "      <td>neg</td>\n",
       "      <td>0.0000</td>\n",
       "      <td>neu</td>\n",
       "    </tr>\n",
       "    <tr>\n",
       "      <th>6036</th>\n",
       "      <td>2016-01-24</td>\n",
       "      <td>Excellent course to understand the basic of da...</td>\n",
       "      <td>5</td>\n",
       "      <td>dropout</td>\n",
       "      <td>57</td>\n",
       "      <td>pos</td>\n",
       "      <td>0.5719</td>\n",
       "      <td>pos</td>\n",
       "    </tr>\n",
       "  </tbody>\n",
       "</table>\n",
       "<p>6037 rows × 8 columns</p>\n",
       "</div>"
      ],
      "text/plain": [
       "            date                                             review  rating  \\\n",
       "0     2021-03-09  Still difficult for me get to used to listen t...       4   \n",
       "1     2021-03-08  very good course, i think there could be a lit...       4   \n",
       "2     2021-03-08  Instructions are clear, pace is good and thank...       5   \n",
       "3     2021-03-07  This course was amazing, mostly teaches how to...       4   \n",
       "4     2021-03-07                            Easy exploratory course       5   \n",
       "...          ...                                                ...     ...   \n",
       "6032  2016-01-24  This was a great starter for me. I have very l...       5   \n",
       "6033  2016-01-24  Useful couple of modules for helping you get s...       4   \n",
       "6034  2016-01-24        Very common curse about common data things.       3   \n",
       "6035  2016-01-24  It is really basic course, I expected much mor...       1   \n",
       "6036  2016-01-24  Excellent course to understand the basic of da...       5   \n",
       "\n",
       "         status  length label  compound sentiment  \n",
       "0     completer      63   pos   -0.3612       neg  \n",
       "1     completer      74   pos    0.4927       pos  \n",
       "2     completer      76   pos    0.8126       pos  \n",
       "3     completer     284   pos    0.9133       pos  \n",
       "4     completer      23   pos    0.4404       pos  \n",
       "...         ...     ...   ...       ...       ...  \n",
       "6032    dropout     160   pos    0.6249       pos  \n",
       "6033    dropout     145   pos    0.6249       pos  \n",
       "6034    dropout      43   neu   -0.5829       neg  \n",
       "6035    dropout     130   neg    0.0000       neu  \n",
       "6036    dropout      57   pos    0.5719       pos  \n",
       "\n",
       "[6037 rows x 8 columns]"
      ]
     },
     "execution_count": 55,
     "metadata": {},
     "output_type": "execute_result"
    }
   ],
   "source": [
    "df"
   ]
  },
  {
   "cell_type": "code",
   "execution_count": 56,
   "metadata": {},
   "outputs": [
    {
     "data": {
      "text/plain": [
       "0"
      ]
     },
     "execution_count": 56,
     "metadata": {},
     "output_type": "execute_result"
    }
   ],
   "source": [
    "# Check for null values\n",
    "\n",
    "len(df[df['review'].isna()==True])"
   ]
  },
  {
   "cell_type": "code",
   "execution_count": 57,
   "metadata": {},
   "outputs": [],
   "source": [
    "# Drop null values\n",
    "\n",
    "# df.dropna(inplace = True)"
   ]
  },
  {
   "cell_type": "code",
   "execution_count": 58,
   "metadata": {},
   "outputs": [],
   "source": [
    "# Check for null values\n",
    "\n",
    "# len(df[df['review'].isna()==True])"
   ]
  },
  {
   "cell_type": "code",
   "execution_count": 59,
   "metadata": {},
   "outputs": [],
   "source": [
    "# Reset the index\n",
    "\n",
    "# df = df.reset_index(drop = True)"
   ]
  },
  {
   "cell_type": "code",
   "execution_count": 60,
   "metadata": {},
   "outputs": [],
   "source": [
    "# df"
   ]
  },
  {
   "cell_type": "code",
   "execution_count": 61,
   "metadata": {},
   "outputs": [],
   "source": [
    "# Define a function to plot the most frequent words\n",
    "\n",
    "def freq_words(x, terms = 30):\n",
    "    all_words = ' '.join([text for text in x])\n",
    "    all_words = all_words.split()\n",
    "\n",
    "    fdist = FreqDist(all_words)\n",
    "    words_df = pd.DataFrame({'word':list(fdist.keys()), 'count':list(fdist.values())})\n",
    "    \n",
    "    # selecting top 20 most frequent words\n",
    "    d = words_df.nlargest(columns=\"count\", n = terms) \n",
    "    plt.figure(figsize=(20,5))\n",
    "    ax = sns.barplot(data=d, x= \"word\", y = \"count\")\n",
    "    ax.set(ylabel = 'Count')\n",
    "    plt.xticks(rotation = 45)\n",
    "    plt.show()"
   ]
  },
  {
   "cell_type": "code",
   "execution_count": 62,
   "metadata": {},
   "outputs": [
    {
     "data": {
      "image/png": "[encoded data removed]",
      "text/plain": [
       "<Figure size 1440x360 with 1 Axes>"
      ]
     },
     "metadata": {
      "needs_background": "light"
     },
     "output_type": "display_data"
    }
   ],
   "source": [
    "# The most frquent words are stop words such as 'to' and 'the' we will remove these in the preprocessing steps\n",
    "\n",
    "freq_words(df['review'])"
   ]
  },
  {
   "cell_type": "markdown",
   "metadata": {},
   "source": [
    "## Preprocessing"
   ]
  },
  {
   "cell_type": "code",
   "execution_count": 63,
   "metadata": {},
   "outputs": [
    {
     "data": {
      "text/plain": [
       "0    still difficult for me get to used to listen t...\n",
       "1    very good course, i think there could be a lit...\n",
       "2    instructions are clear, pace is good and thank...\n",
       "3    this course was amazing, mostly teaches how to...\n",
       "4                              easy exploratory course\n",
       "Name: preprocessed, dtype: object"
      ]
     },
     "execution_count": 63,
     "metadata": {},
     "output_type": "execute_result"
    }
   ],
   "source": [
    "# Covert to lowercase\n",
    "\n",
    "df['preprocessed'] =  df['review'].apply(lambda x: \" \".join(x.lower() for x in x.split()))\n",
    "df['preprocessed'].head()"
   ]
  },
  {
   "cell_type": "code",
   "execution_count": 64,
   "metadata": {},
   "outputs": [
    {
     "data": {
      "text/plain": [
       "0    still difficult for me get to used to listen t...\n",
       "1    very good course i think there could be a litt...\n",
       "2    instructions are clear pace is good and thanks...\n",
       "3    this course was amazing mostly teaches how to ...\n",
       "4                              easy exploratory course\n",
       "Name: preprocessed, dtype: object"
      ]
     },
     "execution_count": 64,
     "metadata": {},
     "output_type": "execute_result"
    }
   ],
   "source": [
    "# Remove punctuations\n",
    "\n",
    "df['preprocessed'] = df['preprocessed'].str.replace('[^\\w\\s]','')\n",
    "df['preprocessed'].head()"
   ]
  },
  {
   "cell_type": "code",
   "execution_count": 65,
   "metadata": {},
   "outputs": [
    {
     "data": {
      "text/plain": [
       "0        still difficult get used listen computer talk\n",
       "1              course think could little r programming\n",
       "2      instructions clear pace thanks knowledge learnt\n",
       "3    course amazing mostly teaches manage work data...\n",
       "4                              easy exploratory course\n",
       "Name: preprocessed, dtype: object"
      ]
     },
     "execution_count": 65,
     "metadata": {},
     "output_type": "execute_result"
    }
   ],
   "source": [
    "# Remove stopwords\n",
    "\n",
    "stop = stopwords.words('english')\n",
    "stop.extend(['good', 'great', 'really', 'like', 'nice'])\n",
    "\n",
    "df['preprocessed'] = df['preprocessed'].apply(lambda x: \" \".join(x for x in x.split() if x not in stop))\n",
    "df['preprocessed'].head()"
   ]
  },
  {
   "cell_type": "code",
   "execution_count": 66,
   "metadata": {},
   "outputs": [
    {
     "data": {
      "text/html": [
       "<div>\n",
       "<style scoped>\n",
       "    .dataframe tbody tr th:only-of-type {\n",
       "        vertical-align: middle;\n",
       "    }\n",
       "\n",
       "    .dataframe tbody tr th {\n",
       "        vertical-align: top;\n",
       "    }\n",
       "\n",
       "    .dataframe thead th {\n",
       "        text-align: right;\n",
       "    }\n",
       "</style>\n",
       "<table border=\"1\" class=\"dataframe\">\n",
       "  <thead>\n",
       "    <tr style=\"text-align: right;\">\n",
       "      <th></th>\n",
       "      <th>date</th>\n",
       "      <th>review</th>\n",
       "      <th>rating</th>\n",
       "      <th>status</th>\n",
       "      <th>length</th>\n",
       "      <th>label</th>\n",
       "      <th>compound</th>\n",
       "      <th>sentiment</th>\n",
       "      <th>preprocessed</th>\n",
       "    </tr>\n",
       "  </thead>\n",
       "  <tbody>\n",
       "    <tr>\n",
       "      <th>36</th>\n",
       "      <td>2021-02-18</td>\n",
       "      <td>good</td>\n",
       "      <td>4</td>\n",
       "      <td>completer</td>\n",
       "      <td>4</td>\n",
       "      <td>pos</td>\n",
       "      <td>0.4404</td>\n",
       "      <td>pos</td>\n",
       "      <td></td>\n",
       "    </tr>\n",
       "    <tr>\n",
       "      <th>52</th>\n",
       "      <td>2021-02-08</td>\n",
       "      <td>Good</td>\n",
       "      <td>4</td>\n",
       "      <td>completer</td>\n",
       "      <td>4</td>\n",
       "      <td>pos</td>\n",
       "      <td>0.4404</td>\n",
       "      <td>pos</td>\n",
       "      <td></td>\n",
       "    </tr>\n",
       "    <tr>\n",
       "      <th>63</th>\n",
       "      <td>2021-02-01</td>\n",
       "      <td>Nice</td>\n",
       "      <td>5</td>\n",
       "      <td>completer</td>\n",
       "      <td>4</td>\n",
       "      <td>pos</td>\n",
       "      <td>0.4215</td>\n",
       "      <td>pos</td>\n",
       "      <td></td>\n",
       "    </tr>\n",
       "    <tr>\n",
       "      <th>82</th>\n",
       "      <td>2021-01-24</td>\n",
       "      <td>great!!!</td>\n",
       "      <td>5</td>\n",
       "      <td>completer</td>\n",
       "      <td>8</td>\n",
       "      <td>pos</td>\n",
       "      <td>0.7163</td>\n",
       "      <td>pos</td>\n",
       "      <td></td>\n",
       "    </tr>\n",
       "    <tr>\n",
       "      <th>95</th>\n",
       "      <td>2021-01-15</td>\n",
       "      <td>nice</td>\n",
       "      <td>5</td>\n",
       "      <td>completer</td>\n",
       "      <td>4</td>\n",
       "      <td>pos</td>\n",
       "      <td>0.4215</td>\n",
       "      <td>pos</td>\n",
       "      <td></td>\n",
       "    </tr>\n",
       "    <tr>\n",
       "      <th>...</th>\n",
       "      <td>...</td>\n",
       "      <td>...</td>\n",
       "      <td>...</td>\n",
       "      <td>...</td>\n",
       "      <td>...</td>\n",
       "      <td>...</td>\n",
       "      <td>...</td>\n",
       "      <td>...</td>\n",
       "      <td>...</td>\n",
       "    </tr>\n",
       "    <tr>\n",
       "      <th>5778</th>\n",
       "      <td>2016-03-08</td>\n",
       "      <td>Great!!!!</td>\n",
       "      <td>5</td>\n",
       "      <td>completer</td>\n",
       "      <td>9</td>\n",
       "      <td>pos</td>\n",
       "      <td>0.0000</td>\n",
       "      <td>neu</td>\n",
       "      <td></td>\n",
       "    </tr>\n",
       "    <tr>\n",
       "      <th>5803</th>\n",
       "      <td>2016-03-03</td>\n",
       "      <td>good</td>\n",
       "      <td>4</td>\n",
       "      <td>dropout</td>\n",
       "      <td>4</td>\n",
       "      <td>pos</td>\n",
       "      <td>0.4404</td>\n",
       "      <td>pos</td>\n",
       "      <td></td>\n",
       "    </tr>\n",
       "    <tr>\n",
       "      <th>5832</th>\n",
       "      <td>2016-02-25</td>\n",
       "      <td>Nice</td>\n",
       "      <td>5</td>\n",
       "      <td>dropout</td>\n",
       "      <td>5</td>\n",
       "      <td>pos</td>\n",
       "      <td>0.4215</td>\n",
       "      <td>pos</td>\n",
       "      <td></td>\n",
       "    </tr>\n",
       "    <tr>\n",
       "      <th>5836</th>\n",
       "      <td>2016-02-23</td>\n",
       "      <td>Very good!!</td>\n",
       "      <td>5</td>\n",
       "      <td>dropout</td>\n",
       "      <td>11</td>\n",
       "      <td>pos</td>\n",
       "      <td>0.5827</td>\n",
       "      <td>pos</td>\n",
       "      <td></td>\n",
       "    </tr>\n",
       "    <tr>\n",
       "      <th>5908</th>\n",
       "      <td>2016-02-12</td>\n",
       "      <td>Great</td>\n",
       "      <td>5</td>\n",
       "      <td>completer</td>\n",
       "      <td>5</td>\n",
       "      <td>pos</td>\n",
       "      <td>0.6249</td>\n",
       "      <td>pos</td>\n",
       "      <td></td>\n",
       "    </tr>\n",
       "  </tbody>\n",
       "</table>\n",
       "<p>187 rows × 9 columns</p>\n",
       "</div>"
      ],
      "text/plain": [
       "            date       review  rating     status  length label  compound  \\\n",
       "36    2021-02-18         good       4  completer       4   pos    0.4404   \n",
       "52    2021-02-08         Good       4  completer       4   pos    0.4404   \n",
       "63    2021-02-01         Nice       5  completer       4   pos    0.4215   \n",
       "82    2021-01-24     great!!!       5  completer       8   pos    0.7163   \n",
       "95    2021-01-15         nice       5  completer       4   pos    0.4215   \n",
       "...          ...          ...     ...        ...     ...   ...       ...   \n",
       "5778  2016-03-08    Great!!!!       5  completer       9   pos    0.0000   \n",
       "5803  2016-03-03         good       4    dropout       4   pos    0.4404   \n",
       "5832  2016-02-25        Nice        5    dropout       5   pos    0.4215   \n",
       "5836  2016-02-23  Very good!!       5    dropout      11   pos    0.5827   \n",
       "5908  2016-02-12        Great       5  completer       5   pos    0.6249   \n",
       "\n",
       "     sentiment preprocessed  \n",
       "36         pos               \n",
       "52         pos               \n",
       "63         pos               \n",
       "82         pos               \n",
       "95         pos               \n",
       "...        ...          ...  \n",
       "5778       neu               \n",
       "5803       pos               \n",
       "5832       pos               \n",
       "5836       pos               \n",
       "5908       pos               \n",
       "\n",
       "[187 rows x 9 columns]"
      ]
     },
     "execution_count": 66,
     "metadata": {},
     "output_type": "execute_result"
    }
   ],
   "source": [
    "df[(df['preprocessed']== \"\")]"
   ]
  },
  {
   "cell_type": "code",
   "execution_count": 67,
   "metadata": {},
   "outputs": [],
   "source": [
    "df = df[(df['preprocessed']!= \"\")]"
   ]
  },
  {
   "cell_type": "code",
   "execution_count": 68,
   "metadata": {},
   "outputs": [],
   "source": [
    "# Reset the index\n",
    "\n",
    "df = df.reset_index(drop = True)"
   ]
  },
  {
   "cell_type": "code",
   "execution_count": 69,
   "metadata": {},
   "outputs": [],
   "source": [
    "# Remove short words (length < 3)\n",
    "\n",
    "# df['review'] = df['review'].apply(lambda x: ' '.join([w for w in x.split() if len(w)>2]))\n",
    "# df['review'].head()"
   ]
  },
  {
   "cell_type": "code",
   "execution_count": 70,
   "metadata": {},
   "outputs": [
    {
     "data": {
      "image/png": "[encoded data removed]",
      "text/plain": [
       "<Figure size 1440x360 with 1 Axes>"
      ]
     },
     "metadata": {
      "needs_background": "light"
     },
     "output_type": "display_data"
    }
   ],
   "source": [
    "# Look at the most frequent words again \n",
    "\n",
    "freq_words(df['preprocessed'])"
   ]
  },
  {
   "cell_type": "code",
   "execution_count": 71,
   "metadata": {},
   "outputs": [
    {
     "data": {
      "text/plain": [
       "0    [still, difficult, get, used, listen, computer...\n",
       "1       [course, think, could, little, r, programming]\n",
       "2    [instructions, clear, pace, thanks, knowledge,...\n",
       "3    [course, amazing, mostly, teaches, manage, wor...\n",
       "4                          [easy, exploratory, course]\n",
       "Name: preprocessed, dtype: object"
      ]
     },
     "execution_count": 71,
     "metadata": {},
     "output_type": "execute_result"
    }
   ],
   "source": [
    "# Tokenization\n",
    "\n",
    "tokenizer = RegexpTokenizer(r'\\w+')\n",
    "\n",
    "df['preprocessed'] = df['preprocessed'].apply(lambda x: tokenizer.tokenize(x.lower()))\n",
    "df['preprocessed'].head(5)\n"
   ]
  },
  {
   "cell_type": "code",
   "execution_count": 72,
   "metadata": {},
   "outputs": [
    {
     "data": {
      "text/plain": [
       "0    [(still, RB), (difficult, JJ), (get, VBP), (us...\n",
       "1    [(course, NN), (think, NN), (could, MD), (litt...\n",
       "2    [(instructions, NNS), (clear, JJ), (pace, NN),...\n",
       "3    [(course, NN), (amazing, VBG), (mostly, RB), (...\n",
       "4        [(easy, JJ), (exploratory, JJ), (course, NN)]\n",
       "Name: preprocessed, dtype: object"
      ]
     },
     "execution_count": 72,
     "metadata": {},
     "output_type": "execute_result"
    }
   ],
   "source": [
    "# Add speech tags\n",
    "\n",
    "df['preprocessed'] = df['preprocessed'].apply(nltk.tag.pos_tag)\n",
    "df['preprocessed'].head()"
   ]
  },
  {
   "cell_type": "code",
   "execution_count": 73,
   "metadata": {},
   "outputs": [],
   "source": [
    "# Define function to convert parts of speech tags to wordnet’s format\n",
    "\n",
    "def get_wordnet_pos(tag):\n",
    "    if tag.startswith('J'):\n",
    "        return wordnet.ADJ\n",
    "    elif tag.startswith('V'):\n",
    "        return wordnet.VERB\n",
    "    elif tag.startswith('N'):\n",
    "        return wordnet.NOUN\n",
    "    elif tag.startswith('R'):\n",
    "        return wordnet.ADV\n",
    "    else:\n",
    "        return wordnet.NOUN"
   ]
  },
  {
   "cell_type": "code",
   "execution_count": 74,
   "metadata": {},
   "outputs": [
    {
     "data": {
      "text/plain": [
       "0    [(still, r), (difficult, a), (get, v), (used, ...\n",
       "1    [(course, n), (think, n), (could, n), (little,...\n",
       "2    [(instructions, n), (clear, a), (pace, n), (th...\n",
       "3    [(course, n), (amazing, v), (mostly, r), (teac...\n",
       "4           [(easy, a), (exploratory, a), (course, n)]\n",
       "Name: preprocessed, dtype: object"
      ]
     },
     "execution_count": 74,
     "metadata": {},
     "output_type": "execute_result"
    }
   ],
   "source": [
    "# Apply the function to the tagged data\n",
    "\n",
    "df['preprocessed'] = df['preprocessed'].apply(lambda x: [(word, get_wordnet_pos(pos_tag)) for (word, pos_tag) in x])\n",
    "df['preprocessed'].head()"
   ]
  },
  {
   "cell_type": "code",
   "execution_count": 75,
   "metadata": {},
   "outputs": [
    {
     "data": {
      "text/plain": [
       "0    [still, difficult, get, use, listen, computer,...\n",
       "1       [course, think, could, little, r, programming]\n",
       "2    [instruction, clear, pace, thanks, knowledge, ...\n",
       "3    [course, amaze, mostly, teach, manage, work, d...\n",
       "4                          [easy, exploratory, course]\n",
       "Name: preprocessed, dtype: object"
      ]
     },
     "execution_count": 75,
     "metadata": {},
     "output_type": "execute_result"
    }
   ],
   "source": [
    "# Create lemmatizer\n",
    "\n",
    "lemmatizer = WordNetLemmatizer()\n",
    "\n",
    "# Apply to data \n",
    "\n",
    "df['preprocessed'] = df['preprocessed'].apply(lambda x: [lemmatizer.lemmatize(word, tag) for word, tag in x])\n",
    "df['preprocessed'].head()"
   ]
  },
  {
   "cell_type": "code",
   "execution_count": 76,
   "metadata": {},
   "outputs": [],
   "source": [
    "# Join reviews\n",
    "\n",
    "df['joined'] = df['preprocessed'].apply(lambda x: ' '.join(x))"
   ]
  },
  {
   "cell_type": "code",
   "execution_count": 77,
   "metadata": {},
   "outputs": [
    {
     "data": {
      "image/png": "[encoded data removed]",
      "text/plain": [
       "<Figure size 1440x360 with 1 Axes>"
      ]
     },
     "metadata": {
      "needs_background": "light"
     },
     "output_type": "display_data"
    }
   ],
   "source": [
    "# Most frequent words after lemmatizing \n",
    "\n",
    "freq_words(df['joined'], 35)"
   ]
  },
  {
   "cell_type": "markdown",
   "metadata": {},
   "source": [
    "## LDA Topic Modeling"
   ]
  },
  {
   "cell_type": "code",
   "execution_count": 78,
   "metadata": {},
   "outputs": [],
   "source": [
    "# Create a dictionary from 'df_sen['review']' containing the number of times a word appears in the training set\n",
    "\n",
    "dictionary = gensim.corpora.Dictionary(df['preprocessed'])"
   ]
  },
  {
   "cell_type": "code",
   "execution_count": 79,
   "metadata": {},
   "outputs": [],
   "source": [
    "# Gensim filter extremes\n",
    "\n",
    "# Filter out tokens that appear in:\n",
    "# Less than 50 documents, more than 0.5 documents, and keep only 100000 most frquent tokens\n",
    "\n",
    "# dictionary.filter_extremes(no_below = 50, no_above = 0.5, keep_n = 100000)"
   ]
  },
  {
   "cell_type": "code",
   "execution_count": 80,
   "metadata": {},
   "outputs": [],
   "source": [
    "# Gensim doc2bow\n",
    "# Create a dictionary reporting how many words and how many times those words appear\n",
    "\n",
    "corpus = [dictionary.doc2bow(doc) for doc in df['preprocessed']]\n"
   ]
  },
  {
   "cell_type": "code",
   "execution_count": 81,
   "metadata": {},
   "outputs": [],
   "source": [
    "# Add TF-IDF\n",
    "\n",
    "tfidf = models.TfidfModel(corpus)      # Create a TF-IDF model\n",
    "corpus_tfidf = tfidf[corpus]  "
   ]
  },
  {
   "cell_type": "code",
   "execution_count": 144,
   "metadata": {},
   "outputs": [],
   "source": [
    "# Creating the object for LDA model using gensim library\n",
    "LDA = gensim.models.LdaMulticore\n",
    "\n",
    "# Build LDA model\n",
    "lda_model = LDA(corpus = corpus, id2word = dictionary, num_topics = 4, random_state = 100,\n",
    "                chunksize = 100, passes = 10, alpha = 0.23)"
   ]
  },
  {
   "cell_type": "code",
   "execution_count": 145,
   "metadata": {},
   "outputs": [
    {
     "name": "stdout",
     "output_type": "stream",
     "text": [
      "Topic: 0\n",
      "Word: 0.060*\"course\" + 0.016*\"content\" + 0.012*\"could\" + 0.012*\"git\" + 0.011*\"week\" + 0.011*\"would\" + 0.010*\"little\" + 0.009*\"intro\" + 0.008*\"learn\" + 0.008*\"specialization\"\n",
      "\n",
      "Topic: 1\n",
      "Word: 0.063*\"course\" + 0.033*\"easy\" + 0.023*\"excellent\" + 0.017*\"learn\" + 0.017*\"lot\" + 0.015*\"thank\" + 0.014*\"understand\" + 0.013*\"follow\" + 0.010*\"thanks\" + 0.010*\"awesome\"\n",
      "\n",
      "Topic: 2\n",
      "Word: 0.091*\"course\" + 0.085*\"data\" + 0.062*\"science\" + 0.037*\"introduction\" + 0.031*\"start\" + 0.030*\"tool\" + 0.030*\"basic\" + 0.022*\"r\" + 0.015*\"get\" + 0.013*\"learn\"\n",
      "\n",
      "Topic: 3\n",
      "Word: 0.029*\"course\" + 0.027*\"well\" + 0.013*\"experience\" + 0.009*\"video\" + 0.009*\"make\" + 0.009*\"learn\" + 0.009*\"get\" + 0.009*\"work\" + 0.009*\"material\" + 0.008*\"one\"\n",
      "\n"
     ]
    }
   ],
   "source": [
    "# Explore the words occurring in each topic and its relative weight\n",
    "\n",
    "for id, topic in lda_model.print_topics(-1):\n",
    "    print('Topic: {}\\nWord: {}\\n'.format(id, topic))"
   ]
  },
  {
   "cell_type": "markdown",
   "metadata": {},
   "source": [
    "### Visualise with pyLDAvis\n",
    "\n",
    "Original paper: https://nlp.stanford.edu/events/illvi2014/papers/sievert-illvi2014.pdf"
   ]
  },
  {
   "cell_type": "code",
   "execution_count": 146,
   "metadata": {
    "scrolled": false
   },
   "outputs": [
    {
     "data": {
      "text/html": [
       "\n",
       "<link rel=\"stylesheet\" type=\"text/css\" href=\"https://cdn.jsdelivr.net/gh/bmabey/pyLDAvis@3.2.2/pyLDAvis/js/ldavis.v1.0.0.css\">\n",
       "\n",
       "\n",
       "<div id=\"ldavis_el452271403551012690723696218321\"></div>\n",
       "<script type=\"text/javascript\">\n",
       "\n",
       "var ldavis_el452271403551012690723696218321_data = {\"mdsDat\": {\"x\": [0.23806553971948405, -0.06988608736809075, -0.11418767722774317, -0.0539917751236502], \"y\": [-0.01709892649371225, -0.09745469837494147, -0.057228001116049275, 0.171781625984703], \"topics\": [1, 2, 3, 4], \"cluster\": [1, 1, 1, 1], \"Freq\": [35.81835934884362, 24.701872127278406, 20.732343702071628, 18.747424821806348]}, \"tinfo\": {\"Term\": [\"data\", \"science\", \"introduction\", \"start\", \"easy\", \"tool\", \"excellent\", \"well\", \"basic\", \"thank\", \"content\", \"lot\", \"experience\", \"week\", \"scientist\", \"follow\", \"could\", \"awesome\", \"thanks\", \"little\", \"coursera\", \"specialization\", \"r\", \"understand\", \"course\", \"intro\", \"video\", \"look\", \"beginner\", \"forward\", \"science\", \"data\", \"foundation\", \"start\", \"introduction\", \"fundamental\", \"field\", \"starter\", \"programming\", \"excelent\", \"world\", \"journey\", \"tool\", \"view\", \"straight\", \"strongly\", \"analytics\", \"dive\", \"usage\", \"introduces\", \"gitgithub\", \"statistical\", \"purpose\", \"lay\", \"foundational\", \"decent\", \"scientist\", \"manage\", \"strong\", \"mooc\", \"wonderful\", \"analysis\", \"career\", \"begin\", \"essential\", \"basic\", \"beginner\", \"toolbox\", \"overview\", \"r\", \"insight\", \"helpful\", \"introductory\", \"set\", \"introduce\", \"highly\", \"necessary\", \"course\", \"recommend\", \"get\", \"give\", \"specialization\", \"use\", \"github\", \"rstudio\", \"useful\", \"learn\", \"concept\", \"need\", \"excellent\", \"help\", \"program\", \"knowledge\", \"git\", \"intro\", \"command\", \"week\", \"doesnt\", \"1\", \"line\", \"pay\", \"setup\", \"3\", \"ok\", \"otherwise\", \"depth\", \"happy\", \"money\", \"opinion\", \"bash\", \"isnt\", \"least\", \"value\", \"requirement\", \"basically\", \"life\", \"understandable\", \"compare\", \"sense\", \"interactive\", \"almost\", \"attention\", \"2\", \"price\", \"scratch\", \"good\", \"love\", \"overall\", \"day\", \"4\", \"forward\", \"could\", \"little\", \"content\", \"look\", \"may\", \"question\", \"bit\", \"part\", \"maybe\", \"take\", \"git\", \"intro\", \"think\", \"course\", \"would\", \"however\", \"information\", \"complete\", \"expect\", \"much\", \"specialization\", \"go\", \"time\", \"new\", \"one\", \"learn\", \"get\", \"use\", \"need\", \"first\", \"basic\", \"slide\", \"brief\", \"technical\", \"quick\", \"effective\", \"believe\", \"resource\", \"info\", \"walk\", \"light\", \"might\", \"pdf\", \"particularly\", \"development\", \"due\", \"form\", \"prepared\", \"another\", \"structured\", \"paced\", \"basis\", \"whether\", \"sequence\", \"listen\", \"preview\", \"hop\", \"attempt\", \"youll\", \"master\", \"alot\", \"challenge\", \"experience\", \"sure\", \"well\", \"read\", \"review\", \"audio\", \"link\", \"try\", \"available\", \"completely\", \"structure\", \"note\", \"do\", \"quiz\", \"make\", \"interest\", \"video\", \"work\", \"come\", \"one\", \"material\", \"lecture\", \"present\", \"voice\", \"stuff\", \"still\", \"course\", \"also\", \"best\", \"get\", \"lesson\", \"content\", \"learn\", \"time\", \"r\", \"explain\", \"useful\", \"program\", \"would\", \"find\", \"github\", \"understand\", \"awesome\", \"professor\", \"download\", \"search\", \"quickly\", \"excelente\", \"english\", \"within\", \"comfortable\", \"force\", \"complex\", \"lead\", \"sufficient\", \"lecturer\", \"usefull\", \"speaker\", \"descriptive\", \"together\", \"specific\", \"waste\", \"current\", \"prior\", \"superficial\", \"picture\", \"related\", \"poorly\", \"education\", \"non\", \"context\", \"easy\", \"thank\", \"either\", \"thanks\", \"team\", \"follow\", \"lot\", \"excite\", \"excellent\", \"coursera\", \"many\", \"im\", \"learnt\", \"understand\", \"enjoy\", \"like\", \"problem\", \"clear\", \"course\", \"ive\", \"learn\", \"instruction\", \"much\", \"example\", \"instructor\", \"help\", \"thing\", \"material\", \"video\", \"use\", \"time\", \"would\", \"github\", \"complete\", \"give\", \"lecture\", \"know\"], \"Freq\": [1555.0, 1121.0, 677.0, 566.0, 340.0, 573.0, 356.0, 377.0, 653.0, 153.0, 282.0, 231.0, 163.0, 141.0, 244.0, 150.0, 198.0, 92.0, 112.0, 154.0, 133.0, 287.0, 545.0, 275.0, 3295.0, 207.0, 188.0, 130.0, 277.0, 107.0, 1119.0336194742574, 1544.8214815300325, 69.63313875702676, 558.2382814526758, 667.0523674476426, 42.120251660597084, 99.93191970979623, 35.0743430989575, 48.31002790555239, 24.73790110437443, 74.3958709761907, 44.08759575083309, 550.3621704877092, 17.708945093900514, 16.61641593896385, 15.819624935793662, 19.48759157136685, 12.858342327014364, 12.752596173847078, 12.5221005534678, 12.928724424629262, 11.800590692567978, 12.852543436301376, 11.37570722538121, 11.203316553241216, 12.278845685649266, 228.9142880944159, 10.751613875831366, 10.576319011198583, 10.60926835675606, 34.554305922054255, 71.26702289558452, 45.59252656926068, 71.14725159196622, 32.24456249503869, 541.8304905497249, 225.7332257342518, 70.16681392904324, 135.21089814044132, 401.00978540948444, 37.018949461264135, 180.73584236758143, 156.1234302287617, 135.9271545038424, 53.01777351756265, 50.67031251031203, 66.09325618818234, 1647.60659471995, 102.13237140029243, 273.18993795732104, 158.84746784427074, 180.68593203150485, 225.29699555640303, 206.45303338281485, 108.93200064083457, 162.30718077538106, 229.79937372281725, 93.57515397888439, 124.2085384157194, 135.4808983741406, 108.04553095847373, 101.8063001025261, 90.66793175822184, 112.63750974005954, 94.41965475672906, 72.03584829607054, 139.0448192898494, 38.61403496307105, 43.10041924049005, 32.34826833091746, 33.55182359713928, 61.13773121139303, 26.577737323065723, 23.92003634249618, 23.99270805261416, 23.09311536383726, 22.48932832774962, 21.49449779506318, 17.86908085419779, 17.441149316855952, 16.484516356179064, 16.43862310542661, 14.654839270601792, 13.937747224230897, 13.639728463701227, 12.631596003416453, 14.360890242241508, 12.387982446871593, 12.71637651264549, 24.605932444029165, 16.519207294463833, 10.690944873210329, 36.21523849913506, 10.418013094160267, 11.012093593493537, 27.82042138353106, 67.50056321109032, 80.69114573093213, 38.148569349561356, 51.288420628138304, 87.93702085426703, 153.40019204035465, 121.51032367424666, 201.2401745131931, 100.15719996464716, 33.069368997998644, 57.211535309095105, 82.15553925495773, 58.09567261885762, 31.859833538993065, 101.39197736633221, 148.65985181945481, 110.8865562999739, 99.00320609175878, 744.5197189571118, 132.5517675010097, 61.05517836035181, 84.49641078587146, 77.65257340163514, 43.92174852064094, 88.91865713192594, 103.81697318580699, 63.78616798576934, 69.4183979415295, 65.78024653661461, 69.21542641535837, 104.64657579349279, 94.51603609557988, 87.24288780106765, 72.12143343951111, 64.65450943838819, 67.23961728071573, 50.93983455539932, 37.22916352063012, 29.440639511680757, 26.623029373974408, 23.120559794842446, 23.906819104921254, 22.272917367435568, 24.11304312722264, 17.562525150251076, 16.66051426065564, 32.1711160065939, 13.769719190289, 14.76102405083604, 14.563523162528657, 12.921523552788424, 13.139198901907912, 11.79017349596112, 11.157351218558796, 16.494313095751057, 10.687353448425126, 11.355865714764123, 10.468461769828103, 10.325458792428776, 17.860071580514283, 10.262738445404018, 9.821686508042683, 10.012204492783262, 13.001184585066543, 9.927746530597759, 9.753114101925213, 37.31327832158752, 138.5778046749098, 38.87605897863886, 283.8958527434284, 50.79647376219988, 46.80822221765601, 16.361966434637836, 38.14793435575736, 24.573306597893033, 24.296279010884366, 21.925459907306088, 54.899070047346605, 21.834772530798396, 54.36400719866522, 56.20379590329587, 99.04611968359353, 56.713384220951795, 99.10753211006563, 93.27604803646679, 42.18004459192386, 87.47017038504156, 89.39786209749637, 72.45193539220884, 31.29551021334709, 56.51501993410965, 34.062791665884646, 38.01628500802935, 304.33571762450447, 57.403971157607955, 45.96899395701641, 94.97713121694252, 40.423054219197624, 72.83832760776274, 97.45804279280962, 56.362915246272514, 86.93991912083956, 48.40163825751198, 60.67548223930001, 53.2789338378436, 56.34167100170306, 47.976836408697636, 53.20660864007507, 49.83288680341146, 91.37935290640189, 32.30424042377119, 27.876973707020706, 19.255757934253566, 19.203593246027665, 14.281432298209175, 13.203351031923672, 13.519023702476359, 12.860352581063818, 14.416477640684167, 12.488164299900497, 12.398283519510079, 12.237765403774008, 12.065497589009112, 11.962899747151033, 11.21589275408316, 10.94736575088363, 20.26391744836735, 11.406365976572605, 11.920767579195514, 10.201161580296393, 10.443537773091641, 9.134574920889747, 9.72483496571999, 10.314408139046856, 8.944376115713148, 9.210639314118591, 8.843297231657148, 9.627088291891386, 314.32338988925017, 141.77972222798303, 16.17978059358428, 93.23478056717613, 21.793443353804687, 121.21942745597376, 160.30179759289823, 22.626298241844435, 220.69072740864536, 90.86127952283248, 48.33385345885598, 51.46361107136763, 30.8718571427857, 128.8735966182778, 43.28658913664111, 31.48902554440498, 33.77325979639017, 68.4691006599075, 599.3915487066782, 28.086659454294313, 165.99050713848516, 45.48231635124264, 78.8918611221695, 35.45321276965705, 38.731345669848295, 67.91043339134751, 54.903189695113014, 61.59326071466134, 55.84409764241708, 73.74563871448744, 48.83555677302659, 55.60772550165376, 58.85504194497486, 42.79974521627989, 42.41884294310186, 39.45385056497899, 38.862460826341746], \"Total\": [1555.0, 1121.0, 677.0, 566.0, 340.0, 573.0, 356.0, 377.0, 653.0, 153.0, 282.0, 231.0, 163.0, 141.0, 244.0, 150.0, 198.0, 92.0, 112.0, 154.0, 133.0, 287.0, 545.0, 275.0, 3295.0, 207.0, 188.0, 130.0, 277.0, 107.0, 1121.215696903154, 1555.5268246729365, 70.38358133743704, 566.3056542626628, 677.5403146941321, 42.843678383056655, 101.7679830666344, 35.80910477839988, 49.37847970131992, 25.472735919845928, 76.86436384641125, 45.69167351519857, 573.2487166472314, 18.48517528339254, 17.389034217938384, 16.60385034799788, 20.471284154481527, 13.580916770602332, 13.480508733461175, 13.257722273253567, 13.701242683480057, 12.52849106865346, 13.652438068382992, 12.102208411997482, 11.927627948978659, 13.074504145653487, 244.1710661263761, 11.476193497643173, 11.312579013458404, 11.373494499440179, 37.130999513523825, 77.27743132021398, 49.50216665683907, 78.21265235967142, 35.39960299253902, 653.2027435817007, 277.54648919435084, 82.0112907112846, 167.9737628143446, 545.1070350601278, 42.333936311806575, 236.19428975832258, 202.82086948637985, 176.14483533964298, 62.69806339628148, 59.72669247352762, 81.3572488750573, 3295.8535800082445, 134.835444184192, 471.4315192646627, 241.78973346391487, 287.94609576030234, 396.136190438596, 371.2425821051311, 158.48482742548353, 278.9896898701727, 597.8944994476049, 143.82681112258643, 269.13210414323635, 356.7602529060768, 213.80624986617752, 191.12761903326327, 141.00439823019428, 305.24101453676286, 207.0753203851978, 72.80370236775222, 141.63733133611353, 39.362426951377266, 43.99152934067941, 33.0919366890246, 34.34869064723857, 62.694570232375135, 27.294457917303927, 24.641610682295187, 24.72278325192145, 23.823851448395132, 23.23793843200309, 22.216056630175615, 18.586330879797995, 18.159118141286218, 17.204255088885656, 17.166760511474326, 15.395365933961902, 14.696328756544116, 14.385179952709974, 13.34729381213394, 15.183958785545865, 13.123334528291762, 13.479352606594514, 26.181240186737227, 17.585600914958714, 11.41172671617786, 38.65920433269622, 11.126168188259493, 11.767623260921829, 30.021419999441527, 74.69809912489838, 90.15868096521488, 41.950778768614875, 58.654630058493716, 107.3951205731184, 198.26300025645793, 154.5529931114461, 282.0252684360724, 130.17802284189497, 38.730050057378634, 74.76670088595488, 128.52777825899162, 83.30217286504765, 39.41234586215667, 182.9826314595669, 305.24101453676286, 207.0753203851978, 183.76372594123976, 3295.8535800082445, 285.2393491731797, 94.20359938622725, 155.22795135280194, 149.8708973479055, 61.19684345386687, 207.68663649133092, 287.94609576030234, 133.42978413952227, 174.87329050018224, 160.20020085439285, 183.69951616584538, 597.8944994476049, 471.4315192646627, 396.136190438596, 269.13210414323635, 154.34420040723268, 653.2027435817007, 51.87559970540999, 37.998579919137164, 30.16259827151751, 27.39694068935824, 23.83691795694926, 24.670239449885464, 23.02974645712861, 25.03123607596089, 18.29481967190416, 17.408958477023617, 33.63074599290711, 14.470121039758828, 15.51338178546406, 15.315440231719299, 13.641052812067173, 13.927487185632982, 12.505590244980478, 11.884867518476078, 17.57160519268182, 11.398796445114153, 12.119082312355737, 11.183536360617403, 11.030973580728004, 19.082094466795414, 10.971053773144272, 10.532584721897043, 10.743318699804254, 13.958137769058517, 10.667851871785645, 10.496597752620005, 41.0957549957, 163.9498566146997, 43.744679168639905, 377.83878918151015, 63.97430776811186, 59.55080075053796, 18.40887479172197, 47.82042881768385, 29.083206844895606, 28.943346464201014, 25.79106992375766, 75.92331216733943, 25.769779178264447, 81.38335153384722, 85.2969302765163, 175.43485407455046, 89.31643095594235, 188.41108099847128, 177.38798050772374, 63.88273222774755, 183.69951616584538, 211.82953474885284, 163.11353361973147, 45.79547366324171, 121.16245495543066, 53.19150453200773, 65.05114236787328, 3295.8535800082445, 145.65809932014753, 94.91347795791518, 471.4315192646627, 76.2797160379153, 282.0252684360724, 597.8944994476049, 174.87329050018224, 545.1070350601278, 125.83909210502812, 278.9896898701727, 191.12761903326327, 285.2393491731797, 129.1684987405024, 371.2425821051311, 275.98669045981296, 92.12072901800443, 33.054060017938475, 28.696768959791406, 19.990237892620453, 19.951749284841643, 14.982795294752139, 13.91824968503813, 14.260543170165066, 13.59538819385618, 15.25192031578042, 13.23249637450184, 13.139988299348417, 12.971161850996376, 12.802748612236144, 12.719323042759559, 11.959176320437722, 11.676831271453477, 21.645659322636565, 12.188024902753387, 12.761280144374455, 10.934999250391902, 11.205696713454223, 9.854796064932103, 10.492233861323438, 11.129317471855881, 9.654534286742742, 9.968802851608771, 9.573341351708443, 10.427251503277503, 340.74106469894673, 153.80808605918645, 17.600379061437344, 112.19388747532334, 24.55865552705504, 150.97527742710855, 231.13464958445658, 26.708535558088663, 356.7602529060768, 133.89802973998252, 68.16088335194704, 77.47935656022605, 41.8016303433934, 275.98669045981296, 72.61537320578267, 47.727693871295955, 53.07107153433782, 147.88225635010895, 3295.8535800082445, 41.978964431248485, 597.8944994476049, 87.17054203000842, 207.68663649133092, 65.33132820274466, 79.68790102789822, 213.80624986617752, 153.02440560216175, 211.82953474885284, 188.41108099847128, 396.136190438596, 174.87329050018224, 285.2393491731797, 371.2425821051311, 149.8708973479055, 241.78973346391487, 163.11353361973147, 159.3492182402349], \"Category\": [\"Default\", \"Default\", \"Default\", \"Default\", \"Default\", \"Default\", \"Default\", \"Default\", \"Default\", \"Default\", \"Default\", \"Default\", \"Default\", \"Default\", \"Default\", \"Default\", \"Default\", \"Default\", \"Default\", \"Default\", \"Default\", \"Default\", \"Default\", \"Default\", \"Default\", \"Default\", \"Default\", \"Default\", \"Default\", \"Default\", \"Topic1\", \"Topic1\", \"Topic1\", \"Topic1\", \"Topic1\", \"Topic1\", \"Topic1\", \"Topic1\", \"Topic1\", \"Topic1\", \"Topic1\", \"Topic1\", \"Topic1\", \"Topic1\", \"Topic1\", \"Topic1\", \"Topic1\", \"Topic1\", \"Topic1\", \"Topic1\", \"Topic1\", \"Topic1\", \"Topic1\", \"Topic1\", \"Topic1\", \"Topic1\", \"Topic1\", \"Topic1\", \"Topic1\", \"Topic1\", \"Topic1\", \"Topic1\", \"Topic1\", \"Topic1\", \"Topic1\", \"Topic1\", \"Topic1\", \"Topic1\", \"Topic1\", \"Topic1\", \"Topic1\", \"Topic1\", \"Topic1\", \"Topic1\", \"Topic1\", \"Topic1\", \"Topic1\", \"Topic1\", \"Topic1\", \"Topic1\", \"Topic1\", \"Topic1\", \"Topic1\", \"Topic1\", \"Topic1\", \"Topic1\", \"Topic1\", \"Topic1\", \"Topic1\", \"Topic1\", \"Topic1\", \"Topic1\", \"Topic1\", \"Topic1\", \"Topic1\", \"Topic2\", \"Topic2\", \"Topic2\", \"Topic2\", \"Topic2\", \"Topic2\", \"Topic2\", \"Topic2\", \"Topic2\", \"Topic2\", \"Topic2\", \"Topic2\", \"Topic2\", \"Topic2\", \"Topic2\", \"Topic2\", \"Topic2\", \"Topic2\", \"Topic2\", \"Topic2\", \"Topic2\", \"Topic2\", \"Topic2\", \"Topic2\", \"Topic2\", \"Topic2\", \"Topic2\", \"Topic2\", \"Topic2\", \"Topic2\", \"Topic2\", \"Topic2\", \"Topic2\", \"Topic2\", \"Topic2\", \"Topic2\", \"Topic2\", \"Topic2\", \"Topic2\", \"Topic2\", \"Topic2\", \"Topic2\", \"Topic2\", \"Topic2\", \"Topic2\", \"Topic2\", \"Topic2\", \"Topic2\", \"Topic2\", \"Topic2\", \"Topic2\", \"Topic2\", \"Topic2\", \"Topic2\", \"Topic2\", \"Topic2\", \"Topic2\", \"Topic2\", \"Topic2\", \"Topic2\", \"Topic2\", \"Topic2\", \"Topic2\", \"Topic2\", \"Topic2\", \"Topic2\", \"Topic2\", \"Topic3\", \"Topic3\", \"Topic3\", \"Topic3\", \"Topic3\", \"Topic3\", \"Topic3\", \"Topic3\", \"Topic3\", \"Topic3\", \"Topic3\", \"Topic3\", \"Topic3\", \"Topic3\", \"Topic3\", \"Topic3\", \"Topic3\", \"Topic3\", \"Topic3\", \"Topic3\", \"Topic3\", \"Topic3\", \"Topic3\", \"Topic3\", \"Topic3\", \"Topic3\", \"Topic3\", \"Topic3\", \"Topic3\", \"Topic3\", \"Topic3\", \"Topic3\", \"Topic3\", \"Topic3\", \"Topic3\", \"Topic3\", \"Topic3\", \"Topic3\", \"Topic3\", \"Topic3\", \"Topic3\", \"Topic3\", \"Topic3\", \"Topic3\", \"Topic3\", \"Topic3\", \"Topic3\", \"Topic3\", \"Topic3\", \"Topic3\", \"Topic3\", \"Topic3\", \"Topic3\", \"Topic3\", \"Topic3\", \"Topic3\", \"Topic3\", \"Topic3\", \"Topic3\", \"Topic3\", \"Topic3\", \"Topic3\", \"Topic3\", \"Topic3\", \"Topic3\", \"Topic3\", \"Topic3\", \"Topic3\", \"Topic3\", \"Topic3\", \"Topic3\", \"Topic3\", \"Topic3\", \"Topic4\", \"Topic4\", \"Topic4\", \"Topic4\", \"Topic4\", \"Topic4\", \"Topic4\", \"Topic4\", \"Topic4\", \"Topic4\", \"Topic4\", \"Topic4\", \"Topic4\", \"Topic4\", \"Topic4\", \"Topic4\", \"Topic4\", \"Topic4\", \"Topic4\", \"Topic4\", \"Topic4\", \"Topic4\", \"Topic4\", \"Topic4\", \"Topic4\", \"Topic4\", \"Topic4\", \"Topic4\", \"Topic4\", \"Topic4\", \"Topic4\", \"Topic4\", \"Topic4\", \"Topic4\", \"Topic4\", \"Topic4\", \"Topic4\", \"Topic4\", \"Topic4\", \"Topic4\", \"Topic4\", \"Topic4\", \"Topic4\", \"Topic4\", \"Topic4\", \"Topic4\", \"Topic4\", \"Topic4\", \"Topic4\", \"Topic4\", \"Topic4\", \"Topic4\", \"Topic4\", \"Topic4\", \"Topic4\", \"Topic4\", \"Topic4\", \"Topic4\", \"Topic4\", \"Topic4\", \"Topic4\", \"Topic4\", \"Topic4\", \"Topic4\", \"Topic4\", \"Topic4\"], \"logprob\": [30.0, 29.0, 28.0, 27.0, 26.0, 25.0, 24.0, 23.0, 22.0, 21.0, 20.0, 19.0, 18.0, 17.0, 16.0, 15.0, 14.0, 13.0, 12.0, 11.0, 10.0, 9.0, 8.0, 7.0, 6.0, 5.0, 4.0, 3.0, 2.0, 1.0, -2.7847, -2.4623, -5.5617, -3.4802, -3.3021, -6.0644, -5.2005, -6.2475, -5.9273, -6.5966, -5.4956, -6.0188, -3.4944, -6.9309, -6.9946, -7.0437, -6.8352, -7.251, -7.2592, -7.2775, -7.2455, -7.3368, -7.2514, -7.3735, -7.3887, -7.2971, -4.3716, -7.4299, -7.4463, -7.4432, -6.2624, -5.5385, -5.9852, -5.5402, -6.3316, -3.51, -4.3856, -5.5541, -4.8981, -3.811, -6.1935, -4.6079, -4.7543, -4.8928, -5.8343, -5.8796, -5.6139, -2.3979, -5.1787, -4.1948, -4.737, -4.6082, -4.3875, -4.4749, -5.1142, -4.7155, -4.3678, -5.2662, -4.983, -4.8961, -5.1224, -5.1819, -5.2978, -5.0808, -5.2572, -5.1562, -4.4986, -5.7798, -5.6698, -5.9568, -5.9203, -5.3202, -6.1533, -6.2587, -6.2556, -6.2938, -6.3203, -6.3656, -6.5503, -6.5745, -6.631, -6.6337, -6.7486, -6.7988, -6.8204, -6.8972, -6.7689, -6.9166, -6.8905, -6.2304, -6.6289, -7.064, -5.8439, -7.0898, -7.0344, -6.1076, -5.2212, -5.0427, -5.7919, -5.4959, -4.9568, -4.4003, -4.6334, -4.1289, -4.8266, -5.9348, -5.3866, -5.0248, -5.3713, -5.972, -4.8144, -4.4317, -4.7249, -4.8382, -2.8206, -4.5464, -5.3216, -4.9967, -5.0811, -5.651, -4.9457, -4.7907, -5.2778, -5.1932, -5.2471, -5.1962, -4.7828, -4.8846, -4.9647, -5.155, -5.2643, -5.2251, -5.3275, -5.6411, -5.8758, -5.9764, -6.1175, -6.084, -6.1548, -6.0754, -6.3924, -6.4452, -5.7871, -6.6357, -6.5662, -6.5797, -6.6993, -6.6826, -6.7909, -6.8461, -6.4552, -6.8891, -6.8285, -6.9098, -6.9236, -6.3756, -6.9297, -6.9736, -6.9544, -6.6932, -6.9629, -6.9806, -5.6388, -4.3268, -5.5978, -3.6096, -5.3304, -5.4121, -6.4632, -5.6167, -6.0565, -6.0679, -6.1705, -5.2527, -6.1747, -5.2625, -5.2292, -4.6626, -5.2202, -4.662, -4.7226, -5.5162, -4.7869, -4.7651, -4.9753, -5.8147, -5.2237, -5.73, -5.6202, -3.5401, -5.2081, -5.4302, -4.7046, -5.5588, -4.9699, -4.6788, -5.2264, -4.793, -5.3787, -5.1527, -5.2827, -5.2268, -5.3875, -5.284, -5.3495, -4.6425, -5.6824, -5.8298, -6.1997, -6.2025, -6.4986, -6.5771, -6.5535, -6.6034, -6.4892, -6.6328, -6.64, -6.653, -6.6672, -6.6757, -6.7402, -6.7645, -6.1487, -6.7234, -6.6793, -6.8351, -6.8116, -6.9455, -6.8829, -6.824, -6.9665, -6.9372, -6.9779, -6.893, -3.4071, -4.2033, -6.3738, -4.6224, -6.0759, -4.36, -4.0805, -6.0384, -3.7608, -4.6482, -5.2794, -5.2167, -5.7277, -4.2987, -5.3897, -5.7079, -5.6379, -4.9312, -2.7616, -5.8223, -4.0456, -5.3402, -4.7895, -5.5893, -5.5009, -4.9394, -5.152, -5.037, -5.135, -4.8569, -5.2691, -5.1392, -5.0825, -5.401, -5.41, -5.4824, -5.4975], \"loglift\": [30.0, 29.0, 28.0, 27.0, 26.0, 25.0, 24.0, 23.0, 22.0, 21.0, 20.0, 19.0, 18.0, 17.0, 16.0, 15.0, 14.0, 13.0, 12.0, 11.0, 10.0, 9.0, 8.0, 7.0, 6.0, 5.0, 4.0, 3.0, 2.0, 1.0, 1.0248, 1.0198, 1.016, 1.0124, 1.0111, 1.0097, 1.0085, 1.006, 1.0048, 0.9974, 0.9941, 0.991, 0.986, 0.9838, 0.9813, 0.9783, 0.9775, 0.972, 0.9712, 0.9696, 0.9687, 0.9669, 0.9663, 0.9648, 0.9641, 0.9639, 0.9622, 0.9615, 0.9594, 0.9572, 0.9548, 0.9457, 0.9444, 0.932, 0.9334, 0.8398, 0.8201, 0.8707, 0.8097, 0.7197, 0.8926, 0.7591, 0.765, 0.7675, 0.859, 0.8623, 0.8189, 0.3334, 0.7489, 0.4811, 0.6066, 0.5607, 0.4624, 0.4399, 0.6518, 0.485, 0.0705, 0.5969, 0.2535, 0.0585, 0.3442, 0.3968, 0.5851, 0.0298, 0.2414, 1.3877, 1.3798, 1.3791, 1.3778, 1.3756, 1.3748, 1.3731, 1.3717, 1.3686, 1.3683, 1.3671, 1.3655, 1.3653, 1.3589, 1.358, 1.3556, 1.3549, 1.349, 1.3453, 1.3451, 1.3432, 1.3426, 1.3406, 1.34, 1.3362, 1.3357, 1.333, 1.333, 1.3325, 1.3319, 1.3222, 1.297, 1.2873, 1.3033, 1.2641, 1.1984, 1.1417, 1.1578, 1.0608, 1.1361, 1.2403, 1.1307, 0.9508, 1.0379, 1.1856, 0.8079, 0.6789, 0.7737, 0.7798, -0.0894, 0.6319, 0.9646, 0.7901, 0.7408, 1.0666, 0.55, 0.3781, 0.6603, 0.4744, 0.5082, 0.4222, -0.3445, -0.2087, -0.1148, 0.0814, 0.5282, -0.8753, 1.5553, 1.553, 1.5492, 1.5448, 1.543, 1.542, 1.5401, 1.5361, 1.5326, 1.5295, 1.5291, 1.5239, 1.5238, 1.5231, 1.5193, 1.5152, 1.5146, 1.5103, 1.5102, 1.509, 1.5084, 1.5074, 1.5074, 1.5073, 1.5067, 1.5036, 1.503, 1.5025, 1.5016, 1.5, 1.4769, 1.4053, 1.4555, 1.2876, 1.3428, 1.3327, 1.4556, 1.3475, 1.405, 1.3985, 1.4111, 1.2492, 1.4078, 1.17, 1.1563, 1.0018, 1.1193, 0.9311, 0.9307, 1.1584, 0.8315, 0.7108, 0.762, 1.1928, 0.8108, 1.1278, 1.0363, -0.8088, 0.6423, 0.8485, -0.0287, 0.9385, 0.2197, -0.2405, 0.4412, -0.2623, 0.618, 0.0478, 0.2961, -0.0484, 0.5831, -0.3692, -0.1382, 1.666, 1.6512, 1.6451, 1.6367, 1.6359, 1.6262, 1.6214, 1.6207, 1.6185, 1.6178, 1.6162, 1.616, 1.6159, 1.6148, 1.6128, 1.6099, 1.6096, 1.6082, 1.6078, 1.606, 1.6046, 1.6037, 1.5982, 1.5982, 1.5981, 1.5977, 1.595, 1.5948, 1.5943, 1.5934, 1.5927, 1.59, 1.489, 1.5547, 1.4546, 1.3082, 1.5082, 1.1938, 1.2864, 1.3304, 1.265, 1.371, 0.9126, 1.1568, 1.2582, 1.2222, 0.9041, -0.0304, 1.2722, 0.3926, 1.0236, 0.7062, 1.0629, 0.9526, 0.5272, 0.6491, 0.4389, 0.4581, -0.007, 0.3985, 0.0391, -0.1677, 0.4209, -0.0664, 0.2548, 0.263]}, \"token.table\": {\"Topic\": [2, 2, 4, 2, 2, 3, 4, 2, 3, 3, 1, 2, 3, 4, 1, 4, 1, 3, 3, 2, 3, 4, 2, 3, 4, 4, 2, 1, 2, 3, 4, 2, 3, 1, 3, 1, 2, 3, 4, 3, 1, 2, 3, 4, 2, 3, 3, 1, 2, 4, 2, 3, 1, 2, 3, 4, 3, 4, 4, 2, 2, 1, 2, 3, 4, 2, 3, 4, 1, 2, 3, 4, 1, 2, 3, 4, 4, 2, 3, 4, 1, 2, 3, 4, 1, 2, 4, 4, 1, 2, 3, 4, 2, 4, 1, 2, 4, 3, 1, 2, 3, 4, 2, 4, 3, 1, 2, 3, 4, 4, 3, 2, 4, 4, 1, 2, 3, 4, 1, 4, 2, 3, 4, 1, 4, 1, 4, 2, 4, 1, 2, 3, 4, 3, 4, 1, 2, 3, 4, 1, 3, 1, 2, 3, 4, 1, 2, 3, 4, 1, 3, 4, 4, 3, 1, 2, 1, 1, 1, 1, 2, 3, 4, 1, 2, 3, 4, 1, 1, 2, 3, 4, 1, 2, 3, 4, 1, 2, 3, 4, 2, 3, 2, 1, 2, 3, 4, 1, 2, 3, 4, 1, 2, 3, 4, 3, 1, 2, 3, 4, 2, 3, 4, 3, 1, 2, 3, 4, 1, 4, 2, 3, 4, 1, 2, 3, 4, 2, 3, 1, 2, 3, 4, 1, 2, 3, 1, 3, 4, 1, 1, 2, 3, 4, 1, 2, 3, 2, 3, 4, 1, 4, 1, 2, 3, 4, 1, 2, 3, 4, 1, 4, 1, 2, 3, 4, 1, 3, 4, 2, 2, 3, 4, 4, 2, 3, 4, 2, 3, 3, 4, 2, 1, 2, 3, 4, 3, 4, 2, 3, 1, 2, 1, 2, 3, 4, 2, 3, 4, 1, 2, 3, 4, 1, 1, 2, 3, 4, 3, 1, 2, 3, 4, 2, 3, 4, 2, 3, 4, 1, 3, 2, 1, 1, 2, 3, 4, 1, 2, 3, 4, 1, 2, 3, 4, 1, 2, 3, 4, 2, 3, 4, 2, 1, 2, 3, 4, 2, 2, 2, 3, 4, 1, 2, 3, 4, 3, 1, 2, 4, 3, 2, 3, 4, 4, 3, 2, 3, 4, 3, 2, 4, 1, 2, 3, 4, 4, 1, 2, 3, 4, 1, 4, 1, 2, 3, 3, 4, 2, 3, 1, 2, 3, 4, 3, 4, 1, 2, 3, 4, 4, 2, 3, 2, 3, 4, 1, 2, 3, 4, 1, 2, 3, 1, 3, 4, 2, 4, 2, 3, 1, 2, 3, 2, 4, 3, 4, 1, 2, 3, 4, 4, 1, 2, 3, 4, 1, 1, 2, 3, 4, 1, 1, 1, 1, 2, 3, 4, 1, 3, 2, 3, 4, 4, 4, 3, 4, 1, 2, 3, 4, 2, 4, 3, 1, 2, 3, 4, 1, 4, 1, 2, 3, 4, 1, 2, 3, 4, 2, 3, 4, 2, 4, 1, 2, 3, 4, 1, 3, 4, 1, 3, 4, 1, 2, 3, 4, 2, 1, 1, 2, 3, 4, 1, 2, 3, 4, 4, 2, 2, 3, 4, 1, 2, 3, 4, 3, 4, 2, 3, 1, 2, 3, 4, 3, 4, 1, 2, 1, 2, 3, 4, 1, 4, 1, 2, 3, 4, 3], \"Freq\": [0.9774609031434027, 0.9312141990866795, 0.0517341221714822, 0.9892118056274989, 0.8694965759589638, 0.10229371481870161, 0.03409790493956721, 0.9666999769987622, 0.05686470452933895, 0.952689646271712, 0.3364042248848862, 0.16476941627014835, 0.3913273636416023, 0.10298088516884271, 0.9187675985993604, 0.06470194356333524, 0.9281293668057733, 0.9255467074327524, 0.9308110723907131, 0.9639207346602355, 0.8691460059902638, 0.10864325074878298, 0.034550254969198675, 0.8292061192607683, 0.10365076490759603, 0.9878341277804544, 0.9361688088448046, 0.8297576905878508, 0.10257152263724353, 0.06736040292595098, 0.0015309182483170677, 0.9732238349484525, 0.9076594841496537, 0.90778151434498, 0.07671393078971663, 0.814277999538104, 0.0036029999979562124, 0.1152959999345988, 0.06485399996321183, 0.9728320654833135, 0.20018231771492598, 0.010535911458680314, 0.4846519270992945, 0.30554143230172914, 0.6379943784196191, 0.35789928545490834, 0.9737205989996944, 0.9292522551362866, 0.06060340794367086, 0.02020113598122362, 0.07300024054343085, 0.9003363000356471, 0.16905341193072473, 0.26372332261193054, 0.10819418363566383, 0.45982528045157123, 0.657454660052208, 0.328727330026104, 0.9562066058455587, 0.9889606937337817, 0.9144017455418791, 0.16013782812207475, 0.520447941396743, 0.03336204752543224, 0.2869136087187173, 0.1163193310269197, 0.8530084275307445, 0.9068583629558531, 0.6535638193346437, 0.10429209882999634, 0.16686735812799414, 0.07648087247533064, 0.024820471012464308, 0.7127020962150465, 0.25884205484427064, 0.0035457815732091867, 0.959025491699015, 0.7717022329032187, 0.20175221775247548, 0.020175221775247547, 0.5000222127573634, 0.2260415949661624, 0.09223710720766896, 0.18174351058353194, 0.007468369788128374, 0.31367153110139173, 0.6796216507196821, 0.9144948043450124, 0.9932326305750787, 0.0012857380331068981, 0.004500083115874143, 0.0012857380331068981, 0.9058234701575882, 0.07151237922296749, 0.9178168339171243, 0.9654190486294931, 0.942036391918402, 0.9794037763886146, 0.9572255113248465, 0.2703255590407853, 0.6635263721910184, 0.06143762705472393, 0.9907925659201615, 0.9757196024135091, 0.9530056205412472, 0.029347798184628116, 0.0029347798184628116, 0.046956477095404986, 0.9215208629973228, 0.9028165301260397, 0.9648898419476554, 0.05681695811830626, 0.9090713298929002, 0.9340254912925414, 0.05508475441783535, 0.12394069744012955, 0.23411020627580023, 0.59216110999173, 0.9039649401363191, 0.08474671313777991, 0.39797139772382134, 0.04591977666044093, 0.5357307277051441, 0.9814414941004583, 0.9344050775961431, 0.3784053826072969, 0.6194636263423157, 0.1497648566803807, 0.8611479259121889, 0.13072569675968312, 0.7189913321782572, 0.14706640885464353, 0.01634071209496039, 0.8478201986273484, 0.1524856472351346, 0.37349284084768153, 0.11919984282372814, 0.38143949703593005, 0.1271464990119767, 0.9826273154546378, 0.009826273154546377, 0.147094687832292, 0.4180585864707246, 0.3716076324184218, 0.0619346054030703, 0.2850771190877745, 0.42113665319784865, 0.1619756358453264, 0.13605953411007418, 0.09273041413524975, 0.09935401514491045, 0.8014557221689443, 0.9179172005976769, 0.9334059925332591, 0.1769167900609053, 0.8194040802820877, 0.9945501304402508, 0.9222286314641387, 0.9803079844005573, 0.5790872880664077, 0.20151389145168036, 0.20151389145168036, 0.01909078971647498, 0.37019926752468063, 0.48813885717856115, 0.10811129051605717, 0.03603709683868572, 0.9488190451275224, 0.5548932421272285, 0.1427637953045782, 0.1427637953045782, 0.15892573439566252, 0.6575961589524207, 0.05376572368793377, 0.11166727227493936, 0.1737046457610168, 0.1873644640978995, 0.4796530280906227, 0.2623102497370593, 0.0749457856391598, 0.9326674088207976, 0.06661910063005697, 0.9467276998075607, 0.5051302292032986, 0.11692829379705988, 0.060802712774471135, 0.31804495912800285, 0.7663182720683122, 0.10161126259469333, 0.01693521043244889, 0.11854647302714222, 0.8538895741230689, 0.016742932825942525, 0.016742932825942525, 0.11720052978159769, 0.9494345655924504, 0.03184591692404702, 0.6475336441222894, 0.19107550154428213, 0.12738366769618809, 0.025813327430582948, 0.30975992916699535, 0.6582398494798651, 0.9588020314765338, 0.3027805211007291, 0.541139654733218, 0.05153710997459219, 0.10307421994918438, 0.8740032990903569, 0.1181085539311293, 0.401511785804329, 0.06883059185217069, 0.5162294388912801, 0.01254895645513246, 0.3764686936539738, 0.1254895645513246, 0.48940930175016595, 0.9548821912823054, 0.038195287651292216, 0.12315763048599687, 0.08956918580799772, 0.6381804488819838, 0.15674607516399602, 0.4539411061885254, 0.5360368381587907, 0.004829160704133249, 0.8453211651054495, 0.03189891189077168, 0.12759564756308672, 0.9805605919371609, 0.9844432656396388, 0.0073796346749598115, 0.005903707739967849, 0.0014759269349919623, 0.769151618347026, 0.1577746909429797, 0.07395688637952173, 0.9300024858580693, 0.309678911238768, 0.667000731898885, 0.9629763283974296, 0.02188582564539613, 0.451837798736187, 0.1317860246313879, 0.16943917452607013, 0.24474547431543464, 0.6453699398187532, 0.12056361513097588, 0.00709197736064564, 0.2269432755406605, 0.9089250181062151, 0.9132428223391229, 0.38468325133028847, 0.17561626691165344, 0.1622359799088608, 0.27764095530794736, 0.2153026072444186, 0.04784502383209302, 0.7415978693974419, 0.9320337398139585, 0.31266565605093755, 0.44141033795426476, 0.23909726639189344, 0.9372987288472632, 0.17042538534802973, 0.5243858010708607, 0.3015218356157449, 0.9739802077468156, 0.9765087338473831, 0.3352351371332987, 0.6495180781957662, 0.9670029379275721, 0.020911564883964468, 0.06273469465189341, 0.7946394655906498, 0.12546938930378682, 0.9432926784489849, 0.05240514880272138, 0.7893732599020417, 0.20704872390873222, 0.22277185785208423, 0.7681788201796008, 0.17738577956057863, 0.12114150799259028, 0.004326482428306796, 0.6922371885290873, 0.9103310632617455, 0.08032332911133049, 0.01338722151855508, 0.12540267506165664, 0.27360583649815995, 0.5643120377774549, 0.034200729562269994, 0.9585059717108318, 0.014671171364322331, 0.014671171364322331, 0.26408108455780194, 0.7042162254874719, 0.9373958431545173, 0.033045439146619796, 0.254921959131067, 0.420149154864166, 0.2926881752986325, 0.8520515710955819, 0.077459233735962, 0.051639489157308, 0.8119283260103041, 0.17760932131475402, 0.025372760187822002, 0.029734695751646573, 0.9515102640526903, 0.9452622645675169, 0.9671609724294883, 0.12518860355796302, 0.42853021987148876, 0.06740924806967238, 0.3803807569645799, 0.8112368708700822, 0.08604027418319055, 0.036874403221367376, 0.06145733870227896, 0.4607402762102482, 0.26752661199304734, 0.17463542727323925, 0.09660683210860042, 0.5181017224531405, 0.4119845021916539, 0.06866408369860898, 0.9401106332005883, 0.038805144315844635, 0.853713174948582, 0.1164154329475339, 0.9739623074738301, 0.10342977704332465, 0.37561340084154743, 0.4735995054089076, 0.043549379807715644, 0.968453651041191, 0.9707644869691088, 0.8984159831625255, 0.09982399812916949, 0.0110915553476855, 0.8036969449163954, 0.11906621406168821, 0.029766553515422053, 0.04762648562467529, 0.9650141620622511, 0.09603591028724151, 0.6962603495825009, 0.2040763093603882, 0.9669071648874717, 0.9898485024998587, 0.967510911728582, 0.9530858854435265, 0.9322044681490722, 0.9595708611048236, 0.02183621917208517, 0.6769227943346402, 0.2838708492371072, 0.9114894710003805, 0.8987820272708223, 0.892403235221725, 0.01884265704627773, 0.15074125637022184, 0.20726922750905505, 0.6406503395734429, 0.9681110272878298, 0.5336748321143907, 0.1778916107047969, 0.2773016284515952, 0.010464212394399817, 0.9720833911927209, 0.020251737316515018, 0.952210875074838, 0.7623714745277413, 0.22737394854336143, 0.9855114958323642, 0.95229745165429, 0.33998878864676085, 0.6565300746282279, 0.7356353417008603, 0.04035904617810206, 0.15960168261340363, 0.06420757346516237, 0.7971950268670365, 0.20320657547591128, 0.7564776503473587, 0.18541118881062715, 0.022249342657275257, 0.02966579020970034, 0.8985276972544157, 0.9526188636577657, 0.955286244290811, 0.184716239939068, 0.7892421161032905, 0.01679238544900618, 0.6877629976992572, 0.06940727499717274, 0.025239009089880998, 0.21453157726398847, 0.9980238441994045, 0.0008918890475419165, 0.0008918890475419165, 0.937867060307121, 0.004095489346319306, 0.057336850848470275, 0.9347681988196404, 0.9504639265455662, 0.9644380097038192, 0.9065382966260388, 0.7720918966358815, 0.022708585195172985, 0.20437726675655687, 0.9729710208381002, 0.01595034460390328, 0.9831211646634964, 0.9197957873738737, 0.6285898738167699, 0.36117871202731533, 0.006945744462063756, 0.003472872231031878, 0.902525231755557, 0.9853336193976787, 0.005297492577406875, 0.0070633234365425, 0.001765830859135625, 0.9774050542897702, 0.9578168619223623, 0.09223512119232531, 0.5841557675513936, 0.3074504039744177, 0.9776276121455291, 0.9723688989852329, 0.963631908542786, 0.131711851268546, 0.1185406661416914, 0.7244151819770029, 0.0263423702537092, 0.056909997068251776, 0.9105599530920284, 0.1127999678292523, 0.6391998176990964, 0.24439993029671334, 0.9251291548010576, 0.9132609077549702, 0.8915369992691291, 0.09143969223273118, 0.13115998938567677, 0.5519649553313898, 0.10929999115473064, 0.2022049836362517, 0.08143768284858673, 0.895814511334454, 0.9614556325336419, 0.026006435048289797, 0.006501608762072449, 0.04551126133450715, 0.9232284442142878, 0.1604365478819783, 0.828922164056888, 0.07188395835758506, 0.2744660228198702, 0.2940707387355752, 0.35941979178792527, 0.1088354075188658, 0.5387352672183857, 0.14692780015046883, 0.20134550390990175, 0.3945714054024053, 0.32023186525412606, 0.2802028820973603, 0.046198638955488945, 0.9239727791097788, 0.9594439272656264, 0.022677765553551173, 0.001744443504119321, 0.01569999153707389, 0.8535410111569934, 0.060967215082642384, 0.07316065809917087, 0.03438410369713098, 0.8596025924282744, 0.1375364147885239, 0.3043625033513398, 0.047103720756754966, 0.18116815675674988, 0.4674138444324147, 0.9220256849832261, 0.9643552967501544, 0.5679864789704859, 0.21962143853525457, 0.025243843509799375, 0.18680444197251536, 0.5806666191692832, 0.08602468432137529, 0.2186460726501622, 0.11469957909516705, 0.9434464365484426, 0.9743191596966376, 0.17514893404951992, 0.5254468021485598, 0.29722243353857924, 0.9737532765605728, 0.4291758533543092, 0.47044276233068505, 0.09904058154330211, 0.9838850736333344, 0.94034453160171, 0.9813796877473284, 0.01412057104672415, 0.1640911462116077, 0.07410567893427444, 0.7516433149047836, 0.010586525562039206, 0.8941715462395954, 0.9817297863723623, 0.9426086143264828, 0.05386334939008473, 0.2818680265533714, 0.062010965841741705, 0.5242745293892708, 0.12965929221455083, 0.9627348266078835, 0.026019860178591443, 0.1437389340525642, 0.4662750787558789, 0.19632634894984374, 0.19632634894984374, 0.9313563324197549], \"Term\": [\"1\", \"2\", \"2\", \"3\", \"4\", \"4\", \"4\", \"almost\", \"almost\", \"alot\", \"also\", \"also\", \"also\", \"also\", \"analysis\", \"analysis\", \"analytics\", \"another\", \"attempt\", \"attention\", \"audio\", \"audio\", \"available\", \"available\", \"available\", \"awesome\", \"bash\", \"basic\", \"basic\", \"basic\", \"basic\", \"basically\", \"basis\", \"begin\", \"begin\", \"beginner\", \"beginner\", \"beginner\", \"beginner\", \"believe\", \"best\", \"best\", \"best\", \"best\", \"bit\", \"bit\", \"brief\", \"career\", \"career\", \"career\", \"challenge\", \"challenge\", \"clear\", \"clear\", \"clear\", \"clear\", \"come\", \"come\", \"comfortable\", \"command\", \"compare\", \"complete\", \"complete\", \"complete\", \"complete\", \"completely\", \"completely\", \"complex\", \"concept\", \"concept\", \"concept\", \"concept\", \"content\", \"content\", \"content\", \"content\", \"context\", \"could\", \"could\", \"could\", \"course\", \"course\", \"course\", \"course\", \"coursera\", \"coursera\", \"coursera\", \"current\", \"data\", \"data\", \"data\", \"data\", \"day\", \"day\", \"decent\", \"depth\", \"descriptive\", \"development\", \"dive\", \"do\", \"do\", \"do\", \"doesnt\", \"download\", \"due\", \"easy\", \"easy\", \"easy\", \"easy\", \"education\", \"effective\", \"either\", \"either\", \"english\", \"enjoy\", \"enjoy\", \"enjoy\", \"enjoy\", \"essential\", \"essential\", \"example\", \"example\", \"example\", \"excelent\", \"excelente\", \"excellent\", \"excellent\", \"excite\", \"excite\", \"expect\", \"expect\", \"expect\", \"expect\", \"experience\", \"experience\", \"explain\", \"explain\", \"explain\", \"explain\", \"field\", \"field\", \"find\", \"find\", \"find\", \"find\", \"first\", \"first\", \"first\", \"first\", \"follow\", \"follow\", \"follow\", \"force\", \"form\", \"forward\", \"forward\", \"foundation\", \"foundational\", \"fundamental\", \"get\", \"get\", \"get\", \"get\", \"git\", \"git\", \"git\", \"git\", \"gitgithub\", \"github\", \"github\", \"github\", \"github\", \"give\", \"give\", \"give\", \"give\", \"go\", \"go\", \"go\", \"go\", \"good\", \"good\", \"happy\", \"help\", \"help\", \"help\", \"help\", \"helpful\", \"helpful\", \"helpful\", \"helpful\", \"highly\", \"highly\", \"highly\", \"highly\", \"hop\", \"however\", \"however\", \"however\", \"however\", \"im\", \"im\", \"im\", \"info\", \"information\", \"information\", \"information\", \"information\", \"insight\", \"insight\", \"instruction\", \"instruction\", \"instruction\", \"instructor\", \"instructor\", \"instructor\", \"instructor\", \"interactive\", \"interactive\", \"interest\", \"interest\", \"interest\", \"interest\", \"intro\", \"intro\", \"intro\", \"introduce\", \"introduce\", \"introduce\", \"introduces\", \"introduction\", \"introduction\", \"introduction\", \"introduction\", \"introductory\", \"introductory\", \"introductory\", \"isnt\", \"ive\", \"ive\", \"journey\", \"journey\", \"know\", \"know\", \"know\", \"know\", \"knowledge\", \"knowledge\", \"knowledge\", \"knowledge\", \"lay\", \"lead\", \"learn\", \"learn\", \"learn\", \"learn\", \"learnt\", \"learnt\", \"learnt\", \"least\", \"lecture\", \"lecture\", \"lecture\", \"lecturer\", \"lesson\", \"lesson\", \"lesson\", \"life\", \"light\", \"like\", \"like\", \"line\", \"link\", \"link\", \"link\", \"link\", \"listen\", \"listen\", \"little\", \"little\", \"look\", \"look\", \"lot\", \"lot\", \"lot\", \"lot\", \"love\", \"love\", \"love\", \"make\", \"make\", \"make\", \"make\", \"manage\", \"many\", \"many\", \"many\", \"many\", \"master\", \"material\", \"material\", \"material\", \"material\", \"may\", \"may\", \"may\", \"maybe\", \"maybe\", \"maybe\", \"might\", \"might\", \"money\", \"mooc\", \"much\", \"much\", \"much\", \"much\", \"necessary\", \"necessary\", \"necessary\", \"necessary\", \"need\", \"need\", \"need\", \"need\", \"new\", \"new\", \"new\", \"non\", \"note\", \"note\", \"note\", \"ok\", \"one\", \"one\", \"one\", \"one\", \"opinion\", \"otherwise\", \"overall\", \"overall\", \"overall\", \"overview\", \"overview\", \"overview\", \"overview\", \"paced\", \"part\", \"part\", \"part\", \"particularly\", \"pay\", \"pdf\", \"picture\", \"poorly\", \"prepared\", \"present\", \"present\", \"present\", \"preview\", \"price\", \"prior\", \"problem\", \"problem\", \"problem\", \"problem\", \"professor\", \"program\", \"program\", \"program\", \"program\", \"programming\", \"programming\", \"purpose\", \"question\", \"question\", \"quick\", \"quickly\", \"quiz\", \"quiz\", \"r\", \"r\", \"r\", \"r\", \"read\", \"read\", \"recommend\", \"recommend\", \"recommend\", \"recommend\", \"related\", \"requirement\", \"resource\", \"review\", \"review\", \"review\", \"rstudio\", \"rstudio\", \"rstudio\", \"rstudio\", \"science\", \"science\", \"science\", \"scientist\", \"scientist\", \"scientist\", \"scratch\", \"search\", \"sense\", \"sequence\", \"set\", \"set\", \"set\", \"setup\", \"setup\", \"slide\", \"speaker\", \"specialization\", \"specialization\", \"specialization\", \"specialization\", \"specific\", \"start\", \"start\", \"start\", \"start\", \"starter\", \"statistical\", \"still\", \"still\", \"still\", \"straight\", \"strong\", \"strongly\", \"structure\", \"structure\", \"structure\", \"structure\", \"structured\", \"structured\", \"stuff\", \"stuff\", \"stuff\", \"sufficient\", \"superficial\", \"sure\", \"sure\", \"take\", \"take\", \"take\", \"take\", \"team\", \"team\", \"technical\", \"thank\", \"thank\", \"thank\", \"thank\", \"thanks\", \"thanks\", \"thing\", \"thing\", \"thing\", \"thing\", \"think\", \"think\", \"think\", \"think\", \"time\", \"time\", \"time\", \"together\", \"together\", \"tool\", \"tool\", \"tool\", \"tool\", \"toolbox\", \"toolbox\", \"toolbox\", \"try\", \"try\", \"try\", \"understand\", \"understand\", \"understand\", \"understand\", \"understandable\", \"usage\", \"use\", \"use\", \"use\", \"use\", \"useful\", \"useful\", \"useful\", \"useful\", \"usefull\", \"value\", \"video\", \"video\", \"video\", \"view\", \"voice\", \"voice\", \"voice\", \"walk\", \"waste\", \"week\", \"week\", \"well\", \"well\", \"well\", \"well\", \"whether\", \"within\", \"wonderful\", \"wonderful\", \"work\", \"work\", \"work\", \"work\", \"world\", \"world\", \"would\", \"would\", \"would\", \"would\", \"youll\"]}, \"R\": 30, \"lambda.step\": 0.01, \"plot.opts\": {\"xlab\": \"PC1\", \"ylab\": \"PC2\"}, \"topic.order\": [3, 1, 4, 2]};\n",
       "\n",
       "function LDAvis_load_lib(url, callback){\n",
       "  var s = document.createElement('script');\n",
       "  s.src = url;\n",
       "  s.async = true;\n",
       "  s.onreadystatechange = s.onload = callback;\n",
       "  s.onerror = function(){console.warn(\"failed to load library \" + url);};\n",
       "  document.getElementsByTagName(\"head\")[0].appendChild(s);\n",
       "}\n",
       "\n",
       "if(typeof(LDAvis) !== \"undefined\"){\n",
       "   // already loaded: just create the visualization\n",
       "   !function(LDAvis){\n",
       "       new LDAvis(\"#\" + \"ldavis_el452271403551012690723696218321\", ldavis_el452271403551012690723696218321_data);\n",
       "   }(LDAvis);\n",
       "}else if(typeof define === \"function\" && define.amd){\n",
       "   // require.js is available: use it to load d3/LDAvis\n",
       "   require.config({paths: {d3: \"https://d3js.org/d3.v5\"}});\n",
       "   require([\"d3\"], function(d3){\n",
       "      window.d3 = d3;\n",
       "      LDAvis_load_lib(\"https://cdn.jsdelivr.net/gh/bmabey/pyLDAvis@3.2.2/pyLDAvis/js/ldavis.v3.0.0.js\", function(){\n",
       "        new LDAvis(\"#\" + \"ldavis_el452271403551012690723696218321\", ldavis_el452271403551012690723696218321_data);\n",
       "      });\n",
       "    });\n",
       "}else{\n",
       "    // require.js not available: dynamically load d3 & LDAvis\n",
       "    LDAvis_load_lib(\"https://d3js.org/d3.v5.js\", function(){\n",
       "         LDAvis_load_lib(\"https://cdn.jsdelivr.net/gh/bmabey/pyLDAvis@3.2.2/pyLDAvis/js/ldavis.v3.0.0.js\", function(){\n",
       "                 new LDAvis(\"#\" + \"ldavis_el452271403551012690723696218321\", ldavis_el452271403551012690723696218321_data);\n",
       "            })\n",
       "         });\n",
       "}\n",
       "</script>"
      ],
      "text/plain": [
       "PreparedData(topic_coordinates=              x         y  topics  cluster       Freq\n",
       "topic                                                \n",
       "2      0.238066 -0.017099       1        1  35.818359\n",
       "0     -0.069886 -0.097455       2        1  24.701872\n",
       "3     -0.114188 -0.057228       3        1  20.732344\n",
       "1     -0.053992  0.171782       4        1  18.747425, topic_info=             Term         Freq        Total Category  logprob  loglift\n",
       "20           data  1555.000000  1555.000000  Default  30.0000  30.0000\n",
       "30        science  1121.000000  1121.000000  Default  29.0000  29.0000\n",
       "67   introduction   677.000000   677.000000  Default  28.0000  28.0000\n",
       "93          start   566.000000   566.000000  Default  27.0000  27.0000\n",
       "38           easy   340.000000   340.000000  Default  26.0000  26.0000\n",
       "..            ...          ...          ...      ...      ...      ...\n",
       "26         github    58.855042   371.242582   Topic4  -5.0825  -0.1677\n",
       "374      complete    42.799745   149.870897   Topic4  -5.4010   0.4209\n",
       "49           give    42.418843   241.789733   Topic4  -5.4100  -0.0664\n",
       "77        lecture    39.453851   163.113534   Topic4  -5.4824   0.2548\n",
       "411          know    38.862461   159.349218   Topic4  -5.4975   0.2630\n",
       "\n",
       "[301 rows x 6 columns], token_table=      Topic      Freq   Term\n",
       "term                        \n",
       "1069      2  0.977461      1\n",
       "161       2  0.931214      2\n",
       "161       4  0.051734      2\n",
       "525       2  0.989212      3\n",
       "390       2  0.869497      4\n",
       "...     ...       ...    ...\n",
       "59        1  0.143739  would\n",
       "59        2  0.466275  would\n",
       "59        3  0.196326  would\n",
       "59        4  0.196326  would\n",
       "1225      3  0.931356  youll\n",
       "\n",
       "[529 rows x 3 columns], R=30, lambda_step=0.01, plot_opts={'xlab': 'PC1', 'ylab': 'PC2'}, topic_order=[3, 1, 4, 2])"
      ]
     },
     "execution_count": 146,
     "metadata": {},
     "output_type": "execute_result"
    }
   ],
   "source": [
    "# Visualize the topics\n",
    "pyLDAvis.enable_notebook()\n",
    "vis = pyLDAvis.gensim.prepare(lda_model, corpus, dictionary)\n",
    "vis"
   ]
  },
  {
   "cell_type": "markdown",
   "metadata": {},
   "source": [
    "What is topic perplexity and topic coherence: https://towardsdatascience.com/evaluate-topic-model-in-python-latent-dirichlet-allocation-lda-7d57484bb5d0"
   ]
  },
  {
   "cell_type": "code",
   "execution_count": 147,
   "metadata": {},
   "outputs": [
    {
     "name": "stdout",
     "output_type": "stream",
     "text": [
      "\n",
      "Perplexity:  -6.605412258170927\n",
      "\n",
      "Coherence Score:  0.5324523888604825\n"
     ]
    }
   ],
   "source": [
    "# Calculate Perplexity and Coherence\n",
    "\n",
    "# Compute Perplexity\n",
    "\n",
    "print('\\nPerplexity: ', lda_model.log_perplexity(corpus))  # a measure of how good the model is. The lower the better.\n",
    "\n",
    "# Compute Coherence Score\n",
    "\n",
    "coherence_model_lda = CoherenceModel(model = lda_model, texts = df['preprocessed'], dictionary = dictionary, coherence = 'c_v')\n",
    "coherence_lda = coherence_model_lda.get_coherence()\n",
    "print('\\nCoherence Score: ', coherence_lda)"
   ]
  },
  {
   "cell_type": "markdown",
   "metadata": {},
   "source": [
    "## Hyperparameter Tuning\n",
    "\n",
    "Code references\n",
    "\n",
    "Find the optimal number of topics, alpha and beta: https://towardsdatascience.com/evaluate-topic-model-in-python-latent-dirichlet-allocation-lda-7d57484bb5d0\n",
    "\n",
    "What is alpha and beta: https://www.thoughtvector.io/blog/lda-alpha-and-beta-parameters-the-intuition/"
   ]
  },
  {
   "cell_type": "markdown",
   "metadata": {},
   "source": [
    "## Calculate the coherence score\n",
    "\n",
    "Code reference: \n",
    "\n",
    "https://www.machinelearningplus.com/nlp/topic-modeling-gensim-python/#17howtofindtheoptimalnumberoftopicsforlda"
   ]
  },
  {
   "cell_type": "code",
   "execution_count": 96,
   "metadata": {},
   "outputs": [],
   "source": [
    "# Determine the optiomal number of topics by calculating the coherence score\n",
    "\n",
    "# Define function for calculating coherence score\n",
    "\n",
    "def compute_coherence_values(dictionary, corpus, texts, limit, start = 2, step = 3):\n",
    "    \"\"\"\n",
    "    Compute c_v coherence for various number of topics\n",
    "\n",
    "    Parameters:\n",
    "    ----------\n",
    "    dictionary : Gensim dictionary\n",
    "    corpus : Gensim corpus\n",
    "    texts : List of input texts\n",
    "    limit : Max num of topics\n",
    "\n",
    "    Returns:\n",
    "    -------\n",
    "    model_list : List of LDA topic models\n",
    "    coherence_values : Coherence values corresponding to the LDA model with respective number of topics\n",
    "    \"\"\"\n",
    "    coherence_values = []\n",
    "    model_list = []\n",
    "    for num_topics in range(start, limit, step):\n",
    "        model = LDA(corpus = corpus, num_topics = num_topics, id2word = dictionary, random_state = 100,\n",
    "                chunksize = 100, passes = 10, alpha = 0.2)\n",
    "        model_list.append(model)\n",
    "        coherencemodel = CoherenceModel(model = model, texts = texts, dictionary = dictionary, coherence = 'c_v')\n",
    "        coherence_values.append(coherencemodel.get_coherence())\n",
    "\n",
    "    return model_list, coherence_values"
   ]
  },
  {
   "cell_type": "code",
   "execution_count": 97,
   "metadata": {},
   "outputs": [],
   "source": [
    "# Can take a long time to run.\n",
    "\n",
    "model_list, coherence_values = compute_coherence_values(dictionary = dictionary, corpus = corpus, texts = df['preprocessed'], start = 2, limit = 10, step = 1)"
   ]
  },
  {
   "cell_type": "code",
   "execution_count": 98,
   "metadata": {},
   "outputs": [
    {
     "data": {
      "image/png": "[encoded data removed]",
      "text/plain": [
       "<Figure size 432x288 with 1 Axes>"
      ]
     },
     "metadata": {
      "needs_background": "light"
     },
     "output_type": "display_data"
    }
   ],
   "source": [
    "# Show graph\n",
    "\n",
    "limit = 10; start = 2; step = 1;\n",
    "x = range(start, limit, step)\n",
    "plt.plot(x, coherence_values)\n",
    "plt.xlabel(\"Num Topics\")\n",
    "plt.ylabel(\"Coherence score\")\n",
    "plt.legend((\"coherence_values\"), loc = 'best')\n",
    "plt.show()\n"
   ]
  },
  {
   "cell_type": "code",
   "execution_count": 99,
   "metadata": {},
   "outputs": [
    {
     "name": "stdout",
     "output_type": "stream",
     "text": [
      "Num Topics = 2  has Coherence Value of 0.4793\n",
      "Num Topics = 3  has Coherence Value of 0.5079\n",
      "Num Topics = 4  has Coherence Value of 0.5053\n",
      "Num Topics = 5  has Coherence Value of 0.4879\n",
      "Num Topics = 6  has Coherence Value of 0.5027\n",
      "Num Topics = 7  has Coherence Value of 0.482\n",
      "Num Topics = 8  has Coherence Value of 0.524\n",
      "Num Topics = 9  has Coherence Value of 0.4873\n"
     ]
    }
   ],
   "source": [
    "# Print the coherence scores\n",
    "\n",
    "for m, cv in zip(x, coherence_values):\n",
    "    print(\"Num Topics =\", m, \" has Coherence Value of\", round(cv, 4))"
   ]
  },
  {
   "cell_type": "markdown",
   "metadata": {},
   "source": [
    "## LDA Mallet Model\n",
    "\n",
    "Code reference:\n",
    "\n",
    "https://www.machinelearningplus.com/nlp/topic-modeling-gensim-python/#17howtofindtheoptimalnumberoftopicsforlda"
   ]
  },
  {
   "cell_type": "code",
   "execution_count": 90,
   "metadata": {},
   "outputs": [],
   "source": [
    "mallet_path = '/Users/siriamanda/Desktop/LNU-VT-2021/Thesis/11-data-analysis/mallet-2.0.8/bin/mallet' # update this path\n",
    "ldamallet = gensim.models.wrappers.LdaMallet(mallet_path, corpus = corpus, num_topics = 5, id2word = dictionary)"
   ]
  },
  {
   "cell_type": "code",
   "execution_count": 91,
   "metadata": {},
   "outputs": [
    {
     "name": "stdout",
     "output_type": "stream",
     "text": [
      "[(0,\n",
      "  [('basic', 0.09639904721871935),\n",
      "   ('understand', 0.04049320442763066),\n",
      "   ('helpful', 0.03755079164915231),\n",
      "   ('give', 0.03713044696651254),\n",
      "   ('start', 0.028022978842650974),\n",
      "   ('experience', 0.024800336275746113),\n",
      "   ('concept', 0.023118957545187054),\n",
      "   ('knowledge', 0.02213815328569427),\n",
      "   ('beginner', 0.021017234131988232),\n",
      "   ('people', 0.017234131988230348)]),\n",
      " (1,\n",
      "  [('data', 0.23333783966472896),\n",
      "   ('science', 0.16952818710287954),\n",
      "   ('introduction', 0.09436257942409085),\n",
      "   ('tool', 0.08151953494659997),\n",
      "   ('start', 0.056914965526564824),\n",
      "   ('scientist', 0.03555495471136948),\n",
      "   ('overview', 0.022441530350141948),\n",
      "   ('informative', 0.016628362849803974),\n",
      "   ('field', 0.014735703663647425),\n",
      "   ('toolbox', 0.012031904826280925)]),\n",
      " (2,\n",
      "  [('excellent', 0.053961456102783724),\n",
      "   ('easy', 0.052248394004282654),\n",
      "   ('specialization', 0.04082798001427552),\n",
      "   ('intro', 0.02955032119914347),\n",
      "   ('introductory', 0.02926481084939329),\n",
      "   ('set', 0.026409707351891507),\n",
      "   ('beginner', 0.024696645253390437),\n",
      "   ('follow', 0.024125624553890078),\n",
      "   ('step', 0.023126338329764455),\n",
      "   ('information', 0.02226980728051392)]),\n",
      " (3,\n",
      "  [('material', 0.028189140036373083),\n",
      "   ('video', 0.027409716809560926),\n",
      "   ('work', 0.025071447129124447),\n",
      "   ('make', 0.02494154325798909),\n",
      "   ('lecture', 0.02312288906209405),\n",
      "   ('thing', 0.02156404260846973),\n",
      "   ('clear', 0.021174330995063655),\n",
      "   ('content', 0.019485580670303974),\n",
      "   ('find', 0.018446349701221096),\n",
      "   ('week', 0.018186541958950378)]),\n",
      " (4,\n",
      "  [('learn', 0.09121305336364852),\n",
      "   ('github', 0.05563728768222549),\n",
      "   ('git', 0.04306540056172262),\n",
      "   ('lot', 0.034907048281396284),\n",
      "   ('rstudio', 0.02648120904105925),\n",
      "   ('time', 0.02460880032098435),\n",
      "   ('voice', 0.022602648120904106),\n",
      "   ('content', 0.02180018724087201),\n",
      "   ('complete', 0.02073023940082921),\n",
      "   ('coursera', 0.019125317640765013)])]\n",
      "\n",
      "Coherence Score:  0.4150559318638144\n"
     ]
    }
   ],
   "source": [
    "# Show Topics\n",
    "pprint(ldamallet.show_topics(formatted = False))\n",
    "\n",
    "# Compute Coherence Score\n",
    "coherence_model_ldamallet = CoherenceModel(model = ldamallet, texts = df['preprocessed'], dictionary = dictionary, coherence = 'c_v')\n",
    "coherence_ldamallet = coherence_model_ldamallet.get_coherence()\n",
    "print('\\nCoherence Score: ', coherence_ldamallet)\n",
    "\n",
    "# The coherence score using the Mallet Model is lower than the original LDA Model"
   ]
  },
  {
   "cell_type": "code",
   "execution_count": null,
   "metadata": {},
   "outputs": [],
   "source": []
  },
  {
   "cell_type": "code",
   "execution_count": null,
   "metadata": {},
   "outputs": [],
   "source": []
  }
 ],
 "metadata": {
  "kernelspec": {
   "display_name": "Python 3",
   "language": "python",
   "name": "python3"
  },
  "language_info": {
   "codemirror_mode": {
    "name": "ipython",
    "version": 3
   },
   "file_extension": ".py",
   "mimetype": "text/x-python",
   "name": "python",
   "nbconvert_exporter": "python",
   "pygments_lexer": "ipython3",
   "version": "3.7.6"
  }
 },
 "nbformat": 4,
 "nbformat_minor": 4
}
