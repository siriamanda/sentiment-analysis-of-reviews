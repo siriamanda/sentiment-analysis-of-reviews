{
 "cells": [
  {
   "cell_type": "code",
   "execution_count": 40,
   "metadata": {},
   "outputs": [],
   "source": [
    "# Import the libraries\n",
    "\n",
    "import pandas as pd \n",
    "import numpy as np\n",
    "\n",
    "from pprint import pprint\n",
    "\n",
    "# libraries for visualization\n",
    "import pyLDAvis\n",
    "import pyLDAvis.gensim\n",
    "import matplotlib.pyplot as plt\n",
    "import seaborn as sns\n",
    "%matplotlib inline\n",
    "\n",
    "import re\n",
    "\n",
    "import spacy\n",
    "\n",
    "import gensim\n",
    "from gensim import corpora, models\n",
    "from gensim.utils import simple_preprocess\n",
    "from gensim.models import CoherenceModel\n",
    "\n",
    "import nltk\n",
    "from nltk import FreqDist\n",
    "from nltk.corpus import stopwords\n",
    "from nltk.tokenize import RegexpTokenizer\n",
    "from nltk.stem import WordNetLemmatizer, SnowballStemmer\n",
    "from nltk.tag import pos_tag, pos_tag_sents\n",
    "from nltk.corpus import wordnet\n",
    "\n",
    "import warnings\n",
    "warnings.filterwarnings(\"ignore\")\n"
   ]
  },
  {
   "cell_type": "markdown",
   "metadata": {},
   "source": [
    "Code references:\n",
    "\n",
    "https://www.analyticsvidhya.com/blog/2018/10/mining-online-reviews-topic-modeling-lda/\n"
   ]
  },
  {
   "cell_type": "code",
   "execution_count": 41,
   "metadata": {},
   "outputs": [],
   "source": [
    "df = pd.read_csv('/Users/siriamanda/Desktop/LNU-VT-2021/Thesis/11-data-analysis/sentiment-analysis-of-reviews/01-sentiment-analysis/02-the-data-toolbox/VADER-the-data-toolbox.csv')"
   ]
  },
  {
   "cell_type": "code",
   "execution_count": 42,
   "metadata": {},
   "outputs": [
    {
     "data": {
      "text/html": [
       "<div>\n",
       "<style scoped>\n",
       "    .dataframe tbody tr th:only-of-type {\n",
       "        vertical-align: middle;\n",
       "    }\n",
       "\n",
       "    .dataframe tbody tr th {\n",
       "        vertical-align: top;\n",
       "    }\n",
       "\n",
       "    .dataframe thead th {\n",
       "        text-align: right;\n",
       "    }\n",
       "</style>\n",
       "<table border=\"1\" class=\"dataframe\">\n",
       "  <thead>\n",
       "    <tr style=\"text-align: right;\">\n",
       "      <th></th>\n",
       "      <th>Unnamed: 0</th>\n",
       "      <th>date</th>\n",
       "      <th>review</th>\n",
       "      <th>rating</th>\n",
       "      <th>status</th>\n",
       "      <th>length</th>\n",
       "      <th>label</th>\n",
       "      <th>language_scores</th>\n",
       "      <th>language</th>\n",
       "      <th>scores</th>\n",
       "      <th>compound</th>\n",
       "      <th>sentiment</th>\n",
       "    </tr>\n",
       "  </thead>\n",
       "  <tbody>\n",
       "    <tr>\n",
       "      <th>0</th>\n",
       "      <td>0</td>\n",
       "      <td>2021-03-09</td>\n",
       "      <td>Still difficult for me get to used to listen t...</td>\n",
       "      <td>4</td>\n",
       "      <td>completer</td>\n",
       "      <td>63</td>\n",
       "      <td>pos</td>\n",
       "      <td>{'language': 'en', 'score': 0.9999954275035461}</td>\n",
       "      <td>en</td>\n",
       "      <td>{'neg': 0.185, 'neu': 0.815, 'pos': 0.0, 'comp...</td>\n",
       "      <td>-0.3612</td>\n",
       "      <td>neg</td>\n",
       "    </tr>\n",
       "    <tr>\n",
       "      <th>1</th>\n",
       "      <td>1</td>\n",
       "      <td>2021-03-08</td>\n",
       "      <td>very good course, i think there could be a lit...</td>\n",
       "      <td>4</td>\n",
       "      <td>completer</td>\n",
       "      <td>74</td>\n",
       "      <td>pos</td>\n",
       "      <td>{'language': 'en', 'score': 0.9999976742625711}</td>\n",
       "      <td>en</td>\n",
       "      <td>{'neg': 0.0, 'neu': 0.758, 'pos': 0.242, 'comp...</td>\n",
       "      <td>0.4927</td>\n",
       "      <td>pos</td>\n",
       "    </tr>\n",
       "    <tr>\n",
       "      <th>2</th>\n",
       "      <td>2</td>\n",
       "      <td>2021-03-08</td>\n",
       "      <td>Instructions are clear, pace is good and thank...</td>\n",
       "      <td>5</td>\n",
       "      <td>completer</td>\n",
       "      <td>76</td>\n",
       "      <td>pos</td>\n",
       "      <td>{'language': 'en', 'score': 0.9999965864363265}</td>\n",
       "      <td>en</td>\n",
       "      <td>{'neg': 0.0, 'neu': 0.543, 'pos': 0.457, 'comp...</td>\n",
       "      <td>0.8126</td>\n",
       "      <td>pos</td>\n",
       "    </tr>\n",
       "    <tr>\n",
       "      <th>3</th>\n",
       "      <td>3</td>\n",
       "      <td>2021-03-07</td>\n",
       "      <td>This course was amazing, mostly teaches how to...</td>\n",
       "      <td>4</td>\n",
       "      <td>completer</td>\n",
       "      <td>284</td>\n",
       "      <td>pos</td>\n",
       "      <td>{'language': 'en', 'score': 0.9999966019854107}</td>\n",
       "      <td>en</td>\n",
       "      <td>{'neg': 0.035, 'neu': 0.741, 'pos': 0.224, 'co...</td>\n",
       "      <td>0.9133</td>\n",
       "      <td>pos</td>\n",
       "    </tr>\n",
       "    <tr>\n",
       "      <th>4</th>\n",
       "      <td>4</td>\n",
       "      <td>2021-03-07</td>\n",
       "      <td>Easy exploratory course</td>\n",
       "      <td>5</td>\n",
       "      <td>completer</td>\n",
       "      <td>23</td>\n",
       "      <td>pos</td>\n",
       "      <td>{'language': 'en', 'score': 0.9999949623133836}</td>\n",
       "      <td>en</td>\n",
       "      <td>{'neg': 0.0, 'neu': 0.408, 'pos': 0.592, 'comp...</td>\n",
       "      <td>0.4404</td>\n",
       "      <td>pos</td>\n",
       "    </tr>\n",
       "  </tbody>\n",
       "</table>\n",
       "</div>"
      ],
      "text/plain": [
       "   Unnamed: 0        date                                             review  \\\n",
       "0           0  2021-03-09  Still difficult for me get to used to listen t...   \n",
       "1           1  2021-03-08  very good course, i think there could be a lit...   \n",
       "2           2  2021-03-08  Instructions are clear, pace is good and thank...   \n",
       "3           3  2021-03-07  This course was amazing, mostly teaches how to...   \n",
       "4           4  2021-03-07                            Easy exploratory course   \n",
       "\n",
       "   rating     status  length label  \\\n",
       "0       4  completer      63   pos   \n",
       "1       4  completer      74   pos   \n",
       "2       5  completer      76   pos   \n",
       "3       4  completer     284   pos   \n",
       "4       5  completer      23   pos   \n",
       "\n",
       "                                   language_scores language  \\\n",
       "0  {'language': 'en', 'score': 0.9999954275035461}       en   \n",
       "1  {'language': 'en', 'score': 0.9999976742625711}       en   \n",
       "2  {'language': 'en', 'score': 0.9999965864363265}       en   \n",
       "3  {'language': 'en', 'score': 0.9999966019854107}       en   \n",
       "4  {'language': 'en', 'score': 0.9999949623133836}       en   \n",
       "\n",
       "                                              scores  compound sentiment  \n",
       "0  {'neg': 0.185, 'neu': 0.815, 'pos': 0.0, 'comp...   -0.3612       neg  \n",
       "1  {'neg': 0.0, 'neu': 0.758, 'pos': 0.242, 'comp...    0.4927       pos  \n",
       "2  {'neg': 0.0, 'neu': 0.543, 'pos': 0.457, 'comp...    0.8126       pos  \n",
       "3  {'neg': 0.035, 'neu': 0.741, 'pos': 0.224, 'co...    0.9133       pos  \n",
       "4  {'neg': 0.0, 'neu': 0.408, 'pos': 0.592, 'comp...    0.4404       pos  "
      ]
     },
     "execution_count": 42,
     "metadata": {},
     "output_type": "execute_result"
    }
   ],
   "source": [
    "df.head()"
   ]
  },
  {
   "cell_type": "code",
   "execution_count": 43,
   "metadata": {},
   "outputs": [],
   "source": [
    "df.drop(['Unnamed: 0', 'language_scores', 'language', 'scores'], axis = 1, inplace = True)"
   ]
  },
  {
   "cell_type": "code",
   "execution_count": 44,
   "metadata": {},
   "outputs": [
    {
     "data": {
      "text/html": [
       "<div>\n",
       "<style scoped>\n",
       "    .dataframe tbody tr th:only-of-type {\n",
       "        vertical-align: middle;\n",
       "    }\n",
       "\n",
       "    .dataframe tbody tr th {\n",
       "        vertical-align: top;\n",
       "    }\n",
       "\n",
       "    .dataframe thead th {\n",
       "        text-align: right;\n",
       "    }\n",
       "</style>\n",
       "<table border=\"1\" class=\"dataframe\">\n",
       "  <thead>\n",
       "    <tr style=\"text-align: right;\">\n",
       "      <th></th>\n",
       "      <th>date</th>\n",
       "      <th>review</th>\n",
       "      <th>rating</th>\n",
       "      <th>status</th>\n",
       "      <th>length</th>\n",
       "      <th>label</th>\n",
       "      <th>compound</th>\n",
       "      <th>sentiment</th>\n",
       "    </tr>\n",
       "  </thead>\n",
       "  <tbody>\n",
       "    <tr>\n",
       "      <th>0</th>\n",
       "      <td>2021-03-09</td>\n",
       "      <td>Still difficult for me get to used to listen t...</td>\n",
       "      <td>4</td>\n",
       "      <td>completer</td>\n",
       "      <td>63</td>\n",
       "      <td>pos</td>\n",
       "      <td>-0.3612</td>\n",
       "      <td>neg</td>\n",
       "    </tr>\n",
       "    <tr>\n",
       "      <th>1</th>\n",
       "      <td>2021-03-08</td>\n",
       "      <td>very good course, i think there could be a lit...</td>\n",
       "      <td>4</td>\n",
       "      <td>completer</td>\n",
       "      <td>74</td>\n",
       "      <td>pos</td>\n",
       "      <td>0.4927</td>\n",
       "      <td>pos</td>\n",
       "    </tr>\n",
       "    <tr>\n",
       "      <th>2</th>\n",
       "      <td>2021-03-08</td>\n",
       "      <td>Instructions are clear, pace is good and thank...</td>\n",
       "      <td>5</td>\n",
       "      <td>completer</td>\n",
       "      <td>76</td>\n",
       "      <td>pos</td>\n",
       "      <td>0.8126</td>\n",
       "      <td>pos</td>\n",
       "    </tr>\n",
       "    <tr>\n",
       "      <th>3</th>\n",
       "      <td>2021-03-07</td>\n",
       "      <td>This course was amazing, mostly teaches how to...</td>\n",
       "      <td>4</td>\n",
       "      <td>completer</td>\n",
       "      <td>284</td>\n",
       "      <td>pos</td>\n",
       "      <td>0.9133</td>\n",
       "      <td>pos</td>\n",
       "    </tr>\n",
       "    <tr>\n",
       "      <th>4</th>\n",
       "      <td>2021-03-07</td>\n",
       "      <td>Easy exploratory course</td>\n",
       "      <td>5</td>\n",
       "      <td>completer</td>\n",
       "      <td>23</td>\n",
       "      <td>pos</td>\n",
       "      <td>0.4404</td>\n",
       "      <td>pos</td>\n",
       "    </tr>\n",
       "    <tr>\n",
       "      <th>...</th>\n",
       "      <td>...</td>\n",
       "      <td>...</td>\n",
       "      <td>...</td>\n",
       "      <td>...</td>\n",
       "      <td>...</td>\n",
       "      <td>...</td>\n",
       "      <td>...</td>\n",
       "      <td>...</td>\n",
       "    </tr>\n",
       "    <tr>\n",
       "      <th>6032</th>\n",
       "      <td>2016-01-24</td>\n",
       "      <td>This was a great starter for me. I have very l...</td>\n",
       "      <td>5</td>\n",
       "      <td>dropout</td>\n",
       "      <td>160</td>\n",
       "      <td>pos</td>\n",
       "      <td>0.6249</td>\n",
       "      <td>pos</td>\n",
       "    </tr>\n",
       "    <tr>\n",
       "      <th>6033</th>\n",
       "      <td>2016-01-24</td>\n",
       "      <td>Useful couple of modules for helping you get s...</td>\n",
       "      <td>4</td>\n",
       "      <td>dropout</td>\n",
       "      <td>145</td>\n",
       "      <td>pos</td>\n",
       "      <td>0.6249</td>\n",
       "      <td>pos</td>\n",
       "    </tr>\n",
       "    <tr>\n",
       "      <th>6034</th>\n",
       "      <td>2016-01-24</td>\n",
       "      <td>Very common curse about common data things.</td>\n",
       "      <td>3</td>\n",
       "      <td>dropout</td>\n",
       "      <td>43</td>\n",
       "      <td>neu</td>\n",
       "      <td>-0.5829</td>\n",
       "      <td>neg</td>\n",
       "    </tr>\n",
       "    <tr>\n",
       "      <th>6035</th>\n",
       "      <td>2016-01-24</td>\n",
       "      <td>It is really basic course, I expected much mor...</td>\n",
       "      <td>1</td>\n",
       "      <td>dropout</td>\n",
       "      <td>130</td>\n",
       "      <td>neg</td>\n",
       "      <td>0.0000</td>\n",
       "      <td>neu</td>\n",
       "    </tr>\n",
       "    <tr>\n",
       "      <th>6036</th>\n",
       "      <td>2016-01-24</td>\n",
       "      <td>Excellent course to understand the basic of da...</td>\n",
       "      <td>5</td>\n",
       "      <td>dropout</td>\n",
       "      <td>57</td>\n",
       "      <td>pos</td>\n",
       "      <td>0.5719</td>\n",
       "      <td>pos</td>\n",
       "    </tr>\n",
       "  </tbody>\n",
       "</table>\n",
       "<p>6037 rows × 8 columns</p>\n",
       "</div>"
      ],
      "text/plain": [
       "            date                                             review  rating  \\\n",
       "0     2021-03-09  Still difficult for me get to used to listen t...       4   \n",
       "1     2021-03-08  very good course, i think there could be a lit...       4   \n",
       "2     2021-03-08  Instructions are clear, pace is good and thank...       5   \n",
       "3     2021-03-07  This course was amazing, mostly teaches how to...       4   \n",
       "4     2021-03-07                            Easy exploratory course       5   \n",
       "...          ...                                                ...     ...   \n",
       "6032  2016-01-24  This was a great starter for me. I have very l...       5   \n",
       "6033  2016-01-24  Useful couple of modules for helping you get s...       4   \n",
       "6034  2016-01-24        Very common curse about common data things.       3   \n",
       "6035  2016-01-24  It is really basic course, I expected much mor...       1   \n",
       "6036  2016-01-24  Excellent course to understand the basic of da...       5   \n",
       "\n",
       "         status  length label  compound sentiment  \n",
       "0     completer      63   pos   -0.3612       neg  \n",
       "1     completer      74   pos    0.4927       pos  \n",
       "2     completer      76   pos    0.8126       pos  \n",
       "3     completer     284   pos    0.9133       pos  \n",
       "4     completer      23   pos    0.4404       pos  \n",
       "...         ...     ...   ...       ...       ...  \n",
       "6032    dropout     160   pos    0.6249       pos  \n",
       "6033    dropout     145   pos    0.6249       pos  \n",
       "6034    dropout      43   neu   -0.5829       neg  \n",
       "6035    dropout     130   neg    0.0000       neu  \n",
       "6036    dropout      57   pos    0.5719       pos  \n",
       "\n",
       "[6037 rows x 8 columns]"
      ]
     },
     "execution_count": 44,
     "metadata": {},
     "output_type": "execute_result"
    }
   ],
   "source": [
    "df"
   ]
  },
  {
   "cell_type": "code",
   "execution_count": 45,
   "metadata": {},
   "outputs": [
    {
     "data": {
      "text/plain": [
       "0"
      ]
     },
     "execution_count": 45,
     "metadata": {},
     "output_type": "execute_result"
    }
   ],
   "source": [
    "# Check for null values\n",
    "\n",
    "len(df[df['review'].isna()==True])"
   ]
  },
  {
   "cell_type": "code",
   "execution_count": 46,
   "metadata": {},
   "outputs": [],
   "source": [
    "# Drop null values\n",
    "\n",
    "# df.dropna(inplace = True)"
   ]
  },
  {
   "cell_type": "code",
   "execution_count": 47,
   "metadata": {},
   "outputs": [],
   "source": [
    "# Check for null values\n",
    "\n",
    "# len(df[df['review'].isna()==True])"
   ]
  },
  {
   "cell_type": "code",
   "execution_count": 48,
   "metadata": {},
   "outputs": [],
   "source": [
    "# Reset the index\n",
    "\n",
    "# df = df.reset_index(drop = True)"
   ]
  },
  {
   "cell_type": "code",
   "execution_count": 49,
   "metadata": {},
   "outputs": [],
   "source": [
    "# df"
   ]
  },
  {
   "cell_type": "code",
   "execution_count": 50,
   "metadata": {},
   "outputs": [],
   "source": [
    "# Define a function to plot the most frequent words\n",
    "\n",
    "def freq_words(x, terms = 30):\n",
    "    all_words = ' '.join([text for text in x])\n",
    "    all_words = all_words.split()\n",
    "\n",
    "    fdist = FreqDist(all_words)\n",
    "    words_df = pd.DataFrame({'word':list(fdist.keys()), 'count':list(fdist.values())})\n",
    "    \n",
    "    # selecting top 20 most frequent words\n",
    "    d = words_df.nlargest(columns=\"count\", n = terms) \n",
    "    plt.figure(figsize=(20,5))\n",
    "    ax = sns.barplot(data=d, x= \"word\", y = \"count\")\n",
    "    ax.set(ylabel = 'Count')\n",
    "    plt.xticks(rotation = 45)\n",
    "    plt.show()"
   ]
  },
  {
   "cell_type": "code",
   "execution_count": 51,
   "metadata": {},
   "outputs": [
    {
     "data": {
      "image/png": "[encoded data removed]",
      "text/plain": [
       "<Figure size 1440x360 with 1 Axes>"
      ]
     },
     "metadata": {
      "needs_background": "light"
     },
     "output_type": "display_data"
    }
   ],
   "source": [
    "# The most frquent words are stop words such as 'to' and 'the' we will remove these in the preprocessing steps\n",
    "\n",
    "freq_words(df['review'])"
   ]
  },
  {
   "cell_type": "markdown",
   "metadata": {},
   "source": [
    "## Preprocessing"
   ]
  },
  {
   "cell_type": "code",
   "execution_count": 52,
   "metadata": {},
   "outputs": [
    {
     "data": {
      "text/plain": [
       "0    still difficult for me get to used to listen t...\n",
       "1    very good course, i think there could be a lit...\n",
       "2    instructions are clear, pace is good and thank...\n",
       "3    this course was amazing, mostly teaches how to...\n",
       "4                              easy exploratory course\n",
       "Name: preprocessed, dtype: object"
      ]
     },
     "execution_count": 52,
     "metadata": {},
     "output_type": "execute_result"
    }
   ],
   "source": [
    "# Covert to lowercase\n",
    "\n",
    "df['preprocessed'] =  df['review'].apply(lambda x: \" \".join(x.lower() for x in x.split()))\n",
    "df['preprocessed'].head()"
   ]
  },
  {
   "cell_type": "code",
   "execution_count": 53,
   "metadata": {},
   "outputs": [
    {
     "data": {
      "text/plain": [
       "0    still difficult for me get to used to listen t...\n",
       "1    very good course i think there could be a litt...\n",
       "2    instructions are clear pace is good and thanks...\n",
       "3    this course was amazing mostly teaches how to ...\n",
       "4                              easy exploratory course\n",
       "Name: preprocessed, dtype: object"
      ]
     },
     "execution_count": 53,
     "metadata": {},
     "output_type": "execute_result"
    }
   ],
   "source": [
    "# Remove punctuations\n",
    "\n",
    "df['preprocessed'] = df['preprocessed'].str.replace('[^\\w\\s]','')\n",
    "df['preprocessed'].head()"
   ]
  },
  {
   "cell_type": "code",
   "execution_count": 54,
   "metadata": {},
   "outputs": [
    {
     "data": {
      "text/plain": [
       "0        still difficult get used listen computer talk\n",
       "1              course think could little r programming\n",
       "2      instructions clear pace thanks knowledge learnt\n",
       "3    course amazing mostly teaches manage work data...\n",
       "4                              easy exploratory course\n",
       "Name: preprocessed, dtype: object"
      ]
     },
     "execution_count": 54,
     "metadata": {},
     "output_type": "execute_result"
    }
   ],
   "source": [
    "# Remove stopwords\n",
    "\n",
    "stop = stopwords.words('english')\n",
    "stop.extend(['good', 'great', 'really', 'like', 'nice'])\n",
    "\n",
    "df['preprocessed'] = df['preprocessed'].apply(lambda x: \" \".join(x for x in x.split() if x not in stop))\n",
    "df['preprocessed'].head()"
   ]
  },
  {
   "cell_type": "code",
   "execution_count": 55,
   "metadata": {},
   "outputs": [],
   "source": [
    "# Remove short words (length < 3)\n",
    "\n",
    "# df['review'] = df['review'].apply(lambda x: ' '.join([w for w in x.split() if len(w)>2]))\n",
    "# df['review'].head()"
   ]
  },
  {
   "cell_type": "code",
   "execution_count": 56,
   "metadata": {},
   "outputs": [
    {
     "data": {
      "image/png": "[encoded data removed]",
      "text/plain": [
       "<Figure size 1440x360 with 1 Axes>"
      ]
     },
     "metadata": {
      "needs_background": "light"
     },
     "output_type": "display_data"
    }
   ],
   "source": [
    "# Look at the most frequent words again \n",
    "\n",
    "freq_words(df['preprocessed'])"
   ]
  },
  {
   "cell_type": "code",
   "execution_count": 57,
   "metadata": {},
   "outputs": [
    {
     "data": {
      "text/plain": [
       "0    [still, difficult, get, used, listen, computer...\n",
       "1       [course, think, could, little, r, programming]\n",
       "2    [instructions, clear, pace, thanks, knowledge,...\n",
       "3    [course, amazing, mostly, teaches, manage, wor...\n",
       "4                          [easy, exploratory, course]\n",
       "Name: preprocessed, dtype: object"
      ]
     },
     "execution_count": 57,
     "metadata": {},
     "output_type": "execute_result"
    }
   ],
   "source": [
    "# Tokenization\n",
    "\n",
    "tokenizer = RegexpTokenizer(r'\\w+')\n",
    "\n",
    "df['preprocessed'] = df['preprocessed'].apply(lambda x: tokenizer.tokenize(x.lower()))\n",
    "df['preprocessed'].head(5)\n"
   ]
  },
  {
   "cell_type": "code",
   "execution_count": 58,
   "metadata": {},
   "outputs": [
    {
     "data": {
      "text/plain": [
       "0    [(still, RB), (difficult, JJ), (get, VBP), (us...\n",
       "1    [(course, NN), (think, NN), (could, MD), (litt...\n",
       "2    [(instructions, NNS), (clear, JJ), (pace, NN),...\n",
       "3    [(course, NN), (amazing, VBG), (mostly, RB), (...\n",
       "4        [(easy, JJ), (exploratory, JJ), (course, NN)]\n",
       "Name: preprocessed, dtype: object"
      ]
     },
     "execution_count": 58,
     "metadata": {},
     "output_type": "execute_result"
    }
   ],
   "source": [
    "# Add speech tags\n",
    "\n",
    "df['preprocessed'] = df['preprocessed'].apply(nltk.tag.pos_tag)\n",
    "df['preprocessed'].head()"
   ]
  },
  {
   "cell_type": "code",
   "execution_count": 59,
   "metadata": {},
   "outputs": [],
   "source": [
    "# Define function to convert parts of speech tags to wordnet’s format\n",
    "\n",
    "def get_wordnet_pos(tag):\n",
    "    if tag.startswith('J'):\n",
    "        return wordnet.ADJ\n",
    "    elif tag.startswith('V'):\n",
    "        return wordnet.VERB\n",
    "    elif tag.startswith('N'):\n",
    "        return wordnet.NOUN\n",
    "    elif tag.startswith('R'):\n",
    "        return wordnet.ADV\n",
    "    else:\n",
    "        return wordnet.NOUN"
   ]
  },
  {
   "cell_type": "code",
   "execution_count": 60,
   "metadata": {},
   "outputs": [
    {
     "data": {
      "text/plain": [
       "0    [(still, r), (difficult, a), (get, v), (used, ...\n",
       "1    [(course, n), (think, n), (could, n), (little,...\n",
       "2    [(instructions, n), (clear, a), (pace, n), (th...\n",
       "3    [(course, n), (amazing, v), (mostly, r), (teac...\n",
       "4           [(easy, a), (exploratory, a), (course, n)]\n",
       "Name: preprocessed, dtype: object"
      ]
     },
     "execution_count": 60,
     "metadata": {},
     "output_type": "execute_result"
    }
   ],
   "source": [
    "# Apply the function to the tagged data\n",
    "\n",
    "df['preprocessed'] = df['preprocessed'].apply(lambda x: [(word, get_wordnet_pos(pos_tag)) for (word, pos_tag) in x])\n",
    "df['preprocessed'].head()"
   ]
  },
  {
   "cell_type": "code",
   "execution_count": 61,
   "metadata": {},
   "outputs": [
    {
     "data": {
      "text/plain": [
       "0    [still, difficult, get, use, listen, computer,...\n",
       "1       [course, think, could, little, r, programming]\n",
       "2    [instruction, clear, pace, thanks, knowledge, ...\n",
       "3    [course, amaze, mostly, teach, manage, work, d...\n",
       "4                          [easy, exploratory, course]\n",
       "Name: preprocessed, dtype: object"
      ]
     },
     "execution_count": 61,
     "metadata": {},
     "output_type": "execute_result"
    }
   ],
   "source": [
    "# Create lemmatizer\n",
    "\n",
    "lemmatizer = WordNetLemmatizer()\n",
    "\n",
    "# Apply to data \n",
    "\n",
    "df['preprocessed'] = df['preprocessed'].apply(lambda x: [lemmatizer.lemmatize(word, tag) for word, tag in x])\n",
    "df['preprocessed'].head()"
   ]
  },
  {
   "cell_type": "code",
   "execution_count": 62,
   "metadata": {},
   "outputs": [],
   "source": [
    "# Join reviews\n",
    "\n",
    "df['joined'] = df['preprocessed'].apply(lambda x: ' '.join(x))"
   ]
  },
  {
   "cell_type": "code",
   "execution_count": 63,
   "metadata": {},
   "outputs": [
    {
     "data": {
      "image/png": "[encoded data removed]",
      "text/plain": [
       "<Figure size 1440x360 with 1 Axes>"
      ]
     },
     "metadata": {
      "needs_background": "light"
     },
     "output_type": "display_data"
    }
   ],
   "source": [
    "# Most frequent words after lemmatizing \n",
    "\n",
    "freq_words(df['joined'], 35)"
   ]
  },
  {
   "cell_type": "markdown",
   "metadata": {},
   "source": [
    "## LDA Topic Modeling"
   ]
  },
  {
   "cell_type": "code",
   "execution_count": 64,
   "metadata": {},
   "outputs": [],
   "source": [
    "# Create a dictionary from 'df_sen['review']' containing the number of times a word appears in the training set\n",
    "\n",
    "dictionary = gensim.corpora.Dictionary(df['preprocessed'])"
   ]
  },
  {
   "cell_type": "code",
   "execution_count": 65,
   "metadata": {},
   "outputs": [],
   "source": [
    "# Gensim filter extremes\n",
    "\n",
    "# Filter out tokens that appear in:\n",
    "# Less than 50 documents, more than 0.5 documents, and keep only 100000 most frquent tokens\n",
    "\n",
    "# dictionary.filter_extremes(no_below = 50, no_above = 0.5, keep_n = 100000)"
   ]
  },
  {
   "cell_type": "code",
   "execution_count": 66,
   "metadata": {},
   "outputs": [],
   "source": [
    "# Gensim doc2bow\n",
    "# Create a dictionary reporting how many words and how many times those words appear\n",
    "\n",
    "corpus = [dictionary.doc2bow(doc) for doc in df['preprocessed']]\n"
   ]
  },
  {
   "cell_type": "code",
   "execution_count": 67,
   "metadata": {},
   "outputs": [],
   "source": [
    "# Add TF-IDF\n",
    "\n",
    "tfidf = models.TfidfModel(corpus)      # Create a TF-IDF model\n",
    "corpus_tfidf = tfidf[corpus]  "
   ]
  },
  {
   "cell_type": "code",
   "execution_count": 78,
   "metadata": {},
   "outputs": [],
   "source": [
    "# Creating the object for LDA model using gensim library\n",
    "LDA = gensim.models.LdaMulticore\n",
    "\n",
    "# Build LDA model\n",
    "lda_model = LDA(corpus = corpus, id2word = dictionary, num_topics = 4, random_state = 100,\n",
    "                chunksize = 100, passes = 10)"
   ]
  },
  {
   "cell_type": "code",
   "execution_count": 79,
   "metadata": {},
   "outputs": [
    {
     "name": "stdout",
     "output_type": "stream",
     "text": [
      "Topic: 0\n",
      "Word: 0.059*\"course\" + 0.016*\"content\" + 0.014*\"could\" + 0.010*\"git\" + 0.010*\"week\" + 0.010*\"little\" + 0.010*\"would\" + 0.009*\"learn\" + 0.009*\"intro\" + 0.009*\"take\"\n",
      "\n",
      "Topic: 1\n",
      "Word: 0.062*\"course\" + 0.031*\"easy\" + 0.023*\"excellent\" + 0.013*\"lot\" + 0.012*\"learn\" + 0.012*\"follow\" + 0.012*\"understand\" + 0.010*\"awesome\" + 0.009*\"use\" + 0.009*\"would\"\n",
      "\n",
      "Topic: 2\n",
      "Word: 0.089*\"course\" + 0.084*\"data\" + 0.060*\"science\" + 0.038*\"introduction\" + 0.032*\"tool\" + 0.031*\"start\" + 0.031*\"basic\" + 0.022*\"r\" + 0.015*\"get\" + 0.013*\"scientist\"\n",
      "\n",
      "Topic: 3\n",
      "Word: 0.033*\"course\" + 0.026*\"well\" + 0.015*\"experience\" + 0.012*\"learn\" + 0.011*\"make\" + 0.011*\"video\" + 0.011*\"material\" + 0.009*\"get\" + 0.008*\"one\" + 0.008*\"work\"\n",
      "\n"
     ]
    }
   ],
   "source": [
    "# Explore the words occurring in each topic and its relative weight\n",
    "\n",
    "for id, topic in lda_model.print_topics(-1):\n",
    "    print('Topic: {}\\nWord: {}\\n'.format(id, topic))"
   ]
  },
  {
   "cell_type": "markdown",
   "metadata": {},
   "source": [
    "### Visualise with pyLDAvis\n",
    "\n",
    "Original paper: https://nlp.stanford.edu/events/illvi2014/papers/sievert-illvi2014.pdf"
   ]
  },
  {
   "cell_type": "code",
   "execution_count": 80,
   "metadata": {
    "scrolled": false
   },
   "outputs": [
    {
     "data": {
      "text/html": [
       "\n",
       "<link rel=\"stylesheet\" type=\"text/css\" href=\"https://cdn.jsdelivr.net/gh/bmabey/pyLDAvis@3.2.2/pyLDAvis/js/ldavis.v1.0.0.css\">\n",
       "\n",
       "\n",
       "<div id=\"ldavis_el366361402244367044642706367372\"></div>\n",
       "<script type=\"text/javascript\">\n",
       "\n",
       "var ldavis_el366361402244367044642706367372_data = {\"mdsDat\": {\"x\": [-0.23958682892079863, 0.05642607056866471, 0.11358901087650711, 0.06957174747562679], \"y\": [-0.011512161693851506, -0.054964426331645805, -0.0972715652823453, 0.16374815330784262], \"topics\": [1, 2, 3, 4], \"cluster\": [1, 1, 1, 1], \"Freq\": [35.7778646210176, 24.378595305785012, 21.576722063130124, 18.26681801006727]}, \"tinfo\": {\"Term\": [\"data\", \"science\", \"introduction\", \"start\", \"tool\", \"easy\", \"excellent\", \"well\", \"basic\", \"experience\", \"content\", \"scientist\", \"could\", \"follow\", \"week\", \"awesome\", \"beginner\", \"video\", \"lot\", \"forward\", \"look\", \"little\", \"make\", \"understand\", \"r\", \"thanks\", \"coursera\", \"intro\", \"material\", \"course\", \"science\", \"data\", \"start\", \"foundation\", \"introduction\", \"field\", \"fundamental\", \"essential\", \"starter\", \"journey\", \"world\", \"strongly\", \"straight\", \"tool\", \"view\", \"scientist\", \"lay\", \"introduces\", \"gitgithub\", \"foundational\", \"strong\", \"skip\", \"dive\", \"decent\", \"kick\", \"manage\", \"statistical\", \"usage\", \"purpose\", \"trade\", \"analysis\", \"general\", \"basic\", \"begin\", \"career\", \"wonderful\", \"beginner\", \"toolbox\", \"programming\", \"overview\", \"helpful\", \"r\", \"introduce\", \"set\", \"specialisation\", \"highly\", \"introductory\", \"course\", \"give\", \"get\", \"specialization\", \"github\", \"useful\", \"use\", \"rstudio\", \"help\", \"recommend\", \"concept\", \"learn\", \"need\", \"knowledge\", \"excellent\", \"program\", \"git\", \"intro\", \"doesnt\", \"brief\", \"depth\", \"fine\", \"otherwise\", \"money\", \"3\", \"love\", \"forward\", \"bash\", \"opinion\", \"useless\", \"user\", \"charge\", \"isnt\", \"almost\", \"session\", \"training\", \"value\", \"basically\", \"interactive\", \"price\", \"optional\", \"somewhat\", \"pack\", \"1\", \"schedule\", \"attention\", \"compress\", \"scratch\", \"week\", \"least\", \"could\", \"overall\", \"look\", \"4\", \"little\", \"setup\", \"question\", \"content\", \"part\", \"information\", \"concise\", \"take\", \"2\", \"next\", \"intro\", \"pay\", \"think\", \"course\", \"would\", \"git\", \"instruction\", \"go\", \"specialization\", \"class\", \"bit\", \"complete\", \"clear\", \"learn\", \"need\", \"one\", \"get\", \"much\", \"github\", \"basic\", \"use\", \"slide\", \"info\", \"effective\", \"walk\", \"share\", \"low\", \"watch\", \"fast\", \"structured\", \"pdf\", \"support\", \"experience\", \"youll\", \"audio\", \"development\", \"preview\", \"expectation\", \"since\", \"stats\", \"technical\", \"prepared\", \"lecturer\", \"stepbystep\", \"another\", \"paced\", \"exist\", \"certainly\", \"state\", \"basis\", \"nevertheless\", \"well\", \"short\", \"robotic\", \"do\", \"robot\", \"simply\", \"sure\", \"lesson\", \"read\", \"make\", \"structure\", \"video\", \"material\", \"might\", \"voice\", \"best\", \"interest\", \"one\", \"work\", \"design\", \"lecture\", \"able\", \"challenge\", \"course\", \"learn\", \"feel\", \"quiz\", \"time\", \"get\", \"thing\", \"content\", \"understand\", \"bit\", \"way\", \"also\", \"explain\", \"r\", \"need\", \"program\", \"awesome\", \"line\", \"download\", \"quickly\", \"search\", \"insight\", \"waste\", \"excelente\", \"within\", \"understandable\", \"lead\", \"usefull\", \"specific\", \"current\", \"speaker\", \"superficial\", \"sufficient\", \"broad\", \"picture\", \"prof\", \"excite\", \"education\", \"non\", \"prior\", \"5\", \"understood\", \"descriptive\", \"developer\", \"prep\", \"sign\", \"various\", \"easy\", \"real\", \"follow\", \"professor\", \"wait\", \"wish\", \"free\", \"excellent\", \"im\", \"hour\", \"command\", \"thanks\", \"different\", \"lot\", \"like\", \"coursera\", \"show\", \"thank\", \"understand\", \"example\", \"around\", \"course\", \"practical\", \"much\", \"time\", \"would\", \"learn\", \"come\", \"use\", \"complete\", \"video\", \"know\", \"take\", \"github\", \"git\", \"help\", \"informative\", \"thing\", \"r\"], \"Freq\": [1529.0, 1096.0, 696.0, 564.0, 598.0, 337.0, 343.0, 370.0, 656.0, 166.0, 282.0, 241.0, 206.0, 140.0, 137.0, 90.0, 266.0, 185.0, 221.0, 104.0, 128.0, 160.0, 176.0, 267.0, 531.0, 108.0, 130.0, 208.0, 212.0, 3287.0, 1094.9073764001546, 1522.0747587282954, 558.6403862321329, 70.40256740695932, 687.0077798692201, 101.70282694275848, 39.83120001611413, 39.645069761903414, 36.27864953417304, 41.34015326630555, 75.2191387296163, 17.434209961275805, 16.62148122616381, 571.7793276207171, 15.648742010059932, 229.81972870919935, 13.616084567141872, 13.603750698111433, 13.854057112888553, 12.772937908296289, 12.813751897972148, 15.6390740691497, 11.761393105282213, 12.641734203174046, 12.269742395017694, 11.446050689090434, 11.106972029090059, 12.998794706404187, 11.196158388839498, 11.557779420490291, 71.93059310733877, 53.724567450920624, 557.7356650635228, 65.31414306944538, 46.57169052618069, 34.87772222035602, 226.35291784752897, 74.66941381396462, 45.583404628857245, 147.0013587117575, 184.79070646725518, 401.02198248010166, 53.5522157248126, 149.30141612121787, 40.191169858292845, 46.513465813054175, 160.82904947941924, 1619.2741355090639, 158.6302341149349, 277.11308281634007, 183.32536906558215, 210.92410226266765, 170.97360354376409, 215.25736294538848, 104.85698449834095, 132.84120457924897, 91.60768000793941, 92.86350285625404, 224.0080475562124, 133.9066401181728, 90.26220610647572, 128.58813670034635, 102.17910290438218, 114.5333130717492, 94.16535247938708, 47.14798770471767, 34.396865414028895, 26.459167007506842, 26.43828767655664, 24.40378786246189, 24.006573669055534, 24.065858619418613, 74.02039314593853, 101.29324519968327, 18.25332141347969, 18.1310897318785, 20.145301843933055, 17.97954944335203, 16.98664104517239, 16.259714357807837, 17.519565145785066, 19.762235048636835, 14.581521618771545, 14.360701872081902, 13.703680735610524, 23.393923264842087, 12.87204147514495, 12.94421158621065, 13.06149340166429, 9.980083255434378, 41.929180265812015, 9.399438252061241, 9.522689488337438, 9.298945342921517, 9.825543178575378, 127.15794003203435, 15.62444850771167, 172.92971847649866, 74.44357439172263, 108.02671742370863, 48.163998350237534, 126.30756824940609, 52.393398340678594, 60.59184713733818, 198.66944749752852, 69.35730618858327, 98.24346135227367, 32.975341974445094, 108.93115145197741, 29.92563279864549, 65.06776108827162, 109.29828303850097, 32.70490437890247, 102.50279891435501, 728.5763210847524, 123.49811210679881, 128.72666419080957, 51.37232151361868, 71.92806591386822, 101.54004061470566, 67.94801166112958, 63.52609677216666, 65.92346901902992, 63.59091747361729, 110.16749504272941, 81.21483045040837, 68.13672405151141, 88.3265603308474, 69.23911826186212, 77.16162099574902, 79.74149640142406, 71.36511090210276, 55.54997324652601, 26.445116405742624, 22.794407499278183, 21.356791101616295, 21.52603099672391, 20.358909925255016, 19.326489372283305, 28.872183758796666, 17.336231510291526, 16.33646297102671, 23.753772491941383, 159.19291205011658, 16.24114034131083, 16.162914550502943, 14.32116990736904, 13.819154252154659, 15.96634411541039, 34.18670283441663, 12.205198424584383, 27.114437567957427, 11.388722690611958, 11.246071099842368, 10.844888919831897, 12.4477849278826, 10.32935034118747, 10.490583877634597, 10.43140329430784, 10.753235526952725, 10.44036032465307, 9.693070739299042, 283.3694644943542, 48.803168143626266, 18.792173756913737, 71.68463581724262, 22.687578946083715, 17.92852920177032, 36.052195205397375, 61.313260195403096, 47.81660987373475, 120.57764497698008, 52.77545064411548, 120.01989047496608, 119.1334374250975, 29.319154506703217, 66.27364135894146, 56.45164721096208, 57.07125129434826, 90.47650200390541, 86.49237423590041, 37.51655242157131, 69.73588595866268, 37.65045478255778, 29.512229825307738, 364.1294206501998, 130.31681376085334, 46.70475612607746, 44.99726335557883, 62.55570674647054, 103.03085875278954, 57.39477961170342, 75.92172867808812, 66.64099208229926, 50.3316143576276, 54.81709180228709, 48.62654147869013, 46.90883534233775, 62.50518388442249, 50.69985983080633, 47.65449239055401, 90.11340207607805, 33.507929780916015, 32.85273642122842, 23.25548856934527, 20.026441192120004, 39.767651555215586, 14.643661541400828, 12.899900165284604, 13.150266913995885, 12.915809686039806, 12.356944999091978, 12.534110306168069, 12.78198722456503, 12.010960804018525, 11.271593103151469, 11.200864276063516, 12.209640440020646, 10.553410479664986, 10.180858052041321, 9.767066330356743, 25.10930604047875, 9.731248926941406, 9.28011190251291, 9.363214562191478, 11.951057466469196, 9.387745954298731, 9.766211997915269, 9.363939776379832, 8.526535275882779, 8.672879517946534, 18.2960500111143, 289.53539056268374, 43.33023935586992, 110.30284860684871, 27.80914719349773, 24.032311323471397, 31.215921542200157, 27.972901418016477, 214.64000352540148, 54.37413241964523, 36.69521816311157, 49.80548962221826, 67.55392114623143, 34.08611916641406, 116.57114383315542, 34.10667479231068, 71.12249142594696, 33.069982186043674, 70.08997579516839, 107.72394391364318, 37.73916936717477, 20.990907199562866, 575.4143243546953, 36.04334314252914, 81.00148391402031, 65.73745543375453, 85.65605921284005, 115.34522627497097, 37.48450513260549, 85.96903325051807, 49.18650102070536, 52.217960887152806, 46.51230705669767, 44.685468844553505, 49.816572272277675, 45.94692835387997, 43.62661739408032, 39.31609920040623, 37.605123100727916, 37.574582329923395], \"Total\": [1529.0, 1096.0, 696.0, 564.0, 598.0, 337.0, 343.0, 370.0, 656.0, 166.0, 282.0, 241.0, 206.0, 140.0, 137.0, 90.0, 266.0, 185.0, 221.0, 104.0, 128.0, 160.0, 176.0, 267.0, 531.0, 108.0, 130.0, 208.0, 212.0, 3287.0, 1096.7123919123167, 1529.6333110269125, 564.361674327165, 71.14786084494357, 696.578969750445, 103.53109921059567, 40.55867418062285, 40.39604319724516, 37.02267741821065, 42.74268518525904, 78.35206947671269, 18.196772900883104, 17.40033308787354, 598.5948198527999, 16.428109771039107, 241.49177804823677, 14.342776755055654, 14.349549783116194, 14.622090950102168, 13.493192193016705, 13.550561556106318, 16.58764438770434, 12.489113651373048, 13.429834867675453, 13.038481199031335, 12.171006310279404, 11.840400767324745, 13.900986448521275, 11.988257538201019, 12.399485354885451, 78.05721964645133, 59.2400278325016, 656.7854381349399, 72.47838795945434, 51.40749068521634, 38.28955572827161, 266.2279377633226, 84.38672683410884, 51.247423383960296, 177.54399649564047, 229.47564149296448, 531.644539477764, 62.2942192436339, 188.12626787627562, 45.818779100188536, 54.43532391163302, 218.27825632900084, 3287.3942015987113, 242.72229727255717, 481.0994592469303, 299.3331176731741, 369.6133552476306, 283.453472351987, 393.23879336541006, 152.8848660453275, 213.33717889831783, 127.32916861190833, 139.80698241167815, 579.8375826347661, 289.4932490067228, 136.61364871571192, 343.7441103575554, 196.216138677384, 298.05119811970724, 208.82125491457612, 47.9032860705109, 35.189912630487015, 27.19706720278284, 27.19816748838794, 25.136465426454457, 24.730032375289213, 24.796549232858386, 76.29127790816955, 104.97394692890633, 18.975632660980168, 18.854302317541602, 20.95676611878828, 18.738675925937905, 17.71632445548754, 16.979907175571384, 18.335344176357165, 20.7279622476367, 15.321064991806374, 15.096384069920957, 14.442652194540058, 24.691316571028565, 13.587089845188734, 13.669169346252865, 13.825677635344794, 10.7025126549498, 44.98499733580024, 10.11019403958665, 10.245058671189806, 10.007026281456072, 10.575321052262206, 137.03169169757257, 16.962817746495006, 206.21471765632188, 86.83685044971762, 128.78887762904316, 56.2148963932752, 160.79767362477068, 62.003449901249354, 73.4569232991801, 282.8577400149255, 88.26830213965918, 158.64405047292502, 41.471308143472655, 194.95750435996007, 36.97880002038593, 102.92745461290298, 208.82125491457612, 41.71928681084147, 198.22078137674922, 3287.3942015987113, 279.9686862884105, 298.05119811970724, 80.34586457190895, 135.81337473694262, 299.3331176731741, 149.03488053066653, 134.18163350320935, 147.11428780162538, 142.36922336841764, 579.8375826347661, 289.4932490067228, 179.98529666387395, 481.0994592469303, 215.7578719943627, 369.6133552476306, 656.7854381349399, 393.23879336541006, 56.91929254183276, 27.202850172234616, 23.50248337665367, 22.07760312989935, 22.257044946680196, 21.050866538447515, 20.045875542226664, 30.005552418580184, 18.043024470851933, 17.03025069330387, 24.79027362316657, 166.4602458987104, 16.9871826208093, 16.91029436945027, 15.037436529395135, 14.527019408472565, 16.87746484516424, 36.14267136698968, 12.929012534814593, 28.72435493542066, 12.088728260969578, 11.965685377307793, 11.548757676931537, 13.26525519769518, 11.02540360232978, 11.20197551518634, 11.146467839864592, 11.50128676551132, 11.178918504124951, 10.393921117485965, 370.22565631744703, 57.06443955327148, 20.966393338137838, 89.16014244629767, 25.70681987874684, 20.11776403631435, 43.7998901311122, 80.72275163737675, 60.93097401506732, 176.04075995854947, 69.65038448335392, 185.70114485611188, 212.16425969053455, 37.65491034790028, 108.64960885171473, 93.27998349811662, 95.00117635683537, 179.98529666387395, 177.34232624228807, 55.00821317115227, 157.6549493364928, 58.60589625804653, 39.969732594255014, 3287.3942015987113, 579.8375826347661, 90.506145047185, 86.16268837892683, 173.7413717150577, 481.0994592469303, 151.68477967332277, 282.8577400149255, 267.41669735171996, 134.18163350320935, 191.84281403534612, 141.06535287857386, 125.45726373761124, 531.644539477764, 289.4932490067228, 196.216138677384, 90.92550560537764, 34.23466277614406, 33.62465069065249, 24.0061456261885, 20.76168124555821, 41.407856868692356, 15.43418373822971, 13.601751320718325, 13.888259557872683, 13.644213883624756, 13.107524539913316, 13.301507859256375, 13.56577755315211, 12.782565560052495, 12.0001634357717, 11.925949543362929, 13.01922431587787, 11.313233242549037, 10.916187360983841, 10.499842764607052, 26.99534986031316, 10.480109474350277, 9.996330806459342, 10.106637909406729, 12.899989100114968, 10.134198670659869, 10.544073283866265, 10.151126865871536, 9.261480252607033, 9.425302317565349, 19.968197879650035, 337.12914386311905, 51.00162115010046, 140.3563682687582, 32.34351509808546, 28.040917719707117, 37.83968480385412, 34.11423787113159, 343.7441103575554, 77.86613176491825, 50.61248434599974, 74.07643157683847, 108.11931776650167, 46.937766743009064, 221.37974652897617, 49.25505881192205, 130.33906532012244, 49.74107663558036, 142.91279379742002, 267.41669735171996, 62.31981461778332, 27.011349062119034, 3287.3942015987113, 59.68283567468419, 215.7578719943627, 173.7413717150577, 279.9686862884105, 579.8375826347661, 64.68850560537055, 393.23879336541006, 147.11428780162538, 185.70114485611188, 155.10451637253325, 194.95750435996007, 369.6133552476306, 298.05119811970724, 213.33717889831783, 108.99894953829933, 151.68477967332277, 531.644539477764], \"Category\": [\"Default\", \"Default\", \"Default\", \"Default\", \"Default\", \"Default\", \"Default\", \"Default\", \"Default\", \"Default\", \"Default\", \"Default\", \"Default\", \"Default\", \"Default\", \"Default\", \"Default\", \"Default\", \"Default\", \"Default\", \"Default\", \"Default\", \"Default\", \"Default\", \"Default\", \"Default\", \"Default\", \"Default\", \"Default\", \"Default\", \"Topic1\", \"Topic1\", \"Topic1\", \"Topic1\", \"Topic1\", \"Topic1\", \"Topic1\", \"Topic1\", \"Topic1\", \"Topic1\", \"Topic1\", \"Topic1\", \"Topic1\", \"Topic1\", \"Topic1\", \"Topic1\", \"Topic1\", \"Topic1\", \"Topic1\", \"Topic1\", \"Topic1\", \"Topic1\", \"Topic1\", \"Topic1\", \"Topic1\", \"Topic1\", \"Topic1\", \"Topic1\", \"Topic1\", \"Topic1\", \"Topic1\", \"Topic1\", \"Topic1\", \"Topic1\", \"Topic1\", \"Topic1\", \"Topic1\", \"Topic1\", \"Topic1\", \"Topic1\", \"Topic1\", \"Topic1\", \"Topic1\", \"Topic1\", \"Topic1\", \"Topic1\", \"Topic1\", \"Topic1\", \"Topic1\", \"Topic1\", \"Topic1\", \"Topic1\", \"Topic1\", \"Topic1\", \"Topic1\", \"Topic1\", \"Topic1\", \"Topic1\", \"Topic1\", \"Topic1\", \"Topic1\", \"Topic1\", \"Topic1\", \"Topic1\", \"Topic1\", \"Topic2\", \"Topic2\", \"Topic2\", \"Topic2\", \"Topic2\", \"Topic2\", \"Topic2\", \"Topic2\", \"Topic2\", \"Topic2\", \"Topic2\", \"Topic2\", \"Topic2\", \"Topic2\", \"Topic2\", \"Topic2\", \"Topic2\", \"Topic2\", \"Topic2\", \"Topic2\", \"Topic2\", \"Topic2\", \"Topic2\", \"Topic2\", \"Topic2\", \"Topic2\", \"Topic2\", \"Topic2\", \"Topic2\", \"Topic2\", \"Topic2\", \"Topic2\", \"Topic2\", \"Topic2\", \"Topic2\", \"Topic2\", \"Topic2\", \"Topic2\", \"Topic2\", \"Topic2\", \"Topic2\", \"Topic2\", \"Topic2\", \"Topic2\", \"Topic2\", \"Topic2\", \"Topic2\", \"Topic2\", \"Topic2\", \"Topic2\", \"Topic2\", \"Topic2\", \"Topic2\", \"Topic2\", \"Topic2\", \"Topic2\", \"Topic2\", \"Topic2\", \"Topic2\", \"Topic2\", \"Topic2\", \"Topic2\", \"Topic2\", \"Topic2\", \"Topic2\", \"Topic2\", \"Topic2\", \"Topic3\", \"Topic3\", \"Topic3\", \"Topic3\", \"Topic3\", \"Topic3\", \"Topic3\", \"Topic3\", \"Topic3\", \"Topic3\", \"Topic3\", \"Topic3\", \"Topic3\", \"Topic3\", \"Topic3\", \"Topic3\", \"Topic3\", \"Topic3\", \"Topic3\", \"Topic3\", \"Topic3\", \"Topic3\", \"Topic3\", \"Topic3\", \"Topic3\", \"Topic3\", \"Topic3\", \"Topic3\", \"Topic3\", \"Topic3\", \"Topic3\", \"Topic3\", \"Topic3\", \"Topic3\", \"Topic3\", \"Topic3\", \"Topic3\", \"Topic3\", \"Topic3\", \"Topic3\", \"Topic3\", \"Topic3\", \"Topic3\", \"Topic3\", \"Topic3\", \"Topic3\", \"Topic3\", \"Topic3\", \"Topic3\", \"Topic3\", \"Topic3\", \"Topic3\", \"Topic3\", \"Topic3\", \"Topic3\", \"Topic3\", \"Topic3\", \"Topic3\", \"Topic3\", \"Topic3\", \"Topic3\", \"Topic3\", \"Topic3\", \"Topic3\", \"Topic3\", \"Topic3\", \"Topic3\", \"Topic3\", \"Topic3\", \"Topic4\", \"Topic4\", \"Topic4\", \"Topic4\", \"Topic4\", \"Topic4\", \"Topic4\", \"Topic4\", \"Topic4\", \"Topic4\", \"Topic4\", \"Topic4\", \"Topic4\", \"Topic4\", \"Topic4\", \"Topic4\", \"Topic4\", \"Topic4\", \"Topic4\", \"Topic4\", \"Topic4\", \"Topic4\", \"Topic4\", \"Topic4\", \"Topic4\", \"Topic4\", \"Topic4\", \"Topic4\", \"Topic4\", \"Topic4\", \"Topic4\", \"Topic4\", \"Topic4\", \"Topic4\", \"Topic4\", \"Topic4\", \"Topic4\", \"Topic4\", \"Topic4\", \"Topic4\", \"Topic4\", \"Topic4\", \"Topic4\", \"Topic4\", \"Topic4\", \"Topic4\", \"Topic4\", \"Topic4\", \"Topic4\", \"Topic4\", \"Topic4\", \"Topic4\", \"Topic4\", \"Topic4\", \"Topic4\", \"Topic4\", \"Topic4\", \"Topic4\", \"Topic4\", \"Topic4\", \"Topic4\", \"Topic4\", \"Topic4\", \"Topic4\", \"Topic4\", \"Topic4\", \"Topic4\", \"Topic4\", \"Topic4\", \"Topic4\"], \"logprob\": [30.0, 29.0, 28.0, 27.0, 26.0, 25.0, 24.0, 23.0, 22.0, 21.0, 20.0, 19.0, 18.0, 17.0, 16.0, 15.0, 14.0, 13.0, 12.0, 11.0, 10.0, 9.0, 8.0, 7.0, 6.0, 5.0, 4.0, 3.0, 2.0, 1.0, -2.8054, -2.476, -3.4783, -5.5496, -3.2715, -5.1818, -6.1192, -6.1239, -6.2126, -6.082, -5.4834, -6.9454, -6.9931, -3.4551, -7.0534, -4.3665, -7.1926, -7.1935, -7.1752, -7.2565, -7.2533, -7.0541, -7.339, -7.2668, -7.2967, -7.3662, -7.3963, -7.239, -7.3883, -7.3565, -5.5281, -5.82, -3.4799, -5.6246, -5.9628, -6.252, -4.3817, -5.4908, -5.9843, -4.8134, -4.5846, -3.8098, -5.8232, -4.7979, -6.1102, -5.9641, -4.7235, -2.4141, -4.7373, -4.1794, -4.5926, -4.4523, -4.6623, -4.432, -5.1512, -4.9147, -5.2863, -5.2727, -4.3921, -4.9067, -5.3011, -4.9472, -5.1771, -5.063, -5.2588, -5.5669, -5.8822, -6.1446, -6.1454, -6.2255, -6.2419, -6.2394, -5.1159, -4.8022, -6.5159, -6.5226, -6.4172, -6.531, -6.5878, -6.6315, -6.5569, -6.4364, -6.7404, -6.7557, -6.8025, -6.2677, -6.8651, -6.8596, -6.8505, -7.1196, -5.6842, -7.1796, -7.1665, -7.1903, -7.1352, -4.5748, -6.6714, -4.2673, -5.1102, -4.7378, -5.5456, -4.5815, -5.4614, -5.316, -4.1286, -5.1809, -4.8328, -5.9244, -4.7295, -6.0215, -5.2448, -4.7261, -5.9327, -4.7903, -2.8291, -4.604, -4.5625, -5.4811, -5.1445, -4.7997, -5.2015, -5.2688, -5.2317, -5.2677, -4.7182, -5.0231, -5.1987, -4.9392, -5.1826, -5.0743, -5.0414, -5.1524, -5.2808, -6.023, -6.1716, -6.2367, -6.2288, -6.2846, -6.3366, -5.9352, -6.4453, -6.5047, -6.1304, -4.228, -6.5106, -6.5154, -6.6364, -6.6721, -6.5276, -5.7663, -6.7963, -5.998, -6.8655, -6.8781, -6.9144, -6.7766, -6.9631, -6.9476, -6.9533, -6.9229, -6.9524, -7.0267, -3.6514, -5.4103, -6.3647, -5.0258, -6.1763, -6.4117, -5.7131, -5.1821, -5.4307, -4.5058, -5.3321, -4.5105, -4.5179, -5.9199, -5.1043, -5.2647, -5.2538, -4.793, -4.8381, -5.6733, -5.0534, -5.6698, -5.9133, -3.4006, -4.4281, -5.4543, -5.4915, -5.1621, -4.6631, -5.2482, -4.9684, -5.0988, -5.3795, -5.2941, -5.4139, -5.4499, -5.1629, -5.3722, -5.4341, -4.6305, -5.6198, -5.6395, -5.985, -6.1345, -5.4485, -6.4476, -6.5744, -6.5551, -6.5731, -6.6174, -6.6031, -6.5835, -6.6458, -6.7093, -6.7156, -6.6294, -6.7751, -6.8111, -6.8526, -5.9083, -6.8562, -6.9037, -6.8948, -6.6508, -6.8922, -6.8527, -6.8947, -6.9884, -6.9714, -6.2249, -3.4633, -5.3627, -4.4284, -5.8062, -5.9522, -5.6907, -5.8003, -3.7626, -5.1357, -5.5289, -5.2235, -4.9187, -5.6027, -4.3731, -5.6021, -4.8672, -5.633, -4.8818, -4.452, -5.5009, -6.0875, -2.7765, -5.5469, -4.7371, -4.9459, -4.6812, -4.3837, -5.5077, -4.6776, -5.236, -5.1762, -5.2919, -5.3319, -5.2232, -5.3041, -5.3559, -5.4599, -5.5044, -5.5053], \"loglift\": [30.0, 29.0, 28.0, 27.0, 26.0, 25.0, 24.0, 23.0, 22.0, 21.0, 20.0, 19.0, 18.0, 17.0, 16.0, 15.0, 14.0, 13.0, 12.0, 11.0, 10.0, 9.0, 8.0, 7.0, 6.0, 5.0, 4.0, 3.0, 2.0, 1.0, 1.0262, 1.0229, 1.0177, 1.0173, 1.014, 1.01, 1.0097, 1.0091, 1.0075, 0.9945, 0.987, 0.985, 0.982, 0.982, 0.9792, 0.9783, 0.9758, 0.9745, 0.9739, 0.973, 0.9719, 0.969, 0.9678, 0.9674, 0.9671, 0.9664, 0.9639, 0.9607, 0.9595, 0.9575, 0.9461, 0.9301, 0.8644, 0.9238, 0.929, 0.9345, 0.8656, 0.9055, 0.9107, 0.8391, 0.8113, 0.7459, 0.8766, 0.7967, 0.8968, 0.8706, 0.7224, 0.3197, 0.6025, 0.4762, 0.5375, 0.4669, 0.5223, 0.4253, 0.6508, 0.5541, 0.6986, 0.6187, 0.0768, 0.2569, 0.6134, 0.0446, 0.3754, 0.0714, 0.2314, 1.3956, 1.3887, 1.384, 1.3831, 1.3819, 1.3818, 1.3816, 1.3812, 1.3758, 1.3727, 1.3724, 1.372, 1.3701, 1.3694, 1.3681, 1.366, 1.3638, 1.362, 1.3615, 1.3589, 1.3575, 1.3574, 1.357, 1.3546, 1.3416, 1.3411, 1.3386, 1.3383, 1.3381, 1.3379, 1.3367, 1.3293, 1.2354, 1.2575, 1.2357, 1.2569, 1.17, 1.2431, 1.2189, 1.0582, 1.1704, 0.9323, 1.1822, 0.8294, 1.1998, 0.9529, 0.7641, 1.168, 0.752, -0.0953, 0.593, 0.5719, 0.9642, 0.7758, 0.3304, 0.626, 0.6637, 0.6087, 0.6055, -0.2493, 0.1404, 0.4401, -0.2836, 0.2749, -0.1551, -0.6971, -0.2951, 1.5092, 1.5053, 1.503, 1.5004, 1.5002, 1.5001, 1.497, 1.4951, 1.4936, 1.492, 1.4908, 1.4889, 1.4886, 1.4884, 1.4848, 1.4836, 1.4781, 1.4779, 1.4759, 1.4759, 1.4739, 1.4715, 1.4707, 1.4699, 1.4683, 1.4679, 1.4673, 1.4663, 1.4652, 1.4637, 1.2662, 1.3772, 1.4241, 1.3154, 1.4086, 1.4183, 1.3389, 1.2585, 1.2912, 1.1551, 1.2561, 1.0971, 0.9564, 1.2833, 1.0392, 1.0313, 1.024, 0.8458, 0.8155, 1.1509, 0.7179, 1.0911, 1.2302, -0.6668, 0.0408, 0.872, 0.8839, 0.512, -0.0075, 0.5617, 0.2183, 0.1441, 0.553, 0.2809, 0.4685, 0.5498, -0.6072, -0.2087, 0.1183, 1.6911, 1.6786, 1.6769, 1.6683, 1.664, 1.6597, 1.6475, 1.6471, 1.6455, 1.6452, 1.6411, 1.6407, 1.6406, 1.6378, 1.6374, 1.6374, 1.6359, 1.6306, 1.6303, 1.6277, 1.6277, 1.6259, 1.6257, 1.6237, 1.6237, 1.6236, 1.6234, 1.6194, 1.6174, 1.6169, 1.6126, 1.5479, 1.5371, 1.4591, 1.549, 1.5458, 1.5077, 1.5016, 1.2291, 1.341, 1.3785, 1.3031, 1.2298, 1.3802, 1.0587, 1.3326, 1.0943, 1.2919, 0.9876, 0.7908, 1.1985, 1.4479, -0.0427, 1.1958, 0.7204, 0.7282, 0.5157, 0.0853, 1.1544, 0.1797, 0.6045, 0.4314, 0.4957, 0.227, -0.304, -0.1697, 0.1129, 0.6804, 0.3054, -0.9496]}, \"token.table\": {\"Topic\": [2, 3, 2, 4, 2, 2, 3, 4, 4, 2, 3, 4, 2, 1, 2, 3, 4, 1, 4, 3, 2, 4, 2, 3, 4, 2, 1, 2, 3, 4, 2, 3, 1, 3, 1, 2, 3, 4, 1, 3, 2, 3, 4, 2, 4, 1, 2, 4, 3, 2, 3, 4, 2, 1, 2, 3, 4, 1, 2, 3, 4, 3, 4, 2, 4, 1, 2, 3, 4, 2, 1, 2, 3, 2, 4, 1, 2, 3, 2, 3, 4, 1, 2, 3, 4, 1, 2, 3, 4, 4, 1, 2, 3, 4, 1, 2, 4, 1, 3, 4, 4, 3, 1, 2, 3, 4, 1, 2, 3, 4, 2, 4, 1, 2, 3, 4, 4, 3, 1, 2, 3, 4, 4, 1, 4, 1, 4, 3, 3, 3, 4, 1, 2, 3, 4, 3, 4, 1, 2, 3, 4, 1, 2, 2, 1, 3, 4, 1, 2, 1, 1, 1, 4, 1, 1, 2, 1, 2, 3, 4, 1, 2, 3, 4, 1, 1, 2, 3, 4, 1, 2, 3, 4, 1, 2, 3, 4, 1, 2, 3, 4, 1, 2, 3, 4, 1, 2, 3, 4, 3, 4, 2, 3, 4, 3, 1, 2, 3, 4, 1, 2, 3, 4, 1, 4, 2, 3, 4, 2, 3, 1, 2, 3, 4, 1, 2, 3, 4, 1, 3, 4, 1, 1, 2, 3, 4, 1, 2, 3, 2, 1, 4, 1, 1, 2, 3, 4, 1, 2, 3, 4, 1, 4, 1, 2, 3, 4, 2, 4, 2, 3, 4, 3, 2, 3, 4, 3, 4, 4, 2, 3, 4, 1, 2, 1, 2, 3, 4, 2, 4, 3, 1, 2, 3, 4, 1, 1, 2, 3, 4, 1, 3, 2, 1, 2, 3, 4, 1, 2, 3, 4, 3, 2, 3, 4, 4, 1, 2, 3, 4, 2, 2, 2, 2, 3, 4, 1, 2, 4, 3, 2, 1, 2, 3, 4, 2, 4, 3, 4, 1, 4, 4, 3, 3, 2, 4, 4, 3, 4, 1, 2, 3, 4, 1, 4, 1, 2, 3, 4, 2, 3, 1, 2, 3, 4, 2, 3, 4, 2, 3, 4, 1, 2, 3, 4, 2, 3, 4, 3, 4, 1, 2, 3, 4, 2, 1, 2, 3, 1, 3, 4, 2, 4, 2, 1, 2, 3, 4, 2, 3, 4, 3, 1, 3, 4, 1, 2, 3, 4, 4, 1, 3, 3, 4, 1, 3, 4, 2, 4, 1, 2, 1, 2, 3, 4, 4, 1, 2, 3, 4, 1, 3, 1, 3, 3, 1, 1, 1, 1, 2, 3, 4, 3, 4, 4, 2, 3, 3, 4, 1, 2, 3, 4, 1, 3, 1, 2, 3, 4, 1, 2, 4, 1, 2, 3, 4, 1, 2, 3, 4, 2, 3, 4, 1, 2, 3, 4, 1, 3, 4, 1, 2, 1, 2, 3, 4, 4, 4, 1, 1, 2, 3, 4, 1, 2, 3, 4, 4, 2, 2, 2, 1, 4, 2, 3, 4, 1, 2, 3, 4, 1, 4, 3, 4, 3, 1, 2, 3, 4, 2, 3, 4, 1, 2, 3, 4, 3, 4, 4, 1, 2, 4, 1, 2, 3, 4, 1, 4, 1, 2, 3, 4, 3], \"Freq\": [0.9336446034770641, 0.06668890024836173, 0.8112756493845498, 0.1892976515230616, 0.9678766095484422, 0.853866200592021, 0.07115551671600176, 0.07115551671600176, 0.9302333441423646, 0.1365050363665688, 0.6483989227412018, 0.22182068409567432, 0.9817105055061044, 0.3544456450836583, 0.19140064834517545, 0.3473567321819851, 0.11342260642677064, 0.9224002638847936, 0.07686668865706613, 0.9046188573955957, 0.185107377958106, 0.7774509874240452, 0.9760803057303188, 0.9461692180181803, 0.9898212762280983, 0.9485849732437974, 0.8495925268753539, 0.12180538019718334, 0.027406210544366254, 0.001522567252464792, 0.9693510451835571, 0.8945409161279835, 0.8968190633097707, 0.09658051451028299, 0.8488966330833192, 0.0037561797924040674, 0.14273483211135457, 0.0037561797924040674, 0.3859348881716608, 0.600343159378139, 0.47696542611004394, 0.37262923914847185, 0.14905169565938875, 0.9661859737197492, 0.9723126681971899, 0.9142636486148538, 0.05835725416690556, 0.03890483611127037, 0.897145189280112, 0.2251703830836637, 0.7505679436122122, 0.025018931453740408, 0.9595669825709439, 0.06709838639379676, 0.45626902747781795, 0.25497386829642765, 0.22813451373890897, 0.17559974978093373, 0.4495353594391904, 0.18262373977217108, 0.20369570974588314, 0.41738481585449416, 0.571971784689492, 0.32398968861108174, 0.6749785179397536, 0.1631384711752983, 0.4486307957320703, 0.0543794903917661, 0.33307437864956735, 0.8993680786746625, 0.6652028274678766, 0.10013806004892767, 0.23603971297247234, 0.7957308673706259, 0.19290445269590933, 0.028282768573268897, 0.7035338682600638, 0.26868630144605454, 0.8389313913487124, 0.10183560241805178, 0.05819177281031531, 0.4924873321284849, 0.2217561859923814, 0.11072599684667604, 0.17491057194186463, 0.06137837478235251, 0.38361484238970317, 0.007672296847794064, 0.5447330761933785, 0.9387786781631589, 0.9950097118231638, 0.0006537514532346674, 0.0026150058129386696, 0.0013075029064693348, 0.9679940318022799, 0.9559854305665593, 0.9484000851266119, 0.3090447593181456, 0.6908059325935019, 0.018179103489302684, 0.8866010758133989, 0.9310097484124267, 0.02130480569037598, 0.02130480569037598, 0.2343528625941358, 0.7243633934727833, 0.9608368003505777, 0.022431547832089057, 0.8075357219552061, 0.17945238265671246, 0.9811435468293069, 0.9814228348005966, 0.041527112843392354, 0.002966222345956597, 0.09788533741656769, 0.860204480327413, 0.9541885058047028, 0.9786199879986803, 0.990195990352041, 0.32092521652483996, 0.08023130413120999, 0.6097579113971959, 0.9557592763954057, 0.37527915712015225, 0.6254652618669204, 0.03704341692826646, 0.9260854232066614, 0.8926996837694529, 0.948009677210754, 0.9551830176722801, 0.0420520825390312, 0.39854208923743917, 0.07970841784748783, 0.3746295638831928, 0.1434751521254781, 0.9664877885081855, 0.03332716512097192, 0.08839178815791164, 0.243077417434257, 0.5193017554277308, 0.15468562927634535, 0.9852112145792906, 0.009658933476267555, 0.9559467567475092, 0.04987304877108397, 0.1638685888192759, 0.7837193378313195, 0.02857851960193277, 0.96214349326507, 0.9838665445269653, 0.9634488128560155, 0.1758796436451352, 0.8207716703439643, 0.9862255314822455, 0.9115458242640004, 0.08440239113555559, 0.5757645216097121, 0.18291436065579303, 0.214092944858485, 0.02702143964233306, 0.38583975077265814, 0.4328115465188948, 0.030196154408294987, 0.15433590030906327, 0.9574554041398695, 0.5708668179985973, 0.20832580562034117, 0.08657695817988205, 0.1352764971560657, 0.6550696074759711, 0.04943921565856386, 0.14831764697569158, 0.14831764697569158, 0.16198699165389177, 0.5301392454127367, 0.17671308180424558, 0.13253481135318418, 0.6234262620646697, 0.12187280311038655, 0.051561570546702, 0.206246282186808, 0.8061857842357179, 0.1263750688801936, 0.021788804979343726, 0.047935370954556196, 0.863409944548083, 0.09185212176043436, 0.01837042435208687, 0.03674084870417374, 0.25685362352752167, 0.7310449285014078, 0.03852766192440572, 0.25685107949603814, 0.693497914639303, 0.9557822005922622, 0.26474361865318063, 0.6177351101907548, 0.03782051695045437, 0.07564103390090875, 0.3944992147368443, 0.19266240719706348, 0.04587200171358655, 0.35780161336597505, 0.024150006197400663, 0.9660002478960266, 0.6347557559027246, 0.049784765168841144, 0.3111547823052571, 0.9315015638731446, 0.04050006799448455, 0.17894515259627986, 0.06315711268103995, 0.5999925704698795, 0.15789278170259988, 0.4501457480391697, 0.5219775163432925, 0.009577569107216376, 0.01915513821443275, 0.866854110311664, 0.016052853894660445, 0.11236997726262311, 0.9756403658372977, 0.9862485516123509, 0.007177937056858449, 0.00430676223411507, 0.0014355874113716899, 0.7375906455718249, 0.14660186744284717, 0.11453270893972436, 0.9422901924351416, 0.9592284579757743, 0.023395816048189615, 0.920352594510127, 0.46420311725203994, 0.1353925758651783, 0.1031562482782311, 0.30302147931730383, 0.6587921547083978, 0.17567790792223942, 0.007319912830093309, 0.15371816943195948, 0.9761010883101956, 0.915504675460204, 0.3863150763393951, 0.18970829641666725, 0.2242007139469704, 0.19833140079924302, 0.9432395159292476, 0.058952469745577975, 0.3298342374841221, 0.44400762738247207, 0.2283467797966999, 0.919295439679606, 0.13626889293137912, 0.7556729517103751, 0.11149273058021927, 0.3045372467684333, 0.6902844260084489, 0.9931454626067594, 0.7835934261961229, 0.18035086793402827, 0.031094977230004876, 0.1552929132405903, 0.8385817314991876, 0.2574761282082294, 0.21230487764538214, 0.004517125056284726, 0.528503631585313, 0.9699667121721631, 0.026215316545193598, 0.9500796541307123, 0.09088804208620412, 0.19313708943318375, 0.6873408182769186, 0.028402513151938785, 0.9037872234697312, 0.04713329198134561, 0.23566645990672805, 0.5608861745780128, 0.15553986353844051, 0.21245569106622766, 0.7701518801150753, 0.9704799264226327, 0.17612335368691837, 0.31980293169466756, 0.1297751027166767, 0.3754208328589576, 0.4628778061656566, 0.2797992708911805, 0.1761699113018544, 0.08290348767146088, 0.9621008170994043, 0.631512750844337, 0.23317393877329365, 0.13601813095108797, 0.9003303486299651, 0.10556417858667017, 0.37780863915229324, 0.5000408459368587, 0.01111201879859686, 0.9546892638532278, 0.9510453540151432, 0.9547881769702433, 0.8521727770729004, 0.13819018006587575, 0.011515848338822979, 0.8279637887029851, 0.14081016814676617, 0.028162033629353236, 0.9069962752099976, 0.9343600257622778, 0.01132909522172283, 0.7817075702988754, 0.02265819044344566, 0.18126552354756528, 0.791001057847048, 0.19175783220534498, 0.9395046666160378, 0.9160707552292078, 0.3853704292029134, 0.603188497882821, 0.9717669049142087, 0.9099385611566178, 0.9637214356466549, 0.9567906113908103, 0.8905038530789029, 0.9523952143081679, 0.12367239577607864, 0.8657067704325504, 0.519834916167151, 0.20385682986947098, 0.2446281958433652, 0.035674945227157424, 0.8976061031469796, 0.09756588077684561, 0.9175645388788237, 0.8304186625344389, 0.1633610483674306, 0.9580879978878872, 0.4758440198579916, 0.5222678266734054, 0.7542633662595377, 0.05830963679313134, 0.11850022961184757, 0.07147632897222551, 0.1312961121878951, 0.7877766731273705, 0.08206007011743444, 0.019607219877520114, 0.1372505391426408, 0.8431104547333649, 0.7225367211845267, 0.19634150032188227, 0.007853660012875291, 0.07853660012875291, 0.07780036618428653, 0.894704211119295, 0.03890018309214326, 0.9062121316516097, 0.09539075070016945, 0.6867913268071247, 0.08503130712850115, 0.026163479116461892, 0.1962260933734642, 0.8901906298494703, 0.9984386135098458, 0.0009118160853971194, 0.0009118160853971194, 0.952413377626706, 0.004140927728811765, 0.04555020501692942, 0.9455977696167307, 0.9633131230294191, 0.9648801826759551, 0.7920212402129422, 0.04252463034700361, 0.15415178500788806, 0.010631157586750902, 0.8386630112166099, 0.0645125393243546, 0.08064067415544326, 0.9884510748261514, 0.12266833872021606, 0.8586783710415123, 0.017524048388602293, 0.2010410846806417, 0.12062465080838501, 0.02010410846806417, 0.6634355794461176, 0.9548765330558427, 0.09941462661505635, 0.894731639535507, 0.9407162977735327, 0.027668126405103903, 0.9645733671418749, 0.9838491924129744, 0.017568735578803115, 0.9402794092902916, 0.9166541821596964, 0.8730044926019298, 0.10912556157524123, 0.6113590150749973, 0.3407574838122936, 0.0033407596452185648, 0.04342987538784134, 0.9582937615676407, 0.9904995775385399, 0.003543826753268479, 0.005315740129902719, 0.0017719133766342396, 0.972377000003041, 0.9564147233495195, 0.9290226079471947, 0.9281451284610488, 0.9524834019136386, 0.9769927916981924, 0.9593698346871671, 0.9342315856002674, 0.12921680284695275, 0.04307226761565092, 0.7609433945431662, 0.07178711269275152, 0.9421923706562105, 0.9217138985281286, 0.9223584218601494, 0.040338401068130914, 0.9681216256351419, 0.8219198699411409, 0.15981775248855518, 0.09745713591470336, 0.5590962007738245, 0.11284510474334072, 0.23081953242956058, 0.034813662560856225, 0.9399688891431182, 0.25190186996855074, 0.12595093498427537, 0.12595093498427537, 0.4898091916055153, 0.36071259794873833, 0.018498081946089148, 0.628934786167031, 0.1318523852101257, 0.24392691263873256, 0.3757792978488583, 0.25051953189923887, 0.15134639159241514, 0.5196226111339587, 0.15134639159241514, 0.1816156699108982, 0.2590056677680758, 0.3626079348753061, 0.3798749793931778, 0.9555712495819129, 0.00501173732298206, 0.0016705791076606867, 0.03675274036853511, 0.8887653641009008, 0.035550614564036034, 0.08295143398275075, 0.9677821019621551, 0.979044211875736, 0.31785599344308596, 0.02991585820640809, 0.25054531247866774, 0.40386408578650923, 0.9527848295900787, 0.88808205685334, 0.9351854307708416, 0.5467415820295611, 0.18055187127487834, 0.05340266615172458, 0.21869663281182447, 0.6032736116481774, 0.15170038187644228, 0.1693399611644007, 0.07761414886701698, 0.9773328059911224, 0.9543457175899618, 0.9605801429696835, 0.9273743921164893, 0.05007963192407657, 0.9014333746333784, 0.07000495344319434, 0.6461995702448708, 0.28001981377277735, 0.9739404120738335, 0.20248577268258422, 0.6074573180477527, 0.18407797516598565, 0.10698651270930425, 0.855892101674434, 0.9511902119283968, 0.9718686944775539, 0.947825898648152, 0.42743326307177654, 0.09903941461419212, 0.28669304230424036, 0.18765362769004823, 0.9267929077332534, 0.007297581950655539, 0.06567823755589984, 0.16746543342430756, 0.06212427368966249, 0.7643986719206297, 0.005402110755622825, 0.15856368865389905, 0.8192457247118118, 0.936042413797691, 0.914087388435204, 0.07835034758016034, 0.026116782526720114, 0.3101346484248666, 0.07330455326405938, 0.48493781390070045, 0.12969267115948965, 0.9572178565403564, 0.03828871426161425, 0.11429849682201643, 0.4393348471596257, 0.13930129300183253, 0.30717721020916916, 0.9418866187027388], \"Term\": [\"1\", \"1\", \"2\", \"2\", \"3\", \"4\", \"4\", \"4\", \"5\", \"able\", \"able\", \"able\", \"almost\", \"also\", \"also\", \"also\", \"also\", \"analysis\", \"analysis\", \"another\", \"around\", \"around\", \"attention\", \"audio\", \"awesome\", \"bash\", \"basic\", \"basic\", \"basic\", \"basic\", \"basically\", \"basis\", \"begin\", \"begin\", \"beginner\", \"beginner\", \"beginner\", \"beginner\", \"best\", \"best\", \"bit\", \"bit\", \"bit\", \"brief\", \"broad\", \"career\", \"career\", \"career\", \"certainly\", \"challenge\", \"challenge\", \"challenge\", \"charge\", \"class\", \"class\", \"class\", \"class\", \"clear\", \"clear\", \"clear\", \"clear\", \"come\", \"come\", \"command\", \"command\", \"complete\", \"complete\", \"complete\", \"complete\", \"compress\", \"concept\", \"concept\", \"concept\", \"concise\", \"concise\", \"content\", \"content\", \"content\", \"could\", \"could\", \"could\", \"course\", \"course\", \"course\", \"course\", \"coursera\", \"coursera\", \"coursera\", \"coursera\", \"current\", \"data\", \"data\", \"data\", \"data\", \"decent\", \"depth\", \"descriptive\", \"design\", \"design\", \"design\", \"developer\", \"development\", \"different\", \"different\", \"different\", \"different\", \"dive\", \"do\", \"do\", \"do\", \"doesnt\", \"download\", \"easy\", \"easy\", \"easy\", \"easy\", \"education\", \"effective\", \"essential\", \"example\", \"example\", \"example\", \"excelente\", \"excellent\", \"excellent\", \"excite\", \"excite\", \"exist\", \"expectation\", \"experience\", \"experience\", \"explain\", \"explain\", \"explain\", \"explain\", \"fast\", \"fast\", \"feel\", \"feel\", \"feel\", \"feel\", \"field\", \"field\", \"fine\", \"follow\", \"follow\", \"follow\", \"forward\", \"forward\", \"foundation\", \"foundational\", \"free\", \"free\", \"fundamental\", \"general\", \"general\", \"get\", \"get\", \"get\", \"get\", \"git\", \"git\", \"git\", \"git\", \"gitgithub\", \"github\", \"github\", \"github\", \"github\", \"give\", \"give\", \"give\", \"give\", \"go\", \"go\", \"go\", \"go\", \"help\", \"help\", \"help\", \"help\", \"helpful\", \"helpful\", \"helpful\", \"helpful\", \"highly\", \"highly\", \"highly\", \"highly\", \"hour\", \"hour\", \"im\", \"im\", \"im\", \"info\", \"information\", \"information\", \"information\", \"information\", \"informative\", \"informative\", \"informative\", \"informative\", \"insight\", \"insight\", \"instruction\", \"instruction\", \"instruction\", \"interactive\", \"interactive\", \"interest\", \"interest\", \"interest\", \"interest\", \"intro\", \"intro\", \"intro\", \"intro\", \"introduce\", \"introduce\", \"introduce\", \"introduces\", \"introduction\", \"introduction\", \"introduction\", \"introduction\", \"introductory\", \"introductory\", \"introductory\", \"isnt\", \"journey\", \"journey\", \"kick\", \"know\", \"know\", \"know\", \"know\", \"knowledge\", \"knowledge\", \"knowledge\", \"knowledge\", \"lay\", \"lead\", \"learn\", \"learn\", \"learn\", \"learn\", \"least\", \"least\", \"lecture\", \"lecture\", \"lecture\", \"lecturer\", \"lesson\", \"lesson\", \"lesson\", \"like\", \"like\", \"line\", \"little\", \"little\", \"little\", \"look\", \"look\", \"lot\", \"lot\", \"lot\", \"lot\", \"love\", \"love\", \"low\", \"make\", \"make\", \"make\", \"make\", \"manage\", \"material\", \"material\", \"material\", \"material\", \"might\", \"might\", \"money\", \"much\", \"much\", \"much\", \"much\", \"need\", \"need\", \"need\", \"need\", \"nevertheless\", \"next\", \"next\", \"next\", \"non\", \"one\", \"one\", \"one\", \"one\", \"opinion\", \"optional\", \"otherwise\", \"overall\", \"overall\", \"overall\", \"overview\", \"overview\", \"overview\", \"paced\", \"pack\", \"part\", \"part\", \"part\", \"part\", \"pay\", \"pay\", \"pdf\", \"picture\", \"practical\", \"practical\", \"prep\", \"prepared\", \"preview\", \"price\", \"prior\", \"prof\", \"professor\", \"professor\", \"program\", \"program\", \"program\", \"program\", \"programming\", \"programming\", \"purpose\", \"question\", \"question\", \"quickly\", \"quiz\", \"quiz\", \"r\", \"r\", \"r\", \"r\", \"read\", \"read\", \"read\", \"real\", \"real\", \"real\", \"recommend\", \"recommend\", \"recommend\", \"recommend\", \"robot\", \"robot\", \"robot\", \"robotic\", \"robotic\", \"rstudio\", \"rstudio\", \"rstudio\", \"rstudio\", \"schedule\", \"science\", \"science\", \"science\", \"scientist\", \"scientist\", \"scientist\", \"scratch\", \"search\", \"session\", \"set\", \"set\", \"set\", \"set\", \"setup\", \"setup\", \"setup\", \"share\", \"short\", \"short\", \"short\", \"show\", \"show\", \"show\", \"show\", \"sign\", \"simply\", \"simply\", \"since\", \"since\", \"skip\", \"slide\", \"slide\", \"somewhat\", \"speaker\", \"specialisation\", \"specialisation\", \"specialization\", \"specialization\", \"specialization\", \"specialization\", \"specific\", \"start\", \"start\", \"start\", \"start\", \"starter\", \"state\", \"statistical\", \"stats\", \"stepbystep\", \"straight\", \"strong\", \"strongly\", \"structure\", \"structure\", \"structure\", \"structure\", \"structured\", \"sufficient\", \"superficial\", \"support\", \"support\", \"sure\", \"sure\", \"take\", \"take\", \"take\", \"take\", \"technical\", \"technical\", \"thank\", \"thank\", \"thank\", \"thank\", \"thanks\", \"thanks\", \"thanks\", \"thing\", \"thing\", \"thing\", \"thing\", \"think\", \"think\", \"think\", \"think\", \"time\", \"time\", \"time\", \"tool\", \"tool\", \"tool\", \"tool\", \"toolbox\", \"toolbox\", \"toolbox\", \"trade\", \"training\", \"understand\", \"understand\", \"understand\", \"understand\", \"understandable\", \"understood\", \"usage\", \"use\", \"use\", \"use\", \"use\", \"useful\", \"useful\", \"useful\", \"useful\", \"usefull\", \"useless\", \"user\", \"value\", \"various\", \"various\", \"video\", \"video\", \"video\", \"view\", \"voice\", \"voice\", \"voice\", \"wait\", \"wait\", \"walk\", \"waste\", \"watch\", \"way\", \"way\", \"way\", \"way\", \"week\", \"week\", \"week\", \"well\", \"well\", \"well\", \"well\", \"wish\", \"wish\", \"within\", \"wonderful\", \"wonderful\", \"wonderful\", \"work\", \"work\", \"work\", \"work\", \"world\", \"world\", \"would\", \"would\", \"would\", \"would\", \"youll\"]}, \"R\": 30, \"lambda.step\": 0.01, \"plot.opts\": {\"xlab\": \"PC1\", \"ylab\": \"PC2\"}, \"topic.order\": [3, 1, 4, 2]};\n",
       "\n",
       "function LDAvis_load_lib(url, callback){\n",
       "  var s = document.createElement('script');\n",
       "  s.src = url;\n",
       "  s.async = true;\n",
       "  s.onreadystatechange = s.onload = callback;\n",
       "  s.onerror = function(){console.warn(\"failed to load library \" + url);};\n",
       "  document.getElementsByTagName(\"head\")[0].appendChild(s);\n",
       "}\n",
       "\n",
       "if(typeof(LDAvis) !== \"undefined\"){\n",
       "   // already loaded: just create the visualization\n",
       "   !function(LDAvis){\n",
       "       new LDAvis(\"#\" + \"ldavis_el366361402244367044642706367372\", ldavis_el366361402244367044642706367372_data);\n",
       "   }(LDAvis);\n",
       "}else if(typeof define === \"function\" && define.amd){\n",
       "   // require.js is available: use it to load d3/LDAvis\n",
       "   require.config({paths: {d3: \"https://d3js.org/d3.v5\"}});\n",
       "   require([\"d3\"], function(d3){\n",
       "      window.d3 = d3;\n",
       "      LDAvis_load_lib(\"https://cdn.jsdelivr.net/gh/bmabey/pyLDAvis@3.2.2/pyLDAvis/js/ldavis.v3.0.0.js\", function(){\n",
       "        new LDAvis(\"#\" + \"ldavis_el366361402244367044642706367372\", ldavis_el366361402244367044642706367372_data);\n",
       "      });\n",
       "    });\n",
       "}else{\n",
       "    // require.js not available: dynamically load d3 & LDAvis\n",
       "    LDAvis_load_lib(\"https://d3js.org/d3.v5.js\", function(){\n",
       "         LDAvis_load_lib(\"https://cdn.jsdelivr.net/gh/bmabey/pyLDAvis@3.2.2/pyLDAvis/js/ldavis.v3.0.0.js\", function(){\n",
       "                 new LDAvis(\"#\" + \"ldavis_el366361402244367044642706367372\", ldavis_el366361402244367044642706367372_data);\n",
       "            })\n",
       "         });\n",
       "}\n",
       "</script>"
      ],
      "text/plain": [
       "PreparedData(topic_coordinates=              x         y  topics  cluster       Freq\n",
       "topic                                                \n",
       "2     -0.239587 -0.011512       1        1  35.777865\n",
       "0      0.056426 -0.054964       2        1  24.378595\n",
       "3      0.113589 -0.097272       3        1  21.576722\n",
       "1      0.069572  0.163748       4        1  18.266818, topic_info=             Term         Freq        Total Category  logprob  loglift\n",
       "20           data  1529.000000  1529.000000  Default  30.0000  30.0000\n",
       "30        science  1096.000000  1096.000000  Default  29.0000  29.0000\n",
       "67   introduction   696.000000   696.000000  Default  28.0000  28.0000\n",
       "93          start   564.000000   564.000000  Default  27.0000  27.0000\n",
       "34           tool   598.000000   598.000000  Default  26.0000  26.0000\n",
       "..            ...          ...          ...      ...      ...      ...\n",
       "168           git    45.946928   298.051198   Topic4  -5.3041  -0.1697\n",
       "284          help    43.626617   213.337179   Topic4  -5.3559   0.1129\n",
       "528   informative    39.316099   108.998950   Topic4  -5.4599   0.6804\n",
       "275         thing    37.605123   151.684780   Topic4  -5.5044   0.3054\n",
       "11              r    37.574582   531.644539   Topic4  -5.5053  -0.9496\n",
       "\n",
       "[301 rows x 6 columns], token_table=      Topic      Freq   Term\n",
       "term                        \n",
       "1069      2  0.933645      1\n",
       "1069      3  0.066689      1\n",
       "161       2  0.811276      2\n",
       "161       4  0.189298      2\n",
       "525       2  0.967877      3\n",
       "...     ...       ...    ...\n",
       "59        1  0.114298  would\n",
       "59        2  0.439335  would\n",
       "59        3  0.139301  would\n",
       "59        4  0.307177  would\n",
       "1225      3  0.941887  youll\n",
       "\n",
       "[523 rows x 3 columns], R=30, lambda_step=0.01, plot_opts={'xlab': 'PC1', 'ylab': 'PC2'}, topic_order=[3, 1, 4, 2])"
      ]
     },
     "execution_count": 80,
     "metadata": {},
     "output_type": "execute_result"
    }
   ],
   "source": [
    "# Visualize the topics\n",
    "pyLDAvis.enable_notebook()\n",
    "vis = pyLDAvis.gensim.prepare(lda_model, corpus, dictionary)\n",
    "vis"
   ]
  },
  {
   "cell_type": "markdown",
   "metadata": {},
   "source": [
    "What is topic perplexity and topic coherence: https://towardsdatascience.com/evaluate-topic-model-in-python-latent-dirichlet-allocation-lda-7d57484bb5d0"
   ]
  },
  {
   "cell_type": "code",
   "execution_count": 71,
   "metadata": {},
   "outputs": [
    {
     "name": "stdout",
     "output_type": "stream",
     "text": [
      "\n",
      "Perplexity:  -6.658875046408961\n",
      "\n",
      "Coherence Score:  0.45738393172386704\n"
     ]
    }
   ],
   "source": [
    "# Calculate Perplexity and Coherence\n",
    "\n",
    "# Compute Perplexity\n",
    "\n",
    "print('\\nPerplexity: ', lda_model.log_perplexity(corpus))  # a measure of how good the model is. The lower the better.\n",
    "\n",
    "# Compute Coherence Score\n",
    "\n",
    "coherence_model_lda = CoherenceModel(model = lda_model, texts = df['preprocessed'], dictionary = dictionary, coherence = 'c_v')\n",
    "coherence_lda = coherence_model_lda.get_coherence()\n",
    "print('\\nCoherence Score: ', coherence_lda)"
   ]
  },
  {
   "cell_type": "markdown",
   "metadata": {},
   "source": [
    "## Hyperparameter Tuning\n",
    "\n",
    "Code references\n",
    "\n",
    "Find the optimal number of topics, alpha and beta: https://towardsdatascience.com/evaluate-topic-model-in-python-latent-dirichlet-allocation-lda-7d57484bb5d0\n",
    "\n",
    "What is alpha and beta: https://www.thoughtvector.io/blog/lda-alpha-and-beta-parameters-the-intuition/"
   ]
  },
  {
   "cell_type": "markdown",
   "metadata": {},
   "source": [
    "## Calculate the coherence score\n",
    "\n",
    "Code reference: \n",
    "\n",
    "https://www.machinelearningplus.com/nlp/topic-modeling-gensim-python/#17howtofindtheoptimalnumberoftopicsforlda"
   ]
  },
  {
   "cell_type": "code",
   "execution_count": 72,
   "metadata": {},
   "outputs": [],
   "source": [
    "# Determine the optiomal number of topics by calculating the coherence score\n",
    "\n",
    "# Define function for calculating coherence score\n",
    "\n",
    "def compute_coherence_values(dictionary, corpus, texts, limit, start = 2, step = 3):\n",
    "    \"\"\"\n",
    "    Compute c_v coherence for various number of topics\n",
    "\n",
    "    Parameters:\n",
    "    ----------\n",
    "    dictionary : Gensim dictionary\n",
    "    corpus : Gensim corpus\n",
    "    texts : List of input texts\n",
    "    limit : Max num of topics\n",
    "\n",
    "    Returns:\n",
    "    -------\n",
    "    model_list : List of LDA topic models\n",
    "    coherence_values : Coherence values corresponding to the LDA model with respective number of topics\n",
    "    \"\"\"\n",
    "    coherence_values = []\n",
    "    model_list = []\n",
    "    for num_topics in range(start, limit, step):\n",
    "        model = LDA(corpus = corpus, num_topics = num_topics, id2word = dictionary, random_state = 100,\n",
    "                chunksize = 100, passes = 10)\n",
    "        model_list.append(model)\n",
    "        coherencemodel = CoherenceModel(model = model, texts = texts, dictionary = dictionary, coherence = 'c_v')\n",
    "        coherence_values.append(coherencemodel.get_coherence())\n",
    "\n",
    "    return model_list, coherence_values"
   ]
  },
  {
   "cell_type": "code",
   "execution_count": 73,
   "metadata": {},
   "outputs": [],
   "source": [
    "# Can take a long time to run.\n",
    "\n",
    "model_list, coherence_values = compute_coherence_values(dictionary = dictionary, corpus = corpus, texts = df['preprocessed'], start = 2, limit = 10, step = 1)"
   ]
  },
  {
   "cell_type": "code",
   "execution_count": 74,
   "metadata": {},
   "outputs": [
    {
     "data": {
      "image/png": "[encoded data removed]",
      "text/plain": [
       "<Figure size 432x288 with 1 Axes>"
      ]
     },
     "metadata": {
      "needs_background": "light"
     },
     "output_type": "display_data"
    }
   ],
   "source": [
    "# Show graph\n",
    "\n",
    "limit = 10; start = 2; step = 1;\n",
    "x = range(start, limit, step)\n",
    "plt.plot(x, coherence_values)\n",
    "plt.xlabel(\"Num Topics\")\n",
    "plt.ylabel(\"Coherence score\")\n",
    "plt.legend((\"coherence_values\"), loc = 'best')\n",
    "plt.show()\n"
   ]
  },
  {
   "cell_type": "code",
   "execution_count": 75,
   "metadata": {},
   "outputs": [
    {
     "name": "stdout",
     "output_type": "stream",
     "text": [
      "Num Topics = 2  has Coherence Value of 0.4687\n",
      "Num Topics = 3  has Coherence Value of 0.5248\n",
      "Num Topics = 4  has Coherence Value of 0.5329\n",
      "Num Topics = 5  has Coherence Value of 0.4656\n",
      "Num Topics = 6  has Coherence Value of 0.4923\n",
      "Num Topics = 7  has Coherence Value of 0.4721\n",
      "Num Topics = 8  has Coherence Value of 0.5109\n",
      "Num Topics = 9  has Coherence Value of 0.5051\n"
     ]
    }
   ],
   "source": [
    "# Print the coherence scores\n",
    "\n",
    "for m, cv in zip(x, coherence_values):\n",
    "    print(\"Num Topics =\", m, \" has Coherence Value of\", round(cv, 4))"
   ]
  },
  {
   "cell_type": "markdown",
   "metadata": {},
   "source": [
    "## LDA Mallet Model\n",
    "\n",
    "Code reference:\n",
    "\n",
    "https://www.machinelearningplus.com/nlp/topic-modeling-gensim-python/#17howtofindtheoptimalnumberoftopicsforlda"
   ]
  },
  {
   "cell_type": "code",
   "execution_count": 76,
   "metadata": {},
   "outputs": [],
   "source": [
    "mallet_path = '/Users/siriamanda/Desktop/LNU-VT-2021/Thesis/11-data-analysis/mallet-2.0.8/bin/mallet' # update this path\n",
    "ldamallet = gensim.models.wrappers.LdaMallet(mallet_path, corpus = corpus, num_topics = 5, id2word = dictionary)"
   ]
  },
  {
   "cell_type": "code",
   "execution_count": 77,
   "metadata": {},
   "outputs": [
    {
     "name": "stdout",
     "output_type": "stream",
     "text": [
      "[(0,\n",
      "  [('easy', 0.05201506066099568),\n",
      "   ('beginner', 0.04504253242225631),\n",
      "   ('understand', 0.043926927904058014),\n",
      "   ('content', 0.043648026774508436),\n",
      "   ('learn', 0.03862780644261609),\n",
      "   ('intro', 0.02886626690838098),\n",
      "   ('program', 0.025380002789011296),\n",
      "   ('follow', 0.02356714544693906),\n",
      "   ('thing', 0.023148793752614697),\n",
      "   ('complete', 0.02161483754009204)]),\n",
      " (1,\n",
      "  [('video', 0.02747971735147867),\n",
      "   ('make', 0.025255168803978018),\n",
      "   ('work', 0.025255168803978018),\n",
      "   ('time', 0.024077466631771786),\n",
      "   ('lecture', 0.023292331850300968),\n",
      "   ('voice', 0.02211462967809474),\n",
      "   ('find', 0.01517927244176917),\n",
      "   ('teach', 0.014655849254121958),\n",
      "   ('point', 0.014263281863386547),\n",
      "   ('quiz', 0.012038733315885893)]),\n",
      " (2,\n",
      "  [('data', 0.2290894653255691),\n",
      "   ('science', 0.16596082583377447),\n",
      "   ('introduction', 0.09237691900476443),\n",
      "   ('tool', 0.07980412916887242),\n",
      "   ('specialization', 0.0378507146638433),\n",
      "   ('scientist', 0.03480677607199577),\n",
      "   ('start', 0.03467443091582848),\n",
      "   ('introductory', 0.027130757014293277),\n",
      "   ('give', 0.024880889359449446),\n",
      "   ('overview', 0.02196929592376919)]),\n",
      " (3,\n",
      "  [('github', 0.057174271577789995),\n",
      "   ('git', 0.044255085211654756),\n",
      "   ('rstudio', 0.02748763056624519),\n",
      "   ('set', 0.0254260582737768),\n",
      "   ('experience', 0.024326553051126992),\n",
      "   ('clear', 0.02240241891148983),\n",
      "   ('step', 0.022264980758658605),\n",
      "   ('explain', 0.019516217702034086),\n",
      "   ('simple', 0.017592083562396922),\n",
      "   ('people', 0.01690489279824079)]),\n",
      " (4,\n",
      "  [('basic', 0.08431178384495686),\n",
      "   ('learn', 0.05729240345169048),\n",
      "   ('excellent', 0.055594850756825576),\n",
      "   ('start', 0.05078511812137502),\n",
      "   ('lot', 0.036921771113311644),\n",
      "   ('helpful', 0.03649738293959542),\n",
      "   ('material', 0.031404724855000704),\n",
      "   ('knowledge', 0.02235111048238789),\n",
      "   ('information', 0.02206818503324374),\n",
      "   ('recommend', 0.021643796859527515)])]\n",
      "\n",
      "Coherence Score:  0.40982667514265686\n"
     ]
    }
   ],
   "source": [
    "# Show Topics\n",
    "pprint(ldamallet.show_topics(formatted = False))\n",
    "\n",
    "# Compute Coherence Score\n",
    "coherence_model_ldamallet = CoherenceModel(model = ldamallet, texts = df['preprocessed'], dictionary = dictionary, coherence = 'c_v')\n",
    "coherence_ldamallet = coherence_model_ldamallet.get_coherence()\n",
    "print('\\nCoherence Score: ', coherence_ldamallet)\n",
    "\n",
    "# The coherence score using the Mallet Model is lower than the original LDA Model"
   ]
  },
  {
   "cell_type": "code",
   "execution_count": null,
   "metadata": {},
   "outputs": [],
   "source": []
  },
  {
   "cell_type": "code",
   "execution_count": null,
   "metadata": {},
   "outputs": [],
   "source": []
  }
 ],
 "metadata": {
  "kernelspec": {
   "display_name": "Python 3",
   "language": "python",
   "name": "python3"
  },
  "language_info": {
   "codemirror_mode": {
    "name": "ipython",
    "version": 3
   },
   "file_extension": ".py",
   "mimetype": "text/x-python",
   "name": "python",
   "nbconvert_exporter": "python",
   "pygments_lexer": "ipython3",
   "version": "3.7.6"
  }
 },
 "nbformat": 4,
 "nbformat_minor": 4
}
