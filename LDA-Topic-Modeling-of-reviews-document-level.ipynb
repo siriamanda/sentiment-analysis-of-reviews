{
 "cells": [
  {
   "cell_type": "code",
   "execution_count": 2,
   "metadata": {},
   "outputs": [],
   "source": [
    "# Import the libraries\n",
    "\n",
    "import pandas as pd \n",
    "import numpy as np\n",
    "\n",
    "from pprint import pprint\n",
    "\n",
    "# libraries for visualization\n",
    "import pyLDAvis\n",
    "import pyLDAvis.gensim\n",
    "import matplotlib.pyplot as plt\n",
    "import seaborn as sns\n",
    "%matplotlib inline\n",
    "\n",
    "import re\n",
    "\n",
    "import spacy\n",
    "\n",
    "import gensim\n",
    "from gensim import corpora\n",
    "from gensim.utils import simple_preprocess\n",
    "from gensim.models import CoherenceModel\n",
    "\n",
    "import nltk\n",
    "from nltk import FreqDist\n",
    "from nltk.corpus import stopwords\n",
    "from nltk.tokenize import RegexpTokenizer\n",
    "from nltk.stem import WordNetLemmatizer, SnowballStemmer\n",
    "from nltk.tag import pos_tag, pos_tag_sents\n",
    "from nltk.corpus import wordnet\n",
    "\n",
    "import warnings\n",
    "warnings.filterwarnings(\"ignore\")\n"
   ]
  },
  {
   "cell_type": "markdown",
   "metadata": {},
   "source": [
    "Code references:\n",
    "\n",
    "https://www.analyticsvidhya.com/blog/2018/10/mining-online-reviews-topic-modeling-lda/\n"
   ]
  },
  {
   "cell_type": "code",
   "execution_count": 9,
   "metadata": {},
   "outputs": [],
   "source": [
    "df = pd.read_csv('sentiment-document-level.csv')"
   ]
  },
  {
   "cell_type": "code",
   "execution_count": 10,
   "metadata": {},
   "outputs": [
    {
     "data": {
      "text/html": [
       "<div>\n",
       "<style scoped>\n",
       "    .dataframe tbody tr th:only-of-type {\n",
       "        vertical-align: middle;\n",
       "    }\n",
       "\n",
       "    .dataframe tbody tr th {\n",
       "        vertical-align: top;\n",
       "    }\n",
       "\n",
       "    .dataframe thead th {\n",
       "        text-align: right;\n",
       "    }\n",
       "</style>\n",
       "<table border=\"1\" class=\"dataframe\">\n",
       "  <thead>\n",
       "    <tr style=\"text-align: right;\">\n",
       "      <th></th>\n",
       "      <th>Unnamed: 0</th>\n",
       "      <th>date</th>\n",
       "      <th>review</th>\n",
       "      <th>rating</th>\n",
       "      <th>status</th>\n",
       "      <th>length</th>\n",
       "      <th>label</th>\n",
       "      <th>language_score</th>\n",
       "      <th>language</th>\n",
       "      <th>scores</th>\n",
       "      <th>compound</th>\n",
       "      <th>sentiment</th>\n",
       "    </tr>\n",
       "  </thead>\n",
       "  <tbody>\n",
       "    <tr>\n",
       "      <th>0</th>\n",
       "      <td>0</td>\n",
       "      <td>2021-03-11</td>\n",
       "      <td>Nice Course for beginners where we can enjoy a...</td>\n",
       "      <td>5</td>\n",
       "      <td>completer</td>\n",
       "      <td>135</td>\n",
       "      <td>pos</td>\n",
       "      <td>{'language': 'en', 'score': 0.9999952554167907}</td>\n",
       "      <td>en</td>\n",
       "      <td>{'neg': 0.0, 'neu': 0.601, 'pos': 0.399, 'comp...</td>\n",
       "      <td>0.9062</td>\n",
       "      <td>pos</td>\n",
       "    </tr>\n",
       "    <tr>\n",
       "      <th>1</th>\n",
       "      <td>1</td>\n",
       "      <td>2021-03-11</td>\n",
       "      <td>Super easy and totally for the beginners like ...</td>\n",
       "      <td>5</td>\n",
       "      <td>completer</td>\n",
       "      <td>163</td>\n",
       "      <td>pos</td>\n",
       "      <td>{'language': 'en', 'score': 0.9999965355369269}</td>\n",
       "      <td>en</td>\n",
       "      <td>{'neg': 0.0, 'neu': 0.453, 'pos': 0.547, 'comp...</td>\n",
       "      <td>0.9678</td>\n",
       "      <td>pos</td>\n",
       "    </tr>\n",
       "    <tr>\n",
       "      <th>2</th>\n",
       "      <td>2</td>\n",
       "      <td>2021-03-11</td>\n",
       "      <td>Very interactive and a nice course to start pr...</td>\n",
       "      <td>5</td>\n",
       "      <td>completer</td>\n",
       "      <td>67</td>\n",
       "      <td>pos</td>\n",
       "      <td>{'language': 'en', 'score': 0.9999969728448782}</td>\n",
       "      <td>en</td>\n",
       "      <td>{'neg': 0.0, 'neu': 0.746, 'pos': 0.254, 'comp...</td>\n",
       "      <td>0.4703</td>\n",
       "      <td>pos</td>\n",
       "    </tr>\n",
       "    <tr>\n",
       "      <th>3</th>\n",
       "      <td>3</td>\n",
       "      <td>2021-03-11</td>\n",
       "      <td>Awesome course! Definitely a very nice introdu...</td>\n",
       "      <td>5</td>\n",
       "      <td>completer</td>\n",
       "      <td>166</td>\n",
       "      <td>pos</td>\n",
       "      <td>{'language': 'en', 'score': 0.9999975171629499}</td>\n",
       "      <td>en</td>\n",
       "      <td>{'neg': 0.0, 'neu': 0.553, 'pos': 0.447, 'comp...</td>\n",
       "      <td>0.9448</td>\n",
       "      <td>pos</td>\n",
       "    </tr>\n",
       "    <tr>\n",
       "      <th>4</th>\n",
       "      <td>4</td>\n",
       "      <td>2021-03-11</td>\n",
       "      <td>Perfect for new learners</td>\n",
       "      <td>5</td>\n",
       "      <td>completer</td>\n",
       "      <td>24</td>\n",
       "      <td>pos</td>\n",
       "      <td>{'language': 'en', 'score': 0.9999971873771439}</td>\n",
       "      <td>en</td>\n",
       "      <td>{'neg': 0.0, 'neu': 0.448, 'pos': 0.552, 'comp...</td>\n",
       "      <td>0.5719</td>\n",
       "      <td>pos</td>\n",
       "    </tr>\n",
       "  </tbody>\n",
       "</table>\n",
       "</div>"
      ],
      "text/plain": [
       "   Unnamed: 0        date                                             review  \\\n",
       "0           0  2021-03-11  Nice Course for beginners where we can enjoy a...   \n",
       "1           1  2021-03-11  Super easy and totally for the beginners like ...   \n",
       "2           2  2021-03-11  Very interactive and a nice course to start pr...   \n",
       "3           3  2021-03-11  Awesome course! Definitely a very nice introdu...   \n",
       "4           4  2021-03-11                           Perfect for new learners   \n",
       "\n",
       "   rating     status  length label  \\\n",
       "0       5  completer     135   pos   \n",
       "1       5  completer     163   pos   \n",
       "2       5  completer      67   pos   \n",
       "3       5  completer     166   pos   \n",
       "4       5  completer      24   pos   \n",
       "\n",
       "                                    language_score language  \\\n",
       "0  {'language': 'en', 'score': 0.9999952554167907}       en   \n",
       "1  {'language': 'en', 'score': 0.9999965355369269}       en   \n",
       "2  {'language': 'en', 'score': 0.9999969728448782}       en   \n",
       "3  {'language': 'en', 'score': 0.9999975171629499}       en   \n",
       "4  {'language': 'en', 'score': 0.9999971873771439}       en   \n",
       "\n",
       "                                              scores  compound sentiment  \n",
       "0  {'neg': 0.0, 'neu': 0.601, 'pos': 0.399, 'comp...    0.9062       pos  \n",
       "1  {'neg': 0.0, 'neu': 0.453, 'pos': 0.547, 'comp...    0.9678       pos  \n",
       "2  {'neg': 0.0, 'neu': 0.746, 'pos': 0.254, 'comp...    0.4703       pos  \n",
       "3  {'neg': 0.0, 'neu': 0.553, 'pos': 0.447, 'comp...    0.9448       pos  \n",
       "4  {'neg': 0.0, 'neu': 0.448, 'pos': 0.552, 'comp...    0.5719       pos  "
      ]
     },
     "execution_count": 10,
     "metadata": {},
     "output_type": "execute_result"
    }
   ],
   "source": [
    "df.head()"
   ]
  },
  {
   "cell_type": "code",
   "execution_count": 12,
   "metadata": {},
   "outputs": [],
   "source": [
    "df.drop(['Unnamed: 0', 'date', 'language_score', 'language', 'scores'], axis = 1, inplace = True)"
   ]
  },
  {
   "cell_type": "code",
   "execution_count": 13,
   "metadata": {},
   "outputs": [
    {
     "data": {
      "text/html": [
       "<div>\n",
       "<style scoped>\n",
       "    .dataframe tbody tr th:only-of-type {\n",
       "        vertical-align: middle;\n",
       "    }\n",
       "\n",
       "    .dataframe tbody tr th {\n",
       "        vertical-align: top;\n",
       "    }\n",
       "\n",
       "    .dataframe thead th {\n",
       "        text-align: right;\n",
       "    }\n",
       "</style>\n",
       "<table border=\"1\" class=\"dataframe\">\n",
       "  <thead>\n",
       "    <tr style=\"text-align: right;\">\n",
       "      <th></th>\n",
       "      <th>review</th>\n",
       "      <th>rating</th>\n",
       "      <th>status</th>\n",
       "      <th>length</th>\n",
       "      <th>label</th>\n",
       "      <th>compound</th>\n",
       "      <th>sentiment</th>\n",
       "    </tr>\n",
       "  </thead>\n",
       "  <tbody>\n",
       "    <tr>\n",
       "      <th>0</th>\n",
       "      <td>Nice Course for beginners where we can enjoy a...</td>\n",
       "      <td>5</td>\n",
       "      <td>completer</td>\n",
       "      <td>135</td>\n",
       "      <td>pos</td>\n",
       "      <td>0.9062</td>\n",
       "      <td>pos</td>\n",
       "    </tr>\n",
       "    <tr>\n",
       "      <th>1</th>\n",
       "      <td>Super easy and totally for the beginners like ...</td>\n",
       "      <td>5</td>\n",
       "      <td>completer</td>\n",
       "      <td>163</td>\n",
       "      <td>pos</td>\n",
       "      <td>0.9678</td>\n",
       "      <td>pos</td>\n",
       "    </tr>\n",
       "    <tr>\n",
       "      <th>2</th>\n",
       "      <td>Very interactive and a nice course to start pr...</td>\n",
       "      <td>5</td>\n",
       "      <td>completer</td>\n",
       "      <td>67</td>\n",
       "      <td>pos</td>\n",
       "      <td>0.4703</td>\n",
       "      <td>pos</td>\n",
       "    </tr>\n",
       "    <tr>\n",
       "      <th>3</th>\n",
       "      <td>Awesome course! Definitely a very nice introdu...</td>\n",
       "      <td>5</td>\n",
       "      <td>completer</td>\n",
       "      <td>166</td>\n",
       "      <td>pos</td>\n",
       "      <td>0.9448</td>\n",
       "      <td>pos</td>\n",
       "    </tr>\n",
       "    <tr>\n",
       "      <th>4</th>\n",
       "      <td>Perfect for new learners</td>\n",
       "      <td>5</td>\n",
       "      <td>completer</td>\n",
       "      <td>24</td>\n",
       "      <td>pos</td>\n",
       "      <td>0.5719</td>\n",
       "      <td>pos</td>\n",
       "    </tr>\n",
       "    <tr>\n",
       "      <th>...</th>\n",
       "      <td>...</td>\n",
       "      <td>...</td>\n",
       "      <td>...</td>\n",
       "      <td>...</td>\n",
       "      <td>...</td>\n",
       "      <td>...</td>\n",
       "      <td>...</td>\n",
       "    </tr>\n",
       "    <tr>\n",
       "      <th>9686</th>\n",
       "      <td>excellent explanation starting with how comput...</td>\n",
       "      <td>5</td>\n",
       "      <td>dropout</td>\n",
       "      <td>129</td>\n",
       "      <td>pos</td>\n",
       "      <td>0.9080</td>\n",
       "      <td>pos</td>\n",
       "    </tr>\n",
       "    <tr>\n",
       "      <th>9687</th>\n",
       "      <td>My friend recommanded the lecture. It really d...</td>\n",
       "      <td>5</td>\n",
       "      <td>dropout</td>\n",
       "      <td>69</td>\n",
       "      <td>pos</td>\n",
       "      <td>0.5411</td>\n",
       "      <td>pos</td>\n",
       "    </tr>\n",
       "    <tr>\n",
       "      <th>9688</th>\n",
       "      <td>Highly recommend this sets  a good foundation ...</td>\n",
       "      <td>5</td>\n",
       "      <td>dropout</td>\n",
       "      <td>56</td>\n",
       "      <td>pos</td>\n",
       "      <td>0.6901</td>\n",
       "      <td>pos</td>\n",
       "    </tr>\n",
       "    <tr>\n",
       "      <th>9689</th>\n",
       "      <td>best python programming course for absolute be...</td>\n",
       "      <td>5</td>\n",
       "      <td>dropout</td>\n",
       "      <td>53</td>\n",
       "      <td>pos</td>\n",
       "      <td>0.6369</td>\n",
       "      <td>pos</td>\n",
       "    </tr>\n",
       "    <tr>\n",
       "      <th>9690</th>\n",
       "      <td>best one</td>\n",
       "      <td>4</td>\n",
       "      <td>completer</td>\n",
       "      <td>8</td>\n",
       "      <td>pos</td>\n",
       "      <td>0.6369</td>\n",
       "      <td>pos</td>\n",
       "    </tr>\n",
       "  </tbody>\n",
       "</table>\n",
       "<p>9691 rows × 7 columns</p>\n",
       "</div>"
      ],
      "text/plain": [
       "                                                 review  rating     status  \\\n",
       "0     Nice Course for beginners where we can enjoy a...       5  completer   \n",
       "1     Super easy and totally for the beginners like ...       5  completer   \n",
       "2     Very interactive and a nice course to start pr...       5  completer   \n",
       "3     Awesome course! Definitely a very nice introdu...       5  completer   \n",
       "4                              Perfect for new learners       5  completer   \n",
       "...                                                 ...     ...        ...   \n",
       "9686  excellent explanation starting with how comput...       5    dropout   \n",
       "9687  My friend recommanded the lecture. It really d...       5    dropout   \n",
       "9688  Highly recommend this sets  a good foundation ...       5    dropout   \n",
       "9689  best python programming course for absolute be...       5    dropout   \n",
       "9690                                           best one       4  completer   \n",
       "\n",
       "      length label  compound sentiment  \n",
       "0        135   pos    0.9062       pos  \n",
       "1        163   pos    0.9678       pos  \n",
       "2         67   pos    0.4703       pos  \n",
       "3        166   pos    0.9448       pos  \n",
       "4         24   pos    0.5719       pos  \n",
       "...      ...   ...       ...       ...  \n",
       "9686     129   pos    0.9080       pos  \n",
       "9687      69   pos    0.5411       pos  \n",
       "9688      56   pos    0.6901       pos  \n",
       "9689      53   pos    0.6369       pos  \n",
       "9690       8   pos    0.6369       pos  \n",
       "\n",
       "[9691 rows x 7 columns]"
      ]
     },
     "execution_count": 13,
     "metadata": {},
     "output_type": "execute_result"
    }
   ],
   "source": [
    "df"
   ]
  },
  {
   "cell_type": "code",
   "execution_count": 14,
   "metadata": {},
   "outputs": [
    {
     "data": {
      "text/plain": [
       "0"
      ]
     },
     "execution_count": 14,
     "metadata": {},
     "output_type": "execute_result"
    }
   ],
   "source": [
    "# Check for null values\n",
    "\n",
    "len(df[df['review'].isna()==True])"
   ]
  },
  {
   "cell_type": "code",
   "execution_count": 42,
   "metadata": {},
   "outputs": [],
   "source": [
    "# Drop null values\n",
    "\n",
    "# df.dropna(inplace = True)"
   ]
  },
  {
   "cell_type": "code",
   "execution_count": 15,
   "metadata": {},
   "outputs": [],
   "source": [
    "# Check for null values\n",
    "\n",
    "# len(df[df['review'].isna()==True])"
   ]
  },
  {
   "cell_type": "code",
   "execution_count": 16,
   "metadata": {},
   "outputs": [],
   "source": [
    "# Reset the index\n",
    "\n",
    "# df = df.reset_index(drop = True)"
   ]
  },
  {
   "cell_type": "code",
   "execution_count": 17,
   "metadata": {},
   "outputs": [
    {
     "data": {
      "text/html": [
       "<div>\n",
       "<style scoped>\n",
       "    .dataframe tbody tr th:only-of-type {\n",
       "        vertical-align: middle;\n",
       "    }\n",
       "\n",
       "    .dataframe tbody tr th {\n",
       "        vertical-align: top;\n",
       "    }\n",
       "\n",
       "    .dataframe thead th {\n",
       "        text-align: right;\n",
       "    }\n",
       "</style>\n",
       "<table border=\"1\" class=\"dataframe\">\n",
       "  <thead>\n",
       "    <tr style=\"text-align: right;\">\n",
       "      <th></th>\n",
       "      <th>review</th>\n",
       "      <th>rating</th>\n",
       "      <th>status</th>\n",
       "      <th>length</th>\n",
       "      <th>label</th>\n",
       "      <th>compound</th>\n",
       "      <th>sentiment</th>\n",
       "    </tr>\n",
       "  </thead>\n",
       "  <tbody>\n",
       "    <tr>\n",
       "      <th>0</th>\n",
       "      <td>Nice Course for beginners where we can enjoy a...</td>\n",
       "      <td>5</td>\n",
       "      <td>completer</td>\n",
       "      <td>135</td>\n",
       "      <td>pos</td>\n",
       "      <td>0.9062</td>\n",
       "      <td>pos</td>\n",
       "    </tr>\n",
       "    <tr>\n",
       "      <th>1</th>\n",
       "      <td>Super easy and totally for the beginners like ...</td>\n",
       "      <td>5</td>\n",
       "      <td>completer</td>\n",
       "      <td>163</td>\n",
       "      <td>pos</td>\n",
       "      <td>0.9678</td>\n",
       "      <td>pos</td>\n",
       "    </tr>\n",
       "    <tr>\n",
       "      <th>2</th>\n",
       "      <td>Very interactive and a nice course to start pr...</td>\n",
       "      <td>5</td>\n",
       "      <td>completer</td>\n",
       "      <td>67</td>\n",
       "      <td>pos</td>\n",
       "      <td>0.4703</td>\n",
       "      <td>pos</td>\n",
       "    </tr>\n",
       "    <tr>\n",
       "      <th>3</th>\n",
       "      <td>Awesome course! Definitely a very nice introdu...</td>\n",
       "      <td>5</td>\n",
       "      <td>completer</td>\n",
       "      <td>166</td>\n",
       "      <td>pos</td>\n",
       "      <td>0.9448</td>\n",
       "      <td>pos</td>\n",
       "    </tr>\n",
       "    <tr>\n",
       "      <th>4</th>\n",
       "      <td>Perfect for new learners</td>\n",
       "      <td>5</td>\n",
       "      <td>completer</td>\n",
       "      <td>24</td>\n",
       "      <td>pos</td>\n",
       "      <td>0.5719</td>\n",
       "      <td>pos</td>\n",
       "    </tr>\n",
       "    <tr>\n",
       "      <th>...</th>\n",
       "      <td>...</td>\n",
       "      <td>...</td>\n",
       "      <td>...</td>\n",
       "      <td>...</td>\n",
       "      <td>...</td>\n",
       "      <td>...</td>\n",
       "      <td>...</td>\n",
       "    </tr>\n",
       "    <tr>\n",
       "      <th>9686</th>\n",
       "      <td>excellent explanation starting with how comput...</td>\n",
       "      <td>5</td>\n",
       "      <td>dropout</td>\n",
       "      <td>129</td>\n",
       "      <td>pos</td>\n",
       "      <td>0.9080</td>\n",
       "      <td>pos</td>\n",
       "    </tr>\n",
       "    <tr>\n",
       "      <th>9687</th>\n",
       "      <td>My friend recommanded the lecture. It really d...</td>\n",
       "      <td>5</td>\n",
       "      <td>dropout</td>\n",
       "      <td>69</td>\n",
       "      <td>pos</td>\n",
       "      <td>0.5411</td>\n",
       "      <td>pos</td>\n",
       "    </tr>\n",
       "    <tr>\n",
       "      <th>9688</th>\n",
       "      <td>Highly recommend this sets  a good foundation ...</td>\n",
       "      <td>5</td>\n",
       "      <td>dropout</td>\n",
       "      <td>56</td>\n",
       "      <td>pos</td>\n",
       "      <td>0.6901</td>\n",
       "      <td>pos</td>\n",
       "    </tr>\n",
       "    <tr>\n",
       "      <th>9689</th>\n",
       "      <td>best python programming course for absolute be...</td>\n",
       "      <td>5</td>\n",
       "      <td>dropout</td>\n",
       "      <td>53</td>\n",
       "      <td>pos</td>\n",
       "      <td>0.6369</td>\n",
       "      <td>pos</td>\n",
       "    </tr>\n",
       "    <tr>\n",
       "      <th>9690</th>\n",
       "      <td>best one</td>\n",
       "      <td>4</td>\n",
       "      <td>completer</td>\n",
       "      <td>8</td>\n",
       "      <td>pos</td>\n",
       "      <td>0.6369</td>\n",
       "      <td>pos</td>\n",
       "    </tr>\n",
       "  </tbody>\n",
       "</table>\n",
       "<p>9691 rows × 7 columns</p>\n",
       "</div>"
      ],
      "text/plain": [
       "                                                 review  rating     status  \\\n",
       "0     Nice Course for beginners where we can enjoy a...       5  completer   \n",
       "1     Super easy and totally for the beginners like ...       5  completer   \n",
       "2     Very interactive and a nice course to start pr...       5  completer   \n",
       "3     Awesome course! Definitely a very nice introdu...       5  completer   \n",
       "4                              Perfect for new learners       5  completer   \n",
       "...                                                 ...     ...        ...   \n",
       "9686  excellent explanation starting with how comput...       5    dropout   \n",
       "9687  My friend recommanded the lecture. It really d...       5    dropout   \n",
       "9688  Highly recommend this sets  a good foundation ...       5    dropout   \n",
       "9689  best python programming course for absolute be...       5    dropout   \n",
       "9690                                           best one       4  completer   \n",
       "\n",
       "      length label  compound sentiment  \n",
       "0        135   pos    0.9062       pos  \n",
       "1        163   pos    0.9678       pos  \n",
       "2         67   pos    0.4703       pos  \n",
       "3        166   pos    0.9448       pos  \n",
       "4         24   pos    0.5719       pos  \n",
       "...      ...   ...       ...       ...  \n",
       "9686     129   pos    0.9080       pos  \n",
       "9687      69   pos    0.5411       pos  \n",
       "9688      56   pos    0.6901       pos  \n",
       "9689      53   pos    0.6369       pos  \n",
       "9690       8   pos    0.6369       pos  \n",
       "\n",
       "[9691 rows x 7 columns]"
      ]
     },
     "execution_count": 17,
     "metadata": {},
     "output_type": "execute_result"
    }
   ],
   "source": [
    "df"
   ]
  },
  {
   "cell_type": "code",
   "execution_count": 18,
   "metadata": {},
   "outputs": [],
   "source": [
    "# Define a function to plot the most frequent words\n",
    "\n",
    "def freq_words(x, terms = 30):\n",
    "    all_words = ' '.join([text for text in x])\n",
    "    all_words = all_words.split()\n",
    "\n",
    "    fdist = FreqDist(all_words)\n",
    "    words_df = pd.DataFrame({'word':list(fdist.keys()), 'count':list(fdist.values())})\n",
    "    \n",
    "    # selecting top 20 most frequent words\n",
    "    d = words_df.nlargest(columns=\"count\", n = terms) \n",
    "    plt.figure(figsize=(20,5))\n",
    "    ax = sns.barplot(data=d, x= \"word\", y = \"count\")\n",
    "    ax.set(ylabel = 'Count')\n",
    "    plt.xticks(rotation = 45)\n",
    "    plt.show()"
   ]
  },
  {
   "cell_type": "code",
   "execution_count": 19,
   "metadata": {},
   "outputs": [
    {
     "data": {
      "image/png": "[encoded data removed]",
      "text/plain": [
       "<Figure size 1440x360 with 1 Axes>"
      ]
     },
     "metadata": {
      "needs_background": "light"
     },
     "output_type": "display_data"
    }
   ],
   "source": [
    "# The most frquent words are stop words such as 'to' and 'the' we will remove these in the preprocessing steps\n",
    "\n",
    "freq_words(df['review'])"
   ]
  },
  {
   "cell_type": "markdown",
   "metadata": {},
   "source": [
    "## Preprocessing"
   ]
  },
  {
   "cell_type": "code",
   "execution_count": 20,
   "metadata": {},
   "outputs": [
    {
     "data": {
      "text/plain": [
       "0    nice course for beginners where we can enjoy a...\n",
       "1    super easy and totally for the beginners like ...\n",
       "2    very interactive and a nice course to start pr...\n",
       "3    awesome course! definitely a very nice introdu...\n",
       "4                             perfect for new learners\n",
       "Name: preprocessed, dtype: object"
      ]
     },
     "execution_count": 20,
     "metadata": {},
     "output_type": "execute_result"
    }
   ],
   "source": [
    "# Covert to lowercase\n",
    "\n",
    "df['preprocessed'] =  df['review'].apply(lambda x: \" \".join(x.lower() for x in x.split()))\n",
    "df['preprocessed'].head()"
   ]
  },
  {
   "cell_type": "code",
   "execution_count": 21,
   "metadata": {},
   "outputs": [
    {
     "data": {
      "text/plain": [
       "0    nice course for beginners where we can enjoy a...\n",
       "1    super easy and totally for the beginners like ...\n",
       "2    very interactive and a nice course to start pr...\n",
       "3    awesome course definitely a very nice introduc...\n",
       "4                             perfect for new learners\n",
       "Name: preprocessed, dtype: object"
      ]
     },
     "execution_count": 21,
     "metadata": {},
     "output_type": "execute_result"
    }
   ],
   "source": [
    "# Remove punctuations\n",
    "\n",
    "df['preprocessed'] = df['preprocessed'].str.replace('[^\\w\\s]','')\n",
    "df['preprocessed'].head()"
   ]
  },
  {
   "cell_type": "code",
   "execution_count": 22,
   "metadata": {},
   "outputs": [
    {
     "data": {
      "text/plain": [
       "0    course beginners enjoy learn well dr chuck mad...\n",
       "1    super easy totally beginners course title prof...\n",
       "2          interactive course start programming pyhton\n",
       "3    awesome course definitely introduction coding ...\n",
       "4                                 perfect new learners\n",
       "Name: preprocessed, dtype: object"
      ]
     },
     "execution_count": 22,
     "metadata": {},
     "output_type": "execute_result"
    }
   ],
   "source": [
    "# Remove stopwords\n",
    "\n",
    "stop = stopwords.words('english')\n",
    "stop.extend(['good', 'great', 'really', 'like', 'nice'])\n",
    "\n",
    "df['preprocessed'] = df['preprocessed'].apply(lambda x: \" \".join(x for x in x.split() if x not in stop))\n",
    "df['preprocessed'].head()"
   ]
  },
  {
   "cell_type": "code",
   "execution_count": 23,
   "metadata": {},
   "outputs": [],
   "source": [
    "# Remove short words (length < 3)\n",
    "\n",
    "# df['review'] = df['review'].apply(lambda x: ' '.join([w for w in x.split() if len(w)>2]))\n",
    "# df['review'].head()"
   ]
  },
  {
   "cell_type": "code",
   "execution_count": 24,
   "metadata": {},
   "outputs": [
    {
     "data": {
      "image/png": "[encoded data removed]",
      "text/plain": [
       "<Figure size 1440x360 with 1 Axes>"
      ]
     },
     "metadata": {
      "needs_background": "light"
     },
     "output_type": "display_data"
    }
   ],
   "source": [
    "# Look at the most frequent words again \n",
    "\n",
    "freq_words(df['preprocessed'])"
   ]
  },
  {
   "cell_type": "code",
   "execution_count": 25,
   "metadata": {},
   "outputs": [
    {
     "data": {
      "text/plain": [
       "0    [course, beginners, enjoy, learn, well, dr, ch...\n",
       "1    [super, easy, totally, beginners, course, titl...\n",
       "2    [interactive, course, start, programming, pyhton]\n",
       "3    [awesome, course, definitely, introduction, co...\n",
       "4                             [perfect, new, learners]\n",
       "Name: preprocessed, dtype: object"
      ]
     },
     "execution_count": 25,
     "metadata": {},
     "output_type": "execute_result"
    }
   ],
   "source": [
    "# Tokenization\n",
    "\n",
    "tokenizer = RegexpTokenizer(r'\\w+')\n",
    "\n",
    "df['preprocessed'] = df['preprocessed'].apply(lambda x: tokenizer.tokenize(x.lower()))\n",
    "df['preprocessed'].head(5)\n"
   ]
  },
  {
   "cell_type": "code",
   "execution_count": 26,
   "metadata": {},
   "outputs": [
    {
     "data": {
      "text/plain": [
       "0    [(course, NN), (beginners, NNS), (enjoy, VBP),...\n",
       "1    [(super, JJ), (easy, JJ), (totally, RB), (begi...\n",
       "2    [(interactive, JJ), (course, NN), (start, NN),...\n",
       "3    [(awesome, JJ), (course, NN), (definitely, RB)...\n",
       "4          [(perfect, JJ), (new, JJ), (learners, NNS)]\n",
       "Name: preprocessed, dtype: object"
      ]
     },
     "execution_count": 26,
     "metadata": {},
     "output_type": "execute_result"
    }
   ],
   "source": [
    "# Add speech tags\n",
    "\n",
    "df['preprocessed'] = df['preprocessed'].apply(nltk.tag.pos_tag)\n",
    "df['preprocessed'].head()"
   ]
  },
  {
   "cell_type": "code",
   "execution_count": 27,
   "metadata": {},
   "outputs": [],
   "source": [
    "# Define function to convert parts of speech tags to wordnet’s format\n",
    "\n",
    "def get_wordnet_pos(tag):\n",
    "    if tag.startswith('J'):\n",
    "        return wordnet.ADJ\n",
    "    elif tag.startswith('V'):\n",
    "        return wordnet.VERB\n",
    "    elif tag.startswith('N'):\n",
    "        return wordnet.NOUN\n",
    "    elif tag.startswith('R'):\n",
    "        return wordnet.ADV\n",
    "    else:\n",
    "        return wordnet.NOUN"
   ]
  },
  {
   "cell_type": "code",
   "execution_count": 28,
   "metadata": {},
   "outputs": [
    {
     "data": {
      "text/plain": [
       "0    [(course, n), (beginners, n), (enjoy, v), (lea...\n",
       "1    [(super, a), (easy, a), (totally, r), (beginne...\n",
       "2    [(interactive, a), (course, n), (start, n), (p...\n",
       "3    [(awesome, a), (course, n), (definitely, r), (...\n",
       "4              [(perfect, a), (new, a), (learners, n)]\n",
       "Name: preprocessed, dtype: object"
      ]
     },
     "execution_count": 28,
     "metadata": {},
     "output_type": "execute_result"
    }
   ],
   "source": [
    "# Apply the function to the tagged data\n",
    "\n",
    "df['preprocessed'] = df['preprocessed'].apply(lambda x: [(word, get_wordnet_pos(pos_tag)) for (word, pos_tag) in x])\n",
    "df['preprocessed'].head()"
   ]
  },
  {
   "cell_type": "code",
   "execution_count": 29,
   "metadata": {},
   "outputs": [
    {
     "data": {
      "text/plain": [
       "0    [course, beginner, enjoy, learn, well, dr, chu...\n",
       "1    [super, easy, totally, beginner, course, title...\n",
       "2        [interactive, course, start, program, pyhton]\n",
       "3    [awesome, course, definitely, introduction, co...\n",
       "4                              [perfect, new, learner]\n",
       "Name: preprocessed, dtype: object"
      ]
     },
     "execution_count": 29,
     "metadata": {},
     "output_type": "execute_result"
    }
   ],
   "source": [
    "# Create lemmatizer\n",
    "\n",
    "lemmatizer = WordNetLemmatizer()\n",
    "\n",
    "# Apply to data \n",
    "\n",
    "df['preprocessed'] = df['preprocessed'].apply(lambda x: [lemmatizer.lemmatize(word, tag) for word, tag in x])\n",
    "df['preprocessed'].head()"
   ]
  },
  {
   "cell_type": "code",
   "execution_count": 30,
   "metadata": {},
   "outputs": [],
   "source": [
    "# Join reviews\n",
    "\n",
    "df['joined'] = df['preprocessed'].apply(lambda x: ' '.join(x))"
   ]
  },
  {
   "cell_type": "code",
   "execution_count": 31,
   "metadata": {},
   "outputs": [
    {
     "data": {
      "image/png": "[encoded data removed]",
      "text/plain": [
       "<Figure size 1440x360 with 1 Axes>"
      ]
     },
     "metadata": {
      "needs_background": "light"
     },
     "output_type": "display_data"
    }
   ],
   "source": [
    "# Most frequent words after lemmatizing \n",
    "\n",
    "freq_words(df['joined'], 35)"
   ]
  },
  {
   "cell_type": "markdown",
   "metadata": {},
   "source": [
    "## LDA Topic Modeling"
   ]
  },
  {
   "cell_type": "code",
   "execution_count": 32,
   "metadata": {},
   "outputs": [],
   "source": [
    "# Create a dictionary from 'df_sen['review']' containing the number of times a word appears in the training set\n",
    "\n",
    "dictionary = gensim.corpora.Dictionary(df['preprocessed'])"
   ]
  },
  {
   "cell_type": "code",
   "execution_count": 33,
   "metadata": {},
   "outputs": [],
   "source": [
    "# Gensim filter extremes\n",
    "\n",
    "# Filter out tokens that appear in:\n",
    "# Less than 50 documents, more than 0.5 documents, and keep only 100000 most frquent tokens\n",
    "\n",
    "dictionary.filter_extremes(no_below = 50, no_above = 0.5, keep_n = 100000)"
   ]
  },
  {
   "cell_type": "code",
   "execution_count": 34,
   "metadata": {},
   "outputs": [],
   "source": [
    "# Gensim doc2bow\n",
    "# Create a dictionary reporting how many words and how many times those words appear\n",
    "\n",
    "corpus = [dictionary.doc2bow(doc) for doc in df['preprocessed']]\n"
   ]
  },
  {
   "cell_type": "code",
   "execution_count": 35,
   "metadata": {},
   "outputs": [],
   "source": [
    "# Creating the object for LDA model using gensim library\n",
    "LDA = gensim.models.ldamodel.LdaModel\n",
    "\n",
    "# Build LDA model\n",
    "lda_model = LDA(corpus = corpus, id2word = dictionary, num_topics = 5, random_state = 100,\n",
    "                chunksize = 1000, passes = 50)"
   ]
  },
  {
   "cell_type": "code",
   "execution_count": 36,
   "metadata": {},
   "outputs": [
    {
     "name": "stdout",
     "output_type": "stream",
     "text": [
      "Topic: 0\n",
      "Word: 0.042*\"make\" + 0.032*\"course\" + 0.029*\"way\" + 0.024*\"class\" + 0.024*\"assignment\" + 0.023*\"well\" + 0.022*\"easy\" + 0.018*\"explain\" + 0.017*\"also\" + 0.017*\"think\"\n",
      "\n",
      "Topic: 1\n",
      "Word: 0.106*\"learn\" + 0.089*\"thank\" + 0.058*\"lot\" + 0.052*\"course\" + 0.050*\"experience\" + 0.049*\"teach\" + 0.048*\"awesome\" + 0.046*\"much\" + 0.044*\"coursera\" + 0.043*\"charles\"\n",
      "\n",
      "Topic: 2\n",
      "Word: 0.151*\"course\" + 0.119*\"excellent\" + 0.079*\"easy\" + 0.057*\"beginner\" + 0.057*\"understand\" + 0.056*\"helpful\" + 0.048*\"well\" + 0.044*\"useful\" + 0.034*\"explain\" + 0.032*\"clear\"\n",
      "\n",
      "Topic: 3\n",
      "Word: 0.340*\"course\" + 0.102*\"best\" + 0.099*\"beginner\" + 0.060*\"love\" + 0.053*\"amaze\" + 0.041*\"python\" + 0.037*\"one\" + 0.026*\"online\" + 0.024*\"ever\" + 0.020*\"instructor\"\n",
      "\n",
      "Topic: 4\n",
      "Word: 0.150*\"python\" + 0.104*\"course\" + 0.071*\"program\" + 0.062*\"learn\" + 0.058*\"basic\" + 0.047*\"start\" + 0.035*\"chuck\" + 0.028*\"language\" + 0.027*\"programming\" + 0.025*\"knowledge\"\n",
      "\n"
     ]
    }
   ],
   "source": [
    "# Explore the words occurring in each topic and its relative weight\n",
    "\n",
    "for id, topic in lda_model.print_topics(-1):\n",
    "    print('Topic: {}\\nWord: {}\\n'.format(id, topic))"
   ]
  },
  {
   "cell_type": "markdown",
   "metadata": {},
   "source": [
    "### Visualise with pyLDAvis\n",
    "\n",
    "Original paper: https://nlp.stanford.edu/events/illvi2014/papers/sievert-illvi2014.pdf"
   ]
  },
  {
   "cell_type": "code",
   "execution_count": 37,
   "metadata": {
    "scrolled": false
   },
   "outputs": [
    {
     "data": {
      "text/html": [
       "\n",
       "<link rel=\"stylesheet\" type=\"text/css\" href=\"https://cdn.jsdelivr.net/gh/bmabey/pyLDAvis@3.2.2/pyLDAvis/js/ldavis.v1.0.0.css\">\n",
       "\n",
       "\n",
       "<div id=\"ldavis_el261511404769388126248114852537\"></div>\n",
       "<script type=\"text/javascript\">\n",
       "\n",
       "var ldavis_el261511404769388126248114852537_data = {\"mdsDat\": {\"x\": [0.19850629348337828, -0.09548152138204252, 0.2742833584137797, -0.2754285632303518, -0.1018795672847633], \"y\": [0.1775763356284848, -0.22693099780596943, -0.15552046491565572, -0.03809602909855704, 0.24297115619169737], \"topics\": [1, 2, 3, 4, 5], \"cluster\": [1, 1, 1, 1, 1], \"Freq\": [27.744600632229176, 24.464928631977596, 18.11967838380427, 14.89615559491641, 14.774636757072543]}, \"tinfo\": {\"Term\": [\"course\", \"python\", \"excellent\", \"learn\", \"beginner\", \"best\", \"thank\", \"easy\", \"basic\", \"program\", \"lot\", \"love\", \"start\", \"helpful\", \"understand\", \"amaze\", \"awesome\", \"make\", \"experience\", \"well\", \"much\", \"teach\", \"coursera\", \"charles\", \"thanks\", \"useful\", \"chuck\", \"explain\", \"one\", \"dr\", \"basic\", \"start\", \"chuck\", \"language\", \"programming\", \"knowledge\", \"recommend\", \"want\", \"interest\", \"introduction\", \"highly\", \"anyone\", \"skill\", \"people\", \"everyone\", \"computer\", \"step\", \"learning\", \"world\", \"prior\", \"drchuck\", \"study\", \"without\", \"introductory\", \"mr\", \"opportunity\", \"programmer\", \"fundamental\", \"idea\", \"zero\", \"python\", \"program\", \"know\", \"learn\", \"new\", \"get\", \"dr\", \"help\", \"course\", \"take\", \"experience\", \"make\", \"class\", \"assignment\", \"think\", \"time\", \"work\", \"video\", \"every\", \"amazing\", \"student\", \"go\", \"interesting\", \"everything\", \"use\", \"code\", \"topic\", \"could\", \"university\", \"feel\", \"example\", \"never\", \"michigan\", \"quiz\", \"bit\", \"taught\", \"overall\", \"week\", \"structure\", \"keep\", \"problem\", \"also\", \"first\", \"way\", \"would\", \"well\", \"explain\", \"simple\", \"easy\", \"even\", \"instructor\", \"get\", \"understand\", \"course\", \"teach\", \"program\", \"thank\", \"lot\", \"awesome\", \"much\", \"coursera\", \"charles\", \"thanks\", \"enjoy\", \"sir\", \"wonderful\", \"happy\", \"russell\", \"prof\", \"fantastic\", \"lecturer\", \"severance\", \"u\", \"experience\", \"style\", \"teach\", \"fun\", \"platform\", \"interactive\", \"many\", \"thing\", \"learn\", \"teacher\", \"im\", \"professor\", \"dr\", \"way\", \"course\", \"instructor\", \"excellent\", \"helpful\", \"useful\", \"clear\", \"explanation\", \"perfect\", \"informative\", \"easily\", \"understandable\", \"super\", \"must\", \"design\", \"practice\", \"journey\", \"follow\", \"understand\", \"easy\", \"engage\", \"concept\", \"pretty\", \"well\", \"content\", \"extremely\", \"explain\", \"material\", \"teaching\", \"beginner\", \"clearly\", \"instructor\", \"lecture\", \"course\", \"professor\", \"simple\", \"best\", \"love\", \"amaze\", \"online\", \"ever\", \"learnt\", \"forward\", \"everybody\", \"specialization\", \"gain\", \"information\", \"friendly\", \"one\", \"look\", \"next\", \"level\", \"beginner\", \"ive\", \"complete\", \"see\", \"course\", \"especially\", \"interactive\", \"platform\", \"take\", \"teaching\", \"part\", \"teacher\", \"instructor\", \"continue\", \"python\"], \"Freq\": [5600.0, 2239.0, 837.0, 1720.0, 1089.0, 708.0, 761.0, 810.0, 764.0, 1085.0, 495.0, 419.0, 609.0, 392.0, 578.0, 369.0, 413.0, 481.0, 565.0, 595.0, 389.0, 594.0, 373.0, 370.0, 363.0, 312.0, 453.0, 446.0, 344.0, 556.0, 763.6202962288774, 609.0005419615293, 452.6569463630563, 368.4423603276711, 350.3694731089205, 322.0260722879746, 315.462355290032, 286.0602103762664, 182.69085307637215, 179.30426864948453, 149.54268799984993, 143.3747347606339, 126.71446745548626, 123.64841152498384, 111.17269203962636, 107.51895186795305, 95.60054999782787, 95.21361883943436, 91.55534070643289, 84.52972494231093, 81.88450713594352, 75.9920616802579, 73.73089774581186, 71.45745820015908, 72.9754610119511, 68.65135567367483, 66.5173945667531, 59.46837119513683, 58.88910590634956, 53.01070623177215, 1956.5682324501126, 932.6030752494509, 184.9340415741899, 815.303271622562, 141.82657214687808, 255.43522479489772, 295.17489427867497, 200.16657864946228, 1359.9540620168523, 154.16966879996139, 135.35494048216023, 480.3149044917347, 276.18336050372966, 275.5024778859305, 198.80882018464678, 188.96764827365735, 184.73276179320314, 177.06246912671475, 168.01348249249702, 168.0383284643698, 160.73821503166505, 154.7922392499293, 152.73435768320732, 150.61395352405236, 129.02360856412304, 126.60558914085098, 119.46435690133973, 118.42909734533923, 112.71194910248383, 102.25483095873237, 97.64835988080053, 94.89486619741001, 94.81303326414329, 90.92330839812583, 90.35563801744824, 88.40403842108195, 85.34066204316129, 84.093015557907, 82.79519437038626, 82.68802197875875, 75.67940886890707, 199.48513268844863, 182.5223499898285, 335.2659229968004, 174.77215542415675, 260.0238236159921, 208.6157484245576, 128.18078728249833, 255.47771880910014, 114.4485065977317, 194.91293746549675, 161.0055774284759, 179.31508475277832, 371.3607691714393, 178.3430772909756, 151.9716743160428, 760.8478808937863, 494.59872913844237, 412.83962332626953, 388.34679797295195, 373.04789567299787, 369.8105607741092, 362.7199201568213, 264.3279336523558, 204.3480412784263, 187.11407972735466, 89.32116385751392, 73.17353379585386, 69.111800409411, 61.331426459030375, 48.8463771331638, 254.41663867016584, 120.94315780015145, 429.72506127139957, 49.93403155665319, 415.06065881359564, 217.69068559981773, 79.48268984122892, 38.7942671407992, 59.98044061688065, 123.7592275826937, 904.5521790943706, 204.41662726617224, 69.87473212203443, 153.42553562636976, 260.8718736526017, 210.5006620429183, 446.6089418887263, 87.79518919456685, 836.8369635611355, 391.20254819159953, 311.23130861033417, 227.55379938606035, 205.9776663961945, 133.36207218379667, 128.78175259202018, 124.3783985574668, 101.37009347682162, 73.26705242583839, 65.97427777483122, 58.65257279557436, 58.450622251773, 55.769938950638185, 95.54292180843889, 398.66264060239814, 554.1865722457268, 45.428532163475644, 197.3019515090068, 39.61395423473288, 334.7206187737637, 116.0463203170528, 29.776858787115838, 237.18375133188135, 72.96597843855332, 41.75223470632713, 401.74638236021576, 21.028439221991068, 223.7686751658041, 69.56657015488437, 1058.606343366958, 76.68206571158197, 55.314023366794224, 707.5684823461091, 418.77773012215505, 368.9919081079348, 179.08931916375377, 164.65289393740156, 111.38528250000532, 97.83294560840667, 95.87994355406991, 56.15579313974957, 55.33066778267877, 52.832554586955055, 86.01026282117928, 255.11930922599637, 120.91937765790279, 63.72628055223603, 45.17878950002244, 686.6780308714436, 50.45367929066686, 132.75271148735746, 36.164321374873836, 2364.0765153490825, 28.287276364705253, 18.850545273323686, 37.02518991927304, 89.11761368868268, 27.692823168815274, 20.93157849173283, 89.62299398064214, 140.05169450409045, 14.238094916022124, 282.6925770373049], \"Total\": [5600.0, 2239.0, 837.0, 1720.0, 1089.0, 708.0, 761.0, 810.0, 764.0, 1085.0, 495.0, 419.0, 609.0, 392.0, 578.0, 369.0, 413.0, 481.0, 565.0, 595.0, 389.0, 594.0, 373.0, 370.0, 363.0, 312.0, 453.0, 446.0, 344.0, 556.0, 764.4367892197391, 609.8161480035844, 453.48245488671523, 369.2583205581548, 351.18465415539873, 322.8457429923202, 316.27836406970965, 286.8784161720414, 183.5166913248689, 180.11859966836906, 150.3576817972436, 144.18988924671325, 127.53358932243063, 124.46458326390179, 111.99009826486734, 108.33848191278189, 96.4198581721885, 96.03367946159942, 92.36889948808815, 85.34752585973237, 82.72456293908816, 76.81159099142289, 74.55280883879703, 72.27614722281196, 73.8220307242989, 69.47877260527804, 67.33939311322929, 60.28116613460585, 59.70888946712984, 53.824029120072204, 2239.879108265903, 1085.1815704621813, 244.9678109156979, 1720.4718058589945, 184.9257446269203, 417.04693083482556, 556.6650032628826, 323.05982269729407, 5600.606631793058, 342.9003971753019, 565.6952353383127, 481.1229741282597, 276.9875524962003, 276.30566415289496, 199.61420880888122, 189.7726733696819, 185.54014964792069, 177.86716942578826, 168.82040892378453, 168.84782205195845, 161.54401697505025, 155.59864397582007, 153.5419426695056, 151.4218788656289, 129.83130832273145, 127.40859073170687, 120.27005765371761, 119.23386173419115, 113.52323554600837, 103.05754454117287, 98.45108657782151, 95.70329643005265, 95.6230562980201, 91.72784009321288, 91.15806510315126, 89.21041897298605, 86.1491688158755, 84.89573126383529, 83.59991236107255, 83.49202585110233, 76.48393598637001, 241.192926121142, 228.44381104954047, 546.3731967503853, 255.85562632247252, 595.3509674383204, 446.4046539488391, 184.10081292968158, 810.2700168155808, 152.36331960517097, 646.7315853308005, 417.04693083482556, 578.5829740684445, 5600.606631793058, 594.0120192187514, 1085.1815704621813, 761.6617777032118, 495.41545671976615, 413.65232237453637, 389.16102661093845, 373.8635194661484, 370.62526722013644, 363.5343428018034, 265.1427530012515, 205.15963814200265, 187.92738956415474, 90.13698608487772, 73.98357118718425, 69.92860961370033, 62.14811739668105, 49.66350540071429, 284.7858830688042, 145.15984070884625, 565.6952353383127, 66.83842749076136, 594.0120192187514, 312.6189664126168, 117.11997246560611, 58.26349163479034, 98.06595714308978, 217.35518867911154, 1720.4718058589945, 397.8657333162907, 137.42369169286403, 320.27606101581017, 556.6650032628826, 546.3731967503853, 5600.606631793058, 646.7315853308005, 837.649484344466, 392.01632404061047, 312.04738997827457, 228.36967835996404, 206.7957133102698, 134.17615047894142, 129.59627667411542, 125.19586086299302, 102.18607536011397, 74.07945010866133, 66.79565338504888, 59.47108411182231, 59.268490755250426, 56.58850256547309, 128.5933762900716, 578.5829740684445, 810.2700168155808, 66.77379466960592, 296.4086443904159, 60.67979312734177, 595.3509674383204, 209.3811990465427, 54.65351314699092, 446.4046539488391, 147.28085706478439, 107.55190480509748, 1089.041105105216, 58.96160137333281, 646.7315853308005, 205.9163007263372, 5600.606631793058, 320.27606101581017, 184.10081292968158, 708.3805087969587, 419.5935955627638, 369.80878906168095, 179.9082303211772, 165.46412225157934, 112.20524186892705, 98.64758684370621, 96.69970593124822, 56.97682759389397, 56.15163735626484, 53.66738022481431, 96.52856650978705, 344.35339954189243, 167.819768354332, 90.69587212237525, 67.66932359849625, 1089.041105105216, 81.85325585804466, 217.74361566228188, 74.5983799937641, 5600.606631793058, 77.48708155079163, 58.26349163479034, 117.11997246560611, 342.9003971753019, 107.55190480509748, 82.31609365011262, 397.8657333162907, 646.7315853308005, 91.83263440434574, 2239.879108265903], \"Category\": [\"Default\", \"Default\", \"Default\", \"Default\", \"Default\", \"Default\", \"Default\", \"Default\", \"Default\", \"Default\", \"Default\", \"Default\", \"Default\", \"Default\", \"Default\", \"Default\", \"Default\", \"Default\", \"Default\", \"Default\", \"Default\", \"Default\", \"Default\", \"Default\", \"Default\", \"Default\", \"Default\", \"Default\", \"Default\", \"Default\", \"Topic1\", \"Topic1\", \"Topic1\", \"Topic1\", \"Topic1\", \"Topic1\", \"Topic1\", \"Topic1\", \"Topic1\", \"Topic1\", \"Topic1\", \"Topic1\", \"Topic1\", \"Topic1\", \"Topic1\", \"Topic1\", \"Topic1\", \"Topic1\", \"Topic1\", \"Topic1\", \"Topic1\", \"Topic1\", \"Topic1\", \"Topic1\", \"Topic1\", \"Topic1\", \"Topic1\", \"Topic1\", \"Topic1\", \"Topic1\", \"Topic1\", \"Topic1\", \"Topic1\", \"Topic1\", \"Topic1\", \"Topic1\", \"Topic1\", \"Topic1\", \"Topic1\", \"Topic1\", \"Topic1\", \"Topic2\", \"Topic2\", \"Topic2\", \"Topic2\", \"Topic2\", \"Topic2\", \"Topic2\", \"Topic2\", \"Topic2\", \"Topic2\", \"Topic2\", \"Topic2\", \"Topic2\", \"Topic2\", \"Topic2\", \"Topic2\", \"Topic2\", \"Topic2\", \"Topic2\", \"Topic2\", \"Topic2\", \"Topic2\", \"Topic2\", \"Topic2\", \"Topic2\", \"Topic2\", \"Topic2\", \"Topic2\", \"Topic2\", \"Topic2\", \"Topic2\", \"Topic2\", \"Topic2\", \"Topic2\", \"Topic2\", \"Topic2\", \"Topic2\", \"Topic2\", \"Topic2\", \"Topic2\", \"Topic2\", \"Topic2\", \"Topic2\", \"Topic2\", \"Topic2\", \"Topic3\", \"Topic3\", \"Topic3\", \"Topic3\", \"Topic3\", \"Topic3\", \"Topic3\", \"Topic3\", \"Topic3\", \"Topic3\", \"Topic3\", \"Topic3\", \"Topic3\", \"Topic3\", \"Topic3\", \"Topic3\", \"Topic3\", \"Topic3\", \"Topic3\", \"Topic3\", \"Topic3\", \"Topic3\", \"Topic3\", \"Topic3\", \"Topic3\", \"Topic3\", \"Topic3\", \"Topic3\", \"Topic3\", \"Topic3\", \"Topic3\", \"Topic3\", \"Topic3\", \"Topic4\", \"Topic4\", \"Topic4\", \"Topic4\", \"Topic4\", \"Topic4\", \"Topic4\", \"Topic4\", \"Topic4\", \"Topic4\", \"Topic4\", \"Topic4\", \"Topic4\", \"Topic4\", \"Topic4\", \"Topic4\", \"Topic4\", \"Topic4\", \"Topic4\", \"Topic4\", \"Topic4\", \"Topic4\", \"Topic4\", \"Topic4\", \"Topic4\", \"Topic4\", \"Topic4\", \"Topic4\", \"Topic4\", \"Topic4\", \"Topic4\", \"Topic4\", \"Topic4\", \"Topic5\", \"Topic5\", \"Topic5\", \"Topic5\", \"Topic5\", \"Topic5\", \"Topic5\", \"Topic5\", \"Topic5\", \"Topic5\", \"Topic5\", \"Topic5\", \"Topic5\", \"Topic5\", \"Topic5\", \"Topic5\", \"Topic5\", \"Topic5\", \"Topic5\", \"Topic5\", \"Topic5\", \"Topic5\", \"Topic5\", \"Topic5\", \"Topic5\", \"Topic5\", \"Topic5\", \"Topic5\", \"Topic5\", \"Topic5\", \"Topic5\"], \"logprob\": [30.0, 29.0, 28.0, 27.0, 26.0, 25.0, 24.0, 23.0, 22.0, 21.0, 20.0, 19.0, 18.0, 17.0, 16.0, 15.0, 14.0, 13.0, 12.0, 11.0, 10.0, 9.0, 8.0, 7.0, 6.0, 5.0, 4.0, 3.0, 2.0, 1.0, -2.8395, -3.0657, -3.3624, -3.5683, -3.6186, -3.7029, -3.7235, -3.8214, -4.2698, -4.2885, -4.47, -4.5121, -4.6356, -4.6601, -4.7665, -4.7999, -4.9174, -4.9214, -4.9606, -5.0405, -5.0722, -5.1469, -5.1771, -5.2085, -5.1874, -5.2485, -5.2801, -5.3921, -5.4019, -5.5071, -1.8986, -2.6396, -4.2576, -2.774, -4.523, -3.9346, -3.79, -4.1784, -2.2624, -4.4395, -4.5697, -3.1773, -3.7307, -3.7332, -4.0594, -4.1102, -4.1328, -4.1753, -4.2277, -4.2276, -4.272, -4.3097, -4.3231, -4.337, -4.4918, -4.5107, -4.5687, -4.5774, -4.6269, -4.7243, -4.7704, -4.799, -4.7999, -4.8417, -4.848, -4.8698, -4.9051, -4.9198, -4.9354, -4.9367, -5.0253, -4.056, -4.1449, -3.5368, -4.1883, -3.791, -4.0113, -4.4983, -3.8086, -4.6116, -4.0792, -4.2703, -4.1626, -3.4346, -4.168, -4.3281, -2.4171, -2.8478, -3.0285, -3.0896, -3.1298, -3.1385, -3.1579, -3.4743, -3.7317, -3.8198, -4.5593, -4.7587, -4.8158, -4.9352, -5.1628, -3.5125, -4.2562, -2.9884, -5.1408, -3.0231, -3.6684, -4.676, -5.3932, -4.9575, -4.2332, -2.2441, -3.7314, -4.8048, -4.0183, -3.4875, -3.702, -2.9498, -4.5765, -2.126, -2.8864, -3.1151, -3.4282, -3.5279, -3.9626, -3.9975, -4.0323, -4.2368, -4.5615, -4.6664, -4.784, -4.7874, -4.8344, -4.296, -2.8675, -2.5381, -5.0395, -3.5709, -5.1764, -3.0423, -4.1016, -5.4619, -3.3868, -4.5656, -5.1239, -2.8598, -5.8097, -3.445, -4.6133, -1.8909, -4.516, -4.8426, -2.2856, -2.8101, -2.9367, -3.6595, -3.7436, -4.1344, -4.2642, -4.2843, -4.8193, -4.8341, -4.8803, -4.393, -3.3057, -4.0523, -4.6928, -5.0368, -2.3156, -4.9264, -3.9589, -5.2594, -1.0793, -5.505, -5.9109, -5.2358, -4.3575, -5.5263, -5.8062, -4.3518, -3.9054, -6.1915, -3.2031], \"loglift\": [30.0, 29.0, 28.0, 27.0, 26.0, 25.0, 24.0, 23.0, 22.0, 21.0, 20.0, 19.0, 18.0, 17.0, 16.0, 15.0, 14.0, 13.0, 12.0, 11.0, 10.0, 9.0, 8.0, 7.0, 6.0, 5.0, 4.0, 3.0, 2.0, 1.0, 1.2811, 1.2808, 1.2803, 1.2799, 1.2798, 1.2796, 1.2795, 1.2793, 1.2776, 1.2776, 1.2767, 1.2765, 1.2757, 1.2755, 1.2748, 1.2745, 1.2736, 1.2736, 1.2733, 1.2725, 1.2719, 1.2714, 1.271, 1.2707, 1.2706, 1.2701, 1.2698, 1.2686, 1.2683, 1.2669, 1.1469, 1.1306, 1.001, 0.5353, 1.0168, 0.7919, 0.6477, 0.8034, -0.1333, 0.4827, -0.148, 1.4062, 1.405, 1.405, 1.4039, 1.4037, 1.4036, 1.4034, 1.4031, 1.4031, 1.4029, 1.4027, 1.4027, 1.4026, 1.4017, 1.4016, 1.4012, 1.4012, 1.4008, 1.4001, 1.3997, 1.3994, 1.3994, 1.3991, 1.3991, 1.3988, 1.3985, 1.3984, 1.3983, 1.3983, 1.3974, 1.2181, 1.1835, 0.9196, 1.0268, 0.5796, 0.6472, 1.0459, 0.2537, 1.1218, 0.2086, 0.4562, 0.2365, -1.3055, 0.2047, -0.5579, 1.7071, 1.7065, 1.7062, 1.7061, 1.706, 1.706, 1.7059, 1.7051, 1.7042, 1.7038, 1.6991, 1.6972, 1.6964, 1.6949, 1.6916, 1.5954, 1.5257, 1.4333, 1.4166, 1.3497, 1.3463, 1.3205, 1.3015, 1.2165, 1.145, 1.0653, 1.0422, 1.0318, 0.9722, 0.9502, 0.7544, -0.8208, -0.2888, 1.9031, 1.902, 1.9014, 1.9005, 1.9001, 1.898, 1.8978, 1.8975, 1.896, 1.893, 1.8917, 1.8902, 1.8902, 1.8895, 1.607, 1.5316, 1.5242, 1.5189, 1.4971, 1.4776, 1.3282, 1.3139, 1.2968, 1.2717, 1.2017, 0.9578, 0.9068, 0.8731, 0.8427, 0.8189, 0.2381, 0.4746, 0.7016, 1.9111, 1.9103, 1.91, 1.9077, 1.9073, 1.9049, 1.904, 1.9037, 1.8977, 1.8975, 1.8966, 1.7969, 1.6123, 1.5845, 1.5593, 1.5083, 1.4511, 1.4284, 1.4174, 1.1882, 1.0498, 0.9046, 0.7838, 0.7607, 0.5648, 0.5555, 0.543, 0.4218, 0.3823, 0.0482, -0.1576]}, \"token.table\": {\"Topic\": [1, 2, 5, 2, 1, 2, 3, 1, 4, 5, 5, 2, 3, 1, 2, 4, 2, 4, 2, 2, 5, 1, 2, 4, 2, 4, 1, 2, 5, 2, 1, 2, 3, 4, 5, 3, 4, 1, 3, 1, 4, 2, 4, 1, 4, 3, 1, 2, 5, 1, 2, 5, 2, 5, 1, 2, 2, 4, 1, 3, 2, 4, 4, 2, 4, 3, 2, 1, 2, 2, 4, 5, 1, 5, 2, 3, 1, 5, 1, 2, 2, 3, 1, 2, 3, 4, 1, 1, 2, 3, 5, 4, 2, 3, 4, 5, 3, 5, 1, 2, 1, 1, 2, 5, 4, 2, 1, 2, 1, 1, 1, 3, 1, 5, 2, 3, 4, 3, 2, 5, 2, 5, 3, 5, 2, 1, 2, 3, 2, 4, 2, 1, 3, 4, 2, 1, 3, 2, 5, 2, 5, 5, 1, 2, 2, 5, 1, 4, 3, 5, 4, 2, 4, 1, 2, 3, 2, 3, 4, 1, 2, 1, 1, 1, 5, 2, 1, 3, 2, 5, 2, 3, 2, 4, 3, 1, 5, 1, 1, 2, 2, 1, 1, 3, 4, 1, 2, 5, 2, 2, 3, 2, 3, 5, 3, 4, 5, 3, 3, 2, 3, 2, 2, 2, 1, 3, 2, 4, 4, 2, 2, 4, 2, 1, 2, 3, 2, 2, 4, 1, 3, 2, 1, 1, 2, 1], \"Freq\": [0.16998840164743168, 0.8250656567765586, 0.9978129533813053, 0.9949787800538076, 0.9917477622534454, 0.998893746337658, 0.9984230177391685, 0.9994286130313208, 0.36913207234832646, 0.630830183341543, 0.999462846884925, 0.9872960763061301, 0.9983129395768772, 0.9989361112397706, 0.996434668318845, 0.9983812283547497, 0.6275270538485473, 0.35616400353566197, 0.9967930676466922, 0.385774800994777, 0.6108101015750635, 0.9968757000577654, 0.3306246354641361, 0.6646229916983144, 0.4441659538845573, 0.554013447856007, 0.3811281275662034, 0.45735375307944404, 0.15245125102648135, 0.9896517506332068, 0.24283083769527128, 0.06624282410657768, 0.07981278268366637, 0.18908665964653842, 0.4220971325820745, 0.9976902815568061, 0.9920787703998041, 0.5299417033060502, 0.46886367648433597, 0.9912412599916464, 0.9904480798746079, 0.31470990497978474, 0.6837226955247088, 0.31449463227164437, 0.6739170691535237, 0.9956900462550221, 0.3613505559845665, 0.2710129169884249, 0.3613505559845665, 0.2428406003221807, 0.7482115793710432, 0.9971950278691011, 0.9951403451216914, 0.992764135893591, 0.9911590553074999, 0.9972138843554881, 0.9954181655733688, 0.9992246346991137, 0.23864439996434397, 0.7601266072938364, 0.46818508308820805, 0.5309084435019393, 0.9961521769598969, 0.4391300507151639, 0.5489125633939549, 0.9815261114129522, 0.9897383103208871, 0.19698498196670897, 0.8010722599979498, 0.2488464096923369, 0.7465392290770106, 0.9934353503777824, 0.10359627581319254, 0.8909279719934559, 0.30068553126726194, 0.6973345299602457, 0.9787468256379606, 0.9794905828131412, 0.6114419772603352, 0.38604767976044696, 0.9961526401482451, 0.9873860206085981, 0.6190803868155382, 0.21358273345136067, 0.16405630250611763, 0.9974074445927787, 0.9976211272149971, 0.9881275724024294, 0.487543298936708, 0.5093735959040233, 0.9875645089807136, 0.9953989675520167, 0.3015161226434585, 0.1360688143211505, 0.3463569819083831, 0.21647311369273944, 0.6693728594994175, 0.32610472642279315, 0.9971844995616544, 0.9964703933004669, 0.9937896493175685, 0.9823434525518099, 0.37872653537157097, 0.6108492505993081, 0.989600315633159, 0.9941069120543344, 0.7552012621922194, 0.24084797010454564, 0.9973803495611205, 0.9965923027644907, 0.47370726868324825, 0.5260185008077787, 0.9892362818191013, 0.9892585956872233, 0.5147722624488773, 0.14083392085865512, 0.339943946900202, 0.9866399804975355, 0.32511038724922153, 0.6649985193734077, 0.2741035841670114, 0.721011601830617, 0.9991613973400891, 0.9985853083339662, 0.9976659311888101, 0.04078887431000677, 0.34670543163505757, 0.6118331146501016, 0.5024413998857274, 0.49565165123862304, 0.9934842461416599, 0.988864696402502, 0.9970165907386733, 0.9880882460949626, 0.9926512831188979, 0.7678757778506117, 0.22711818781496965, 0.2866723632682907, 0.7056550480450233, 0.25845541271960837, 0.7405183173426981, 0.9949517022119788, 0.9931090808411652, 0.9866607091899913, 0.7410458550096242, 0.25511414680659195, 0.9962673456840591, 0.9912342806471705, 0.6745220165006395, 0.3159153748167552, 0.9785975526103969, 0.3295990142555081, 0.6591980285110162, 0.9959281085628243, 0.9936727107446948, 0.9867206052168038, 0.2810075773835536, 0.47771288155204106, 0.24041759398370693, 0.8597639560010526, 0.14006872595086817, 0.9949599618063292, 0.996626691567011, 0.8737078678835904, 0.1263461045534267, 0.9920652215022914, 0.995958104584644, 0.986705545955659, 0.5093944399754597, 0.4825842062925408, 0.10534230024580259, 0.8918981420811286, 0.695271237335005, 0.298749359792385, 0.9943476302039488, 0.9958160879399262, 0.9828557040617218, 0.9986616490785685, 0.9956455217820513, 0.9928240072970232, 0.9966323916834736, 0.9894340036321665, 0.23938325003549157, 0.7480726563609111, 0.9854284810824329, 0.4491100076541182, 0.28871357634907596, 0.2595505888390683, 0.9864318653928463, 0.29965723628640845, 0.6986390621284242, 0.25888130435731255, 0.5127357872707938, 0.22620696497240902, 0.35331777776379253, 0.39050912279156014, 0.2603394151943734, 0.9991311396704093, 0.9985301449164743, 0.42787108311133487, 0.5704947774817798, 0.9969230205978509, 0.9959284265960846, 0.9894399514019161, 0.16533498440617542, 0.8335638797144677, 0.3093765423847831, 0.6896158682208294, 0.9883929845046487, 0.9953909387493073, 0.9935970118958903, 0.9966434906622758, 0.9951246234558757, 0.9969380193053122, 0.6131340299861877, 0.3861829263495093, 0.9894490423664345, 0.43671718737391074, 0.562693299116385, 0.9925850032023293, 0.9950651708284484, 0.9970887721663173, 0.9960062370545433, 0.3126763368461965, 0.6839794868510549, 0.9846903114920301], \"Term\": [\"also\", \"also\", \"amaze\", \"amazing\", \"anyone\", \"assignment\", \"awesome\", \"basic\", \"beginner\", \"beginner\", \"best\", \"bit\", \"charles\", \"chuck\", \"class\", \"clear\", \"clearly\", \"clearly\", \"code\", \"complete\", \"complete\", \"computer\", \"concept\", \"concept\", \"content\", \"content\", \"continue\", \"continue\", \"continue\", \"could\", \"course\", \"course\", \"course\", \"course\", \"course\", \"coursera\", \"design\", \"dr\", \"dr\", \"drchuck\", \"easily\", \"easy\", \"easy\", \"engage\", \"engage\", \"enjoy\", \"especially\", \"especially\", \"especially\", \"even\", \"even\", \"ever\", \"every\", \"everybody\", \"everyone\", \"everything\", \"example\", \"excellent\", \"experience\", \"experience\", \"explain\", \"explain\", \"explanation\", \"extremely\", \"extremely\", \"fantastic\", \"feel\", \"first\", \"first\", \"follow\", \"follow\", \"forward\", \"friendly\", \"friendly\", \"fun\", \"fun\", \"fundamental\", \"gain\", \"get\", \"get\", \"go\", \"happy\", \"help\", \"help\", \"help\", \"helpful\", \"highly\", \"idea\", \"im\", \"im\", \"information\", \"informative\", \"instructor\", \"instructor\", \"instructor\", \"instructor\", \"interactive\", \"interactive\", \"interest\", \"interesting\", \"introduction\", \"introductory\", \"ive\", \"ive\", \"journey\", \"keep\", \"know\", \"know\", \"knowledge\", \"language\", \"learn\", \"learn\", \"learning\", \"learnt\", \"lecture\", \"lecture\", \"lecture\", \"lecturer\", \"level\", \"level\", \"look\", \"look\", \"lot\", \"love\", \"make\", \"many\", \"many\", \"many\", \"material\", \"material\", \"michigan\", \"mr\", \"much\", \"must\", \"never\", \"new\", \"new\", \"next\", \"next\", \"one\", \"one\", \"online\", \"opportunity\", \"overall\", \"part\", \"part\", \"people\", \"perfect\", \"platform\", \"platform\", \"practice\", \"pretty\", \"pretty\", \"prior\", \"problem\", \"prof\", \"professor\", \"professor\", \"professor\", \"program\", \"program\", \"programmer\", \"programming\", \"python\", \"python\", \"quiz\", \"recommend\", \"russell\", \"see\", \"see\", \"severance\", \"severance\", \"simple\", \"simple\", \"sir\", \"skill\", \"specialization\", \"start\", \"step\", \"structure\", \"student\", \"study\", \"style\", \"style\", \"super\", \"take\", \"take\", \"take\", \"taught\", \"teach\", \"teach\", \"teacher\", \"teacher\", \"teacher\", \"teaching\", \"teaching\", \"teaching\", \"thank\", \"thanks\", \"thing\", \"thing\", \"think\", \"time\", \"topic\", \"u\", \"u\", \"understand\", \"understand\", \"understandable\", \"university\", \"use\", \"useful\", \"video\", \"want\", \"way\", \"way\", \"week\", \"well\", \"well\", \"without\", \"wonderful\", \"work\", \"world\", \"would\", \"would\", \"zero\"]}, \"R\": 30, \"lambda.step\": 0.01, \"plot.opts\": {\"xlab\": \"PC1\", \"ylab\": \"PC2\"}, \"topic.order\": [5, 1, 2, 3, 4]};\n",
       "\n",
       "function LDAvis_load_lib(url, callback){\n",
       "  var s = document.createElement('script');\n",
       "  s.src = url;\n",
       "  s.async = true;\n",
       "  s.onreadystatechange = s.onload = callback;\n",
       "  s.onerror = function(){console.warn(\"failed to load library \" + url);};\n",
       "  document.getElementsByTagName(\"head\")[0].appendChild(s);\n",
       "}\n",
       "\n",
       "if(typeof(LDAvis) !== \"undefined\"){\n",
       "   // already loaded: just create the visualization\n",
       "   !function(LDAvis){\n",
       "       new LDAvis(\"#\" + \"ldavis_el261511404769388126248114852537\", ldavis_el261511404769388126248114852537_data);\n",
       "   }(LDAvis);\n",
       "}else if(typeof define === \"function\" && define.amd){\n",
       "   // require.js is available: use it to load d3/LDAvis\n",
       "   require.config({paths: {d3: \"https://d3js.org/d3.v5\"}});\n",
       "   require([\"d3\"], function(d3){\n",
       "      window.d3 = d3;\n",
       "      LDAvis_load_lib(\"https://cdn.jsdelivr.net/gh/bmabey/pyLDAvis@3.2.2/pyLDAvis/js/ldavis.v3.0.0.js\", function(){\n",
       "        new LDAvis(\"#\" + \"ldavis_el261511404769388126248114852537\", ldavis_el261511404769388126248114852537_data);\n",
       "      });\n",
       "    });\n",
       "}else{\n",
       "    // require.js not available: dynamically load d3 & LDAvis\n",
       "    LDAvis_load_lib(\"https://d3js.org/d3.v5.js\", function(){\n",
       "         LDAvis_load_lib(\"https://cdn.jsdelivr.net/gh/bmabey/pyLDAvis@3.2.2/pyLDAvis/js/ldavis.v3.0.0.js\", function(){\n",
       "                 new LDAvis(\"#\" + \"ldavis_el261511404769388126248114852537\", ldavis_el261511404769388126248114852537_data);\n",
       "            })\n",
       "         });\n",
       "}\n",
       "</script>"
      ],
      "text/plain": [
       "PreparedData(topic_coordinates=              x         y  topics  cluster       Freq\n",
       "topic                                                \n",
       "4      0.198506  0.177576       1        1  27.744601\n",
       "0     -0.095482 -0.226931       2        1  24.464929\n",
       "1      0.274283 -0.155520       3        1  18.119678\n",
       "2     -0.275429 -0.038096       4        1  14.896156\n",
       "3     -0.101880  0.242971       5        1  14.774637, topic_info=           Term         Freq        Total Category  logprob  loglift\n",
       "3        course  5600.000000  5600.000000  Default  30.0000  30.0000\n",
       "8        python  2239.000000  2239.000000  Default  29.0000  29.0000\n",
       "56    excellent   837.000000   837.000000  Default  28.0000  28.0000\n",
       "6         learn  1720.000000  1720.000000  Default  27.0000  27.0000\n",
       "1      beginner  1089.000000  1089.000000  Default  26.0000  26.0000\n",
       "..          ...          ...          ...      ...      ...      ...\n",
       "130        part    20.931578    82.316094   Topic5  -5.8062   0.5430\n",
       "36      teacher    89.622994   397.865733   Topic5  -4.3518   0.4218\n",
       "41   instructor   140.051695   646.731585   Topic5  -3.9054   0.3823\n",
       "93     continue    14.238095    91.832634   Topic5  -6.1915   0.0482\n",
       "8        python   282.692577  2239.879108   Topic5  -3.2031  -0.1576\n",
       "\n",
       "[213 rows x 6 columns], token_table=      Topic      Freq     Term\n",
       "term                          \n",
       "82        1  0.169988     also\n",
       "82        2  0.825066     also\n",
       "31        5  0.997813    amaze\n",
       "92        2  0.994979  amazing\n",
       "127       1  0.991748   anyone\n",
       "...     ...       ...      ...\n",
       "72        2  0.997089     work\n",
       "27        1  0.996006    world\n",
       "126       1  0.312676    would\n",
       "126       2  0.683979    would\n",
       "49        1  0.984690     zero\n",
       "\n",
       "[226 rows x 3 columns], R=30, lambda_step=0.01, plot_opts={'xlab': 'PC1', 'ylab': 'PC2'}, topic_order=[5, 1, 2, 3, 4])"
      ]
     },
     "execution_count": 37,
     "metadata": {},
     "output_type": "execute_result"
    }
   ],
   "source": [
    "# Visualize the topics\n",
    "pyLDAvis.enable_notebook()\n",
    "vis = pyLDAvis.gensim.prepare(lda_model, corpus, dictionary)\n",
    "vis"
   ]
  },
  {
   "cell_type": "code",
   "execution_count": 38,
   "metadata": {},
   "outputs": [
    {
     "name": "stdout",
     "output_type": "stream",
     "text": [
      "\n",
      "Perplexity:  -4.73625382430123\n",
      "\n",
      "Coherence Score:  0.5446062695646108\n"
     ]
    }
   ],
   "source": [
    "# Calculate Perplexity and Coherence\n",
    "\n",
    "# Compute Perplexity\n",
    "\n",
    "print('\\nPerplexity: ', lda_model.log_perplexity(corpus))  # a measure of how good the model is. The lower the better.\n",
    "\n",
    "# Compute Coherence Score\n",
    "\n",
    "coherence_model_lda = CoherenceModel(model = lda_model, texts = df['preprocessed'], dictionary = dictionary, coherence = 'c_v')\n",
    "coherence_lda = coherence_model_lda.get_coherence()\n",
    "print('\\nCoherence Score: ', coherence_lda)"
   ]
  },
  {
   "cell_type": "markdown",
   "metadata": {},
   "source": [
    "## Calculate the coherence score\n",
    "\n",
    "Code reference: \n",
    "\n",
    "https://www.machinelearningplus.com/nlp/topic-modeling-gensim-python/#17howtofindtheoptimalnumberoftopicsforlda"
   ]
  },
  {
   "cell_type": "code",
   "execution_count": 39,
   "metadata": {},
   "outputs": [],
   "source": [
    "# Determine the optiomal number of topics by calculating the coherence score\n",
    "\n",
    "# Define function for calculating coherence score\n",
    "\n",
    "def compute_coherence_values(dictionary, corpus, texts, limit, start=2, step=3):\n",
    "    \"\"\"\n",
    "    Compute c_v coherence for various number of topics\n",
    "\n",
    "    Parameters:\n",
    "    ----------\n",
    "    dictionary : Gensim dictionary\n",
    "    corpus : Gensim corpus\n",
    "    texts : List of input texts\n",
    "    limit : Max num of topics\n",
    "\n",
    "    Returns:\n",
    "    -------\n",
    "    model_list : List of LDA topic models\n",
    "    coherence_values : Coherence values corresponding to the LDA model with respective number of topics\n",
    "    \"\"\"\n",
    "    coherence_values = []\n",
    "    model_list = []\n",
    "    for num_topics in range(start, limit, step):\n",
    "        model = LDA(corpus = corpus, num_topics = num_topics, id2word = dictionary)\n",
    "        model_list.append(model)\n",
    "        coherencemodel = CoherenceModel(model = model, texts = texts, dictionary = dictionary, coherence = 'c_v')\n",
    "        coherence_values.append(coherencemodel.get_coherence())\n",
    "\n",
    "    return model_list, coherence_values"
   ]
  },
  {
   "cell_type": "code",
   "execution_count": 40,
   "metadata": {},
   "outputs": [],
   "source": [
    "# Can take a long time to run.\n",
    "\n",
    "model_list, coherence_values = compute_coherence_values(dictionary = dictionary, corpus = corpus, texts = df['preprocessed'], start = 2, limit = 10, step = 1)"
   ]
  },
  {
   "cell_type": "code",
   "execution_count": 41,
   "metadata": {},
   "outputs": [
    {
     "data": {
      "image/png": "[encoded data removed]",
      "text/plain": [
       "<Figure size 432x288 with 1 Axes>"
      ]
     },
     "metadata": {
      "needs_background": "light"
     },
     "output_type": "display_data"
    }
   ],
   "source": [
    "# Show graph\n",
    "\n",
    "limit = 10; start = 2; step = 1;\n",
    "x = range(start, limit, step)\n",
    "plt.plot(x, coherence_values)\n",
    "plt.xlabel(\"Num Topics\")\n",
    "plt.ylabel(\"Coherence score\")\n",
    "plt.legend((\"coherence_values\"), loc = 'best')\n",
    "plt.show()\n"
   ]
  },
  {
   "cell_type": "code",
   "execution_count": 42,
   "metadata": {},
   "outputs": [
    {
     "name": "stdout",
     "output_type": "stream",
     "text": [
      "Num Topics = 2  has Coherence Value of 0.4277\n",
      "Num Topics = 3  has Coherence Value of 0.4731\n",
      "Num Topics = 4  has Coherence Value of 0.472\n",
      "Num Topics = 5  has Coherence Value of 0.4934\n",
      "Num Topics = 6  has Coherence Value of 0.4761\n",
      "Num Topics = 7  has Coherence Value of 0.5041\n",
      "Num Topics = 8  has Coherence Value of 0.5025\n",
      "Num Topics = 9  has Coherence Value of 0.5296\n"
     ]
    }
   ],
   "source": [
    "# Print the coherence scores\n",
    "\n",
    "for m, cv in zip(x, coherence_values):\n",
    "    print(\"Num Topics =\", m, \" has Coherence Value of\", round(cv, 4))"
   ]
  },
  {
   "cell_type": "markdown",
   "metadata": {},
   "source": [
    "## LDA Mallet Model\n",
    "\n",
    "Code reference:\n",
    "\n",
    "https://www.machinelearningplus.com/nlp/topic-modeling-gensim-python/#17howtofindtheoptimalnumberoftopicsforlda"
   ]
  },
  {
   "cell_type": "code",
   "execution_count": 43,
   "metadata": {},
   "outputs": [],
   "source": [
    "mallet_path = '/Users/siriamanda/Desktop/LNU-VT-2021/Thesis/11-data-analysis/mallet-2.0.8/bin/mallet' # update this path\n",
    "ldamallet = gensim.models.wrappers.LdaMallet(mallet_path, corpus = corpus, num_topics = 5, id2word = dictionary)"
   ]
  },
  {
   "cell_type": "code",
   "execution_count": 44,
   "metadata": {},
   "outputs": [
    {
     "name": "stdout",
     "output_type": "stream",
     "text": [
      "[(0,\n",
      "  [('learn', 0.27703031285459556),\n",
      "   ('python', 0.15577889447236182),\n",
      "   ('excellent', 0.12465553574323229),\n",
      "   ('lot', 0.07732209434268114),\n",
      "   ('language', 0.061436213324687954),\n",
      "   ('explanation', 0.031123358729129517),\n",
      "   ('programming', 0.031123358729129517),\n",
      "   ('wonderful', 0.02966445128870157),\n",
      "   ('cod', 0.02934024963527314),\n",
      "   ('easily', 0.020100502512562814)]),\n",
      " (1,\n",
      "  [('understand', 0.08616816431322208),\n",
      "   ('easy', 0.07301026957637997),\n",
      "   ('explain', 0.0691591784338896),\n",
      "   ('concept', 0.044768934531450574),\n",
      "   ('class', 0.044768934531450574),\n",
      "   ('assignment', 0.044287548138639284),\n",
      "   ('thing', 0.03594351732991014),\n",
      "   ('give', 0.03417843388960205),\n",
      "   ('complete', 0.03161103979460847),\n",
      "   ('time', 0.03161103979460847)]),\n",
      " (2,\n",
      "  [('instructor', 0.09985291714332407),\n",
      "   ('experience', 0.09119137113907501),\n",
      "   ('make', 0.07582938388625593),\n",
      "   ('beginner', 0.07403170452688347),\n",
      "   ('awesome', 0.06520673312632783),\n",
      "   ('helpful', 0.06275535218172903),\n",
      "   ('easy', 0.05981369504821049),\n",
      "   ('fun', 0.04935446968458899),\n",
      "   ('lecture', 0.03219480307239745),\n",
      "   ('content', 0.03186795227978428)]),\n",
      " (3,\n",
      "  [('teach', 0.08951859603928514),\n",
      "   ('dr', 0.08919658670101432),\n",
      "   ('chuck', 0.07261310578006762),\n",
      "   ('teacher', 0.06681693769119304),\n",
      "   ('love', 0.06472387699243277),\n",
      "   ('charles', 0.060698760264047656),\n",
      "   ('amaze', 0.0589277089035582),\n",
      "   ('coursera', 0.05812268555788118),\n",
      "   ('professor', 0.05490259217517308),\n",
      "   ('severance', 0.046852358718402834)]),\n",
      " (4,\n",
      "  [('python', 0.2100427688895929),\n",
      "   ('program', 0.1750356407413274),\n",
      "   ('basic', 0.11595121178520514),\n",
      "   ('start', 0.09868525265325519),\n",
      "   ('beginner', 0.09234912086171393),\n",
      "   ('recommend', 0.05227308728021543),\n",
      "   ('knowledge', 0.04989703785838746),\n",
      "   ('introduction', 0.031047045778552194),\n",
      "   ('programming', 0.02566133375574212),\n",
      "   ('highly', 0.024235704102645333)])]\n",
      "\n",
      "Coherence Score:  0.45420309475142906\n"
     ]
    }
   ],
   "source": [
    "# Show Topics\n",
    "pprint(ldamallet.show_topics(formatted = False))\n",
    "\n",
    "# Compute Coherence Score\n",
    "coherence_model_ldamallet = CoherenceModel(model = ldamallet, texts = df['preprocessed'], dictionary = dictionary, coherence = 'c_v')\n",
    "coherence_ldamallet = coherence_model_ldamallet.get_coherence()\n",
    "print('\\nCoherence Score: ', coherence_ldamallet)\n",
    "\n",
    "# The coherence score using the Mallet Model is lower than the original LDA Model"
   ]
  },
  {
   "cell_type": "code",
   "execution_count": null,
   "metadata": {},
   "outputs": [],
   "source": []
  },
  {
   "cell_type": "code",
   "execution_count": null,
   "metadata": {},
   "outputs": [],
   "source": []
  }
 ],
 "metadata": {
  "kernelspec": {
   "display_name": "Python 3",
   "language": "python",
   "name": "python3"
  },
  "language_info": {
   "codemirror_mode": {
    "name": "ipython",
    "version": 3
   },
   "file_extension": ".py",
   "mimetype": "text/x-python",
   "name": "python",
   "nbconvert_exporter": "python",
   "pygments_lexer": "ipython3",
   "version": "3.7.6"
  }
 },
 "nbformat": 4,
 "nbformat_minor": 4
}
