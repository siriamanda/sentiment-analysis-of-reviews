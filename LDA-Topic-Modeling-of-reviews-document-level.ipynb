{
 "cells": [
  {
   "cell_type": "code",
   "execution_count": 2,
   "metadata": {},
   "outputs": [
    {
     "name": "stderr",
     "output_type": "stream",
     "text": [
      "/Users/siriamanda/opt/anaconda3/lib/python3.7/site-packages/scipy/sparse/sparsetools.py:21: DeprecationWarning: `scipy.sparse.sparsetools` is deprecated!\n",
      "scipy.sparse.sparsetools is a private module for scipy.sparse, and should not be used.\n",
      "  _deprecated()\n",
      "/Users/siriamanda/opt/anaconda3/lib/python3.7/site-packages/nltk/decorators.py:70: DeprecationWarning: `formatargspec` is deprecated since Python 3.5. Use `signature` and the `Signature` object directly\n",
      "  formatvalue=lambda value: \"\")[1:-1]\n"
     ]
    }
   ],
   "source": [
    "# Import the libraries\n",
    "\n",
    "import pandas as pd \n",
    "import numpy as np\n",
    "\n",
    "from pprint import pprint\n",
    "\n",
    "# libraries for visualization\n",
    "import pyLDAvis\n",
    "import pyLDAvis.gensim\n",
    "import matplotlib.pyplot as plt\n",
    "import seaborn as sns\n",
    "%matplotlib inline\n",
    "\n",
    "import re\n",
    "\n",
    "import spacy\n",
    "\n",
    "import gensim\n",
    "from gensim import corpora\n",
    "from gensim.utils import simple_preprocess\n",
    "from gensim.models import CoherenceModel\n",
    "\n",
    "import nltk\n",
    "from nltk import FreqDist\n",
    "from nltk.corpus import stopwords\n",
    "from nltk.tokenize import RegexpTokenizer\n",
    "from nltk.stem import WordNetLemmatizer, SnowballStemmer\n",
    "from nltk.tag import pos_tag, pos_tag_sents\n",
    "from nltk.corpus import wordnet\n",
    "\n",
    "import warnings\n",
    "warnings.filterwarnings(\"ignore\")\n"
   ]
  },
  {
   "cell_type": "markdown",
   "metadata": {},
   "source": [
    "Code references:\n",
    "\n",
    "https://www.analyticsvidhya.com/blog/2018/10/mining-online-reviews-topic-modeling-lda/\n"
   ]
  },
  {
   "cell_type": "code",
   "execution_count": 3,
   "metadata": {},
   "outputs": [],
   "source": [
    "df = pd.read_csv('sentiment-document-level.csv')"
   ]
  },
  {
   "cell_type": "code",
   "execution_count": 4,
   "metadata": {},
   "outputs": [
    {
     "data": {
      "text/html": [
       "<div>\n",
       "<style scoped>\n",
       "    .dataframe tbody tr th:only-of-type {\n",
       "        vertical-align: middle;\n",
       "    }\n",
       "\n",
       "    .dataframe tbody tr th {\n",
       "        vertical-align: top;\n",
       "    }\n",
       "\n",
       "    .dataframe thead th {\n",
       "        text-align: right;\n",
       "    }\n",
       "</style>\n",
       "<table border=\"1\" class=\"dataframe\">\n",
       "  <thead>\n",
       "    <tr style=\"text-align: right;\">\n",
       "      <th></th>\n",
       "      <th>Unnamed: 0</th>\n",
       "      <th>date</th>\n",
       "      <th>review</th>\n",
       "      <th>rating</th>\n",
       "      <th>status</th>\n",
       "      <th>length</th>\n",
       "      <th>label</th>\n",
       "      <th>language_score</th>\n",
       "      <th>language</th>\n",
       "      <th>scores</th>\n",
       "      <th>compound</th>\n",
       "      <th>sentiment</th>\n",
       "    </tr>\n",
       "  </thead>\n",
       "  <tbody>\n",
       "    <tr>\n",
       "      <th>0</th>\n",
       "      <td>0</td>\n",
       "      <td>2021-03-11</td>\n",
       "      <td>Nice Course for beginners where we can enjoy a...</td>\n",
       "      <td>5</td>\n",
       "      <td>completer</td>\n",
       "      <td>135</td>\n",
       "      <td>pos</td>\n",
       "      <td>{'language': 'en', 'score': 0.9999952554167907}</td>\n",
       "      <td>en</td>\n",
       "      <td>{'neg': 0.0, 'neu': 0.601, 'pos': 0.399, 'comp...</td>\n",
       "      <td>0.9062</td>\n",
       "      <td>pos</td>\n",
       "    </tr>\n",
       "    <tr>\n",
       "      <th>1</th>\n",
       "      <td>1</td>\n",
       "      <td>2021-03-11</td>\n",
       "      <td>Super easy and totally for the beginners like ...</td>\n",
       "      <td>5</td>\n",
       "      <td>completer</td>\n",
       "      <td>163</td>\n",
       "      <td>pos</td>\n",
       "      <td>{'language': 'en', 'score': 0.9999965355369269}</td>\n",
       "      <td>en</td>\n",
       "      <td>{'neg': 0.0, 'neu': 0.453, 'pos': 0.547, 'comp...</td>\n",
       "      <td>0.9678</td>\n",
       "      <td>pos</td>\n",
       "    </tr>\n",
       "    <tr>\n",
       "      <th>2</th>\n",
       "      <td>2</td>\n",
       "      <td>2021-03-11</td>\n",
       "      <td>Very interactive and a nice course to start pr...</td>\n",
       "      <td>5</td>\n",
       "      <td>completer</td>\n",
       "      <td>67</td>\n",
       "      <td>pos</td>\n",
       "      <td>{'language': 'en', 'score': 0.9999969728448782}</td>\n",
       "      <td>en</td>\n",
       "      <td>{'neg': 0.0, 'neu': 0.746, 'pos': 0.254, 'comp...</td>\n",
       "      <td>0.4703</td>\n",
       "      <td>pos</td>\n",
       "    </tr>\n",
       "    <tr>\n",
       "      <th>3</th>\n",
       "      <td>3</td>\n",
       "      <td>2021-03-11</td>\n",
       "      <td>Awesome course! Definitely a very nice introdu...</td>\n",
       "      <td>5</td>\n",
       "      <td>completer</td>\n",
       "      <td>166</td>\n",
       "      <td>pos</td>\n",
       "      <td>{'language': 'en', 'score': 0.9999975171629499}</td>\n",
       "      <td>en</td>\n",
       "      <td>{'neg': 0.0, 'neu': 0.553, 'pos': 0.447, 'comp...</td>\n",
       "      <td>0.9448</td>\n",
       "      <td>pos</td>\n",
       "    </tr>\n",
       "    <tr>\n",
       "      <th>4</th>\n",
       "      <td>4</td>\n",
       "      <td>2021-03-11</td>\n",
       "      <td>Perfect for new learners</td>\n",
       "      <td>5</td>\n",
       "      <td>completer</td>\n",
       "      <td>24</td>\n",
       "      <td>pos</td>\n",
       "      <td>{'language': 'en', 'score': 0.9999971873771439}</td>\n",
       "      <td>en</td>\n",
       "      <td>{'neg': 0.0, 'neu': 0.448, 'pos': 0.552, 'comp...</td>\n",
       "      <td>0.5719</td>\n",
       "      <td>pos</td>\n",
       "    </tr>\n",
       "  </tbody>\n",
       "</table>\n",
       "</div>"
      ],
      "text/plain": [
       "   Unnamed: 0        date                                             review  \\\n",
       "0           0  2021-03-11  Nice Course for beginners where we can enjoy a...   \n",
       "1           1  2021-03-11  Super easy and totally for the beginners like ...   \n",
       "2           2  2021-03-11  Very interactive and a nice course to start pr...   \n",
       "3           3  2021-03-11  Awesome course! Definitely a very nice introdu...   \n",
       "4           4  2021-03-11                           Perfect for new learners   \n",
       "\n",
       "   rating     status  length label  \\\n",
       "0       5  completer     135   pos   \n",
       "1       5  completer     163   pos   \n",
       "2       5  completer      67   pos   \n",
       "3       5  completer     166   pos   \n",
       "4       5  completer      24   pos   \n",
       "\n",
       "                                    language_score language  \\\n",
       "0  {'language': 'en', 'score': 0.9999952554167907}       en   \n",
       "1  {'language': 'en', 'score': 0.9999965355369269}       en   \n",
       "2  {'language': 'en', 'score': 0.9999969728448782}       en   \n",
       "3  {'language': 'en', 'score': 0.9999975171629499}       en   \n",
       "4  {'language': 'en', 'score': 0.9999971873771439}       en   \n",
       "\n",
       "                                              scores  compound sentiment  \n",
       "0  {'neg': 0.0, 'neu': 0.601, 'pos': 0.399, 'comp...    0.9062       pos  \n",
       "1  {'neg': 0.0, 'neu': 0.453, 'pos': 0.547, 'comp...    0.9678       pos  \n",
       "2  {'neg': 0.0, 'neu': 0.746, 'pos': 0.254, 'comp...    0.4703       pos  \n",
       "3  {'neg': 0.0, 'neu': 0.553, 'pos': 0.447, 'comp...    0.9448       pos  \n",
       "4  {'neg': 0.0, 'neu': 0.448, 'pos': 0.552, 'comp...    0.5719       pos  "
      ]
     },
     "execution_count": 4,
     "metadata": {},
     "output_type": "execute_result"
    }
   ],
   "source": [
    "df.head()"
   ]
  },
  {
   "cell_type": "code",
   "execution_count": 5,
   "metadata": {},
   "outputs": [],
   "source": [
    "df.drop(['Unnamed: 0', 'date', 'language_score', 'language', 'scores'], axis = 1, inplace = True)"
   ]
  },
  {
   "cell_type": "code",
   "execution_count": 6,
   "metadata": {},
   "outputs": [
    {
     "data": {
      "text/html": [
       "<div>\n",
       "<style scoped>\n",
       "    .dataframe tbody tr th:only-of-type {\n",
       "        vertical-align: middle;\n",
       "    }\n",
       "\n",
       "    .dataframe tbody tr th {\n",
       "        vertical-align: top;\n",
       "    }\n",
       "\n",
       "    .dataframe thead th {\n",
       "        text-align: right;\n",
       "    }\n",
       "</style>\n",
       "<table border=\"1\" class=\"dataframe\">\n",
       "  <thead>\n",
       "    <tr style=\"text-align: right;\">\n",
       "      <th></th>\n",
       "      <th>review</th>\n",
       "      <th>rating</th>\n",
       "      <th>status</th>\n",
       "      <th>length</th>\n",
       "      <th>label</th>\n",
       "      <th>compound</th>\n",
       "      <th>sentiment</th>\n",
       "    </tr>\n",
       "  </thead>\n",
       "  <tbody>\n",
       "    <tr>\n",
       "      <th>0</th>\n",
       "      <td>Nice Course for beginners where we can enjoy a...</td>\n",
       "      <td>5</td>\n",
       "      <td>completer</td>\n",
       "      <td>135</td>\n",
       "      <td>pos</td>\n",
       "      <td>0.9062</td>\n",
       "      <td>pos</td>\n",
       "    </tr>\n",
       "    <tr>\n",
       "      <th>1</th>\n",
       "      <td>Super easy and totally for the beginners like ...</td>\n",
       "      <td>5</td>\n",
       "      <td>completer</td>\n",
       "      <td>163</td>\n",
       "      <td>pos</td>\n",
       "      <td>0.9678</td>\n",
       "      <td>pos</td>\n",
       "    </tr>\n",
       "    <tr>\n",
       "      <th>2</th>\n",
       "      <td>Very interactive and a nice course to start pr...</td>\n",
       "      <td>5</td>\n",
       "      <td>completer</td>\n",
       "      <td>67</td>\n",
       "      <td>pos</td>\n",
       "      <td>0.4703</td>\n",
       "      <td>pos</td>\n",
       "    </tr>\n",
       "    <tr>\n",
       "      <th>3</th>\n",
       "      <td>Awesome course! Definitely a very nice introdu...</td>\n",
       "      <td>5</td>\n",
       "      <td>completer</td>\n",
       "      <td>166</td>\n",
       "      <td>pos</td>\n",
       "      <td>0.9448</td>\n",
       "      <td>pos</td>\n",
       "    </tr>\n",
       "    <tr>\n",
       "      <th>4</th>\n",
       "      <td>Perfect for new learners</td>\n",
       "      <td>5</td>\n",
       "      <td>completer</td>\n",
       "      <td>24</td>\n",
       "      <td>pos</td>\n",
       "      <td>0.5719</td>\n",
       "      <td>pos</td>\n",
       "    </tr>\n",
       "    <tr>\n",
       "      <th>...</th>\n",
       "      <td>...</td>\n",
       "      <td>...</td>\n",
       "      <td>...</td>\n",
       "      <td>...</td>\n",
       "      <td>...</td>\n",
       "      <td>...</td>\n",
       "      <td>...</td>\n",
       "    </tr>\n",
       "    <tr>\n",
       "      <th>9686</th>\n",
       "      <td>excellent explanation starting with how comput...</td>\n",
       "      <td>5</td>\n",
       "      <td>dropout</td>\n",
       "      <td>129</td>\n",
       "      <td>pos</td>\n",
       "      <td>0.9080</td>\n",
       "      <td>pos</td>\n",
       "    </tr>\n",
       "    <tr>\n",
       "      <th>9687</th>\n",
       "      <td>My friend recommanded the lecture. It really d...</td>\n",
       "      <td>5</td>\n",
       "      <td>dropout</td>\n",
       "      <td>69</td>\n",
       "      <td>pos</td>\n",
       "      <td>0.5411</td>\n",
       "      <td>pos</td>\n",
       "    </tr>\n",
       "    <tr>\n",
       "      <th>9688</th>\n",
       "      <td>Highly recommend this sets  a good foundation ...</td>\n",
       "      <td>5</td>\n",
       "      <td>dropout</td>\n",
       "      <td>56</td>\n",
       "      <td>pos</td>\n",
       "      <td>0.6901</td>\n",
       "      <td>pos</td>\n",
       "    </tr>\n",
       "    <tr>\n",
       "      <th>9689</th>\n",
       "      <td>best python programming course for absolute be...</td>\n",
       "      <td>5</td>\n",
       "      <td>dropout</td>\n",
       "      <td>53</td>\n",
       "      <td>pos</td>\n",
       "      <td>0.6369</td>\n",
       "      <td>pos</td>\n",
       "    </tr>\n",
       "    <tr>\n",
       "      <th>9690</th>\n",
       "      <td>best one</td>\n",
       "      <td>4</td>\n",
       "      <td>completer</td>\n",
       "      <td>8</td>\n",
       "      <td>pos</td>\n",
       "      <td>0.6369</td>\n",
       "      <td>pos</td>\n",
       "    </tr>\n",
       "  </tbody>\n",
       "</table>\n",
       "<p>9691 rows × 7 columns</p>\n",
       "</div>"
      ],
      "text/plain": [
       "                                                 review  rating     status  \\\n",
       "0     Nice Course for beginners where we can enjoy a...       5  completer   \n",
       "1     Super easy and totally for the beginners like ...       5  completer   \n",
       "2     Very interactive and a nice course to start pr...       5  completer   \n",
       "3     Awesome course! Definitely a very nice introdu...       5  completer   \n",
       "4                              Perfect for new learners       5  completer   \n",
       "...                                                 ...     ...        ...   \n",
       "9686  excellent explanation starting with how comput...       5    dropout   \n",
       "9687  My friend recommanded the lecture. It really d...       5    dropout   \n",
       "9688  Highly recommend this sets  a good foundation ...       5    dropout   \n",
       "9689  best python programming course for absolute be...       5    dropout   \n",
       "9690                                           best one       4  completer   \n",
       "\n",
       "      length label  compound sentiment  \n",
       "0        135   pos    0.9062       pos  \n",
       "1        163   pos    0.9678       pos  \n",
       "2         67   pos    0.4703       pos  \n",
       "3        166   pos    0.9448       pos  \n",
       "4         24   pos    0.5719       pos  \n",
       "...      ...   ...       ...       ...  \n",
       "9686     129   pos    0.9080       pos  \n",
       "9687      69   pos    0.5411       pos  \n",
       "9688      56   pos    0.6901       pos  \n",
       "9689      53   pos    0.6369       pos  \n",
       "9690       8   pos    0.6369       pos  \n",
       "\n",
       "[9691 rows x 7 columns]"
      ]
     },
     "execution_count": 6,
     "metadata": {},
     "output_type": "execute_result"
    }
   ],
   "source": [
    "df"
   ]
  },
  {
   "cell_type": "code",
   "execution_count": 7,
   "metadata": {},
   "outputs": [
    {
     "data": {
      "text/plain": [
       "0"
      ]
     },
     "execution_count": 7,
     "metadata": {},
     "output_type": "execute_result"
    }
   ],
   "source": [
    "# Check for null values\n",
    "\n",
    "len(df[df['review'].isna()==True])"
   ]
  },
  {
   "cell_type": "code",
   "execution_count": 8,
   "metadata": {},
   "outputs": [],
   "source": [
    "# Drop null values\n",
    "\n",
    "# df.dropna(inplace = True)"
   ]
  },
  {
   "cell_type": "code",
   "execution_count": 9,
   "metadata": {},
   "outputs": [],
   "source": [
    "# Check for null values\n",
    "\n",
    "# len(df[df['review'].isna()==True])"
   ]
  },
  {
   "cell_type": "code",
   "execution_count": 10,
   "metadata": {},
   "outputs": [],
   "source": [
    "# Reset the index\n",
    "\n",
    "# df = df.reset_index(drop = True)"
   ]
  },
  {
   "cell_type": "code",
   "execution_count": 11,
   "metadata": {},
   "outputs": [
    {
     "data": {
      "text/html": [
       "<div>\n",
       "<style scoped>\n",
       "    .dataframe tbody tr th:only-of-type {\n",
       "        vertical-align: middle;\n",
       "    }\n",
       "\n",
       "    .dataframe tbody tr th {\n",
       "        vertical-align: top;\n",
       "    }\n",
       "\n",
       "    .dataframe thead th {\n",
       "        text-align: right;\n",
       "    }\n",
       "</style>\n",
       "<table border=\"1\" class=\"dataframe\">\n",
       "  <thead>\n",
       "    <tr style=\"text-align: right;\">\n",
       "      <th></th>\n",
       "      <th>review</th>\n",
       "      <th>rating</th>\n",
       "      <th>status</th>\n",
       "      <th>length</th>\n",
       "      <th>label</th>\n",
       "      <th>compound</th>\n",
       "      <th>sentiment</th>\n",
       "    </tr>\n",
       "  </thead>\n",
       "  <tbody>\n",
       "    <tr>\n",
       "      <th>0</th>\n",
       "      <td>Nice Course for beginners where we can enjoy a...</td>\n",
       "      <td>5</td>\n",
       "      <td>completer</td>\n",
       "      <td>135</td>\n",
       "      <td>pos</td>\n",
       "      <td>0.9062</td>\n",
       "      <td>pos</td>\n",
       "    </tr>\n",
       "    <tr>\n",
       "      <th>1</th>\n",
       "      <td>Super easy and totally for the beginners like ...</td>\n",
       "      <td>5</td>\n",
       "      <td>completer</td>\n",
       "      <td>163</td>\n",
       "      <td>pos</td>\n",
       "      <td>0.9678</td>\n",
       "      <td>pos</td>\n",
       "    </tr>\n",
       "    <tr>\n",
       "      <th>2</th>\n",
       "      <td>Very interactive and a nice course to start pr...</td>\n",
       "      <td>5</td>\n",
       "      <td>completer</td>\n",
       "      <td>67</td>\n",
       "      <td>pos</td>\n",
       "      <td>0.4703</td>\n",
       "      <td>pos</td>\n",
       "    </tr>\n",
       "    <tr>\n",
       "      <th>3</th>\n",
       "      <td>Awesome course! Definitely a very nice introdu...</td>\n",
       "      <td>5</td>\n",
       "      <td>completer</td>\n",
       "      <td>166</td>\n",
       "      <td>pos</td>\n",
       "      <td>0.9448</td>\n",
       "      <td>pos</td>\n",
       "    </tr>\n",
       "    <tr>\n",
       "      <th>4</th>\n",
       "      <td>Perfect for new learners</td>\n",
       "      <td>5</td>\n",
       "      <td>completer</td>\n",
       "      <td>24</td>\n",
       "      <td>pos</td>\n",
       "      <td>0.5719</td>\n",
       "      <td>pos</td>\n",
       "    </tr>\n",
       "    <tr>\n",
       "      <th>...</th>\n",
       "      <td>...</td>\n",
       "      <td>...</td>\n",
       "      <td>...</td>\n",
       "      <td>...</td>\n",
       "      <td>...</td>\n",
       "      <td>...</td>\n",
       "      <td>...</td>\n",
       "    </tr>\n",
       "    <tr>\n",
       "      <th>9686</th>\n",
       "      <td>excellent explanation starting with how comput...</td>\n",
       "      <td>5</td>\n",
       "      <td>dropout</td>\n",
       "      <td>129</td>\n",
       "      <td>pos</td>\n",
       "      <td>0.9080</td>\n",
       "      <td>pos</td>\n",
       "    </tr>\n",
       "    <tr>\n",
       "      <th>9687</th>\n",
       "      <td>My friend recommanded the lecture. It really d...</td>\n",
       "      <td>5</td>\n",
       "      <td>dropout</td>\n",
       "      <td>69</td>\n",
       "      <td>pos</td>\n",
       "      <td>0.5411</td>\n",
       "      <td>pos</td>\n",
       "    </tr>\n",
       "    <tr>\n",
       "      <th>9688</th>\n",
       "      <td>Highly recommend this sets  a good foundation ...</td>\n",
       "      <td>5</td>\n",
       "      <td>dropout</td>\n",
       "      <td>56</td>\n",
       "      <td>pos</td>\n",
       "      <td>0.6901</td>\n",
       "      <td>pos</td>\n",
       "    </tr>\n",
       "    <tr>\n",
       "      <th>9689</th>\n",
       "      <td>best python programming course for absolute be...</td>\n",
       "      <td>5</td>\n",
       "      <td>dropout</td>\n",
       "      <td>53</td>\n",
       "      <td>pos</td>\n",
       "      <td>0.6369</td>\n",
       "      <td>pos</td>\n",
       "    </tr>\n",
       "    <tr>\n",
       "      <th>9690</th>\n",
       "      <td>best one</td>\n",
       "      <td>4</td>\n",
       "      <td>completer</td>\n",
       "      <td>8</td>\n",
       "      <td>pos</td>\n",
       "      <td>0.6369</td>\n",
       "      <td>pos</td>\n",
       "    </tr>\n",
       "  </tbody>\n",
       "</table>\n",
       "<p>9691 rows × 7 columns</p>\n",
       "</div>"
      ],
      "text/plain": [
       "                                                 review  rating     status  \\\n",
       "0     Nice Course for beginners where we can enjoy a...       5  completer   \n",
       "1     Super easy and totally for the beginners like ...       5  completer   \n",
       "2     Very interactive and a nice course to start pr...       5  completer   \n",
       "3     Awesome course! Definitely a very nice introdu...       5  completer   \n",
       "4                              Perfect for new learners       5  completer   \n",
       "...                                                 ...     ...        ...   \n",
       "9686  excellent explanation starting with how comput...       5    dropout   \n",
       "9687  My friend recommanded the lecture. It really d...       5    dropout   \n",
       "9688  Highly recommend this sets  a good foundation ...       5    dropout   \n",
       "9689  best python programming course for absolute be...       5    dropout   \n",
       "9690                                           best one       4  completer   \n",
       "\n",
       "      length label  compound sentiment  \n",
       "0        135   pos    0.9062       pos  \n",
       "1        163   pos    0.9678       pos  \n",
       "2         67   pos    0.4703       pos  \n",
       "3        166   pos    0.9448       pos  \n",
       "4         24   pos    0.5719       pos  \n",
       "...      ...   ...       ...       ...  \n",
       "9686     129   pos    0.9080       pos  \n",
       "9687      69   pos    0.5411       pos  \n",
       "9688      56   pos    0.6901       pos  \n",
       "9689      53   pos    0.6369       pos  \n",
       "9690       8   pos    0.6369       pos  \n",
       "\n",
       "[9691 rows x 7 columns]"
      ]
     },
     "execution_count": 11,
     "metadata": {},
     "output_type": "execute_result"
    }
   ],
   "source": [
    "df"
   ]
  },
  {
   "cell_type": "code",
   "execution_count": 12,
   "metadata": {},
   "outputs": [],
   "source": [
    "# Define a function to plot the most frequent words\n",
    "\n",
    "def freq_words(x, terms = 30):\n",
    "    all_words = ' '.join([text for text in x])\n",
    "    all_words = all_words.split()\n",
    "\n",
    "    fdist = FreqDist(all_words)\n",
    "    words_df = pd.DataFrame({'word':list(fdist.keys()), 'count':list(fdist.values())})\n",
    "    \n",
    "    # selecting top 20 most frequent words\n",
    "    d = words_df.nlargest(columns=\"count\", n = terms) \n",
    "    plt.figure(figsize=(20,5))\n",
    "    ax = sns.barplot(data=d, x= \"word\", y = \"count\")\n",
    "    ax.set(ylabel = 'Count')\n",
    "    plt.xticks(rotation = 45)\n",
    "    plt.show()"
   ]
  },
  {
   "cell_type": "code",
   "execution_count": 13,
   "metadata": {},
   "outputs": [
    {
     "data": {
      "image/png": "[encoded data removed]",
      "text/plain": [
       "<Figure size 1440x360 with 1 Axes>"
      ]
     },
     "metadata": {
      "needs_background": "light"
     },
     "output_type": "display_data"
    }
   ],
   "source": [
    "# The most frquent words are stop words such as 'to' and 'the' we will remove these in the preprocessing steps\n",
    "\n",
    "freq_words(df['review'])"
   ]
  },
  {
   "cell_type": "markdown",
   "metadata": {},
   "source": [
    "## Preprocessing"
   ]
  },
  {
   "cell_type": "code",
   "execution_count": 14,
   "metadata": {},
   "outputs": [
    {
     "data": {
      "text/plain": [
       "0    nice course for beginners where we can enjoy a...\n",
       "1    super easy and totally for the beginners like ...\n",
       "2    very interactive and a nice course to start pr...\n",
       "3    awesome course! definitely a very nice introdu...\n",
       "4                             perfect for new learners\n",
       "Name: preprocessed, dtype: object"
      ]
     },
     "execution_count": 14,
     "metadata": {},
     "output_type": "execute_result"
    }
   ],
   "source": [
    "# Covert to lowercase\n",
    "\n",
    "df['preprocessed'] =  df['review'].apply(lambda x: \" \".join(x.lower() for x in x.split()))\n",
    "df['preprocessed'].head()"
   ]
  },
  {
   "cell_type": "code",
   "execution_count": 15,
   "metadata": {},
   "outputs": [
    {
     "data": {
      "text/plain": [
       "0    nice course for beginners where we can enjoy a...\n",
       "1    super easy and totally for the beginners like ...\n",
       "2    very interactive and a nice course to start pr...\n",
       "3    awesome course definitely a very nice introduc...\n",
       "4                             perfect for new learners\n",
       "Name: preprocessed, dtype: object"
      ]
     },
     "execution_count": 15,
     "metadata": {},
     "output_type": "execute_result"
    }
   ],
   "source": [
    "# Remove punctuations\n",
    "\n",
    "df['preprocessed'] = df['preprocessed'].str.replace('[^\\w\\s]','')\n",
    "df['preprocessed'].head()"
   ]
  },
  {
   "cell_type": "code",
   "execution_count": 16,
   "metadata": {},
   "outputs": [
    {
     "data": {
      "text/plain": [
       "0    course beginners enjoy learn well dr chuck mad...\n",
       "1    super easy totally beginners course title prof...\n",
       "2          interactive course start programming pyhton\n",
       "3    awesome course definitely introduction coding ...\n",
       "4                                 perfect new learners\n",
       "Name: preprocessed, dtype: object"
      ]
     },
     "execution_count": 16,
     "metadata": {},
     "output_type": "execute_result"
    }
   ],
   "source": [
    "# Remove stopwords\n",
    "\n",
    "stop = stopwords.words('english')\n",
    "stop.extend(['good', 'great', 'really', 'like', 'nice'])\n",
    "\n",
    "df['preprocessed'] = df['preprocessed'].apply(lambda x: \" \".join(x for x in x.split() if x not in stop))\n",
    "df['preprocessed'].head()"
   ]
  },
  {
   "cell_type": "code",
   "execution_count": 17,
   "metadata": {},
   "outputs": [],
   "source": [
    "# Remove short words (length < 3)\n",
    "\n",
    "# df['review'] = df['review'].apply(lambda x: ' '.join([w for w in x.split() if len(w)>2]))\n",
    "# df['review'].head()"
   ]
  },
  {
   "cell_type": "code",
   "execution_count": 18,
   "metadata": {},
   "outputs": [
    {
     "data": {
      "image/png": "[encoded data removed]",
      "text/plain": [
       "<Figure size 1440x360 with 1 Axes>"
      ]
     },
     "metadata": {
      "needs_background": "light"
     },
     "output_type": "display_data"
    }
   ],
   "source": [
    "# Look at the most frequent words again \n",
    "\n",
    "freq_words(df['preprocessed'])"
   ]
  },
  {
   "cell_type": "code",
   "execution_count": 19,
   "metadata": {},
   "outputs": [
    {
     "data": {
      "text/plain": [
       "0    [course, beginners, enjoy, learn, well, dr, ch...\n",
       "1    [super, easy, totally, beginners, course, titl...\n",
       "2    [interactive, course, start, programming, pyhton]\n",
       "3    [awesome, course, definitely, introduction, co...\n",
       "4                             [perfect, new, learners]\n",
       "Name: preprocessed, dtype: object"
      ]
     },
     "execution_count": 19,
     "metadata": {},
     "output_type": "execute_result"
    }
   ],
   "source": [
    "# Tokenization\n",
    "\n",
    "tokenizer = RegexpTokenizer(r'\\w+')\n",
    "\n",
    "df['preprocessed'] = df['preprocessed'].apply(lambda x: tokenizer.tokenize(x.lower()))\n",
    "df['preprocessed'].head(5)\n"
   ]
  },
  {
   "cell_type": "code",
   "execution_count": 20,
   "metadata": {},
   "outputs": [
    {
     "data": {
      "text/plain": [
       "0    [(course, NN), (beginners, NNS), (enjoy, VBP),...\n",
       "1    [(super, JJ), (easy, JJ), (totally, RB), (begi...\n",
       "2    [(interactive, JJ), (course, NN), (start, NN),...\n",
       "3    [(awesome, JJ), (course, NN), (definitely, RB)...\n",
       "4          [(perfect, JJ), (new, JJ), (learners, NNS)]\n",
       "Name: preprocessed, dtype: object"
      ]
     },
     "execution_count": 20,
     "metadata": {},
     "output_type": "execute_result"
    }
   ],
   "source": [
    "# Add speech tags\n",
    "\n",
    "df['preprocessed'] = df['preprocessed'].apply(nltk.tag.pos_tag)\n",
    "df['preprocessed'].head()"
   ]
  },
  {
   "cell_type": "code",
   "execution_count": 21,
   "metadata": {},
   "outputs": [],
   "source": [
    "# Define function to convert parts of speech tags to wordnet’s format\n",
    "\n",
    "def get_wordnet_pos(tag):\n",
    "    if tag.startswith('J'):\n",
    "        return wordnet.ADJ\n",
    "    elif tag.startswith('V'):\n",
    "        return wordnet.VERB\n",
    "    elif tag.startswith('N'):\n",
    "        return wordnet.NOUN\n",
    "    elif tag.startswith('R'):\n",
    "        return wordnet.ADV\n",
    "    else:\n",
    "        return wordnet.NOUN"
   ]
  },
  {
   "cell_type": "code",
   "execution_count": 22,
   "metadata": {},
   "outputs": [
    {
     "data": {
      "text/plain": [
       "0    [(course, n), (beginners, n), (enjoy, v), (lea...\n",
       "1    [(super, a), (easy, a), (totally, r), (beginne...\n",
       "2    [(interactive, a), (course, n), (start, n), (p...\n",
       "3    [(awesome, a), (course, n), (definitely, r), (...\n",
       "4              [(perfect, a), (new, a), (learners, n)]\n",
       "Name: preprocessed, dtype: object"
      ]
     },
     "execution_count": 22,
     "metadata": {},
     "output_type": "execute_result"
    }
   ],
   "source": [
    "# Apply the function to the tagged data\n",
    "\n",
    "df['preprocessed'] = df['preprocessed'].apply(lambda x: [(word, get_wordnet_pos(pos_tag)) for (word, pos_tag) in x])\n",
    "df['preprocessed'].head()"
   ]
  },
  {
   "cell_type": "code",
   "execution_count": 23,
   "metadata": {},
   "outputs": [
    {
     "data": {
      "text/plain": [
       "0    [course, beginner, enjoy, learn, well, dr, chu...\n",
       "1    [super, easy, totally, beginner, course, title...\n",
       "2        [interactive, course, start, program, pyhton]\n",
       "3    [awesome, course, definitely, introduction, co...\n",
       "4                              [perfect, new, learner]\n",
       "Name: preprocessed, dtype: object"
      ]
     },
     "execution_count": 23,
     "metadata": {},
     "output_type": "execute_result"
    }
   ],
   "source": [
    "# Create lemmatizer\n",
    "\n",
    "lemmatizer = WordNetLemmatizer()\n",
    "\n",
    "# Apply to data \n",
    "\n",
    "df['preprocessed'] = df['preprocessed'].apply(lambda x: [lemmatizer.lemmatize(word, tag) for word, tag in x])\n",
    "df['preprocessed'].head()"
   ]
  },
  {
   "cell_type": "code",
   "execution_count": 24,
   "metadata": {},
   "outputs": [],
   "source": [
    "# Join reviews\n",
    "\n",
    "df['joined'] = df['preprocessed'].apply(lambda x: ' '.join(x))"
   ]
  },
  {
   "cell_type": "code",
   "execution_count": 25,
   "metadata": {},
   "outputs": [
    {
     "data": {
      "image/png": "[encoded data removed]",
      "text/plain": [
       "<Figure size 1440x360 with 1 Axes>"
      ]
     },
     "metadata": {
      "needs_background": "light"
     },
     "output_type": "display_data"
    }
   ],
   "source": [
    "# Most frequent words after lemmatizing \n",
    "\n",
    "freq_words(df['joined'], 35)"
   ]
  },
  {
   "cell_type": "markdown",
   "metadata": {},
   "source": [
    "## LDA Topic Modeling"
   ]
  },
  {
   "cell_type": "code",
   "execution_count": 26,
   "metadata": {},
   "outputs": [],
   "source": [
    "# Create a dictionary from 'df_sen['review']' containing the number of times a word appears in the training set\n",
    "\n",
    "dictionary = gensim.corpora.Dictionary(df['preprocessed'])"
   ]
  },
  {
   "cell_type": "code",
   "execution_count": 27,
   "metadata": {},
   "outputs": [],
   "source": [
    "# Gensim filter extremes\n",
    "\n",
    "# Filter out tokens that appear in:\n",
    "# Less than 50 documents, more than 0.5 documents, and keep only 100000 most frquent tokens\n",
    "\n",
    "dictionary.filter_extremes(no_below = 50, no_above = 0.5, keep_n = 100000)"
   ]
  },
  {
   "cell_type": "code",
   "execution_count": 28,
   "metadata": {},
   "outputs": [],
   "source": [
    "# Gensim doc2bow\n",
    "# Create a dictionary reporting how many words and how many times those words appear\n",
    "\n",
    "corpus = [dictionary.doc2bow(doc) for doc in df['preprocessed']]\n"
   ]
  },
  {
   "cell_type": "code",
   "execution_count": 47,
   "metadata": {},
   "outputs": [],
   "source": [
    "# Creating the object for LDA model using gensim library\n",
    "LDA = gensim.models.LdaMulticore\n",
    "\n",
    "# Build LDA model\n",
    "lda_model = LDA(corpus = corpus, id2word = dictionary, num_topics = 5, random_state = 100,\n",
    "                chunksize = 100, passes = 10)"
   ]
  },
  {
   "cell_type": "code",
   "execution_count": 48,
   "metadata": {},
   "outputs": [
    {
     "name": "stdout",
     "output_type": "stream",
     "text": [
      "Topic: 0\n",
      "Word: 0.073*\"course\" + 0.028*\"make\" + 0.028*\"easy\" + 0.024*\"assignment\" + 0.024*\"instructor\" + 0.023*\"well\" + 0.023*\"explain\" + 0.020*\"way\" + 0.018*\"understand\" + 0.017*\"think\"\n",
      "\n",
      "Topic: 1\n",
      "Word: 0.122*\"learn\" + 0.080*\"course\" + 0.071*\"lot\" + 0.061*\"experience\" + 0.060*\"awesome\" + 0.058*\"teach\" + 0.044*\"way\" + 0.037*\"thanks\" + 0.035*\"thank\" + 0.034*\"python\"\n",
      "\n",
      "Topic: 2\n",
      "Word: 0.107*\"course\" + 0.100*\"python\" + 0.073*\"excellent\" + 0.061*\"basic\" + 0.050*\"program\" + 0.043*\"easy\" + 0.037*\"learn\" + 0.032*\"understand\" + 0.030*\"language\" + 0.028*\"programming\"\n",
      "\n",
      "Topic: 3\n",
      "Word: 0.285*\"course\" + 0.089*\"beginner\" + 0.079*\"best\" + 0.073*\"python\" + 0.043*\"love\" + 0.035*\"start\" + 0.033*\"amaze\" + 0.030*\"helpful\" + 0.028*\"one\" + 0.028*\"learn\"\n",
      "\n",
      "Topic: 4\n",
      "Word: 0.067*\"dr\" + 0.062*\"thank\" + 0.059*\"course\" + 0.055*\"chuck\" + 0.036*\"charles\" + 0.032*\"severance\" + 0.031*\"teacher\" + 0.031*\"coursera\" + 0.026*\"much\" + 0.024*\"program\"\n",
      "\n"
     ]
    }
   ],
   "source": [
    "# Explore the words occurring in each topic and its relative weight\n",
    "\n",
    "for id, topic in lda_model.print_topics(-1):\n",
    "    print('Topic: {}\\nWord: {}\\n'.format(id, topic))"
   ]
  },
  {
   "cell_type": "markdown",
   "metadata": {},
   "source": [
    "### Visualise with pyLDAvis\n",
    "\n",
    "Original paper: https://nlp.stanford.edu/events/illvi2014/papers/sievert-illvi2014.pdf"
   ]
  },
  {
   "cell_type": "code",
   "execution_count": 49,
   "metadata": {
    "scrolled": false
   },
   "outputs": [
    {
     "data": {
      "text/html": [
       "\n",
       "<link rel=\"stylesheet\" type=\"text/css\" href=\"https://cdn.jsdelivr.net/gh/bmabey/pyLDAvis@3.2.2/pyLDAvis/js/ldavis.v1.0.0.css\">\n",
       "\n",
       "\n",
       "<div id=\"ldavis_el268001402958403899681765356212\"></div>\n",
       "<script type=\"text/javascript\">\n",
       "\n",
       "var ldavis_el268001402958403899681765356212_data = {\"mdsDat\": {\"x\": [-0.06782124789208756, -0.16376076692434802, 0.1560609501524587, -0.16119450445567768, 0.23671556911965497], \"y\": [-0.23254056663134237, 0.029119659896155923, -0.0667701972266282, 0.16219934700752262, 0.10799175695429197], \"topics\": [1, 2, 3, 4, 5], \"cluster\": [1, 1, 1, 1, 1], \"Freq\": [24.87936999100749, 23.796276441270876, 18.447121901427742, 17.871805051615475, 15.005426614678417]}, \"tinfo\": {\"Term\": [\"course\", \"best\", \"excellent\", \"beginner\", \"dr\", \"learn\", \"lot\", \"thank\", \"chuck\", \"awesome\", \"basic\", \"experience\", \"python\", \"teach\", \"way\", \"easy\", \"love\", \"thanks\", \"charles\", \"understand\", \"coursera\", \"severance\", \"amaze\", \"make\", \"language\", \"well\", \"assignment\", \"programming\", \"one\", \"wonderful\", \"assignment\", \"everything\", \"think\", \"interesting\", \"code\", \"simple\", \"could\", \"bit\", \"quiz\", \"overall\", \"exercise\", \"example\", \"week\", \"lesson\", \"video\", \"practice\", \"difficult\", \"challenge\", \"write\", \"pretty\", \"videos\", \"different\", \"clearly\", \"job\", \"though\", \"point\", \"need\", \"problem\", \"feel\", \"little\", \"go\", \"topic\", \"content\", \"make\", \"material\", \"lecture\", \"explain\", \"time\", \"amazing\", \"well\", \"even\", \"easy\", \"instructor\", \"way\", \"course\", \"also\", \"understand\", \"every\", \"get\", \"would\", \"cod\", \"concept\", \"program\", \"excellent\", \"fundamental\", \"introduction\", \"understanding\", \"design\", \"language\", \"perfect\", \"people\", \"basic\", \"programming\", \"learner\", \"informative\", \"computer\", \"background\", \"useful\", \"knowledge\", \"understand\", \"concept\", \"pace\", \"easy\", \"extremely\", \"build\", \"clear\", \"friendly\", \"know\", \"well\", \"begin\", \"without\", \"highly\", \"program\", \"python\", \"new\", \"help\", \"course\", \"explain\", \"learn\", \"beginner\", \"start\", \"recommend\", \"helpful\", \"want\", \"get\", \"instructor\", \"dr\", \"chuck\", \"interest\", \"anyone\", \"university\", \"learning\", \"world\", \"michigan\", \"mr\", \"introductory\", \"engage\", \"prior\", \"severance\", \"russell\", \"charles\", \"drchuck\", \"coursera\", \"thank\", \"teacher\", \"class\", \"opportunity\", \"step\", \"idea\", \"much\", \"work\", \"first\", \"online\", \"would\", \"without\", \"zero\", \"want\", \"recommend\", \"make\", \"take\", \"course\", \"program\", \"thanks\", \"experience\", \"python\", \"learn\", \"best\", \"ever\", \"must\", \"journey\", \"love\", \"learnt\", \"amaze\", \"beginner\", \"one\", \"helpful\", \"specialization\", \"everybody\", \"forward\", \"next\", \"complete\", \"zero\", \"ive\", \"start\", \"online\", \"look\", \"course\", \"interactive\", \"platform\", \"see\", \"loved\", \"take\", \"cod\", \"useful\", \"friendly\", \"especially\", \"python\", \"instructor\", \"program\", \"learn\", \"recommend\", \"get\", \"want\", \"awesome\", \"wonderful\", \"lot\", \"gain\", \"fantastic\", \"u\", \"lecturer\", \"enjoy\", \"experience\", \"teach\", \"style\", \"thanks\", \"sir\", \"thing\", \"platform\", \"fun\", \"loved\", \"way\", \"many\", \"teaching\", \"prof\", \"learn\", \"happy\", \"new\", \"easily\", \"skill\", \"understandable\", \"opportunity\", \"professor\", \"much\", \"thank\", \"coursera\", \"help\", \"course\", \"python\", \"charles\", \"basic\", \"teacher\", \"instructor\"], \"Freq\": [5520.0, 665.0, 821.0, 1040.0, 584.0, 1741.0, 505.0, 787.0, 476.0, 421.0, 763.0, 566.0, 2214.0, 583.0, 543.0, 815.0, 410.0, 378.0, 384.0, 571.0, 384.0, 294.0, 359.0, 493.0, 358.0, 581.0, 281.0, 352.0, 334.0, 190.0, 281.1092914068166, 151.09695189803546, 197.0898633350809, 143.91326270542123, 128.4368368156009, 182.48996648614246, 114.69579529144568, 92.57178293066967, 89.6433190861845, 84.64758685292527, 117.2077431050224, 102.05678633394932, 81.68720667730027, 74.0258907619711, 175.2177668869182, 65.41764550330052, 63.75193594495883, 61.71728756305818, 58.24267316202135, 58.40958068214048, 53.5907819844909, 54.6854341382234, 59.78519037333477, 46.2769836942271, 46.98392688332179, 53.50904104753472, 100.50728145895614, 70.90045771544717, 95.16422252040424, 68.61533895635486, 135.30859582877557, 104.86292515265922, 163.24188230326337, 330.06816878655036, 122.33004423786082, 147.68005527170223, 265.7381332247961, 138.9778774848778, 126.97386769128327, 268.2140244755914, 112.039064831977, 325.15430840666284, 276.26488218537594, 234.215838676338, 849.9902760657648, 140.78057470753583, 214.43364824713743, 113.43144818891305, 162.66053705033255, 127.33610250339619, 114.87181241214651, 110.59319120958934, 119.45312327714602, 816.1150590496256, 61.65439822453028, 182.17950317304798, 51.50063536378168, 59.00741252165136, 335.3009530552368, 132.36271468074446, 114.14448888576176, 681.6799487544204, 314.3877938327537, 47.55502284379909, 110.1208034875163, 75.36702485846978, 71.92160780172821, 196.89602159562634, 212.08237554569246, 356.74396854775887, 178.12265610584777, 39.10616680996224, 486.6226363112532, 32.750792432921074, 37.48787371280468, 134.4175381584778, 53.9741379555193, 129.28854031665153, 307.6855262767536, 55.12949029320728, 38.81134830341322, 79.18532808264295, 561.7519938465801, 1123.6820464467928, 93.59899845044677, 130.9602411268763, 1196.7945734674652, 162.65876883004555, 416.34565111618224, 286.26836812081734, 195.15579571302086, 117.59344854370222, 102.26352272354538, 93.03233878002915, 95.7536721516628, 97.58295871536602, 583.5886591541712, 475.4467567593617, 195.1944907574717, 148.52775158378103, 111.78660790267203, 103.31039940335724, 100.95026475729489, 93.81237942376048, 76.73775985835458, 73.69245927523728, 68.2075482918657, 86.57998872267143, 277.20149716331883, 70.56129252105156, 308.3857608244104, 59.12573859017606, 265.4257222914196, 539.6132723599925, 270.9314627981545, 180.9261297383255, 47.390102007569475, 60.17643232799924, 37.91585599658036, 224.94733339476812, 94.63973618088522, 119.59627165436187, 89.67684945410622, 128.07746306101328, 34.72832414771683, 24.525008417904154, 130.60586789930977, 123.34182441184383, 162.61321725409468, 117.64815711412813, 510.1536446985687, 212.7693181816019, 117.934860336095, 134.58084471179342, 147.7669036969836, 126.58174958995937, 664.611519734913, 161.50548291113788, 58.70755414573161, 53.564084100855254, 362.88551911189217, 85.27428639814526, 274.9022273112398, 747.2565642569466, 237.60745749578174, 252.51561950710692, 35.379528269748086, 61.86981982296147, 60.574011259155185, 53.16414187995746, 111.16569320743969, 29.25925870472149, 40.40807473112819, 297.0670207263872, 86.27507649553837, 75.01824703393558, 2395.904862836429, 25.89252552057296, 47.24696641273175, 31.390531039251925, 18.79132053432959, 127.07375191450646, 60.01668144731634, 100.11397779342444, 30.2681717039724, 21.40032960593439, 615.2329283291042, 138.22069297297347, 181.63860260218505, 236.71424392882972, 68.52555241072055, 76.03185822871352, 49.707947059380736, 421.11034674168525, 189.86208298924802, 498.26578332548854, 56.36209426062055, 58.10753478236273, 133.5825274760206, 48.45861769139289, 215.3778471080343, 428.7035167055489, 410.0050425332786, 47.96994869559633, 259.47502829480806, 135.1134685855921, 135.5033036165275, 65.70692278802215, 182.3481091640661, 28.43457873711869, 309.0081729580532, 52.39172981535756, 57.73325472582445, 36.53484152432199, 862.4380016785411, 44.72119293568968, 83.70345571083837, 51.594116261447475, 53.1406814347694, 38.56435114702529, 27.32095706121383, 120.53895765081789, 144.95087130223558, 246.77698419529958, 118.38029041709899, 99.0555113873775, 567.2038506682677, 240.90786337341288, 75.36506166267117, 77.38196412338426, 63.42760580364952, 58.04139982142137], \"Total\": [5520.0, 665.0, 821.0, 1040.0, 584.0, 1741.0, 505.0, 787.0, 476.0, 421.0, 763.0, 566.0, 2214.0, 583.0, 543.0, 815.0, 410.0, 378.0, 384.0, 571.0, 384.0, 294.0, 359.0, 493.0, 358.0, 581.0, 281.0, 352.0, 334.0, 190.0, 281.9522679369634, 151.90716786886318, 198.20686000395597, 144.72921898978583, 129.2450420437997, 183.78627161350613, 115.55845822264307, 93.38259495915987, 90.45322023439131, 85.45952435281127, 118.36047915258348, 103.07056157851434, 82.50547895906533, 74.83910757231833, 177.27024865533042, 66.2420867648062, 64.55763099429655, 62.547843379538136, 59.04922749485611, 59.22066243123996, 54.40201315044607, 55.522846833549636, 60.80076285913414, 47.08820223979654, 48.103508681408535, 57.003664750603804, 107.07547442543999, 78.40071617477886, 107.43452378983662, 78.37200731562243, 156.836701474674, 121.73298294104153, 208.7674008645851, 493.3936516947976, 155.3327384077181, 200.81791050643545, 442.1973956651124, 194.72361283240616, 175.65191075940646, 581.5930786379922, 155.38612259314462, 815.817011565264, 642.5491675078099, 543.9068092695447, 5520.047207736496, 241.58337328466766, 571.8204870923014, 160.02008280885195, 404.67550792877665, 256.59005818894786, 175.62410382620428, 290.2854875298639, 1084.6428395462349, 821.5958665017246, 62.74626160402794, 187.40676481007452, 53.28641936822053, 61.205040465501604, 358.6857462731492, 141.6696830314289, 125.43590739187661, 763.0611927269886, 352.04051904024794, 54.90678326555839, 131.3899764295105, 103.44299745603661, 101.03717261077473, 297.6582386485458, 326.54551346536897, 571.8204870923014, 290.2854875298639, 64.65677762306974, 815.817011565264, 55.1136856274625, 65.42429414573897, 235.9897381859111, 97.62155743774692, 234.07594848898867, 581.5930786379922, 104.98826534441935, 74.15915840488225, 152.61119175846463, 1084.6428395462349, 2214.760017113721, 194.18997588141136, 320.069091938416, 5520.047207736496, 442.1973956651124, 1741.9719370007429, 1040.954325221885, 597.8022316907675, 323.0498288984861, 373.4014564406575, 293.8726602661241, 404.67550792877665, 642.5491675078099, 584.5840095928913, 476.5448858768133, 196.01114899041895, 149.34074380842756, 112.61043498681063, 104.12176995415754, 101.76560985751789, 94.6167418167172, 77.54341293361296, 74.50488878065305, 69.01860877970168, 88.9910048151584, 294.2033938360153, 75.10874173064445, 384.9569551466719, 81.52618101138333, 384.6258170066888, 787.627057583001, 414.78148448110744, 284.2478428983013, 75.3128529227062, 97.62912228184605, 62.171670348320625, 408.60828654036777, 175.00347250860267, 226.15059460677512, 179.57115380252333, 256.59005818894786, 74.15915840488225, 54.406455205332584, 293.8726602661241, 323.0498288984861, 493.3936516947976, 342.58797931357486, 5520.047207736496, 1084.6428395462349, 378.9483415446207, 566.0737991282135, 2214.760017113721, 1741.9719370007429, 665.4768017724331, 162.34146479792338, 60.69616677619982, 56.725074558420296, 410.61196736257335, 108.58179712653268, 359.70322763431824, 1040.954325221885, 334.7918440266959, 373.4014564406575, 54.10204527867234, 95.986652868252, 98.43198203105251, 94.1856901331718, 202.72104220567738, 54.406455205332584, 77.78729659883055, 597.8022316907675, 179.57115380252333, 167.24600674562586, 5520.047207736496, 59.87289559222177, 113.58262421778126, 77.89661861925838, 50.030503409021854, 342.58797931357486, 175.62410382620428, 297.6582386485458, 97.62155743774692, 73.36682918591191, 2214.760017113721, 642.5491675078099, 1084.6428395462349, 1741.9719370007429, 323.0498288984861, 404.67550792877665, 293.8726602661241, 421.9270724613364, 190.681127480277, 505.779077917996, 57.52466525698377, 60.960399726845566, 143.18168415597583, 52.842406774826486, 272.94263327010776, 566.0737991282135, 583.1833596573367, 69.14487229233075, 378.9483415446207, 197.40868523742031, 219.19401497902652, 113.58262421778126, 318.2331511777928, 50.030503409021854, 543.9068092695447, 96.2133101304308, 113.30315277906158, 73.37023461944722, 1741.9719370007429, 91.24608916298175, 194.18997588141136, 125.99365884683016, 130.6303212456606, 102.6749164171391, 75.3128529227062, 336.4552414881716, 408.60828654036777, 787.627057583001, 384.6258170066888, 320.069091938416, 5520.047207736496, 2214.760017113721, 384.9569551466719, 763.0611927269886, 414.78148448110744, 642.5491675078099], \"Category\": [\"Default\", \"Default\", \"Default\", \"Default\", \"Default\", \"Default\", \"Default\", \"Default\", \"Default\", \"Default\", \"Default\", \"Default\", \"Default\", \"Default\", \"Default\", \"Default\", \"Default\", \"Default\", \"Default\", \"Default\", \"Default\", \"Default\", \"Default\", \"Default\", \"Default\", \"Default\", \"Default\", \"Default\", \"Default\", \"Default\", \"Topic1\", \"Topic1\", \"Topic1\", \"Topic1\", \"Topic1\", \"Topic1\", \"Topic1\", \"Topic1\", \"Topic1\", \"Topic1\", \"Topic1\", \"Topic1\", \"Topic1\", \"Topic1\", \"Topic1\", \"Topic1\", \"Topic1\", \"Topic1\", \"Topic1\", \"Topic1\", \"Topic1\", \"Topic1\", \"Topic1\", \"Topic1\", \"Topic1\", \"Topic1\", \"Topic1\", \"Topic1\", \"Topic1\", \"Topic1\", \"Topic1\", \"Topic1\", \"Topic1\", \"Topic1\", \"Topic1\", \"Topic1\", \"Topic1\", \"Topic1\", \"Topic1\", \"Topic1\", \"Topic1\", \"Topic1\", \"Topic1\", \"Topic1\", \"Topic1\", \"Topic1\", \"Topic1\", \"Topic1\", \"Topic1\", \"Topic1\", \"Topic1\", \"Topic1\", \"Topic1\", \"Topic2\", \"Topic2\", \"Topic2\", \"Topic2\", \"Topic2\", \"Topic2\", \"Topic2\", \"Topic2\", \"Topic2\", \"Topic2\", \"Topic2\", \"Topic2\", \"Topic2\", \"Topic2\", \"Topic2\", \"Topic2\", \"Topic2\", \"Topic2\", \"Topic2\", \"Topic2\", \"Topic2\", \"Topic2\", \"Topic2\", \"Topic2\", \"Topic2\", \"Topic2\", \"Topic2\", \"Topic2\", \"Topic2\", \"Topic2\", \"Topic2\", \"Topic2\", \"Topic2\", \"Topic2\", \"Topic2\", \"Topic2\", \"Topic2\", \"Topic2\", \"Topic2\", \"Topic2\", \"Topic2\", \"Topic2\", \"Topic2\", \"Topic3\", \"Topic3\", \"Topic3\", \"Topic3\", \"Topic3\", \"Topic3\", \"Topic3\", \"Topic3\", \"Topic3\", \"Topic3\", \"Topic3\", \"Topic3\", \"Topic3\", \"Topic3\", \"Topic3\", \"Topic3\", \"Topic3\", \"Topic3\", \"Topic3\", \"Topic3\", \"Topic3\", \"Topic3\", \"Topic3\", \"Topic3\", \"Topic3\", \"Topic3\", \"Topic3\", \"Topic3\", \"Topic3\", \"Topic3\", \"Topic3\", \"Topic3\", \"Topic3\", \"Topic3\", \"Topic3\", \"Topic3\", \"Topic3\", \"Topic3\", \"Topic3\", \"Topic3\", \"Topic4\", \"Topic4\", \"Topic4\", \"Topic4\", \"Topic4\", \"Topic4\", \"Topic4\", \"Topic4\", \"Topic4\", \"Topic4\", \"Topic4\", \"Topic4\", \"Topic4\", \"Topic4\", \"Topic4\", \"Topic4\", \"Topic4\", \"Topic4\", \"Topic4\", \"Topic4\", \"Topic4\", \"Topic4\", \"Topic4\", \"Topic4\", \"Topic4\", \"Topic4\", \"Topic4\", \"Topic4\", \"Topic4\", \"Topic4\", \"Topic4\", \"Topic4\", \"Topic4\", \"Topic4\", \"Topic4\", \"Topic4\", \"Topic4\", \"Topic5\", \"Topic5\", \"Topic5\", \"Topic5\", \"Topic5\", \"Topic5\", \"Topic5\", \"Topic5\", \"Topic5\", \"Topic5\", \"Topic5\", \"Topic5\", \"Topic5\", \"Topic5\", \"Topic5\", \"Topic5\", \"Topic5\", \"Topic5\", \"Topic5\", \"Topic5\", \"Topic5\", \"Topic5\", \"Topic5\", \"Topic5\", \"Topic5\", \"Topic5\", \"Topic5\", \"Topic5\", \"Topic5\", \"Topic5\", \"Topic5\", \"Topic5\", \"Topic5\", \"Topic5\", \"Topic5\", \"Topic5\", \"Topic5\", \"Topic5\", \"Topic5\"], \"logprob\": [30.0, 29.0, 28.0, 27.0, 26.0, 25.0, 24.0, 23.0, 22.0, 21.0, 20.0, 19.0, 18.0, 17.0, 16.0, 15.0, 14.0, 13.0, 12.0, 11.0, 10.0, 9.0, 8.0, 7.0, 6.0, 5.0, 4.0, 3.0, 2.0, 1.0, -3.7298, -4.3506, -4.0849, -4.3993, -4.5131, -4.1619, -4.6263, -4.8406, -4.8727, -4.9301, -4.6046, -4.743, -4.9657, -5.0641, -4.2025, -5.1878, -5.2136, -5.246, -5.3039, -5.3011, -5.3872, -5.367, -5.2778, -5.5339, -5.5188, -5.3887, -4.7583, -5.1073, -4.813, -5.14, -4.461, -4.7159, -4.2733, -3.5693, -4.5618, -4.3735, -3.786, -4.4342, -4.5246, -3.7768, -4.6497, -3.5843, -3.7472, -3.9123, -2.6233, -4.4214, -4.0006, -4.6374, -4.2769, -4.5217, -4.6247, -4.6627, -4.5856, -2.6195, -5.2025, -4.1191, -5.3825, -5.2464, -3.509, -4.4385, -4.5866, -2.7995, -3.5734, -5.4622, -4.6225, -5.0017, -5.0485, -4.0414, -3.9671, -3.447, -4.1416, -5.6578, -3.1366, -5.8351, -5.7, -4.4231, -5.3355, -4.462, -3.595, -5.3144, -5.6653, -4.9523, -2.993, -2.2997, -4.785, -4.4492, -2.2366, -4.2324, -3.2925, -3.6671, -4.0502, -4.5568, -4.6965, -4.7911, -4.7623, -4.7433, -2.7002, -2.9052, -3.7954, -4.0687, -4.3528, -4.4317, -4.4548, -4.5281, -4.729, -4.7695, -4.8469, -4.6084, -3.4447, -4.8129, -3.3381, -4.9898, -3.4881, -2.7786, -3.4676, -3.8713, -5.211, -4.9721, -5.4341, -3.6536, -4.5193, -4.2853, -4.5732, -4.2168, -5.5219, -5.8697, -4.1972, -4.2545, -3.9781, -4.3017, -2.8347, -3.7092, -4.2993, -4.1673, -4.0738, -4.2285, -2.5385, -3.9532, -4.9652, -5.0569, -3.1437, -4.5919, -3.4213, -2.4213, -3.5671, -3.5063, -5.4716, -4.9127, -4.9339, -5.0644, -4.3267, -5.6615, -5.3387, -3.3438, -4.5802, -4.72, -1.2562, -5.7838, -5.1824, -5.5912, -6.1043, -4.193, -4.9431, -4.4314, -5.6276, -5.9743, -2.6157, -4.1089, -3.8357, -3.5709, -4.8105, -4.7066, -5.1316, -2.82, -3.6166, -2.6518, -4.8311, -4.8006, -3.9682, -4.9822, -3.4905, -2.8022, -2.8468, -4.9924, -3.3043, -3.9568, -3.9539, -4.6777, -3.657, -5.5153, -3.1296, -4.9042, -4.8071, -5.2647, -2.1032, -5.0625, -4.4356, -4.9195, -4.89, -5.2106, -5.5553, -4.071, -3.8865, -3.3544, -4.089, -4.2672, -2.5222, -3.3785, -4.5406, -4.5142, -4.713, -4.8018], \"loglift\": [30.0, 29.0, 28.0, 27.0, 26.0, 25.0, 24.0, 23.0, 22.0, 21.0, 20.0, 19.0, 18.0, 17.0, 16.0, 15.0, 14.0, 13.0, 12.0, 11.0, 10.0, 9.0, 8.0, 7.0, 6.0, 5.0, 4.0, 3.0, 2.0, 1.0, 1.3881, 1.3858, 1.3855, 1.3855, 1.3849, 1.3841, 1.3836, 1.3824, 1.3821, 1.3816, 1.3813, 1.3812, 1.3812, 1.3802, 1.3795, 1.3786, 1.3786, 1.3778, 1.3774, 1.3773, 1.3761, 1.3759, 1.3743, 1.3738, 1.3676, 1.3279, 1.3278, 1.2906, 1.2699, 1.2582, 1.2435, 1.242, 1.1451, 0.9891, 1.1523, 1.0838, 0.8819, 1.0539, 1.0666, 0.6171, 1.0641, 0.4712, 0.547, 0.5486, -0.4798, 0.8511, 0.4103, 1.047, 0.4797, 0.6905, 0.9666, 0.4261, -0.815, 1.4289, 1.4181, 1.4074, 1.4016, 1.3991, 1.3682, 1.3677, 1.3413, 1.3229, 1.3225, 1.2919, 1.259, 1.119, 1.0957, 1.0224, 1.004, 0.9638, 0.9472, 0.9328, 0.9189, 0.9152, 0.8788, 0.8728, 0.843, 0.842, 0.7989, 0.7915, 0.7881, 0.7795, 0.7777, 0.7571, 0.7058, 0.542, -0.0931, 0.4355, 0.0044, 0.1447, 0.3162, 0.4251, 0.1405, 0.2854, -0.0057, -0.4491, 1.6886, 1.688, 1.6861, 1.6848, 1.6829, 1.6824, 1.6822, 1.6817, 1.6798, 1.6793, 1.6784, 1.6628, 1.6307, 1.6278, 1.4685, 1.369, 1.3193, 1.3121, 1.2644, 1.2385, 1.227, 1.2064, 1.1957, 1.0934, 1.0755, 1.0532, 0.9959, 0.9954, 0.9316, 0.8935, 0.8793, 0.7274, 0.5803, 0.6214, -0.6912, 0.0615, 0.523, 0.2537, -1.017, -0.9316, 1.7206, 1.7168, 1.6886, 1.6646, 1.5984, 1.4803, 1.4531, 1.3905, 1.3791, 1.3308, 1.2972, 1.2828, 1.2364, 1.1501, 1.1211, 1.1017, 1.067, 1.0226, 0.9889, 0.9202, 0.8873, 0.8837, 0.8448, 0.8131, 0.7427, 0.7302, 0.6482, 0.6323, 0.5509, 0.4899, 0.441, 0.1854, -0.065, -0.274, 0.1713, 0.05, -0.055, 1.8948, 1.8925, 1.8818, 1.8763, 1.8488, 1.8274, 1.8102, 1.6599, 1.6188, 1.5444, 1.5311, 1.518, 1.5176, 1.4158, 1.3494, 1.3399, 1.3317, 1.3313, 1.2889, 1.2225, 1.1995, 1.1937, 1.1836, 1.0552, 1.0039, 0.9973, 0.9175, 0.8828, 0.8703, 0.8604, 0.7362, 0.7184, 0.7239, -0.3787, -0.3217, 0.266, -0.3918, 0.0189, -0.5075]}, \"token.table\": {\"Topic\": [1, 2, 3, 5, 1, 3, 4, 1, 3, 3, 1, 5, 1, 2, 3, 1, 2, 3, 4, 5, 1, 2, 3, 1, 2, 4, 4, 1, 1, 2, 1, 1, 3, 5, 3, 1, 3, 1, 2, 1, 1, 4, 1, 1, 2, 3, 4, 2, 3, 1, 2, 3, 5, 1, 2, 3, 4, 5, 1, 1, 2, 3, 4, 5, 3, 5, 1, 2, 3, 1, 1, 3, 3, 4, 1, 2, 5, 1, 2, 3, 3, 1, 3, 4, 5, 1, 2, 3, 4, 1, 2, 3, 4, 1, 3, 5, 3, 4, 1, 1, 2, 3, 1, 2, 1, 3, 5, 1, 2, 5, 1, 2, 3, 1, 3, 5, 1, 3, 1, 3, 1, 3, 4, 2, 3, 4, 1, 2, 3, 5, 2, 3, 5, 1, 2, 3, 4, 5, 1, 3, 4, 1, 3, 4, 5, 1, 2, 3, 5, 1, 2, 3, 4, 2, 3, 4, 1, 3, 4, 5, 2, 3, 1, 2, 3, 4, 5, 1, 4, 3, 1, 2, 3, 3, 1, 3, 4, 1, 1, 2, 4, 1, 2, 3, 4, 1, 2, 3, 4, 1, 2, 3, 5, 1, 2, 3, 4, 5, 2, 3, 3, 1, 3, 4, 1, 2, 3, 5, 4, 5, 1, 1, 3, 1, 2, 3, 4, 1, 4, 5, 1, 3, 4, 5, 1, 4, 5, 1, 3, 1, 3, 5, 1, 2, 3, 3, 3, 1, 3, 4, 5, 1, 4, 1, 3, 4, 1, 2, 3, 5, 1, 3, 4, 1, 3, 4, 1, 3, 4, 3, 5, 1, 1, 2, 1, 2, 3, 2, 3, 4, 5, 1, 5, 1, 1, 3, 4, 1, 2, 1, 5, 1, 2, 3, 5, 1, 2, 3, 4, 5, 1, 2, 3, 5, 1, 2, 3, 4, 5, 1, 1, 2, 3, 4, 3, 5, 1, 4, 1, 3, 5, 1, 3, 5, 1, 2, 3, 4, 5, 1, 3, 4, 1, 2, 3, 4, 1, 3, 3, 5, 1, 3, 4, 1, 2, 3, 4, 5, 1, 3, 4, 5, 2, 4, 5, 1, 3, 5, 1, 3, 5, 1, 3, 5, 1, 1, 1, 3, 5, 1, 2, 3, 5, 3, 5, 1, 2, 1, 2, 3, 5, 1, 2, 3, 2, 4, 1, 2, 3, 1, 1, 2, 3, 4, 1, 5, 1, 1, 2, 3, 2, 3, 5, 1, 3, 3, 1, 2, 3, 1, 3, 4], \"Freq\": [0.583649437802385, 0.21110724346043713, 0.18213173945606342, 0.024836146289463193, 0.005560139154584517, 0.22796570533796517, 0.764519133755371, 0.7230208851753065, 0.2732677361292497, 0.9977183466498287, 0.9966225916750694, 0.9978027661132804, 0.18804960104330765, 0.7126090144799027, 0.08907612680998783, 0.0026210217726477525, 0.8937684244728836, 0.0013105108863238762, 0.0013105108863238762, 0.10090933824693847, 0.2762213463082186, 0.5238680705845525, 0.20002235422319276, 0.006724598601872289, 0.27474788573363923, 0.7176107365140857, 0.999283518567194, 0.9959029307407103, 0.41269073442129733, 0.5655391545773334, 0.9912412107286602, 0.0025976930319884504, 0.8000894538524428, 0.1948269773991338, 0.9967581524372656, 0.36235982989271626, 0.6367682447629286, 0.4279847114387359, 0.5678213003246595, 0.9868297234857171, 0.6548076117945789, 0.34163875397978033, 0.9903668100214027, 0.286107447795943, 0.004932887030964534, 0.1578523849908651, 0.5475504604370633, 0.7250369947165838, 0.2610133180979701, 0.38238218846052574, 0.6131894553691314, 0.003444884580725457, 0.003444884580725457, 0.7807732400985742, 0.11017045719182335, 0.019160079511621454, 0.023950099389526816, 0.06227025841276972, 0.9951673098513732, 0.15398419035415167, 0.21684597159284655, 0.092390514212491, 0.43405425892770283, 0.10271651285976942, 0.6889813119211172, 0.30679167851581823, 0.016338523631295575, 0.9639728942464391, 0.016338523631295575, 0.9905832127967598, 0.9913622760670104, 0.9990009826076186, 0.7236939013709223, 0.26985196322305577, 0.198422684354237, 0.3889084613343045, 0.41271918345681297, 0.3983736492285691, 0.596947591305579, 0.004903060298197774, 0.9852415341643158, 0.06594792387082657, 0.13922339483841162, 0.0036637735483792534, 0.7877113129015395, 0.05452055164962875, 0.5179452406714731, 0.13630137912407186, 0.2862328961605509, 0.7207850876957351, 0.2574232456056197, 0.019306743420421477, 0.997896626112445, 0.7061613643518818, 0.2874639182317395, 0.0062492156137334675, 0.343797799109577, 0.6459231377210234, 0.9940281430982486, 0.989613313810279, 0.9931890279273784, 0.006085717082888348, 0.9885056299000815, 0.008448766067522064, 0.0035331082326723407, 0.238484805705383, 0.7578517159082171, 0.601541308491669, 0.36861365896294, 0.029398635377412392, 0.3265976462120474, 0.5987623513887536, 0.054432941035341235, 0.01640409191017202, 0.03280818382034404, 0.9514373307899772, 0.8842595159246852, 0.11169593885364444, 0.4687142219736813, 0.5306198739324693, 0.20318599287872274, 0.17270809394691433, 0.6197172782801044, 0.5531565098665394, 0.13316730793083356, 0.30730917214807746, 0.1288363573947512, 0.09112815523043377, 0.20425276172338602, 0.5719077328254809, 0.9881066762393373, 0.017383847355436723, 0.9734954519044564, 0.40279185867776357, 0.23722710695132088, 0.11120020638343166, 0.18780479300312902, 0.06177789243523981, 0.860767911660013, 0.12114511349289071, 0.01275211720977797, 0.05479686905889315, 0.20822810242379397, 0.25206559767090847, 0.49317182153003836, 0.2593190098341951, 0.4092866299792718, 0.018745952518134587, 0.30930821654922064, 0.04820548953284716, 0.2731644406861339, 0.002678082751824842, 0.677554936211685, 0.5176553507624269, 0.3145247700834999, 0.16381498441848952, 0.19301395527527665, 0.6112108583717094, 0.17692945900233692, 0.01608449627293972, 0.8372023725798746, 0.15982954385615789, 0.42953911382453913, 0.15251751143045228, 0.11205368186727108, 0.21476955691226957, 0.09026546594863503, 0.5511675971837766, 0.4342532583872179, 0.9948413700158026, 0.9949614943348979, 0.9711495750137198, 0.026679933379497794, 0.9932234140750217, 0.42423379449975795, 0.05142227812118278, 0.5142227812118279, 0.9768901298407004, 0.017628888243595257, 0.035257776487190515, 0.9519599651541439, 0.3204088266399917, 0.5511031818207858, 0.0939865891477309, 0.03417694150826578, 0.006124720498455433, 0.6492203728362759, 0.2633629814335836, 0.08268372672914835, 0.01115182312528775, 0.9339651867428491, 0.019515690469253562, 0.03345546937586325, 0.05740620607940216, 0.23880981729031298, 0.07290588172084074, 0.13605270840818312, 0.49484149640444663, 0.8742089254773219, 0.12748880163210946, 0.9892263649124344, 0.15656399553038838, 0.046048233979525996, 0.7828199776519419, 0.7369860568052129, 0.06473526174640383, 0.1095519814169911, 0.0846538038222204, 0.07569677923726885, 0.9083613508472261, 0.9887878463608417, 0.8804163930894464, 0.11483692083775388, 0.2810231521490676, 0.00597921600317165, 0.2630855041395526, 0.4484412002378738, 0.011862886904493119, 0.00197714781741552, 0.9846196130729289, 0.09741557280204576, 0.009741557280204576, 0.8840463231785652, 0.007306167960153431, 0.03997561215103316, 0.37976831543481504, 0.5596585701144643, 0.6688371422422166, 0.33036501268327667, 0.3222007428907196, 0.12472286821576242, 0.5404657622683038, 0.7854107334396812, 0.1738204082202573, 0.0386267573822794, 0.9934816840563809, 0.9929921457793174, 0.06363062340252215, 0.5506496255987493, 0.031815311701261076, 0.35486309205252736, 0.016475505013145576, 0.972054795775589, 0.943259887868435, 0.04669603405289282, 0.009339206810578564, 0.01029919279263605, 0.4840620612538943, 0.07724394594477037, 0.43256609729071405, 0.3822236684691548, 0.05308662062071594, 0.562718178579589, 0.28375840599158925, 0.00298693058938515, 0.7108894802736657, 0.01670646947726993, 0.5011940843180979, 0.47891879168173795, 0.624063465611059, 0.3585045440744381, 0.9946229006504392, 0.3866570670400982, 0.6031850245825532, 0.02391659662992388, 0.9088306719371074, 0.06377759101313034, 0.9317448671831664, 0.06352805912612498, 0.4137956868286742, 0.5810747942700532, 0.9473075149861836, 0.0526281952770102, 0.9812492808504621, 0.9793878963671295, 0.97762689814219, 0.022474181566487124, 0.9056039723121861, 0.08928489867866624, 0.4906621900110155, 0.5042916952890993, 0.2793833723149314, 0.1396916861574657, 0.21994010160962682, 0.35963178776709254, 0.1097135348717963, 0.5181429125878111, 0.19637800779573625, 0.16779717098039434, 0.008297662301228291, 0.00568116421783637, 0.8919427822003101, 0.09942037381213648, 0.002840582108918185, 0.03928190834570806, 0.5075041951790329, 0.06682439580649187, 0.27768245554724663, 0.10881540127949015, 0.9949894516390143, 0.04024147000580851, 0.3652687277450311, 0.3807462162088036, 0.21358934080006056, 0.9452960915604304, 0.053256117834390444, 0.5905262746363604, 0.397963358994069, 0.033990090561544825, 0.9415255085547917, 0.020394054336926898, 0.9902807124937897, 0.31406926156989284, 0.683860488902186, 0.04593114326586189, 0.3597939555825848, 0.09186228653172378, 0.09186228653172378, 0.4057250988484467, 0.18483589573169273, 0.1478687165853542, 0.6469256350609246, 0.10705881746039728, 0.326194834449648, 0.068584554935567, 0.49681982477715614, 0.37898527749931515, 0.6145707202691597, 0.30371015671583257, 0.694194643921903, 0.28313894782401205, 0.3444370705487982, 0.3707076945737065, 0.15432539099346326, 0.04972707043122705, 0.09259523459607796, 0.0017147265665940362, 0.7030378923035548, 0.14465448011754944, 0.6533560685309316, 0.048218160039183146, 0.1518872041234269, 0.2736022717783437, 0.22064699336963198, 0.5119010246175462, 0.0012696364229394428, 0.6856036683872991, 0.31360019646604237, 0.002638882112332061, 0.3113880892551832, 0.6834704670940038, 0.37409780558034916, 0.0045621683607359655, 0.6204548970600913, 0.9939111088085857, 0.977059704964203, 0.7138322773398514, 0.23109678043376483, 0.051354840096392185, 0.8625435560948527, 0.06571760427389355, 0.06571760427389355, 0.008214700534236693, 0.06285720169484664, 0.93587389190105, 0.37424332431352153, 0.6243218073828373, 0.019478954254752608, 0.4674949021140626, 0.13635267978326826, 0.37983960796767585, 0.01876650771165138, 0.9758584010058717, 0.9945792324940212, 0.6618328486200711, 0.33595576072084826, 0.9871932900610723, 0.005641104514634699, 0.005641104514634699, 0.9926103258470542, 0.06805668816516812, 0.31646359996803175, 0.4457713074818512, 0.1701417204129203, 0.4302207584314986, 0.568112027159543, 0.9938733891925393, 0.46080328298888573, 0.529579892390212, 0.008597076175165778, 0.52589593569919, 0.47195789101209357, 0.9964279239939596, 0.457133786279969, 0.5428463712074632, 0.9924767329691256, 0.4949529256760202, 0.0038972671313072453, 0.4988501928073274, 0.9822313087000586, 0.4595042978934907, 0.5330249855564492], \"Term\": [\"also\", \"also\", \"also\", \"also\", \"amaze\", \"amaze\", \"amaze\", \"amazing\", \"amazing\", \"anyone\", \"assignment\", \"awesome\", \"background\", \"background\", \"background\", \"basic\", \"basic\", \"basic\", \"basic\", \"basic\", \"begin\", \"begin\", \"begin\", \"beginner\", \"beginner\", \"beginner\", \"best\", \"bit\", \"build\", \"build\", \"challenge\", \"charles\", \"charles\", \"charles\", \"chuck\", \"class\", \"class\", \"clear\", \"clear\", \"clearly\", \"cod\", \"cod\", \"code\", \"complete\", \"complete\", \"complete\", \"complete\", \"computer\", \"computer\", \"concept\", \"concept\", \"concept\", \"concept\", \"content\", \"content\", \"content\", \"content\", \"content\", \"could\", \"course\", \"course\", \"course\", \"course\", \"course\", \"coursera\", \"coursera\", \"design\", \"design\", \"design\", \"different\", \"difficult\", \"dr\", \"drchuck\", \"drchuck\", \"easily\", \"easily\", \"easily\", \"easy\", \"easy\", \"easy\", \"engage\", \"enjoy\", \"enjoy\", \"enjoy\", \"enjoy\", \"especially\", \"especially\", \"especially\", \"especially\", \"even\", \"even\", \"even\", \"ever\", \"every\", \"every\", \"every\", \"everybody\", \"everybody\", \"everything\", \"example\", \"excellent\", \"excellent\", \"exercise\", \"exercise\", \"experience\", \"experience\", \"experience\", \"explain\", \"explain\", \"explain\", \"extremely\", \"extremely\", \"extremely\", \"fantastic\", \"fantastic\", \"fantastic\", \"feel\", \"feel\", \"first\", \"first\", \"forward\", \"forward\", \"forward\", \"friendly\", \"friendly\", \"friendly\", \"fun\", \"fun\", \"fun\", \"fun\", \"fundamental\", \"gain\", \"gain\", \"get\", \"get\", \"get\", \"get\", \"get\", \"go\", \"go\", \"go\", \"happy\", \"happy\", \"happy\", \"happy\", \"help\", \"help\", \"help\", \"help\", \"helpful\", \"helpful\", \"helpful\", \"helpful\", \"highly\", \"highly\", \"highly\", \"idea\", \"idea\", \"idea\", \"idea\", \"informative\", \"informative\", \"instructor\", \"instructor\", \"instructor\", \"instructor\", \"instructor\", \"interactive\", \"interactive\", \"interest\", \"interesting\", \"introduction\", \"introduction\", \"introductory\", \"ive\", \"ive\", \"ive\", \"job\", \"journey\", \"journey\", \"journey\", \"know\", \"know\", \"know\", \"know\", \"knowledge\", \"knowledge\", \"knowledge\", \"knowledge\", \"language\", \"language\", \"language\", \"language\", \"learn\", \"learn\", \"learn\", \"learn\", \"learn\", \"learner\", \"learner\", \"learning\", \"learnt\", \"learnt\", \"learnt\", \"lecture\", \"lecture\", \"lecture\", \"lecture\", \"lecturer\", \"lecturer\", \"lesson\", \"little\", \"little\", \"look\", \"look\", \"look\", \"look\", \"lot\", \"lot\", \"lot\", \"love\", \"love\", \"love\", \"love\", \"loved\", \"loved\", \"loved\", \"make\", \"make\", \"many\", \"many\", \"many\", \"material\", \"material\", \"material\", \"michigan\", \"mr\", \"much\", \"much\", \"much\", \"much\", \"must\", \"must\", \"need\", \"need\", \"need\", \"new\", \"new\", \"new\", \"new\", \"next\", \"next\", \"next\", \"one\", \"one\", \"one\", \"online\", \"online\", \"online\", \"opportunity\", \"opportunity\", \"overall\", \"pace\", \"pace\", \"people\", \"people\", \"people\", \"perfect\", \"perfect\", \"platform\", \"platform\", \"point\", \"point\", \"practice\", \"pretty\", \"prior\", \"prior\", \"problem\", \"problem\", \"prof\", \"prof\", \"professor\", \"professor\", \"professor\", \"professor\", \"program\", \"program\", \"program\", \"program\", \"program\", \"programming\", \"programming\", \"programming\", \"programming\", \"python\", \"python\", \"python\", \"python\", \"python\", \"quiz\", \"recommend\", \"recommend\", \"recommend\", \"recommend\", \"russell\", \"russell\", \"see\", \"see\", \"severance\", \"severance\", \"severance\", \"simple\", \"sir\", \"sir\", \"skill\", \"skill\", \"skill\", \"skill\", \"skill\", \"specialization\", \"specialization\", \"specialization\", \"start\", \"start\", \"start\", \"start\", \"step\", \"step\", \"style\", \"style\", \"take\", \"take\", \"take\", \"teach\", \"teach\", \"teach\", \"teach\", \"teach\", \"teacher\", \"teacher\", \"teacher\", \"teacher\", \"teaching\", \"teaching\", \"teaching\", \"thank\", \"thank\", \"thank\", \"thanks\", \"thanks\", \"thanks\", \"thing\", \"thing\", \"thing\", \"think\", \"though\", \"time\", \"time\", \"time\", \"topic\", \"topic\", \"topic\", \"topic\", \"u\", \"u\", \"understand\", \"understand\", \"understandable\", \"understandable\", \"understandable\", \"understandable\", \"understanding\", \"understanding\", \"university\", \"useful\", \"useful\", \"video\", \"video\", \"video\", \"videos\", \"want\", \"want\", \"want\", \"want\", \"way\", \"way\", \"week\", \"well\", \"well\", \"well\", \"without\", \"without\", \"wonderful\", \"work\", \"work\", \"world\", \"would\", \"would\", \"would\", \"write\", \"zero\", \"zero\"]}, \"R\": 30, \"lambda.step\": 0.01, \"plot.opts\": {\"xlab\": \"PC1\", \"ylab\": \"PC2\"}, \"topic.order\": [1, 3, 5, 4, 2]};\n",
       "\n",
       "function LDAvis_load_lib(url, callback){\n",
       "  var s = document.createElement('script');\n",
       "  s.src = url;\n",
       "  s.async = true;\n",
       "  s.onreadystatechange = s.onload = callback;\n",
       "  s.onerror = function(){console.warn(\"failed to load library \" + url);};\n",
       "  document.getElementsByTagName(\"head\")[0].appendChild(s);\n",
       "}\n",
       "\n",
       "if(typeof(LDAvis) !== \"undefined\"){\n",
       "   // already loaded: just create the visualization\n",
       "   !function(LDAvis){\n",
       "       new LDAvis(\"#\" + \"ldavis_el268001402958403899681765356212\", ldavis_el268001402958403899681765356212_data);\n",
       "   }(LDAvis);\n",
       "}else if(typeof define === \"function\" && define.amd){\n",
       "   // require.js is available: use it to load d3/LDAvis\n",
       "   require.config({paths: {d3: \"https://d3js.org/d3.v5\"}});\n",
       "   require([\"d3\"], function(d3){\n",
       "      window.d3 = d3;\n",
       "      LDAvis_load_lib(\"https://cdn.jsdelivr.net/gh/bmabey/pyLDAvis@3.2.2/pyLDAvis/js/ldavis.v3.0.0.js\", function(){\n",
       "        new LDAvis(\"#\" + \"ldavis_el268001402958403899681765356212\", ldavis_el268001402958403899681765356212_data);\n",
       "      });\n",
       "    });\n",
       "}else{\n",
       "    // require.js not available: dynamically load d3 & LDAvis\n",
       "    LDAvis_load_lib(\"https://d3js.org/d3.v5.js\", function(){\n",
       "         LDAvis_load_lib(\"https://cdn.jsdelivr.net/gh/bmabey/pyLDAvis@3.2.2/pyLDAvis/js/ldavis.v3.0.0.js\", function(){\n",
       "                 new LDAvis(\"#\" + \"ldavis_el268001402958403899681765356212\", ldavis_el268001402958403899681765356212_data);\n",
       "            })\n",
       "         });\n",
       "}\n",
       "</script>"
      ],
      "text/plain": [
       "PreparedData(topic_coordinates=              x         y  topics  cluster       Freq\n",
       "topic                                                \n",
       "0     -0.067821 -0.232541       1        1  24.879370\n",
       "2     -0.163761  0.029120       2        1  23.796276\n",
       "4      0.156061 -0.066770       3        1  18.447122\n",
       "3     -0.161195  0.162199       4        1  17.871805\n",
       "1      0.236716  0.107992       5        1  15.005427, topic_info=          Term         Freq        Total Category  logprob  loglift\n",
       "3       course  5520.000000  5520.000000  Default  30.0000  30.0000\n",
       "46        best   665.000000   665.000000  Default  29.0000  29.0000\n",
       "56   excellent   821.000000   821.000000  Default  28.0000  28.0000\n",
       "1     beginner  1040.000000  1040.000000  Default  27.0000  27.0000\n",
       "4           dr   584.000000   584.000000  Default  26.0000  26.0000\n",
       "..         ...          ...          ...      ...      ...      ...\n",
       "8       python   240.907863  2214.760017   Topic5  -3.3785  -0.3217\n",
       "84     charles    75.365062   384.956955   Topic5  -4.5406   0.2660\n",
       "0        basic    77.381964   763.061193   Topic5  -4.5142  -0.3918\n",
       "36     teacher    63.427606   414.781484   Topic5  -4.7130   0.0189\n",
       "41  instructor    58.041400   642.549168   Topic5  -4.8018  -0.5075\n",
       "\n",
       "[242 rows x 6 columns], token_table=      Topic      Freq   Term\n",
       "term                        \n",
       "82        1  0.583649   also\n",
       "82        2  0.211107   also\n",
       "82        3  0.182132   also\n",
       "82        5  0.024836   also\n",
       "31        1  0.005560  amaze\n",
       "...     ...       ...    ...\n",
       "126       2  0.003897  would\n",
       "126       3  0.498850  would\n",
       "166       1  0.982231  write\n",
       "49        3  0.459504   zero\n",
       "49        4  0.533025   zero\n",
       "\n",
       "[402 rows x 3 columns], R=30, lambda_step=0.01, plot_opts={'xlab': 'PC1', 'ylab': 'PC2'}, topic_order=[1, 3, 5, 4, 2])"
      ]
     },
     "execution_count": 49,
     "metadata": {},
     "output_type": "execute_result"
    }
   ],
   "source": [
    "# Visualize the topics\n",
    "pyLDAvis.enable_notebook()\n",
    "vis = pyLDAvis.gensim.prepare(lda_model, corpus, dictionary)\n",
    "vis"
   ]
  },
  {
   "cell_type": "markdown",
   "metadata": {},
   "source": [
    "What is topic perplexity and topic coherence: https://towardsdatascience.com/evaluate-topic-model-in-python-latent-dirichlet-allocation-lda-7d57484bb5d0"
   ]
  },
  {
   "cell_type": "code",
   "execution_count": 50,
   "metadata": {},
   "outputs": [
    {
     "name": "stdout",
     "output_type": "stream",
     "text": [
      "\n",
      "Perplexity:  -4.76190190504247\n",
      "\n",
      "Coherence Score:  0.5431910934889095\n"
     ]
    }
   ],
   "source": [
    "# Calculate Perplexity and Coherence\n",
    "\n",
    "# Compute Perplexity\n",
    "\n",
    "print('\\nPerplexity: ', lda_model.log_perplexity(corpus))  # a measure of how good the model is. The lower the better.\n",
    "\n",
    "# Compute Coherence Score\n",
    "\n",
    "coherence_model_lda = CoherenceModel(model = lda_model, texts = df['preprocessed'], dictionary = dictionary, coherence = 'c_v')\n",
    "coherence_lda = coherence_model_lda.get_coherence()\n",
    "print('\\nCoherence Score: ', coherence_lda)"
   ]
  },
  {
   "cell_type": "markdown",
   "metadata": {},
   "source": [
    "## Calculate the coherence score\n",
    "\n",
    "Code reference: \n",
    "\n",
    "https://www.machinelearningplus.com/nlp/topic-modeling-gensim-python/#17howtofindtheoptimalnumberoftopicsforlda"
   ]
  },
  {
   "cell_type": "code",
   "execution_count": 33,
   "metadata": {},
   "outputs": [],
   "source": [
    "# Determine the optiomal number of topics by calculating the coherence score\n",
    "\n",
    "# Define function for calculating coherence score\n",
    "\n",
    "def compute_coherence_values(dictionary, corpus, texts, limit, start = 2, step = 3):\n",
    "    \"\"\"\n",
    "    Compute c_v coherence for various number of topics\n",
    "\n",
    "    Parameters:\n",
    "    ----------\n",
    "    dictionary : Gensim dictionary\n",
    "    corpus : Gensim corpus\n",
    "    texts : List of input texts\n",
    "    limit : Max num of topics\n",
    "\n",
    "    Returns:\n",
    "    -------\n",
    "    model_list : List of LDA topic models\n",
    "    coherence_values : Coherence values corresponding to the LDA model with respective number of topics\n",
    "    \"\"\"\n",
    "    coherence_values = []\n",
    "    model_list = []\n",
    "    for num_topics in range(start, limit, step):\n",
    "        model = LDA(corpus = corpus, num_topics = num_topics, id2word = dictionary)\n",
    "        model_list.append(model)\n",
    "        coherencemodel = CoherenceModel(model = model, texts = texts, dictionary = dictionary, coherence = 'c_v')\n",
    "        coherence_values.append(coherencemodel.get_coherence())\n",
    "\n",
    "    return model_list, coherence_values"
   ]
  },
  {
   "cell_type": "code",
   "execution_count": 34,
   "metadata": {},
   "outputs": [],
   "source": [
    "# Can take a long time to run.\n",
    "\n",
    "model_list, coherence_values = compute_coherence_values(dictionary = dictionary, corpus = corpus, texts = df['preprocessed'], start = 2, limit = 10, step = 1)"
   ]
  },
  {
   "cell_type": "code",
   "execution_count": 35,
   "metadata": {},
   "outputs": [
    {
     "data": {
      "image/png": "[encoded data removed]",
      "text/plain": [
       "<Figure size 432x288 with 1 Axes>"
      ]
     },
     "metadata": {
      "needs_background": "light"
     },
     "output_type": "display_data"
    }
   ],
   "source": [
    "# Show graph\n",
    "\n",
    "limit = 10; start = 2; step = 1;\n",
    "x = range(start, limit, step)\n",
    "plt.plot(x, coherence_values)\n",
    "plt.xlabel(\"Num Topics\")\n",
    "plt.ylabel(\"Coherence score\")\n",
    "plt.legend((\"coherence_values\"), loc = 'best')\n",
    "plt.show()\n"
   ]
  },
  {
   "cell_type": "code",
   "execution_count": 36,
   "metadata": {},
   "outputs": [
    {
     "name": "stdout",
     "output_type": "stream",
     "text": [
      "Num Topics = 2  has Coherence Value of 0.4207\n",
      "Num Topics = 3  has Coherence Value of 0.4419\n",
      "Num Topics = 4  has Coherence Value of 0.4947\n",
      "Num Topics = 5  has Coherence Value of 0.4913\n",
      "Num Topics = 6  has Coherence Value of 0.4985\n",
      "Num Topics = 7  has Coherence Value of 0.4957\n",
      "Num Topics = 8  has Coherence Value of 0.5045\n",
      "Num Topics = 9  has Coherence Value of 0.5122\n"
     ]
    }
   ],
   "source": [
    "# Print the coherence scores\n",
    "\n",
    "for m, cv in zip(x, coherence_values):\n",
    "    print(\"Num Topics =\", m, \" has Coherence Value of\", round(cv, 4))"
   ]
  },
  {
   "cell_type": "markdown",
   "metadata": {},
   "source": [
    "## LDA Mallet Model\n",
    "\n",
    "Code reference:\n",
    "\n",
    "https://www.machinelearningplus.com/nlp/topic-modeling-gensim-python/#17howtofindtheoptimalnumberoftopicsforlda"
   ]
  },
  {
   "cell_type": "code",
   "execution_count": 37,
   "metadata": {},
   "outputs": [],
   "source": [
    "mallet_path = '/Users/siriamanda/Desktop/LNU-VT-2021/Thesis/11-data-analysis/mallet-2.0.8/bin/mallet' # update this path\n",
    "ldamallet = gensim.models.wrappers.LdaMallet(mallet_path, corpus = corpus, num_topics = 5, id2word = dictionary)"
   ]
  },
  {
   "cell_type": "code",
   "execution_count": 38,
   "metadata": {},
   "outputs": [
    {
     "name": "stdout",
     "output_type": "stream",
     "text": [
      "[(0,\n",
      "  [('learn', 0.11059089441394898),\n",
      "   ('teach', 0.08734258960284146),\n",
      "   ('dr', 0.08685824991927672),\n",
      "   ('lot', 0.08120762027768809),\n",
      "   ('chuck', 0.07265095253471102),\n",
      "   ('love', 0.07022925411688731),\n",
      "   ('teacher', 0.06700032289312238),\n",
      "   ('awesome', 0.06441717791411043),\n",
      "   ('fun', 0.0487568614788505),\n",
      "   ('amaze', 0.03293509848240232)]),\n",
      " (1,\n",
      "  [('python', 0.1848585690515807),\n",
      "   ('beginner', 0.178369384359401),\n",
      "   ('learn', 0.15574043261231282),\n",
      "   ('excellent', 0.13727121464226288),\n",
      "   ('basic', 0.051580698835274545),\n",
      "   ('clear', 0.03843594009983361),\n",
      "   ('give', 0.03410981697171381),\n",
      "   ('explanation', 0.03194675540765391),\n",
      "   ('interesting', 0.022628951747088188),\n",
      "   ('easily', 0.020632279534109815)]),\n",
      " (2,\n",
      "  [('python', 0.18637083993660855),\n",
      "   ('program', 0.1751188589540412),\n",
      "   ('start', 0.09873217115689382),\n",
      "   ('basic', 0.07321711568938194),\n",
      "   ('language', 0.060063391442155306),\n",
      "   ('programming', 0.05610142630744849),\n",
      "   ('recommend', 0.05229793977812995),\n",
      "   ('knowledge', 0.05039619651347068),\n",
      "   ('introduction', 0.031061806656101427),\n",
      "   ('cod', 0.028526148969889066)]),\n",
      " (3,\n",
      "  [('make', 0.07237560442988614),\n",
      "   ('charles', 0.058805178599282484),\n",
      "   ('coursera', 0.056309468101700205),\n",
      "   ('class', 0.04648260801746997),\n",
      "   ('severance', 0.04539073467477773),\n",
      "   ('assignment', 0.04305100608329434),\n",
      "   ('thing', 0.03493994696615193),\n",
      "   ('time', 0.030728435501481827),\n",
      "   ('complete', 0.030728435501481827),\n",
      "   ('lecture', 0.030728435501481827)]),\n",
      " (4,\n",
      "  [('easy', 0.13302827259356104),\n",
      "   ('understand', 0.09347932668736722),\n",
      "   ('experience', 0.09119137113907501),\n",
      "   ('instructor', 0.08955711717600916),\n",
      "   ('explain', 0.07043634580813858),\n",
      "   ('helpful', 0.06275535218172903),\n",
      "   ('professor', 0.05572806014054584),\n",
      "   ('enjoy', 0.042000326850792614),\n",
      "   ('concept', 0.040529498284033336),\n",
      "   ('wonderful', 0.029906847524105246)])]\n",
      "\n",
      "Coherence Score:  0.42154678160235204\n"
     ]
    }
   ],
   "source": [
    "# Show Topics\n",
    "pprint(ldamallet.show_topics(formatted = False))\n",
    "\n",
    "# Compute Coherence Score\n",
    "coherence_model_ldamallet = CoherenceModel(model = ldamallet, texts = df['preprocessed'], dictionary = dictionary, coherence = 'c_v')\n",
    "coherence_ldamallet = coherence_model_ldamallet.get_coherence()\n",
    "print('\\nCoherence Score: ', coherence_ldamallet)\n",
    "\n",
    "# The coherence score using the Mallet Model is lower than the original LDA Model"
   ]
  },
  {
   "cell_type": "code",
   "execution_count": null,
   "metadata": {},
   "outputs": [],
   "source": []
  },
  {
   "cell_type": "code",
   "execution_count": null,
   "metadata": {},
   "outputs": [],
   "source": []
  }
 ],
 "metadata": {
  "kernelspec": {
   "display_name": "Python 3",
   "language": "python",
   "name": "python3"
  },
  "language_info": {
   "codemirror_mode": {
    "name": "ipython",
    "version": 3
   },
   "file_extension": ".py",
   "mimetype": "text/x-python",
   "name": "python",
   "nbconvert_exporter": "python",
   "pygments_lexer": "ipython3",
   "version": "3.7.6"
  }
 },
 "nbformat": 4,
 "nbformat_minor": 4
}
